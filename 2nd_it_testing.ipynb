{
 "cells": [
  {
   "cell_type": "markdown",
   "source": "# Project Description and Goals\n\nAcross the United States, there are police altercations that result in deadly outcomes. A great deal of data on the fatal occurrences has been recorded and includes information on fatalities caused by police, whether they were on-duty, off-duty, criminal, line-of-duty, local, federal, intentional, or accidental. For our capstone, we address the issue of police violence that has become a heated topic throughout the country. As a team, we attempt to help law enforcement agencies identify risk factors so they may step in before risk transforms into actual harm. \n\n\nOur project aims to research what attributes surround fatal police-related encounters and to analyze the attributes about these incidents that may be leading to the fatalities. Two open-sourced datasets we acquired:\n- [Mapping Police Violence](https://mappingpoliceviolence.org/aboutthedata) for our first iteration has gathered over 9000 police killings from January 2013 to May 2021. \n    - For the first iteration, we’re taking one of these attributes (the threat level of the victim) and building a model around it to predict if the victim is classified as being an attacker or a non-attacker based on the other top attributes in the MPV dataset. \n    \n\n- [Fatal Encounters](https://fatalencounters.org/) for our second iteration has information on over 30,000 records from January 2000 to May 2021.\n    - For the second iteration, we're doing the same (building a model around the threat level of the victim), but predicting if the victim is classified as threatening, non-threatening, or ambiguous based on the other top attributes in the FE dataset. \n\nOur hope is to shed light on changes to be made within law enforcement, help identify what response teams should be more available, and to improve the way emergency teams are responding to altercations across the United States. Is there a way to modify law enforcement trainings and policies to decrease officer-involved incidents. Are we able to improve the safety and outcomes for all people involved, both officers and civilians? The overall goal is to save lives, provide insights, and find recommendations that will be of assistance. \n\n### Objectives for this project include:\n- Identifying the drivers of civilian fatalities. \n- Documenting the process and analysis throughout the data science pipeline.\n- Constructing a classification model that can predict what the victim's threat level is, given the features of the dataset.\n- Deliverables:\n    - README.md file containing overall project information. \n    - A well-documented Jupyter notebook detailing the data science pipeline process.\n    - Python modules that automate the data acquisition, preparation, and exploration process.\n\n### Initial Thoughts and Hypotheses:\n- Armed/unarmed victims?\n- Fleeing/not fleeing victims? \n- Did the victim put others in danger?\n- Is there a mental illness that contributed to the incident? \n- Is race, gender, age or location influencing alleged threat level?\n- How does mental illness affect each gender?\n- Are officers wearing their body cameras and does it make a difference in alleged threat level?\n- Is there even enough information being documented on the police reports? \n- Is cause of death and alleged threat level independent of one another?\n- What are the fatalities by state: % killings vs pop",
   "metadata": {
    "cell_id": "00000-e0ddc686-6fd8-413a-bd87-fe33afb3016f",
    "deepnote_cell_type": "markdown"
   }
  },
  {
   "cell_type": "markdown",
   "source": "___\n# Imports \nImport all necessary libraries and functions. ",
   "metadata": {
    "cell_id": "00001-3a5e4fbe-b130-4943-9264-9bf1162d4cac",
    "deepnote_cell_type": "markdown"
   }
  },
  {
   "cell_type": "code",
   "metadata": {
    "deepnote_to_be_reexecuted": false,
    "source_hash": "cfefdd55",
    "execution_start": 1622248951513,
    "execution_millis": 1289,
    "cell_id": "00002-5b22c55b-ac77-447e-80c7-a8785e952d14",
    "deepnote_cell_type": "code"
   },
   "source": "import pandas as pd\nimport numpy as np\n\n# Helper Functions\nimport wrangle as w \nimport explore as exp\nfrom explore import rfe, split, select_kbest\n\n# Visualizations\nimport seaborn as sns\nimport matplotlib.pyplot as plt\n\n# Ignore warnings\nimport warnings\nwarnings.filterwarnings(\"ignore\")\n\n# Hypothesis tests\nfrom scipy import stats\nfrom scipy.stats import chi2_contingency\nfrom scipy.stats import ttest_1samp\nfrom scipy.stats import ttest_ind\n\n# Split data\nfrom sklearn.model_selection import train_test_split\n\n#Feature Engineering\nfrom sklearn.feature_selection import SelectKBest, f_regression, chi2\nfrom sklearn.feature_selection import RFE\n\n# Evaluate models\nfrom sklearn.metrics import classification_report\nfrom sklearn.metrics import accuracy_score\n\n# Create models for classification ML:\n# Decision Tree  \nfrom sklearn.tree import DecisionTreeClassifier\nfrom sklearn.tree import export_graphviz\n\n# Random Forest\nfrom sklearn.ensemble import RandomForestClassifier\n\n# K-Nearest Neighbor(KNN)  \nfrom sklearn.neighbors import KNeighborsClassifier\n\n# Logistic Regression\nfrom sklearn.linear_model import LogisticRegression\n\n# Evaluate models\nfrom sklearn.metrics import confusion_matrix\nfrom sklearn.metrics import classification_report\nfrom sklearn.metrics import accuracy_score\nfrom sklearn.metrics import precision_score\nfrom sklearn.metrics import recall_score\nfrom sklearn.metrics import f1_score\nfrom sklearn.metrics import precision_recall_fscore_support ",
   "execution_count": 8,
   "outputs": []
  },
  {
   "cell_type": "markdown",
   "source": "\n___\n# Acquire Data",
   "metadata": {
    "cell_id": "00003-e4f0f759-16fc-4ab1-8b1c-2b6db4969a54",
    "deepnote_cell_type": "markdown"
   }
  },
  {
   "cell_type": "code",
   "metadata": {
    "deepnote_to_be_reexecuted": false,
    "execution_millis": 48731,
    "execution_start": 1622248952806,
    "source_hash": "eece8c83",
    "tags": [],
    "cell_id": "00004-6421d703-bc8b-485d-a164-584375584abd",
    "deepnote_cell_type": "code"
   },
   "source": "# reads data from MPV website's downloaded dataset\ndf = pd.read_excel('new_data.xlsx')\ndf.head()",
   "execution_count": 9,
   "outputs": [
    {
     "output_type": "execute_result",
     "execution_count": 9,
     "data": {
      "application/vnd.deepnote.dataframe.v2+json": {
       "row_count": 5,
       "column_count": 48,
       "columns": [
        {
         "name": "Unique ID",
         "dtype": "float64",
         "stats": {
          "unique_count": 5,
          "nan_count": 0,
          "min": "1.0",
          "max": "25749.0",
          "histogram": [
           {
            "bin_start": 1,
            "bin_end": 2575.8,
            "count": 1
           },
           {
            "bin_start": 2575.8,
            "bin_end": 5150.6,
            "count": 0
           },
           {
            "bin_start": 5150.6,
            "bin_end": 7725.400000000001,
            "count": 0
           },
           {
            "bin_start": 7725.400000000001,
            "bin_end": 10300.2,
            "count": 0
           },
           {
            "bin_start": 10300.2,
            "bin_end": 12875,
            "count": 0
           },
           {
            "bin_start": 12875,
            "bin_end": 15449.800000000001,
            "count": 0
           },
           {
            "bin_start": 15449.800000000001,
            "bin_end": 18024.600000000002,
            "count": 0
           },
           {
            "bin_start": 18024.600000000002,
            "bin_end": 20599.4,
            "count": 0
           },
           {
            "bin_start": 20599.4,
            "bin_end": 23174.2,
            "count": 0
           },
           {
            "bin_start": 23174.2,
            "bin_end": 25749,
            "count": 4
           }
          ]
         }
        },
        {
         "name": "Name",
         "dtype": "object",
         "stats": {
          "unique_count": 5,
          "nan_count": 0,
          "categories": [
           {
            "name": "Samuel H. Knapp",
            "count": 1
           },
           {
            "name": "Mark A. Horton",
            "count": 1
           },
           {
            "name": "3 others",
            "count": 3
           }
          ]
         }
        },
        {
         "name": "Age",
         "dtype": "object",
         "stats": {
          "unique_count": 5,
          "nan_count": 0,
          "categories": [
           {
            "name": "17",
            "count": 1
           },
           {
            "name": "21",
            "count": 1
           },
           {
            "name": "3 others",
            "count": 3
           }
          ]
         }
        },
        {
         "name": "Gender",
         "dtype": "object",
         "stats": {
          "unique_count": 2,
          "nan_count": 0,
          "categories": [
           {
            "name": "Male",
            "count": 4
           },
           {
            "name": "Female",
            "count": 1
           }
          ]
         }
        },
        {
         "name": "Race",
         "dtype": "object",
         "stats": {
          "unique_count": 3,
          "nan_count": 0,
          "categories": [
           {
            "name": "African-American/Black",
            "count": 3
           },
           {
            "name": "European-American/White",
            "count": 1
           },
           {
            "name": "Hispanic/Latino",
            "count": 1
           }
          ]
         }
        },
        {
         "name": "Race with imputations",
         "dtype": "object",
         "stats": {
          "unique_count": 3,
          "nan_count": 0,
          "categories": [
           {
            "name": "African-American/Black",
            "count": 3
           },
           {
            "name": "European-American/White",
            "count": 1
           },
           {
            "name": "Hispanic/Latino",
            "count": 1
           }
          ]
         }
        },
        {
         "name": "Imputation probability",
         "dtype": "object",
         "stats": {
          "unique_count": 1,
          "nan_count": 0,
          "categories": [
           {
            "name": "Not imputed",
            "count": 5
           }
          ]
         }
        },
        {
         "name": "URL of image (PLS NO HOTLINKS)",
         "dtype": "object",
         "stats": {
          "unique_count": 0,
          "nan_count": 5,
          "categories": [
           {
            "name": "Missing",
            "count": 5
           }
          ]
         }
        },
        {
         "name": "Date of injury resulting in death (month/day/year)",
         "dtype": "datetime64[ns]",
         "stats": {
          "unique_count": 2,
          "nan_count": 0,
          "min": "2000-01-01 00:00:00",
          "max": "2000-01-02 00:00:00",
          "histogram": [
           {
            "bin_start": 946684800000000000,
            "bin_end": 946693440000000000,
            "count": 4
           },
           {
            "bin_start": 946693440000000000,
            "bin_end": 946702080000000000,
            "count": 0
           },
           {
            "bin_start": 946702080000000000,
            "bin_end": 946710720000000000,
            "count": 0
           },
           {
            "bin_start": 946710720000000000,
            "bin_end": 946719360000000000,
            "count": 0
           },
           {
            "bin_start": 946719360000000000,
            "bin_end": 946728000000000000,
            "count": 0
           },
           {
            "bin_start": 946728000000000000,
            "bin_end": 946736640000000000,
            "count": 0
           },
           {
            "bin_start": 946736640000000000,
            "bin_end": 946745280000000000,
            "count": 0
           },
           {
            "bin_start": 946745280000000000,
            "bin_end": 946753920000000000,
            "count": 0
           },
           {
            "bin_start": 946753920000000000,
            "bin_end": 946762560000000000,
            "count": 0
           },
           {
            "bin_start": 946762560000000000,
            "bin_end": 946771200000000000,
            "count": 1
           }
          ]
         }
        },
        {
         "name": "Location of injury (address)",
         "dtype": "object",
         "stats": {
          "unique_count": 4,
          "nan_count": 0,
          "categories": [
           {
            "name": "Davison Freeway",
            "count": 2
           },
           {
            "name": "27898-27804 US-101",
            "count": 1
           },
           {
            "name": "2 others",
            "count": 2
           }
          ]
         }
        },
        {
         "name": "Location of death (city)",
         "dtype": "object",
         "stats": {
          "unique_count": 4,
          "nan_count": 0,
          "categories": [
           {
            "name": "Detroit",
            "count": 2
           },
           {
            "name": "Willits",
            "count": 1
           },
           {
            "name": "2 others",
            "count": 2
           }
          ]
         }
        },
        {
         "name": "State",
         "dtype": "object",
         "stats": {
          "unique_count": 3,
          "nan_count": 0,
          "categories": [
           {
            "name": "CA",
            "count": 2
           },
           {
            "name": "MI",
            "count": 2
           },
           {
            "name": "NM",
            "count": 1
           }
          ]
         }
        },
        {
         "name": "Location of death (zip code)",
         "dtype": "float64",
         "stats": {
          "unique_count": 4,
          "nan_count": 0,
          "min": "48203.0",
          "max": "95823.0",
          "histogram": [
           {
            "bin_start": 48203,
            "bin_end": 52965,
            "count": 2
           },
           {
            "bin_start": 52965,
            "bin_end": 57727,
            "count": 0
           },
           {
            "bin_start": 57727,
            "bin_end": 62489,
            "count": 0
           },
           {
            "bin_start": 62489,
            "bin_end": 67251,
            "count": 0
           },
           {
            "bin_start": 67251,
            "bin_end": 72013,
            "count": 0
           },
           {
            "bin_start": 72013,
            "bin_end": 76775,
            "count": 0
           },
           {
            "bin_start": 76775,
            "bin_end": 81537,
            "count": 0
           },
           {
            "bin_start": 81537,
            "bin_end": 86299,
            "count": 0
           },
           {
            "bin_start": 86299,
            "bin_end": 91061,
            "count": 1
           },
           {
            "bin_start": 91061,
            "bin_end": 95823,
            "count": 2
           }
          ]
         }
        },
        {
         "name": "Location of death (county)",
         "dtype": "object",
         "stats": {
          "unique_count": 4,
          "nan_count": 0,
          "categories": [
           {
            "name": "Wayne",
            "count": 2
           },
           {
            "name": "Mendocino",
            "count": 1
           },
           {
            "name": "2 others",
            "count": 2
           }
          ]
         }
        },
        {
         "name": "Full Address",
         "dtype": "object",
         "stats": {
          "unique_count": 4,
          "nan_count": 0,
          "categories": [
           {
            "name": "Davison Freeway Detroit MI 48203 Wayne",
            "count": 2
           },
           {
            "name": "27898-27804 US-101 Willits CA 95490 Mendocino",
            "count": 1
           },
           {
            "name": "2 others",
            "count": 2
           }
          ]
         }
        },
        {
         "name": "Latitude",
         "dtype": "object",
         "stats": {
          "unique_count": 4,
          "nan_count": 0,
          "categories": [
           {
            "name": "42.4045257999999",
            "count": 2
           },
           {
            "name": "39.4708829",
            "count": 1
           },
           {
            "name": "2 others",
            "count": 2
           }
          ]
         }
        },
        {
         "name": "Longitude",
         "dtype": "float64",
         "stats": {
          "unique_count": 4,
          "nan_count": 0,
          "min": "-123.3617513",
          "max": "-83.0922741",
          "histogram": [
           {
            "bin_start": -123.3617513,
            "bin_end": -119.33480358,
            "count": 2
           },
           {
            "bin_start": -119.33480358,
            "bin_end": -115.30785585999999,
            "count": 0
           },
           {
            "bin_start": -115.30785585999999,
            "bin_end": -111.28090814,
            "count": 0
           },
           {
            "bin_start": -111.28090814,
            "bin_end": -107.25396042,
            "count": 0
           },
           {
            "bin_start": -107.25396042,
            "bin_end": -103.22701269999999,
            "count": 1
           },
           {
            "bin_start": -103.22701269999999,
            "bin_end": -99.20006498,
            "count": 0
           },
           {
            "bin_start": -99.20006498,
            "bin_end": -95.17311726,
            "count": 0
           },
           {
            "bin_start": -95.17311726,
            "bin_end": -91.14616953999999,
            "count": 0
           },
           {
            "bin_start": -91.14616953999999,
            "bin_end": -87.11922181999999,
            "count": 0
           },
           {
            "bin_start": -87.11922181999999,
            "bin_end": -83.0922741,
            "count": 2
           }
          ]
         }
        },
        {
         "name": "Agency or agencies involved",
         "dtype": "object",
         "stats": {
          "unique_count": 3,
          "nan_count": 2,
          "categories": [
           {
            "name": "Mendocino County Sheriff's Office",
            "count": 1
           },
           {
            "name": "2 others",
            "count": 2
           },
           {
            "name": "Missing",
            "count": 2
           }
          ]
         }
        },
        {
         "name": "Highest level of force",
         "dtype": "object",
         "stats": {
          "unique_count": 1,
          "nan_count": 0,
          "categories": [
           {
            "name": "Vehicle",
            "count": 5
           }
          ]
         }
        },
        {
         "name": "UID Temporary",
         "dtype": "float64",
         "stats": {
          "unique_count": 0,
          "nan_count": 5,
          "min": null,
          "max": null,
          "histogram": [
           {
            "bin_start": 0,
            "bin_end": 0.1,
            "count": 0
           },
           {
            "bin_start": 0.1,
            "bin_end": 0.2,
            "count": 0
           },
           {
            "bin_start": 0.2,
            "bin_end": 0.30000000000000004,
            "count": 0
           },
           {
            "bin_start": 0.30000000000000004,
            "bin_end": 0.4,
            "count": 0
           },
           {
            "bin_start": 0.4,
            "bin_end": 0.5,
            "count": 0
           },
           {
            "bin_start": 0.5,
            "bin_end": 0.6000000000000001,
            "count": 0
           },
           {
            "bin_start": 0.6000000000000001,
            "bin_end": 0.7000000000000001,
            "count": 0
           },
           {
            "bin_start": 0.7000000000000001,
            "bin_end": 0.8,
            "count": 0
           },
           {
            "bin_start": 0.8,
            "bin_end": 0.9,
            "count": 0
           },
           {
            "bin_start": 0.9,
            "bin_end": 1,
            "count": 0
           }
          ]
         }
        },
        {
         "name": "Name Temporary",
         "dtype": "object",
         "stats": {
          "unique_count": 0,
          "nan_count": 5,
          "categories": [
           {
            "name": "Missing",
            "count": 5
           }
          ]
         }
        },
        {
         "name": "Armed/Unarmed",
         "dtype": "object",
         "stats": {
          "unique_count": 0,
          "nan_count": 5,
          "categories": [
           {
            "name": "Missing",
            "count": 5
           }
          ]
         }
        },
        {
         "name": "Alleged weapon",
         "dtype": "object",
         "stats": {
          "unique_count": 0,
          "nan_count": 5,
          "categories": [
           {
            "name": "Missing",
            "count": 5
           }
          ]
         }
        },
        {
         "name": "Aggressive physical movement",
         "dtype": "object",
         "stats": {
          "unique_count": 0,
          "nan_count": 5,
          "categories": [
           {
            "name": "Missing",
            "count": 5
           }
          ]
         }
        },
        {
         "name": "Fleeing/Not fleeing",
         "dtype": "object",
         "stats": {
          "unique_count": 0,
          "nan_count": 5,
          "categories": [
           {
            "name": "Missing",
            "count": 5
           }
          ]
         }
        },
        {
         "name": "Description Temp",
         "dtype": "object",
         "stats": {
          "unique_count": 0,
          "nan_count": 5,
          "categories": [
           {
            "name": "Missing",
            "count": 5
           }
          ]
         }
        },
        {
         "name": "URL Temp",
         "dtype": "object",
         "stats": {
          "unique_count": 0,
          "nan_count": 5,
          "categories": [
           {
            "name": "Missing",
            "count": 5
           }
          ]
         }
        },
        {
         "name": "Brief description",
         "dtype": "object",
         "stats": {
          "unique_count": 5,
          "nan_count": 0,
          "categories": [
           {
            "name": "Samuel Knapp was allegedly driving a stolen vehicle when Deputies Scott Nording and Mike Davis started to pursue him. He crashed and was killed during the pursuit about 12:35 a.m.",
            "count": 1
           },
           {
            "name": "Two Detroit men killed when their car crashed were among at least eight people who died in New Year's holiday weekend traffic accidents in Michigan, police said. Mark A Horton, 21, and passenger Phillip A. Bluebridge, 19, were killed when their car crashed in their hometown at 1:54 a.m. They were not wearing seat belts. While these deaths were not reported in news media as police pursuit deaths, National Highway Traffic Safety Administration data shows police reported two people dying in a police pursuit at 1:54 a.m. on January 1, 2000, on Davison Freeway. It was the only double fatality crash in Michigan that night.",
            "count": 1
           },
           {
            "name": "3 others",
            "count": 3
           }
          ]
         }
        },
        {
         "name": "Dispositions/Exclusions INTERNAL USE, NOT FOR ANALYSIS",
         "dtype": "object",
         "stats": {
          "unique_count": 2,
          "nan_count": 0,
          "categories": [
           {
            "name": "Unreported",
            "count": 4
           },
           {
            "name": "Unknown",
            "count": 1
           }
          ]
         }
        },
        {
         "name": "Intended use of force (Developing)",
         "dtype": "object",
         "stats": {
          "unique_count": 1,
          "nan_count": 0,
          "categories": [
           {
            "name": "Pursuit",
            "count": 5
           }
          ]
         }
        },
        {
         "name": "Supporting document link",
         "dtype": "object",
         "stats": {
          "unique_count": 4,
          "nan_count": 0,
          "categories": [
           {
            "name": "https://drive.google.com/file/d/1-nK-RohgiM-tZ5QV0fKOefRUbwJDRD6i/view?usp=sharing",
            "count": 2
           },
           {
            "name": "https://drive.google.com/file/d/10DisrV8K5ReP1lUkqo4y7krqc5Z__rtx/view?usp=sharing",
            "count": 1
           },
           {
            "name": "2 others",
            "count": 2
           }
          ]
         }
        },
        {
         "name": "Foreknowledge of mental illness? INTERNAL USE, NOT FOR ANALYSIS",
         "dtype": "object",
         "stats": {
          "unique_count": 1,
          "nan_count": 0,
          "categories": [
           {
            "name": "No",
            "count": 5
           }
          ]
         }
        },
        {
         "name": "Unnamed: 32",
         "dtype": "float64",
         "stats": {
          "unique_count": 0,
          "nan_count": 5,
          "min": null,
          "max": null,
          "histogram": [
           {
            "bin_start": 0,
            "bin_end": 0.1,
            "count": 0
           },
           {
            "bin_start": 0.1,
            "bin_end": 0.2,
            "count": 0
           },
           {
            "bin_start": 0.2,
            "bin_end": 0.30000000000000004,
            "count": 0
           },
           {
            "bin_start": 0.30000000000000004,
            "bin_end": 0.4,
            "count": 0
           },
           {
            "bin_start": 0.4,
            "bin_end": 0.5,
            "count": 0
           },
           {
            "bin_start": 0.5,
            "bin_end": 0.6000000000000001,
            "count": 0
           },
           {
            "bin_start": 0.6000000000000001,
            "bin_end": 0.7000000000000001,
            "count": 0
           },
           {
            "bin_start": 0.7000000000000001,
            "bin_end": 0.8,
            "count": 0
           },
           {
            "bin_start": 0.8,
            "bin_end": 0.9,
            "count": 0
           },
           {
            "bin_start": 0.9,
            "bin_end": 1,
            "count": 0
           }
          ]
         }
        },
        {
         "name": "Unnamed: 33",
         "dtype": "float64",
         "stats": {
          "unique_count": 0,
          "nan_count": 5,
          "min": null,
          "max": null,
          "histogram": [
           {
            "bin_start": 0,
            "bin_end": 0.1,
            "count": 0
           },
           {
            "bin_start": 0.1,
            "bin_end": 0.2,
            "count": 0
           },
           {
            "bin_start": 0.2,
            "bin_end": 0.30000000000000004,
            "count": 0
           },
           {
            "bin_start": 0.30000000000000004,
            "bin_end": 0.4,
            "count": 0
           },
           {
            "bin_start": 0.4,
            "bin_end": 0.5,
            "count": 0
           },
           {
            "bin_start": 0.5,
            "bin_end": 0.6000000000000001,
            "count": 0
           },
           {
            "bin_start": 0.6000000000000001,
            "bin_end": 0.7000000000000001,
            "count": 0
           },
           {
            "bin_start": 0.7000000000000001,
            "bin_end": 0.8,
            "count": 0
           },
           {
            "bin_start": 0.8,
            "bin_end": 0.9,
            "count": 0
           },
           {
            "bin_start": 0.9,
            "bin_end": 1,
            "count": 0
           }
          ]
         }
        },
        {
         "name": "Unique ID formula",
         "dtype": "float64",
         "stats": {
          "unique_count": 0,
          "nan_count": 5,
          "min": null,
          "max": null,
          "histogram": [
           {
            "bin_start": 0,
            "bin_end": 0.1,
            "count": 0
           },
           {
            "bin_start": 0.1,
            "bin_end": 0.2,
            "count": 0
           },
           {
            "bin_start": 0.2,
            "bin_end": 0.30000000000000004,
            "count": 0
           },
           {
            "bin_start": 0.30000000000000004,
            "bin_end": 0.4,
            "count": 0
           },
           {
            "bin_start": 0.4,
            "bin_end": 0.5,
            "count": 0
           },
           {
            "bin_start": 0.5,
            "bin_end": 0.6000000000000001,
            "count": 0
           },
           {
            "bin_start": 0.6000000000000001,
            "bin_end": 0.7000000000000001,
            "count": 0
           },
           {
            "bin_start": 0.7000000000000001,
            "bin_end": 0.8,
            "count": 0
           },
           {
            "bin_start": 0.8,
            "bin_end": 0.9,
            "count": 0
           },
           {
            "bin_start": 0.9,
            "bin_end": 1,
            "count": 0
           }
          ]
         }
        },
        {
         "name": "Unique identifier (redundant)",
         "dtype": "float64",
         "stats": {
          "unique_count": 5,
          "nan_count": 0,
          "min": "1.0",
          "max": "25749.0",
          "histogram": [
           {
            "bin_start": 1,
            "bin_end": 2575.8,
            "count": 1
           },
           {
            "bin_start": 2575.8,
            "bin_end": 5150.6,
            "count": 0
           },
           {
            "bin_start": 5150.6,
            "bin_end": 7725.400000000001,
            "count": 0
           },
           {
            "bin_start": 7725.400000000001,
            "bin_end": 10300.2,
            "count": 0
           },
           {
            "bin_start": 10300.2,
            "bin_end": 12875,
            "count": 0
           },
           {
            "bin_start": 12875,
            "bin_end": 15449.800000000001,
            "count": 0
           },
           {
            "bin_start": 15449.800000000001,
            "bin_end": 18024.600000000002,
            "count": 0
           },
           {
            "bin_start": 18024.600000000002,
            "bin_end": 20599.4,
            "count": 0
           },
           {
            "bin_start": 20599.4,
            "bin_end": 23174.2,
            "count": 0
           },
           {
            "bin_start": 23174.2,
            "bin_end": 25749,
            "count": 4
           }
          ]
         }
        },
        {
         "name": "Unnamed: 36",
         "dtype": "float64",
         "stats": {
          "unique_count": 0,
          "nan_count": 5,
          "min": null,
          "max": null,
          "histogram": [
           {
            "bin_start": 0,
            "bin_end": 0.1,
            "count": 0
           },
           {
            "bin_start": 0.1,
            "bin_end": 0.2,
            "count": 0
           },
           {
            "bin_start": 0.2,
            "bin_end": 0.30000000000000004,
            "count": 0
           },
           {
            "bin_start": 0.30000000000000004,
            "bin_end": 0.4,
            "count": 0
           },
           {
            "bin_start": 0.4,
            "bin_end": 0.5,
            "count": 0
           },
           {
            "bin_start": 0.5,
            "bin_end": 0.6000000000000001,
            "count": 0
           },
           {
            "bin_start": 0.6000000000000001,
            "bin_end": 0.7000000000000001,
            "count": 0
           },
           {
            "bin_start": 0.7000000000000001,
            "bin_end": 0.8,
            "count": 0
           },
           {
            "bin_start": 0.8,
            "bin_end": 0.9,
            "count": 0
           },
           {
            "bin_start": 0.9,
            "bin_end": 1,
            "count": 0
           }
          ]
         }
        },
        {
         "name": "Unnamed: 37",
         "dtype": "object",
         "stats": {
          "unique_count": 0,
          "nan_count": 5,
          "categories": [
           {
            "name": "Missing",
            "count": 5
           }
          ]
         }
        },
        {
         "name": "Unnamed: 38",
         "dtype": "float64",
         "stats": {
          "unique_count": 0,
          "nan_count": 5,
          "min": null,
          "max": null,
          "histogram": [
           {
            "bin_start": 0,
            "bin_end": 0.1,
            "count": 0
           },
           {
            "bin_start": 0.1,
            "bin_end": 0.2,
            "count": 0
           },
           {
            "bin_start": 0.2,
            "bin_end": 0.30000000000000004,
            "count": 0
           },
           {
            "bin_start": 0.30000000000000004,
            "bin_end": 0.4,
            "count": 0
           },
           {
            "bin_start": 0.4,
            "bin_end": 0.5,
            "count": 0
           },
           {
            "bin_start": 0.5,
            "bin_end": 0.6000000000000001,
            "count": 0
           },
           {
            "bin_start": 0.6000000000000001,
            "bin_end": 0.7000000000000001,
            "count": 0
           },
           {
            "bin_start": 0.7000000000000001,
            "bin_end": 0.8,
            "count": 0
           },
           {
            "bin_start": 0.8,
            "bin_end": 0.9,
            "count": 0
           },
           {
            "bin_start": 0.9,
            "bin_end": 1,
            "count": 0
           }
          ]
         }
        },
        {
         "name": "Unnamed: 39",
         "dtype": "object",
         "stats": {
          "unique_count": 0,
          "nan_count": 5,
          "categories": [
           {
            "name": "Missing",
            "count": 5
           }
          ]
         }
        },
        {
         "name": "Unnamed: 40",
         "dtype": "object",
         "stats": {
          "unique_count": 0,
          "nan_count": 5,
          "categories": [
           {
            "name": "Missing",
            "count": 5
           }
          ]
         }
        },
        {
         "name": "Unnamed: 41",
         "dtype": "object",
         "stats": {
          "unique_count": 0,
          "nan_count": 5,
          "categories": [
           {
            "name": "Missing",
            "count": 5
           }
          ]
         }
        },
        {
         "name": "Unnamed: 42",
         "dtype": "object",
         "stats": {
          "unique_count": 0,
          "nan_count": 5,
          "categories": [
           {
            "name": "Missing",
            "count": 5
           }
          ]
         }
        },
        {
         "name": "Unnamed: 43",
         "dtype": "object",
         "stats": {
          "unique_count": 0,
          "nan_count": 5,
          "categories": [
           {
            "name": "Missing",
            "count": 5
           }
          ]
         }
        },
        {
         "name": "Unnamed: 44",
         "dtype": "object",
         "stats": {
          "unique_count": 0,
          "nan_count": 5,
          "categories": [
           {
            "name": "Missing",
            "count": 5
           }
          ]
         }
        },
        {
         "name": "Unnamed: 45",
         "dtype": "object",
         "stats": {
          "unique_count": 0,
          "nan_count": 5,
          "categories": [
           {
            "name": "Missing",
            "count": 5
           }
          ]
         }
        },
        {
         "name": "Unnamed: 46",
         "dtype": "float64",
         "stats": {
          "unique_count": 0,
          "nan_count": 5,
          "min": null,
          "max": null,
          "histogram": [
           {
            "bin_start": 0,
            "bin_end": 0.1,
            "count": 0
           },
           {
            "bin_start": 0.1,
            "bin_end": 0.2,
            "count": 0
           },
           {
            "bin_start": 0.2,
            "bin_end": 0.30000000000000004,
            "count": 0
           },
           {
            "bin_start": 0.30000000000000004,
            "bin_end": 0.4,
            "count": 0
           },
           {
            "bin_start": 0.4,
            "bin_end": 0.5,
            "count": 0
           },
           {
            "bin_start": 0.5,
            "bin_end": 0.6000000000000001,
            "count": 0
           },
           {
            "bin_start": 0.6000000000000001,
            "bin_end": 0.7000000000000001,
            "count": 0
           },
           {
            "bin_start": 0.7000000000000001,
            "bin_end": 0.8,
            "count": 0
           },
           {
            "bin_start": 0.8,
            "bin_end": 0.9,
            "count": 0
           },
           {
            "bin_start": 0.9,
            "bin_end": 1,
            "count": 0
           }
          ]
         }
        },
        {
         "name": "Unnamed: 47",
         "dtype": "float64",
         "stats": {
          "unique_count": 0,
          "nan_count": 5,
          "min": null,
          "max": null,
          "histogram": [
           {
            "bin_start": 0,
            "bin_end": 0.1,
            "count": 0
           },
           {
            "bin_start": 0.1,
            "bin_end": 0.2,
            "count": 0
           },
           {
            "bin_start": 0.2,
            "bin_end": 0.30000000000000004,
            "count": 0
           },
           {
            "bin_start": 0.30000000000000004,
            "bin_end": 0.4,
            "count": 0
           },
           {
            "bin_start": 0.4,
            "bin_end": 0.5,
            "count": 0
           },
           {
            "bin_start": 0.5,
            "bin_end": 0.6000000000000001,
            "count": 0
           },
           {
            "bin_start": 0.6000000000000001,
            "bin_end": 0.7000000000000001,
            "count": 0
           },
           {
            "bin_start": 0.7000000000000001,
            "bin_end": 0.8,
            "count": 0
           },
           {
            "bin_start": 0.8,
            "bin_end": 0.9,
            "count": 0
           },
           {
            "bin_start": 0.9,
            "bin_end": 1,
            "count": 0
           }
          ]
         }
        },
        {
         "name": "_deepnote_index_column",
         "dtype": "int64"
        }
       ],
       "rows_top": [
        {
         "Unique ID": 25746,
         "Name": "Samuel H. Knapp",
         "Age": "17",
         "Gender": "Male",
         "Race": "European-American/White",
         "Race with imputations": "European-American/White",
         "Imputation probability": "Not imputed",
         "URL of image (PLS NO HOTLINKS)": "nan",
         "Date of injury resulting in death (month/day/year)": "2000-01-01T00:00:00.000000",
         "Location of injury (address)": "27898-27804 US-101",
         "Location of death (city)": "Willits",
         "State": "CA",
         "Location of death (zip code)": 95490,
         "Location of death (county)": "Mendocino",
         "Full Address": "27898-27804 US-101 Willits CA 95490 Mendocino",
         "Latitude": "39.4708829",
         "Longitude": -123.3617513,
         "Agency or agencies involved": "Mendocino County Sheriff's Office",
         "Highest level of force": "Vehicle",
         "UID Temporary": "nan",
         "Name Temporary": "nan",
         "Armed/Unarmed": "nan",
         "Alleged weapon": "nan",
         "Aggressive physical movement": "nan",
         "Fleeing/Not fleeing": "nan",
         "Description Temp": "nan",
         "URL Temp": "nan",
         "Brief description": "Samuel Knapp was allegedly driving a stolen vehicle when Deputies Scott Nording and Mike Davis star…",
         "Dispositions/Exclusions INTERNAL USE, NOT FOR ANALYSIS": "Unreported",
         "Intended use of force (Developing)": "Pursuit",
         "Supporting document link": "https://drive.google.com/file/d/10DisrV8K5ReP1lUkqo4y7krqc5Z__rtx/view?usp=sharing",
         "Foreknowledge of mental illness? INTERNAL USE, NOT FOR ANALYSIS": "No",
         "Unnamed: 32": "nan",
         "Unnamed: 33": "nan",
         "Unique ID formula": "nan",
         "Unique identifier (redundant)": 25746,
         "Unnamed: 36": "nan",
         "Unnamed: 37": "nan",
         "Unnamed: 38": "nan",
         "Unnamed: 39": "nan",
         "Unnamed: 40": "nan",
         "Unnamed: 41": "nan",
         "Unnamed: 42": "nan",
         "Unnamed: 43": "nan",
         "Unnamed: 44": "nan",
         "Unnamed: 45": "nan",
         "Unnamed: 46": "nan",
         "Unnamed: 47": "nan",
         "_deepnote_index_column": 0
        },
        {
         "Unique ID": 25747,
         "Name": "Mark A. Horton",
         "Age": "21",
         "Gender": "Male",
         "Race": "African-American/Black",
         "Race with imputations": "African-American/Black",
         "Imputation probability": "Not imputed",
         "URL of image (PLS NO HOTLINKS)": "nan",
         "Date of injury resulting in death (month/day/year)": "2000-01-01T00:00:00.000000",
         "Location of injury (address)": "Davison Freeway",
         "Location of death (city)": "Detroit",
         "State": "MI",
         "Location of death (zip code)": 48203,
         "Location of death (county)": "Wayne",
         "Full Address": "Davison Freeway Detroit MI 48203 Wayne",
         "Latitude": "42.4045257999999",
         "Longitude": -83.0922741,
         "Agency or agencies involved": "nan",
         "Highest level of force": "Vehicle",
         "UID Temporary": "nan",
         "Name Temporary": "nan",
         "Armed/Unarmed": "nan",
         "Alleged weapon": "nan",
         "Aggressive physical movement": "nan",
         "Fleeing/Not fleeing": "nan",
         "Description Temp": "nan",
         "URL Temp": "nan",
         "Brief description": "Two Detroit men killed when their car crashed were among at least eight people who died in New Year…",
         "Dispositions/Exclusions INTERNAL USE, NOT FOR ANALYSIS": "Unreported",
         "Intended use of force (Developing)": "Pursuit",
         "Supporting document link": "https://drive.google.com/file/d/1-nK-RohgiM-tZ5QV0fKOefRUbwJDRD6i/view?usp=sharing",
         "Foreknowledge of mental illness? INTERNAL USE, NOT FOR ANALYSIS": "No",
         "Unnamed: 32": "nan",
         "Unnamed: 33": "nan",
         "Unique ID formula": "nan",
         "Unique identifier (redundant)": 25747,
         "Unnamed: 36": "nan",
         "Unnamed: 37": "nan",
         "Unnamed: 38": "nan",
         "Unnamed: 39": "nan",
         "Unnamed: 40": "nan",
         "Unnamed: 41": "nan",
         "Unnamed: 42": "nan",
         "Unnamed: 43": "nan",
         "Unnamed: 44": "nan",
         "Unnamed: 45": "nan",
         "Unnamed: 46": "nan",
         "Unnamed: 47": "nan",
         "_deepnote_index_column": 1
        },
        {
         "Unique ID": 25748,
         "Name": "Phillip A. Blurbridge",
         "Age": "19",
         "Gender": "Male",
         "Race": "African-American/Black",
         "Race with imputations": "African-American/Black",
         "Imputation probability": "Not imputed",
         "URL of image (PLS NO HOTLINKS)": "nan",
         "Date of injury resulting in death (month/day/year)": "2000-01-01T00:00:00.000000",
         "Location of injury (address)": "Davison Freeway",
         "Location of death (city)": "Detroit",
         "State": "MI",
         "Location of death (zip code)": 48203,
         "Location of death (county)": "Wayne",
         "Full Address": "Davison Freeway Detroit MI 48203 Wayne",
         "Latitude": "42.4045257999999",
         "Longitude": -83.0922741,
         "Agency or agencies involved": "nan",
         "Highest level of force": "Vehicle",
         "UID Temporary": "nan",
         "Name Temporary": "nan",
         "Armed/Unarmed": "nan",
         "Alleged weapon": "nan",
         "Aggressive physical movement": "nan",
         "Fleeing/Not fleeing": "nan",
         "Description Temp": "nan",
         "URL Temp": "nan",
         "Brief description": "Two Detroit men killed when their car crashed were among at least eight people who died in New Year…",
         "Dispositions/Exclusions INTERNAL USE, NOT FOR ANALYSIS": "Unreported",
         "Intended use of force (Developing)": "Pursuit",
         "Supporting document link": "https://drive.google.com/file/d/1-nK-RohgiM-tZ5QV0fKOefRUbwJDRD6i/view?usp=sharing",
         "Foreknowledge of mental illness? INTERNAL USE, NOT FOR ANALYSIS": "No",
         "Unnamed: 32": "nan",
         "Unnamed: 33": "nan",
         "Unique ID formula": "nan",
         "Unique identifier (redundant)": 25748,
         "Unnamed: 36": "nan",
         "Unnamed: 37": "nan",
         "Unnamed: 38": "nan",
         "Unnamed: 39": "nan",
         "Unnamed: 40": "nan",
         "Unnamed: 41": "nan",
         "Unnamed: 42": "nan",
         "Unnamed: 43": "nan",
         "Unnamed: 44": "nan",
         "Unnamed: 45": "nan",
         "Unnamed: 46": "nan",
         "Unnamed: 47": "nan",
         "_deepnote_index_column": 2
        },
        {
         "Unique ID": 25749,
         "Name": "Mark Ortiz",
         "Age": "23",
         "Gender": "Male",
         "Race": "Hispanic/Latino",
         "Race with imputations": "Hispanic/Latino",
         "Imputation probability": "Not imputed",
         "URL of image (PLS NO HOTLINKS)": "nan",
         "Date of injury resulting in death (month/day/year)": "2000-01-01T00:00:00.000000",
         "Location of injury (address)": "600 W Cherry Ln",
         "Location of death (city)": "Carlsbad",
         "State": "NM",
         "Location of death (zip code)": 88220,
         "Location of death (county)": "Eddy",
         "Full Address": "600 W Cherry Ln Carlsbad NM 88220 Eddy",
         "Latitude": "32.4500798",
         "Longitude": -104.2376427,
         "Agency or agencies involved": "Eddy County Sheriff's Office",
         "Highest level of force": "Vehicle",
         "UID Temporary": "nan",
         "Name Temporary": "nan",
         "Armed/Unarmed": "nan",
         "Alleged weapon": "nan",
         "Aggressive physical movement": "nan",
         "Fleeing/Not fleeing": "nan",
         "Description Temp": "nan",
         "URL Temp": "nan",
         "Brief description": "A motorcycle was allegedly being driven erratically when a deputy began to pursue. The motorcycle c…",
         "Dispositions/Exclusions INTERNAL USE, NOT FOR ANALYSIS": "Unreported",
         "Intended use of force (Developing)": "Pursuit",
         "Supporting document link": "https://drive.google.com/file/d/1qAEefRjX_aTtCIffqMJm18P4kf-BZn52/view?usp=sharing",
         "Foreknowledge of mental illness? INTERNAL USE, NOT FOR ANALYSIS": "No",
         "Unnamed: 32": "nan",
         "Unnamed: 33": "nan",
         "Unique ID formula": "nan",
         "Unique identifier (redundant)": 25749,
         "Unnamed: 36": "nan",
         "Unnamed: 37": "nan",
         "Unnamed: 38": "nan",
         "Unnamed: 39": "nan",
         "Unnamed: 40": "nan",
         "Unnamed: 41": "nan",
         "Unnamed: 42": "nan",
         "Unnamed: 43": "nan",
         "Unnamed: 44": "nan",
         "Unnamed: 45": "nan",
         "Unnamed: 46": "nan",
         "Unnamed: 47": "nan",
         "_deepnote_index_column": 3
        },
        {
         "Unique ID": 1,
         "Name": "LaTanya Janelle McCoy",
         "Age": "24",
         "Gender": "Female",
         "Race": "African-American/Black",
         "Race with imputations": "African-American/Black",
         "Imputation probability": "Not imputed",
         "URL of image (PLS NO HOTLINKS)": "nan",
         "Date of injury resulting in death (month/day/year)": "2000-01-02T00:00:00.000000",
         "Location of injury (address)": "5700 block Mack Road",
         "Location of death (city)": "Sacramento",
         "State": "CA",
         "Location of death (zip code)": 95823,
         "Location of death (county)": "Sacramento",
         "Full Address": "5700 block Mack Road Sacramento CA 95823 Sacramento",
         "Latitude": "38.4739487",
         "Longitude": -121.4337757,
         "Agency or agencies involved": "Sacramento Police Department",
         "Highest level of force": "Vehicle",
         "UID Temporary": "nan",
         "Name Temporary": "nan",
         "Armed/Unarmed": "nan",
         "Alleged weapon": "nan",
         "Aggressive physical movement": "nan",
         "Fleeing/Not fleeing": "nan",
         "Description Temp": "nan",
         "URL Temp": "nan",
         "Brief description": "LaTanya Janelle McCoy's car was struck from behind by a car fleeing police. She died in her car, wh…",
         "Dispositions/Exclusions INTERNAL USE, NOT FOR ANALYSIS": "Unknown",
         "Intended use of force (Developing)": "Pursuit",
         "Supporting document link": "http://www.recordnet.com/article/20000110/A_NEWS/301109998",
         "Foreknowledge of mental illness? INTERNAL USE, NOT FOR ANALYSIS": "No",
         "Unnamed: 32": "nan",
         "Unnamed: 33": "nan",
         "Unique ID formula": "nan",
         "Unique identifier (redundant)": 1,
         "Unnamed: 36": "nan",
         "Unnamed: 37": "nan",
         "Unnamed: 38": "nan",
         "Unnamed: 39": "nan",
         "Unnamed: 40": "nan",
         "Unnamed: 41": "nan",
         "Unnamed: 42": "nan",
         "Unnamed: 43": "nan",
         "Unnamed: 44": "nan",
         "Unnamed: 45": "nan",
         "Unnamed: 46": "nan",
         "Unnamed: 47": "nan",
         "_deepnote_index_column": 4
        }
       ],
       "rows_bottom": null
      },
      "text/plain": "   Unique ID                   Name Age  Gender                     Race  \\\n0    25746.0        Samuel H. Knapp  17    Male  European-American/White   \n1    25747.0         Mark A. Horton  21    Male   African-American/Black   \n2    25748.0  Phillip A. Blurbridge  19    Male   African-American/Black   \n3    25749.0             Mark Ortiz  23    Male          Hispanic/Latino   \n4        1.0  LaTanya Janelle McCoy  24  Female   African-American/Black   \n\n     Race with imputations Imputation probability  \\\n0  European-American/White            Not imputed   \n1   African-American/Black            Not imputed   \n2   African-American/Black            Not imputed   \n3          Hispanic/Latino            Not imputed   \n4   African-American/Black            Not imputed   \n\n  URL of image (PLS NO HOTLINKS)  \\\n0                            NaN   \n1                            NaN   \n2                            NaN   \n3                            NaN   \n4                            NaN   \n\n  Date of injury resulting in death (month/day/year)  \\\n0                                         2000-01-01   \n1                                         2000-01-01   \n2                                         2000-01-01   \n3                                         2000-01-01   \n4                                         2000-01-02   \n\n  Location of injury (address)  ... Unnamed: 38 Unnamed: 39  Unnamed: 40  \\\n0           27898-27804 US-101  ...         NaN         NaN          NaN   \n1              Davison Freeway  ...         NaN         NaN          NaN   \n2              Davison Freeway  ...         NaN         NaN          NaN   \n3              600 W Cherry Ln  ...         NaN         NaN          NaN   \n4         5700 block Mack Road  ...         NaN         NaN          NaN   \n\n  Unnamed: 41 Unnamed: 42 Unnamed: 43  Unnamed: 44 Unnamed: 45 Unnamed: 46  \\\n0         NaN         NaN         NaN          NaN         NaN         NaN   \n1         NaN         NaN         NaN          NaN         NaN         NaN   \n2         NaN         NaN         NaN          NaN         NaN         NaN   \n3         NaN         NaN         NaN          NaN         NaN         NaN   \n4         NaN         NaN         NaN          NaN         NaN         NaN   \n\n   Unnamed: 47  \n0          NaN  \n1          NaN  \n2          NaN  \n3          NaN  \n4          NaN  \n\n[5 rows x 48 columns]",
      "text/html": "<div>\n<style scoped>\n    .dataframe tbody tr th:only-of-type {\n        vertical-align: middle;\n    }\n\n    .dataframe tbody tr th {\n        vertical-align: top;\n    }\n\n    .dataframe thead th {\n        text-align: right;\n    }\n</style>\n<table border=\"1\" class=\"dataframe\">\n  <thead>\n    <tr style=\"text-align: right;\">\n      <th></th>\n      <th>Unique ID</th>\n      <th>Name</th>\n      <th>Age</th>\n      <th>Gender</th>\n      <th>Race</th>\n      <th>Race with imputations</th>\n      <th>Imputation probability</th>\n      <th>URL of image (PLS NO HOTLINKS)</th>\n      <th>Date of injury resulting in death (month/day/year)</th>\n      <th>Location of injury (address)</th>\n      <th>...</th>\n      <th>Unnamed: 38</th>\n      <th>Unnamed: 39</th>\n      <th>Unnamed: 40</th>\n      <th>Unnamed: 41</th>\n      <th>Unnamed: 42</th>\n      <th>Unnamed: 43</th>\n      <th>Unnamed: 44</th>\n      <th>Unnamed: 45</th>\n      <th>Unnamed: 46</th>\n      <th>Unnamed: 47</th>\n    </tr>\n  </thead>\n  <tbody>\n    <tr>\n      <th>0</th>\n      <td>25746.0</td>\n      <td>Samuel H. Knapp</td>\n      <td>17</td>\n      <td>Male</td>\n      <td>European-American/White</td>\n      <td>European-American/White</td>\n      <td>Not imputed</td>\n      <td>NaN</td>\n      <td>2000-01-01</td>\n      <td>27898-27804 US-101</td>\n      <td>...</td>\n      <td>NaN</td>\n      <td>NaN</td>\n      <td>NaN</td>\n      <td>NaN</td>\n      <td>NaN</td>\n      <td>NaN</td>\n      <td>NaN</td>\n      <td>NaN</td>\n      <td>NaN</td>\n      <td>NaN</td>\n    </tr>\n    <tr>\n      <th>1</th>\n      <td>25747.0</td>\n      <td>Mark A. Horton</td>\n      <td>21</td>\n      <td>Male</td>\n      <td>African-American/Black</td>\n      <td>African-American/Black</td>\n      <td>Not imputed</td>\n      <td>NaN</td>\n      <td>2000-01-01</td>\n      <td>Davison Freeway</td>\n      <td>...</td>\n      <td>NaN</td>\n      <td>NaN</td>\n      <td>NaN</td>\n      <td>NaN</td>\n      <td>NaN</td>\n      <td>NaN</td>\n      <td>NaN</td>\n      <td>NaN</td>\n      <td>NaN</td>\n      <td>NaN</td>\n    </tr>\n    <tr>\n      <th>2</th>\n      <td>25748.0</td>\n      <td>Phillip A. Blurbridge</td>\n      <td>19</td>\n      <td>Male</td>\n      <td>African-American/Black</td>\n      <td>African-American/Black</td>\n      <td>Not imputed</td>\n      <td>NaN</td>\n      <td>2000-01-01</td>\n      <td>Davison Freeway</td>\n      <td>...</td>\n      <td>NaN</td>\n      <td>NaN</td>\n      <td>NaN</td>\n      <td>NaN</td>\n      <td>NaN</td>\n      <td>NaN</td>\n      <td>NaN</td>\n      <td>NaN</td>\n      <td>NaN</td>\n      <td>NaN</td>\n    </tr>\n    <tr>\n      <th>3</th>\n      <td>25749.0</td>\n      <td>Mark Ortiz</td>\n      <td>23</td>\n      <td>Male</td>\n      <td>Hispanic/Latino</td>\n      <td>Hispanic/Latino</td>\n      <td>Not imputed</td>\n      <td>NaN</td>\n      <td>2000-01-01</td>\n      <td>600 W Cherry Ln</td>\n      <td>...</td>\n      <td>NaN</td>\n      <td>NaN</td>\n      <td>NaN</td>\n      <td>NaN</td>\n      <td>NaN</td>\n      <td>NaN</td>\n      <td>NaN</td>\n      <td>NaN</td>\n      <td>NaN</td>\n      <td>NaN</td>\n    </tr>\n    <tr>\n      <th>4</th>\n      <td>1.0</td>\n      <td>LaTanya Janelle McCoy</td>\n      <td>24</td>\n      <td>Female</td>\n      <td>African-American/Black</td>\n      <td>African-American/Black</td>\n      <td>Not imputed</td>\n      <td>NaN</td>\n      <td>2000-01-02</td>\n      <td>5700 block Mack Road</td>\n      <td>...</td>\n      <td>NaN</td>\n      <td>NaN</td>\n      <td>NaN</td>\n      <td>NaN</td>\n      <td>NaN</td>\n      <td>NaN</td>\n      <td>NaN</td>\n      <td>NaN</td>\n      <td>NaN</td>\n      <td>NaN</td>\n    </tr>\n  </tbody>\n</table>\n<p>5 rows × 48 columns</p>\n</div>"
     },
     "metadata": {}
    }
   ]
  },
  {
   "cell_type": "markdown",
   "source": "\n### Initial Data Summarization",
   "metadata": {
    "tags": [],
    "cell_id": "00005-dfdad0f5-b02c-4c3b-b838-b08a19458a1f",
    "deepnote_cell_type": "markdown"
   }
  },
  {
   "cell_type": "code",
   "metadata": {
    "deepnote_to_be_reexecuted": false,
    "execution_millis": 9,
    "execution_start": 1622249001528,
    "source_hash": "cbfec6c2",
    "tags": [],
    "cell_id": "00006-11c54d14-8811-4e72-bd5c-7473905cfe6b",
    "deepnote_cell_type": "code"
   },
   "source": "# rows and columns\ndf.shape",
   "execution_count": 10,
   "outputs": [
    {
     "output_type": "execute_result",
     "execution_count": 10,
     "data": {
      "text/plain": "(30244, 48)"
     },
     "metadata": {}
    }
   ]
  },
  {
   "cell_type": "code",
   "metadata": {
    "deepnote_to_be_reexecuted": false,
    "execution_millis": 58,
    "execution_start": 1622249001529,
    "source_hash": "5451bed5",
    "tags": [],
    "cell_id": "00007-bd642879-2a66-4321-b608-f2b81b15454a",
    "deepnote_cell_type": "code"
   },
   "source": "# list of column names and data types with information\ndf.info()",
   "execution_count": 11,
   "outputs": [
    {
     "name": "stdout",
     "text": "<class 'pandas.core.frame.DataFrame'>\nRangeIndex: 30244 entries, 0 to 30243\nData columns (total 48 columns):\n #   Column                                                           Non-Null Count  Dtype         \n---  ------                                                           --------------  -----         \n 0   Unique ID                                                        30243 non-null  float64       \n 1   Name                                                             30244 non-null  object        \n 2   Age                                                              29121 non-null  object        \n 3   Gender                                                           30118 non-null  object        \n 4   Race                                                             30242 non-null  object        \n 5   Race with imputations                                            29718 non-null  object        \n 6   Imputation probability                                           29701 non-null  object        \n 7   URL of image (PLS NO HOTLINKS)                                   13993 non-null  object        \n 8   Date of injury resulting in death (month/day/year)               30244 non-null  datetime64[ns]\n 9   Location of injury (address)                                     29699 non-null  object        \n 10  Location of death (city)                                         30205 non-null  object        \n 11  State                                                            30243 non-null  object        \n 12  Location of death (zip code)                                     30060 non-null  float64       \n 13  Location of death (county)                                       30228 non-null  object        \n 14  Full Address                                                     30243 non-null  object        \n 15  Latitude                                                         30243 non-null  object        \n 16  Longitude                                                        30243 non-null  float64       \n 17  Agency or agencies involved                                      30168 non-null  object        \n 18  Highest level of force                                           30241 non-null  object        \n 19  UID Temporary                                                    2313 non-null   float64       \n 20  Name Temporary                                                   2313 non-null   object        \n 21  Armed/Unarmed                                                    13871 non-null  object        \n 22  Alleged weapon                                                   13869 non-null  object        \n 23  Aggressive physical movement                                     13872 non-null  object        \n 24  Fleeing/Not fleeing                                              13872 non-null  object        \n 25  Description Temp                                                 848 non-null    object        \n 26  URL Temp                                                         4 non-null      object        \n 27  Brief description                                                30243 non-null  object        \n 28  Dispositions/Exclusions INTERNAL USE, NOT FOR ANALYSIS           30242 non-null  object        \n 29  Intended use of force (Developing)                               30242 non-null  object        \n 30  Supporting document link                                         17515 non-null  object        \n 31  Foreknowledge of mental illness? INTERNAL USE, NOT FOR ANALYSIS  30182 non-null  object        \n 32  Unnamed: 32                                                      0 non-null      float64       \n 33  Unnamed: 33                                                      1 non-null      float64       \n 34  Unique ID formula                                                2 non-null      float64       \n 35  Unique identifier (redundant)                                    30242 non-null  float64       \n 36  Unnamed: 36                                                      0 non-null      float64       \n 37  Unnamed: 37                                                      14 non-null     object        \n 38  Unnamed: 38                                                      14 non-null     float64       \n 39  Unnamed: 39                                                      14 non-null     object        \n 40  Unnamed: 40                                                      14 non-null     object        \n 41  Unnamed: 41                                                      14 non-null     object        \n 42  Unnamed: 42                                                      14 non-null     object        \n 43  Unnamed: 43                                                      14 non-null     object        \n 44  Unnamed: 44                                                      14 non-null     object        \n 45  Unnamed: 45                                                      14 non-null     object        \n 46  Unnamed: 46                                                      0 non-null      float64       \n 47  Unnamed: 47                                                      0 non-null      float64       \ndtypes: datetime64[ns](1), float64(12), object(35)\nmemory usage: 11.1+ MB\n",
     "output_type": "stream"
    }
   ]
  },
  {
   "cell_type": "code",
   "metadata": {
    "deepnote_to_be_reexecuted": false,
    "execution_millis": 25,
    "execution_start": 1622249001634,
    "source_hash": "f099b8f5",
    "tags": [],
    "cell_id": "00008-887c0028-fbb0-4f51-b749-915db75ea52b",
    "deepnote_cell_type": "code"
   },
   "source": "# check nulls\ndf.isnull().sum()",
   "execution_count": 12,
   "outputs": [
    {
     "output_type": "execute_result",
     "execution_count": 12,
     "data": {
      "text/plain": "Unique ID                                                              1\nName                                                                   0\nAge                                                                 1123\nGender                                                               126\nRace                                                                   2\nRace with imputations                                                526\nImputation probability                                               543\nURL of image (PLS NO HOTLINKS)                                     16251\nDate of injury resulting in death (month/day/year)                     0\nLocation of injury (address)                                         545\nLocation of death (city)                                              39\nState                                                                  1\nLocation of death (zip code)                                         184\nLocation of death (county)                                            16\nFull Address                                                           1\nLatitude                                                               1\nLongitude                                                              1\nAgency or agencies involved                                           76\nHighest level of force                                                 3\nUID Temporary                                                      27931\nName Temporary                                                     27931\nArmed/Unarmed                                                      16373\nAlleged weapon                                                     16375\nAggressive physical movement                                       16372\nFleeing/Not fleeing                                                16372\nDescription Temp                                                   29396\nURL Temp                                                           30240\nBrief description                                                      1\nDispositions/Exclusions INTERNAL USE, NOT FOR ANALYSIS                 2\nIntended use of force (Developing)                                     2\nSupporting document link                                           12729\nForeknowledge of mental illness? INTERNAL USE, NOT FOR ANALYSIS       62\nUnnamed: 32                                                        30244\nUnnamed: 33                                                        30243\nUnique ID formula                                                  30242\nUnique identifier (redundant)                                          2\nUnnamed: 36                                                        30244\nUnnamed: 37                                                        30230\nUnnamed: 38                                                        30230\nUnnamed: 39                                                        30230\nUnnamed: 40                                                        30230\nUnnamed: 41                                                        30230\nUnnamed: 42                                                        30230\nUnnamed: 43                                                        30230\nUnnamed: 44                                                        30230\nUnnamed: 45                                                        30230\nUnnamed: 46                                                        30244\nUnnamed: 47                                                        30244\ndtype: int64"
     },
     "metadata": {}
    }
   ]
  },
  {
   "cell_type": "code",
   "metadata": {
    "deepnote_to_be_reexecuted": false,
    "execution_millis": 291,
    "execution_start": 1622249001652,
    "source_hash": "593fb024",
    "tags": [],
    "cell_id": "00009-6bdeb687-21ba-463d-9481-6f1b83b7b31b",
    "deepnote_cell_type": "code"
   },
   "source": "# specify useless columns and what to exclude for counts\nuseless_columns = df.columns[32:]\nexclusions = ['url_of_image_pls_no_hotlinks', 'uid_temporary', 'name_temporary', 'description_temp', 'url_temp', \\\n        'supporting_document_link', 'dispositions_exclusions_internal_use,_not_for_analysis', 'foreknowledge_of_mental_illness?_internal_use,_not_for_analysis', \\\n        'race_with_imputations', 'name', 'imputation_probability', 'location_of_injury_address', 'location_of_death_city', 'state', 'location_of_death_county', \\\n        'full_address', 'latitude', 'longitude']\n\n# getting value counts for specific columns\nfor column in df.columns:\n    if column not in exclusions and column not in useless_columns:\n        print(column.upper())\n        print(df[column].value_counts())\n        print(\"-------------------------------------\")",
   "execution_count": 13,
   "outputs": [
    {
     "name": "stdout",
     "text": "UNIQUE ID\n17653.0    1\n25282.0    1\n6416.0     1\n20496.0    1\n22458.0    1\n          ..\n9841.0     1\n23585.0    1\n5000.0     1\n28998.0    1\n2150.0     1\nName: Unique ID, Length: 30243, dtype: int64\n-------------------------------------\nNAME\nName withheld by police    1269\nJohn Doe 2                    5\nJohn Doe 1                    5\nMichael Johnson               5\nJohn Doe                      4\n                           ... \nJames Bryant                  1\nKeirre Roberts                1\nMichael Gale                  1\nMichael Wills                 1\nJaime Flores                  1\nName: Name, Length: 28733, dtype: int64\n-------------------------------------\nAGE\n22      912\n25      895\n24      862\n27      848\n21      848\n       ... \n76        1\n75        1\n74        1\n55.       1\n0.25      1\nName: Age, Length: 195, dtype: int64\n-------------------------------------\nGENDER\nMale           27200\nFemale          2898\nTransgender       20\nName: Gender, dtype: int64\n-------------------------------------\nRACE\nEuropean-American/White    10148\nRace unspecified            8500\nAfrican-American/Black      6732\nHispanic/Latino             4030\nAsian/Pacific Islander       468\nNative American/Alaskan      313\nMiddle Eastern                50\neuropean-American/White        1\nName: Race, dtype: int64\n-------------------------------------\nRACE WITH IMPUTATIONS\nEuropean-American/White    14258\nAfrican-American/Black      8281\nHispanic/Latino             4960\nRace unspecified            1292\nAsian/Pacific Islander       561\nNative American/Alaskan      313\nMiddle Eastern                50\nHIspanic/Latino                2\neuropean-American/White        1\nName: Race with imputations, dtype: int64\n-------------------------------------\nIMPUTATION PROBABILITY\nNot imputed            21661\nRace not determined     1276\nrace not determined       19\n1                         15\n0.931634986                4\n                       ...  \n0.985319747                1\n0.901623546                1\n0.933659305                1\n0.946630097                1\n0.995174306                1\nName: Imputation probability, Length: 6666, dtype: int64\n-------------------------------------\nURL OF IMAGE (PLS NO HOTLINKS)\nhttps://www.fatalencounters.org/wp-content/uploads/2018/12/Kyleigh-Austin-and-Hunter-Radar-9-22-2007.jpg                                         3\nhttp://photos1.blogger.com/blogger/282/183/1600/CA%20Chase14_Paige10_and_Rayne8_McGowan_killed.jpg                                               3\nhttp://pursuitsafety.org/images/4_killed_philly.jpg                                                                                              3\nhttp://castle.eiu.edu/media/images/2009/anusha-priya-anitha.jpg                                                                                  3\nhttp://www.wpbf.com/image/view/-/28239988/highRes/2/-/maxh/480/maxw/640/-/md4i4l/-/crash-victims-Elizabeth-Arellano-and-Hilda-Medrano-jpg.jpg    2\n                                                                                                                                                ..\nhttps://fatalencounters.org/wp-content/uploads/2020/01/1-6-2007-Demetra-Boyd.jpg                                                                 1\nhttps://fatalencounters.org/wp-content/uploads/2020/09/Dijon-Kizzee.jpg                                                                          1\nhttps://www.fatalencounters.org/wp-content/uploads/2013/10/Trenton-Lohman.jpg                                                                    1\nhttp://obituaryarchive.altmeyer.com/wp-content/uploads/sites/14/cache/2015/06/4903-a609e3dd679865e4a4ee9ca214f0f75e63282c45/2570836015.jpeg      1\nhttps://www.fatalencounters.org/wp-content/uploads/2013/10/Mirza-Tatlic.png                                                                      1\nName: URL of image (PLS NO HOTLINKS), Length: 13935, dtype: int64\n-------------------------------------\nDATE OF INJURY RESULTING IN DEATH (MONTH/DAY/YEAR)\n2003-02-19    23\n2021-03-18    15\n2020-09-18    15\n2020-05-03    15\n2020-05-05    15\n              ..\n2007-01-14     1\n2004-12-07     1\n2001-04-22     1\n2016-10-06     1\n2017-07-22     1\nName: Date of injury resulting in death (month/day/year), Length: 7524, dtype: int64\n-------------------------------------\nLOCATION OF INJURY (ADDRESS)\n2347 S. Michigan Ave.                     21\nI-80                                      20\nI-70                                      17\nI-10                                      16\nI-95                                      15\n                                          ..\nMidlothian Turnpike and Central Avenue     1\n425 Grace St                               1\nProduce Road and Silver Creek Road         1\n600 block Birchwood Dr                     1\n150th Street and Wisconsin 46              1\nName: Location of injury (address), Length: 27736, dtype: int64\n-------------------------------------\nLOCATION OF DEATH (CITY)\nHouston         472\nChicago         463\nLos Angeles     417\nPhoenix         269\nSan Antonio     250\n               ... \nLibertytown       1\nPlummer           1\nSanostee          1\nQuapaw            1\nBlowing Rock      1\nName: Location of death (city), Length: 6167, dtype: int64\n-------------------------------------\nSTATE\nCA    4831\nTX    2690\nFL    1834\nGA    1143\nIL    1091\nOH     989\nPA     956\nMO     912\nAZ     884\nMI     874\nOK     699\nNY     686\nAL     672\nWA     661\nCO     659\nTN     656\nNC     641\nLA     632\nVA     624\nSC     593\nIN     580\nMD     534\nNJ     526\nWI     455\nMS     423\nNM     418\nKS     410\nKY     409\nNV     400\nAR     372\nMN     346\nOR     343\nIA     280\nUT     252\nNE     204\nMA     202\nWV     183\nID     151\nCT     142\nAK     124\nHI     111\nMT     109\nME     102\nDC      87\nDE      62\nNH      62\nWY      61\nSD      59\nVT      40\nND      39\nRI      30\nName: State, dtype: int64\n-------------------------------------\nLOCATION OF DEATH (ZIP CODE)\n60620.0    34\n60628.0    33\n60616.0    32\n93307.0    28\n90221.0    25\n           ..\n30517.0     1\n75056.0     1\n67544.0     1\n61607.0     1\n93249.0     1\nName: Location of death (zip code), Length: 10809, dtype: int64\n-------------------------------------\nLOCATION OF DEATH (COUNTY)\nLos Angeles          1286\nCook                  628\nHarris                588\nMaricopa              503\nOrange                458\n                     ... \nHarrisonburg City       1\nWirt                    1\nLunenburg               1\nCurrituck               1\nOchiltree               1\nName: Location of death (county), Length: 1511, dtype: int64\n-------------------------------------\nFULL ADDRESS\n2347 S. Michigan Ave. Chicago IL 60616 Cook                        21\n4800 W Expy 83 Palmview TX 78572 Hidalgo                            9\n11980 Avenue 424 Orosi CA 93647 Tulare                              8\nUS Hwy 277 Del Rio TX 78840 Val Verde                               8\nHighway 21 Troutman NC 28166 Iredell                                7\n                                                                   ..\n200 West 21st Street Ogden UT 84401 Weber                           1\n2300 Rebsamen Park Rd Little Rock AR 72202 Pulaski                  1\n12700 block Amber Lane Rancho Cucamonga CA 91739 San Bernardino     1\n66 W 3rd Ave Eagar AZ 85925 Apache                                  1\n7700 Carlton Drive SW Huntsville AL 35802 Madison                   1\nName: Full Address, Length: 28509, dtype: int64\n-------------------------------------\nLATITUDE\n41.8496116    21\n31.4992001     9\n26.2351813     9\n29.850105      8\n36.559671      8\n              ..\n38.1836345     1\n45.0700148     1\n33.5960325     1\n37.26805       1\n33.4567707     1\nName: Latitude, Length: 28389, dtype: int64\n-------------------------------------\nLONGITUDE\n-87.623715     21\n-98.382482      9\n-119.305304     8\n-100.800098     8\n-97.831488      7\n               ..\n-122.674217     1\n-95.103523      1\n-81.241666      1\n-115.150860     1\n-88.106739      1\nName: Longitude, Length: 28334, dtype: int64\n-------------------------------------\nAGENCY OR AGENCIES INVOLVED\nLos Angeles Police Department                                          480\nChicago Police Department                                              436\nLos Angeles County Sheriff's Department                                369\nCity of New York Police Department                                     336\nHouston Police Department                                              325\n                                                                      ... \nLea County Sheriff's Office, Hobbs Police Department                     1\nDenver Police Department, Jefferson County Sheriff's Office              1\nGermantown Police Department                                             1\nLos Angeles Police Department, U.S. Federal Bureau of Investigation      1\nAngola Police Department                                                 1\nName: Agency or agencies involved, Length: 6596, dtype: int64\n-------------------------------------\nHIGHEST LEVEL OF FORCE\nGunshot                              21359\nVehicle                               6326\nTasered                                920\nMedical emergency                      387\nAsphyxiated/Restrained                 322\nDrowned                                197\nDrug overdose                          183\nBeaten/Bludgeoned with instrument      178\nUndetermined                           101\nFell from a height                      79\nOther                                   61\nStabbed                                 51\nBurned/Smoke inhalation                 41\nChemical agent/Pepper spray             35\nRestrain/Asphyxiation                    1\nName: Highest level of force, dtype: int64\n-------------------------------------\nUID TEMPORARY\n12439.0    1\n12544.0    1\n29057.0    1\n12851.0    1\n12975.0    1\n          ..\n28790.0    1\n12755.0    1\n28996.0    1\n12222.0    1\n28726.0    1\nName: UID Temporary, Length: 2313, dtype: int64\n-------------------------------------\nNAME TEMPORARY\nName withheld by police    123\nJohn Doe 3                   3\nJohn Doe 1                   3\nJohn Doe 5                   3\nJohn Doe 2                   3\n                          ... \nJonathan Darsaw              1\nSeth W. O'Donnell            1\nElizabeth French             1\nDavid \"D.J.\" Stahl II        1\nTodd Christopher Jones       1\nName: Name Temporary, Length: 2180, dtype: int64\n-------------------------------------\nARMED/UNARMED\nArmed                  8596\nUnarmed                4951\nUncertain               310\nNone                      5\nUnarmed                   3\nDuplicate of 12360        1\nDuplicate of 12398        1\n                          1\nGunshot                   1\nDuplicate of 13457?       1\nDuplicate of 13419?       1\nName: Armed/Unarmed, dtype: int64\n-------------------------------------\nALLEGED WEAPON\nNone                                 4955\nFirearm/Handgun                      2886\nFirearm/Gun                          2410\nEdged weapon/Knife                   1178\nFirearm/Rifle                         546\n                                     ... \nOther/Replica sword                     1\nEdged weapon/Pocket knife               1\nOther/Glue gun                          1\nEdged weapon/Knuckles with blades       1\nFirearm/ Pellet gun                     1\nName: Alleged weapon, Length: 215, dtype: int64\n-------------------------------------\nAGGRESSIVE PHYSICAL MOVEMENT\nNone                                          3672\nBrandished weapon                             2855\nUsed weapon                                   2170\nSelf-inflicted injury                         1684\nAdvanced toward officer(s)                    1086\nStruggled                                      873\nUncertain                                      643\nSudden threatening movement                    326\nNone/Police alleged vehicular assault          309\nReached to waist                               140\nIntentional vehicular assault                   54\nNone/Police alleged vehicular assault.          15\nAdvanced upon officer(s)                        15\nSelf-inflicted Injury                            7\nUncertain/Police alleged vehicular assault       5\nUsed Weapon                                      4\nNone. Police alleged vehicular assault.          2\nSudden Threatening Movement                      1\nDuplicate of 13457?                              1\nDuplicate of 13419?                              1\nDuplicate of 12360                               1\nNone.                                            1\n                                                 1\nPolice allege vehicular assault                  1\nEdged weapon/Unspecified                         1\nDuplicate of 12398                               1\n Advanced toward officer(s)                      1\nReached to waist                                 1\nNone/Police allege vehicular assault             1\nName: Aggressive physical movement, dtype: int64\n-------------------------------------\nFLEEING/NOT FLEEING\nNot fleeing                                   8813\nFleeing/Vehicle                               3071\nFleeing/Foot                                  1543\nFleeing/Motorcycle                             266\nUncertain                                      137\nFleeing/Bicycle                                 16\nVehicle                                          7\nVehicle/Fleeing                                  2\nNone                                             2\nNot Fleeing                                      2\nDuplicate of 12398                               1\nFleeling/Vehicle                                 1\nFleeing/Veh                                      1\nMotorcycle                                       1\n                                                 1\nFleeing/Skateboard                               1\nUncertain/Police alleged vehicular assault       1\nVehicle/Motorcycle                               1\nDuplicate of 13457?                              1\nFoot                                             1\nFleeing/vehicle                                  1\nDuplicate of 13419?                              1\nDuplicate of 12360                               1\nName: Fleeing/Not fleeing, dtype: int64\n-------------------------------------\nDESCRIPTION TEMP\nA man in a stolen truck chased at a very high rate of speed by a Texas Highway Patrol sergeant smashed into a Chevy Suburban and killed six family members. Dead: father Jose Luis Ortiz, mother Olga Lidia Morales-Cardoza, and children Elias Ortiz, Fernanda Ortiz, Ricardo Ortiz and Jose Ortiz, ranging in age from 1 to 6. One 3-year-old survived with injuries.                                                                                                                                                                                                                                                                                                                                                                                              6\nBryan E. Sweatt, 27, shot and killed Chandra Fields, 26, Richard Allan Fields, 51, Melissa Maroney Fields, 49, Tariq Kenyon Robinson, 11, and William Asa Robinson, 9, during a standoff with deputies from the Greenwood County Sheriff's Office. It's possible one of these deaths occurred before deputies arrived.                                                                                                                                                                                                                                                                                                                                                                                                                                               6\nArmando Ivan Palomares-Castro, 36, was allegedly fleeing a police stop for border smuggling, killing five unidentified and undocumented immigrants upon crashing.                                                                                                                                                                                                                                                                                                                                                                                                                                                                                                                                                                                                    5\nFour people in two vehicles died in the collision of a grey Chevrolet Monte Carlo, driven by Stacy Garcia Gray, and a red sedan being chased by police, containing Shawnice Osborne, Larry Gilmore, and an unidentified third person. For two miles the sedan had fled officers after a shots-fired call and an attempted traffic stop. The crash and resulting fire was so intense that the make and model of the sedan was unclear.                                                                                                                                                                                                                                                                                                                                4\nManuel Rendon-Lucas, 17, was allegedly fleeing a police stop for speeding, killing five unidentified people upon crashing.                                                                                                                                                                                                                                                                                                                                                                                                                                                                                                                                                                                                                                           4\n                                                                                                                                                                                                                                                                                                                                                                                                                                                                                                                                                                                                                                                                                                                                                                    ..\nAt about 10:12 p.m., troopers Jeffrey Crofoot and Andrew Warner responded to a report of a vehicle in a ditch southeast of Caro. When they arrived, police said ambulance personnel told them the driver had walked away from the vehicle. The troopers followed footprints in the snow to a trailer. Police said Crofoot knocked on the door and announced his presence. A woman inside told Crofoot to enter. While Crofoot was talking to her, police said a naked man came out of the rear bedroom holding a gun to his chin. Police said Crofoot drew his own gun and told the man to drop his weapon. According to police, the woman walked toward the man in the kitchen, where he grabbed her and then shot himself under the chin. He died at the scene.    1\nShawn Stoddard-Nunez died when a Hayward police officer fired into the passenger side of a car he was riding in. Two of the shots struck him, one of them killing him, as the officer emptied his service weapon. Police say the officer fired because he believed the driver of the car, Arthur Pakman, was going to run him down as the officer stood outside his police cruiser.                                                                                                                                                                                                                                                                                                                                                                                  1\nRodgers got in altercation with unidentified man at night club around 2 a.m. He went to the parking lot retrieved a handgun from his car then shot at man as he exited night club. Two police officers on special duty at the night club confronted Rodgers and shot him multiple times. Grand Jury found shooting was justified.                                                                                                                                                                                                                                                                                                                                                                                                                                    1\nDavid D. Mims was killed when his car struck a tree while fleeing police. Police said officers had seen Mims run a stop sign.                                                                                                                                                                                                                                                                                                                                                                                                                                                                                                                                                                                                                                        1\nAn unidentified motorcyclist, 31, was allegedly fleeing a police stop for speeding and died because of a crash. Since Fatal Encounters could not find a supporting media internet link, this information comes from USA Today's December 1, 2016, Fatal Pursuits project, which uses police-reported data from the National Highway Traffic Safety Administration.                                                                                                                                                                                                                                                                                                                                                                                                   1\nName: Description Temp, Length: 782, dtype: int64\n-------------------------------------\nURL TEMP\nhttp://www.chron.com/news/article/SWAT-team-fatally-shoots-suspect-during-scene-at-4841867.php    1\nhttps://www.abqjournal.com/808551/da-clears-officers-in-2013-shooting.html                        1\nhttp://www.lapdonline.org/newsroom/news_view/54498                                                1\nhttps://drive.google.com/file/d/17NBpDGXWoPW1zURFq9geWwQquVs2U-VK/view?usp=sharing                1\nName: URL Temp, dtype: int64\n-------------------------------------\nBRIEF DESCRIPTION\nOn February 19, 2003, 21 people were killed and more than 50 people were injured during a stampede at the E2 nightclub after off-duty auxiliary officer Samuel Bone, who was working as private security that night. sprayed mace to break up a fight. The doors to the club were locked as people pushed their way to the exits. Berwyn auxiliary police officer reportedly worked security there regularly, but claimed he had just come to sell a flashlight to another guard when he got caught up in the stampede. A lawsuit alleged that Pellot ran an unlicensed company, Team 1 Security, that was on duty at the club. Chicago PD also opened an internal investigation into whether their officer, Donald D. Crayton, was on the club's security staff, which would violating a policy that officers were not allowed to moonlight at establishments that sell alcohol.    21\nMotorcycle club members, mostly Cossacks and Bandidos who were armed with pistols, bludgeons and knives, attacked each other at a biker rally that was being monitored by police. Officers Andy O'Neal, Michael Bucher and Heath Jackson fired 12 rifle rounds into the crowd, striking four of the nine men who died. Two of the dead were struck only by .223-caliber rifle bullets. Waco Police Department and the Texas Ranger Division investigated.                                                                                                                                                                                                                                                                                                                                                                                                                             9\nBorder Patrol agents stopped a minivan on U.S. 83. A man stepped out of the vehicle and ran. Smuggler Junior Benjamin Rodriguez, 15, sped away and crashed in Palmview. Three women and six men died. One woman may have been pregnant. Seven more were injured. Rodriguez was convicted of nine counts of manslaughter. The dead are not named in English-language media.                                                                                                                                                                                                                                                                                                                                                                                                                                                                                                            9\nDPS troopers were pursuing a red Dodge pickup truck, and it crashed head-on into a white Ford F-150. Eight undocumented passengers--seven men and one woman--from the Dodge pickup were killed. The driver and a child passenger from the Ford pickup and one undocumented passenger from the Dodge pickup were transported to a hospital in San Antonio. The alleged driver of the red pickup truck tried to leave but was apprehended. Sebastian Tovar, 24, of Austin, was charged with \"transporting illegal aliens resulting in death.\"                                                                                                                                                                                                                                                                                                                                           8\nA car stolen at knifepoint and doing 80 MPH on a rural road, chased by local police, crashed full-speed into a family's pickup. Three teens in the car (Oscar Esparza, Arthur Rivas, Richard Carrasco) and five Salazar children in the truck (Eric, Jochelyn Grace, Monique Janae, Michael Alexander, and Sienna Rose Salazar), all eight died.                                                                                                                                                                                                                                                                                                                                                                                                                                                                                                                                      8\n                                                                                                                                                                                                                                                                                                                                                                                                                                                                                                                                                                                                                                                                                                                                                                                                                                                                                     ..\nAround 8:45 a.m., police received a call regarding a man brandishing a gun during an argument with another person at a home. In addition to being armed, Troy Sullenger was also reported to have possibly been under the influence of alcohol or drugs. Sullenger left in a pickup truck just as police arrived, and police began immediate pursuit. Around 9:52 a.m., an armored police vehicle stopped the truck, and Sullenger armed with a handgun allegedly opened fire. Police shot and killed him.                                                                                                                                                                                                                                                                                                                                                                            1\nPolice were called out on a 5:30 a.m. 911 call and arrived to find Leonard shooting out of his residence windows at them. They returned fire and shot him fatally.                                                                                                                                                                                                                                                                                                                                                                                                                                                                                                                                                                                                                                                                                                                    1\nA San Bernardino officer and a man reportedly wanted for questioning regarding a murder exchanged gunfire. Shyheed Boyd allegedly was responsible for the Dec. 9 shooting death of Moreno Valley resident Donte Dejuan Carr, 40. The man was killed and the deputy reportedly injured. Details about the killing were withheld by police.                                                                                                                                                                                                                                                                                                                                                                                                                                                                                                                                             1\nDuring an in-vehicle standoff, a man reportedly pointed his firearm outside his windshield at the officers. One officer shot and killed him.                                                                                                                                                                                                                                                                                                                                                                                                                                                                                                                                                                                                                                                                                                                                          1\nAn unnamed woman died after she was detained by Baton Rouge police.                                                                                                                                                                                                                                                                                                                                                                                                                                                                                                                                                                                                                                                                                                                                                                                                                   1\nName: Brief description, Length: 28689, dtype: int64\n-------------------------------------\nDISPOSITIONS/EXCLUSIONS INTERNAL USE, NOT FOR ANALYSIS\nUnreported                                                                    10389\nPending investigation                                                          6996\nJustified                                                                      3988\nSuicide                                                                        2768\nCriminal                                                                       1409\n                                                                              ...  \nGrand jury/No bill or Cleared/Federal investigation closed without charges        1\nJustified by internal review/Civil suit/Family awarded money                      1\nPossibly suicide                                                                  1\nRuled accidental/Civil suit/Pending                                               1\nJustified by County Commonwealth's Attorney                                       1\nName: Dispositions/Exclusions INTERNAL USE, NOT FOR ANALYSIS, Length: 139, dtype: int64\n-------------------------------------\nINTENDED USE OF FORCE (DEVELOPING)\nDeadly force              18173\nVehic/Purs                 3783\nSuicide                    3184\nPursuit                    2135\nLess-than-lethal force     1710\nNo                          857\nVehicle                     352\nUndetermined                 48\nName: Intended use of force (Developing), dtype: int64\n-------------------------------------\nSUPPORTING DOCUMENT LINK\nhttp://www.usatoday.com/pages/interactives/blacks-killed-police-chases-higher-rate/                         75\nhttp://www.sltrib.com/news/1938044-155/shootings-by-police-vastly-underreported-in                          61\nhttp://www.cleveland.com/court-justice/index.ssf/2014/05/cleveland_police_officers_kill.html                31\nhttps://docs.google.com/document/d/1qabqMPPdvI4_PoDeuJgzTlzg7yKGQfMQSTC3r3bh18Y/edit?usp=sharing            21\nhttp://www.mydaytondailynews.com/data/news/police-shootings/                                                20\n                                                                                                            ..\nhttps://drive.google.com/file/d/0B-l9Ys3cd80fR1p6R3VFbUtzU0E/edit?usp=sharing                                1\nhttp://www.houmatoday.com/article/20111223/HURBLOG/111229843                                                 1\nhttp://kunm.org/post/ag-clears-last-two-mental-health-providers-fraud-opponents-sue-stop-transit-project     1\nhttp://archive.bangordailynews.com/2001/11/06/litchfield-man-killed-in-traffic-accident/                     1\nhttp://community.seattletimes.nwsource.com/archive/?date=20040909&slug=shooting09m                           1\nName: Supporting document link, Length: 16135, dtype: int64\n-------------------------------------\nFOREKNOWLEDGE OF MENTAL ILLNESS? INTERNAL USE, NOT FOR ANALYSIS\nNo                     20468\nUnknown                 4833\nYes                     3347\nDrug or alcohol use     1534\nName: Foreknowledge of mental illness? INTERNAL USE, NOT FOR ANALYSIS, dtype: int64\n-------------------------------------\n",
     "output_type": "stream"
    }
   ]
  },
  {
   "cell_type": "code",
   "metadata": {
    "deepnote_to_be_reexecuted": false,
    "execution_millis": 1,
    "execution_start": 1622249001935,
    "source_hash": "10cf5780",
    "tags": [],
    "cell_id": "00010-1adc915f-e993-4ac1-8f49-f90062321429",
    "deepnote_cell_type": "code"
   },
   "source": "\n# univariate distributions\n#for column in df.columns:\n#    if column not in exclusions and column not in useless_columns:\n#        sns.countplot(x=df[column], data=df, palette = 'ocean_r')\n#        print(\"------------------------------------------------------\")\n#        print(\"------------------------------------------------------\")\n#        plt.xticks(rotation=65)\n#        plt.show()\n",
   "execution_count": 14,
   "outputs": []
  },
  {
   "cell_type": "markdown",
   "source": "### Takeaways\n- There are a couple of unnecessary columns (begin with `Unnamed:`).\n- Messy column names need to be renamed for better readability.\n- A lot of columns are not needed due to nulls/unusable and will need to be dropped. \n- Most values in each column have a wide variety of text variation. These should be lowercased, stripped, and grouped. \n- Many nulls in dataset that need to be filled in or dropped.\n- Dummy variables and encoding needs to be done to pretty much all of the dataset in order to model/evaluate. \n- Possibly a good idea to create age bins.\n- Possible exploration with time series. Set `Date of Incident` as datetime index?\n",
   "metadata": {
    "tags": [],
    "cell_id": "00011-cd732520-c022-43ac-9503-0541d75152b1",
    "deepnote_cell_type": "markdown"
   }
  },
  {
   "cell_type": "markdown",
   "source": "\n___\n# Prepare and Split Data",
   "metadata": {
    "cell_id": "00012-514a441c-0384-4314-9813-3e4945fde458",
    "deepnote_cell_type": "markdown"
   }
  },
  {
   "cell_type": "code",
   "metadata": {
    "deepnote_to_be_reexecuted": false,
    "execution_millis": 258,
    "execution_start": 1622249001936,
    "source_hash": "2455ae76",
    "tags": [],
    "cell_id": "00013-dfb1f34c-a3b2-49c4-8033-a726a14f8feb",
    "deepnote_cell_type": "code"
   },
   "source": "#grab cleaned data frame from wrangle.py\ndf = w.wrangle_new_data(cached=True).drop(columns='Unnamed: 0')\ndf.head()",
   "execution_count": 15,
   "outputs": [
    {
     "output_type": "execute_result",
     "execution_count": 15,
     "data": {
      "application/vnd.deepnote.dataframe.v2+json": {
       "row_count": 5,
       "column_count": 37,
       "columns": [
        {
         "name": "unique_id",
         "dtype": "float64",
         "stats": {
          "unique_count": 5,
          "nan_count": 0,
          "min": "12167.0",
          "max": "14050.0",
          "histogram": [
           {
            "bin_start": 12167,
            "bin_end": 12355.3,
            "count": 4
           },
           {
            "bin_start": 12355.3,
            "bin_end": 12543.6,
            "count": 0
           },
           {
            "bin_start": 12543.6,
            "bin_end": 12731.9,
            "count": 0
           },
           {
            "bin_start": 12731.9,
            "bin_end": 12920.2,
            "count": 0
           },
           {
            "bin_start": 12920.2,
            "bin_end": 13108.5,
            "count": 0
           },
           {
            "bin_start": 13108.5,
            "bin_end": 13296.8,
            "count": 0
           },
           {
            "bin_start": 13296.8,
            "bin_end": 13485.1,
            "count": 0
           },
           {
            "bin_start": 13485.1,
            "bin_end": 13673.4,
            "count": 0
           },
           {
            "bin_start": 13673.4,
            "bin_end": 13861.7,
            "count": 0
           },
           {
            "bin_start": 13861.7,
            "bin_end": 14050,
            "count": 1
           }
          ]
         }
        },
        {
         "name": "age",
         "dtype": "float64",
         "stats": {
          "unique_count": 5,
          "nan_count": 0,
          "min": "12.0",
          "max": "31.0",
          "histogram": [
           {
            "bin_start": 12,
            "bin_end": 13.9,
            "count": 1
           },
           {
            "bin_start": 13.9,
            "bin_end": 15.8,
            "count": 0
           },
           {
            "bin_start": 15.8,
            "bin_end": 17.7,
            "count": 0
           },
           {
            "bin_start": 17.7,
            "bin_end": 19.6,
            "count": 0
           },
           {
            "bin_start": 19.6,
            "bin_end": 21.5,
            "count": 2
           },
           {
            "bin_start": 21.5,
            "bin_end": 23.4,
            "count": 0
           },
           {
            "bin_start": 23.4,
            "bin_end": 25.299999999999997,
            "count": 0
           },
           {
            "bin_start": 25.299999999999997,
            "bin_end": 27.2,
            "count": 1
           },
           {
            "bin_start": 27.2,
            "bin_end": 29.099999999999998,
            "count": 0
           },
           {
            "bin_start": 29.099999999999998,
            "bin_end": 31,
            "count": 1
           }
          ]
         }
        },
        {
         "name": "gender",
         "dtype": "object",
         "stats": {
          "unique_count": 2,
          "nan_count": 0,
          "categories": [
           {
            "name": "male",
            "count": 4
           },
           {
            "name": "female",
            "count": 1
           }
          ]
         }
        },
        {
         "name": "race",
         "dtype": "object",
         "stats": {
          "unique_count": 3,
          "nan_count": 0,
          "categories": [
           {
            "name": "black",
            "count": 2
           },
           {
            "name": "white",
            "count": 2
           },
           {
            "name": "hispanic",
            "count": 1
           }
          ]
         }
        },
        {
         "name": "date_of_injury_resulting_in_death_month_day_year",
         "dtype": "object",
         "stats": {
          "unique_count": 2,
          "nan_count": 0,
          "categories": [
           {
            "name": "2013-01-01",
            "count": 4
           },
           {
            "name": "2007-02-07",
            "count": 1
           }
          ]
         }
        },
        {
         "name": "location_of_death_zip_code",
         "dtype": "float64",
         "stats": {
          "unique_count": 4,
          "nan_count": 0,
          "min": "54838.0",
          "max": "78375.0",
          "histogram": [
           {
            "bin_start": 54838,
            "bin_end": 57191.7,
            "count": 2
           },
           {
            "bin_start": 57191.7,
            "bin_end": 59545.4,
            "count": 0
           },
           {
            "bin_start": 59545.4,
            "bin_end": 61899.1,
            "count": 0
           },
           {
            "bin_start": 61899.1,
            "bin_end": 64252.8,
            "count": 0
           },
           {
            "bin_start": 64252.8,
            "bin_end": 66606.5,
            "count": 0
           },
           {
            "bin_start": 66606.5,
            "bin_end": 68960.2,
            "count": 2
           },
           {
            "bin_start": 68960.2,
            "bin_end": 71313.9,
            "count": 0
           },
           {
            "bin_start": 71313.9,
            "bin_end": 73667.6,
            "count": 0
           },
           {
            "bin_start": 73667.6,
            "bin_end": 76021.3,
            "count": 0
           },
           {
            "bin_start": 76021.3,
            "bin_end": 78375,
            "count": 1
           }
          ]
         }
        },
        {
         "name": "agency_or_agencies_involved",
         "dtype": "object",
         "stats": {
          "unique_count": 4,
          "nan_count": 0,
          "categories": [
           {
            "name": "omaha police department",
            "count": 2
           },
           {
            "name": "texas department of public safety",
            "count": 1
           },
           {
            "name": "2 others",
            "count": 2
           }
          ]
         }
        },
        {
         "name": "highest_level_of_force",
         "dtype": "object",
         "stats": {
          "unique_count": 3,
          "nan_count": 0,
          "categories": [
           {
            "name": "gunshot",
            "count": 3
           },
           {
            "name": "medical emergency",
            "count": 1
           },
           {
            "name": "tasered",
            "count": 1
           }
          ]
         }
        },
        {
         "name": "armed_unarmed",
         "dtype": "object",
         "stats": {
          "unique_count": 2,
          "nan_count": 0,
          "categories": [
           {
            "name": "armed",
            "count": 3
           },
           {
            "name": "unarmed",
            "count": 2
           }
          ]
         }
        },
        {
         "name": "alleged_weapon",
         "dtype": "object",
         "stats": {
          "unique_count": 3,
          "nan_count": 0,
          "categories": [
           {
            "name": "no_weapon",
            "count": 2
           },
           {
            "name": "firearm",
            "count": 2
           },
           {
            "name": "edged weapon",
            "count": 1
           }
          ]
         }
        },
        {
         "name": "alleged_threat_lvl",
         "dtype": "object",
         "stats": {
          "unique_count": 2,
          "nan_count": 0,
          "categories": [
           {
            "name": "threat",
            "count": 4
           },
           {
            "name": "no_threat",
            "count": 1
           }
          ]
         }
        },
        {
         "name": "fleeing_not_fleeing",
         "dtype": "object",
         "stats": {
          "unique_count": 2,
          "nan_count": 0,
          "categories": [
           {
            "name": "not_fleeing",
            "count": 4
           },
           {
            "name": "fleeing",
            "count": 1
           }
          ]
         }
        },
        {
         "name": "brief_description",
         "dtype": "object",
         "stats": {
          "unique_count": 5,
          "nan_count": 0,
          "categories": [
           {
            "name": "police called to scene found ventry lunging with a knife at a woman. vetnry continued fighting after being shot by officer jerry kassen and tasered by another officer.",
            "count": 1
           },
           {
            "name": "a trooper pursued a truck driven by a 14-year-old male with two female passengers, leesa rene ramirez and an unnamed 12-year-old. the truck spun out and stopped. all three stepped out of the vehicle and ran away. ramirez collapsed. the trooper gave her cpr and called paramedics. ramirez died at the scene.",
            "count": 1
           },
           {
            "name": "3 others",
            "count": 3
           }
          ]
         }
        },
        {
         "name": "intended_use_of_force_developing",
         "dtype": "object",
         "stats": {
          "unique_count": 3,
          "nan_count": 0,
          "categories": [
           {
            "name": "deadly force",
            "count": 3
           },
           {
            "name": "no",
            "count": 1
           },
           {
            "name": "less-than-lethal force",
            "count": 1
           }
          ]
         }
        },
        {
         "name": "fleeing",
         "dtype": "float64",
         "stats": {
          "unique_count": 2,
          "nan_count": 0,
          "min": "0.0",
          "max": "1.0",
          "histogram": [
           {
            "bin_start": 0,
            "bin_end": 0.1,
            "count": 4
           },
           {
            "bin_start": 0.1,
            "bin_end": 0.2,
            "count": 0
           },
           {
            "bin_start": 0.2,
            "bin_end": 0.30000000000000004,
            "count": 0
           },
           {
            "bin_start": 0.30000000000000004,
            "bin_end": 0.4,
            "count": 0
           },
           {
            "bin_start": 0.4,
            "bin_end": 0.5,
            "count": 0
           },
           {
            "bin_start": 0.5,
            "bin_end": 0.6000000000000001,
            "count": 0
           },
           {
            "bin_start": 0.6000000000000001,
            "bin_end": 0.7000000000000001,
            "count": 0
           },
           {
            "bin_start": 0.7000000000000001,
            "bin_end": 0.8,
            "count": 0
           },
           {
            "bin_start": 0.8,
            "bin_end": 0.9,
            "count": 0
           },
           {
            "bin_start": 0.9,
            "bin_end": 1,
            "count": 1
           }
          ]
         }
        },
        {
         "name": "age_bins",
         "dtype": "object",
         "stats": {
          "unique_count": 3,
          "nan_count": 0,
          "categories": [
           {
            "name": "18-24",
            "count": 2
           },
           {
            "name": "25-34",
            "count": 2
           },
           {
            "name": "12-17",
            "count": 1
           }
          ]
         }
        },
        {
         "name": "is_asian_pacific islander",
         "dtype": "int64",
         "stats": {
          "unique_count": 1,
          "nan_count": 0,
          "min": "0",
          "max": "0",
          "histogram": [
           {
            "bin_start": -0.5,
            "bin_end": -0.4,
            "count": 0
           },
           {
            "bin_start": -0.4,
            "bin_end": -0.3,
            "count": 0
           },
           {
            "bin_start": -0.3,
            "bin_end": -0.19999999999999996,
            "count": 0
           },
           {
            "bin_start": -0.19999999999999996,
            "bin_end": -0.09999999999999998,
            "count": 0
           },
           {
            "bin_start": -0.09999999999999998,
            "bin_end": 0,
            "count": 0
           },
           {
            "bin_start": 0,
            "bin_end": 0.10000000000000009,
            "count": 5
           },
           {
            "bin_start": 0.10000000000000009,
            "bin_end": 0.20000000000000007,
            "count": 0
           },
           {
            "bin_start": 0.20000000000000007,
            "bin_end": 0.30000000000000004,
            "count": 0
           },
           {
            "bin_start": 0.30000000000000004,
            "bin_end": 0.4,
            "count": 0
           },
           {
            "bin_start": 0.4,
            "bin_end": 0.5,
            "count": 0
           }
          ]
         }
        },
        {
         "name": "is_black",
         "dtype": "int64",
         "stats": {
          "unique_count": 2,
          "nan_count": 0,
          "min": "0",
          "max": "1",
          "histogram": [
           {
            "bin_start": 0,
            "bin_end": 0.1,
            "count": 3
           },
           {
            "bin_start": 0.1,
            "bin_end": 0.2,
            "count": 0
           },
           {
            "bin_start": 0.2,
            "bin_end": 0.30000000000000004,
            "count": 0
           },
           {
            "bin_start": 0.30000000000000004,
            "bin_end": 0.4,
            "count": 0
           },
           {
            "bin_start": 0.4,
            "bin_end": 0.5,
            "count": 0
           },
           {
            "bin_start": 0.5,
            "bin_end": 0.6000000000000001,
            "count": 0
           },
           {
            "bin_start": 0.6000000000000001,
            "bin_end": 0.7000000000000001,
            "count": 0
           },
           {
            "bin_start": 0.7000000000000001,
            "bin_end": 0.8,
            "count": 0
           },
           {
            "bin_start": 0.8,
            "bin_end": 0.9,
            "count": 0
           },
           {
            "bin_start": 0.9,
            "bin_end": 1,
            "count": 2
           }
          ]
         }
        },
        {
         "name": "is_hispanic",
         "dtype": "int64",
         "stats": {
          "unique_count": 2,
          "nan_count": 0,
          "min": "0",
          "max": "1",
          "histogram": [
           {
            "bin_start": 0,
            "bin_end": 0.1,
            "count": 4
           },
           {
            "bin_start": 0.1,
            "bin_end": 0.2,
            "count": 0
           },
           {
            "bin_start": 0.2,
            "bin_end": 0.30000000000000004,
            "count": 0
           },
           {
            "bin_start": 0.30000000000000004,
            "bin_end": 0.4,
            "count": 0
           },
           {
            "bin_start": 0.4,
            "bin_end": 0.5,
            "count": 0
           },
           {
            "bin_start": 0.5,
            "bin_end": 0.6000000000000001,
            "count": 0
           },
           {
            "bin_start": 0.6000000000000001,
            "bin_end": 0.7000000000000001,
            "count": 0
           },
           {
            "bin_start": 0.7000000000000001,
            "bin_end": 0.8,
            "count": 0
           },
           {
            "bin_start": 0.8,
            "bin_end": 0.9,
            "count": 0
           },
           {
            "bin_start": 0.9,
            "bin_end": 1,
            "count": 1
           }
          ]
         }
        },
        {
         "name": "is_middle eastern",
         "dtype": "int64",
         "stats": {
          "unique_count": 1,
          "nan_count": 0,
          "min": "0",
          "max": "0",
          "histogram": [
           {
            "bin_start": -0.5,
            "bin_end": -0.4,
            "count": 0
           },
           {
            "bin_start": -0.4,
            "bin_end": -0.3,
            "count": 0
           },
           {
            "bin_start": -0.3,
            "bin_end": -0.19999999999999996,
            "count": 0
           },
           {
            "bin_start": -0.19999999999999996,
            "bin_end": -0.09999999999999998,
            "count": 0
           },
           {
            "bin_start": -0.09999999999999998,
            "bin_end": 0,
            "count": 0
           },
           {
            "bin_start": 0,
            "bin_end": 0.10000000000000009,
            "count": 5
           },
           {
            "bin_start": 0.10000000000000009,
            "bin_end": 0.20000000000000007,
            "count": 0
           },
           {
            "bin_start": 0.20000000000000007,
            "bin_end": 0.30000000000000004,
            "count": 0
           },
           {
            "bin_start": 0.30000000000000004,
            "bin_end": 0.4,
            "count": 0
           },
           {
            "bin_start": 0.4,
            "bin_end": 0.5,
            "count": 0
           }
          ]
         }
        },
        {
         "name": "is_native_american",
         "dtype": "int64",
         "stats": {
          "unique_count": 1,
          "nan_count": 0,
          "min": "0",
          "max": "0",
          "histogram": [
           {
            "bin_start": -0.5,
            "bin_end": -0.4,
            "count": 0
           },
           {
            "bin_start": -0.4,
            "bin_end": -0.3,
            "count": 0
           },
           {
            "bin_start": -0.3,
            "bin_end": -0.19999999999999996,
            "count": 0
           },
           {
            "bin_start": -0.19999999999999996,
            "bin_end": -0.09999999999999998,
            "count": 0
           },
           {
            "bin_start": -0.09999999999999998,
            "bin_end": 0,
            "count": 0
           },
           {
            "bin_start": 0,
            "bin_end": 0.10000000000000009,
            "count": 5
           },
           {
            "bin_start": 0.10000000000000009,
            "bin_end": 0.20000000000000007,
            "count": 0
           },
           {
            "bin_start": 0.20000000000000007,
            "bin_end": 0.30000000000000004,
            "count": 0
           },
           {
            "bin_start": 0.30000000000000004,
            "bin_end": 0.4,
            "count": 0
           },
           {
            "bin_start": 0.4,
            "bin_end": 0.5,
            "count": 0
           }
          ]
         }
        },
        {
         "name": "is_unknown_race",
         "dtype": "int64",
         "stats": {
          "unique_count": 1,
          "nan_count": 0,
          "min": "0",
          "max": "0",
          "histogram": [
           {
            "bin_start": -0.5,
            "bin_end": -0.4,
            "count": 0
           },
           {
            "bin_start": -0.4,
            "bin_end": -0.3,
            "count": 0
           },
           {
            "bin_start": -0.3,
            "bin_end": -0.19999999999999996,
            "count": 0
           },
           {
            "bin_start": -0.19999999999999996,
            "bin_end": -0.09999999999999998,
            "count": 0
           },
           {
            "bin_start": -0.09999999999999998,
            "bin_end": 0,
            "count": 0
           },
           {
            "bin_start": 0,
            "bin_end": 0.10000000000000009,
            "count": 5
           },
           {
            "bin_start": 0.10000000000000009,
            "bin_end": 0.20000000000000007,
            "count": 0
           },
           {
            "bin_start": 0.20000000000000007,
            "bin_end": 0.30000000000000004,
            "count": 0
           },
           {
            "bin_start": 0.30000000000000004,
            "bin_end": 0.4,
            "count": 0
           },
           {
            "bin_start": 0.4,
            "bin_end": 0.5,
            "count": 0
           }
          ]
         }
        },
        {
         "name": "is_white",
         "dtype": "int64",
         "stats": {
          "unique_count": 2,
          "nan_count": 0,
          "min": "0",
          "max": "1",
          "histogram": [
           {
            "bin_start": 0,
            "bin_end": 0.1,
            "count": 3
           },
           {
            "bin_start": 0.1,
            "bin_end": 0.2,
            "count": 0
           },
           {
            "bin_start": 0.2,
            "bin_end": 0.30000000000000004,
            "count": 0
           },
           {
            "bin_start": 0.30000000000000004,
            "bin_end": 0.4,
            "count": 0
           },
           {
            "bin_start": 0.4,
            "bin_end": 0.5,
            "count": 0
           },
           {
            "bin_start": 0.5,
            "bin_end": 0.6000000000000001,
            "count": 0
           },
           {
            "bin_start": 0.6000000000000001,
            "bin_end": 0.7000000000000001,
            "count": 0
           },
           {
            "bin_start": 0.7000000000000001,
            "bin_end": 0.8,
            "count": 0
           },
           {
            "bin_start": 0.8,
            "bin_end": 0.9,
            "count": 0
           },
           {
            "bin_start": 0.9,
            "bin_end": 1,
            "count": 2
           }
          ]
         }
        },
        {
         "name": "is_unarmed",
         "dtype": "int64",
         "stats": {
          "unique_count": 2,
          "nan_count": 0,
          "min": "0",
          "max": "1",
          "histogram": [
           {
            "bin_start": 0,
            "bin_end": 0.1,
            "count": 3
           },
           {
            "bin_start": 0.1,
            "bin_end": 0.2,
            "count": 0
           },
           {
            "bin_start": 0.2,
            "bin_end": 0.30000000000000004,
            "count": 0
           },
           {
            "bin_start": 0.30000000000000004,
            "bin_end": 0.4,
            "count": 0
           },
           {
            "bin_start": 0.4,
            "bin_end": 0.5,
            "count": 0
           },
           {
            "bin_start": 0.5,
            "bin_end": 0.6000000000000001,
            "count": 0
           },
           {
            "bin_start": 0.6000000000000001,
            "bin_end": 0.7000000000000001,
            "count": 0
           },
           {
            "bin_start": 0.7000000000000001,
            "bin_end": 0.8,
            "count": 0
           },
           {
            "bin_start": 0.8,
            "bin_end": 0.9,
            "count": 0
           },
           {
            "bin_start": 0.9,
            "bin_end": 1,
            "count": 2
           }
          ]
         }
        },
        {
         "name": "had_blunt object",
         "dtype": "int64",
         "stats": {
          "unique_count": 1,
          "nan_count": 0,
          "min": "0",
          "max": "0",
          "histogram": [
           {
            "bin_start": -0.5,
            "bin_end": -0.4,
            "count": 0
           },
           {
            "bin_start": -0.4,
            "bin_end": -0.3,
            "count": 0
           },
           {
            "bin_start": -0.3,
            "bin_end": -0.19999999999999996,
            "count": 0
           },
           {
            "bin_start": -0.19999999999999996,
            "bin_end": -0.09999999999999998,
            "count": 0
           },
           {
            "bin_start": -0.09999999999999998,
            "bin_end": 0,
            "count": 0
           },
           {
            "bin_start": 0,
            "bin_end": 0.10000000000000009,
            "count": 5
           },
           {
            "bin_start": 0.10000000000000009,
            "bin_end": 0.20000000000000007,
            "count": 0
           },
           {
            "bin_start": 0.20000000000000007,
            "bin_end": 0.30000000000000004,
            "count": 0
           },
           {
            "bin_start": 0.30000000000000004,
            "bin_end": 0.4,
            "count": 0
           },
           {
            "bin_start": 0.4,
            "bin_end": 0.5,
            "count": 0
           }
          ]
         }
        },
        {
         "name": "had_edged weapon",
         "dtype": "int64",
         "stats": {
          "unique_count": 2,
          "nan_count": 0,
          "min": "0",
          "max": "1",
          "histogram": [
           {
            "bin_start": 0,
            "bin_end": 0.1,
            "count": 4
           },
           {
            "bin_start": 0.1,
            "bin_end": 0.2,
            "count": 0
           },
           {
            "bin_start": 0.2,
            "bin_end": 0.30000000000000004,
            "count": 0
           },
           {
            "bin_start": 0.30000000000000004,
            "bin_end": 0.4,
            "count": 0
           },
           {
            "bin_start": 0.4,
            "bin_end": 0.5,
            "count": 0
           },
           {
            "bin_start": 0.5,
            "bin_end": 0.6000000000000001,
            "count": 0
           },
           {
            "bin_start": 0.6000000000000001,
            "bin_end": 0.7000000000000001,
            "count": 0
           },
           {
            "bin_start": 0.7000000000000001,
            "bin_end": 0.8,
            "count": 0
           },
           {
            "bin_start": 0.8,
            "bin_end": 0.9,
            "count": 0
           },
           {
            "bin_start": 0.9,
            "bin_end": 1,
            "count": 1
           }
          ]
         }
        },
        {
         "name": "had_firearm",
         "dtype": "int64",
         "stats": {
          "unique_count": 2,
          "nan_count": 0,
          "min": "0",
          "max": "1",
          "histogram": [
           {
            "bin_start": 0,
            "bin_end": 0.1,
            "count": 3
           },
           {
            "bin_start": 0.1,
            "bin_end": 0.2,
            "count": 0
           },
           {
            "bin_start": 0.2,
            "bin_end": 0.30000000000000004,
            "count": 0
           },
           {
            "bin_start": 0.30000000000000004,
            "bin_end": 0.4,
            "count": 0
           },
           {
            "bin_start": 0.4,
            "bin_end": 0.5,
            "count": 0
           },
           {
            "bin_start": 0.5,
            "bin_end": 0.6000000000000001,
            "count": 0
           },
           {
            "bin_start": 0.6000000000000001,
            "bin_end": 0.7000000000000001,
            "count": 0
           },
           {
            "bin_start": 0.7000000000000001,
            "bin_end": 0.8,
            "count": 0
           },
           {
            "bin_start": 0.8,
            "bin_end": 0.9,
            "count": 0
           },
           {
            "bin_start": 0.9,
            "bin_end": 1,
            "count": 2
           }
          ]
         }
        },
        {
         "name": "had_no_weapon",
         "dtype": "int64",
         "stats": {
          "unique_count": 2,
          "nan_count": 0,
          "min": "0",
          "max": "1",
          "histogram": [
           {
            "bin_start": 0,
            "bin_end": 0.1,
            "count": 3
           },
           {
            "bin_start": 0.1,
            "bin_end": 0.2,
            "count": 0
           },
           {
            "bin_start": 0.2,
            "bin_end": 0.30000000000000004,
            "count": 0
           },
           {
            "bin_start": 0.30000000000000004,
            "bin_end": 0.4,
            "count": 0
           },
           {
            "bin_start": 0.4,
            "bin_end": 0.5,
            "count": 0
           },
           {
            "bin_start": 0.5,
            "bin_end": 0.6000000000000001,
            "count": 0
           },
           {
            "bin_start": 0.6000000000000001,
            "bin_end": 0.7000000000000001,
            "count": 0
           },
           {
            "bin_start": 0.7000000000000001,
            "bin_end": 0.8,
            "count": 0
           },
           {
            "bin_start": 0.8,
            "bin_end": 0.9,
            "count": 0
           },
           {
            "bin_start": 0.9,
            "bin_end": 1,
            "count": 2
           }
          ]
         }
        },
        {
         "name": "had_other_weapon",
         "dtype": "int64",
         "stats": {
          "unique_count": 1,
          "nan_count": 0,
          "min": "0",
          "max": "0",
          "histogram": [
           {
            "bin_start": -0.5,
            "bin_end": -0.4,
            "count": 0
           },
           {
            "bin_start": -0.4,
            "bin_end": -0.3,
            "count": 0
           },
           {
            "bin_start": -0.3,
            "bin_end": -0.19999999999999996,
            "count": 0
           },
           {
            "bin_start": -0.19999999999999996,
            "bin_end": -0.09999999999999998,
            "count": 0
           },
           {
            "bin_start": -0.09999999999999998,
            "bin_end": 0,
            "count": 0
           },
           {
            "bin_start": 0,
            "bin_end": 0.10000000000000009,
            "count": 5
           },
           {
            "bin_start": 0.10000000000000009,
            "bin_end": 0.20000000000000007,
            "count": 0
           },
           {
            "bin_start": 0.20000000000000007,
            "bin_end": 0.30000000000000004,
            "count": 0
           },
           {
            "bin_start": 0.30000000000000004,
            "bin_end": 0.4,
            "count": 0
           },
           {
            "bin_start": 0.4,
            "bin_end": 0.5,
            "count": 0
           }
          ]
         }
        },
        {
         "name": "under 12",
         "dtype": "float64",
         "stats": {
          "unique_count": 1,
          "nan_count": 0,
          "min": "0.0",
          "max": "0.0",
          "histogram": [
           {
            "bin_start": -0.5,
            "bin_end": -0.4,
            "count": 0
           },
           {
            "bin_start": -0.4,
            "bin_end": -0.3,
            "count": 0
           },
           {
            "bin_start": -0.3,
            "bin_end": -0.19999999999999996,
            "count": 0
           },
           {
            "bin_start": -0.19999999999999996,
            "bin_end": -0.09999999999999998,
            "count": 0
           },
           {
            "bin_start": -0.09999999999999998,
            "bin_end": 0,
            "count": 0
           },
           {
            "bin_start": 0,
            "bin_end": 0.10000000000000009,
            "count": 5
           },
           {
            "bin_start": 0.10000000000000009,
            "bin_end": 0.20000000000000007,
            "count": 0
           },
           {
            "bin_start": 0.20000000000000007,
            "bin_end": 0.30000000000000004,
            "count": 0
           },
           {
            "bin_start": 0.30000000000000004,
            "bin_end": 0.4,
            "count": 0
           },
           {
            "bin_start": 0.4,
            "bin_end": 0.5,
            "count": 0
           }
          ]
         }
        },
        {
         "name": "12-17",
         "dtype": "float64",
         "stats": {
          "unique_count": 2,
          "nan_count": 0,
          "min": "0.0",
          "max": "1.0",
          "histogram": [
           {
            "bin_start": 0,
            "bin_end": 0.1,
            "count": 4
           },
           {
            "bin_start": 0.1,
            "bin_end": 0.2,
            "count": 0
           },
           {
            "bin_start": 0.2,
            "bin_end": 0.30000000000000004,
            "count": 0
           },
           {
            "bin_start": 0.30000000000000004,
            "bin_end": 0.4,
            "count": 0
           },
           {
            "bin_start": 0.4,
            "bin_end": 0.5,
            "count": 0
           },
           {
            "bin_start": 0.5,
            "bin_end": 0.6000000000000001,
            "count": 0
           },
           {
            "bin_start": 0.6000000000000001,
            "bin_end": 0.7000000000000001,
            "count": 0
           },
           {
            "bin_start": 0.7000000000000001,
            "bin_end": 0.8,
            "count": 0
           },
           {
            "bin_start": 0.8,
            "bin_end": 0.9,
            "count": 0
           },
           {
            "bin_start": 0.9,
            "bin_end": 1,
            "count": 1
           }
          ]
         }
        },
        {
         "name": "18-24",
         "dtype": "float64",
         "stats": {
          "unique_count": 2,
          "nan_count": 0,
          "min": "0.0",
          "max": "1.0",
          "histogram": [
           {
            "bin_start": 0,
            "bin_end": 0.1,
            "count": 3
           },
           {
            "bin_start": 0.1,
            "bin_end": 0.2,
            "count": 0
           },
           {
            "bin_start": 0.2,
            "bin_end": 0.30000000000000004,
            "count": 0
           },
           {
            "bin_start": 0.30000000000000004,
            "bin_end": 0.4,
            "count": 0
           },
           {
            "bin_start": 0.4,
            "bin_end": 0.5,
            "count": 0
           },
           {
            "bin_start": 0.5,
            "bin_end": 0.6000000000000001,
            "count": 0
           },
           {
            "bin_start": 0.6000000000000001,
            "bin_end": 0.7000000000000001,
            "count": 0
           },
           {
            "bin_start": 0.7000000000000001,
            "bin_end": 0.8,
            "count": 0
           },
           {
            "bin_start": 0.8,
            "bin_end": 0.9,
            "count": 0
           },
           {
            "bin_start": 0.9,
            "bin_end": 1,
            "count": 2
           }
          ]
         }
        },
        {
         "name": "25-34",
         "dtype": "float64",
         "stats": {
          "unique_count": 2,
          "nan_count": 0,
          "min": "0.0",
          "max": "1.0",
          "histogram": [
           {
            "bin_start": 0,
            "bin_end": 0.1,
            "count": 3
           },
           {
            "bin_start": 0.1,
            "bin_end": 0.2,
            "count": 0
           },
           {
            "bin_start": 0.2,
            "bin_end": 0.30000000000000004,
            "count": 0
           },
           {
            "bin_start": 0.30000000000000004,
            "bin_end": 0.4,
            "count": 0
           },
           {
            "bin_start": 0.4,
            "bin_end": 0.5,
            "count": 0
           },
           {
            "bin_start": 0.5,
            "bin_end": 0.6000000000000001,
            "count": 0
           },
           {
            "bin_start": 0.6000000000000001,
            "bin_end": 0.7000000000000001,
            "count": 0
           },
           {
            "bin_start": 0.7000000000000001,
            "bin_end": 0.8,
            "count": 0
           },
           {
            "bin_start": 0.8,
            "bin_end": 0.9,
            "count": 0
           },
           {
            "bin_start": 0.9,
            "bin_end": 1,
            "count": 2
           }
          ]
         }
        },
        {
         "name": "35-44",
         "dtype": "float64",
         "stats": {
          "unique_count": 1,
          "nan_count": 0,
          "min": "0.0",
          "max": "0.0",
          "histogram": [
           {
            "bin_start": -0.5,
            "bin_end": -0.4,
            "count": 0
           },
           {
            "bin_start": -0.4,
            "bin_end": -0.3,
            "count": 0
           },
           {
            "bin_start": -0.3,
            "bin_end": -0.19999999999999996,
            "count": 0
           },
           {
            "bin_start": -0.19999999999999996,
            "bin_end": -0.09999999999999998,
            "count": 0
           },
           {
            "bin_start": -0.09999999999999998,
            "bin_end": 0,
            "count": 0
           },
           {
            "bin_start": 0,
            "bin_end": 0.10000000000000009,
            "count": 5
           },
           {
            "bin_start": 0.10000000000000009,
            "bin_end": 0.20000000000000007,
            "count": 0
           },
           {
            "bin_start": 0.20000000000000007,
            "bin_end": 0.30000000000000004,
            "count": 0
           },
           {
            "bin_start": 0.30000000000000004,
            "bin_end": 0.4,
            "count": 0
           },
           {
            "bin_start": 0.4,
            "bin_end": 0.5,
            "count": 0
           }
          ]
         }
        },
        {
         "name": "45-54",
         "dtype": "float64",
         "stats": {
          "unique_count": 1,
          "nan_count": 0,
          "min": "0.0",
          "max": "0.0",
          "histogram": [
           {
            "bin_start": -0.5,
            "bin_end": -0.4,
            "count": 0
           },
           {
            "bin_start": -0.4,
            "bin_end": -0.3,
            "count": 0
           },
           {
            "bin_start": -0.3,
            "bin_end": -0.19999999999999996,
            "count": 0
           },
           {
            "bin_start": -0.19999999999999996,
            "bin_end": -0.09999999999999998,
            "count": 0
           },
           {
            "bin_start": -0.09999999999999998,
            "bin_end": 0,
            "count": 0
           },
           {
            "bin_start": 0,
            "bin_end": 0.10000000000000009,
            "count": 5
           },
           {
            "bin_start": 0.10000000000000009,
            "bin_end": 0.20000000000000007,
            "count": 0
           },
           {
            "bin_start": 0.20000000000000007,
            "bin_end": 0.30000000000000004,
            "count": 0
           },
           {
            "bin_start": 0.30000000000000004,
            "bin_end": 0.4,
            "count": 0
           },
           {
            "bin_start": 0.4,
            "bin_end": 0.5,
            "count": 0
           }
          ]
         }
        },
        {
         "name": "55-64",
         "dtype": "float64",
         "stats": {
          "unique_count": 1,
          "nan_count": 0,
          "min": "0.0",
          "max": "0.0",
          "histogram": [
           {
            "bin_start": -0.5,
            "bin_end": -0.4,
            "count": 0
           },
           {
            "bin_start": -0.4,
            "bin_end": -0.3,
            "count": 0
           },
           {
            "bin_start": -0.3,
            "bin_end": -0.19999999999999996,
            "count": 0
           },
           {
            "bin_start": -0.19999999999999996,
            "bin_end": -0.09999999999999998,
            "count": 0
           },
           {
            "bin_start": -0.09999999999999998,
            "bin_end": 0,
            "count": 0
           },
           {
            "bin_start": 0,
            "bin_end": 0.10000000000000009,
            "count": 5
           },
           {
            "bin_start": 0.10000000000000009,
            "bin_end": 0.20000000000000007,
            "count": 0
           },
           {
            "bin_start": 0.20000000000000007,
            "bin_end": 0.30000000000000004,
            "count": 0
           },
           {
            "bin_start": 0.30000000000000004,
            "bin_end": 0.4,
            "count": 0
           },
           {
            "bin_start": 0.4,
            "bin_end": 0.5,
            "count": 0
           }
          ]
         }
        },
        {
         "name": "65+",
         "dtype": "float64",
         "stats": {
          "unique_count": 1,
          "nan_count": 0,
          "min": "0.0",
          "max": "0.0",
          "histogram": [
           {
            "bin_start": -0.5,
            "bin_end": -0.4,
            "count": 0
           },
           {
            "bin_start": -0.4,
            "bin_end": -0.3,
            "count": 0
           },
           {
            "bin_start": -0.3,
            "bin_end": -0.19999999999999996,
            "count": 0
           },
           {
            "bin_start": -0.19999999999999996,
            "bin_end": -0.09999999999999998,
            "count": 0
           },
           {
            "bin_start": -0.09999999999999998,
            "bin_end": 0,
            "count": 0
           },
           {
            "bin_start": 0,
            "bin_end": 0.10000000000000009,
            "count": 5
           },
           {
            "bin_start": 0.10000000000000009,
            "bin_end": 0.20000000000000007,
            "count": 0
           },
           {
            "bin_start": 0.20000000000000007,
            "bin_end": 0.30000000000000004,
            "count": 0
           },
           {
            "bin_start": 0.30000000000000004,
            "bin_end": 0.4,
            "count": 0
           },
           {
            "bin_start": 0.4,
            "bin_end": 0.5,
            "count": 0
           }
          ]
         }
        },
        {
         "name": "_deepnote_index_column",
         "dtype": "int64"
        }
       ],
       "rows_top": [
        {
         "unique_id": 14050,
         "age": 20,
         "gender": "male",
         "race": "black",
         "date_of_injury_resulting_in_death_month_day_year": "2007-02-07",
         "location_of_death_zip_code": 68111,
         "agency_or_agencies_involved": "omaha police department",
         "highest_level_of_force": "gunshot",
         "armed_unarmed": "armed",
         "alleged_weapon": "edged weapon",
         "alleged_threat_lvl": "threat",
         "fleeing_not_fleeing": "not_fleeing",
         "brief_description": "police called to scene found ventry lunging with a knife at a woman. vetnry continued fighting afte…",
         "intended_use_of_force_developing": "deadly force",
         "fleeing": 0,
         "age_bins": "18-24",
         "is_asian_pacific islander": 0,
         "is_black": 1,
         "is_hispanic": 0,
         "is_middle eastern": 0,
         "is_native_american": 0,
         "is_unknown_race": 0,
         "is_white": 0,
         "is_unarmed": 0,
         "had_blunt object": 0,
         "had_edged weapon": 1,
         "had_firearm": 0,
         "had_no_weapon": 0,
         "had_other_weapon": 0,
         "under 12": 0,
         "12-17": 0,
         "18-24": 1,
         "25-34": 0,
         "35-44": 0,
         "45-54": 0,
         "55-64": 0,
         "65+": 0,
         "_deepnote_index_column": 0
        },
        {
         "unique_id": 12167,
         "age": 12,
         "gender": "female",
         "race": "hispanic",
         "date_of_injury_resulting_in_death_month_day_year": "2013-01-01",
         "location_of_death_zip_code": 78375,
         "agency_or_agencies_involved": "texas department of public safety",
         "highest_level_of_force": "medical emergency",
         "armed_unarmed": "unarmed",
         "alleged_weapon": "no_weapon",
         "alleged_threat_lvl": "no_threat",
         "fleeing_not_fleeing": "fleeing",
         "brief_description": "a trooper pursued a truck driven by a 14-year-old male with two female passengers, leesa rene ramir…",
         "intended_use_of_force_developing": "no",
         "fleeing": 1,
         "age_bins": "12-17",
         "is_asian_pacific islander": 0,
         "is_black": 0,
         "is_hispanic": 1,
         "is_middle eastern": 0,
         "is_native_american": 0,
         "is_unknown_race": 0,
         "is_white": 0,
         "is_unarmed": 1,
         "had_blunt object": 0,
         "had_edged weapon": 0,
         "had_firearm": 0,
         "had_no_weapon": 1,
         "had_other_weapon": 0,
         "under 12": 0,
         "12-17": 1,
         "18-24": 0,
         "25-34": 0,
         "35-44": 0,
         "45-54": 0,
         "55-64": 0,
         "65+": 0,
         "_deepnote_index_column": 1
        },
        {
         "unique_id": 12171,
         "age": 26,
         "gender": "male",
         "race": "white",
         "date_of_injury_resulting_in_death_month_day_year": "2013-01-01",
         "location_of_death_zip_code": 56001,
         "agency_or_agencies_involved": "mankato department of public safety",
         "highest_level_of_force": "tasered",
         "armed_unarmed": "unarmed",
         "alleged_weapon": "no_weapon",
         "alleged_threat_lvl": "threat",
         "fleeing_not_fleeing": "not_fleeing",
         "brief_description": "former combat medic andrew derek layton was found unconscious at 4:45 a.m. on new year's day in the…",
         "intended_use_of_force_developing": "less-than-lethal force",
         "fleeing": 0,
         "age_bins": "25-34",
         "is_asian_pacific islander": 0,
         "is_black": 0,
         "is_hispanic": 0,
         "is_middle eastern": 0,
         "is_native_american": 0,
         "is_unknown_race": 0,
         "is_white": 1,
         "is_unarmed": 1,
         "had_blunt object": 0,
         "had_edged weapon": 0,
         "had_firearm": 0,
         "had_no_weapon": 1,
         "had_other_weapon": 0,
         "under 12": 0,
         "12-17": 0,
         "18-24": 0,
         "25-34": 1,
         "35-44": 0,
         "45-54": 0,
         "55-64": 0,
         "65+": 0,
         "_deepnote_index_column": 2
        },
        {
         "unique_id": 12172,
         "age": 21,
         "gender": "male",
         "race": "white",
         "date_of_injury_resulting_in_death_month_day_year": "2013-01-01",
         "location_of_death_zip_code": 54838,
         "agency_or_agencies_involved": "douglas county sheriff's office",
         "highest_level_of_force": "gunshot",
         "armed_unarmed": "armed",
         "alleged_weapon": "firearm",
         "alleged_threat_lvl": "threat",
         "fleeing_not_fleeing": "not_fleeing",
         "brief_description": "deputies responded to a 911 call of shots fired in andrew l. closson's home. they set up a perimete…",
         "intended_use_of_force_developing": "deadly force",
         "fleeing": 0,
         "age_bins": "18-24",
         "is_asian_pacific islander": 0,
         "is_black": 0,
         "is_hispanic": 0,
         "is_middle eastern": 0,
         "is_native_american": 0,
         "is_unknown_race": 0,
         "is_white": 1,
         "is_unarmed": 0,
         "had_blunt object": 0,
         "had_edged weapon": 0,
         "had_firearm": 1,
         "had_no_weapon": 0,
         "had_other_weapon": 0,
         "under 12": 0,
         "12-17": 0,
         "18-24": 1,
         "25-34": 0,
         "35-44": 0,
         "45-54": 0,
         "55-64": 0,
         "65+": 0,
         "_deepnote_index_column": 3
        },
        {
         "unique_id": 12173,
         "age": 31,
         "gender": "male",
         "race": "black",
         "date_of_injury_resulting_in_death_month_day_year": "2013-01-01",
         "location_of_death_zip_code": 68111,
         "agency_or_agencies_involved": "omaha police department",
         "highest_level_of_force": "gunshot",
         "armed_unarmed": "armed",
         "alleged_weapon": "firearm",
         "alleged_threat_lvl": "threat",
         "fleeing_not_fleeing": "not_fleeing",
         "brief_description": "omaha police department responded to a 911 domestic disturbance call around 2am which indicated tha…",
         "intended_use_of_force_developing": "deadly force",
         "fleeing": 0,
         "age_bins": "25-34",
         "is_asian_pacific islander": 0,
         "is_black": 1,
         "is_hispanic": 0,
         "is_middle eastern": 0,
         "is_native_american": 0,
         "is_unknown_race": 0,
         "is_white": 0,
         "is_unarmed": 0,
         "had_blunt object": 0,
         "had_edged weapon": 0,
         "had_firearm": 1,
         "had_no_weapon": 0,
         "had_other_weapon": 0,
         "under 12": 0,
         "12-17": 0,
         "18-24": 0,
         "25-34": 1,
         "35-44": 0,
         "45-54": 0,
         "55-64": 0,
         "65+": 0,
         "_deepnote_index_column": 4
        }
       ],
       "rows_bottom": null
      },
      "text/plain": "   unique_id   age  gender      race  \\\n0    14050.0  20.0    male     black   \n1    12167.0  12.0  female  hispanic   \n2    12171.0  26.0    male     white   \n3    12172.0  21.0    male     white   \n4    12173.0  31.0    male     black   \n\n  date_of_injury_resulting_in_death_month_day_year  \\\n0                                       2007-02-07   \n1                                       2013-01-01   \n2                                       2013-01-01   \n3                                       2013-01-01   \n4                                       2013-01-01   \n\n   location_of_death_zip_code          agency_or_agencies_involved  \\\n0                     68111.0              omaha police department   \n1                     78375.0    texas department of public safety   \n2                     56001.0  mankato department of public safety   \n3                     54838.0      douglas county sheriff's office   \n4                     68111.0              omaha police department   \n\n  highest_level_of_force armed_unarmed alleged_weapon  ... had_no_weapon  \\\n0                gunshot         armed   edged weapon  ...             0   \n1      medical emergency       unarmed      no_weapon  ...             1   \n2                tasered       unarmed      no_weapon  ...             1   \n3                gunshot         armed        firearm  ...             0   \n4                gunshot         armed        firearm  ...             0   \n\n  had_other_weapon under 12 12-17  18-24 25-34  35-44  45-54  55-64  65+  \n0                0      0.0   0.0    1.0   0.0    0.0    0.0    0.0  0.0  \n1                0      0.0   1.0    0.0   0.0    0.0    0.0    0.0  0.0  \n2                0      0.0   0.0    0.0   1.0    0.0    0.0    0.0  0.0  \n3                0      0.0   0.0    1.0   0.0    0.0    0.0    0.0  0.0  \n4                0      0.0   0.0    0.0   1.0    0.0    0.0    0.0  0.0  \n\n[5 rows x 37 columns]",
      "text/html": "<div>\n<style scoped>\n    .dataframe tbody tr th:only-of-type {\n        vertical-align: middle;\n    }\n\n    .dataframe tbody tr th {\n        vertical-align: top;\n    }\n\n    .dataframe thead th {\n        text-align: right;\n    }\n</style>\n<table border=\"1\" class=\"dataframe\">\n  <thead>\n    <tr style=\"text-align: right;\">\n      <th></th>\n      <th>unique_id</th>\n      <th>age</th>\n      <th>gender</th>\n      <th>race</th>\n      <th>date_of_injury_resulting_in_death_month_day_year</th>\n      <th>location_of_death_zip_code</th>\n      <th>agency_or_agencies_involved</th>\n      <th>highest_level_of_force</th>\n      <th>armed_unarmed</th>\n      <th>alleged_weapon</th>\n      <th>...</th>\n      <th>had_no_weapon</th>\n      <th>had_other_weapon</th>\n      <th>under 12</th>\n      <th>12-17</th>\n      <th>18-24</th>\n      <th>25-34</th>\n      <th>35-44</th>\n      <th>45-54</th>\n      <th>55-64</th>\n      <th>65+</th>\n    </tr>\n  </thead>\n  <tbody>\n    <tr>\n      <th>0</th>\n      <td>14050.0</td>\n      <td>20.0</td>\n      <td>male</td>\n      <td>black</td>\n      <td>2007-02-07</td>\n      <td>68111.0</td>\n      <td>omaha police department</td>\n      <td>gunshot</td>\n      <td>armed</td>\n      <td>edged weapon</td>\n      <td>...</td>\n      <td>0</td>\n      <td>0</td>\n      <td>0.0</td>\n      <td>0.0</td>\n      <td>1.0</td>\n      <td>0.0</td>\n      <td>0.0</td>\n      <td>0.0</td>\n      <td>0.0</td>\n      <td>0.0</td>\n    </tr>\n    <tr>\n      <th>1</th>\n      <td>12167.0</td>\n      <td>12.0</td>\n      <td>female</td>\n      <td>hispanic</td>\n      <td>2013-01-01</td>\n      <td>78375.0</td>\n      <td>texas department of public safety</td>\n      <td>medical emergency</td>\n      <td>unarmed</td>\n      <td>no_weapon</td>\n      <td>...</td>\n      <td>1</td>\n      <td>0</td>\n      <td>0.0</td>\n      <td>1.0</td>\n      <td>0.0</td>\n      <td>0.0</td>\n      <td>0.0</td>\n      <td>0.0</td>\n      <td>0.0</td>\n      <td>0.0</td>\n    </tr>\n    <tr>\n      <th>2</th>\n      <td>12171.0</td>\n      <td>26.0</td>\n      <td>male</td>\n      <td>white</td>\n      <td>2013-01-01</td>\n      <td>56001.0</td>\n      <td>mankato department of public safety</td>\n      <td>tasered</td>\n      <td>unarmed</td>\n      <td>no_weapon</td>\n      <td>...</td>\n      <td>1</td>\n      <td>0</td>\n      <td>0.0</td>\n      <td>0.0</td>\n      <td>0.0</td>\n      <td>1.0</td>\n      <td>0.0</td>\n      <td>0.0</td>\n      <td>0.0</td>\n      <td>0.0</td>\n    </tr>\n    <tr>\n      <th>3</th>\n      <td>12172.0</td>\n      <td>21.0</td>\n      <td>male</td>\n      <td>white</td>\n      <td>2013-01-01</td>\n      <td>54838.0</td>\n      <td>douglas county sheriff's office</td>\n      <td>gunshot</td>\n      <td>armed</td>\n      <td>firearm</td>\n      <td>...</td>\n      <td>0</td>\n      <td>0</td>\n      <td>0.0</td>\n      <td>0.0</td>\n      <td>1.0</td>\n      <td>0.0</td>\n      <td>0.0</td>\n      <td>0.0</td>\n      <td>0.0</td>\n      <td>0.0</td>\n    </tr>\n    <tr>\n      <th>4</th>\n      <td>12173.0</td>\n      <td>31.0</td>\n      <td>male</td>\n      <td>black</td>\n      <td>2013-01-01</td>\n      <td>68111.0</td>\n      <td>omaha police department</td>\n      <td>gunshot</td>\n      <td>armed</td>\n      <td>firearm</td>\n      <td>...</td>\n      <td>0</td>\n      <td>0</td>\n      <td>0.0</td>\n      <td>0.0</td>\n      <td>0.0</td>\n      <td>1.0</td>\n      <td>0.0</td>\n      <td>0.0</td>\n      <td>0.0</td>\n      <td>0.0</td>\n    </tr>\n  </tbody>\n</table>\n<p>5 rows × 37 columns</p>\n</div>"
     },
     "metadata": {}
    }
   ]
  },
  {
   "cell_type": "code",
   "metadata": {
    "tags": [],
    "deepnote_to_be_reexecuted": false,
    "source_hash": "14f60b8f",
    "execution_start": 1622249002231,
    "execution_millis": 10,
    "cell_id": "00014-350c6c64-c3dc-40a4-b1ca-5b3f5d3d461b",
    "deepnote_cell_type": "code"
   },
   "source": "df.shape",
   "execution_count": 16,
   "outputs": [
    {
     "output_type": "execute_result",
     "execution_count": 16,
     "data": {
      "text/plain": "(13137, 37)"
     },
     "metadata": {}
    }
   ]
  },
  {
   "cell_type": "code",
   "metadata": {
    "tags": [],
    "deepnote_to_be_reexecuted": false,
    "source_hash": "1bd18b6b",
    "execution_start": 1622249002231,
    "execution_millis": 0,
    "cell_id": "00015-c0366029-f418-4602-82c9-744dc6482ad7",
    "deepnote_cell_type": "code"
   },
   "source": "df.dropna(inplace=True)",
   "execution_count": 17,
   "outputs": []
  },
  {
   "cell_type": "code",
   "metadata": {
    "tags": [],
    "deepnote_to_be_reexecuted": false,
    "source_hash": "f05bfa07",
    "execution_start": 1622249002232,
    "execution_millis": 0,
    "cell_id": "00016-027f7cfa-9b2d-4712-858a-e6c5c3e2409b",
    "deepnote_cell_type": "code"
   },
   "source": "df.rename(columns={'aggressive_physical_movement' : 'alleged_threat_lvl'}, inplace=True)",
   "execution_count": 18,
   "outputs": []
  },
  {
   "cell_type": "code",
   "metadata": {
    "deepnote_to_be_reexecuted": false,
    "execution_millis": 19,
    "execution_start": 1622249002256,
    "source_hash": "7dff3e6b",
    "tags": [],
    "cell_id": "00017-7a90fde6-eef7-4ff1-9b1e-ab1b2673b560",
    "deepnote_cell_type": "code"
   },
   "source": "#double check no nulls\ndf.isnull().sum()",
   "execution_count": 19,
   "outputs": [
    {
     "output_type": "execute_result",
     "execution_count": 19,
     "data": {
      "text/plain": "unique_id                                           0\nage                                                 0\ngender                                              0\nrace                                                0\ndate_of_injury_resulting_in_death_month_day_year    0\nlocation_of_death_zip_code                          0\nagency_or_agencies_involved                         0\nhighest_level_of_force                              0\narmed_unarmed                                       0\nalleged_weapon                                      0\nalleged_threat_lvl                                  0\nfleeing_not_fleeing                                 0\nbrief_description                                   0\nintended_use_of_force_developing                    0\nfleeing                                             0\nage_bins                                            0\nis_asian_pacific islander                           0\nis_black                                            0\nis_hispanic                                         0\nis_middle eastern                                   0\nis_native_american                                  0\nis_unknown_race                                     0\nis_white                                            0\nis_unarmed                                          0\nhad_blunt object                                    0\nhad_edged weapon                                    0\nhad_firearm                                         0\nhad_no_weapon                                       0\nhad_other_weapon                                    0\nunder 12                                            0\n12-17                                               0\n18-24                                               0\n25-34                                               0\n35-44                                               0\n45-54                                               0\n55-64                                               0\n65+                                                 0\ndtype: int64"
     },
     "metadata": {}
    }
   ]
  },
  {
   "cell_type": "code",
   "metadata": {
    "deepnote_to_be_reexecuted": false,
    "execution_millis": 21,
    "execution_start": 1622249002257,
    "source_hash": "3edc948f",
    "tags": [],
    "cell_id": "00018-7b7a0b17-f62d-46d4-9609-8cf22a72497e",
    "deepnote_cell_type": "code"
   },
   "source": "#double check data types\ndf.dtypes",
   "execution_count": 20,
   "outputs": [
    {
     "output_type": "execute_result",
     "execution_count": 20,
     "data": {
      "text/plain": "unique_id                                           float64\nage                                                 float64\ngender                                               object\nrace                                                 object\ndate_of_injury_resulting_in_death_month_day_year     object\nlocation_of_death_zip_code                          float64\nagency_or_agencies_involved                          object\nhighest_level_of_force                               object\narmed_unarmed                                        object\nalleged_weapon                                       object\nalleged_threat_lvl                                   object\nfleeing_not_fleeing                                  object\nbrief_description                                    object\nintended_use_of_force_developing                     object\nfleeing                                             float64\nage_bins                                             object\nis_asian_pacific islander                             int64\nis_black                                              int64\nis_hispanic                                           int64\nis_middle eastern                                     int64\nis_native_american                                    int64\nis_unknown_race                                       int64\nis_white                                              int64\nis_unarmed                                            int64\nhad_blunt object                                      int64\nhad_edged weapon                                      int64\nhad_firearm                                           int64\nhad_no_weapon                                         int64\nhad_other_weapon                                      int64\nunder 12                                            float64\n12-17                                               float64\n18-24                                               float64\n25-34                                               float64\n35-44                                               float64\n45-54                                               float64\n55-64                                               float64\n65+                                                 float64\ndtype: object"
     },
     "metadata": {}
    }
   ]
  },
  {
   "cell_type": "code",
   "metadata": {
    "tags": [],
    "cell_id": "00019-789f16d2-a170-43fa-8c49-5713a9a7fa00",
    "deepnote_to_be_reexecuted": false,
    "source_hash": "b1efd5d6",
    "execution_start": 1622249044127,
    "execution_millis": 12,
    "deepnote_cell_type": "code"
   },
   "source": "df.alleged_threat_lvl",
   "execution_count": 22,
   "outputs": [
    {
     "output_type": "execute_result",
     "execution_count": 22,
     "data": {
      "text/plain": "0                  threat\n1               no_threat\n2                  threat\n3                  threat\n4                  threat\n               ...       \n13132    ambiguous_threat\n13133           no_threat\n13134    ambiguous_threat\n13135           no_threat\n13136              threat\nName: alleged_threat_lvl, Length: 13137, dtype: object"
     },
     "metadata": {}
    }
   ]
  },
  {
   "cell_type": "code",
   "metadata": {
    "tags": [],
    "cell_id": "00019-6af7ddc4-36c4-4bd0-9956-ed3121fd99b5",
    "deepnote_to_be_reexecuted": false,
    "source_hash": "37d2ae54",
    "execution_start": 1622249423366,
    "execution_millis": 1,
    "deepnote_cell_type": "code"
   },
   "source": "from sklearn.preprocessing import OrdinalEncoder, LabelEncoder\ndf.alleged_threat_lvl = LabelEncoder().fit_transform(df.alleged_threat_lvl)",
   "execution_count": 24,
   "outputs": []
  },
  {
   "cell_type": "code",
   "source": "df.head(2)",
   "metadata": {
    "tags": [],
    "cell_id": "00021-6fb37d6f-107d-4950-b96b-72325ac3b74c",
    "deepnote_to_be_reexecuted": false,
    "source_hash": "6cd8acfd",
    "execution_start": 1622249431877,
    "execution_millis": 125,
    "deepnote_cell_type": "code"
   },
   "outputs": [
    {
     "output_type": "execute_result",
     "execution_count": 25,
     "data": {
      "application/vnd.deepnote.dataframe.v2+json": {
       "row_count": 2,
       "column_count": 37,
       "columns": [
        {
         "name": "unique_id",
         "dtype": "float64",
         "stats": {
          "unique_count": 2,
          "nan_count": 0,
          "min": "12167.0",
          "max": "14050.0",
          "histogram": [
           {
            "bin_start": 12167,
            "bin_end": 12355.3,
            "count": 1
           },
           {
            "bin_start": 12355.3,
            "bin_end": 12543.6,
            "count": 0
           },
           {
            "bin_start": 12543.6,
            "bin_end": 12731.9,
            "count": 0
           },
           {
            "bin_start": 12731.9,
            "bin_end": 12920.2,
            "count": 0
           },
           {
            "bin_start": 12920.2,
            "bin_end": 13108.5,
            "count": 0
           },
           {
            "bin_start": 13108.5,
            "bin_end": 13296.8,
            "count": 0
           },
           {
            "bin_start": 13296.8,
            "bin_end": 13485.1,
            "count": 0
           },
           {
            "bin_start": 13485.1,
            "bin_end": 13673.4,
            "count": 0
           },
           {
            "bin_start": 13673.4,
            "bin_end": 13861.7,
            "count": 0
           },
           {
            "bin_start": 13861.7,
            "bin_end": 14050,
            "count": 1
           }
          ]
         }
        },
        {
         "name": "age",
         "dtype": "float64",
         "stats": {
          "unique_count": 2,
          "nan_count": 0,
          "min": "12.0",
          "max": "20.0",
          "histogram": [
           {
            "bin_start": 12,
            "bin_end": 12.8,
            "count": 1
           },
           {
            "bin_start": 12.8,
            "bin_end": 13.6,
            "count": 0
           },
           {
            "bin_start": 13.6,
            "bin_end": 14.4,
            "count": 0
           },
           {
            "bin_start": 14.4,
            "bin_end": 15.2,
            "count": 0
           },
           {
            "bin_start": 15.2,
            "bin_end": 16,
            "count": 0
           },
           {
            "bin_start": 16,
            "bin_end": 16.8,
            "count": 0
           },
           {
            "bin_start": 16.8,
            "bin_end": 17.6,
            "count": 0
           },
           {
            "bin_start": 17.6,
            "bin_end": 18.4,
            "count": 0
           },
           {
            "bin_start": 18.4,
            "bin_end": 19.2,
            "count": 0
           },
           {
            "bin_start": 19.2,
            "bin_end": 20,
            "count": 1
           }
          ]
         }
        },
        {
         "name": "gender",
         "dtype": "object",
         "stats": {
          "unique_count": 2,
          "nan_count": 0,
          "categories": [
           {
            "name": "male",
            "count": 1
           },
           {
            "name": "female",
            "count": 1
           }
          ]
         }
        },
        {
         "name": "race",
         "dtype": "object",
         "stats": {
          "unique_count": 2,
          "nan_count": 0,
          "categories": [
           {
            "name": "black",
            "count": 1
           },
           {
            "name": "hispanic",
            "count": 1
           }
          ]
         }
        },
        {
         "name": "date_of_injury_resulting_in_death_month_day_year",
         "dtype": "object",
         "stats": {
          "unique_count": 2,
          "nan_count": 0,
          "categories": [
           {
            "name": "2007-02-07",
            "count": 1
           },
           {
            "name": "2013-01-01",
            "count": 1
           }
          ]
         }
        },
        {
         "name": "location_of_death_zip_code",
         "dtype": "float64",
         "stats": {
          "unique_count": 2,
          "nan_count": 0,
          "min": "68111.0",
          "max": "78375.0",
          "histogram": [
           {
            "bin_start": 68111,
            "bin_end": 69137.4,
            "count": 1
           },
           {
            "bin_start": 69137.4,
            "bin_end": 70163.8,
            "count": 0
           },
           {
            "bin_start": 70163.8,
            "bin_end": 71190.2,
            "count": 0
           },
           {
            "bin_start": 71190.2,
            "bin_end": 72216.6,
            "count": 0
           },
           {
            "bin_start": 72216.6,
            "bin_end": 73243,
            "count": 0
           },
           {
            "bin_start": 73243,
            "bin_end": 74269.4,
            "count": 0
           },
           {
            "bin_start": 74269.4,
            "bin_end": 75295.8,
            "count": 0
           },
           {
            "bin_start": 75295.8,
            "bin_end": 76322.2,
            "count": 0
           },
           {
            "bin_start": 76322.2,
            "bin_end": 77348.6,
            "count": 0
           },
           {
            "bin_start": 77348.6,
            "bin_end": 78375,
            "count": 1
           }
          ]
         }
        },
        {
         "name": "agency_or_agencies_involved",
         "dtype": "object",
         "stats": {
          "unique_count": 2,
          "nan_count": 0,
          "categories": [
           {
            "name": "omaha police department",
            "count": 1
           },
           {
            "name": "texas department of public safety",
            "count": 1
           }
          ]
         }
        },
        {
         "name": "highest_level_of_force",
         "dtype": "object",
         "stats": {
          "unique_count": 2,
          "nan_count": 0,
          "categories": [
           {
            "name": "gunshot",
            "count": 1
           },
           {
            "name": "medical emergency",
            "count": 1
           }
          ]
         }
        },
        {
         "name": "armed_unarmed",
         "dtype": "object",
         "stats": {
          "unique_count": 2,
          "nan_count": 0,
          "categories": [
           {
            "name": "armed",
            "count": 1
           },
           {
            "name": "unarmed",
            "count": 1
           }
          ]
         }
        },
        {
         "name": "alleged_weapon",
         "dtype": "object",
         "stats": {
          "unique_count": 2,
          "nan_count": 0,
          "categories": [
           {
            "name": "edged weapon",
            "count": 1
           },
           {
            "name": "no_weapon",
            "count": 1
           }
          ]
         }
        },
        {
         "name": "alleged_threat_lvl",
         "dtype": "int64",
         "stats": {
          "unique_count": 2,
          "nan_count": 0,
          "min": "1",
          "max": "2",
          "histogram": [
           {
            "bin_start": 1,
            "bin_end": 1.1,
            "count": 1
           },
           {
            "bin_start": 1.1,
            "bin_end": 1.2,
            "count": 0
           },
           {
            "bin_start": 1.2,
            "bin_end": 1.3,
            "count": 0
           },
           {
            "bin_start": 1.3,
            "bin_end": 1.4,
            "count": 0
           },
           {
            "bin_start": 1.4,
            "bin_end": 1.5,
            "count": 0
           },
           {
            "bin_start": 1.5,
            "bin_end": 1.6,
            "count": 0
           },
           {
            "bin_start": 1.6,
            "bin_end": 1.7000000000000002,
            "count": 0
           },
           {
            "bin_start": 1.7000000000000002,
            "bin_end": 1.8,
            "count": 0
           },
           {
            "bin_start": 1.8,
            "bin_end": 1.9,
            "count": 0
           },
           {
            "bin_start": 1.9,
            "bin_end": 2,
            "count": 1
           }
          ]
         }
        },
        {
         "name": "fleeing_not_fleeing",
         "dtype": "object",
         "stats": {
          "unique_count": 2,
          "nan_count": 0,
          "categories": [
           {
            "name": "not_fleeing",
            "count": 1
           },
           {
            "name": "fleeing",
            "count": 1
           }
          ]
         }
        },
        {
         "name": "brief_description",
         "dtype": "object",
         "stats": {
          "unique_count": 2,
          "nan_count": 0,
          "categories": [
           {
            "name": "police called to scene found ventry lunging with a knife at a woman. vetnry continued fighting after being shot by officer jerry kassen and tasered by another officer.",
            "count": 1
           },
           {
            "name": "a trooper pursued a truck driven by a 14-year-old male with two female passengers, leesa rene ramirez and an unnamed 12-year-old. the truck spun out and stopped. all three stepped out of the vehicle and ran away. ramirez collapsed. the trooper gave her cpr and called paramedics. ramirez died at the scene.",
            "count": 1
           }
          ]
         }
        },
        {
         "name": "intended_use_of_force_developing",
         "dtype": "object",
         "stats": {
          "unique_count": 2,
          "nan_count": 0,
          "categories": [
           {
            "name": "deadly force",
            "count": 1
           },
           {
            "name": "no",
            "count": 1
           }
          ]
         }
        },
        {
         "name": "fleeing",
         "dtype": "float64",
         "stats": {
          "unique_count": 2,
          "nan_count": 0,
          "min": "0.0",
          "max": "1.0",
          "histogram": [
           {
            "bin_start": 0,
            "bin_end": 0.1,
            "count": 1
           },
           {
            "bin_start": 0.1,
            "bin_end": 0.2,
            "count": 0
           },
           {
            "bin_start": 0.2,
            "bin_end": 0.30000000000000004,
            "count": 0
           },
           {
            "bin_start": 0.30000000000000004,
            "bin_end": 0.4,
            "count": 0
           },
           {
            "bin_start": 0.4,
            "bin_end": 0.5,
            "count": 0
           },
           {
            "bin_start": 0.5,
            "bin_end": 0.6000000000000001,
            "count": 0
           },
           {
            "bin_start": 0.6000000000000001,
            "bin_end": 0.7000000000000001,
            "count": 0
           },
           {
            "bin_start": 0.7000000000000001,
            "bin_end": 0.8,
            "count": 0
           },
           {
            "bin_start": 0.8,
            "bin_end": 0.9,
            "count": 0
           },
           {
            "bin_start": 0.9,
            "bin_end": 1,
            "count": 1
           }
          ]
         }
        },
        {
         "name": "age_bins",
         "dtype": "object",
         "stats": {
          "unique_count": 2,
          "nan_count": 0,
          "categories": [
           {
            "name": "18-24",
            "count": 1
           },
           {
            "name": "12-17",
            "count": 1
           }
          ]
         }
        },
        {
         "name": "is_asian_pacific islander",
         "dtype": "int64",
         "stats": {
          "unique_count": 1,
          "nan_count": 0,
          "min": "0",
          "max": "0",
          "histogram": [
           {
            "bin_start": -0.5,
            "bin_end": -0.4,
            "count": 0
           },
           {
            "bin_start": -0.4,
            "bin_end": -0.3,
            "count": 0
           },
           {
            "bin_start": -0.3,
            "bin_end": -0.19999999999999996,
            "count": 0
           },
           {
            "bin_start": -0.19999999999999996,
            "bin_end": -0.09999999999999998,
            "count": 0
           },
           {
            "bin_start": -0.09999999999999998,
            "bin_end": 0,
            "count": 0
           },
           {
            "bin_start": 0,
            "bin_end": 0.10000000000000009,
            "count": 2
           },
           {
            "bin_start": 0.10000000000000009,
            "bin_end": 0.20000000000000007,
            "count": 0
           },
           {
            "bin_start": 0.20000000000000007,
            "bin_end": 0.30000000000000004,
            "count": 0
           },
           {
            "bin_start": 0.30000000000000004,
            "bin_end": 0.4,
            "count": 0
           },
           {
            "bin_start": 0.4,
            "bin_end": 0.5,
            "count": 0
           }
          ]
         }
        },
        {
         "name": "is_black",
         "dtype": "int64",
         "stats": {
          "unique_count": 2,
          "nan_count": 0,
          "min": "0",
          "max": "1",
          "histogram": [
           {
            "bin_start": 0,
            "bin_end": 0.1,
            "count": 1
           },
           {
            "bin_start": 0.1,
            "bin_end": 0.2,
            "count": 0
           },
           {
            "bin_start": 0.2,
            "bin_end": 0.30000000000000004,
            "count": 0
           },
           {
            "bin_start": 0.30000000000000004,
            "bin_end": 0.4,
            "count": 0
           },
           {
            "bin_start": 0.4,
            "bin_end": 0.5,
            "count": 0
           },
           {
            "bin_start": 0.5,
            "bin_end": 0.6000000000000001,
            "count": 0
           },
           {
            "bin_start": 0.6000000000000001,
            "bin_end": 0.7000000000000001,
            "count": 0
           },
           {
            "bin_start": 0.7000000000000001,
            "bin_end": 0.8,
            "count": 0
           },
           {
            "bin_start": 0.8,
            "bin_end": 0.9,
            "count": 0
           },
           {
            "bin_start": 0.9,
            "bin_end": 1,
            "count": 1
           }
          ]
         }
        },
        {
         "name": "is_hispanic",
         "dtype": "int64",
         "stats": {
          "unique_count": 2,
          "nan_count": 0,
          "min": "0",
          "max": "1",
          "histogram": [
           {
            "bin_start": 0,
            "bin_end": 0.1,
            "count": 1
           },
           {
            "bin_start": 0.1,
            "bin_end": 0.2,
            "count": 0
           },
           {
            "bin_start": 0.2,
            "bin_end": 0.30000000000000004,
            "count": 0
           },
           {
            "bin_start": 0.30000000000000004,
            "bin_end": 0.4,
            "count": 0
           },
           {
            "bin_start": 0.4,
            "bin_end": 0.5,
            "count": 0
           },
           {
            "bin_start": 0.5,
            "bin_end": 0.6000000000000001,
            "count": 0
           },
           {
            "bin_start": 0.6000000000000001,
            "bin_end": 0.7000000000000001,
            "count": 0
           },
           {
            "bin_start": 0.7000000000000001,
            "bin_end": 0.8,
            "count": 0
           },
           {
            "bin_start": 0.8,
            "bin_end": 0.9,
            "count": 0
           },
           {
            "bin_start": 0.9,
            "bin_end": 1,
            "count": 1
           }
          ]
         }
        },
        {
         "name": "is_middle eastern",
         "dtype": "int64",
         "stats": {
          "unique_count": 1,
          "nan_count": 0,
          "min": "0",
          "max": "0",
          "histogram": [
           {
            "bin_start": -0.5,
            "bin_end": -0.4,
            "count": 0
           },
           {
            "bin_start": -0.4,
            "bin_end": -0.3,
            "count": 0
           },
           {
            "bin_start": -0.3,
            "bin_end": -0.19999999999999996,
            "count": 0
           },
           {
            "bin_start": -0.19999999999999996,
            "bin_end": -0.09999999999999998,
            "count": 0
           },
           {
            "bin_start": -0.09999999999999998,
            "bin_end": 0,
            "count": 0
           },
           {
            "bin_start": 0,
            "bin_end": 0.10000000000000009,
            "count": 2
           },
           {
            "bin_start": 0.10000000000000009,
            "bin_end": 0.20000000000000007,
            "count": 0
           },
           {
            "bin_start": 0.20000000000000007,
            "bin_end": 0.30000000000000004,
            "count": 0
           },
           {
            "bin_start": 0.30000000000000004,
            "bin_end": 0.4,
            "count": 0
           },
           {
            "bin_start": 0.4,
            "bin_end": 0.5,
            "count": 0
           }
          ]
         }
        },
        {
         "name": "is_native_american",
         "dtype": "int64",
         "stats": {
          "unique_count": 1,
          "nan_count": 0,
          "min": "0",
          "max": "0",
          "histogram": [
           {
            "bin_start": -0.5,
            "bin_end": -0.4,
            "count": 0
           },
           {
            "bin_start": -0.4,
            "bin_end": -0.3,
            "count": 0
           },
           {
            "bin_start": -0.3,
            "bin_end": -0.19999999999999996,
            "count": 0
           },
           {
            "bin_start": -0.19999999999999996,
            "bin_end": -0.09999999999999998,
            "count": 0
           },
           {
            "bin_start": -0.09999999999999998,
            "bin_end": 0,
            "count": 0
           },
           {
            "bin_start": 0,
            "bin_end": 0.10000000000000009,
            "count": 2
           },
           {
            "bin_start": 0.10000000000000009,
            "bin_end": 0.20000000000000007,
            "count": 0
           },
           {
            "bin_start": 0.20000000000000007,
            "bin_end": 0.30000000000000004,
            "count": 0
           },
           {
            "bin_start": 0.30000000000000004,
            "bin_end": 0.4,
            "count": 0
           },
           {
            "bin_start": 0.4,
            "bin_end": 0.5,
            "count": 0
           }
          ]
         }
        },
        {
         "name": "is_unknown_race",
         "dtype": "int64",
         "stats": {
          "unique_count": 1,
          "nan_count": 0,
          "min": "0",
          "max": "0",
          "histogram": [
           {
            "bin_start": -0.5,
            "bin_end": -0.4,
            "count": 0
           },
           {
            "bin_start": -0.4,
            "bin_end": -0.3,
            "count": 0
           },
           {
            "bin_start": -0.3,
            "bin_end": -0.19999999999999996,
            "count": 0
           },
           {
            "bin_start": -0.19999999999999996,
            "bin_end": -0.09999999999999998,
            "count": 0
           },
           {
            "bin_start": -0.09999999999999998,
            "bin_end": 0,
            "count": 0
           },
           {
            "bin_start": 0,
            "bin_end": 0.10000000000000009,
            "count": 2
           },
           {
            "bin_start": 0.10000000000000009,
            "bin_end": 0.20000000000000007,
            "count": 0
           },
           {
            "bin_start": 0.20000000000000007,
            "bin_end": 0.30000000000000004,
            "count": 0
           },
           {
            "bin_start": 0.30000000000000004,
            "bin_end": 0.4,
            "count": 0
           },
           {
            "bin_start": 0.4,
            "bin_end": 0.5,
            "count": 0
           }
          ]
         }
        },
        {
         "name": "is_white",
         "dtype": "int64",
         "stats": {
          "unique_count": 1,
          "nan_count": 0,
          "min": "0",
          "max": "0",
          "histogram": [
           {
            "bin_start": -0.5,
            "bin_end": -0.4,
            "count": 0
           },
           {
            "bin_start": -0.4,
            "bin_end": -0.3,
            "count": 0
           },
           {
            "bin_start": -0.3,
            "bin_end": -0.19999999999999996,
            "count": 0
           },
           {
            "bin_start": -0.19999999999999996,
            "bin_end": -0.09999999999999998,
            "count": 0
           },
           {
            "bin_start": -0.09999999999999998,
            "bin_end": 0,
            "count": 0
           },
           {
            "bin_start": 0,
            "bin_end": 0.10000000000000009,
            "count": 2
           },
           {
            "bin_start": 0.10000000000000009,
            "bin_end": 0.20000000000000007,
            "count": 0
           },
           {
            "bin_start": 0.20000000000000007,
            "bin_end": 0.30000000000000004,
            "count": 0
           },
           {
            "bin_start": 0.30000000000000004,
            "bin_end": 0.4,
            "count": 0
           },
           {
            "bin_start": 0.4,
            "bin_end": 0.5,
            "count": 0
           }
          ]
         }
        },
        {
         "name": "is_unarmed",
         "dtype": "int64",
         "stats": {
          "unique_count": 2,
          "nan_count": 0,
          "min": "0",
          "max": "1",
          "histogram": [
           {
            "bin_start": 0,
            "bin_end": 0.1,
            "count": 1
           },
           {
            "bin_start": 0.1,
            "bin_end": 0.2,
            "count": 0
           },
           {
            "bin_start": 0.2,
            "bin_end": 0.30000000000000004,
            "count": 0
           },
           {
            "bin_start": 0.30000000000000004,
            "bin_end": 0.4,
            "count": 0
           },
           {
            "bin_start": 0.4,
            "bin_end": 0.5,
            "count": 0
           },
           {
            "bin_start": 0.5,
            "bin_end": 0.6000000000000001,
            "count": 0
           },
           {
            "bin_start": 0.6000000000000001,
            "bin_end": 0.7000000000000001,
            "count": 0
           },
           {
            "bin_start": 0.7000000000000001,
            "bin_end": 0.8,
            "count": 0
           },
           {
            "bin_start": 0.8,
            "bin_end": 0.9,
            "count": 0
           },
           {
            "bin_start": 0.9,
            "bin_end": 1,
            "count": 1
           }
          ]
         }
        },
        {
         "name": "had_blunt object",
         "dtype": "int64",
         "stats": {
          "unique_count": 1,
          "nan_count": 0,
          "min": "0",
          "max": "0",
          "histogram": [
           {
            "bin_start": -0.5,
            "bin_end": -0.4,
            "count": 0
           },
           {
            "bin_start": -0.4,
            "bin_end": -0.3,
            "count": 0
           },
           {
            "bin_start": -0.3,
            "bin_end": -0.19999999999999996,
            "count": 0
           },
           {
            "bin_start": -0.19999999999999996,
            "bin_end": -0.09999999999999998,
            "count": 0
           },
           {
            "bin_start": -0.09999999999999998,
            "bin_end": 0,
            "count": 0
           },
           {
            "bin_start": 0,
            "bin_end": 0.10000000000000009,
            "count": 2
           },
           {
            "bin_start": 0.10000000000000009,
            "bin_end": 0.20000000000000007,
            "count": 0
           },
           {
            "bin_start": 0.20000000000000007,
            "bin_end": 0.30000000000000004,
            "count": 0
           },
           {
            "bin_start": 0.30000000000000004,
            "bin_end": 0.4,
            "count": 0
           },
           {
            "bin_start": 0.4,
            "bin_end": 0.5,
            "count": 0
           }
          ]
         }
        },
        {
         "name": "had_edged weapon",
         "dtype": "int64",
         "stats": {
          "unique_count": 2,
          "nan_count": 0,
          "min": "0",
          "max": "1",
          "histogram": [
           {
            "bin_start": 0,
            "bin_end": 0.1,
            "count": 1
           },
           {
            "bin_start": 0.1,
            "bin_end": 0.2,
            "count": 0
           },
           {
            "bin_start": 0.2,
            "bin_end": 0.30000000000000004,
            "count": 0
           },
           {
            "bin_start": 0.30000000000000004,
            "bin_end": 0.4,
            "count": 0
           },
           {
            "bin_start": 0.4,
            "bin_end": 0.5,
            "count": 0
           },
           {
            "bin_start": 0.5,
            "bin_end": 0.6000000000000001,
            "count": 0
           },
           {
            "bin_start": 0.6000000000000001,
            "bin_end": 0.7000000000000001,
            "count": 0
           },
           {
            "bin_start": 0.7000000000000001,
            "bin_end": 0.8,
            "count": 0
           },
           {
            "bin_start": 0.8,
            "bin_end": 0.9,
            "count": 0
           },
           {
            "bin_start": 0.9,
            "bin_end": 1,
            "count": 1
           }
          ]
         }
        },
        {
         "name": "had_firearm",
         "dtype": "int64",
         "stats": {
          "unique_count": 1,
          "nan_count": 0,
          "min": "0",
          "max": "0",
          "histogram": [
           {
            "bin_start": -0.5,
            "bin_end": -0.4,
            "count": 0
           },
           {
            "bin_start": -0.4,
            "bin_end": -0.3,
            "count": 0
           },
           {
            "bin_start": -0.3,
            "bin_end": -0.19999999999999996,
            "count": 0
           },
           {
            "bin_start": -0.19999999999999996,
            "bin_end": -0.09999999999999998,
            "count": 0
           },
           {
            "bin_start": -0.09999999999999998,
            "bin_end": 0,
            "count": 0
           },
           {
            "bin_start": 0,
            "bin_end": 0.10000000000000009,
            "count": 2
           },
           {
            "bin_start": 0.10000000000000009,
            "bin_end": 0.20000000000000007,
            "count": 0
           },
           {
            "bin_start": 0.20000000000000007,
            "bin_end": 0.30000000000000004,
            "count": 0
           },
           {
            "bin_start": 0.30000000000000004,
            "bin_end": 0.4,
            "count": 0
           },
           {
            "bin_start": 0.4,
            "bin_end": 0.5,
            "count": 0
           }
          ]
         }
        },
        {
         "name": "had_no_weapon",
         "dtype": "int64",
         "stats": {
          "unique_count": 2,
          "nan_count": 0,
          "min": "0",
          "max": "1",
          "histogram": [
           {
            "bin_start": 0,
            "bin_end": 0.1,
            "count": 1
           },
           {
            "bin_start": 0.1,
            "bin_end": 0.2,
            "count": 0
           },
           {
            "bin_start": 0.2,
            "bin_end": 0.30000000000000004,
            "count": 0
           },
           {
            "bin_start": 0.30000000000000004,
            "bin_end": 0.4,
            "count": 0
           },
           {
            "bin_start": 0.4,
            "bin_end": 0.5,
            "count": 0
           },
           {
            "bin_start": 0.5,
            "bin_end": 0.6000000000000001,
            "count": 0
           },
           {
            "bin_start": 0.6000000000000001,
            "bin_end": 0.7000000000000001,
            "count": 0
           },
           {
            "bin_start": 0.7000000000000001,
            "bin_end": 0.8,
            "count": 0
           },
           {
            "bin_start": 0.8,
            "bin_end": 0.9,
            "count": 0
           },
           {
            "bin_start": 0.9,
            "bin_end": 1,
            "count": 1
           }
          ]
         }
        },
        {
         "name": "had_other_weapon",
         "dtype": "int64",
         "stats": {
          "unique_count": 1,
          "nan_count": 0,
          "min": "0",
          "max": "0",
          "histogram": [
           {
            "bin_start": -0.5,
            "bin_end": -0.4,
            "count": 0
           },
           {
            "bin_start": -0.4,
            "bin_end": -0.3,
            "count": 0
           },
           {
            "bin_start": -0.3,
            "bin_end": -0.19999999999999996,
            "count": 0
           },
           {
            "bin_start": -0.19999999999999996,
            "bin_end": -0.09999999999999998,
            "count": 0
           },
           {
            "bin_start": -0.09999999999999998,
            "bin_end": 0,
            "count": 0
           },
           {
            "bin_start": 0,
            "bin_end": 0.10000000000000009,
            "count": 2
           },
           {
            "bin_start": 0.10000000000000009,
            "bin_end": 0.20000000000000007,
            "count": 0
           },
           {
            "bin_start": 0.20000000000000007,
            "bin_end": 0.30000000000000004,
            "count": 0
           },
           {
            "bin_start": 0.30000000000000004,
            "bin_end": 0.4,
            "count": 0
           },
           {
            "bin_start": 0.4,
            "bin_end": 0.5,
            "count": 0
           }
          ]
         }
        },
        {
         "name": "under 12",
         "dtype": "float64",
         "stats": {
          "unique_count": 1,
          "nan_count": 0,
          "min": "0.0",
          "max": "0.0",
          "histogram": [
           {
            "bin_start": -0.5,
            "bin_end": -0.4,
            "count": 0
           },
           {
            "bin_start": -0.4,
            "bin_end": -0.3,
            "count": 0
           },
           {
            "bin_start": -0.3,
            "bin_end": -0.19999999999999996,
            "count": 0
           },
           {
            "bin_start": -0.19999999999999996,
            "bin_end": -0.09999999999999998,
            "count": 0
           },
           {
            "bin_start": -0.09999999999999998,
            "bin_end": 0,
            "count": 0
           },
           {
            "bin_start": 0,
            "bin_end": 0.10000000000000009,
            "count": 2
           },
           {
            "bin_start": 0.10000000000000009,
            "bin_end": 0.20000000000000007,
            "count": 0
           },
           {
            "bin_start": 0.20000000000000007,
            "bin_end": 0.30000000000000004,
            "count": 0
           },
           {
            "bin_start": 0.30000000000000004,
            "bin_end": 0.4,
            "count": 0
           },
           {
            "bin_start": 0.4,
            "bin_end": 0.5,
            "count": 0
           }
          ]
         }
        },
        {
         "name": "12-17",
         "dtype": "float64",
         "stats": {
          "unique_count": 2,
          "nan_count": 0,
          "min": "0.0",
          "max": "1.0",
          "histogram": [
           {
            "bin_start": 0,
            "bin_end": 0.1,
            "count": 1
           },
           {
            "bin_start": 0.1,
            "bin_end": 0.2,
            "count": 0
           },
           {
            "bin_start": 0.2,
            "bin_end": 0.30000000000000004,
            "count": 0
           },
           {
            "bin_start": 0.30000000000000004,
            "bin_end": 0.4,
            "count": 0
           },
           {
            "bin_start": 0.4,
            "bin_end": 0.5,
            "count": 0
           },
           {
            "bin_start": 0.5,
            "bin_end": 0.6000000000000001,
            "count": 0
           },
           {
            "bin_start": 0.6000000000000001,
            "bin_end": 0.7000000000000001,
            "count": 0
           },
           {
            "bin_start": 0.7000000000000001,
            "bin_end": 0.8,
            "count": 0
           },
           {
            "bin_start": 0.8,
            "bin_end": 0.9,
            "count": 0
           },
           {
            "bin_start": 0.9,
            "bin_end": 1,
            "count": 1
           }
          ]
         }
        },
        {
         "name": "18-24",
         "dtype": "float64",
         "stats": {
          "unique_count": 2,
          "nan_count": 0,
          "min": "0.0",
          "max": "1.0",
          "histogram": [
           {
            "bin_start": 0,
            "bin_end": 0.1,
            "count": 1
           },
           {
            "bin_start": 0.1,
            "bin_end": 0.2,
            "count": 0
           },
           {
            "bin_start": 0.2,
            "bin_end": 0.30000000000000004,
            "count": 0
           },
           {
            "bin_start": 0.30000000000000004,
            "bin_end": 0.4,
            "count": 0
           },
           {
            "bin_start": 0.4,
            "bin_end": 0.5,
            "count": 0
           },
           {
            "bin_start": 0.5,
            "bin_end": 0.6000000000000001,
            "count": 0
           },
           {
            "bin_start": 0.6000000000000001,
            "bin_end": 0.7000000000000001,
            "count": 0
           },
           {
            "bin_start": 0.7000000000000001,
            "bin_end": 0.8,
            "count": 0
           },
           {
            "bin_start": 0.8,
            "bin_end": 0.9,
            "count": 0
           },
           {
            "bin_start": 0.9,
            "bin_end": 1,
            "count": 1
           }
          ]
         }
        },
        {
         "name": "25-34",
         "dtype": "float64",
         "stats": {
          "unique_count": 1,
          "nan_count": 0,
          "min": "0.0",
          "max": "0.0",
          "histogram": [
           {
            "bin_start": -0.5,
            "bin_end": -0.4,
            "count": 0
           },
           {
            "bin_start": -0.4,
            "bin_end": -0.3,
            "count": 0
           },
           {
            "bin_start": -0.3,
            "bin_end": -0.19999999999999996,
            "count": 0
           },
           {
            "bin_start": -0.19999999999999996,
            "bin_end": -0.09999999999999998,
            "count": 0
           },
           {
            "bin_start": -0.09999999999999998,
            "bin_end": 0,
            "count": 0
           },
           {
            "bin_start": 0,
            "bin_end": 0.10000000000000009,
            "count": 2
           },
           {
            "bin_start": 0.10000000000000009,
            "bin_end": 0.20000000000000007,
            "count": 0
           },
           {
            "bin_start": 0.20000000000000007,
            "bin_end": 0.30000000000000004,
            "count": 0
           },
           {
            "bin_start": 0.30000000000000004,
            "bin_end": 0.4,
            "count": 0
           },
           {
            "bin_start": 0.4,
            "bin_end": 0.5,
            "count": 0
           }
          ]
         }
        },
        {
         "name": "35-44",
         "dtype": "float64",
         "stats": {
          "unique_count": 1,
          "nan_count": 0,
          "min": "0.0",
          "max": "0.0",
          "histogram": [
           {
            "bin_start": -0.5,
            "bin_end": -0.4,
            "count": 0
           },
           {
            "bin_start": -0.4,
            "bin_end": -0.3,
            "count": 0
           },
           {
            "bin_start": -0.3,
            "bin_end": -0.19999999999999996,
            "count": 0
           },
           {
            "bin_start": -0.19999999999999996,
            "bin_end": -0.09999999999999998,
            "count": 0
           },
           {
            "bin_start": -0.09999999999999998,
            "bin_end": 0,
            "count": 0
           },
           {
            "bin_start": 0,
            "bin_end": 0.10000000000000009,
            "count": 2
           },
           {
            "bin_start": 0.10000000000000009,
            "bin_end": 0.20000000000000007,
            "count": 0
           },
           {
            "bin_start": 0.20000000000000007,
            "bin_end": 0.30000000000000004,
            "count": 0
           },
           {
            "bin_start": 0.30000000000000004,
            "bin_end": 0.4,
            "count": 0
           },
           {
            "bin_start": 0.4,
            "bin_end": 0.5,
            "count": 0
           }
          ]
         }
        },
        {
         "name": "45-54",
         "dtype": "float64",
         "stats": {
          "unique_count": 1,
          "nan_count": 0,
          "min": "0.0",
          "max": "0.0",
          "histogram": [
           {
            "bin_start": -0.5,
            "bin_end": -0.4,
            "count": 0
           },
           {
            "bin_start": -0.4,
            "bin_end": -0.3,
            "count": 0
           },
           {
            "bin_start": -0.3,
            "bin_end": -0.19999999999999996,
            "count": 0
           },
           {
            "bin_start": -0.19999999999999996,
            "bin_end": -0.09999999999999998,
            "count": 0
           },
           {
            "bin_start": -0.09999999999999998,
            "bin_end": 0,
            "count": 0
           },
           {
            "bin_start": 0,
            "bin_end": 0.10000000000000009,
            "count": 2
           },
           {
            "bin_start": 0.10000000000000009,
            "bin_end": 0.20000000000000007,
            "count": 0
           },
           {
            "bin_start": 0.20000000000000007,
            "bin_end": 0.30000000000000004,
            "count": 0
           },
           {
            "bin_start": 0.30000000000000004,
            "bin_end": 0.4,
            "count": 0
           },
           {
            "bin_start": 0.4,
            "bin_end": 0.5,
            "count": 0
           }
          ]
         }
        },
        {
         "name": "55-64",
         "dtype": "float64",
         "stats": {
          "unique_count": 1,
          "nan_count": 0,
          "min": "0.0",
          "max": "0.0",
          "histogram": [
           {
            "bin_start": -0.5,
            "bin_end": -0.4,
            "count": 0
           },
           {
            "bin_start": -0.4,
            "bin_end": -0.3,
            "count": 0
           },
           {
            "bin_start": -0.3,
            "bin_end": -0.19999999999999996,
            "count": 0
           },
           {
            "bin_start": -0.19999999999999996,
            "bin_end": -0.09999999999999998,
            "count": 0
           },
           {
            "bin_start": -0.09999999999999998,
            "bin_end": 0,
            "count": 0
           },
           {
            "bin_start": 0,
            "bin_end": 0.10000000000000009,
            "count": 2
           },
           {
            "bin_start": 0.10000000000000009,
            "bin_end": 0.20000000000000007,
            "count": 0
           },
           {
            "bin_start": 0.20000000000000007,
            "bin_end": 0.30000000000000004,
            "count": 0
           },
           {
            "bin_start": 0.30000000000000004,
            "bin_end": 0.4,
            "count": 0
           },
           {
            "bin_start": 0.4,
            "bin_end": 0.5,
            "count": 0
           }
          ]
         }
        },
        {
         "name": "65+",
         "dtype": "float64",
         "stats": {
          "unique_count": 1,
          "nan_count": 0,
          "min": "0.0",
          "max": "0.0",
          "histogram": [
           {
            "bin_start": -0.5,
            "bin_end": -0.4,
            "count": 0
           },
           {
            "bin_start": -0.4,
            "bin_end": -0.3,
            "count": 0
           },
           {
            "bin_start": -0.3,
            "bin_end": -0.19999999999999996,
            "count": 0
           },
           {
            "bin_start": -0.19999999999999996,
            "bin_end": -0.09999999999999998,
            "count": 0
           },
           {
            "bin_start": -0.09999999999999998,
            "bin_end": 0,
            "count": 0
           },
           {
            "bin_start": 0,
            "bin_end": 0.10000000000000009,
            "count": 2
           },
           {
            "bin_start": 0.10000000000000009,
            "bin_end": 0.20000000000000007,
            "count": 0
           },
           {
            "bin_start": 0.20000000000000007,
            "bin_end": 0.30000000000000004,
            "count": 0
           },
           {
            "bin_start": 0.30000000000000004,
            "bin_end": 0.4,
            "count": 0
           },
           {
            "bin_start": 0.4,
            "bin_end": 0.5,
            "count": 0
           }
          ]
         }
        },
        {
         "name": "_deepnote_index_column",
         "dtype": "int64"
        }
       ],
       "rows_top": [
        {
         "unique_id": 14050,
         "age": 20,
         "gender": "male",
         "race": "black",
         "date_of_injury_resulting_in_death_month_day_year": "2007-02-07",
         "location_of_death_zip_code": 68111,
         "agency_or_agencies_involved": "omaha police department",
         "highest_level_of_force": "gunshot",
         "armed_unarmed": "armed",
         "alleged_weapon": "edged weapon",
         "alleged_threat_lvl": 2,
         "fleeing_not_fleeing": "not_fleeing",
         "brief_description": "police called to scene found ventry lunging with a knife at a woman. vetnry continued fighting afte…",
         "intended_use_of_force_developing": "deadly force",
         "fleeing": 0,
         "age_bins": "18-24",
         "is_asian_pacific islander": 0,
         "is_black": 1,
         "is_hispanic": 0,
         "is_middle eastern": 0,
         "is_native_american": 0,
         "is_unknown_race": 0,
         "is_white": 0,
         "is_unarmed": 0,
         "had_blunt object": 0,
         "had_edged weapon": 1,
         "had_firearm": 0,
         "had_no_weapon": 0,
         "had_other_weapon": 0,
         "under 12": 0,
         "12-17": 0,
         "18-24": 1,
         "25-34": 0,
         "35-44": 0,
         "45-54": 0,
         "55-64": 0,
         "65+": 0,
         "_deepnote_index_column": 0
        },
        {
         "unique_id": 12167,
         "age": 12,
         "gender": "female",
         "race": "hispanic",
         "date_of_injury_resulting_in_death_month_day_year": "2013-01-01",
         "location_of_death_zip_code": 78375,
         "agency_or_agencies_involved": "texas department of public safety",
         "highest_level_of_force": "medical emergency",
         "armed_unarmed": "unarmed",
         "alleged_weapon": "no_weapon",
         "alleged_threat_lvl": 1,
         "fleeing_not_fleeing": "fleeing",
         "brief_description": "a trooper pursued a truck driven by a 14-year-old male with two female passengers, leesa rene ramir…",
         "intended_use_of_force_developing": "no",
         "fleeing": 1,
         "age_bins": "12-17",
         "is_asian_pacific islander": 0,
         "is_black": 0,
         "is_hispanic": 1,
         "is_middle eastern": 0,
         "is_native_american": 0,
         "is_unknown_race": 0,
         "is_white": 0,
         "is_unarmed": 1,
         "had_blunt object": 0,
         "had_edged weapon": 0,
         "had_firearm": 0,
         "had_no_weapon": 1,
         "had_other_weapon": 0,
         "under 12": 0,
         "12-17": 1,
         "18-24": 0,
         "25-34": 0,
         "35-44": 0,
         "45-54": 0,
         "55-64": 0,
         "65+": 0,
         "_deepnote_index_column": 1
        }
       ],
       "rows_bottom": null
      },
      "text/plain": "   unique_id   age  gender      race  \\\n0    14050.0  20.0    male     black   \n1    12167.0  12.0  female  hispanic   \n\n  date_of_injury_resulting_in_death_month_day_year  \\\n0                                       2007-02-07   \n1                                       2013-01-01   \n\n   location_of_death_zip_code        agency_or_agencies_involved  \\\n0                     68111.0            omaha police department   \n1                     78375.0  texas department of public safety   \n\n  highest_level_of_force armed_unarmed alleged_weapon  ...  had_no_weapon  \\\n0                gunshot         armed   edged weapon  ...              0   \n1      medical emergency       unarmed      no_weapon  ...              1   \n\n  had_other_weapon under 12 12-17  18-24 25-34  35-44  45-54  55-64  65+  \n0                0      0.0   0.0    1.0   0.0    0.0    0.0    0.0  0.0  \n1                0      0.0   1.0    0.0   0.0    0.0    0.0    0.0  0.0  \n\n[2 rows x 37 columns]",
      "text/html": "<div>\n<style scoped>\n    .dataframe tbody tr th:only-of-type {\n        vertical-align: middle;\n    }\n\n    .dataframe tbody tr th {\n        vertical-align: top;\n    }\n\n    .dataframe thead th {\n        text-align: right;\n    }\n</style>\n<table border=\"1\" class=\"dataframe\">\n  <thead>\n    <tr style=\"text-align: right;\">\n      <th></th>\n      <th>unique_id</th>\n      <th>age</th>\n      <th>gender</th>\n      <th>race</th>\n      <th>date_of_injury_resulting_in_death_month_day_year</th>\n      <th>location_of_death_zip_code</th>\n      <th>agency_or_agencies_involved</th>\n      <th>highest_level_of_force</th>\n      <th>armed_unarmed</th>\n      <th>alleged_weapon</th>\n      <th>...</th>\n      <th>had_no_weapon</th>\n      <th>had_other_weapon</th>\n      <th>under 12</th>\n      <th>12-17</th>\n      <th>18-24</th>\n      <th>25-34</th>\n      <th>35-44</th>\n      <th>45-54</th>\n      <th>55-64</th>\n      <th>65+</th>\n    </tr>\n  </thead>\n  <tbody>\n    <tr>\n      <th>0</th>\n      <td>14050.0</td>\n      <td>20.0</td>\n      <td>male</td>\n      <td>black</td>\n      <td>2007-02-07</td>\n      <td>68111.0</td>\n      <td>omaha police department</td>\n      <td>gunshot</td>\n      <td>armed</td>\n      <td>edged weapon</td>\n      <td>...</td>\n      <td>0</td>\n      <td>0</td>\n      <td>0.0</td>\n      <td>0.0</td>\n      <td>1.0</td>\n      <td>0.0</td>\n      <td>0.0</td>\n      <td>0.0</td>\n      <td>0.0</td>\n      <td>0.0</td>\n    </tr>\n    <tr>\n      <th>1</th>\n      <td>12167.0</td>\n      <td>12.0</td>\n      <td>female</td>\n      <td>hispanic</td>\n      <td>2013-01-01</td>\n      <td>78375.0</td>\n      <td>texas department of public safety</td>\n      <td>medical emergency</td>\n      <td>unarmed</td>\n      <td>no_weapon</td>\n      <td>...</td>\n      <td>1</td>\n      <td>0</td>\n      <td>0.0</td>\n      <td>1.0</td>\n      <td>0.0</td>\n      <td>0.0</td>\n      <td>0.0</td>\n      <td>0.0</td>\n      <td>0.0</td>\n      <td>0.0</td>\n    </tr>\n  </tbody>\n</table>\n<p>2 rows × 37 columns</p>\n</div>"
     },
     "metadata": {}
    }
   ],
   "execution_count": 25
  },
  {
   "cell_type": "code",
   "metadata": {
    "deepnote_to_be_reexecuted": false,
    "execution_millis": 121,
    "execution_start": 1622249463962,
    "source_hash": "be21ca7a",
    "tags": [],
    "cell_id": "00019-00e81183-4191-4b71-9de6-87a469e70c1f",
    "deepnote_cell_type": "code"
   },
   "source": "#split the data using the split function in explore.py\ntrain, validate, test = split(df, stratify_by=\"alleged_threat_lvl\")\n\n#check split datasets\nprint('overall shape of dataframe:', df.shape)\nprint('train:', train.shape)\nprint('validate:', validate.shape)\nprint('test:', test.shape)\n\n#work w/ training data\ntrain.head()",
   "execution_count": 26,
   "outputs": [
    {
     "name": "stdout",
     "text": "overall shape of dataframe: (13137, 37)\ntrain: (7356, 37)\nvalidate: (3153, 37)\ntest: (2628, 37)\n",
     "output_type": "stream"
    },
    {
     "output_type": "execute_result",
     "execution_count": 26,
     "data": {
      "application/vnd.deepnote.dataframe.v2+json": {
       "row_count": 5,
       "column_count": 37,
       "columns": [
        {
         "name": "unique_id",
         "dtype": "float64",
         "stats": {
          "unique_count": 5,
          "nan_count": 0,
          "min": "12221.0",
          "max": "27652.0",
          "histogram": [
           {
            "bin_start": 12221,
            "bin_end": 13764.1,
            "count": 2
           },
           {
            "bin_start": 13764.1,
            "bin_end": 15307.2,
            "count": 0
           },
           {
            "bin_start": 15307.2,
            "bin_end": 16850.3,
            "count": 0
           },
           {
            "bin_start": 16850.3,
            "bin_end": 18393.4,
            "count": 1
           },
           {
            "bin_start": 18393.4,
            "bin_end": 19936.5,
            "count": 0
           },
           {
            "bin_start": 19936.5,
            "bin_end": 21479.6,
            "count": 0
           },
           {
            "bin_start": 21479.6,
            "bin_end": 23022.699999999997,
            "count": 0
           },
           {
            "bin_start": 23022.699999999997,
            "bin_end": 24565.8,
            "count": 0
           },
           {
            "bin_start": 24565.8,
            "bin_end": 26108.9,
            "count": 0
           },
           {
            "bin_start": 26108.9,
            "bin_end": 27652,
            "count": 2
           }
          ]
         }
        },
        {
         "name": "age",
         "dtype": "float64",
         "stats": {
          "unique_count": 5,
          "nan_count": 0,
          "min": "17.0",
          "max": "61.0",
          "histogram": [
           {
            "bin_start": 17,
            "bin_end": 21.4,
            "count": 1
           },
           {
            "bin_start": 21.4,
            "bin_end": 25.8,
            "count": 0
           },
           {
            "bin_start": 25.8,
            "bin_end": 30.200000000000003,
            "count": 1
           },
           {
            "bin_start": 30.200000000000003,
            "bin_end": 34.6,
            "count": 0
           },
           {
            "bin_start": 34.6,
            "bin_end": 39,
            "count": 1
           },
           {
            "bin_start": 39,
            "bin_end": 43.400000000000006,
            "count": 0
           },
           {
            "bin_start": 43.400000000000006,
            "bin_end": 47.800000000000004,
            "count": 0
           },
           {
            "bin_start": 47.800000000000004,
            "bin_end": 52.2,
            "count": 1
           },
           {
            "bin_start": 52.2,
            "bin_end": 56.6,
            "count": 0
           },
           {
            "bin_start": 56.6,
            "bin_end": 61,
            "count": 1
           }
          ]
         }
        },
        {
         "name": "gender",
         "dtype": "object",
         "stats": {
          "unique_count": 1,
          "nan_count": 0,
          "categories": [
           {
            "name": "male",
            "count": 5
           }
          ]
         }
        },
        {
         "name": "race",
         "dtype": "object",
         "stats": {
          "unique_count": 3,
          "nan_count": 0,
          "categories": [
           {
            "name": "black",
            "count": 2
           },
           {
            "name": "white",
            "count": 2
           },
           {
            "name": "unknown_race",
            "count": 1
           }
          ]
         }
        },
        {
         "name": "date_of_injury_resulting_in_death_month_day_year",
         "dtype": "object",
         "stats": {
          "unique_count": 5,
          "nan_count": 0,
          "categories": [
           {
            "name": "2020-03-03",
            "count": 1
           },
           {
            "name": "2016-07-02 00:00:00",
            "count": 1
           },
           {
            "name": "3 others",
            "count": 3
           }
          ]
         }
        },
        {
         "name": "location_of_death_zip_code",
         "dtype": "float64",
         "stats": {
          "unique_count": 5,
          "nan_count": 0,
          "min": "1569.0",
          "max": "85032.0",
          "histogram": [
           {
            "bin_start": 1569,
            "bin_end": 9915.3,
            "count": 1
           },
           {
            "bin_start": 9915.3,
            "bin_end": 18261.6,
            "count": 0
           },
           {
            "bin_start": 18261.6,
            "bin_end": 26607.899999999998,
            "count": 0
           },
           {
            "bin_start": 26607.899999999998,
            "bin_end": 34954.2,
            "count": 3
           },
           {
            "bin_start": 34954.2,
            "bin_end": 43300.5,
            "count": 0
           },
           {
            "bin_start": 43300.5,
            "bin_end": 51646.799999999996,
            "count": 0
           },
           {
            "bin_start": 51646.799999999996,
            "bin_end": 59993.09999999999,
            "count": 0
           },
           {
            "bin_start": 59993.09999999999,
            "bin_end": 68339.4,
            "count": 0
           },
           {
            "bin_start": 68339.4,
            "bin_end": 76685.7,
            "count": 0
           },
           {
            "bin_start": 76685.7,
            "bin_end": 85032,
            "count": 1
           }
          ]
         }
        },
        {
         "name": "agency_or_agencies_involved",
         "dtype": "object",
         "stats": {
          "unique_count": 5,
          "nan_count": 0,
          "categories": [
           {
            "name": "miami-dade police department",
            "count": 1
           },
           {
            "name": "asheville police department",
            "count": 1
           },
           {
            "name": "3 others",
            "count": 3
           }
          ]
         }
        },
        {
         "name": "highest_level_of_force",
         "dtype": "object",
         "stats": {
          "unique_count": 2,
          "nan_count": 0,
          "categories": [
           {
            "name": "gunshot",
            "count": 4
           },
           {
            "name": "vehicle",
            "count": 1
           }
          ]
         }
        },
        {
         "name": "armed_unarmed",
         "dtype": "object",
         "stats": {
          "unique_count": 2,
          "nan_count": 0,
          "categories": [
           {
            "name": "armed",
            "count": 4
           },
           {
            "name": "unarmed",
            "count": 1
           }
          ]
         }
        },
        {
         "name": "alleged_weapon",
         "dtype": "object",
         "stats": {
          "unique_count": 3,
          "nan_count": 0,
          "categories": [
           {
            "name": "firearm",
            "count": 3
           },
           {
            "name": "edged weapon",
            "count": 1
           },
           {
            "name": "no_weapon",
            "count": 1
           }
          ]
         }
        },
        {
         "name": "alleged_threat_lvl",
         "dtype": "int64",
         "stats": {
          "unique_count": 2,
          "nan_count": 0,
          "min": "1",
          "max": "2",
          "histogram": [
           {
            "bin_start": 1,
            "bin_end": 1.1,
            "count": 1
           },
           {
            "bin_start": 1.1,
            "bin_end": 1.2,
            "count": 0
           },
           {
            "bin_start": 1.2,
            "bin_end": 1.3,
            "count": 0
           },
           {
            "bin_start": 1.3,
            "bin_end": 1.4,
            "count": 0
           },
           {
            "bin_start": 1.4,
            "bin_end": 1.5,
            "count": 0
           },
           {
            "bin_start": 1.5,
            "bin_end": 1.6,
            "count": 0
           },
           {
            "bin_start": 1.6,
            "bin_end": 1.7000000000000002,
            "count": 0
           },
           {
            "bin_start": 1.7000000000000002,
            "bin_end": 1.8,
            "count": 0
           },
           {
            "bin_start": 1.8,
            "bin_end": 1.9,
            "count": 0
           },
           {
            "bin_start": 1.9,
            "bin_end": 2,
            "count": 4
           }
          ]
         }
        },
        {
         "name": "fleeing_not_fleeing",
         "dtype": "object",
         "stats": {
          "unique_count": 2,
          "nan_count": 0,
          "categories": [
           {
            "name": "not_fleeing",
            "count": 3
           },
           {
            "name": "fleeing",
            "count": 2
           }
          ]
         }
        },
        {
         "name": "brief_description",
         "dtype": "object",
         "stats": {
          "unique_count": 5,
          "nan_count": 0,
          "categories": [
           {
            "name": "jose gainza allegedly stabbed and killed his daughter-in-law, ana iris rodriguez reyes, 27, then barricaded himself inside a bedroom as police entered the home. when gainza emerged from the bedroom, he reportedly ran toward officers with the knife, and they shot and killed him.",
            "count": 1
           },
           {
            "name": "police said they were called out to a report of shots fired at the pisgah view apartments. they attempted to stop a man who was driving away and who was later found at the deaverview apartments. police said a female passenger in williams' vehicle appeared to be struggling and she called for help when the vehicle stopped at the apartment complex. williams allegedly made a threat to sgt. tyler radford and displayed a weapon, who then shot and killed him.",
            "count": 1
           },
           {
            "name": "3 others",
            "count": 3
           }
          ]
         }
        },
        {
         "name": "intended_use_of_force_developing",
         "dtype": "object",
         "stats": {
          "unique_count": 2,
          "nan_count": 0,
          "categories": [
           {
            "name": "deadly force",
            "count": 4
           },
           {
            "name": "vehic/purs",
            "count": 1
           }
          ]
         }
        },
        {
         "name": "fleeing",
         "dtype": "float64",
         "stats": {
          "unique_count": 2,
          "nan_count": 0,
          "min": "0.0",
          "max": "1.0",
          "histogram": [
           {
            "bin_start": 0,
            "bin_end": 0.1,
            "count": 3
           },
           {
            "bin_start": 0.1,
            "bin_end": 0.2,
            "count": 0
           },
           {
            "bin_start": 0.2,
            "bin_end": 0.30000000000000004,
            "count": 0
           },
           {
            "bin_start": 0.30000000000000004,
            "bin_end": 0.4,
            "count": 0
           },
           {
            "bin_start": 0.4,
            "bin_end": 0.5,
            "count": 0
           },
           {
            "bin_start": 0.5,
            "bin_end": 0.6000000000000001,
            "count": 0
           },
           {
            "bin_start": 0.6000000000000001,
            "bin_end": 0.7000000000000001,
            "count": 0
           },
           {
            "bin_start": 0.7000000000000001,
            "bin_end": 0.8,
            "count": 0
           },
           {
            "bin_start": 0.8,
            "bin_end": 0.9,
            "count": 0
           },
           {
            "bin_start": 0.9,
            "bin_end": 1,
            "count": 2
           }
          ]
         }
        },
        {
         "name": "age_bins",
         "dtype": "object",
         "stats": {
          "unique_count": 5,
          "nan_count": 0,
          "categories": [
           {
            "name": "45-54",
            "count": 1
           },
           {
            "name": "35-44",
            "count": 1
           },
           {
            "name": "3 others",
            "count": 3
           }
          ]
         }
        },
        {
         "name": "is_asian_pacific islander",
         "dtype": "int64",
         "stats": {
          "unique_count": 1,
          "nan_count": 0,
          "min": "0",
          "max": "0",
          "histogram": [
           {
            "bin_start": -0.5,
            "bin_end": -0.4,
            "count": 0
           },
           {
            "bin_start": -0.4,
            "bin_end": -0.3,
            "count": 0
           },
           {
            "bin_start": -0.3,
            "bin_end": -0.19999999999999996,
            "count": 0
           },
           {
            "bin_start": -0.19999999999999996,
            "bin_end": -0.09999999999999998,
            "count": 0
           },
           {
            "bin_start": -0.09999999999999998,
            "bin_end": 0,
            "count": 0
           },
           {
            "bin_start": 0,
            "bin_end": 0.10000000000000009,
            "count": 5
           },
           {
            "bin_start": 0.10000000000000009,
            "bin_end": 0.20000000000000007,
            "count": 0
           },
           {
            "bin_start": 0.20000000000000007,
            "bin_end": 0.30000000000000004,
            "count": 0
           },
           {
            "bin_start": 0.30000000000000004,
            "bin_end": 0.4,
            "count": 0
           },
           {
            "bin_start": 0.4,
            "bin_end": 0.5,
            "count": 0
           }
          ]
         }
        },
        {
         "name": "is_black",
         "dtype": "int64",
         "stats": {
          "unique_count": 2,
          "nan_count": 0,
          "min": "0",
          "max": "1",
          "histogram": [
           {
            "bin_start": 0,
            "bin_end": 0.1,
            "count": 3
           },
           {
            "bin_start": 0.1,
            "bin_end": 0.2,
            "count": 0
           },
           {
            "bin_start": 0.2,
            "bin_end": 0.30000000000000004,
            "count": 0
           },
           {
            "bin_start": 0.30000000000000004,
            "bin_end": 0.4,
            "count": 0
           },
           {
            "bin_start": 0.4,
            "bin_end": 0.5,
            "count": 0
           },
           {
            "bin_start": 0.5,
            "bin_end": 0.6000000000000001,
            "count": 0
           },
           {
            "bin_start": 0.6000000000000001,
            "bin_end": 0.7000000000000001,
            "count": 0
           },
           {
            "bin_start": 0.7000000000000001,
            "bin_end": 0.8,
            "count": 0
           },
           {
            "bin_start": 0.8,
            "bin_end": 0.9,
            "count": 0
           },
           {
            "bin_start": 0.9,
            "bin_end": 1,
            "count": 2
           }
          ]
         }
        },
        {
         "name": "is_hispanic",
         "dtype": "int64",
         "stats": {
          "unique_count": 1,
          "nan_count": 0,
          "min": "0",
          "max": "0",
          "histogram": [
           {
            "bin_start": -0.5,
            "bin_end": -0.4,
            "count": 0
           },
           {
            "bin_start": -0.4,
            "bin_end": -0.3,
            "count": 0
           },
           {
            "bin_start": -0.3,
            "bin_end": -0.19999999999999996,
            "count": 0
           },
           {
            "bin_start": -0.19999999999999996,
            "bin_end": -0.09999999999999998,
            "count": 0
           },
           {
            "bin_start": -0.09999999999999998,
            "bin_end": 0,
            "count": 0
           },
           {
            "bin_start": 0,
            "bin_end": 0.10000000000000009,
            "count": 5
           },
           {
            "bin_start": 0.10000000000000009,
            "bin_end": 0.20000000000000007,
            "count": 0
           },
           {
            "bin_start": 0.20000000000000007,
            "bin_end": 0.30000000000000004,
            "count": 0
           },
           {
            "bin_start": 0.30000000000000004,
            "bin_end": 0.4,
            "count": 0
           },
           {
            "bin_start": 0.4,
            "bin_end": 0.5,
            "count": 0
           }
          ]
         }
        },
        {
         "name": "is_middle eastern",
         "dtype": "int64",
         "stats": {
          "unique_count": 1,
          "nan_count": 0,
          "min": "0",
          "max": "0",
          "histogram": [
           {
            "bin_start": -0.5,
            "bin_end": -0.4,
            "count": 0
           },
           {
            "bin_start": -0.4,
            "bin_end": -0.3,
            "count": 0
           },
           {
            "bin_start": -0.3,
            "bin_end": -0.19999999999999996,
            "count": 0
           },
           {
            "bin_start": -0.19999999999999996,
            "bin_end": -0.09999999999999998,
            "count": 0
           },
           {
            "bin_start": -0.09999999999999998,
            "bin_end": 0,
            "count": 0
           },
           {
            "bin_start": 0,
            "bin_end": 0.10000000000000009,
            "count": 5
           },
           {
            "bin_start": 0.10000000000000009,
            "bin_end": 0.20000000000000007,
            "count": 0
           },
           {
            "bin_start": 0.20000000000000007,
            "bin_end": 0.30000000000000004,
            "count": 0
           },
           {
            "bin_start": 0.30000000000000004,
            "bin_end": 0.4,
            "count": 0
           },
           {
            "bin_start": 0.4,
            "bin_end": 0.5,
            "count": 0
           }
          ]
         }
        },
        {
         "name": "is_native_american",
         "dtype": "int64",
         "stats": {
          "unique_count": 1,
          "nan_count": 0,
          "min": "0",
          "max": "0",
          "histogram": [
           {
            "bin_start": -0.5,
            "bin_end": -0.4,
            "count": 0
           },
           {
            "bin_start": -0.4,
            "bin_end": -0.3,
            "count": 0
           },
           {
            "bin_start": -0.3,
            "bin_end": -0.19999999999999996,
            "count": 0
           },
           {
            "bin_start": -0.19999999999999996,
            "bin_end": -0.09999999999999998,
            "count": 0
           },
           {
            "bin_start": -0.09999999999999998,
            "bin_end": 0,
            "count": 0
           },
           {
            "bin_start": 0,
            "bin_end": 0.10000000000000009,
            "count": 5
           },
           {
            "bin_start": 0.10000000000000009,
            "bin_end": 0.20000000000000007,
            "count": 0
           },
           {
            "bin_start": 0.20000000000000007,
            "bin_end": 0.30000000000000004,
            "count": 0
           },
           {
            "bin_start": 0.30000000000000004,
            "bin_end": 0.4,
            "count": 0
           },
           {
            "bin_start": 0.4,
            "bin_end": 0.5,
            "count": 0
           }
          ]
         }
        },
        {
         "name": "is_unknown_race",
         "dtype": "int64",
         "stats": {
          "unique_count": 2,
          "nan_count": 0,
          "min": "0",
          "max": "1",
          "histogram": [
           {
            "bin_start": 0,
            "bin_end": 0.1,
            "count": 4
           },
           {
            "bin_start": 0.1,
            "bin_end": 0.2,
            "count": 0
           },
           {
            "bin_start": 0.2,
            "bin_end": 0.30000000000000004,
            "count": 0
           },
           {
            "bin_start": 0.30000000000000004,
            "bin_end": 0.4,
            "count": 0
           },
           {
            "bin_start": 0.4,
            "bin_end": 0.5,
            "count": 0
           },
           {
            "bin_start": 0.5,
            "bin_end": 0.6000000000000001,
            "count": 0
           },
           {
            "bin_start": 0.6000000000000001,
            "bin_end": 0.7000000000000001,
            "count": 0
           },
           {
            "bin_start": 0.7000000000000001,
            "bin_end": 0.8,
            "count": 0
           },
           {
            "bin_start": 0.8,
            "bin_end": 0.9,
            "count": 0
           },
           {
            "bin_start": 0.9,
            "bin_end": 1,
            "count": 1
           }
          ]
         }
        },
        {
         "name": "is_white",
         "dtype": "int64",
         "stats": {
          "unique_count": 2,
          "nan_count": 0,
          "min": "0",
          "max": "1",
          "histogram": [
           {
            "bin_start": 0,
            "bin_end": 0.1,
            "count": 3
           },
           {
            "bin_start": 0.1,
            "bin_end": 0.2,
            "count": 0
           },
           {
            "bin_start": 0.2,
            "bin_end": 0.30000000000000004,
            "count": 0
           },
           {
            "bin_start": 0.30000000000000004,
            "bin_end": 0.4,
            "count": 0
           },
           {
            "bin_start": 0.4,
            "bin_end": 0.5,
            "count": 0
           },
           {
            "bin_start": 0.5,
            "bin_end": 0.6000000000000001,
            "count": 0
           },
           {
            "bin_start": 0.6000000000000001,
            "bin_end": 0.7000000000000001,
            "count": 0
           },
           {
            "bin_start": 0.7000000000000001,
            "bin_end": 0.8,
            "count": 0
           },
           {
            "bin_start": 0.8,
            "bin_end": 0.9,
            "count": 0
           },
           {
            "bin_start": 0.9,
            "bin_end": 1,
            "count": 2
           }
          ]
         }
        },
        {
         "name": "is_unarmed",
         "dtype": "int64",
         "stats": {
          "unique_count": 2,
          "nan_count": 0,
          "min": "0",
          "max": "1",
          "histogram": [
           {
            "bin_start": 0,
            "bin_end": 0.1,
            "count": 4
           },
           {
            "bin_start": 0.1,
            "bin_end": 0.2,
            "count": 0
           },
           {
            "bin_start": 0.2,
            "bin_end": 0.30000000000000004,
            "count": 0
           },
           {
            "bin_start": 0.30000000000000004,
            "bin_end": 0.4,
            "count": 0
           },
           {
            "bin_start": 0.4,
            "bin_end": 0.5,
            "count": 0
           },
           {
            "bin_start": 0.5,
            "bin_end": 0.6000000000000001,
            "count": 0
           },
           {
            "bin_start": 0.6000000000000001,
            "bin_end": 0.7000000000000001,
            "count": 0
           },
           {
            "bin_start": 0.7000000000000001,
            "bin_end": 0.8,
            "count": 0
           },
           {
            "bin_start": 0.8,
            "bin_end": 0.9,
            "count": 0
           },
           {
            "bin_start": 0.9,
            "bin_end": 1,
            "count": 1
           }
          ]
         }
        },
        {
         "name": "had_blunt object",
         "dtype": "int64",
         "stats": {
          "unique_count": 1,
          "nan_count": 0,
          "min": "0",
          "max": "0",
          "histogram": [
           {
            "bin_start": -0.5,
            "bin_end": -0.4,
            "count": 0
           },
           {
            "bin_start": -0.4,
            "bin_end": -0.3,
            "count": 0
           },
           {
            "bin_start": -0.3,
            "bin_end": -0.19999999999999996,
            "count": 0
           },
           {
            "bin_start": -0.19999999999999996,
            "bin_end": -0.09999999999999998,
            "count": 0
           },
           {
            "bin_start": -0.09999999999999998,
            "bin_end": 0,
            "count": 0
           },
           {
            "bin_start": 0,
            "bin_end": 0.10000000000000009,
            "count": 5
           },
           {
            "bin_start": 0.10000000000000009,
            "bin_end": 0.20000000000000007,
            "count": 0
           },
           {
            "bin_start": 0.20000000000000007,
            "bin_end": 0.30000000000000004,
            "count": 0
           },
           {
            "bin_start": 0.30000000000000004,
            "bin_end": 0.4,
            "count": 0
           },
           {
            "bin_start": 0.4,
            "bin_end": 0.5,
            "count": 0
           }
          ]
         }
        },
        {
         "name": "had_edged weapon",
         "dtype": "int64",
         "stats": {
          "unique_count": 2,
          "nan_count": 0,
          "min": "0",
          "max": "1",
          "histogram": [
           {
            "bin_start": 0,
            "bin_end": 0.1,
            "count": 4
           },
           {
            "bin_start": 0.1,
            "bin_end": 0.2,
            "count": 0
           },
           {
            "bin_start": 0.2,
            "bin_end": 0.30000000000000004,
            "count": 0
           },
           {
            "bin_start": 0.30000000000000004,
            "bin_end": 0.4,
            "count": 0
           },
           {
            "bin_start": 0.4,
            "bin_end": 0.5,
            "count": 0
           },
           {
            "bin_start": 0.5,
            "bin_end": 0.6000000000000001,
            "count": 0
           },
           {
            "bin_start": 0.6000000000000001,
            "bin_end": 0.7000000000000001,
            "count": 0
           },
           {
            "bin_start": 0.7000000000000001,
            "bin_end": 0.8,
            "count": 0
           },
           {
            "bin_start": 0.8,
            "bin_end": 0.9,
            "count": 0
           },
           {
            "bin_start": 0.9,
            "bin_end": 1,
            "count": 1
           }
          ]
         }
        },
        {
         "name": "had_firearm",
         "dtype": "int64",
         "stats": {
          "unique_count": 2,
          "nan_count": 0,
          "min": "0",
          "max": "1",
          "histogram": [
           {
            "bin_start": 0,
            "bin_end": 0.1,
            "count": 2
           },
           {
            "bin_start": 0.1,
            "bin_end": 0.2,
            "count": 0
           },
           {
            "bin_start": 0.2,
            "bin_end": 0.30000000000000004,
            "count": 0
           },
           {
            "bin_start": 0.30000000000000004,
            "bin_end": 0.4,
            "count": 0
           },
           {
            "bin_start": 0.4,
            "bin_end": 0.5,
            "count": 0
           },
           {
            "bin_start": 0.5,
            "bin_end": 0.6000000000000001,
            "count": 0
           },
           {
            "bin_start": 0.6000000000000001,
            "bin_end": 0.7000000000000001,
            "count": 0
           },
           {
            "bin_start": 0.7000000000000001,
            "bin_end": 0.8,
            "count": 0
           },
           {
            "bin_start": 0.8,
            "bin_end": 0.9,
            "count": 0
           },
           {
            "bin_start": 0.9,
            "bin_end": 1,
            "count": 3
           }
          ]
         }
        },
        {
         "name": "had_no_weapon",
         "dtype": "int64",
         "stats": {
          "unique_count": 2,
          "nan_count": 0,
          "min": "0",
          "max": "1",
          "histogram": [
           {
            "bin_start": 0,
            "bin_end": 0.1,
            "count": 4
           },
           {
            "bin_start": 0.1,
            "bin_end": 0.2,
            "count": 0
           },
           {
            "bin_start": 0.2,
            "bin_end": 0.30000000000000004,
            "count": 0
           },
           {
            "bin_start": 0.30000000000000004,
            "bin_end": 0.4,
            "count": 0
           },
           {
            "bin_start": 0.4,
            "bin_end": 0.5,
            "count": 0
           },
           {
            "bin_start": 0.5,
            "bin_end": 0.6000000000000001,
            "count": 0
           },
           {
            "bin_start": 0.6000000000000001,
            "bin_end": 0.7000000000000001,
            "count": 0
           },
           {
            "bin_start": 0.7000000000000001,
            "bin_end": 0.8,
            "count": 0
           },
           {
            "bin_start": 0.8,
            "bin_end": 0.9,
            "count": 0
           },
           {
            "bin_start": 0.9,
            "bin_end": 1,
            "count": 1
           }
          ]
         }
        },
        {
         "name": "had_other_weapon",
         "dtype": "int64",
         "stats": {
          "unique_count": 1,
          "nan_count": 0,
          "min": "0",
          "max": "0",
          "histogram": [
           {
            "bin_start": -0.5,
            "bin_end": -0.4,
            "count": 0
           },
           {
            "bin_start": -0.4,
            "bin_end": -0.3,
            "count": 0
           },
           {
            "bin_start": -0.3,
            "bin_end": -0.19999999999999996,
            "count": 0
           },
           {
            "bin_start": -0.19999999999999996,
            "bin_end": -0.09999999999999998,
            "count": 0
           },
           {
            "bin_start": -0.09999999999999998,
            "bin_end": 0,
            "count": 0
           },
           {
            "bin_start": 0,
            "bin_end": 0.10000000000000009,
            "count": 5
           },
           {
            "bin_start": 0.10000000000000009,
            "bin_end": 0.20000000000000007,
            "count": 0
           },
           {
            "bin_start": 0.20000000000000007,
            "bin_end": 0.30000000000000004,
            "count": 0
           },
           {
            "bin_start": 0.30000000000000004,
            "bin_end": 0.4,
            "count": 0
           },
           {
            "bin_start": 0.4,
            "bin_end": 0.5,
            "count": 0
           }
          ]
         }
        },
        {
         "name": "under 12",
         "dtype": "float64",
         "stats": {
          "unique_count": 1,
          "nan_count": 0,
          "min": "0.0",
          "max": "0.0",
          "histogram": [
           {
            "bin_start": -0.5,
            "bin_end": -0.4,
            "count": 0
           },
           {
            "bin_start": -0.4,
            "bin_end": -0.3,
            "count": 0
           },
           {
            "bin_start": -0.3,
            "bin_end": -0.19999999999999996,
            "count": 0
           },
           {
            "bin_start": -0.19999999999999996,
            "bin_end": -0.09999999999999998,
            "count": 0
           },
           {
            "bin_start": -0.09999999999999998,
            "bin_end": 0,
            "count": 0
           },
           {
            "bin_start": 0,
            "bin_end": 0.10000000000000009,
            "count": 5
           },
           {
            "bin_start": 0.10000000000000009,
            "bin_end": 0.20000000000000007,
            "count": 0
           },
           {
            "bin_start": 0.20000000000000007,
            "bin_end": 0.30000000000000004,
            "count": 0
           },
           {
            "bin_start": 0.30000000000000004,
            "bin_end": 0.4,
            "count": 0
           },
           {
            "bin_start": 0.4,
            "bin_end": 0.5,
            "count": 0
           }
          ]
         }
        },
        {
         "name": "12-17",
         "dtype": "float64",
         "stats": {
          "unique_count": 2,
          "nan_count": 0,
          "min": "0.0",
          "max": "1.0",
          "histogram": [
           {
            "bin_start": 0,
            "bin_end": 0.1,
            "count": 4
           },
           {
            "bin_start": 0.1,
            "bin_end": 0.2,
            "count": 0
           },
           {
            "bin_start": 0.2,
            "bin_end": 0.30000000000000004,
            "count": 0
           },
           {
            "bin_start": 0.30000000000000004,
            "bin_end": 0.4,
            "count": 0
           },
           {
            "bin_start": 0.4,
            "bin_end": 0.5,
            "count": 0
           },
           {
            "bin_start": 0.5,
            "bin_end": 0.6000000000000001,
            "count": 0
           },
           {
            "bin_start": 0.6000000000000001,
            "bin_end": 0.7000000000000001,
            "count": 0
           },
           {
            "bin_start": 0.7000000000000001,
            "bin_end": 0.8,
            "count": 0
           },
           {
            "bin_start": 0.8,
            "bin_end": 0.9,
            "count": 0
           },
           {
            "bin_start": 0.9,
            "bin_end": 1,
            "count": 1
           }
          ]
         }
        },
        {
         "name": "18-24",
         "dtype": "float64",
         "stats": {
          "unique_count": 1,
          "nan_count": 0,
          "min": "0.0",
          "max": "0.0",
          "histogram": [
           {
            "bin_start": -0.5,
            "bin_end": -0.4,
            "count": 0
           },
           {
            "bin_start": -0.4,
            "bin_end": -0.3,
            "count": 0
           },
           {
            "bin_start": -0.3,
            "bin_end": -0.19999999999999996,
            "count": 0
           },
           {
            "bin_start": -0.19999999999999996,
            "bin_end": -0.09999999999999998,
            "count": 0
           },
           {
            "bin_start": -0.09999999999999998,
            "bin_end": 0,
            "count": 0
           },
           {
            "bin_start": 0,
            "bin_end": 0.10000000000000009,
            "count": 5
           },
           {
            "bin_start": 0.10000000000000009,
            "bin_end": 0.20000000000000007,
            "count": 0
           },
           {
            "bin_start": 0.20000000000000007,
            "bin_end": 0.30000000000000004,
            "count": 0
           },
           {
            "bin_start": 0.30000000000000004,
            "bin_end": 0.4,
            "count": 0
           },
           {
            "bin_start": 0.4,
            "bin_end": 0.5,
            "count": 0
           }
          ]
         }
        },
        {
         "name": "25-34",
         "dtype": "float64",
         "stats": {
          "unique_count": 2,
          "nan_count": 0,
          "min": "0.0",
          "max": "1.0",
          "histogram": [
           {
            "bin_start": 0,
            "bin_end": 0.1,
            "count": 4
           },
           {
            "bin_start": 0.1,
            "bin_end": 0.2,
            "count": 0
           },
           {
            "bin_start": 0.2,
            "bin_end": 0.30000000000000004,
            "count": 0
           },
           {
            "bin_start": 0.30000000000000004,
            "bin_end": 0.4,
            "count": 0
           },
           {
            "bin_start": 0.4,
            "bin_end": 0.5,
            "count": 0
           },
           {
            "bin_start": 0.5,
            "bin_end": 0.6000000000000001,
            "count": 0
           },
           {
            "bin_start": 0.6000000000000001,
            "bin_end": 0.7000000000000001,
            "count": 0
           },
           {
            "bin_start": 0.7000000000000001,
            "bin_end": 0.8,
            "count": 0
           },
           {
            "bin_start": 0.8,
            "bin_end": 0.9,
            "count": 0
           },
           {
            "bin_start": 0.9,
            "bin_end": 1,
            "count": 1
           }
          ]
         }
        },
        {
         "name": "35-44",
         "dtype": "float64",
         "stats": {
          "unique_count": 2,
          "nan_count": 0,
          "min": "0.0",
          "max": "1.0",
          "histogram": [
           {
            "bin_start": 0,
            "bin_end": 0.1,
            "count": 4
           },
           {
            "bin_start": 0.1,
            "bin_end": 0.2,
            "count": 0
           },
           {
            "bin_start": 0.2,
            "bin_end": 0.30000000000000004,
            "count": 0
           },
           {
            "bin_start": 0.30000000000000004,
            "bin_end": 0.4,
            "count": 0
           },
           {
            "bin_start": 0.4,
            "bin_end": 0.5,
            "count": 0
           },
           {
            "bin_start": 0.5,
            "bin_end": 0.6000000000000001,
            "count": 0
           },
           {
            "bin_start": 0.6000000000000001,
            "bin_end": 0.7000000000000001,
            "count": 0
           },
           {
            "bin_start": 0.7000000000000001,
            "bin_end": 0.8,
            "count": 0
           },
           {
            "bin_start": 0.8,
            "bin_end": 0.9,
            "count": 0
           },
           {
            "bin_start": 0.9,
            "bin_end": 1,
            "count": 1
           }
          ]
         }
        },
        {
         "name": "45-54",
         "dtype": "float64",
         "stats": {
          "unique_count": 2,
          "nan_count": 0,
          "min": "0.0",
          "max": "1.0",
          "histogram": [
           {
            "bin_start": 0,
            "bin_end": 0.1,
            "count": 4
           },
           {
            "bin_start": 0.1,
            "bin_end": 0.2,
            "count": 0
           },
           {
            "bin_start": 0.2,
            "bin_end": 0.30000000000000004,
            "count": 0
           },
           {
            "bin_start": 0.30000000000000004,
            "bin_end": 0.4,
            "count": 0
           },
           {
            "bin_start": 0.4,
            "bin_end": 0.5,
            "count": 0
           },
           {
            "bin_start": 0.5,
            "bin_end": 0.6000000000000001,
            "count": 0
           },
           {
            "bin_start": 0.6000000000000001,
            "bin_end": 0.7000000000000001,
            "count": 0
           },
           {
            "bin_start": 0.7000000000000001,
            "bin_end": 0.8,
            "count": 0
           },
           {
            "bin_start": 0.8,
            "bin_end": 0.9,
            "count": 0
           },
           {
            "bin_start": 0.9,
            "bin_end": 1,
            "count": 1
           }
          ]
         }
        },
        {
         "name": "55-64",
         "dtype": "float64",
         "stats": {
          "unique_count": 2,
          "nan_count": 0,
          "min": "0.0",
          "max": "1.0",
          "histogram": [
           {
            "bin_start": 0,
            "bin_end": 0.1,
            "count": 4
           },
           {
            "bin_start": 0.1,
            "bin_end": 0.2,
            "count": 0
           },
           {
            "bin_start": 0.2,
            "bin_end": 0.30000000000000004,
            "count": 0
           },
           {
            "bin_start": 0.30000000000000004,
            "bin_end": 0.4,
            "count": 0
           },
           {
            "bin_start": 0.4,
            "bin_end": 0.5,
            "count": 0
           },
           {
            "bin_start": 0.5,
            "bin_end": 0.6000000000000001,
            "count": 0
           },
           {
            "bin_start": 0.6000000000000001,
            "bin_end": 0.7000000000000001,
            "count": 0
           },
           {
            "bin_start": 0.7000000000000001,
            "bin_end": 0.8,
            "count": 0
           },
           {
            "bin_start": 0.8,
            "bin_end": 0.9,
            "count": 0
           },
           {
            "bin_start": 0.9,
            "bin_end": 1,
            "count": 1
           }
          ]
         }
        },
        {
         "name": "65+",
         "dtype": "float64",
         "stats": {
          "unique_count": 1,
          "nan_count": 0,
          "min": "0.0",
          "max": "0.0",
          "histogram": [
           {
            "bin_start": -0.5,
            "bin_end": -0.4,
            "count": 0
           },
           {
            "bin_start": -0.4,
            "bin_end": -0.3,
            "count": 0
           },
           {
            "bin_start": -0.3,
            "bin_end": -0.19999999999999996,
            "count": 0
           },
           {
            "bin_start": -0.19999999999999996,
            "bin_end": -0.09999999999999998,
            "count": 0
           },
           {
            "bin_start": -0.09999999999999998,
            "bin_end": 0,
            "count": 0
           },
           {
            "bin_start": 0,
            "bin_end": 0.10000000000000009,
            "count": 5
           },
           {
            "bin_start": 0.10000000000000009,
            "bin_end": 0.20000000000000007,
            "count": 0
           },
           {
            "bin_start": 0.20000000000000007,
            "bin_end": 0.30000000000000004,
            "count": 0
           },
           {
            "bin_start": 0.30000000000000004,
            "bin_end": 0.4,
            "count": 0
           },
           {
            "bin_start": 0.4,
            "bin_end": 0.5,
            "count": 0
           }
          ]
         }
        },
        {
         "name": "_deepnote_index_column",
         "dtype": "int64"
        }
       ],
       "rows_top": [
        {
         "unique_id": 27652,
         "age": 48,
         "gender": "male",
         "race": "unknown_race",
         "date_of_injury_resulting_in_death_month_day_year": "2020-03-03",
         "location_of_death_zip_code": 33187,
         "agency_or_agencies_involved": "miami-dade police department",
         "highest_level_of_force": "gunshot",
         "armed_unarmed": "armed",
         "alleged_weapon": "edged weapon",
         "alleged_threat_lvl": 2,
         "fleeing_not_fleeing": "not_fleeing",
         "brief_description": "jose gainza allegedly stabbed and killed his daughter-in-law, ana iris rodriguez reyes, 27, then ba…",
         "intended_use_of_force_developing": "deadly force",
         "fleeing": 0,
         "age_bins": "45-54",
         "is_asian_pacific islander": 0,
         "is_black": 0,
         "is_hispanic": 0,
         "is_middle eastern": 0,
         "is_native_american": 0,
         "is_unknown_race": 1,
         "is_white": 0,
         "is_unarmed": 0,
         "had_blunt object": 0,
         "had_edged weapon": 1,
         "had_firearm": 0,
         "had_no_weapon": 0,
         "had_other_weapon": 0,
         "under 12": 0,
         "12-17": 0,
         "18-24": 0,
         "25-34": 0,
         "35-44": 0,
         "45-54": 1,
         "55-64": 0,
         "65+": 0,
         "_deepnote_index_column": 11903
        },
        {
         "unique_id": 17870,
         "age": 35,
         "gender": "male",
         "race": "black",
         "date_of_injury_resulting_in_death_month_day_year": "2016-07-02 00:00:00",
         "location_of_death_zip_code": 28806,
         "agency_or_agencies_involved": "asheville police department",
         "highest_level_of_force": "gunshot",
         "armed_unarmed": "armed",
         "alleged_weapon": "firearm",
         "alleged_threat_lvl": 2,
         "fleeing_not_fleeing": "fleeing",
         "brief_description": "police said they were called out to a report of shots fired at the pisgah view apartments. they att…",
         "intended_use_of_force_developing": "deadly force",
         "fleeing": 1,
         "age_bins": "35-44",
         "is_asian_pacific islander": 0,
         "is_black": 1,
         "is_hispanic": 0,
         "is_middle eastern": 0,
         "is_native_american": 0,
         "is_unknown_race": 0,
         "is_white": 0,
         "is_unarmed": 0,
         "had_blunt object": 0,
         "had_edged weapon": 0,
         "had_firearm": 1,
         "had_no_weapon": 0,
         "had_other_weapon": 0,
         "under 12": 0,
         "12-17": 0,
         "18-24": 0,
         "25-34": 0,
         "35-44": 1,
         "45-54": 0,
         "55-64": 0,
         "65+": 0,
         "_deepnote_index_column": 5725
        },
        {
         "unique_id": 26220,
         "age": 61,
         "gender": "male",
         "race": "white",
         "date_of_injury_resulting_in_death_month_day_year": "2019-06-24",
         "location_of_death_zip_code": 34224,
         "agency_or_agencies_involved": "charlotte county sheriff's office",
         "highest_level_of_force": "gunshot",
         "armed_unarmed": "armed",
         "alleged_weapon": "firearm",
         "alleged_threat_lvl": 2,
         "fleeing_not_fleeing": "not_fleeing",
         "brief_description": "around 9 p.m., a call came into 911 that bradley rundle had fired his gun multiple times inside a h…",
         "intended_use_of_force_developing": "deadly force",
         "fleeing": 0,
         "age_bins": "55-64",
         "is_asian_pacific islander": 0,
         "is_black": 0,
         "is_hispanic": 0,
         "is_middle eastern": 0,
         "is_native_american": 0,
         "is_unknown_race": 0,
         "is_white": 1,
         "is_unarmed": 0,
         "had_blunt object": 0,
         "had_edged weapon": 0,
         "had_firearm": 1,
         "had_no_weapon": 0,
         "had_other_weapon": 0,
         "under 12": 0,
         "12-17": 0,
         "18-24": 0,
         "25-34": 0,
         "35-44": 0,
         "45-54": 0,
         "55-64": 1,
         "65+": 0,
         "_deepnote_index_column": 10665
        },
        {
         "unique_id": 12221,
         "age": 17,
         "gender": "male",
         "race": "black",
         "date_of_injury_resulting_in_death_month_day_year": "2013-01-11",
         "location_of_death_zip_code": 1569,
         "agency_or_agencies_involved": "uxbridge police department",
         "highest_level_of_force": "vehicle",
         "armed_unarmed": "unarmed",
         "alleged_weapon": "no_weapon",
         "alleged_threat_lvl": 1,
         "fleeing_not_fleeing": "fleeing",
         "brief_description": "rome alexander ives, the driver of a stolen ford explorer, died after crashing into a pickup truck …",
         "intended_use_of_force_developing": "vehic/purs",
         "fleeing": 1,
         "age_bins": "12-17",
         "is_asian_pacific islander": 0,
         "is_black": 1,
         "is_hispanic": 0,
         "is_middle eastern": 0,
         "is_native_american": 0,
         "is_unknown_race": 0,
         "is_white": 0,
         "is_unarmed": 1,
         "had_blunt object": 0,
         "had_edged weapon": 0,
         "had_firearm": 0,
         "had_no_weapon": 1,
         "had_other_weapon": 0,
         "under 12": 0,
         "12-17": 1,
         "18-24": 0,
         "25-34": 0,
         "35-44": 0,
         "45-54": 0,
         "55-64": 0,
         "65+": 0,
         "_deepnote_index_column": 57
        },
        {
         "unique_id": 13305,
         "age": 29,
         "gender": "male",
         "race": "white",
         "date_of_injury_resulting_in_death_month_day_year": "2013-08-23",
         "location_of_death_zip_code": 85032,
         "agency_or_agencies_involved": "mesa police department",
         "highest_level_of_force": "gunshot",
         "armed_unarmed": "armed",
         "alleged_weapon": "firearm",
         "alleged_threat_lvl": 2,
         "fleeing_not_fleeing": "not_fleeing",
         "brief_description": "officers attempted to detain jonathan tricarico after the 29-year-old was observed driving a stolen…",
         "intended_use_of_force_developing": "deadly force",
         "fleeing": 0,
         "age_bins": "25-34",
         "is_asian_pacific islander": 0,
         "is_black": 0,
         "is_hispanic": 0,
         "is_middle eastern": 0,
         "is_native_american": 0,
         "is_unknown_race": 0,
         "is_white": 1,
         "is_unarmed": 0,
         "had_blunt object": 0,
         "had_edged weapon": 0,
         "had_firearm": 1,
         "had_no_weapon": 0,
         "had_other_weapon": 0,
         "under 12": 0,
         "12-17": 0,
         "18-24": 0,
         "25-34": 1,
         "35-44": 0,
         "45-54": 0,
         "55-64": 0,
         "65+": 0,
         "_deepnote_index_column": 1116
        }
       ],
       "rows_bottom": null
      },
      "text/plain": "       unique_id   age gender          race  \\\n11903    27652.0  48.0   male  unknown_race   \n5725     17870.0  35.0   male         black   \n10665    26220.0  61.0   male         white   \n57       12221.0  17.0   male         black   \n1116     13305.0  29.0   male         white   \n\n      date_of_injury_resulting_in_death_month_day_year  \\\n11903                                       2020-03-03   \n5725                               2016-07-02 00:00:00   \n10665                                       2019-06-24   \n57                                          2013-01-11   \n1116                                        2013-08-23   \n\n       location_of_death_zip_code        agency_or_agencies_involved  \\\n11903                     33187.0       miami-dade police department   \n5725                      28806.0        asheville police department   \n10665                     34224.0  charlotte county sheriff's office   \n57                         1569.0         uxbridge police department   \n1116                      85032.0             mesa police department   \n\n      highest_level_of_force armed_unarmed alleged_weapon  ...  had_no_weapon  \\\n11903                gunshot         armed   edged weapon  ...              0   \n5725                 gunshot         armed        firearm  ...              0   \n10665                gunshot         armed        firearm  ...              0   \n57                   vehicle       unarmed      no_weapon  ...              1   \n1116                 gunshot         armed        firearm  ...              0   \n\n      had_other_weapon under 12 12-17  18-24 25-34  35-44  45-54  55-64  65+  \n11903                0      0.0   0.0    0.0   0.0    0.0    1.0    0.0  0.0  \n5725                 0      0.0   0.0    0.0   0.0    1.0    0.0    0.0  0.0  \n10665                0      0.0   0.0    0.0   0.0    0.0    0.0    1.0  0.0  \n57                   0      0.0   1.0    0.0   0.0    0.0    0.0    0.0  0.0  \n1116                 0      0.0   0.0    0.0   1.0    0.0    0.0    0.0  0.0  \n\n[5 rows x 37 columns]",
      "text/html": "<div>\n<style scoped>\n    .dataframe tbody tr th:only-of-type {\n        vertical-align: middle;\n    }\n\n    .dataframe tbody tr th {\n        vertical-align: top;\n    }\n\n    .dataframe thead th {\n        text-align: right;\n    }\n</style>\n<table border=\"1\" class=\"dataframe\">\n  <thead>\n    <tr style=\"text-align: right;\">\n      <th></th>\n      <th>unique_id</th>\n      <th>age</th>\n      <th>gender</th>\n      <th>race</th>\n      <th>date_of_injury_resulting_in_death_month_day_year</th>\n      <th>location_of_death_zip_code</th>\n      <th>agency_or_agencies_involved</th>\n      <th>highest_level_of_force</th>\n      <th>armed_unarmed</th>\n      <th>alleged_weapon</th>\n      <th>...</th>\n      <th>had_no_weapon</th>\n      <th>had_other_weapon</th>\n      <th>under 12</th>\n      <th>12-17</th>\n      <th>18-24</th>\n      <th>25-34</th>\n      <th>35-44</th>\n      <th>45-54</th>\n      <th>55-64</th>\n      <th>65+</th>\n    </tr>\n  </thead>\n  <tbody>\n    <tr>\n      <th>11903</th>\n      <td>27652.0</td>\n      <td>48.0</td>\n      <td>male</td>\n      <td>unknown_race</td>\n      <td>2020-03-03</td>\n      <td>33187.0</td>\n      <td>miami-dade police department</td>\n      <td>gunshot</td>\n      <td>armed</td>\n      <td>edged weapon</td>\n      <td>...</td>\n      <td>0</td>\n      <td>0</td>\n      <td>0.0</td>\n      <td>0.0</td>\n      <td>0.0</td>\n      <td>0.0</td>\n      <td>0.0</td>\n      <td>1.0</td>\n      <td>0.0</td>\n      <td>0.0</td>\n    </tr>\n    <tr>\n      <th>5725</th>\n      <td>17870.0</td>\n      <td>35.0</td>\n      <td>male</td>\n      <td>black</td>\n      <td>2016-07-02 00:00:00</td>\n      <td>28806.0</td>\n      <td>asheville police department</td>\n      <td>gunshot</td>\n      <td>armed</td>\n      <td>firearm</td>\n      <td>...</td>\n      <td>0</td>\n      <td>0</td>\n      <td>0.0</td>\n      <td>0.0</td>\n      <td>0.0</td>\n      <td>0.0</td>\n      <td>1.0</td>\n      <td>0.0</td>\n      <td>0.0</td>\n      <td>0.0</td>\n    </tr>\n    <tr>\n      <th>10665</th>\n      <td>26220.0</td>\n      <td>61.0</td>\n      <td>male</td>\n      <td>white</td>\n      <td>2019-06-24</td>\n      <td>34224.0</td>\n      <td>charlotte county sheriff's office</td>\n      <td>gunshot</td>\n      <td>armed</td>\n      <td>firearm</td>\n      <td>...</td>\n      <td>0</td>\n      <td>0</td>\n      <td>0.0</td>\n      <td>0.0</td>\n      <td>0.0</td>\n      <td>0.0</td>\n      <td>0.0</td>\n      <td>0.0</td>\n      <td>1.0</td>\n      <td>0.0</td>\n    </tr>\n    <tr>\n      <th>57</th>\n      <td>12221.0</td>\n      <td>17.0</td>\n      <td>male</td>\n      <td>black</td>\n      <td>2013-01-11</td>\n      <td>1569.0</td>\n      <td>uxbridge police department</td>\n      <td>vehicle</td>\n      <td>unarmed</td>\n      <td>no_weapon</td>\n      <td>...</td>\n      <td>1</td>\n      <td>0</td>\n      <td>0.0</td>\n      <td>1.0</td>\n      <td>0.0</td>\n      <td>0.0</td>\n      <td>0.0</td>\n      <td>0.0</td>\n      <td>0.0</td>\n      <td>0.0</td>\n    </tr>\n    <tr>\n      <th>1116</th>\n      <td>13305.0</td>\n      <td>29.0</td>\n      <td>male</td>\n      <td>white</td>\n      <td>2013-08-23</td>\n      <td>85032.0</td>\n      <td>mesa police department</td>\n      <td>gunshot</td>\n      <td>armed</td>\n      <td>firearm</td>\n      <td>...</td>\n      <td>0</td>\n      <td>0</td>\n      <td>0.0</td>\n      <td>0.0</td>\n      <td>0.0</td>\n      <td>1.0</td>\n      <td>0.0</td>\n      <td>0.0</td>\n      <td>0.0</td>\n      <td>0.0</td>\n    </tr>\n  </tbody>\n</table>\n<p>5 rows × 37 columns</p>\n</div>"
     },
     "metadata": {}
    }
   ]
  },
  {
   "cell_type": "markdown",
   "source": "### Takeaway\n- Data is prepped/split and ready to be explored, modeled, and evaluated.",
   "metadata": {
    "tags": [],
    "cell_id": "00020-45324423-6899-4f40-b48f-f81f3bb25195",
    "deepnote_cell_type": "markdown"
   }
  },
  {
   "cell_type": "markdown",
   "source": "\n___\n# Explore Data\n#### Address questions posed in planning\n- Does gender make a difference in alleged threat level?\n- How does mental illness affect each gender?\n- Do symptoms of mental illness play a role in threat level?\n- Is race a factor for alleged threat level?\n- Does bodycam make a difference in alleged threat level?\n- Is cause of death and alleged threat level independent of one another?\n- What areas in geography are resulting in more killings?\n- What are the fatalities by state: % killings vs pop\n\n## • Visualizations",
   "metadata": {
    "cell_id": "00021-7db5467c-09b0-442e-a62c-d9d0fadb4a91",
    "deepnote_cell_type": "markdown"
   }
  },
  {
   "cell_type": "code",
   "metadata": {
    "deepnote_to_be_reexecuted": false,
    "source_hash": "bebc8bdb",
    "execution_start": 1622241514142,
    "execution_millis": 322,
    "cell_id": "00022-20186ecb-0482-4d9c-a903-6d44e4c60719",
    "deepnote_cell_type": "code"
   },
   "source": "#visualize gender vs alleged threat level\nax = pd.crosstab(train.gender, train.alleged_threat_lvl, normalize ='index').plot.barh(figsize=(8, 6), cmap=plt.cm.get_cmap('Blues'), ec=\"black\")\n\n#customize legend\nlegend_labels, _= ax.get_legend_handles_labels()\nax.legend(legend_labels, ['Non-Attack', 'Attack'], \n          bbox_to_anchor=(1,1), \n          title='Threat Level')\n\n#customize chart\nplt.title(\"Does Gender Make a Difference in Alleged Threat Level?\", fontsize = 15)\nplt.ylabel(\"Gender\", fontsize = 12)\nplt.xlabel('Percentage', fontsize = 12)\nax.tick_params(labelsize=10)\nplt.xlim([0.0, 1.0])\nplt.show()\n\n#get percentages df\npercentages = pd.crosstab(train.gender, train.alleged_threat_lvl, normalize = 'index')\npercentages",
   "execution_count": 15,
   "outputs": [
    {
     "data": {
      "text/plain": "<Figure size 576x432 with 1 Axes>",
      "image/png": "[encoded data removed]"
     },
     "metadata": {
      "needs_background": "light",
      "image/png": {
       "width": 642,
       "height": 392
      }
     },
     "output_type": "display_data"
    },
    {
     "output_type": "execute_result",
     "execution_count": 15,
     "data": {
      "application/vnd.deepnote.dataframe.v2+json": {
       "row_count": 3,
       "column_count": 3,
       "columns": [
        {
         "name": "ambiguous_threat",
         "dtype": "float64",
         "stats": {
          "unique_count": 3,
          "nan_count": 0,
          "min": "0.0",
          "max": "0.10873171467350325",
          "histogram": [
           {
            "bin_start": 0,
            "bin_end": 0.010873171467350324,
            "count": 1
           },
           {
            "bin_start": 0.010873171467350324,
            "bin_end": 0.02174634293470065,
            "count": 0
           },
           {
            "bin_start": 0.02174634293470065,
            "bin_end": 0.03261951440205097,
            "count": 0
           },
           {
            "bin_start": 0.03261951440205097,
            "bin_end": 0.0434926858694013,
            "count": 0
           },
           {
            "bin_start": 0.0434926858694013,
            "bin_end": 0.05436585733675162,
            "count": 0
           },
           {
            "bin_start": 0.05436585733675162,
            "bin_end": 0.06523902880410194,
            "count": 1
           },
           {
            "bin_start": 0.06523902880410194,
            "bin_end": 0.07611220027145227,
            "count": 0
           },
           {
            "bin_start": 0.07611220027145227,
            "bin_end": 0.0869853717388026,
            "count": 0
           },
           {
            "bin_start": 0.0869853717388026,
            "bin_end": 0.09785854320615292,
            "count": 0
           },
           {
            "bin_start": 0.09785854320615292,
            "bin_end": 0.10873171467350325,
            "count": 1
           }
          ]
         }
        },
        {
         "name": "no_threat",
         "dtype": "float64",
         "stats": {
          "unique_count": 3,
          "nan_count": 0,
          "min": "0.14285714285714285",
          "max": "0.7395543175487466",
          "histogram": [
           {
            "bin_start": 0.14285714285714285,
            "bin_end": 0.2025268603263032,
            "count": 1
           },
           {
            "bin_start": 0.2025268603263032,
            "bin_end": 0.26219657779546357,
            "count": 0
           },
           {
            "bin_start": 0.26219657779546357,
            "bin_end": 0.32186629526462396,
            "count": 0
           },
           {
            "bin_start": 0.32186629526462396,
            "bin_end": 0.38153601273378435,
            "count": 1
           },
           {
            "bin_start": 0.38153601273378435,
            "bin_end": 0.4412057302029447,
            "count": 0
           },
           {
            "bin_start": 0.4412057302029447,
            "bin_end": 0.5008754476721051,
            "count": 0
           },
           {
            "bin_start": 0.5008754476721051,
            "bin_end": 0.5605451651412654,
            "count": 0
           },
           {
            "bin_start": 0.5605451651412654,
            "bin_end": 0.6202148826104258,
            "count": 0
           },
           {
            "bin_start": 0.6202148826104258,
            "bin_end": 0.6798846000795862,
            "count": 0
           },
           {
            "bin_start": 0.6798846000795862,
            "bin_end": 0.7395543175487466,
            "count": 1
           }
          ]
         }
        },
        {
         "name": "threat",
         "dtype": "float64",
         "stats": {
          "unique_count": 3,
          "nan_count": 0,
          "min": "0.20334261838440112",
          "max": "0.8571428571428571",
          "histogram": [
           {
            "bin_start": 0.20334261838440112,
            "bin_end": 0.2687226422602467,
            "count": 1
           },
           {
            "bin_start": 0.2687226422602467,
            "bin_end": 0.3341026661360923,
            "count": 0
           },
           {
            "bin_start": 0.3341026661360923,
            "bin_end": 0.3994826900119379,
            "count": 0
           },
           {
            "bin_start": 0.3994826900119379,
            "bin_end": 0.46486271388778355,
            "count": 0
           },
           {
            "bin_start": 0.46486271388778355,
            "bin_end": 0.5302427377636292,
            "count": 0
           },
           {
            "bin_start": 0.5302427377636292,
            "bin_end": 0.5956227616394747,
            "count": 1
           },
           {
            "bin_start": 0.5956227616394747,
            "bin_end": 0.6610027855153203,
            "count": 0
           },
           {
            "bin_start": 0.6610027855153203,
            "bin_end": 0.726382809391166,
            "count": 0
           },
           {
            "bin_start": 0.726382809391166,
            "bin_end": 0.7917628332670116,
            "count": 0
           },
           {
            "bin_start": 0.7917628332670116,
            "bin_end": 0.8571428571428571,
            "count": 1
           }
          ]
         }
        },
        {
         "name": "_deepnote_index_column",
         "dtype": "object"
        }
       ],
       "rows_top": [
        {
         "ambiguous_threat": 0.057103064066852366,
         "no_threat": 0.7395543175487466,
         "threat": 0.20334261838440112,
         "_deepnote_index_column": "female"
        },
        {
         "ambiguous_threat": 0.10873171467350325,
         "no_threat": 0.33418790529331927,
         "threat": 0.5570803800331775,
         "_deepnote_index_column": "male"
        },
        {
         "ambiguous_threat": 0,
         "no_threat": 0.14285714285714285,
         "threat": 0.8571428571428571,
         "_deepnote_index_column": "transgender"
        }
       ],
       "rows_bottom": null
      },
      "text/plain": "alleged_threat_lvl  ambiguous_threat  no_threat    threat\ngender                                                   \nfemale                      0.057103   0.739554  0.203343\nmale                        0.108732   0.334188  0.557080\ntransgender                 0.000000   0.142857  0.857143",
      "text/html": "<div>\n<style scoped>\n    .dataframe tbody tr th:only-of-type {\n        vertical-align: middle;\n    }\n\n    .dataframe tbody tr th {\n        vertical-align: top;\n    }\n\n    .dataframe thead th {\n        text-align: right;\n    }\n</style>\n<table border=\"1\" class=\"dataframe\">\n  <thead>\n    <tr style=\"text-align: right;\">\n      <th>alleged_threat_lvl</th>\n      <th>ambiguous_threat</th>\n      <th>no_threat</th>\n      <th>threat</th>\n    </tr>\n    <tr>\n      <th>gender</th>\n      <th></th>\n      <th></th>\n      <th></th>\n    </tr>\n  </thead>\n  <tbody>\n    <tr>\n      <th>female</th>\n      <td>0.057103</td>\n      <td>0.739554</td>\n      <td>0.203343</td>\n    </tr>\n    <tr>\n      <th>male</th>\n      <td>0.108732</td>\n      <td>0.334188</td>\n      <td>0.557080</td>\n    </tr>\n    <tr>\n      <th>transgender</th>\n      <td>0.000000</td>\n      <td>0.142857</td>\n      <td>0.857143</td>\n    </tr>\n  </tbody>\n</table>\n</div>"
     },
     "metadata": {}
    }
   ]
  },
  {
   "cell_type": "markdown",
   "source": "### Takeaways\n- Highest percentage of non-attacks are transgender. Second highest is female.\n- Highest percentage of attacks are male. Second highest is female.\n- Males are almost equally likely to be an attack or non-attack threat level.",
   "metadata": {
    "cell_id": "00023-c1a2386c-b875-4667-a120-7d892950a407",
    "deepnote_cell_type": "markdown"
   }
  },
  {
   "cell_type": "code",
   "metadata": {
    "deepnote_to_be_reexecuted": false,
    "execution_millis": 412,
    "execution_start": 1622241514458,
    "source_hash": "55411c56",
    "tags": [],
    "cell_id": "00024-9b082507-ff1a-4ea9-a37d-3395b05f3c7b",
    "deepnote_cell_type": "code"
   },
   "source": "#visualize race vs alleged threat level\nax = pd.crosstab(train.race, train.alleged_threat_lvl, normalize ='index').plot.barh(figsize=(8, 6), cmap=plt.cm.get_cmap('Blues'), ec=\"black\")\n\n#customize legend\nlegend_labels, _= ax.get_legend_handles_labels()\nax.legend(legend_labels, ['Ambiguous', 'No threat', 'Threat'], \n          bbox_to_anchor=(1,1), \n          title='Threat Level')\n\n#customize chart\nplt.title(\"Is Race a Factor in Threat Level?\", fontsize = 15)\nplt.ylabel(\"Race\", fontsize = 12)\nplt.xlabel('Percentage', fontsize = 12)\nax.tick_params(labelsize=10)\nplt.xlim([0.0, 1.0])\nplt.show()\n\n#get percentages df\npercentages = pd.crosstab(train.race, train.alleged_threat_lvl, normalize = 'index')\npercentages",
   "execution_count": 16,
   "outputs": [
    {
     "data": {
      "text/plain": "<Figure size 576x432 with 1 Axes>",
      "image/png": "[encoded data removed]"
     },
     "metadata": {
      "needs_background": "light",
      "image/png": {
       "width": 598,
       "height": 392
      }
     },
     "output_type": "display_data"
    },
    {
     "output_type": "execute_result",
     "execution_count": 16,
     "data": {
      "application/vnd.deepnote.dataframe.v2+json": {
       "row_count": 7,
       "column_count": 3,
       "columns": [
        {
         "name": "ambiguous_threat",
         "dtype": "float64",
         "stats": {
          "unique_count": 7,
          "nan_count": 0,
          "min": "0.05931321540062435",
          "max": "0.12981199641897942",
          "histogram": [
           {
            "bin_start": 0.05931321540062435,
            "bin_end": 0.06636309350245986,
            "count": 2
           },
           {
            "bin_start": 0.06636309350245986,
            "bin_end": 0.07341297160429536,
            "count": 0
           },
           {
            "bin_start": 0.07341297160429536,
            "bin_end": 0.08046284970613088,
            "count": 1
           },
           {
            "bin_start": 0.08046284970613088,
            "bin_end": 0.08751272780796637,
            "count": 1
           },
           {
            "bin_start": 0.08751272780796637,
            "bin_end": 0.0945626059098019,
            "count": 0
           },
           {
            "bin_start": 0.0945626059098019,
            "bin_end": 0.10161248401163739,
            "count": 1
           },
           {
            "bin_start": 0.10161248401163739,
            "bin_end": 0.10866236211347291,
            "count": 0
           },
           {
            "bin_start": 0.10866236211347291,
            "bin_end": 0.1157122402153084,
            "count": 0
           },
           {
            "bin_start": 0.1157122402153084,
            "bin_end": 0.12276211831714393,
            "count": 0
           },
           {
            "bin_start": 0.12276211831714393,
            "bin_end": 0.12981199641897942,
            "count": 2
           }
          ]
         }
        },
        {
         "name": "no_threat",
         "dtype": "float64",
         "stats": {
          "unique_count": 7,
          "nan_count": 0,
          "min": "0.15384615384615385",
          "max": "0.5379812695109261",
          "histogram": [
           {
            "bin_start": 0.15384615384615385,
            "bin_end": 0.19225966541263106,
            "count": 1
           },
           {
            "bin_start": 0.19225966541263106,
            "bin_end": 0.2306731769791083,
            "count": 0
           },
           {
            "bin_start": 0.2306731769791083,
            "bin_end": 0.26908668854558554,
            "count": 1
           },
           {
            "bin_start": 0.26908668854558554,
            "bin_end": 0.30750020011206275,
            "count": 0
           },
           {
            "bin_start": 0.30750020011206275,
            "bin_end": 0.34591371167853996,
            "count": 2
           },
           {
            "bin_start": 0.34591371167853996,
            "bin_end": 0.3843272232450172,
            "count": 2
           },
           {
            "bin_start": 0.3843272232450172,
            "bin_end": 0.42274073481149443,
            "count": 0
           },
           {
            "bin_start": 0.42274073481149443,
            "bin_end": 0.46115424637797164,
            "count": 0
           },
           {
            "bin_start": 0.46115424637797164,
            "bin_end": 0.49956775794444885,
            "count": 0
           },
           {
            "bin_start": 0.49956775794444885,
            "bin_end": 0.5379812695109261,
            "count": 1
           }
          ]
         }
        },
        {
         "name": "threat",
         "dtype": "float64",
         "stats": {
          "unique_count": 7,
          "nan_count": 0,
          "min": "0.40270551508844954",
          "max": "0.7692307692307693",
          "histogram": [
           {
            "bin_start": 0.40270551508844954,
            "bin_end": 0.4393580405026815,
            "count": 1
           },
           {
            "bin_start": 0.4393580405026815,
            "bin_end": 0.4760105659169135,
            "count": 0
           },
           {
            "bin_start": 0.4760105659169135,
            "bin_end": 0.5126630913311454,
            "count": 1
           },
           {
            "bin_start": 0.5126630913311454,
            "bin_end": 0.5493156167453774,
            "count": 0
           },
           {
            "bin_start": 0.5493156167453774,
            "bin_end": 0.5859681421596095,
            "count": 2
           },
           {
            "bin_start": 0.5859681421596095,
            "bin_end": 0.6226206675738414,
            "count": 1
           },
           {
            "bin_start": 0.6226206675738414,
            "bin_end": 0.6592731929880733,
            "count": 0
           },
           {
            "bin_start": 0.6592731929880733,
            "bin_end": 0.6959257184023053,
            "count": 1
           },
           {
            "bin_start": 0.6959257184023053,
            "bin_end": 0.7325782438165374,
            "count": 0
           },
           {
            "bin_start": 0.7325782438165374,
            "bin_end": 0.7692307692307693,
            "count": 1
           }
          ]
         }
        },
        {
         "name": "_deepnote_index_column",
         "dtype": "object"
        }
       ],
       "rows_top": [
        {
         "ambiguous_threat": 0.0873015873015873,
         "no_threat": 0.3253968253968254,
         "threat": 0.5873015873015873,
         "_deepnote_index_column": "asian/pacific islander"
        },
        {
         "ambiguous_threat": 0.12839637719765584,
         "no_threat": 0.38359083644112946,
         "threat": 0.4880127863612147,
         "_deepnote_index_column": "black"
        },
        {
         "ambiguous_threat": 0.12981199641897942,
         "no_threat": 0.3106535362578335,
         "threat": 0.5595344673231871,
         "_deepnote_index_column": "hispanic"
        },
        {
         "ambiguous_threat": 0.07692307692307693,
         "no_threat": 0.15384615384615385,
         "threat": 0.7692307692307693,
         "_deepnote_index_column": "middle eastern"
        },
        {
         "ambiguous_threat": 0.0594059405940594,
         "no_threat": 0.25742574257425743,
         "threat": 0.6831683168316832,
         "_deepnote_index_column": "native_american"
        },
        {
         "ambiguous_threat": 0.05931321540062435,
         "no_threat": 0.5379812695109261,
         "threat": 0.40270551508844954,
         "_deepnote_index_column": "unknown_race"
        },
        {
         "ambiguous_threat": 0.09522303068649161,
         "no_threat": 0.3464093641252768,
         "threat": 0.5583676051882316,
         "_deepnote_index_column": "white"
        }
       ],
       "rows_bottom": null
      },
      "text/plain": "alleged_threat_lvl      ambiguous_threat  no_threat    threat\nrace                                                         \nasian/pacific islander          0.087302   0.325397  0.587302\nblack                           0.128396   0.383591  0.488013\nhispanic                        0.129812   0.310654  0.559534\nmiddle eastern                  0.076923   0.153846  0.769231\nnative_american                 0.059406   0.257426  0.683168\nunknown_race                    0.059313   0.537981  0.402706\nwhite                           0.095223   0.346409  0.558368",
      "text/html": "<div>\n<style scoped>\n    .dataframe tbody tr th:only-of-type {\n        vertical-align: middle;\n    }\n\n    .dataframe tbody tr th {\n        vertical-align: top;\n    }\n\n    .dataframe thead th {\n        text-align: right;\n    }\n</style>\n<table border=\"1\" class=\"dataframe\">\n  <thead>\n    <tr style=\"text-align: right;\">\n      <th>alleged_threat_lvl</th>\n      <th>ambiguous_threat</th>\n      <th>no_threat</th>\n      <th>threat</th>\n    </tr>\n    <tr>\n      <th>race</th>\n      <th></th>\n      <th></th>\n      <th></th>\n    </tr>\n  </thead>\n  <tbody>\n    <tr>\n      <th>asian/pacific islander</th>\n      <td>0.087302</td>\n      <td>0.325397</td>\n      <td>0.587302</td>\n    </tr>\n    <tr>\n      <th>black</th>\n      <td>0.128396</td>\n      <td>0.383591</td>\n      <td>0.488013</td>\n    </tr>\n    <tr>\n      <th>hispanic</th>\n      <td>0.129812</td>\n      <td>0.310654</td>\n      <td>0.559534</td>\n    </tr>\n    <tr>\n      <th>middle eastern</th>\n      <td>0.076923</td>\n      <td>0.153846</td>\n      <td>0.769231</td>\n    </tr>\n    <tr>\n      <th>native_american</th>\n      <td>0.059406</td>\n      <td>0.257426</td>\n      <td>0.683168</td>\n    </tr>\n    <tr>\n      <th>unknown_race</th>\n      <td>0.059313</td>\n      <td>0.537981</td>\n      <td>0.402706</td>\n    </tr>\n    <tr>\n      <th>white</th>\n      <td>0.095223</td>\n      <td>0.346409</td>\n      <td>0.558368</td>\n    </tr>\n  </tbody>\n</table>\n</div>"
     },
     "metadata": {}
    }
   ]
  },
  {
   "cell_type": "markdown",
   "source": "### Takeaways\n- The highest occurrence of non-attacks are seen in Native Americans. Second highest is Hispanics.\n- The highest occurrence of attacks are seen in White races. Second highest appears to be Asians/Pacific Islanders. \n- Black races are almost equally likely to result in attack/non-attack threat levels.\n- There is a lot of unknown races in the data. Why?",
   "metadata": {
    "tags": [],
    "cell_id": "00025-08165ec8-8eae-45dc-86c3-d2f276e418d9",
    "deepnote_cell_type": "markdown"
   }
  },
  {
   "cell_type": "markdown",
   "source": "\n___\n\n## • Hypothesis Testing",
   "metadata": {
    "cell_id": "00026-fe9cf113-33d6-4d52-8059-706061bf8617",
    "deepnote_cell_type": "markdown"
   }
  },
  {
   "cell_type": "code",
   "metadata": {
    "tags": [],
    "deepnote_to_be_reexecuted": false,
    "source_hash": "2c9af269",
    "execution_start": 1622241514854,
    "execution_millis": 4,
    "cell_id": "00027-b999e1b4-ea09-4c88-a417-addc00d4331c",
    "deepnote_cell_type": "code"
   },
   "source": "threat_dummies = pd.get_dummies(df.alleged_threat_lvl, drop_first=False, prefix='is')",
   "execution_count": 17,
   "outputs": []
  },
  {
   "cell_type": "code",
   "metadata": {
    "tags": [],
    "deepnote_to_be_reexecuted": false,
    "source_hash": "f81407ac",
    "execution_start": 1622241514864,
    "execution_millis": 8,
    "cell_id": "00028-e6a10ae4-1d5e-4323-8536-be547756c481",
    "deepnote_cell_type": "code"
   },
   "source": "df = pd.concat([df, threat_dummies], axis=1)",
   "execution_count": 18,
   "outputs": []
  },
  {
   "cell_type": "code",
   "metadata": {
    "tags": [],
    "deepnote_to_be_reexecuted": false,
    "source_hash": "85c0491e",
    "execution_start": 1622241514886,
    "execution_millis": 31,
    "cell_id": "00029-2f927046-a036-42e7-8156-017bae84d248",
    "deepnote_cell_type": "code"
   },
   "source": "train, validate, test = split(df, stratify_by=\"alleged_threat_lvl\")",
   "execution_count": 19,
   "outputs": []
  },
  {
   "cell_type": "code",
   "metadata": {
    "deepnote_to_be_reexecuted": false,
    "source_hash": "d91b8556",
    "execution_start": 1622241514963,
    "execution_millis": 8,
    "cell_id": "00030-2801e0c7-e7b7-4b1d-ba77-29a8927b8ee1",
    "deepnote_cell_type": "code"
   },
   "source": "#t-test for gender vs threat level\nfemale = train[train.gender == 'female']\nmale = train[train.gender == 'male']\ntransg = train[train.gender == 'transgender']\nnot_male = train[train.gender != 'male']\n\nmale_att = male.is_threat\nnon_male_att = not_male.is_threat\n\nnull_hypothesis = \"There is not a difference between male attackers and the remaining population.\"\nalternative_hypothesis = \"Attacker status for males & total population are different.\"\nconfidence_level = .95\na = 1 - confidence_level\n\nt, p = stats.ttest_ind(male_att, non_male_att)\nprint(t, p)\n\nif p < a:\n    print(\"We reject the null hypothesis.\")\n    print(f\"We can move forward with alternative hypothesis: {alternative_hypothesis}\")\nelse:\n    print(\"We fail to reject the null hypothesis\")\n    print(f\"Not enough evidence to support the claim: {null_hypothesis}\")",
   "execution_count": 20,
   "outputs": [
    {
     "name": "stdout",
     "text": "18.17457349129139 3.0751893776102073e-72\nWe reject the null hypothesis.\nWe can move forward with alternative hypothesis: Attacker status for males & total population are different.\n",
     "output_type": "stream"
    }
   ]
  },
  {
   "cell_type": "code",
   "metadata": {
    "deepnote_to_be_reexecuted": false,
    "execution_millis": 45,
    "execution_start": 1622241514963,
    "source_hash": "b256267b",
    "tags": [],
    "cell_id": "00031-9c912081-0bf2-42c4-80c5-40d0d0d5d7b0",
    "deepnote_cell_type": "code"
   },
   "source": "#chi2 test for race vs alleged threat level\nexp.chi2_matts(train, 'race', 'alleged_threat_lvl', alpha=0.05)",
   "execution_count": 21,
   "outputs": [
    {
     "name": "stdout",
     "text": "Observed\n\n[[  11   41   74]\n [ 241  720  916]\n [ 145  347  625]\n [   1    2   10]\n [   6   26   69]\n [  57  517  387]\n [ 301 1095 1765]]\n---\nExpected\n\n[[1.30522023e+01 4.70701468e+01 6.58776509e+01]\n [1.94436378e+02 7.01195759e+02 9.81367863e+02]\n [1.15708809e+02 4.17280587e+02 5.84010604e+02]\n [1.34665579e+00 4.85644372e+00 6.79690049e+00]\n [1.04624796e+01 3.77308320e+01 5.28066884e+01]\n [9.95489396e+01 3.59003263e+02 5.02447798e+02]\n [3.27444535e+02 1.18086297e+03 1.65269250e+03]]\n---\n\nchi^2 = 184.2978\np     = 0.0000\n\nBecause the p-value: 0.0 is less than alpha: 0.05, we can reject the null hypothesis\n",
     "output_type": "stream"
    }
   ]
  },
  {
   "cell_type": "markdown",
   "source": "# Split up race for further testing",
   "metadata": {
    "tags": [],
    "cell_id": "00032-26a5c8e2-ba06-4d18-ab50-aa549c9a7f6a",
    "deepnote_cell_type": "markdown"
   }
  },
  {
   "cell_type": "markdown",
   "source": "### Takeaways\n- All four statistical tests rejected the null hypothesis.\n    - T-test demonstrates there is a difference between male attackers and the remaining population.\n    - 1st Chi^2 test demonstrates that mental status is dependent on alleged threat level.\n    - 2nd Chi^2 test demonstrates that race is dependent on alleged threat level.\n    - 3rd Chi^2 test demonstrates that bodycam is dependent on alleged threat level.",
   "metadata": {
    "cell_id": "00033-40a53aaf-9625-43e1-9b57-c745101ad658",
    "deepnote_cell_type": "markdown"
   }
  },
  {
   "cell_type": "markdown",
   "source": "\n___\n# Modeling",
   "metadata": {
    "cell_id": "00034-47ea7a9c-af2b-4714-b400-48226752f89a",
    "deepnote_cell_type": "markdown"
   }
  },
  {
   "cell_type": "code",
   "metadata": {
    "deepnote_to_be_reexecuted": false,
    "source_hash": "9a2eb543",
    "execution_start": 1622249477251,
    "execution_millis": 3,
    "cell_id": "00035-7c15a3b0-b96c-4c28-930d-cb221e057201",
    "deepnote_cell_type": "code"
   },
   "source": "#set up X inputs and y target variable for each split\nX_train = train.drop(columns=['alleged_threat_lvl'])\ny_train = train.alleged_threat_lvl\n\nX_validate = validate.drop(columns=['alleged_threat_lvl'])\ny_validate = validate.alleged_threat_lvl\n\nX_test = test.drop(columns=['alleged_threat_lvl'])\ny_test = test.alleged_threat_lvl",
   "execution_count": 27,
   "outputs": []
  },
  {
   "cell_type": "code",
   "metadata": {
    "tags": [],
    "deepnote_to_be_reexecuted": false,
    "source_hash": "25d43fa0",
    "execution_start": 1622249512509,
    "execution_millis": 14,
    "cell_id": "00036-108a1d44-56a8-4360-b653-8d0a7fd099d1",
    "deepnote_cell_type": "code"
   },
   "source": "df.columns",
   "execution_count": 29,
   "outputs": [
    {
     "output_type": "execute_result",
     "execution_count": 29,
     "data": {
      "text/plain": "Index(['unique_id', 'age', 'gender', 'race',\n       'date_of_injury_resulting_in_death_month_day_year',\n       'location_of_death_zip_code', 'agency_or_agencies_involved',\n       'highest_level_of_force', 'armed_unarmed', 'alleged_weapon',\n       'alleged_threat_lvl', 'fleeing_not_fleeing', 'brief_description',\n       'intended_use_of_force_developing', 'fleeing', 'age_bins',\n       'is_asian_pacific islander', 'is_black', 'is_hispanic',\n       'is_middle eastern', 'is_native_american', 'is_unknown_race',\n       'is_white', 'is_unarmed', 'had_blunt object', 'had_edged weapon',\n       'had_firearm', 'had_no_weapon', 'had_other_weapon', 'under 12', '12-17',\n       '18-24', '25-34', '35-44', '45-54', '55-64', '65+'],\n      dtype='object')"
     },
     "metadata": {}
    }
   ]
  },
  {
   "cell_type": "code",
   "metadata": {
    "deepnote_to_be_reexecuted": false,
    "source_hash": "a7e477e8",
    "execution_start": 1622249535607,
    "execution_millis": 1,
    "cell_id": "00037-042b40b5-e364-4e69-8199-ef2ef4f871a1",
    "deepnote_cell_type": "code"
   },
   "source": "# dropping columns that are not numeric datatypes\ndropcols = ['unique_id', 'gender', 'race',\\\n       'date_of_injury_resulting_in_death_month_day_year',\\\n       'location_of_death_zip_code', 'agency_or_agencies_involved',\\\n       'highest_level_of_force', 'armed_unarmed', 'alleged_weapon',\\\n       'alleged_threat_lvl', 'fleeing_not_fleeing', 'brief_description',\\\n       'intended_use_of_force_developing', 'age_bins']\n\nX_train = train.drop(columns=dropcols)\nX_validate = validate.drop(columns=dropcols)\nX_test = test.drop(columns=dropcols)",
   "execution_count": 30,
   "outputs": []
  },
  {
   "cell_type": "markdown",
   "source": "\n___\n## • Feature Importance",
   "metadata": {
    "cell_id": "00038-f61b3b17-1279-4181-8913-95b0999853e4",
    "deepnote_cell_type": "markdown"
   }
  },
  {
   "cell_type": "markdown",
   "source": "#### Select K Best\n- Uses statistical tests to determine each feature's usefulness in predicting the target variable. \n- Ranks the features and then select the K best features.",
   "metadata": {
    "cell_id": "00039-e539e662-56a6-4ad7-912a-b0081185c200",
    "deepnote_cell_type": "markdown"
   }
  },
  {
   "cell_type": "code",
   "metadata": {
    "deepnote_to_be_reexecuted": false,
    "source_hash": "dd7ebbdf",
    "execution_start": 1622249546588,
    "execution_millis": 19,
    "cell_id": "00040-f69b126e-712e-4793-aeac-8b4561a14755",
    "deepnote_cell_type": "code"
   },
   "source": "f_features = select_kbest(X_train, y_train, 15)\nf_features",
   "execution_count": 31,
   "outputs": [
    {
     "output_type": "execute_result",
     "execution_count": 31,
     "data": {
      "text/plain": "['age',\n 'fleeing',\n 'is_hispanic',\n 'is_unknown_race',\n 'is_unarmed',\n 'had_blunt object',\n 'had_edged weapon',\n 'had_firearm',\n 'had_no_weapon',\n 'had_other_weapon',\n 'under 12',\n '12-17',\n '18-24',\n '35-44',\n '45-54']"
     },
     "metadata": {}
    }
   ]
  },
  {
   "cell_type": "markdown",
   "source": "#### Recursive Feature Elimination (RFE)\n- Recursively removes attributes to meet the number of required features and then builds a model on those attributes that remain to see if you can you match or improve performance with a smaller subset.",
   "metadata": {
    "cell_id": "00041-0355918c-d372-408a-9625-bc70c4d0f3e3",
    "deepnote_cell_type": "markdown"
   }
  },
  {
   "cell_type": "code",
   "metadata": {
    "deepnote_to_be_reexecuted": false,
    "source_hash": "509f8fd5",
    "execution_start": 1622249554979,
    "execution_millis": 10091,
    "cell_id": "00042-b6869768-c540-48ac-adc9-13af9937fb86",
    "deepnote_cell_type": "code"
   },
   "source": "rfe_features = rfe(X_train, y_train, 15)\nrfe_features",
   "execution_count": 32,
   "outputs": [
    {
     "output_type": "execute_result",
     "execution_count": 32,
     "data": {
      "text/plain": "['fleeing',\n 'is_middle eastern',\n 'is_native_american',\n 'is_unknown_race',\n 'is_unarmed',\n 'had_blunt object',\n 'had_edged weapon',\n 'had_firearm',\n 'had_no_weapon',\n 'had_other_weapon',\n 'under 12',\n '18-24',\n '25-34',\n '35-44',\n '45-54']"
     },
     "metadata": {}
    }
   ]
  },
  {
   "cell_type": "code",
   "metadata": {
    "deepnote_to_be_reexecuted": false,
    "source_hash": "31ee34a3",
    "execution_start": 1622249570341,
    "execution_millis": 19,
    "cell_id": "00043-7b55d8f7-e4dd-4988-bf63-5303fdc0d73c",
    "deepnote_cell_type": "code"
   },
   "source": "combo_feats = list(set(f_features + rfe_features))\nprint(len(combo_feats))\ncombo_feats",
   "execution_count": 33,
   "outputs": [
    {
     "name": "stdout",
     "text": "18\n",
     "output_type": "stream"
    },
    {
     "output_type": "execute_result",
     "execution_count": 33,
     "data": {
      "text/plain": "['had_edged weapon',\n 'age',\n 'had_other_weapon',\n 'is_hispanic',\n 'fleeing',\n 'had_no_weapon',\n 'under 12',\n 'is_native_american',\n '25-34',\n 'had_blunt object',\n 'is_unknown_race',\n 'had_firearm',\n '18-24',\n '45-54',\n 'is_unarmed',\n '35-44',\n 'is_middle eastern',\n '12-17']"
     },
     "metadata": {}
    }
   ]
  },
  {
   "cell_type": "code",
   "metadata": {
    "deepnote_to_be_reexecuted": false,
    "source_hash": "17358204",
    "execution_start": 1622241526370,
    "execution_millis": 64,
    "cell_id": "00044-3f8323d9-386c-46eb-94f9-f19d6e447ba6",
    "deepnote_cell_type": "code"
   },
   "source": "#specify combined features that reduces multicollinearity\ncombo_feats = ['fleeing',\n               'had_other_weapon',\n               'is_middle eastern',\n               '12-17',\n               'had_no_weapon',\n               'is_native_american',\n               '25-34',\n               '18-24',\n               'under 12',\n               'had_firearm',\n               'is_hispanic']\n \nprint(len(combo_feats))",
   "execution_count": 28,
   "outputs": [
    {
     "name": "stdout",
     "text": "11\n",
     "output_type": "stream"
    }
   ]
  },
  {
   "cell_type": "markdown",
   "source": "\n___\n## • Identify Baseline",
   "metadata": {
    "cell_id": "00045-6f7d619f-debe-48b3-9071-352649e07237",
    "deepnote_cell_type": "markdown"
   }
  },
  {
   "cell_type": "code",
   "metadata": {
    "deepnote_to_be_reexecuted": false,
    "source_hash": "276ef1c0",
    "execution_start": 1622249668826,
    "execution_millis": 13,
    "cell_id": "00046-946990dc-7598-46d6-bc8e-c4c80b3333b3",
    "deepnote_cell_type": "code"
   },
   "source": "#baseline prediction: the most prevalent class in training dataset(the mode)\ntrain.alleged_threat_lvl.value_counts()",
   "execution_count": 34,
   "outputs": [
    {
     "output_type": "execute_result",
     "execution_count": 34,
     "data": {
      "text/plain": "2    3846\n1    2748\n0     762\nName: alleged_threat_lvl, dtype: int64"
     },
     "metadata": {}
    }
   ]
  },
  {
   "cell_type": "markdown",
   "source": "# Key:\n2 = threat\n\n1 = no threat\n\n0 = abiguous threat",
   "metadata": {
    "tags": [],
    "cell_id": "00050-56315475-7bc3-4174-8a8c-8894d0ca760e",
    "deepnote_cell_type": "markdown"
   }
  },
  {
   "cell_type": "code",
   "metadata": {
    "deepnote_to_be_reexecuted": false,
    "source_hash": "bf43e92c",
    "execution_start": 1622249843534,
    "execution_millis": 9,
    "cell_id": "00047-2a956453-d03e-4c8d-9a2e-5c4d9cb3393d",
    "deepnote_cell_type": "code"
   },
   "source": "#baseline model would be to predict 0 since it is most prevalant\n#baseline accuracy:\nbaseline_accuracy = (train.alleged_threat_lvl == 2).mean()\n\nprint(f'baseline accuracy: {baseline_accuracy: .4}')",
   "execution_count": 35,
   "outputs": [
    {
     "name": "stdout",
     "text": "baseline accuracy:  0.5228\n",
     "output_type": "stream"
    }
   ]
  },
  {
   "cell_type": "markdown",
   "source": "\n___\n## • Model on Train",
   "metadata": {
    "cell_id": "00048-0badb15b-0ca8-4016-b34d-417d0833a253",
    "deepnote_cell_type": "markdown"
   }
  },
  {
   "cell_type": "markdown",
   "source": "### Decision Tree",
   "metadata": {
    "cell_id": "00049-b96134c8-40a7-44fe-bce8-4a8f7b1e32eb",
    "deepnote_cell_type": "markdown"
   }
  },
  {
   "cell_type": "code",
   "metadata": {
    "deepnote_to_be_reexecuted": false,
    "execution_millis": 30,
    "execution_start": 1622249851736,
    "source_hash": "7a2ba196",
    "tags": [],
    "cell_id": "00050-dbecd93b-36f5-4480-9fa6-1a7e55c2cc7b",
    "deepnote_cell_type": "code"
   },
   "source": "#create Decision Tree model (specifying max_depth argument and combo_feats)\ndt = DecisionTreeClassifier(max_depth=3, random_state=123)\n\n#fit model on combo_feats\ndt.fit(X_train[combo_feats], y_train)\n\n#get predictions from model\ny_pred = dt.predict(X_train[combo_feats])\n\n#compute accuracy\ndt_train_acc = round(dt.score(X_train[combo_feats], y_train), 4)\n\n#compare to baseline\nprint(\"Baseline is\", round(baseline_accuracy, 4))\nprint(\"----------------\")\nprint('Accuracy of Decision Tree classifier on combo_feats (max_depth = 3): {:.4f}'\n     .format(dt.score(X_train[combo_feats], y_train)))",
   "execution_count": 36,
   "outputs": [
    {
     "name": "stdout",
     "text": "Baseline is 0.5228\n----------------\nAccuracy of Decision Tree classifier on combo_feats (max_depth = 3): 0.7202\n",
     "output_type": "stream"
    }
   ]
  },
  {
   "cell_type": "markdown",
   "source": "### Random Forest",
   "metadata": {
    "tags": [],
    "cell_id": "00051-d8df14cb-1d72-4c99-8610-b472892626a1",
    "deepnote_cell_type": "markdown"
   }
  },
  {
   "cell_type": "code",
   "metadata": {
    "deepnote_to_be_reexecuted": false,
    "execution_millis": 547,
    "execution_start": 1622249863590,
    "source_hash": "ea36678",
    "tags": [],
    "cell_id": "00052-466dcf53-cadf-44c4-8713-c39dc97e7bf3",
    "deepnote_cell_type": "code"
   },
   "source": "#create Random Forest model (specifying max_depth/min_samples_leaf arguments and combo_feats)\nrf = RandomForestClassifier(max_depth=5, min_samples_leaf=3, random_state=123)\n\n#fit model on combo_feats\nrf.fit(X_train[combo_feats], y_train)\n\n#get predictions from model\ny_pred = rf.predict(X_train[combo_feats])\n\n#compute accuracy\nrf_train_acc = round(rf.score(X_train[combo_feats], y_train), 4)\n\n#compare to baseline\nprint(\"Baseline is\", round(baseline_accuracy, 4))\nprint(\"----------------\")\nprint('Accuracy of Random Forest classifier on combo_feats (max_depth = 5, min_samples_leaf = 3): {:.4f}'\n     .format(rf.score(X_train[combo_feats], y_train)))",
   "execution_count": 37,
   "outputs": [
    {
     "name": "stdout",
     "text": "Baseline is 0.5228\n----------------\nAccuracy of Random Forest classifier on combo_feats (max_depth = 5, min_samples_leaf = 3): 0.7201\n",
     "output_type": "stream"
    }
   ]
  },
  {
   "cell_type": "markdown",
   "source": "### K-Nearest Neighbor (KNN)",
   "metadata": {
    "tags": [],
    "cell_id": "00053-5866a2b8-6ebc-4077-b975-4830c0bbcd27",
    "deepnote_cell_type": "markdown"
   }
  },
  {
   "cell_type": "code",
   "metadata": {
    "deepnote_to_be_reexecuted": false,
    "execution_millis": 5745,
    "execution_start": 1622249876828,
    "source_hash": "20502512",
    "tags": [],
    "cell_id": "00054-943c2226-69da-4327-9bbe-950f03f680b3",
    "deepnote_cell_type": "code"
   },
   "source": "#create KNN model (specifying n_neighbors argument and combo_feats)\nknn = KNeighborsClassifier(n_neighbors=20)\n\n#fit model on combo_feats\nknn.fit(X_train[combo_feats], y_train)\n\n#get predictions from model\ny_pred = knn.predict(X_train[combo_feats])\n\n#compute accuracy\nknn_train_acc = round(knn.score(X_train[combo_feats], y_train), 4)\n\n#compare to baseline\nprint(\"Baseline is\", round(baseline_accuracy, 4))\nprint(\"----------------\")\nprint('Accuracy of KNN classifier on combo_feats (n_neighbors = 20): {:4f}'\n     .format(knn.score(X_train[combo_feats], y_train)))",
   "execution_count": 39,
   "outputs": [
    {
     "name": "stdout",
     "text": "Baseline is 0.5228\n----------------\nAccuracy of KNN classifier on combo_feats (n_neighbors = 20): 0.723491\n",
     "output_type": "stream"
    }
   ]
  },
  {
   "cell_type": "markdown",
   "source": "### Logistic Regression",
   "metadata": {
    "tags": [],
    "cell_id": "00055-f8febc28-4d47-49d2-8abe-8ada02f1e046",
    "deepnote_cell_type": "markdown"
   }
  },
  {
   "cell_type": "code",
   "metadata": {
    "deepnote_to_be_reexecuted": false,
    "execution_millis": 1201,
    "execution_start": 1622249884748,
    "source_hash": "96cd3704",
    "tags": [],
    "cell_id": "00056-305238be-0f44-468b-9872-e39bf66d0895",
    "deepnote_cell_type": "code"
   },
   "source": "#create Logistic Regression model (default parameters, specifying combo_feats)\nlogit = LogisticRegression(random_state=123)\n\n#fit model on combo_feats\nlogit.fit(X_train[combo_feats], y_train)\n\n#get predictions from model\ny_pred = logit.predict(X_train[combo_feats])\n\n#compute accuracy\nlogit_train_acc = round(logit.score(X_train[combo_feats], y_train), 4)\n\n#compare to baseline\nprint(\"Baseline is\", round(baseline_accuracy, 4))\nprint(\"----------------\")\nprint('Accuracy of Logistic Regression classifier on combo_feats (default parameters): {:.4f}'\n     .format(logit.score(X_train[combo_feats], y_train)))",
   "execution_count": 40,
   "outputs": [
    {
     "name": "stdout",
     "text": "Baseline is 0.5228\n----------------\nAccuracy of Logistic Regression classifier on combo_feats (default parameters): 0.7186\n",
     "output_type": "stream"
    }
   ]
  },
  {
   "cell_type": "markdown",
   "source": "### Takeways:\n- **Decision Tree** model (dt) specifying max_depth argument of 3 and using combo_feats:\n    - Score of 72% accuracy\n    \n    \n    \n- **Random Forest** model (rf) specifying max_depth argument of 5, min_samples_leaf argument of 3 and using combo_feats:\n    - Score of 72% accuracy\n    \n    \n    \n- **K-Nearest Neighbor** model (knn) specifying n_neighbors argument of 20 and using combo_feats:\n    - Score of 72% accuracy\n    \n    \n    \n- **Logistic Regression** model (logit) using default parameters and combo_feats:\n    - Score of 72% accuracy\n\nNext, compare scores to validate (out-of-sample data).",
   "metadata": {
    "tags": [],
    "cell_id": "00057-fd0394bb-f302-43eb-abdd-250f342e3be9",
    "deepnote_cell_type": "markdown"
   }
  },
  {
   "cell_type": "markdown",
   "source": "\n___\n## • Model on Validate",
   "metadata": {
    "cell_id": "00058-05ff3b5b-3df2-4e62-842e-eb232736670d",
    "deepnote_cell_type": "markdown"
   }
  },
  {
   "cell_type": "code",
   "metadata": {
    "deepnote_to_be_reexecuted": false,
    "execution_millis": 10,
    "execution_start": 1622249960118,
    "source_hash": "37a4cb55",
    "tags": [],
    "cell_id": "00059-7ebbfea1-5659-47d9-a716-ef0463af76c8",
    "deepnote_cell_type": "code"
   },
   "source": "#dt's metrics on validate\n\n#evaluate on validate sample\ny_pred = dt.predict(X_validate[combo_feats])\n\n#compute accuracy\ndt_val_acc = round(dt.score(X_validate[combo_feats], y_validate), 4)\n\n#compare train to validate\nprint('Accuracy of Decision Tree classifier on train set: {:.4f}'\n     .format(dt.score(X_train[combo_feats], y_train)))\nprint(\"--------------------------------------------------------------\")\nprint(\"Decision Tree classifier on validate set:\")\nprint(classification_report(y_validate, y_pred))",
   "execution_count": 41,
   "outputs": [
    {
     "name": "stdout",
     "text": "Accuracy of Decision Tree classifier on train set: 0.7202\n--------------------------------------------------------------\nDecision Tree classifier on validate set:\n              precision    recall  f1-score   support\n\n           0       0.00      0.00      0.00       327\n           1       0.68      0.69      0.69      1177\n           2       0.74      0.88      0.80      1649\n\n    accuracy                           0.72      3153\n   macro avg       0.47      0.52      0.50      3153\nweighted avg       0.64      0.72      0.68      3153\n\n",
     "output_type": "stream"
    }
   ]
  },
  {
   "cell_type": "code",
   "metadata": {
    "deepnote_to_be_reexecuted": false,
    "execution_millis": 179,
    "execution_start": 1622249964496,
    "source_hash": "88ecc93c",
    "tags": [],
    "cell_id": "00060-8302f672-2627-4bd3-96f3-550cd8abcf35",
    "deepnote_cell_type": "code"
   },
   "source": "#rf's metrics on validate\n\n#evaluate on validate sample\ny_pred = rf.predict(X_validate[combo_feats])\n\n#compute accuracy\nrf_val_acc = round(rf.score(X_validate[combo_feats], y_validate), 4)\n\n#compare train to validate\nprint('Accuracy of Random Forest classifier on train set: {:.4f}'\n     .format(rf.score(X_train[combo_feats], y_train)))\nprint(\"--------------------------------------------------------------\")\nprint(\"Random Forest classifier on validate set:\")\nprint(classification_report(y_validate, y_pred))",
   "execution_count": 42,
   "outputs": [
    {
     "name": "stdout",
     "text": "Accuracy of Random Forest classifier on train set: 0.7201\n--------------------------------------------------------------\nRandom Forest classifier on validate set:\n              precision    recall  f1-score   support\n\n           0       0.00      0.00      0.00       327\n           1       0.68      0.69      0.69      1177\n           2       0.74      0.88      0.80      1649\n\n    accuracy                           0.72      3153\n   macro avg       0.48      0.52      0.50      3153\nweighted avg       0.64      0.72      0.68      3153\n\n",
     "output_type": "stream"
    }
   ]
  },
  {
   "cell_type": "code",
   "metadata": {
    "deepnote_to_be_reexecuted": false,
    "execution_millis": 3599,
    "execution_start": 1622249984858,
    "source_hash": "60fdbfcd",
    "tags": [],
    "cell_id": "00061-f168ea36-0afe-4dd0-abdd-47fe59beabf6",
    "deepnote_cell_type": "code"
   },
   "source": "#knn's metrics on validate\n\n#evaluate on validate sample\ny_pred = knn.predict(X_validate[combo_feats])\n\n#compute accuracy\nknn_val_acc = round(knn.score(X_validate[combo_feats], y_validate), 4)\n\n#compare train to validate\nprint('Accuracy of KNN classifier on train set: {:.4f}'\n     .format(knn.score(X_train[combo_feats], y_train)))\nprint(\"--------------------------------------------------------------\")\nprint(\"KNN classifier on validate set:\")\nprint(classification_report(y_validate, y_pred))",
   "execution_count": 43,
   "outputs": [
    {
     "name": "stdout",
     "text": "Accuracy of KNN classifier on train set: 0.7235\n--------------------------------------------------------------\nKNN classifier on validate set:\n              precision    recall  f1-score   support\n\n           0       0.00      0.00      0.00       327\n           1       0.67      0.68      0.68      1177\n           2       0.73      0.87      0.80      1649\n\n    accuracy                           0.71      3153\n   macro avg       0.47      0.52      0.49      3153\nweighted avg       0.64      0.71      0.67      3153\n\n",
     "output_type": "stream"
    }
   ]
  },
  {
   "cell_type": "code",
   "metadata": {
    "deepnote_to_be_reexecuted": false,
    "source_hash": "ae1971ef",
    "execution_start": 1622249992561,
    "execution_millis": 32,
    "cell_id": "00062-40707346-ee0f-4818-9353-390b3f2e7f02",
    "deepnote_cell_type": "code"
   },
   "source": "#logit's metrics on validate\n\n#evaluate on validate sample\ny_pred = logit.predict(X_validate[combo_feats])\n\n#compute accuracy\nlogit_val_acc = round(logit.score(X_validate[combo_feats], y_validate), 4)\n\n#compare train to validate\nprint('Accuracy of Logistic Regression classifier on train set: {:.4f}'\n     .format(logit.score(X_train[combo_feats], y_train)))\nprint(\"--------------------------------------------------------------\")\nprint(\"Logistic Regression classifier on validate set:\")\nprint(classification_report(y_validate, y_pred))",
   "execution_count": 44,
   "outputs": [
    {
     "name": "stdout",
     "text": "Accuracy of Logistic Regression classifier on train set: 0.7186\n--------------------------------------------------------------\nLogistic Regression classifier on validate set:\n              precision    recall  f1-score   support\n\n           0       0.25      0.00      0.01       327\n           1       0.67      0.71      0.69      1177\n           2       0.74      0.86      0.80      1649\n\n    accuracy                           0.71      3153\n   macro avg       0.55      0.52      0.50      3153\nweighted avg       0.67      0.71      0.67      3153\n\n",
     "output_type": "stream"
    }
   ]
  },
  {
   "cell_type": "code",
   "metadata": {
    "deepnote_to_be_reexecuted": false,
    "source_hash": "f5565531",
    "execution_start": 1622250009186,
    "execution_millis": 9,
    "cell_id": "00063-2bc6e41d-4dff-4ea6-b99d-fad9e14bf58e",
    "deepnote_cell_type": "code"
   },
   "source": "# Build dataframe to record accuracy (starting with decision tree)\nmetric_df = pd.DataFrame(data=[{\n    'Model': 'Decision Tree', \n    'Baseline': round(baseline_accuracy, 4),\n    'Train Accuracy': round(dt_train_acc, 4),\n    'Validate Accuracy': round(dt_val_acc, 4)}])\n\n# append dataframe to record accuracy on random forest\nmetric_df = metric_df.append({\n    'Model': 'Random Forest', \n    'Baseline': round(baseline_accuracy, 4),\n    'Train Accuracy': round(rf_train_acc, 4),\n    'Validate Accuracy':round(rf_val_acc, 4)}, ignore_index=True)\n\n# append dataframe to record accuracy on knn\nmetric_df = metric_df.append({\n    'Model': 'K-Nearest Neighbor', \n    'Baseline': round(baseline_accuracy, 4),\n    'Train Accuracy': round(knn_train_acc, 4),\n    'Validate Accuracy':round(knn_val_acc, 4)}, ignore_index=True)\n\n# append dataframe to record accuracy on logistic regression\nmetric_df = metric_df.append({\n    'Model': 'Logistic Regression', \n    'Baseline': round(baseline_accuracy, 4),\n    'Train Accuracy': round(logit_train_acc, 4),\n    'Validate Accuracy':round(logit_val_acc, 4)}, ignore_index=True)\n\n\nmetric_df",
   "execution_count": 45,
   "outputs": [
    {
     "output_type": "execute_result",
     "execution_count": 45,
     "data": {
      "application/vnd.deepnote.dataframe.v2+json": {
       "row_count": 4,
       "column_count": 4,
       "columns": [
        {
         "name": "Model",
         "dtype": "object",
         "stats": {
          "unique_count": 4,
          "nan_count": 0,
          "categories": [
           {
            "name": "Decision Tree",
            "count": 1
           },
           {
            "name": "Random Forest",
            "count": 1
           },
           {
            "name": "2 others",
            "count": 2
           }
          ]
         }
        },
        {
         "name": "Baseline",
         "dtype": "float64",
         "stats": {
          "unique_count": 1,
          "nan_count": 0,
          "min": "0.5228",
          "max": "0.5228",
          "histogram": [
           {
            "bin_start": 0.022800000000000042,
            "bin_end": 0.12280000000000005,
            "count": 0
           },
           {
            "bin_start": 0.12280000000000005,
            "bin_end": 0.22280000000000005,
            "count": 0
           },
           {
            "bin_start": 0.22280000000000005,
            "bin_end": 0.3228000000000001,
            "count": 0
           },
           {
            "bin_start": 0.3228000000000001,
            "bin_end": 0.42280000000000006,
            "count": 0
           },
           {
            "bin_start": 0.42280000000000006,
            "bin_end": 0.5228,
            "count": 0
           },
           {
            "bin_start": 0.5228,
            "bin_end": 0.6228000000000001,
            "count": 4
           },
           {
            "bin_start": 0.6228000000000001,
            "bin_end": 0.7228000000000001,
            "count": 0
           },
           {
            "bin_start": 0.7228000000000001,
            "bin_end": 0.8228000000000001,
            "count": 0
           },
           {
            "bin_start": 0.8228000000000001,
            "bin_end": 0.9228000000000001,
            "count": 0
           },
           {
            "bin_start": 0.9228000000000001,
            "bin_end": 1.0228000000000002,
            "count": 0
           }
          ]
         }
        },
        {
         "name": "Train Accuracy",
         "dtype": "float64",
         "stats": {
          "unique_count": 4,
          "nan_count": 0,
          "min": "0.7186",
          "max": "0.7235",
          "histogram": [
           {
            "bin_start": 0.7186,
            "bin_end": 0.71909,
            "count": 1
           },
           {
            "bin_start": 0.71909,
            "bin_end": 0.71958,
            "count": 0
           },
           {
            "bin_start": 0.71958,
            "bin_end": 0.72007,
            "count": 0
           },
           {
            "bin_start": 0.72007,
            "bin_end": 0.72056,
            "count": 2
           },
           {
            "bin_start": 0.72056,
            "bin_end": 0.72105,
            "count": 0
           },
           {
            "bin_start": 0.72105,
            "bin_end": 0.7215400000000001,
            "count": 0
           },
           {
            "bin_start": 0.7215400000000001,
            "bin_end": 0.7220300000000001,
            "count": 0
           },
           {
            "bin_start": 0.7220300000000001,
            "bin_end": 0.72252,
            "count": 0
           },
           {
            "bin_start": 0.72252,
            "bin_end": 0.72301,
            "count": 0
           },
           {
            "bin_start": 0.72301,
            "bin_end": 0.7235,
            "count": 1
           }
          ]
         }
        },
        {
         "name": "Validate Accuracy",
         "dtype": "float64",
         "stats": {
          "unique_count": 4,
          "nan_count": 0,
          "min": "0.7095",
          "max": "0.7196",
          "histogram": [
           {
            "bin_start": 0.7095,
            "bin_end": 0.71051,
            "count": 1
           },
           {
            "bin_start": 0.71051,
            "bin_end": 0.71152,
            "count": 0
           },
           {
            "bin_start": 0.71152,
            "bin_end": 0.71253,
            "count": 0
           },
           {
            "bin_start": 0.71253,
            "bin_end": 0.7135400000000001,
            "count": 0
           },
           {
            "bin_start": 0.7135400000000001,
            "bin_end": 0.71455,
            "count": 1
           },
           {
            "bin_start": 0.71455,
            "bin_end": 0.71556,
            "count": 0
           },
           {
            "bin_start": 0.71556,
            "bin_end": 0.71657,
            "count": 0
           },
           {
            "bin_start": 0.71657,
            "bin_end": 0.71758,
            "count": 0
           },
           {
            "bin_start": 0.71758,
            "bin_end": 0.7185900000000001,
            "count": 0
           },
           {
            "bin_start": 0.7185900000000001,
            "bin_end": 0.7196,
            "count": 2
           }
          ]
         }
        },
        {
         "name": "_deepnote_index_column",
         "dtype": "int64"
        }
       ],
       "rows_top": [
        {
         "Model": "Decision Tree",
         "Baseline": 0.5228,
         "Train Accuracy": 0.7202,
         "Validate Accuracy": 0.7193,
         "_deepnote_index_column": 0
        },
        {
         "Model": "Random Forest",
         "Baseline": 0.5228,
         "Train Accuracy": 0.7201,
         "Validate Accuracy": 0.7196,
         "_deepnote_index_column": 1
        },
        {
         "Model": "K-Nearest Neighbor",
         "Baseline": 0.5228,
         "Train Accuracy": 0.7235,
         "Validate Accuracy": 0.7095,
         "_deepnote_index_column": 2
        },
        {
         "Model": "Logistic Regression",
         "Baseline": 0.5228,
         "Train Accuracy": 0.7186,
         "Validate Accuracy": 0.7142,
         "_deepnote_index_column": 3
        }
       ],
       "rows_bottom": null
      },
      "text/plain": "                 Model  Baseline  Train Accuracy  Validate Accuracy\n0        Decision Tree    0.5228          0.7202             0.7193\n1        Random Forest    0.5228          0.7201             0.7196\n2   K-Nearest Neighbor    0.5228          0.7235             0.7095\n3  Logistic Regression    0.5228          0.7186             0.7142",
      "text/html": "<div>\n<style scoped>\n    .dataframe tbody tr th:only-of-type {\n        vertical-align: middle;\n    }\n\n    .dataframe tbody tr th {\n        vertical-align: top;\n    }\n\n    .dataframe thead th {\n        text-align: right;\n    }\n</style>\n<table border=\"1\" class=\"dataframe\">\n  <thead>\n    <tr style=\"text-align: right;\">\n      <th></th>\n      <th>Model</th>\n      <th>Baseline</th>\n      <th>Train Accuracy</th>\n      <th>Validate Accuracy</th>\n    </tr>\n  </thead>\n  <tbody>\n    <tr>\n      <th>0</th>\n      <td>Decision Tree</td>\n      <td>0.5228</td>\n      <td>0.7202</td>\n      <td>0.7193</td>\n    </tr>\n    <tr>\n      <th>1</th>\n      <td>Random Forest</td>\n      <td>0.5228</td>\n      <td>0.7201</td>\n      <td>0.7196</td>\n    </tr>\n    <tr>\n      <th>2</th>\n      <td>K-Nearest Neighbor</td>\n      <td>0.5228</td>\n      <td>0.7235</td>\n      <td>0.7095</td>\n    </tr>\n    <tr>\n      <th>3</th>\n      <td>Logistic Regression</td>\n      <td>0.5228</td>\n      <td>0.7186</td>\n      <td>0.7142</td>\n    </tr>\n  </tbody>\n</table>\n</div>"
     },
     "metadata": {}
    }
   ]
  },
  {
   "cell_type": "code",
   "metadata": {
    "tags": [],
    "deepnote_to_be_reexecuted": false,
    "source_hash": "7a55d337",
    "execution_start": 1622250098014,
    "execution_millis": 11,
    "cell_id": "00064-9baca619-89bc-45bf-8f0f-0a5b45684f2c",
    "deepnote_cell_type": "code"
   },
   "source": "# Build dataframe to record accuracy (starting with decision tree)\nmetric_df = pd.DataFrame(data=[{\n    'Model': 'Decision Tree', \n    'Baseline': round(baseline_accuracy, 4),\n    'Train Accuracy': round(dt_train_acc, 4),\n    'Validate Accuracy': round(dt_val_acc, 4)}])\n\n# append dataframe to record accuracy on random forest\nmetric_df = metric_df.append({\n    'Model': 'Random Forest', \n    'Baseline': round(baseline_accuracy, 4),\n    'Train Accuracy': round(rf_train_acc, 4),\n    'Validate Accuracy':round(rf_val_acc, 4)}, ignore_index=True)\n\n# append dataframe to record accuracy on knn\nmetric_df = metric_df.append({\n    'Model': 'K-Nearest Neighbor', \n    'Baseline': round(baseline_accuracy, 4),\n    'Train Accuracy': round(knn_train_acc, 4),\n    'Validate Accuracy':round(knn_val_acc, 4)}, ignore_index=True)\n\n# append dataframe to record accuracy on logistic regression\nmetric_df = metric_df.append({\n    'Model': 'Logistic Regression', \n    'Baseline': round(baseline_accuracy, 4),\n    'Train Accuracy': round(logit_train_acc,4),\n    'Validate Accuracy':round(logit_val_acc, 4)}, ignore_index=True)\n\n\nmetric_df",
   "execution_count": 46,
   "outputs": [
    {
     "output_type": "execute_result",
     "execution_count": 46,
     "data": {
      "application/vnd.deepnote.dataframe.v2+json": {
       "row_count": 4,
       "column_count": 4,
       "columns": [
        {
         "name": "Model",
         "dtype": "object",
         "stats": {
          "unique_count": 4,
          "nan_count": 0,
          "categories": [
           {
            "name": "Decision Tree",
            "count": 1
           },
           {
            "name": "Random Forest",
            "count": 1
           },
           {
            "name": "2 others",
            "count": 2
           }
          ]
         }
        },
        {
         "name": "Baseline",
         "dtype": "float64",
         "stats": {
          "unique_count": 1,
          "nan_count": 0,
          "min": "0.5228",
          "max": "0.5228",
          "histogram": [
           {
            "bin_start": 0.022800000000000042,
            "bin_end": 0.12280000000000005,
            "count": 0
           },
           {
            "bin_start": 0.12280000000000005,
            "bin_end": 0.22280000000000005,
            "count": 0
           },
           {
            "bin_start": 0.22280000000000005,
            "bin_end": 0.3228000000000001,
            "count": 0
           },
           {
            "bin_start": 0.3228000000000001,
            "bin_end": 0.42280000000000006,
            "count": 0
           },
           {
            "bin_start": 0.42280000000000006,
            "bin_end": 0.5228,
            "count": 0
           },
           {
            "bin_start": 0.5228,
            "bin_end": 0.6228000000000001,
            "count": 4
           },
           {
            "bin_start": 0.6228000000000001,
            "bin_end": 0.7228000000000001,
            "count": 0
           },
           {
            "bin_start": 0.7228000000000001,
            "bin_end": 0.8228000000000001,
            "count": 0
           },
           {
            "bin_start": 0.8228000000000001,
            "bin_end": 0.9228000000000001,
            "count": 0
           },
           {
            "bin_start": 0.9228000000000001,
            "bin_end": 1.0228000000000002,
            "count": 0
           }
          ]
         }
        },
        {
         "name": "Train Accuracy",
         "dtype": "float64",
         "stats": {
          "unique_count": 4,
          "nan_count": 0,
          "min": "0.7186",
          "max": "0.7235",
          "histogram": [
           {
            "bin_start": 0.7186,
            "bin_end": 0.71909,
            "count": 1
           },
           {
            "bin_start": 0.71909,
            "bin_end": 0.71958,
            "count": 0
           },
           {
            "bin_start": 0.71958,
            "bin_end": 0.72007,
            "count": 0
           },
           {
            "bin_start": 0.72007,
            "bin_end": 0.72056,
            "count": 2
           },
           {
            "bin_start": 0.72056,
            "bin_end": 0.72105,
            "count": 0
           },
           {
            "bin_start": 0.72105,
            "bin_end": 0.7215400000000001,
            "count": 0
           },
           {
            "bin_start": 0.7215400000000001,
            "bin_end": 0.7220300000000001,
            "count": 0
           },
           {
            "bin_start": 0.7220300000000001,
            "bin_end": 0.72252,
            "count": 0
           },
           {
            "bin_start": 0.72252,
            "bin_end": 0.72301,
            "count": 0
           },
           {
            "bin_start": 0.72301,
            "bin_end": 0.7235,
            "count": 1
           }
          ]
         }
        },
        {
         "name": "Validate Accuracy",
         "dtype": "float64",
         "stats": {
          "unique_count": 4,
          "nan_count": 0,
          "min": "0.7095",
          "max": "0.7196",
          "histogram": [
           {
            "bin_start": 0.7095,
            "bin_end": 0.71051,
            "count": 1
           },
           {
            "bin_start": 0.71051,
            "bin_end": 0.71152,
            "count": 0
           },
           {
            "bin_start": 0.71152,
            "bin_end": 0.71253,
            "count": 0
           },
           {
            "bin_start": 0.71253,
            "bin_end": 0.7135400000000001,
            "count": 0
           },
           {
            "bin_start": 0.7135400000000001,
            "bin_end": 0.71455,
            "count": 1
           },
           {
            "bin_start": 0.71455,
            "bin_end": 0.71556,
            "count": 0
           },
           {
            "bin_start": 0.71556,
            "bin_end": 0.71657,
            "count": 0
           },
           {
            "bin_start": 0.71657,
            "bin_end": 0.71758,
            "count": 0
           },
           {
            "bin_start": 0.71758,
            "bin_end": 0.7185900000000001,
            "count": 0
           },
           {
            "bin_start": 0.7185900000000001,
            "bin_end": 0.7196,
            "count": 2
           }
          ]
         }
        },
        {
         "name": "_deepnote_index_column",
         "dtype": "int64"
        }
       ],
       "rows_top": [
        {
         "Model": "Decision Tree",
         "Baseline": 0.5228,
         "Train Accuracy": 0.7202,
         "Validate Accuracy": 0.7193,
         "_deepnote_index_column": 0
        },
        {
         "Model": "Random Forest",
         "Baseline": 0.5228,
         "Train Accuracy": 0.7201,
         "Validate Accuracy": 0.7196,
         "_deepnote_index_column": 1
        },
        {
         "Model": "K-Nearest Neighbor",
         "Baseline": 0.5228,
         "Train Accuracy": 0.7235,
         "Validate Accuracy": 0.7095,
         "_deepnote_index_column": 2
        },
        {
         "Model": "Logistic Regression",
         "Baseline": 0.5228,
         "Train Accuracy": 0.7186,
         "Validate Accuracy": 0.7142,
         "_deepnote_index_column": 3
        }
       ],
       "rows_bottom": null
      },
      "text/plain": "                 Model  Baseline  Train Accuracy  Validate Accuracy\n0        Decision Tree    0.5228          0.7202             0.7193\n1        Random Forest    0.5228          0.7201             0.7196\n2   K-Nearest Neighbor    0.5228          0.7235             0.7095\n3  Logistic Regression    0.5228          0.7186             0.7142",
      "text/html": "<div>\n<style scoped>\n    .dataframe tbody tr th:only-of-type {\n        vertical-align: middle;\n    }\n\n    .dataframe tbody tr th {\n        vertical-align: top;\n    }\n\n    .dataframe thead th {\n        text-align: right;\n    }\n</style>\n<table border=\"1\" class=\"dataframe\">\n  <thead>\n    <tr style=\"text-align: right;\">\n      <th></th>\n      <th>Model</th>\n      <th>Baseline</th>\n      <th>Train Accuracy</th>\n      <th>Validate Accuracy</th>\n    </tr>\n  </thead>\n  <tbody>\n    <tr>\n      <th>0</th>\n      <td>Decision Tree</td>\n      <td>0.5228</td>\n      <td>0.7202</td>\n      <td>0.7193</td>\n    </tr>\n    <tr>\n      <th>1</th>\n      <td>Random Forest</td>\n      <td>0.5228</td>\n      <td>0.7201</td>\n      <td>0.7196</td>\n    </tr>\n    <tr>\n      <th>2</th>\n      <td>K-Nearest Neighbor</td>\n      <td>0.5228</td>\n      <td>0.7235</td>\n      <td>0.7095</td>\n    </tr>\n    <tr>\n      <th>3</th>\n      <td>Logistic Regression</td>\n      <td>0.5228</td>\n      <td>0.7186</td>\n      <td>0.7142</td>\n    </tr>\n  </tbody>\n</table>\n</div>"
     },
     "metadata": {}
    }
   ]
  },
  {
   "cell_type": "markdown",
   "source": "### Takeaways\n\n**Random Forest** is the best-performing model and will be evaluated on test data.\n",
   "metadata": {
    "tags": [],
    "cell_id": "00065-542a69c9-0e25-4ad4-8151-cbdf0e35de23",
    "deepnote_cell_type": "markdown"
   }
  },
  {
   "cell_type": "markdown",
   "source": "\n___\n## • Model on Test",
   "metadata": {
    "cell_id": "00066-4cb12e98-7bc5-4b9f-8868-75075a2b8a1f",
    "deepnote_cell_type": "markdown"
   }
  },
  {
   "cell_type": "code",
   "metadata": {
    "deepnote_to_be_reexecuted": false,
    "source_hash": "d2cc25c9",
    "execution_start": 1622250241442,
    "execution_millis": 92,
    "cell_id": "00067-d3f7a0dc-a25f-4438-a1ec-70e3315c1f2b",
    "deepnote_cell_type": "code"
   },
   "source": "#evaluate on test sample \ny_pred_test = rf.predict(X_test[combo_feats])\n\n#compute accuracy\nrf_test_acc = round(rf.score(X_test[combo_feats], y_test), 4)\n\nprint(\"Random Forest Model:\")\nprint(classification_report(y_test, y_pred_test))",
   "execution_count": 50,
   "outputs": [
    {
     "name": "stdout",
     "text": "Random Forest Model:\n              precision    recall  f1-score   support\n\n           0       0.00      0.00      0.00       273\n           1       0.68      0.69      0.69       981\n           2       0.74      0.88      0.80      1374\n\n    accuracy                           0.72      2628\n   macro avg       0.47      0.52      0.50      2628\nweighted avg       0.64      0.72      0.68      2628\n\n",
     "output_type": "stream"
    }
   ]
  },
  {
   "cell_type": "code",
   "metadata": {
    "tags": [],
    "deepnote_to_be_reexecuted": false,
    "source_hash": "c6aeab9c",
    "execution_start": 1622250136498,
    "execution_millis": 11,
    "cell_id": "00068-c4430c15-a820-4206-95ec-5dd5ed7ee4ff",
    "deepnote_cell_type": "code"
   },
   "source": "#evaluate on test sample \ny_pred_test = dt.predict(X_test[combo_feats])\n\n#compute accuracy\ndt_test_acc = round(dt.score(X_test[combo_feats], y_test), 4)\n\nprint(\"Decision Tree Model:\")\nprint(classification_report(y_test, y_pred_test))",
   "execution_count": 48,
   "outputs": [
    {
     "name": "stdout",
     "text": "Decision Tree Model:\n              precision    recall  f1-score   support\n\n           0       0.00      0.00      0.00       273\n           1       0.68      0.69      0.69       981\n           2       0.74      0.88      0.80      1374\n\n    accuracy                           0.72      2628\n   macro avg       0.47      0.52      0.50      2628\nweighted avg       0.64      0.72      0.68      2628\n\n",
     "output_type": "stream"
    }
   ]
  },
  {
   "cell_type": "code",
   "metadata": {
    "tags": [],
    "deepnote_to_be_reexecuted": false,
    "source_hash": "3cf1bb2c",
    "execution_start": 1622241532820,
    "execution_millis": 2,
    "is_code_hidden": true,
    "cell_id": "00069-7486cce8-52cb-4261-8a1b-d6b0445acca9",
    "deepnote_cell_type": "code"
   },
   "source": "# FEEL FREE TO DELETE\ndef get_metrics(mod, X, y):\n    \"\"\"\n    get_metrics returns the baseline accuracy score \n    along with the current model's accuracy score for comparison \n    along with a table of precision/recall/f1-score/support percentages of the model\n    \"\"\"\n    baseline_accuracy = (train.alleged_threat_lvl == 1).mean()\n    y_pred = mod.predict(X)\n    accuracy = mod.score(X, y)\n    conf = confusion_matrix(y, y_pred)\n    prfs = pd.DataFrame(precision_recall_fscore_support(y, y_pred), index=['precision', 'recall', 'f1-score', 'support'])\n    \n    print(f'''\n    BASELINE accuracy is: {baseline_accuracy:.2%}\n    The accuracy for our model is: {accuracy:.5%} \n    ''')\n    return conf, prfs",
   "execution_count": 43,
   "outputs": []
  },
  {
   "cell_type": "code",
   "metadata": {
    "tags": [],
    "deepnote_to_be_reexecuted": false,
    "source_hash": "939ea9a5",
    "execution_start": 1622241532866,
    "execution_millis": 63,
    "is_code_hidden": true,
    "is_output_hidden": true,
    "cell_id": "00070-bbb99a7d-4cb9-4832-a4a4-4e0a58b890c1",
    "deepnote_cell_type": "code"
   },
   "source": "# WANTED TO SEE MORE DECIMAL PTS\nget_metrics(dt, X_test[combo_feats], y_test)",
   "execution_count": 44,
   "outputs": [
    {
     "name": "stdout",
     "text": "\n    BASELINE accuracy is: 0.00%\n    The accuracy for our model is: 71.53729% \n    \n",
     "output_type": "stream"
    },
    {
     "output_type": "execute_result",
     "execution_count": 44,
     "data": {
      "text/plain": "(array([[   0,  152,  121],\n        [   0,  679,  302],\n        [   0,  173, 1201]]),\n                0           1            2\n precision    0.0    0.676295     0.739532\n recall       0.0    0.692151     0.874090\n f1-score     0.0    0.684131     0.801201\n support    273.0  981.000000  1374.000000)"
     },
     "metadata": {}
    }
   ]
  },
  {
   "cell_type": "code",
   "metadata": {
    "tags": [],
    "deepnote_to_be_reexecuted": false,
    "source_hash": "6d25118a",
    "execution_start": 1622241532910,
    "execution_millis": 19,
    "is_output_hidden": true,
    "is_code_hidden": true,
    "cell_id": "00071-25c5fc5b-99f7-4c50-accf-e6bd6f9878a2",
    "deepnote_cell_type": "code"
   },
   "source": "combo_feats\n",
   "execution_count": 45,
   "outputs": [
    {
     "output_type": "execute_result",
     "execution_count": 45,
     "data": {
      "text/plain": "['fleeing',\n 'had_other_weapon',\n 'is_middle eastern',\n '12-17',\n 'had_no_weapon',\n 'is_native_american',\n '25-34',\n '18-24',\n 'under 12',\n 'had_firearm',\n 'is_hispanic']"
     },
     "metadata": {}
    }
   ]
  },
  {
   "cell_type": "code",
   "metadata": {
    "tags": [],
    "deepnote_to_be_reexecuted": false,
    "source_hash": "291eff78",
    "execution_start": 1622241532910,
    "execution_millis": 19,
    "is_code_hidden": true,
    "is_output_hidden": true,
    "cell_id": "00072-d553f9bf-a1d3-4b69-a467-e89310c19d44",
    "deepnote_cell_type": "code"
   },
   "source": "rfcn = pd.DataFrame(data = y_test)\nrfcn['alleged_threat_lvl'] = rfcn['alleged_threat_lvl'].astype(str)\nrfcn.info()",
   "execution_count": 46,
   "outputs": [
    {
     "name": "stdout",
     "text": "<class 'pandas.core.frame.DataFrame'>\nInt64Index: 2628 entries, 5639 to 2968\nData columns (total 1 columns):\n #   Column              Non-Null Count  Dtype \n---  ------              --------------  ----- \n 0   alleged_threat_lvl  2628 non-null   object\ndtypes: object(1)\nmemory usage: 41.1+ KB\n",
     "output_type": "stream"
    }
   ]
  },
  {
   "cell_type": "code",
   "metadata": {
    "tags": [],
    "deepnote_to_be_reexecuted": false,
    "source_hash": "beef4ab1",
    "execution_start": 1622241532915,
    "execution_millis": 2,
    "is_output_hidden": true,
    "is_code_hidden": true,
    "cell_id": "00073-5c739141-ab9a-48b7-8654-d07cac16a31e",
    "deepnote_cell_type": "code"
   },
   "source": "from sklearn.tree import DecisionTreeClassifier\nfrom sklearn import tree\nfrom sklearn.tree import export_graphviz",
   "execution_count": 47,
   "outputs": []
  },
  {
   "cell_type": "code",
   "metadata": {
    "tags": [],
    "deepnote_to_be_reexecuted": false,
    "source_hash": "643a9f3e",
    "execution_start": 1622241532917,
    "execution_millis": 1,
    "is_code_hidden": true,
    "cell_id": "00074-2c76aa3a-3178-4fd4-ac49-75bdae579875",
    "deepnote_cell_type": "code"
   },
   "source": "est = rf.estimators_",
   "execution_count": 48,
   "outputs": []
  },
  {
   "cell_type": "code",
   "metadata": {
    "tags": [],
    "deepnote_to_be_reexecuted": false,
    "source_hash": "ebf9eea0",
    "execution_start": 1622241532962,
    "execution_millis": 6,
    "is_code_hidden": true,
    "is_output_hidden": true,
    "cell_id": "00075-71cfbd50-c4d7-4bec-8c6c-4d56128eb234",
    "deepnote_cell_type": "code"
   },
   "source": "# Our Random Forest consists of 100 trees\nprint(len(rf.estimators_))",
   "execution_count": 49,
   "outputs": [
    {
     "name": "stdout",
     "text": "100\n",
     "output_type": "stream"
    }
   ]
  },
  {
   "cell_type": "code",
   "metadata": {
    "tags": [],
    "deepnote_to_be_reexecuted": false,
    "source_hash": "99e59487",
    "execution_start": 1622241532963,
    "execution_millis": 258,
    "is_code_hidden": true,
    "is_output_hidden": true,
    "cell_id": "00076-9fc8edec-c7c3-4ab4-b9d2-547a45e5b279",
    "deepnote_cell_type": "code"
   },
   "source": "# Find feature importance\nprint(rf.feature_importances_)\n\nfeatimp = pd.DataFrame(rf.feature_importances_)\nfeatimp['combo_feats'] = combo_feats\n\n\n\nfeature_names = combo_feats\n\nplt.figure(figsize=(5, 5))\nplt.barh(feature_names, rf.feature_importances_)\nplt.title('Which Features are Better Predictors?')\n",
   "execution_count": 50,
   "outputs": [
    {
     "name": "stdout",
     "text": "[1.47377679e-01 1.12588500e-02 2.94021145e-04 2.57800193e-02\n 5.65095424e-01 3.54228684e-03 4.63586846e-03 1.08849595e-02\n 1.93055299e-02 2.03299687e-01 8.52567537e-03]\n",
     "output_type": "stream"
    },
    {
     "output_type": "execute_result",
     "execution_count": 50,
     "data": {
      "text/plain": "Text(0.5, 1.0, 'Which Features are Better Predictors?')"
     },
     "metadata": {}
    },
    {
     "data": {
      "text/plain": "<Figure size 360x360 with 1 Axes>",
      "image/png": "[encoded data removed]"
     },
     "metadata": {
      "needs_background": "light",
      "image/png": {
       "width": 396,
       "height": 319
      }
     },
     "output_type": "display_data"
    }
   ]
  },
  {
   "cell_type": "code",
   "source": "# append dataframe to record accuracy on final random forest\nmetric_df = metric_df.append({\n    'Model': 'Random Forest', \n    'Baseline': round(baseline_accuracy, 4),\n    'Train Accuracy': round(rf_train_acc, 4),\n    'Validate Accuracy':round(rf_val_acc, 4),\n    'Test Accuracy': round(rf_test_acc, 4)}, ignore_index=True)",
   "metadata": {
    "tags": [],
    "cell_id": "00081-09ecdae4-e130-42a7-9f6c-c118469d278a",
    "deepnote_to_be_reexecuted": false,
    "source_hash": "539288ac",
    "execution_start": 1622250246873,
    "execution_millis": 3,
    "deepnote_cell_type": "code"
   },
   "outputs": [],
   "execution_count": 51
  },
  {
   "cell_type": "code",
   "metadata": {
    "deepnote_to_be_reexecuted": false,
    "source_hash": "81489f9",
    "execution_start": 1622250252020,
    "execution_millis": 6,
    "cell_id": "00077-81eaa08c-d864-43cd-8825-31905cb4591d",
    "deepnote_cell_type": "code"
   },
   "source": "# append dataframe to record accuracy on final random forest\nmetric_df = metric_df.append({\n    'Model': 'Decision Tree', \n    'Baseline': round(baseline_accuracy, 4),\n    'Train Accuracy': round(dt_train_acc, 4),\n    'Validate Accuracy':round(dt_val_acc, 4),\n    'Test Accuracy': round(dt_test_acc, 4)}, ignore_index=True)",
   "execution_count": 52,
   "outputs": []
  },
  {
   "cell_type": "code",
   "metadata": {
    "deepnote_to_be_reexecuted": false,
    "source_hash": "400c35cf",
    "execution_start": 1622250254361,
    "execution_millis": 13,
    "cell_id": "00078-42dcbd24-404e-4f00-b6c9-d41c295fdea5",
    "deepnote_cell_type": "code"
   },
   "source": "metric_df",
   "execution_count": 53,
   "outputs": [
    {
     "output_type": "execute_result",
     "execution_count": 53,
     "data": {
      "application/vnd.deepnote.dataframe.v2+json": {
       "row_count": 6,
       "column_count": 5,
       "columns": [
        {
         "name": "Model",
         "dtype": "object",
         "stats": {
          "unique_count": 4,
          "nan_count": 0,
          "categories": [
           {
            "name": "Decision Tree",
            "count": 2
           },
           {
            "name": "Random Forest",
            "count": 2
           },
           {
            "name": "2 others",
            "count": 2
           }
          ]
         }
        },
        {
         "name": "Baseline",
         "dtype": "float64",
         "stats": {
          "unique_count": 1,
          "nan_count": 0,
          "min": "0.5228",
          "max": "0.5228",
          "histogram": [
           {
            "bin_start": 0.022800000000000042,
            "bin_end": 0.12280000000000005,
            "count": 0
           },
           {
            "bin_start": 0.12280000000000005,
            "bin_end": 0.22280000000000005,
            "count": 0
           },
           {
            "bin_start": 0.22280000000000005,
            "bin_end": 0.3228000000000001,
            "count": 0
           },
           {
            "bin_start": 0.3228000000000001,
            "bin_end": 0.42280000000000006,
            "count": 0
           },
           {
            "bin_start": 0.42280000000000006,
            "bin_end": 0.5228,
            "count": 0
           },
           {
            "bin_start": 0.5228,
            "bin_end": 0.6228000000000001,
            "count": 6
           },
           {
            "bin_start": 0.6228000000000001,
            "bin_end": 0.7228000000000001,
            "count": 0
           },
           {
            "bin_start": 0.7228000000000001,
            "bin_end": 0.8228000000000001,
            "count": 0
           },
           {
            "bin_start": 0.8228000000000001,
            "bin_end": 0.9228000000000001,
            "count": 0
           },
           {
            "bin_start": 0.9228000000000001,
            "bin_end": 1.0228000000000002,
            "count": 0
           }
          ]
         }
        },
        {
         "name": "Train Accuracy",
         "dtype": "float64",
         "stats": {
          "unique_count": 4,
          "nan_count": 0,
          "min": "0.7186",
          "max": "0.7235",
          "histogram": [
           {
            "bin_start": 0.7186,
            "bin_end": 0.71909,
            "count": 1
           },
           {
            "bin_start": 0.71909,
            "bin_end": 0.71958,
            "count": 0
           },
           {
            "bin_start": 0.71958,
            "bin_end": 0.72007,
            "count": 0
           },
           {
            "bin_start": 0.72007,
            "bin_end": 0.72056,
            "count": 4
           },
           {
            "bin_start": 0.72056,
            "bin_end": 0.72105,
            "count": 0
           },
           {
            "bin_start": 0.72105,
            "bin_end": 0.7215400000000001,
            "count": 0
           },
           {
            "bin_start": 0.7215400000000001,
            "bin_end": 0.7220300000000001,
            "count": 0
           },
           {
            "bin_start": 0.7220300000000001,
            "bin_end": 0.72252,
            "count": 0
           },
           {
            "bin_start": 0.72252,
            "bin_end": 0.72301,
            "count": 0
           },
           {
            "bin_start": 0.72301,
            "bin_end": 0.7235,
            "count": 1
           }
          ]
         }
        },
        {
         "name": "Validate Accuracy",
         "dtype": "float64",
         "stats": {
          "unique_count": 4,
          "nan_count": 0,
          "min": "0.7095",
          "max": "0.7196",
          "histogram": [
           {
            "bin_start": 0.7095,
            "bin_end": 0.71051,
            "count": 1
           },
           {
            "bin_start": 0.71051,
            "bin_end": 0.71152,
            "count": 0
           },
           {
            "bin_start": 0.71152,
            "bin_end": 0.71253,
            "count": 0
           },
           {
            "bin_start": 0.71253,
            "bin_end": 0.7135400000000001,
            "count": 0
           },
           {
            "bin_start": 0.7135400000000001,
            "bin_end": 0.71455,
            "count": 1
           },
           {
            "bin_start": 0.71455,
            "bin_end": 0.71556,
            "count": 0
           },
           {
            "bin_start": 0.71556,
            "bin_end": 0.71657,
            "count": 0
           },
           {
            "bin_start": 0.71657,
            "bin_end": 0.71758,
            "count": 0
           },
           {
            "bin_start": 0.71758,
            "bin_end": 0.7185900000000001,
            "count": 0
           },
           {
            "bin_start": 0.7185900000000001,
            "bin_end": 0.7196,
            "count": 4
           }
          ]
         }
        },
        {
         "name": "Test Accuracy",
         "dtype": "float64",
         "stats": {
          "unique_count": 2,
          "nan_count": 4,
          "min": "0.7173",
          "max": "0.7177",
          "histogram": [
           {
            "bin_start": 0.7173,
            "bin_end": 0.7173400000000001,
            "count": 1
           },
           {
            "bin_start": 0.7173400000000001,
            "bin_end": 0.71738,
            "count": 0
           },
           {
            "bin_start": 0.71738,
            "bin_end": 0.7174200000000001,
            "count": 0
           },
           {
            "bin_start": 0.7174200000000001,
            "bin_end": 0.71746,
            "count": 0
           },
           {
            "bin_start": 0.71746,
            "bin_end": 0.7175,
            "count": 0
           },
           {
            "bin_start": 0.7175,
            "bin_end": 0.7175400000000001,
            "count": 0
           },
           {
            "bin_start": 0.7175400000000001,
            "bin_end": 0.71758,
            "count": 0
           },
           {
            "bin_start": 0.71758,
            "bin_end": 0.71762,
            "count": 0
           },
           {
            "bin_start": 0.71762,
            "bin_end": 0.71766,
            "count": 0
           },
           {
            "bin_start": 0.71766,
            "bin_end": 0.7177,
            "count": 1
           }
          ]
         }
        },
        {
         "name": "_deepnote_index_column",
         "dtype": "int64"
        }
       ],
       "rows_top": [
        {
         "Model": "Decision Tree",
         "Baseline": 0.5228,
         "Train Accuracy": 0.7202,
         "Validate Accuracy": 0.7193,
         "Test Accuracy": "nan",
         "_deepnote_index_column": 0
        },
        {
         "Model": "Random Forest",
         "Baseline": 0.5228,
         "Train Accuracy": 0.7201,
         "Validate Accuracy": 0.7196,
         "Test Accuracy": "nan",
         "_deepnote_index_column": 1
        },
        {
         "Model": "K-Nearest Neighbor",
         "Baseline": 0.5228,
         "Train Accuracy": 0.7235,
         "Validate Accuracy": 0.7095,
         "Test Accuracy": "nan",
         "_deepnote_index_column": 2
        },
        {
         "Model": "Logistic Regression",
         "Baseline": 0.5228,
         "Train Accuracy": 0.7186,
         "Validate Accuracy": 0.7142,
         "Test Accuracy": "nan",
         "_deepnote_index_column": 3
        },
        {
         "Model": "Random Forest",
         "Baseline": 0.5228,
         "Train Accuracy": 0.7201,
         "Validate Accuracy": 0.7196,
         "Test Accuracy": 0.7173,
         "_deepnote_index_column": 4
        },
        {
         "Model": "Decision Tree",
         "Baseline": 0.5228,
         "Train Accuracy": 0.7202,
         "Validate Accuracy": 0.7193,
         "Test Accuracy": 0.7177,
         "_deepnote_index_column": 5
        }
       ],
       "rows_bottom": null
      },
      "text/plain": "                 Model  Baseline  Train Accuracy  Validate Accuracy  \\\n0        Decision Tree    0.5228          0.7202             0.7193   \n1        Random Forest    0.5228          0.7201             0.7196   \n2   K-Nearest Neighbor    0.5228          0.7235             0.7095   \n3  Logistic Regression    0.5228          0.7186             0.7142   \n4        Random Forest    0.5228          0.7201             0.7196   \n5        Decision Tree    0.5228          0.7202             0.7193   \n\n   Test Accuracy  \n0            NaN  \n1            NaN  \n2            NaN  \n3            NaN  \n4         0.7173  \n5         0.7177  ",
      "text/html": "<div>\n<style scoped>\n    .dataframe tbody tr th:only-of-type {\n        vertical-align: middle;\n    }\n\n    .dataframe tbody tr th {\n        vertical-align: top;\n    }\n\n    .dataframe thead th {\n        text-align: right;\n    }\n</style>\n<table border=\"1\" class=\"dataframe\">\n  <thead>\n    <tr style=\"text-align: right;\">\n      <th></th>\n      <th>Model</th>\n      <th>Baseline</th>\n      <th>Train Accuracy</th>\n      <th>Validate Accuracy</th>\n      <th>Test Accuracy</th>\n    </tr>\n  </thead>\n  <tbody>\n    <tr>\n      <th>0</th>\n      <td>Decision Tree</td>\n      <td>0.5228</td>\n      <td>0.7202</td>\n      <td>0.7193</td>\n      <td>NaN</td>\n    </tr>\n    <tr>\n      <th>1</th>\n      <td>Random Forest</td>\n      <td>0.5228</td>\n      <td>0.7201</td>\n      <td>0.7196</td>\n      <td>NaN</td>\n    </tr>\n    <tr>\n      <th>2</th>\n      <td>K-Nearest Neighbor</td>\n      <td>0.5228</td>\n      <td>0.7235</td>\n      <td>0.7095</td>\n      <td>NaN</td>\n    </tr>\n    <tr>\n      <th>3</th>\n      <td>Logistic Regression</td>\n      <td>0.5228</td>\n      <td>0.7186</td>\n      <td>0.7142</td>\n      <td>NaN</td>\n    </tr>\n    <tr>\n      <th>4</th>\n      <td>Random Forest</td>\n      <td>0.5228</td>\n      <td>0.7201</td>\n      <td>0.7196</td>\n      <td>0.7173</td>\n    </tr>\n    <tr>\n      <th>5</th>\n      <td>Decision Tree</td>\n      <td>0.5228</td>\n      <td>0.7202</td>\n      <td>0.7193</td>\n      <td>0.7177</td>\n    </tr>\n  </tbody>\n</table>\n</div>"
     },
     "metadata": {}
    }
   ]
  },
  {
   "cell_type": "code",
   "metadata": {
    "tags": [],
    "deepnote_to_be_reexecuted": false,
    "source_hash": "514a04bf",
    "execution_start": 1622241533269,
    "execution_millis": 21,
    "is_code_hidden": true,
    "is_output_hidden": true,
    "cell_id": "00079-3622e377-0b2e-40d7-9ffe-0b0bb8bd6218",
    "deepnote_cell_type": "code"
   },
   "source": "dt.feature_importances_",
   "execution_count": 53,
   "outputs": [
    {
     "output_type": "execute_result",
     "execution_count": 53,
     "data": {
      "text/plain": "array([0.0438291 , 0.01523259, 0.        , 0.00703148, 0.85229204,\n       0.        , 0.        , 0.        , 0.01325378, 0.06120492,\n       0.0071561 ])"
     },
     "metadata": {}
    }
   ]
  },
  {
   "cell_type": "code",
   "metadata": {
    "tags": [],
    "deepnote_to_be_reexecuted": false,
    "source_hash": "d4d4436d",
    "execution_start": 1622250288258,
    "execution_millis": 0,
    "cell_id": "00080-35e350b8-378e-47a8-aba1-50cfa790812a",
    "deepnote_cell_type": "code"
   },
   "source": "dt_fe_df = pd.DataFrame(dt.feature_importances_, index = X_train[combo_feats].columns,\n                          columns = ['coeffs']).sort_values(by = 'coeffs', ascending = False)",
   "execution_count": 54,
   "outputs": []
  },
  {
   "cell_type": "code",
   "metadata": {
    "tags": [],
    "deepnote_to_be_reexecuted": false,
    "source_hash": "5a7652b2",
    "execution_start": 1622250289450,
    "execution_millis": 4,
    "cell_id": "00081-7179a975-ad47-441d-bc09-458745ac4ae4",
    "deepnote_cell_type": "code"
   },
   "source": "dt_fe_df['coeffs']= round(dt_fe_df.coeffs*100, 2)",
   "execution_count": 55,
   "outputs": []
  },
  {
   "cell_type": "code",
   "metadata": {
    "tags": [],
    "deepnote_to_be_reexecuted": false,
    "source_hash": "b2eaea76",
    "execution_start": 1622250289800,
    "execution_millis": 12,
    "cell_id": "00082-9d73e7b3-eae4-43bb-8889-d81e363d7132",
    "deepnote_cell_type": "code"
   },
   "source": "dt_fe_df",
   "execution_count": 56,
   "outputs": [
    {
     "output_type": "execute_result",
     "execution_count": 56,
     "data": {
      "application/vnd.deepnote.dataframe.v2+json": {
       "row_count": 18,
       "column_count": 1,
       "columns": [
        {
         "name": "coeffs",
         "dtype": "float64",
         "stats": {
          "unique_count": 7,
          "nan_count": 0,
          "min": "0.0",
          "max": "82.0",
          "histogram": [
           {
            "bin_start": 0,
            "bin_end": 8.2,
            "count": 17
           },
           {
            "bin_start": 8.2,
            "bin_end": 16.4,
            "count": 0
           },
           {
            "bin_start": 16.4,
            "bin_end": 24.599999999999998,
            "count": 0
           },
           {
            "bin_start": 24.599999999999998,
            "bin_end": 32.8,
            "count": 0
           },
           {
            "bin_start": 32.8,
            "bin_end": 41,
            "count": 0
           },
           {
            "bin_start": 41,
            "bin_end": 49.199999999999996,
            "count": 0
           },
           {
            "bin_start": 49.199999999999996,
            "bin_end": 57.39999999999999,
            "count": 0
           },
           {
            "bin_start": 57.39999999999999,
            "bin_end": 65.6,
            "count": 0
           },
           {
            "bin_start": 65.6,
            "bin_end": 73.8,
            "count": 0
           },
           {
            "bin_start": 73.8,
            "bin_end": 82,
            "count": 1
           }
          ]
         }
        },
        {
         "name": "_deepnote_index_column",
         "dtype": "object"
        }
       ],
       "rows_top": [
        {
         "coeffs": 82,
         "_deepnote_index_column": "is_unarmed"
        },
        {
         "coeffs": 5.69,
         "_deepnote_index_column": "had_firearm"
        },
        {
         "coeffs": 4.28,
         "_deepnote_index_column": "is_unknown_race"
        },
        {
         "coeffs": 4.01,
         "_deepnote_index_column": "fleeing"
        },
        {
         "coeffs": 2.74,
         "_deepnote_index_column": "age"
        },
        {
         "coeffs": 1.28,
         "_deepnote_index_column": "had_other_weapon"
        },
        {
         "coeffs": 0,
         "_deepnote_index_column": "had_edged weapon"
        },
        {
         "coeffs": 0,
         "_deepnote_index_column": "is_middle eastern"
        },
        {
         "coeffs": 0,
         "_deepnote_index_column": "35-44"
        },
        {
         "coeffs": 0,
         "_deepnote_index_column": "45-54"
        },
        {
         "coeffs": 0,
         "_deepnote_index_column": "18-24"
        },
        {
         "coeffs": 0,
         "_deepnote_index_column": "had_blunt object"
        },
        {
         "coeffs": 0,
         "_deepnote_index_column": "25-34"
        },
        {
         "coeffs": 0,
         "_deepnote_index_column": "is_native_american"
        },
        {
         "coeffs": 0,
         "_deepnote_index_column": "under 12"
        },
        {
         "coeffs": 0,
         "_deepnote_index_column": "had_no_weapon"
        },
        {
         "coeffs": 0,
         "_deepnote_index_column": "is_hispanic"
        },
        {
         "coeffs": 0,
         "_deepnote_index_column": "12-17"
        }
       ],
       "rows_bottom": null
      },
      "text/plain": "                    coeffs\nis_unarmed           82.00\nhad_firearm           5.69\nis_unknown_race       4.28\nfleeing               4.01\nage                   2.74\nhad_other_weapon      1.28\nhad_edged weapon      0.00\nis_middle eastern     0.00\n35-44                 0.00\n45-54                 0.00\n18-24                 0.00\nhad_blunt object      0.00\n25-34                 0.00\nis_native_american    0.00\nunder 12              0.00\nhad_no_weapon         0.00\nis_hispanic           0.00\n12-17                 0.00",
      "text/html": "<div>\n<style scoped>\n    .dataframe tbody tr th:only-of-type {\n        vertical-align: middle;\n    }\n\n    .dataframe tbody tr th {\n        vertical-align: top;\n    }\n\n    .dataframe thead th {\n        text-align: right;\n    }\n</style>\n<table border=\"1\" class=\"dataframe\">\n  <thead>\n    <tr style=\"text-align: right;\">\n      <th></th>\n      <th>coeffs</th>\n    </tr>\n  </thead>\n  <tbody>\n    <tr>\n      <th>is_unarmed</th>\n      <td>82.00</td>\n    </tr>\n    <tr>\n      <th>had_firearm</th>\n      <td>5.69</td>\n    </tr>\n    <tr>\n      <th>is_unknown_race</th>\n      <td>4.28</td>\n    </tr>\n    <tr>\n      <th>fleeing</th>\n      <td>4.01</td>\n    </tr>\n    <tr>\n      <th>age</th>\n      <td>2.74</td>\n    </tr>\n    <tr>\n      <th>had_other_weapon</th>\n      <td>1.28</td>\n    </tr>\n    <tr>\n      <th>had_edged weapon</th>\n      <td>0.00</td>\n    </tr>\n    <tr>\n      <th>is_middle eastern</th>\n      <td>0.00</td>\n    </tr>\n    <tr>\n      <th>35-44</th>\n      <td>0.00</td>\n    </tr>\n    <tr>\n      <th>45-54</th>\n      <td>0.00</td>\n    </tr>\n    <tr>\n      <th>18-24</th>\n      <td>0.00</td>\n    </tr>\n    <tr>\n      <th>had_blunt object</th>\n      <td>0.00</td>\n    </tr>\n    <tr>\n      <th>25-34</th>\n      <td>0.00</td>\n    </tr>\n    <tr>\n      <th>is_native_american</th>\n      <td>0.00</td>\n    </tr>\n    <tr>\n      <th>under 12</th>\n      <td>0.00</td>\n    </tr>\n    <tr>\n      <th>had_no_weapon</th>\n      <td>0.00</td>\n    </tr>\n    <tr>\n      <th>is_hispanic</th>\n      <td>0.00</td>\n    </tr>\n    <tr>\n      <th>12-17</th>\n      <td>0.00</td>\n    </tr>\n  </tbody>\n</table>\n</div>"
     },
     "metadata": {}
    }
   ]
  },
  {
   "cell_type": "code",
   "metadata": {
    "tags": [],
    "deepnote_to_be_reexecuted": false,
    "source_hash": "c21578a9",
    "execution_start": 1622250290870,
    "execution_millis": 452,
    "cell_id": "00083-3a5deba6-d0f2-4955-8fb1-79b384211eab",
    "deepnote_cell_type": "code"
   },
   "source": "plt.figure(figsize=(16, 8))\nsns.barplot(data=dt_fe_df, x='coeffs', y=dt_fe_df.index, palette='PuBu_r')\nplt.title('Which Attributes Affect Likelihood of Threat Status?', fontsize=30)\nplt.xlim([0, 100])\nplt.xlabel('Percent of Importance', fontsize=20)\nplt.ylabel('Attribute', fontsize=20)\nplt.show()",
   "execution_count": 57,
   "outputs": [
    {
     "data": {
      "text/plain": "<Figure size 1152x576 with 1 Axes>",
      "image/png": "[encoded data removed]"
     },
     "metadata": {
      "needs_background": "light",
      "image/png": {
       "width": 1044,
       "height": 518
      }
     },
     "output_type": "display_data"
    }
   ]
  },
  {
   "cell_type": "code",
   "metadata": {
    "tags": [],
    "deepnote_to_be_reexecuted": false,
    "source_hash": "af4c522f",
    "execution_start": 1622250322623,
    "execution_millis": 5,
    "cell_id": "00084-b92f3685-aadc-4387-876a-c4228e3bb4d8",
    "deepnote_cell_type": "code"
   },
   "source": "iter2_dt_acc = pd.DataFrame({\n\n    'titles':['Actual Threat', 'Baseline Threat Accuracy', 'Decision Tree Model Threat Accuracy'],\n    'pct':[round(((df.alleged_threat_lvl == 2).mean())*100, 2), round(((train.alleged_threat_lvl == 2).mean())*100, 2), round((dt.score(X_test[combo_feats], y_test))*100, 2)]\n})",
   "execution_count": 58,
   "outputs": []
  },
  {
   "cell_type": "code",
   "metadata": {
    "tags": [],
    "deepnote_to_be_reexecuted": false,
    "source_hash": "64567f0d",
    "execution_start": 1622241533680,
    "execution_millis": 1166,
    "is_code_hidden": true,
    "is_output_hidden": true,
    "cell_id": "00085-00a72f51-a2e8-4367-baa6-65cfd44e9dcb",
    "deepnote_cell_type": "code"
   },
   "source": "iter2_rf_acc = pd.DataFrame({\n\n    'titles':['Actual Threat', 'Baseline Threat Accuracy', 'Random Forest Model Threat Accuracy'],\n    'pct':[round(((df.alleged_threat_lvl == \"threat\").mean())*100, 2), round(((train.alleged_threat_lvl == \"threat\").mean())*100, 2), round(rf_test_acc, 4)*100]\n})",
   "execution_count": 59,
   "outputs": [
    {
     "output_type": "error",
     "ename": "NameError",
     "evalue": "name 'rf_test_acc' is not defined",
     "traceback": [
      "\u001b[0;31m---------------------------------------------------------------------------\u001b[0m",
      "\u001b[0;31mNameError\u001b[0m                                 Traceback (most recent call last)",
      "\u001b[0;32m<ipython-input-59-8a7c9e549555>\u001b[0m in \u001b[0;36m<module>\u001b[0;34m\u001b[0m\n\u001b[1;32m      2\u001b[0m \u001b[0;34m\u001b[0m\u001b[0m\n\u001b[1;32m      3\u001b[0m     \u001b[0;34m'titles'\u001b[0m\u001b[0;34m:\u001b[0m\u001b[0;34m[\u001b[0m\u001b[0;34m'Actual Threat'\u001b[0m\u001b[0;34m,\u001b[0m \u001b[0;34m'Baseline Threat Accuracy'\u001b[0m\u001b[0;34m,\u001b[0m \u001b[0;34m'Random Forest Model Threat Accuracy'\u001b[0m\u001b[0;34m]\u001b[0m\u001b[0;34m,\u001b[0m\u001b[0;34m\u001b[0m\u001b[0;34m\u001b[0m\u001b[0m\n\u001b[0;32m----> 4\u001b[0;31m     \u001b[0;34m'pct'\u001b[0m\u001b[0;34m:\u001b[0m\u001b[0;34m[\u001b[0m\u001b[0mround\u001b[0m\u001b[0;34m(\u001b[0m\u001b[0;34m(\u001b[0m\u001b[0;34m(\u001b[0m\u001b[0mdf\u001b[0m\u001b[0;34m.\u001b[0m\u001b[0malleged_threat_lvl\u001b[0m \u001b[0;34m==\u001b[0m \u001b[0;34m\"threat\"\u001b[0m\u001b[0;34m)\u001b[0m\u001b[0;34m.\u001b[0m\u001b[0mmean\u001b[0m\u001b[0;34m(\u001b[0m\u001b[0;34m)\u001b[0m\u001b[0;34m)\u001b[0m\u001b[0;34m*\u001b[0m\u001b[0;36m100\u001b[0m\u001b[0;34m,\u001b[0m \u001b[0;36m2\u001b[0m\u001b[0;34m)\u001b[0m\u001b[0;34m,\u001b[0m \u001b[0mround\u001b[0m\u001b[0;34m(\u001b[0m\u001b[0;34m(\u001b[0m\u001b[0;34m(\u001b[0m\u001b[0mtrain\u001b[0m\u001b[0;34m.\u001b[0m\u001b[0malleged_threat_lvl\u001b[0m \u001b[0;34m==\u001b[0m \u001b[0;34m\"threat\"\u001b[0m\u001b[0;34m)\u001b[0m\u001b[0;34m.\u001b[0m\u001b[0mmean\u001b[0m\u001b[0;34m(\u001b[0m\u001b[0;34m)\u001b[0m\u001b[0;34m)\u001b[0m\u001b[0;34m*\u001b[0m\u001b[0;36m100\u001b[0m\u001b[0;34m,\u001b[0m \u001b[0;36m2\u001b[0m\u001b[0;34m)\u001b[0m\u001b[0;34m,\u001b[0m \u001b[0mround\u001b[0m\u001b[0;34m(\u001b[0m\u001b[0mrf_test_acc\u001b[0m\u001b[0;34m,\u001b[0m \u001b[0;36m4\u001b[0m\u001b[0;34m)\u001b[0m\u001b[0;34m*\u001b[0m\u001b[0;36m100\u001b[0m\u001b[0;34m]\u001b[0m\u001b[0;34m\u001b[0m\u001b[0;34m\u001b[0m\u001b[0m\n\u001b[0m\u001b[1;32m      5\u001b[0m })\n",
      "\u001b[0;31mNameError\u001b[0m: name 'rf_test_acc' is not defined"
     ]
    }
   ]
  },
  {
   "cell_type": "code",
   "metadata": {
    "tags": [],
    "deepnote_to_be_reexecuted": false,
    "source_hash": "35804cf2",
    "execution_start": 1622250335762,
    "execution_millis": 174,
    "cell_id": "00086-a9b2d4f4-ad52-4f8d-9e07-dbda7eb3e2e4",
    "deepnote_cell_type": "code"
   },
   "source": "f, ax = plt.subplots(figsize=(9, 7)) \n\nsns.barplot(data=iter2_dt_acc, x='titles', y='pct', palette='ocean_r')\n\nax.text(1.92, 64, '72%', style='italic', size='xx-large', color='white')\nax.text(0.88, 48, '52.28%', style='italic', size='large', color='white')\nax.text(-0.13, 48, '52.29%', style='italic', size='large', color='white')\n\nplt.title('Second Iteration Accuracy Levels', fontsize=20)\nplt.ylim([0, 100])\nplt.xlabel('', fontsize=10)\nplt.ylabel('Accuracy Percentage (%)', fontsize=10)\nplt.show()\n",
   "execution_count": 59,
   "outputs": [
    {
     "data": {
      "text/plain": "<Figure size 648x504 with 1 Axes>",
      "image/png": "[encoded data removed]"
     },
     "metadata": {
      "needs_background": "light",
      "image/png": {
       "width": 564,
       "height": 432
      }
     },
     "output_type": "display_data"
    }
   ]
  },
  {
   "cell_type": "code",
   "metadata": {
    "tags": [],
    "deepnote_to_be_reexecuted": false,
    "source_hash": "ab9337c6",
    "execution_start": 1622241597888,
    "execution_millis": 173,
    "is_code_hidden": true,
    "is_output_hidden": true,
    "cell_id": "00087-ffbd4607-0cfb-4bec-ad47-0008205cf279",
    "deepnote_cell_type": "code"
   },
   "source": "f, ax = plt.subplots(figsize=(9.2, 7)) \n\nsns.barplot(data=iter2_rf_acc, x='titles', y='pct', palette='ocean_r')\n\nax.text(1.92, 64, '72%', style='italic', size='xx-large', color='white')\nax.text(0.88, 48, '52.28%', style='italic', size='large', color='white')\nax.text(-0.13, 48, '52.29%', style='italic', size='large', color='white')\n\nplt.title('Second Iteration Accuracy Levels', fontsize=20)\nplt.ylim([0, 100])\nplt.xlabel('', fontsize=10)\nplt.ylabel('Accuracy Percentage (%)', fontsize=10)\nplt.show()",
   "execution_count": 61,
   "outputs": [
    {
     "output_type": "error",
     "ename": "NameError",
     "evalue": "name 'iter2_rf_acc' is not defined",
     "traceback": [
      "\u001b[0;31m---------------------------------------------------------------------------\u001b[0m",
      "\u001b[0;31mNameError\u001b[0m                                 Traceback (most recent call last)",
      "\u001b[0;32m<ipython-input-61-93ff71990168>\u001b[0m in \u001b[0;36m<module>\u001b[0;34m\u001b[0m\n\u001b[1;32m      1\u001b[0m \u001b[0mf\u001b[0m\u001b[0;34m,\u001b[0m \u001b[0max\u001b[0m \u001b[0;34m=\u001b[0m \u001b[0mplt\u001b[0m\u001b[0;34m.\u001b[0m\u001b[0msubplots\u001b[0m\u001b[0;34m(\u001b[0m\u001b[0mfigsize\u001b[0m\u001b[0;34m=\u001b[0m\u001b[0;34m(\u001b[0m\u001b[0;36m9.2\u001b[0m\u001b[0;34m,\u001b[0m \u001b[0;36m7\u001b[0m\u001b[0;34m)\u001b[0m\u001b[0;34m)\u001b[0m\u001b[0;34m\u001b[0m\u001b[0;34m\u001b[0m\u001b[0m\n\u001b[1;32m      2\u001b[0m \u001b[0;34m\u001b[0m\u001b[0m\n\u001b[0;32m----> 3\u001b[0;31m \u001b[0msns\u001b[0m\u001b[0;34m.\u001b[0m\u001b[0mbarplot\u001b[0m\u001b[0;34m(\u001b[0m\u001b[0mdata\u001b[0m\u001b[0;34m=\u001b[0m\u001b[0miter2_rf_acc\u001b[0m\u001b[0;34m,\u001b[0m \u001b[0mx\u001b[0m\u001b[0;34m=\u001b[0m\u001b[0;34m'titles'\u001b[0m\u001b[0;34m,\u001b[0m \u001b[0my\u001b[0m\u001b[0;34m=\u001b[0m\u001b[0;34m'pct'\u001b[0m\u001b[0;34m,\u001b[0m \u001b[0mpalette\u001b[0m\u001b[0;34m=\u001b[0m\u001b[0;34m'ocean_r'\u001b[0m\u001b[0;34m)\u001b[0m\u001b[0;34m\u001b[0m\u001b[0;34m\u001b[0m\u001b[0m\n\u001b[0m\u001b[1;32m      4\u001b[0m \u001b[0;34m\u001b[0m\u001b[0m\n\u001b[1;32m      5\u001b[0m \u001b[0max\u001b[0m\u001b[0;34m.\u001b[0m\u001b[0mtext\u001b[0m\u001b[0;34m(\u001b[0m\u001b[0;36m1.92\u001b[0m\u001b[0;34m,\u001b[0m \u001b[0;36m64\u001b[0m\u001b[0;34m,\u001b[0m \u001b[0;34m'72%'\u001b[0m\u001b[0;34m,\u001b[0m \u001b[0mstyle\u001b[0m\u001b[0;34m=\u001b[0m\u001b[0;34m'italic'\u001b[0m\u001b[0;34m,\u001b[0m \u001b[0msize\u001b[0m\u001b[0;34m=\u001b[0m\u001b[0;34m'xx-large'\u001b[0m\u001b[0;34m,\u001b[0m \u001b[0mcolor\u001b[0m\u001b[0;34m=\u001b[0m\u001b[0;34m'white'\u001b[0m\u001b[0;34m)\u001b[0m\u001b[0;34m\u001b[0m\u001b[0;34m\u001b[0m\u001b[0m\n",
      "\u001b[0;31mNameError\u001b[0m: name 'iter2_rf_acc' is not defined"
     ]
    },
    {
     "data": {
      "text/plain": "<Figure size 662.4x504 with 1 Axes>",
      "image/png": "[encoded data removed]"
     },
     "metadata": {
      "needs_background": "light",
      "image/png": {
       "width": 558,
       "height": 415
      }
     },
     "output_type": "display_data"
    }
   ]
  },
  {
   "cell_type": "markdown",
   "source": "### What is ROC?\n\nROC curves describe the **trade-off between the true positive rate (TPR) and false positive (FPR) rate along different probability thresholds** for a classifier. True positive rate is also known as recall and sometimes Sensitivity — it’s a measure of how well you can find the needle in a haystack.\n\n**The receiver operating characteristic (ROC) curve has become the p-value of machine learning classification** — it’s very frequently used, misused, misinterpreted, and mis-maligned.\n\nHowever, ROC curves (like p-values) are useful when used right. By that, I mean they are **useful when not used as a rote score**, but when they form part of a nuanced description of a model’s ability to help solve the problem at hand (e.g. in the case of minority class identification, do they perform better than a random guess or assuming all instances are in the majority class).\n\n### What is AUC?\n\nArea Under the Curve gives the rate of successful classification by the model. The AUC makes it easy to compare the ROC curve of one model to another.\n\n\n",
   "metadata": {
    "tags": [],
    "is_code_hidden": true,
    "cell_id": "00088-8af72c8f-6cea-4ba2-9968-d7f2b87fd6f8",
    "deepnote_cell_type": "markdown"
   }
  },
  {
   "cell_type": "code",
   "metadata": {
    "tags": [],
    "deepnote_to_be_reexecuted": false,
    "source_hash": "ed857f47",
    "execution_start": 1622241749682,
    "execution_millis": 14,
    "cell_id": "00089-ad06817b-0a7f-4cf8-907b-dedfea9731ed",
    "deepnote_cell_type": "code"
   },
   "source": "y_train",
   "execution_count": 67,
   "outputs": [
    {
     "output_type": "execute_result",
     "execution_count": 67,
     "data": {
      "text/plain": "12025              threat\n5781               threat\n10778              threat\n58              no_threat\n1127               threat\n               ...       \n852      ambiguous_threat\n165             no_threat\n6329            no_threat\n1967            no_threat\n6896               threat\nName: alleged_threat_lvl, Length: 7356, dtype: object"
     },
     "metadata": {}
    }
   ]
  },
  {
   "cell_type": "code",
   "metadata": {
    "tags": [],
    "deepnote_to_be_reexecuted": false,
    "source_hash": "f625ee06",
    "execution_start": 1622253581270,
    "execution_millis": 375,
    "cell_id": "00090-fd90800f-32a5-44a3-a626-d6faf8b70f5f",
    "deepnote_cell_type": "code"
   },
   "source": "from sklearn.metrics import auc, roc_curve, roc_auc_score, precision_recall_curve\n\nplt.figure(figsize=(10,10))\n\ny_pred = dt.predict_proba(X_test[combo_feats])[:,1]\n\nfpr_t, tpr_t, threshold_t = roc_curve(pd.Series(np.where(y_test == 2, 1, 0)), y_pred)\nplt.plot(fpr_t, tpr_t, lw=2, label=f'Decision Regression-threat (area = %0.3f)' % auc(fpr_t, tpr_t))\n\nfpr_nt, tpr_nt, threshold_nt = roc_curve(pd.Series(np.where(y_test == 1, 1, 0)), y_pred)\nplt.plot(fpr_nt, tpr_nt, lw=2, label=f'Decision Regression-no threat (area = %0.3f)' % auc(fpr_nt, tpr_nt))\n\nfpr_at, tpr_at, threshold_at = roc_curve(pd.Series(np.where(y_test == 0, 1, 0)), y_pred)\nplt.plot(fpr_at, tpr_at, lw=2, label=f'Decision Regression-ambiguous threat (area = %0.3f)' % auc(fpr_at, tpr_at))\n\n\nplt.plot([0, 1], [0, 1], color='black', lw=2, linestyle= '-', label = 'Random Classifier')\nplt.xlim([0.0, 1.0])\nplt.ylim([0.0, 1.0])\nplt.xlabel('False Positive Rate', fontsize=13)\nplt.ylabel('True Positive Rate', fontsize=14)\nplt.title('', fontsize=17)\nplt.legend(loc='lower right', fontsize=13)\nplt.show()",
   "execution_count": 65,
   "outputs": [
    {
     "data": {
      "text/plain": "<Figure size 720x720 with 1 Axes>",
      "image/png": "[encoded data removed]"
     },
     "metadata": {
      "image/png": {
       "width": 621,
       "height": 596
      }
     },
     "output_type": "display_data"
    }
   ]
  },
  {
   "cell_type": "code",
   "source": "y_test",
   "metadata": {
    "tags": [],
    "cell_id": "00096-cb98f724-7ed0-4e79-a9a9-ae56a8e01a45",
    "deepnote_to_be_reexecuted": false,
    "source_hash": "d696aa0b",
    "execution_start": 1622250668702,
    "execution_millis": 12,
    "deepnote_cell_type": "code"
   },
   "outputs": [
    {
     "output_type": "execute_result",
     "execution_count": 61,
     "data": {
      "text/plain": "5584     1\n11165    1\n716      1\n9232     2\n9445     2\n        ..\n1808     1\n12811    2\n933      2\n6830     2\n2943     1\nName: alleged_threat_lvl, Length: 2628, dtype: int64"
     },
     "metadata": {}
    }
   ],
   "execution_count": 61
  },
  {
   "cell_type": "code",
   "source": "#micro avg\ny_pred = dt.predict_proba(X_test[combo_feats])\nroc_auc_score(y_test, y_pred, multi_class='ovr')",
   "metadata": {
    "tags": [],
    "cell_id": "00097-e43e0ed5-3fdd-4bb2-83ed-a389f0b82c6b",
    "deepnote_to_be_reexecuted": false,
    "source_hash": "78bfde6a",
    "execution_start": 1622253715671,
    "execution_millis": 19,
    "deepnote_cell_type": "code"
   },
   "outputs": [
    {
     "output_type": "execute_result",
     "execution_count": 69,
     "data": {
      "text/plain": "0.7672961587009773"
     },
     "metadata": {}
    }
   ],
   "execution_count": 69
  },
  {
   "cell_type": "code",
   "source": "#macro avg\nroc_auc_score(y_test, y_pred, multi_class='ovo')",
   "metadata": {
    "tags": [],
    "cell_id": "00098-2d45d1fa-e2d7-41c3-8d27-1875fa48653d",
    "deepnote_to_be_reexecuted": false,
    "source_hash": "fdb39135",
    "execution_start": 1622254007837,
    "execution_millis": 13,
    "deepnote_cell_type": "code"
   },
   "outputs": [
    {
     "output_type": "execute_result",
     "execution_count": 72,
     "data": {
      "text/plain": "0.7267207825078102"
     },
     "metadata": {}
    }
   ],
   "execution_count": 72
  },
  {
   "cell_type": "code",
   "source": "from yellowbrick.classifier import ROCAUC\n\n# Instaniate the classification model and visualizer\nvisualizer = ROCAUC(dt, classes=[\"threat\", \"no_threat\", \"abiguous_threat\"])\n\nvisualizer.fit(X_train[combo_feats], y_train)        # Fit the training data to the visualizer\nvisualizer.score(X_test[combo_feats], y_test)        # Evaluate the model on the test data\nvisualizer.show()                       # Finalize and render the figure",
   "metadata": {
    "tags": [],
    "cell_id": "00096-a23c1cdf-7212-4bd9-a2f6-a5b2aea43783",
    "deepnote_to_be_reexecuted": false,
    "source_hash": "e588b418",
    "execution_start": 1622254586682,
    "execution_millis": 365,
    "deepnote_cell_type": "code"
   },
   "outputs": [
    {
     "data": {
      "text/plain": "<Figure size 576x396 with 1 Axes>",
      "image/png": "[encoded data removed]"
     },
     "metadata": {
      "image/png": {
       "width": 505,
       "height": 360
      }
     },
     "output_type": "display_data"
    },
    {
     "output_type": "execute_result",
     "execution_count": 77,
     "data": {
      "text/plain": "<AxesSubplot:title={'center':'ROC Curves for DecisionTreeClassifier'}, xlabel='False Positive Rate', ylabel='True Positive Rate'>"
     },
     "metadata": {}
    }
   ],
   "execution_count": 77
  },
  {
   "cell_type": "code",
   "source": "from yellowbrick.classifier import ROCAUC\n\n# Instaniate the classification model and visualizer\nvisualizer = ROCAUC(dt, per_class=False, micro=False\n)\n\nvisualizer.fit(X_train[combo_feats], y_train)        # Fit the training data to the visualizer\nvisualizer.score(X_test[combo_feats], y_test)        # Evaluate the model on the test data\nvisualizer.show()                       # Finalize and render the figure",
   "metadata": {
    "tags": [],
    "cell_id": "00099-c492a272-b0be-4aba-a903-431ff4956f1c",
    "deepnote_to_be_reexecuted": false,
    "source_hash": "b9cec7d5",
    "allow_embed": false,
    "execution_start": 1622254475579,
    "execution_millis": 271,
    "deepnote_cell_type": "code"
   },
   "outputs": [
    {
     "data": {
      "text/plain": "<Figure size 576x396 with 1 Axes>",
      "image/png": "[encoded data removed]"
     },
     "metadata": {
      "image/png": {
       "width": 505,
       "height": 360
      }
     },
     "output_type": "display_data"
    },
    {
     "output_type": "execute_result",
     "execution_count": 76,
     "data": {
      "text/plain": "<AxesSubplot:title={'center':'ROC Curves for DecisionTreeClassifier'}, xlabel='False Positive Rate', ylabel='True Positive Rate'>"
     },
     "metadata": {}
    }
   ],
   "execution_count": 76
  },
  {
   "cell_type": "markdown",
   "source": "\n___\n# Conclusion\n\n### Takeaways\n- All models had roughly the same score for train and validate sets.\n- K-Nearest neighbor model performed the worst on out-of-sample data.\n- The best performing model uses a Random Forest algorithm and combined features from Select K Best and Recursive Feature Elimination lists.\n- Our final Random Forest model increased by 21% from a baseline accuracy of 51% to 72% accuracy on out-of-sample data.\n\n\n### Drivers\n- The top drivers of predicting a victim's threat level were encounter type of incident, gender, race, armed/unarmed status, mental illness, age, geography, fleeing events, and body camera reports.\n- These drivers can be used to shed light on changes to be made in law enforcement and to help law enforcement agencies spot risk factors, so they may step in before risk transforms into actual harm.\n\n\n### Next Steps\n- Fill in missing values manually as best as possible based on the description column in the dataset (large amount of data missing). \n- Natural language processing exploration on description of incident. ",
   "metadata": {
    "cell_id": "00097-ab6fea92-9806-4d10-b2e9-cc85762d193b",
    "deepnote_cell_type": "markdown"
   }
  },
  {
   "cell_type": "markdown",
   "source": "\n#### Report containing summarization of notebook can be found [here](link to presentation).",
   "metadata": {
    "tags": [],
    "cell_id": "00098-91b8fcd2-262d-4b9e-aede-3830cb25f3cd",
    "deepnote_cell_type": "markdown"
   }
  },
  {
   "cell_type": "markdown",
   "source": "",
   "metadata": {
    "tags": [],
    "cell_id": "00099-c8398304-2be8-486d-84fd-7aab16750a85",
    "deepnote_cell_type": "markdown"
   }
  },
  {
   "cell_type": "markdown",
   "source": "<a style='text-decoration:none;line-height:16px;display:flex;color:#5B5B62;padding:10px;justify-content:end;' href='https://deepnote.com?utm_source=created-in-deepnote-cell&projectId=258e71fc-cf2b-48c3-8461-70ecd9787aa1' target=\"_blank\">\n<img alt='Created in deepnote.com' style='display:inline;max-height:16px;margin:0px;margin-right:7.5px;' src='data:image/svg+xml;base64,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' > </img>\nCreated in <span style='font-weight:600;margin-left:4px;'>Deepnote</span></a>",
   "metadata": {
    "tags": [],
    "created_in_deepnote_cell": true,
    "deepnote_cell_type": "markdown"
   }
  }
 ],
 "nbformat": 4,
 "nbformat_minor": 4,
 "metadata": {
  "kernelspec": {
   "display_name": "Python 3",
   "language": "python",
   "name": "python3"
  },
  "language_info": {
   "codemirror_mode": {
    "name": "ipython",
    "version": 3
   },
   "file_extension": ".py",
   "mimetype": "text/x-python",
   "name": "python",
   "nbconvert_exporter": "python",
   "pygments_lexer": "ipython3",
   "version": "3.8.5"
  },
  "deepnote_notebook_id": "e94b6cc4-380b-40c2-b24d-58fd067602b2",
  "deepnote": {},
  "deepnote_execution_queue": []
 }
}