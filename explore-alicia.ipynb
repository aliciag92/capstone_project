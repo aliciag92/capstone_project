{
 "cells": [
  {
   "cell_type": "code",
   "metadata": {
    "cell_id": "00000-b547ad97-4f98-4c50-9e22-f56d8d92f2f5",
    "deepnote_to_be_reexecuted": false,
    "execution_millis": 2105,
    "execution_start": 1621865301366,
    "source_hash": "306777c",
    "tags": [],
    "deepnote_cell_type": "code"
   },
   "source": "import pandas as pd\nimport numpy as np\nfrom scipy import stats\n\n\nimport matplotlib.pyplot as plt\nimport seaborn as sns\nimport explore",
   "outputs": [],
   "execution_count": null
  },
  {
   "cell_type": "code",
   "metadata": {
    "cell_id": "00001-accc30f2-e4a7-4049-911a-881c078242ea",
    "deepnote_to_be_reexecuted": false,
    "execution_millis": 206,
    "execution_start": 1621865303481,
    "source_hash": "e08e6626",
    "tags": [],
    "deepnote_cell_type": "code"
   },
   "source": "df = pd.read_csv('prepped_data.csv')\ndf.drop(columns='Unnamed: 0', inplace=True)\ndf.head()",
   "outputs": [
    {
     "output_type": "execute_result",
     "execution_count": 2,
     "data": {
      "application/vnd.deepnote.dataframe.v2+json": {
       "row_count": 5,
       "column_count": 23,
       "columns": [
        {
         "name": "age",
         "dtype": "object",
         "stats": {
          "unique_count": 5,
          "nan_count": 0,
          "categories": [
           {
            "name": "24",
            "count": 1
           },
           {
            "name": "52",
            "count": 1
           },
           {
            "name": "3 others",
            "count": 3
           }
          ]
         }
        },
        {
         "name": "gender",
         "dtype": "object",
         "stats": {
          "unique_count": 1,
          "nan_count": 0,
          "categories": [
           {
            "name": "Male",
            "count": 5
           }
          ]
         }
        },
        {
         "name": "race",
         "dtype": "object",
         "stats": {
          "unique_count": 3,
          "nan_count": 0,
          "categories": [
           {
            "name": "Unknown Race",
            "count": 2
           },
           {
            "name": "White",
            "count": 2
           },
           {
            "name": "Black",
            "count": 1
           }
          ]
         }
        },
        {
         "name": "date",
         "dtype": "object",
         "stats": {
          "unique_count": 5,
          "nan_count": 0,
          "categories": [
           {
            "name": "2021-05-09",
            "count": 1
           },
           {
            "name": "2021-05-07",
            "count": 1
           },
           {
            "name": "3 others",
            "count": 3
           }
          ]
         }
        },
        {
         "name": "city",
         "dtype": "object",
         "stats": {
          "unique_count": 5,
          "nan_count": 0,
          "categories": [
           {
            "name": "Leicester",
            "count": 1
           },
           {
            "name": "Rutledge",
            "count": 1
           },
           {
            "name": "3 others",
            "count": 3
           }
          ]
         }
        },
        {
         "name": "state",
         "dtype": "object",
         "stats": {
          "unique_count": 5,
          "nan_count": 0,
          "categories": [
           {
            "name": "MA",
            "count": 1
           },
           {
            "name": "TN",
            "count": 1
           },
           {
            "name": "3 others",
            "count": 3
           }
          ]
         }
        },
        {
         "name": "zipcode",
         "dtype": "float64",
         "stats": {
          "unique_count": 5,
          "nan_count": 0,
          "min": "1524.0",
          "max": "95249.0",
          "histogram": [
           {
            "bin_start": 1524,
            "bin_end": 10896.5,
            "count": 1
           },
           {
            "bin_start": 10896.5,
            "bin_end": 20269,
            "count": 0
           },
           {
            "bin_start": 20269,
            "bin_end": 29641.5,
            "count": 0
           },
           {
            "bin_start": 29641.5,
            "bin_end": 39014,
            "count": 1
           },
           {
            "bin_start": 39014,
            "bin_end": 48386.5,
            "count": 1
           },
           {
            "bin_start": 48386.5,
            "bin_end": 57759,
            "count": 0
           },
           {
            "bin_start": 57759,
            "bin_end": 67131.5,
            "count": 0
           },
           {
            "bin_start": 67131.5,
            "bin_end": 76504,
            "count": 0
           },
           {
            "bin_start": 76504,
            "bin_end": 85876.5,
            "count": 0
           },
           {
            "bin_start": 85876.5,
            "bin_end": 95249,
            "count": 2
           }
          ]
         }
        },
        {
         "name": "county",
         "dtype": "object",
         "stats": {
          "unique_count": 5,
          "nan_count": 0,
          "categories": [
           {
            "name": "Worcester",
            "count": 1
           },
           {
            "name": "Grainger",
            "count": 1
           },
           {
            "name": "3 others",
            "count": 3
           }
          ]
         }
        },
        {
         "name": "agency_responsible",
         "dtype": "object",
         "stats": {
          "unique_count": 5,
          "nan_count": 0,
          "categories": [
           {
            "name": "Leicester Police Department",
            "count": 1
           },
           {
            "name": "Bean Station Police Department, Rutledge Police Department",
            "count": 1
           },
           {
            "name": "3 others",
            "count": 3
           }
          ]
         }
        },
        {
         "name": "cause_of_death",
         "dtype": "object",
         "stats": {
          "unique_count": 1,
          "nan_count": 0,
          "categories": [
           {
            "name": "gunshot",
            "count": 5
           }
          ]
         }
        },
        {
         "name": "description_of_circumstances",
         "dtype": "object",
         "stats": {
          "unique_count": 5,
          "nan_count": 0,
          "categories": [
           {
            "name": "A man allegedly crashed an SUV into the Leicester Police Station, repeatedly ramming his vehicle into the front doors until he gained entry into the building. Responding officers saw the SUV in the front door and encountered the man. Police claim the man placed a rifle on his shoulder and aimed it at the officers. The police officers shot and killed him.",
            "count": 1
           },
           {
            "name": "Deputies responded to reports of a man shooting a gun inside a home. When deputies arrived, they made contact with the man. While encountering the subject, an officer with the Bean Station PD and an officer with Rutledge PD fired at the man, killing him. No other details are available concerning the shooting at this time. ",
            "count": 1
           },
           {
            "name": "3 others",
            "count": 3
           }
          ]
         }
        },
        {
         "name": "official_disposition",
         "dtype": "object",
         "stats": {
          "unique_count": 1,
          "nan_count": 0,
          "categories": [
           {
            "name": "Pending investigation",
            "count": 5
           }
          ]
         }
        },
        {
         "name": "criminal_charges_filed",
         "dtype": "object",
         "stats": {
          "unique_count": 1,
          "nan_count": 0,
          "categories": [
           {
            "name": "No known charges",
            "count": 5
           }
          ]
         }
        },
        {
         "name": "mental_illness",
         "dtype": "object",
         "stats": {
          "unique_count": 1,
          "nan_count": 0,
          "categories": [
           {
            "name": "no",
            "count": 5
           }
          ]
         }
        },
        {
         "name": "armed_unarmed_status",
         "dtype": "object",
         "stats": {
          "unique_count": 1,
          "nan_count": 0,
          "categories": [
           {
            "name": "Allegedly Armed",
            "count": 5
           }
          ]
         }
        },
        {
         "name": "alleged_weapon",
         "dtype": "object",
         "stats": {
          "unique_count": 1,
          "nan_count": 0,
          "categories": [
           {
            "name": "gun",
            "count": 5
           }
          ]
         }
        },
        {
         "name": "alleged_threat_lvl",
         "dtype": "object",
         "stats": {
          "unique_count": 2,
          "nan_count": 0,
          "categories": [
           {
            "name": "attack",
            "count": 3
           },
           {
            "name": "other",
            "count": 2
           }
          ]
         }
        },
        {
         "name": "fleeing",
         "dtype": "object",
         "stats": {
          "unique_count": 2,
          "nan_count": 0,
          "categories": [
           {
            "name": "not fleeing",
            "count": 4
           },
           {
            "name": "car",
            "count": 1
           }
          ]
         }
        },
        {
         "name": "body_camera",
         "dtype": "object",
         "stats": {
          "unique_count": 1,
          "nan_count": 0,
          "categories": [
           {
            "name": "no",
            "count": 5
           }
          ]
         }
        },
        {
         "name": "geography",
         "dtype": "object",
         "stats": {
          "unique_count": 3,
          "nan_count": 0,
          "categories": [
           {
            "name": "Suburban",
            "count": 2
           },
           {
            "name": "Rural",
            "count": 2
           },
           {
            "name": "Urban",
            "count": 1
           }
          ]
         }
        },
        {
         "name": "encounter_type_draft",
         "dtype": "object",
         "stats": {
          "unique_count": 2,
          "nan_count": 0,
          "categories": [
           {
            "name": "part 1 violent crime",
            "count": 4
           },
           {
            "name": "other",
            "count": 1
           }
          ]
         }
        },
        {
         "name": "initial_reported_reason_for_encounter_draft",
         "dtype": "object",
         "stats": {
          "unique_count": 3,
          "nan_count": 0,
          "categories": [
           {
            "name": "shooting",
            "count": 3
           },
           {
            "name": "deliberate car crash",
            "count": 1
           },
           {
            "name": "hostage situation",
            "count": 1
           }
          ]
         }
        },
        {
         "name": "known_past_shootings_of_Officer_draft",
         "dtype": "int64",
         "stats": {
          "unique_count": 1,
          "nan_count": 0,
          "min": "0",
          "max": "0",
          "histogram": [
           {
            "bin_start": -0.5,
            "bin_end": -0.4,
            "count": 0
           },
           {
            "bin_start": -0.4,
            "bin_end": -0.3,
            "count": 0
           },
           {
            "bin_start": -0.3,
            "bin_end": -0.19999999999999996,
            "count": 0
           },
           {
            "bin_start": -0.19999999999999996,
            "bin_end": -0.09999999999999998,
            "count": 0
           },
           {
            "bin_start": -0.09999999999999998,
            "bin_end": 0,
            "count": 0
           },
           {
            "bin_start": 0,
            "bin_end": 0.10000000000000009,
            "count": 5
           },
           {
            "bin_start": 0.10000000000000009,
            "bin_end": 0.20000000000000007,
            "count": 0
           },
           {
            "bin_start": 0.20000000000000007,
            "bin_end": 0.30000000000000004,
            "count": 0
           },
           {
            "bin_start": 0.30000000000000004,
            "bin_end": 0.4,
            "count": 0
           },
           {
            "bin_start": 0.4,
            "bin_end": 0.5,
            "count": 0
           }
          ]
         }
        },
        {
         "name": "_deepnote_index_column",
         "dtype": "int64"
        }
       ],
       "rows_top": [
        {
         "age": "24",
         "gender": "Male",
         "race": "Unknown Race",
         "date": "2021-05-09",
         "city": "Leicester",
         "state": "MA",
         "zipcode": 1524,
         "county": "Worcester",
         "agency_responsible": "Leicester Police Department",
         "cause_of_death": "gunshot",
         "description_of_circumstances": "A man allegedly crashed an SUV into the Leicester Police Station, repeatedly ramming his vehicle into the front doors until he gained entry into the building. Responding officers saw the SUV in the front door and encountered the man. Police claim the man placed a rifle on his shoulder and aimed it at the officers. The police officers shot and killed him.",
         "official_disposition": "Pending investigation",
         "criminal_charges_filed": "No known charges",
         "mental_illness": "no",
         "armed_unarmed_status": "Allegedly Armed",
         "alleged_weapon": "gun",
         "alleged_threat_lvl": "attack",
         "fleeing": "not fleeing",
         "body_camera": "no",
         "geography": "Suburban",
         "encounter_type_draft": "other",
         "initial_reported_reason_for_encounter_draft": "deliberate car crash",
         "known_past_shootings_of_Officer_draft": 0,
         "_deepnote_index_column": 0
        },
        {
         "age": "52",
         "gender": "Male",
         "race": "Unknown Race",
         "date": "2021-05-07",
         "city": "Rutledge",
         "state": "TN",
         "zipcode": 37861,
         "county": "Grainger",
         "agency_responsible": "Bean Station Police Department, Rutledge Police Department",
         "cause_of_death": "gunshot",
         "description_of_circumstances": "Deputies responded to reports of a man shooting a gun inside a home. When deputies arrived, they made contact with the man. While encountering the subject, an officer with the Bean Station PD and an officer with Rutledge PD fired at the man, killing him. No other details are available concerning the shooting at this time. ",
         "official_disposition": "Pending investigation",
         "criminal_charges_filed": "No known charges",
         "mental_illness": "no",
         "armed_unarmed_status": "Allegedly Armed",
         "alleged_weapon": "gun",
         "alleged_threat_lvl": "attack",
         "fleeing": "not fleeing",
         "body_camera": "no",
         "geography": "Rural",
         "encounter_type_draft": "part 1 violent crime",
         "initial_reported_reason_for_encounter_draft": "shooting",
         "known_past_shootings_of_Officer_draft": 0,
         "_deepnote_index_column": 1
        },
        {
         "age": "47",
         "gender": "Male",
         "race": "White",
         "date": "2021-05-06",
         "city": "San Andreas",
         "state": "CA",
         "zipcode": 95249,
         "county": "Calaveras",
         "agency_responsible": "Calaveras County Sheriff's Office",
         "cause_of_death": "gunshot",
         "description_of_circumstances": "Around 10:30 p.m., dispatchers got a call about an argument between a man and a woman at the Sierra Inn Motel. During the incident, the man allegedly pointed a gun at the woman's head. The suspect left before deputies arrived. A search started, and the man shot a deputy who was interviewing the victim. Police started searching the apartment complex. Eventually, the man emerged from an apartment holding an elderly woman hostage with a gun. Officers shot and killed Mark Aitulagi Lavea and shot and wounded the hostage.",
         "official_disposition": "Pending investigation",
         "criminal_charges_filed": "No known charges",
         "mental_illness": "no",
         "armed_unarmed_status": "Allegedly Armed",
         "alleged_weapon": "gun",
         "alleged_threat_lvl": "other",
         "fleeing": "not fleeing",
         "body_camera": "no",
         "geography": "Rural",
         "encounter_type_draft": "part 1 violent crime",
         "initial_reported_reason_for_encounter_draft": "hostage situation",
         "known_past_shootings_of_Officer_draft": 0,
         "_deepnote_index_column": 2
        },
        {
         "age": "49",
         "gender": "Male",
         "race": "White",
         "date": "2021-05-05",
         "city": "Las Vegas",
         "state": "NV",
         "zipcode": 89104,
         "county": "Clark",
         "agency_responsible": "Las Vegas Metropolitan Police Department",
         "cause_of_death": "gunshot",
         "description_of_circumstances": "Officers responded to a report of gunshots at an apartment complex. Arriving officers allegedly encountered two men running through the complex, one of whom they claim was armed with a firearm. The two men were taken into custody and informed officers they were shot at by Holt. Officers went to Holt's apartment and allegedly witnessed him fire one round before going back inside. Officers began to set up a perimeter, when Holt allegedly exited the apartment with a gun. Officer Erik Lindberg shot and killed Holt. ",
         "official_disposition": "Pending investigation",
         "criminal_charges_filed": "No known charges",
         "mental_illness": "no",
         "armed_unarmed_status": "Allegedly Armed",
         "alleged_weapon": "gun",
         "alleged_threat_lvl": "attack",
         "fleeing": "not fleeing",
         "body_camera": "no",
         "geography": "Urban",
         "encounter_type_draft": "part 1 violent crime",
         "initial_reported_reason_for_encounter_draft": "shooting",
         "known_past_shootings_of_Officer_draft": 0,
         "_deepnote_index_column": 3
        },
        {
         "age": "30",
         "gender": "Male",
         "race": "Black",
         "date": "2021-05-03",
         "city": "Biloxi",
         "state": "MS",
         "zipcode": 39532,
         "county": "Harrison",
         "agency_responsible": "Biloxi Police Department",
         "cause_of_death": "gunshot",
         "description_of_circumstances": "Police were searching for an alleged kidnapper and double-murder suspect, Eric Smith. Smith was killed he exchanged gunfire with officers. Police also shot and killed the baby La'Mello Parker.",
         "official_disposition": "Pending investigation",
         "criminal_charges_filed": "No known charges",
         "mental_illness": "no",
         "armed_unarmed_status": "Allegedly Armed",
         "alleged_weapon": "gun",
         "alleged_threat_lvl": "other",
         "fleeing": "car",
         "body_camera": "no",
         "geography": "Suburban",
         "encounter_type_draft": "part 1 violent crime",
         "initial_reported_reason_for_encounter_draft": "shooting",
         "known_past_shootings_of_Officer_draft": 0,
         "_deepnote_index_column": 4
        }
       ],
       "rows_bottom": null
      },
      "text/plain": "  age gender          race        date         city state  zipcode     county  \\\n0  24   Male  Unknown Race  2021-05-09    Leicester    MA   1524.0  Worcester   \n1  52   Male  Unknown Race  2021-05-07     Rutledge    TN  37861.0   Grainger   \n2  47   Male         White  2021-05-06  San Andreas    CA  95249.0  Calaveras   \n3  49   Male         White  2021-05-05    Las Vegas    NV  89104.0      Clark   \n4  30   Male         Black  2021-05-03       Biloxi    MS  39532.0   Harrison   \n\n                                  agency_responsible cause_of_death  ...  \\\n0                        Leicester Police Department        gunshot  ...   \n1  Bean Station Police Department, Rutledge Polic...        gunshot  ...   \n2                  Calaveras County Sheriff's Office        gunshot  ...   \n3           Las Vegas Metropolitan Police Department        gunshot  ...   \n4                           Biloxi Police Department        gunshot  ...   \n\n  mental_illness armed_unarmed_status alleged_weapon alleged_threat_lvl  \\\n0             no      Allegedly Armed            gun             attack   \n1             no      Allegedly Armed            gun             attack   \n2             no      Allegedly Armed            gun              other   \n3             no      Allegedly Armed            gun             attack   \n4             no      Allegedly Armed            gun              other   \n\n       fleeing body_camera geography  encounter_type_draft  \\\n0  not fleeing          no  Suburban                 other   \n1  not fleeing          no     Rural  part 1 violent crime   \n2  not fleeing          no     Rural  part 1 violent crime   \n3  not fleeing          no     Urban  part 1 violent crime   \n4          car          no  Suburban  part 1 violent crime   \n\n  initial_reported_reason_for_encounter_draft  \\\n0                        deliberate car crash   \n1                                    shooting   \n2                           hostage situation   \n3                                    shooting   \n4                                    shooting   \n\n  known_past_shootings_of_Officer_draft  \n0                                     0  \n1                                     0  \n2                                     0  \n3                                     0  \n4                                     0  \n\n[5 rows x 23 columns]",
      "text/html": "<div>\n<style scoped>\n    .dataframe tbody tr th:only-of-type {\n        vertical-align: middle;\n    }\n\n    .dataframe tbody tr th {\n        vertical-align: top;\n    }\n\n    .dataframe thead th {\n        text-align: right;\n    }\n</style>\n<table border=\"1\" class=\"dataframe\">\n  <thead>\n    <tr style=\"text-align: right;\">\n      <th></th>\n      <th>age</th>\n      <th>gender</th>\n      <th>race</th>\n      <th>date</th>\n      <th>city</th>\n      <th>state</th>\n      <th>zipcode</th>\n      <th>county</th>\n      <th>agency_responsible</th>\n      <th>cause_of_death</th>\n      <th>...</th>\n      <th>mental_illness</th>\n      <th>armed_unarmed_status</th>\n      <th>alleged_weapon</th>\n      <th>alleged_threat_lvl</th>\n      <th>fleeing</th>\n      <th>body_camera</th>\n      <th>geography</th>\n      <th>encounter_type_draft</th>\n      <th>initial_reported_reason_for_encounter_draft</th>\n      <th>known_past_shootings_of_Officer_draft</th>\n    </tr>\n  </thead>\n  <tbody>\n    <tr>\n      <th>0</th>\n      <td>24</td>\n      <td>Male</td>\n      <td>Unknown Race</td>\n      <td>2021-05-09</td>\n      <td>Leicester</td>\n      <td>MA</td>\n      <td>1524.0</td>\n      <td>Worcester</td>\n      <td>Leicester Police Department</td>\n      <td>gunshot</td>\n      <td>...</td>\n      <td>no</td>\n      <td>Allegedly Armed</td>\n      <td>gun</td>\n      <td>attack</td>\n      <td>not fleeing</td>\n      <td>no</td>\n      <td>Suburban</td>\n      <td>other</td>\n      <td>deliberate car crash</td>\n      <td>0</td>\n    </tr>\n    <tr>\n      <th>1</th>\n      <td>52</td>\n      <td>Male</td>\n      <td>Unknown Race</td>\n      <td>2021-05-07</td>\n      <td>Rutledge</td>\n      <td>TN</td>\n      <td>37861.0</td>\n      <td>Grainger</td>\n      <td>Bean Station Police Department, Rutledge Polic...</td>\n      <td>gunshot</td>\n      <td>...</td>\n      <td>no</td>\n      <td>Allegedly Armed</td>\n      <td>gun</td>\n      <td>attack</td>\n      <td>not fleeing</td>\n      <td>no</td>\n      <td>Rural</td>\n      <td>part 1 violent crime</td>\n      <td>shooting</td>\n      <td>0</td>\n    </tr>\n    <tr>\n      <th>2</th>\n      <td>47</td>\n      <td>Male</td>\n      <td>White</td>\n      <td>2021-05-06</td>\n      <td>San Andreas</td>\n      <td>CA</td>\n      <td>95249.0</td>\n      <td>Calaveras</td>\n      <td>Calaveras County Sheriff's Office</td>\n      <td>gunshot</td>\n      <td>...</td>\n      <td>no</td>\n      <td>Allegedly Armed</td>\n      <td>gun</td>\n      <td>other</td>\n      <td>not fleeing</td>\n      <td>no</td>\n      <td>Rural</td>\n      <td>part 1 violent crime</td>\n      <td>hostage situation</td>\n      <td>0</td>\n    </tr>\n    <tr>\n      <th>3</th>\n      <td>49</td>\n      <td>Male</td>\n      <td>White</td>\n      <td>2021-05-05</td>\n      <td>Las Vegas</td>\n      <td>NV</td>\n      <td>89104.0</td>\n      <td>Clark</td>\n      <td>Las Vegas Metropolitan Police Department</td>\n      <td>gunshot</td>\n      <td>...</td>\n      <td>no</td>\n      <td>Allegedly Armed</td>\n      <td>gun</td>\n      <td>attack</td>\n      <td>not fleeing</td>\n      <td>no</td>\n      <td>Urban</td>\n      <td>part 1 violent crime</td>\n      <td>shooting</td>\n      <td>0</td>\n    </tr>\n    <tr>\n      <th>4</th>\n      <td>30</td>\n      <td>Male</td>\n      <td>Black</td>\n      <td>2021-05-03</td>\n      <td>Biloxi</td>\n      <td>MS</td>\n      <td>39532.0</td>\n      <td>Harrison</td>\n      <td>Biloxi Police Department</td>\n      <td>gunshot</td>\n      <td>...</td>\n      <td>no</td>\n      <td>Allegedly Armed</td>\n      <td>gun</td>\n      <td>other</td>\n      <td>car</td>\n      <td>no</td>\n      <td>Suburban</td>\n      <td>part 1 violent crime</td>\n      <td>shooting</td>\n      <td>0</td>\n    </tr>\n  </tbody>\n</table>\n<p>5 rows × 23 columns</p>\n</div>"
     },
     "metadata": {}
    }
   ],
   "execution_count": null
  },
  {
   "cell_type": "code",
   "metadata": {
    "cell_id": "00002-2e4c0b96-86ae-4719-b15e-8e9098d021b7",
    "deepnote_to_be_reexecuted": false,
    "execution_millis": 69307031,
    "execution_start": 1621865303719,
    "source_hash": "14f60b8f",
    "tags": [],
    "deepnote_cell_type": "code"
   },
   "source": "df.shape",
   "outputs": [
    {
     "output_type": "execute_result",
     "execution_count": 3,
     "data": {
      "text/plain": "(6624, 23)"
     },
     "metadata": {}
    }
   ],
   "execution_count": null
  },
  {
   "cell_type": "code",
   "metadata": {
    "cell_id": "00003-1725ab43-8bf0-4af6-aafb-ba466b8e1c50",
    "deepnote_to_be_reexecuted": false,
    "execution_millis": 69307040,
    "execution_start": 1621865303738,
    "source_hash": "f3dd26da",
    "tags": [],
    "deepnote_cell_type": "code"
   },
   "source": "df.isnull().sum()",
   "outputs": [
    {
     "output_type": "execute_result",
     "execution_count": 4,
     "data": {
      "text/plain": "age                                            0\ngender                                         0\nrace                                           0\ndate                                           0\ncity                                           0\nstate                                          0\nzipcode                                        0\ncounty                                         0\nagency_responsible                             0\ncause_of_death                                 0\ndescription_of_circumstances                   0\nofficial_disposition                           0\ncriminal_charges_filed                         0\nmental_illness                                 0\narmed_unarmed_status                           0\nalleged_weapon                                 0\nalleged_threat_lvl                             0\nfleeing                                        0\nbody_camera                                    0\ngeography                                      0\nencounter_type_draft                           0\ninitial_reported_reason_for_encounter_draft    0\nknown_past_shootings_of_Officer_draft          0\ndtype: int64"
     },
     "metadata": {}
    }
   ],
   "execution_count": null
  },
  {
   "cell_type": "code",
   "metadata": {
    "cell_id": "00004-1bc32dc3-d849-4d23-b848-52583b8c3d14",
    "deepnote_to_be_reexecuted": false,
    "execution_millis": 5,
    "execution_start": 1621865303802,
    "source_hash": "de1e323c",
    "tags": [],
    "deepnote_cell_type": "code"
   },
   "source": "df.info()",
   "outputs": [
    {
     "name": "stdout",
     "text": "<class 'pandas.core.frame.DataFrame'>\nRangeIndex: 6624 entries, 0 to 6623\nData columns (total 23 columns):\n #   Column                                       Non-Null Count  Dtype  \n---  ------                                       --------------  -----  \n 0   age                                          6624 non-null   object \n 1   gender                                       6624 non-null   object \n 2   race                                         6624 non-null   object \n 3   date                                         6624 non-null   object \n 4   city                                         6624 non-null   object \n 5   state                                        6624 non-null   object \n 6   zipcode                                      6624 non-null   float64\n 7   county                                       6624 non-null   object \n 8   agency_responsible                           6624 non-null   object \n 9   cause_of_death                               6624 non-null   object \n 10  description_of_circumstances                 6624 non-null   object \n 11  official_disposition                         6624 non-null   object \n 12  criminal_charges_filed                       6624 non-null   object \n 13  mental_illness                               6624 non-null   object \n 14  armed_unarmed_status                         6624 non-null   object \n 15  alleged_weapon                               6624 non-null   object \n 16  alleged_threat_lvl                           6624 non-null   object \n 17  fleeing                                      6624 non-null   object \n 18  body_camera                                  6624 non-null   object \n 19  geography                                    6624 non-null   object \n 20  encounter_type_draft                         6624 non-null   object \n 21  initial_reported_reason_for_encounter_draft  6624 non-null   object \n 22  known_past_shootings_of_Officer_draft        6624 non-null   int64  \ndtypes: float64(1), int64(1), object(21)\nmemory usage: 1.2+ MB\n",
     "output_type": "stream"
    }
   ],
   "execution_count": null
  },
  {
   "cell_type": "markdown",
   "source": "### Visualize if symptoms of mental illness play a role in threat level\n",
   "metadata": {
    "cell_id": "00005-2cb9fe62-107b-4916-90eb-26d4e2a93220",
    "tags": [],
    "deepnote_cell_type": "markdown"
   }
  },
  {
   "cell_type": "code",
   "metadata": {
    "cell_id": "00005-e1e7d18f-47b5-4f7c-91e1-5f9143cfe8c9",
    "deepnote_to_be_reexecuted": false,
    "execution_millis": 8,
    "execution_start": 1621865303843,
    "source_hash": "472286a",
    "tags": [],
    "deepnote_cell_type": "code"
   },
   "source": "#check mental_illness and target var threat level value_counts()\nprint(\"Mental Illness:\")\nprint(df.mental_illness.value_counts())\nprint(\"---------------------------------\")\nprint(\"Threat Level\")\nprint(df.alleged_threat_lvl.value_counts())",
   "outputs": [
    {
     "name": "stdout",
     "text": "Mental Illness:\nno                     4409\nyes                    1333\nunknown                 702\ndrug or alcohol use     180\nName: mental_illness, dtype: int64\n---------------------------------\nThreat Level\nattack          4248\nother           2025\nundetermined     349\nnone               1\nOther              1\nName: alleged_threat_lvl, dtype: int64\n",
     "output_type": "stream"
    }
   ],
   "execution_count": null
  },
  {
   "cell_type": "code",
   "metadata": {
    "cell_id": "00007-bf56da9c-2fb9-4894-b99e-3a8673d91c74",
    "deepnote_to_be_reexecuted": false,
    "execution_millis": 69307105,
    "execution_start": 1621865303844,
    "source_hash": "74462bfc",
    "tags": [],
    "deepnote_cell_type": "code"
   },
   "source": "df.alleged_threat_lvl = np.where(df['alleged_threat_lvl'].str.contains('Other'), \"other\", df.alleged_threat_lvl)\ndf.alleged_threat_lvl.value_counts()",
   "outputs": [
    {
     "output_type": "execute_result",
     "execution_count": 7,
     "data": {
      "text/plain": "attack          4248\nother           2026\nundetermined     349\nnone               1\nName: alleged_threat_lvl, dtype: int64"
     },
     "metadata": {}
    }
   ],
   "execution_count": null
  },
  {
   "cell_type": "code",
   "metadata": {
    "cell_id": "00008-3b845288-bcef-4042-834d-fdb4ff666018",
    "deepnote_to_be_reexecuted": false,
    "execution_millis": 7,
    "execution_start": 1621865303844,
    "source_hash": "2493d18b",
    "tags": [],
    "deepnote_cell_type": "code"
   },
   "source": "#drop undetermined and none col for now\n#replace attack w/ 1 and other w/ 0\ndf.alleged_threat_lvl = df.alleged_threat_lvl.str.lower().replace('undetermined', np.nan).replace('none', np.nan).replace('attack', 1).replace('other', 0)\n\n\ndf.alleged_threat_lvl.value_counts()",
   "outputs": [
    {
     "output_type": "execute_result",
     "execution_count": 8,
     "data": {
      "text/plain": "1.0    4248\n0.0    2026\nName: alleged_threat_lvl, dtype: int64"
     },
     "metadata": {}
    }
   ],
   "execution_count": null
  },
  {
   "cell_type": "code",
   "metadata": {
    "cell_id": "00009-18eed5d4-8486-4053-ad66-43468ecb1a19",
    "deepnote_to_be_reexecuted": false,
    "execution_millis": 14,
    "execution_start": 1621865303853,
    "source_hash": "a0b9357f",
    "tags": [],
    "deepnote_cell_type": "code"
   },
   "source": "#drop nans\ndf.dropna(inplace=True)",
   "outputs": [],
   "execution_count": null
  },
  {
   "cell_type": "code",
   "metadata": {
    "cell_id": "00009-86110221-b04a-4d05-a01d-773696790531",
    "deepnote_to_be_reexecuted": false,
    "execution_millis": 69307092,
    "execution_start": 1621865303877,
    "source_hash": "7748fd36",
    "tags": [],
    "deepnote_cell_type": "code"
   },
   "source": "#import train, test, split\nfrom sklearn.model_selection import train_test_split",
   "outputs": [],
   "execution_count": null
  },
  {
   "cell_type": "code",
   "metadata": {
    "cell_id": "00006-9a6ce5f7-d7fb-4882-9a31-ca0824853966",
    "deepnote_to_be_reexecuted": false,
    "execution_millis": 0,
    "execution_start": 1621865303926,
    "source_hash": "9a7c7c88",
    "tags": [],
    "deepnote_cell_type": "code"
   },
   "source": "#function to split data\ndef split(df, stratify_by=None):\n    \"\"\"\n    Crude train, validate, test split\n    To stratify, send in a column name\n    \"\"\"\n    \n    if stratify_by == None:\n        train, test = train_test_split(df, test_size=.2, random_state=123)\n        train, validate = train_test_split(train, test_size=.3, random_state=123)\n    else:\n        train, test = train_test_split(df, test_size=.2, random_state=123, stratify=df[stratify_by])\n        train, validate = train_test_split(train, test_size=.3, random_state=123, stratify=train[stratify_by])\n    \n    return train, validate, test",
   "outputs": [],
   "execution_count": null
  },
  {
   "cell_type": "code",
   "metadata": {
    "cell_id": "00007-df8c38b1-a485-4190-990f-0aaccaab4cf8",
    "deepnote_to_be_reexecuted": false,
    "execution_millis": 115,
    "execution_start": 1621865303926,
    "source_hash": "c2aec7c9",
    "tags": [],
    "deepnote_cell_type": "code"
   },
   "source": "#split the data using the split function in prepare.py\ntrain, validate, test = split(df, stratify_by=\"alleged_threat_lvl\")\n\n#check split datasets\nprint('overall shape of dataframe:', df.shape)\nprint('train:', train.shape)\nprint('validate:', validate.shape)\nprint('test:', test.shape)\n\n#work w/ training data\ntrain.head()",
   "outputs": [
    {
     "name": "stdout",
     "text": "overall shape of dataframe: (6274, 23)\ntrain: (3513, 23)\nvalidate: (1506, 23)\ntest: (1255, 23)\n",
     "output_type": "stream"
    },
    {
     "output_type": "execute_result",
     "execution_count": 12,
     "data": {
      "application/vnd.deepnote.dataframe.v2+json": {
       "row_count": 5,
       "column_count": 23,
       "columns": [
        {
         "name": "age",
         "dtype": "object",
         "stats": {
          "unique_count": 5,
          "nan_count": 0,
          "categories": [
           {
            "name": "54",
            "count": 1
           },
           {
            "name": "24",
            "count": 1
           },
           {
            "name": "3 others",
            "count": 3
           }
          ]
         }
        },
        {
         "name": "gender",
         "dtype": "object",
         "stats": {
          "unique_count": 2,
          "nan_count": 0,
          "categories": [
           {
            "name": "Male",
            "count": 4
           },
           {
            "name": "Female",
            "count": 1
           }
          ]
         }
        },
        {
         "name": "race",
         "dtype": "object",
         "stats": {
          "unique_count": 3,
          "nan_count": 0,
          "categories": [
           {
            "name": "White",
            "count": 3
           },
           {
            "name": "Black",
            "count": 1
           },
           {
            "name": "Hispanic",
            "count": 1
           }
          ]
         }
        },
        {
         "name": "date",
         "dtype": "object",
         "stats": {
          "unique_count": 5,
          "nan_count": 0,
          "categories": [
           {
            "name": "2017-06-07",
            "count": 1
           },
           {
            "name": "2018-04-01",
            "count": 1
           },
           {
            "name": "3 others",
            "count": 3
           }
          ]
         }
        },
        {
         "name": "city",
         "dtype": "object",
         "stats": {
          "unique_count": 5,
          "nan_count": 0,
          "categories": [
           {
            "name": "Orrington",
            "count": 1
           },
           {
            "name": "Covington",
            "count": 1
           },
           {
            "name": "3 others",
            "count": 3
           }
          ]
         }
        },
        {
         "name": "state",
         "dtype": "object",
         "stats": {
          "unique_count": 5,
          "nan_count": 0,
          "categories": [
           {
            "name": "ME",
            "count": 1
           },
           {
            "name": "LA",
            "count": 1
           },
           {
            "name": "3 others",
            "count": 3
           }
          ]
         }
        },
        {
         "name": "zipcode",
         "dtype": "float64",
         "stats": {
          "unique_count": 5,
          "nan_count": 0,
          "min": "4474.0",
          "max": "90638.0",
          "histogram": [
           {
            "bin_start": 4474,
            "bin_end": 13090.4,
            "count": 1
           },
           {
            "bin_start": 13090.4,
            "bin_end": 21706.8,
            "count": 0
           },
           {
            "bin_start": 21706.8,
            "bin_end": 30323.199999999997,
            "count": 0
           },
           {
            "bin_start": 30323.199999999997,
            "bin_end": 38939.6,
            "count": 0
           },
           {
            "bin_start": 38939.6,
            "bin_end": 47556,
            "count": 0
           },
           {
            "bin_start": 47556,
            "bin_end": 56172.399999999994,
            "count": 1
           },
           {
            "bin_start": 56172.399999999994,
            "bin_end": 64788.799999999996,
            "count": 0
           },
           {
            "bin_start": 64788.799999999996,
            "bin_end": 73405.2,
            "count": 2
           },
           {
            "bin_start": 73405.2,
            "bin_end": 82021.59999999999,
            "count": 0
           },
           {
            "bin_start": 82021.59999999999,
            "bin_end": 90638,
            "count": 1
           }
          ]
         }
        },
        {
         "name": "county",
         "dtype": "object",
         "stats": {
          "unique_count": 5,
          "nan_count": 0,
          "categories": [
           {
            "name": "Penobscot",
            "count": 1
           },
           {
            "name": "St. Tammany",
            "count": 1
           },
           {
            "name": "3 others",
            "count": 3
           }
          ]
         }
        },
        {
         "name": "agency_responsible",
         "dtype": "object",
         "stats": {
          "unique_count": 5,
          "nan_count": 0,
          "categories": [
           {
            "name": "Maine State Police",
            "count": 1
           },
           {
            "name": "St. Tammany Parish Sheriff's Office",
            "count": 1
           },
           {
            "name": "3 others",
            "count": 3
           }
          ]
         }
        },
        {
         "name": "cause_of_death",
         "dtype": "object",
         "stats": {
          "unique_count": 1,
          "nan_count": 0,
          "categories": [
           {
            "name": "gunshot",
            "count": 5
           }
          ]
         }
        },
        {
         "name": "description_of_circumstances",
         "dtype": "object",
         "stats": {
          "unique_count": 5,
          "nan_count": 0,
          "categories": [
           {
            "name": "Mark Ellis allegedly threatened police on the phone. When they arrived, after a 12-hour standoff, he was shot and killed.",
            "count": 1
           },
           {
            "name": "About 5 a.m., deputies attempted to pull over a man believed to be involved in vehicle burglaries. Joseph Johnson fled in his car. After a brief chase, Johnson crashed into a ditch, police said. The deputies and Johnson exchanged gunfire. Johnson was shot and killed, and one of the deputies was shot and wounded.",
            "count": 1
           },
           {
            "name": "3 others",
            "count": 3
           }
          ]
         }
        },
        {
         "name": "official_disposition",
         "dtype": "object",
         "stats": {
          "unique_count": 2,
          "nan_count": 0,
          "categories": [
           {
            "name": "Pending investigation/No Known Charges",
            "count": 4
           },
           {
            "name": "Charged with manslaughter",
            "count": 1
           }
          ]
         }
        },
        {
         "name": "criminal_charges_filed",
         "dtype": "object",
         "stats": {
          "unique_count": 2,
          "nan_count": 0,
          "categories": [
           {
            "name": "No known charges",
            "count": 4
           },
           {
            "name": "Charged with a crime",
            "count": 1
           }
          ]
         }
        },
        {
         "name": "mental_illness",
         "dtype": "object",
         "stats": {
          "unique_count": 1,
          "nan_count": 0,
          "categories": [
           {
            "name": "no",
            "count": 5
           }
          ]
         }
        },
        {
         "name": "armed_unarmed_status",
         "dtype": "object",
         "stats": {
          "unique_count": 2,
          "nan_count": 0,
          "categories": [
           {
            "name": "Allegedly Armed",
            "count": 4
           },
           {
            "name": "Vehicle",
            "count": 1
           }
          ]
         }
        },
        {
         "name": "alleged_weapon",
         "dtype": "object",
         "stats": {
          "unique_count": 2,
          "nan_count": 0,
          "categories": [
           {
            "name": "gun",
            "count": 4
           },
           {
            "name": "vehicle",
            "count": 1
           }
          ]
         }
        },
        {
         "name": "alleged_threat_lvl",
         "dtype": "float64",
         "stats": {
          "unique_count": 2,
          "nan_count": 0,
          "min": "0.0",
          "max": "1.0",
          "histogram": [
           {
            "bin_start": 0,
            "bin_end": 0.1,
            "count": 1
           },
           {
            "bin_start": 0.1,
            "bin_end": 0.2,
            "count": 0
           },
           {
            "bin_start": 0.2,
            "bin_end": 0.30000000000000004,
            "count": 0
           },
           {
            "bin_start": 0.30000000000000004,
            "bin_end": 0.4,
            "count": 0
           },
           {
            "bin_start": 0.4,
            "bin_end": 0.5,
            "count": 0
           },
           {
            "bin_start": 0.5,
            "bin_end": 0.6000000000000001,
            "count": 0
           },
           {
            "bin_start": 0.6000000000000001,
            "bin_end": 0.7000000000000001,
            "count": 0
           },
           {
            "bin_start": 0.7000000000000001,
            "bin_end": 0.8,
            "count": 0
           },
           {
            "bin_start": 0.8,
            "bin_end": 0.9,
            "count": 0
           },
           {
            "bin_start": 0.9,
            "bin_end": 1,
            "count": 4
           }
          ]
         }
        },
        {
         "name": "fleeing",
         "dtype": "object",
         "stats": {
          "unique_count": 2,
          "nan_count": 0,
          "categories": [
           {
            "name": "not fleeing",
            "count": 3
           },
           {
            "name": "car",
            "count": 2
           }
          ]
         }
        },
        {
         "name": "body_camera",
         "dtype": "object",
         "stats": {
          "unique_count": 2,
          "nan_count": 0,
          "categories": [
           {
            "name": "no",
            "count": 4
           },
           {
            "name": "yes",
            "count": 1
           }
          ]
         }
        },
        {
         "name": "geography",
         "dtype": "object",
         "stats": {
          "unique_count": 2,
          "nan_count": 0,
          "categories": [
           {
            "name": "Suburban",
            "count": 3
           },
           {
            "name": "Rural",
            "count": 2
           }
          ]
         }
        },
        {
         "name": "encounter_type_draft",
         "dtype": "object",
         "stats": {
          "unique_count": 3,
          "nan_count": 0,
          "categories": [
           {
            "name": "traffic stop",
            "count": 2
           },
           {
            "name": "part 1 violent crime",
            "count": 2
           },
           {
            "name": "other",
            "count": 1
           }
          ]
         }
        },
        {
         "name": "initial_reported_reason_for_encounter_draft",
         "dtype": "object",
         "stats": {
          "unique_count": 3,
          "nan_count": 0,
          "categories": [
           {
            "name": "traffic violation",
            "count": 3
           },
           {
            "name": "other (called in threats to law enforcement)",
            "count": 1
           },
           {
            "name": "suspect (vehicle burglaries)",
            "count": 1
           }
          ]
         }
        },
        {
         "name": "known_past_shootings_of_Officer_draft",
         "dtype": "int64",
         "stats": {
          "unique_count": 1,
          "nan_count": 0,
          "min": "0",
          "max": "0",
          "histogram": [
           {
            "bin_start": -0.5,
            "bin_end": -0.4,
            "count": 0
           },
           {
            "bin_start": -0.4,
            "bin_end": -0.3,
            "count": 0
           },
           {
            "bin_start": -0.3,
            "bin_end": -0.19999999999999996,
            "count": 0
           },
           {
            "bin_start": -0.19999999999999996,
            "bin_end": -0.09999999999999998,
            "count": 0
           },
           {
            "bin_start": -0.09999999999999998,
            "bin_end": 0,
            "count": 0
           },
           {
            "bin_start": 0,
            "bin_end": 0.10000000000000009,
            "count": 5
           },
           {
            "bin_start": 0.10000000000000009,
            "bin_end": 0.20000000000000007,
            "count": 0
           },
           {
            "bin_start": 0.20000000000000007,
            "bin_end": 0.30000000000000004,
            "count": 0
           },
           {
            "bin_start": 0.30000000000000004,
            "bin_end": 0.4,
            "count": 0
           },
           {
            "bin_start": 0.4,
            "bin_end": 0.5,
            "count": 0
           }
          ]
         }
        },
        {
         "name": "_deepnote_index_column",
         "dtype": "int64"
        }
       ],
       "rows_top": [
        {
         "age": "54",
         "gender": "Male",
         "race": "White",
         "date": "2017-06-07",
         "city": "Orrington",
         "state": "ME",
         "zipcode": 4474,
         "county": "Penobscot",
         "agency_responsible": "Maine State Police",
         "cause_of_death": "gunshot",
         "description_of_circumstances": "Mark Ellis allegedly threatened police on the phone. When they arrived, after a 12-hour standoff, he was shot and killed.",
         "official_disposition": "Pending investigation/No Known Charges",
         "criminal_charges_filed": "No known charges",
         "mental_illness": "no",
         "armed_unarmed_status": "Allegedly Armed",
         "alleged_weapon": "gun",
         "alleged_threat_lvl": 1,
         "fleeing": "not fleeing",
         "body_camera": "no",
         "geography": "Rural",
         "encounter_type_draft": "other",
         "initial_reported_reason_for_encounter_draft": "other (called in threats to law enforcement)",
         "known_past_shootings_of_Officer_draft": 0,
         "_deepnote_index_column": 4090
        },
        {
         "age": "24",
         "gender": "Male",
         "race": "White",
         "date": "2018-04-01",
         "city": "Covington",
         "state": "LA",
         "zipcode": 70433,
         "county": "St. Tammany",
         "agency_responsible": "St. Tammany Parish Sheriff's Office",
         "cause_of_death": "gunshot",
         "description_of_circumstances": "About 5 a.m., deputies attempted to pull over a man believed to be involved in vehicle burglaries. Joseph Johnson fled in his car. After a brief chase, Johnson crashed into a ditch, police said. The deputies and Johnson exchanged gunfire. Johnson was shot and killed, and one of the deputies was shot and wounded.",
         "official_disposition": "Pending investigation/No Known Charges",
         "criminal_charges_filed": "No known charges",
         "mental_illness": "no",
         "armed_unarmed_status": "Allegedly Armed",
         "alleged_weapon": "gun",
         "alleged_threat_lvl": 1,
         "fleeing": "car",
         "body_camera": "no",
         "geography": "Suburban",
         "encounter_type_draft": "traffic stop",
         "initial_reported_reason_for_encounter_draft": "suspect (vehicle burglaries)",
         "known_past_shootings_of_Officer_draft": 0,
         "_deepnote_index_column": 3171
        },
        {
         "age": "38",
         "gender": "Female",
         "race": "White",
         "date": "2019-09-30",
         "city": "Mountain View",
         "state": "MO",
         "zipcode": 65548,
         "county": "Howell",
         "agency_responsible": "Mountain View Police Department",
         "cause_of_death": "gunshot",
         "description_of_circumstances": "At approximately 11:30 p.m., an officer initiated a vehicle pursuit with Angela Perkins. The officer reportedly discontinued the pursuit after losing sight of the vehicle. The officer reportedly spotted her vehicle stuck in a ditch. The officer got out of his vehicle and approached Perkins. Perkins allegedly put her vehicle in reverse and was able to break free of the ditch and back into a nearby driveway. Perkins allegedly sped up and headed toward the officer, who shot and killed her. The family questioned many things about the police narrative.",
         "official_disposition": "Charged with manslaughter",
         "criminal_charges_filed": "Charged with a crime",
         "mental_illness": "no",
         "armed_unarmed_status": "Vehicle",
         "alleged_weapon": "vehicle",
         "alleged_threat_lvl": 1,
         "fleeing": "car",
         "body_camera": "no",
         "geography": "Rural",
         "encounter_type_draft": "traffic stop",
         "initial_reported_reason_for_encounter_draft": "traffic violation",
         "known_past_shootings_of_Officer_draft": 0,
         "_deepnote_index_column": 1656
        },
        {
         "age": "25",
         "gender": "Male",
         "race": "Black",
         "date": "2016-06-23",
         "city": "Wauwatosa",
         "state": "WI",
         "zipcode": 53225,
         "county": "Milwaukee",
         "agency_responsible": "Wauwatosa Police Department",
         "cause_of_death": "gunshot",
         "description_of_circumstances": "Little has been released about this death. Apparently, he was in his car after hours when police approached. He was shot and killed.",
         "official_disposition": "Pending investigation/No Known Charges",
         "criminal_charges_filed": "No known charges",
         "mental_illness": "no",
         "armed_unarmed_status": "Allegedly Armed",
         "alleged_weapon": "gun",
         "alleged_threat_lvl": 0,
         "fleeing": "not fleeing",
         "body_camera": "yes",
         "geography": "Suburban",
         "encounter_type_draft": "part 1 violent crime",
         "initial_reported_reason_for_encounter_draft": "traffic violation",
         "known_past_shootings_of_Officer_draft": 0,
         "_deepnote_index_column": 5117
        },
        {
         "age": "45",
         "gender": "Male",
         "race": "Hispanic",
         "date": "2016-11-22",
         "city": "La Mirada",
         "state": "CA",
         "zipcode": 90638,
         "county": "Los Angeles",
         "agency_responsible": "Los Angeles County Sheriff's Department",
         "cause_of_death": "gunshot",
         "description_of_circumstances": "Deputies received a call about a robbery in progress at the gas station. After firing at police, Sly was shot and killed.",
         "official_disposition": "Pending investigation/No Known Charges",
         "criminal_charges_filed": "No known charges",
         "mental_illness": "no",
         "armed_unarmed_status": "Allegedly Armed",
         "alleged_weapon": "gun",
         "alleged_threat_lvl": 1,
         "fleeing": "not fleeing",
         "body_camera": "no",
         "geography": "Suburban",
         "encounter_type_draft": "part 1 violent crime",
         "initial_reported_reason_for_encounter_draft": "traffic violation",
         "known_past_shootings_of_Officer_draft": 0,
         "_deepnote_index_column": 4678
        }
       ],
       "rows_bottom": null
      },
      "text/plain": "     age  gender      race        date           city state  zipcode  \\\n4090  54    Male     White  2017-06-07      Orrington    ME   4474.0   \n3171  24    Male     White  2018-04-01      Covington    LA  70433.0   \n1656  38  Female     White  2019-09-30  Mountain View    MO  65548.0   \n5117  25    Male     Black  2016-06-23      Wauwatosa    WI  53225.0   \n4678  45    Male  Hispanic  2016-11-22      La Mirada    CA  90638.0   \n\n           county                       agency_responsible cause_of_death  \\\n4090    Penobscot                       Maine State Police        gunshot   \n3171  St. Tammany      St. Tammany Parish Sheriff's Office        gunshot   \n1656       Howell          Mountain View Police Department        gunshot   \n5117    Milwaukee              Wauwatosa Police Department        gunshot   \n4678  Los Angeles  Los Angeles County Sheriff's Department        gunshot   \n\n      ... mental_illness armed_unarmed_status alleged_weapon  \\\n4090  ...             no      Allegedly Armed            gun   \n3171  ...             no      Allegedly Armed            gun   \n1656  ...             no              Vehicle        vehicle   \n5117  ...             no      Allegedly Armed            gun   \n4678  ...             no      Allegedly Armed            gun   \n\n     alleged_threat_lvl      fleeing body_camera  geography  \\\n4090                1.0  not fleeing          no      Rural   \n3171                1.0          car          no   Suburban   \n1656                1.0          car          no      Rural   \n5117                0.0  not fleeing         yes   Suburban   \n4678                1.0  not fleeing          no   Suburban   \n\n      encounter_type_draft   initial_reported_reason_for_encounter_draft  \\\n4090                 other  other (called in threats to law enforcement)   \n3171          traffic stop                  suspect (vehicle burglaries)   \n1656          traffic stop                             traffic violation   \n5117  part 1 violent crime                             traffic violation   \n4678  part 1 violent crime                             traffic violation   \n\n     known_past_shootings_of_Officer_draft  \n4090                                     0  \n3171                                     0  \n1656                                     0  \n5117                                     0  \n4678                                     0  \n\n[5 rows x 23 columns]",
      "text/html": "<div>\n<style scoped>\n    .dataframe tbody tr th:only-of-type {\n        vertical-align: middle;\n    }\n\n    .dataframe tbody tr th {\n        vertical-align: top;\n    }\n\n    .dataframe thead th {\n        text-align: right;\n    }\n</style>\n<table border=\"1\" class=\"dataframe\">\n  <thead>\n    <tr style=\"text-align: right;\">\n      <th></th>\n      <th>age</th>\n      <th>gender</th>\n      <th>race</th>\n      <th>date</th>\n      <th>city</th>\n      <th>state</th>\n      <th>zipcode</th>\n      <th>county</th>\n      <th>agency_responsible</th>\n      <th>cause_of_death</th>\n      <th>...</th>\n      <th>mental_illness</th>\n      <th>armed_unarmed_status</th>\n      <th>alleged_weapon</th>\n      <th>alleged_threat_lvl</th>\n      <th>fleeing</th>\n      <th>body_camera</th>\n      <th>geography</th>\n      <th>encounter_type_draft</th>\n      <th>initial_reported_reason_for_encounter_draft</th>\n      <th>known_past_shootings_of_Officer_draft</th>\n    </tr>\n  </thead>\n  <tbody>\n    <tr>\n      <th>4090</th>\n      <td>54</td>\n      <td>Male</td>\n      <td>White</td>\n      <td>2017-06-07</td>\n      <td>Orrington</td>\n      <td>ME</td>\n      <td>4474.0</td>\n      <td>Penobscot</td>\n      <td>Maine State Police</td>\n      <td>gunshot</td>\n      <td>...</td>\n      <td>no</td>\n      <td>Allegedly Armed</td>\n      <td>gun</td>\n      <td>1.0</td>\n      <td>not fleeing</td>\n      <td>no</td>\n      <td>Rural</td>\n      <td>other</td>\n      <td>other (called in threats to law enforcement)</td>\n      <td>0</td>\n    </tr>\n    <tr>\n      <th>3171</th>\n      <td>24</td>\n      <td>Male</td>\n      <td>White</td>\n      <td>2018-04-01</td>\n      <td>Covington</td>\n      <td>LA</td>\n      <td>70433.0</td>\n      <td>St. Tammany</td>\n      <td>St. Tammany Parish Sheriff's Office</td>\n      <td>gunshot</td>\n      <td>...</td>\n      <td>no</td>\n      <td>Allegedly Armed</td>\n      <td>gun</td>\n      <td>1.0</td>\n      <td>car</td>\n      <td>no</td>\n      <td>Suburban</td>\n      <td>traffic stop</td>\n      <td>suspect (vehicle burglaries)</td>\n      <td>0</td>\n    </tr>\n    <tr>\n      <th>1656</th>\n      <td>38</td>\n      <td>Female</td>\n      <td>White</td>\n      <td>2019-09-30</td>\n      <td>Mountain View</td>\n      <td>MO</td>\n      <td>65548.0</td>\n      <td>Howell</td>\n      <td>Mountain View Police Department</td>\n      <td>gunshot</td>\n      <td>...</td>\n      <td>no</td>\n      <td>Vehicle</td>\n      <td>vehicle</td>\n      <td>1.0</td>\n      <td>car</td>\n      <td>no</td>\n      <td>Rural</td>\n      <td>traffic stop</td>\n      <td>traffic violation</td>\n      <td>0</td>\n    </tr>\n    <tr>\n      <th>5117</th>\n      <td>25</td>\n      <td>Male</td>\n      <td>Black</td>\n      <td>2016-06-23</td>\n      <td>Wauwatosa</td>\n      <td>WI</td>\n      <td>53225.0</td>\n      <td>Milwaukee</td>\n      <td>Wauwatosa Police Department</td>\n      <td>gunshot</td>\n      <td>...</td>\n      <td>no</td>\n      <td>Allegedly Armed</td>\n      <td>gun</td>\n      <td>0.0</td>\n      <td>not fleeing</td>\n      <td>yes</td>\n      <td>Suburban</td>\n      <td>part 1 violent crime</td>\n      <td>traffic violation</td>\n      <td>0</td>\n    </tr>\n    <tr>\n      <th>4678</th>\n      <td>45</td>\n      <td>Male</td>\n      <td>Hispanic</td>\n      <td>2016-11-22</td>\n      <td>La Mirada</td>\n      <td>CA</td>\n      <td>90638.0</td>\n      <td>Los Angeles</td>\n      <td>Los Angeles County Sheriff's Department</td>\n      <td>gunshot</td>\n      <td>...</td>\n      <td>no</td>\n      <td>Allegedly Armed</td>\n      <td>gun</td>\n      <td>1.0</td>\n      <td>not fleeing</td>\n      <td>no</td>\n      <td>Suburban</td>\n      <td>part 1 violent crime</td>\n      <td>traffic violation</td>\n      <td>0</td>\n    </tr>\n  </tbody>\n</table>\n<p>5 rows × 23 columns</p>\n</div>"
     },
     "metadata": {}
    }
   ],
   "execution_count": null
  },
  {
   "cell_type": "code",
   "metadata": {
    "cell_id": "00011-2fb42839-2ee9-4c75-91af-95b6733dcf10",
    "deepnote_to_be_reexecuted": false,
    "execution_millis": 69307193,
    "execution_start": 1621865304067,
    "source_hash": "d5ebd9b4",
    "tags": [],
    "deepnote_cell_type": "code"
   },
   "source": "print(\"Mental Illness:\")\nprint(train.mental_illness.value_counts())\nprint(\"---------------------------------\")\nprint(\"Threat Level\")\nprint(train.alleged_threat_lvl.value_counts())",
   "outputs": [
    {
     "name": "stdout",
     "text": "Mental Illness:\nno                     2314\nyes                     742\nunknown                 368\ndrug or alcohol use      89\nName: mental_illness, dtype: int64\n---------------------------------\nThreat Level\n1.0    2378\n0.0    1135\nName: alleged_threat_lvl, dtype: int64\n",
     "output_type": "stream"
    }
   ],
   "execution_count": null
  },
  {
   "cell_type": "code",
   "metadata": {
    "cell_id": "00013-a89b2d01-da1b-4ad9-b82a-dc9b7d9f344e",
    "deepnote_to_be_reexecuted": false,
    "execution_millis": 320,
    "execution_start": 1621865304117,
    "source_hash": "517cbe61",
    "tags": [],
    "deepnote_cell_type": "code"
   },
   "source": "ax = sns.countplot(data=train, x='mental_illness', hue='alleged_threat_lvl', palette = 'dark')\n\nlegend_labels, _= ax.get_legend_handles_labels()\nax.legend(legend_labels, ['Non-Attack','Attack'], \n          bbox_to_anchor=(1,1), \n          title='Threat Level')\n          \nplt.title('Does Mental Illness Play a Role in Threat Level?')\nplt.xlabel('Mental Illness')\nplt.ylabel('Attack/Non-Attack Incidents')\nplt.show()\n",
   "outputs": [
    {
     "data": {
      "text/plain": "<Figure size 432x288 with 1 Axes>",
      "image/png": "[encoded data removed]"
     },
     "metadata": {
      "needs_background": "light",
      "image/png": {
       "width": 401,
       "height": 278
      }
     },
     "output_type": "display_data"
    }
   ],
   "execution_count": null
  },
  {
   "cell_type": "markdown",
   "source": "### Takeaways\n- People with no mental illness have been characterized as having an 'attack' threat level more often than not being attackers. \n- there are alot more attacks/non-attacks overall for people not characterized as having a mental illnesses",
   "metadata": {
    "cell_id": "00015-5c551e56-6d72-4504-bdbc-40c95fdec9a4",
    "tags": [],
    "deepnote_cell_type": "markdown"
   }
  },
  {
   "cell_type": "code",
   "metadata": {
    "cell_id": "00015-a50e194a-ec3e-4381-ad5c-cec572ad561c",
    "deepnote_to_be_reexecuted": false,
    "execution_millis": 69307343,
    "execution_start": 1621865304435,
    "source_hash": "4ba19ec1",
    "tags": [],
    "deepnote_cell_type": "code"
   },
   "source": "#hyp testing: Visualize if symptoms of mental illness play a role in threat level\n#this is a 2-sample t-test b/c comparing the means of 2 subgroups\n#this is also 2 tailed t-test b/c checking for any difference btwn the means (regardless of direction)\n\n#Setup\nnull_hypothesis = \"there is no difference in threat level for people with or without mental illness.\"\nalternative_hypothesis = \"there is a difference in threat level for people with or without mental illness.\"\n#confidence_level = .95\n#alpha = 1 - confidence_level\nalpha = .05\n\nwith_mi = train[train[\"mental_illness\"] == 'yes'].alleged_threat_lvl\nwithout_mi = train[train[\"mental_illness\"] == 'no'].alleged_threat_lvl\nwithout_mi = train[train[\"mental_illness\"] == 'unknown'].alleged_threat_lvl\nwithout_mi = train[train[\"mental_illness\"] == 'drug or alcohol use'].alleged_threat_lvl",
   "outputs": [],
   "execution_count": null
  },
  {
   "cell_type": "code",
   "metadata": {
    "cell_id": "00019-4eb0d1f8-0b39-48b7-80dd-1ea9f6c43124",
    "deepnote_to_be_reexecuted": false,
    "execution_millis": 69307340,
    "execution_start": 1621865304458,
    "source_hash": "f31ae328",
    "tags": [],
    "deepnote_cell_type": "code"
   },
   "source": "from scipy import stats",
   "outputs": [],
   "execution_count": null
  },
  {
   "cell_type": "code",
   "metadata": {
    "cell_id": "00019-9a3cf1a0-5490-4795-82f7-1267b2ea6d6c",
    "deepnote_to_be_reexecuted": false,
    "execution_millis": 69307344,
    "execution_start": 1621865304471,
    "source_hash": "df1cd1f0",
    "tags": [],
    "deepnote_cell_type": "code"
   },
   "source": "#.ttest_ind test of independence b/c 2 sample t-test \nt, p = stats.ttest_ind(with_mi, without_mi)",
   "outputs": [],
   "execution_count": null
  },
  {
   "cell_type": "code",
   "metadata": {
    "cell_id": "00020-1af6f99f-e95b-4ee9-b519-ecb114f022fa",
    "deepnote_to_be_reexecuted": false,
    "execution_millis": 69307352,
    "execution_start": 1621865304530,
    "source_hash": "d7655c14",
    "tags": [],
    "deepnote_cell_type": "code"
   },
   "source": "if p < alpha:\n    print(\"We reject the null hypothesis that\", null_hypothesis)\nelse:\n    print(\"We fail to reject the null hypothesis\")",
   "outputs": [
    {
     "name": "stdout",
     "text": "We fail to reject the null hypothesis\n",
     "output_type": "stream"
    }
   ],
   "execution_count": null
  },
  {
   "cell_type": "markdown",
   "source": "### Takeaway\n- T-test failed to reject the null hypothesis meaning there is not enough evidence to support the alternative. ",
   "metadata": {
    "cell_id": "00022-792f28e7-466c-4415-b3e7-c8b87efc23f5",
    "tags": [],
    "deepnote_cell_type": "markdown"
   }
  },
  {
   "cell_type": "code",
   "metadata": {
    "cell_id": "00028-5c04e235-2083-4c4c-ba49-f8eddaa3e032",
    "deepnote_to_be_reexecuted": false,
    "execution_millis": 69307422,
    "execution_start": 1621865304531,
    "source_hash": "224180b9",
    "tags": [],
    "deepnote_cell_type": "code"
   },
   "source": "#running chi2 instead b/c categorical vars\nexp.chi2_matts(train, 'mental_illness', 'alleged_threat_lvl', alpha=0.05)",
   "outputs": [
    {
     "name": "stdout",
     "text": "Observed\n\n[[  28   61]\n [ 714 1600]\n [ 137  231]\n [ 256  486]]\n---\nExpected\n\n[[  28.75462568   60.24537432]\n [ 747.62026758 1566.37973242]\n [ 118.89553089  249.10446911]\n [ 239.72957586  502.27042414]]\n---\n\nchi^2 = 7.9667\np     = 0.0467\n\nBecause the p-value: 0.0467 is less than alpha: 0.05, we can reject the null hypothesis\n",
     "output_type": "stream"
    }
   ],
   "execution_count": null
  },
  {
   "cell_type": "markdown",
   "source": "### Takeaway\n- Chi^2 rejected the null hypothesis meaning we accept that mental status is dependent on alleged threat level.\n",
   "metadata": {
    "cell_id": "00024-610f435e-180d-4438-8514-88c55e842801",
    "tags": [],
    "deepnote_cell_type": "markdown"
   }
  },
  {
   "cell_type": "code",
   "metadata": {
    "cell_id": "00018-c7f48308-9932-46da-bfa7-2ea9bf6e2f7b",
    "deepnote_to_be_reexecuted": false,
    "execution_millis": 538,
    "execution_start": 1621865304531,
    "source_hash": "a188c10b",
    "tags": [],
    "deepnote_cell_type": "code"
   },
   "source": "#visualize race vs alleged threat level\nplt.figure(figsize=(20, 10))\nax = sns.countplot(data=train, x='race', hue='alleged_threat_lvl', palette = 'dark')\n\nlegend_labels, _= ax.get_legend_handles_labels()\nax.legend(legend_labels, ['Non-Attack','Attack'],  \n          title='Threat Level', fontsize=15)\n          \nplt.title('Is Race a Factor in regards to Threat Level?', fontsize = 40)\nplt.xlabel('Race', fontsize = 25)\nplt.ylabel('Attack/Non-Attack Incidents', fontsize = 25)\nax.tick_params(labelsize=15)\nplt.show()",
   "outputs": [
    {
     "data": {
      "text/plain": "<Figure size 1440x720 with 1 Axes>",
      "image/png": "[encoded data removed]"
     },
     "metadata": {
      "needs_background": "light",
      "image/png": {
       "width": 1203,
       "height": 648
      }
     },
     "output_type": "display_data"
    }
   ],
   "execution_count": null
  },
  {
   "cell_type": "markdown",
   "source": "### Takeaways\n- It appears as though all races are more often attacks than not\n- White race shows the most attackers/non-attackers\n- Black and hispanic race that result in non-attack threat level are almost at same level. \n- Asian, Native American, and Pacific Islander races have the least amount of attack/non-attack threat levels.",
   "metadata": {
    "cell_id": "00025-4d0a8d20-c3ba-4ba2-bddf-201cca4a6dcf",
    "tags": [],
    "deepnote_cell_type": "markdown"
   }
  },
  {
   "cell_type": "code",
   "metadata": {
    "cell_id": "00025-3d057a44-6e13-42fe-bfc0-f973de677762",
    "deepnote_to_be_reexecuted": false,
    "execution_millis": 5,
    "execution_start": 1621865305082,
    "source_hash": "6c3137a9",
    "tags": [],
    "deepnote_cell_type": "code"
   },
   "source": "train.race.value_counts()",
   "outputs": [
    {
     "output_type": "execute_result",
     "execution_count": 21,
     "data": {
      "text/plain": "White               1535\nBlack                886\nHispanic             655\nUnknown Race         291\nNative American       56\nAsian                 53\nPacific Islander      36\nHispanic               1\nName: race, dtype: int64"
     },
     "metadata": {}
    }
   ],
   "execution_count": null
  },
  {
   "cell_type": "code",
   "metadata": {
    "cell_id": "00027-ee0bc1ed-ddba-44f8-a6ac-c0f1485a47bc",
    "deepnote_to_be_reexecuted": false,
    "execution_millis": 69307701,
    "execution_start": 1621865305113,
    "source_hash": "465bb8a",
    "tags": [],
    "deepnote_cell_type": "code"
   },
   "source": "import explore",
   "outputs": [],
   "execution_count": null
  },
  {
   "cell_type": "code",
   "metadata": {
    "cell_id": "00027-d3134c2c-9d40-465a-8f23-1bc75102ad73",
    "deepnote_to_be_reexecuted": false,
    "execution_millis": 69307723,
    "execution_start": 1621865305122,
    "source_hash": "93511dd5",
    "tags": [],
    "deepnote_cell_type": "code"
   },
   "source": "explore.chi2(train, 'race', 'alleged_threat_lvl', alpha=0.05)",
   "outputs": [
    {
     "name": "stdout",
     "text": "Observed\n\n[[  18   35]\n [ 276  610]\n [ 250  405]\n [   1    0]\n [  25   31]\n [  12   24]\n [  73  218]\n [ 480 1055]]\n---\nExpected\n\n[[1.71235411e+01 3.58764589e+01]\n [2.86253914e+02 5.99746086e+02]\n [2.11621122e+02 4.43378878e+02]\n [3.23085682e-01 6.76914318e-01]\n [1.80927982e+01 3.79072018e+01]\n [1.16310845e+01 2.43689155e+01]\n [9.40179334e+01 1.96982067e+02]\n [4.95936521e+02 1.03906348e+03]]\n---\n\nchi^2 = 24.5969\np     = 0.0009\n\nBecause the p-value: 0.0009 is less than alpha: 0.05, we can reject the null hypothesis\n",
     "output_type": "stream"
    }
   ],
   "execution_count": null
  },
  {
   "cell_type": "markdown",
   "source": "### Takeaway\n- Chi^2 rejected the null hypothesis meaning we accept that race is dependent on alleged threat level.",
   "metadata": {
    "cell_id": "00030-161e40e7-eb1c-4aa9-a71e-ffbadb299c0a",
    "tags": [],
    "deepnote_cell_type": "markdown"
   }
  },
  {
   "cell_type": "code",
   "metadata": {
    "cell_id": "00032-7308d900-6688-4e8e-8be8-728d4454a1b2",
    "deepnote_to_be_reexecuted": false,
    "execution_millis": 69307727,
    "execution_start": 1621865305166,
    "source_hash": "f9b1c598",
    "tags": [],
    "deepnote_cell_type": "code"
   },
   "source": "#trying nlp\nimport re\nimport unicodedata\nimport nltk\nfrom nltk.tokenize.toktok import ToktokTokenizer\nfrom nltk.corpus import stopwords",
   "outputs": [],
   "execution_count": null
  },
  {
   "cell_type": "code",
   "metadata": {
    "cell_id": "00035-7eb6927b-57c7-47e1-b4a6-224055b35beb",
    "tags": [],
    "deepnote_to_be_reexecuted": false,
    "source_hash": "e30c89f1",
    "execution_start": 1621865305166,
    "execution_millis": 86,
    "deepnote_cell_type": "code"
   },
   "source": "nlp_explore = train[['description_of_circumstances', 'alleged_threat_lvl']]\nnlp_explore",
   "outputs": [
    {
     "output_type": "execute_result",
     "execution_count": 25,
     "data": {
      "application/vnd.deepnote.dataframe.v2+json": {
       "row_count": 3513,
       "column_count": 2,
       "columns": [
        {
         "name": "description_of_circumstances",
         "dtype": "object",
         "stats": {
          "unique_count": 3502,
          "nan_count": 0,
          "categories": [
           {
            "name": "After a burglary and chase, passenger Ambrosia Fagre and driver Kadhar Bailey were shot and killed by police after their car allegedly hit a Maine State Police cruiser.",
            "count": 2
           },
           {
            "name": "Deputy Terry Strawn shot and killed his wife, Theresa Strawn, 54; daughter, Courtney, 32; and his 6-year-old granddaughter, Londyn. He then shot and killed himself.",
            "count": 2
           },
           {
            "name": "3500 others",
            "count": 3509
           }
          ]
         }
        },
        {
         "name": "alleged_threat_lvl",
         "dtype": "float64",
         "stats": {
          "unique_count": 2,
          "nan_count": 0,
          "min": "0.0",
          "max": "1.0",
          "histogram": [
           {
            "bin_start": 0,
            "bin_end": 0.1,
            "count": 1135
           },
           {
            "bin_start": 0.1,
            "bin_end": 0.2,
            "count": 0
           },
           {
            "bin_start": 0.2,
            "bin_end": 0.30000000000000004,
            "count": 0
           },
           {
            "bin_start": 0.30000000000000004,
            "bin_end": 0.4,
            "count": 0
           },
           {
            "bin_start": 0.4,
            "bin_end": 0.5,
            "count": 0
           },
           {
            "bin_start": 0.5,
            "bin_end": 0.6000000000000001,
            "count": 0
           },
           {
            "bin_start": 0.6000000000000001,
            "bin_end": 0.7000000000000001,
            "count": 0
           },
           {
            "bin_start": 0.7000000000000001,
            "bin_end": 0.8,
            "count": 0
           },
           {
            "bin_start": 0.8,
            "bin_end": 0.9,
            "count": 0
           },
           {
            "bin_start": 0.9,
            "bin_end": 1,
            "count": 2378
           }
          ]
         }
        },
        {
         "name": "_deepnote_index_column",
         "dtype": "int64"
        }
       ],
       "rows_top": [
        {
         "description_of_circumstances": "Mark Ellis allegedly threatened police on the phone. When they arrived, after a 12-hour standoff, he was shot and killed.",
         "alleged_threat_lvl": 1,
         "_deepnote_index_column": 4090
        },
        {
         "description_of_circumstances": "About 5 a.m., deputies attempted to pull over a man believed to be involved in vehicle burglaries. Joseph Johnson fled in his car. After a brief chase, Johnson crashed into a ditch, police said. The deputies and Johnson exchanged gunfire. Johnson was shot and killed, and one of the deputies was shot and wounded.",
         "alleged_threat_lvl": 1,
         "_deepnote_index_column": 3171
        },
        {
         "description_of_circumstances": "At approximately 11:30 p.m., an officer initiated a vehicle pursuit with Angela Perkins. The officer reportedly discontinued the pursuit after losing sight of the vehicle. The officer reportedly spotted her vehicle stuck in a ditch. The officer got out of his vehicle and approached Perkins. Perkins allegedly put her vehicle in reverse and was able to break free of the ditch and back into a nearby driveway. Perkins allegedly sped up and headed toward the officer, who shot and killed her. The family questioned many things about the police narrative.",
         "alleged_threat_lvl": 1,
         "_deepnote_index_column": 1656
        },
        {
         "description_of_circumstances": "Little has been released about this death. Apparently, he was in his car after hours when police approached. He was shot and killed.",
         "alleged_threat_lvl": 0,
         "_deepnote_index_column": 5117
        },
        {
         "description_of_circumstances": "Deputies received a call about a robbery in progress at the gas station. After firing at police, Sly was shot and killed.",
         "alleged_threat_lvl": 1,
         "_deepnote_index_column": 4678
        },
        {
         "description_of_circumstances": "Police went to the Crestleigh Apartments to arrest Shawn Braddy. Braddy had allegedly murdered the mother of two of his children at her home in Clay County outside Jacksonville. Braddy exchanged gunfire with police. Braddy ran into nearby woods at one point. Police shot and killed him in a nearby neighborhood.",
         "alleged_threat_lvl": 1,
         "_deepnote_index_column": 440
        },
        {
         "description_of_circumstances": "David Bamber had multiple felony warrants out for his arrest in California and was the suspect in kidnappings in Pleasanton and Nevada. He was shot and killed during a high-speed police chase.",
         "alleged_threat_lvl": 0,
         "_deepnote_index_column": 1619
        },
        {
         "description_of_circumstances": "An officer responded to Lozano-Murillo's home over a child custody issue, authorities said. While the officer and Lozano-Murillo were speaking, a woman arrived at the home and Lozano-Murillo reportedly began attacking her. Police said the officer shot Lozano-Murillo after he armed himself with a knife.",
         "alleged_threat_lvl": 1,
         "_deepnote_index_column": 4835
        },
        {
         "description_of_circumstances": "Police say they pulled Day over for accelerating too quickly. When he got out of the vehicle, police say he was acting nervously, and went to frisk him. That's when they say he started shooting. They returned fire and killed him.",
         "alleged_threat_lvl": 1,
         "_deepnote_index_column": 6508
        },
        {
         "description_of_circumstances": "Doyle Johnson became belligerent after a deputy pulled him over in Rosedale. Johnson then sped eight miles to a vacant home in Byars, where he allegedly pointed a handgun at the deputy and was shot and killed.",
         "alleged_threat_lvl": 1,
         "_deepnote_index_column": 4278
        },
        {
         "description_of_circumstances": "A deputy responded to a 911 call regarding two people fighting in a parking lot. When the deputy spotted one man wielding a knife, the deputy ordered the man to put it down. Instead, the man came toward the deputy, prompting the deputy to shoot the man, a sheriff's spokesperson said.",
         "alleged_threat_lvl": 0,
         "_deepnote_index_column": 5548
        },
        {
         "description_of_circumstances": "At around 3:45 a.m., a call was made to police reporting someone destroying property and throwing rocks in the neighborhood. Police said, a man entered one home and struck an occupant on the shoulder with a metal object before fleeing. When officers arrived, the man ran away toward the MiraCosta College campus. When police contacted the man, he refused to comply with the officers and attempted to attack them with a windshield wiper. Police tasered the man, killing him.",
         "alleged_threat_lvl": 1,
         "_deepnote_index_column": 1073
        },
        {
         "description_of_circumstances": "Officers responded to a man with a gun call. Garcia, armed with a rifle, barricaded himself into a house. Officers set up a perimeter. SWAT responded. Garcia shot Detective Jerry Walker, also a SWAT marksman and observer, as he took his position. Multiple officers shot at Garcia, striking him in the head and killing him. Detective Walker was pronounced dead at Denton Medical Center. The Texas Ranger Division investigated.",
         "alleged_threat_lvl": 1,
         "_deepnote_index_column": 4520
        },
        {
         "description_of_circumstances": "A fight broke out on a wooded path involving former schoolmates. A 26-year-old off-duty NYPD officer allegedly pulled his off-duty weapon and shot his buddy, Chris Curro, in the head, killing him, police said. Police Officer Errick Allen was charged.",
         "alleged_threat_lvl": 0,
         "_deepnote_index_column": 948
        },
        {
         "description_of_circumstances": "Andrew Hogan left Speedway convenience store with items he allegedly had not paid for and was walking when police found him and got into an fight in front of an apartment complex. Police reportedly used a Taser, pepper spray and baton to try and get Hogan to comply. Hogan ran from officers and went into an apartment. While the officers waited for reinforcements, Hogan came out of the apartment with a knife in hand, and police shot and killed him.",
         "alleged_threat_lvl": 0,
         "_deepnote_index_column": 229
        },
        {
         "description_of_circumstances": "\"Upon arrival, the team encountered the suspect outside on the porch of the residence. The man was armed with an assault rifle. A short standoff ensued,\" officials said. \n\"He said Barsnick did not comply with SWAT members' orders. (He) pointed the rifle at team members and was fatally wounded by team members responding to the imminent, life- threatening situation,\" officials said. ",
         "alleged_threat_lvl": 1,
         "_deepnote_index_column": 5662
        },
        {
         "description_of_circumstances": "Officers were called at 1:46 a.m. in reference to a shooting that occurred at a home. When officers arrived, they found a 49-year-old man had been shot multiple times. The man said his son shot him and fled. At 2:35 a.m., police were still processing the scene when the alleged shooter approached the officers. The officers confronted him, and the man asked the officers to shoot, and they shot and killed him. Police withheld details as to what precipitated the killing.",
         "alleged_threat_lvl": 0,
         "_deepnote_index_column": 996
        },
        {
         "description_of_circumstances": "An officer encountered a suspicious man at 11:15 p.m. at the Thornton Infrastructure Maintenance Center's parking lot. The man reportedly exchanged gunfire with the officers and was killed.",
         "alleged_threat_lvl": 1,
         "_deepnote_index_column": 899
        },
        {
         "description_of_circumstances": "Karasek opened fire through a window after scaling the side of his ex-girlfriend's apartment building, killing her and wounding her partner. Officers caught up to him after he fled, and Karasek was killed in a shootout.",
         "alleged_threat_lvl": 1,
         "_deepnote_index_column": 6550
        },
        {
         "description_of_circumstances": "A Pueblo police officer shot and killed a male driver and seriously injured a female passenger about 2 a.m. while being dragged by a reportedly stolen vehicle.",
         "alleged_threat_lvl": 1,
         "_deepnote_index_column": 941
        },
        {
         "description_of_circumstances": "Police were called to a bar to make contact with Andrew Kana who allegedly had several warrants. Kana was inside when they attempted to place him in custody for the warrants. Once one of Kana's wrists was placed in handcuffs, he allegedly failed to comply with orders for his other hand, pulled a firearm, and an officer shot and killed him.",
         "alleged_threat_lvl": 0,
         "_deepnote_index_column": 2554
        },
        {
         "description_of_circumstances": "Garcia's wife called police saying her husband was having a mental health crisis at their home. While the deputy was en route, he requested a mental health unit but none was available. Garcia allegedly confronted the deputy at the frton door with a knife. The deputy asked Garcia to drop the knife, but he allegedly did not. The deputy used his taser on Garcia, and then discharged his weapon several times, killing Garcia.",
         "alleged_threat_lvl": 0,
         "_deepnote_index_column": 48
        },
        {
         "description_of_circumstances": "Several 911 callers reported a man acting erratic, laying on the ground, damaging parked vehicles and chasing people with a machete around 6:10 p.m. The man allegedly attacked a woman and her dog with the weapon. When police arrived, the man charged at them with the machete, and they shot and killed him.",
         "alleged_threat_lvl": 1,
         "_deepnote_index_column": 337
        },
        {
         "description_of_circumstances": "Deputies were called around 12:30 a.m. for shots being fired. Deputies determined the shots had been fired from someone inside of a vehicle. A deputy spotted a vehicle a short time later and attempted to pull it over. The driver did not stop and the deputy pursued the vehicle. The driver stopped at an intersection, and an officer opened shot and killed one of the people inside the vehicle.",
         "alleged_threat_lvl": 0,
         "_deepnote_index_column": 1037
        },
        {
         "description_of_circumstances": "Police responded to the light rail station on a report of domestic violence shortly before 9 p.m. When they arrived they found the man on the south side of the station where he was allegedly pointing a gun at someone. Police exchanged gunfire with Marcus James Uribe, killing him. The officer was wounded.",
         "alleged_threat_lvl": 1,
         "_deepnote_index_column": 850
        },
        {
         "description_of_circumstances": "Officer Kevin Amy drove up to a store at around 2:45 a.m. to find a robbery in progress, police said. The alleged robber, Eric Garrison, was armed with a sawed-off shotgun. He left the store and engaged with the officer but did not fire any shots. His gun was not loaded.",
         "alleged_threat_lvl": 0,
         "_deepnote_index_column": 3701
        },
        {
         "description_of_circumstances": "Police shot and killed a suspected bank robber. At around 5:28 p.m., there was a report of a robbery at the PNC Bank branch in Orange, New Jersey. Police caught up with someone and shot and killed him because he allegedly had a gun.",
         "alleged_threat_lvl": 0,
         "_deepnote_index_column": 3845
        },
        {
         "description_of_circumstances": "Stanley Cochran allegedly stole a car and shot and killed a random person before police shot and killed him.",
         "alleged_threat_lvl": 1,
         "_deepnote_index_column": 533
        },
        {
         "description_of_circumstances": "Kaufman County Sheriff's Office received a criminal trespass call. A deputy saw a man on the private property, and he fled. The man circled back to a pickup that was parked nearby, got in and accelerated toward the deputy and was shot and killed.",
         "alleged_threat_lvl": 0,
         "_deepnote_index_column": 4419
        },
        {
         "description_of_circumstances": "Police responded to a domestic dispute and shot and killed an allegedly armed man.",
         "alleged_threat_lvl": 1,
         "_deepnote_index_column": 3858
        },
        {
         "description_of_circumstances": "Police stopped a suspected impaired driver at an intersection. Anthony C. Lopez allegedly refused to follow directions. Police said he accelerated backward, striking one of the officers and hit a patrol car. The officer reportedly dropped his less-lethal Taser, drew his firearm and shot and killed Lopez.",
         "alleged_threat_lvl": 1,
         "_deepnote_index_column": 2863
        },
        {
         "description_of_circumstances": "Police said Joshua Feast was a person of interest in an investigation into recent shootings in La Marque. About 11:15 p.m., Feast was sitting in a car. He got out of the car and started to run across the street. Officer Jose Santos shot and killed him. Police withheld details as to what precipitated the killing.",
         "alleged_threat_lvl": 0,
         "_deepnote_index_column": 393
        },
        {
         "description_of_circumstances": "A carjacking began at a youth center in Pueblo, where a woman reported her vehicle stolen. An off-duty officer located the vehicle, and officers pursued the vehicle until the car hit a telephone pole. The driver then got out of the car and fled on foot. The driver was located near an alleyway. A deputy thought the suspect was armed, so he shot and killed the person.",
         "alleged_threat_lvl": 1,
         "_deepnote_index_column": 1156
        },
        {
         "description_of_circumstances": "Police arrived at a home to follow up on a homicide investigation. They were allowed into the home, and found Eric Galvan in a bedroom. Galvan reportedly displayed a gun and was shot and killed by Officers Charla Hemerly, Crispin Mendez and Alyssa Hernandez.",
         "alleged_threat_lvl": 1,
         "_deepnote_index_column": 864
        },
        {
         "description_of_circumstances": "Benton fled a burglary with stolen guns. He crashed a car, carjacked a second car, and after shooting at police, was shot and killed.",
         "alleged_threat_lvl": 1,
         "_deepnote_index_column": 5320
        },
        {
         "description_of_circumstances": "Police were investigating a shooting and car wreck. This unidentified man holed up in an apartment, firing at officers before he was shot and killed.",
         "alleged_threat_lvl": 1,
         "_deepnote_index_column": 4968
        },
        {
         "description_of_circumstances": "Authorities say Kelley and his 60-year-old father were drinking alcohol in a busway gazebo in Wilkinsburg when they fought with officers. Zappala says officers had already tried to stun Kelley at least six times, with no effect, when they released the police dog. Zappala says Kelley stabbed the German shepherd and then was shot at 10 times by one officer and two times by another officer.",
         "alleged_threat_lvl": 1,
         "_deepnote_index_column": 5547
        },
        {
         "description_of_circumstances": "Blanca E. Cadavid was shot, presumably by Josue Drumond-Cruz, early during a police standoff. Around 11:15 p.m., officers heard shots fired. They responded and found Josue Drumond-Cruz, 34, who was uncooperative, went into the house and then came back out on the front porch with a rifle. Officers determined that a woman and two children were inside the house during this time and located a search warrant and arrest warrants during this time. When police tried to breach the door at about 3 a.m., they were fired upon, and three officers were injured. Additional gunshots were heard at about 10:10 a.m. Police said Drumond-Cruz continued to fire out of the home throughout the morning. Just after 10 a.m., Drumond-Cruz fired at Greensboro Police who shot and killed him.",
         "alleged_threat_lvl": 0,
         "_deepnote_index_column": 232
        },
        {
         "description_of_circumstances": "Beatty resisted arrest, and police shot him when he pointed at the officer with an unloaded gun.",
         "alleged_threat_lvl": 1,
         "_deepnote_index_column": 6141
        },
        {
         "description_of_circumstances": "Police attempted a traffic stop but the subject allegedly led them on a chase. When they caught up to him in a Walmart parking lot he began screaming threats and started reaching for something in a bag. Officers fired and killed the man.",
         "alleged_threat_lvl": 1,
         "_deepnote_index_column": 6356
        },
        {
         "description_of_circumstances": "A deputy shot Chatham after he lunged at him with a knife, police said. Chatham had allegedly been following a woman who had a protective order filed against him and drove away when the deputy approached him, according to authorities. The deputy followed Chatham to an apartment complex where he was shot, police said.",
         "alleged_threat_lvl": 0,
         "_deepnote_index_column": 5755
        },
        {
         "description_of_circumstances": "Artan ran his car into a crowd at Ohio State University then got out and started slashing with a knife. He ran a short distance away before he was shot and killed.",
         "alleged_threat_lvl": 1,
         "_deepnote_index_column": 4657
        },
        {
         "description_of_circumstances": "After a burglary and chase, passenger Ambrosia Fagre and driver Kadhar Bailey were shot and killed by police after their car allegedly hit a Maine State Police cruiser.",
         "alleged_threat_lvl": 0,
         "_deepnote_index_column": 4427
        },
        {
         "description_of_circumstances": "Deputy Terry Strawn shot and killed his wife, Theresa Strawn, 54; daughter, Courtney, 32; and his 6-year-old granddaughter, Londyn. He then shot and killed himself.",
         "alleged_threat_lvl": 0,
         "_deepnote_index_column": 2450
        },
        {
         "description_of_circumstances": "Jacob Michael Harris was shot and killed after he allegedly reached for a gun when confronted by police. He was suspected of participating in an armed robbery, police said.",
         "alleged_threat_lvl": 0,
         "_deepnote_index_column": 2383
        },
        {
         "description_of_circumstances": "Baltimore County police said someone called 911 around 7:30 a.m. to report a domestic dispute on Bleinheim Road and that a man had a weapon. Police said officers responding to the call saw a person come out of the front door of a house with a gun. At least one officer shot and killed him.",
         "alleged_threat_lvl": 0,
         "_deepnote_index_column": 1941
        },
        {
         "description_of_circumstances": "McDaniel entered a standoff with police when they found McDaniel man in a house. He then started firing a gun from inside the house toward officers. Then he came out of the house shooting and was shot and killed.",
         "alleged_threat_lvl": 1,
         "_deepnote_index_column": 6027
        },
        {
         "description_of_circumstances": "Police were patrolling the area when they say they heard gunshots. The officers then approached a man walking on the sidewalk, and when they attempted to stop him, they shot and killed him. No details were immediately available regarding the killing.",
         "alleged_threat_lvl": 0,
         "_deepnote_index_column": 4290
        },
        {
         "description_of_circumstances": "Chad James Green was a suspect in the fatal shooting of bounty hunter James Black, 42, outside a hotel as Black attempted to apprehend Green. Green was shot and killed by Riverside County and San Bernardino County sheriff's deputies at 11:23 a.m.",
         "alleged_threat_lvl": 1,
         "_deepnote_index_column": 1474
        },
        {
         "description_of_circumstances": "O'Quinn began firing at an officer during a traffic stop, police said. In the exchange of gunfire, O'Quinn was killed and the officer was wounded, according to authorities.",
         "alleged_threat_lvl": 1,
         "_deepnote_index_column": 5797
        },
        {
         "description_of_circumstances": "Officers responded to a call about a bar fight. One of the participants, Castilleja, allegedly ran out and came back to the scene with the intention of committing a drive-by shooting. Officers felt threatened and shot and killed him,",
         "alleged_threat_lvl": 1,
         "_deepnote_index_column": 6426
        },
        {
         "description_of_circumstances": "Police responded to a report of a suspicious vehicle in an Albertsons grocery parking lot. The suspect drove away from officers. Police found the vehicle. The man allegedly reached for a weapon and was shot and killed.",
         "alleged_threat_lvl": 0,
         "_deepnote_index_column": 3426
        },
        {
         "description_of_circumstances": "Police were investigating a report of a suspicious person in a vehicle at an apartment complex. Jamarco McShann allegedly pointed a gun at them, and the officers shot and killed him, police said.",
         "alleged_threat_lvl": 1,
         "_deepnote_index_column": 3692
        },
        {
         "description_of_circumstances": "Police responded several times to domestic violence incidents in a home. Police could hear gunshots during a 911 call. When officers arrived, there were reportedly people threatened inside the house. Officer John Juhasz encountered Delano Williams inside the house, and shot and killed Williams, who allegedly threatened him.",
         "alleged_threat_lvl": 1,
         "_deepnote_index_column": 1828
        },
        {
         "description_of_circumstances": "Officers responded to reports of a shooting around 9:15 p.m. When officers arrived, they heard multiple shots being fired. A person came around the corner of the parking lot of the Northwest African American Museum, raised his firearm and started shooting at the officers, who shot and killed him.",
         "alleged_threat_lvl": 1,
         "_deepnote_index_column": 214
        },
        {
         "description_of_circumstances": "Officers responded to a report of a man with a gun and shot the man when he allgedly brandished his gun at them, police said.",
         "alleged_threat_lvl": 1,
         "_deepnote_index_column": 5661
        },
        {
         "description_of_circumstances": "Police responded to a report of a domestic violence incident at a home. When they arrived, a man allegedly was threatening a woman with a knife. A deputy with the Monroe County Sheriff's Office shot and killed him.",
         "alleged_threat_lvl": 0,
         "_deepnote_index_column": 3456
        },
        {
         "description_of_circumstances": "During a traffic stop, a constable heard gunshots coming from Asher's camper. He called state police, who investigated. Given his phone number, troopers tried and failed to contact Asher. Around 9:30 p.m., Asher exited his camper, pointing a gun in the direction of a trooper, who fatally shot him. ",
         "alleged_threat_lvl": 1,
         "_deepnote_index_column": 6288
        },
        {
         "description_of_circumstances": "Police had been searching for Robinson since he exchanged fire with officers at the Royal Coach Apartments on July 28. Marshals tracked Robinson to his girlfriend's apartment at the Parkside at Camp Creek apartment complex and attempted to arrest him. Authorities say Robinson opened fire on the marshals, and they shot and killed him.",
         "alleged_threat_lvl": 1,
         "_deepnote_index_column": 4982
        },
        {
         "description_of_circumstances": "Around 2:30 a.m., troopers responded to a report of a domestic disturbance at a home in Palmer. When troopers arrived, a woman told officers that Gage Southard was armed with a shotgun inside the garage. Southard drove away in his Dodge Journey SUV, and Wasilla police pursued him until he drove into a ditch in a nearby neighborhood and got out of his SUV with the shotgun. Around 2:50 a.m., Wasilla police fired shot and killed him.",
         "alleged_threat_lvl": 1,
         "_deepnote_index_column": 1312
        },
        {
         "description_of_circumstances": "About 8 p.m. after officers were called on a report of a man wielding a knife. The man reportedly was uncooperative with officers, and moved toward the officers after he failed to comply with their commands. One officer shot and killed Daniel Murillo, who had walked away from a transitional housing program around a week earlier.",
         "alleged_threat_lvl": 0,
         "_deepnote_index_column": 1276
        },
        {
         "description_of_circumstances": "Qawi A. Muhammad allegedly went into a restaurant with a gun where someone who had a protection order against him. Police caught up with him and shot and killed him.",
         "alleged_threat_lvl": 1,
         "_deepnote_index_column": 3285
        },
        {
         "description_of_circumstances": "Officers received a call from the subject's family saying they felt threatened and he was armed and possibly drunk or high. On arrival, the subject fired at the officers who returned fire and killed the man.",
         "alleged_threat_lvl": 1,
         "_deepnote_index_column": 6525
        },
        {
         "description_of_circumstances": "Terrance Carlton matched the description of a man suspected of shooting two men when police shot and killed him about a block away from the initial shootings. He was apparently unarmed at the time of his killing.",
         "alleged_threat_lvl": 0,
         "_deepnote_index_column": 3094
        },
        {
         "description_of_circumstances": "Covington, an alleged carjacker, died after exchanging gunfire with police, according to authorities. Officers followed Covington after he assaulted a driver and stole his vehicle, police said.",
         "alleged_threat_lvl": 1,
         "_deepnote_index_column": 5795
        },
        {
         "description_of_circumstances": "Footage shows the officer pursuing an SUV allegedly driven by Thomas. Right after Thomas crosses Black Olive Drive, the SUV flips and passenger and Ehorn is ejected.Feaster calls in the accident, gets out of the car, and shoots Thomas as he is attempting to exit the SUV out of the passenger side window. Thomas slumps back down into the vehicle. Ehorn died at the scene.",
         "alleged_threat_lvl": 0,
         "_deepnote_index_column": 5734
        },
        {
         "description_of_circumstances": "An Amber Alert was issued after Williams transported his niece, Caitlynn from Texas to Louisiana. An FBI Task Force confronted Williams at a motel in Louisiana, where he shot an officer in the leg and an officer fatally shot him. ",
         "alleged_threat_lvl": 1,
         "_deepnote_index_column": 6236
        },
        {
         "description_of_circumstances": "A person called the sheriff's office and reported a suspicious character. The person who made that report followed that man to 21st Street. Minutes later, Deputy Robert Kunze arrived there. Robert C. Greeson allegedly was driving a stolen truck. Kunze allegedly found a gun on Greeson and went to cuff him. That's when they got into a fight, and there were shots fired. Greeson was shot and killed. Sedgwick County Sheriff's Deputy Kunze was also killed.",
         "alleged_threat_lvl": 0,
         "_deepnote_index_column": 2699
        },
        {
         "description_of_circumstances": "William Lloyd Jones barricaded himself inside a home and held a 9-year-old child hostage at gunpoint. He was shot and killed when police entered to rescue the child.",
         "alleged_threat_lvl": 1,
         "_deepnote_index_column": 1769
        },
        {
         "description_of_circumstances": "Raul Rivera was shot and killed by police after reportedly be shot with bean bags and tasers, yet still advancing on police with a knife.",
         "alleged_threat_lvl": 0,
         "_deepnote_index_column": 3003
        },
        {
         "description_of_circumstances": "Salazar threatened police with a knife before he was shot and killed. He'd been involved in several altercations that night.",
         "alleged_threat_lvl": 0,
         "_deepnote_index_column": 4920
        },
        {
         "description_of_circumstances": "An officer was investigating a stolen vehicle when he exchanged gunfire with an unidentified suspect who was staying at the motel. The officer was shot but uninjured because his vest stopped the bullet. The unidentified man was shot and killed.",
         "alleged_threat_lvl": 1,
         "_deepnote_index_column": 4289
        },
        {
         "description_of_circumstances": "A deputy with the Alleghany County Sheriff's Office received a call from the communications office about a person in the lobby requesting to speak with an officer. The deputy found Chad Montgomery waiting in the lobby. Montgomery allegedly pulled a machete-style knife and charged at the deputy. The deputy shot and killed him.",
         "alleged_threat_lvl": 0,
         "_deepnote_index_column": 3125
        },
        {
         "description_of_circumstances": "Officers said that they were attempting to serve an assault warrant and that gunfire was exchanged at the home, killing Bess.",
         "alleged_threat_lvl": 1,
         "_deepnote_index_column": 6516
        },
        {
         "description_of_circumstances": "Officers responded to a call about a family disturbance. Officers responded to the home after multiple family members called 911 to report that Nicolas Segura was threatening to stab relatives with a knife while possibly under the influence of methamphetamine. Police said he charged at them with a knife, and they shot and killed him.",
         "alleged_threat_lvl": 1,
         "_deepnote_index_column": 420
        },
        {
         "description_of_circumstances": "A deputy stopped to question Nelson, who had run away upon seeing the patrol car, authorities said. While they were speaking, Nelson allegedly attacked the deputy before getting into the driver's seat of the patrol car. Officials said the deputy jumped onto the running board of the car and tried unsuccessfully to subdue Nelson with a stun gun. The deputy shot Nelson after he struck another vehicle while driving the patrol car.",
         "alleged_threat_lvl": 1,
         "_deepnote_index_column": 5624
        },
        {
         "description_of_circumstances": "An officer pulled over a vehicle for some type of moving violation around 1 a.m., police said. After the driver stopped, the man in the front passenger seat got out of the vehicle and started walking away. The deputy told him to stop and show his hands, but the man continued, took out a firearm and shot at the officer, who shot and killed him.",
         "alleged_threat_lvl": 1,
         "_deepnote_index_column": 1829
        },
        {
         "description_of_circumstances": "An officer shot Christen after he began repeatedly punching her in the head, police said. Christen had previously called 911 to say he \"intended to kill someone\" at an address on Watkins Street and crashed his car near the address shortly after the officer arrived at the scene, according to authorities.",
         "alleged_threat_lvl": 1,
         "_deepnote_index_column": 5877
        },
        {
         "description_of_circumstances": "Timothy Darrell Elam followed a worker into the Ronald Reagan State Building in downtown Los Angeles. The building was not open to the public when Elam followed an employee into the building and kept his hands concealed in a bag, police said. The man then shouted at employees at a security checkpoint to “get down on the floor.” That's when a CHP officer confronted Elam. Elam raised his hands toward the officer, who shot and killed him. Elam had been holding an aluminum can concealed within the paper bag.",
         "alleged_threat_lvl": 1,
         "_deepnote_index_column": 3809
        },
        {
         "description_of_circumstances": "Investigators said a pursuit ensued and stopped at B Mine Road. The driver spun the car around, facing the deputy, and Holmes opened fire on the car. Police said one of the bullets went through the car and killed 21-year-old Shelby Comer, who was a passenger in the car.  ",
         "alleged_threat_lvl": 0,
         "_deepnote_index_column": 3506
        },
        {
         "description_of_circumstances": "Wheatland police attempted to pull over a drunken driving suspect around 2:30 a.m., but the man would not stop. He was stopped with spike strips as he entered Marysville. Police from several agencies approached the vehicle and ordered the man to surrender, but he refused. They sicced a dog on him, but he fired at the dog, and police shot and killed him.",
         "alleged_threat_lvl": 1,
         "_deepnote_index_column": 3144
        },
        {
         "description_of_circumstances": "Keith Duroy and Clifford Holman responded to a disturbance call outside a strip mall in North Oklahoma City. They were told Bennie Edwards was bothering customers. Edwards was allegedly armed with a knife and non-lethal attemps to subdue him failed.",
         "alleged_threat_lvl": 0,
         "_deepnote_index_column": 385
        },
        {
         "description_of_circumstances": "After a foot chase that started in the St. Louis Galleria, three officers—two Richmond Heights officers and an Overland, Missouri, officer who was working security at the mall—a Richmond Heights officer shot and killed Terry Tillman. The officers reported Tillman had raised and pointed a gun in the direction of one Richmond Heights officer when the other Richmond Heights officer killed him.",
         "alleged_threat_lvl": 0,
         "_deepnote_index_column": 1740
        },
        {
         "description_of_circumstances": "Jason Whittle was shot and killed by Unified police after officers responded to reports of domestic violence just after 6:40 a.m. Police allegedly saw Whittle holding a knife to his 56-year-old mother's throat and shot and killed him.",
         "alleged_threat_lvl": 1,
         "_deepnote_index_column": 2604
        },
        {
         "description_of_circumstances": "Terryn, who planned on traveling to Ohio with his 16-year-old girlfriend to commit suicide, was fatally shot after the 15-year-old opened fire and struck a responding trooper in the shoulder.",
         "alleged_threat_lvl": 1,
         "_deepnote_index_column": 6184
        },
        {
         "description_of_circumstances": "Police received a call about a possible shooting and found the body of 46-year-old Ruth Marie Kilgus around 12:40 p.m. Police learned that Jesse Kilgus planned to pick his child up from school and confronted him there less than 20 minutes later. Kilgus tried to enter the school, but he was told by a school resource officer that it was under lockdown. Kilgus returned to his vehicle. Police arrived, and after about five minutes of negotiations, Kilgus allegedly raised his handgun, and seven officers from three law enforcement agencies shot and killed him.",
         "alleged_threat_lvl": 1,
         "_deepnote_index_column": 3186
        },
        {
         "description_of_circumstances": "Christopher Mills allegedly shot his way into a home of an ex-girlfriend. He wearing a bullet-proof vest, and had a shotgun, a handgun and a knife, and he allegedly failed to comply with officers' orders to disarm when he was shot and killed.",
         "alleged_threat_lvl": 0,
         "_deepnote_index_column": 1542
        },
        {
         "description_of_circumstances": "Clinkscales' mother called 911 around 11:15 p.m. Saturday, saying her son was acting strange and had been drinking heavily before putting his arm through a window, police said. Police who arrived at the residence found a belligerent man, and they tasered him. First aid workers took him to a hospital where he died.",
         "alleged_threat_lvl": 1,
         "_deepnote_index_column": 5268
        },
        {
         "description_of_circumstances": "Police responded to a shooting, and after a standoff and chase, shot and killed Michael Reynolds.",
         "alleged_threat_lvl": 1,
         "_deepnote_index_column": 3262
        },
        {
         "description_of_circumstances": "A chase started on the Benton County-Union County line and ended in Tippah County with a crash and Brian Elkins being shot and killed by a trooper. Details as to what precipitated the killing were withheld by police.",
         "alleged_threat_lvl": 0,
         "_deepnote_index_column": 1386
        },
        {
         "description_of_circumstances": "Police were pursuing Wilks in a car chase when Wilks crashed his vehicle. He then attempted to carjack another car, pointed a gun at police, and was shot by three officers.",
         "alleged_threat_lvl": 1,
         "_deepnote_index_column": 6011
        },
        {
         "description_of_circumstances": "Police said Rueben Galindo was fatally shot after calling the police to say he had a gun. Galindo was not speaking English when he called the emergency line, police said. According to police, when Officers Courtney Suggs and David Guerra arrived they found an armed man, Galindo, outside an apartment complex. Galindo refused to drop the weapon, and the officers shot and killed him.",
         "alleged_threat_lvl": 0,
         "_deepnote_index_column": 3808
        },
        {
         "description_of_circumstances": "Police were investigating some stolen vehicles. When they approached Meltz, he pulled an unidentified weapon and was shot and killed.",
         "alleged_threat_lvl": 1,
         "_deepnote_index_column": 4327
        },
        {
         "description_of_circumstances": "His mother called the police because her son was drinking too much, when the cops showed, he opened fired against them.",
         "alleged_threat_lvl": 1,
         "_deepnote_index_column": 6214
        },
        {
         "description_of_circumstances": "Austin police say they were called to the apartment complex for a husband who called stating his wife had a weapon. When the officers arrived, a white woman came out of the breezeway. The woman had a weapon in her hands and “extended the weapon towards the officers and said \"shoot me, shoot me, kill me.'\" Police told her to drop the weapon, but she proceeded to move towards the officers, and they shot her. As she was lying on the ground, police say she was still moving after being shot so they shot her some more.",
         "alleged_threat_lvl": 1,
         "_deepnote_index_column": 4782
        },
        {
         "description_of_circumstances": "Kyle Copson was armed with a knife when he was confronted by police. It was not reported what precipitated the encounter, but he threatened officer with the knife and was shot and killed.",
         "alleged_threat_lvl": 0,
         "_deepnote_index_column": 4384
        },
        {
         "description_of_circumstances": "Around 10:36 p.m., a Taco Bell employee called 911 to report a man slumped over the driver's seat of a Silver Mercedes was parked in the drive through. As the officers approached the Mercedes, they could see that the driver was unresponsive and had a handgun on his lap. The driver of the vehicle began to move. The officers reportedly told the driver to keep his hands visible, but he allegedly reached for the handgun on his lap, and the police shot and killed him.",
         "alleged_threat_lvl": 0,
         "_deepnote_index_column": 2298
        },
        {
         "description_of_circumstances": "Neil Lyle Chiago Jr. reportedly took family members hostages. Police shot and killed him when he was spotted through a window.",
         "alleged_threat_lvl": 1,
         "_deepnote_index_column": 1482
        },
        {
         "description_of_circumstances": "Around 2:30 p.m., officers saw a vehicle with its hazard lights on. They reportedly went to see if they could help. Officers said there was a woman in the vehicle, and she said her boyfriend went to go get help. When the man came back he was on a bike, he saw officers and allegedly starting shooting at them. Officers shot and killed him.",
         "alleged_threat_lvl": 1,
         "_deepnote_index_column": 1576
        },
        {
         "description_of_circumstances": "Police responded to reports of a theft. Cummins was armed with a box cutter, police said. They have not released information on what led to the shooting. Witnesses described seeing a man walking while a police officer chased him on foot. They say the man was ignoring the officer and at some point the officer drew his weapon.One witness said the officer began shooting when Cummins appeared to start throwing rocks at the officer. Cummins was killed.",
         "alleged_threat_lvl": 0,
         "_deepnote_index_column": 4656
        },
        {
         "description_of_circumstances": "Police responded to a reports of a man firing a shotgun at a woman. The man fled the scene, and police caught up to him nearby. Police ordered the man to drop the gun, and allege the man raised the gun towards officers. Officers fired and killed the man.",
         "alleged_threat_lvl": 1,
         "_deepnote_index_column": 138
        },
        {
         "description_of_circumstances": "Officers visited Hammen's home the previous day after receiving a call that he was suicidal but couldn't find him, police said. Officers returned to the home early the next morning and found it on fire. They spotted Hammen outside with a gun and a propane torch, according to authorities. Police said they fatally shot Hammen when he refused to drop his gun.",
         "alleged_threat_lvl": 1,
         "_deepnote_index_column": 5925
        },
        {
         "description_of_circumstances": "Police responded to a domestic disturbance. When officers arrived, they found a woman with a rifle standing in the roadway. After talking for several minutes with Kerry Lee Nield, officers shot and killed her.",
         "alleged_threat_lvl": 1,
         "_deepnote_index_column": 3428
        },
        {
         "description_of_circumstances": "Thomas allegedly shot at officers who were responding to a report of a domestic disturbance, and officers returned fire. Two other people were found in the home and were taken to hospital for treatment, according to police.",
         "alleged_threat_lvl": 1,
         "_deepnote_index_column": 5815
        },
        {
         "description_of_circumstances": "Police were called at 11:39 a.m. about a welfare check at a business when George Pappas was shot and killed. Details about what precipitated the killing were withheld by police.",
         "alleged_threat_lvl": 0,
         "_deepnote_index_column": 3184
        },
        {
         "description_of_circumstances": "Two Loudon County Sheriff's Office investigators went to the home to serve a warrant for aggravated statutory rape of a 13-year-old. The man's girlfriend invited officers into the home, the 40-year-old male suspect was instructed to take his hands out of his pocket. When he did, police said the suspect pulled out a gun. The officers shot and killed him.",
         "alleged_threat_lvl": 0,
         "_deepnote_index_column": 5562
        },
        {
         "description_of_circumstances": "Deputy Paul Phillips responded around 8:30 p.m. because Gebauer was arguing with a neighbor about feral cats in the area. Gebauer reportedly became more irate until he armed himself with a rifle and opened fire, wounding Phillips. Gebauer was shot and killed.",
         "alleged_threat_lvl": 1,
         "_deepnote_index_column": 1996
        },
        {
         "description_of_circumstances": "An officer was stabbed by Brown after he responded to a call of a suspicious person throwing items onto the road. When the officer arrived and spoke to Brown, he lunged at the officer, hitting him in the shoulder.The officer shot and killed Brown.",
         "alleged_threat_lvl": 1,
         "_deepnote_index_column": 4882
        },
        {
         "description_of_circumstances": "Around 10 p.m., a trooper reported he was chasing a silver Ford Fusion on I-75 north. The trooper said the vehicle may have been stolen out of Chattanooga. The trooper pursued at speeds of more than 120 mph. The trooper knocked the vehicle off the road with a PIT maneuver, and the vehicle traveled into the median, overturned, and then struck a tree, entrapping all three people inside. Passengers Phillip Jackson, 32, and Tiffany T. Bingham, 42, were killed in the crash. Social media reports said the alleged driver, Quentin Alonzo or Hix, 30, was also killed, but news reports said he was taken to Erlanger, a hospital in Chattanooga.",
         "alleged_threat_lvl": 0,
         "_deepnote_index_column": 843
        },
        {
         "description_of_circumstances": "Troopers and members of the Fairbanks Police Department responded to a report of shots fired at 8:30 p.m. Kevin Ray McEnulty left the area in a vehicle before police arrived. The vehicle was located soon after in a nearby Geist Road parking lot. Fairbanks police initiated a traffic stop. Troopers arrived a short time later; members of the University of Alaska Fairbanks police department also arrived. McEnulty brandished a firearm and was shot and killed by troopers at 8:51 p.m.",
         "alleged_threat_lvl": 0,
         "_deepnote_index_column": 2162
        },
        {
         "description_of_circumstances": "Two Oklahoma City police officers were involved in a confrontation when one of the officers shot and killed Laguna. Few details have been released.",
         "alleged_threat_lvl": 1,
         "_deepnote_index_column": 4700
        },
        {
         "description_of_circumstances": "Deputies responding to a domestic battery call shot and the killed Darrell Allen when he reportedly came at them with a knife in a laundry room, police said.",
         "alleged_threat_lvl": 1,
         "_deepnote_index_column": 1881
        },
        {
         "description_of_circumstances": "Police said Officer Andrew Mitchell was investigating prostitution complaints when he took Donna Castleberry into custody. Police alleged Castleberry stabbed Mitchell in the hand with a knife during a fight inside the vehicle, and Mitchell shot and killed her.",
         "alleged_threat_lvl": 1,
         "_deepnote_index_column": 2764
        },
        {
         "description_of_circumstances": "Police said Michael Jolls was suspected of participating in a Phoenix home invasion. Jolls allegedly pointed a gun at officers and was shot and killed.",
         "alleged_threat_lvl": 1,
         "_deepnote_index_column": 2327
        },
        {
         "description_of_circumstances": "About 5 p.m. near Northeast Georgia Medical Center after officers responded to a report of an armed man. Police officers responded, found Adam Paul English, gave verbal commands to disarm. English reportedly failed to comply, and police shot and killed him.",
         "alleged_threat_lvl": 1,
         "_deepnote_index_column": 1683
        },
        {
         "description_of_circumstances": "A man allegedly shot at deputy marshals during a foot pursuit, and they shot and killed him.",
         "alleged_threat_lvl": 0,
         "_deepnote_index_column": 627
        },
        {
         "description_of_circumstances": "Police tracked a stolen vehicle to a hotel near SR143 and University Drive. When officers confronted a couple there, they got into a stolen vehicle and took off. Sometime after leaving the hotel, the couple picked up the woman's 13-year-old son. Officers confronted them again, and the woman got out of the vehicle and shot at police, striking the police vehicle. Officers shot and killed Sylvia Bejarano.",
         "alleged_threat_lvl": 1,
         "_deepnote_index_column": 2903
        },
        {
         "description_of_circumstances": "Police responded to a 911 call about a man armed with a knife who was acting violently. Three officers and the sergeant confronted the man in a basement apartment of the home. The distraught man menaced them with a glass bottle, police said. He was shocked twice with a Taser, killing him.",
         "alleged_threat_lvl": 1,
         "_deepnote_index_column": 4735
        },
        {
         "description_of_circumstances": "Deputies went to a home around 9 p.m. to serve an order of protective custody. The order was issued after family members said that the man could harm a family member or himself. When deputies arrived at the home, family members escorted them into the home where they spotted the man with a weapon. Deputies attempted to subdue him by using a Taser. When he allegedly raised his weapon, deputies shot and killed him.",
         "alleged_threat_lvl": 1,
         "_deepnote_index_column": 1671
        },
        {
         "description_of_circumstances": "Wakup barricaded himself inside a home Friday night. Early Saturday, police say Wakup fired at officers, who fatally shot him.",
         "alleged_threat_lvl": 1,
         "_deepnote_index_column": 5292
        },
        {
         "description_of_circumstances": "Officers responded to reports of a person with a gun. Officers found Arthur Joseph Gonzales waving a handgun and rifle as he made \"incoherent statements\" at a home. After a SWAT team arrived to help secure the area, a shooting took place in front of the house. He said the man ran inside, then was seen in back of the house with a gun, and a second shooting then took place. Police took the man into custody with a gunshot wound to the arm. Gonzales died days later.",
         "alleged_threat_lvl": 1,
         "_deepnote_index_column": 3325
        },
        {
         "description_of_circumstances": "William Earnest Brooks, was allegedly riding an ATV outside of a home on Social Circle Fairplay Road, prompting a 9-1-1 call that sent deputies to the home. The caller said the homeowner expected someone to be there to do some yard work but not to ride an ATV. Deputies tried to talk with Brooks, but he allegedly ran away, and police chased him. Police said Brooks overpowered the deputy, causing the deputy to draw his weapon and fire one round, missing Brooks. Brooks then took the weapon and fled deeper into the woods. A Georgia State Patrol helicopter spotted Brooks near a lake shoreline. Multiple Walton County deputies and one Social Circle police officer shot and killed Brooks.",
         "alleged_threat_lvl": 1,
         "_deepnote_index_column": 2845
        },
        {
         "description_of_circumstances": "Gregorio Cruz Vanloo was a suspect in a “shots fired” incident at the parking lot of Los Lobos Mexican Restaurant. Deputies and officers from the Smithville Police Department got together and went to this home trying to apprehend him. When they arrived, Vanloo was on the front porch, and he allegedly pointed a handgun at them, and they shot and killed him.",
         "alleged_threat_lvl": 1,
         "_deepnote_index_column": 844
        },
        {
         "description_of_circumstances": "A Mt. Pleasant police officer attempted to stop a suspected DUI driver. However, the driver did not immediately stop and allegedly led the officer on a brief pursuit. Bradley Ross Nelson got out of his car and showed the officers he was carrying a weapon. Nelson was shot and killed.",
         "alleged_threat_lvl": 1,
         "_deepnote_index_column": 4442
        },
        {
         "description_of_circumstances": "An officer observed David Huffines sitting on the sidewalk. The officer walked toward the man, police said. The area was dark, and the officer asked to see the man's hands as he was speaking to him. Huffines stood up, produced a small handgun and pointed it at the officer. Mesa police said that there was an exchange of gunfire, and Huffines was killed.",
         "alleged_threat_lvl": 1,
         "_deepnote_index_column": 2707
        },
        {
         "description_of_circumstances": "Around 7:40 p.m., an officer tried to stop Ronell Foster. Police said he took off running, and the officer chased after him. The two allegedly fought, and the officer shot and killed Foster.",
         "alleged_threat_lvl": 1,
         "_deepnote_index_column": 3334
        },
        {
         "description_of_circumstances": "Police responded to a family fight. When police arrived, a man said he'd been beaten. Jesse Murillo came out with a machete and ran. Later, police found him and shot and killed him when they found him in an alley.",
         "alleged_threat_lvl": 0,
         "_deepnote_index_column": 3507
        },
        {
         "description_of_circumstances": "An Ohio State Highway Patrol trooper saw a man walking along the roadway. When he stopped to investigate, the man, who was carrying a shotgun, fired a single round at the trooper's vehicle before running into a nearby field. Later a deputy spotted the man walking in a field toward a residence. The man entered his home after refusing to follow commands of police. As officers pulled up in front of the home, the man came back outside, refused to obey demands and pointed his gun at officers who shot and killed him.",
         "alleged_threat_lvl": 1,
         "_deepnote_index_column": 3291
        },
        {
         "description_of_circumstances": "The man allegedly waved a handgun at officers, who arrived following a domestic dispute. Two deputies were involved in the shooting, police said.",
         "alleged_threat_lvl": 1,
         "_deepnote_index_column": 5670
        },
        {
         "description_of_circumstances": "About 3:30 a.m., deputies responded to the 2100 block Morning Jewel Place, in Tucson's north-side, in reference to a report of a man attempting to break into vehicles. The suspect left the area, but was identified as Bradley Alexander Lewis. Deputies found a vehicle matching the description just before 7 a.m. and attempted a traffic stop. The vehicle fled to a nearby residence, where Lewis allegedly rammed into a patrol vehicle. Deputies shot and killed Lewis.",
         "alleged_threat_lvl": 1,
         "_deepnote_index_column": 274
        },
        {
         "description_of_circumstances": "According to the U.S. Border Patrol, the agent was walking east of Nogales, Arizona, around 7 p.m. when he spotted the group of people he suspected to be undocumented. hey allege somebody from the group stabbed the Border Patrol agent and tthe agent then shot and killed them. ",
         "alleged_threat_lvl": 1,
         "_deepnote_index_column": 572
        },
        {
         "description_of_circumstances": "Bell Police Department personnel and East Los Angeles Station (sheriff's) personnel received 911 calls regarding a domestic dispute at a local convenience store, police said. The man had argued with and assaulted a woman, who had a child with her, at a fast food restaurant and then walked next door to a convenience store, where the dispute continued. When Bell police officers arrived, they encountered a man armed with a knife. He refused to comply with the officers' commands and advanced toward the officers with the knife, Ramos and was shot and killed.",
         "alleged_threat_lvl": 0,
         "_deepnote_index_column": 5063
        },
        {
         "description_of_circumstances": "Police received a 911 call at 1:38 p.m. of an intruder and a shot fired at a home in Backus. Deputies responded to the area and encountered an armed man in the street. The armed man, Keith Haux, reportedly approached deputies with a firearm and was shot and killed by a deputy. Maynard Anderson, 72, was found dead inside the residence.",
         "alleged_threat_lvl": 0,
         "_deepnote_index_column": 1177
        },
        {
         "description_of_circumstances": "Police went to a Home Depot following a call reporting shots fired. When they got there, they exchanged gunfire with a man, killing him. Details were mostly withheld by police.",
         "alleged_threat_lvl": 1,
         "_deepnote_index_column": 4222
        },
        {
         "description_of_circumstances": "An alleged crime spree started about 9 p.m. Tuesday with an attempted carjacking and two carjackings that left two women wounded. About 3:30 a.m. Wednesday, Allan Farris exchanged gunfire in Detroit with an undercover trooper he allegedly tried to carjack. Shots also were fired when officers saw Farris behind a garage about four hours later. He later was found dead. No officers were wounded.",
         "alleged_threat_lvl": 1,
         "_deepnote_index_column": 3154
        },
        {
         "description_of_circumstances": "A Federal Heights police officer shot and killed a fugitive parolee — who officers believed was armed — when he refused orders to surrender and attempted to flee.",
         "alleged_threat_lvl": 0,
         "_deepnote_index_column": 4003
        },
        {
         "description_of_circumstances": "Police stopped Grigsby, who was driving a car with stolen license plates, and learned of multiple felony warrants for his arrest, police said. Grigsby assaulted one officer and shot another before the officers returned fire, according to authorities. Both officers were treated for their injuries.",
         "alleged_threat_lvl": 1,
         "_deepnote_index_column": 5731
        },
        {
         "description_of_circumstances": "A homeowner told deputies a man knocked on his door, pointed a gun at him and demanded the keys to his truck, police said. The homeowner gave the man his keys and called 911. When deputies arrived, the man, David Marcus Reece, was outside the home. A deputy said when he confronted Reece, Reece pointed a gun him. The deputy shot and killed Reece.",
         "alleged_threat_lvl": 1,
         "_deepnote_index_column": 2030
        },
        {
         "description_of_circumstances": "Lopez and a second man, Roberto Felix Rodriguez-Garcia, 22, were being pursued by police as suspects in a home invasion. Police caught up to Lopez where there was an exchange of gunfire between he and police officers.",
         "alleged_threat_lvl": 1,
         "_deepnote_index_column": 6559
        },
        {
         "description_of_circumstances": "Two officers were working undercover in the Linden area in an unmarked vehicle. The officers came across two people, one armed with a gun. They told Green suspect to drop the gun. He started shooting at the officers and was shot and killed.",
         "alleged_threat_lvl": 1,
         "_deepnote_index_column": 5173
        },
        {
         "description_of_circumstances": "Monroe County's probation office requested that deputies serve a probation violation warrant for violation of home detention on an adult woman. Deputies also were aware that an adult male with \"high-level\" felony warrants was likely at the residence. When a marked car came to the front door of the residence, deputies also approached the back door. The male that was wanted came out the back door, pointed a handgun at deputies and said, \"Fuck this.\" Deputies shot and killed Daniel Boyer.",
         "alleged_threat_lvl": 1,
         "_deepnote_index_column": 2804
        },
        {
         "description_of_circumstances": "Police said Perkins threatened to shoot his wife, a neighbor and a police officer and was armed with several weapons. According to authorities, Perkins came out of his come and confronted the Swat and crisis negotiation units which had assembled, pointing 'several' weapons at them.",
         "alleged_threat_lvl": 1,
         "_deepnote_index_column": 6055
        },
        {
         "description_of_circumstances": "At 7:11 p.m., officers received a report of aggravated robbery, sexual assault and vehicle theft. The man allegedly showed a handgun during the assault then took the victim's vehicle. At 11:37 p.m., an Ogden police officer spotted the stolen car. The officer approached the vehicle, and a man fled. Officers chased on foot and searched a backyard, where the man stood up in the bed of a pick-up truck and produced a firearm. Two Ogden Police officers shot and killed him.",
         "alleged_threat_lvl": 0,
         "_deepnote_index_column": 231
        },
        {
         "description_of_circumstances": "Police said they shot and killed Johnson and his father, Matthew Wood Jr, while the two were aiming their guns across a street. The officers encountered the men during a patrol. Investigators said they believed the pair were about to begin shooting when police arrived. This narrative is heavily disputed by community members.",
         "alleged_threat_lvl": 1,
         "_deepnote_index_column": 5353
        },
        {
         "description_of_circumstances": "James Fuller was shot and killed by officers as they were responding to a domestic call for what appeared to be between a husband and wife. According to police, Fuller, who was shot and killed, had a felony warrant for methamphetamine charges out of Texas. Columbus police were executing a search warrant at a and while they were attempting to arrest Fuller, and a fight ensued between him and police. Fuller was tasered and went to the floor, but continued to fight with officers. Fuller then picked up a chair, hitting an officer. At that point, Fuller went to a box and reached for what appeared to be a handgun, an officer shot and killed Fuller.",
         "alleged_threat_lvl": 1,
         "_deepnote_index_column": 3814
        },
        {
         "description_of_circumstances": "Police responded to a call about multiple shots fired. Police found the man and there was an exchange of gunfire. The man was killed.",
         "alleged_threat_lvl": 1,
         "_deepnote_index_column": 4746
        },
        {
         "description_of_circumstances": "Police were called to the scene around 8:45 a.m. to serve a high-risk warrant to Shaunday Mullins. When officers got to the home, Mullins was inside with his girlfriend and her two children. The children were allowed to leave the home soon after police arrived. Mullins allegedly fired a weapon at officers, and he was shot and killed.",
         "alleged_threat_lvl": 1,
         "_deepnote_index_column": 2601
        },
        {
         "description_of_circumstances": "Officers responded to a robbery in progress at a liquor store, police said. McMillan shot at reponding officers in the parking lot near the liquor store and was killed when officers returned fire, according to authorities.",
         "alleged_threat_lvl": 1,
         "_deepnote_index_column": 5812
        },
        {
         "description_of_circumstances": "Tucson police say a man followed his estranged wife to work, shot her and fled before being fatally shot by a police officer during an unrelated traffic stop. Kislek and Officer Alexis Lujan got into a confrontation during the traffic stop, and he was shot by Lujan.",
         "alleged_threat_lvl": 1,
         "_deepnote_index_column": 246
        },
        {
         "description_of_circumstances": "Hamid Ould-Rouis was reportedly being sought for attempted murder when he was shot and killed when he reported pulled a gun on police.",
         "alleged_threat_lvl": 1,
         "_deepnote_index_column": 2022
        },
        {
         "description_of_circumstances": "Around 11:30 p.m. police officers attempted to stop Brad Stirewalt, who was suspected of intoxicated driving. Stirewalt allegedly fled into Jasper County, where his vehicle was pursued by multiple agencies. The pursuit ended in a parking lot when Stirewalt got out of the vehicle and allegedly fired a weapon at officers. Two state troopers and a Jasper County deputy shot and killed him.",
         "alleged_threat_lvl": 1,
         "_deepnote_index_column": 1342
        },
        {
         "description_of_circumstances": "Ajay Kamil Ayseli, who officers were trying to arrest for a carjacking, was allegedly stabbing a woman when he was shot and killed by an officer.",
         "alleged_threat_lvl": 1,
         "_deepnote_index_column": 1188
        },
        {
         "description_of_circumstances": "Robert A. White, 34, and Timothy D. Mosley, 33, were killed in an officer-involved shooting. Details regarding what precipitated the killings were withheld by police. News reports said they were apparently fighting over a gun and a golf cart.",
         "alleged_threat_lvl": 0,
         "_deepnote_index_column": 2960
        },
        {
         "description_of_circumstances": "Police responded to an argument between a landlord and a former tenant. Armando Osuna allegedly hit an officer with a pipe and was shot and killed.",
         "alleged_threat_lvl": 1,
         "_deepnote_index_column": 2999
        },
        {
         "description_of_circumstances": "Police were investigating a shooting. They went to Strand's home and found the vehicle. When they went to Strand's bedroom, he confronted and cut an officer with a knife before he was shot and killed.",
         "alleged_threat_lvl": 1,
         "_deepnote_index_column": 4962
        },
        {
         "description_of_circumstances": "Deputies attempted to stop a Buick Rainier for reckless driving about 9:29 p.m. The driver fled at a high rate of speed, exiting the freeway in Muscoy. The driver veered off the roadway and struck a mailbox. The driver reversed his vehicle and allegedly rammed the patrol car, and a deputy shot and killed Juan Ayon-Ruiz.",
         "alleged_threat_lvl": 1,
         "_deepnote_index_column": 1351
        },
        {
         "description_of_circumstances": "During a traffic stop at about 8 p.m. on Ranch Road 674 near Brackettville, a vehicle's passenger fired at the agents, injuring one. Another Border Patrol agent shot and killed the 25-year-old man.",
         "alleged_threat_lvl": 1,
         "_deepnote_index_column": 1708
        },
        {
         "description_of_circumstances": "A teenage gunman shot two students outside a Wisconsin high school's prom Saturday night, police said. Police, who were on campus, shot Wagner.",
         "alleged_threat_lvl": 1,
         "_deepnote_index_column": 5293
        },
        {
         "description_of_circumstances": "Robert Charles Foster was killed after an hours-long standoff in a field behind the Faith Baptist Church in Bandon. The incident began when Foster called 9-1-1 and said he had explosives and planned to set off an explosion. Foster was spotted in a pickup truck about 100 yards behind the church around 11:30 a.m. Shortly before 4 p.m., he got out of his truck, pointed the shotgun at police, then fired once. Six officers shot and killed him.",
         "alleged_threat_lvl": 1,
         "_deepnote_index_column": 2582
        },
        {
         "description_of_circumstances": "Todd Hodge was under a house. San Jacinto Police k-9 Handler, Deputy Mark Wallace and his dog, Sultan responded. Sultan was unleashed to the crawl space. Hodge shot Sultan in the neck. Sultan retreated, and was taken to the veterinarian where he died of his injuries. A lengthy stand off began. Later in the evening S.W.A.T. fired tear gas and flash grenades forcing Hodge from under the house. When the subject appeared he was carrying a handgun, at which time officers shot and killed him",
         "alleged_threat_lvl": 1,
         "_deepnote_index_column": 6572
        },
        {
         "description_of_circumstances": "Shady Bell Jr. was shot and killed after West Monroe Police officers responded to an unspecified disturbance near businesses on Basic Drive around 6:15 p.m. Police said gunfire was exchanged between Bell and police.",
         "alleged_threat_lvl": 1,
         "_deepnote_index_column": 3594
        },
        {
         "description_of_circumstances": "Police shot and killed a man Sunday that they say was wielding a handgun and acting erratically near the Uintah Basin Medical Center.",
         "alleged_threat_lvl": 1,
         "_deepnote_index_column": 6287
        },
        {
         "description_of_circumstances": "Police responded to 911 calls around 11:10 a.m. of a man walking through the parking lot, screaming and pointing a gun at cars, police said. At the scene, officers heard conflicting reports that the weapon was a shotgun, rifle or a BB gun. They found the man still brandishing the weapon in front of the Subway. He was shot on the sidewalk outside the door of the Subway. Investigators later determined that the weapon was a rifle-style pellet gun with a wooden stock and a scope.",
         "alleged_threat_lvl": 0,
         "_deepnote_index_column": 4396
        },
        {
         "description_of_circumstances": "Around 2:47 p.m., deputies were called for a possible shooting. When they arrived, they found a person suffering from a major injury gunshot wound. Deputies also encountered Justin Esqueda with a rifle, and exchanged gunfire with him. Esqueda was killed during a subsequent running gunbattle.",
         "alleged_threat_lvl": 1,
         "_deepnote_index_column": 489
        },
        {
         "description_of_circumstances": "Police shot McCallum after he charged at them with a gun when they entered his home following reports of a shooting, according to authorities. Officers found a woman with stab and gunshot wounds inside the home and she was taken to the hospital in serious condition, police said.",
         "alleged_threat_lvl": 1,
         "_deepnote_index_column": 5870
        },
        {
         "description_of_circumstances": "Troopers responded to a complaint of a man walking in traffic. Reportedly, Joshua Ortiz attacked the officer and was shot and killed.",
         "alleged_threat_lvl": 1,
         "_deepnote_index_column": 1899
        },
        {
         "description_of_circumstances": "A man ran away from police after attempting to burglarize a home. Several police agencies were involved in the chase that ended near the intersection of 13th Street and 30th Avenue. The alleged burglar was allegedly armed with a knife and attacked one of the officers with the weapon. Three officers shot and killed the man.",
         "alleged_threat_lvl": 0,
         "_deepnote_index_column": 245
        },
        {
         "description_of_circumstances": "Westland police had pursued a driver described as suicidal and carrying a handgun about 7:45 p.m. but ended the chase near Hix and Joy roads, police said. The man was later seen running in a residential neighborhood. Police spotted the driver running with a handgun and ordered him to stop, but he fled. While reportedly trying to arrest him, an officer shot and killed him.",
         "alleged_threat_lvl": 1,
         "_deepnote_index_column": 3023
        },
        {
         "description_of_circumstances": "William Martin was wanted for DUI and a weapons offense when he was shot and killed by a trooper, when Martin allegedly tried to run over the trooper.",
         "alleged_threat_lvl": 1,
         "_deepnote_index_column": 1930
        },
        {
         "description_of_circumstances": "Aguilar was fatally shot while trying to break into a woman's home, according to authorities. Police said he was armed but did not give details of the weapon. Officers said they used a Taser on Aguilar before shooting him.",
         "alleged_threat_lvl": 1,
         "_deepnote_index_column": 5728
        },
        {
         "description_of_circumstances": "Deputies were called to a home by a family, who were concerned about their well-being as well as that of a family member. When deputies arrived on the scene, the man came out of the house with a weapon, and he was shot and killed.",
         "alleged_threat_lvl": 1,
         "_deepnote_index_column": 3902
        },
        {
         "description_of_circumstances": "Around 3:07 p.m., a Nampa officer conducted a traffic stop near the Family Dollar. During the stop, one officer got in a fight with the passenger of the vehicle and was stabbed in the face by the man. The other officer shot and killed Leonel Salinas.",
         "alleged_threat_lvl": 1,
         "_deepnote_index_column": 364
        },
        {
         "description_of_circumstances": "A man seen waving a gun at a St. Paul impound lot was later shot and killed by police officers after he ignored repeated commands to raise his hands, police said.",
         "alleged_threat_lvl": 1,
         "_deepnote_index_column": 5248
        },
        {
         "description_of_circumstances": "Police said officers investigating a burglary call made contact with two suspects on Irving Street. One of the two was taken into custody. One of the suspects fled on foot and was chased by police. Police said the suspect then carjacked a vehicle and police began chasing that car. The chase ended a short time later when the suspect lost control and officers stopped the car at 35th and Lowell Boulevard. Shots were exchanged and the suspect was shot and killed.",
         "alleged_threat_lvl": 1,
         "_deepnote_index_column": 5471
        },
        {
         "description_of_circumstances": "Two officers arrived at a home at 8:21 p.m. and found an open front door. The officers were confronted by a man at the top of the stairs holding a handgun. The man reportedly pointed the gun at the officers and fired it. The officers shot and killed him.",
         "alleged_threat_lvl": 1,
         "_deepnote_index_column": 1062
        },
        {
         "description_of_circumstances": "Police officers with a gang unit were patrolling when they approached a vehicle with multiple people inside. One of the three men inside the vehicle allegedly had a gun. Police said that man fired the gun once at officers. He was shot and killed by two officers, police said.",
         "alleged_threat_lvl": 0,
         "_deepnote_index_column": 3050
        },
        {
         "description_of_circumstances": "Denise Chiffon Berry pulled up to an officer, claiming that she and her son, 12, were being followed. She parked in front of the officer's car. A white Cadillac pulled up to the officer and the woman. Washington, in the passenger seat, began shooting. The officer shot back. Washington killed the woman and wounded her son. The officer killed Washington. Two other men in the Cadillac were arrested.",
         "alleged_threat_lvl": 1,
         "_deepnote_index_column": 6372
        },
        {
         "description_of_circumstances": "Police were called to a house on reports of a man chasing his wife with a knife. Allen Bohnlein would not put the knife down after being ordered to, and Officer Aris Lee tased him, killing Boehnlein.",
         "alleged_threat_lvl": 1,
         "_deepnote_index_column": 1139
        },
        {
         "description_of_circumstances": "Marc Stoddart's wife called law enforcement saying her husband was drunk, armed with a knife and threatening to hurt her and himself. Stoddart was outside and armed with a knife when deputies arrived and had cut his wrists. Deputies told him to drop the knife. He refused, then approached a deputy in what police said was a threatening manner. He was shot and killed.",
         "alleged_threat_lvl": 0,
         "_deepnote_index_column": 5498
        },
        {
         "description_of_circumstances": "A 31-year-old man had an open warrant out for his arrest and had came to the ex-girlfriend's apartment about 10:20 p.m. Christmas Eve. He allegedly threatened to shoot up the woman's home. When officers arrived, the suspect had already left. A deputy who had responded to the call on Christmas Eve learned the man had returned, and the officer went to the home, reportedly hoping to arrest the man. When the officer arrived at the apartment the second time, the man allegedly fired multiple shots at the officer, who shot and killed him.",
         "alleged_threat_lvl": 1,
         "_deepnote_index_column": 350
        },
        {
         "description_of_circumstances": "A 911 caller told police that his arm had been slammed in car door by Hasan, according to authorities. Officers said they approached Hasan and shot him when he pulled an assault rifle from his car and ignored commands to stop.",
         "alleged_threat_lvl": 0,
         "_deepnote_index_column": 4856
        },
        {
         "description_of_circumstances": "Officers were reportedly investigating an armed robbery when when they received a suspicious persons call at a nearby apartment. Anthony Santana allegedly pulled out a gun when officers were talking to him, and officers shot and killed him.",
         "alleged_threat_lvl": 0,
         "_deepnote_index_column": 2138
        },
        {
         "description_of_circumstances": "Police were called to a domestic situation, and while speaking to John Resetar's wife, officers exchanged gunfire with a person inside the house. About five hours later, police entered the home and found Resetar unconscious and dying from a gunshot.",
         "alleged_threat_lvl": 1,
         "_deepnote_index_column": 1422
        },
        {
         "description_of_circumstances": "Bradley Joseph Szakacs reportedly opened the door with his gun and was shot and killed. Police were responding to a domestic violence call.",
         "alleged_threat_lvl": 1,
         "_deepnote_index_column": 4477
        },
        {
         "description_of_circumstances": "Byron Williams was reportedly stopped for riding a bicycle without safety lights. He fled on foot, and police restrained him with at least one officer putting weight on his back while he complained about not being able to breathe, killing him.",
         "alleged_threat_lvl": 0,
         "_deepnote_index_column": 1724
        },
        {
         "description_of_circumstances": "Around 12:10 a.m., a deputy was sent to a home for undisclosed reasons. When the deputy arrived, he encountered the suspect armed with a knife inside the home. The deputy shot and killed Carlos Javier Roman Santiago for reasons which were withheld by police.",
         "alleged_threat_lvl": 1,
         "_deepnote_index_column": 2038
        },
        {
         "description_of_circumstances": "Deputies were called to a home for a domestic violence incident. Deputies ensured the safety of the person who called 911, and when they searched the residence, they found a person with a gun. Guillermo Mendoza allegedly pointed the gun at deputies and was shot and killed.",
         "alleged_threat_lvl": 1,
         "_deepnote_index_column": 3460
        },
        {
         "description_of_circumstances": "Reno police were called to a multiple-vehicle chain reaction. Witnesses told officers about a man who had been involved in the crash who was holding a knife to his throat, and another person reportedly trying to disarm him. Police say officers found 38-year-old Sergio Alvarado-Morales with the knife and talked to him, trying to get him to put it down. They then used a Taser to subdue him, and when that didn't work, he and officers fought, and he was shot and killed. Peculiarly, a witness claimed he pulled a gun.",
         "alleged_threat_lvl": 0,
         "_deepnote_index_column": 5572
        },
        {
         "description_of_circumstances": "Officers reported that they responded to a 911 call from a woman claiming that Hicks had threatened to break into her house to kill her. Officers also claim that Hicks pointed a rifle at them when they entered a house he'd fled into, before one officer shot him to death. However, witnesses at the scene said that Hicks was complying with officers' orders.",
         "alleged_threat_lvl": 1,
         "_deepnote_index_column": 6195
        },
        {
         "description_of_circumstances": "A deputy was patrolling around 10:59 p.m. when she contacted a vehicle with a male driver, police said. The deputy shot and killed the man, but details as to what precipitated the killing were withheld.",
         "alleged_threat_lvl": 1,
         "_deepnote_index_column": 2276
        },
        {
         "description_of_circumstances": "Three officers approached Branch in his car after the fatal shooting of his girlfriend. He began shooting at officers from his car with a .380 Beretta pistol and continued to shoot as he exited his vehicle. Officers fatally shot Branch from a distance of about eight feet.",
         "alleged_threat_lvl": 1,
         "_deepnote_index_column": 6235
        },
        {
         "description_of_circumstances": "Deputy John Clary shot and killed Douglas West when he greeted officers responding to a domestic disturbance with a gun.",
         "alleged_threat_lvl": 0,
         "_deepnote_index_column": 4008
        },
        {
         "description_of_circumstances": "Rosalio Hernandez Ortega was shot and killed shortly after 5:30 p.m. when officers responded to a 9-1-1 report of a man slashing tires with a machete. Ortega allegedly threatened Sgt. Richard Marsh, 47, and Officer Alek Ayer, 24, with the machete and was shot and killed.",
         "alleged_threat_lvl": 0,
         "_deepnote_index_column": 2857
        },
        {
         "description_of_circumstances": "Police reportedly spotted a vehicle matching a description of a car wanted in connection with an Oct. 9 robbery at the Horseshoe Casino. The officer ordered the driver out of the car and learned the driver was a person of interest in the Oct. 9 robbery. John Feggins allegedly lunged at the officer with a gun in his hand. A fight began and Officers Ryan Glass and Joel Hawk shot and killed Feggins.",
         "alleged_threat_lvl": 1,
         "_deepnote_index_column": 1569
        },
        {
         "description_of_circumstances": "Miller's family asked police to check on her because she was threatening family members and law enforcement, according to authorities. Deputies waited for Miller at her home and said that when she arrived, she pulled out a gun. She was shot after allegedly pointing the gun at deputies. Investigators said Miller had a history of mental health problems.\n",
         "alleged_threat_lvl": 1,
         "_deepnote_index_column": 4855
        },
        {
         "description_of_circumstances": "A trooper pulled over a blue Honda for speeding and noticed the car's paperwork didn't match up. While the officer was speaking to the passenger of the car, the passenger lunged at him, and they fought. During the exchange of gunfire, the officer was wounded, and the passenger was killed.",
         "alleged_threat_lvl": 1,
         "_deepnote_index_column": 2883
        },
        {
         "description_of_circumstances": "Police received multiple reports of a man pinning a woman to the ground and stabbing her around 9 p.m. at an apartment complex, police said. A sergeant responded to the call and found the man, identified 30-year-old William Fuller, attacking the woman outside the complex. The officer reportedly ordered Fuller to get off the woman and drop the knife, but he stood up and charged the officer while holding the knife, police said. The sergeant fired two shots, killing Fuller.",
         "alleged_threat_lvl": 1,
         "_deepnote_index_column": 2796
        },
        {
         "description_of_circumstances": "Police responded around 12:15 p.m. to investigate reports of someone firing a rifle into the air. The lot involved contains two residences, a front and a back, and the gunman was in the rear yard. The man barricaded himself in a home. Other family members were evacuated. Police tried to coax the man from the home, including sending in recording of his family members pleading for him to surrender. When that was unsuccessful, they used tear gas,and the man began firing from the home. When additional rounds of tear gas were sent into the home, the man came out and exchanged gunfire with police. Police shot and killed Jorge Armando Cerda.",
         "alleged_threat_lvl": 1,
         "_deepnote_index_column": 133
        },
        {
         "description_of_circumstances": "Deltra Henderson was missing from the David Wade Correctional Center in Claiborne Parish. He Had stolen a car and crashed it not far from the prison complex. Officers found Henderson hiding in a trailer on prison property and surrounded the building. Henderson opened fire, and officers returned fire, killing him. At some point in the escape, Henderson allegedly kidnapped and killed a woman.",
         "alleged_threat_lvl": 1,
         "_deepnote_index_column": 3927
        },
        {
         "description_of_circumstances": "Richard Cabrera opened fire at officers from inside a home at the Waterford Point apartment complex. Police fired back and a standoff began. The standoff ended several hours later when Cabrera was found dead. Police did not immediately report whether Cabrera was shot by officers or if he killed himself.",
         "alleged_threat_lvl": 1,
         "_deepnote_index_column": 1660
        },
        {
         "description_of_circumstances": "“An officer was working a secondary employment detail when a young, black male between the ages of 19 and 23 came into the bank, presented a firearm and ordered everybody to the ground. The officer was in a position at the rear of the bank, announced, ‘Pittsburgh Police,' to which the offender pointed the gun in the officer's direction. She fired one single round that round struck the subject in his left side,” Pittsburgh Police Commander Larry Scirotto said.",
         "alleged_threat_lvl": 1,
         "_deepnote_index_column": 5713
        },
        {
         "description_of_circumstances": "Around 10:40 a.m., officers responded to a report regarding a criminal trespass at an unspecified business. When police ran the vehicle's plates, they found the vehicle had been stolen during an aggravated robbery. Police responded to Longview Square Apartments after receiving a report of the same vehicle being at the complex. According to Longview police, one of the suspects, Detravian Allison, was armed with a handgun. Police said Allison raised the gun at the officers, who shot and killed him.",
         "alleged_threat_lvl": 1,
         "_deepnote_index_column": 1809
        },
        {
         "description_of_circumstances": "Just before 9:30 a.m. at a mental health facility, two Flagstaff officers were leaving the area on an unrelated call, when Henry Harold Russell confronted them with a knife. One of the officers shot and killed Henry Harold Russell.",
         "alleged_threat_lvl": 1,
         "_deepnote_index_column": 2321
        },
        {
         "description_of_circumstances": "St. Louis County police officers responded to a call about a one-car crash near the interchange of Interstates 270 and 55. When someone approached the car, Kershaw held him at gunpoint with a shotgun and handgun and demanded his car. Kershaw then carjacked a different car before heading south on I-55, police said. Officers spotted Kershaw in the second stolen car and tried to stop the vehicle. Police used stop sticks to pop the car's tires. After a gunfight, officers eventually approached the bullet-riddled car and found Kershaw dead.",
         "alleged_threat_lvl": 1,
         "_deepnote_index_column": 3941
        },
        {
         "description_of_circumstances": "A deputy responded to a report of a vehicle in the ditch on County Highway FF in the town of Corning. The office says soon after a deputy responded, Igers shot at the deputy. The deputy Shot and killed Shawn Igers.",
         "alleged_threat_lvl": 1,
         "_deepnote_index_column": 4364
        },
        {
         "description_of_circumstances": "Clyde was shot and killed by police after he refused to drop a knife he used to repeatedly stab his father, authorities said ",
         "alleged_threat_lvl": 1,
         "_deepnote_index_column": 6373
        },
        {
         "description_of_circumstances": "Police were called to a home for a dispute. Police allege they began interviewing Parker and a woman at the scene, and Parker allegedly pointed a handgun at the woman and one of the officers. One of the officers then shot Parker.",
         "alleged_threat_lvl": 0,
         "_deepnote_index_column": 10
        },
        {
         "description_of_circumstances": "Around 8 a.m., Montgomery County police received several 911 calls that a man in a Volkswagen sedan was driving erratically. Two cars were struck by the driver before the deputy arrived. Deputy Frank Pruitt arrived and saw Kevin Costlow approaching two people with a large stick. He and Costlow began fighting, and Costlow struck him with it. The deputy attempted to shock Costlow with his Taser, but he failed to incapacitate him, and Deputy Frank Pruitt shot and killed Costlow.",
         "alleged_threat_lvl": 1,
         "_deepnote_index_column": 227
        },
        {
         "description_of_circumstances": "Around 7:15 p.m., troopers received a 911 call involving a domestic disturbance. AST responded. Aaron Tolen got into a physical altercation with a trooper inside of the home. More officers arrived and reportedly saw Tolen fighting the trooper on the floor, and they shot and killed Tolen.",
         "alleged_threat_lvl": 1,
         "_deepnote_index_column": 1176
        },
        {
         "description_of_circumstances": "Officers from multi-agencies attempted to arrest a man on a warrant for allegedly robbed a Waffle House at gunpoint. Details have not been released, but officers shot and killed the subject at his home.",
         "alleged_threat_lvl": 0,
         "_deepnote_index_column": 6489
        },
        {
         "description_of_circumstances": "The resident of a home reported a man “pounding” on his front door. While Santa Cruz police were en route, the man called back and said the man was now at the back door of the residence and yelling that he wanted to kill everyone inside, according to police. When officers arrived, they called the man out of the backyard. The man proceeded to attack the officers with a metal bow rake and refused repeated commands to drop the tool. When Tasers proved ineffective in stopping the suspect, he was shot and killed.",
         "alleged_threat_lvl": 1,
         "_deepnote_index_column": 4783
        },
        {
         "description_of_circumstances": "Clyde Sullivan fatally shot a female coworker outside a Fort Walton Beach insurance office. A short time later, after fleeing from the shooting scene in a gold Toyota SUV, Sullivan allegedly shot at Okaloosa County deputies, who shot and killed Sullivan as he sat in the SUV, parked inside the entrance to the Timberlake Pond Recreation Area.",
         "alleged_threat_lvl": 1,
         "_deepnote_index_column": 1432
        },
        {
         "description_of_circumstances": "Troopers were called to the rest stop along I-64. The officer reportedly was not able to reason with Taylor Ware, and he beat the officer during a fight. A police dog was sicced on Ware, and a Santa Claus officer arrived and tried to use a Taser. Troopers say the officers were still not able to subdue Ware, and he began choking the dog with one hand while grabbing the Taser with the other and trying to shock the officer. Ware died after being restrained. Details as to why the police were called were withheld by police.",
         "alleged_threat_lvl": 1,
         "_deepnote_index_column": 1759
        },
        {
         "description_of_circumstances": "Troopers shot and killed Delos Peter Lowe after a 12-hour standoff that began when he allegedly fired on them when they came for a welfare check.",
         "alleged_threat_lvl": 1,
         "_deepnote_index_column": 1460
        },
        {
         "description_of_circumstances": "Officers responded to a call of an attempted carjacking around 5:40 p.m. Officers caught up with the men a block away near Menaul and Morningside. The responding officers found the two men in a different car than the one they were accused of trying to steal. When officers tried to stop that car, the passenger reportedly got out and \"confronted\" officers. That passenger was shot and killed by Officers Tomas Urioste and Jacob Perea.",
         "alleged_threat_lvl": 0,
         "_deepnote_index_column": 1582
        },
        {
         "description_of_circumstances": "Taos County Deputies got a call about a domestic violence situation. The call involved a man and his estranged ex-girlfriend at a property that belonged to the ex-girlfriend's family. They found the man barricaded inside a bedroom in the home, armed with a rifle. As they were setting up a perimeter, the man climbed onto the roof. He allegedly aimed at police and was shot and killed.",
         "alleged_threat_lvl": 1,
         "_deepnote_index_column": 3580
        },
        {
         "description_of_circumstances": "About 6 a.m., troopers were helping Talihina police serve a felony warrant when the person opened fire. A fire started inside the house in downtown Talihina and spread to neighboring buildings. The person was shot and killed.",
         "alleged_threat_lvl": 1,
         "_deepnote_index_column": 3038
        },
        {
         "description_of_circumstances": "Glenn was fatally shot during a shootout with officers following a shooting spree in which he killed a woman and wounded several other people, including two police officers. Authorities said he was carrying a note expressing his hatred of law enforcement. He began by ambushing a police officer and shooting at her 18 times and went on to fire an estimated 51 times at different sites.",
         "alleged_threat_lvl": 1,
         "_deepnote_index_column": 4858
        },
        {
         "description_of_circumstances": "Following a vehicle chase, then a foot pursuit, Toussaint Sims reportedly displayed a firearm in a threatening manner, and police shot and killed him. Sims reportedly was wanted on multiple felony warrants.",
         "alleged_threat_lvl": 1,
         "_deepnote_index_column": 1806
        },
        {
         "description_of_circumstances": "Authorities received reports of a man (Hale) walking around with a gun. One of the callers said he was threatened by Hale after trying to take his keys, and Hale told the victim he had a gun and was suicidal. After Hale was found by police, a physical altercation ensued. When Hale pulled his gun on authorities, he was shot in the jaw and died of his injuries.",
         "alleged_threat_lvl": 1,
         "_deepnote_index_column": 5997
        },
        {
         "description_of_circumstances": "Light allegedly shot and killed Lonnie Odell Sturdivant, 59, on January 2nd. Police have not revealed any additional details on the murder. Light was shot by a Sweetwater Police Officer during a pursuit that began at the crime scene and ended near the intersection of I-20 and TX-70",
         "alleged_threat_lvl": 1,
         "_deepnote_index_column": 5629
        },
        {
         "description_of_circumstances": "Taylor County Sheriff's deputies attempted to serve a warrant to Emmett Hall. According to police, when deputies arrived at the home, Hall threatened and charged at the deputies with a knife. One deputy then shot and killed him.",
         "alleged_threat_lvl": 0,
         "_deepnote_index_column": 4074
        },
        {
         "description_of_circumstances": "A resident on Garden Circle Way reported seeing a prowler at 1:46 a.m., police said. When officers arrived, they found the suspect in the backyard of a home holding an unidentified weapon, police said. The person advanced at the officers wielding the weapon, and they shot and killed Victor Gonzalez Gonzalez.",
         "alleged_threat_lvl": 0,
         "_deepnote_index_column": 3688
        },
        {
         "description_of_circumstances": "Police said a state trooper and a Dearborn County sheriff's deputy were investigating a report of an armed man when they approached a home. Police said Christopher Schmitt, who lived at the home, pointed a firearm at them and Trooper Jordan Craig and Deputy Brian Weigel shot and killed him.",
         "alleged_threat_lvl": 1,
         "_deepnote_index_column": 2382
        },
        {
         "description_of_circumstances": "Officers responded to a report of a man who was making suicidal threats and possible gunshots. When officers arrived, they found a man in the driveway of his home. The man reportedly reached for a handgun in his waistband and pointed it at two officers, who shot and killed him.",
         "alleged_threat_lvl": 1,
         "_deepnote_index_column": 724
        },
        {
         "description_of_circumstances": "A deputy reportedly responded to some sort of stabbing situation and killed a person. Details as to what precipitated the killing were withheld by police.",
         "alleged_threat_lvl": 1,
         "_deepnote_index_column": 1117
        },
        {
         "description_of_circumstances": "Marciopa County deputies attempted to serve warrants and arrest three people. Police arrested two people and called in a SWAT team to assist in arresting Dallas, who was allegedly armed and had barricaded himself in his room. When the SWAT team arrived, Dallas allegedly threatened them with a gun, and the SWAT team fired, killing Dallas.",
         "alleged_threat_lvl": 0,
         "_deepnote_index_column": 254
        },
        {
         "description_of_circumstances": "Police were pulling over a vehicle that reportedly was swerving and hit a curb around 1:30 a.m. The driver, Earl Barton, fled, and a chase started. Police stopped the vehicle with stop sticks. The driver got out of the vehicle and ran. After police found the driver, they said he pulled out a knife and tried to assault an officer. And police shot and killed Barton.",
         "alleged_threat_lvl": 1,
         "_deepnote_index_column": 683
        },
        {
         "description_of_circumstances": "Around  2 a.m., Muncie officers were called to investigate a report of a suicidal person. After about 20 minutes, the person was found in an alley, sitting in a car, under a carport, behind a home. As officers approached, the man got out of the car and pointed a handgun at an officer. Taylor Christian Warner failed to follow officer's orders to drop the gun and continued pointing it at an officer, and police shot and killed him.",
         "alleged_threat_lvl": 1,
         "_deepnote_index_column": 780
        },
        {
         "description_of_circumstances": "Officers were dispatched to a Silverton home on a report of domestic violence around 12:40 p.m. Officers found William Bluestone barricaded inside a bedroom in the apartment. He told police he was armed with a handgun. Police talked to Bluestone for around an hour before Officers Officer Jonathan Lamoreaux, 38, and Tim Hein, 31, shot and killed him. Police withheld details regarding what precipitated the killing.",
         "alleged_threat_lvl": 0,
         "_deepnote_index_column": 1251
        },
        {
         "description_of_circumstances": "Deputies arrived about 7:30 p.m. to find a couple arguing in the yard. Willie Shropshire Jr. allegedly grabbed his girlfriend, Louvenia Penwright, and held the gun to her neck and shot and killed her. Deputies then shot and killed Shropshire.",
         "alleged_threat_lvl": 1,
         "_deepnote_index_column": 557
        },
        {
         "description_of_circumstances": "Barnes allegedly was threatening hikers and animals on hiking trails near Lower Hull's Gulch and then fatally shot a hiker's dog. He shot at police and was shot and killed.",
         "alleged_threat_lvl": 1,
         "_deepnote_index_column": 4311
        },
        {
         "description_of_circumstances": "Augustine was upset about national events when he called police. When he began stabbing himself, he was shot and killed.",
         "alleged_threat_lvl": 0,
         "_deepnote_index_column": 4670
        },
        {
         "description_of_circumstances": "According to police, the officer arrived at the Selina Inn Motel after someone called to report a vehicle theft in progress, according to police. The officer chased the suspect on foot after he tried to leave the scene. Police said the suspect fired multiple shots at the officer during the foot chase, but did not hit the officer. The officer shot and killed him.",
         "alleged_threat_lvl": 1,
         "_deepnote_index_column": 5598
        },
        {
         "description_of_circumstances": "Meiji moved toward a deputy with a knife after refusing to drop the weapon. The deputy shot and killed Meija.",
         "alleged_threat_lvl": 0,
         "_deepnote_index_column": 6510
        },
        {
         "description_of_circumstances": "CHP officers chased a white Ford Expedition driven by a man suspected of shooting at people in a vehicle. The driver reportedly struck a spike strip set up by police, but he kept driving. He eventually stopped the Expedition, but refused to get out of the vehicle. Unspecified less-than-lethal methods reportedly were used to get the man to comply but were unsuccessful. After more than an hour, the man got out and went to the front of the vehicle and began shooting at the officers, who shot and killed him. Apparently, officers also shot and wounded three bystanders in a nearby home.",
         "alleged_threat_lvl": 0,
         "_deepnote_index_column": 193
        },
        {
         "description_of_circumstances": "Officers went to Chambersburg Hospital for a report that Kirk, who was a patient, was armed with a knife was making threats toward hospital staff. When police arrived, Kirk turned his threats towards the officers. Police say Kirk was shot and killed after he continued to brandish the knife and threaten officers while they attempted to subdue him.",
         "alleged_threat_lvl": 1,
         "_deepnote_index_column": 4733
        },
        {
         "description_of_circumstances": "Officers responded to a report of a suicidal man and shot Quinn when he allegedly advanced at them with a screwdriver and refused commands to stop.",
         "alleged_threat_lvl": 0,
         "_deepnote_index_column": 5890
        },
        {
         "description_of_circumstances": "Harvey Cantrell shot his sister and then was shot and killed by deputies who were at the home investigating a domestic disturbance on Christmas Eve. The sister was in town for their mother's funeral.",
         "alleged_threat_lvl": 1,
         "_deepnote_index_column": 1410
        },
        {
         "description_of_circumstances": "Roane County deputies responded to a complaint of a man attempting to start a fight with neighbors on Kettle Road. Upon arrival, Deputy Mike King encountered Nichols on the front porch of the home. Nichols did not comply with King's directions and allegedly moved towards a weapon. King then shot Nichols. ",
         "alleged_threat_lvl": 0,
         "_deepnote_index_column": 501
        },
        {
         "description_of_circumstances": "A person had called 911 saying there was an individual in an apartment on Norton who was threatening to harm himself and was armed with a knife. Police said that when officers encountered the man in or near the apartment, he refused to drop the knife. Officers then opened fire, killing Vallarta when he stabbed an officer more than once in his arm.",
         "alleged_threat_lvl": 1,
         "_deepnote_index_column": 4618
        },
        {
         "description_of_circumstances": "Norfolk police said James had a knife and lunged at officers was shot and killed him in a home. Relatives said he had no weapon.",
         "alleged_threat_lvl": 0,
         "_deepnote_index_column": 5184
        },
        {
         "description_of_circumstances": "William Tucker Mathis was shot and killed by police after officials say he attacked several police officers during a domestic violence incident. Police say Mathis was believed to be in violation of a protective order when he broke into his estranged wife's home on Woodland Forest Drive.",
         "alleged_threat_lvl": 1,
         "_deepnote_index_column": 4549
        },
        {
         "description_of_circumstances": "At 12:53 a.m., a deputy was dispatched in reference to a man who was on foot in the middle of the road. When the deputy arrived, he found Yassin Mohamad, 47. Deputies had several encounters with Mohamad over the previous 12 hours. Mohamed fled from the deputy, and a fight began. Mohamed allegedly threw rocks at the deputy, striking him once. Mohamed then charged the deputy with a larger rock, and the deputy shot and killed him.",
         "alleged_threat_lvl": 1,
         "_deepnote_index_column": 952
        },
        {
         "description_of_circumstances": "Police responded to a call about a man carrying a rifle outside his house. Tolkinen, who has a history of drug use and mental illness refused to come out of his house so the police shit him dead.",
         "alleged_threat_lvl": 1,
         "_deepnote_index_column": 6423
        },
        {
         "description_of_circumstances": "Police said David Angulo was wanted by the Chula Vista Police Department for one attempted homicide and was a person of interest in at least two other attempted homicide shootings. Police shot and killed him around 5:30 p.m. after Angulo allegedly carjacked a truck, crashed it in front of a home, and led officers on a foot pursuit that ended in an exchange of gunfire when he tried to gain access to a home.",
         "alleged_threat_lvl": 1,
         "_deepnote_index_column": 740
        },
        {
         "description_of_circumstances": "Police responded to reports of shots fired. They arrived to find two women, Lysa Blake, 18, and Dania Phillips, 49, dead from gunshot wounds. After the shooting, police said Louis Veal fled in a stolen vehicle. The next day, police found the stolen vehicle, and Veal opened fire at officers, and they shot and killed him.",
         "alleged_threat_lvl": 1,
         "_deepnote_index_column": 1443
        },
        {
         "description_of_circumstances": "Dawley called 911 and told a dispatcher he was suicidal and had a gun. Deputies arriving at the man's home heard at least one gunshot inside the home. Dawley then came out of his home carrying a gun and fired at least one round at deputies. He was shot and killed by a deputy's shotgun blast.",
         "alleged_threat_lvl": 1,
         "_deepnote_index_column": 4099
        },
        {
         "description_of_circumstances": "Police have released few details about the shooting, but said that officers responded to a disturbance call and that they shot O'Grady, who was armed, after entering the house.",
         "alleged_threat_lvl": 1,
         "_deepnote_index_column": 5891
        },
        {
         "description_of_circumstances": "Officers were on a report of a home invasion. Police came across Young while in the house, and Young struck an officer and was shot and killed, police said.",
         "alleged_threat_lvl": 1,
         "_deepnote_index_column": 4423
        }
       ],
       "rows_bottom": [
        {
         "description_of_circumstances": "Marana Police Officer Cesar Nelson was sitting in his vehicle in the parking lot of Cracker Barrel Restaurant, when he saw Caldwell walking up behind him, holding a firearm, police said. Officer Nelson left his vehicle and saw Caldwell raise the gun in his direction, before shooting Caldwell.",
         "alleged_threat_lvl": 1,
         "_deepnote_index_column": 6502
        },
        {
         "description_of_circumstances": "Shots were fired outside a Sweet 16 party attempting to break up a fight. An officer working security across the street at a gas station was off duty, but in full uniform, when he responded to the fight and encountered the armed man, Eduardo Valencia, whom he shot and killed.",
         "alleged_threat_lvl": 1,
         "_deepnote_index_column": 4119
        },
        {
         "description_of_circumstances": "David Torres was stunned and handcuffed by sheriff's deputies following reports that he was trying to break into homes in his neighborhood, police said.",
         "alleged_threat_lvl": 0,
         "_deepnote_index_column": 2393
        },
        {
         "description_of_circumstances": "Officers responding to reports of a man with a gun attempted to subdue Milliner by grabbing him by the collar as he walked away from police. The 27-year-old then attempted to pull out a handgun and was fatally shot by officers.",
         "alleged_threat_lvl": 1,
         "_deepnote_index_column": 6117
        },
        {
         "description_of_circumstances": "Police responded to a report of a suicidal husband who had a knife. His wife called 9-1-1 around 8 p.m. and said her spouse was behaving erratically and aggressively, police said. Six Marysville officers responded. The man was shot and killed when he allegedly attempted to stab his wife when he saw the officers.",
         "alleged_threat_lvl": 1,
         "_deepnote_index_column": 2689
        },
        {
         "description_of_circumstances": "Police arrived at Verrett after they were called in reference to a domestic battery incident. Deputies say when they arrived Tanya Verrett said her husband, William Verrett had “battered her,” and he had a shotgun. Police say they fired and hit him several times. William Verrett died from his injuries on scene.",
         "alleged_threat_lvl": 1,
         "_deepnote_index_column": 5943
        },
        {
         "description_of_circumstances": "Police responded to a reported domestic violence incident five-miles south of Buffalo. Officers made contact with a white man who was suspected of being armed. The subject allegedly failed to obey officer's commands and was shot and killed.",
         "alleged_threat_lvl": 1,
         "_deepnote_index_column": 5259
        },
        {
         "description_of_circumstances": "Officer Neal N. Browder responded to a 911 call alleging that Rawshannehad threatened a clerk with a knife at a HI-Lite Adult Video and Bookstore. His body camera off, the officer confronted Rawshannehad just after midnight in the alley behind the bookstore and gave him orders that he did not obey. When he advanced, Browder fatally shot him.",
         "alleged_threat_lvl": 0,
         "_deepnote_index_column": 6290
        },
        {
         "description_of_circumstances": "Montay Penning reportedly was spotted driving a stolen car around noon. Following a short chase, three officers shot and killed Penning. Police said Penning had a gun.",
         "alleged_threat_lvl": 0,
         "_deepnote_index_column": 1457
        },
        {
         "description_of_circumstances": "Deputy Richard Curry, 32, was sent to find a driver who fled a traffic stop. Curry parked in an alley behind a residence. A man approached Curry's car, and the deputy identified himself. After that, that man and a second man came out of the house and approached the cruiser with guns in hand, allegedly firing at Curry. Marquis Golden was killed. The other man, Delvin Ford, 22, was discovered with a handgun on a nearby rooftop and arrested.",
         "alleged_threat_lvl": 1,
         "_deepnote_index_column": 1310
        },
        {
         "description_of_circumstances": "Around 5:30 p.m., deputies approached a pedestrian and made contact with him. He allegedly pulled a gun. Deputies shot and killed him.",
         "alleged_threat_lvl": 1,
         "_deepnote_index_column": 1435
        },
        {
         "description_of_circumstances": "Police said Ulloa got out of his vehicle during a traffic stop and fired at officers. Police fired back, wounding Ulloa, who then re-entered his vehicle and drove a short distance before coming to a stop. He was pronounced dead at the scene.",
         "alleged_threat_lvl": 1,
         "_deepnote_index_column": 5816
        },
        {
         "description_of_circumstances": "Miguel Angel Duran Delgado allegedly stole a semi-truck at gunpoint and then parked in front of a house. Delgado pointed a gun a people in the street and refused to obey officers' orders, police said. He was shot and killed.",
         "alleged_threat_lvl": 1,
         "_deepnote_index_column": 2508
        },
        {
         "description_of_circumstances": "Officers responded to a report of an armed robbery just before 7 p.m. at Okie Gas Station. During the robbery, police said the store clerk left the store and locked the suspect, Stavian Rodriguez, inside. Officers arrived and surrounded the business, and police said they ordered Rodriguez to come out of the store. Rodriguez climbed out of the drive-through window while holding a pistol. Rodriguez reportedly did not follow officers' commands, and police shot and killed him.",
         "alleged_threat_lvl": 0,
         "_deepnote_index_column": 426
        },
        {
         "description_of_circumstances": "Police were looking for subject in the death of his brother and saw him on the hgihway in brother's truck. A chase ensued. Subject shot at police. Police shot back, killing subject.",
         "alleged_threat_lvl": 1,
         "_deepnote_index_column": 6408
        },
        {
         "description_of_circumstances": "Officers tried to conduct a traffic stop for an improper turn on the 3900 block of Stockdale Highway, but the driver wouldn't stop, and a pursuit ensued. When the suspects' car stopped on the 900 block of Feliz Drive, two men got out of the backseat. Two women in the front seats stayed in the car. Villarreal led officers on a foot chase, shooting at officers several times. Officers shot and killed Villarreal.",
         "alleged_threat_lvl": 1,
         "_deepnote_index_column": 4942
        },
        {
         "description_of_circumstances": "Police were dispatched to Ed's Carryout in New Straitsville for a disturbance call. After an fight, shots were fired inside the business, and Timmy Wilson was killed.",
         "alleged_threat_lvl": 1,
         "_deepnote_index_column": 3897
        },
        {
         "description_of_circumstances": "Police fatally shot Atencio after responding to reports of a bloody woman calling for help, and fired at the 50-year-old after he refused to lower his gun.",
         "alleged_threat_lvl": 1,
         "_deepnote_index_column": 6176
        },
        {
         "description_of_circumstances": "Around 12:40 a.m., police received a 911 call saying the caller had heard loud noises, screaming and possible gunshots at the Palm & Pines Mobile & RV Park. The first deputy arrived within four minutes and was directed to the common area of the trailer park. There, the deputy made contact with Mark Richard Coleman, who was on top of a his wife, who was screaming. The deputy ordered Coleman get off of her, but Coleman did not. Coleman allegedly threatened various people with a gun, and when a female bystander leapt on his back, Coleman threw her off and pointed the gun at the deputy, who shot and killed him.",
         "alleged_threat_lvl": 1,
         "_deepnote_index_column": 1466
        },
        {
         "description_of_circumstances": "An officer stopped the car Jonathan Legg was driving because a license plate check showed the license plate on the Chevrolet Impala did not belong to that car, police said. He was shot and killed when he allegedly shot one of the officers.",
         "alleged_threat_lvl": 1,
         "_deepnote_index_column": 2939
        },
        {
         "description_of_circumstances": "Rollice apparently refused to drop a hammer and lunged at police when he was shot and killed.",
         "alleged_threat_lvl": 0,
         "_deepnote_index_column": 4965
        },
        {
         "description_of_circumstances": "A Braselton officer shot and killed Aigon Andrew Wallace in the parking lot of a Kroger. Braselton police reportedly had been looking for Wallace, and he was wanted on charges of alleged kidnapping, aggravated assault and aggravated stalking. He allegedly reached for some knives when he was killed.",
         "alleged_threat_lvl": 1,
         "_deepnote_index_column": 1823
        },
        {
         "description_of_circumstances": "Officers were serving a marijuana warrant, and an officer shot the unarmed Cruice in the face. Police allege he was resisting arrest, but witnesses say otherwise.",
         "alleged_threat_lvl": 0,
         "_deepnote_index_column": 6461
        },
        {
         "description_of_circumstances": "After an attempted traffic stop, Rich shot at police and was shot and killed.",
         "alleged_threat_lvl": 1,
         "_deepnote_index_column": 4085
        },
        {
         "description_of_circumstances": "Sanders County law enforcement were called to the Naughty Pine Saloon for a man allegedly armed with a handgun and assault rifle who was barricaded inside. Negotiations began with the man, but he allegedly refused to cooperate and SWAT teams came to the scene. Eventually the man exited the saloon and SWAT members attempted to use less lethal rounds to stop hiim. He allegedly began firing at pursuing officers, who returned fire and fatally wounded the man.",
         "alleged_threat_lvl": 1,
         "_deepnote_index_column": 387
        },
        {
         "description_of_circumstances": "Michael Vance was wanted in the shootings of two Oklahoma police officers and in connection with the deaths of two relatives. He was killed in a shootout after being found near the western Oklahoma town of Hammon.",
         "alleged_threat_lvl": 1,
         "_deepnote_index_column": 4747
        },
        {
         "description_of_circumstances": "David Alma Giles, a 60-year-old white man, was shot on March 18, 2016, in Idaho Falls, Idaho. A Jefferson County sheriff's deputy drove Giles to a medical center. When they arrived, Giles allegedly tried to grab the deputy's shotgun, and the two struggled over the weapon.",
         "alleged_threat_lvl": 0,
         "_deepnote_index_column": 5394
        },
        {
         "description_of_circumstances": "Two officers were called to a nail salon after Dewayne Hawkes, 26, who came in to use a restroom, started urinating in the middle of the store. During the arrest attempt, according to police, Kwesi Ashun entered the salon and fought with police and struck an officer in the head with a chair. Police said one officer used his Taser on the man, but it did not incapacitate him. An officer shot Ashun six times, killing him.",
         "alleged_threat_lvl": 1,
         "_deepnote_index_column": 1581
        },
        {
         "description_of_circumstances": "Police said Shannon Jason Cables assaulted his wife and 19-year-old daughter in their home. He had threatened his wife, spraying her with mace and hitting her in the head with a pool cue. The women called for help as Cables fled into the woods behind the house. About 2:15 p.m., deputies returned to the house with the two women. While inside, the daughter told deputies she saw Cables outside the house. Cables was coming toward the house armed with a shotgun and an AR-15. The deputies told him to drop his weapons, and when he didn't, a gunfight ensued, and Cables was shot and killed.",
         "alleged_threat_lvl": 1,
         "_deepnote_index_column": 3416
        },
        {
         "description_of_circumstances": "Ronald Michael McCrary was a suspect in an armed robbery at the Dollar Tree. Officers were called to the Dollar Tree in Sanford around 4:30 p.m. The clerk said a man armed with a knife came into the store and demanded money. The man fled the store on foot with an undisclosed amount of money. Officers found McCrary in a wooded area next to the store. Police said he was armed with a knife, and he was shot and killed by 36-year-old Officer Samuel McLeod. Details as to what precipitated the killing were withheld by police.",
         "alleged_threat_lvl": 0,
         "_deepnote_index_column": 1674
        },
        {
         "description_of_circumstances": "Newton Police and Harvey County Sheriff's deputies responded to a call of a shooting where they found three people who had been killed. Witnesses led police to the suspect in the murders, who confronted officers with a shotgun. David Montano was shot and killed.",
         "alleged_threat_lvl": 1,
         "_deepnote_index_column": 4378
        },
        {
         "description_of_circumstances": "Neico Crooks was shot and killed while he driving a black car that was reported stolen. Police spotted him about 4 a.m., and in his attempt to get away, Crooks struck an officer. Several officers shot him as he drove, and he crashed into a house. No one was reported killed or wounded inside the home.",
         "alleged_threat_lvl": 1,
         "_deepnote_index_column": 2610
        },
        {
         "description_of_circumstances": "A person was a suspect in a block party shooting that sent four teenagers to the hospital. Two of them are in grave condition, the other two are in critical condition. About 5:30 p.m., police were looking for a suspect in the quadruple shooting. They reportedly saw him get into a vehicle with two additional people were inside. Police tried to pull over the vehicle, but that it sped off and led police on a 10-minute high speed chase that ended with the suspect crashing into a pole. All three occupants got out and tried to run away, including one who reportedly had a gun in his hand. An officer shot and killed him.",
         "alleged_threat_lvl": 1,
         "_deepnote_index_column": 733
        },
        {
         "description_of_circumstances": "Police officers approached a home near Carmenita Road and 183rd Street about 4:45 a.m. to serve a warrant regarding a narcotics investigation, police said. Somebody shot at them, and police returned fire, but it was at first unclear if the gunman was hit. None of the officers were struck. About 1 p.m., officers entered the home and found Christopher Warner dead with a gunshot wound to his upper torso.",
         "alleged_threat_lvl": 1,
         "_deepnote_index_column": 4400
        },
        {
         "description_of_circumstances": "A car that was pulled over had a female driver, and a male passenger in the back seat allegedly brandished a handgun, police said. Robert Hansen was shot and killed. The woman was unharmed.",
         "alleged_threat_lvl": 1,
         "_deepnote_index_column": 3470
        },
        {
         "description_of_circumstances": "Around 9:30 a.m. the Rockwood Police Department was dispatched to a call of a domestic altercation between a man and woman inside a vehicle. The woman was able to get out of the vehicle, and Glynn Farse Young continued on driving. After a brief pursuit, the driver stopped on the side of Highway 27. When officers with the Rockwood Police Department and Roane County Sheriff's Office approached his vehicle, the man brandished a handgun at officers, and a Rockwood officer shot and killed him.",
         "alleged_threat_lvl": 1,
         "_deepnote_index_column": 757
        },
        {
         "description_of_circumstances": "Dolton police chased a stolen vehicle onto the Bishop Ford. When it crashed, two men fled on foot, and Darreon Neal was shot and killed.",
         "alleged_threat_lvl": 0,
         "_deepnote_index_column": 3888
        },
        {
         "description_of_circumstances": "Colorado State University Police officers responded to a report of a threatening man. Fort Collins Police Services officers arrived to assist. When officers contacted the man, police said they found him armed with a knife and shot and killed him.",
         "alleged_threat_lvl": 0,
         "_deepnote_index_column": 4019
        },
        {
         "description_of_circumstances": "Police were called to the American Motel at about 1 a.m. regarding a suspected bank robber. After an approximately two-hours-long standoff, officers entered the room at about 3 a.m. and found Syder armed with a handgun, and after ordering him to drop the gun, the two officers shot and killed him.",
         "alleged_threat_lvl": 1,
         "_deepnote_index_column": 1347
        },
        {
         "description_of_circumstances": "Police say Newman shot and wounded his wife as she called 911 for help, hours before SWAT team members stormed the small cottage home and shot him to death.",
         "alleged_threat_lvl": 1,
         "_deepnote_index_column": 4991
        },
        {
         "description_of_circumstances": "Officer Paul Bruning, 48, pulled Demontry Boyd over on suspicion of driving recklessly. After stepping out of his vehicle, Boyd allegedly reached for “a large bulky item in his waistband.\" Police did not say whether Boyd was armed. Boyd ignored commands to stop reaching for the item. Bruning reportedly used his Taser, but Boyd got back on his feet after falling and charged toward him. Bruning shot and killed him.",
         "alleged_threat_lvl": 1,
         "_deepnote_index_column": 2502
        },
        {
         "description_of_circumstances": "Two officers were being sworn in at a city council meeting when Kmetz shot at the officers, injuring them. Other officers returned fire, killing Kmetz.",
         "alleged_threat_lvl": 1,
         "_deepnote_index_column": 6558
        },
        {
         "description_of_circumstances": "Off-duty Silver City police Capt. Marcello Contreras, 41, fatally shot his girlfriend Nikki Bascom, 31, and then shot himself.",
         "alleged_threat_lvl": 0,
         "_deepnote_index_column": 5298
        },
        {
         "description_of_circumstances": "Michael Harris was wanted in connection with a shooting involving a woman earlier in August. Holly Hill police received an anonymous tip Harris was at an apartment complex. Two agencies approached the apartment together. When officers entered the apartment, Harris ran to a bedroom. Officers reportedly ordered him to surrender and followed him. When officers opened the door, Harris shot at them, and police shot and killed Harris.",
         "alleged_threat_lvl": 1,
         "_deepnote_index_column": 622
        },
        {
         "description_of_circumstances": "Charlestown police were searching for a person who was potentially suicidal. Police learned that the man may have been at a Love's Travel Stop. Clark County deputies reportedly saw Stephen Fischer fire a pistol into the pavement of the parking lot at Love's. He was shot and killed.",
         "alleged_threat_lvl": 1,
         "_deepnote_index_column": 1870
        },
        {
         "description_of_circumstances": "Police got a call that a man took a family member's vehicle without permission. Cameron Bennett then wrecked and stole several other vehicles, including a construction company truck. The sheriff said Bennett had a gun and was firing shots from at least one of the vehicles. A deputy spotted the suspect on Highway 28, and Bennett allegedly tried to run over the deputy with her own patrol car when she shot and killed him.",
         "alleged_threat_lvl": 1,
         "_deepnote_index_column": 1611
        },
        {
         "description_of_circumstances": "Armando Vigil was killed at the Sheridan Boulevard rail stop after he pointed a gun at two RTD police who found him lying on a lawn and were checking on his welfare.",
         "alleged_threat_lvl": 1,
         "_deepnote_index_column": 3848
        },
        {
         "description_of_circumstances": "According to the victim's nephew, as the intruder made his way outside the front door, he shot at police who returned fire, striking the intruder.",
         "alleged_threat_lvl": 1,
         "_deepnote_index_column": 4572
        },
        {
         "description_of_circumstances": "Tigard Police shot and killed a man. Details as to what precipitated the killing were withheld by police.",
         "alleged_threat_lvl": 1,
         "_deepnote_index_column": 312
        },
        {
         "description_of_circumstances": "A man tried to steal a bicycle from a bus and got into a confrontation with the bike owner that led to the suspect pulling out a gun and shooting. He took the bike and ended up at a Chevron gas station, where he then started shooting at the gas station when an employee wouldn't let him inside. While at the gas station, he stole a vehicle from a patron who was pumping gas and left, eventually crashing the vehicle into a market. When officers responded there was a confrontation and exchange of gunfire, and police shot and killed the man.",
         "alleged_threat_lvl": 1,
         "_deepnote_index_column": 126
        },
        {
         "description_of_circumstances": "Lucille Espinosa was threatening to shoot an officer and was barricaded inside a home. After hours, police were approaching the home when they saw the woman armed with a gun through a window. They were concerned she would fire, so they shot and killed her.",
         "alleged_threat_lvl": 0,
         "_deepnote_index_column": 4192
        },
        {
         "description_of_circumstances": "Marshals were trying to arrest Montoya for walking away from his assigned halfway house on May 20. They say he pulled a gun and was shot and killed.",
         "alleged_threat_lvl": 1,
         "_deepnote_index_column": 5210
        },
        {
         "description_of_circumstances": "Around 11:30 p.m., deputies responded to a domestic incident. Deputies attempted to pull over a vehicle. Deputies made contact with Joseph Howell and reportedly tried to negotiate with him. However, he fired two shots at deputies and a brief pursuit began. Deputies used their vehicles to disable Howell's. Shots were exchanged, and deputies shot and killed Howell.",
         "alleged_threat_lvl": 1,
         "_deepnote_index_column": 299
        },
        {
         "description_of_circumstances": "Police were called to the building for a person with a \"psychiatric problem.\" Police said the man who was the subject of the call pulled a weapon on police when they arrived. One of the officers fired his gun at the man, killing him and wounding another officer.",
         "alleged_threat_lvl": 0,
         "_deepnote_index_column": 1873
        },
        {
         "description_of_circumstances": "Police shot and killed a man as they were investigating a car theft. The owner of the vehicle had been tracking the car using his Ipad's location settings. The man crashed and allegedly pointed a gun at police.",
         "alleged_threat_lvl": 0,
         "_deepnote_index_column": 1411
        },
        {
         "description_of_circumstances": "Castaway, who had battled schizophrenia for several years, was fatally shot by police after allegedly running at officers with a knife. Castaway's family disputed the official account, and several anti-police brutality rallies were held in the wake of the shooting.",
         "alleged_threat_lvl": 0,
         "_deepnote_index_column": 6108
        },
        {
         "description_of_circumstances": "Police responded to a domestic complaint. After a short standoff, James Burton came out and shot at police before he was shot and killed.",
         "alleged_threat_lvl": 1,
         "_deepnote_index_column": 4161
        },
        {
         "description_of_circumstances": "Deputies were sent to a suspicious person call. Deputies found Euria Lee Martin walking on Deepstep Road.A fight began between Martin and the deputies, and Martin was tasered. Shortly after the shock, Martin appeared to be in respiratory distress and died.",
         "alleged_threat_lvl": 0,
         "_deepnote_index_column": 3991
        },
        {
         "description_of_circumstances": "About 10:40 p.m., Quartzsite police received calls of two houses on fire in El Mirage RV Park in Quartzsite. About an hour later, Quartzsite police and two DPS troopers located the man near a Burger King. He led them to a nearby place where he'd allegedly set up an ambush. He was shot and killed in an exchange of gunfire.",
         "alleged_threat_lvl": 1,
         "_deepnote_index_column": 3071
        },
        {
         "description_of_circumstances": "Officers spotted a stolen vehicle in Murrieta. When they tried to stop the driver of the vehicle, the person fled, police said. After leading police in a chase up the freeway, the driver got off on Bundy Canyon Road in Wildomar and continued down several city streets before crashing into a fence. After crashing into the fence, the driver crashed into multiple Murrieta police cruisers before driving toward officers, when he was shot and killed.",
         "alleged_threat_lvl": 1,
         "_deepnote_index_column": 4767
        },
        {
         "description_of_circumstances": "Vasquez was allegedly suicidal and opened fire at an outdoor carol service. An officer and detective who were assigned to the event drew their guns and approached Vasquez. They opened fire, and Vasquez later died in the hospital.",
         "alleged_threat_lvl": 1,
         "_deepnote_index_column": 381
        },
        {
         "description_of_circumstances": "A trooper responded to a call for assistance by the Lenoir County Sheriff's Office involving a shooting that had occurred at Club Aries. As the trooper approached the scene, he encountered two men running towards him. The trooper saw that one of the subjects had a gun. The man failed to comply with the trooper's commands to stop and drop the weapon. Police say he pointed the weapon at the trooper who shot and killed him.",
         "alleged_threat_lvl": 0,
         "_deepnote_index_column": 5360
        },
        {
         "description_of_circumstances": "Brian Skinner charged at police who had come to his home regarding a domestic disturbance. He was armed with a gun.",
         "alleged_threat_lvl": 0,
         "_deepnote_index_column": 3926
        },
        {
         "description_of_circumstances": "According to Myrtle Beach Police Department, a person called to say that a man was acting strange at the intersection of 21st Avenue North and Robert Grissom Parkway. Officers arrived at the intersection and saw that the man had a gun in his hand. The man presented the gun in a manner that made officers fear for their lives, and they shot and killed him.",
         "alleged_threat_lvl": 1,
         "_deepnote_index_column": 5366
        },
        {
         "description_of_circumstances": "Salisbury police were notified at 5:04 p.m. that an armed robbery was in progress at a bank. During the robbery, a customer was shot inside the bank, police said. Officers spotted the suspect vehicle, a black Acura, and gave chase. The car hit a vehicle, and a man who was in the suspect vehicle either pointed a gun or shot at police, and several officers shot and killed Paul Jones.",
         "alleged_threat_lvl": 1,
         "_deepnote_index_column": 3623
        },
        {
         "description_of_circumstances": "Wheat was allegedly assaulting a woman and making suicidal threats. He was shot 11 times after brandishing a knife, according to police, who also said the woman had been stabbed but sustained non-life threatening injuries.",
         "alleged_threat_lvl": 1,
         "_deepnote_index_column": 6086
        },
        {
         "description_of_circumstances": "Apparently, although few details were released, Holup struck an officer with his car, and he was shot and killed.",
         "alleged_threat_lvl": 0,
         "_deepnote_index_column": 4906
        },
        {
         "description_of_circumstances": "Baltazar Escaloma-Baez shot and killed following an armed carjacking, robbery and police chase. Details weren't immediately released as to what precipitated the killing.",
         "alleged_threat_lvl": 0,
         "_deepnote_index_column": 3668
        },
        {
         "description_of_circumstances": "A Florida Highway Patrol trooper was dispatched to a man walking on Interstate 95 near Atlantic Avenue in Delray Beach. Upon his arrival, a fight happened, and the trooper shocked David Eric Ufferman with his stun gun, which was ineffective, and shot and killed him.",
         "alleged_threat_lvl": 1,
         "_deepnote_index_column": 4287
        },
        {
         "description_of_circumstances": "Mario Simoes apparently fired on a building and on police as he led them on a high-speed chase and crashed into an unrelated vehicle. He was shot and killed.",
         "alleged_threat_lvl": 0,
         "_deepnote_index_column": 4306
        },
        {
         "description_of_circumstances": "Four men broke into a home with plans to carry out a robbery. Three of the men wore masks and one carried a sawed-off shotgun. There were more than a dozen people inside of the home. The intruders assaulted several people, and one intruder fired his weapon at least once. As three deputies from the Mille Lacs County Sheriff's Office arrived, two of the four intruders were leaving the home. Both were arrested. One of the deputies entered the home and located a third intruder in a bedroom with a shotgun pointed at several people. When the intruder refused to drop the shotgun, the deputy shot and killed him. The fourth intruder was arrested without incident.",
         "alleged_threat_lvl": 1,
         "_deepnote_index_column": 4532
        },
        {
         "description_of_circumstances": "A Swat team entered Martinez's home after a standoff lasting more than five hours, police said. The man, who was wanted on a robbery charge, was killed in the exchange of gunfire.",
         "alleged_threat_lvl": 1,
         "_deepnote_index_column": 5743
        },
        {
         "description_of_circumstances": "Around 9 p.m., a trooper pulled a car over on Bridge Hill Road and a short time later gunfire was exchanged. Other officers arriving on the scene found the man dead of an apparent gunshot wound. The trooper was injured.",
         "alleged_threat_lvl": 1,
         "_deepnote_index_column": 356
        },
        {
         "description_of_circumstances": "A Tooele County sheriff's deputy and a Utah Highway Patrol trooper responded to a call of someone making threats at the entrance of a Clean Harbors hazardous waste incineration facility, police said. The man, who had a gun and was inside the perimeter of the facility, approached the officers when they arrived and threatened them. He was shot and killed.",
         "alleged_threat_lvl": 0,
         "_deepnote_index_column": 4365
        },
        {
         "description_of_circumstances": "Jacob Servais was shot and killed by police at about 3:30 p.m. in the parking lot of Just for Wheels Car, Truck and Van Rental. Details as to what precipitated the killing were withheld by police.",
         "alleged_threat_lvl": 0,
         "_deepnote_index_column": 2612
        },
        {
         "description_of_circumstances": "A man was shot and killed after he allegedly tried to grab a Lynnwood police officer's gun while struggling during an arrest over a domestic violence charge.",
         "alleged_threat_lvl": 0,
         "_deepnote_index_column": 4608
        },
        {
         "description_of_circumstances": "Davenport Police Officers Justin King and Brenda Waline shot and killed Matthew Tobin during an exchange of gunfire at an alleged burglary in progress.",
         "alleged_threat_lvl": 1,
         "_deepnote_index_column": 3590
        },
        {
         "description_of_circumstances": "Deputies went to an address to serve civil courts documents on Louis Miller. He allegedly came to the door with a knife in his hand, prompting the deputies to call backup officers. Police said as backup help arrived, Miller came at the officers with the knife and was shot and killed.",
         "alleged_threat_lvl": 1,
         "_deepnote_index_column": 3473
        },
        {
         "description_of_circumstances": "Police said neighbors called 911 after hearing a woman screaming and someone firing shots in a parking lot. When officers arrived they said the man with a rifle greeted them outside. Police got into some sort of confrontation with the man, and an officer shot and killed him.",
         "alleged_threat_lvl": 0,
         "_deepnote_index_column": 3521
        },
        {
         "description_of_circumstances": "At around 2:30 p.m., deputies responded to a home to serve court mandated paperwork on Rodney Morrison. Morrison allegedly threatened deputies with a knife as they attempted to serve the order. Morrison fled from officers and ran a short distance into a field where  at least one Leesburg officer shot and killed him.",
         "alleged_threat_lvl": 0,
         "_deepnote_index_column": 759
        },
        {
         "description_of_circumstances": "Officers tried to pull a motorist over for a vehicle code violation at 11:55 p.m. when he fled. After a brief pursuit, the man, pursued by at least three police cruisers, drove onto North Beverly Court, a short dead-end road. There, the driver allegedly rammed into three police cars. One officer who reportedly had gotten out of a police vehicle, shot and killed him.",
         "alleged_threat_lvl": 1,
         "_deepnote_index_column": 176
        },
        {
         "description_of_circumstances": "About 3:43 a.m. officers were called to a home for a burglary in progress. Police received information that three men were seen breaking into the hoone. When the officers arrived, they entered the residence and were confronted by a man with a handgun. Officers Jacob O'Sullivan and Rene Rodriguez shot and killed John Alvarado, and two other men were arrested.",
         "alleged_threat_lvl": 1,
         "_deepnote_index_column": 897
        },
        {
         "description_of_circumstances": "Police said they heard gunshots and were able to find video of a 24-year-old man firing shots into the air. Shortly after they found the accused shooter, Landon Nobles, a chase started. As police were running after him, they said they saw he had a pistol. The man then turned and allegedly fired shots at two officers, who fired back and killed the man.",
         "alleged_threat_lvl": 1,
         "_deepnote_index_column": 4185
        },
        {
         "description_of_circumstances": "Deputies from the Apple Valley Sheriff's Station responded to a report of a home invasion robbery at a residence in the 8800 block of 11th Avenue at 4:12 a.m. Monday, Sheriff's Department spokeswoman Jodi Miller told the Daily Press. Deputies arrived and were advised that multiple suspects had forced entry into the home, which was occupied by four adults and three children. One of the suspects was armed with a knife and became involved in a physical altercation with one of the home's occupants when the occupant attempted to defend himself and his family with a baseball bat, Miller said. The suspects fled before authorities arrived. One of the suspects was identified as the ex-son-in-law of an occupant of the home, Miller said. He was later located at a nearby home hiding under a bus. He became uncooperative as authorities attempted to take him into custody and Miller said deputies used force. The suspect was taken to a local hospital, where he was later pronounced dead, Miller said.",
         "alleged_threat_lvl": 1,
         "_deepnote_index_column": 5573
        },
        {
         "description_of_circumstances": "Police arrived at a residence to serve warrants on Jeffrey D. Kite for violating a protective order. Kite, who lives at the residence, refused to come out of the home. Police subsequently obtained a search warrant to enter the home and locate the suspect, as well as additional arrest warrants for stalking and violation of a protective order. About 9 p.m., Kite stopped communicating with them.About 3 a.m., officers entered the home and found was hiding in a storage area. Police allege that Kite produced a gun and fired at the officers, who shot and killed him.",
         "alleged_threat_lvl": 1,
         "_deepnote_index_column": 288
        },
        {
         "description_of_circumstances": "A Waller County SWAT team forced their way into a home on Avenue I to execute a search warrant, when they shot Mickey Coy, who was not the subject of the warrant. He allegedly was awakened, told his wife to call police and confronted the intruders with a gun.",
         "alleged_threat_lvl": 1,
         "_deepnote_index_column": 2877
        },
        {
         "description_of_circumstances": "Police said Nelson's mother called 911 reporting Nelson was armed and suicidal behind the home. Coconino County Sheriff's Office, Flagstaff Police Department and the Arizona Department of Public Safety all arrived at the area and tried to convince Nelson to surrender his gun. Nelson drove his truck to the front of the home and got out of the truck with a high-powered rifle. After more negotiation, Nelson pointed the gun at himself, then at officers, which is when CCSO deputies shot and killed him.",
         "alleged_threat_lvl": 1,
         "_deepnote_index_column": 5218
        },
        {
         "description_of_circumstances": "Donny Leek, was involved in an altercation with his parents on the ranch. Police from Schleicher County and Menard county along with a Texas Ranger and Department of Public Safety troopers set up a perimeter. Leek broadcast parts of the standoff on social media. He was shot and killed during the standoff.",
         "alleged_threat_lvl": 1,
         "_deepnote_index_column": 947
        },
        {
         "description_of_circumstances": "Mendez killed a 77-year-old man and wounded two women, ages 59 and 65, who happened to be in the neighborhood when he began a shooting rampage. He was allegedly binging on cocaine.",
         "alleged_threat_lvl": 1,
         "_deepnote_index_column": 4713
        },
        {
         "description_of_circumstances": "Cody, a registered sex offender who was wanted in violation of his parole, was fatally shot by officers moving to arrest the 59-year-old after he pulled out a handgun.",
         "alleged_threat_lvl": 1,
         "_deepnote_index_column": 6129
        },
        {
         "description_of_circumstances": "Antwane Burrise was wanted in connection with the murder of Renard Thomas. Officers spotted Burrise in a car at an apartment complex and blocked Burrise from trying to escape, but he allegedly rammed a patrol car. He allegedly backed up into the path of an undercover officer, and that officer ‚Äì as well as two uniformed officers ‚Äì shot and killed him.",
         "alleged_threat_lvl": 1,
         "_deepnote_index_column": 749
        },
        {
         "description_of_circumstances": "Following a pursuit that began in Bay County, a man was shot and killed by a deputy. Few details were released.",
         "alleged_threat_lvl": 0,
         "_deepnote_index_column": 2181
        },
        {
         "description_of_circumstances": "Police were responding to a domestic dispute in a parking lot when Herbert, a veteran, allegedly fired his weapon. It is not clear whether he was firing at the officer, who returned fire and killed Herbert.",
         "alleged_threat_lvl": 1,
         "_deepnote_index_column": 6379
        },
        {
         "description_of_circumstances": "At 6:18 p.m., Crawford sheriff's deputies were dispatched to a domestic dispute where Jamie Darley reportedly threatened people with a gun inside the home. Before deputies arrived, Darley fled in white Chevrolet truck. They caught up with him and tried to pull him over. Police chased him at speeds exceeding 100 miles per hour. The pursuit ended in the yard of the home where the domestic dispute allegedly happened. Darley allegedly got out of the truck holding a silver firearm in his hand. Darley pointed the firearm at the deputies and reportedly fired at least one shot, and a deputy shot and killed him.",
         "alleged_threat_lvl": 1,
         "_deepnote_index_column": 1008
        },
        {
         "description_of_circumstances": "Investigators said Peter Gaines, 35, was damaging a traffic sign Saturday afternoon at the intersection of Eastex Freeway and Collingsworth when an officer tried to stop him. HPD said its possible Gaines was on PCP. Police said the officer walked up to Gaines, asking him to calm down, but the man wouldn't stay back. The officer used a Taser twice to stop him before pulling out his gun and shooting, police said. Investigators said Gaines had no weapon, and the officer involved was unharmed.",
         "alleged_threat_lvl": 0,
         "_deepnote_index_column": 5417
        },
        {
         "description_of_circumstances": "Two Erie police officers on patrol spotted a stolen minivan parked along East Third Street and were approaching it when the van accelerated at the officers, police said. The van came “very close” to the officers when they fired at it with their guns, killing Charles Wallace, 46, who was driving it, he said.",
         "alleged_threat_lvl": 0,
         "_deepnote_index_column": 3672
        },
        {
         "description_of_circumstances": "When police responded to an accident, no one was in the vehicle, but they found an unidentified man a short distance away who shot at them and was shot and killed.",
         "alleged_threat_lvl": 1,
         "_deepnote_index_column": 5000
        },
        {
         "description_of_circumstances": "Two troopers came upon a disabled vehicle with the lone occupant walking on the highway at about 1:55 a.m. One trooper got out of the police car and talked to the man while the other drove the vehicle beside them. Luke Patterson reportedly attempted to get in the car, and police shot and killed him.",
         "alleged_threat_lvl": 0,
         "_deepnote_index_column": 2026
        },
        {
         "description_of_circumstances": "Deputies responded to a domestic violence call and shot and killed Chris Cadotte who was allegedly armed with a knife around 9 p.m. He reportedly charged at them and failed to drop the knife when told.",
         "alleged_threat_lvl": 0,
         "_deepnote_index_column": 1284
        },
        {
         "description_of_circumstances": "Kanwarbir Malhi allegedly had stolen a vehicle belonging to his parents, and that theft led to him being pulled over, police said. Malhi was pulled over about 1 a.m. Officers gave unspecified orders to Malhi, which police said were ignored. Without being told by police, Malhi allegedly got out of the Honda. He allegedly made \"furtive movements\" and told police he had a weapon, and he was shot and killed.",
         "alleged_threat_lvl": 0,
         "_deepnote_index_column": 2580
        },
        {
         "description_of_circumstances": "Police responded to a robbery in progress at the America's Best Value Inn. Officers found the man nearby. Police said he was armed with a handgun and refused to drop it. He was shot and killed.",
         "alleged_threat_lvl": 1,
         "_deepnote_index_column": 4241
        },
        {
         "description_of_circumstances": "Police received a call from a person who said there was a man with a knife threatening family members. The first officer at the house on North Conyer Street was confronted by Ivan Cuevas, who charged at him with a knife, and the officer shot and killed Cuevas.",
         "alleged_threat_lvl": 0,
         "_deepnote_index_column": 87
        },
        {
         "description_of_circumstances": "Police were executing the warrant, which was related to a possible internet crime against children, when Shawn Blowers allegedly confronted officers with a knife. Neenah police officer Christopher Gorden shot and killed Blowers.",
         "alleged_threat_lvl": 0,
         "_deepnote_index_column": 1935
        },
        {
         "description_of_circumstances": "Police said they were conducting a narcotics investigation. While attempting to make an arrest, Manuel Palacio, who was allegedly armed, confronted them. Police said during the confrontation, an officer shot and killed Palacio.",
         "alleged_threat_lvl": 0,
         "_deepnote_index_column": 3068
        },
        {
         "description_of_circumstances": "Police were investigating a murder when Martin Mack allegedly shot three officers in two gunbattles when he was shot and killed.",
         "alleged_threat_lvl": 1,
         "_deepnote_index_column": 2882
        },
        {
         "description_of_circumstances": "An employee at a pharmacy called police to report that McLeod had tried to use a fake prescription, police said. The responding officer spotted McLeod in a parking lot near the pharmacy and fatally shot him after he reached \"around to the small of his back and abruptly [whipped] his hand around and [pointed] it toward the officer, as if with a weapon,\" according to authorities.",
         "alleged_threat_lvl": 0,
         "_deepnote_index_column": 5893
        },
        {
         "description_of_circumstances": "Romero was shot and killed by police in Boyle Heights. He was suspected of writing gang-style graffiti in the area before he bolted from officers and fired a gun at them, the Los Angeles Police Department said.",
         "alleged_threat_lvl": 1,
         "_deepnote_index_column": 4971
        },
        {
         "description_of_circumstances": "Officers responded for a \"shots fired\" call. They found one victim with a gunshot wound to the hand. Police said they then found the suspect, Haraesheo Rice, still armed. Officers told Rice to drop the gun, but he instead pointed it at officers and waved it in the air and was shot and killed.",
         "alleged_threat_lvl": 1,
         "_deepnote_index_column": 3778
        },
        {
         "description_of_circumstances": "Rendon shot and wounded his brother-in-law before firing shots at a police helicopter, according to authorities. Officers said they fatally shot him after he refused to drop his gun.",
         "alleged_threat_lvl": 1,
         "_deepnote_index_column": 5481
        },
        {
         "description_of_circumstances": "Police responded to a domestic disturbance. They tasered the man who began stabbing his wife. He was shot and killed.",
         "alleged_threat_lvl": 1,
         "_deepnote_index_column": 4915
        },
        {
         "description_of_circumstances": "Anderson County deputies attempted to serve a probation violation warrant at a home. Police said that Morris \"presented a weapon at the officer\" and barricaded himself in the home. Deputies went in the home, where Morris was shot and killed.",
         "alleged_threat_lvl": 0,
         "_deepnote_index_column": 4972
        },
        {
         "description_of_circumstances": "A local US Marshals Task Force, including officers from the Baton Rouge Police Department, were attempting to apprehend Croom from his hotel in Baton Rouge, as he was wanted in two murders. They report that he fired at them, killed one of the marshals, and later died himself from return gunfire.",
         "alleged_threat_lvl": 1,
         "_deepnote_index_column": 6441
        },
        {
         "description_of_circumstances": "Rodolfo Ballardo and Marcos Ruiz-Zazueta, 43, were stopped for a suspended license plate. During the traffic stop, the driver was asked to exit the vehicle. While the trooper was speaking to the driver, the passenger fired a shot at the trooper, and the trooper fired back. Both Ballardo and Ruiz-Zazueta fled in the vehicle, prompting a pursuit. Ballardo then exited the vehicle and fled on foot until he hijacked a big rig from a sleeping truck driver. DPS pursued the big rig, and in an exchange of gunfire between Ballardo and troopers, he was shot and killed.",
         "alleged_threat_lvl": 1,
         "_deepnote_index_column": 3794
        },
        {
         "description_of_circumstances": "Police were called to an apartment on Park City Court around 8 p.m. after reports of a stabbing. A person who had been stabbed multiple times was found on the floor surrounded by a large amount of blood. Officers said the suspect was still threatening the victim with a knife. At least one officer shot and killed the man with the knife.",
         "alleged_threat_lvl": 1,
         "_deepnote_index_column": 473
        },
        {
         "description_of_circumstances": "A silver Honda CRV was carjacked and turned up when the suspect thief crashed. The man who was driving took off around 7:30 p.m., and officers swarmed the Cityteam Ministries Portland Shelter. Witnesses said police started shooting almost immediately, killing John Elifritz.",
         "alleged_threat_lvl": 0,
         "_deepnote_index_column": 3142
        },
        {
         "description_of_circumstances": "Deputies went to a home to serve a search warrant for felony weapons and drug violations. While there, police said Samuel Herrera Jr. shot at them and then started a fire. When the man came out, police shot and killed him.",
         "alleged_threat_lvl": 1,
         "_deepnote_index_column": 594
        },
        {
         "description_of_circumstances": "Deputies received a call about the possible burglary. When they arrived, they saw a man with a backpack outside a vacant home, police said. The man fled when deputies tried to approach him. After a short pursuit, one deputy shot and killed the man, who allegedly turned around with kitchen-type knives in each of his hands.",
         "alleged_threat_lvl": 0,
         "_deepnote_index_column": 3223
        },
        {
         "description_of_circumstances": "At about 8 a.m., an officer was flagged down by a person who said a man with a knife was walking northbound on Central. The officer spotted the shirtless man armed with a knife. Officers who responded reportedly saw the man confront a person with the knife, prompting that person to run away. Police made contact with the man, who was being \"confrontational,\" and police shot and killed him.",
         "alleged_threat_lvl": 0,
         "_deepnote_index_column": 1512
        },
        {
         "description_of_circumstances": "An officer stopped a vehicle in Watertown for a burnt-out taillight. Police reportedly had been looking for the man to question him about his involvement in a domestic incident. The man was shot and killed. Details as to what precipitated the killing were withheld by police.",
         "alleged_threat_lvl": 1,
         "_deepnote_index_column": 875
        },
        {
         "description_of_circumstances": "Around 3:25 a.m., officers were called regarding reports of a man going through vehicles. Police said Eric Jack Logan was rifling through a car when a South Bend Police officer confronted him. Logan reportedly got out, and approached the cop with a knife. The officer shot and killed him.",
         "alleged_threat_lvl": 1,
         "_deepnote_index_column": 1950
        },
        {
         "description_of_circumstances": "Deputies were called to a RaceTrac after Jose Guillermo Flores Colon was in the business' bathroom for nearly 90 minutes, police said. Deputy A. Chavez found Colon in the bathroom along with drug paraphernalia on the sink. Chavez tried to calm down Colon so he could be handcuffed, but Colon grabbed Deputy Shawn Adkins' Taser, and Adkins shot and killed him.",
         "alleged_threat_lvl": 0,
         "_deepnote_index_column": 4025
        },
        {
         "description_of_circumstances": "Doña Ana County Sheriff's Deputies say they got two different 911 calls from residents reporting a blonde woman wearing blue jeans and a top on their property. Several officers, including sheriff's deputies, a reserve deputy and an officer from the Mesilla Marshal's office approached the shed the woman was in. Police said she came out of the shed with an ax and came toward the reserve deputy who then shot and killed her.",
         "alleged_threat_lvl": 0,
         "_deepnote_index_column": 3659
        },
        {
         "description_of_circumstances": "Police said officers were called after 11 p.m., when somebody heard a woman screaming during an argument with a man. A shot was fired while officers were responding, police said. Upon arriving, officers confronted Dravious Burch. Burch moved toward officers with two handguns, refusing to comply with commands from officers, police said. Four officers shot and killed him.",
         "alleged_threat_lvl": 0,
         "_deepnote_index_column": 2672
        },
        {
         "description_of_circumstances": "Police were called to a disturbance call at the Deluxe Inn around 9:40 p.m. regarding a man trying to force his way into someone's room. When an officer arrived, he saw a man with a knife. The officer ordered him to drop the knife, but the man allegedly refused and fled. The officer chased the man with the help of a bystander, and they found him trying to get into a car that had a woman and children inside. The bystander tackled the suspect. Police say that is when man stabbed volunteer bystander several times. Officer Claire Van Wolfe shot and killed the man with the knife, Lorne Ashmore.",
         "alleged_threat_lvl": 1,
         "_deepnote_index_column": 2248
        },
        {
         "description_of_circumstances": "Officers tracked the suspect, 38-year-old Chrislon Talbott, to a motel on Frederica Street late Wednesday night. Kentucky State Police say Talbott came out of a room around midnight and shot at officers",
         "alleged_threat_lvl": 1,
         "_deepnote_index_column": 6250
        },
        {
         "description_of_circumstances": "Officers fatally shot a suspect in a burglary at a car dealership in Jacksonville after he drove toward them in a vehicle, police said. Officers were called shortly before midnight to investigate a possible break-in at Crain Ford. The agency said man inside was attempting to steal a vehicle when he drove it toward the exit and where police were standing. Officers shot and killed him.",
         "alleged_threat_lvl": 1,
         "_deepnote_index_column": 1962
        },
        {
         "description_of_circumstances": "Officers responded about 5:50 p.m. on a report of a suspect, armed with a knife, in the middle of the street, according to Lt. Kirk Kelley of the Los Angeles Police Department's West Valley Station, whose officers responded to the call even though it was in the Mission Station's patrol area. They were confronted by the suspect and he was shot and killed.",
         "alleged_threat_lvl": 0,
         "_deepnote_index_column": 5590
        },
        {
         "description_of_circumstances": "A deputy pulled Adams over in a traffic stop, but when the deputy identified Adams as having warrants for his arrest, he got out of the car and fled on foot, according to police. The deputy chased Adams in a vehicle and then got out to chase him on foot. When the deputy attempted to arrest Adams, he pulled a knife, and the deputy shot and killed him.",
         "alleged_threat_lvl": 0,
         "_deepnote_index_column": 5017
        },
        {
         "description_of_circumstances": "Steven Juarez died after police used less-lethal methods to restrain him during a fight. Methods included electrocuting him with a Taser and use of a chokehold. Police were attempting to arrest him for possibly trespassing in a neighbor's yard.",
         "alleged_threat_lvl": 1,
         "_deepnote_index_column": 3298
        },
        {
         "description_of_circumstances": "Around 6 a.m., an officer found a vehicle, which had been reported stolen on Spooner Drive. He shined his light on the vehicle and saw it was occupied. The driver put the car in drive and started driving toward the officer, who backed up into a 6-feet-tall fence, and shot and killed Steven Kerr.",
         "alleged_threat_lvl": 1,
         "_deepnote_index_column": 1488
        },
        {
         "description_of_circumstances": "Police officers arrived at a home around 4 p.m., seeking a white man who allegedly attempted to kill a police officer. After an approximately three-hour standoff, the man was seen fleeing out the back of the home, and he was shot and killed. A gun was allegedly found.",
         "alleged_threat_lvl": 1,
         "_deepnote_index_column": 614
        },
        {
         "description_of_circumstances": "A traffic stop resulted in gunshots exchanged between a deputy and two people in a vehicle. One of the occupants was killed in the exchange and the other taken into custody. There are no other details at this time. ",
         "alleged_threat_lvl": 1,
         "_deepnote_index_column": 178
        },
        {
         "description_of_circumstances": "Police said Webb was armed with a pair of scissors when officers used a Taser while attempting to take him into custody. He made a threatening gesture toward officers, and one of the officers shocked him with his Taser. Officers disarmed the man and placed handcuffs on him. The man continued to be combative toward the officers, who then placed him in maximal restraints, securing his legs. Officers then noticed the man was having difficulty breathing. Handcuffs were removed and an ambulance was called. The man was taken to a hospital where he was pronounced dead.",
         "alleged_threat_lvl": 1,
         "_deepnote_index_column": 5047
        },
        {
         "description_of_circumstances": "Police responded about 1:10 a.m. to reports of a man, possibly under the influence of drugs or alcohol, throwing items in front of a business. According to Hamlin police, Delbert McNeil assaulted officers, and he was tasered and died a short time later.",
         "alleged_threat_lvl": 1,
         "_deepnote_index_column": 3560
        },
        {
         "description_of_circumstances": "An officer reportedly made a traffic stop northbound on Aurora when the man opened his car door and ran west across four lanes of traffic to North 96th Street, where he pulled out a handgun. Police said there was a brief struggle between the man and the officer in the street. The officer shot and killed the man.",
         "alleged_threat_lvl": 1,
         "_deepnote_index_column": 2423
        },
        {
         "description_of_circumstances": "Juan M. \"Scars\" Montalvo, 25, and Miguel A. \"Terco\" Montalvo, 21, were being sought by police in Pasco in reference to the murder of Luis \"Oso\" Contreras, 29, who was killed April 29. Juan Montalvo was killed and the other was wounded.",
         "alleged_threat_lvl": 1,
         "_deepnote_index_column": 932
        },
        {
         "description_of_circumstances": "Thomas Wayne Swinford was believed to be armed with a gun. Police ordered him to drop the gun but said he ignored their commands. Moments later, Swinford allegedly charged toward officers, pointing the gun in their direction. Multiple officers shot and killed him.",
         "alleged_threat_lvl": 1,
         "_deepnote_index_column": 2224
        },
        {
         "description_of_circumstances": "Two police officers responded to reports of trespassing at an open Texaco gas station. Shortly after they arrived, Nicolas Sanchez was shot and killed, although it was not immediately released what precipitated the killing.",
         "alleged_threat_lvl": 1,
         "_deepnote_index_column": 4388
        },
        {
         "description_of_circumstances": "Police responded to reports of gunshots and a suicidal man. Snohomish County Sheriff's deputies found an armed man who, at times, was holding a gun to his head. They began negotiations. A SWAT team arrived at 1 a.m. A family member also spoke to him. Police say they used several “less lethal” methods to try to subdue him. Officers approached the man about 7:20 a.m. Saturday after police believed he put down the gun. As officers approached, he “made a movement to the gun,” and two officers shot and killed him.",
         "alleged_threat_lvl": 0,
         "_deepnote_index_column": 5257
        },
        {
         "description_of_circumstances": "Police confronted the suspect in an alley after a liquor store robbery. The subject, an army veteran said to be suffering from PTSD allegedly moved toward one of the officers with a knife and was shot dead.",
         "alleged_threat_lvl": 0,
         "_deepnote_index_column": 6353
        },
        {
         "description_of_circumstances": "Around 11:20 p.m., police went to a home regarding a domestic disturbance, police said. As officers went toward the residence, they saw a man with a gun, and there was an exchange of gunfire, killing Daniel Reynolds.",
         "alleged_threat_lvl": 1,
         "_deepnote_index_column": 3246
        },
        {
         "description_of_circumstances": "Christopher Wolfe was wanted for a murder when he allegedly shot and killed Officer Rob Pitts and was shot and killed during the exchange of gunfire.",
         "alleged_threat_lvl": 1,
         "_deepnote_index_column": 3063
        },
        {
         "description_of_circumstances": "Officers were responding to a reported assault of a bus driver. When they spotted a man matching the description of the suspected, they attempted to talk to him, and he allegedly tried to fight them. Police said officers tried to use their Tasers, which they said were ineffective, and they shot and killed the man.",
         "alleged_threat_lvl": 1,
         "_deepnote_index_column": 3236
        },
        {
         "description_of_circumstances": "DiTullio was apparently shot and killed by police when he brandished an AR-15 rifle from inside his truck. Police said that DiTullio led them on a chase around town before returning to his home, where he was shot and killed after showing the weapon.",
         "alleged_threat_lvl": 1,
         "_deepnote_index_column": 5263
        },
        {
         "description_of_circumstances": "Police reportedly responded to a call regarding a suspicious person. When they arrived, a person allegedly showed them a gun and was shot and killed.",
         "alleged_threat_lvl": 0,
         "_deepnote_index_column": 2004
        },
        {
         "description_of_circumstances": "An officer on routine patrol saw suspicious activity. Officers tried to talk to Jeffrey Michael Gibble before he ran on foot, police said.Gibble allegedly fired a shot at officers before the officers shot and killed him.",
         "alleged_threat_lvl": 1,
         "_deepnote_index_column": 1699
        },
        {
         "description_of_circumstances": "Damond, in her pajamas, went to the patrol car's driver's side door and was talking to the driver. The officer in the passenger seat shot Damond through the driver's side door. She had reportedly called 911 because she thought she heard noises behind her home.",
         "alleged_threat_lvl": 0,
         "_deepnote_index_column": 3966
        },
        {
         "description_of_circumstances": "Officers were called around 7 p.m. for a domestic disturbance in which a minor had been stabbed in the neck. Another family member allegedly had been stabbed by Arthur Harbison earlier in the day, but he had fled before police arrived. On their second trip, they made contact with Harbison, and a fight began before he ran into a nearby field as officers chased him. Harbison allegedly turned during the chase toward an officer with a knife, and he was shot and killed.",
         "alleged_threat_lvl": 1,
         "_deepnote_index_column": 2654
        },
        {
         "description_of_circumstances": "Police in Lewistown had a warrant for Douglas John Foster after the death of 52-year-old David Byron Sessions. A Dillon Police Officer and Beaverhead County Deputy responded to the report of a suspicious person at a local business at 8:20 p.m. The caller said they recognized the man as a wanted murder suspect. Officers found Foster's vehicle and tried to pull him over, and shots allegedly were fired from Foster's vehicle, and officers shot and killed Foster.",
         "alleged_threat_lvl": 1,
         "_deepnote_index_column": 1150
        },
        {
         "description_of_circumstances": "Officers responded to calls of a person being stabbed shortly after 8 a.m. Officers arrived to an intersection near a homeless encampment along the Guadalupe River Trail, and found a man suffering multiple stab wounds. A man holding a knife nearby refused to comply when officers commanded him to drop the knife. One officer reportedly used a less-lethal weapon and the man turned and advanced toward officers who shot and killed him. Officers Thomas Barnard, Pete Christian, Oscar Medina and Armando Ramos were involved.",
         "alleged_threat_lvl": 1,
         "_deepnote_index_column": 978
        },
        {
         "description_of_circumstances": "Hack apparently barricaded himself with a firearm when officers responded to a call about a domestic disturbance. Authorities said Hack fired from the home at officers.",
         "alleged_threat_lvl": 1,
         "_deepnote_index_column": 6097
        },
        {
         "description_of_circumstances": "Around 4:30 p.m., a probation officer was inside the EZ Pawn shop when Riley Eugene Peay allegedly burst in and attacked the officer by punching and spitting on him. The officer backed away and drew his gun, ordering Peay to stop, but he reportedly did not. The officer fired and hit Peay in the shoulder, but Peay still did not stop. The officer fired again and killed Peay.",
         "alleged_threat_lvl": 1,
         "_deepnote_index_column": 1767
        },
        {
         "description_of_circumstances": "Tobby Wiggins was wanted for first degree murder in North Carolina when he was shot and killed by federal agents in Atmore.",
         "alleged_threat_lvl": 0,
         "_deepnote_index_column": 923
        },
        {
         "description_of_circumstances": "Daniel Davis, 58, was visiting his parents' home on Firestone Circle in a subdivision at the Green Valley Country Club when he caused a fight and refused to leave. Two deputies arrived at the home shortly before 3:30 p.m. to order Davis to leave the residence. The man pulled out a knife during the encounter and was killed.",
         "alleged_threat_lvl": 0,
         "_deepnote_index_column": 6307
        },
        {
         "description_of_circumstances": "Police responded to reports of a domestic incident around 5 a.m. When officers arrived they found two people dead inside, as well as two children unharmed. A man was spotted fleeing, and police pursued. A trooper ran him off the road causing the suspect's vehicle to roll. He was shot and killed, although details as to what precipitated the killing were withheld by police.",
         "alleged_threat_lvl": 0,
         "_deepnote_index_column": 2989
        },
        {
         "description_of_circumstances": "Police were dispatched to a report of a man prowling vehicles at 11:50 p.m. Officers located the suspect vehicle shortly after. They tried to stop it, but the driver fled, and police decided to not pursue. But, they later located the vehicle again and tried to stop the driver again, but the vehicle sped away. Officers once again decided to not pursue the driver. Minutes later, they found the vehicle crashed on Southwest Pleasant View Drive. Officers tried to contact the driver and he exited the vehicle with a hatchet and charged at them. Two officers shot and killed Dmitry Bullard.",
         "alleged_threat_lvl": 0,
         "_deepnote_index_column": 3022
        },
        {
         "description_of_circumstances": "Police were called by employees at Krispy Kreme, who reported that Austin was trespassing after previously being banned from the restaurant. Chase Andrew Austin reportedly became confrontational with the officer and produced a black semi-automatic pistol and pointed it at the officer, who shot and killed him.",
         "alleged_threat_lvl": 1,
         "_deepnote_index_column": 1615
        },
        {
         "description_of_circumstances": "Around 3:20 a.m., deputies responded to a home for a welfare check on Dennis Patrick Jr. who was described as potentially suicidal. Deputies said they tried to speak with him, but he reportedly pulled out a gun and shot at them, and they shot and killed him.",
         "alleged_threat_lvl": 1,
         "_deepnote_index_column": 1620
        },
        {
         "description_of_circumstances": "Mohammad allegedly stabbed and wounded four people at the University of California Merced's campus. Campus police shot and killed Mohammad, who was a student at the school, according to authorities. The four people who were stabbed, two of whom were students, suffered non-life-threatening injuries, police said.",
         "alleged_threat_lvl": 1,
         "_deepnote_index_column": 5790
        },
        {
         "description_of_circumstances": "Jarvis Lykes was fleeing from a DUI checkpoint when he was killed by a Georgia State Patrol trooper at the dead end of Lumpkin Court, police said. While a gun was alleged to have been found in the vehicle, it was not reported that Lykes was near it when he was shot and killed.",
         "alleged_threat_lvl": 0,
         "_deepnote_index_column": 3484
        },
        {
         "description_of_circumstances": "Deputies responded to a domestic call and found Tomlinson armed, police said. Officers shot Tomlinson after he allegedly ignored repeated requests to drop his weapon and raised it toward the officers. His brother, Scott Tomlinson, was found dead from gunshot wounds inside the residence, according to authorities.",
         "alleged_threat_lvl": 1,
         "_deepnote_index_column": 5978
        },
        {
         "description_of_circumstances": "Deputy Michael O'Brien shot and killed 53-year-old Mark Keckhaser after Keckhaser was driving erratically down an alley and swerved to hit O'Brien. Keckhafer/Keckhaser was allegedly intoxicated and attempted to flee police in a high speed pursuit.",
         "alleged_threat_lvl": 0,
         "_deepnote_index_column": 6033
        },
        {
         "description_of_circumstances": "A deputy was taking an inmate to the hospital for evaluation. There was a struggle, and the inmate allegedly attempted to reach for the officer's weapon. The deputy shot and killed Chad Loynachan.",
         "alleged_threat_lvl": 0,
         "_deepnote_index_column": 186
        },
        {
         "description_of_circumstances": "Police received a call about a vehicle crash involving multiple parked cars at an apartment complex. Deputies found the driver of the wrecked vehicle naked in the middle of Howard Gap Road. They say Harbison was not compliant and “acting extremely irrational.” They tasered and killed him.",
         "alleged_threat_lvl": 0,
         "_deepnote_index_column": 4712
        },
        {
         "description_of_circumstances": "Police said Wilson was a suspect in a recent string of robberies and a Henderson carjacking. Officers saw him driving near the Stratosphere. They attempted to stop his vehicle. He did not stop, and the pursuit began. Officers chased him in a car they identified by its license plates. The pursuit continued several miles through the valley before ending on the 215 Beltway near North Hualapai Way. Police said Wilson had a gun and was shot and killed.",
         "alleged_threat_lvl": 0,
         "_deepnote_index_column": 4789
        },
        {
         "description_of_circumstances": "James Pinkston allegedly shot at a deputy while his home was being searched. The deputy shot and killed him. The deputy suffered a gunshot wound to the leg.",
         "alleged_threat_lvl": 1,
         "_deepnote_index_column": 1898
        },
        {
         "description_of_circumstances": "Swatsky was reportedly suicidal and armed with a gun. Police fatally shot him when he pointed the gun at officers, authorities said.",
         "alleged_threat_lvl": 1,
         "_deepnote_index_column": 5315
        },
        {
         "description_of_circumstances": "Ronald Singletary allegedly threatened two officers with a knife when he was shot and killed. Police initially responded to a domestic incident and gave Singletary a restraining order. He was shot and killed during a second incident that night.",
         "alleged_threat_lvl": 0,
         "_deepnote_index_column": 4166
        },
        {
         "description_of_circumstances": "Deputies reportedly negotiated with Steve Huff, who was reported to be armed and suicidal, for about a half-hour prior to shooting and killing him when he advanced toward them.",
         "alleged_threat_lvl": 0,
         "_deepnote_index_column": 2013
        },
        {
         "description_of_circumstances": "Deputies were called to a home in reference to a dispute involving a knife. When officials arrived at the scene they discovered family members outside of the home. Police said James Thompson was inside the home with a 24-year-old woman. Officers then heard shots fired inside the home and ordered them to come outside. Thompson walked out with the woman in a chokehold and a knife in his hand. He put down the knife and released the woman. The woman was shot inside the home. Officers handcuffed Thompson, who they said was “very combative” during the arrest, and sat him on the ground by the police vehicle. Officials then said at some point he stopped breathing.",
         "alleged_threat_lvl": 1,
         "_deepnote_index_column": 4468
        },
        {
         "description_of_circumstances": "Deputies were sent out after a veterans' crisis line called Madison County dispatch and said the man was having problems. When the deputies arrived, Radcliff said they were met by a man with a long rifle. About 10 minutes later, shots were fired, and Smith was killed.",
         "alleged_threat_lvl": 0,
         "_deepnote_index_column": 4974
        },
        {
         "description_of_circumstances": "A man fled when police attempted to interrogate him about his suspicious presence near a closed mall. He was shot and killed.",
         "alleged_threat_lvl": 0,
         "_deepnote_index_column": 4350
        },
        {
         "description_of_circumstances": "Officers shot and killed Michael Fletcher after he raised a BB gun at officers.",
         "alleged_threat_lvl": 1,
         "_deepnote_index_column": 2950
        },
        {
         "description_of_circumstances": "Deputies responded to a home, where they had already responded on two other occasions the same day. Deputies found Michael Kifer, who they say was drunk or high, armed with a knife. He fled on foot, reappeared with a hatchet, and was chased back into his home by deputies. The deputies found him in the home reportedly holding a knife and shot and killed him.",
         "alleged_threat_lvl": 1,
         "_deepnote_index_column": 1564
        },
        {
         "description_of_circumstances": "About 1 p.m., a 911-caller reported a man was standing in an intersection with a knife and threatening motorists, police said. Two patrol officers approached the man. The man ran toward a Circle K, and the two officers followed, commanding him to drop the knife. The man started running closer to the doors of the convenience store, and one of the officer's used his Taser on the man. The other officer, Raul Navarro, then shot and killed Charles Hutchison.",
         "alleged_threat_lvl": 0,
         "_deepnote_index_column": 3044
        },
        {
         "description_of_circumstances": "Police were patrolling near the Columbia Park area when they came across two men at around 11:45 p.m. Police reportedly were trying to get the two men to identify themselves when one of them fled on foot. While they were trying to detain the man, he allegedly produced what appeared to be a firearm. Officers Becca Henry, Zach Moore and Dylan Markley received leave, although early reports said only one officer shot and killed Gordon Whitaker.",
         "alleged_threat_lvl": 1,
         "_deepnote_index_column": 1267
        },
        {
         "description_of_circumstances": "Tassinari, a Vietnam veteran, \"showed a gun\" to a woman at an ATM machine. She gave his license plates to the police, who showed up at his home and found him in his car. He reached for something in the waistband and was tasered (to little or no effect) and then shot.",
         "alleged_threat_lvl": 0,
         "_deepnote_index_column": 6395
        },
        {
         "description_of_circumstances": "Police were called to a \"check a subject\" call outside the Planet Fitness at 5 p.m. The officers arrived and made contact with the person who fit the caller's description. During the course of the check, Dana Sherrod Fletcher reportedly did not comply with police orders, and he was shot and killed. The man's wife and 8-year-old daughter were apparently removed from the vehicle before he was killed.",
         "alleged_threat_lvl": 1,
         "_deepnote_index_column": 1573
        },
        {
         "description_of_circumstances": "Trooper Brad Wheat, 45, shot and killed his wife, Mary Wheat, 42, inside a sports nutrition business and then killed himself.",
         "alleged_threat_lvl": 0,
         "_deepnote_index_column": 2732
        },
        {
         "description_of_circumstances": "Ronnie Kong shot and killed a neighbor, 62-year-old Juan Gudino Lopez, then fled into his nearby upstairs residence. Police tracked down a suspected killer in a home, police said. Kong refused to exit the residence until at about 6:15 p.m., when San Diego police Officers Andrew Campbell, Christopher Luth and Tony Maraschiello shot and killed him.",
         "alleged_threat_lvl": 1,
         "_deepnote_index_column": 878
        },
        {
         "description_of_circumstances": "Two officers made a traffic stop when a man was driving a scooter. After stopping, the man on the scooter produced a pistol and fired at the officers. The officers shot and killed the man.",
         "alleged_threat_lvl": 1,
         "_deepnote_index_column": 4818
        },
        {
         "description_of_circumstances": "About 4 p.m., during a slow-speed pursuit, the driver being pursued stopped and got out of the vehicle brandishing a handgun. The officer shot and killed him.",
         "alleged_threat_lvl": 1,
         "_deepnote_index_column": 960
        },
        {
         "description_of_circumstances": "James Scott Reed was shot and killed in an exchange of gunfire with police after Killeen officers executed a no-knock search and arrest warrant at around 6 a.m. Officers allegedly were met by gunfire as they entered the residence, police said.",
         "alleged_threat_lvl": 1,
         "_deepnote_index_column": 2251
        },
        {
         "description_of_circumstances": "An off-duty Contra Costa County sheriff's deputy shot and killed a home invasion robbery suspect. Officers responded to a call of a home invasion at around 10:44 a.m., police said. It was not disclosed why an off-duty deputy was on the scene.",
         "alleged_threat_lvl": 1,
         "_deepnote_index_column": 4463
        },
        {
         "description_of_circumstances": "At about 12:30 p.m., deputies responded to a call of an armed man causing a disturbance. The standoff began with an exchange of gunfire involving Jose Meza inside a home. Homes were started on fire and the freeway was shut down for hours during the standoff. Meza was shot and killed when he reportedly came out of a house with a long gun.",
         "alleged_threat_lvl": 1,
         "_deepnote_index_column": 1989
        },
        {
         "description_of_circumstances": "Stonechild Chiefstick was allegedly threatening people with a screwdriver when he was shot and killed by police in the middle of a crowd at Waterfront Park during the city's Third of July fireworks celebration.",
         "alleged_threat_lvl": 0,
         "_deepnote_index_column": 1904
        },
        {
         "description_of_circumstances": "Police were searching for Andres Arteaga regarding a felony warrant. Arteaga fled when they caught up with him and allegedly tried to break into a home. An officer reportedly tried tasering him, but Arteaga reportedly drew a handgun, and the officer shot and killed him.",
         "alleged_threat_lvl": 0,
         "_deepnote_index_column": 2772
        },
        {
         "description_of_circumstances": "Police began a chase after a vehicle ran a stop sign and failed to stop for police. Rogers was arrested after a police chase ended near county roads 127 and 381. Rogers was handcuffed in a Wetumka police cruiser, but he managed to get out of his restraint and into a Hughes County deputy's vehicle. Officers said Rogers drove toward a Wetumka police officer, who shot and killed him.",
         "alleged_threat_lvl": 0,
         "_deepnote_index_column": 4804
        },
        {
         "description_of_circumstances": "Officers responded to a call for assistance from the Laguna Tribal Police in reference to an armed person running from tribal police. State police located Vierra, who fired at them, and he was shot and killed.",
         "alleged_threat_lvl": 1,
         "_deepnote_index_column": 5102
        },
        {
         "description_of_circumstances": "A robbery was reported at First Community Bank, and police exchanged fire with Williams, who was heavily armed, fatally wounding him.",
         "alleged_threat_lvl": 1,
         "_deepnote_index_column": 5954
        },
        {
         "description_of_circumstances": "Jason Nightengale was a suspect in three fatal shootings on Chicago's South Side earlier in the day and was shot and killed during an exchange of gunfire with Evanston police about 5:35 p.m.",
         "alleged_threat_lvl": 1,
         "_deepnote_index_column": 302
        },
        {
         "description_of_circumstances": "Police said the man is believed to have stabbed a woman and her two-year-old daughter, killing the woman and injuring the child. An officer on routine patrol opened fire when he saw the man armed with a knife and the woman covered in blood outside a building, authorities said.",
         "alleged_threat_lvl": 1,
         "_deepnote_index_column": 5277
        },
        {
         "description_of_circumstances": "Evans fired a shot into the ceiling of a convenience store during an armed robbery. Deputies caught up with his vehicle about 20 miles away. Evans fired at the officers, who fatally shot him.",
         "alleged_threat_lvl": 1,
         "_deepnote_index_column": 6343
        },
        {
         "description_of_circumstances": "Near midnight Burtsfield was spotted trespassing in a rural area. Deputies chased her, then stopped her vehicle with deflating spikes. She emerged from her vehicle brandishing a knife. A Taser wasn't effective in stopping the threat deputies felt, so she was shot to death.",
         "alleged_threat_lvl": 0,
         "_deepnote_index_column": 6253
        },
        {
         "description_of_circumstances": "About 10:30 a.m., two deputies were working at the Salt Lake County Jail complex. They came across a man near the front of the sheriff's office. The deputies made contact with the man. As the deputies approached, the man allegedly began to fire. At least one deputy returned fire, killing him. Both deputies were injured.",
         "alleged_threat_lvl": 1,
         "_deepnote_index_column": 60
        },
        {
         "description_of_circumstances": "Duncan Socrates Lemp was being served a search warrant related to firearms. Police shot and killed Lemp. Details as to what precipitated the killing were withheld by police. Witnesses alleged he was asleep in bed when police killed him.",
         "alleged_threat_lvl": 1,
         "_deepnote_index_column": 1165
        },
        {
         "description_of_circumstances": "Deputy David Dalton fired six shots at Martes as authorities say the teen pointed a 9mm pistol at the officer inside The Times-Picayune warehouse. The Sheriff's Office received a 911 call reporting two people who were \"rolling shiny objects down the street.\" The pair was seen jumping a fence near a car dealership's new vehicle storage lot. Deputies who began searching the area spotted a person later identified as Martes running towards the back of the newspaper warehouse. Dalton followed the teen into the warehouse and opened fire after spotting the teen's weapon, according to police.",
         "alleged_threat_lvl": 1,
         "_deepnote_index_column": 5013
        },
        {
         "description_of_circumstances": "An unidentified man had just stolen a sport utility vehicle, refused to get out after several verbal commands and threatened officers with \"medieval-looking\" type of sword, before he was shot dead.",
         "alleged_threat_lvl": 0,
         "_deepnote_index_column": 4779
        },
        {
         "description_of_circumstances": "A man approached an Alabama state trooper who was stationed at a construction zone on Interstate 65. He told the trooper that his wife threatened to shoot him. The trooper tried to stop the woman's vehicle, but she refused to pull over. Several other law enforcement agencies joined in. Authorities say the woman brandished a firearm during the chase. Officers put out \"spike strips,\" and stopped her vehicle. After a brief standoff,troopers say the woman fired on officers, and officers returned fire. The woman was pronounced dead on the scene.",
         "alleged_threat_lvl": 1,
         "_deepnote_index_column": 6180
        },
        {
         "description_of_circumstances": "An alleged car thief drove through a garage door and at police officers who shot him dead.",
         "alleged_threat_lvl": 1,
         "_deepnote_index_column": 6590
        },
        {
         "description_of_circumstances": "An off-duty Clarkston officer was working at the Red Lobster when he saw a man being robbed in the parking lot. When the officer went to help, the four alleged robbers got into another car and shot at the officer and victim as they drove off. The officer shot at the alleged robbers, hitting two of them, killing one.",
         "alleged_threat_lvl": 1,
         "_deepnote_index_column": 2392
        },
        {
         "description_of_circumstances": "After a chase and the alleged hijacking and hostage taking of a UPS truck and driver, Mark Morasky was killed and his alleged accomplice was arrested.",
         "alleged_threat_lvl": 1,
         "_deepnote_index_column": 2284
        },
        {
         "description_of_circumstances": "Officers responded to a report of a man waving a gun, police said. Police shot Day after a \"brief encounter\" with him, according to authorities. No additional details have been released.",
         "alleged_threat_lvl": 1,
         "_deepnote_index_column": 5852
        },
        {
         "description_of_circumstances": "A neighbor called because of a domestic violence situation. When officers arrived, they found Christopher Okamoto in the doorway armed with a gun. Officer Alejandro Patino shot and killed him.",
         "alleged_threat_lvl": 0,
         "_deepnote_index_column": 2768
        },
        {
         "description_of_circumstances": "Police received a call about a suicidal man who was armed with a handgun. After an hour of negotiations, the man started to come towards officers with his gun pointed at them and was not listening to commands, and he was shot and killed.",
         "alleged_threat_lvl": 1,
         "_deepnote_index_column": 4171
        },
        {
         "description_of_circumstances": "Police responded to a 911 call at an apartment building about a person with a knife and a gun at 11:17 p.m. When officers arrived, they made contact with Scout Schultz, who officers said was armed with a knife. Officers said they made multiple attempts to get Schultz to drop the knife, and Schultz was shot and killed.",
         "alleged_threat_lvl": 0,
         "_deepnote_index_column": 3789
        },
        {
         "description_of_circumstances": "Police officers approached a car when shots were fired. A standoff lasted for hours before police moved in on the two armed men. Paul Braswell, 29, of Newark was in the vehicle when he was shot and killed. Philip Belton, 39, was wounded and was charged with three counts of unlawful possession of a weapon: a handgun, a rifle and a shotgun. Police said Belton and Braswell were targets of a multi-agency task force was investigating gun offenses.",
         "alleged_threat_lvl": 1,
         "_deepnote_index_column": 2670
        },
        {
         "description_of_circumstances": "At about 11:55 p.m., officers responded to help Surry County EMS at a chemical overdose. Police found Samuel Solomon Cochran Jr. barricaded inside the home. Officers Charles Reeves and Tyler Riddle went into the home and found Cochran armed with a knife a d shot and killed him.",
         "alleged_threat_lvl": 1,
         "_deepnote_index_column": 726
        },
        {
         "description_of_circumstances": "A police officer pulled over a possible stolen car. One of four people inside the car jumped out and ran to a home in the neighborhood with police in pursuit, police said. Jimmie Bevenue allegedly tried to kick in the door and pulled out a gun, prompting three officers to shoot and kill him on the home's front porch.",
         "alleged_threat_lvl": 1,
         "_deepnote_index_column": 4038
        },
        {
         "description_of_circumstances": "Troopers were called to a domestic dispute between the two brothers around 5 p.m., police said. Michael Drayer was allegedly attacking his brother Jesse Lynn Drayer, 40, with a knife. Jesse Drayer got into a police vehicle, but Michael followed him inside the cruiser, knife still in hand, and when Michael continued his attack, a trooper shot and killed him.",
         "alleged_threat_lvl": 1,
         "_deepnote_index_column": 2286
        },
        {
         "description_of_circumstances": "A deputy was investigating a stolen car. He told the decedent to get out of the car, but the decedent hit the deputy with the car. The deputy shot and killed him.",
         "alleged_threat_lvl": 1,
         "_deepnote_index_column": 5462
        },
        {
         "description_of_circumstances": "Walton County deputies responded to a report of a man with a gun “exhibiting erratic behavior.” Deputies and a family member entered the home, attempting to calm down Chavius Hollis. Hollis allegedly raised his gun and shot the family member, at which point one deputy fired shot and killed Hollis.",
         "alleged_threat_lvl": 1,
         "_deepnote_index_column": 2964
        },
        {
         "description_of_circumstances": "Police shot subject they say was carrying a knife and attempting to rob a bicyclist. Witnesses dispute police account and say the bicyclist had actually stolen the subject's cellphone prior to the officers' arrival.",
         "alleged_threat_lvl": 0,
         "_deepnote_index_column": 6476
        },
        {
         "description_of_circumstances": "A healthcare worker called 911 to report that Schlosser, a military veteran, was suicidal and had weapons in his home, authorities said. Police said deputies attempted to take Schlosser into custody using 'less lethal means' before fatally shooting him.",
         "alleged_threat_lvl": 0,
         "_deepnote_index_column": 4868
        },
        {
         "description_of_circumstances": "Figueroa's roommate called 911 after Figueroa allegedly threatened him with a knife. Figueroa, a local constable, opened fire when police responded, seriously wounding two officers, according to authorities. Officials said he was killed in gun battle with police.",
         "alleged_threat_lvl": 1,
         "_deepnote_index_column": 4791
        },
        {
         "description_of_circumstances": "Harrison County Sheriff Nick Smith told WAVE 3 News police in Kentucky chased a stolen black SUV occupied by a male driver, later identified as Brandon Lewis, and a female passenger identified as his wife Alisha Lewis, out of Meade County into Harrison County around 5 p.m. on Feb. 16.\n\nHarrison County Sheriff’s Office deputies, Corydon police and Irvington police assisted in the chase. Brandon Lewis and Alisha Lewis were reported to be armed, and preliminary evidence at the scene near Indiana State Road 135 and Highway 62 revealed they fired at police before officers returned fire.",
         "alleged_threat_lvl": 1,
         "_deepnote_index_column": 1248
        },
        {
         "description_of_circumstances": "Deputies were serving search and arrest warrants at a home when Romanoski confronted them with a shotgun, police said.",
         "alleged_threat_lvl": 1,
         "_deepnote_index_column": 5786
        },
        {
         "description_of_circumstances": "The 23-year-old was shot twice by a Wichita police officer Saturday after reports of a violent disturbance involving a knife in the 500 block North Oliver in east Wichita. Quintero later died at Wesley Medical Center.",
         "alleged_threat_lvl": 0,
         "_deepnote_index_column": 6615
        },
        {
         "description_of_circumstances": "Police surrounded a Motel 6 to investigate a report of a man with a gun. A 39-year-old man from Yucca Valley was killed from gunfire after deputies said he fired upon them when they knocked on the motel room's door to investigate.",
         "alleged_threat_lvl": 1,
         "_deepnote_index_column": 4519
        },
        {
         "description_of_circumstances": "Officers responded to a domestic disturbance call concerning Amstutz-Dunn, but Amstutz-Dunn had already left the residence in a car. Police attempted to pull the car over and shots were fired. Amstutz-Dunn allegedly fired at officers before they fired back.",
         "alleged_threat_lvl": 1,
         "_deepnote_index_column": 177
        },
        {
         "description_of_circumstances": "Police attempted to pull Michael Perez's minivan over for a broken taillight and a warrant associated with the license plate number, police said. After a standoff inside the minivan, he was shot and killed when he produced a knife.",
         "alleged_threat_lvl": 0,
         "_deepnote_index_column": 4335
        },
        {
         "description_of_circumstances": "A woman driving erratically crashed her car, then tried to break into homes armed with hammer and knife. She attacked the police who responded to the attempted breakins, and they shot and killed her.",
         "alleged_threat_lvl": 1,
         "_deepnote_index_column": 5412
        },
        {
         "description_of_circumstances": "Officers shot and killed a man after an alleged break-in when he allegedly slashed at them with a knife, wounding two..",
         "alleged_threat_lvl": 1,
         "_deepnote_index_column": 3944
        },
        {
         "description_of_circumstances": "According to police, Eddie Davis robbed his girlfriend in Jacksonville, taking her phone and car. Police said he drove to North Little Rock where North Little Rock police were able to find him by the tracking device in the stolen car. During a high speed chase, Davis wrecked the car. The officer broke a window and put the dog inside the car with Davis. As he was being attacked by the dog, Davis stabbed it in the face, and the officer shot and killed him.",
         "alleged_threat_lvl": 1,
         "_deepnote_index_column": 4294
        },
        {
         "description_of_circumstances": "Ruben Maya was killed during an exchange of gunfire during a standoff with police.",
         "alleged_threat_lvl": 1,
         "_deepnote_index_column": 2866
        },
        {
         "description_of_circumstances": "A motorcycle officer stopped Young for speeding in a school zone, police said. While the officer completed his citation, Young reportedly reversed his car and struck the officer and the motorcycle, and then accelerated his car toward the officer when the officer shot him, police said.",
         "alleged_threat_lvl": 0,
         "_deepnote_index_column": 6019
        },
        {
         "description_of_circumstances": "Leiataua had stabbed cousin. When the police responded, armed with a knife, he barricaded himself in bedroom with his 3-year-old daughter. A sheriff sniper shot him through a window.",
         "alleged_threat_lvl": 1,
         "_deepnote_index_column": 5686
        },
        {
         "description_of_circumstances": "Police were pursuing a stolen vehicle. When it crashed, one of the men allegedly pointed a gun at police and was shot and killed.",
         "alleged_threat_lvl": 1,
         "_deepnote_index_column": 4541
        },
        {
         "description_of_circumstances": "Officer Darrell Osment was walking his dog in plain clothes in Ashland City at around 9:05 p.m. when he allegedly was shot in the shoulder by William Johnson. Other officers chased Johnson through parts of north Nashville, with Johnson reportedly shooting at an officer who tried to spike his tires. The pursuit came to an end on I-440 eastbound near Nolensville Pike. Police said Johnson and three Metro officers—Terrance Stuckey, Jacob Krispin and David Lang—exchanged gunfire, killing Johnson. Police later reportedly recovered a gun from Johnson's car.",
         "alleged_threat_lvl": 1,
         "_deepnote_index_column": 919
        },
        {
         "description_of_circumstances": "Deputies were dispatched after a 65-year-old man fired several shots toward a home in Prescott Valley,. The man was reportedly depressed over ongoing family issues. Several neighbors were evacuated. The man was hiding in a shed on the property armed with a pistol and threatened to kill deputies. The man fired toward the deputies from the shed at around 11 p.m. The man then allegedly fired another series of shots at deputies just before midnight when a deputy shot and killed the man.",
         "alleged_threat_lvl": 1,
         "_deepnote_index_column": 284
        },
        {
         "description_of_circumstances": "Officers pulled Cisneros on a routine traffic stop, and pursued the 28-year-old as he ran from his vehicle. An undercover officer shot Cisneros after he dropped a firearm while climbing a fence and attempted to pick it up.",
         "alleged_threat_lvl": 0,
         "_deepnote_index_column": 6159
        },
        {
         "description_of_circumstances": "A man approached Lafayette officers and a physical confrontation reportedly occurred. The officers shot and killed the man. Details as to what precipitated the killing were withheld by police.",
         "alleged_threat_lvl": 0,
         "_deepnote_index_column": 1263
        },
        {
         "description_of_circumstances": "Tempe police detectives were searching for a wanted fugitive from California around 9:30 a.m. and followed him into Mesa, police said. Detectives tried to arrest the man. Police said the officers felt threatened so they shot and killed the man. Details as to what precipitated the killing and what the threat might have been were withheld by police.",
         "alleged_threat_lvl": 1,
         "_deepnote_index_column": 1315
        },
        {
         "description_of_circumstances": "Police responded to a domestic dispute call in Avella. When state police arrived, they heard several shots. Police say Steven Ward then walked toward the troopers carrying a large, Bowie-style knife. Ward refused to drop the weapon, and they shot him. He died a week later.",
         "alleged_threat_lvl": 1,
         "_deepnote_index_column": 4634
        },
        {
         "description_of_circumstances": "Brenda Doucette called 911 just before midnight to report her brother had a gun and was breaking into the home through a window. When deputies arrived, they made contact with Doucette's brother, Chancy Chamblee, who was still inside the home. He was shot and killed by a deputy. It was not immediately reported whether Chamblee was armed. Deputies found Doucette inside of the home with obvious signs of trauma. She died at the scene.",
         "alleged_threat_lvl": 1,
         "_deepnote_index_column": 3969
        },
        {
         "description_of_circumstances": "A Florida Highway Patrol motorcycle officer pulled over a red Nissan at N.W. 168th St. and 37th Ave. But as the officer gets off his bike to confront the driver, the suspect quickly put his car into reverse and tried to get away. The trooper then jumped on the hood of the car and pulled his gun, firing several shots into the driver's windshield. Louis made it a few blocks before he died.",
         "alleged_threat_lvl": 0,
         "_deepnote_index_column": 5208
        },
        {
         "description_of_circumstances": "Police were called about a suicidal man. When they arrived, the man pointed a rifle at them and allegedly fired. The man was killed at the scene.",
         "alleged_threat_lvl": 1,
         "_deepnote_index_column": 6584
        },
        {
         "description_of_circumstances": "Police were called at 9:42 a.m. to the Country Inn and Suites in Kansas CIty, Kansas, where the manager said that a heavily armed man came into the hotel and said that he had committed a crime. The officers found Charles Pearson, who allegedly fired at then and was shot and killed.",
         "alleged_threat_lvl": 1,
         "_deepnote_index_column": 1792
        },
        {
         "description_of_circumstances": "Officers were dispatched to the Grover Beach home around 10:30 p.m. for reports of a man causing a disturbance. When they arrived, two officers approached the man who was holding an object. Police tasered the combative man and then shot and killed him.",
         "alleged_threat_lvl": 0,
         "_deepnote_index_column": 3973
        },
        {
         "description_of_circumstances": "A Santa Fe police officer fatally shot a man while trying to stop the man from driving a patrol vehicle, police said. The officer shot and killed the man during a struggle to remove him from the police vehicle.",
         "alleged_threat_lvl": 1,
         "_deepnote_index_column": 4207
        },
        {
         "description_of_circumstances": "Police were investigating a murder. Detectives went to a Des Moines apartment to question a 16-year-old when two teenage boys walked out of the apartment and pulled out handguns. Investigators say a 17-year-old boy, who was not involved in the homicide or identity theft, fired his weapon at the detectives. Three deputies returned fire, killing the 17-year-old old.",
         "alleged_threat_lvl": 1,
         "_deepnote_index_column": 4475
        },
        {
         "description_of_circumstances": "Police said they saw three people, two who appeared to have guns, around 11:30 p.m. Officers exited their car and confronted the men and fired their weapons, killing a 24-year-old man.",
         "alleged_threat_lvl": 0,
         "_deepnote_index_column": 2325
        },
        {
         "description_of_circumstances": "Police say two officers were approached by a man inside the Venetian Hotel. He was acting erratic and told officers someone was chasing him, police said. He took off toward the back of the building and police followed. One officer tasered the man when he reportedly tried to get into a nearby truck. He was punched multiple times and put in a choke-hold. He died an hour later.",
         "alleged_threat_lvl": 0,
         "_deepnote_index_column": 4159
        },
        {
         "description_of_circumstances": "The bodies of 27-year-old Grizelda Hernandez and her son, Dominick Alexander Hernandez, were discovered about 15 feet apart near the banks of the Rio Grande. Ronald Anthony Burgos-Aviles, 28—the Border Patrol agent who reported finding the bodies—was arrested on two counts of capital murder, police said. Burgos-Aviles and Hernandez had been in a romantic relationship.",
         "alleged_threat_lvl": 0,
         "_deepnote_index_column": 3133
        },
        {
         "description_of_circumstances": "Anchorage Police Department responded to a report of a robbery in progress the Home Depot on Rodeo Place. Zekovic reportedly stole multiple items then “assaulted an employee while armed with several hatchets and axes,” police said. He threw at least one of the weapons at police and was shot and killed.",
         "alleged_threat_lvl": 1,
         "_deepnote_index_column": 5050
        },
        {
         "description_of_circumstances": "Police shot and killed Stephanie Lopez and injured a second woman following a Littleton carjacking and high-speed chase that traversed Littleton, Englewood and Denver.",
         "alleged_threat_lvl": 1,
         "_deepnote_index_column": 4021
        },
        {
         "description_of_circumstances": "Derrec Shaw allegedly shot two people in midtown Tulsa and was shot and killed by police. Around 7 p.m. Shaw threatened people with a gun before going to businesses. Police said Shaw shot a man standing outside of CiCi's Pizza talking on the phone then shot a customer walking out of China Wok just before 7 p.m.",
         "alleged_threat_lvl": 1,
         "_deepnote_index_column": 2064
        },
        {
         "description_of_circumstances": "Daniel Moncada's parents called police to report that he was throwing items around the house and causing a disturbance. Moncada allegedly shot at arriving officers from a bedroom and was shot and killed.",
         "alleged_threat_lvl": 1,
         "_deepnote_index_column": 2237
        },
        {
         "description_of_circumstances": "Police responded around 6:30 p.m. to a report that a suicidal man had injured himself. Firefighters arrived prior to officers, and the man allegedly threatened them with a firearm. When Salem Police officers arrived, Natzeryt Viertel allegedly confronted them while still armed. An officer shot and killed him.",
         "alleged_threat_lvl": 0,
         "_deepnote_index_column": 81
        },
        {
         "description_of_circumstances": "Police responded to domestic disturbance involving a man and woman. The woman was trying to enter a church to attend a wedding but the man, Terence Walker, was outside with a gun and asked the woman to exit the building. When a police officer arrived, Walker reportedly began running from him. While running, an item fell from him and he reached to pick it up, then turned toward the officer. A witness reported that Walker tried to hand them the weapon but they refused to carry it. The officer saw the weapon and shot Walker.",
         "alleged_threat_lvl": 1,
         "_deepnote_index_column": 6578
        }
       ]
      },
      "text/plain": "                           description_of_circumstances  alleged_threat_lvl\n4090  Mark Ellis allegedly threatened police on the ...                 1.0\n3171  About 5 a.m., deputies attempted to pull over ...                 1.0\n1656  At approximately 11:30 p.m., an officer initia...                 1.0\n5117  Little has been released about this death. App...                 0.0\n4678  Deputies received a call about a robbery in pr...                 1.0\n...                                                 ...                 ...\n4021  Police shot and killed Stephanie Lopez and inj...                 1.0\n2064  Derrec Shaw allegedly shot two people in midto...                 1.0\n2237  Daniel Moncada's parents called police to repo...                 1.0\n81    Police responded around 6:30 p.m. to a report ...                 0.0\n6578  Police responded to domestic disturbance invol...                 1.0\n\n[3513 rows x 2 columns]",
      "text/html": "<div>\n<style scoped>\n    .dataframe tbody tr th:only-of-type {\n        vertical-align: middle;\n    }\n\n    .dataframe tbody tr th {\n        vertical-align: top;\n    }\n\n    .dataframe thead th {\n        text-align: right;\n    }\n</style>\n<table border=\"1\" class=\"dataframe\">\n  <thead>\n    <tr style=\"text-align: right;\">\n      <th></th>\n      <th>description_of_circumstances</th>\n      <th>alleged_threat_lvl</th>\n    </tr>\n  </thead>\n  <tbody>\n    <tr>\n      <th>4090</th>\n      <td>Mark Ellis allegedly threatened police on the ...</td>\n      <td>1.0</td>\n    </tr>\n    <tr>\n      <th>3171</th>\n      <td>About 5 a.m., deputies attempted to pull over ...</td>\n      <td>1.0</td>\n    </tr>\n    <tr>\n      <th>1656</th>\n      <td>At approximately 11:30 p.m., an officer initia...</td>\n      <td>1.0</td>\n    </tr>\n    <tr>\n      <th>5117</th>\n      <td>Little has been released about this death. App...</td>\n      <td>0.0</td>\n    </tr>\n    <tr>\n      <th>4678</th>\n      <td>Deputies received a call about a robbery in pr...</td>\n      <td>1.0</td>\n    </tr>\n    <tr>\n      <th>...</th>\n      <td>...</td>\n      <td>...</td>\n    </tr>\n    <tr>\n      <th>4021</th>\n      <td>Police shot and killed Stephanie Lopez and inj...</td>\n      <td>1.0</td>\n    </tr>\n    <tr>\n      <th>2064</th>\n      <td>Derrec Shaw allegedly shot two people in midto...</td>\n      <td>1.0</td>\n    </tr>\n    <tr>\n      <th>2237</th>\n      <td>Daniel Moncada's parents called police to repo...</td>\n      <td>1.0</td>\n    </tr>\n    <tr>\n      <th>81</th>\n      <td>Police responded around 6:30 p.m. to a report ...</td>\n      <td>0.0</td>\n    </tr>\n    <tr>\n      <th>6578</th>\n      <td>Police responded to domestic disturbance invol...</td>\n      <td>1.0</td>\n    </tr>\n  </tbody>\n</table>\n<p>3513 rows × 2 columns</p>\n</div>"
     },
     "metadata": {}
    }
   ],
   "execution_count": null
  },
  {
   "cell_type": "code",
   "metadata": {
    "cell_id": "00033-e21cbf87-577b-4520-8d36-789364fcfc78",
    "deepnote_to_be_reexecuted": false,
    "execution_millis": 69307760,
    "execution_start": 1621865305205,
    "source_hash": "62a71197",
    "tags": [],
    "deepnote_cell_type": "code"
   },
   "source": "ADDITIONAL_STOPWORDS = ['r', 'u', '2', 'ltgt']\n\ndef clean(text):\n    '''\n    This function cleans up text data.\n    '''\n    \n    #lemmatize\n    wnl = nltk.stem.WordNetLemmatizer()\n    stopwords = nltk.corpus.stopwords.words('english') + ADDITIONAL_STOPWORDS\n    \n    #normalize\n    text = (unicodedata.normalize('NFKD', text)\n             .encode('ascii', 'ignore')\n             .decode('utf-8', 'ignore')\n             .lower())\n    words = re.sub(r'[^\\w\\s]', '', text).split()\n    \n    return ' '.join([wnl.lemmatize(word) for word in words if word not in stopwords])",
   "outputs": [],
   "execution_count": null
  },
  {
   "cell_type": "code",
   "metadata": {
    "cell_id": "00034-581b51e0-c20a-47b3-addd-f98bc2593aff",
    "deepnote_to_be_reexecuted": false,
    "execution_millis": 69307746,
    "execution_start": 1621865305219,
    "source_hash": "19a4c005",
    "tags": [],
    "deepnote_cell_type": "code"
   },
   "source": "#nlp_explore = nlp_explore.description_of_circumstances.apply(clean)",
   "outputs": [],
   "execution_count": null
  },
  {
   "cell_type": "code",
   "metadata": {
    "cell_id": "00035-68f17bed-f4d7-4666-8f82-b1880bc793cb",
    "deepnote_to_be_reexecuted": false,
    "source_hash": "a61b095a",
    "execution_start": 1621865305278,
    "execution_millis": 69307746,
    "deepnote_cell_type": "code"
   },
   "source": "#nlp_explore",
   "outputs": [],
   "execution_count": null
  },
  {
   "cell_type": "code",
   "metadata": {
    "cell_id": "00036-446c0d6b-3d5d-4a04-9489-bdfd81247c2a",
    "deepnote_to_be_reexecuted": false,
    "source_hash": "c5748e92",
    "execution_start": 1621865305279,
    "execution_millis": 6,
    "deepnote_cell_type": "code"
   },
   "source": "#check how many words appear for each threat level and percentage\nthreats = pd.concat([train.alleged_threat_lvl.value_counts(),\n                    round(train.alleged_threat_lvl.value_counts(normalize=True), 2)], axis=1)\n\nthreats.columns = ['n', 'percent']\n\nthreats",
   "outputs": [
    {
     "output_type": "execute_result",
     "execution_count": 29,
     "data": {
      "application/vnd.deepnote.dataframe.v2+json": {
       "row_count": 2,
       "column_count": 2,
       "columns": [
        {
         "name": "n",
         "dtype": "int64",
         "stats": {
          "unique_count": 2,
          "nan_count": 0,
          "min": "1135",
          "max": "2378",
          "histogram": [
           {
            "bin_start": 1135,
            "bin_end": 1259.3,
            "count": 1
           },
           {
            "bin_start": 1259.3,
            "bin_end": 1383.6,
            "count": 0
           },
           {
            "bin_start": 1383.6,
            "bin_end": 1507.9,
            "count": 0
           },
           {
            "bin_start": 1507.9,
            "bin_end": 1632.2,
            "count": 0
           },
           {
            "bin_start": 1632.2,
            "bin_end": 1756.5,
            "count": 0
           },
           {
            "bin_start": 1756.5,
            "bin_end": 1880.8,
            "count": 0
           },
           {
            "bin_start": 1880.8,
            "bin_end": 2005.1,
            "count": 0
           },
           {
            "bin_start": 2005.1,
            "bin_end": 2129.4,
            "count": 0
           },
           {
            "bin_start": 2129.4,
            "bin_end": 2253.7,
            "count": 0
           },
           {
            "bin_start": 2253.7,
            "bin_end": 2378,
            "count": 1
           }
          ]
         }
        },
        {
         "name": "percent",
         "dtype": "float64",
         "stats": {
          "unique_count": 2,
          "nan_count": 0,
          "min": "0.32",
          "max": "0.68",
          "histogram": [
           {
            "bin_start": 0.32,
            "bin_end": 0.356,
            "count": 1
           },
           {
            "bin_start": 0.356,
            "bin_end": 0.392,
            "count": 0
           },
           {
            "bin_start": 0.392,
            "bin_end": 0.42800000000000005,
            "count": 0
           },
           {
            "bin_start": 0.42800000000000005,
            "bin_end": 0.464,
            "count": 0
           },
           {
            "bin_start": 0.464,
            "bin_end": 0.5,
            "count": 0
           },
           {
            "bin_start": 0.5,
            "bin_end": 0.536,
            "count": 0
           },
           {
            "bin_start": 0.536,
            "bin_end": 0.5720000000000001,
            "count": 0
           },
           {
            "bin_start": 0.5720000000000001,
            "bin_end": 0.6080000000000001,
            "count": 0
           },
           {
            "bin_start": 0.6080000000000001,
            "bin_end": 0.6440000000000001,
            "count": 0
           },
           {
            "bin_start": 0.6440000000000001,
            "bin_end": 0.68,
            "count": 1
           }
          ]
         }
        },
        {
         "name": "_deepnote_index_column",
         "dtype": "float64"
        }
       ],
       "rows_top": [
        {
         "n": 2378,
         "percent": 0.68,
         "_deepnote_index_column": 1
        },
        {
         "n": 1135,
         "percent": 0.32,
         "_deepnote_index_column": 0
        }
       ],
       "rows_bottom": null
      },
      "text/plain": "        n  percent\n1.0  2378     0.68\n0.0  1135     0.32",
      "text/html": "<div>\n<style scoped>\n    .dataframe tbody tr th:only-of-type {\n        vertical-align: middle;\n    }\n\n    .dataframe tbody tr th {\n        vertical-align: top;\n    }\n\n    .dataframe thead th {\n        text-align: right;\n    }\n</style>\n<table border=\"1\" class=\"dataframe\">\n  <thead>\n    <tr style=\"text-align: right;\">\n      <th></th>\n      <th>n</th>\n      <th>percent</th>\n    </tr>\n  </thead>\n  <tbody>\n    <tr>\n      <th>1.0</th>\n      <td>2378</td>\n      <td>0.68</td>\n    </tr>\n    <tr>\n      <th>0.0</th>\n      <td>1135</td>\n      <td>0.32</td>\n    </tr>\n  </tbody>\n</table>\n</div>"
     },
     "metadata": {}
    }
   ],
   "execution_count": null
  },
  {
   "cell_type": "code",
   "metadata": {
    "cell_id": "00037-b3f57ac9-1df6-4544-a0fe-50ce5fa282f1",
    "deepnote_to_be_reexecuted": false,
    "source_hash": "f8dacf9b",
    "execution_start": 1621865305281,
    "execution_millis": 353,
    "deepnote_cell_type": "code"
   },
   "source": "#breaking up data into each threat level\n\n#words that appear attacks\nattack_words = clean(' '.join(nlp_explore[nlp_explore.alleged_threat_lvl == 1.0].description_of_circumstances))\n\n#words that appear in non-attacks\nnonattack_words = clean(' '.join(nlp_explore[nlp_explore.alleged_threat_lvl == 0.0].description_of_circumstances))\n\n#all of the words \nall_words = clean(' '.join(nlp_explore.description_of_circumstances))",
   "outputs": [
    {
     "output_type": "error",
     "ename": "LookupError",
     "evalue": "\n**********************************************************************\n  Resource \u001b[93mstopwords\u001b[0m not found.\n  Please use the NLTK Downloader to obtain the resource:\n\n  \u001b[31m>>> import nltk\n  >>> nltk.download('stopwords')\n  \u001b[0m\n  For more information see: https://www.nltk.org/data.html\n\n  Attempted to load \u001b[93mcorpora/stopwords\u001b[0m\n\n  Searched in:\n    - '/root/nltk_data'\n    - '/usr/local/nltk_data'\n    - '/usr/local/share/nltk_data'\n    - '/usr/local/lib/nltk_data'\n    - '/usr/share/nltk_data'\n    - '/usr/local/share/nltk_data'\n    - '/usr/lib/nltk_data'\n    - '/usr/local/lib/nltk_data'\n**********************************************************************\n",
     "traceback": [
      "\u001b[0;31m---------------------------------------------------------------------------\u001b[0m",
      "\u001b[0;31mLookupError\u001b[0m                               Traceback (most recent call last)",
      "\u001b[0;32m/shared-libs/python3.7/py/lib/python3.7/site-packages/nltk/corpus/util.py\u001b[0m in \u001b[0;36m__load\u001b[0;34m(self)\u001b[0m\n\u001b[1;32m     82\u001b[0m                 \u001b[0;32mtry\u001b[0m\u001b[0;34m:\u001b[0m\u001b[0;34m\u001b[0m\u001b[0;34m\u001b[0m\u001b[0m\n\u001b[0;32m---> 83\u001b[0;31m                     \u001b[0mroot\u001b[0m \u001b[0;34m=\u001b[0m \u001b[0mnltk\u001b[0m\u001b[0;34m.\u001b[0m\u001b[0mdata\u001b[0m\u001b[0;34m.\u001b[0m\u001b[0mfind\u001b[0m\u001b[0;34m(\u001b[0m\u001b[0;34m\"{}/{}\"\u001b[0m\u001b[0;34m.\u001b[0m\u001b[0mformat\u001b[0m\u001b[0;34m(\u001b[0m\u001b[0mself\u001b[0m\u001b[0;34m.\u001b[0m\u001b[0msubdir\u001b[0m\u001b[0;34m,\u001b[0m \u001b[0mzip_name\u001b[0m\u001b[0;34m)\u001b[0m\u001b[0;34m)\u001b[0m\u001b[0;34m\u001b[0m\u001b[0;34m\u001b[0m\u001b[0m\n\u001b[0m\u001b[1;32m     84\u001b[0m                 \u001b[0;32mexcept\u001b[0m \u001b[0mLookupError\u001b[0m\u001b[0;34m:\u001b[0m\u001b[0;34m\u001b[0m\u001b[0;34m\u001b[0m\u001b[0m\n",
      "\u001b[0;32m/shared-libs/python3.7/py/lib/python3.7/site-packages/nltk/data.py\u001b[0m in \u001b[0;36mfind\u001b[0;34m(resource_name, paths)\u001b[0m\n\u001b[1;32m    582\u001b[0m     \u001b[0mresource_not_found\u001b[0m \u001b[0;34m=\u001b[0m \u001b[0;34m\"\\n%s\\n%s\\n%s\\n\"\u001b[0m \u001b[0;34m%\u001b[0m \u001b[0;34m(\u001b[0m\u001b[0msep\u001b[0m\u001b[0;34m,\u001b[0m \u001b[0mmsg\u001b[0m\u001b[0;34m,\u001b[0m \u001b[0msep\u001b[0m\u001b[0;34m)\u001b[0m\u001b[0;34m\u001b[0m\u001b[0;34m\u001b[0m\u001b[0m\n\u001b[0;32m--> 583\u001b[0;31m     \u001b[0;32mraise\u001b[0m \u001b[0mLookupError\u001b[0m\u001b[0;34m(\u001b[0m\u001b[0mresource_not_found\u001b[0m\u001b[0;34m)\u001b[0m\u001b[0;34m\u001b[0m\u001b[0;34m\u001b[0m\u001b[0m\n\u001b[0m\u001b[1;32m    584\u001b[0m \u001b[0;34m\u001b[0m\u001b[0m\n",
      "\u001b[0;31mLookupError\u001b[0m: \n**********************************************************************\n  Resource \u001b[93mstopwords\u001b[0m not found.\n  Please use the NLTK Downloader to obtain the resource:\n\n  \u001b[31m>>> import nltk\n  >>> nltk.download('stopwords')\n  \u001b[0m\n  For more information see: https://www.nltk.org/data.html\n\n  Attempted to load \u001b[93mcorpora/stopwords.zip/stopwords/\u001b[0m\n\n  Searched in:\n    - '/root/nltk_data'\n    - '/usr/local/nltk_data'\n    - '/usr/local/share/nltk_data'\n    - '/usr/local/lib/nltk_data'\n    - '/usr/share/nltk_data'\n    - '/usr/local/share/nltk_data'\n    - '/usr/lib/nltk_data'\n    - '/usr/local/lib/nltk_data'\n**********************************************************************\n",
      "\nDuring handling of the above exception, another exception occurred:\n",
      "\u001b[0;31mLookupError\u001b[0m                               Traceback (most recent call last)",
      "\u001b[0;32m<ipython-input-30-e2e22c047cb0>\u001b[0m in \u001b[0;36m<module>\u001b[0;34m\u001b[0m\n\u001b[1;32m      2\u001b[0m \u001b[0;34m\u001b[0m\u001b[0m\n\u001b[1;32m      3\u001b[0m \u001b[0;31m#words that appear attacks\u001b[0m\u001b[0;34m\u001b[0m\u001b[0;34m\u001b[0m\u001b[0;34m\u001b[0m\u001b[0m\n\u001b[0;32m----> 4\u001b[0;31m \u001b[0mattack_words\u001b[0m \u001b[0;34m=\u001b[0m \u001b[0mclean\u001b[0m\u001b[0;34m(\u001b[0m\u001b[0;34m' '\u001b[0m\u001b[0;34m.\u001b[0m\u001b[0mjoin\u001b[0m\u001b[0;34m(\u001b[0m\u001b[0mnlp_explore\u001b[0m\u001b[0;34m[\u001b[0m\u001b[0mnlp_explore\u001b[0m\u001b[0;34m.\u001b[0m\u001b[0malleged_threat_lvl\u001b[0m \u001b[0;34m==\u001b[0m \u001b[0;36m1.0\u001b[0m\u001b[0;34m]\u001b[0m\u001b[0;34m.\u001b[0m\u001b[0mdescription_of_circumstances\u001b[0m\u001b[0;34m)\u001b[0m\u001b[0;34m)\u001b[0m\u001b[0;34m\u001b[0m\u001b[0;34m\u001b[0m\u001b[0m\n\u001b[0m\u001b[1;32m      5\u001b[0m \u001b[0;34m\u001b[0m\u001b[0m\n\u001b[1;32m      6\u001b[0m \u001b[0;31m#words that appear in non-attacks\u001b[0m\u001b[0;34m\u001b[0m\u001b[0;34m\u001b[0m\u001b[0;34m\u001b[0m\u001b[0m\n",
      "\u001b[0;32m<ipython-input-26-a9ad60a305a0>\u001b[0m in \u001b[0;36mclean\u001b[0;34m(text)\u001b[0m\n\u001b[1;32m      8\u001b[0m     \u001b[0;31m#lemmatize\u001b[0m\u001b[0;34m\u001b[0m\u001b[0;34m\u001b[0m\u001b[0;34m\u001b[0m\u001b[0m\n\u001b[1;32m      9\u001b[0m     \u001b[0mwnl\u001b[0m \u001b[0;34m=\u001b[0m \u001b[0mnltk\u001b[0m\u001b[0;34m.\u001b[0m\u001b[0mstem\u001b[0m\u001b[0;34m.\u001b[0m\u001b[0mWordNetLemmatizer\u001b[0m\u001b[0;34m(\u001b[0m\u001b[0;34m)\u001b[0m\u001b[0;34m\u001b[0m\u001b[0;34m\u001b[0m\u001b[0m\n\u001b[0;32m---> 10\u001b[0;31m     \u001b[0mstopwords\u001b[0m \u001b[0;34m=\u001b[0m \u001b[0mnltk\u001b[0m\u001b[0;34m.\u001b[0m\u001b[0mcorpus\u001b[0m\u001b[0;34m.\u001b[0m\u001b[0mstopwords\u001b[0m\u001b[0;34m.\u001b[0m\u001b[0mwords\u001b[0m\u001b[0;34m(\u001b[0m\u001b[0;34m'english'\u001b[0m\u001b[0;34m)\u001b[0m \u001b[0;34m+\u001b[0m \u001b[0mADDITIONAL_STOPWORDS\u001b[0m\u001b[0;34m\u001b[0m\u001b[0;34m\u001b[0m\u001b[0m\n\u001b[0m\u001b[1;32m     11\u001b[0m \u001b[0;34m\u001b[0m\u001b[0m\n\u001b[1;32m     12\u001b[0m     \u001b[0;31m#normalize\u001b[0m\u001b[0;34m\u001b[0m\u001b[0;34m\u001b[0m\u001b[0;34m\u001b[0m\u001b[0m\n",
      "\u001b[0;32m/shared-libs/python3.7/py/lib/python3.7/site-packages/nltk/corpus/util.py\u001b[0m in \u001b[0;36m__getattr__\u001b[0;34m(self, attr)\u001b[0m\n\u001b[1;32m    118\u001b[0m             \u001b[0;32mraise\u001b[0m \u001b[0mAttributeError\u001b[0m\u001b[0;34m(\u001b[0m\u001b[0;34m\"LazyCorpusLoader object has no attribute '__bases__'\"\u001b[0m\u001b[0;34m)\u001b[0m\u001b[0;34m\u001b[0m\u001b[0;34m\u001b[0m\u001b[0m\n\u001b[1;32m    119\u001b[0m \u001b[0;34m\u001b[0m\u001b[0m\n\u001b[0;32m--> 120\u001b[0;31m         \u001b[0mself\u001b[0m\u001b[0;34m.\u001b[0m\u001b[0m__load\u001b[0m\u001b[0;34m(\u001b[0m\u001b[0;34m)\u001b[0m\u001b[0;34m\u001b[0m\u001b[0;34m\u001b[0m\u001b[0m\n\u001b[0m\u001b[1;32m    121\u001b[0m         \u001b[0;31m# This looks circular, but its not, since __load() changes our\u001b[0m\u001b[0;34m\u001b[0m\u001b[0;34m\u001b[0m\u001b[0;34m\u001b[0m\u001b[0m\n\u001b[1;32m    122\u001b[0m         \u001b[0;31m# __class__ to something new:\u001b[0m\u001b[0;34m\u001b[0m\u001b[0;34m\u001b[0m\u001b[0;34m\u001b[0m\u001b[0m\n",
      "\u001b[0;32m/shared-libs/python3.7/py/lib/python3.7/site-packages/nltk/corpus/util.py\u001b[0m in \u001b[0;36m__load\u001b[0;34m(self)\u001b[0m\n\u001b[1;32m     83\u001b[0m                     \u001b[0mroot\u001b[0m \u001b[0;34m=\u001b[0m \u001b[0mnltk\u001b[0m\u001b[0;34m.\u001b[0m\u001b[0mdata\u001b[0m\u001b[0;34m.\u001b[0m\u001b[0mfind\u001b[0m\u001b[0;34m(\u001b[0m\u001b[0;34m\"{}/{}\"\u001b[0m\u001b[0;34m.\u001b[0m\u001b[0mformat\u001b[0m\u001b[0;34m(\u001b[0m\u001b[0mself\u001b[0m\u001b[0;34m.\u001b[0m\u001b[0msubdir\u001b[0m\u001b[0;34m,\u001b[0m \u001b[0mzip_name\u001b[0m\u001b[0;34m)\u001b[0m\u001b[0;34m)\u001b[0m\u001b[0;34m\u001b[0m\u001b[0;34m\u001b[0m\u001b[0m\n\u001b[1;32m     84\u001b[0m                 \u001b[0;32mexcept\u001b[0m \u001b[0mLookupError\u001b[0m\u001b[0;34m:\u001b[0m\u001b[0;34m\u001b[0m\u001b[0;34m\u001b[0m\u001b[0m\n\u001b[0;32m---> 85\u001b[0;31m                     \u001b[0;32mraise\u001b[0m \u001b[0me\u001b[0m\u001b[0;34m\u001b[0m\u001b[0;34m\u001b[0m\u001b[0m\n\u001b[0m\u001b[1;32m     86\u001b[0m \u001b[0;34m\u001b[0m\u001b[0m\n\u001b[1;32m     87\u001b[0m         \u001b[0;31m# Load the corpus.\u001b[0m\u001b[0;34m\u001b[0m\u001b[0;34m\u001b[0m\u001b[0;34m\u001b[0m\u001b[0m\n",
      "\u001b[0;32m/shared-libs/python3.7/py/lib/python3.7/site-packages/nltk/corpus/util.py\u001b[0m in \u001b[0;36m__load\u001b[0;34m(self)\u001b[0m\n\u001b[1;32m     78\u001b[0m         \u001b[0;32melse\u001b[0m\u001b[0;34m:\u001b[0m\u001b[0;34m\u001b[0m\u001b[0;34m\u001b[0m\u001b[0m\n\u001b[1;32m     79\u001b[0m             \u001b[0;32mtry\u001b[0m\u001b[0;34m:\u001b[0m\u001b[0;34m\u001b[0m\u001b[0;34m\u001b[0m\u001b[0m\n\u001b[0;32m---> 80\u001b[0;31m                 \u001b[0mroot\u001b[0m \u001b[0;34m=\u001b[0m \u001b[0mnltk\u001b[0m\u001b[0;34m.\u001b[0m\u001b[0mdata\u001b[0m\u001b[0;34m.\u001b[0m\u001b[0mfind\u001b[0m\u001b[0;34m(\u001b[0m\u001b[0;34m\"{}/{}\"\u001b[0m\u001b[0;34m.\u001b[0m\u001b[0mformat\u001b[0m\u001b[0;34m(\u001b[0m\u001b[0mself\u001b[0m\u001b[0;34m.\u001b[0m\u001b[0msubdir\u001b[0m\u001b[0;34m,\u001b[0m \u001b[0mself\u001b[0m\u001b[0;34m.\u001b[0m\u001b[0m__name\u001b[0m\u001b[0;34m)\u001b[0m\u001b[0;34m)\u001b[0m\u001b[0;34m\u001b[0m\u001b[0;34m\u001b[0m\u001b[0m\n\u001b[0m\u001b[1;32m     81\u001b[0m             \u001b[0;32mexcept\u001b[0m \u001b[0mLookupError\u001b[0m \u001b[0;32mas\u001b[0m \u001b[0me\u001b[0m\u001b[0;34m:\u001b[0m\u001b[0;34m\u001b[0m\u001b[0;34m\u001b[0m\u001b[0m\n\u001b[1;32m     82\u001b[0m                 \u001b[0;32mtry\u001b[0m\u001b[0;34m:\u001b[0m\u001b[0;34m\u001b[0m\u001b[0;34m\u001b[0m\u001b[0m\n",
      "\u001b[0;32m/shared-libs/python3.7/py/lib/python3.7/site-packages/nltk/data.py\u001b[0m in \u001b[0;36mfind\u001b[0;34m(resource_name, paths)\u001b[0m\n\u001b[1;32m    581\u001b[0m     \u001b[0msep\u001b[0m \u001b[0;34m=\u001b[0m \u001b[0;34m\"*\"\u001b[0m \u001b[0;34m*\u001b[0m \u001b[0;36m70\u001b[0m\u001b[0;34m\u001b[0m\u001b[0;34m\u001b[0m\u001b[0m\n\u001b[1;32m    582\u001b[0m     \u001b[0mresource_not_found\u001b[0m \u001b[0;34m=\u001b[0m \u001b[0;34m\"\\n%s\\n%s\\n%s\\n\"\u001b[0m \u001b[0;34m%\u001b[0m \u001b[0;34m(\u001b[0m\u001b[0msep\u001b[0m\u001b[0;34m,\u001b[0m \u001b[0mmsg\u001b[0m\u001b[0;34m,\u001b[0m \u001b[0msep\u001b[0m\u001b[0;34m)\u001b[0m\u001b[0;34m\u001b[0m\u001b[0;34m\u001b[0m\u001b[0m\n\u001b[0;32m--> 583\u001b[0;31m     \u001b[0;32mraise\u001b[0m \u001b[0mLookupError\u001b[0m\u001b[0;34m(\u001b[0m\u001b[0mresource_not_found\u001b[0m\u001b[0;34m)\u001b[0m\u001b[0;34m\u001b[0m\u001b[0;34m\u001b[0m\u001b[0m\n\u001b[0m\u001b[1;32m    584\u001b[0m \u001b[0;34m\u001b[0m\u001b[0m\n\u001b[1;32m    585\u001b[0m \u001b[0;34m\u001b[0m\u001b[0m\n",
      "\u001b[0;31mLookupError\u001b[0m: \n**********************************************************************\n  Resource \u001b[93mstopwords\u001b[0m not found.\n  Please use the NLTK Downloader to obtain the resource:\n\n  \u001b[31m>>> import nltk\n  >>> nltk.download('stopwords')\n  \u001b[0m\n  For more information see: https://www.nltk.org/data.html\n\n  Attempted to load \u001b[93mcorpora/stopwords\u001b[0m\n\n  Searched in:\n    - '/root/nltk_data'\n    - '/usr/local/nltk_data'\n    - '/usr/local/share/nltk_data'\n    - '/usr/local/lib/nltk_data'\n    - '/usr/share/nltk_data'\n    - '/usr/local/share/nltk_data'\n    - '/usr/lib/nltk_data'\n    - '/usr/local/lib/nltk_data'\n**********************************************************************\n"
     ]
    }
   ],
   "execution_count": null
  },
  {
   "cell_type": "code",
   "metadata": {
    "cell_id": "00038-b5715e4b-c619-4661-a6a2-3d3ff740074a",
    "deepnote_to_be_reexecuted": true,
    "source_hash": "9d598c7e",
    "deepnote_cell_type": "code"
   },
   "source": "#check how often each of the words occurs\nattack_freq = pd.Series(attack_words.split()).value_counts()\nnonattack_freq = pd.Series(nonattack_words.split()).value_counts()\nall_freq = pd.Series(all_words.split()).value_counts()\n\nprint('attack:')\nprint(attack_freq)\nprint('--------------------------')\nprint('nonattack:')\nprint(nonattack_freq)\nprint('--------------------------')\nprint('All:')\nprint(all_freq)",
   "execution_count": null,
   "outputs": [
    {
     "name": "stdout",
     "output_type": "stream",
     "text": "attack:\nofficer     3182\npolice      2917\nshot        2533\nkilled      1802\ndeputy      1308\n            ... \nbandon         1\nsamara         1\nhammond        1\nunused         1\neviction       1\nLength: 6888, dtype: int64\n--------------------------\nnonattack:\nofficer        1448\npolice         1364\nshot           1076\nkilled          879\nman             664\n               ... \n200               1\nhumberto          1\nminniefield       1\ngap               1\nwrongdoing        1\nLength: 4600, dtype: int64\n--------------------------\nAll:\nofficer       4630\npolice        4281\nshot          3609\nkilled        2681\nman           1926\n              ... \nmillimeter       1\nlapds            1\nracetrac         1\nrally            1\nweighed          1\nLength: 8729, dtype: int64\n"
    }
   ]
  },
  {
   "cell_type": "code",
   "metadata": {
    "cell_id": "00039-f74c3424-da5f-4c52-a225-5514a5359666",
    "deepnote_to_be_reexecuted": true,
    "source_hash": "78c4366a",
    "deepnote_cell_type": "code"
   },
   "source": "#combine frequencies together to get one resulting df\nword_counts = (pd.concat([all_freq, \n                          attack_freq, \n                          nonattack_freq], axis=1, sort=True)\n                .set_axis(['All', \n                           'attack', \n                           'nonattack'], axis=1, inplace=False)\n                .fillna(0)\n                .apply(lambda s: s.astype(int)))\n\nword_counts.info()",
   "execution_count": null,
   "outputs": [
    {
     "name": "stdout",
     "output_type": "stream",
     "text": "<class 'pandas.core.frame.DataFrame'>\nIndex: 8729 entries, 1 to zyon\nData columns (total 3 columns):\n #   Column     Non-Null Count  Dtype\n---  ------     --------------  -----\n 0   All        8729 non-null   int64\n 1   attack     8729 non-null   int64\n 2   nonattack  8729 non-null   int64\ndtypes: int64(3)\nmemory usage: 272.8+ KB\n"
    }
   ]
  },
  {
   "cell_type": "code",
   "metadata": {
    "scrolled": true,
    "cell_id": "00040-77b4e2db-6336-411b-a53a-42b16c329371",
    "deepnote_to_be_reexecuted": true,
    "source_hash": "93dc828a",
    "deepnote_cell_type": "code"
   },
   "source": "word_counts.head()",
   "execution_count": null,
   "outputs": [
    {
     "data": {
      "text/html": "<div>\n<style scoped>\n    .dataframe tbody tr th:only-of-type {\n        vertical-align: middle;\n    }\n\n    .dataframe tbody tr th {\n        vertical-align: top;\n    }\n\n    .dataframe thead th {\n        text-align: right;\n    }\n</style>\n<table border=\"1\" class=\"dataframe\">\n  <thead>\n    <tr style=\"text-align: right;\">\n      <th></th>\n      <th>All</th>\n      <th>attack</th>\n      <th>nonattack</th>\n    </tr>\n  </thead>\n  <tbody>\n    <tr>\n      <th>1</th>\n      <td>41</td>\n      <td>30</td>\n      <td>11</td>\n    </tr>\n    <tr>\n      <th>10</th>\n      <td>68</td>\n      <td>46</td>\n      <td>22</td>\n    </tr>\n    <tr>\n      <th>100</th>\n      <td>6</td>\n      <td>5</td>\n      <td>1</td>\n    </tr>\n    <tr>\n      <th>1005</th>\n      <td>1</td>\n      <td>0</td>\n      <td>1</td>\n    </tr>\n    <tr>\n      <th>1009</th>\n      <td>1</td>\n      <td>1</td>\n      <td>0</td>\n    </tr>\n  </tbody>\n</table>\n</div>",
      "text/plain": "      All  attack  nonattack\n1      41      30         11\n10     68      46         22\n100     6       5          1\n1005    1       0          1\n1009    1       1          0"
     },
     "execution_count": 36,
     "metadata": {},
     "output_type": "execute_result"
    }
   ]
  },
  {
   "cell_type": "code",
   "metadata": {
    "cell_id": "00041-910dfcfe-482c-42a0-8881-5a78dcbcca1b",
    "deepnote_to_be_reexecuted": true,
    "source_hash": "b623e53d",
    "deepnote_cell_type": "code"
   },
   "source": "",
   "execution_count": null,
   "outputs": []
  },
  {
   "cell_type": "code",
   "metadata": {
    "cell_id": "00042-466f899e-fbd1-48d4-ad6b-0a7891485a0c",
    "deepnote_to_be_reexecuted": true,
    "source_hash": "b623e53d",
    "deepnote_cell_type": "code"
   },
   "source": "",
   "execution_count": null,
   "outputs": []
  },
  {
   "cell_type": "code",
   "metadata": {
    "cell_id": "00043-04ab6945-b92c-436d-bf57-b957357d23ca",
    "deepnote_to_be_reexecuted": true,
    "source_hash": "b623e53d",
    "deepnote_cell_type": "code"
   },
   "source": "",
   "execution_count": null,
   "outputs": []
  },
  {
   "cell_type": "markdown",
   "source": "<a style='text-decoration:none;line-height:16px;display:flex;color:#5B5B62;padding:10px;justify-content:end;' href='https://deepnote.com?utm_source=created-in-deepnote-cell&projectId=258e71fc-cf2b-48c3-8461-70ecd9787aa1' target=\"_blank\">\n<img alt='Created in deepnote.com' style='display:inline;max-height:16px;margin:0px;margin-right:7.5px;' src='data:image/svg+xml;base64,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' > </img>\nCreated in <span style='font-weight:600;margin-left:4px;'>Deepnote</span></a>",
   "metadata": {
    "tags": [],
    "created_in_deepnote_cell": true,
    "deepnote_cell_type": "markdown"
   }
  }
 ],
 "nbformat": 4,
 "nbformat_minor": 2,
 "metadata": {
  "deepnote": {
   "is_reactive": false
  },
  "deepnote_execution_queue": [],
  "deepnote_notebook_id": "70fc0661-25cf-4876-be30-1c5f2a679c08",
  "kernelspec": {
   "display_name": "Python 3",
   "language": "python",
   "name": "python3"
  },
  "language_info": {
   "codemirror_mode": {
    "name": "ipython",
    "version": 3
   },
   "file_extension": ".py",
   "mimetype": "text/x-python",
   "name": "python",
   "nbconvert_exporter": "python",
   "pygments_lexer": "ipython3",
   "version": "3.8.5"
  }
 }
}