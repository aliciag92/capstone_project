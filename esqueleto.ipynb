{
 "cells": [
  {
   "cell_type": "markdown",
   "source": "## Create a \"button\"/link to jump to the top and bottom\n- There is a hidden anchor labeled \"toc\" to anchor to the Table of Contents, or label top to \"jump back to the top\".",
   "metadata": {
    "cell_id": "00000-d2396ebc-1b02-44fb-902a-c38258ebe204",
    "deepnote_cell_type": "markdown"
   }
  },
  {
   "cell_type": "markdown",
   "source": "<a id='toc'></a>\n\n[Jump to the bottom of Repo](#bottom)",
   "metadata": {
    "cell_id": "00001-5349fd3c-6b5f-416a-b145-cc98d70b868d",
    "deepnote_cell_type": "markdown"
   }
  },
  {
   "cell_type": "markdown",
   "source": "**I have repeated this process at the bottom to anchor the bottom of my NB.**\n\n[Jump to the bottom of Repo](#bottom)",
   "metadata": {
    "cell_id": "00002-35e8aa1a-7348-40ff-a1e5-63f396c85267",
    "deepnote_cell_type": "markdown"
   }
  },
  {
   "cell_type": "markdown",
   "source": "___\n\n## Workflow\n\n1. [Imports](#imports)\n1. [Acquire Data](#acquire-data)\n1. [Clean, Prep & Split Data](#clean-prep-and-split-data)\n1. [Explore Data](#explore-data)\n    - [Hypothesis Testing](#hypothesis-testing)\n1. [Feature Importance](#feature-importance)\n1. [Modeling](#modeling)\n    - [Identify Baseline](#identify-baseline)\n    - [Model on Train](#model-on-train)\n    - [Model on Validate](#model-on-validate)\n    - [Model on Test](#model-on-test)\n  \n7. [Drivers](#drivers)\n\n8. [Conclusion](#conclusion)\n",
   "metadata": {
    "cell_id": "00003-e0f37e36-9f2b-4131-8d2c-7330779ac686",
    "deepnote_cell_type": "markdown"
   }
  },
  {
   "cell_type": "markdown",
   "source": "___\n# <a name=\"imports\"></a>Imports \nImport all necessary libraries and functions. ",
   "metadata": {
    "cell_id": "00004-d6c6f834-4040-4de6-b7f8-7ee78876af9c",
    "deepnote_cell_type": "markdown"
   }
  },
  {
   "cell_type": "code",
   "metadata": {
    "cell_id": "00005-f60bd36e-5d51-4b99-8f1e-47a9084542a1",
    "deepnote_cell_type": "code"
   },
   "source": "",
   "execution_count": null,
   "outputs": []
  },
  {
   "cell_type": "markdown",
   "source": " [Jump to Table of Contents](#toc)\n___\n# <a name=\"acquire-data\"></a>2. Acquire Data\n#### Reads in  `Austin_Animal_Center_Intakes.csv` & `Austin_Animal_Center_Outcomes.csv` data from your local file using the `get_aac()` function in [`wrangle.py`](wrangle.py)",
   "metadata": {
    "cell_id": "00006-99c4e3ef-6c56-4cdf-8e75-6c4abe7af05c",
    "deepnote_cell_type": "markdown"
   }
  },
  {
   "cell_type": "code",
   "metadata": {
    "cell_id": "00007-e4677d5b-104a-4fb9-bcfd-bc13dfb5c8d8",
    "deepnote_cell_type": "code"
   },
   "source": "",
   "execution_count": null,
   "outputs": []
  },
  {
   "cell_type": "markdown",
   "source": " [Jump to Table of Contents](#toc)\n___\n# <a name=\"clean-prep-and-split-data\"></a>3. Clean, Prep and Split Data\nUsing two functions located in `wrangle.py` file:\n- [`clean_aac()`](wrangle.py)\n- [`split_df()`](wrangle.py)\n\nI will perform the cleaning, prepping and splitting of my data:",
   "metadata": {
    "cell_id": "00008-2d700adc-e02b-40a6-88af-a5d55690a3e0",
    "deepnote_cell_type": "markdown"
   }
  },
  {
   "cell_type": "code",
   "metadata": {
    "cell_id": "00009-3b001fc1-ec95-4210-bda5-4b3f3c9f4043",
    "deepnote_cell_type": "code"
   },
   "source": "",
   "execution_count": null,
   "outputs": []
  },
  {
   "cell_type": "markdown",
   "source": " [Jump to Table of Contents](#toc)\n___\n# <a name=\"explore-data\"></a>4. Explore Data",
   "metadata": {
    "cell_id": "00010-fcf9a46f-bbe5-4bba-a8f8-518bd3572c76",
    "deepnote_cell_type": "markdown"
   }
  },
  {
   "cell_type": "code",
   "metadata": {
    "cell_id": "00011-7b8a2a7e-2190-4b0d-a1db-29f9a46cfa02",
    "deepnote_cell_type": "code"
   },
   "source": "",
   "execution_count": null,
   "outputs": []
  },
  {
   "cell_type": "markdown",
   "source": " [Jump to Table of Contents](#toc)\n___\n\n# <a name=\"hypothesis-testing\"></a>• Hypothesis Testing",
   "metadata": {
    "cell_id": "00012-f68933c8-5d48-413c-9ee1-1bfe5970f9d8",
    "deepnote_cell_type": "markdown"
   }
  },
  {
   "cell_type": "code",
   "metadata": {
    "cell_id": "00013-42de74b9-175d-47dc-a2eb-8fb383d94e20",
    "deepnote_cell_type": "code"
   },
   "source": "",
   "execution_count": null,
   "outputs": []
  },
  {
   "cell_type": "markdown",
   "source": " [Jump to Table of Contents](#toc)\n___\n# <a name=\"feature-importance\"></a>5. Feature Importance",
   "metadata": {
    "cell_id": "00014-947087a9-87c9-46ea-8ddf-c0d8819c38bc",
    "deepnote_cell_type": "markdown"
   }
  },
  {
   "cell_type": "code",
   "metadata": {
    "cell_id": "00015-c18b8ab2-e2af-4bc8-94fb-c7aeac827a01",
    "deepnote_cell_type": "code"
   },
   "source": "",
   "execution_count": null,
   "outputs": []
  },
  {
   "cell_type": "markdown",
   "source": " [Jump to Table of Contents](#toc)\n___\n# <a name=\"modeling\"></a>6. Modeling",
   "metadata": {
    "cell_id": "00016-305d3f2a-e980-48c3-8fe6-d57469080cbf",
    "deepnote_cell_type": "markdown"
   }
  },
  {
   "cell_type": "code",
   "metadata": {
    "cell_id": "00017-d3d75e4b-cd78-4f29-80a9-83ba522b4a0a",
    "deepnote_cell_type": "code"
   },
   "source": "",
   "execution_count": null,
   "outputs": []
  },
  {
   "cell_type": "markdown",
   "source": " [Jump to Table of Contents](#toc)\n___\n# <a name=\"identify-baseline\"></a>• Identify Baseline",
   "metadata": {
    "cell_id": "00018-ae0f7a38-99fe-453e-b137-55529e3df272",
    "deepnote_cell_type": "markdown"
   }
  },
  {
   "cell_type": "code",
   "metadata": {
    "cell_id": "00019-9665012d-f276-43a1-9047-20a3e49459d6",
    "deepnote_cell_type": "code"
   },
   "source": "",
   "execution_count": null,
   "outputs": []
  },
  {
   "cell_type": "markdown",
   "source": " [Jump to Table of Contents](#toc)\n___\n# <a name=\"model-on-train\"></a>• Model on Train",
   "metadata": {
    "cell_id": "00020-69b3dd27-4737-4111-a907-f80920e050f9",
    "deepnote_cell_type": "markdown"
   }
  },
  {
   "cell_type": "code",
   "metadata": {
    "cell_id": "00021-5aa5f2fc-cb3b-4b13-9ad3-c1f90da91b94",
    "deepnote_cell_type": "code"
   },
   "source": "",
   "execution_count": null,
   "outputs": []
  },
  {
   "cell_type": "markdown",
   "source": "[Jump to Table of Contents](#toc)\n___\n# <a name=\"model-on-validate\"></a>• Model on Validate",
   "metadata": {
    "cell_id": "00022-88cefd71-057e-4b08-b12b-680787a87d10",
    "deepnote_cell_type": "markdown"
   }
  },
  {
   "cell_type": "code",
   "metadata": {
    "cell_id": "00023-a0f9be1c-e04a-41ec-8890-d177c6c9d123",
    "deepnote_cell_type": "code"
   },
   "source": "",
   "execution_count": null,
   "outputs": []
  },
  {
   "cell_type": "markdown",
   "source": "[Jump to Table of Contents](#toc)\n___\n# <a name=\"model-on-test\"></a>• Model on Test",
   "metadata": {
    "cell_id": "00024-4c7726d2-48da-4716-9a2d-6339905ca7ca",
    "deepnote_cell_type": "markdown"
   }
  },
  {
   "cell_type": "code",
   "metadata": {
    "cell_id": "00025-881550a2-bc53-493b-8eeb-35a55609097d",
    "deepnote_cell_type": "code"
   },
   "source": "",
   "execution_count": null,
   "outputs": []
  },
  {
   "cell_type": "markdown",
   "source": "[Jump to Table of Contents](#toc)\n___\n# <a name=\"drivers\"></a>12. Drivers",
   "metadata": {
    "cell_id": "00026-ae323065-1b50-4a7a-bc87-800afb795455",
    "deepnote_cell_type": "markdown"
   }
  },
  {
   "cell_type": "code",
   "metadata": {
    "cell_id": "00027-ff268869-571e-4096-b030-d7ecb2c45d82",
    "deepnote_cell_type": "code"
   },
   "source": "",
   "execution_count": null,
   "outputs": []
  },
  {
   "cell_type": "markdown",
   "source": "[Jump to Table of Contents](#toc)\n___\n# <a name=\"conclusion\"></a>13. Conclusion",
   "metadata": {
    "cell_id": "00028-ebaa3c10-e27f-4942-8e1e-37ff0fe163c6",
    "deepnote_cell_type": "markdown"
   }
  },
  {
   "cell_type": "code",
   "metadata": {
    "cell_id": "00029-e11394c4-458c-4849-9d8a-5bcb6cd7ef7c",
    "deepnote_cell_type": "code"
   },
   "source": "",
   "execution_count": null,
   "outputs": []
  },
  {
   "cell_type": "markdown",
   "source": "[Jump to Table of Contents](#toc)\n\n<a id='bottom'></a>",
   "metadata": {
    "cell_id": "00030-0629ed63-a957-46ba-9423-ab5d30139a41",
    "deepnote_cell_type": "markdown"
   }
  },
  {
   "cell_type": "markdown",
   "source": "<a style='text-decoration:none;line-height:16px;display:flex;color:#5B5B62;padding:10px;justify-content:end;' href='https://deepnote.com?utm_source=created-in-deepnote-cell&projectId=258e71fc-cf2b-48c3-8461-70ecd9787aa1' target=\"_blank\">\n<img alt='Created in deepnote.com' style='display:inline;max-height:16px;margin:0px;margin-right:7.5px;' src='data:image/svg+xml;base64,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' > </img>\nCreated in <span style='font-weight:600;margin-left:4px;'>Deepnote</span></a>",
   "metadata": {
    "tags": [],
    "created_in_deepnote_cell": true,
    "deepnote_cell_type": "markdown"
   }
  }
 ],
 "nbformat": 4,
 "nbformat_minor": 4,
 "metadata": {
  "kernelspec": {
   "display_name": "Python 3",
   "language": "python",
   "name": "python3"
  },
  "language_info": {
   "codemirror_mode": {
    "name": "ipython",
    "version": 3
   },
   "file_extension": ".py",
   "mimetype": "text/x-python",
   "name": "python",
   "nbconvert_exporter": "python",
   "pygments_lexer": "ipython3",
   "version": "3.8.5"
  },
  "deepnote_notebook_id": "ab72a779-7212-4fe1-8448-f486ae83551e",
  "deepnote": {},
  "deepnote_execution_queue": []
 }
}