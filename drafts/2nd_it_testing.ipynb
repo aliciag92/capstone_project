{
 "cells": [
  {
   "cell_type": "markdown",
   "metadata": {
    "cell_id": "00000-e0ddc686-6fd8-413a-bd87-fe33afb3016f",
    "deepnote_cell_type": "markdown"
   },
   "source": [
    "# Project Description and Goals\n",
    "\n",
    "Across the United States, there are police altercations that result in deadly outcomes. A great deal of data on the fatal occurrences has been recorded and includes information on fatalities caused by police, whether they were on-duty, off-duty, criminal, line-of-duty, local, federal, intentional, or accidental. For our capstone, we address the issue of police violence that has become a heated topic throughout the country. As a team, we attempt to help law enforcement agencies identify risk factors so they may step in before risk transforms into actual harm. \n",
    "\n",
    "\n",
    "Our project aims to research what attributes surround fatal police-related encounters and to analyze the attributes about these incidents that may be leading to the fatalities. Two open-sourced datasets we acquired:\n",
    "- [Mapping Police Violence](https://mappingpoliceviolence.org/aboutthedata) for our first iteration has gathered over 9000 police killings from January 2013 to May 2021. \n",
    "    - For the first iteration, we’re taking one of these attributes (the threat level of the victim) and building a model around it to predict if the victim is classified as being an attacker or a non-attacker based on the other top attributes in the MPV dataset. \n",
    "    \n",
    "\n",
    "- [Fatal Encounters](https://fatalencounters.org/) for our second iteration has information on over 30,000 records from January 2000 to May 2021.\n",
    "    - For the second iteration, we're doing the same (building a model around the threat level of the victim), but predicting if the victim is classified as threatening, non-threatening, or ambiguous based on the other top attributes in the FE dataset. \n",
    "\n",
    "Our hope is to shed light on changes to be made within law enforcement, help identify what response teams should be more available, and to improve the way emergency teams are responding to altercations across the United States. Is there a way to modify law enforcement trainings and policies to decrease officer-involved incidents. Are we able to improve the safety and outcomes for all people involved, both officers and civilians? The overall goal is to save lives, provide insights, and find recommendations that will be of assistance. \n",
    "\n",
    "### Objectives for this project include:\n",
    "- Identifying the drivers of civilian fatalities. \n",
    "- Documenting the process and analysis throughout the data science pipeline.\n",
    "- Constructing a classification model that can predict what the victim's threat level is, given the features of the dataset.\n",
    "- Deliverables:\n",
    "    - README.md file containing overall project information. \n",
    "    - A well-documented Jupyter notebook detailing the data science pipeline process.\n",
    "    - Python modules that automate the data acquisition, preparation, and exploration process.\n",
    "\n",
    "### Initial Thoughts and Hypotheses:\n",
    "- Armed/unarmed victims?\n",
    "- Fleeing/not fleeing victims? \n",
    "- Did the victim put others in danger?\n",
    "- Is there a mental illness that contributed to the incident? \n",
    "- Is race, gender, age or location influencing alleged threat level?\n",
    "- How does mental illness affect each gender?\n",
    "- Are officers wearing their body cameras and does it make a difference in alleged threat level?\n",
    "- Is there even enough information being documented on the police reports? \n",
    "- Is cause of death and alleged threat level independent of one another?\n",
    "- What are the fatalities by state: % killings vs pop"
   ]
  },
  {
   "cell_type": "markdown",
   "metadata": {
    "cell_id": "00001-3a5e4fbe-b130-4943-9264-9bf1162d4cac",
    "deepnote_cell_type": "markdown"
   },
   "source": [
    "___\n",
    "# Imports \n",
    "Import all necessary libraries and functions. "
   ]
  },
  {
   "cell_type": "code",
   "execution_count": 1,
   "metadata": {
    "cell_id": "00002-5b22c55b-ac77-447e-80c7-a8785e952d14",
    "deepnote_cell_type": "code",
    "deepnote_to_be_reexecuted": false,
    "execution_millis": 1289,
    "execution_start": 1622248951513,
    "source_hash": "cfefdd55"
   },
   "outputs": [],
   "source": [
    "import pandas as pd\n",
    "import numpy as np\n",
    "\n",
    "# Helper Functions\n",
    "import wrangle as w \n",
    "import explore as exp\n",
    "from explore import rfe, split, select_kbest\n",
    "\n",
    "# Visualizations\n",
    "import seaborn as sns\n",
    "import matplotlib.pyplot as plt\n",
    "\n",
    "# Ignore warnings\n",
    "import warnings\n",
    "warnings.filterwarnings(\"ignore\")\n",
    "\n",
    "# Hypothesis tests\n",
    "from scipy import stats\n",
    "from scipy.stats import chi2_contingency\n",
    "from scipy.stats import ttest_1samp\n",
    "from scipy.stats import ttest_ind\n",
    "\n",
    "# Split data\n",
    "from sklearn.model_selection import train_test_split\n",
    "\n",
    "#Feature Engineering\n",
    "from sklearn.feature_selection import SelectKBest, f_regression, chi2\n",
    "from sklearn.feature_selection import RFE\n",
    "\n",
    "# Evaluate models\n",
    "from sklearn.metrics import classification_report\n",
    "from sklearn.metrics import accuracy_score\n",
    "\n",
    "# Create models for classification ML:\n",
    "# Decision Tree  \n",
    "from sklearn.tree import DecisionTreeClassifier\n",
    "from sklearn.tree import export_graphviz\n",
    "\n",
    "# Random Forest\n",
    "from sklearn.ensemble import RandomForestClassifier\n",
    "\n",
    "# K-Nearest Neighbor(KNN)  \n",
    "from sklearn.neighbors import KNeighborsClassifier\n",
    "\n",
    "# Logistic Regression\n",
    "from sklearn.linear_model import LogisticRegression\n",
    "\n",
    "# Evaluate models\n",
    "from sklearn.metrics import confusion_matrix\n",
    "from sklearn.metrics import classification_report\n",
    "from sklearn.metrics import accuracy_score\n",
    "from sklearn.metrics import precision_score\n",
    "from sklearn.metrics import recall_score\n",
    "from sklearn.metrics import f1_score\n",
    "from sklearn.metrics import precision_recall_fscore_support "
   ]
  },
  {
   "cell_type": "markdown",
   "metadata": {
    "cell_id": "00003-e4f0f759-16fc-4ab1-8b1c-2b6db4969a54",
    "deepnote_cell_type": "markdown"
   },
   "source": [
    "\n",
    "___\n",
    "# Acquire Data"
   ]
  },
  {
   "cell_type": "code",
   "execution_count": 2,
   "metadata": {
    "cell_id": "00004-6421d703-bc8b-485d-a164-584375584abd",
    "deepnote_cell_type": "code",
    "deepnote_to_be_reexecuted": false,
    "execution_millis": 48731,
    "execution_start": 1622248952806,
    "source_hash": "eece8c83",
    "tags": []
   },
   "outputs": [
    {
     "data": {
      "text/html": [
       "<div>\n",
       "<style scoped>\n",
       "    .dataframe tbody tr th:only-of-type {\n",
       "        vertical-align: middle;\n",
       "    }\n",
       "\n",
       "    .dataframe tbody tr th {\n",
       "        vertical-align: top;\n",
       "    }\n",
       "\n",
       "    .dataframe thead th {\n",
       "        text-align: right;\n",
       "    }\n",
       "</style>\n",
       "<table border=\"1\" class=\"dataframe\">\n",
       "  <thead>\n",
       "    <tr style=\"text-align: right;\">\n",
       "      <th></th>\n",
       "      <th>Unique ID</th>\n",
       "      <th>Name</th>\n",
       "      <th>Age</th>\n",
       "      <th>Gender</th>\n",
       "      <th>Race</th>\n",
       "      <th>Race with imputations</th>\n",
       "      <th>Imputation probability</th>\n",
       "      <th>URL of image (PLS NO HOTLINKS)</th>\n",
       "      <th>Date of injury resulting in death (month/day/year)</th>\n",
       "      <th>Location of injury (address)</th>\n",
       "      <th>...</th>\n",
       "      <th>Unnamed: 36</th>\n",
       "      <th>Unnamed: 37</th>\n",
       "      <th>Unnamed: 38</th>\n",
       "      <th>Unnamed: 39</th>\n",
       "      <th>Unnamed: 40</th>\n",
       "      <th>Unnamed: 41</th>\n",
       "      <th>Unnamed: 42</th>\n",
       "      <th>Unnamed: 43</th>\n",
       "      <th>Unnamed: 44</th>\n",
       "      <th>Unnamed: 45</th>\n",
       "    </tr>\n",
       "  </thead>\n",
       "  <tbody>\n",
       "    <tr>\n",
       "      <th>0</th>\n",
       "      <td>25746.0</td>\n",
       "      <td>Samuel H. Knapp</td>\n",
       "      <td>17</td>\n",
       "      <td>Male</td>\n",
       "      <td>European-American/White</td>\n",
       "      <td>European-American/White</td>\n",
       "      <td>Not imputed</td>\n",
       "      <td>NaN</td>\n",
       "      <td>2000-01-01</td>\n",
       "      <td>27898-27804 US-101</td>\n",
       "      <td>...</td>\n",
       "      <td>NaN</td>\n",
       "      <td>NaN</td>\n",
       "      <td>NaN</td>\n",
       "      <td>NaN</td>\n",
       "      <td>NaN</td>\n",
       "      <td>NaN</td>\n",
       "      <td>NaN</td>\n",
       "      <td>NaN</td>\n",
       "      <td>NaN</td>\n",
       "      <td>NaN</td>\n",
       "    </tr>\n",
       "    <tr>\n",
       "      <th>1</th>\n",
       "      <td>25747.0</td>\n",
       "      <td>Mark A. Horton</td>\n",
       "      <td>21</td>\n",
       "      <td>Male</td>\n",
       "      <td>African-American/Black</td>\n",
       "      <td>African-American/Black</td>\n",
       "      <td>Not imputed</td>\n",
       "      <td>NaN</td>\n",
       "      <td>2000-01-01</td>\n",
       "      <td>Davison Freeway</td>\n",
       "      <td>...</td>\n",
       "      <td>NaN</td>\n",
       "      <td>NaN</td>\n",
       "      <td>NaN</td>\n",
       "      <td>NaN</td>\n",
       "      <td>NaN</td>\n",
       "      <td>NaN</td>\n",
       "      <td>NaN</td>\n",
       "      <td>NaN</td>\n",
       "      <td>NaN</td>\n",
       "      <td>NaN</td>\n",
       "    </tr>\n",
       "    <tr>\n",
       "      <th>2</th>\n",
       "      <td>25748.0</td>\n",
       "      <td>Phillip A. Blurbridge</td>\n",
       "      <td>19</td>\n",
       "      <td>Male</td>\n",
       "      <td>African-American/Black</td>\n",
       "      <td>African-American/Black</td>\n",
       "      <td>Not imputed</td>\n",
       "      <td>NaN</td>\n",
       "      <td>2000-01-01</td>\n",
       "      <td>Davison Freeway</td>\n",
       "      <td>...</td>\n",
       "      <td>NaN</td>\n",
       "      <td>NaN</td>\n",
       "      <td>NaN</td>\n",
       "      <td>NaN</td>\n",
       "      <td>NaN</td>\n",
       "      <td>NaN</td>\n",
       "      <td>NaN</td>\n",
       "      <td>NaN</td>\n",
       "      <td>NaN</td>\n",
       "      <td>NaN</td>\n",
       "    </tr>\n",
       "    <tr>\n",
       "      <th>3</th>\n",
       "      <td>25749.0</td>\n",
       "      <td>Mark Ortiz</td>\n",
       "      <td>23</td>\n",
       "      <td>Male</td>\n",
       "      <td>Hispanic/Latino</td>\n",
       "      <td>Hispanic/Latino</td>\n",
       "      <td>Not imputed</td>\n",
       "      <td>NaN</td>\n",
       "      <td>2000-01-01</td>\n",
       "      <td>600 W Cherry Ln</td>\n",
       "      <td>...</td>\n",
       "      <td>NaN</td>\n",
       "      <td>NaN</td>\n",
       "      <td>NaN</td>\n",
       "      <td>NaN</td>\n",
       "      <td>NaN</td>\n",
       "      <td>NaN</td>\n",
       "      <td>NaN</td>\n",
       "      <td>NaN</td>\n",
       "      <td>NaN</td>\n",
       "      <td>NaN</td>\n",
       "    </tr>\n",
       "    <tr>\n",
       "      <th>4</th>\n",
       "      <td>1.0</td>\n",
       "      <td>LaTanya Janelle McCoy</td>\n",
       "      <td>24</td>\n",
       "      <td>Female</td>\n",
       "      <td>African-American/Black</td>\n",
       "      <td>African-American/Black</td>\n",
       "      <td>Not imputed</td>\n",
       "      <td>NaN</td>\n",
       "      <td>2000-01-02</td>\n",
       "      <td>5700 block Mack Road</td>\n",
       "      <td>...</td>\n",
       "      <td>NaN</td>\n",
       "      <td>NaN</td>\n",
       "      <td>NaN</td>\n",
       "      <td>NaN</td>\n",
       "      <td>NaN</td>\n",
       "      <td>NaN</td>\n",
       "      <td>NaN</td>\n",
       "      <td>NaN</td>\n",
       "      <td>NaN</td>\n",
       "      <td>NaN</td>\n",
       "    </tr>\n",
       "  </tbody>\n",
       "</table>\n",
       "<p>5 rows × 46 columns</p>\n",
       "</div>"
      ],
      "text/plain": [
       "   Unique ID                   Name Age  Gender                     Race  \\\n",
       "0    25746.0        Samuel H. Knapp  17    Male  European-American/White   \n",
       "1    25747.0         Mark A. Horton  21    Male   African-American/Black   \n",
       "2    25748.0  Phillip A. Blurbridge  19    Male   African-American/Black   \n",
       "3    25749.0             Mark Ortiz  23    Male          Hispanic/Latino   \n",
       "4        1.0  LaTanya Janelle McCoy  24  Female   African-American/Black   \n",
       "\n",
       "     Race with imputations Imputation probability  \\\n",
       "0  European-American/White            Not imputed   \n",
       "1   African-American/Black            Not imputed   \n",
       "2   African-American/Black            Not imputed   \n",
       "3          Hispanic/Latino            Not imputed   \n",
       "4   African-American/Black            Not imputed   \n",
       "\n",
       "  URL of image (PLS NO HOTLINKS)  \\\n",
       "0                            NaN   \n",
       "1                            NaN   \n",
       "2                            NaN   \n",
       "3                            NaN   \n",
       "4                            NaN   \n",
       "\n",
       "  Date of injury resulting in death (month/day/year)  \\\n",
       "0                                         2000-01-01   \n",
       "1                                         2000-01-01   \n",
       "2                                         2000-01-01   \n",
       "3                                         2000-01-01   \n",
       "4                                         2000-01-02   \n",
       "\n",
       "  Location of injury (address)  ... Unnamed: 36 Unnamed: 37  Unnamed: 38  \\\n",
       "0           27898-27804 US-101  ...         NaN         NaN          NaN   \n",
       "1              Davison Freeway  ...         NaN         NaN          NaN   \n",
       "2              Davison Freeway  ...         NaN         NaN          NaN   \n",
       "3              600 W Cherry Ln  ...         NaN         NaN          NaN   \n",
       "4         5700 block Mack Road  ...         NaN         NaN          NaN   \n",
       "\n",
       "  Unnamed: 39 Unnamed: 40 Unnamed: 41  Unnamed: 42 Unnamed: 43 Unnamed: 44  \\\n",
       "0         NaN         NaN         NaN          NaN         NaN         NaN   \n",
       "1         NaN         NaN         NaN          NaN         NaN         NaN   \n",
       "2         NaN         NaN         NaN          NaN         NaN         NaN   \n",
       "3         NaN         NaN         NaN          NaN         NaN         NaN   \n",
       "4         NaN         NaN         NaN          NaN         NaN         NaN   \n",
       "\n",
       "   Unnamed: 45  \n",
       "0          NaN  \n",
       "1          NaN  \n",
       "2          NaN  \n",
       "3          NaN  \n",
       "4          NaN  \n",
       "\n",
       "[5 rows x 46 columns]"
      ]
     },
     "execution_count": 2,
     "metadata": {},
     "output_type": "execute_result"
    }
   ],
   "source": [
    "# reads data from MPV website's downloaded dataset\n",
    "df = pd.read_excel('new_data.xlsx')\n",
    "df.head()"
   ]
  },
  {
   "cell_type": "markdown",
   "metadata": {
    "cell_id": "00005-dfdad0f5-b02c-4c3b-b838-b08a19458a1f",
    "deepnote_cell_type": "markdown",
    "tags": []
   },
   "source": [
    "\n",
    "### Initial Data Summarization"
   ]
  },
  {
   "cell_type": "code",
   "execution_count": 3,
   "metadata": {
    "cell_id": "00006-11c54d14-8811-4e72-bd5c-7473905cfe6b",
    "deepnote_cell_type": "code",
    "deepnote_to_be_reexecuted": false,
    "execution_millis": 9,
    "execution_start": 1622249001528,
    "source_hash": "cbfec6c2",
    "tags": []
   },
   "outputs": [
    {
     "data": {
      "text/plain": [
       "(30244, 46)"
      ]
     },
     "execution_count": 3,
     "metadata": {},
     "output_type": "execute_result"
    }
   ],
   "source": [
    "# rows and columns\n",
    "df.shape"
   ]
  },
  {
   "cell_type": "code",
   "execution_count": 4,
   "metadata": {
    "cell_id": "00007-bd642879-2a66-4321-b608-f2b81b15454a",
    "deepnote_cell_type": "code",
    "deepnote_to_be_reexecuted": false,
    "execution_millis": 58,
    "execution_start": 1622249001529,
    "source_hash": "5451bed5",
    "tags": []
   },
   "outputs": [
    {
     "name": "stdout",
     "output_type": "stream",
     "text": [
      "<class 'pandas.core.frame.DataFrame'>\n",
      "RangeIndex: 30244 entries, 0 to 30243\n",
      "Data columns (total 46 columns):\n",
      " #   Column                                                           Non-Null Count  Dtype         \n",
      "---  ------                                                           --------------  -----         \n",
      " 0   Unique ID                                                        30243 non-null  float64       \n",
      " 1   Name                                                             30244 non-null  object        \n",
      " 2   Age                                                              29121 non-null  object        \n",
      " 3   Gender                                                           30118 non-null  object        \n",
      " 4   Race                                                             30242 non-null  object        \n",
      " 5   Race with imputations                                            29718 non-null  object        \n",
      " 6   Imputation probability                                           29701 non-null  object        \n",
      " 7   URL of image (PLS NO HOTLINKS)                                   13993 non-null  object        \n",
      " 8   Date of injury resulting in death (month/day/year)               30244 non-null  datetime64[ns]\n",
      " 9   Location of injury (address)                                     29699 non-null  object        \n",
      " 10  Location of death (city)                                         30205 non-null  object        \n",
      " 11  State                                                            30243 non-null  object        \n",
      " 12  Location of death (zip code)                                     30060 non-null  float64       \n",
      " 13  Location of death (county)                                       30228 non-null  object        \n",
      " 14  Full Address                                                     30243 non-null  object        \n",
      " 15  Latitude                                                         30243 non-null  object        \n",
      " 16  Longitude                                                        30243 non-null  float64       \n",
      " 17  Agency or agencies involved                                      30168 non-null  object        \n",
      " 18  Highest level of force                                           30241 non-null  object        \n",
      " 19  UID Temporary                                                    2313 non-null   float64       \n",
      " 20  Name Temporary                                                   2313 non-null   object        \n",
      " 21  Armed/Unarmed                                                    13871 non-null  object        \n",
      " 22  Alleged weapon                                                   13869 non-null  object        \n",
      " 23  Aggressive physical movement                                     13872 non-null  object        \n",
      " 24  Fleeing/Not fleeing                                              13872 non-null  object        \n",
      " 25  Description Temp                                                 848 non-null    object        \n",
      " 26  URL Temp                                                         4 non-null      object        \n",
      " 27  Brief description                                                30243 non-null  object        \n",
      " 28  Dispositions/Exclusions INTERNAL USE, NOT FOR ANALYSIS           30242 non-null  object        \n",
      " 29  Intended use of force (Developing)                               30242 non-null  object        \n",
      " 30  Supporting document link                                         17515 non-null  object        \n",
      " 31  Foreknowledge of mental illness? INTERNAL USE, NOT FOR ANALYSIS  30182 non-null  object        \n",
      " 32  Unnamed: 32                                                      0 non-null      float64       \n",
      " 33  Unnamed: 33                                                      1 non-null      float64       \n",
      " 34  Unique ID formula                                                2 non-null      float64       \n",
      " 35  Unique identifier (redundant)                                    30242 non-null  float64       \n",
      " 36  Unnamed: 36                                                      0 non-null      float64       \n",
      " 37  Unnamed: 37                                                      14 non-null     object        \n",
      " 38  Unnamed: 38                                                      14 non-null     float64       \n",
      " 39  Unnamed: 39                                                      14 non-null     object        \n",
      " 40  Unnamed: 40                                                      14 non-null     object        \n",
      " 41  Unnamed: 41                                                      14 non-null     object        \n",
      " 42  Unnamed: 42                                                      14 non-null     object        \n",
      " 43  Unnamed: 43                                                      14 non-null     object        \n",
      " 44  Unnamed: 44                                                      14 non-null     object        \n",
      " 45  Unnamed: 45                                                      14 non-null     object        \n",
      "dtypes: datetime64[ns](1), float64(10), object(35)\n",
      "memory usage: 10.6+ MB\n"
     ]
    }
   ],
   "source": [
    "# list of column names and data types with information\n",
    "df.info()"
   ]
  },
  {
   "cell_type": "code",
   "execution_count": 5,
   "metadata": {
    "cell_id": "00008-887c0028-fbb0-4f51-b749-915db75ea52b",
    "deepnote_cell_type": "code",
    "deepnote_to_be_reexecuted": false,
    "execution_millis": 25,
    "execution_start": 1622249001634,
    "source_hash": "f099b8f5",
    "tags": []
   },
   "outputs": [
    {
     "data": {
      "text/plain": [
       "Unique ID                                                              1\n",
       "Name                                                                   0\n",
       "Age                                                                 1123\n",
       "Gender                                                               126\n",
       "Race                                                                   2\n",
       "Race with imputations                                                526\n",
       "Imputation probability                                               543\n",
       "URL of image (PLS NO HOTLINKS)                                     16251\n",
       "Date of injury resulting in death (month/day/year)                     0\n",
       "Location of injury (address)                                         545\n",
       "Location of death (city)                                              39\n",
       "State                                                                  1\n",
       "Location of death (zip code)                                         184\n",
       "Location of death (county)                                            16\n",
       "Full Address                                                           1\n",
       "Latitude                                                               1\n",
       "Longitude                                                              1\n",
       "Agency or agencies involved                                           76\n",
       "Highest level of force                                                 3\n",
       "UID Temporary                                                      27931\n",
       "Name Temporary                                                     27931\n",
       "Armed/Unarmed                                                      16373\n",
       "Alleged weapon                                                     16375\n",
       "Aggressive physical movement                                       16372\n",
       "Fleeing/Not fleeing                                                16372\n",
       "Description Temp                                                   29396\n",
       "URL Temp                                                           30240\n",
       "Brief description                                                      1\n",
       "Dispositions/Exclusions INTERNAL USE, NOT FOR ANALYSIS                 2\n",
       "Intended use of force (Developing)                                     2\n",
       "Supporting document link                                           12729\n",
       "Foreknowledge of mental illness? INTERNAL USE, NOT FOR ANALYSIS       62\n",
       "Unnamed: 32                                                        30244\n",
       "Unnamed: 33                                                        30243\n",
       "Unique ID formula                                                  30242\n",
       "Unique identifier (redundant)                                          2\n",
       "Unnamed: 36                                                        30244\n",
       "Unnamed: 37                                                        30230\n",
       "Unnamed: 38                                                        30230\n",
       "Unnamed: 39                                                        30230\n",
       "Unnamed: 40                                                        30230\n",
       "Unnamed: 41                                                        30230\n",
       "Unnamed: 42                                                        30230\n",
       "Unnamed: 43                                                        30230\n",
       "Unnamed: 44                                                        30230\n",
       "Unnamed: 45                                                        30230\n",
       "dtype: int64"
      ]
     },
     "execution_count": 5,
     "metadata": {},
     "output_type": "execute_result"
    }
   ],
   "source": [
    "# check nulls\n",
    "df.isnull().sum()"
   ]
  },
  {
   "cell_type": "code",
   "execution_count": 6,
   "metadata": {
    "cell_id": "00009-6bdeb687-21ba-463d-9481-6f1b83b7b31b",
    "deepnote_cell_type": "code",
    "deepnote_to_be_reexecuted": false,
    "execution_millis": 291,
    "execution_start": 1622249001652,
    "source_hash": "593fb024",
    "tags": []
   },
   "outputs": [
    {
     "name": "stdout",
     "output_type": "stream",
     "text": [
      "UNIQUE ID\n",
      "19975.0    1\n",
      "11158.0    1\n",
      "6403.0     1\n",
      "29149.0    1\n",
      "10155.0    1\n",
      "          ..\n",
      "24192.0    1\n",
      "1616.0     1\n",
      "23728.0    1\n",
      "1968.0     1\n",
      "1.0        1\n",
      "Name: Unique ID, Length: 30243, dtype: int64\n",
      "-------------------------------------\n",
      "NAME\n",
      "Name withheld by police    1269\n",
      "John Doe 1                    5\n",
      "Michael Johnson               5\n",
      "John Doe 2                    5\n",
      "Robert Brown                  4\n",
      "                           ... \n",
      "Dominique Mulkey              1\n",
      "Jonathan Myron Stokes         1\n",
      "Patricia Thompson             1\n",
      "John Clune                    1\n",
      "Dakota G. Richards            1\n",
      "Name: Name, Length: 28733, dtype: int64\n",
      "-------------------------------------\n",
      "AGE\n",
      "22      912\n",
      "25      895\n",
      "24      862\n",
      "21      848\n",
      "27      848\n",
      "       ... \n",
      "81        1\n",
      "80        1\n",
      "77        1\n",
      "76        1\n",
      "0.25      1\n",
      "Name: Age, Length: 195, dtype: int64\n",
      "-------------------------------------\n",
      "GENDER\n",
      "Male           27200\n",
      "Female          2898\n",
      "Transgender       20\n",
      "Name: Gender, dtype: int64\n",
      "-------------------------------------\n",
      "RACE\n",
      "European-American/White    10148\n",
      "Race unspecified            8500\n",
      "African-American/Black      6732\n",
      "Hispanic/Latino             4030\n",
      "Asian/Pacific Islander       468\n",
      "Native American/Alaskan      313\n",
      "Middle Eastern                50\n",
      "european-American/White        1\n",
      "Name: Race, dtype: int64\n",
      "-------------------------------------\n",
      "RACE WITH IMPUTATIONS\n",
      "European-American/White    14258\n",
      "African-American/Black      8281\n",
      "Hispanic/Latino             4960\n",
      "Race unspecified            1292\n",
      "Asian/Pacific Islander       561\n",
      "Native American/Alaskan      313\n",
      "Middle Eastern                50\n",
      "HIspanic/Latino                2\n",
      "european-American/White        1\n",
      "Name: Race with imputations, dtype: int64\n",
      "-------------------------------------\n",
      "IMPUTATION PROBABILITY\n",
      "Not imputed            21661\n",
      "Race not determined     1276\n",
      "race not determined       19\n",
      "1                         15\n",
      "0.931634986                4\n",
      "                       ...  \n",
      "0.932295118                1\n",
      "0.80524291                 1\n",
      "0.504473936                1\n",
      "0.546396383                1\n",
      "0.728707                   1\n",
      "Name: Imputation probability, Length: 6666, dtype: int64\n",
      "-------------------------------------\n",
      "URL OF IMAGE (PLS NO HOTLINKS)\n",
      "https://www.fatalencounters.org/wp-content/uploads/2018/12/Kyleigh-Austin-and-Hunter-Radar-9-22-2007.jpg    3\n",
      "http://photos1.blogger.com/blogger/282/183/1600/CA%20Chase14_Paige10_and_Rayne8_McGowan_killed.jpg          3\n",
      "http://castle.eiu.edu/media/images/2009/anusha-priya-anitha.jpg                                             3\n",
      "http://pursuitsafety.org/images/4_killed_philly.jpg                                                         3\n",
      "https://fatalencounters.org/wp-content/uploads/2020/07/David-Schwalm.jpg                                    2\n",
      "                                                                                                           ..\n",
      "https://www.fatalencounters.org/wp-content/uploads/2013/10/Stephen-K.-Reinholz.jpg                          1\n",
      "http://the.honoluluadvertiser.com/dailypix/2005/May/18/localnews9.jpg                                       1\n",
      "https://www.fatalencounters.org/wp-content/uploads/2018/12/10-16-2015-Johnny-Rangel.png                     1\n",
      "https://www.fatalencounters.org/wp-content/uploads/2013/10/Bruce-Neil-Thompson.jpg                          1\n",
      "https://www.fatalencounters.org/wp-content/uploads/2013/10/NathanielRowe.jpg                                1\n",
      "Name: URL of image (PLS NO HOTLINKS), Length: 13935, dtype: int64\n",
      "-------------------------------------\n",
      "DATE OF INJURY RESULTING IN DEATH (MONTH/DAY/YEAR)\n",
      "2003-02-19    23\n",
      "2021-03-18    15\n",
      "2020-06-25    15\n",
      "2020-05-03    15\n",
      "2020-09-18    15\n",
      "              ..\n",
      "2011-02-23     1\n",
      "2002-01-05     1\n",
      "2007-07-30     1\n",
      "2006-04-17     1\n",
      "2002-09-11     1\n",
      "Name: Date of injury resulting in death (month/day/year), Length: 7524, dtype: int64\n",
      "-------------------------------------\n",
      "LOCATION OF INJURY (ADDRESS)\n",
      "2347 S. Michigan Ave.              21\n",
      "I-80                               20\n",
      "I-70                               17\n",
      "I-10                               16\n",
      "I-95                               15\n",
      "                                   ..\n",
      "5900 block Dogwood Avenue           1\n",
      "4400 block South Georgia Street     1\n",
      "100 block Glenda Ct                 1\n",
      "305 Brassie Dr.                     1\n",
      "Powerline Road and Glades Road      1\n",
      "Name: Location of injury (address), Length: 27736, dtype: int64\n",
      "-------------------------------------\n",
      "LOCATION OF DEATH (CITY)\n",
      "Houston          472\n",
      "Chicago          463\n",
      "Los Angeles      417\n",
      "Phoenix          269\n",
      "San Antonio      250\n",
      "                ... \n",
      "Four Mile          1\n",
      "Arroyo Grande      1\n",
      "Kaltag             1\n",
      "Schwenksville      1\n",
      "Rainier            1\n",
      "Name: Location of death (city), Length: 6167, dtype: int64\n",
      "-------------------------------------\n",
      "STATE\n",
      "CA    4831\n",
      "TX    2690\n",
      "FL    1834\n",
      "GA    1143\n",
      "IL    1091\n",
      "OH     989\n",
      "PA     956\n",
      "MO     912\n",
      "AZ     884\n",
      "MI     874\n",
      "OK     699\n",
      "NY     686\n",
      "AL     672\n",
      "WA     661\n",
      "CO     659\n",
      "TN     656\n",
      "NC     641\n",
      "LA     632\n",
      "VA     624\n",
      "SC     593\n",
      "IN     580\n",
      "MD     534\n",
      "NJ     526\n",
      "WI     455\n",
      "MS     423\n",
      "NM     418\n",
      "KS     410\n",
      "KY     409\n",
      "NV     400\n",
      "AR     372\n",
      "MN     346\n",
      "OR     343\n",
      "IA     280\n",
      "UT     252\n",
      "NE     204\n",
      "MA     202\n",
      "WV     183\n",
      "ID     151\n",
      "CT     142\n",
      "AK     124\n",
      "HI     111\n",
      "MT     109\n",
      "ME     102\n",
      "DC      87\n",
      "DE      62\n",
      "NH      62\n",
      "WY      61\n",
      "SD      59\n",
      "VT      40\n",
      "ND      39\n",
      "RI      30\n",
      "Name: State, dtype: int64\n",
      "-------------------------------------\n",
      "LOCATION OF DEATH (ZIP CODE)\n",
      "60620.0    34\n",
      "60628.0    33\n",
      "60616.0    32\n",
      "93307.0    28\n",
      "90221.0    25\n",
      "           ..\n",
      "16214.0     1\n",
      "70725.0     1\n",
      "50129.0     1\n",
      "75143.0     1\n",
      "30805.0     1\n",
      "Name: Location of death (zip code), Length: 10809, dtype: int64\n",
      "-------------------------------------\n",
      "LOCATION OF DEATH (COUNTY)\n",
      "Los Angeles         1286\n",
      "Cook                 628\n",
      "Harris               588\n",
      "Maricopa             503\n",
      "Orange               458\n",
      "                    ... \n",
      "Augusta-Richmond       1\n",
      "Windsor                1\n",
      "Carson                 1\n",
      "Piscataquis            1\n",
      "LaGrange               1\n",
      "Name: Location of death (county), Length: 1511, dtype: int64\n",
      "-------------------------------------\n",
      "FULL ADDRESS\n",
      "2347 S. Michigan Ave. Chicago IL 60616 Cook                      21\n",
      "4800 W Expy 83 Palmview TX 78572 Hidalgo                          9\n",
      "US Hwy 277 Del Rio TX 78840 Val Verde                             8\n",
      "11980 Avenue 424 Orosi CA 93647 Tulare                            8\n",
      "701 W Paisano Dr El Paso TX 79901 El Paso                         7\n",
      "                                                                 ..\n",
      "500 block E. Loudon Street Philadelphia PA 19120 Philadelphia     1\n",
      "16098 East Ithaca Place Aurora CO 80013 Arapahoe                  1\n",
      "4200 block Beethoven Ave St. Louis MO 63116 St. Louis City        1\n",
      "75 Printers Parkway Colorado Springs CO 80910 El Paso             1\n",
      "2769 Northland Plaza Dr. Columbus OH 43231 Franklin               1\n",
      "Name: Full Address, Length: 28509, dtype: int64\n",
      "-------------------------------------\n",
      "LATITUDE\n",
      "41.8496116    21\n",
      "26.2351813     9\n",
      "31.4992001     9\n",
      "29.850105      8\n",
      "36.559671      8\n",
      "              ..\n",
      "38.7982194     1\n",
      "42.09733       1\n",
      "40.461401      1\n",
      "42.9954923     1\n",
      "40.8057404     1\n",
      "Name: Latitude, Length: 28389, dtype: int64\n",
      "-------------------------------------\n",
      "LONGITUDE\n",
      "-87.623715     21\n",
      "-98.382482      9\n",
      "-100.800098     8\n",
      "-119.305304     8\n",
      "-106.494449     7\n",
      "               ..\n",
      "-77.208153      1\n",
      "-117.329673     1\n",
      "-80.846111      1\n",
      "-84.116877      1\n",
      "-97.611028      1\n",
      "Name: Longitude, Length: 28358, dtype: int64\n",
      "-------------------------------------\n",
      "AGENCY OR AGENCIES INVOLVED\n",
      "Los Angeles Police Department                     480\n",
      "Chicago Police Department                         436\n",
      "Los Angeles County Sheriff's Department           369\n",
      "City of New York Police Department                336\n",
      "Houston Police Department                         325\n",
      "                                                 ... \n",
      "Ogden City Police Department                        1\n",
      "Grosse Pointe Park Department of Public Safety      1\n",
      "San Francisco Sheriff's Department                  1\n",
      "Bay Police Department                               1\n",
      "Grand Haven Police Department                       1\n",
      "Name: Agency or agencies involved, Length: 6596, dtype: int64\n",
      "-------------------------------------\n",
      "HIGHEST LEVEL OF FORCE\n",
      "Gunshot                              21359\n",
      "Vehicle                               6326\n",
      "Tasered                                920\n",
      "Medical emergency                      387\n",
      "Asphyxiated/Restrained                 322\n",
      "Drowned                                197\n",
      "Drug overdose                          183\n",
      "Beaten/Bludgeoned with instrument      178\n",
      "Undetermined                           101\n",
      "Fell from a height                      79\n",
      "Other                                   61\n",
      "Stabbed                                 51\n",
      "Burned/Smoke inhalation                 41\n",
      "Chemical agent/Pepper spray             35\n",
      "Restrain/Asphyxiation                    1\n",
      "Name: Highest level of force, dtype: int64\n",
      "-------------------------------------\n",
      "UID TEMPORARY\n",
      "28728.0    1\n",
      "13681.0    1\n",
      "12937.0    1\n",
      "13456.0    1\n",
      "12450.0    1\n",
      "          ..\n",
      "12725.0    1\n",
      "13244.0    1\n",
      "28806.0    1\n",
      "12627.0    1\n",
      "12288.0    1\n",
      "Name: UID Temporary, Length: 2313, dtype: int64\n",
      "-------------------------------------\n",
      "NAME TEMPORARY\n",
      "Name withheld by police    123\n",
      "John Doe 4                   3\n",
      "John Doe 5                   3\n",
      "John Doe 2                   3\n",
      "John Doe 1                   3\n",
      "                          ... \n",
      "Shane David Cataline         1\n",
      "Tyler Damon Woods            1\n",
      "Jason Carbonell              1\n",
      "Raymond Johnson              1\n",
      "Andrew Jackson Carter        1\n",
      "Name: Name Temporary, Length: 2180, dtype: int64\n",
      "-------------------------------------\n",
      "ARMED/UNARMED\n",
      "Armed                  8596\n",
      "Unarmed                4951\n",
      "Uncertain               310\n",
      "None                      5\n",
      "Unarmed                   3\n",
      "Duplicate of 12360        1\n",
      "Duplicate of 13419?       1\n",
      "Gunshot                   1\n",
      "                          1\n",
      "Duplicate of 13457?       1\n",
      "Duplicate of 12398        1\n",
      "Name: Armed/Unarmed, dtype: int64\n",
      "-------------------------------------\n",
      "ALLEGED WEAPON\n",
      "None                         4955\n",
      "Firearm/Handgun              2886\n",
      "Firearm/Gun                  2410\n",
      "Edged weapon/Knife           1178\n",
      "Firearm/Rifle                 546\n",
      "                             ... \n",
      "Edged weapon/Meat cleaver       1\n",
      "Other/Glue gun                  1\n",
      "Other/Penlight                  1\n",
      "Other/Car molding               1\n",
      "Blunt object/Welding gun        1\n",
      "Name: Alleged weapon, Length: 215, dtype: int64\n",
      "-------------------------------------\n",
      "AGGRESSIVE PHYSICAL MOVEMENT\n",
      "None                                          3672\n",
      "Brandished weapon                             2855\n",
      "Used weapon                                   2170\n",
      "Self-inflicted injury                         1684\n",
      "Advanced toward officer(s)                    1086\n",
      "Struggled                                      873\n",
      "Uncertain                                      643\n",
      "Sudden threatening movement                    326\n",
      "None/Police alleged vehicular assault          309\n",
      "Reached to waist                               140\n",
      "Intentional vehicular assault                   54\n",
      "None/Police alleged vehicular assault.          15\n",
      "Advanced upon officer(s)                        15\n",
      "Self-inflicted Injury                            7\n",
      "Uncertain/Police alleged vehicular assault       5\n",
      "Used Weapon                                      4\n",
      "None. Police alleged vehicular assault.          2\n",
      "Edged weapon/Unspecified                         1\n",
      "None/Police allege vehicular assault             1\n",
      "Duplicate of 12398                               1\n",
      "Reached to waist                                 1\n",
      "Duplicate of 13457?                              1\n",
      " Advanced toward officer(s)                      1\n",
      "Police allege vehicular assault                  1\n",
      "None.                                            1\n",
      "                                                 1\n",
      "Duplicate of 13419?                              1\n",
      "Duplicate of 12360                               1\n",
      "Sudden Threatening Movement                      1\n",
      "Name: Aggressive physical movement, dtype: int64\n",
      "-------------------------------------\n",
      "FLEEING/NOT FLEEING\n",
      "Not fleeing                                   8813\n",
      "Fleeing/Vehicle                               3071\n",
      "Fleeing/Foot                                  1543\n",
      "Fleeing/Motorcycle                             266\n",
      "Uncertain                                      137\n",
      "Fleeing/Bicycle                                 16\n",
      "Vehicle                                          7\n",
      "Not Fleeing                                      2\n",
      "None                                             2\n",
      "Vehicle/Fleeing                                  2\n",
      "Duplicate of 12360                               1\n",
      "Duplicate of 13457?                              1\n",
      "Uncertain/Police alleged vehicular assault       1\n",
      "Vehicle/Motorcycle                               1\n",
      "Duplicate of 12398                               1\n",
      "                                                 1\n",
      "Fleeling/Vehicle                                 1\n",
      "Fleeing/Skateboard                               1\n",
      "Fleeing/vehicle                                  1\n",
      "Foot                                             1\n",
      "Fleeing/Veh                                      1\n",
      "Duplicate of 13419?                              1\n",
      "Motorcycle                                       1\n",
      "Name: Fleeing/Not fleeing, dtype: int64\n",
      "-------------------------------------\n",
      "DESCRIPTION TEMP\n",
      "Bryan E. Sweatt, 27, shot and killed Chandra Fields, 26, Richard Allan Fields, 51, Melissa Maroney Fields, 49, Tariq Kenyon Robinson, 11, and William Asa Robinson, 9, during a standoff with deputies from the Greenwood County Sheriff's Office. It's possible one of these deaths occurred before deputies arrived.                                                                                                                                                     6\n",
      "A man in a stolen truck chased at a very high rate of speed by a Texas Highway Patrol sergeant smashed into a Chevy Suburban and killed six family members. Dead: father Jose Luis Ortiz, mother Olga Lidia Morales-Cardoza, and children Elias Ortiz, Fernanda Ortiz, Ricardo Ortiz and Jose Ortiz, ranging in age from 1 to 6. One 3-year-old survived with injuries.                                                                                                    6\n",
      "Armando Ivan Palomares-Castro, 36, was allegedly fleeing a police stop for border smuggling, killing five unidentified and undocumented immigrants upon crashing.                                                                                                                                                                                                                                                                                                          5\n",
      "Manuel Rendon-Lucas, 17, was allegedly fleeing a police stop for speeding, killing five unidentified people upon crashing.                                                                                                                                                                                                                                                                                                                                                 4\n",
      "Four people in two vehicles died in the collision of a grey Chevrolet Monte Carlo, driven by Stacy Garcia Gray, and a red sedan being chased by police, containing Shawnice Osborne, Larry Gilmore, and an unidentified third person. For two miles the sedan had fled officers after a shots-fired call and an attempted traffic stop. The crash and resulting fire was so intense that the make and model of the sedan was unclear.                                      4\n",
      "                                                                                                                                                                                                                                                                                                                                                                                                                                                                          ..\n",
      "Jenna Sammons, 21, was recuperating from an alleged attack by Threets and he reportedly returned to her home, shot her and killed Tristan Hart, 27. Police responded and reportedly \"found and killed him\" in a nearby garage.                                                                                                                                                                                                                                             1\n",
      "Khalid Bouaiti, a mentally ill man, was shot and killed by a Jersey City police officer when he allegedly charged the officer with a knife. Bouaiti had shut himself in his apartment after speaking with a therapist from Jersey City Medical Center. Officers forced their way into his home, and alleged that he attacked one of them with a knife. The officer fired several shots from his handgun, and Bouaiti was pronounced dead at Jersey City Medical Center.    1\n",
      "Munoz, suspected of murdering a woman and wounding a man in Ridgecrest, was shot and killed by seven police officers during a car chase in the Mojave Desert. He fired on vehicles and held hostages in his car. The hostages were flown to a hospital in critical condition after being shot by Munoz.                                                                                                                                                                    1\n",
      "Officers responding to a 911 call about a dead woman found 53-year-old James Garcia, who they say came out of the home and started shooting. Police say they returned fire, killing Garcia.                                                                                                                                                                                                                                                                                1\n",
      "Seth W. O'Donnell was well known to police for prior assaults. State troopers were called to a grocery store for O'Donnell's disturbing behavior and attempted to Taser him into submission. After assaulting and wounding a trooper with a pair of scissors, he was shot multiple times, ran out the front door, and collapsed in the parking lot.                                                                                                                        1\n",
      "Name: Description Temp, Length: 782, dtype: int64\n",
      "-------------------------------------\n",
      "URL TEMP\n",
      "https://drive.google.com/file/d/17NBpDGXWoPW1zURFq9geWwQquVs2U-VK/view?usp=sharing                1\n",
      "http://www.chron.com/news/article/SWAT-team-fatally-shoots-suspect-during-scene-at-4841867.php    1\n",
      "https://www.abqjournal.com/808551/da-clears-officers-in-2013-shooting.html                        1\n",
      "http://www.lapdonline.org/newsroom/news_view/54498                                                1\n",
      "Name: URL Temp, dtype: int64\n",
      "-------------------------------------\n",
      "BRIEF DESCRIPTION\n",
      "On February 19, 2003, 21 people were killed and more than 50 people were injured during a stampede at the E2 nightclub after off-duty auxiliary officer Samuel Bone, who was working as private security that night. sprayed mace to break up a fight. The doors to the club were locked as people pushed their way to the exits. Berwyn auxiliary police officer reportedly worked security there regularly, but claimed he had just come to sell a flashlight to another guard when he got caught up in the stampede. A lawsuit alleged that Pellot ran an unlicensed company, Team 1 Security, that was on duty at the club. Chicago PD also opened an internal investigation into whether their officer, Donald D. Crayton, was on the club's security staff, which would violating a policy that officers were not allowed to moonlight at establishments that sell alcohol.    21\n",
      "Motorcycle club members, mostly Cossacks and Bandidos who were armed with pistols, bludgeons and knives, attacked each other at a biker rally that was being monitored by police. Officers Andy O'Neal, Michael Bucher and Heath Jackson fired 12 rifle rounds into the crowd, striking four of the nine men who died. Two of the dead were struck only by .223-caliber rifle bullets. Waco Police Department and the Texas Ranger Division investigated.                                                                                                                                                                                                                                                                                                                                                                                                                             9\n",
      "Border Patrol agents stopped a minivan on U.S. 83. A man stepped out of the vehicle and ran. Smuggler Junior Benjamin Rodriguez, 15, sped away and crashed in Palmview. Three women and six men died. One woman may have been pregnant. Seven more were injured. Rodriguez was convicted of nine counts of manslaughter. The dead are not named in English-language media.                                                                                                                                                                                                                                                                                                                                                                                                                                                                                                            9\n",
      "DPS troopers were pursuing a red Dodge pickup truck, and it crashed head-on into a white Ford F-150. Eight undocumented passengers--seven men and one woman--from the Dodge pickup were killed. The driver and a child passenger from the Ford pickup and one undocumented passenger from the Dodge pickup were transported to a hospital in San Antonio. The alleged driver of the red pickup truck tried to leave but was apprehended. Sebastian Tovar, 24, of Austin, was charged with \"transporting illegal aliens resulting in death.\"                                                                                                                                                                                                                                                                                                                                           8\n",
      "A car stolen at knifepoint and doing 80 MPH on a rural road, chased by local police, crashed full-speed into a family's pickup. Three teens in the car (Oscar Esparza, Arthur Rivas, Richard Carrasco) and five Salazar children in the truck (Eric, Jochelyn Grace, Monique Janae, Michael Alexander, and Sienna Rose Salazar), all eight died.                                                                                                                                                                                                                                                                                                                                                                                                                                                                                                                                      8\n",
      "                                                                                                                                                                                                                                                                                                                                                                                                                                                                                                                                                                                                                                                                                                                                                                                                                                                                                     ..\n",
      "Was threatening suicide when his brother called 911. When deputies arrived at his Rocky Face home, Castro-Badillo was slashing his own throat with a knife. Deputies tried to stun him with a Taser before he allegedly lunged at them.                                                                                                                                                                                                                                                                                                                                                                                                                                                                                                                                                                                                                                               1\n",
      "About 10:45 a.m., Officers Sterrett and Hutcherson went to Mitchell Street after learning James Bailey was driving a motorcycle recklessly and not wearing a helmet, police said. Bailey ran as officers approached. The officers chased him behind a house on Mitchell Street and were shot and wounded in an exchange of gunfire. Responding officers got Sterrett and Hutcherson out of the way and set up a perimeter. After a search, Bailey was found dead behind the house.                                                                                                                                                                                                                                                                                                                                                                                                    1\n",
      "Police went to Chesterfield Outlets about 1 p.m. in response to a call about suspicious individuals. A person reportedly hit an officer while fleeing in a vehicle, and the officer shot and killed Frederick Glenn Perkins.                                                                                                                                                                                                                                                                                                                                                                                                                                                                                                                                                                                                                                                          1\n",
      "Deputies shot and killed Hector Antonio Quirarte-Medrano after he stole a patrol car and ran over a deputy's foot.                                                                                                                                                                                                                                                                                                                                                                                                                                                                                                                                                                                                                                                                                                                                                                    1\n",
      "Charles Thomas Evans reportedly shot and wounded his roommate. Details as to what precipitated the killing were withheld by police.                                                                                                                                                                                                                                                                                                                                                                                                                                                                                                                                                                                                                                                                                                                                                   1\n",
      "Name: Brief description, Length: 28689, dtype: int64\n",
      "-------------------------------------\n",
      "DISPOSITIONS/EXCLUSIONS INTERNAL USE, NOT FOR ANALYSIS\n",
      "Unreported                                                   10389\n",
      "Pending investigation                                         6996\n",
      "Justified                                                     3988\n",
      "Suicide                                                       2768\n",
      "Criminal                                                      1409\n",
      "                                                             ...  \n",
      "Justified by Attorney General/Civil suit/Pending                 1\n",
      "Criminal/Civil suit/Dismissed                                    1\n",
      "Justified by District Attorney/ Civil suit/Pending               1\n",
      "Pending investigation/Off-duty                                   1\n",
      "Administrative discipline/Civil suit/Family awarded money        1\n",
      "Name: Dispositions/Exclusions INTERNAL USE, NOT FOR ANALYSIS, Length: 139, dtype: int64\n",
      "-------------------------------------\n",
      "INTENDED USE OF FORCE (DEVELOPING)\n",
      "Deadly force              18173\n",
      "Vehic/Purs                 3783\n",
      "Suicide                    3184\n",
      "Pursuit                    2135\n",
      "Less-than-lethal force     1710\n",
      "No                          857\n",
      "Vehicle                     352\n",
      "Undetermined                 48\n",
      "Name: Intended use of force (Developing), dtype: int64\n",
      "-------------------------------------\n",
      "SUPPORTING DOCUMENT LINK\n",
      "http://www.usatoday.com/pages/interactives/blacks-killed-police-chases-higher-rate/                                                            75\n",
      "http://www.sltrib.com/news/1938044-155/shootings-by-police-vastly-underreported-in                                                             61\n",
      "http://www.cleveland.com/court-justice/index.ssf/2014/05/cleveland_police_officers_kill.html                                                   31\n",
      "https://docs.google.com/document/d/1qabqMPPdvI4_PoDeuJgzTlzg7yKGQfMQSTC3r3bh18Y/edit?usp=sharing                                               21\n",
      "http://www.mydaytondailynews.com/data/news/police-shootings/                                                                                   20\n",
      "                                                                                                                                               ..\n",
      "https://docs.google.com/document/d/1HhxSi3lKfNxz8x19i0VC7W2-31vs2u02dbxAeZqhBFk/edit?usp=sharing                                                1\n",
      "http://homicide.latimes.com/post/derrick-abernathy/                                                                                             1\n",
      "https://drive.google.com/open?id=0B_YUrB_q0WyCd1lVT0RiV25UcE0                                                                                   1\n",
      "https://www.capitolhillseattle.com/2021/02/police-respond-to-armed-gunman-reported-at-23rd-and-yesler-catholic-community-services-building/     1\n",
      "http://www.mysanantonio.com/news/local_news/article/183k-settlement-over-unarmed-man-shot-by-cops-4382575.php                                   1\n",
      "Name: Supporting document link, Length: 16135, dtype: int64\n",
      "-------------------------------------\n",
      "FOREKNOWLEDGE OF MENTAL ILLNESS? INTERNAL USE, NOT FOR ANALYSIS\n",
      "No                     20468\n",
      "Unknown                 4833\n",
      "Yes                     3347\n",
      "Drug or alcohol use     1534\n",
      "Name: Foreknowledge of mental illness? INTERNAL USE, NOT FOR ANALYSIS, dtype: int64\n",
      "-------------------------------------\n"
     ]
    }
   ],
   "source": [
    "# specify useless columns and what to exclude for counts\n",
    "useless_columns = df.columns[32:]\n",
    "exclusions = ['url_of_image_pls_no_hotlinks', 'uid_temporary', 'name_temporary', 'description_temp', 'url_temp', \\\n",
    "        'supporting_document_link', 'dispositions_exclusions_internal_use,_not_for_analysis', 'foreknowledge_of_mental_illness?_internal_use,_not_for_analysis', \\\n",
    "        'race_with_imputations', 'name', 'imputation_probability', 'location_of_injury_address', 'location_of_death_city', 'state', 'location_of_death_county', \\\n",
    "        'full_address', 'latitude', 'longitude']\n",
    "\n",
    "# getting value counts for specific columns\n",
    "for column in df.columns:\n",
    "    if column not in exclusions and column not in useless_columns:\n",
    "        print(column.upper())\n",
    "        print(df[column].value_counts())\n",
    "        print(\"-------------------------------------\")"
   ]
  },
  {
   "cell_type": "code",
   "execution_count": 7,
   "metadata": {
    "cell_id": "00010-1adc915f-e993-4ac1-8f49-f90062321429",
    "deepnote_cell_type": "code",
    "deepnote_to_be_reexecuted": false,
    "execution_millis": 1,
    "execution_start": 1622249001935,
    "source_hash": "10cf5780",
    "tags": []
   },
   "outputs": [],
   "source": [
    "\n",
    "# univariate distributions\n",
    "#for column in df.columns:\n",
    "#    if column not in exclusions and column not in useless_columns:\n",
    "#        sns.countplot(x=df[column], data=df, palette = 'ocean_r')\n",
    "#        print(\"------------------------------------------------------\")\n",
    "#        print(\"------------------------------------------------------\")\n",
    "#        plt.xticks(rotation=65)\n",
    "#        plt.show()\n"
   ]
  },
  {
   "cell_type": "markdown",
   "metadata": {
    "cell_id": "00011-cd732520-c022-43ac-9503-0541d75152b1",
    "deepnote_cell_type": "markdown",
    "tags": []
   },
   "source": [
    "### Takeaways\n",
    "- There are a couple of unnecessary columns (begin with `Unnamed:`).\n",
    "- Messy column names need to be renamed for better readability.\n",
    "- A lot of columns are not needed due to nulls/unusable and will need to be dropped. \n",
    "- Most values in each column have a wide variety of text variation. These should be lowercased, stripped, and grouped. \n",
    "- Many nulls in dataset that need to be filled in or dropped.\n",
    "- Dummy variables and encoding needs to be done to pretty much all of the dataset in order to model/evaluate. \n",
    "- Possibly a good idea to create age bins.\n",
    "- Possible exploration with time series. Set `Date of Incident` as datetime index?\n"
   ]
  },
  {
   "cell_type": "markdown",
   "metadata": {
    "cell_id": "00012-514a441c-0384-4314-9813-3e4945fde458",
    "deepnote_cell_type": "markdown"
   },
   "source": [
    "\n",
    "___\n",
    "# Prepare and Split Data"
   ]
  },
  {
   "cell_type": "code",
   "execution_count": 8,
   "metadata": {
    "cell_id": "00013-dfb1f34c-a3b2-49c4-8033-a726a14f8feb",
    "deepnote_cell_type": "code",
    "deepnote_to_be_reexecuted": false,
    "execution_millis": 258,
    "execution_start": 1622249001936,
    "source_hash": "2455ae76",
    "tags": []
   },
   "outputs": [
    {
     "data": {
      "text/html": [
       "<div>\n",
       "<style scoped>\n",
       "    .dataframe tbody tr th:only-of-type {\n",
       "        vertical-align: middle;\n",
       "    }\n",
       "\n",
       "    .dataframe tbody tr th {\n",
       "        vertical-align: top;\n",
       "    }\n",
       "\n",
       "    .dataframe thead th {\n",
       "        text-align: right;\n",
       "    }\n",
       "</style>\n",
       "<table border=\"1\" class=\"dataframe\">\n",
       "  <thead>\n",
       "    <tr style=\"text-align: right;\">\n",
       "      <th></th>\n",
       "      <th>unique_id</th>\n",
       "      <th>age</th>\n",
       "      <th>gender</th>\n",
       "      <th>race</th>\n",
       "      <th>date_of_injury_resulting_in_death_month_day_year</th>\n",
       "      <th>location_of_death_zip_code</th>\n",
       "      <th>agency_or_agencies_involved</th>\n",
       "      <th>highest_level_of_force</th>\n",
       "      <th>armed_unarmed</th>\n",
       "      <th>alleged_weapon</th>\n",
       "      <th>...</th>\n",
       "      <th>had_no_weapon</th>\n",
       "      <th>had_other_weapon</th>\n",
       "      <th>under 12</th>\n",
       "      <th>12-17</th>\n",
       "      <th>18-24</th>\n",
       "      <th>25-34</th>\n",
       "      <th>35-44</th>\n",
       "      <th>45-54</th>\n",
       "      <th>55-64</th>\n",
       "      <th>65+</th>\n",
       "    </tr>\n",
       "  </thead>\n",
       "  <tbody>\n",
       "    <tr>\n",
       "      <th>0</th>\n",
       "      <td>14050.0</td>\n",
       "      <td>20.0</td>\n",
       "      <td>male</td>\n",
       "      <td>black</td>\n",
       "      <td>2007-02-07</td>\n",
       "      <td>68111.0</td>\n",
       "      <td>omaha police department</td>\n",
       "      <td>gunshot</td>\n",
       "      <td>armed</td>\n",
       "      <td>edged weapon</td>\n",
       "      <td>...</td>\n",
       "      <td>0</td>\n",
       "      <td>0</td>\n",
       "      <td>0.0</td>\n",
       "      <td>0.0</td>\n",
       "      <td>1.0</td>\n",
       "      <td>0.0</td>\n",
       "      <td>0.0</td>\n",
       "      <td>0.0</td>\n",
       "      <td>0.0</td>\n",
       "      <td>0.0</td>\n",
       "    </tr>\n",
       "    <tr>\n",
       "      <th>1</th>\n",
       "      <td>12167.0</td>\n",
       "      <td>12.0</td>\n",
       "      <td>female</td>\n",
       "      <td>hispanic</td>\n",
       "      <td>2013-01-01</td>\n",
       "      <td>78375.0</td>\n",
       "      <td>texas department of public safety</td>\n",
       "      <td>medical emergency</td>\n",
       "      <td>unarmed</td>\n",
       "      <td>no_weapon</td>\n",
       "      <td>...</td>\n",
       "      <td>1</td>\n",
       "      <td>0</td>\n",
       "      <td>0.0</td>\n",
       "      <td>1.0</td>\n",
       "      <td>0.0</td>\n",
       "      <td>0.0</td>\n",
       "      <td>0.0</td>\n",
       "      <td>0.0</td>\n",
       "      <td>0.0</td>\n",
       "      <td>0.0</td>\n",
       "    </tr>\n",
       "    <tr>\n",
       "      <th>2</th>\n",
       "      <td>12171.0</td>\n",
       "      <td>26.0</td>\n",
       "      <td>male</td>\n",
       "      <td>white</td>\n",
       "      <td>2013-01-01</td>\n",
       "      <td>56001.0</td>\n",
       "      <td>mankato department of public safety</td>\n",
       "      <td>tasered</td>\n",
       "      <td>unarmed</td>\n",
       "      <td>no_weapon</td>\n",
       "      <td>...</td>\n",
       "      <td>1</td>\n",
       "      <td>0</td>\n",
       "      <td>0.0</td>\n",
       "      <td>0.0</td>\n",
       "      <td>0.0</td>\n",
       "      <td>1.0</td>\n",
       "      <td>0.0</td>\n",
       "      <td>0.0</td>\n",
       "      <td>0.0</td>\n",
       "      <td>0.0</td>\n",
       "    </tr>\n",
       "    <tr>\n",
       "      <th>3</th>\n",
       "      <td>12172.0</td>\n",
       "      <td>21.0</td>\n",
       "      <td>male</td>\n",
       "      <td>white</td>\n",
       "      <td>2013-01-01</td>\n",
       "      <td>54838.0</td>\n",
       "      <td>douglas county sheriff's office</td>\n",
       "      <td>gunshot</td>\n",
       "      <td>armed</td>\n",
       "      <td>firearm</td>\n",
       "      <td>...</td>\n",
       "      <td>0</td>\n",
       "      <td>0</td>\n",
       "      <td>0.0</td>\n",
       "      <td>0.0</td>\n",
       "      <td>1.0</td>\n",
       "      <td>0.0</td>\n",
       "      <td>0.0</td>\n",
       "      <td>0.0</td>\n",
       "      <td>0.0</td>\n",
       "      <td>0.0</td>\n",
       "    </tr>\n",
       "    <tr>\n",
       "      <th>4</th>\n",
       "      <td>12173.0</td>\n",
       "      <td>31.0</td>\n",
       "      <td>male</td>\n",
       "      <td>black</td>\n",
       "      <td>2013-01-01</td>\n",
       "      <td>68111.0</td>\n",
       "      <td>omaha police department</td>\n",
       "      <td>gunshot</td>\n",
       "      <td>armed</td>\n",
       "      <td>firearm</td>\n",
       "      <td>...</td>\n",
       "      <td>0</td>\n",
       "      <td>0</td>\n",
       "      <td>0.0</td>\n",
       "      <td>0.0</td>\n",
       "      <td>0.0</td>\n",
       "      <td>1.0</td>\n",
       "      <td>0.0</td>\n",
       "      <td>0.0</td>\n",
       "      <td>0.0</td>\n",
       "      <td>0.0</td>\n",
       "    </tr>\n",
       "  </tbody>\n",
       "</table>\n",
       "<p>5 rows × 37 columns</p>\n",
       "</div>"
      ],
      "text/plain": [
       "   unique_id   age  gender      race  \\\n",
       "0    14050.0  20.0    male     black   \n",
       "1    12167.0  12.0  female  hispanic   \n",
       "2    12171.0  26.0    male     white   \n",
       "3    12172.0  21.0    male     white   \n",
       "4    12173.0  31.0    male     black   \n",
       "\n",
       "  date_of_injury_resulting_in_death_month_day_year  \\\n",
       "0                                       2007-02-07   \n",
       "1                                       2013-01-01   \n",
       "2                                       2013-01-01   \n",
       "3                                       2013-01-01   \n",
       "4                                       2013-01-01   \n",
       "\n",
       "   location_of_death_zip_code          agency_or_agencies_involved  \\\n",
       "0                     68111.0              omaha police department   \n",
       "1                     78375.0    texas department of public safety   \n",
       "2                     56001.0  mankato department of public safety   \n",
       "3                     54838.0      douglas county sheriff's office   \n",
       "4                     68111.0              omaha police department   \n",
       "\n",
       "  highest_level_of_force armed_unarmed alleged_weapon  ... had_no_weapon  \\\n",
       "0                gunshot         armed   edged weapon  ...             0   \n",
       "1      medical emergency       unarmed      no_weapon  ...             1   \n",
       "2                tasered       unarmed      no_weapon  ...             1   \n",
       "3                gunshot         armed        firearm  ...             0   \n",
       "4                gunshot         armed        firearm  ...             0   \n",
       "\n",
       "  had_other_weapon under 12 12-17  18-24 25-34  35-44  45-54  55-64  65+  \n",
       "0                0      0.0   0.0    1.0   0.0    0.0    0.0    0.0  0.0  \n",
       "1                0      0.0   1.0    0.0   0.0    0.0    0.0    0.0  0.0  \n",
       "2                0      0.0   0.0    0.0   1.0    0.0    0.0    0.0  0.0  \n",
       "3                0      0.0   0.0    1.0   0.0    0.0    0.0    0.0  0.0  \n",
       "4                0      0.0   0.0    0.0   1.0    0.0    0.0    0.0  0.0  \n",
       "\n",
       "[5 rows x 37 columns]"
      ]
     },
     "execution_count": 8,
     "metadata": {},
     "output_type": "execute_result"
    }
   ],
   "source": [
    "#grab cleaned data frame from wrangle.py\n",
    "df = w.wrangle_new_data(cached=True).drop(columns='Unnamed: 0')\n",
    "df.head()"
   ]
  },
  {
   "cell_type": "code",
   "execution_count": 9,
   "metadata": {
    "cell_id": "00014-350c6c64-c3dc-40a4-b1ca-5b3f5d3d461b",
    "deepnote_cell_type": "code",
    "deepnote_to_be_reexecuted": false,
    "execution_millis": 10,
    "execution_start": 1622249002231,
    "source_hash": "14f60b8f",
    "tags": []
   },
   "outputs": [
    {
     "data": {
      "text/plain": [
       "(13137, 37)"
      ]
     },
     "execution_count": 9,
     "metadata": {},
     "output_type": "execute_result"
    }
   ],
   "source": [
    "df.shape"
   ]
  },
  {
   "cell_type": "code",
   "execution_count": 10,
   "metadata": {
    "cell_id": "00015-c0366029-f418-4602-82c9-744dc6482ad7",
    "deepnote_cell_type": "code",
    "deepnote_to_be_reexecuted": false,
    "execution_millis": 0,
    "execution_start": 1622249002231,
    "source_hash": "1bd18b6b",
    "tags": []
   },
   "outputs": [],
   "source": [
    "df.dropna(inplace=True)"
   ]
  },
  {
   "cell_type": "code",
   "execution_count": 11,
   "metadata": {
    "cell_id": "00016-027f7cfa-9b2d-4712-858a-e6c5c3e2409b",
    "deepnote_cell_type": "code",
    "deepnote_to_be_reexecuted": false,
    "execution_millis": 0,
    "execution_start": 1622249002232,
    "source_hash": "f05bfa07",
    "tags": []
   },
   "outputs": [],
   "source": [
    "df.rename(columns={'aggressive_physical_movement' : 'alleged_threat_lvl'}, inplace=True)"
   ]
  },
  {
   "cell_type": "code",
   "execution_count": 12,
   "metadata": {
    "cell_id": "00017-7a90fde6-eef7-4ff1-9b1e-ab1b2673b560",
    "deepnote_cell_type": "code",
    "deepnote_to_be_reexecuted": false,
    "execution_millis": 19,
    "execution_start": 1622249002256,
    "source_hash": "7dff3e6b",
    "tags": []
   },
   "outputs": [
    {
     "data": {
      "text/plain": [
       "unique_id                                           0\n",
       "age                                                 0\n",
       "gender                                              0\n",
       "race                                                0\n",
       "date_of_injury_resulting_in_death_month_day_year    0\n",
       "location_of_death_zip_code                          0\n",
       "agency_or_agencies_involved                         0\n",
       "highest_level_of_force                              0\n",
       "armed_unarmed                                       0\n",
       "alleged_weapon                                      0\n",
       "alleged_threat_lvl                                  0\n",
       "fleeing_not_fleeing                                 0\n",
       "brief_description                                   0\n",
       "intended_use_of_force_developing                    0\n",
       "fleeing                                             0\n",
       "age_bins                                            0\n",
       "is_asian_pacific islander                           0\n",
       "is_black                                            0\n",
       "is_hispanic                                         0\n",
       "is_middle eastern                                   0\n",
       "is_native_american                                  0\n",
       "is_unknown_race                                     0\n",
       "is_white                                            0\n",
       "is_unarmed                                          0\n",
       "had_blunt object                                    0\n",
       "had_edged weapon                                    0\n",
       "had_firearm                                         0\n",
       "had_no_weapon                                       0\n",
       "had_other_weapon                                    0\n",
       "under 12                                            0\n",
       "12-17                                               0\n",
       "18-24                                               0\n",
       "25-34                                               0\n",
       "35-44                                               0\n",
       "45-54                                               0\n",
       "55-64                                               0\n",
       "65+                                                 0\n",
       "dtype: int64"
      ]
     },
     "execution_count": 12,
     "metadata": {},
     "output_type": "execute_result"
    }
   ],
   "source": [
    "#double check no nulls\n",
    "df.isnull().sum()"
   ]
  },
  {
   "cell_type": "code",
   "execution_count": 13,
   "metadata": {
    "cell_id": "00018-7b7a0b17-f62d-46d4-9609-8cf22a72497e",
    "deepnote_cell_type": "code",
    "deepnote_to_be_reexecuted": false,
    "execution_millis": 21,
    "execution_start": 1622249002257,
    "source_hash": "3edc948f",
    "tags": []
   },
   "outputs": [
    {
     "data": {
      "text/plain": [
       "unique_id                                           float64\n",
       "age                                                 float64\n",
       "gender                                               object\n",
       "race                                                 object\n",
       "date_of_injury_resulting_in_death_month_day_year     object\n",
       "location_of_death_zip_code                          float64\n",
       "agency_or_agencies_involved                          object\n",
       "highest_level_of_force                               object\n",
       "armed_unarmed                                        object\n",
       "alleged_weapon                                       object\n",
       "alleged_threat_lvl                                   object\n",
       "fleeing_not_fleeing                                  object\n",
       "brief_description                                    object\n",
       "intended_use_of_force_developing                     object\n",
       "fleeing                                             float64\n",
       "age_bins                                             object\n",
       "is_asian_pacific islander                             int64\n",
       "is_black                                              int64\n",
       "is_hispanic                                           int64\n",
       "is_middle eastern                                     int64\n",
       "is_native_american                                    int64\n",
       "is_unknown_race                                       int64\n",
       "is_white                                              int64\n",
       "is_unarmed                                            int64\n",
       "had_blunt object                                      int64\n",
       "had_edged weapon                                      int64\n",
       "had_firearm                                           int64\n",
       "had_no_weapon                                         int64\n",
       "had_other_weapon                                      int64\n",
       "under 12                                            float64\n",
       "12-17                                               float64\n",
       "18-24                                               float64\n",
       "25-34                                               float64\n",
       "35-44                                               float64\n",
       "45-54                                               float64\n",
       "55-64                                               float64\n",
       "65+                                                 float64\n",
       "dtype: object"
      ]
     },
     "execution_count": 13,
     "metadata": {},
     "output_type": "execute_result"
    }
   ],
   "source": [
    "#double check data types\n",
    "df.dtypes"
   ]
  },
  {
   "cell_type": "code",
   "execution_count": 14,
   "metadata": {
    "cell_id": "00019-789f16d2-a170-43fa-8c49-5713a9a7fa00",
    "deepnote_cell_type": "code",
    "deepnote_to_be_reexecuted": false,
    "execution_millis": 12,
    "execution_start": 1622249044127,
    "source_hash": "b1efd5d6",
    "tags": []
   },
   "outputs": [
    {
     "data": {
      "text/plain": [
       "0                  threat\n",
       "1               no_threat\n",
       "2                  threat\n",
       "3                  threat\n",
       "4                  threat\n",
       "               ...       \n",
       "13132    ambiguous_threat\n",
       "13133           no_threat\n",
       "13134    ambiguous_threat\n",
       "13135           no_threat\n",
       "13136              threat\n",
       "Name: alleged_threat_lvl, Length: 13137, dtype: object"
      ]
     },
     "execution_count": 14,
     "metadata": {},
     "output_type": "execute_result"
    }
   ],
   "source": [
    "df.alleged_threat_lvl"
   ]
  },
  {
   "cell_type": "code",
   "execution_count": 15,
   "metadata": {
    "cell_id": "00019-6af7ddc4-36c4-4bd0-9956-ed3121fd99b5",
    "deepnote_cell_type": "code",
    "deepnote_to_be_reexecuted": false,
    "execution_millis": 1,
    "execution_start": 1622249423366,
    "source_hash": "37d2ae54",
    "tags": []
   },
   "outputs": [],
   "source": [
    "from sklearn.preprocessing import OrdinalEncoder, LabelEncoder\n",
    "df.alleged_threat_lvl = LabelEncoder().fit_transform(df.alleged_threat_lvl)"
   ]
  },
  {
   "cell_type": "code",
   "execution_count": 16,
   "metadata": {
    "cell_id": "00021-6fb37d6f-107d-4950-b96b-72325ac3b74c",
    "deepnote_cell_type": "code",
    "deepnote_to_be_reexecuted": false,
    "execution_millis": 125,
    "execution_start": 1622249431877,
    "source_hash": "6cd8acfd",
    "tags": []
   },
   "outputs": [
    {
     "data": {
      "text/html": [
       "<div>\n",
       "<style scoped>\n",
       "    .dataframe tbody tr th:only-of-type {\n",
       "        vertical-align: middle;\n",
       "    }\n",
       "\n",
       "    .dataframe tbody tr th {\n",
       "        vertical-align: top;\n",
       "    }\n",
       "\n",
       "    .dataframe thead th {\n",
       "        text-align: right;\n",
       "    }\n",
       "</style>\n",
       "<table border=\"1\" class=\"dataframe\">\n",
       "  <thead>\n",
       "    <tr style=\"text-align: right;\">\n",
       "      <th></th>\n",
       "      <th>unique_id</th>\n",
       "      <th>age</th>\n",
       "      <th>gender</th>\n",
       "      <th>race</th>\n",
       "      <th>date_of_injury_resulting_in_death_month_day_year</th>\n",
       "      <th>location_of_death_zip_code</th>\n",
       "      <th>agency_or_agencies_involved</th>\n",
       "      <th>highest_level_of_force</th>\n",
       "      <th>armed_unarmed</th>\n",
       "      <th>alleged_weapon</th>\n",
       "      <th>...</th>\n",
       "      <th>had_no_weapon</th>\n",
       "      <th>had_other_weapon</th>\n",
       "      <th>under 12</th>\n",
       "      <th>12-17</th>\n",
       "      <th>18-24</th>\n",
       "      <th>25-34</th>\n",
       "      <th>35-44</th>\n",
       "      <th>45-54</th>\n",
       "      <th>55-64</th>\n",
       "      <th>65+</th>\n",
       "    </tr>\n",
       "  </thead>\n",
       "  <tbody>\n",
       "    <tr>\n",
       "      <th>0</th>\n",
       "      <td>14050.0</td>\n",
       "      <td>20.0</td>\n",
       "      <td>male</td>\n",
       "      <td>black</td>\n",
       "      <td>2007-02-07</td>\n",
       "      <td>68111.0</td>\n",
       "      <td>omaha police department</td>\n",
       "      <td>gunshot</td>\n",
       "      <td>armed</td>\n",
       "      <td>edged weapon</td>\n",
       "      <td>...</td>\n",
       "      <td>0</td>\n",
       "      <td>0</td>\n",
       "      <td>0.0</td>\n",
       "      <td>0.0</td>\n",
       "      <td>1.0</td>\n",
       "      <td>0.0</td>\n",
       "      <td>0.0</td>\n",
       "      <td>0.0</td>\n",
       "      <td>0.0</td>\n",
       "      <td>0.0</td>\n",
       "    </tr>\n",
       "    <tr>\n",
       "      <th>1</th>\n",
       "      <td>12167.0</td>\n",
       "      <td>12.0</td>\n",
       "      <td>female</td>\n",
       "      <td>hispanic</td>\n",
       "      <td>2013-01-01</td>\n",
       "      <td>78375.0</td>\n",
       "      <td>texas department of public safety</td>\n",
       "      <td>medical emergency</td>\n",
       "      <td>unarmed</td>\n",
       "      <td>no_weapon</td>\n",
       "      <td>...</td>\n",
       "      <td>1</td>\n",
       "      <td>0</td>\n",
       "      <td>0.0</td>\n",
       "      <td>1.0</td>\n",
       "      <td>0.0</td>\n",
       "      <td>0.0</td>\n",
       "      <td>0.0</td>\n",
       "      <td>0.0</td>\n",
       "      <td>0.0</td>\n",
       "      <td>0.0</td>\n",
       "    </tr>\n",
       "  </tbody>\n",
       "</table>\n",
       "<p>2 rows × 37 columns</p>\n",
       "</div>"
      ],
      "text/plain": [
       "   unique_id   age  gender      race  \\\n",
       "0    14050.0  20.0    male     black   \n",
       "1    12167.0  12.0  female  hispanic   \n",
       "\n",
       "  date_of_injury_resulting_in_death_month_day_year  \\\n",
       "0                                       2007-02-07   \n",
       "1                                       2013-01-01   \n",
       "\n",
       "   location_of_death_zip_code        agency_or_agencies_involved  \\\n",
       "0                     68111.0            omaha police department   \n",
       "1                     78375.0  texas department of public safety   \n",
       "\n",
       "  highest_level_of_force armed_unarmed alleged_weapon  ...  had_no_weapon  \\\n",
       "0                gunshot         armed   edged weapon  ...              0   \n",
       "1      medical emergency       unarmed      no_weapon  ...              1   \n",
       "\n",
       "  had_other_weapon under 12 12-17  18-24 25-34  35-44  45-54  55-64  65+  \n",
       "0                0      0.0   0.0    1.0   0.0    0.0    0.0    0.0  0.0  \n",
       "1                0      0.0   1.0    0.0   0.0    0.0    0.0    0.0  0.0  \n",
       "\n",
       "[2 rows x 37 columns]"
      ]
     },
     "execution_count": 16,
     "metadata": {},
     "output_type": "execute_result"
    }
   ],
   "source": [
    "df.head(2)"
   ]
  },
  {
   "cell_type": "code",
   "execution_count": 17,
   "metadata": {
    "cell_id": "00019-00e81183-4191-4b71-9de6-87a469e70c1f",
    "deepnote_cell_type": "code",
    "deepnote_to_be_reexecuted": false,
    "execution_millis": 121,
    "execution_start": 1622249463962,
    "source_hash": "be21ca7a",
    "tags": []
   },
   "outputs": [
    {
     "name": "stdout",
     "output_type": "stream",
     "text": [
      "overall shape of dataframe: (13137, 37)\n",
      "train: (7356, 37)\n",
      "validate: (3153, 37)\n",
      "test: (2628, 37)\n"
     ]
    },
    {
     "data": {
      "text/html": [
       "<div>\n",
       "<style scoped>\n",
       "    .dataframe tbody tr th:only-of-type {\n",
       "        vertical-align: middle;\n",
       "    }\n",
       "\n",
       "    .dataframe tbody tr th {\n",
       "        vertical-align: top;\n",
       "    }\n",
       "\n",
       "    .dataframe thead th {\n",
       "        text-align: right;\n",
       "    }\n",
       "</style>\n",
       "<table border=\"1\" class=\"dataframe\">\n",
       "  <thead>\n",
       "    <tr style=\"text-align: right;\">\n",
       "      <th></th>\n",
       "      <th>unique_id</th>\n",
       "      <th>age</th>\n",
       "      <th>gender</th>\n",
       "      <th>race</th>\n",
       "      <th>date_of_injury_resulting_in_death_month_day_year</th>\n",
       "      <th>location_of_death_zip_code</th>\n",
       "      <th>agency_or_agencies_involved</th>\n",
       "      <th>highest_level_of_force</th>\n",
       "      <th>armed_unarmed</th>\n",
       "      <th>alleged_weapon</th>\n",
       "      <th>...</th>\n",
       "      <th>had_no_weapon</th>\n",
       "      <th>had_other_weapon</th>\n",
       "      <th>under 12</th>\n",
       "      <th>12-17</th>\n",
       "      <th>18-24</th>\n",
       "      <th>25-34</th>\n",
       "      <th>35-44</th>\n",
       "      <th>45-54</th>\n",
       "      <th>55-64</th>\n",
       "      <th>65+</th>\n",
       "    </tr>\n",
       "  </thead>\n",
       "  <tbody>\n",
       "    <tr>\n",
       "      <th>11903</th>\n",
       "      <td>27652.0</td>\n",
       "      <td>48.0</td>\n",
       "      <td>male</td>\n",
       "      <td>unknown_race</td>\n",
       "      <td>2020-03-03</td>\n",
       "      <td>33187.0</td>\n",
       "      <td>miami-dade police department</td>\n",
       "      <td>gunshot</td>\n",
       "      <td>armed</td>\n",
       "      <td>edged weapon</td>\n",
       "      <td>...</td>\n",
       "      <td>0</td>\n",
       "      <td>0</td>\n",
       "      <td>0.0</td>\n",
       "      <td>0.0</td>\n",
       "      <td>0.0</td>\n",
       "      <td>0.0</td>\n",
       "      <td>0.0</td>\n",
       "      <td>1.0</td>\n",
       "      <td>0.0</td>\n",
       "      <td>0.0</td>\n",
       "    </tr>\n",
       "    <tr>\n",
       "      <th>5725</th>\n",
       "      <td>17870.0</td>\n",
       "      <td>35.0</td>\n",
       "      <td>male</td>\n",
       "      <td>black</td>\n",
       "      <td>2016-07-02 00:00:00</td>\n",
       "      <td>28806.0</td>\n",
       "      <td>asheville police department</td>\n",
       "      <td>gunshot</td>\n",
       "      <td>armed</td>\n",
       "      <td>firearm</td>\n",
       "      <td>...</td>\n",
       "      <td>0</td>\n",
       "      <td>0</td>\n",
       "      <td>0.0</td>\n",
       "      <td>0.0</td>\n",
       "      <td>0.0</td>\n",
       "      <td>0.0</td>\n",
       "      <td>1.0</td>\n",
       "      <td>0.0</td>\n",
       "      <td>0.0</td>\n",
       "      <td>0.0</td>\n",
       "    </tr>\n",
       "    <tr>\n",
       "      <th>10665</th>\n",
       "      <td>26220.0</td>\n",
       "      <td>61.0</td>\n",
       "      <td>male</td>\n",
       "      <td>white</td>\n",
       "      <td>2019-06-24</td>\n",
       "      <td>34224.0</td>\n",
       "      <td>charlotte county sheriff's office</td>\n",
       "      <td>gunshot</td>\n",
       "      <td>armed</td>\n",
       "      <td>firearm</td>\n",
       "      <td>...</td>\n",
       "      <td>0</td>\n",
       "      <td>0</td>\n",
       "      <td>0.0</td>\n",
       "      <td>0.0</td>\n",
       "      <td>0.0</td>\n",
       "      <td>0.0</td>\n",
       "      <td>0.0</td>\n",
       "      <td>0.0</td>\n",
       "      <td>1.0</td>\n",
       "      <td>0.0</td>\n",
       "    </tr>\n",
       "    <tr>\n",
       "      <th>57</th>\n",
       "      <td>12221.0</td>\n",
       "      <td>17.0</td>\n",
       "      <td>male</td>\n",
       "      <td>black</td>\n",
       "      <td>2013-01-11</td>\n",
       "      <td>1569.0</td>\n",
       "      <td>uxbridge police department</td>\n",
       "      <td>vehicle</td>\n",
       "      <td>unarmed</td>\n",
       "      <td>no_weapon</td>\n",
       "      <td>...</td>\n",
       "      <td>1</td>\n",
       "      <td>0</td>\n",
       "      <td>0.0</td>\n",
       "      <td>1.0</td>\n",
       "      <td>0.0</td>\n",
       "      <td>0.0</td>\n",
       "      <td>0.0</td>\n",
       "      <td>0.0</td>\n",
       "      <td>0.0</td>\n",
       "      <td>0.0</td>\n",
       "    </tr>\n",
       "    <tr>\n",
       "      <th>1116</th>\n",
       "      <td>13305.0</td>\n",
       "      <td>29.0</td>\n",
       "      <td>male</td>\n",
       "      <td>white</td>\n",
       "      <td>2013-08-23</td>\n",
       "      <td>85032.0</td>\n",
       "      <td>mesa police department</td>\n",
       "      <td>gunshot</td>\n",
       "      <td>armed</td>\n",
       "      <td>firearm</td>\n",
       "      <td>...</td>\n",
       "      <td>0</td>\n",
       "      <td>0</td>\n",
       "      <td>0.0</td>\n",
       "      <td>0.0</td>\n",
       "      <td>0.0</td>\n",
       "      <td>1.0</td>\n",
       "      <td>0.0</td>\n",
       "      <td>0.0</td>\n",
       "      <td>0.0</td>\n",
       "      <td>0.0</td>\n",
       "    </tr>\n",
       "  </tbody>\n",
       "</table>\n",
       "<p>5 rows × 37 columns</p>\n",
       "</div>"
      ],
      "text/plain": [
       "       unique_id   age gender          race  \\\n",
       "11903    27652.0  48.0   male  unknown_race   \n",
       "5725     17870.0  35.0   male         black   \n",
       "10665    26220.0  61.0   male         white   \n",
       "57       12221.0  17.0   male         black   \n",
       "1116     13305.0  29.0   male         white   \n",
       "\n",
       "      date_of_injury_resulting_in_death_month_day_year  \\\n",
       "11903                                       2020-03-03   \n",
       "5725                               2016-07-02 00:00:00   \n",
       "10665                                       2019-06-24   \n",
       "57                                          2013-01-11   \n",
       "1116                                        2013-08-23   \n",
       "\n",
       "       location_of_death_zip_code        agency_or_agencies_involved  \\\n",
       "11903                     33187.0       miami-dade police department   \n",
       "5725                      28806.0        asheville police department   \n",
       "10665                     34224.0  charlotte county sheriff's office   \n",
       "57                         1569.0         uxbridge police department   \n",
       "1116                      85032.0             mesa police department   \n",
       "\n",
       "      highest_level_of_force armed_unarmed alleged_weapon  ...  had_no_weapon  \\\n",
       "11903                gunshot         armed   edged weapon  ...              0   \n",
       "5725                 gunshot         armed        firearm  ...              0   \n",
       "10665                gunshot         armed        firearm  ...              0   \n",
       "57                   vehicle       unarmed      no_weapon  ...              1   \n",
       "1116                 gunshot         armed        firearm  ...              0   \n",
       "\n",
       "      had_other_weapon under 12 12-17  18-24 25-34  35-44  45-54  55-64  65+  \n",
       "11903                0      0.0   0.0    0.0   0.0    0.0    1.0    0.0  0.0  \n",
       "5725                 0      0.0   0.0    0.0   0.0    1.0    0.0    0.0  0.0  \n",
       "10665                0      0.0   0.0    0.0   0.0    0.0    0.0    1.0  0.0  \n",
       "57                   0      0.0   1.0    0.0   0.0    0.0    0.0    0.0  0.0  \n",
       "1116                 0      0.0   0.0    0.0   1.0    0.0    0.0    0.0  0.0  \n",
       "\n",
       "[5 rows x 37 columns]"
      ]
     },
     "execution_count": 17,
     "metadata": {},
     "output_type": "execute_result"
    }
   ],
   "source": [
    "#split the data using the split function in explore.py\n",
    "train, validate, test = split(df, stratify_by=\"alleged_threat_lvl\")\n",
    "\n",
    "#check split datasets\n",
    "print('overall shape of dataframe:', df.shape)\n",
    "print('train:', train.shape)\n",
    "print('validate:', validate.shape)\n",
    "print('test:', test.shape)\n",
    "\n",
    "#work w/ training data\n",
    "train.head()"
   ]
  },
  {
   "cell_type": "markdown",
   "metadata": {
    "cell_id": "00020-45324423-6899-4f40-b48f-f81f3bb25195",
    "deepnote_cell_type": "markdown",
    "tags": []
   },
   "source": [
    "### Takeaway\n",
    "- Data is prepped/split and ready to be explored, modeled, and evaluated."
   ]
  },
  {
   "cell_type": "markdown",
   "metadata": {
    "cell_id": "00021-7db5467c-09b0-442e-a62c-d9d0fadb4a91",
    "deepnote_cell_type": "markdown"
   },
   "source": [
    "\n",
    "___\n",
    "# Explore Data\n",
    "#### Address questions posed in planning\n",
    "- Does gender make a difference in alleged threat level?\n",
    "- How does mental illness affect each gender?\n",
    "- Do symptoms of mental illness play a role in threat level?\n",
    "- Is race a factor for alleged threat level?\n",
    "- Does bodycam make a difference in alleged threat level?\n",
    "- Is cause of death and alleged threat level independent of one another?\n",
    "- What areas in geography are resulting in more killings?\n",
    "- What are the fatalities by state: % killings vs pop\n",
    "\n",
    "## • Visualizations"
   ]
  },
  {
   "cell_type": "code",
   "execution_count": 18,
   "metadata": {
    "cell_id": "00022-20186ecb-0482-4d9c-a903-6d44e4c60719",
    "deepnote_cell_type": "code",
    "deepnote_to_be_reexecuted": false,
    "execution_millis": 322,
    "execution_start": 1622241514142,
    "source_hash": "bebc8bdb"
   },
   "outputs": [
    {
     "data": {
      "image/png": "[encoded data removed]",
      "text/plain": [
       "<Figure size 576x432 with 1 Axes>"
      ]
     },
     "metadata": {
      "needs_background": "light"
     },
     "output_type": "display_data"
    },
    {
     "data": {
      "text/html": [
       "<div>\n",
       "<style scoped>\n",
       "    .dataframe tbody tr th:only-of-type {\n",
       "        vertical-align: middle;\n",
       "    }\n",
       "\n",
       "    .dataframe tbody tr th {\n",
       "        vertical-align: top;\n",
       "    }\n",
       "\n",
       "    .dataframe thead th {\n",
       "        text-align: right;\n",
       "    }\n",
       "</style>\n",
       "<table border=\"1\" class=\"dataframe\">\n",
       "  <thead>\n",
       "    <tr style=\"text-align: right;\">\n",
       "      <th>alleged_threat_lvl</th>\n",
       "      <th>0</th>\n",
       "      <th>1</th>\n",
       "      <th>2</th>\n",
       "    </tr>\n",
       "    <tr>\n",
       "      <th>gender</th>\n",
       "      <th></th>\n",
       "      <th></th>\n",
       "      <th></th>\n",
       "    </tr>\n",
       "  </thead>\n",
       "  <tbody>\n",
       "    <tr>\n",
       "      <th>female</th>\n",
       "      <td>0.057103</td>\n",
       "      <td>0.739554</td>\n",
       "      <td>0.203343</td>\n",
       "    </tr>\n",
       "    <tr>\n",
       "      <th>male</th>\n",
       "      <td>0.108732</td>\n",
       "      <td>0.334188</td>\n",
       "      <td>0.557080</td>\n",
       "    </tr>\n",
       "    <tr>\n",
       "      <th>transgender</th>\n",
       "      <td>0.000000</td>\n",
       "      <td>0.142857</td>\n",
       "      <td>0.857143</td>\n",
       "    </tr>\n",
       "  </tbody>\n",
       "</table>\n",
       "</div>"
      ],
      "text/plain": [
       "alleged_threat_lvl         0         1         2\n",
       "gender                                          \n",
       "female              0.057103  0.739554  0.203343\n",
       "male                0.108732  0.334188  0.557080\n",
       "transgender         0.000000  0.142857  0.857143"
      ]
     },
     "execution_count": 18,
     "metadata": {},
     "output_type": "execute_result"
    }
   ],
   "source": [
    "#visualize gender vs alleged threat level\n",
    "ax = pd.crosstab(train.gender, train.alleged_threat_lvl, normalize ='index').plot.barh(figsize=(8, 6), cmap=plt.cm.get_cmap('Blues'), ec=\"black\")\n",
    "\n",
    "#customize legend\n",
    "legend_labels, _= ax.get_legend_handles_labels()\n",
    "ax.legend(legend_labels, ['Non-Attack', 'Attack'], \n",
    "          bbox_to_anchor=(1,1), \n",
    "          title='Threat Level')\n",
    "\n",
    "#customize chart\n",
    "plt.title(\"Does Gender Make a Difference in Alleged Threat Level?\", fontsize = 15)\n",
    "plt.ylabel(\"Gender\", fontsize = 12)\n",
    "plt.xlabel('Percentage', fontsize = 12)\n",
    "ax.tick_params(labelsize=10)\n",
    "plt.xlim([0.0, 1.0])\n",
    "plt.show()\n",
    "\n",
    "#get percentages df\n",
    "percentages = pd.crosstab(train.gender, train.alleged_threat_lvl, normalize = 'index')\n",
    "percentages"
   ]
  },
  {
   "cell_type": "markdown",
   "metadata": {
    "cell_id": "00023-c1a2386c-b875-4667-a120-7d892950a407",
    "deepnote_cell_type": "markdown"
   },
   "source": [
    "### Takeaways\n",
    "- Highest percentage of non-attacks are transgender. Second highest is female.\n",
    "- Highest percentage of attacks are male. Second highest is female.\n",
    "- Males are almost equally likely to be an attack or non-attack threat level."
   ]
  },
  {
   "cell_type": "code",
   "execution_count": 19,
   "metadata": {
    "cell_id": "00024-9b082507-ff1a-4ea9-a37d-3395b05f3c7b",
    "deepnote_cell_type": "code",
    "deepnote_to_be_reexecuted": false,
    "execution_millis": 412,
    "execution_start": 1622241514458,
    "source_hash": "55411c56",
    "tags": []
   },
   "outputs": [
    {
     "data": {
      "image/png": "[encoded data removed]",
      "text/plain": [
       "<Figure size 576x432 with 1 Axes>"
      ]
     },
     "metadata": {
      "needs_background": "light"
     },
     "output_type": "display_data"
    },
    {
     "data": {
      "text/html": [
       "<div>\n",
       "<style scoped>\n",
       "    .dataframe tbody tr th:only-of-type {\n",
       "        vertical-align: middle;\n",
       "    }\n",
       "\n",
       "    .dataframe tbody tr th {\n",
       "        vertical-align: top;\n",
       "    }\n",
       "\n",
       "    .dataframe thead th {\n",
       "        text-align: right;\n",
       "    }\n",
       "</style>\n",
       "<table border=\"1\" class=\"dataframe\">\n",
       "  <thead>\n",
       "    <tr style=\"text-align: right;\">\n",
       "      <th>alleged_threat_lvl</th>\n",
       "      <th>0</th>\n",
       "      <th>1</th>\n",
       "      <th>2</th>\n",
       "    </tr>\n",
       "    <tr>\n",
       "      <th>race</th>\n",
       "      <th></th>\n",
       "      <th></th>\n",
       "      <th></th>\n",
       "    </tr>\n",
       "  </thead>\n",
       "  <tbody>\n",
       "    <tr>\n",
       "      <th>asian/pacific islander</th>\n",
       "      <td>0.087302</td>\n",
       "      <td>0.325397</td>\n",
       "      <td>0.587302</td>\n",
       "    </tr>\n",
       "    <tr>\n",
       "      <th>black</th>\n",
       "      <td>0.128396</td>\n",
       "      <td>0.383591</td>\n",
       "      <td>0.488013</td>\n",
       "    </tr>\n",
       "    <tr>\n",
       "      <th>hispanic</th>\n",
       "      <td>0.129812</td>\n",
       "      <td>0.310654</td>\n",
       "      <td>0.559534</td>\n",
       "    </tr>\n",
       "    <tr>\n",
       "      <th>middle eastern</th>\n",
       "      <td>0.076923</td>\n",
       "      <td>0.153846</td>\n",
       "      <td>0.769231</td>\n",
       "    </tr>\n",
       "    <tr>\n",
       "      <th>native_american</th>\n",
       "      <td>0.059406</td>\n",
       "      <td>0.257426</td>\n",
       "      <td>0.683168</td>\n",
       "    </tr>\n",
       "    <tr>\n",
       "      <th>unknown_race</th>\n",
       "      <td>0.059313</td>\n",
       "      <td>0.537981</td>\n",
       "      <td>0.402706</td>\n",
       "    </tr>\n",
       "    <tr>\n",
       "      <th>white</th>\n",
       "      <td>0.095223</td>\n",
       "      <td>0.346409</td>\n",
       "      <td>0.558368</td>\n",
       "    </tr>\n",
       "  </tbody>\n",
       "</table>\n",
       "</div>"
      ],
      "text/plain": [
       "alleged_threat_lvl             0         1         2\n",
       "race                                                \n",
       "asian/pacific islander  0.087302  0.325397  0.587302\n",
       "black                   0.128396  0.383591  0.488013\n",
       "hispanic                0.129812  0.310654  0.559534\n",
       "middle eastern          0.076923  0.153846  0.769231\n",
       "native_american         0.059406  0.257426  0.683168\n",
       "unknown_race            0.059313  0.537981  0.402706\n",
       "white                   0.095223  0.346409  0.558368"
      ]
     },
     "execution_count": 19,
     "metadata": {},
     "output_type": "execute_result"
    }
   ],
   "source": [
    "#visualize race vs alleged threat level\n",
    "ax = pd.crosstab(train.race, train.alleged_threat_lvl, normalize ='index').plot.barh(figsize=(8, 6), cmap=plt.cm.get_cmap('Blues'), ec=\"black\")\n",
    "\n",
    "#customize legend\n",
    "legend_labels, _= ax.get_legend_handles_labels()\n",
    "ax.legend(legend_labels, ['Ambiguous', 'No threat', 'Threat'], \n",
    "          bbox_to_anchor=(1,1), \n",
    "          title='Threat Level')\n",
    "\n",
    "#customize chart\n",
    "plt.title(\"Is Race a Factor in Threat Level?\", fontsize = 15)\n",
    "plt.ylabel(\"Race\", fontsize = 12)\n",
    "plt.xlabel('Percentage', fontsize = 12)\n",
    "ax.tick_params(labelsize=10)\n",
    "plt.xlim([0.0, 1.0])\n",
    "plt.show()\n",
    "\n",
    "#get percentages df\n",
    "percentages = pd.crosstab(train.race, train.alleged_threat_lvl, normalize = 'index')\n",
    "percentages"
   ]
  },
  {
   "cell_type": "markdown",
   "metadata": {
    "cell_id": "00025-08165ec8-8eae-45dc-86c3-d2f276e418d9",
    "deepnote_cell_type": "markdown",
    "tags": []
   },
   "source": [
    "### Takeaways\n",
    "- The highest occurrence of non-attacks are seen in Native Americans. Second highest is Hispanics.\n",
    "- The highest occurrence of attacks are seen in White races. Second highest appears to be Asians/Pacific Islanders. \n",
    "- Black races are almost equally likely to result in attack/non-attack threat levels.\n",
    "- There is a lot of unknown races in the data. Why?"
   ]
  },
  {
   "cell_type": "markdown",
   "metadata": {
    "cell_id": "00026-fe9cf113-33d6-4d52-8059-706061bf8617",
    "deepnote_cell_type": "markdown"
   },
   "source": [
    "\n",
    "___\n",
    "\n",
    "## • Hypothesis Testing"
   ]
  },
  {
   "cell_type": "code",
   "execution_count": 20,
   "metadata": {
    "cell_id": "00027-b999e1b4-ea09-4c88-a417-addc00d4331c",
    "deepnote_cell_type": "code",
    "deepnote_to_be_reexecuted": false,
    "execution_millis": 4,
    "execution_start": 1622241514854,
    "source_hash": "2c9af269",
    "tags": []
   },
   "outputs": [],
   "source": [
    "threat_dummies = pd.get_dummies(df.alleged_threat_lvl, drop_first=False, prefix='is')"
   ]
  },
  {
   "cell_type": "code",
   "execution_count": 21,
   "metadata": {
    "cell_id": "00028-e6a10ae4-1d5e-4323-8536-be547756c481",
    "deepnote_cell_type": "code",
    "deepnote_to_be_reexecuted": false,
    "execution_millis": 8,
    "execution_start": 1622241514864,
    "source_hash": "f81407ac",
    "tags": []
   },
   "outputs": [],
   "source": [
    "df = pd.concat([df, threat_dummies], axis=1)"
   ]
  },
  {
   "cell_type": "code",
   "execution_count": 22,
   "metadata": {
    "cell_id": "00029-2f927046-a036-42e7-8156-017bae84d248",
    "deepnote_cell_type": "code",
    "deepnote_to_be_reexecuted": false,
    "execution_millis": 31,
    "execution_start": 1622241514886,
    "source_hash": "85c0491e",
    "tags": []
   },
   "outputs": [],
   "source": [
    "train, validate, test = split(df, stratify_by=\"alleged_threat_lvl\")"
   ]
  },
  {
   "cell_type": "code",
   "execution_count": 23,
   "metadata": {
    "cell_id": "00030-2801e0c7-e7b7-4b1d-ba77-29a8927b8ee1",
    "deepnote_cell_type": "code",
    "deepnote_to_be_reexecuted": false,
    "execution_millis": 8,
    "execution_start": 1622241514963,
    "source_hash": "d91b8556"
   },
   "outputs": [],
   "source": [
    "#t-test for gender vs threat level\n",
    "#female = train[train.gender == 'female']\n",
    "#male = train[train.gender == 'male']\n",
    "#transg = train[train.gender == 'transgender']\n",
    "#not_male = train[train.gender != 'male']\n",
    "#\n",
    "#male_att = male.is_threat\n",
    "#non_male_att = not_male.is_threat\n",
    "#\n",
    "#null_hypothesis = \"There is not a difference between male attackers and the remaining population.\"\n",
    "#alternative_hypothesis = \"Attacker status for males & total population are different.\"\n",
    "#confidence_level = .95\n",
    "#a = 1 - confidence_level\n",
    "#\n",
    "#t, p = stats.ttest_ind(male_att, non_male_att)\n",
    "#print(t, p)\n",
    "#\n",
    "#if p < a:\n",
    "#    print(\"We reject the null hypothesis.\")\n",
    "#    print(f\"We can move forward with alternative hypothesis: {alternative_hypothesis}\")\n",
    "#else:\n",
    "#    print(\"We fail to reject the null hypothesis\")\n",
    "#    print(f\"Not enough evidence to support the claim: {null_hypothesis}\")"
   ]
  },
  {
   "cell_type": "code",
   "execution_count": 24,
   "metadata": {
    "cell_id": "00031-9c912081-0bf2-42c4-80c5-40d0d0d5d7b0",
    "deepnote_cell_type": "code",
    "deepnote_to_be_reexecuted": false,
    "execution_millis": 45,
    "execution_start": 1622241514963,
    "source_hash": "b256267b",
    "tags": []
   },
   "outputs": [
    {
     "name": "stdout",
     "output_type": "stream",
     "text": [
      "Observed\n",
      "\n",
      "[[  11   41   74]\n",
      " [ 241  720  916]\n",
      " [ 145  347  625]\n",
      " [   1    2   10]\n",
      " [   6   26   69]\n",
      " [  57  517  387]\n",
      " [ 301 1095 1765]]\n",
      "---\n",
      "Expected\n",
      "\n",
      "[[1.30522023e+01 4.70701468e+01 6.58776509e+01]\n",
      " [1.94436378e+02 7.01195759e+02 9.81367863e+02]\n",
      " [1.15708809e+02 4.17280587e+02 5.84010604e+02]\n",
      " [1.34665579e+00 4.85644372e+00 6.79690049e+00]\n",
      " [1.04624796e+01 3.77308320e+01 5.28066884e+01]\n",
      " [9.95489396e+01 3.59003263e+02 5.02447798e+02]\n",
      " [3.27444535e+02 1.18086297e+03 1.65269250e+03]]\n",
      "---\n",
      "\n",
      "chi^2 = 184.2978\n",
      "p     = 0.0000\n",
      "\n",
      "Because the p-value: 0.0 is less than alpha: 0.05, we can reject the null hypothesis\n"
     ]
    }
   ],
   "source": [
    "#chi2 test for race vs alleged threat level\n",
    "exp.chi2_matts(train, 'race', 'alleged_threat_lvl', alpha=0.05)"
   ]
  },
  {
   "cell_type": "markdown",
   "metadata": {
    "cell_id": "00032-26a5c8e2-ba06-4d18-ab50-aa549c9a7f6a",
    "deepnote_cell_type": "markdown",
    "tags": []
   },
   "source": [
    "# Split up race for further testing"
   ]
  },
  {
   "cell_type": "markdown",
   "metadata": {
    "cell_id": "00033-40a53aaf-9625-43e1-9b57-c745101ad658",
    "deepnote_cell_type": "markdown"
   },
   "source": [
    "### Takeaways\n",
    "- All four statistical tests rejected the null hypothesis.\n",
    "    - T-test demonstrates there is a difference between male attackers and the remaining population.\n",
    "    - 1st Chi^2 test demonstrates that mental status is dependent on alleged threat level.\n",
    "    - 2nd Chi^2 test demonstrates that race is dependent on alleged threat level.\n",
    "    - 3rd Chi^2 test demonstrates that bodycam is dependent on alleged threat level."
   ]
  },
  {
   "cell_type": "markdown",
   "metadata": {
    "cell_id": "00034-47ea7a9c-af2b-4714-b400-48226752f89a",
    "deepnote_cell_type": "markdown"
   },
   "source": [
    "\n",
    "___\n",
    "# Modeling"
   ]
  },
  {
   "cell_type": "code",
   "execution_count": 25,
   "metadata": {
    "cell_id": "00035-7c15a3b0-b96c-4c28-930d-cb221e057201",
    "deepnote_cell_type": "code",
    "deepnote_to_be_reexecuted": false,
    "execution_millis": 3,
    "execution_start": 1622249477251,
    "source_hash": "9a2eb543"
   },
   "outputs": [],
   "source": [
    "#set up X inputs and y target variable for each split\n",
    "X_train = train.drop(columns=['alleged_threat_lvl'])\n",
    "y_train = train.alleged_threat_lvl\n",
    "\n",
    "X_validate = validate.drop(columns=['alleged_threat_lvl'])\n",
    "y_validate = validate.alleged_threat_lvl\n",
    "\n",
    "X_test = test.drop(columns=['alleged_threat_lvl'])\n",
    "y_test = test.alleged_threat_lvl"
   ]
  },
  {
   "cell_type": "code",
   "execution_count": 26,
   "metadata": {
    "cell_id": "00036-108a1d44-56a8-4360-b653-8d0a7fd099d1",
    "deepnote_cell_type": "code",
    "deepnote_to_be_reexecuted": false,
    "execution_millis": 14,
    "execution_start": 1622249512509,
    "source_hash": "25d43fa0",
    "tags": []
   },
   "outputs": [
    {
     "data": {
      "text/plain": [
       "Index(['unique_id', 'age', 'gender', 'race',\n",
       "       'date_of_injury_resulting_in_death_month_day_year',\n",
       "       'location_of_death_zip_code', 'agency_or_agencies_involved',\n",
       "       'highest_level_of_force', 'armed_unarmed', 'alleged_weapon',\n",
       "       'alleged_threat_lvl', 'fleeing_not_fleeing', 'brief_description',\n",
       "       'intended_use_of_force_developing', 'fleeing', 'age_bins',\n",
       "       'is_asian_pacific islander', 'is_black', 'is_hispanic',\n",
       "       'is_middle eastern', 'is_native_american', 'is_unknown_race',\n",
       "       'is_white', 'is_unarmed', 'had_blunt object', 'had_edged weapon',\n",
       "       'had_firearm', 'had_no_weapon', 'had_other_weapon', 'under 12', '12-17',\n",
       "       '18-24', '25-34', '35-44', '45-54', '55-64', '65+', 'is_0', 'is_1',\n",
       "       'is_2'],\n",
       "      dtype='object')"
      ]
     },
     "execution_count": 26,
     "metadata": {},
     "output_type": "execute_result"
    }
   ],
   "source": [
    "df.columns"
   ]
  },
  {
   "cell_type": "code",
   "execution_count": 27,
   "metadata": {
    "cell_id": "00037-042b40b5-e364-4e69-8199-ef2ef4f871a1",
    "deepnote_cell_type": "code",
    "deepnote_to_be_reexecuted": false,
    "execution_millis": 1,
    "execution_start": 1622249535607,
    "source_hash": "a7e477e8"
   },
   "outputs": [],
   "source": [
    "# dropping columns that are not numeric datatypes\n",
    "dropcols = ['unique_id', 'gender', 'race',\\\n",
    "       'date_of_injury_resulting_in_death_month_day_year',\\\n",
    "       'location_of_death_zip_code', 'agency_or_agencies_involved',\\\n",
    "       'highest_level_of_force', 'armed_unarmed', 'alleged_weapon',\\\n",
    "       'alleged_threat_lvl', 'fleeing_not_fleeing', 'brief_description',\\\n",
    "       'intended_use_of_force_developing', 'age_bins']\n",
    "\n",
    "X_train = train.drop(columns=dropcols)\n",
    "X_validate = validate.drop(columns=dropcols)\n",
    "X_test = test.drop(columns=dropcols)"
   ]
  },
  {
   "cell_type": "markdown",
   "metadata": {
    "cell_id": "00038-f61b3b17-1279-4181-8913-95b0999853e4",
    "deepnote_cell_type": "markdown"
   },
   "source": [
    "\n",
    "___\n",
    "## • Feature Importance"
   ]
  },
  {
   "cell_type": "markdown",
   "metadata": {
    "cell_id": "00039-e539e662-56a6-4ad7-912a-b0081185c200",
    "deepnote_cell_type": "markdown"
   },
   "source": [
    "#### Select K Best\n",
    "- Uses statistical tests to determine each feature's usefulness in predicting the target variable. \n",
    "- Ranks the features and then select the K best features."
   ]
  },
  {
   "cell_type": "code",
   "execution_count": 28,
   "metadata": {
    "cell_id": "00040-f69b126e-712e-4793-aeac-8b4561a14755",
    "deepnote_cell_type": "code",
    "deepnote_to_be_reexecuted": false,
    "execution_millis": 19,
    "execution_start": 1622249546588,
    "source_hash": "dd7ebbdf"
   },
   "outputs": [
    {
     "data": {
      "text/plain": [
       "['age',\n",
       " 'fleeing',\n",
       " 'is_unknown_race',\n",
       " 'is_unarmed',\n",
       " 'had_blunt object',\n",
       " 'had_edged weapon',\n",
       " 'had_firearm',\n",
       " 'had_no_weapon',\n",
       " 'had_other_weapon',\n",
       " 'under 12',\n",
       " '12-17',\n",
       " '18-24',\n",
       " 'is_0',\n",
       " 'is_1',\n",
       " 'is_2']"
      ]
     },
     "execution_count": 28,
     "metadata": {},
     "output_type": "execute_result"
    }
   ],
   "source": [
    "f_features = select_kbest(X_train, y_train, 15)\n",
    "f_features"
   ]
  },
  {
   "cell_type": "markdown",
   "metadata": {
    "cell_id": "00041-0355918c-d372-408a-9625-bc70c4d0f3e3",
    "deepnote_cell_type": "markdown"
   },
   "source": [
    "#### Recursive Feature Elimination (RFE)\n",
    "- Recursively removes attributes to meet the number of required features and then builds a model on those attributes that remain to see if you can you match or improve performance with a smaller subset."
   ]
  },
  {
   "cell_type": "code",
   "execution_count": 29,
   "metadata": {
    "cell_id": "00042-b6869768-c540-48ac-adc9-13af9937fb86",
    "deepnote_cell_type": "code",
    "deepnote_to_be_reexecuted": false,
    "execution_millis": 10091,
    "execution_start": 1622249554979,
    "source_hash": "509f8fd5"
   },
   "outputs": [
    {
     "data": {
      "text/plain": [
       "['fleeing',\n",
       " 'is_hispanic',\n",
       " 'is_unknown_race',\n",
       " 'is_unarmed',\n",
       " 'had_blunt object',\n",
       " 'had_edged weapon',\n",
       " 'had_firearm',\n",
       " 'had_no_weapon',\n",
       " 'had_other_weapon',\n",
       " 'under 12',\n",
       " '12-17',\n",
       " '25-34',\n",
       " 'is_0',\n",
       " 'is_1',\n",
       " 'is_2']"
      ]
     },
     "execution_count": 29,
     "metadata": {},
     "output_type": "execute_result"
    }
   ],
   "source": [
    "rfe_features = rfe(X_train, y_train, 15)\n",
    "rfe_features"
   ]
  },
  {
   "cell_type": "code",
   "execution_count": 30,
   "metadata": {
    "cell_id": "00043-7b55d8f7-e4dd-4988-bf63-5303fdc0d73c",
    "deepnote_cell_type": "code",
    "deepnote_to_be_reexecuted": false,
    "execution_millis": 19,
    "execution_start": 1622249570341,
    "source_hash": "31ee34a3"
   },
   "outputs": [
    {
     "name": "stdout",
     "output_type": "stream",
     "text": [
      "17\n"
     ]
    },
    {
     "data": {
      "text/plain": [
       "['had_edged weapon',\n",
       " 'had_firearm',\n",
       " 'fleeing',\n",
       " '12-17',\n",
       " 'is_1',\n",
       " 'is_2',\n",
       " 'is_unknown_race',\n",
       " 'had_other_weapon',\n",
       " '18-24',\n",
       " 'is_0',\n",
       " 'is_hispanic',\n",
       " '25-34',\n",
       " 'is_unarmed',\n",
       " 'age',\n",
       " 'had_no_weapon',\n",
       " 'under 12',\n",
       " 'had_blunt object']"
      ]
     },
     "execution_count": 30,
     "metadata": {},
     "output_type": "execute_result"
    }
   ],
   "source": [
    "combo_feats = list(set(f_features + rfe_features))\n",
    "print(len(combo_feats))\n",
    "combo_feats"
   ]
  },
  {
   "cell_type": "code",
   "execution_count": 31,
   "metadata": {
    "cell_id": "00044-3f8323d9-386c-46eb-94f9-f19d6e447ba6",
    "deepnote_cell_type": "code",
    "deepnote_to_be_reexecuted": false,
    "execution_millis": 64,
    "execution_start": 1622241526370,
    "source_hash": "17358204"
   },
   "outputs": [
    {
     "name": "stdout",
     "output_type": "stream",
     "text": [
      "11\n"
     ]
    }
   ],
   "source": [
    "#specify combined features that reduces multicollinearity\n",
    "combo_feats = ['fleeing',\n",
    "               'had_other_weapon',\n",
    "               'is_middle eastern',\n",
    "               '12-17',\n",
    "               'had_no_weapon',\n",
    "               'is_native_american',\n",
    "               '25-34',\n",
    "               '18-24',\n",
    "               'under 12',\n",
    "               'had_firearm',\n",
    "               'is_hispanic']\n",
    " \n",
    "print(len(combo_feats))"
   ]
  },
  {
   "cell_type": "markdown",
   "metadata": {
    "cell_id": "00045-6f7d619f-debe-48b3-9071-352649e07237",
    "deepnote_cell_type": "markdown"
   },
   "source": [
    "\n",
    "___\n",
    "## • Identify Baseline"
   ]
  },
  {
   "cell_type": "code",
   "execution_count": 32,
   "metadata": {
    "cell_id": "00046-946990dc-7598-46d6-bc8e-c4c80b3333b3",
    "deepnote_cell_type": "code",
    "deepnote_to_be_reexecuted": false,
    "execution_millis": 13,
    "execution_start": 1622249668826,
    "source_hash": "276ef1c0"
   },
   "outputs": [
    {
     "data": {
      "text/plain": [
       "2    3846\n",
       "1    2748\n",
       "0     762\n",
       "Name: alleged_threat_lvl, dtype: int64"
      ]
     },
     "execution_count": 32,
     "metadata": {},
     "output_type": "execute_result"
    }
   ],
   "source": [
    "#baseline prediction: the most prevalent class in training dataset(the mode)\n",
    "train.alleged_threat_lvl.value_counts()"
   ]
  },
  {
   "cell_type": "markdown",
   "metadata": {
    "cell_id": "00050-56315475-7bc3-4174-8a8c-8894d0ca760e",
    "deepnote_cell_type": "markdown",
    "tags": []
   },
   "source": [
    "# Key:\n",
    "2 = threat\n",
    "\n",
    "1 = no threat\n",
    "\n",
    "0 = abiguous threat"
   ]
  },
  {
   "cell_type": "code",
   "execution_count": 33,
   "metadata": {
    "cell_id": "00047-2a956453-d03e-4c8d-9a2e-5c4d9cb3393d",
    "deepnote_cell_type": "code",
    "deepnote_to_be_reexecuted": false,
    "execution_millis": 9,
    "execution_start": 1622249843534,
    "source_hash": "bf43e92c"
   },
   "outputs": [
    {
     "name": "stdout",
     "output_type": "stream",
     "text": [
      "baseline accuracy:  0.5228\n"
     ]
    }
   ],
   "source": [
    "#baseline model would be to predict 0 since it is most prevalant\n",
    "#baseline accuracy:\n",
    "baseline_accuracy = (train.alleged_threat_lvl == 2).mean()\n",
    "\n",
    "print(f'baseline accuracy: {baseline_accuracy: .4}')"
   ]
  },
  {
   "cell_type": "markdown",
   "metadata": {
    "cell_id": "00048-0badb15b-0ca8-4016-b34d-417d0833a253",
    "deepnote_cell_type": "markdown"
   },
   "source": [
    "\n",
    "___\n",
    "## • Model on Train"
   ]
  },
  {
   "cell_type": "markdown",
   "metadata": {
    "cell_id": "00049-b96134c8-40a7-44fe-bce8-4a8f7b1e32eb",
    "deepnote_cell_type": "markdown"
   },
   "source": [
    "### Decision Tree"
   ]
  },
  {
   "cell_type": "code",
   "execution_count": 34,
   "metadata": {
    "cell_id": "00050-dbecd93b-36f5-4480-9fa6-1a7e55c2cc7b",
    "deepnote_cell_type": "code",
    "deepnote_to_be_reexecuted": false,
    "execution_millis": 30,
    "execution_start": 1622249851736,
    "source_hash": "7a2ba196",
    "tags": []
   },
   "outputs": [
    {
     "name": "stdout",
     "output_type": "stream",
     "text": [
      "Baseline is 0.5228\n",
      "----------------\n",
      "Accuracy of Decision Tree classifier on combo_feats (max_depth = 3): 0.7187\n"
     ]
    }
   ],
   "source": [
    "#create Decision Tree model (specifying max_depth argument and combo_feats)\n",
    "dt = DecisionTreeClassifier(max_depth=3, random_state=123)\n",
    "\n",
    "#fit model on combo_feats\n",
    "dt.fit(X_train[combo_feats], y_train)\n",
    "\n",
    "#get predictions from model\n",
    "y_pred = dt.predict(X_train[combo_feats])\n",
    "\n",
    "#compute accuracy\n",
    "dt_train_acc = round(dt.score(X_train[combo_feats], y_train), 4)\n",
    "\n",
    "#compare to baseline\n",
    "print(\"Baseline is\", round(baseline_accuracy, 4))\n",
    "print(\"----------------\")\n",
    "print('Accuracy of Decision Tree classifier on combo_feats (max_depth = 3): {:.4f}'\n",
    "     .format(dt.score(X_train[combo_feats], y_train)))"
   ]
  },
  {
   "cell_type": "markdown",
   "metadata": {
    "cell_id": "00051-d8df14cb-1d72-4c99-8610-b472892626a1",
    "deepnote_cell_type": "markdown",
    "tags": []
   },
   "source": [
    "### Random Forest"
   ]
  },
  {
   "cell_type": "code",
   "execution_count": 35,
   "metadata": {
    "cell_id": "00052-466dcf53-cadf-44c4-8713-c39dc97e7bf3",
    "deepnote_cell_type": "code",
    "deepnote_to_be_reexecuted": false,
    "execution_millis": 547,
    "execution_start": 1622249863590,
    "source_hash": "ea36678",
    "tags": []
   },
   "outputs": [
    {
     "name": "stdout",
     "output_type": "stream",
     "text": [
      "Baseline is 0.5228\n",
      "----------------\n",
      "Accuracy of Random Forest classifier on combo_feats (max_depth = 5, min_samples_leaf = 3): 0.7191\n"
     ]
    }
   ],
   "source": [
    "#create Random Forest model (specifying max_depth/min_samples_leaf arguments and combo_feats)\n",
    "rf = RandomForestClassifier(max_depth=5, min_samples_leaf=3, random_state=123)\n",
    "\n",
    "#fit model on combo_feats\n",
    "rf.fit(X_train[combo_feats], y_train)\n",
    "\n",
    "#get predictions from model\n",
    "y_pred = rf.predict(X_train[combo_feats])\n",
    "\n",
    "#compute accuracy\n",
    "rf_train_acc = round(rf.score(X_train[combo_feats], y_train), 4)\n",
    "\n",
    "#compare to baseline\n",
    "print(\"Baseline is\", round(baseline_accuracy, 4))\n",
    "print(\"----------------\")\n",
    "print('Accuracy of Random Forest classifier on combo_feats (max_depth = 5, min_samples_leaf = 3): {:.4f}'\n",
    "     .format(rf.score(X_train[combo_feats], y_train)))"
   ]
  },
  {
   "cell_type": "markdown",
   "metadata": {
    "cell_id": "00053-5866a2b8-6ebc-4077-b975-4830c0bbcd27",
    "deepnote_cell_type": "markdown",
    "tags": []
   },
   "source": [
    "### K-Nearest Neighbor (KNN)"
   ]
  },
  {
   "cell_type": "code",
   "execution_count": 36,
   "metadata": {
    "cell_id": "00054-943c2226-69da-4327-9bbe-950f03f680b3",
    "deepnote_cell_type": "code",
    "deepnote_to_be_reexecuted": false,
    "execution_millis": 5745,
    "execution_start": 1622249876828,
    "source_hash": "20502512",
    "tags": []
   },
   "outputs": [
    {
     "name": "stdout",
     "output_type": "stream",
     "text": [
      "Baseline is 0.5228\n",
      "----------------\n",
      "Accuracy of KNN classifier on combo_feats (n_neighbors = 20): 0.712887\n"
     ]
    }
   ],
   "source": [
    "#create KNN model (specifying n_neighbors argument and combo_feats)\n",
    "knn = KNeighborsClassifier(n_neighbors=20)\n",
    "\n",
    "#fit model on combo_feats\n",
    "knn.fit(X_train[combo_feats], y_train)\n",
    "\n",
    "#get predictions from model\n",
    "y_pred = knn.predict(X_train[combo_feats])\n",
    "\n",
    "#compute accuracy\n",
    "knn_train_acc = round(knn.score(X_train[combo_feats], y_train), 4)\n",
    "\n",
    "#compare to baseline\n",
    "print(\"Baseline is\", round(baseline_accuracy, 4))\n",
    "print(\"----------------\")\n",
    "print('Accuracy of KNN classifier on combo_feats (n_neighbors = 20): {:4f}'\n",
    "     .format(knn.score(X_train[combo_feats], y_train)))"
   ]
  },
  {
   "cell_type": "markdown",
   "metadata": {
    "cell_id": "00055-f8febc28-4d47-49d2-8abe-8ada02f1e046",
    "deepnote_cell_type": "markdown",
    "tags": []
   },
   "source": [
    "### Logistic Regression"
   ]
  },
  {
   "cell_type": "code",
   "execution_count": 37,
   "metadata": {
    "cell_id": "00056-305238be-0f44-468b-9872-e39bf66d0895",
    "deepnote_cell_type": "code",
    "deepnote_to_be_reexecuted": false,
    "execution_millis": 1201,
    "execution_start": 1622249884748,
    "source_hash": "96cd3704",
    "tags": []
   },
   "outputs": [
    {
     "name": "stdout",
     "output_type": "stream",
     "text": [
      "Baseline is 0.5228\n",
      "----------------\n",
      "Accuracy of Logistic Regression classifier on combo_feats (default parameters): 0.7178\n"
     ]
    }
   ],
   "source": [
    "#create Logistic Regression model (default parameters, specifying combo_feats)\n",
    "logit = LogisticRegression(random_state=123)\n",
    "\n",
    "#fit model on combo_feats\n",
    "logit.fit(X_train[combo_feats], y_train)\n",
    "\n",
    "#get predictions from model\n",
    "y_pred = logit.predict(X_train[combo_feats])\n",
    "\n",
    "#compute accuracy\n",
    "logit_train_acc = round(logit.score(X_train[combo_feats], y_train), 4)\n",
    "\n",
    "#compare to baseline\n",
    "print(\"Baseline is\", round(baseline_accuracy, 4))\n",
    "print(\"----------------\")\n",
    "print('Accuracy of Logistic Regression classifier on combo_feats (default parameters): {:.4f}'\n",
    "     .format(logit.score(X_train[combo_feats], y_train)))"
   ]
  },
  {
   "cell_type": "markdown",
   "metadata": {
    "cell_id": "00057-fd0394bb-f302-43eb-abdd-250f342e3be9",
    "deepnote_cell_type": "markdown",
    "tags": []
   },
   "source": [
    "### Takeways:\n",
    "- **Decision Tree** model (dt) specifying max_depth argument of 3 and using combo_feats:\n",
    "    - Score of 72% accuracy\n",
    "    \n",
    "    \n",
    "    \n",
    "- **Random Forest** model (rf) specifying max_depth argument of 5, min_samples_leaf argument of 3 and using combo_feats:\n",
    "    - Score of 72% accuracy\n",
    "    \n",
    "    \n",
    "    \n",
    "- **K-Nearest Neighbor** model (knn) specifying n_neighbors argument of 20 and using combo_feats:\n",
    "    - Score of 72% accuracy\n",
    "    \n",
    "    \n",
    "    \n",
    "- **Logistic Regression** model (logit) using default parameters and combo_feats:\n",
    "    - Score of 72% accuracy\n",
    "\n",
    "Next, compare scores to validate (out-of-sample data)."
   ]
  },
  {
   "cell_type": "markdown",
   "metadata": {
    "cell_id": "00058-05ff3b5b-3df2-4e62-842e-eb232736670d",
    "deepnote_cell_type": "markdown"
   },
   "source": [
    "\n",
    "___\n",
    "## • Model on Validate"
   ]
  },
  {
   "cell_type": "code",
   "execution_count": 38,
   "metadata": {
    "cell_id": "00059-7ebbfea1-5659-47d9-a716-ef0463af76c8",
    "deepnote_cell_type": "code",
    "deepnote_to_be_reexecuted": false,
    "execution_millis": 10,
    "execution_start": 1622249960118,
    "source_hash": "37a4cb55",
    "tags": []
   },
   "outputs": [
    {
     "name": "stdout",
     "output_type": "stream",
     "text": [
      "Accuracy of Decision Tree classifier on train set: 0.7187\n",
      "--------------------------------------------------------------\n",
      "Decision Tree classifier on validate set:\n",
      "              precision    recall  f1-score   support\n",
      "\n",
      "           0       0.00      0.00      0.00       327\n",
      "           1       0.68      0.70      0.69      1177\n",
      "           2       0.74      0.88      0.80      1649\n",
      "\n",
      "    accuracy                           0.72      3153\n",
      "   macro avg       0.47      0.52      0.50      3153\n",
      "weighted avg       0.64      0.72      0.68      3153\n",
      "\n"
     ]
    }
   ],
   "source": [
    "#dt's metrics on validate\n",
    "\n",
    "#evaluate on validate sample\n",
    "y_pred = dt.predict(X_validate[combo_feats])\n",
    "\n",
    "#compute accuracy\n",
    "dt_val_acc = round(dt.score(X_validate[combo_feats], y_validate), 4)\n",
    "\n",
    "#compare train to validate\n",
    "print('Accuracy of Decision Tree classifier on train set: {:.4f}'\n",
    "     .format(dt.score(X_train[combo_feats], y_train)))\n",
    "print(\"--------------------------------------------------------------\")\n",
    "print(\"Decision Tree classifier on validate set:\")\n",
    "print(classification_report(y_validate, y_pred))"
   ]
  },
  {
   "cell_type": "code",
   "execution_count": 39,
   "metadata": {
    "cell_id": "00060-8302f672-2627-4bd3-96f3-550cd8abcf35",
    "deepnote_cell_type": "code",
    "deepnote_to_be_reexecuted": false,
    "execution_millis": 179,
    "execution_start": 1622249964496,
    "source_hash": "88ecc93c",
    "tags": []
   },
   "outputs": [
    {
     "name": "stdout",
     "output_type": "stream",
     "text": [
      "Accuracy of Random Forest classifier on train set: 0.7191\n",
      "--------------------------------------------------------------\n",
      "Random Forest classifier on validate set:\n",
      "              precision    recall  f1-score   support\n",
      "\n",
      "           0       0.00      0.00      0.00       327\n",
      "           1       0.68      0.70      0.69      1177\n",
      "           2       0.74      0.88      0.80      1649\n",
      "\n",
      "    accuracy                           0.72      3153\n",
      "   macro avg       0.47      0.52      0.50      3153\n",
      "weighted avg       0.64      0.72      0.68      3153\n",
      "\n"
     ]
    }
   ],
   "source": [
    "#rf's metrics on validate\n",
    "\n",
    "#evaluate on validate sample\n",
    "y_pred = rf.predict(X_validate[combo_feats])\n",
    "\n",
    "#compute accuracy\n",
    "rf_val_acc = round(rf.score(X_validate[combo_feats], y_validate), 4)\n",
    "\n",
    "#compare train to validate\n",
    "print('Accuracy of Random Forest classifier on train set: {:.4f}'\n",
    "     .format(rf.score(X_train[combo_feats], y_train)))\n",
    "print(\"--------------------------------------------------------------\")\n",
    "print(\"Random Forest classifier on validate set:\")\n",
    "print(classification_report(y_validate, y_pred))"
   ]
  },
  {
   "cell_type": "code",
   "execution_count": 40,
   "metadata": {
    "cell_id": "00061-f168ea36-0afe-4dd0-abdd-47fe59beabf6",
    "deepnote_cell_type": "code",
    "deepnote_to_be_reexecuted": false,
    "execution_millis": 3599,
    "execution_start": 1622249984858,
    "source_hash": "60fdbfcd",
    "tags": []
   },
   "outputs": [
    {
     "name": "stdout",
     "output_type": "stream",
     "text": [
      "Accuracy of KNN classifier on train set: 0.7129\n",
      "--------------------------------------------------------------\n",
      "KNN classifier on validate set:\n",
      "              precision    recall  f1-score   support\n",
      "\n",
      "           0       0.44      0.01      0.02       327\n",
      "           1       0.69      0.63      0.66      1177\n",
      "           2       0.71      0.89      0.79      1649\n",
      "\n",
      "    accuracy                           0.70      3153\n",
      "   macro avg       0.62      0.51      0.49      3153\n",
      "weighted avg       0.68      0.70      0.66      3153\n",
      "\n"
     ]
    }
   ],
   "source": [
    "#knn's metrics on validate\n",
    "\n",
    "#evaluate on validate sample\n",
    "y_pred = knn.predict(X_validate[combo_feats])\n",
    "\n",
    "#compute accuracy\n",
    "knn_val_acc = round(knn.score(X_validate[combo_feats], y_validate), 4)\n",
    "\n",
    "#compare train to validate\n",
    "print('Accuracy of KNN classifier on train set: {:.4f}'\n",
    "     .format(knn.score(X_train[combo_feats], y_train)))\n",
    "print(\"--------------------------------------------------------------\")\n",
    "print(\"KNN classifier on validate set:\")\n",
    "print(classification_report(y_validate, y_pred))"
   ]
  },
  {
   "cell_type": "code",
   "execution_count": 41,
   "metadata": {
    "cell_id": "00062-40707346-ee0f-4818-9353-390b3f2e7f02",
    "deepnote_cell_type": "code",
    "deepnote_to_be_reexecuted": false,
    "execution_millis": 32,
    "execution_start": 1622249992561,
    "source_hash": "ae1971ef"
   },
   "outputs": [
    {
     "name": "stdout",
     "output_type": "stream",
     "text": [
      "Accuracy of Logistic Regression classifier on train set: 0.7178\n",
      "--------------------------------------------------------------\n",
      "Logistic Regression classifier on validate set:\n",
      "              precision    recall  f1-score   support\n",
      "\n",
      "           0       0.00      0.00      0.00       327\n",
      "           1       0.68      0.70      0.69      1177\n",
      "           2       0.74      0.87      0.80      1649\n",
      "\n",
      "    accuracy                           0.72      3153\n",
      "   macro avg       0.47      0.52      0.50      3153\n",
      "weighted avg       0.64      0.72      0.68      3153\n",
      "\n"
     ]
    }
   ],
   "source": [
    "#logit's metrics on validate\n",
    "\n",
    "#evaluate on validate sample\n",
    "y_pred = logit.predict(X_validate[combo_feats])\n",
    "\n",
    "#compute accuracy\n",
    "logit_val_acc = round(logit.score(X_validate[combo_feats], y_validate), 4)\n",
    "\n",
    "#compare train to validate\n",
    "print('Accuracy of Logistic Regression classifier on train set: {:.4f}'\n",
    "     .format(logit.score(X_train[combo_feats], y_train)))\n",
    "print(\"--------------------------------------------------------------\")\n",
    "print(\"Logistic Regression classifier on validate set:\")\n",
    "print(classification_report(y_validate, y_pred))"
   ]
  },
  {
   "cell_type": "code",
   "execution_count": 42,
   "metadata": {
    "cell_id": "00063-2bc6e41d-4dff-4ea6-b99d-fad9e14bf58e",
    "deepnote_cell_type": "code",
    "deepnote_to_be_reexecuted": false,
    "execution_millis": 9,
    "execution_start": 1622250009186,
    "source_hash": "f5565531"
   },
   "outputs": [
    {
     "data": {
      "text/html": [
       "<div>\n",
       "<style scoped>\n",
       "    .dataframe tbody tr th:only-of-type {\n",
       "        vertical-align: middle;\n",
       "    }\n",
       "\n",
       "    .dataframe tbody tr th {\n",
       "        vertical-align: top;\n",
       "    }\n",
       "\n",
       "    .dataframe thead th {\n",
       "        text-align: right;\n",
       "    }\n",
       "</style>\n",
       "<table border=\"1\" class=\"dataframe\">\n",
       "  <thead>\n",
       "    <tr style=\"text-align: right;\">\n",
       "      <th></th>\n",
       "      <th>Model</th>\n",
       "      <th>Baseline</th>\n",
       "      <th>Train Accuracy</th>\n",
       "      <th>Validate Accuracy</th>\n",
       "    </tr>\n",
       "  </thead>\n",
       "  <tbody>\n",
       "    <tr>\n",
       "      <th>0</th>\n",
       "      <td>Decision Tree</td>\n",
       "      <td>0.5228</td>\n",
       "      <td>0.7187</td>\n",
       "      <td>0.7187</td>\n",
       "    </tr>\n",
       "    <tr>\n",
       "      <th>1</th>\n",
       "      <td>Random Forest</td>\n",
       "      <td>0.5228</td>\n",
       "      <td>0.7191</td>\n",
       "      <td>0.7184</td>\n",
       "    </tr>\n",
       "    <tr>\n",
       "      <th>2</th>\n",
       "      <td>K-Nearest Neighbor</td>\n",
       "      <td>0.5228</td>\n",
       "      <td>0.7129</td>\n",
       "      <td>0.7044</td>\n",
       "    </tr>\n",
       "    <tr>\n",
       "      <th>3</th>\n",
       "      <td>Logistic Regression</td>\n",
       "      <td>0.5228</td>\n",
       "      <td>0.7178</td>\n",
       "      <td>0.7165</td>\n",
       "    </tr>\n",
       "  </tbody>\n",
       "</table>\n",
       "</div>"
      ],
      "text/plain": [
       "                 Model  Baseline  Train Accuracy  Validate Accuracy\n",
       "0        Decision Tree    0.5228          0.7187             0.7187\n",
       "1        Random Forest    0.5228          0.7191             0.7184\n",
       "2   K-Nearest Neighbor    0.5228          0.7129             0.7044\n",
       "3  Logistic Regression    0.5228          0.7178             0.7165"
      ]
     },
     "execution_count": 42,
     "metadata": {},
     "output_type": "execute_result"
    }
   ],
   "source": [
    "# Build dataframe to record accuracy (starting with decision tree)\n",
    "metric_df = pd.DataFrame(data=[{\n",
    "    'Model': 'Decision Tree', \n",
    "    'Baseline': round(baseline_accuracy, 4),\n",
    "    'Train Accuracy': round(dt_train_acc, 4),\n",
    "    'Validate Accuracy': round(dt_val_acc, 4)}])\n",
    "\n",
    "# append dataframe to record accuracy on random forest\n",
    "metric_df = metric_df.append({\n",
    "    'Model': 'Random Forest', \n",
    "    'Baseline': round(baseline_accuracy, 4),\n",
    "    'Train Accuracy': round(rf_train_acc, 4),\n",
    "    'Validate Accuracy':round(rf_val_acc, 4)}, ignore_index=True)\n",
    "\n",
    "# append dataframe to record accuracy on knn\n",
    "metric_df = metric_df.append({\n",
    "    'Model': 'K-Nearest Neighbor', \n",
    "    'Baseline': round(baseline_accuracy, 4),\n",
    "    'Train Accuracy': round(knn_train_acc, 4),\n",
    "    'Validate Accuracy':round(knn_val_acc, 4)}, ignore_index=True)\n",
    "\n",
    "# append dataframe to record accuracy on logistic regression\n",
    "metric_df = metric_df.append({\n",
    "    'Model': 'Logistic Regression', \n",
    "    'Baseline': round(baseline_accuracy, 4),\n",
    "    'Train Accuracy': round(logit_train_acc, 4),\n",
    "    'Validate Accuracy':round(logit_val_acc, 4)}, ignore_index=True)\n",
    "\n",
    "\n",
    "metric_df"
   ]
  },
  {
   "cell_type": "code",
   "execution_count": 43,
   "metadata": {
    "cell_id": "00064-9baca619-89bc-45bf-8f0f-0a5b45684f2c",
    "deepnote_cell_type": "code",
    "deepnote_to_be_reexecuted": false,
    "execution_millis": 11,
    "execution_start": 1622250098014,
    "source_hash": "7a55d337",
    "tags": []
   },
   "outputs": [
    {
     "data": {
      "text/html": [
       "<div>\n",
       "<style scoped>\n",
       "    .dataframe tbody tr th:only-of-type {\n",
       "        vertical-align: middle;\n",
       "    }\n",
       "\n",
       "    .dataframe tbody tr th {\n",
       "        vertical-align: top;\n",
       "    }\n",
       "\n",
       "    .dataframe thead th {\n",
       "        text-align: right;\n",
       "    }\n",
       "</style>\n",
       "<table border=\"1\" class=\"dataframe\">\n",
       "  <thead>\n",
       "    <tr style=\"text-align: right;\">\n",
       "      <th></th>\n",
       "      <th>Model</th>\n",
       "      <th>Baseline</th>\n",
       "      <th>Train Accuracy</th>\n",
       "      <th>Validate Accuracy</th>\n",
       "    </tr>\n",
       "  </thead>\n",
       "  <tbody>\n",
       "    <tr>\n",
       "      <th>0</th>\n",
       "      <td>Decision Tree</td>\n",
       "      <td>0.5228</td>\n",
       "      <td>0.7187</td>\n",
       "      <td>0.7187</td>\n",
       "    </tr>\n",
       "    <tr>\n",
       "      <th>1</th>\n",
       "      <td>Random Forest</td>\n",
       "      <td>0.5228</td>\n",
       "      <td>0.7191</td>\n",
       "      <td>0.7184</td>\n",
       "    </tr>\n",
       "    <tr>\n",
       "      <th>2</th>\n",
       "      <td>K-Nearest Neighbor</td>\n",
       "      <td>0.5228</td>\n",
       "      <td>0.7129</td>\n",
       "      <td>0.7044</td>\n",
       "    </tr>\n",
       "    <tr>\n",
       "      <th>3</th>\n",
       "      <td>Logistic Regression</td>\n",
       "      <td>0.5228</td>\n",
       "      <td>0.7178</td>\n",
       "      <td>0.7165</td>\n",
       "    </tr>\n",
       "  </tbody>\n",
       "</table>\n",
       "</div>"
      ],
      "text/plain": [
       "                 Model  Baseline  Train Accuracy  Validate Accuracy\n",
       "0        Decision Tree    0.5228          0.7187             0.7187\n",
       "1        Random Forest    0.5228          0.7191             0.7184\n",
       "2   K-Nearest Neighbor    0.5228          0.7129             0.7044\n",
       "3  Logistic Regression    0.5228          0.7178             0.7165"
      ]
     },
     "execution_count": 43,
     "metadata": {},
     "output_type": "execute_result"
    }
   ],
   "source": [
    "# Build dataframe to record accuracy (starting with decision tree)\n",
    "metric_df = pd.DataFrame(data=[{\n",
    "    'Model': 'Decision Tree', \n",
    "    'Baseline': round(baseline_accuracy, 4),\n",
    "    'Train Accuracy': round(dt_train_acc, 4),\n",
    "    'Validate Accuracy': round(dt_val_acc, 4)}])\n",
    "\n",
    "# append dataframe to record accuracy on random forest\n",
    "metric_df = metric_df.append({\n",
    "    'Model': 'Random Forest', \n",
    "    'Baseline': round(baseline_accuracy, 4),\n",
    "    'Train Accuracy': round(rf_train_acc, 4),\n",
    "    'Validate Accuracy':round(rf_val_acc, 4)}, ignore_index=True)\n",
    "\n",
    "# append dataframe to record accuracy on knn\n",
    "metric_df = metric_df.append({\n",
    "    'Model': 'K-Nearest Neighbor', \n",
    "    'Baseline': round(baseline_accuracy, 4),\n",
    "    'Train Accuracy': round(knn_train_acc, 4),\n",
    "    'Validate Accuracy':round(knn_val_acc, 4)}, ignore_index=True)\n",
    "\n",
    "# append dataframe to record accuracy on logistic regression\n",
    "metric_df = metric_df.append({\n",
    "    'Model': 'Logistic Regression', \n",
    "    'Baseline': round(baseline_accuracy, 4),\n",
    "    'Train Accuracy': round(logit_train_acc,4),\n",
    "    'Validate Accuracy':round(logit_val_acc, 4)}, ignore_index=True)\n",
    "\n",
    "\n",
    "metric_df"
   ]
  },
  {
   "cell_type": "markdown",
   "metadata": {
    "cell_id": "00065-542a69c9-0e25-4ad4-8151-cbdf0e35de23",
    "deepnote_cell_type": "markdown",
    "tags": []
   },
   "source": [
    "### Takeaways\n",
    "\n",
    "**Random Forest** is the best-performing model and will be evaluated on test data.\n"
   ]
  },
  {
   "cell_type": "markdown",
   "metadata": {
    "cell_id": "00066-4cb12e98-7bc5-4b9f-8868-75075a2b8a1f",
    "deepnote_cell_type": "markdown"
   },
   "source": [
    "\n",
    "___\n",
    "## • Model on Test"
   ]
  },
  {
   "cell_type": "code",
   "execution_count": 44,
   "metadata": {
    "cell_id": "00067-d3f7a0dc-a25f-4438-a1ec-70e3315c1f2b",
    "deepnote_cell_type": "code",
    "deepnote_to_be_reexecuted": false,
    "execution_millis": 92,
    "execution_start": 1622250241442,
    "source_hash": "d2cc25c9"
   },
   "outputs": [
    {
     "name": "stdout",
     "output_type": "stream",
     "text": [
      "Random Forest Model:\n",
      "              precision    recall  f1-score   support\n",
      "\n",
      "           0       0.00      0.00      0.00       273\n",
      "           1       0.68      0.69      0.68       981\n",
      "           2       0.74      0.87      0.80      1374\n",
      "\n",
      "    accuracy                           0.72      2628\n",
      "   macro avg       0.47      0.52      0.50      2628\n",
      "weighted avg       0.64      0.72      0.67      2628\n",
      "\n"
     ]
    }
   ],
   "source": [
    "#evaluate on test sample \n",
    "y_pred_test = rf.predict(X_test[combo_feats])\n",
    "\n",
    "#compute accuracy\n",
    "rf_test_acc = round(rf.score(X_test[combo_feats], y_test), 4)\n",
    "\n",
    "print(\"Random Forest Model:\")\n",
    "print(classification_report(y_test, y_pred_test))"
   ]
  },
  {
   "cell_type": "code",
   "execution_count": 45,
   "metadata": {
    "cell_id": "00068-c4430c15-a820-4206-95ec-5dd5ed7ee4ff",
    "deepnote_cell_type": "code",
    "deepnote_to_be_reexecuted": false,
    "execution_millis": 11,
    "execution_start": 1622250136498,
    "source_hash": "c6aeab9c",
    "tags": []
   },
   "outputs": [
    {
     "name": "stdout",
     "output_type": "stream",
     "text": [
      "Decision Tree Model:\n",
      "              precision    recall  f1-score   support\n",
      "\n",
      "           0       0.00      0.00      0.00       273\n",
      "           1       0.68      0.69      0.68       981\n",
      "           2       0.74      0.87      0.80      1374\n",
      "\n",
      "    accuracy                           0.72      2628\n",
      "   macro avg       0.47      0.52      0.50      2628\n",
      "weighted avg       0.64      0.72      0.67      2628\n",
      "\n"
     ]
    }
   ],
   "source": [
    "#evaluate on test sample \n",
    "y_pred_test = dt.predict(X_test[combo_feats])\n",
    "\n",
    "#compute accuracy\n",
    "dt_test_acc = round(dt.score(X_test[combo_feats], y_test), 4)\n",
    "\n",
    "print(\"Decision Tree Model:\")\n",
    "print(classification_report(y_test, y_pred_test))"
   ]
  },
  {
   "cell_type": "code",
   "execution_count": 46,
   "metadata": {
    "cell_id": "00069-7486cce8-52cb-4261-8a1b-d6b0445acca9",
    "deepnote_cell_type": "code",
    "deepnote_to_be_reexecuted": false,
    "execution_millis": 2,
    "execution_start": 1622241532820,
    "is_code_hidden": true,
    "source_hash": "3cf1bb2c",
    "tags": []
   },
   "outputs": [],
   "source": [
    "# FEEL FREE TO DELETE\n",
    "def get_metrics(mod, X, y):\n",
    "    \"\"\"\n",
    "    get_metrics returns the baseline accuracy score \n",
    "    along with the current model's accuracy score for comparison \n",
    "    along with a table of precision/recall/f1-score/support percentages of the model\n",
    "    \"\"\"\n",
    "    baseline_accuracy = (train.alleged_threat_lvl == 1).mean()\n",
    "    y_pred = mod.predict(X)\n",
    "    accuracy = mod.score(X, y)\n",
    "    conf = confusion_matrix(y, y_pred)\n",
    "    prfs = pd.DataFrame(precision_recall_fscore_support(y, y_pred), index=['precision', 'recall', 'f1-score', 'support'])\n",
    "    \n",
    "    print(f'''\n",
    "    BASELINE accuracy is: {baseline_accuracy:.2%}\n",
    "    The accuracy for our model is: {accuracy:.5%} \n",
    "    ''')\n",
    "    return conf, prfs"
   ]
  },
  {
   "cell_type": "code",
   "execution_count": 47,
   "metadata": {
    "cell_id": "00070-bbb99a7d-4cb9-4832-a4a4-4e0a58b890c1",
    "deepnote_cell_type": "code",
    "deepnote_to_be_reexecuted": false,
    "execution_millis": 63,
    "execution_start": 1622241532866,
    "is_code_hidden": true,
    "is_output_hidden": true,
    "source_hash": "939ea9a5",
    "tags": []
   },
   "outputs": [
    {
     "name": "stdout",
     "output_type": "stream",
     "text": [
      "\n",
      "    BASELINE accuracy is: 37.36%\n",
      "    The accuracy for our model is: 71.53729% \n",
      "    \n"
     ]
    },
    {
     "data": {
      "text/plain": [
       "(array([[   0,  152,  121],\n",
       "        [   0,  679,  302],\n",
       "        [   0,  173, 1201]]),\n",
       "                0           1            2\n",
       " precision    0.0    0.676295     0.739532\n",
       " recall       0.0    0.692151     0.874090\n",
       " f1-score     0.0    0.684131     0.801201\n",
       " support    273.0  981.000000  1374.000000)"
      ]
     },
     "execution_count": 47,
     "metadata": {},
     "output_type": "execute_result"
    }
   ],
   "source": [
    "# WANTED TO SEE MORE DECIMAL PTS\n",
    "get_metrics(dt, X_test[combo_feats], y_test)"
   ]
  },
  {
   "cell_type": "code",
   "execution_count": 48,
   "metadata": {
    "cell_id": "00071-25c5fc5b-99f7-4c50-accf-e6bd6f9878a2",
    "deepnote_cell_type": "code",
    "deepnote_to_be_reexecuted": false,
    "execution_millis": 19,
    "execution_start": 1622241532910,
    "is_code_hidden": true,
    "is_output_hidden": true,
    "source_hash": "6d25118a",
    "tags": []
   },
   "outputs": [
    {
     "data": {
      "text/plain": [
       "['fleeing',\n",
       " 'had_other_weapon',\n",
       " 'is_middle eastern',\n",
       " '12-17',\n",
       " 'had_no_weapon',\n",
       " 'is_native_american',\n",
       " '25-34',\n",
       " '18-24',\n",
       " 'under 12',\n",
       " 'had_firearm',\n",
       " 'is_hispanic']"
      ]
     },
     "execution_count": 48,
     "metadata": {},
     "output_type": "execute_result"
    }
   ],
   "source": [
    "combo_feats\n"
   ]
  },
  {
   "cell_type": "code",
   "execution_count": 49,
   "metadata": {
    "cell_id": "00072-d553f9bf-a1d3-4b69-a467-e89310c19d44",
    "deepnote_cell_type": "code",
    "deepnote_to_be_reexecuted": false,
    "execution_millis": 19,
    "execution_start": 1622241532910,
    "is_code_hidden": true,
    "is_output_hidden": true,
    "source_hash": "291eff78",
    "tags": []
   },
   "outputs": [
    {
     "name": "stdout",
     "output_type": "stream",
     "text": [
      "<class 'pandas.core.frame.DataFrame'>\n",
      "Int64Index: 2628 entries, 5584 to 2943\n",
      "Data columns (total 1 columns):\n",
      " #   Column              Non-Null Count  Dtype \n",
      "---  ------              --------------  ----- \n",
      " 0   alleged_threat_lvl  2628 non-null   object\n",
      "dtypes: object(1)\n",
      "memory usage: 41.1+ KB\n"
     ]
    }
   ],
   "source": [
    "rfcn = pd.DataFrame(data = y_test)\n",
    "rfcn['alleged_threat_lvl'] = rfcn['alleged_threat_lvl'].astype(str)\n",
    "rfcn.info()"
   ]
  },
  {
   "cell_type": "code",
   "execution_count": 50,
   "metadata": {
    "cell_id": "00073-5c739141-ab9a-48b7-8654-d07cac16a31e",
    "deepnote_cell_type": "code",
    "deepnote_to_be_reexecuted": false,
    "execution_millis": 2,
    "execution_start": 1622241532915,
    "is_code_hidden": true,
    "is_output_hidden": true,
    "source_hash": "beef4ab1",
    "tags": []
   },
   "outputs": [],
   "source": [
    "from sklearn.tree import DecisionTreeClassifier\n",
    "from sklearn import tree\n",
    "from sklearn.tree import export_graphviz"
   ]
  },
  {
   "cell_type": "code",
   "execution_count": 51,
   "metadata": {
    "cell_id": "00074-2c76aa3a-3178-4fd4-ac49-75bdae579875",
    "deepnote_cell_type": "code",
    "deepnote_to_be_reexecuted": false,
    "execution_millis": 1,
    "execution_start": 1622241532917,
    "is_code_hidden": true,
    "source_hash": "643a9f3e",
    "tags": []
   },
   "outputs": [],
   "source": [
    "est = rf.estimators_"
   ]
  },
  {
   "cell_type": "code",
   "execution_count": 52,
   "metadata": {
    "cell_id": "00075-71cfbd50-c4d7-4bec-8c6c-4d56128eb234",
    "deepnote_cell_type": "code",
    "deepnote_to_be_reexecuted": false,
    "execution_millis": 6,
    "execution_start": 1622241532962,
    "is_code_hidden": true,
    "is_output_hidden": true,
    "source_hash": "ebf9eea0",
    "tags": []
   },
   "outputs": [
    {
     "name": "stdout",
     "output_type": "stream",
     "text": [
      "100\n"
     ]
    }
   ],
   "source": [
    "# Our Random Forest consists of 100 trees\n",
    "print(len(rf.estimators_))"
   ]
  },
  {
   "cell_type": "code",
   "execution_count": 53,
   "metadata": {
    "cell_id": "00076-9fc8edec-c7c3-4ab4-b9d2-547a45e5b279",
    "deepnote_cell_type": "code",
    "deepnote_to_be_reexecuted": false,
    "execution_millis": 258,
    "execution_start": 1622241532963,
    "is_code_hidden": true,
    "is_output_hidden": true,
    "source_hash": "99e59487",
    "tags": []
   },
   "outputs": [
    {
     "name": "stdout",
     "output_type": "stream",
     "text": [
      "[1.47377679e-01 1.12588500e-02 2.94021145e-04 2.57800193e-02\n",
      " 5.65095424e-01 3.54228684e-03 4.63586846e-03 1.08849595e-02\n",
      " 1.93055299e-02 2.03299687e-01 8.52567537e-03]\n"
     ]
    },
    {
     "data": {
      "text/plain": [
       "Text(0.5, 1.0, 'Which Features are Better Predictors?')"
      ]
     },
     "execution_count": 53,
     "metadata": {},
     "output_type": "execute_result"
    },
    {
     "data": {
      "image/png": "[encoded data removed]",
      "text/plain": [
       "<Figure size 360x360 with 1 Axes>"
      ]
     },
     "metadata": {
      "needs_background": "light"
     },
     "output_type": "display_data"
    }
   ],
   "source": [
    "# Find feature importance\n",
    "print(rf.feature_importances_)\n",
    "\n",
    "featimp = pd.DataFrame(rf.feature_importances_)\n",
    "featimp['combo_feats'] = combo_feats\n",
    "\n",
    "\n",
    "\n",
    "feature_names = combo_feats\n",
    "\n",
    "plt.figure(figsize=(5, 5))\n",
    "plt.barh(feature_names, rf.feature_importances_)\n",
    "plt.title('Which Features are Better Predictors?')\n"
   ]
  },
  {
   "cell_type": "code",
   "execution_count": 54,
   "metadata": {
    "cell_id": "00081-09ecdae4-e130-42a7-9f6c-c118469d278a",
    "deepnote_cell_type": "code",
    "deepnote_to_be_reexecuted": false,
    "execution_millis": 3,
    "execution_start": 1622250246873,
    "source_hash": "539288ac",
    "tags": []
   },
   "outputs": [],
   "source": [
    "# append dataframe to record accuracy on final random forest\n",
    "metric_df = metric_df.append({\n",
    "    'Model': 'Random Forest', \n",
    "    'Baseline': round(baseline_accuracy, 4),\n",
    "    'Train Accuracy': round(rf_train_acc, 4),\n",
    "    'Validate Accuracy':round(rf_val_acc, 4),\n",
    "    'Test Accuracy': round(rf_test_acc, 4)}, ignore_index=True)"
   ]
  },
  {
   "cell_type": "code",
   "execution_count": 55,
   "metadata": {
    "cell_id": "00077-81eaa08c-d864-43cd-8825-31905cb4591d",
    "deepnote_cell_type": "code",
    "deepnote_to_be_reexecuted": false,
    "execution_millis": 6,
    "execution_start": 1622250252020,
    "source_hash": "81489f9"
   },
   "outputs": [],
   "source": [
    "# append dataframe to record accuracy on final random forest\n",
    "metric_df = metric_df.append({\n",
    "    'Model': 'Decision Tree', \n",
    "    'Baseline': round(baseline_accuracy, 4),\n",
    "    'Train Accuracy': round(dt_train_acc, 4),\n",
    "    'Validate Accuracy':round(dt_val_acc, 4),\n",
    "    'Test Accuracy': round(dt_test_acc, 4)}, ignore_index=True)"
   ]
  },
  {
   "cell_type": "code",
   "execution_count": 56,
   "metadata": {
    "cell_id": "00078-42dcbd24-404e-4f00-b6c9-d41c295fdea5",
    "deepnote_cell_type": "code",
    "deepnote_to_be_reexecuted": false,
    "execution_millis": 13,
    "execution_start": 1622250254361,
    "source_hash": "400c35cf"
   },
   "outputs": [
    {
     "data": {
      "text/html": [
       "<div>\n",
       "<style scoped>\n",
       "    .dataframe tbody tr th:only-of-type {\n",
       "        vertical-align: middle;\n",
       "    }\n",
       "\n",
       "    .dataframe tbody tr th {\n",
       "        vertical-align: top;\n",
       "    }\n",
       "\n",
       "    .dataframe thead th {\n",
       "        text-align: right;\n",
       "    }\n",
       "</style>\n",
       "<table border=\"1\" class=\"dataframe\">\n",
       "  <thead>\n",
       "    <tr style=\"text-align: right;\">\n",
       "      <th></th>\n",
       "      <th>Model</th>\n",
       "      <th>Baseline</th>\n",
       "      <th>Train Accuracy</th>\n",
       "      <th>Validate Accuracy</th>\n",
       "      <th>Test Accuracy</th>\n",
       "    </tr>\n",
       "  </thead>\n",
       "  <tbody>\n",
       "    <tr>\n",
       "      <th>0</th>\n",
       "      <td>Decision Tree</td>\n",
       "      <td>0.5228</td>\n",
       "      <td>0.7187</td>\n",
       "      <td>0.7187</td>\n",
       "      <td>NaN</td>\n",
       "    </tr>\n",
       "    <tr>\n",
       "      <th>1</th>\n",
       "      <td>Random Forest</td>\n",
       "      <td>0.5228</td>\n",
       "      <td>0.7191</td>\n",
       "      <td>0.7184</td>\n",
       "      <td>NaN</td>\n",
       "    </tr>\n",
       "    <tr>\n",
       "      <th>2</th>\n",
       "      <td>K-Nearest Neighbor</td>\n",
       "      <td>0.5228</td>\n",
       "      <td>0.7129</td>\n",
       "      <td>0.7044</td>\n",
       "      <td>NaN</td>\n",
       "    </tr>\n",
       "    <tr>\n",
       "      <th>3</th>\n",
       "      <td>Logistic Regression</td>\n",
       "      <td>0.5228</td>\n",
       "      <td>0.7178</td>\n",
       "      <td>0.7165</td>\n",
       "      <td>NaN</td>\n",
       "    </tr>\n",
       "    <tr>\n",
       "      <th>4</th>\n",
       "      <td>Random Forest</td>\n",
       "      <td>0.5228</td>\n",
       "      <td>0.7191</td>\n",
       "      <td>0.7184</td>\n",
       "      <td>0.7154</td>\n",
       "    </tr>\n",
       "    <tr>\n",
       "      <th>5</th>\n",
       "      <td>Decision Tree</td>\n",
       "      <td>0.5228</td>\n",
       "      <td>0.7187</td>\n",
       "      <td>0.7187</td>\n",
       "      <td>0.7154</td>\n",
       "    </tr>\n",
       "  </tbody>\n",
       "</table>\n",
       "</div>"
      ],
      "text/plain": [
       "                 Model  Baseline  Train Accuracy  Validate Accuracy  \\\n",
       "0        Decision Tree    0.5228          0.7187             0.7187   \n",
       "1        Random Forest    0.5228          0.7191             0.7184   \n",
       "2   K-Nearest Neighbor    0.5228          0.7129             0.7044   \n",
       "3  Logistic Regression    0.5228          0.7178             0.7165   \n",
       "4        Random Forest    0.5228          0.7191             0.7184   \n",
       "5        Decision Tree    0.5228          0.7187             0.7187   \n",
       "\n",
       "   Test Accuracy  \n",
       "0            NaN  \n",
       "1            NaN  \n",
       "2            NaN  \n",
       "3            NaN  \n",
       "4         0.7154  \n",
       "5         0.7154  "
      ]
     },
     "execution_count": 56,
     "metadata": {},
     "output_type": "execute_result"
    }
   ],
   "source": [
    "metric_df"
   ]
  },
  {
   "cell_type": "code",
   "execution_count": 57,
   "metadata": {
    "cell_id": "00079-3622e377-0b2e-40d7-9ffe-0b0bb8bd6218",
    "deepnote_cell_type": "code",
    "deepnote_to_be_reexecuted": false,
    "execution_millis": 21,
    "execution_start": 1622241533269,
    "is_code_hidden": true,
    "is_output_hidden": true,
    "source_hash": "514a04bf",
    "tags": []
   },
   "outputs": [
    {
     "data": {
      "text/plain": [
       "array([0.0438291 , 0.01523259, 0.        , 0.00703148, 0.85229204,\n",
       "       0.        , 0.        , 0.        , 0.01325378, 0.06120492,\n",
       "       0.0071561 ])"
      ]
     },
     "execution_count": 57,
     "metadata": {},
     "output_type": "execute_result"
    }
   ],
   "source": [
    "dt.feature_importances_"
   ]
  },
  {
   "cell_type": "code",
   "execution_count": 58,
   "metadata": {
    "cell_id": "00080-35e350b8-378e-47a8-aba1-50cfa790812a",
    "deepnote_cell_type": "code",
    "deepnote_to_be_reexecuted": false,
    "execution_millis": 0,
    "execution_start": 1622250288258,
    "source_hash": "d4d4436d",
    "tags": []
   },
   "outputs": [],
   "source": [
    "dt_fe_df = pd.DataFrame(dt.feature_importances_, index = X_train[combo_feats].columns,\n",
    "                          columns = ['coeffs']).sort_values(by = 'coeffs', ascending = False)"
   ]
  },
  {
   "cell_type": "code",
   "execution_count": 59,
   "metadata": {
    "cell_id": "00081-7179a975-ad47-441d-bc09-458745ac4ae4",
    "deepnote_cell_type": "code",
    "deepnote_to_be_reexecuted": false,
    "execution_millis": 4,
    "execution_start": 1622250289450,
    "source_hash": "5a7652b2",
    "tags": []
   },
   "outputs": [],
   "source": [
    "dt_fe_df['coeffs']= round(dt_fe_df.coeffs*100, 2)"
   ]
  },
  {
   "cell_type": "code",
   "execution_count": 60,
   "metadata": {
    "cell_id": "00082-9d73e7b3-eae4-43bb-8889-d81e363d7132",
    "deepnote_cell_type": "code",
    "deepnote_to_be_reexecuted": false,
    "execution_millis": 12,
    "execution_start": 1622250289800,
    "source_hash": "b2eaea76",
    "tags": []
   },
   "outputs": [
    {
     "data": {
      "text/html": [
       "<div>\n",
       "<style scoped>\n",
       "    .dataframe tbody tr th:only-of-type {\n",
       "        vertical-align: middle;\n",
       "    }\n",
       "\n",
       "    .dataframe tbody tr th {\n",
       "        vertical-align: top;\n",
       "    }\n",
       "\n",
       "    .dataframe thead th {\n",
       "        text-align: right;\n",
       "    }\n",
       "</style>\n",
       "<table border=\"1\" class=\"dataframe\">\n",
       "  <thead>\n",
       "    <tr style=\"text-align: right;\">\n",
       "      <th></th>\n",
       "      <th>coeffs</th>\n",
       "    </tr>\n",
       "  </thead>\n",
       "  <tbody>\n",
       "    <tr>\n",
       "      <th>had_no_weapon</th>\n",
       "      <td>85.23</td>\n",
       "    </tr>\n",
       "    <tr>\n",
       "      <th>had_firearm</th>\n",
       "      <td>6.12</td>\n",
       "    </tr>\n",
       "    <tr>\n",
       "      <th>fleeing</th>\n",
       "      <td>4.38</td>\n",
       "    </tr>\n",
       "    <tr>\n",
       "      <th>had_other_weapon</th>\n",
       "      <td>1.52</td>\n",
       "    </tr>\n",
       "    <tr>\n",
       "      <th>under 12</th>\n",
       "      <td>1.33</td>\n",
       "    </tr>\n",
       "    <tr>\n",
       "      <th>is_hispanic</th>\n",
       "      <td>0.72</td>\n",
       "    </tr>\n",
       "    <tr>\n",
       "      <th>12-17</th>\n",
       "      <td>0.70</td>\n",
       "    </tr>\n",
       "    <tr>\n",
       "      <th>is_middle eastern</th>\n",
       "      <td>0.00</td>\n",
       "    </tr>\n",
       "    <tr>\n",
       "      <th>is_native_american</th>\n",
       "      <td>0.00</td>\n",
       "    </tr>\n",
       "    <tr>\n",
       "      <th>25-34</th>\n",
       "      <td>0.00</td>\n",
       "    </tr>\n",
       "    <tr>\n",
       "      <th>18-24</th>\n",
       "      <td>0.00</td>\n",
       "    </tr>\n",
       "  </tbody>\n",
       "</table>\n",
       "</div>"
      ],
      "text/plain": [
       "                    coeffs\n",
       "had_no_weapon        85.23\n",
       "had_firearm           6.12\n",
       "fleeing               4.38\n",
       "had_other_weapon      1.52\n",
       "under 12              1.33\n",
       "is_hispanic           0.72\n",
       "12-17                 0.70\n",
       "is_middle eastern     0.00\n",
       "is_native_american    0.00\n",
       "25-34                 0.00\n",
       "18-24                 0.00"
      ]
     },
     "execution_count": 60,
     "metadata": {},
     "output_type": "execute_result"
    }
   ],
   "source": [
    "dt_fe_df"
   ]
  },
  {
   "cell_type": "code",
   "execution_count": 61,
   "metadata": {
    "cell_id": "00083-3a5deba6-d0f2-4955-8fb1-79b384211eab",
    "deepnote_cell_type": "code",
    "deepnote_to_be_reexecuted": false,
    "execution_millis": 452,
    "execution_start": 1622250290870,
    "source_hash": "c21578a9",
    "tags": []
   },
   "outputs": [
    {
     "data": {
      "image/png": "[encoded data removed]",
      "text/plain": [
       "<Figure size 1152x576 with 1 Axes>"
      ]
     },
     "metadata": {
      "needs_background": "light"
     },
     "output_type": "display_data"
    }
   ],
   "source": [
    "plt.figure(figsize=(16, 8))\n",
    "sns.barplot(data=dt_fe_df, x='coeffs', y=dt_fe_df.index, palette='PuBu_r')\n",
    "plt.title('Which Attributes Affect Likelihood of Threat Status?', fontsize=30)\n",
    "plt.xlim([0, 100])\n",
    "plt.xlabel('Percent of Importance', fontsize=20)\n",
    "plt.ylabel('Attribute', fontsize=20)\n",
    "plt.show()"
   ]
  },
  {
   "cell_type": "code",
   "execution_count": 62,
   "metadata": {
    "cell_id": "00084-b92f3685-aadc-4387-876a-c4228e3bb4d8",
    "deepnote_cell_type": "code",
    "deepnote_to_be_reexecuted": false,
    "execution_millis": 5,
    "execution_start": 1622250322623,
    "source_hash": "af4c522f",
    "tags": []
   },
   "outputs": [],
   "source": [
    "iter2_dt_acc = pd.DataFrame({\n",
    "\n",
    "    'titles':['Actual Threat', 'Baseline Threat Accuracy', 'Decision Tree Model Threat Accuracy'],\n",
    "    'pct':[round(((df.alleged_threat_lvl == 2).mean())*100, 2), round(((train.alleged_threat_lvl == 2).mean())*100, 2), round((dt.score(X_test[combo_feats], y_test))*100, 2)]\n",
    "})"
   ]
  },
  {
   "cell_type": "code",
   "execution_count": 76,
   "metadata": {
    "cell_id": "00085-00a72f51-a2e8-4367-baa6-65cfd44e9dcb",
    "deepnote_cell_type": "code",
    "deepnote_to_be_reexecuted": false,
    "execution_millis": 1166,
    "execution_start": 1622241533680,
    "is_code_hidden": true,
    "is_output_hidden": true,
    "source_hash": "64567f0d",
    "tags": []
   },
   "outputs": [],
   "source": [
    "iter2_rf_acc = pd.DataFrame({\n",
    "\n",
    "    'titles':['Actual Threat', 'Baseline Threat Accuracy', 'Random Forest Model Threat Accuracy'],\n",
    "    'pct':[round(((df.alleged_threat_lvl == 2).mean())*100, 2), round(((train.alleged_threat_lvl == 2).mean())*100, 2), round(rf_test_acc, 4)*100]\n",
    "})"
   ]
  },
  {
   "cell_type": "code",
   "execution_count": 77,
   "metadata": {
    "cell_id": "00086-a9b2d4f4-ad52-4f8d-9e07-dbda7eb3e2e4",
    "deepnote_cell_type": "code",
    "deepnote_to_be_reexecuted": false,
    "execution_millis": 174,
    "execution_start": 1622250335762,
    "source_hash": "35804cf2",
    "tags": []
   },
   "outputs": [
    {
     "data": {
      "image/png": "[encoded data removed]",
      "text/plain": [
       "<Figure size 648x504 with 1 Axes>"
      ]
     },
     "metadata": {},
     "output_type": "display_data"
    }
   ],
   "source": [
    "f, ax = plt.subplots(figsize=(9, 7)) \n",
    "\n",
    "sns.barplot(data=iter2_dt_acc, x='titles', y='pct', palette='ocean_r')\n",
    "\n",
    "ax.text(1.92, 64, '72%', style='italic', size='xx-large', color='white')\n",
    "ax.text(0.88, 48, '52.28%', style='italic', size='large', color='white')\n",
    "ax.text(-0.13, 48, '52.29%', style='italic', size='large', color='white')\n",
    "\n",
    "plt.title('Second Iteration Accuracy Levels', fontsize=20)\n",
    "plt.ylim([0, 100])\n",
    "plt.xlabel('', fontsize=10)\n",
    "plt.ylabel('Accuracy Percentage (%)', fontsize=10)\n",
    "plt.show()\n"
   ]
  },
  {
   "cell_type": "code",
   "execution_count": 78,
   "metadata": {
    "cell_id": "00087-ffbd4607-0cfb-4bec-ad47-0008205cf279",
    "deepnote_cell_type": "code",
    "deepnote_to_be_reexecuted": false,
    "execution_millis": 173,
    "execution_start": 1622241597888,
    "is_code_hidden": true,
    "is_output_hidden": true,
    "source_hash": "ab9337c6",
    "tags": []
   },
   "outputs": [
    {
     "data": {
      "image/png": "[encoded data removed]",
      "text/plain": [
       "<Figure size 662.4x504 with 1 Axes>"
      ]
     },
     "metadata": {},
     "output_type": "display_data"
    }
   ],
   "source": [
    "f, ax = plt.subplots(figsize=(9.2, 7)) \n",
    "\n",
    "sns.barplot(data=iter2_rf_acc, x='titles', y='pct', palette='ocean_r')\n",
    "\n",
    "ax.text(1.92, 64, '72%', style='italic', size='xx-large', color='white')\n",
    "ax.text(0.88, 48, '52.28%', style='italic', size='large', color='white')\n",
    "ax.text(-0.13, 48, '52.29%', style='italic', size='large', color='white')\n",
    "\n",
    "plt.title('Second Iteration Accuracy Levels', fontsize=20)\n",
    "plt.ylim([0, 100])\n",
    "plt.xlabel('', fontsize=10)\n",
    "plt.ylabel('Accuracy Percentage (%)', fontsize=10)\n",
    "plt.show()"
   ]
  },
  {
   "cell_type": "markdown",
   "metadata": {
    "cell_id": "00088-8af72c8f-6cea-4ba2-9968-d7f2b87fd6f8",
    "deepnote_cell_type": "markdown",
    "is_code_hidden": true,
    "tags": []
   },
   "source": [
    "### What is ROC?\n",
    "\n",
    "ROC curves describe the **trade-off between the true positive rate (TPR) and false positive (FPR) rate along different probability thresholds** for a classifier. True positive rate is also known as recall and sometimes Sensitivity — it’s a measure of how well you can find the needle in a haystack.\n",
    "\n",
    "**The receiver operating characteristic (ROC) curve has become the p-value of machine learning classification** — it’s very frequently used, misused, misinterpreted, and mis-maligned.\n",
    "\n",
    "However, ROC curves (like p-values) are useful when used right. By that, I mean they are **useful when not used as a rote score**, but when they form part of a nuanced description of a model’s ability to help solve the problem at hand (e.g. in the case of minority class identification, do they perform better than a random guess or assuming all instances are in the majority class).\n",
    "\n",
    "### What is AUC?\n",
    "\n",
    "Area Under the Curve gives the rate of successful classification by the model. The AUC makes it easy to compare the ROC curve of one model to another.\n",
    "\n",
    "\n"
   ]
  },
  {
   "cell_type": "code",
   "execution_count": 66,
   "metadata": {
    "cell_id": "00089-ad06817b-0a7f-4cf8-907b-dedfea9731ed",
    "deepnote_cell_type": "code",
    "deepnote_to_be_reexecuted": false,
    "execution_millis": 14,
    "execution_start": 1622241749682,
    "source_hash": "ed857f47",
    "tags": []
   },
   "outputs": [
    {
     "data": {
      "text/plain": [
       "11903    2\n",
       "5725     2\n",
       "10665    2\n",
       "57       1\n",
       "1116     2\n",
       "        ..\n",
       "843      0\n",
       "163      1\n",
       "6263     1\n",
       "1948     1\n",
       "6818     2\n",
       "Name: alleged_threat_lvl, Length: 7356, dtype: int64"
      ]
     },
     "execution_count": 66,
     "metadata": {},
     "output_type": "execute_result"
    }
   ],
   "source": [
    "y_train"
   ]
  },
  {
   "cell_type": "code",
   "execution_count": 67,
   "metadata": {
    "cell_id": "00090-fd90800f-32a5-44a3-a626-d6faf8b70f5f",
    "deepnote_cell_type": "code",
    "deepnote_to_be_reexecuted": false,
    "execution_millis": 375,
    "execution_start": 1622253581270,
    "source_hash": "f625ee06",
    "tags": []
   },
   "outputs": [
    {
     "data": {
      "image/png": "[encoded data removed]",
      "text/plain": [
       "<Figure size 720x720 with 1 Axes>"
      ]
     },
     "metadata": {
      "needs_background": "light"
     },
     "output_type": "display_data"
    }
   ],
   "source": [
    "from sklearn.metrics import auc, roc_curve, roc_auc_score, precision_recall_curve\n",
    "\n",
    "plt.figure(figsize=(10,10))\n",
    "\n",
    "y_pred = dt.predict_proba(X_test[combo_feats])[:,1]\n",
    "\n",
    "fpr_t, tpr_t, threshold_t = roc_curve(pd.Series(np.where(y_test == 2, 1, 0)), y_pred)\n",
    "plt.plot(fpr_t, tpr_t, lw=2, label=f'Decision Regression-threat (area = %0.3f)' % auc(fpr_t, tpr_t))\n",
    "\n",
    "fpr_nt, tpr_nt, threshold_nt = roc_curve(pd.Series(np.where(y_test == 1, 1, 0)), y_pred)\n",
    "plt.plot(fpr_nt, tpr_nt, lw=2, label=f'Decision Regression-no threat (area = %0.3f)' % auc(fpr_nt, tpr_nt))\n",
    "\n",
    "fpr_at, tpr_at, threshold_at = roc_curve(pd.Series(np.where(y_test == 0, 1, 0)), y_pred)\n",
    "plt.plot(fpr_at, tpr_at, lw=2, label=f'Decision Regression-ambiguous threat (area = %0.3f)' % auc(fpr_at, tpr_at))\n",
    "\n",
    "\n",
    "plt.plot([0, 1], [0, 1], color='black', lw=2, linestyle= '-', label = 'Random Classifier')\n",
    "plt.xlim([0.0, 1.0])\n",
    "plt.ylim([0.0, 1.0])\n",
    "plt.xlabel('False Positive Rate', fontsize=13)\n",
    "plt.ylabel('True Positive Rate', fontsize=14)\n",
    "plt.title('', fontsize=17)\n",
    "plt.legend(loc='lower right', fontsize=13)\n",
    "plt.show()"
   ]
  },
  {
   "cell_type": "code",
   "execution_count": 68,
   "metadata": {
    "cell_id": "00096-cb98f724-7ed0-4e79-a9a9-ae56a8e01a45",
    "deepnote_cell_type": "code",
    "deepnote_to_be_reexecuted": false,
    "execution_millis": 12,
    "execution_start": 1622250668702,
    "source_hash": "d696aa0b",
    "tags": []
   },
   "outputs": [
    {
     "data": {
      "text/plain": [
       "5584     1\n",
       "11165    1\n",
       "716      1\n",
       "9232     2\n",
       "9445     2\n",
       "        ..\n",
       "1808     1\n",
       "12811    2\n",
       "933      2\n",
       "6830     2\n",
       "2943     1\n",
       "Name: alleged_threat_lvl, Length: 2628, dtype: int64"
      ]
     },
     "execution_count": 68,
     "metadata": {},
     "output_type": "execute_result"
    }
   ],
   "source": [
    "y_test"
   ]
  },
  {
   "cell_type": "code",
   "execution_count": 69,
   "metadata": {
    "cell_id": "00097-e43e0ed5-3fdd-4bb2-83ed-a389f0b82c6b",
    "deepnote_cell_type": "code",
    "deepnote_to_be_reexecuted": false,
    "execution_millis": 19,
    "execution_start": 1622253715671,
    "source_hash": "78bfde6a",
    "tags": []
   },
   "outputs": [
    {
     "data": {
      "text/plain": [
       "0.7541839394368673"
      ]
     },
     "execution_count": 69,
     "metadata": {},
     "output_type": "execute_result"
    }
   ],
   "source": [
    "#micro avg\n",
    "y_pred = dt.predict_proba(X_test[combo_feats])\n",
    "roc_auc_score(y_test, y_pred, multi_class='ovr')"
   ]
  },
  {
   "cell_type": "code",
   "execution_count": 70,
   "metadata": {
    "cell_id": "00098-2d45d1fa-e2d7-41c3-8d27-1875fa48653d",
    "deepnote_cell_type": "code",
    "deepnote_to_be_reexecuted": false,
    "execution_millis": 13,
    "execution_start": 1622254007837,
    "source_hash": "fdb39135",
    "tags": []
   },
   "outputs": [
    {
     "data": {
      "text/plain": [
       "0.7134577736683689"
      ]
     },
     "execution_count": 70,
     "metadata": {},
     "output_type": "execute_result"
    }
   ],
   "source": [
    "#macro avg\n",
    "roc_auc_score(y_test, y_pred, multi_class='ovo')"
   ]
  },
  {
   "cell_type": "code",
   "execution_count": 71,
   "metadata": {
    "cell_id": "00096-a23c1cdf-7212-4bd9-a2f6-a5b2aea43783",
    "deepnote_cell_type": "code",
    "deepnote_to_be_reexecuted": false,
    "execution_millis": 365,
    "execution_start": 1622254586682,
    "source_hash": "e588b418",
    "tags": []
   },
   "outputs": [
    {
     "data": {
      "image/png": "[encoded data removed]",
      "text/plain": [
       "<Figure size 576x396 with 1 Axes>"
      ]
     },
     "metadata": {},
     "output_type": "display_data"
    },
    {
     "data": {
      "text/plain": [
       "<AxesSubplot:title={'center':'ROC Curves for DecisionTreeClassifier'}, xlabel='False Positive Rate', ylabel='True Positive Rate'>"
      ]
     },
     "execution_count": 71,
     "metadata": {},
     "output_type": "execute_result"
    }
   ],
   "source": [
    "from yellowbrick.classifier import ROCAUC\n",
    "\n",
    "# Instaniate the classification model and visualizer\n",
    "visualizer = ROCAUC(dt, classes=[\"threat\", \"no_threat\", \"ambiguous_threat\"])\n",
    "\n",
    "visualizer.fit(X_train[combo_feats], y_train)        # Fit the training data to the visualizer\n",
    "visualizer.score(X_test[combo_feats], y_test)        # Evaluate the model on the test data\n",
    "visualizer.show()                       # Finalize and render the figure"
   ]
  },
  {
   "cell_type": "code",
   "execution_count": 72,
   "metadata": {
    "allow_embed": false,
    "cell_id": "00099-c492a272-b0be-4aba-a903-431ff4956f1c",
    "deepnote_cell_type": "code",
    "deepnote_to_be_reexecuted": false,
    "execution_millis": 271,
    "execution_start": 1622254475579,
    "source_hash": "b9cec7d5",
    "tags": []
   },
   "outputs": [
    {
     "data": {
      "image/png": "[encoded data removed]",
      "text/plain": [
       "<Figure size 576x396 with 1 Axes>"
      ]
     },
     "metadata": {},
     "output_type": "display_data"
    },
    {
     "data": {
      "text/plain": [
       "<AxesSubplot:title={'center':'ROC Curves for DecisionTreeClassifier'}, xlabel='False Positive Rate', ylabel='True Positive Rate'>"
      ]
     },
     "execution_count": 72,
     "metadata": {},
     "output_type": "execute_result"
    }
   ],
   "source": [
    "from yellowbrick.classifier import ROCAUC\n",
    "\n",
    "# Instaniate the classification model and visualizer\n",
    "visualizer = ROCAUC(dt, per_class=False, micro=False\n",
    ")\n",
    "\n",
    "visualizer.fit(X_train[combo_feats], y_train)        # Fit the training data to the visualizer\n",
    "visualizer.score(X_test[combo_feats], y_test)        # Evaluate the model on the test data\n",
    "visualizer.show()                       # Finalize and render the figure"
   ]
  },
  {
   "cell_type": "markdown",
   "metadata": {
    "cell_id": "00097-ab6fea92-9806-4d10-b2e9-cc85762d193b",
    "deepnote_cell_type": "markdown"
   },
   "source": [
    "\n",
    "___\n",
    "# Conclusion\n",
    "\n",
    "### Takeaways\n",
    "- All models had roughly the same score for train and validate sets.\n",
    "- K-Nearest neighbor model performed the worst on out-of-sample data.\n",
    "- The best performing model uses a Random Forest algorithm and combined features from Select K Best and Recursive Feature Elimination lists.\n",
    "- Our final Random Forest model increased by 21% from a baseline accuracy of 51% to 72% accuracy on out-of-sample data.\n",
    "\n",
    "\n",
    "### Drivers\n",
    "- The top drivers of predicting a victim's threat level were encounter type of incident, gender, race, armed/unarmed status, mental illness, age, geography, fleeing events, and body camera reports.\n",
    "- These drivers can be used to shed light on changes to be made in law enforcement and to help law enforcement agencies spot risk factors, so they may step in before risk transforms into actual harm.\n",
    "\n",
    "\n",
    "### Next Steps\n",
    "- Fill in missing values manually as best as possible based on the description column in the dataset (large amount of data missing). \n",
    "- Natural language processing exploration on description of incident. "
   ]
  },
  {
   "cell_type": "markdown",
   "metadata": {
    "cell_id": "00098-91b8fcd2-262d-4b9e-aede-3830cb25f3cd",
    "deepnote_cell_type": "markdown",
    "tags": []
   },
   "source": [
    "\n",
    "#### Report containing summarization of notebook can be found [here](link to presentation)."
   ]
  },
  {
   "cell_type": "markdown",
   "metadata": {
    "cell_id": "00099-c8398304-2be8-486d-84fd-7aab16750a85",
    "deepnote_cell_type": "markdown",
    "tags": []
   },
   "source": []
  },
  {
   "cell_type": "markdown",
   "metadata": {
    "created_in_deepnote_cell": true,
    "deepnote_cell_type": "markdown",
    "tags": []
   },
   "source": [
    "<a style='text-decoration:none;line-height:16px;display:flex;color:#5B5B62;padding:10px;justify-content:end;' href='https://deepnote.com?utm_source=created-in-deepnote-cell&projectId=258e71fc-cf2b-48c3-8461-70ecd9787aa1' target=\"_blank\">\n",
    "<img alt='Created in deepnote.com' style='display:inline;max-height:16px;margin:0px;margin-right:7.5px;' src='data:image/svg+xml;base64,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' > </img>\n",
    "Created in <span style='font-weight:600;margin-left:4px;'>Deepnote</span></a>"
   ]
  }
 ],
 "metadata": {
  "deepnote": {},
  "deepnote_execution_queue": [],
  "deepnote_notebook_id": "e94b6cc4-380b-40c2-b24d-58fd067602b2",
  "kernelspec": {
   "display_name": "Python 3",
   "language": "python",
   "name": "python3"
  },
  "language_info": {
   "codemirror_mode": {
    "name": "ipython",
    "version": 3
   },
   "file_extension": ".py",
   "mimetype": "text/x-python",
   "name": "python",
   "nbconvert_exporter": "python",
   "pygments_lexer": "ipython3",
   "version": "3.8.5"
  }
 },
 "nbformat": 4,
 "nbformat_minor": 4
}
