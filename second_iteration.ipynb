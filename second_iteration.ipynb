{
 "cells": [
  {
   "cell_type": "markdown",
   "metadata": {
    "cell_id": "00000-d77f129a-c43b-4726-afe8-afbd214b5f74",
    "deepnote_cell_type": "markdown"
   },
   "source": [
    "# Project Description and Goals\n",
    "\n",
    "Across the United States, there are police altercations that result in deadly outcomes. A great deal of data on the fatal occurrences has been recorded and includes information on fatalities caused by police, whether they were on-duty, off-duty, criminal, line-of-duty, local, federal, intentional, or accidental. For our capstone, we address the issue of police violence that has become a heated topic throughout the country. As a team, we attempt to help law enforcement agencies identify risk factors so they may step in before risk transforms into actual harm. \n",
    "\n",
    "\n",
    "Our project aims to research what attributes surround fatal police-related encounters and to analyze the attributes about these incidents that may be leading to the fatalities. Two open-sourced datasets we acquired:\n",
    "- [Mapping Police Violence](https://mappingpoliceviolence.org/aboutthedata) for our first iteration has gathered over 9000 police killings from January 2013 to May 2021. \n",
    "    - For the first iteration, we’re taking one of these attributes (the threat level of the victim) and building a model around it to predict if the victim is classified as being an attacker or a non-attacker based on the other top attributes in the MPV dataset. \n",
    "    \n",
    "\n",
    "- [Fatal Encounters](https://fatalencounters.org/) for our second iteration has information on over 30,000 records from January 2000 to May 2021.\n",
    "    - For the second iteration, we're doing the same (building a model around the threat level of the victim), but predicting if the victim is classified as threatening, non-threatening, or ambiguous based on the other top attributes in the FE dataset. \n",
    "\n",
    "Our hope is to shed light on changes to be made within law enforcement, help identify what response teams should be more available, and to improve the way emergency teams are responding to altercations across the United States. Is there a way to modify law enforcement trainings and policies to decrease officer-involved incidents. Are we able to improve the safety and outcomes for all people involved, both officers and civilians? The overall goal is to save lives, provide insights, and find recommendations that will be of assistance. \n",
    "\n",
    "### Objectives for this project include:\n",
    "- Identifying the drivers of civilian fatalities. \n",
    "- Documenting the process and analysis throughout the data science pipeline.\n",
    "- Constructing a classification model that can predict what the victim's threat level is, given the features of the dataset.\n",
    "- Deliverables:\n",
    "    - README.md file containing overall project information. \n",
    "    - A well-documented Jupyter notebook detailing the data science pipeline process.\n",
    "    - Python modules that automate the data acquisition, preparation, and exploration process.\n",
    "\n",
    "### Initial Thoughts and Hypotheses:\n",
    "- Armed/unarmed victims?\n",
    "- Fleeing/not fleeing victims? \n",
    "- Did the victim put others in danger?\n",
    "- Is there a mental illness that contributed to the incident? \n",
    "- Is race, gender, age or location influencing alleged threat level?\n",
    "- How does mental illness affect each gender?\n",
    "- Are officers wearing their body cameras and does it make a difference in alleged threat level?\n",
    "- Is there even enough information being documented on the police reports? \n",
    "- Is cause of death and alleged threat level independent of one another?\n",
    "- What are the fatalities by state: % killings vs pop"
   ]
  },
  {
   "cell_type": "markdown",
   "metadata": {
    "cell_id": "00001-83c91440-e88f-4d9b-8bcd-b7a13f6c7c3c",
    "deepnote_cell_type": "markdown"
   },
   "source": [
    "___\n",
    "# Imports \n",
    "Import all necessary libraries and functions. "
   ]
  },
  {
   "cell_type": "code",
   "execution_count": 1,
   "metadata": {
    "cell_id": "00002-2e354f67-b1e8-4373-91dc-37221dd1e34f",
    "deepnote_cell_type": "code",
    "deepnote_to_be_reexecuted": false,
    "execution_millis": 2867,
    "execution_start": 1622146064012,
    "source_hash": "cfefdd55"
   },
   "outputs": [],
   "source": [
    "import pandas as pd\n",
    "import numpy as np\n",
    "\n",
    "# Helper Functions\n",
    "import wrangle as w \n",
    "import explore as exp\n",
    "from explore import rfe, split, select_kbest\n",
    "\n",
    "# Visualizations\n",
    "import seaborn as sns\n",
    "import matplotlib.pyplot as plt\n",
    "\n",
    "# Ignore warnings\n",
    "import warnings\n",
    "warnings.filterwarnings(\"ignore\")\n",
    "\n",
    "# Hypothesis tests\n",
    "from scipy import stats\n",
    "from scipy.stats import chi2_contingency\n",
    "from scipy.stats import ttest_1samp\n",
    "from scipy.stats import ttest_ind\n",
    "\n",
    "# Split data\n",
    "from sklearn.model_selection import train_test_split\n",
    "\n",
    "#Feature Engineering\n",
    "from sklearn.feature_selection import SelectKBest, f_regression, chi2\n",
    "from sklearn.feature_selection import RFE\n",
    "\n",
    "# Evaluate models\n",
    "from sklearn.metrics import classification_report\n",
    "from sklearn.metrics import accuracy_score\n",
    "\n",
    "# Create models for classification ML:\n",
    "# Decision Tree  \n",
    "from sklearn.tree import DecisionTreeClassifier\n",
    "from sklearn.tree import export_graphviz\n",
    "\n",
    "# Random Forest\n",
    "from sklearn.ensemble import RandomForestClassifier\n",
    "\n",
    "# K-Nearest Neighbor(KNN)  \n",
    "from sklearn.neighbors import KNeighborsClassifier\n",
    "\n",
    "# Logistic Regression\n",
    "from sklearn.linear_model import LogisticRegression\n",
    "\n",
    "# Evaluate models\n",
    "from sklearn.metrics import confusion_matrix\n",
    "from sklearn.metrics import classification_report\n",
    "from sklearn.metrics import accuracy_score\n",
    "from sklearn.metrics import precision_score\n",
    "from sklearn.metrics import recall_score\n",
    "from sklearn.metrics import f1_score\n",
    "from sklearn.metrics import precision_recall_fscore_support "
   ]
  },
  {
   "cell_type": "markdown",
   "metadata": {
    "cell_id": "00003-2770cbbd-fdcf-4c85-bbdd-ea45f2042301",
    "deepnote_cell_type": "markdown"
   },
   "source": [
    "\n",
    "___\n",
    "# Acquire Data"
   ]
  },
  {
   "cell_type": "code",
   "execution_count": 2,
   "metadata": {
    "cell_id": "00004-dd2383f4-2918-4934-9c5e-dd00f0db84dd",
    "deepnote_cell_type": "code",
    "deepnote_to_be_reexecuted": false,
    "execution_millis": 49371,
    "execution_start": 1622146066884,
    "source_hash": "eece8c83",
    "tags": []
   },
   "outputs": [
    {
     "data": {
      "application/vnd.deepnote.dataframe.v2+json": {
       "column_count": 48,
       "columns": [
        {
         "dtype": "float64",
         "name": "Unique ID",
         "stats": {
          "histogram": [
           {
            "bin_end": 2575.8,
            "bin_start": 1,
            "count": 1
           },
           {
            "bin_end": 5150.6,
            "bin_start": 2575.8,
            "count": 0
           },
           {
            "bin_end": 7725.400000000001,
            "bin_start": 5150.6,
            "count": 0
           },
           {
            "bin_end": 10300.2,
            "bin_start": 7725.400000000001,
            "count": 0
           },
           {
            "bin_end": 12875,
            "bin_start": 10300.2,
            "count": 0
           },
           {
            "bin_end": 15449.800000000001,
            "bin_start": 12875,
            "count": 0
           },
           {
            "bin_end": 18024.600000000002,
            "bin_start": 15449.800000000001,
            "count": 0
           },
           {
            "bin_end": 20599.4,
            "bin_start": 18024.600000000002,
            "count": 0
           },
           {
            "bin_end": 23174.2,
            "bin_start": 20599.4,
            "count": 0
           },
           {
            "bin_end": 25749,
            "bin_start": 23174.2,
            "count": 4
           }
          ],
          "max": "25749.0",
          "min": "1.0",
          "nan_count": 0,
          "unique_count": 5
         }
        },
        {
         "dtype": "object",
         "name": "Name",
         "stats": {
          "categories": [
           {
            "count": 1,
            "name": "Samuel H. Knapp"
           },
           {
            "count": 1,
            "name": "Mark A. Horton"
           },
           {
            "count": 3,
            "name": "3 others"
           }
          ],
          "nan_count": 0,
          "unique_count": 5
         }
        },
        {
         "dtype": "object",
         "name": "Age",
         "stats": {
          "categories": [
           {
            "count": 1,
            "name": "17"
           },
           {
            "count": 1,
            "name": "21"
           },
           {
            "count": 3,
            "name": "3 others"
           }
          ],
          "nan_count": 0,
          "unique_count": 5
         }
        },
        {
         "dtype": "object",
         "name": "Gender",
         "stats": {
          "categories": [
           {
            "count": 4,
            "name": "Male"
           },
           {
            "count": 1,
            "name": "Female"
           }
          ],
          "nan_count": 0,
          "unique_count": 2
         }
        },
        {
         "dtype": "object",
         "name": "Race",
         "stats": {
          "categories": [
           {
            "count": 3,
            "name": "African-American/Black"
           },
           {
            "count": 1,
            "name": "European-American/White"
           },
           {
            "count": 1,
            "name": "Hispanic/Latino"
           }
          ],
          "nan_count": 0,
          "unique_count": 3
         }
        },
        {
         "dtype": "object",
         "name": "Race with imputations",
         "stats": {
          "categories": [
           {
            "count": 3,
            "name": "African-American/Black"
           },
           {
            "count": 1,
            "name": "European-American/White"
           },
           {
            "count": 1,
            "name": "Hispanic/Latino"
           }
          ],
          "nan_count": 0,
          "unique_count": 3
         }
        },
        {
         "dtype": "object",
         "name": "Imputation probability",
         "stats": {
          "categories": [
           {
            "count": 5,
            "name": "Not imputed"
           }
          ],
          "nan_count": 0,
          "unique_count": 1
         }
        },
        {
         "dtype": "object",
         "name": "URL of image (PLS NO HOTLINKS)",
         "stats": {
          "categories": [
           {
            "count": 5,
            "name": "Missing"
           }
          ],
          "nan_count": 5,
          "unique_count": 0
         }
        },
        {
         "dtype": "datetime64[ns]",
         "name": "Date of injury resulting in death (month/day/year)",
         "stats": {
          "histogram": [
           {
            "bin_end": 946693440000000000,
            "bin_start": 946684800000000000,
            "count": 4
           },
           {
            "bin_end": 946702080000000000,
            "bin_start": 946693440000000000,
            "count": 0
           },
           {
            "bin_end": 946710720000000000,
            "bin_start": 946702080000000000,
            "count": 0
           },
           {
            "bin_end": 946719360000000000,
            "bin_start": 946710720000000000,
            "count": 0
           },
           {
            "bin_end": 946728000000000000,
            "bin_start": 946719360000000000,
            "count": 0
           },
           {
            "bin_end": 946736640000000000,
            "bin_start": 946728000000000000,
            "count": 0
           },
           {
            "bin_end": 946745280000000000,
            "bin_start": 946736640000000000,
            "count": 0
           },
           {
            "bin_end": 946753920000000000,
            "bin_start": 946745280000000000,
            "count": 0
           },
           {
            "bin_end": 946762560000000000,
            "bin_start": 946753920000000000,
            "count": 0
           },
           {
            "bin_end": 946771200000000000,
            "bin_start": 946762560000000000,
            "count": 1
           }
          ],
          "max": "2000-01-02 00:00:00",
          "min": "2000-01-01 00:00:00",
          "nan_count": 0,
          "unique_count": 2
         }
        },
        {
         "dtype": "object",
         "name": "Location of injury (address)",
         "stats": {
          "categories": [
           {
            "count": 2,
            "name": "Davison Freeway"
           },
           {
            "count": 1,
            "name": "27898-27804 US-101"
           },
           {
            "count": 2,
            "name": "2 others"
           }
          ],
          "nan_count": 0,
          "unique_count": 4
         }
        },
        {
         "dtype": "object",
         "name": "Location of death (city)",
         "stats": {
          "categories": [
           {
            "count": 2,
            "name": "Detroit"
           },
           {
            "count": 1,
            "name": "Willits"
           },
           {
            "count": 2,
            "name": "2 others"
           }
          ],
          "nan_count": 0,
          "unique_count": 4
         }
        },
        {
         "dtype": "object",
         "name": "State",
         "stats": {
          "categories": [
           {
            "count": 2,
            "name": "CA"
           },
           {
            "count": 2,
            "name": "MI"
           },
           {
            "count": 1,
            "name": "NM"
           }
          ],
          "nan_count": 0,
          "unique_count": 3
         }
        },
        {
         "dtype": "float64",
         "name": "Location of death (zip code)",
         "stats": {
          "histogram": [
           {
            "bin_end": 52965,
            "bin_start": 48203,
            "count": 2
           },
           {
            "bin_end": 57727,
            "bin_start": 52965,
            "count": 0
           },
           {
            "bin_end": 62489,
            "bin_start": 57727,
            "count": 0
           },
           {
            "bin_end": 67251,
            "bin_start": 62489,
            "count": 0
           },
           {
            "bin_end": 72013,
            "bin_start": 67251,
            "count": 0
           },
           {
            "bin_end": 76775,
            "bin_start": 72013,
            "count": 0
           },
           {
            "bin_end": 81537,
            "bin_start": 76775,
            "count": 0
           },
           {
            "bin_end": 86299,
            "bin_start": 81537,
            "count": 0
           },
           {
            "bin_end": 91061,
            "bin_start": 86299,
            "count": 1
           },
           {
            "bin_end": 95823,
            "bin_start": 91061,
            "count": 2
           }
          ],
          "max": "95823.0",
          "min": "48203.0",
          "nan_count": 0,
          "unique_count": 4
         }
        },
        {
         "dtype": "object",
         "name": "Location of death (county)",
         "stats": {
          "categories": [
           {
            "count": 2,
            "name": "Wayne"
           },
           {
            "count": 1,
            "name": "Mendocino"
           },
           {
            "count": 2,
            "name": "2 others"
           }
          ],
          "nan_count": 0,
          "unique_count": 4
         }
        },
        {
         "dtype": "object",
         "name": "Full Address",
         "stats": {
          "categories": [
           {
            "count": 2,
            "name": "Davison Freeway Detroit MI 48203 Wayne"
           },
           {
            "count": 1,
            "name": "27898-27804 US-101 Willits CA 95490 Mendocino"
           },
           {
            "count": 2,
            "name": "2 others"
           }
          ],
          "nan_count": 0,
          "unique_count": 4
         }
        },
        {
         "dtype": "object",
         "name": "Latitude",
         "stats": {
          "categories": [
           {
            "count": 2,
            "name": "42.4045257999999"
           },
           {
            "count": 1,
            "name": "39.4708829"
           },
           {
            "count": 2,
            "name": "2 others"
           }
          ],
          "nan_count": 0,
          "unique_count": 4
         }
        },
        {
         "dtype": "float64",
         "name": "Longitude",
         "stats": {
          "histogram": [
           {
            "bin_end": -119.33480358,
            "bin_start": -123.3617513,
            "count": 2
           },
           {
            "bin_end": -115.30785585999999,
            "bin_start": -119.33480358,
            "count": 0
           },
           {
            "bin_end": -111.28090814,
            "bin_start": -115.30785585999999,
            "count": 0
           },
           {
            "bin_end": -107.25396042,
            "bin_start": -111.28090814,
            "count": 0
           },
           {
            "bin_end": -103.22701269999999,
            "bin_start": -107.25396042,
            "count": 1
           },
           {
            "bin_end": -99.20006498,
            "bin_start": -103.22701269999999,
            "count": 0
           },
           {
            "bin_end": -95.17311726,
            "bin_start": -99.20006498,
            "count": 0
           },
           {
            "bin_end": -91.14616953999999,
            "bin_start": -95.17311726,
            "count": 0
           },
           {
            "bin_end": -87.11922181999999,
            "bin_start": -91.14616953999999,
            "count": 0
           },
           {
            "bin_end": -83.0922741,
            "bin_start": -87.11922181999999,
            "count": 2
           }
          ],
          "max": "-83.0922741",
          "min": "-123.3617513",
          "nan_count": 0,
          "unique_count": 4
         }
        },
        {
         "dtype": "object",
         "name": "Agency or agencies involved",
         "stats": {
          "categories": [
           {
            "count": 1,
            "name": "Mendocino County Sheriff's Office"
           },
           {
            "count": 2,
            "name": "2 others"
           },
           {
            "count": 2,
            "name": "Missing"
           }
          ],
          "nan_count": 2,
          "unique_count": 3
         }
        },
        {
         "dtype": "object",
         "name": "Highest level of force",
         "stats": {
          "categories": [
           {
            "count": 5,
            "name": "Vehicle"
           }
          ],
          "nan_count": 0,
          "unique_count": 1
         }
        },
        {
         "dtype": "float64",
         "name": "UID Temporary",
         "stats": {
          "histogram": [
           {
            "bin_end": 0.1,
            "bin_start": 0,
            "count": 0
           },
           {
            "bin_end": 0.2,
            "bin_start": 0.1,
            "count": 0
           },
           {
            "bin_end": 0.30000000000000004,
            "bin_start": 0.2,
            "count": 0
           },
           {
            "bin_end": 0.4,
            "bin_start": 0.30000000000000004,
            "count": 0
           },
           {
            "bin_end": 0.5,
            "bin_start": 0.4,
            "count": 0
           },
           {
            "bin_end": 0.6000000000000001,
            "bin_start": 0.5,
            "count": 0
           },
           {
            "bin_end": 0.7000000000000001,
            "bin_start": 0.6000000000000001,
            "count": 0
           },
           {
            "bin_end": 0.8,
            "bin_start": 0.7000000000000001,
            "count": 0
           },
           {
            "bin_end": 0.9,
            "bin_start": 0.8,
            "count": 0
           },
           {
            "bin_end": 1,
            "bin_start": 0.9,
            "count": 0
           }
          ],
          "max": null,
          "min": null,
          "nan_count": 5,
          "unique_count": 0
         }
        },
        {
         "dtype": "object",
         "name": "Name Temporary",
         "stats": {
          "categories": [
           {
            "count": 5,
            "name": "Missing"
           }
          ],
          "nan_count": 5,
          "unique_count": 0
         }
        },
        {
         "dtype": "object",
         "name": "Armed/Unarmed",
         "stats": {
          "categories": [
           {
            "count": 5,
            "name": "Missing"
           }
          ],
          "nan_count": 5,
          "unique_count": 0
         }
        },
        {
         "dtype": "object",
         "name": "Alleged weapon",
         "stats": {
          "categories": [
           {
            "count": 5,
            "name": "Missing"
           }
          ],
          "nan_count": 5,
          "unique_count": 0
         }
        },
        {
         "dtype": "object",
         "name": "Aggressive physical movement",
         "stats": {
          "categories": [
           {
            "count": 5,
            "name": "Missing"
           }
          ],
          "nan_count": 5,
          "unique_count": 0
         }
        },
        {
         "dtype": "object",
         "name": "Fleeing/Not fleeing",
         "stats": {
          "categories": [
           {
            "count": 5,
            "name": "Missing"
           }
          ],
          "nan_count": 5,
          "unique_count": 0
         }
        },
        {
         "dtype": "object",
         "name": "Description Temp",
         "stats": {
          "categories": [
           {
            "count": 5,
            "name": "Missing"
           }
          ],
          "nan_count": 5,
          "unique_count": 0
         }
        },
        {
         "dtype": "object",
         "name": "URL Temp",
         "stats": {
          "categories": [
           {
            "count": 5,
            "name": "Missing"
           }
          ],
          "nan_count": 5,
          "unique_count": 0
         }
        },
        {
         "dtype": "object",
         "name": "Brief description",
         "stats": {
          "categories": [
           {
            "count": 1,
            "name": "Samuel Knapp was allegedly driving a stolen vehicle when Deputies Scott Nording and Mike Davis started to pursue him. He crashed and was killed during the pursuit about 12:35 a.m."
           },
           {
            "count": 1,
            "name": "Two Detroit men killed when their car crashed were among at least eight people who died in New Year's holiday weekend traffic accidents in Michigan, police said. Mark A Horton, 21, and passenger Phillip A. Bluebridge, 19, were killed when their car crashed in their hometown at 1:54 a.m. They were not wearing seat belts. While these deaths were not reported in news media as police pursuit deaths, National Highway Traffic Safety Administration data shows police reported two people dying in a police pursuit at 1:54 a.m. on January 1, 2000, on Davison Freeway. It was the only double fatality crash in Michigan that night."
           },
           {
            "count": 3,
            "name": "3 others"
           }
          ],
          "nan_count": 0,
          "unique_count": 5
         }
        },
        {
         "dtype": "object",
         "name": "Dispositions/Exclusions INTERNAL USE, NOT FOR ANALYSIS",
         "stats": {
          "categories": [
           {
            "count": 4,
            "name": "Unreported"
           },
           {
            "count": 1,
            "name": "Unknown"
           }
          ],
          "nan_count": 0,
          "unique_count": 2
         }
        },
        {
         "dtype": "object",
         "name": "Intended use of force (Developing)",
         "stats": {
          "categories": [
           {
            "count": 5,
            "name": "Pursuit"
           }
          ],
          "nan_count": 0,
          "unique_count": 1
         }
        },
        {
         "dtype": "object",
         "name": "Supporting document link",
         "stats": {
          "categories": [
           {
            "count": 2,
            "name": "https://drive.google.com/file/d/1-nK-RohgiM-tZ5QV0fKOefRUbwJDRD6i/view?usp=sharing"
           },
           {
            "count": 1,
            "name": "https://drive.google.com/file/d/10DisrV8K5ReP1lUkqo4y7krqc5Z__rtx/view?usp=sharing"
           },
           {
            "count": 2,
            "name": "2 others"
           }
          ],
          "nan_count": 0,
          "unique_count": 4
         }
        },
        {
         "dtype": "object",
         "name": "Foreknowledge of mental illness? INTERNAL USE, NOT FOR ANALYSIS",
         "stats": {
          "categories": [
           {
            "count": 5,
            "name": "No"
           }
          ],
          "nan_count": 0,
          "unique_count": 1
         }
        },
        {
         "dtype": "float64",
         "name": "Unnamed: 32",
         "stats": {
          "histogram": [
           {
            "bin_end": 0.1,
            "bin_start": 0,
            "count": 0
           },
           {
            "bin_end": 0.2,
            "bin_start": 0.1,
            "count": 0
           },
           {
            "bin_end": 0.30000000000000004,
            "bin_start": 0.2,
            "count": 0
           },
           {
            "bin_end": 0.4,
            "bin_start": 0.30000000000000004,
            "count": 0
           },
           {
            "bin_end": 0.5,
            "bin_start": 0.4,
            "count": 0
           },
           {
            "bin_end": 0.6000000000000001,
            "bin_start": 0.5,
            "count": 0
           },
           {
            "bin_end": 0.7000000000000001,
            "bin_start": 0.6000000000000001,
            "count": 0
           },
           {
            "bin_end": 0.8,
            "bin_start": 0.7000000000000001,
            "count": 0
           },
           {
            "bin_end": 0.9,
            "bin_start": 0.8,
            "count": 0
           },
           {
            "bin_end": 1,
            "bin_start": 0.9,
            "count": 0
           }
          ],
          "max": null,
          "min": null,
          "nan_count": 5,
          "unique_count": 0
         }
        },
        {
         "dtype": "float64",
         "name": "Unnamed: 33",
         "stats": {
          "histogram": [
           {
            "bin_end": 0.1,
            "bin_start": 0,
            "count": 0
           },
           {
            "bin_end": 0.2,
            "bin_start": 0.1,
            "count": 0
           },
           {
            "bin_end": 0.30000000000000004,
            "bin_start": 0.2,
            "count": 0
           },
           {
            "bin_end": 0.4,
            "bin_start": 0.30000000000000004,
            "count": 0
           },
           {
            "bin_end": 0.5,
            "bin_start": 0.4,
            "count": 0
           },
           {
            "bin_end": 0.6000000000000001,
            "bin_start": 0.5,
            "count": 0
           },
           {
            "bin_end": 0.7000000000000001,
            "bin_start": 0.6000000000000001,
            "count": 0
           },
           {
            "bin_end": 0.8,
            "bin_start": 0.7000000000000001,
            "count": 0
           },
           {
            "bin_end": 0.9,
            "bin_start": 0.8,
            "count": 0
           },
           {
            "bin_end": 1,
            "bin_start": 0.9,
            "count": 0
           }
          ],
          "max": null,
          "min": null,
          "nan_count": 5,
          "unique_count": 0
         }
        },
        {
         "dtype": "float64",
         "name": "Unique ID formula",
         "stats": {
          "histogram": [
           {
            "bin_end": 0.1,
            "bin_start": 0,
            "count": 0
           },
           {
            "bin_end": 0.2,
            "bin_start": 0.1,
            "count": 0
           },
           {
            "bin_end": 0.30000000000000004,
            "bin_start": 0.2,
            "count": 0
           },
           {
            "bin_end": 0.4,
            "bin_start": 0.30000000000000004,
            "count": 0
           },
           {
            "bin_end": 0.5,
            "bin_start": 0.4,
            "count": 0
           },
           {
            "bin_end": 0.6000000000000001,
            "bin_start": 0.5,
            "count": 0
           },
           {
            "bin_end": 0.7000000000000001,
            "bin_start": 0.6000000000000001,
            "count": 0
           },
           {
            "bin_end": 0.8,
            "bin_start": 0.7000000000000001,
            "count": 0
           },
           {
            "bin_end": 0.9,
            "bin_start": 0.8,
            "count": 0
           },
           {
            "bin_end": 1,
            "bin_start": 0.9,
            "count": 0
           }
          ],
          "max": null,
          "min": null,
          "nan_count": 5,
          "unique_count": 0
         }
        },
        {
         "dtype": "float64",
         "name": "Unique identifier (redundant)",
         "stats": {
          "histogram": [
           {
            "bin_end": 2575.8,
            "bin_start": 1,
            "count": 1
           },
           {
            "bin_end": 5150.6,
            "bin_start": 2575.8,
            "count": 0
           },
           {
            "bin_end": 7725.400000000001,
            "bin_start": 5150.6,
            "count": 0
           },
           {
            "bin_end": 10300.2,
            "bin_start": 7725.400000000001,
            "count": 0
           },
           {
            "bin_end": 12875,
            "bin_start": 10300.2,
            "count": 0
           },
           {
            "bin_end": 15449.800000000001,
            "bin_start": 12875,
            "count": 0
           },
           {
            "bin_end": 18024.600000000002,
            "bin_start": 15449.800000000001,
            "count": 0
           },
           {
            "bin_end": 20599.4,
            "bin_start": 18024.600000000002,
            "count": 0
           },
           {
            "bin_end": 23174.2,
            "bin_start": 20599.4,
            "count": 0
           },
           {
            "bin_end": 25749,
            "bin_start": 23174.2,
            "count": 4
           }
          ],
          "max": "25749.0",
          "min": "1.0",
          "nan_count": 0,
          "unique_count": 5
         }
        },
        {
         "dtype": "float64",
         "name": "Unnamed: 36",
         "stats": {
          "histogram": [
           {
            "bin_end": 0.1,
            "bin_start": 0,
            "count": 0
           },
           {
            "bin_end": 0.2,
            "bin_start": 0.1,
            "count": 0
           },
           {
            "bin_end": 0.30000000000000004,
            "bin_start": 0.2,
            "count": 0
           },
           {
            "bin_end": 0.4,
            "bin_start": 0.30000000000000004,
            "count": 0
           },
           {
            "bin_end": 0.5,
            "bin_start": 0.4,
            "count": 0
           },
           {
            "bin_end": 0.6000000000000001,
            "bin_start": 0.5,
            "count": 0
           },
           {
            "bin_end": 0.7000000000000001,
            "bin_start": 0.6000000000000001,
            "count": 0
           },
           {
            "bin_end": 0.8,
            "bin_start": 0.7000000000000001,
            "count": 0
           },
           {
            "bin_end": 0.9,
            "bin_start": 0.8,
            "count": 0
           },
           {
            "bin_end": 1,
            "bin_start": 0.9,
            "count": 0
           }
          ],
          "max": null,
          "min": null,
          "nan_count": 5,
          "unique_count": 0
         }
        },
        {
         "dtype": "object",
         "name": "Unnamed: 37",
         "stats": {
          "categories": [
           {
            "count": 5,
            "name": "Missing"
           }
          ],
          "nan_count": 5,
          "unique_count": 0
         }
        },
        {
         "dtype": "float64",
         "name": "Unnamed: 38",
         "stats": {
          "histogram": [
           {
            "bin_end": 0.1,
            "bin_start": 0,
            "count": 0
           },
           {
            "bin_end": 0.2,
            "bin_start": 0.1,
            "count": 0
           },
           {
            "bin_end": 0.30000000000000004,
            "bin_start": 0.2,
            "count": 0
           },
           {
            "bin_end": 0.4,
            "bin_start": 0.30000000000000004,
            "count": 0
           },
           {
            "bin_end": 0.5,
            "bin_start": 0.4,
            "count": 0
           },
           {
            "bin_end": 0.6000000000000001,
            "bin_start": 0.5,
            "count": 0
           },
           {
            "bin_end": 0.7000000000000001,
            "bin_start": 0.6000000000000001,
            "count": 0
           },
           {
            "bin_end": 0.8,
            "bin_start": 0.7000000000000001,
            "count": 0
           },
           {
            "bin_end": 0.9,
            "bin_start": 0.8,
            "count": 0
           },
           {
            "bin_end": 1,
            "bin_start": 0.9,
            "count": 0
           }
          ],
          "max": null,
          "min": null,
          "nan_count": 5,
          "unique_count": 0
         }
        },
        {
         "dtype": "object",
         "name": "Unnamed: 39",
         "stats": {
          "categories": [
           {
            "count": 5,
            "name": "Missing"
           }
          ],
          "nan_count": 5,
          "unique_count": 0
         }
        },
        {
         "dtype": "object",
         "name": "Unnamed: 40",
         "stats": {
          "categories": [
           {
            "count": 5,
            "name": "Missing"
           }
          ],
          "nan_count": 5,
          "unique_count": 0
         }
        },
        {
         "dtype": "object",
         "name": "Unnamed: 41",
         "stats": {
          "categories": [
           {
            "count": 5,
            "name": "Missing"
           }
          ],
          "nan_count": 5,
          "unique_count": 0
         }
        },
        {
         "dtype": "object",
         "name": "Unnamed: 42",
         "stats": {
          "categories": [
           {
            "count": 5,
            "name": "Missing"
           }
          ],
          "nan_count": 5,
          "unique_count": 0
         }
        },
        {
         "dtype": "object",
         "name": "Unnamed: 43",
         "stats": {
          "categories": [
           {
            "count": 5,
            "name": "Missing"
           }
          ],
          "nan_count": 5,
          "unique_count": 0
         }
        },
        {
         "dtype": "object",
         "name": "Unnamed: 44",
         "stats": {
          "categories": [
           {
            "count": 5,
            "name": "Missing"
           }
          ],
          "nan_count": 5,
          "unique_count": 0
         }
        },
        {
         "dtype": "object",
         "name": "Unnamed: 45",
         "stats": {
          "categories": [
           {
            "count": 5,
            "name": "Missing"
           }
          ],
          "nan_count": 5,
          "unique_count": 0
         }
        },
        {
         "dtype": "float64",
         "name": "Unnamed: 46",
         "stats": {
          "histogram": [
           {
            "bin_end": 0.1,
            "bin_start": 0,
            "count": 0
           },
           {
            "bin_end": 0.2,
            "bin_start": 0.1,
            "count": 0
           },
           {
            "bin_end": 0.30000000000000004,
            "bin_start": 0.2,
            "count": 0
           },
           {
            "bin_end": 0.4,
            "bin_start": 0.30000000000000004,
            "count": 0
           },
           {
            "bin_end": 0.5,
            "bin_start": 0.4,
            "count": 0
           },
           {
            "bin_end": 0.6000000000000001,
            "bin_start": 0.5,
            "count": 0
           },
           {
            "bin_end": 0.7000000000000001,
            "bin_start": 0.6000000000000001,
            "count": 0
           },
           {
            "bin_end": 0.8,
            "bin_start": 0.7000000000000001,
            "count": 0
           },
           {
            "bin_end": 0.9,
            "bin_start": 0.8,
            "count": 0
           },
           {
            "bin_end": 1,
            "bin_start": 0.9,
            "count": 0
           }
          ],
          "max": null,
          "min": null,
          "nan_count": 5,
          "unique_count": 0
         }
        },
        {
         "dtype": "float64",
         "name": "Unnamed: 47",
         "stats": {
          "histogram": [
           {
            "bin_end": 0.1,
            "bin_start": 0,
            "count": 0
           },
           {
            "bin_end": 0.2,
            "bin_start": 0.1,
            "count": 0
           },
           {
            "bin_end": 0.30000000000000004,
            "bin_start": 0.2,
            "count": 0
           },
           {
            "bin_end": 0.4,
            "bin_start": 0.30000000000000004,
            "count": 0
           },
           {
            "bin_end": 0.5,
            "bin_start": 0.4,
            "count": 0
           },
           {
            "bin_end": 0.6000000000000001,
            "bin_start": 0.5,
            "count": 0
           },
           {
            "bin_end": 0.7000000000000001,
            "bin_start": 0.6000000000000001,
            "count": 0
           },
           {
            "bin_end": 0.8,
            "bin_start": 0.7000000000000001,
            "count": 0
           },
           {
            "bin_end": 0.9,
            "bin_start": 0.8,
            "count": 0
           },
           {
            "bin_end": 1,
            "bin_start": 0.9,
            "count": 0
           }
          ],
          "max": null,
          "min": null,
          "nan_count": 5,
          "unique_count": 0
         }
        },
        {
         "dtype": "int64",
         "name": "_deepnote_index_column"
        }
       ],
       "row_count": 5,
       "rows_bottom": null,
       "rows_top": [
        {
         "Age": "17",
         "Agency or agencies involved": "Mendocino County Sheriff's Office",
         "Aggressive physical movement": "nan",
         "Alleged weapon": "nan",
         "Armed/Unarmed": "nan",
         "Brief description": "Samuel Knapp was allegedly driving a stolen vehicle when Deputies Scott Nording and Mike Davis started to pursue him. He crashed and was killed during the pursuit about 12:35 a.m.",
         "Date of injury resulting in death (month/day/year)": "2000-01-01T00:00:00.000000",
         "Description Temp": "nan",
         "Dispositions/Exclusions INTERNAL USE, NOT FOR ANALYSIS": "Unreported",
         "Fleeing/Not fleeing": "nan",
         "Foreknowledge of mental illness? INTERNAL USE, NOT FOR ANALYSIS": "No",
         "Full Address": "27898-27804 US-101 Willits CA 95490 Mendocino",
         "Gender": "Male",
         "Highest level of force": "Vehicle",
         "Imputation probability": "Not imputed",
         "Intended use of force (Developing)": "Pursuit",
         "Latitude": 39.4708829,
         "Location of death (city)": "Willits",
         "Location of death (county)": "Mendocino",
         "Location of death (zip code)": 95490,
         "Location of injury (address)": "27898-27804 US-101",
         "Longitude": -123.3617513,
         "Name": "Samuel H. Knapp",
         "Name Temporary": "nan",
         "Race": "European-American/White",
         "Race with imputations": "European-American/White",
         "State": "CA",
         "Supporting document link": "https://drive.google.com/file/d/10DisrV8K5ReP1lUkqo4y7krqc5Z__rtx/view?usp=sharing",
         "UID Temporary": "nan",
         "URL Temp": "nan",
         "URL of image (PLS NO HOTLINKS)": "nan",
         "Unique ID": 25746,
         "Unique ID formula": "nan",
         "Unique identifier (redundant)": 25746,
         "Unnamed: 32": "nan",
         "Unnamed: 33": "nan",
         "Unnamed: 36": "nan",
         "Unnamed: 37": "nan",
         "Unnamed: 38": "nan",
         "Unnamed: 39": "nan",
         "Unnamed: 40": "nan",
         "Unnamed: 41": "nan",
         "Unnamed: 42": "nan",
         "Unnamed: 43": "nan",
         "Unnamed: 44": "nan",
         "Unnamed: 45": "nan",
         "Unnamed: 46": "nan",
         "Unnamed: 47": "nan",
         "_deepnote_index_column": 0
        },
        {
         "Age": "21",
         "Agency or agencies involved": "nan",
         "Aggressive physical movement": "nan",
         "Alleged weapon": "nan",
         "Armed/Unarmed": "nan",
         "Brief description": "Two Detroit men killed when their car crashed were among at least eight people who died in New Year's holiday weekend traffic accidents in Michigan, police said. Mark A Horton, 21, and passenger Phillip A. Bluebridge, 19, were killed when their car crashed in their hometown at 1:54 a.m. They were not wearing seat belts. While these deaths were not reported in news media as police pursuit deaths, National Highway Traffic Safety Administration data shows police reported two people dying in a police pursuit at 1:54 a.m. on January 1, 2000, on Davison Freeway. It was the only double fatality crash in Michigan that night.",
         "Date of injury resulting in death (month/day/year)": "2000-01-01T00:00:00.000000",
         "Description Temp": "nan",
         "Dispositions/Exclusions INTERNAL USE, NOT FOR ANALYSIS": "Unreported",
         "Fleeing/Not fleeing": "nan",
         "Foreknowledge of mental illness? INTERNAL USE, NOT FOR ANALYSIS": "No",
         "Full Address": "Davison Freeway Detroit MI 48203 Wayne",
         "Gender": "Male",
         "Highest level of force": "Vehicle",
         "Imputation probability": "Not imputed",
         "Intended use of force (Developing)": "Pursuit",
         "Latitude": 42.4045257999999,
         "Location of death (city)": "Detroit",
         "Location of death (county)": "Wayne",
         "Location of death (zip code)": 48203,
         "Location of injury (address)": "Davison Freeway",
         "Longitude": -83.0922741,
         "Name": "Mark A. Horton",
         "Name Temporary": "nan",
         "Race": "African-American/Black",
         "Race with imputations": "African-American/Black",
         "State": "MI",
         "Supporting document link": "https://drive.google.com/file/d/1-nK-RohgiM-tZ5QV0fKOefRUbwJDRD6i/view?usp=sharing",
         "UID Temporary": "nan",
         "URL Temp": "nan",
         "URL of image (PLS NO HOTLINKS)": "nan",
         "Unique ID": 25747,
         "Unique ID formula": "nan",
         "Unique identifier (redundant)": 25747,
         "Unnamed: 32": "nan",
         "Unnamed: 33": "nan",
         "Unnamed: 36": "nan",
         "Unnamed: 37": "nan",
         "Unnamed: 38": "nan",
         "Unnamed: 39": "nan",
         "Unnamed: 40": "nan",
         "Unnamed: 41": "nan",
         "Unnamed: 42": "nan",
         "Unnamed: 43": "nan",
         "Unnamed: 44": "nan",
         "Unnamed: 45": "nan",
         "Unnamed: 46": "nan",
         "Unnamed: 47": "nan",
         "_deepnote_index_column": 1
        },
        {
         "Age": "19",
         "Agency or agencies involved": "nan",
         "Aggressive physical movement": "nan",
         "Alleged weapon": "nan",
         "Armed/Unarmed": "nan",
         "Brief description": "Two Detroit men killed when their car crashed were among at least eight people who died in New Year's holiday weekend traffic accidents in Michigan, police said. Mark A Horton, 21, and passenger Phillip A. Blurbridge, 19, were killed when their car crashed in their hometown at 1:54 a.m. They were not wearing seat belts. While these deaths were not reported in news media as police pursuit deaths, National Highway Traffic Safety Administration data shows police reported two people dying in a police pursuit at 1:54 a.m. on January 1, 2000, on Davison Freeway. It was the only double fatality crash in Michigan that night.",
         "Date of injury resulting in death (month/day/year)": "2000-01-01T00:00:00.000000",
         "Description Temp": "nan",
         "Dispositions/Exclusions INTERNAL USE, NOT FOR ANALYSIS": "Unreported",
         "Fleeing/Not fleeing": "nan",
         "Foreknowledge of mental illness? INTERNAL USE, NOT FOR ANALYSIS": "No",
         "Full Address": "Davison Freeway Detroit MI 48203 Wayne",
         "Gender": "Male",
         "Highest level of force": "Vehicle",
         "Imputation probability": "Not imputed",
         "Intended use of force (Developing)": "Pursuit",
         "Latitude": 42.4045257999999,
         "Location of death (city)": "Detroit",
         "Location of death (county)": "Wayne",
         "Location of death (zip code)": 48203,
         "Location of injury (address)": "Davison Freeway",
         "Longitude": -83.0922741,
         "Name": "Phillip A. Blurbridge",
         "Name Temporary": "nan",
         "Race": "African-American/Black",
         "Race with imputations": "African-American/Black",
         "State": "MI",
         "Supporting document link": "https://drive.google.com/file/d/1-nK-RohgiM-tZ5QV0fKOefRUbwJDRD6i/view?usp=sharing",
         "UID Temporary": "nan",
         "URL Temp": "nan",
         "URL of image (PLS NO HOTLINKS)": "nan",
         "Unique ID": 25748,
         "Unique ID formula": "nan",
         "Unique identifier (redundant)": 25748,
         "Unnamed: 32": "nan",
         "Unnamed: 33": "nan",
         "Unnamed: 36": "nan",
         "Unnamed: 37": "nan",
         "Unnamed: 38": "nan",
         "Unnamed: 39": "nan",
         "Unnamed: 40": "nan",
         "Unnamed: 41": "nan",
         "Unnamed: 42": "nan",
         "Unnamed: 43": "nan",
         "Unnamed: 44": "nan",
         "Unnamed: 45": "nan",
         "Unnamed: 46": "nan",
         "Unnamed: 47": "nan",
         "_deepnote_index_column": 2
        },
        {
         "Age": "23",
         "Agency or agencies involved": "Eddy County Sheriff's Office",
         "Aggressive physical movement": "nan",
         "Alleged weapon": "nan",
         "Armed/Unarmed": "nan",
         "Brief description": "A motorcycle was allegedly being driven erratically when a deputy began to pursue. The motorcycle crashed, killing the driver, Mark Ortiz.",
         "Date of injury resulting in death (month/day/year)": "2000-01-01T00:00:00.000000",
         "Description Temp": "nan",
         "Dispositions/Exclusions INTERNAL USE, NOT FOR ANALYSIS": "Unreported",
         "Fleeing/Not fleeing": "nan",
         "Foreknowledge of mental illness? INTERNAL USE, NOT FOR ANALYSIS": "No",
         "Full Address": "600 W Cherry Ln Carlsbad NM 88220 Eddy",
         "Gender": "Male",
         "Highest level of force": "Vehicle",
         "Imputation probability": "Not imputed",
         "Intended use of force (Developing)": "Pursuit",
         "Latitude": 32.4500798,
         "Location of death (city)": "Carlsbad",
         "Location of death (county)": "Eddy",
         "Location of death (zip code)": 88220,
         "Location of injury (address)": "600 W Cherry Ln",
         "Longitude": -104.2376427,
         "Name": "Mark Ortiz",
         "Name Temporary": "nan",
         "Race": "Hispanic/Latino",
         "Race with imputations": "Hispanic/Latino",
         "State": "NM",
         "Supporting document link": "https://drive.google.com/file/d/1qAEefRjX_aTtCIffqMJm18P4kf-BZn52/view?usp=sharing",
         "UID Temporary": "nan",
         "URL Temp": "nan",
         "URL of image (PLS NO HOTLINKS)": "nan",
         "Unique ID": 25749,
         "Unique ID formula": "nan",
         "Unique identifier (redundant)": 25749,
         "Unnamed: 32": "nan",
         "Unnamed: 33": "nan",
         "Unnamed: 36": "nan",
         "Unnamed: 37": "nan",
         "Unnamed: 38": "nan",
         "Unnamed: 39": "nan",
         "Unnamed: 40": "nan",
         "Unnamed: 41": "nan",
         "Unnamed: 42": "nan",
         "Unnamed: 43": "nan",
         "Unnamed: 44": "nan",
         "Unnamed: 45": "nan",
         "Unnamed: 46": "nan",
         "Unnamed: 47": "nan",
         "_deepnote_index_column": 3
        },
        {
         "Age": "24",
         "Agency or agencies involved": "Sacramento Police Department",
         "Aggressive physical movement": "nan",
         "Alleged weapon": "nan",
         "Armed/Unarmed": "nan",
         "Brief description": "LaTanya Janelle McCoy's car was struck from behind by a car fleeing police. She died in her car, which was engulfed in flames as police and the other driver engaged in a shootout in south Sacramento.",
         "Date of injury resulting in death (month/day/year)": "2000-01-02T00:00:00.000000",
         "Description Temp": "nan",
         "Dispositions/Exclusions INTERNAL USE, NOT FOR ANALYSIS": "Unknown",
         "Fleeing/Not fleeing": "nan",
         "Foreknowledge of mental illness? INTERNAL USE, NOT FOR ANALYSIS": "No",
         "Full Address": "5700 block Mack Road Sacramento CA 95823 Sacramento",
         "Gender": "Female",
         "Highest level of force": "Vehicle",
         "Imputation probability": "Not imputed",
         "Intended use of force (Developing)": "Pursuit",
         "Latitude": "38.4739487",
         "Location of death (city)": "Sacramento",
         "Location of death (county)": "Sacramento",
         "Location of death (zip code)": 95823,
         "Location of injury (address)": "5700 block Mack Road",
         "Longitude": -121.4337757,
         "Name": "LaTanya Janelle McCoy",
         "Name Temporary": "nan",
         "Race": "African-American/Black",
         "Race with imputations": "African-American/Black",
         "State": "CA",
         "Supporting document link": "http://www.recordnet.com/article/20000110/A_NEWS/301109998",
         "UID Temporary": "nan",
         "URL Temp": "nan",
         "URL of image (PLS NO HOTLINKS)": "nan",
         "Unique ID": 1,
         "Unique ID formula": "nan",
         "Unique identifier (redundant)": 1,
         "Unnamed: 32": "nan",
         "Unnamed: 33": "nan",
         "Unnamed: 36": "nan",
         "Unnamed: 37": "nan",
         "Unnamed: 38": "nan",
         "Unnamed: 39": "nan",
         "Unnamed: 40": "nan",
         "Unnamed: 41": "nan",
         "Unnamed: 42": "nan",
         "Unnamed: 43": "nan",
         "Unnamed: 44": "nan",
         "Unnamed: 45": "nan",
         "Unnamed: 46": "nan",
         "Unnamed: 47": "nan",
         "_deepnote_index_column": 4
        }
       ]
      },
      "text/html": [
       "<div>\n",
       "<style scoped>\n",
       "    .dataframe tbody tr th:only-of-type {\n",
       "        vertical-align: middle;\n",
       "    }\n",
       "\n",
       "    .dataframe tbody tr th {\n",
       "        vertical-align: top;\n",
       "    }\n",
       "\n",
       "    .dataframe thead th {\n",
       "        text-align: right;\n",
       "    }\n",
       "</style>\n",
       "<table border=\"1\" class=\"dataframe\">\n",
       "  <thead>\n",
       "    <tr style=\"text-align: right;\">\n",
       "      <th></th>\n",
       "      <th>Unique ID</th>\n",
       "      <th>Name</th>\n",
       "      <th>Age</th>\n",
       "      <th>Gender</th>\n",
       "      <th>Race</th>\n",
       "      <th>Race with imputations</th>\n",
       "      <th>Imputation probability</th>\n",
       "      <th>URL of image (PLS NO HOTLINKS)</th>\n",
       "      <th>Date of injury resulting in death (month/day/year)</th>\n",
       "      <th>Location of injury (address)</th>\n",
       "      <th>...</th>\n",
       "      <th>Unnamed: 38</th>\n",
       "      <th>Unnamed: 39</th>\n",
       "      <th>Unnamed: 40</th>\n",
       "      <th>Unnamed: 41</th>\n",
       "      <th>Unnamed: 42</th>\n",
       "      <th>Unnamed: 43</th>\n",
       "      <th>Unnamed: 44</th>\n",
       "      <th>Unnamed: 45</th>\n",
       "      <th>Unnamed: 46</th>\n",
       "      <th>Unnamed: 47</th>\n",
       "    </tr>\n",
       "  </thead>\n",
       "  <tbody>\n",
       "    <tr>\n",
       "      <th>0</th>\n",
       "      <td>25746.0</td>\n",
       "      <td>Samuel H. Knapp</td>\n",
       "      <td>17</td>\n",
       "      <td>Male</td>\n",
       "      <td>European-American/White</td>\n",
       "      <td>European-American/White</td>\n",
       "      <td>Not imputed</td>\n",
       "      <td>NaN</td>\n",
       "      <td>2000-01-01</td>\n",
       "      <td>27898-27804 US-101</td>\n",
       "      <td>...</td>\n",
       "      <td>NaN</td>\n",
       "      <td>NaN</td>\n",
       "      <td>NaN</td>\n",
       "      <td>NaN</td>\n",
       "      <td>NaN</td>\n",
       "      <td>NaN</td>\n",
       "      <td>NaN</td>\n",
       "      <td>NaN</td>\n",
       "      <td>NaN</td>\n",
       "      <td>NaN</td>\n",
       "    </tr>\n",
       "    <tr>\n",
       "      <th>1</th>\n",
       "      <td>25747.0</td>\n",
       "      <td>Mark A. Horton</td>\n",
       "      <td>21</td>\n",
       "      <td>Male</td>\n",
       "      <td>African-American/Black</td>\n",
       "      <td>African-American/Black</td>\n",
       "      <td>Not imputed</td>\n",
       "      <td>NaN</td>\n",
       "      <td>2000-01-01</td>\n",
       "      <td>Davison Freeway</td>\n",
       "      <td>...</td>\n",
       "      <td>NaN</td>\n",
       "      <td>NaN</td>\n",
       "      <td>NaN</td>\n",
       "      <td>NaN</td>\n",
       "      <td>NaN</td>\n",
       "      <td>NaN</td>\n",
       "      <td>NaN</td>\n",
       "      <td>NaN</td>\n",
       "      <td>NaN</td>\n",
       "      <td>NaN</td>\n",
       "    </tr>\n",
       "    <tr>\n",
       "      <th>2</th>\n",
       "      <td>25748.0</td>\n",
       "      <td>Phillip A. Blurbridge</td>\n",
       "      <td>19</td>\n",
       "      <td>Male</td>\n",
       "      <td>African-American/Black</td>\n",
       "      <td>African-American/Black</td>\n",
       "      <td>Not imputed</td>\n",
       "      <td>NaN</td>\n",
       "      <td>2000-01-01</td>\n",
       "      <td>Davison Freeway</td>\n",
       "      <td>...</td>\n",
       "      <td>NaN</td>\n",
       "      <td>NaN</td>\n",
       "      <td>NaN</td>\n",
       "      <td>NaN</td>\n",
       "      <td>NaN</td>\n",
       "      <td>NaN</td>\n",
       "      <td>NaN</td>\n",
       "      <td>NaN</td>\n",
       "      <td>NaN</td>\n",
       "      <td>NaN</td>\n",
       "    </tr>\n",
       "    <tr>\n",
       "      <th>3</th>\n",
       "      <td>25749.0</td>\n",
       "      <td>Mark Ortiz</td>\n",
       "      <td>23</td>\n",
       "      <td>Male</td>\n",
       "      <td>Hispanic/Latino</td>\n",
       "      <td>Hispanic/Latino</td>\n",
       "      <td>Not imputed</td>\n",
       "      <td>NaN</td>\n",
       "      <td>2000-01-01</td>\n",
       "      <td>600 W Cherry Ln</td>\n",
       "      <td>...</td>\n",
       "      <td>NaN</td>\n",
       "      <td>NaN</td>\n",
       "      <td>NaN</td>\n",
       "      <td>NaN</td>\n",
       "      <td>NaN</td>\n",
       "      <td>NaN</td>\n",
       "      <td>NaN</td>\n",
       "      <td>NaN</td>\n",
       "      <td>NaN</td>\n",
       "      <td>NaN</td>\n",
       "    </tr>\n",
       "    <tr>\n",
       "      <th>4</th>\n",
       "      <td>1.0</td>\n",
       "      <td>LaTanya Janelle McCoy</td>\n",
       "      <td>24</td>\n",
       "      <td>Female</td>\n",
       "      <td>African-American/Black</td>\n",
       "      <td>African-American/Black</td>\n",
       "      <td>Not imputed</td>\n",
       "      <td>NaN</td>\n",
       "      <td>2000-01-02</td>\n",
       "      <td>5700 block Mack Road</td>\n",
       "      <td>...</td>\n",
       "      <td>NaN</td>\n",
       "      <td>NaN</td>\n",
       "      <td>NaN</td>\n",
       "      <td>NaN</td>\n",
       "      <td>NaN</td>\n",
       "      <td>NaN</td>\n",
       "      <td>NaN</td>\n",
       "      <td>NaN</td>\n",
       "      <td>NaN</td>\n",
       "      <td>NaN</td>\n",
       "    </tr>\n",
       "  </tbody>\n",
       "</table>\n",
       "<p>5 rows × 48 columns</p>\n",
       "</div>"
      ],
      "text/plain": [
       "   Unique ID                   Name Age  Gender                     Race  \\\n",
       "0    25746.0        Samuel H. Knapp  17    Male  European-American/White   \n",
       "1    25747.0         Mark A. Horton  21    Male   African-American/Black   \n",
       "2    25748.0  Phillip A. Blurbridge  19    Male   African-American/Black   \n",
       "3    25749.0             Mark Ortiz  23    Male          Hispanic/Latino   \n",
       "4        1.0  LaTanya Janelle McCoy  24  Female   African-American/Black   \n",
       "\n",
       "     Race with imputations Imputation probability  \\\n",
       "0  European-American/White            Not imputed   \n",
       "1   African-American/Black            Not imputed   \n",
       "2   African-American/Black            Not imputed   \n",
       "3          Hispanic/Latino            Not imputed   \n",
       "4   African-American/Black            Not imputed   \n",
       "\n",
       "  URL of image (PLS NO HOTLINKS)  \\\n",
       "0                            NaN   \n",
       "1                            NaN   \n",
       "2                            NaN   \n",
       "3                            NaN   \n",
       "4                            NaN   \n",
       "\n",
       "  Date of injury resulting in death (month/day/year)  \\\n",
       "0                                         2000-01-01   \n",
       "1                                         2000-01-01   \n",
       "2                                         2000-01-01   \n",
       "3                                         2000-01-01   \n",
       "4                                         2000-01-02   \n",
       "\n",
       "  Location of injury (address)  ... Unnamed: 38 Unnamed: 39  Unnamed: 40  \\\n",
       "0           27898-27804 US-101  ...         NaN         NaN          NaN   \n",
       "1              Davison Freeway  ...         NaN         NaN          NaN   \n",
       "2              Davison Freeway  ...         NaN         NaN          NaN   \n",
       "3              600 W Cherry Ln  ...         NaN         NaN          NaN   \n",
       "4         5700 block Mack Road  ...         NaN         NaN          NaN   \n",
       "\n",
       "  Unnamed: 41 Unnamed: 42 Unnamed: 43  Unnamed: 44 Unnamed: 45 Unnamed: 46  \\\n",
       "0         NaN         NaN         NaN          NaN         NaN         NaN   \n",
       "1         NaN         NaN         NaN          NaN         NaN         NaN   \n",
       "2         NaN         NaN         NaN          NaN         NaN         NaN   \n",
       "3         NaN         NaN         NaN          NaN         NaN         NaN   \n",
       "4         NaN         NaN         NaN          NaN         NaN         NaN   \n",
       "\n",
       "   Unnamed: 47  \n",
       "0          NaN  \n",
       "1          NaN  \n",
       "2          NaN  \n",
       "3          NaN  \n",
       "4          NaN  \n",
       "\n",
       "[5 rows x 48 columns]"
      ]
     },
     "execution_count": 2,
     "metadata": {},
     "output_type": "execute_result"
    }
   ],
   "source": [
    "# reads data from MPV website's downloaded dataset\n",
    "df = pd.read_excel('new_data.xlsx')\n",
    "df.head()"
   ]
  },
  {
   "cell_type": "markdown",
   "metadata": {
    "cell_id": "00005-ea5eacb0-381e-4567-b8bd-1753560cebb0",
    "deepnote_cell_type": "markdown",
    "tags": []
   },
   "source": [
    "\n",
    "### Initial Data Summarization"
   ]
  },
  {
   "cell_type": "code",
   "execution_count": 3,
   "metadata": {
    "cell_id": "00006-5d2f232c-210a-49b4-bc10-fe5180a4cbbf",
    "deepnote_cell_type": "code",
    "deepnote_to_be_reexecuted": false,
    "execution_millis": 13,
    "execution_start": 1622146116245,
    "source_hash": "cbfec6c2",
    "tags": []
   },
   "outputs": [
    {
     "data": {
      "text/plain": [
       "(30244, 48)"
      ]
     },
     "execution_count": 3,
     "metadata": {},
     "output_type": "execute_result"
    }
   ],
   "source": [
    "# rows and columns\n",
    "df.shape"
   ]
  },
  {
   "cell_type": "code",
   "execution_count": 4,
   "metadata": {
    "cell_id": "00007-018846a9-0d7c-4c47-b9b5-1d66dbbf5cf5",
    "deepnote_cell_type": "code",
    "deepnote_to_be_reexecuted": false,
    "execution_millis": 27,
    "execution_start": 1622146116305,
    "source_hash": "5451bed5",
    "tags": []
   },
   "outputs": [
    {
     "name": "stdout",
     "output_type": "stream",
     "text": [
      "<class 'pandas.core.frame.DataFrame'>\n",
      "RangeIndex: 30244 entries, 0 to 30243\n",
      "Data columns (total 48 columns):\n",
      " #   Column                                                           Non-Null Count  Dtype         \n",
      "---  ------                                                           --------------  -----         \n",
      " 0   Unique ID                                                        30243 non-null  float64       \n",
      " 1   Name                                                             30244 non-null  object        \n",
      " 2   Age                                                              29121 non-null  object        \n",
      " 3   Gender                                                           30118 non-null  object        \n",
      " 4   Race                                                             30242 non-null  object        \n",
      " 5   Race with imputations                                            29718 non-null  object        \n",
      " 6   Imputation probability                                           29701 non-null  object        \n",
      " 7   URL of image (PLS NO HOTLINKS)                                   13993 non-null  object        \n",
      " 8   Date of injury resulting in death (month/day/year)               30244 non-null  datetime64[ns]\n",
      " 9   Location of injury (address)                                     29699 non-null  object        \n",
      " 10  Location of death (city)                                         30205 non-null  object        \n",
      " 11  State                                                            30243 non-null  object        \n",
      " 12  Location of death (zip code)                                     30060 non-null  float64       \n",
      " 13  Location of death (county)                                       30228 non-null  object        \n",
      " 14  Full Address                                                     30243 non-null  object        \n",
      " 15  Latitude                                                         30243 non-null  object        \n",
      " 16  Longitude                                                        30243 non-null  float64       \n",
      " 17  Agency or agencies involved                                      30168 non-null  object        \n",
      " 18  Highest level of force                                           30241 non-null  object        \n",
      " 19  UID Temporary                                                    2313 non-null   float64       \n",
      " 20  Name Temporary                                                   2313 non-null   object        \n",
      " 21  Armed/Unarmed                                                    13871 non-null  object        \n",
      " 22  Alleged weapon                                                   13869 non-null  object        \n",
      " 23  Aggressive physical movement                                     13872 non-null  object        \n",
      " 24  Fleeing/Not fleeing                                              13872 non-null  object        \n",
      " 25  Description Temp                                                 848 non-null    object        \n",
      " 26  URL Temp                                                         4 non-null      object        \n",
      " 27  Brief description                                                30243 non-null  object        \n",
      " 28  Dispositions/Exclusions INTERNAL USE, NOT FOR ANALYSIS           30242 non-null  object        \n",
      " 29  Intended use of force (Developing)                               30242 non-null  object        \n",
      " 30  Supporting document link                                         17515 non-null  object        \n",
      " 31  Foreknowledge of mental illness? INTERNAL USE, NOT FOR ANALYSIS  30182 non-null  object        \n",
      " 32  Unnamed: 32                                                      0 non-null      float64       \n",
      " 33  Unnamed: 33                                                      1 non-null      float64       \n",
      " 34  Unique ID formula                                                2 non-null      float64       \n",
      " 35  Unique identifier (redundant)                                    30242 non-null  float64       \n",
      " 36  Unnamed: 36                                                      0 non-null      float64       \n",
      " 37  Unnamed: 37                                                      14 non-null     object        \n",
      " 38  Unnamed: 38                                                      14 non-null     float64       \n",
      " 39  Unnamed: 39                                                      14 non-null     object        \n",
      " 40  Unnamed: 40                                                      14 non-null     object        \n",
      " 41  Unnamed: 41                                                      14 non-null     object        \n",
      " 42  Unnamed: 42                                                      14 non-null     object        \n",
      " 43  Unnamed: 43                                                      14 non-null     object        \n",
      " 44  Unnamed: 44                                                      14 non-null     object        \n",
      " 45  Unnamed: 45                                                      14 non-null     object        \n",
      " 46  Unnamed: 46                                                      0 non-null      float64       \n",
      " 47  Unnamed: 47                                                      0 non-null      float64       \n",
      "dtypes: datetime64[ns](1), float64(12), object(35)\n",
      "memory usage: 11.1+ MB\n"
     ]
    }
   ],
   "source": [
    "# list of column names and data types with information\n",
    "df.info()"
   ]
  },
  {
   "cell_type": "code",
   "execution_count": 5,
   "metadata": {
    "cell_id": "00008-8f998e8d-ae4a-4ba5-8279-4865c7bfa027",
    "deepnote_cell_type": "code",
    "deepnote_to_be_reexecuted": false,
    "execution_millis": 81,
    "execution_start": 1622146116326,
    "source_hash": "f099b8f5",
    "tags": []
   },
   "outputs": [
    {
     "data": {
      "text/plain": [
       "Unique ID                                                              1\n",
       "Name                                                                   0\n",
       "Age                                                                 1123\n",
       "Gender                                                               126\n",
       "Race                                                                   2\n",
       "Race with imputations                                                526\n",
       "Imputation probability                                               543\n",
       "URL of image (PLS NO HOTLINKS)                                     16251\n",
       "Date of injury resulting in death (month/day/year)                     0\n",
       "Location of injury (address)                                         545\n",
       "Location of death (city)                                              39\n",
       "State                                                                  1\n",
       "Location of death (zip code)                                         184\n",
       "Location of death (county)                                            16\n",
       "Full Address                                                           1\n",
       "Latitude                                                               1\n",
       "Longitude                                                              1\n",
       "Agency or agencies involved                                           76\n",
       "Highest level of force                                                 3\n",
       "UID Temporary                                                      27931\n",
       "Name Temporary                                                     27931\n",
       "Armed/Unarmed                                                      16373\n",
       "Alleged weapon                                                     16375\n",
       "Aggressive physical movement                                       16372\n",
       "Fleeing/Not fleeing                                                16372\n",
       "Description Temp                                                   29396\n",
       "URL Temp                                                           30240\n",
       "Brief description                                                      1\n",
       "Dispositions/Exclusions INTERNAL USE, NOT FOR ANALYSIS                 2\n",
       "Intended use of force (Developing)                                     2\n",
       "Supporting document link                                           12729\n",
       "Foreknowledge of mental illness? INTERNAL USE, NOT FOR ANALYSIS       62\n",
       "Unnamed: 32                                                        30244\n",
       "Unnamed: 33                                                        30243\n",
       "Unique ID formula                                                  30242\n",
       "Unique identifier (redundant)                                          2\n",
       "Unnamed: 36                                                        30244\n",
       "Unnamed: 37                                                        30230\n",
       "Unnamed: 38                                                        30230\n",
       "Unnamed: 39                                                        30230\n",
       "Unnamed: 40                                                        30230\n",
       "Unnamed: 41                                                        30230\n",
       "Unnamed: 42                                                        30230\n",
       "Unnamed: 43                                                        30230\n",
       "Unnamed: 44                                                        30230\n",
       "Unnamed: 45                                                        30230\n",
       "Unnamed: 46                                                        30244\n",
       "Unnamed: 47                                                        30244\n",
       "dtype: int64"
      ]
     },
     "execution_count": 5,
     "metadata": {},
     "output_type": "execute_result"
    }
   ],
   "source": [
    "# check nulls\n",
    "df.isnull().sum()"
   ]
  },
  {
   "cell_type": "code",
   "execution_count": 6,
   "metadata": {
    "cell_id": "00009-257db45d-1ca4-4fad-ba55-676b073d7f96",
    "deepnote_cell_type": "code",
    "deepnote_to_be_reexecuted": false,
    "execution_millis": 238,
    "execution_start": 1622146116442,
    "source_hash": "593fb024",
    "tags": []
   },
   "outputs": [
    {
     "name": "stdout",
     "output_type": "stream",
     "text": [
      "UNIQUE ID\n",
      "17653.0    1\n",
      "25282.0    1\n",
      "6416.0     1\n",
      "20496.0    1\n",
      "22458.0    1\n",
      "          ..\n",
      "9841.0     1\n",
      "23585.0    1\n",
      "5000.0     1\n",
      "28998.0    1\n",
      "2150.0     1\n",
      "Name: Unique ID, Length: 30243, dtype: int64\n",
      "-------------------------------------\n",
      "NAME\n",
      "Name withheld by police    1269\n",
      "Michael Johnson               5\n",
      "John Doe 1                    5\n",
      "John Doe 2                    5\n",
      "Michael Smith                 4\n",
      "                           ... \n",
      "Donald Wayne Allen            1\n",
      "Gregory J. Isobaker Jr.       1\n",
      "Benjamin Banet Lucas          1\n",
      "Jessica Arrendale             1\n",
      "Andrew Charles Thomas         1\n",
      "Name: Name, Length: 28733, dtype: int64\n",
      "-------------------------------------\n",
      "AGE\n",
      "22      912\n",
      "25      895\n",
      "24      862\n",
      "21      848\n",
      "27      848\n",
      "       ... \n",
      ".33       1\n",
      "107       1\n",
      ".5        1\n",
      ".16       1\n",
      "0.25      1\n",
      "Name: Age, Length: 195, dtype: int64\n",
      "-------------------------------------\n",
      "GENDER\n",
      "Male           27200\n",
      "Female          2898\n",
      "Transgender       20\n",
      "Name: Gender, dtype: int64\n",
      "-------------------------------------\n",
      "RACE\n",
      "European-American/White    10148\n",
      "Race unspecified            8500\n",
      "African-American/Black      6732\n",
      "Hispanic/Latino             4030\n",
      "Asian/Pacific Islander       468\n",
      "Native American/Alaskan      313\n",
      "Middle Eastern                50\n",
      "european-American/White        1\n",
      "Name: Race, dtype: int64\n",
      "-------------------------------------\n",
      "RACE WITH IMPUTATIONS\n",
      "European-American/White    14258\n",
      "African-American/Black      8281\n",
      "Hispanic/Latino             4960\n",
      "Race unspecified            1292\n",
      "Asian/Pacific Islander       561\n",
      "Native American/Alaskan      313\n",
      "Middle Eastern                50\n",
      "HIspanic/Latino                2\n",
      "european-American/White        1\n",
      "Name: Race with imputations, dtype: int64\n",
      "-------------------------------------\n",
      "IMPUTATION PROBABILITY\n",
      "Not imputed            21661\n",
      "Race not determined     1276\n",
      "race not determined       19\n",
      "1                         15\n",
      "0.931634986                4\n",
      "                       ...  \n",
      "0.929043991                1\n",
      "0.985756682                1\n",
      "0.791493337                1\n",
      "0.915458969                1\n",
      "0.802413483                1\n",
      "Name: Imputation probability, Length: 6666, dtype: int64\n",
      "-------------------------------------\n",
      "URL OF IMAGE (PLS NO HOTLINKS)\n",
      "http://pursuitsafety.org/images/4_killed_philly.jpg                                                           3\n",
      "https://www.fatalencounters.org/wp-content/uploads/2018/12/Kyleigh-Austin-and-Hunter-Radar-9-22-2007.jpg      3\n",
      "http://castle.eiu.edu/media/images/2009/anusha-priya-anitha.jpg                                               3\n",
      "http://photos1.blogger.com/blogger/282/183/1600/CA%20Chase14_Paige10_and_Rayne8_McGowan_killed.jpg            3\n",
      "http://1.bp.blogspot.com/_FmvVm1RxDX4/S_qf2NHYCxI/AAAAAAAAJbY/ULwW9EG-n78/s400/Monty+and+Sue+Multanen2.jpg    2\n",
      "                                                                                                             ..\n",
      "https://fatalencounters.org/wp-content/uploads/2020/03/7-28-2013-gaudalupe-Aguilar.jpg                        1\n",
      "https://www.fatalencounters.org/wp-content/uploads/2013/10/rodney-gatti.jpg                                   1\n",
      "https://fatalencounters.org/wp-content/uploads/2020/04/12-31-2018-Brant-Hartun.png                            1\n",
      "http://pbs.twimg.com/media/Cbtnol9UcAArqof.jpg                                                                1\n",
      "https://localtvwtkr.files.wordpress.com/2015/09/angelo-delano-perry.jpg?w=300&h=225                           1\n",
      "Name: URL of image (PLS NO HOTLINKS), Length: 13935, dtype: int64\n",
      "-------------------------------------\n",
      "DATE OF INJURY RESULTING IN DEATH (MONTH/DAY/YEAR)\n",
      "2003-02-19    23\n",
      "2021-03-18    15\n",
      "2020-09-18    15\n",
      "2020-05-03    15\n",
      "2020-05-05    15\n",
      "              ..\n",
      "2007-01-14     1\n",
      "2004-12-07     1\n",
      "2001-04-22     1\n",
      "2016-10-06     1\n",
      "2017-07-22     1\n",
      "Name: Date of injury resulting in death (month/day/year), Length: 7524, dtype: int64\n",
      "-------------------------------------\n",
      "LOCATION OF INJURY (ADDRESS)\n",
      "2347 S. Michigan Ave.                       21\n",
      "I-80                                        20\n",
      "I-70                                        17\n",
      "I-10                                        16\n",
      "I-95                                        15\n",
      "                                            ..\n",
      "Laraway Road and 116th Street                1\n",
      "200 block Roswell Canyon                     1\n",
      "West Jackson Boulevard and Kedzie Avenue     1\n",
      "Alder Street                                 1\n",
      "Hertzler Road and US Highway 50              1\n",
      "Name: Location of injury (address), Length: 27736, dtype: int64\n",
      "-------------------------------------\n",
      "LOCATION OF DEATH (CITY)\n",
      "Houston          472\n",
      "Chicago          463\n",
      "Los Angeles      417\n",
      "Phoenix          269\n",
      "San Antonio      250\n",
      "                ... \n",
      "Irondale           1\n",
      "Pembroke Park      1\n",
      "Hatfield           1\n",
      "Harrogate          1\n",
      "Norwood Manor      1\n",
      "Name: Location of death (city), Length: 6167, dtype: int64\n",
      "-------------------------------------\n",
      "STATE\n",
      "CA    4831\n",
      "TX    2690\n",
      "FL    1834\n",
      "GA    1143\n",
      "IL    1091\n",
      "OH     989\n",
      "PA     956\n",
      "MO     912\n",
      "AZ     884\n",
      "MI     874\n",
      "OK     699\n",
      "NY     686\n",
      "AL     672\n",
      "WA     661\n",
      "CO     659\n",
      "TN     656\n",
      "NC     641\n",
      "LA     632\n",
      "VA     624\n",
      "SC     593\n",
      "IN     580\n",
      "MD     534\n",
      "NJ     526\n",
      "WI     455\n",
      "MS     423\n",
      "NM     418\n",
      "KS     410\n",
      "KY     409\n",
      "NV     400\n",
      "AR     372\n",
      "MN     346\n",
      "OR     343\n",
      "IA     280\n",
      "UT     252\n",
      "NE     204\n",
      "MA     202\n",
      "WV     183\n",
      "ID     151\n",
      "CT     142\n",
      "AK     124\n",
      "HI     111\n",
      "MT     109\n",
      "ME     102\n",
      "DC      87\n",
      "DE      62\n",
      "NH      62\n",
      "WY      61\n",
      "SD      59\n",
      "VT      40\n",
      "ND      39\n",
      "RI      30\n",
      "Name: State, dtype: int64\n",
      "-------------------------------------\n",
      "LOCATION OF DEATH (ZIP CODE)\n",
      "60620.0    34\n",
      "60628.0    33\n",
      "60616.0    32\n",
      "93307.0    28\n",
      "90221.0    25\n",
      "           ..\n",
      "30517.0     1\n",
      "75056.0     1\n",
      "67544.0     1\n",
      "61607.0     1\n",
      "93249.0     1\n",
      "Name: Location of death (zip code), Length: 10809, dtype: int64\n",
      "-------------------------------------\n",
      "LOCATION OF DEATH (COUNTY)\n",
      "Los Angeles    1286\n",
      "Cook            628\n",
      "Harris          588\n",
      "Maricopa        503\n",
      "Orange          458\n",
      "               ... \n",
      "Cayuga            1\n",
      "Blaine            1\n",
      "Wolfe             1\n",
      "Atkinson          1\n",
      "Watonwan          1\n",
      "Name: Location of death (county), Length: 1511, dtype: int64\n",
      "-------------------------------------\n",
      "FULL ADDRESS\n",
      "2347 S. Michigan Ave. Chicago IL 60616 Cook                  21\n",
      "4800 W Expy 83 Palmview TX 78572 Hidalgo                      9\n",
      "11980 Avenue 424 Orosi CA 93647 Tulare                        8\n",
      "US Hwy 277 Del Rio TX 78840 Val Verde                         8\n",
      "Highway 21 Troutman NC 28166 Iredell                          7\n",
      "                                                             ..\n",
      "600 block San Julian St. Los Angeles CA 90014 Los Angeles     1\n",
      "3200 block SW 154th Ct Miami FL 33185 Miami-Dade              1\n",
      "S Darlington Ave & E 3rd St Tulsa OK 74112 Tulsa              1\n",
      "200 block Madge Lane Las Vegas NV 89110  Clark                1\n",
      "3394 San Gabriel Blvd Rosemead CA 91770 Los Angeles           1\n",
      "Name: Full Address, Length: 28509, dtype: int64\n",
      "-------------------------------------\n",
      "LATITUDE\n",
      "41.8496116    21\n",
      "26.2351813     9\n",
      "31.4992001     9\n",
      "29.850105      8\n",
      "36.559671      8\n",
      "              ..\n",
      "29.4767723     1\n",
      "33.9915121     1\n",
      "34.3212559     1\n",
      "40.3358398     1\n",
      "42.3670127     1\n",
      "Name: Latitude, Length: 28389, dtype: int64\n",
      "-------------------------------------\n",
      "LONGITUDE\n",
      "-87.623715     21\n",
      "-98.382482      9\n",
      "-119.305304     8\n",
      "-100.800098     8\n",
      "-97.831488      7\n",
      "               ..\n",
      "-122.674217     1\n",
      "-95.103523      1\n",
      "-81.241666      1\n",
      "-115.150860     1\n",
      "-88.106739      1\n",
      "Name: Longitude, Length: 28334, dtype: int64\n",
      "-------------------------------------\n",
      "AGENCY OR AGENCIES INVOLVED\n",
      "Los Angeles Police Department                                        480\n",
      "Chicago Police Department                                            436\n",
      "Los Angeles County Sheriff's Department                              369\n",
      "City of New York Police Department                                   336\n",
      "Houston Police Department                                            325\n",
      "                                                                    ... \n",
      "Clayton County Police Department, Clayton County Sheriff's Office      1\n",
      "Androscoggin County Sheriff's Office                                   1\n",
      "Norfolk Police Department, Virginia State Police                       1\n",
      "Gainesville Police Department, Hall County Sheriff's Office            1\n",
      "Coleman County Sheriff's Office                                        1\n",
      "Name: Agency or agencies involved, Length: 6596, dtype: int64\n",
      "-------------------------------------\n",
      "HIGHEST LEVEL OF FORCE\n",
      "Gunshot                              21359\n",
      "Vehicle                               6326\n",
      "Tasered                                920\n",
      "Medical emergency                      387\n",
      "Asphyxiated/Restrained                 322\n",
      "Drowned                                197\n",
      "Drug overdose                          183\n",
      "Beaten/Bludgeoned with instrument      178\n",
      "Undetermined                           101\n",
      "Fell from a height                      79\n",
      "Other                                   61\n",
      "Stabbed                                 51\n",
      "Burned/Smoke inhalation                 41\n",
      "Chemical agent/Pepper spray             35\n",
      "Restrain/Asphyxiation                    1\n",
      "Name: Highest level of force, dtype: int64\n",
      "-------------------------------------\n",
      "UID TEMPORARY\n",
      "12439.0    1\n",
      "12544.0    1\n",
      "29057.0    1\n",
      "12851.0    1\n",
      "12975.0    1\n",
      "          ..\n",
      "28790.0    1\n",
      "12755.0    1\n",
      "28996.0    1\n",
      "12222.0    1\n",
      "28726.0    1\n",
      "Name: UID Temporary, Length: 2313, dtype: int64\n",
      "-------------------------------------\n",
      "NAME TEMPORARY\n",
      "Name withheld by police    123\n",
      "John Doe 3                   3\n",
      "John Doe 5                   3\n",
      "John Doe 2                   3\n",
      "John Doe 1                   3\n",
      "                          ... \n",
      "Bernard Rowley               1\n",
      "Aaron Sawyer                 1\n",
      "Nikolas Frazier              1\n",
      "Amjustine Hunter             1\n",
      "Jason Bradley Slaughter      1\n",
      "Name: Name Temporary, Length: 2180, dtype: int64\n",
      "-------------------------------------\n",
      "ARMED/UNARMED\n",
      "Armed                  8596\n",
      "Unarmed                4951\n",
      "Uncertain               310\n",
      "None                      5\n",
      "Unarmed                   3\n",
      "Duplicate of 13457?       1\n",
      "Gunshot                   1\n",
      "                          1\n",
      "Duplicate of 13419?       1\n",
      "Duplicate of 12398        1\n",
      "Duplicate of 12360        1\n",
      "Name: Armed/Unarmed, dtype: int64\n",
      "-------------------------------------\n",
      "ALLEGED WEAPON\n",
      "None                                  4955\n",
      "Firearm/Handgun                       2886\n",
      "Firearm/Gun                           2410\n",
      "Edged weapon/Knife                    1178\n",
      "Firearm/Rifle                          546\n",
      "                                      ... \n",
      "Other/Bow                                1\n",
      "Blunt object/Metal stake                 1\n",
      "Armed                                    1\n",
      "Blunt object/Air conditioning unit       1\n",
      "Other/Stapler                            1\n",
      "Name: Alleged weapon, Length: 215, dtype: int64\n",
      "-------------------------------------\n",
      "AGGRESSIVE PHYSICAL MOVEMENT\n",
      "None                                          3672\n",
      "Brandished weapon                             2855\n",
      "Used weapon                                   2170\n",
      "Self-inflicted injury                         1684\n",
      "Advanced toward officer(s)                    1086\n",
      "Struggled                                      873\n",
      "Uncertain                                      643\n",
      "Sudden threatening movement                    326\n",
      "None/Police alleged vehicular assault          309\n",
      "Reached to waist                               140\n",
      "Intentional vehicular assault                   54\n",
      "Advanced upon officer(s)                        15\n",
      "None/Police alleged vehicular assault.          15\n",
      "Self-inflicted Injury                            7\n",
      "Uncertain/Police alleged vehicular assault       5\n",
      "Used Weapon                                      4\n",
      "None. Police alleged vehicular assault.          2\n",
      "Police allege vehicular assault                  1\n",
      "None.                                            1\n",
      "Duplicate of 13419?                              1\n",
      "Duplicate of 12398                               1\n",
      "None/Police allege vehicular assault             1\n",
      "Edged weapon/Unspecified                         1\n",
      "                                                 1\n",
      " Advanced toward officer(s)                      1\n",
      "Sudden Threatening Movement                      1\n",
      "Duplicate of 12360                               1\n",
      "Duplicate of 13457?                              1\n",
      "Reached to waist                                 1\n",
      "Name: Aggressive physical movement, dtype: int64\n",
      "-------------------------------------\n",
      "FLEEING/NOT FLEEING\n",
      "Not fleeing                                   8813\n",
      "Fleeing/Vehicle                               3071\n",
      "Fleeing/Foot                                  1543\n",
      "Fleeing/Motorcycle                             266\n",
      "Uncertain                                      137\n",
      "Fleeing/Bicycle                                 16\n",
      "Vehicle                                          7\n",
      "Not Fleeing                                      2\n",
      "Vehicle/Fleeing                                  2\n",
      "None                                             2\n",
      "Uncertain/Police alleged vehicular assault       1\n",
      "Duplicate of 12360                               1\n",
      "Vehicle/Motorcycle                               1\n",
      "Duplicate of 12398                               1\n",
      "Fleeing/Veh                                      1\n",
      "Duplicate of 13419?                              1\n",
      "Foot                                             1\n",
      "Fleeing/vehicle                                  1\n",
      "Fleeing/Skateboard                               1\n",
      "                                                 1\n",
      "Duplicate of 13457?                              1\n",
      "Fleeling/Vehicle                                 1\n",
      "Motorcycle                                       1\n",
      "Name: Fleeing/Not fleeing, dtype: int64\n",
      "-------------------------------------\n",
      "DESCRIPTION TEMP\n",
      "A man in a stolen truck chased at a very high rate of speed by a Texas Highway Patrol sergeant smashed into a Chevy Suburban and killed six family members. Dead: father Jose Luis Ortiz, mother Olga Lidia Morales-Cardoza, and children Elias Ortiz, Fernanda Ortiz, Ricardo Ortiz and Jose Ortiz, ranging in age from 1 to 6. One 3-year-old survived with injuries.                                                                                                                                                                                             6\n",
      "Bryan E. Sweatt, 27, shot and killed Chandra Fields, 26, Richard Allan Fields, 51, Melissa Maroney Fields, 49, Tariq Kenyon Robinson, 11, and William Asa Robinson, 9, during a standoff with deputies from the Greenwood County Sheriff's Office. It's possible one of these deaths occurred before deputies arrived.                                                                                                                                                                                                                                              6\n",
      "Armando Ivan Palomares-Castro, 36, was allegedly fleeing a police stop for border smuggling, killing five unidentified and undocumented immigrants upon crashing.                                                                                                                                                                                                                                                                                                                                                                                                   5\n",
      "Four people in two vehicles died in the collision of a grey Chevrolet Monte Carlo, driven by Stacy Garcia Gray, and a red sedan being chased by police, containing Shawnice Osborne, Larry Gilmore, and an unidentified third person. For two miles the sedan had fled officers after a shots-fired call and an attempted traffic stop. The crash and resulting fire was so intense that the make and model of the sedan was unclear.                                                                                                                               4\n",
      "Manuel Rendon-Lucas, 17, was allegedly fleeing a police stop for speeding, killing five unidentified people upon crashing.                                                                                                                                                                                                                                                                                                                                                                                                                                          4\n",
      "                                                                                                                                                                                                                                                                                                                                                                                                                                                                                                                                                                   ..\n",
      "A state trooper shot unarmed Scott M. Williford after he allegedly said he had a gun and stuck his hands in his waistband. At about 3 a.m., Williford was walking in the middle of the Noland Road overpass, carrying a bag. The trooper stopped and asked Williford what he was in the bag. Williford reportedly replied \"drugs\" and said he also had a 9-mm handgun. Williford then allegedly put his hands in his waistband in what the trooper claimed looked like a move to retrieve a gun. The trooper shot Williford, who died at the scene.                 1\n",
      "Casey Crye, 33, was allegedly fleeing a police stop for speeding on a motorcycle and died because of a crash.                                                                                                                                                                                                                                                                                                                                                                                                                                                       1\n",
      "Christopher George's mother called deputies reporting he had been locked in his room for several days. She told deputies that the man did not have access to weapons. Two deputies arrived about 10 minutes later to speak with him. George pulled a gun during the conversation, and Deputy Brandon Bussard shot and killed him.                                                                                                                                                                                                                                   1\n",
      "Police responded to a report of domestic dispute, went to Street's house and saw Street with a high-powered rifle. The officers identified themselves and ordered Street to put down his weapon. He refused and then pointed the gun at the officers who fired in response.                                                                                                                                                                                                                                                                                         1\n",
      "Two officers - a field training officer and a trainee - were dispatched after a person called to say she was concerned about a neighbor. After knocking on the front door and getting no response, the uniformed police officer went to the rear of the home and knocked on the back door. According to the report, a woman standing inside the home near the back door raised a curtain on a large adjacent window and pointed a silver Smith & Wesson .38 Special revolver at the officer. The officer then fired three times through the window, killing her.    1\n",
      "Name: Description Temp, Length: 782, dtype: int64\n",
      "-------------------------------------\n",
      "URL TEMP\n",
      "https://www.abqjournal.com/808551/da-clears-officers-in-2013-shooting.html                        1\n",
      "http://www.lapdonline.org/newsroom/news_view/54498                                                1\n",
      "https://drive.google.com/file/d/17NBpDGXWoPW1zURFq9geWwQquVs2U-VK/view?usp=sharing                1\n",
      "http://www.chron.com/news/article/SWAT-team-fatally-shoots-suspect-during-scene-at-4841867.php    1\n",
      "Name: URL Temp, dtype: int64\n",
      "-------------------------------------\n",
      "BRIEF DESCRIPTION\n",
      "On February 19, 2003, 21 people were killed and more than 50 people were injured during a stampede at the E2 nightclub after off-duty auxiliary officer Samuel Bone, who was working as private security that night. sprayed mace to break up a fight. The doors to the club were locked as people pushed their way to the exits. Berwyn auxiliary police officer reportedly worked security there regularly, but claimed he had just come to sell a flashlight to another guard when he got caught up in the stampede. A lawsuit alleged that Pellot ran an unlicensed company, Team 1 Security, that was on duty at the club. Chicago PD also opened an internal investigation into whether their officer, Donald D. Crayton, was on the club's security staff, which would violating a policy that officers were not allowed to moonlight at establishments that sell alcohol.    21\n",
      "Motorcycle club members, mostly Cossacks and Bandidos who were armed with pistols, bludgeons and knives, attacked each other at a biker rally that was being monitored by police. Officers Andy O'Neal, Michael Bucher and Heath Jackson fired 12 rifle rounds into the crowd, striking four of the nine men who died. Two of the dead were struck only by .223-caliber rifle bullets. Waco Police Department and the Texas Ranger Division investigated.                                                                                                                                                                                                                                                                                                                                                                                                                             9\n",
      "Border Patrol agents stopped a minivan on U.S. 83. A man stepped out of the vehicle and ran. Smuggler Junior Benjamin Rodriguez, 15, sped away and crashed in Palmview. Three women and six men died. One woman may have been pregnant. Seven more were injured. Rodriguez was convicted of nine counts of manslaughter. The dead are not named in English-language media.                                                                                                                                                                                                                                                                                                                                                                                                                                                                                                            9\n",
      "DPS troopers were pursuing a red Dodge pickup truck, and it crashed head-on into a white Ford F-150. Eight undocumented passengers--seven men and one woman--from the Dodge pickup were killed. The driver and a child passenger from the Ford pickup and one undocumented passenger from the Dodge pickup were transported to a hospital in San Antonio. The alleged driver of the red pickup truck tried to leave but was apprehended. Sebastian Tovar, 24, of Austin, was charged with \"transporting illegal aliens resulting in death.\"                                                                                                                                                                                                                                                                                                                                           8\n",
      "A car stolen at knifepoint and doing 80 MPH on a rural road, chased by local police, crashed full-speed into a family's pickup. Three teens in the car (Oscar Esparza, Arthur Rivas, Richard Carrasco) and five Salazar children in the truck (Eric, Jochelyn Grace, Monique Janae, Michael Alexander, and Sienna Rose Salazar), all eight died.                                                                                                                                                                                                                                                                                                                                                                                                                                                                                                                                      8\n",
      "                                                                                                                                                                                                                                                                                                                                                                                                                                                                                                                                                                                                                                                                                                                                                                                                                                                                                     ..\n",
      "Thomas allegedly attacked Officer Donald Privett with a metal pipe. The officer then fired his weapon. Thomas died on the way to a Springfield hospital. The officer was taken to the hospital in Cassville for his injuries, and was treated and released.                                                                                                                                                                                                                                                                                                                                                                                                                                                                                                                                                                                                                           1\n",
      "Around 7:30 p.m. following a police pursuit that started after a domestic disturbance at the Sweetwater Walmart, police spotted a van carrying the individuals from the disturbance and tried to pull it over. The driver didn't stop, and the officers pursued them. Madisonville Police picked up the pursuit and chased the van until it ran a red light and hit another vehicle. The van rolled over and caught fire. Its driver, Elizabeth French, was ejected from the van and killed.                                                                                                                                                                                                                                                                                                                                                                                          1\n",
      "At 7:11 PM, deputies responded to the report of a domestic disturbance at residence. The reporting party told dispatch that a person was armed with a firearm and was inside the residence with a woman. Deputies arrived as the woman left the home and spoke with deputies. Shortly after, a man came out armed with a firearm and began shooting at deputies, who shot and killed him.                                                                                                                                                                                                                                                                                                                                                                                                                                                                                             1\n",
      "Edward Paul Zumski III was a suspect in a stabbing reported at the King's Inn in Paris. When officers got to the scene, they reportedly found a woman covered with blood from stab wounds on her chest. Zumski confronted officers and allegedly pointed a handgun at them. The officers shot and killed Zumski.                                                                                                                                                                                                                                                                                                                                                                                                                                                                                                                                                                      1\n",
      "Joseph Pettaway, 51, allegedly broke into an unoccupied, unfurnished, rundown home and police responded to the burglary. After the absentee owner OK'd a police dog to search the home, the dog was set loose and severely mauled Pettaway for two minutes, who reportedly bled to death from a ruptured femoral artery outside the home as police failed to provide prompt medical attention. Pettaway's family has filed a wrongful death lawsuit.                                                                                                                                                                                                                                                                                                                                                                                                                                  1\n",
      "Name: Brief description, Length: 28689, dtype: int64\n",
      "-------------------------------------\n",
      "DISPOSITIONS/EXCLUSIONS INTERNAL USE, NOT FOR ANALYSIS\n",
      "Unreported                                          10389\n",
      "Pending investigation                                6996\n",
      "Justified                                            3988\n",
      "Suicide                                              2768\n",
      "Criminal                                             1409\n",
      "                                                    ...  \n",
      "Grand jury/No bill or Cleared/Ruled suicide             1\n",
      "Justified by Fifth Judicial Circuit Solicitor           1\n",
      "Justified by State's Attorney/Civil suit/Pending        1\n",
      "Ruled drug overdose                                     1\n",
      "/Suicide                                                1\n",
      "Name: Dispositions/Exclusions INTERNAL USE, NOT FOR ANALYSIS, Length: 139, dtype: int64\n",
      "-------------------------------------\n",
      "INTENDED USE OF FORCE (DEVELOPING)\n",
      "Deadly force              18173\n",
      "Vehic/Purs                 3783\n",
      "Suicide                    3184\n",
      "Pursuit                    2135\n",
      "Less-than-lethal force     1710\n",
      "No                          857\n",
      "Vehicle                     352\n",
      "Undetermined                 48\n",
      "Name: Intended use of force (Developing), dtype: int64\n",
      "-------------------------------------\n",
      "SUPPORTING DOCUMENT LINK\n",
      "http://www.usatoday.com/pages/interactives/blacks-killed-police-chases-higher-rate/                 75\n",
      "http://www.sltrib.com/news/1938044-155/shootings-by-police-vastly-underreported-in                  61\n",
      "http://www.cleveland.com/court-justice/index.ssf/2014/05/cleveland_police_officers_kill.html        31\n",
      "https://docs.google.com/document/d/1qabqMPPdvI4_PoDeuJgzTlzg7yKGQfMQSTC3r3bh18Y/edit?usp=sharing    21\n",
      "http://www.mydaytondailynews.com/data/news/police-shootings/                                        20\n",
      "                                                                                                    ..\n",
      "http://archive.fwweekly.com/content.asp?article=3743                                                 1\n",
      "https://www.kolotv.com/2021/05/03/lcso-responds-to-law-enforcement-emergency-in-stagecoach/          1\n",
      "http://www.northescambia.com/2013/12/teen-dead-in-officer-involved-shooting                          1\n",
      "https://docs.google.com/document/d/1QJbGhLxYHFJ0x-28MdREipPJ9VCfE6Se84qNG5dP33s/edit?usp=sharing     1\n",
      "https://docs.google.com/document/d/1svl87tMa0leyn1nkzslUQndBM8We7h5AVsVm1ZQdeXg/edit?usp=sharing     1\n",
      "Name: Supporting document link, Length: 16135, dtype: int64\n",
      "-------------------------------------\n",
      "FOREKNOWLEDGE OF MENTAL ILLNESS? INTERNAL USE, NOT FOR ANALYSIS\n",
      "No                     20468\n",
      "Unknown                 4833\n",
      "Yes                     3347\n",
      "Drug or alcohol use     1534\n",
      "Name: Foreknowledge of mental illness? INTERNAL USE, NOT FOR ANALYSIS, dtype: int64\n",
      "-------------------------------------\n"
     ]
    }
   ],
   "source": [
    "# specify useless columns and what to exclude for counts\n",
    "useless_columns = df.columns[32:]\n",
    "exclusions = ['url_of_image_pls_no_hotlinks', 'uid_temporary', 'name_temporary', 'description_temp', 'url_temp', \\\n",
    "        'supporting_document_link', 'dispositions_exclusions_internal_use,_not_for_analysis', 'foreknowledge_of_mental_illness?_internal_use,_not_for_analysis', \\\n",
    "        'race_with_imputations', 'name', 'imputation_probability', 'location_of_injury_address', 'location_of_death_city', 'state', 'location_of_death_county', \\\n",
    "        'full_address', 'latitude', 'longitude']\n",
    "\n",
    "# getting value counts for specific columns\n",
    "for column in df.columns:\n",
    "    if column not in exclusions and column not in useless_columns:\n",
    "        print(column.upper())\n",
    "        print(df[column].value_counts())\n",
    "        print(\"-------------------------------------\")"
   ]
  },
  {
   "cell_type": "code",
   "execution_count": 7,
   "metadata": {
    "cell_id": "00010-ea33bcf8-01ec-41a2-9578-c4e0a7aba1b8",
    "deepnote_cell_type": "code",
    "deepnote_to_be_reexecuted": false,
    "execution_millis": 1,
    "execution_start": 1622146116683,
    "source_hash": "10cf5780",
    "tags": []
   },
   "outputs": [],
   "source": [
    "\n",
    "# univariate distributions\n",
    "#for column in df.columns:\n",
    "#    if column not in exclusions and column not in useless_columns:\n",
    "#        sns.countplot(x=df[column], data=df, palette = 'ocean_r')\n",
    "#        print(\"------------------------------------------------------\")\n",
    "#        print(\"------------------------------------------------------\")\n",
    "#        plt.xticks(rotation=65)\n",
    "#        plt.show()\n"
   ]
  },
  {
   "cell_type": "markdown",
   "metadata": {
    "cell_id": "00011-2327c1b1-b2e3-4fd2-944b-3bbbdccd33a3",
    "deepnote_cell_type": "markdown",
    "tags": []
   },
   "source": [
    "### Takeaways\n",
    "- There are a couple of unnecessary columns (begin with `Unnamed:`).\n",
    "- Messy column names need to be renamed for better readability.\n",
    "- A lot of columns are not needed due to nulls/unusable and will need to be dropped. \n",
    "- Most values in each column have a wide variety of text variation. These should be lowercased, stripped, and grouped. \n",
    "- Many nulls in dataset that need to be filled in or dropped.\n",
    "- Dummy variables and encoding needs to be done to pretty much all of the dataset in order to model/evaluate. \n",
    "- Possibly a good idea to create age bins.\n",
    "- Possible exploration with time series. Set `Date of Incident` as datetime index?\n"
   ]
  },
  {
   "cell_type": "markdown",
   "metadata": {
    "cell_id": "00012-2eca56dc-39c8-4190-86db-bf486d4e34d4",
    "deepnote_cell_type": "markdown"
   },
   "source": [
    "\n",
    "___\n",
    "# Prepare and Split Data"
   ]
  },
  {
   "cell_type": "code",
   "execution_count": 8,
   "metadata": {
    "cell_id": "00013-43b949b3-c6c4-4c17-bb0e-fcde2e6194fb",
    "deepnote_cell_type": "code",
    "deepnote_to_be_reexecuted": false,
    "execution_millis": 246,
    "execution_start": 1622146116691,
    "source_hash": "2455ae76",
    "tags": []
   },
   "outputs": [],
   "source": [
    "#grab cleaned data frame from wrangle.py\n",
    "df = w.wrangle_new_data(cached=True).drop(columns='Unnamed: 0')\n",
    "df.head()"
   ]
  },
  {
   "cell_type": "code",
   "execution_count": 9,
   "metadata": {
    "cell_id": "00014-48bff273-8601-449c-be2f-4cc825232c88",
    "deepnote_cell_type": "code",
    "deepnote_to_be_reexecuted": false,
    "execution_millis": 9,
    "execution_start": 1622146116941,
    "source_hash": "14f60b8f",
    "tags": []
   },
   "outputs": [
    {
     "data": {
      "text/plain": [
       "(13265, 37)"
      ]
     },
     "execution_count": 9,
     "metadata": {},
     "output_type": "execute_result"
    }
   ],
   "source": [
    "df.shape"
   ]
  },
  {
   "cell_type": "code",
   "execution_count": 10,
   "metadata": {
    "cell_id": "00015-2a886b01-fb30-4999-bead-2fce5d76d8dc",
    "deepnote_cell_type": "code",
    "deepnote_to_be_reexecuted": false,
    "execution_millis": 15,
    "execution_start": 1622146116958,
    "source_hash": "1bd18b6b",
    "tags": []
   },
   "outputs": [],
   "source": [
    "df.dropna(inplace=True)"
   ]
  },
  {
   "cell_type": "code",
   "execution_count": 11,
   "metadata": {
    "cell_id": "00016-9a776d67-9ef8-4f77-97f6-00c80beae4e1",
    "deepnote_cell_type": "code",
    "deepnote_to_be_reexecuted": false,
    "execution_millis": 1,
    "execution_start": 1622146116981,
    "source_hash": "f05bfa07",
    "tags": []
   },
   "outputs": [],
   "source": [
    "df.rename(columns={'aggressive_physical_movement' : 'alleged_threat_lvl'}, inplace=True)"
   ]
  },
  {
   "cell_type": "code",
   "execution_count": 12,
   "metadata": {
    "cell_id": "00015-86109066-5d1c-4692-8bbc-154748f1be79",
    "deepnote_cell_type": "code",
    "deepnote_to_be_reexecuted": false,
    "execution_millis": 11,
    "execution_start": 1622146117016,
    "source_hash": "7dff3e6b",
    "tags": []
   },
   "outputs": [
    {
     "data": {
      "text/plain": [
       "unique_id                                           0\n",
       "age                                                 0\n",
       "gender                                              0\n",
       "race                                                0\n",
       "date_of_injury_resulting_in_death_month_day_year    0\n",
       "location_of_death_zip_code                          0\n",
       "agency_or_agencies_involved                         0\n",
       "highest_level_of_force                              0\n",
       "armed_unarmed                                       0\n",
       "alleged_weapon                                      0\n",
       "alleged_threat_lvl                                  0\n",
       "fleeing_not_fleeing                                 0\n",
       "brief_description                                   0\n",
       "intended_use_of_force_developing                    0\n",
       "fleeing                                             0\n",
       "age_bins                                            0\n",
       "is_asian_pacific islander                           0\n",
       "is_black                                            0\n",
       "is_hispanic                                         0\n",
       "is_middle eastern                                   0\n",
       "is_native_american                                  0\n",
       "is_unknown_race                                     0\n",
       "is_white                                            0\n",
       "is_unarmed                                          0\n",
       "had_blunt object                                    0\n",
       "had_edged weapon                                    0\n",
       "had_firearm                                         0\n",
       "had_no_weapon                                       0\n",
       "had_other_weapon                                    0\n",
       "under 12                                            0\n",
       "12-17                                               0\n",
       "18-24                                               0\n",
       "25-34                                               0\n",
       "35-44                                               0\n",
       "45-54                                               0\n",
       "55-64                                               0\n",
       "65+                                                 0\n",
       "dtype: int64"
      ]
     },
     "execution_count": 12,
     "metadata": {},
     "output_type": "execute_result"
    }
   ],
   "source": [
    "#double check no nulls\n",
    "df.isnull().sum()"
   ]
  },
  {
   "cell_type": "code",
   "execution_count": 13,
   "metadata": {
    "cell_id": "00016-87917369-83f9-4b91-a770-8d858c538d79",
    "deepnote_cell_type": "code",
    "deepnote_to_be_reexecuted": false,
    "execution_millis": 10,
    "execution_start": 1622146117017,
    "source_hash": "3edc948f",
    "tags": []
   },
   "outputs": [
    {
     "data": {
      "text/plain": [
       "unique_id                                           float64\n",
       "age                                                 float64\n",
       "gender                                               object\n",
       "race                                                 object\n",
       "date_of_injury_resulting_in_death_month_day_year     object\n",
       "location_of_death_zip_code                          float64\n",
       "agency_or_agencies_involved                          object\n",
       "highest_level_of_force                               object\n",
       "armed_unarmed                                        object\n",
       "alleged_weapon                                       object\n",
       "alleged_threat_lvl                                   object\n",
       "fleeing_not_fleeing                                  object\n",
       "brief_description                                    object\n",
       "intended_use_of_force_developing                     object\n",
       "fleeing                                             float64\n",
       "age_bins                                             object\n",
       "is_asian_pacific islander                             int64\n",
       "is_black                                              int64\n",
       "is_hispanic                                           int64\n",
       "is_middle eastern                                     int64\n",
       "is_native_american                                    int64\n",
       "is_unknown_race                                       int64\n",
       "is_white                                              int64\n",
       "is_unarmed                                            int64\n",
       "had_blunt object                                      int64\n",
       "had_edged weapon                                      int64\n",
       "had_firearm                                           int64\n",
       "had_no_weapon                                         int64\n",
       "had_other_weapon                                      int64\n",
       "under 12                                            float64\n",
       "12-17                                               float64\n",
       "18-24                                               float64\n",
       "25-34                                               float64\n",
       "35-44                                               float64\n",
       "45-54                                               float64\n",
       "55-64                                               float64\n",
       "65+                                                 float64\n",
       "dtype: object"
      ]
     },
     "execution_count": 13,
     "metadata": {},
     "output_type": "execute_result"
    }
   ],
   "source": [
    "#double check data types\n",
    "df.dtypes"
   ]
  },
  {
   "cell_type": "code",
   "execution_count": 14,
   "metadata": {
    "cell_id": "00017-db1c26c9-8fdf-4d95-b1c6-4e875ac760b6",
    "deepnote_cell_type": "code",
    "deepnote_to_be_reexecuted": false,
    "execution_millis": 138,
    "execution_start": 1622146117066,
    "source_hash": "be21ca7a",
    "tags": []
   },
   "outputs": [
    {
     "name": "stdout",
     "output_type": "stream",
     "text": [
      "overall shape of dataframe: (13137, 37)\n",
      "train: (7356, 37)\n",
      "validate: (3153, 37)\n",
      "test: (2628, 37)\n"
     ]
    },
    {
     "data": {
      "application/vnd.deepnote.dataframe.v2+json": {
       "column_count": 37,
       "columns": [
        {
         "dtype": "float64",
         "name": "unique_id",
         "stats": {
          "histogram": [
           {
            "bin_end": 13764.1,
            "bin_start": 12221,
            "count": 2
           },
           {
            "bin_end": 15307.2,
            "bin_start": 13764.1,
            "count": 0
           },
           {
            "bin_end": 16850.3,
            "bin_start": 15307.2,
            "count": 0
           },
           {
            "bin_end": 18393.4,
            "bin_start": 16850.3,
            "count": 1
           },
           {
            "bin_end": 19936.5,
            "bin_start": 18393.4,
            "count": 0
           },
           {
            "bin_end": 21479.6,
            "bin_start": 19936.5,
            "count": 0
           },
           {
            "bin_end": 23022.699999999997,
            "bin_start": 21479.6,
            "count": 0
           },
           {
            "bin_end": 24565.8,
            "bin_start": 23022.699999999997,
            "count": 0
           },
           {
            "bin_end": 26108.9,
            "bin_start": 24565.8,
            "count": 0
           },
           {
            "bin_end": 27652,
            "bin_start": 26108.9,
            "count": 2
           }
          ],
          "max": "27652.0",
          "min": "12221.0",
          "nan_count": 0,
          "unique_count": 5
         }
        },
        {
         "dtype": "float64",
         "name": "age",
         "stats": {
          "histogram": [
           {
            "bin_end": 21.4,
            "bin_start": 17,
            "count": 1
           },
           {
            "bin_end": 25.8,
            "bin_start": 21.4,
            "count": 0
           },
           {
            "bin_end": 30.200000000000003,
            "bin_start": 25.8,
            "count": 1
           },
           {
            "bin_end": 34.6,
            "bin_start": 30.200000000000003,
            "count": 0
           },
           {
            "bin_end": 39,
            "bin_start": 34.6,
            "count": 1
           },
           {
            "bin_end": 43.400000000000006,
            "bin_start": 39,
            "count": 0
           },
           {
            "bin_end": 47.800000000000004,
            "bin_start": 43.400000000000006,
            "count": 0
           },
           {
            "bin_end": 52.2,
            "bin_start": 47.800000000000004,
            "count": 1
           },
           {
            "bin_end": 56.6,
            "bin_start": 52.2,
            "count": 0
           },
           {
            "bin_end": 61,
            "bin_start": 56.6,
            "count": 1
           }
          ],
          "max": "61.0",
          "min": "17.0",
          "nan_count": 0,
          "unique_count": 5
         }
        },
        {
         "dtype": "object",
         "name": "gender",
         "stats": {
          "categories": [
           {
            "count": 5,
            "name": "male"
           }
          ],
          "nan_count": 0,
          "unique_count": 1
         }
        },
        {
         "dtype": "object",
         "name": "race",
         "stats": {
          "categories": [
           {
            "count": 2,
            "name": "black"
           },
           {
            "count": 2,
            "name": "white"
           },
           {
            "count": 1,
            "name": "unknown_race"
           }
          ],
          "nan_count": 0,
          "unique_count": 3
         }
        },
        {
         "dtype": "object",
         "name": "date_of_injury_resulting_in_death_month_day_year",
         "stats": {
          "categories": [
           {
            "count": 1,
            "name": "2020-03-03"
           },
           {
            "count": 1,
            "name": "2016-07-02 00:00:00"
           },
           {
            "count": 3,
            "name": "3 others"
           }
          ],
          "nan_count": 0,
          "unique_count": 5
         }
        },
        {
         "dtype": "float64",
         "name": "location_of_death_zip_code",
         "stats": {
          "histogram": [
           {
            "bin_end": 9915.3,
            "bin_start": 1569,
            "count": 1
           },
           {
            "bin_end": 18261.6,
            "bin_start": 9915.3,
            "count": 0
           },
           {
            "bin_end": 26607.899999999998,
            "bin_start": 18261.6,
            "count": 0
           },
           {
            "bin_end": 34954.2,
            "bin_start": 26607.899999999998,
            "count": 3
           },
           {
            "bin_end": 43300.5,
            "bin_start": 34954.2,
            "count": 0
           },
           {
            "bin_end": 51646.799999999996,
            "bin_start": 43300.5,
            "count": 0
           },
           {
            "bin_end": 59993.09999999999,
            "bin_start": 51646.799999999996,
            "count": 0
           },
           {
            "bin_end": 68339.4,
            "bin_start": 59993.09999999999,
            "count": 0
           },
           {
            "bin_end": 76685.7,
            "bin_start": 68339.4,
            "count": 0
           },
           {
            "bin_end": 85032,
            "bin_start": 76685.7,
            "count": 1
           }
          ],
          "max": "85032.0",
          "min": "1569.0",
          "nan_count": 0,
          "unique_count": 5
         }
        },
        {
         "dtype": "object",
         "name": "agency_or_agencies_involved",
         "stats": {
          "categories": [
           {
            "count": 1,
            "name": "miami-dade police department"
           },
           {
            "count": 1,
            "name": "asheville police department"
           },
           {
            "count": 3,
            "name": "3 others"
           }
          ],
          "nan_count": 0,
          "unique_count": 5
         }
        },
        {
         "dtype": "object",
         "name": "highest_level_of_force",
         "stats": {
          "categories": [
           {
            "count": 4,
            "name": "gunshot"
           },
           {
            "count": 1,
            "name": "vehicle"
           }
          ],
          "nan_count": 0,
          "unique_count": 2
         }
        },
        {
         "dtype": "object",
         "name": "armed_unarmed",
         "stats": {
          "categories": [
           {
            "count": 4,
            "name": "armed"
           },
           {
            "count": 1,
            "name": "unarmed"
           }
          ],
          "nan_count": 0,
          "unique_count": 2
         }
        },
        {
         "dtype": "object",
         "name": "alleged_weapon",
         "stats": {
          "categories": [
           {
            "count": 3,
            "name": "firearm"
           },
           {
            "count": 1,
            "name": "edged weapon"
           },
           {
            "count": 1,
            "name": "no_weapon"
           }
          ],
          "nan_count": 0,
          "unique_count": 3
         }
        },
        {
         "dtype": "object",
         "name": "alleged_threat_lvl",
         "stats": {
          "categories": [
           {
            "count": 4,
            "name": "threat"
           },
           {
            "count": 1,
            "name": "no_threat"
           }
          ],
          "nan_count": 0,
          "unique_count": 2
         }
        },
        {
         "dtype": "object",
         "name": "fleeing_not_fleeing",
         "stats": {
          "categories": [
           {
            "count": 3,
            "name": "not_fleeing"
           },
           {
            "count": 2,
            "name": "fleeing"
           }
          ],
          "nan_count": 0,
          "unique_count": 2
         }
        },
        {
         "dtype": "object",
         "name": "brief_description",
         "stats": {
          "categories": [
           {
            "count": 1,
            "name": "jose gainza allegedly stabbed and killed his daughter-in-law, ana iris rodriguez reyes, 27, then barricaded himself inside a bedroom as police entered the home. when gainza emerged from the bedroom, he reportedly ran toward officers with the knife, and they shot and killed him."
           },
           {
            "count": 1,
            "name": "police said they were called out to a report of shots fired at the pisgah view apartments. they attempted to stop a man who was driving away and who was later found at the deaverview apartments. police said a female passenger in williams' vehicle appeared to be struggling and she called for help when the vehicle stopped at the apartment complex. williams allegedly made a threat to sgt. tyler radford and displayed a weapon, who then shot and killed him."
           },
           {
            "count": 3,
            "name": "3 others"
           }
          ],
          "nan_count": 0,
          "unique_count": 5
         }
        },
        {
         "dtype": "object",
         "name": "intended_use_of_force_developing",
         "stats": {
          "categories": [
           {
            "count": 4,
            "name": "deadly force"
           },
           {
            "count": 1,
            "name": "vehic/purs"
           }
          ],
          "nan_count": 0,
          "unique_count": 2
         }
        },
        {
         "dtype": "float64",
         "name": "fleeing",
         "stats": {
          "histogram": [
           {
            "bin_end": 0.1,
            "bin_start": 0,
            "count": 3
           },
           {
            "bin_end": 0.2,
            "bin_start": 0.1,
            "count": 0
           },
           {
            "bin_end": 0.30000000000000004,
            "bin_start": 0.2,
            "count": 0
           },
           {
            "bin_end": 0.4,
            "bin_start": 0.30000000000000004,
            "count": 0
           },
           {
            "bin_end": 0.5,
            "bin_start": 0.4,
            "count": 0
           },
           {
            "bin_end": 0.6000000000000001,
            "bin_start": 0.5,
            "count": 0
           },
           {
            "bin_end": 0.7000000000000001,
            "bin_start": 0.6000000000000001,
            "count": 0
           },
           {
            "bin_end": 0.8,
            "bin_start": 0.7000000000000001,
            "count": 0
           },
           {
            "bin_end": 0.9,
            "bin_start": 0.8,
            "count": 0
           },
           {
            "bin_end": 1,
            "bin_start": 0.9,
            "count": 2
           }
          ],
          "max": "1.0",
          "min": "0.0",
          "nan_count": 0,
          "unique_count": 2
         }
        },
        {
         "dtype": "object",
         "name": "age_bins",
         "stats": {
          "categories": [
           {
            "count": 1,
            "name": "45-54"
           },
           {
            "count": 1,
            "name": "35-44"
           },
           {
            "count": 3,
            "name": "3 others"
           }
          ],
          "nan_count": 0,
          "unique_count": 5
         }
        },
        {
         "dtype": "int64",
         "name": "is_asian_pacific islander",
         "stats": {
          "histogram": [
           {
            "bin_end": -0.4,
            "bin_start": -0.5,
            "count": 0
           },
           {
            "bin_end": -0.3,
            "bin_start": -0.4,
            "count": 0
           },
           {
            "bin_end": -0.19999999999999996,
            "bin_start": -0.3,
            "count": 0
           },
           {
            "bin_end": -0.09999999999999998,
            "bin_start": -0.19999999999999996,
            "count": 0
           },
           {
            "bin_end": 0,
            "bin_start": -0.09999999999999998,
            "count": 0
           },
           {
            "bin_end": 0.10000000000000009,
            "bin_start": 0,
            "count": 5
           },
           {
            "bin_end": 0.20000000000000007,
            "bin_start": 0.10000000000000009,
            "count": 0
           },
           {
            "bin_end": 0.30000000000000004,
            "bin_start": 0.20000000000000007,
            "count": 0
           },
           {
            "bin_end": 0.4,
            "bin_start": 0.30000000000000004,
            "count": 0
           },
           {
            "bin_end": 0.5,
            "bin_start": 0.4,
            "count": 0
           }
          ],
          "max": "0",
          "min": "0",
          "nan_count": 0,
          "unique_count": 1
         }
        },
        {
         "dtype": "int64",
         "name": "is_black",
         "stats": {
          "histogram": [
           {
            "bin_end": 0.1,
            "bin_start": 0,
            "count": 3
           },
           {
            "bin_end": 0.2,
            "bin_start": 0.1,
            "count": 0
           },
           {
            "bin_end": 0.30000000000000004,
            "bin_start": 0.2,
            "count": 0
           },
           {
            "bin_end": 0.4,
            "bin_start": 0.30000000000000004,
            "count": 0
           },
           {
            "bin_end": 0.5,
            "bin_start": 0.4,
            "count": 0
           },
           {
            "bin_end": 0.6000000000000001,
            "bin_start": 0.5,
            "count": 0
           },
           {
            "bin_end": 0.7000000000000001,
            "bin_start": 0.6000000000000001,
            "count": 0
           },
           {
            "bin_end": 0.8,
            "bin_start": 0.7000000000000001,
            "count": 0
           },
           {
            "bin_end": 0.9,
            "bin_start": 0.8,
            "count": 0
           },
           {
            "bin_end": 1,
            "bin_start": 0.9,
            "count": 2
           }
          ],
          "max": "1",
          "min": "0",
          "nan_count": 0,
          "unique_count": 2
         }
        },
        {
         "dtype": "int64",
         "name": "is_hispanic",
         "stats": {
          "histogram": [
           {
            "bin_end": -0.4,
            "bin_start": -0.5,
            "count": 0
           },
           {
            "bin_end": -0.3,
            "bin_start": -0.4,
            "count": 0
           },
           {
            "bin_end": -0.19999999999999996,
            "bin_start": -0.3,
            "count": 0
           },
           {
            "bin_end": -0.09999999999999998,
            "bin_start": -0.19999999999999996,
            "count": 0
           },
           {
            "bin_end": 0,
            "bin_start": -0.09999999999999998,
            "count": 0
           },
           {
            "bin_end": 0.10000000000000009,
            "bin_start": 0,
            "count": 5
           },
           {
            "bin_end": 0.20000000000000007,
            "bin_start": 0.10000000000000009,
            "count": 0
           },
           {
            "bin_end": 0.30000000000000004,
            "bin_start": 0.20000000000000007,
            "count": 0
           },
           {
            "bin_end": 0.4,
            "bin_start": 0.30000000000000004,
            "count": 0
           },
           {
            "bin_end": 0.5,
            "bin_start": 0.4,
            "count": 0
           }
          ],
          "max": "0",
          "min": "0",
          "nan_count": 0,
          "unique_count": 1
         }
        },
        {
         "dtype": "int64",
         "name": "is_middle eastern",
         "stats": {
          "histogram": [
           {
            "bin_end": -0.4,
            "bin_start": -0.5,
            "count": 0
           },
           {
            "bin_end": -0.3,
            "bin_start": -0.4,
            "count": 0
           },
           {
            "bin_end": -0.19999999999999996,
            "bin_start": -0.3,
            "count": 0
           },
           {
            "bin_end": -0.09999999999999998,
            "bin_start": -0.19999999999999996,
            "count": 0
           },
           {
            "bin_end": 0,
            "bin_start": -0.09999999999999998,
            "count": 0
           },
           {
            "bin_end": 0.10000000000000009,
            "bin_start": 0,
            "count": 5
           },
           {
            "bin_end": 0.20000000000000007,
            "bin_start": 0.10000000000000009,
            "count": 0
           },
           {
            "bin_end": 0.30000000000000004,
            "bin_start": 0.20000000000000007,
            "count": 0
           },
           {
            "bin_end": 0.4,
            "bin_start": 0.30000000000000004,
            "count": 0
           },
           {
            "bin_end": 0.5,
            "bin_start": 0.4,
            "count": 0
           }
          ],
          "max": "0",
          "min": "0",
          "nan_count": 0,
          "unique_count": 1
         }
        },
        {
         "dtype": "int64",
         "name": "is_native_american",
         "stats": {
          "histogram": [
           {
            "bin_end": -0.4,
            "bin_start": -0.5,
            "count": 0
           },
           {
            "bin_end": -0.3,
            "bin_start": -0.4,
            "count": 0
           },
           {
            "bin_end": -0.19999999999999996,
            "bin_start": -0.3,
            "count": 0
           },
           {
            "bin_end": -0.09999999999999998,
            "bin_start": -0.19999999999999996,
            "count": 0
           },
           {
            "bin_end": 0,
            "bin_start": -0.09999999999999998,
            "count": 0
           },
           {
            "bin_end": 0.10000000000000009,
            "bin_start": 0,
            "count": 5
           },
           {
            "bin_end": 0.20000000000000007,
            "bin_start": 0.10000000000000009,
            "count": 0
           },
           {
            "bin_end": 0.30000000000000004,
            "bin_start": 0.20000000000000007,
            "count": 0
           },
           {
            "bin_end": 0.4,
            "bin_start": 0.30000000000000004,
            "count": 0
           },
           {
            "bin_end": 0.5,
            "bin_start": 0.4,
            "count": 0
           }
          ],
          "max": "0",
          "min": "0",
          "nan_count": 0,
          "unique_count": 1
         }
        },
        {
         "dtype": "int64",
         "name": "is_unknown_race",
         "stats": {
          "histogram": [
           {
            "bin_end": 0.1,
            "bin_start": 0,
            "count": 4
           },
           {
            "bin_end": 0.2,
            "bin_start": 0.1,
            "count": 0
           },
           {
            "bin_end": 0.30000000000000004,
            "bin_start": 0.2,
            "count": 0
           },
           {
            "bin_end": 0.4,
            "bin_start": 0.30000000000000004,
            "count": 0
           },
           {
            "bin_end": 0.5,
            "bin_start": 0.4,
            "count": 0
           },
           {
            "bin_end": 0.6000000000000001,
            "bin_start": 0.5,
            "count": 0
           },
           {
            "bin_end": 0.7000000000000001,
            "bin_start": 0.6000000000000001,
            "count": 0
           },
           {
            "bin_end": 0.8,
            "bin_start": 0.7000000000000001,
            "count": 0
           },
           {
            "bin_end": 0.9,
            "bin_start": 0.8,
            "count": 0
           },
           {
            "bin_end": 1,
            "bin_start": 0.9,
            "count": 1
           }
          ],
          "max": "1",
          "min": "0",
          "nan_count": 0,
          "unique_count": 2
         }
        },
        {
         "dtype": "int64",
         "name": "is_white",
         "stats": {
          "histogram": [
           {
            "bin_end": 0.1,
            "bin_start": 0,
            "count": 3
           },
           {
            "bin_end": 0.2,
            "bin_start": 0.1,
            "count": 0
           },
           {
            "bin_end": 0.30000000000000004,
            "bin_start": 0.2,
            "count": 0
           },
           {
            "bin_end": 0.4,
            "bin_start": 0.30000000000000004,
            "count": 0
           },
           {
            "bin_end": 0.5,
            "bin_start": 0.4,
            "count": 0
           },
           {
            "bin_end": 0.6000000000000001,
            "bin_start": 0.5,
            "count": 0
           },
           {
            "bin_end": 0.7000000000000001,
            "bin_start": 0.6000000000000001,
            "count": 0
           },
           {
            "bin_end": 0.8,
            "bin_start": 0.7000000000000001,
            "count": 0
           },
           {
            "bin_end": 0.9,
            "bin_start": 0.8,
            "count": 0
           },
           {
            "bin_end": 1,
            "bin_start": 0.9,
            "count": 2
           }
          ],
          "max": "1",
          "min": "0",
          "nan_count": 0,
          "unique_count": 2
         }
        },
        {
         "dtype": "int64",
         "name": "is_unarmed",
         "stats": {
          "histogram": [
           {
            "bin_end": 0.1,
            "bin_start": 0,
            "count": 4
           },
           {
            "bin_end": 0.2,
            "bin_start": 0.1,
            "count": 0
           },
           {
            "bin_end": 0.30000000000000004,
            "bin_start": 0.2,
            "count": 0
           },
           {
            "bin_end": 0.4,
            "bin_start": 0.30000000000000004,
            "count": 0
           },
           {
            "bin_end": 0.5,
            "bin_start": 0.4,
            "count": 0
           },
           {
            "bin_end": 0.6000000000000001,
            "bin_start": 0.5,
            "count": 0
           },
           {
            "bin_end": 0.7000000000000001,
            "bin_start": 0.6000000000000001,
            "count": 0
           },
           {
            "bin_end": 0.8,
            "bin_start": 0.7000000000000001,
            "count": 0
           },
           {
            "bin_end": 0.9,
            "bin_start": 0.8,
            "count": 0
           },
           {
            "bin_end": 1,
            "bin_start": 0.9,
            "count": 1
           }
          ],
          "max": "1",
          "min": "0",
          "nan_count": 0,
          "unique_count": 2
         }
        },
        {
         "dtype": "int64",
         "name": "had_blunt object",
         "stats": {
          "histogram": [
           {
            "bin_end": -0.4,
            "bin_start": -0.5,
            "count": 0
           },
           {
            "bin_end": -0.3,
            "bin_start": -0.4,
            "count": 0
           },
           {
            "bin_end": -0.19999999999999996,
            "bin_start": -0.3,
            "count": 0
           },
           {
            "bin_end": -0.09999999999999998,
            "bin_start": -0.19999999999999996,
            "count": 0
           },
           {
            "bin_end": 0,
            "bin_start": -0.09999999999999998,
            "count": 0
           },
           {
            "bin_end": 0.10000000000000009,
            "bin_start": 0,
            "count": 5
           },
           {
            "bin_end": 0.20000000000000007,
            "bin_start": 0.10000000000000009,
            "count": 0
           },
           {
            "bin_end": 0.30000000000000004,
            "bin_start": 0.20000000000000007,
            "count": 0
           },
           {
            "bin_end": 0.4,
            "bin_start": 0.30000000000000004,
            "count": 0
           },
           {
            "bin_end": 0.5,
            "bin_start": 0.4,
            "count": 0
           }
          ],
          "max": "0",
          "min": "0",
          "nan_count": 0,
          "unique_count": 1
         }
        },
        {
         "dtype": "int64",
         "name": "had_edged weapon",
         "stats": {
          "histogram": [
           {
            "bin_end": 0.1,
            "bin_start": 0,
            "count": 4
           },
           {
            "bin_end": 0.2,
            "bin_start": 0.1,
            "count": 0
           },
           {
            "bin_end": 0.30000000000000004,
            "bin_start": 0.2,
            "count": 0
           },
           {
            "bin_end": 0.4,
            "bin_start": 0.30000000000000004,
            "count": 0
           },
           {
            "bin_end": 0.5,
            "bin_start": 0.4,
            "count": 0
           },
           {
            "bin_end": 0.6000000000000001,
            "bin_start": 0.5,
            "count": 0
           },
           {
            "bin_end": 0.7000000000000001,
            "bin_start": 0.6000000000000001,
            "count": 0
           },
           {
            "bin_end": 0.8,
            "bin_start": 0.7000000000000001,
            "count": 0
           },
           {
            "bin_end": 0.9,
            "bin_start": 0.8,
            "count": 0
           },
           {
            "bin_end": 1,
            "bin_start": 0.9,
            "count": 1
           }
          ],
          "max": "1",
          "min": "0",
          "nan_count": 0,
          "unique_count": 2
         }
        },
        {
         "dtype": "int64",
         "name": "had_firearm",
         "stats": {
          "histogram": [
           {
            "bin_end": 0.1,
            "bin_start": 0,
            "count": 2
           },
           {
            "bin_end": 0.2,
            "bin_start": 0.1,
            "count": 0
           },
           {
            "bin_end": 0.30000000000000004,
            "bin_start": 0.2,
            "count": 0
           },
           {
            "bin_end": 0.4,
            "bin_start": 0.30000000000000004,
            "count": 0
           },
           {
            "bin_end": 0.5,
            "bin_start": 0.4,
            "count": 0
           },
           {
            "bin_end": 0.6000000000000001,
            "bin_start": 0.5,
            "count": 0
           },
           {
            "bin_end": 0.7000000000000001,
            "bin_start": 0.6000000000000001,
            "count": 0
           },
           {
            "bin_end": 0.8,
            "bin_start": 0.7000000000000001,
            "count": 0
           },
           {
            "bin_end": 0.9,
            "bin_start": 0.8,
            "count": 0
           },
           {
            "bin_end": 1,
            "bin_start": 0.9,
            "count": 3
           }
          ],
          "max": "1",
          "min": "0",
          "nan_count": 0,
          "unique_count": 2
         }
        },
        {
         "dtype": "int64",
         "name": "had_no_weapon",
         "stats": {
          "histogram": [
           {
            "bin_end": 0.1,
            "bin_start": 0,
            "count": 4
           },
           {
            "bin_end": 0.2,
            "bin_start": 0.1,
            "count": 0
           },
           {
            "bin_end": 0.30000000000000004,
            "bin_start": 0.2,
            "count": 0
           },
           {
            "bin_end": 0.4,
            "bin_start": 0.30000000000000004,
            "count": 0
           },
           {
            "bin_end": 0.5,
            "bin_start": 0.4,
            "count": 0
           },
           {
            "bin_end": 0.6000000000000001,
            "bin_start": 0.5,
            "count": 0
           },
           {
            "bin_end": 0.7000000000000001,
            "bin_start": 0.6000000000000001,
            "count": 0
           },
           {
            "bin_end": 0.8,
            "bin_start": 0.7000000000000001,
            "count": 0
           },
           {
            "bin_end": 0.9,
            "bin_start": 0.8,
            "count": 0
           },
           {
            "bin_end": 1,
            "bin_start": 0.9,
            "count": 1
           }
          ],
          "max": "1",
          "min": "0",
          "nan_count": 0,
          "unique_count": 2
         }
        },
        {
         "dtype": "int64",
         "name": "had_other_weapon",
         "stats": {
          "histogram": [
           {
            "bin_end": -0.4,
            "bin_start": -0.5,
            "count": 0
           },
           {
            "bin_end": -0.3,
            "bin_start": -0.4,
            "count": 0
           },
           {
            "bin_end": -0.19999999999999996,
            "bin_start": -0.3,
            "count": 0
           },
           {
            "bin_end": -0.09999999999999998,
            "bin_start": -0.19999999999999996,
            "count": 0
           },
           {
            "bin_end": 0,
            "bin_start": -0.09999999999999998,
            "count": 0
           },
           {
            "bin_end": 0.10000000000000009,
            "bin_start": 0,
            "count": 5
           },
           {
            "bin_end": 0.20000000000000007,
            "bin_start": 0.10000000000000009,
            "count": 0
           },
           {
            "bin_end": 0.30000000000000004,
            "bin_start": 0.20000000000000007,
            "count": 0
           },
           {
            "bin_end": 0.4,
            "bin_start": 0.30000000000000004,
            "count": 0
           },
           {
            "bin_end": 0.5,
            "bin_start": 0.4,
            "count": 0
           }
          ],
          "max": "0",
          "min": "0",
          "nan_count": 0,
          "unique_count": 1
         }
        },
        {
         "dtype": "float64",
         "name": "under 12",
         "stats": {
          "histogram": [
           {
            "bin_end": -0.4,
            "bin_start": -0.5,
            "count": 0
           },
           {
            "bin_end": -0.3,
            "bin_start": -0.4,
            "count": 0
           },
           {
            "bin_end": -0.19999999999999996,
            "bin_start": -0.3,
            "count": 0
           },
           {
            "bin_end": -0.09999999999999998,
            "bin_start": -0.19999999999999996,
            "count": 0
           },
           {
            "bin_end": 0,
            "bin_start": -0.09999999999999998,
            "count": 0
           },
           {
            "bin_end": 0.10000000000000009,
            "bin_start": 0,
            "count": 5
           },
           {
            "bin_end": 0.20000000000000007,
            "bin_start": 0.10000000000000009,
            "count": 0
           },
           {
            "bin_end": 0.30000000000000004,
            "bin_start": 0.20000000000000007,
            "count": 0
           },
           {
            "bin_end": 0.4,
            "bin_start": 0.30000000000000004,
            "count": 0
           },
           {
            "bin_end": 0.5,
            "bin_start": 0.4,
            "count": 0
           }
          ],
          "max": "0.0",
          "min": "0.0",
          "nan_count": 0,
          "unique_count": 1
         }
        },
        {
         "dtype": "float64",
         "name": "12-17",
         "stats": {
          "histogram": [
           {
            "bin_end": 0.1,
            "bin_start": 0,
            "count": 4
           },
           {
            "bin_end": 0.2,
            "bin_start": 0.1,
            "count": 0
           },
           {
            "bin_end": 0.30000000000000004,
            "bin_start": 0.2,
            "count": 0
           },
           {
            "bin_end": 0.4,
            "bin_start": 0.30000000000000004,
            "count": 0
           },
           {
            "bin_end": 0.5,
            "bin_start": 0.4,
            "count": 0
           },
           {
            "bin_end": 0.6000000000000001,
            "bin_start": 0.5,
            "count": 0
           },
           {
            "bin_end": 0.7000000000000001,
            "bin_start": 0.6000000000000001,
            "count": 0
           },
           {
            "bin_end": 0.8,
            "bin_start": 0.7000000000000001,
            "count": 0
           },
           {
            "bin_end": 0.9,
            "bin_start": 0.8,
            "count": 0
           },
           {
            "bin_end": 1,
            "bin_start": 0.9,
            "count": 1
           }
          ],
          "max": "1.0",
          "min": "0.0",
          "nan_count": 0,
          "unique_count": 2
         }
        },
        {
         "dtype": "float64",
         "name": "18-24",
         "stats": {
          "histogram": [
           {
            "bin_end": -0.4,
            "bin_start": -0.5,
            "count": 0
           },
           {
            "bin_end": -0.3,
            "bin_start": -0.4,
            "count": 0
           },
           {
            "bin_end": -0.19999999999999996,
            "bin_start": -0.3,
            "count": 0
           },
           {
            "bin_end": -0.09999999999999998,
            "bin_start": -0.19999999999999996,
            "count": 0
           },
           {
            "bin_end": 0,
            "bin_start": -0.09999999999999998,
            "count": 0
           },
           {
            "bin_end": 0.10000000000000009,
            "bin_start": 0,
            "count": 5
           },
           {
            "bin_end": 0.20000000000000007,
            "bin_start": 0.10000000000000009,
            "count": 0
           },
           {
            "bin_end": 0.30000000000000004,
            "bin_start": 0.20000000000000007,
            "count": 0
           },
           {
            "bin_end": 0.4,
            "bin_start": 0.30000000000000004,
            "count": 0
           },
           {
            "bin_end": 0.5,
            "bin_start": 0.4,
            "count": 0
           }
          ],
          "max": "0.0",
          "min": "0.0",
          "nan_count": 0,
          "unique_count": 1
         }
        },
        {
         "dtype": "float64",
         "name": "25-34",
         "stats": {
          "histogram": [
           {
            "bin_end": 0.1,
            "bin_start": 0,
            "count": 4
           },
           {
            "bin_end": 0.2,
            "bin_start": 0.1,
            "count": 0
           },
           {
            "bin_end": 0.30000000000000004,
            "bin_start": 0.2,
            "count": 0
           },
           {
            "bin_end": 0.4,
            "bin_start": 0.30000000000000004,
            "count": 0
           },
           {
            "bin_end": 0.5,
            "bin_start": 0.4,
            "count": 0
           },
           {
            "bin_end": 0.6000000000000001,
            "bin_start": 0.5,
            "count": 0
           },
           {
            "bin_end": 0.7000000000000001,
            "bin_start": 0.6000000000000001,
            "count": 0
           },
           {
            "bin_end": 0.8,
            "bin_start": 0.7000000000000001,
            "count": 0
           },
           {
            "bin_end": 0.9,
            "bin_start": 0.8,
            "count": 0
           },
           {
            "bin_end": 1,
            "bin_start": 0.9,
            "count": 1
           }
          ],
          "max": "1.0",
          "min": "0.0",
          "nan_count": 0,
          "unique_count": 2
         }
        },
        {
         "dtype": "float64",
         "name": "35-44",
         "stats": {
          "histogram": [
           {
            "bin_end": 0.1,
            "bin_start": 0,
            "count": 4
           },
           {
            "bin_end": 0.2,
            "bin_start": 0.1,
            "count": 0
           },
           {
            "bin_end": 0.30000000000000004,
            "bin_start": 0.2,
            "count": 0
           },
           {
            "bin_end": 0.4,
            "bin_start": 0.30000000000000004,
            "count": 0
           },
           {
            "bin_end": 0.5,
            "bin_start": 0.4,
            "count": 0
           },
           {
            "bin_end": 0.6000000000000001,
            "bin_start": 0.5,
            "count": 0
           },
           {
            "bin_end": 0.7000000000000001,
            "bin_start": 0.6000000000000001,
            "count": 0
           },
           {
            "bin_end": 0.8,
            "bin_start": 0.7000000000000001,
            "count": 0
           },
           {
            "bin_end": 0.9,
            "bin_start": 0.8,
            "count": 0
           },
           {
            "bin_end": 1,
            "bin_start": 0.9,
            "count": 1
           }
          ],
          "max": "1.0",
          "min": "0.0",
          "nan_count": 0,
          "unique_count": 2
         }
        },
        {
         "dtype": "float64",
         "name": "45-54",
         "stats": {
          "histogram": [
           {
            "bin_end": 0.1,
            "bin_start": 0,
            "count": 4
           },
           {
            "bin_end": 0.2,
            "bin_start": 0.1,
            "count": 0
           },
           {
            "bin_end": 0.30000000000000004,
            "bin_start": 0.2,
            "count": 0
           },
           {
            "bin_end": 0.4,
            "bin_start": 0.30000000000000004,
            "count": 0
           },
           {
            "bin_end": 0.5,
            "bin_start": 0.4,
            "count": 0
           },
           {
            "bin_end": 0.6000000000000001,
            "bin_start": 0.5,
            "count": 0
           },
           {
            "bin_end": 0.7000000000000001,
            "bin_start": 0.6000000000000001,
            "count": 0
           },
           {
            "bin_end": 0.8,
            "bin_start": 0.7000000000000001,
            "count": 0
           },
           {
            "bin_end": 0.9,
            "bin_start": 0.8,
            "count": 0
           },
           {
            "bin_end": 1,
            "bin_start": 0.9,
            "count": 1
           }
          ],
          "max": "1.0",
          "min": "0.0",
          "nan_count": 0,
          "unique_count": 2
         }
        },
        {
         "dtype": "float64",
         "name": "55-64",
         "stats": {
          "histogram": [
           {
            "bin_end": 0.1,
            "bin_start": 0,
            "count": 4
           },
           {
            "bin_end": 0.2,
            "bin_start": 0.1,
            "count": 0
           },
           {
            "bin_end": 0.30000000000000004,
            "bin_start": 0.2,
            "count": 0
           },
           {
            "bin_end": 0.4,
            "bin_start": 0.30000000000000004,
            "count": 0
           },
           {
            "bin_end": 0.5,
            "bin_start": 0.4,
            "count": 0
           },
           {
            "bin_end": 0.6000000000000001,
            "bin_start": 0.5,
            "count": 0
           },
           {
            "bin_end": 0.7000000000000001,
            "bin_start": 0.6000000000000001,
            "count": 0
           },
           {
            "bin_end": 0.8,
            "bin_start": 0.7000000000000001,
            "count": 0
           },
           {
            "bin_end": 0.9,
            "bin_start": 0.8,
            "count": 0
           },
           {
            "bin_end": 1,
            "bin_start": 0.9,
            "count": 1
           }
          ],
          "max": "1.0",
          "min": "0.0",
          "nan_count": 0,
          "unique_count": 2
         }
        },
        {
         "dtype": "float64",
         "name": "65+",
         "stats": {
          "histogram": [
           {
            "bin_end": -0.4,
            "bin_start": -0.5,
            "count": 0
           },
           {
            "bin_end": -0.3,
            "bin_start": -0.4,
            "count": 0
           },
           {
            "bin_end": -0.19999999999999996,
            "bin_start": -0.3,
            "count": 0
           },
           {
            "bin_end": -0.09999999999999998,
            "bin_start": -0.19999999999999996,
            "count": 0
           },
           {
            "bin_end": 0,
            "bin_start": -0.09999999999999998,
            "count": 0
           },
           {
            "bin_end": 0.10000000000000009,
            "bin_start": 0,
            "count": 5
           },
           {
            "bin_end": 0.20000000000000007,
            "bin_start": 0.10000000000000009,
            "count": 0
           },
           {
            "bin_end": 0.30000000000000004,
            "bin_start": 0.20000000000000007,
            "count": 0
           },
           {
            "bin_end": 0.4,
            "bin_start": 0.30000000000000004,
            "count": 0
           },
           {
            "bin_end": 0.5,
            "bin_start": 0.4,
            "count": 0
           }
          ],
          "max": "0.0",
          "min": "0.0",
          "nan_count": 0,
          "unique_count": 1
         }
        },
        {
         "dtype": "int64",
         "name": "_deepnote_index_column"
        }
       ],
       "row_count": 5,
       "rows_bottom": null,
       "rows_top": [
        {
         "12-17": 0,
         "18-24": 0,
         "25-34": 0,
         "35-44": 0,
         "45-54": 1,
         "55-64": 0,
         "65+": 0,
         "_deepnote_index_column": 12025,
         "age": 48,
         "age_bins": "45-54",
         "agency_or_agencies_involved": "miami-dade police department",
         "alleged_threat_lvl": "threat",
         "alleged_weapon": "edged weapon",
         "armed_unarmed": "armed",
         "brief_description": "jose gainza allegedly stabbed and killed his daughter-in-law, ana iris rodriguez reyes, 27, then barricaded himself inside a bedroom as police entered the home. when gainza emerged from the bedroom, he reportedly ran toward officers with the knife, and they shot and killed him.",
         "date_of_injury_resulting_in_death_month_day_year": "2020-03-03",
         "fleeing": 0,
         "fleeing_not_fleeing": "not_fleeing",
         "gender": "male",
         "had_blunt object": 0,
         "had_edged weapon": 1,
         "had_firearm": 0,
         "had_no_weapon": 0,
         "had_other_weapon": 0,
         "highest_level_of_force": "gunshot",
         "intended_use_of_force_developing": "deadly force",
         "is_asian_pacific islander": 0,
         "is_black": 0,
         "is_hispanic": 0,
         "is_middle eastern": 0,
         "is_native_american": 0,
         "is_unarmed": 0,
         "is_unknown_race": 1,
         "is_white": 0,
         "location_of_death_zip_code": 33187,
         "race": "unknown_race",
         "under 12": 0,
         "unique_id": 27652
        },
        {
         "12-17": 0,
         "18-24": 0,
         "25-34": 0,
         "35-44": 1,
         "45-54": 0,
         "55-64": 0,
         "65+": 0,
         "_deepnote_index_column": 5781,
         "age": 35,
         "age_bins": "35-44",
         "agency_or_agencies_involved": "asheville police department",
         "alleged_threat_lvl": "threat",
         "alleged_weapon": "firearm",
         "armed_unarmed": "armed",
         "brief_description": "police said they were called out to a report of shots fired at the pisgah view apartments. they attempted to stop a man who was driving away and who was later found at the deaverview apartments. police said a female passenger in williams' vehicle appeared to be struggling and she called for help when the vehicle stopped at the apartment complex. williams allegedly made a threat to sgt. tyler radford and displayed a weapon, who then shot and killed him.",
         "date_of_injury_resulting_in_death_month_day_year": "2016-07-02 00:00:00",
         "fleeing": 1,
         "fleeing_not_fleeing": "fleeing",
         "gender": "male",
         "had_blunt object": 0,
         "had_edged weapon": 0,
         "had_firearm": 1,
         "had_no_weapon": 0,
         "had_other_weapon": 0,
         "highest_level_of_force": "gunshot",
         "intended_use_of_force_developing": "deadly force",
         "is_asian_pacific islander": 0,
         "is_black": 1,
         "is_hispanic": 0,
         "is_middle eastern": 0,
         "is_native_american": 0,
         "is_unarmed": 0,
         "is_unknown_race": 0,
         "is_white": 0,
         "location_of_death_zip_code": 28806,
         "race": "black",
         "under 12": 0,
         "unique_id": 17870
        },
        {
         "12-17": 0,
         "18-24": 0,
         "25-34": 0,
         "35-44": 0,
         "45-54": 0,
         "55-64": 1,
         "65+": 0,
         "_deepnote_index_column": 10778,
         "age": 61,
         "age_bins": "55-64",
         "agency_or_agencies_involved": "charlotte county sheriff's office",
         "alleged_threat_lvl": "threat",
         "alleged_weapon": "firearm",
         "armed_unarmed": "armed",
         "brief_description": "around 9 p.m., a call came into 911 that bradley rundle had fired his gun multiple times inside a home. the caller said rundle was intoxicated and that other family members and children were at home. deputies surrounded the home. they saw rundle going in and out of the house several times while holding his gun and ordered him to drop his weapon and cooperate. around 10 p.m., a sergeant spoke to rundle by phone. rundle reportedly told the sergeant that he would not be coming out, and he did not intend to leave the home peacefully. a few minutes later, rundle left the home with his firearm in hand. rundle allegedly lifted his gun toward deputies and fired one round and was shot and killed.",
         "date_of_injury_resulting_in_death_month_day_year": "2019-06-24",
         "fleeing": 0,
         "fleeing_not_fleeing": "not_fleeing",
         "gender": "male",
         "had_blunt object": 0,
         "had_edged weapon": 0,
         "had_firearm": 1,
         "had_no_weapon": 0,
         "had_other_weapon": 0,
         "highest_level_of_force": "gunshot",
         "intended_use_of_force_developing": "deadly force",
         "is_asian_pacific islander": 0,
         "is_black": 0,
         "is_hispanic": 0,
         "is_middle eastern": 0,
         "is_native_american": 0,
         "is_unarmed": 0,
         "is_unknown_race": 0,
         "is_white": 1,
         "location_of_death_zip_code": 34224,
         "race": "white",
         "under 12": 0,
         "unique_id": 26220
        },
        {
         "12-17": 1,
         "18-24": 0,
         "25-34": 0,
         "35-44": 0,
         "45-54": 0,
         "55-64": 0,
         "65+": 0,
         "_deepnote_index_column": 58,
         "age": 17,
         "age_bins": "12-17",
         "agency_or_agencies_involved": "uxbridge police department",
         "alleged_threat_lvl": "no_threat",
         "alleged_weapon": "no_weapon",
         "armed_unarmed": "unarmed",
         "brief_description": "rome alexander ives, the driver of a stolen ford explorer, died after crashing into a pickup truck while fleeing from police.",
         "date_of_injury_resulting_in_death_month_day_year": "2013-01-11",
         "fleeing": 1,
         "fleeing_not_fleeing": "fleeing",
         "gender": "male",
         "had_blunt object": 0,
         "had_edged weapon": 0,
         "had_firearm": 0,
         "had_no_weapon": 1,
         "had_other_weapon": 0,
         "highest_level_of_force": "vehicle",
         "intended_use_of_force_developing": "vehic/purs",
         "is_asian_pacific islander": 0,
         "is_black": 1,
         "is_hispanic": 0,
         "is_middle eastern": 0,
         "is_native_american": 0,
         "is_unarmed": 1,
         "is_unknown_race": 0,
         "is_white": 0,
         "location_of_death_zip_code": 1569,
         "race": "black",
         "under 12": 0,
         "unique_id": 12221
        },
        {
         "12-17": 0,
         "18-24": 0,
         "25-34": 1,
         "35-44": 0,
         "45-54": 0,
         "55-64": 0,
         "65+": 0,
         "_deepnote_index_column": 1127,
         "age": 29,
         "age_bins": "25-34",
         "agency_or_agencies_involved": "mesa police department",
         "alleged_threat_lvl": "threat",
         "alleged_weapon": "firearm",
         "armed_unarmed": "armed",
         "brief_description": "officers attempted to detain jonathan tricarico after the 29-year-old was observed driving a stolen vehicle. police said that tricarico opened fire first, and was fatally shot in the ensuing gun fight.",
         "date_of_injury_resulting_in_death_month_day_year": "2013-08-23",
         "fleeing": 0,
         "fleeing_not_fleeing": "not_fleeing",
         "gender": "male",
         "had_blunt object": 0,
         "had_edged weapon": 0,
         "had_firearm": 1,
         "had_no_weapon": 0,
         "had_other_weapon": 0,
         "highest_level_of_force": "gunshot",
         "intended_use_of_force_developing": "deadly force",
         "is_asian_pacific islander": 0,
         "is_black": 0,
         "is_hispanic": 0,
         "is_middle eastern": 0,
         "is_native_american": 0,
         "is_unarmed": 0,
         "is_unknown_race": 0,
         "is_white": 1,
         "location_of_death_zip_code": 85032,
         "race": "white",
         "under 12": 0,
         "unique_id": 13305
        }
       ]
      },
      "text/html": [
       "<div>\n",
       "<style scoped>\n",
       "    .dataframe tbody tr th:only-of-type {\n",
       "        vertical-align: middle;\n",
       "    }\n",
       "\n",
       "    .dataframe tbody tr th {\n",
       "        vertical-align: top;\n",
       "    }\n",
       "\n",
       "    .dataframe thead th {\n",
       "        text-align: right;\n",
       "    }\n",
       "</style>\n",
       "<table border=\"1\" class=\"dataframe\">\n",
       "  <thead>\n",
       "    <tr style=\"text-align: right;\">\n",
       "      <th></th>\n",
       "      <th>unique_id</th>\n",
       "      <th>age</th>\n",
       "      <th>gender</th>\n",
       "      <th>race</th>\n",
       "      <th>date_of_injury_resulting_in_death_month_day_year</th>\n",
       "      <th>location_of_death_zip_code</th>\n",
       "      <th>agency_or_agencies_involved</th>\n",
       "      <th>highest_level_of_force</th>\n",
       "      <th>armed_unarmed</th>\n",
       "      <th>alleged_weapon</th>\n",
       "      <th>...</th>\n",
       "      <th>had_no_weapon</th>\n",
       "      <th>had_other_weapon</th>\n",
       "      <th>under 12</th>\n",
       "      <th>12-17</th>\n",
       "      <th>18-24</th>\n",
       "      <th>25-34</th>\n",
       "      <th>35-44</th>\n",
       "      <th>45-54</th>\n",
       "      <th>55-64</th>\n",
       "      <th>65+</th>\n",
       "    </tr>\n",
       "  </thead>\n",
       "  <tbody>\n",
       "    <tr>\n",
       "      <th>12025</th>\n",
       "      <td>27652.0</td>\n",
       "      <td>48.0</td>\n",
       "      <td>male</td>\n",
       "      <td>unknown_race</td>\n",
       "      <td>2020-03-03</td>\n",
       "      <td>33187.0</td>\n",
       "      <td>miami-dade police department</td>\n",
       "      <td>gunshot</td>\n",
       "      <td>armed</td>\n",
       "      <td>edged weapon</td>\n",
       "      <td>...</td>\n",
       "      <td>0</td>\n",
       "      <td>0</td>\n",
       "      <td>0.0</td>\n",
       "      <td>0.0</td>\n",
       "      <td>0.0</td>\n",
       "      <td>0.0</td>\n",
       "      <td>0.0</td>\n",
       "      <td>1.0</td>\n",
       "      <td>0.0</td>\n",
       "      <td>0.0</td>\n",
       "    </tr>\n",
       "    <tr>\n",
       "      <th>5781</th>\n",
       "      <td>17870.0</td>\n",
       "      <td>35.0</td>\n",
       "      <td>male</td>\n",
       "      <td>black</td>\n",
       "      <td>2016-07-02 00:00:00</td>\n",
       "      <td>28806.0</td>\n",
       "      <td>asheville police department</td>\n",
       "      <td>gunshot</td>\n",
       "      <td>armed</td>\n",
       "      <td>firearm</td>\n",
       "      <td>...</td>\n",
       "      <td>0</td>\n",
       "      <td>0</td>\n",
       "      <td>0.0</td>\n",
       "      <td>0.0</td>\n",
       "      <td>0.0</td>\n",
       "      <td>0.0</td>\n",
       "      <td>1.0</td>\n",
       "      <td>0.0</td>\n",
       "      <td>0.0</td>\n",
       "      <td>0.0</td>\n",
       "    </tr>\n",
       "    <tr>\n",
       "      <th>10778</th>\n",
       "      <td>26220.0</td>\n",
       "      <td>61.0</td>\n",
       "      <td>male</td>\n",
       "      <td>white</td>\n",
       "      <td>2019-06-24</td>\n",
       "      <td>34224.0</td>\n",
       "      <td>charlotte county sheriff's office</td>\n",
       "      <td>gunshot</td>\n",
       "      <td>armed</td>\n",
       "      <td>firearm</td>\n",
       "      <td>...</td>\n",
       "      <td>0</td>\n",
       "      <td>0</td>\n",
       "      <td>0.0</td>\n",
       "      <td>0.0</td>\n",
       "      <td>0.0</td>\n",
       "      <td>0.0</td>\n",
       "      <td>0.0</td>\n",
       "      <td>0.0</td>\n",
       "      <td>1.0</td>\n",
       "      <td>0.0</td>\n",
       "    </tr>\n",
       "    <tr>\n",
       "      <th>58</th>\n",
       "      <td>12221.0</td>\n",
       "      <td>17.0</td>\n",
       "      <td>male</td>\n",
       "      <td>black</td>\n",
       "      <td>2013-01-11</td>\n",
       "      <td>1569.0</td>\n",
       "      <td>uxbridge police department</td>\n",
       "      <td>vehicle</td>\n",
       "      <td>unarmed</td>\n",
       "      <td>no_weapon</td>\n",
       "      <td>...</td>\n",
       "      <td>1</td>\n",
       "      <td>0</td>\n",
       "      <td>0.0</td>\n",
       "      <td>1.0</td>\n",
       "      <td>0.0</td>\n",
       "      <td>0.0</td>\n",
       "      <td>0.0</td>\n",
       "      <td>0.0</td>\n",
       "      <td>0.0</td>\n",
       "      <td>0.0</td>\n",
       "    </tr>\n",
       "    <tr>\n",
       "      <th>1127</th>\n",
       "      <td>13305.0</td>\n",
       "      <td>29.0</td>\n",
       "      <td>male</td>\n",
       "      <td>white</td>\n",
       "      <td>2013-08-23</td>\n",
       "      <td>85032.0</td>\n",
       "      <td>mesa police department</td>\n",
       "      <td>gunshot</td>\n",
       "      <td>armed</td>\n",
       "      <td>firearm</td>\n",
       "      <td>...</td>\n",
       "      <td>0</td>\n",
       "      <td>0</td>\n",
       "      <td>0.0</td>\n",
       "      <td>0.0</td>\n",
       "      <td>0.0</td>\n",
       "      <td>1.0</td>\n",
       "      <td>0.0</td>\n",
       "      <td>0.0</td>\n",
       "      <td>0.0</td>\n",
       "      <td>0.0</td>\n",
       "    </tr>\n",
       "  </tbody>\n",
       "</table>\n",
       "<p>5 rows × 37 columns</p>\n",
       "</div>"
      ],
      "text/plain": [
       "       unique_id   age gender          race  \\\n",
       "12025    27652.0  48.0   male  unknown_race   \n",
       "5781     17870.0  35.0   male         black   \n",
       "10778    26220.0  61.0   male         white   \n",
       "58       12221.0  17.0   male         black   \n",
       "1127     13305.0  29.0   male         white   \n",
       "\n",
       "      date_of_injury_resulting_in_death_month_day_year  \\\n",
       "12025                                       2020-03-03   \n",
       "5781                               2016-07-02 00:00:00   \n",
       "10778                                       2019-06-24   \n",
       "58                                          2013-01-11   \n",
       "1127                                        2013-08-23   \n",
       "\n",
       "       location_of_death_zip_code        agency_or_agencies_involved  \\\n",
       "12025                     33187.0       miami-dade police department   \n",
       "5781                      28806.0        asheville police department   \n",
       "10778                     34224.0  charlotte county sheriff's office   \n",
       "58                         1569.0         uxbridge police department   \n",
       "1127                      85032.0             mesa police department   \n",
       "\n",
       "      highest_level_of_force armed_unarmed alleged_weapon  ... had_no_weapon  \\\n",
       "12025                gunshot         armed   edged weapon  ...             0   \n",
       "5781                 gunshot         armed        firearm  ...             0   \n",
       "10778                gunshot         armed        firearm  ...             0   \n",
       "58                   vehicle       unarmed      no_weapon  ...             1   \n",
       "1127                 gunshot         armed        firearm  ...             0   \n",
       "\n",
       "      had_other_weapon under 12 12-17  18-24 25-34  35-44  45-54  55-64  65+  \n",
       "12025                0      0.0   0.0    0.0   0.0    0.0    1.0    0.0  0.0  \n",
       "5781                 0      0.0   0.0    0.0   0.0    1.0    0.0    0.0  0.0  \n",
       "10778                0      0.0   0.0    0.0   0.0    0.0    0.0    1.0  0.0  \n",
       "58                   0      0.0   1.0    0.0   0.0    0.0    0.0    0.0  0.0  \n",
       "1127                 0      0.0   0.0    0.0   1.0    0.0    0.0    0.0  0.0  \n",
       "\n",
       "[5 rows x 37 columns]"
      ]
     },
     "execution_count": 14,
     "metadata": {},
     "output_type": "execute_result"
    }
   ],
   "source": [
    "#split the data using the split function in explore.py\n",
    "train, validate, test = split(df, stratify_by=\"alleged_threat_lvl\")\n",
    "\n",
    "#check split datasets\n",
    "print('overall shape of dataframe:', df.shape)\n",
    "print('train:', train.shape)\n",
    "print('validate:', validate.shape)\n",
    "print('test:', test.shape)\n",
    "\n",
    "#work w/ training data\n",
    "train.head()"
   ]
  },
  {
   "cell_type": "markdown",
   "metadata": {
    "cell_id": "00018-43d72133-86d8-4753-8e94-9bd08f310871",
    "deepnote_cell_type": "markdown",
    "tags": []
   },
   "source": [
    "### Takeaway\n",
    "- Data is prepped/split and ready to be explored, modeled, and evaluated."
   ]
  },
  {
   "cell_type": "markdown",
   "metadata": {
    "cell_id": "00019-3409403e-873f-4654-b1ce-dfdc648e1f86",
    "deepnote_cell_type": "markdown"
   },
   "source": [
    "\n",
    "___\n",
    "# Explore Data\n",
    "#### Address questions posed in planning\n",
    "- Does gender make a difference in alleged threat level?\n",
    "- How does mental illness affect each gender?\n",
    "- Do symptoms of mental illness play a role in threat level?\n",
    "- Is race a factor for alleged threat level?\n",
    "- Does bodycam make a difference in alleged threat level?\n",
    "- Is cause of death and alleged threat level independent of one another?\n",
    "- What areas in geography are resulting in more killings?\n",
    "- What are the fatalities by state: % killings vs pop\n",
    "\n",
    "## • Visualizations"
   ]
  },
  {
   "cell_type": "markdown",
   "metadata": {},
   "source": [
    "Are victims armed/unarmed or fleeing/not fleeing victims? Do these attributes affect alleged threat level?\n",
    "Did the victim put others in danger?\n",
    "Is there a mental illness that contributed to the incident?\n",
    "Are officers wearing their body cameras and does it make a difference in alleged threat level?\n",
    "Is race, gender, age or location influencing the threat level of victims?\n",
    "Is there even enough information being documented on the police reports?\n",
    "How does mental illness affect each gender?\n",
    "Do symptoms of mental illness play a role in threat level?\n",
    "Is cause of death and alleged threat level independent of one another?\n",
    "What are the fatalities by state: % killings vs pop?"
   ]
  },
  {
   "cell_type": "code",
   "execution_count": 15,
   "metadata": {
    "cell_id": "00020-bb2e0279-bbb2-4974-9f92-9775a5d1814f",
    "deepnote_cell_type": "code",
    "deepnote_to_be_reexecuted": false,
    "execution_millis": 342,
    "execution_start": 1622146117246,
    "source_hash": "bebc8bdb"
   },
   "outputs": [
    {
     "data": {
      "image/png": "[encoded data removed]",
      "text/plain": [
       "<Figure size 576x432 with 1 Axes>"
      ]
     },
     "metadata": {
      "image/png": {
       "height": 392,
       "width": 642
      },
      "needs_background": "light"
     },
     "output_type": "display_data"
    },
    {
     "data": {
      "application/vnd.deepnote.dataframe.v2+json": {
       "column_count": 3,
       "columns": [
        {
         "dtype": "float64",
         "name": "ambiguous_threat",
         "stats": {
          "histogram": [
           {
            "bin_end": 0.010873171467350324,
            "bin_start": 0,
            "count": 1
           },
           {
            "bin_end": 0.02174634293470065,
            "bin_start": 0.010873171467350324,
            "count": 0
           },
           {
            "bin_end": 0.03261951440205097,
            "bin_start": 0.02174634293470065,
            "count": 0
           },
           {
            "bin_end": 0.0434926858694013,
            "bin_start": 0.03261951440205097,
            "count": 0
           },
           {
            "bin_end": 0.05436585733675162,
            "bin_start": 0.0434926858694013,
            "count": 0
           },
           {
            "bin_end": 0.06523902880410194,
            "bin_start": 0.05436585733675162,
            "count": 1
           },
           {
            "bin_end": 0.07611220027145227,
            "bin_start": 0.06523902880410194,
            "count": 0
           },
           {
            "bin_end": 0.0869853717388026,
            "bin_start": 0.07611220027145227,
            "count": 0
           },
           {
            "bin_end": 0.09785854320615292,
            "bin_start": 0.0869853717388026,
            "count": 0
           },
           {
            "bin_end": 0.10873171467350325,
            "bin_start": 0.09785854320615292,
            "count": 1
           }
          ],
          "max": "0.10873171467350325",
          "min": "0.0",
          "nan_count": 0,
          "unique_count": 3
         }
        },
        {
         "dtype": "float64",
         "name": "no_threat",
         "stats": {
          "histogram": [
           {
            "bin_end": 0.2025268603263032,
            "bin_start": 0.14285714285714285,
            "count": 1
           },
           {
            "bin_end": 0.26219657779546357,
            "bin_start": 0.2025268603263032,
            "count": 0
           },
           {
            "bin_end": 0.32186629526462396,
            "bin_start": 0.26219657779546357,
            "count": 0
           },
           {
            "bin_end": 0.38153601273378435,
            "bin_start": 0.32186629526462396,
            "count": 1
           },
           {
            "bin_end": 0.4412057302029447,
            "bin_start": 0.38153601273378435,
            "count": 0
           },
           {
            "bin_end": 0.5008754476721051,
            "bin_start": 0.4412057302029447,
            "count": 0
           },
           {
            "bin_end": 0.5605451651412654,
            "bin_start": 0.5008754476721051,
            "count": 0
           },
           {
            "bin_end": 0.6202148826104258,
            "bin_start": 0.5605451651412654,
            "count": 0
           },
           {
            "bin_end": 0.6798846000795862,
            "bin_start": 0.6202148826104258,
            "count": 0
           },
           {
            "bin_end": 0.7395543175487466,
            "bin_start": 0.6798846000795862,
            "count": 1
           }
          ],
          "max": "0.7395543175487466",
          "min": "0.14285714285714285",
          "nan_count": 0,
          "unique_count": 3
         }
        },
        {
         "dtype": "float64",
         "name": "threat",
         "stats": {
          "histogram": [
           {
            "bin_end": 0.2687226422602467,
            "bin_start": 0.20334261838440112,
            "count": 1
           },
           {
            "bin_end": 0.3341026661360923,
            "bin_start": 0.2687226422602467,
            "count": 0
           },
           {
            "bin_end": 0.3994826900119379,
            "bin_start": 0.3341026661360923,
            "count": 0
           },
           {
            "bin_end": 0.46486271388778355,
            "bin_start": 0.3994826900119379,
            "count": 0
           },
           {
            "bin_end": 0.5302427377636292,
            "bin_start": 0.46486271388778355,
            "count": 0
           },
           {
            "bin_end": 0.5956227616394747,
            "bin_start": 0.5302427377636292,
            "count": 1
           },
           {
            "bin_end": 0.6610027855153203,
            "bin_start": 0.5956227616394747,
            "count": 0
           },
           {
            "bin_end": 0.726382809391166,
            "bin_start": 0.6610027855153203,
            "count": 0
           },
           {
            "bin_end": 0.7917628332670116,
            "bin_start": 0.726382809391166,
            "count": 0
           },
           {
            "bin_end": 0.8571428571428571,
            "bin_start": 0.7917628332670116,
            "count": 1
           }
          ],
          "max": "0.8571428571428571",
          "min": "0.20334261838440112",
          "nan_count": 0,
          "unique_count": 3
         }
        },
        {
         "dtype": "object",
         "name": "_deepnote_index_column"
        }
       ],
       "row_count": 3,
       "rows_bottom": null,
       "rows_top": [
        {
         "_deepnote_index_column": "female",
         "ambiguous_threat": 0.057103064066852366,
         "no_threat": 0.7395543175487466,
         "threat": 0.20334261838440112
        },
        {
         "_deepnote_index_column": "male",
         "ambiguous_threat": 0.10873171467350325,
         "no_threat": 0.33418790529331927,
         "threat": 0.5570803800331775
        },
        {
         "_deepnote_index_column": "transgender",
         "ambiguous_threat": 0,
         "no_threat": 0.14285714285714285,
         "threat": 0.8571428571428571
        }
       ]
      },
      "text/html": [
       "<div>\n",
       "<style scoped>\n",
       "    .dataframe tbody tr th:only-of-type {\n",
       "        vertical-align: middle;\n",
       "    }\n",
       "\n",
       "    .dataframe tbody tr th {\n",
       "        vertical-align: top;\n",
       "    }\n",
       "\n",
       "    .dataframe thead th {\n",
       "        text-align: right;\n",
       "    }\n",
       "</style>\n",
       "<table border=\"1\" class=\"dataframe\">\n",
       "  <thead>\n",
       "    <tr style=\"text-align: right;\">\n",
       "      <th>alleged_threat_lvl</th>\n",
       "      <th>ambiguous_threat</th>\n",
       "      <th>no_threat</th>\n",
       "      <th>threat</th>\n",
       "    </tr>\n",
       "    <tr>\n",
       "      <th>gender</th>\n",
       "      <th></th>\n",
       "      <th></th>\n",
       "      <th></th>\n",
       "    </tr>\n",
       "  </thead>\n",
       "  <tbody>\n",
       "    <tr>\n",
       "      <th>female</th>\n",
       "      <td>0.057103</td>\n",
       "      <td>0.739554</td>\n",
       "      <td>0.203343</td>\n",
       "    </tr>\n",
       "    <tr>\n",
       "      <th>male</th>\n",
       "      <td>0.108732</td>\n",
       "      <td>0.334188</td>\n",
       "      <td>0.557080</td>\n",
       "    </tr>\n",
       "    <tr>\n",
       "      <th>transgender</th>\n",
       "      <td>0.000000</td>\n",
       "      <td>0.142857</td>\n",
       "      <td>0.857143</td>\n",
       "    </tr>\n",
       "  </tbody>\n",
       "</table>\n",
       "</div>"
      ],
      "text/plain": [
       "alleged_threat_lvl  ambiguous_threat  no_threat    threat\n",
       "gender                                                   \n",
       "female                      0.057103   0.739554  0.203343\n",
       "male                        0.108732   0.334188  0.557080\n",
       "transgender                 0.000000   0.142857  0.857143"
      ]
     },
     "execution_count": 15,
     "metadata": {},
     "output_type": "execute_result"
    }
   ],
   "source": [
    "#visualize gender vs alleged threat level\n",
    "ax = pd.crosstab(train.gender, train.alleged_threat_lvl, normalize ='index').plot.barh(figsize=(8, 6), cmap=plt.cm.get_cmap('Blues'), ec=\"black\")\n",
    "\n",
    "#customize legend\n",
    "legend_labels, _= ax.get_legend_handles_labels()\n",
    "ax.legend(legend_labels, ['Non-Attack', 'Attack'], \n",
    "          bbox_to_anchor=(1,1), \n",
    "          title='Threat Level')\n",
    "\n",
    "#customize chart\n",
    "plt.title(\"Does Gender Make a Difference in Alleged Threat Level?\", fontsize = 15)\n",
    "plt.ylabel(\"Gender\", fontsize = 12)\n",
    "plt.xlabel('Percentage', fontsize = 12)\n",
    "ax.tick_params(labelsize=10)\n",
    "plt.xlim([0.0, 1.0])\n",
    "plt.show()\n",
    "\n",
    "#get percentages df\n",
    "percentages = pd.crosstab(train.gender, train.alleged_threat_lvl, normalize = 'index')\n",
    "percentages"
   ]
  },
  {
   "cell_type": "markdown",
   "metadata": {
    "cell_id": "00021-3b57debc-cf2c-49bf-8b5c-06916c1fb171",
    "deepnote_cell_type": "markdown"
   },
   "source": [
    "### Takeaways\n",
    "- Highest percentage of non-attacks are transgender. Second highest is female.\n",
    "- Highest percentage of attacks are male. Second highest is female.\n",
    "- Males are almost equally likely to be an attack or non-attack threat level."
   ]
  },
  {
   "cell_type": "code",
   "execution_count": 16,
   "metadata": {
    "cell_id": "00027-48caa6b0-ef37-45d6-a824-0ca230aaea74",
    "deepnote_cell_type": "code",
    "deepnote_to_be_reexecuted": false,
    "execution_millis": 381,
    "execution_start": 1622146117582,
    "source_hash": "55411c56",
    "tags": []
   },
   "outputs": [
    {
     "data": {
      "image/png": "[encoded data removed]",
      "text/plain": [
       "<Figure size 576x432 with 1 Axes>"
      ]
     },
     "metadata": {
      "image/png": {
       "height": 392,
       "width": 598
      },
      "needs_background": "light"
     },
     "output_type": "display_data"
    },
    {
     "data": {
      "application/vnd.deepnote.dataframe.v2+json": {
       "column_count": 3,
       "columns": [
        {
         "dtype": "float64",
         "name": "ambiguous_threat",
         "stats": {
          "histogram": [
           {
            "bin_end": 0.06636309350245986,
            "bin_start": 0.05931321540062435,
            "count": 2
           },
           {
            "bin_end": 0.07341297160429536,
            "bin_start": 0.06636309350245986,
            "count": 0
           },
           {
            "bin_end": 0.08046284970613088,
            "bin_start": 0.07341297160429536,
            "count": 1
           },
           {
            "bin_end": 0.08751272780796637,
            "bin_start": 0.08046284970613088,
            "count": 1
           },
           {
            "bin_end": 0.0945626059098019,
            "bin_start": 0.08751272780796637,
            "count": 0
           },
           {
            "bin_end": 0.10161248401163739,
            "bin_start": 0.0945626059098019,
            "count": 1
           },
           {
            "bin_end": 0.10866236211347291,
            "bin_start": 0.10161248401163739,
            "count": 0
           },
           {
            "bin_end": 0.1157122402153084,
            "bin_start": 0.10866236211347291,
            "count": 0
           },
           {
            "bin_end": 0.12276211831714393,
            "bin_start": 0.1157122402153084,
            "count": 0
           },
           {
            "bin_end": 0.12981199641897942,
            "bin_start": 0.12276211831714393,
            "count": 2
           }
          ],
          "max": "0.12981199641897942",
          "min": "0.05931321540062435",
          "nan_count": 0,
          "unique_count": 7
         }
        },
        {
         "dtype": "float64",
         "name": "no_threat",
         "stats": {
          "histogram": [
           {
            "bin_end": 0.19225966541263106,
            "bin_start": 0.15384615384615385,
            "count": 1
           },
           {
            "bin_end": 0.2306731769791083,
            "bin_start": 0.19225966541263106,
            "count": 0
           },
           {
            "bin_end": 0.26908668854558554,
            "bin_start": 0.2306731769791083,
            "count": 1
           },
           {
            "bin_end": 0.30750020011206275,
            "bin_start": 0.26908668854558554,
            "count": 0
           },
           {
            "bin_end": 0.34591371167853996,
            "bin_start": 0.30750020011206275,
            "count": 2
           },
           {
            "bin_end": 0.3843272232450172,
            "bin_start": 0.34591371167853996,
            "count": 2
           },
           {
            "bin_end": 0.42274073481149443,
            "bin_start": 0.3843272232450172,
            "count": 0
           },
           {
            "bin_end": 0.46115424637797164,
            "bin_start": 0.42274073481149443,
            "count": 0
           },
           {
            "bin_end": 0.49956775794444885,
            "bin_start": 0.46115424637797164,
            "count": 0
           },
           {
            "bin_end": 0.5379812695109261,
            "bin_start": 0.49956775794444885,
            "count": 1
           }
          ],
          "max": "0.5379812695109261",
          "min": "0.15384615384615385",
          "nan_count": 0,
          "unique_count": 7
         }
        },
        {
         "dtype": "float64",
         "name": "threat",
         "stats": {
          "histogram": [
           {
            "bin_end": 0.4393580405026815,
            "bin_start": 0.40270551508844954,
            "count": 1
           },
           {
            "bin_end": 0.4760105659169135,
            "bin_start": 0.4393580405026815,
            "count": 0
           },
           {
            "bin_end": 0.5126630913311454,
            "bin_start": 0.4760105659169135,
            "count": 1
           },
           {
            "bin_end": 0.5493156167453774,
            "bin_start": 0.5126630913311454,
            "count": 0
           },
           {
            "bin_end": 0.5859681421596095,
            "bin_start": 0.5493156167453774,
            "count": 2
           },
           {
            "bin_end": 0.6226206675738414,
            "bin_start": 0.5859681421596095,
            "count": 1
           },
           {
            "bin_end": 0.6592731929880733,
            "bin_start": 0.6226206675738414,
            "count": 0
           },
           {
            "bin_end": 0.6959257184023053,
            "bin_start": 0.6592731929880733,
            "count": 1
           },
           {
            "bin_end": 0.7325782438165374,
            "bin_start": 0.6959257184023053,
            "count": 0
           },
           {
            "bin_end": 0.7692307692307693,
            "bin_start": 0.7325782438165374,
            "count": 1
           }
          ],
          "max": "0.7692307692307693",
          "min": "0.40270551508844954",
          "nan_count": 0,
          "unique_count": 7
         }
        },
        {
         "dtype": "object",
         "name": "_deepnote_index_column"
        }
       ],
       "row_count": 7,
       "rows_bottom": null,
       "rows_top": [
        {
         "_deepnote_index_column": "asian/pacific islander",
         "ambiguous_threat": 0.0873015873015873,
         "no_threat": 0.3253968253968254,
         "threat": 0.5873015873015873
        },
        {
         "_deepnote_index_column": "black",
         "ambiguous_threat": 0.12839637719765584,
         "no_threat": 0.38359083644112946,
         "threat": 0.4880127863612147
        },
        {
         "_deepnote_index_column": "hispanic",
         "ambiguous_threat": 0.12981199641897942,
         "no_threat": 0.3106535362578335,
         "threat": 0.5595344673231871
        },
        {
         "_deepnote_index_column": "middle eastern",
         "ambiguous_threat": 0.07692307692307693,
         "no_threat": 0.15384615384615385,
         "threat": 0.7692307692307693
        },
        {
         "_deepnote_index_column": "native_american",
         "ambiguous_threat": 0.0594059405940594,
         "no_threat": 0.25742574257425743,
         "threat": 0.6831683168316832
        },
        {
         "_deepnote_index_column": "unknown_race",
         "ambiguous_threat": 0.05931321540062435,
         "no_threat": 0.5379812695109261,
         "threat": 0.40270551508844954
        },
        {
         "_deepnote_index_column": "white",
         "ambiguous_threat": 0.09522303068649161,
         "no_threat": 0.3464093641252768,
         "threat": 0.5583676051882316
        }
       ]
      },
      "text/html": [
       "<div>\n",
       "<style scoped>\n",
       "    .dataframe tbody tr th:only-of-type {\n",
       "        vertical-align: middle;\n",
       "    }\n",
       "\n",
       "    .dataframe tbody tr th {\n",
       "        vertical-align: top;\n",
       "    }\n",
       "\n",
       "    .dataframe thead th {\n",
       "        text-align: right;\n",
       "    }\n",
       "</style>\n",
       "<table border=\"1\" class=\"dataframe\">\n",
       "  <thead>\n",
       "    <tr style=\"text-align: right;\">\n",
       "      <th>alleged_threat_lvl</th>\n",
       "      <th>ambiguous_threat</th>\n",
       "      <th>no_threat</th>\n",
       "      <th>threat</th>\n",
       "    </tr>\n",
       "    <tr>\n",
       "      <th>race</th>\n",
       "      <th></th>\n",
       "      <th></th>\n",
       "      <th></th>\n",
       "    </tr>\n",
       "  </thead>\n",
       "  <tbody>\n",
       "    <tr>\n",
       "      <th>asian/pacific islander</th>\n",
       "      <td>0.087302</td>\n",
       "      <td>0.325397</td>\n",
       "      <td>0.587302</td>\n",
       "    </tr>\n",
       "    <tr>\n",
       "      <th>black</th>\n",
       "      <td>0.128396</td>\n",
       "      <td>0.383591</td>\n",
       "      <td>0.488013</td>\n",
       "    </tr>\n",
       "    <tr>\n",
       "      <th>hispanic</th>\n",
       "      <td>0.129812</td>\n",
       "      <td>0.310654</td>\n",
       "      <td>0.559534</td>\n",
       "    </tr>\n",
       "    <tr>\n",
       "      <th>middle eastern</th>\n",
       "      <td>0.076923</td>\n",
       "      <td>0.153846</td>\n",
       "      <td>0.769231</td>\n",
       "    </tr>\n",
       "    <tr>\n",
       "      <th>native_american</th>\n",
       "      <td>0.059406</td>\n",
       "      <td>0.257426</td>\n",
       "      <td>0.683168</td>\n",
       "    </tr>\n",
       "    <tr>\n",
       "      <th>unknown_race</th>\n",
       "      <td>0.059313</td>\n",
       "      <td>0.537981</td>\n",
       "      <td>0.402706</td>\n",
       "    </tr>\n",
       "    <tr>\n",
       "      <th>white</th>\n",
       "      <td>0.095223</td>\n",
       "      <td>0.346409</td>\n",
       "      <td>0.558368</td>\n",
       "    </tr>\n",
       "  </tbody>\n",
       "</table>\n",
       "</div>"
      ],
      "text/plain": [
       "alleged_threat_lvl      ambiguous_threat  no_threat    threat\n",
       "race                                                         \n",
       "asian/pacific islander          0.087302   0.325397  0.587302\n",
       "black                           0.128396   0.383591  0.488013\n",
       "hispanic                        0.129812   0.310654  0.559534\n",
       "middle eastern                  0.076923   0.153846  0.769231\n",
       "native_american                 0.059406   0.257426  0.683168\n",
       "unknown_race                    0.059313   0.537981  0.402706\n",
       "white                           0.095223   0.346409  0.558368"
      ]
     },
     "execution_count": 16,
     "metadata": {},
     "output_type": "execute_result"
    }
   ],
   "source": [
    "#visualize race vs alleged threat level\n",
    "ax = pd.crosstab(train.race, train.alleged_threat_lvl, normalize ='index').plot.barh(figsize=(8, 6), cmap=plt.cm.get_cmap('Blues'), ec=\"black\")\n",
    "\n",
    "#customize legend\n",
    "legend_labels, _= ax.get_legend_handles_labels()\n",
    "ax.legend(legend_labels, ['Ambiguous', 'No threat', 'Threat'], \n",
    "          bbox_to_anchor=(1,1), \n",
    "          title='Threat Level')\n",
    "\n",
    "#customize chart\n",
    "plt.title(\"Is Race a Factor in Threat Level?\", fontsize = 15)\n",
    "plt.ylabel(\"Race\", fontsize = 12)\n",
    "plt.xlabel('Percentage', fontsize = 12)\n",
    "ax.tick_params(labelsize=10)\n",
    "plt.xlim([0.0, 1.0])\n",
    "plt.show()\n",
    "\n",
    "#get percentages df\n",
    "percentages = pd.crosstab(train.race, train.alleged_threat_lvl, normalize = 'index')\n",
    "percentages"
   ]
  },
  {
   "cell_type": "markdown",
   "metadata": {
    "cell_id": "00028-212ff5e5-35de-43a4-a10c-7ec0e7a43f31",
    "deepnote_cell_type": "markdown",
    "tags": []
   },
   "source": [
    "### Takeaways\n",
    "- The highest occurrence of non-attacks are seen in Native Americans. Second highest is Hispanics.\n",
    "- The highest occurrence of attacks are seen in White races. Second highest appears to be Asians/Pacific Islanders. \n",
    "- Black races are almost equally likely to result in attack/non-attack threat levels.\n",
    "- There is a lot of unknown races in the data. Why?"
   ]
  },
  {
   "cell_type": "markdown",
   "metadata": {
    "cell_id": "00035-c770ee0c-d4d0-42a6-b88b-76ab84f70ee4",
    "deepnote_cell_type": "markdown"
   },
   "source": [
    "\n",
    "___\n",
    "\n",
    "## • Hypothesis Testing"
   ]
  },
  {
   "cell_type": "code",
   "execution_count": 17,
   "metadata": {
    "cell_id": "00027-15daf8a6-c450-4035-b2ac-d902d263f719",
    "deepnote_cell_type": "code",
    "deepnote_to_be_reexecuted": false,
    "execution_millis": 4,
    "execution_start": 1622146117956,
    "source_hash": "2c9af269",
    "tags": []
   },
   "outputs": [],
   "source": [
    "threat_dummies = pd.get_dummies(df.alleged_threat_lvl, drop_first=False, prefix='is')"
   ]
  },
  {
   "cell_type": "code",
   "execution_count": 18,
   "metadata": {
    "cell_id": "00028-3951b291-80e0-43b4-a8a1-c0f9800a9c6e",
    "deepnote_cell_type": "code",
    "deepnote_to_be_reexecuted": false,
    "execution_millis": 4,
    "execution_start": 1622146117968,
    "source_hash": "f81407ac",
    "tags": []
   },
   "outputs": [],
   "source": [
    "df = pd.concat([df, threat_dummies], axis=1)"
   ]
  },
  {
   "cell_type": "code",
   "execution_count": 19,
   "metadata": {
    "cell_id": "00029-4976fb07-77c7-4459-b4fe-edc02d381bfd",
    "deepnote_cell_type": "code",
    "deepnote_to_be_reexecuted": false,
    "execution_millis": 41,
    "execution_start": 1622146117985,
    "source_hash": "85c0491e",
    "tags": []
   },
   "outputs": [],
   "source": [
    "train, validate, test = split(df, stratify_by=\"alleged_threat_lvl\")"
   ]
  },
  {
   "cell_type": "code",
   "execution_count": 20,
   "metadata": {
    "cell_id": "00036-7080d93b-e9a9-4784-a50e-7be00eb4f942",
    "deepnote_cell_type": "code",
    "deepnote_to_be_reexecuted": false,
    "execution_millis": 7,
    "execution_start": 1622146118071,
    "source_hash": "d91b8556"
   },
   "outputs": [
    {
     "name": "stdout",
     "output_type": "stream",
     "text": [
      "18.17457349129139 3.0751893776102073e-72\n",
      "We reject the null hypothesis.\n",
      "We can move forward with alternative hypothesis: Attacker status for males & total population are different.\n"
     ]
    }
   ],
   "source": [
    "#t-test for gender vs threat level\n",
    "female = train[train.gender == 'female']\n",
    "male = train[train.gender == 'male']\n",
    "transg = train[train.gender == 'transgender']\n",
    "not_male = train[train.gender != 'male']\n",
    "\n",
    "male_att = male.is_threat\n",
    "non_male_att = not_male.is_threat\n",
    "\n",
    "null_hypothesis = \"There is not a difference between male attackers and the remaining population.\"\n",
    "alternative_hypothesis = \"Attacker status for males & total population are different.\"\n",
    "confidence_level = .95\n",
    "a = 1 - confidence_level\n",
    "\n",
    "t, p = stats.ttest_ind(male_att, non_male_att)\n",
    "print(t, p)\n",
    "\n",
    "if p < a:\n",
    "    print(\"We reject the null hypothesis.\")\n",
    "    print(f\"We can move forward with alternative hypothesis: {alternative_hypothesis}\")\n",
    "else:\n",
    "    print(\"We fail to reject the null hypothesis\")\n",
    "    print(f\"Not enough evidence to support the claim: {null_hypothesis}\")"
   ]
  },
  {
   "cell_type": "code",
   "execution_count": 21,
   "metadata": {
    "cell_id": "00038-349cbdc0-8920-441b-810a-016c8d7647cb",
    "deepnote_cell_type": "code",
    "deepnote_to_be_reexecuted": false,
    "execution_millis": 7,
    "execution_start": 1622146118072,
    "source_hash": "b256267b",
    "tags": []
   },
   "outputs": [
    {
     "name": "stdout",
     "output_type": "stream",
     "text": [
      "Observed\n",
      "\n",
      "[[  11   41   74]\n",
      " [ 241  720  916]\n",
      " [ 145  347  625]\n",
      " [   1    2   10]\n",
      " [   6   26   69]\n",
      " [  57  517  387]\n",
      " [ 301 1095 1765]]\n",
      "---\n",
      "Expected\n",
      "\n",
      "[[1.30522023e+01 4.70701468e+01 6.58776509e+01]\n",
      " [1.94436378e+02 7.01195759e+02 9.81367863e+02]\n",
      " [1.15708809e+02 4.17280587e+02 5.84010604e+02]\n",
      " [1.34665579e+00 4.85644372e+00 6.79690049e+00]\n",
      " [1.04624796e+01 3.77308320e+01 5.28066884e+01]\n",
      " [9.95489396e+01 3.59003263e+02 5.02447798e+02]\n",
      " [3.27444535e+02 1.18086297e+03 1.65269250e+03]]\n",
      "---\n",
      "\n",
      "chi^2 = 184.2978\n",
      "p     = 0.0000\n",
      "\n",
      "Because the p-value: 0.0 is less than alpha: 0.05, we can reject the null hypothesis\n"
     ]
    }
   ],
   "source": [
    "#chi2 test for race vs alleged threat level\n",
    "exp.chi2_matts(train, 'race', 'alleged_threat_lvl', alpha=0.05)"
   ]
  },
  {
   "cell_type": "markdown",
   "metadata": {
    "cell_id": "00032-944289fb-78e3-4860-895d-3b24aee78937",
    "deepnote_cell_type": "markdown",
    "tags": []
   },
   "source": [
    "# Split up race for further testing"
   ]
  },
  {
   "cell_type": "markdown",
   "metadata": {
    "cell_id": "00040-2fd70a3d-88f3-4782-8f34-2d38aad203cf",
    "deepnote_cell_type": "markdown"
   },
   "source": [
    "### Takeaways\n",
    "- All four statistical tests rejected the null hypothesis.\n",
    "    - T-test demonstrates there is a difference between male attackers and the remaining population.\n",
    "    - 1st Chi^2 test demonstrates that mental status is dependent on alleged threat level.\n",
    "    - 2nd Chi^2 test demonstrates that race is dependent on alleged threat level.\n",
    "    - 3rd Chi^2 test demonstrates that bodycam is dependent on alleged threat level."
   ]
  },
  {
   "cell_type": "markdown",
   "metadata": {
    "cell_id": "00041-b1fe0ce8-4b9b-4c7c-8dd7-810aa20c2134",
    "deepnote_cell_type": "markdown"
   },
   "source": [
    "\n",
    "___\n",
    "# Modeling"
   ]
  },
  {
   "cell_type": "code",
   "execution_count": 22,
   "metadata": {
    "cell_id": "00042-a42667cc-bac5-4e1e-a555-b1072736a24f",
    "deepnote_cell_type": "code",
    "deepnote_to_be_reexecuted": false,
    "execution_millis": 0,
    "execution_start": 1622146118101,
    "source_hash": "9a2eb543"
   },
   "outputs": [],
   "source": [
    "#set up X inputs and y target variable for each split\n",
    "X_train = train.drop(columns=['alleged_threat_lvl'])\n",
    "y_train = train.alleged_threat_lvl\n",
    "\n",
    "X_validate = validate.drop(columns=['alleged_threat_lvl'])\n",
    "y_validate = validate.alleged_threat_lvl\n",
    "\n",
    "X_test = test.drop(columns=['alleged_threat_lvl'])\n",
    "y_test = test.alleged_threat_lvl"
   ]
  },
  {
   "cell_type": "code",
   "execution_count": 23,
   "metadata": {
    "cell_id": "00036-8e7c1d36-ff6f-44e1-b8d5-084a648ebfe0",
    "deepnote_cell_type": "code",
    "deepnote_to_be_reexecuted": false,
    "execution_millis": 12,
    "execution_start": 1622146118102,
    "source_hash": "25d43fa0",
    "tags": []
   },
   "outputs": [
    {
     "data": {
      "text/plain": [
       "Index(['unique_id', 'age', 'gender', 'race',\n",
       "       'date_of_injury_resulting_in_death_month_day_year',\n",
       "       'location_of_death_zip_code', 'agency_or_agencies_involved',\n",
       "       'highest_level_of_force', 'armed_unarmed', 'alleged_weapon',\n",
       "       'alleged_threat_lvl', 'fleeing_not_fleeing', 'brief_description',\n",
       "       'intended_use_of_force_developing', 'fleeing', 'age_bins',\n",
       "       'is_asian_pacific islander', 'is_black', 'is_hispanic',\n",
       "       'is_middle eastern', 'is_native_american', 'is_unknown_race',\n",
       "       'is_white', 'is_unarmed', 'had_blunt object', 'had_edged weapon',\n",
       "       'had_firearm', 'had_no_weapon', 'had_other_weapon', 'under 12', '12-17',\n",
       "       '18-24', '25-34', '35-44', '45-54', '55-64', '65+',\n",
       "       'is_ambiguous_threat', 'is_no_threat', 'is_threat'],\n",
       "      dtype='object')"
      ]
     },
     "execution_count": 23,
     "metadata": {},
     "output_type": "execute_result"
    }
   ],
   "source": [
    "df.columns"
   ]
  },
  {
   "cell_type": "code",
   "execution_count": 24,
   "metadata": {
    "cell_id": "00043-808d9d55-ba31-48b0-ab95-3a4ab5c4703f",
    "deepnote_cell_type": "code",
    "deepnote_to_be_reexecuted": false,
    "execution_millis": 5,
    "execution_start": 1622146118103,
    "source_hash": "5c3dd2ec"
   },
   "outputs": [],
   "source": [
    "# dropping columns that are not numeric datatypes\n",
    "dropcols = ['unique_id', 'gender', 'race',\\\n",
    "       'date_of_injury_resulting_in_death_month_day_year',\\\n",
    "       'location_of_death_zip_code', 'agency_or_agencies_involved',\\\n",
    "       'highest_level_of_force', 'armed_unarmed', 'alleged_weapon',\\\n",
    "       'alleged_threat_lvl', 'fleeing_not_fleeing', 'brief_description',\\\n",
    "       'intended_use_of_force_developing', 'age_bins', 'is_ambiguous_threat', 'is_no_threat', 'is_threat']\n",
    "\n",
    "X_train = train.drop(columns=dropcols)\n",
    "X_validate = validate.drop(columns=dropcols)\n",
    "X_test = test.drop(columns=dropcols)"
   ]
  },
  {
   "cell_type": "markdown",
   "metadata": {
    "cell_id": "00044-adcf75d2-b461-4609-9d1d-87f00edd5363",
    "deepnote_cell_type": "markdown"
   },
   "source": [
    "\n",
    "___\n",
    "## • Feature Importance"
   ]
  },
  {
   "cell_type": "markdown",
   "metadata": {
    "cell_id": "00045-62e15328-1fb3-4200-bad7-4ef8d826f297",
    "deepnote_cell_type": "markdown"
   },
   "source": [
    "#### Select K Best\n",
    "- Uses statistical tests to determine each feature's usefulness in predicting the target variable. \n",
    "- Ranks the features and then select the K best features."
   ]
  },
  {
   "cell_type": "code",
   "execution_count": 25,
   "metadata": {
    "cell_id": "00046-27dc45fb-8588-4a6d-90b2-1d7030d16da5",
    "deepnote_cell_type": "code",
    "deepnote_to_be_reexecuted": false,
    "execution_millis": 15,
    "execution_start": 1622146118167,
    "source_hash": "dd7ebbdf"
   },
   "outputs": [
    {
     "data": {
      "text/plain": [
       "['age',\n",
       " 'fleeing',\n",
       " 'is_hispanic',\n",
       " 'is_unknown_race',\n",
       " 'is_unarmed',\n",
       " 'had_blunt object',\n",
       " 'had_edged weapon',\n",
       " 'had_firearm',\n",
       " 'had_no_weapon',\n",
       " 'had_other_weapon',\n",
       " 'under 12',\n",
       " '12-17',\n",
       " '18-24',\n",
       " '35-44',\n",
       " '45-54']"
      ]
     },
     "execution_count": 25,
     "metadata": {},
     "output_type": "execute_result"
    }
   ],
   "source": [
    "f_features = select_kbest(X_train, y_train, 15)\n",
    "f_features"
   ]
  },
  {
   "cell_type": "markdown",
   "metadata": {
    "cell_id": "00047-25f9c171-34eb-49fb-be11-a205a0daa849",
    "deepnote_cell_type": "markdown"
   },
   "source": [
    "#### Recursive Feature Elimination (RFE)\n",
    "- Recursively removes attributes to meet the number of required features and then builds a model on those attributes that remain to see if you can you match or improve performance with a smaller subset."
   ]
  },
  {
   "cell_type": "code",
   "execution_count": 26,
   "metadata": {
    "cell_id": "00048-3f015c4c-5584-46e0-a2a2-b9c04e5166e0",
    "deepnote_cell_type": "code",
    "deepnote_to_be_reexecuted": false,
    "execution_millis": 11823,
    "execution_start": 1622146118212,
    "source_hash": "509f8fd5"
   },
   "outputs": [
    {
     "data": {
      "text/plain": [
       "['fleeing',\n",
       " 'is_middle eastern',\n",
       " 'is_native_american',\n",
       " 'is_unknown_race',\n",
       " 'is_unarmed',\n",
       " 'had_blunt object',\n",
       " 'had_edged weapon',\n",
       " 'had_firearm',\n",
       " 'had_no_weapon',\n",
       " 'had_other_weapon',\n",
       " 'under 12',\n",
       " '18-24',\n",
       " '25-34',\n",
       " '35-44',\n",
       " '45-54']"
      ]
     },
     "execution_count": 26,
     "metadata": {},
     "output_type": "execute_result"
    }
   ],
   "source": [
    "rfe_features = rfe(X_train, y_train, 15)\n",
    "rfe_features"
   ]
  },
  {
   "cell_type": "code",
   "execution_count": 27,
   "metadata": {
    "cell_id": "00049-43793709-55e6-4b4f-a8af-a92b98812609",
    "deepnote_cell_type": "code",
    "deepnote_to_be_reexecuted": false,
    "execution_millis": 19,
    "execution_start": 1622146130100,
    "source_hash": "31ee34a3"
   },
   "outputs": [
    {
     "name": "stdout",
     "output_type": "stream",
     "text": [
      "18\n"
     ]
    },
    {
     "data": {
      "text/plain": [
       "['fleeing',\n",
       " 'had_other_weapon',\n",
       " 'is_middle eastern',\n",
       " '12-17',\n",
       " 'had_no_weapon',\n",
       " 'is_native_american',\n",
       " '25-34',\n",
       " '18-24',\n",
       " 'under 12',\n",
       " 'had_firearm',\n",
       " 'is_hispanic',\n",
       " 'is_unknown_race',\n",
       " 'had_blunt object',\n",
       " '35-44',\n",
       " 'is_unarmed',\n",
       " '45-54',\n",
       " 'age',\n",
       " 'had_edged weapon']"
      ]
     },
     "execution_count": 27,
     "metadata": {},
     "output_type": "execute_result"
    }
   ],
   "source": [
    "combo_feats = list(set(f_features + rfe_features))\n",
    "print(len(combo_feats))\n",
    "combo_feats"
   ]
  },
  {
   "cell_type": "code",
   "execution_count": 33,
   "metadata": {
    "cell_id": "00050-2965fe11-563b-4f88-9377-01dfabe32421",
    "deepnote_cell_type": "code",
    "deepnote_to_be_reexecuted": false,
    "execution_millis": 22,
    "execution_start": 1622146199194,
    "source_hash": "17358204"
   },
   "outputs": [
    {
     "name": "stdout",
     "output_type": "stream",
     "text": [
      "11\n"
     ]
    }
   ],
   "source": [
    "#specify combined features that reduces multicollinearity\n",
    "combo_feats = ['fleeing',\n",
    "               'had_other_weapon',\n",
    "               'is_middle eastern',\n",
    "               '12-17',\n",
    "               'had_no_weapon',\n",
    "               'is_native_american',\n",
    "               '25-34',\n",
    "               '18-24',\n",
    "               'under 12',\n",
    "               'had_firearm',\n",
    "               'is_hispanic']\n",
    " \n",
    "print(len(combo_feats))"
   ]
  },
  {
   "cell_type": "markdown",
   "metadata": {
    "cell_id": "00051-bfe667b0-20a7-4073-9686-821cf2c3afe3",
    "deepnote_cell_type": "markdown"
   },
   "source": [
    "\n",
    "___\n",
    "## • Identify Baseline"
   ]
  },
  {
   "cell_type": "code",
   "execution_count": 34,
   "metadata": {
    "cell_id": "00052-5208a76c-9fd4-4e7a-bb01-d65ac3cdaf9c",
    "deepnote_cell_type": "code",
    "deepnote_to_be_reexecuted": false,
    "execution_millis": 35,
    "execution_start": 1622146200064,
    "source_hash": "276ef1c0"
   },
   "outputs": [
    {
     "data": {
      "text/plain": [
       "threat              3846\n",
       "no_threat           2748\n",
       "ambiguous_threat     762\n",
       "Name: alleged_threat_lvl, dtype: int64"
      ]
     },
     "execution_count": 34,
     "metadata": {},
     "output_type": "execute_result"
    }
   ],
   "source": [
    "#baseline prediction: the most prevalent class in training dataset(the mode)\n",
    "train.alleged_threat_lvl.value_counts()"
   ]
  },
  {
   "cell_type": "code",
   "execution_count": 35,
   "metadata": {
    "cell_id": "00053-6d1dbeeb-c063-4870-a3d8-3896199aaf72",
    "deepnote_cell_type": "code",
    "deepnote_to_be_reexecuted": false,
    "execution_millis": 32,
    "execution_start": 1622146200626,
    "source_hash": "f0069d41"
   },
   "outputs": [
    {
     "name": "stdout",
     "output_type": "stream",
     "text": [
      "baseline accuracy:  0.5228\n"
     ]
    }
   ],
   "source": [
    "#baseline model would be to predict 0 since it is most prevalant\n",
    "#baseline accuracy:\n",
    "baseline_accuracy = (train.alleged_threat_lvl == 'threat').mean()\n",
    "\n",
    "print(f'baseline accuracy: {baseline_accuracy: .4}')"
   ]
  },
  {
   "cell_type": "markdown",
   "metadata": {
    "cell_id": "00054-93cbaa5c-4496-4c75-b38b-683dcdfd6853",
    "deepnote_cell_type": "markdown"
   },
   "source": [
    "\n",
    "___\n",
    "## • Model on Train"
   ]
  },
  {
   "cell_type": "markdown",
   "metadata": {
    "cell_id": "00055-5d6d638c-c265-409e-b05e-62ca5a7073fc",
    "deepnote_cell_type": "markdown"
   },
   "source": [
    "### Decision Tree"
   ]
  },
  {
   "cell_type": "code",
   "execution_count": 36,
   "metadata": {
    "cell_id": "00056-1361dbf2-ad78-483b-b21c-091abff792cf",
    "deepnote_cell_type": "code",
    "deepnote_to_be_reexecuted": false,
    "execution_millis": 87,
    "execution_start": 1622146204882,
    "source_hash": "7a2ba196",
    "tags": []
   },
   "outputs": [
    {
     "name": "stdout",
     "output_type": "stream",
     "text": [
      "Baseline is 0.5228\n",
      "----------------\n",
      "Accuracy of Decision Tree classifier on combo_feats (max_depth = 3): 0.7187\n"
     ]
    }
   ],
   "source": [
    "#create Decision Tree model (specifying max_depth argument and combo_feats)\n",
    "dt = DecisionTreeClassifier(max_depth=3, random_state=123)\n",
    "\n",
    "#fit model on combo_feats\n",
    "dt.fit(X_train[combo_feats], y_train)\n",
    "\n",
    "#get predictions from model\n",
    "y_pred = dt.predict(X_train[combo_feats])\n",
    "\n",
    "#compute accuracy\n",
    "dt_train_acc = round(dt.score(X_train[combo_feats], y_train), 4)\n",
    "\n",
    "#compare to baseline\n",
    "print(\"Baseline is\", round(baseline_accuracy, 4))\n",
    "print(\"----------------\")\n",
    "print('Accuracy of Decision Tree classifier on combo_feats (max_depth = 3): {:.4f}'\n",
    "     .format(dt.score(X_train[combo_feats], y_train)))"
   ]
  },
  {
   "cell_type": "markdown",
   "metadata": {
    "cell_id": "00057-fe1c5f37-84a0-4707-b70d-0ab8c5eb255e",
    "deepnote_cell_type": "markdown",
    "tags": []
   },
   "source": [
    "### Random Forest"
   ]
  },
  {
   "cell_type": "code",
   "execution_count": 37,
   "metadata": {
    "cell_id": "00058-20527363-f247-4980-b621-314d72a48eee",
    "deepnote_cell_type": "code",
    "deepnote_to_be_reexecuted": false,
    "execution_millis": 564,
    "execution_start": 1622146212945,
    "source_hash": "ea36678",
    "tags": []
   },
   "outputs": [
    {
     "name": "stdout",
     "output_type": "stream",
     "text": [
      "Baseline is 0.5228\n",
      "----------------\n",
      "Accuracy of Random Forest classifier on combo_feats (max_depth = 5, min_samples_leaf = 3): 0.7191\n"
     ]
    }
   ],
   "source": [
    "#create Random Forest model (specifying max_depth/min_samples_leaf arguments and combo_feats)\n",
    "rf = RandomForestClassifier(max_depth=5, min_samples_leaf=3, random_state=123)\n",
    "\n",
    "#fit model on combo_feats\n",
    "rf.fit(X_train[combo_feats], y_train)\n",
    "\n",
    "#get predictions from model\n",
    "y_pred = rf.predict(X_train[combo_feats])\n",
    "\n",
    "#compute accuracy\n",
    "rf_train_acc = round(rf.score(X_train[combo_feats], y_train), 4)\n",
    "\n",
    "#compare to baseline\n",
    "print(\"Baseline is\", round(baseline_accuracy, 4))\n",
    "print(\"----------------\")\n",
    "print('Accuracy of Random Forest classifier on combo_feats (max_depth = 5, min_samples_leaf = 3): {:.4f}'\n",
    "     .format(rf.score(X_train[combo_feats], y_train)))"
   ]
  },
  {
   "cell_type": "markdown",
   "metadata": {
    "cell_id": "00059-5968a214-24fb-48f0-a472-eed0c1016368",
    "deepnote_cell_type": "markdown",
    "tags": []
   },
   "source": [
    "### K-Nearest Neighbor (KNN)"
   ]
  },
  {
   "cell_type": "code",
   "execution_count": 38,
   "metadata": {
    "cell_id": "00060-69eadff0-42e6-4412-8618-dbd487849c25",
    "deepnote_cell_type": "code",
    "deepnote_to_be_reexecuted": false,
    "execution_millis": 2785,
    "execution_start": 1622146215624,
    "source_hash": "1a11e850",
    "tags": []
   },
   "outputs": [
    {
     "name": "stdout",
     "output_type": "stream",
     "text": [
      "Baseline is 0.52\n",
      "----------------\n",
      "Accuracy of KNN classifier on combo_feats (n_neighbors = 20): 0.712887\n"
     ]
    }
   ],
   "source": [
    "#create KNN model (specifying n_neighbors argument and combo_feats)\n",
    "knn = KNeighborsClassifier(n_neighbors=20)\n",
    "\n",
    "#fit model on combo_feats\n",
    "knn.fit(X_train[combo_feats], y_train)\n",
    "\n",
    "#get predictions from model\n",
    "y_pred = knn.predict(X_train[combo_feats])\n",
    "\n",
    "#compute accuracy\n",
    "knn_train_acc = round(knn.score(X_train[combo_feats], y_train), 4)\n",
    "\n",
    "#compare to baseline\n",
    "print(\"Baseline is\", round(baseline_accuracy, 2))\n",
    "print(\"----------------\")\n",
    "print('Accuracy of KNN classifier on combo_feats (n_neighbors = 20): {:4f}'\n",
    "     .format(knn.score(X_train[combo_feats], y_train)))"
   ]
  },
  {
   "cell_type": "markdown",
   "metadata": {
    "cell_id": "00061-7b58bed1-b7e3-44d2-a4ef-53ce1ddeca69",
    "deepnote_cell_type": "markdown",
    "tags": []
   },
   "source": [
    "### Logistic Regression"
   ]
  },
  {
   "cell_type": "code",
   "execution_count": 39,
   "metadata": {
    "cell_id": "00062-265c14a5-3a6c-4864-a1c0-530b7ef4bbb8",
    "deepnote_cell_type": "code",
    "deepnote_to_be_reexecuted": false,
    "execution_millis": 313,
    "execution_start": 1622146219940,
    "source_hash": "96cd3704",
    "tags": []
   },
   "outputs": [
    {
     "name": "stdout",
     "output_type": "stream",
     "text": [
      "Baseline is 0.5228\n",
      "----------------\n",
      "Accuracy of Logistic Regression classifier on combo_feats (default parameters): 0.7178\n"
     ]
    }
   ],
   "source": [
    "#create Logistic Regression model (default parameters, specifying combo_feats)\n",
    "logit = LogisticRegression(random_state=123)\n",
    "\n",
    "#fit model on combo_feats\n",
    "logit.fit(X_train[combo_feats], y_train)\n",
    "\n",
    "#get predictions from model\n",
    "y_pred = logit.predict(X_train[combo_feats])\n",
    "\n",
    "#compute accuracy\n",
    "logit_train_acc = round(logit.score(X_train[combo_feats], y_train), 4)\n",
    "\n",
    "#compare to baseline\n",
    "print(\"Baseline is\", round(baseline_accuracy, 4))\n",
    "print(\"----------------\")\n",
    "print('Accuracy of Logistic Regression classifier on combo_feats (default parameters): {:.4f}'\n",
    "     .format(logit.score(X_train[combo_feats], y_train)))"
   ]
  },
  {
   "cell_type": "markdown",
   "metadata": {
    "cell_id": "00063-f95e20df-18da-4bc6-a849-0fff95d48e47",
    "deepnote_cell_type": "markdown",
    "tags": []
   },
   "source": [
    "### Takeways:\n",
    "- **Decision Tree** model (dt) specifying max_depth argument of 3 and using combo_feats:\n",
    "    - Score of 71% accuracy\n",
    "    \n",
    "    \n",
    "    \n",
    "- **Random Forest** model (rf) specifying max_depth argument of 5, min_samples_leaf argument of 3 and using combo_feats:\n",
    "    - Score of 72% accuracy\n",
    "    \n",
    "    \n",
    "    \n",
    "- **K-Nearest Neighbor** model (knn) specifying n_neighbors argument of 20 and using combo_feats:\n",
    "    - Score of 70% accuracy\n",
    "    \n",
    "    \n",
    "    \n",
    "- **Logistic Regression** model (logit) using default parameters and combo_feats:\n",
    "    - Score of 70% accuracy\n",
    "\n",
    "Next, compare scores to validate (out-of-sample data)."
   ]
  },
  {
   "cell_type": "markdown",
   "metadata": {
    "cell_id": "00064-4737fbc6-fc39-49f8-badd-adafce801428",
    "deepnote_cell_type": "markdown"
   },
   "source": [
    "\n",
    "___\n",
    "## • Model on Validate"
   ]
  },
  {
   "cell_type": "code",
   "execution_count": 40,
   "metadata": {
    "cell_id": "00065-6c01fe9b-96fd-4762-9c38-d7df2e8744d5",
    "deepnote_cell_type": "code",
    "deepnote_to_be_reexecuted": false,
    "execution_millis": 130,
    "execution_start": 1622146223260,
    "source_hash": "37a4cb55",
    "tags": []
   },
   "outputs": [
    {
     "name": "stdout",
     "output_type": "stream",
     "text": [
      "Accuracy of Decision Tree classifier on train set: 0.7187\n",
      "--------------------------------------------------------------\n",
      "Decision Tree classifier on validate set:\n",
      "                  precision    recall  f1-score   support\n",
      "\n",
      "ambiguous_threat       0.00      0.00      0.00       327\n",
      "       no_threat       0.68      0.70      0.69      1177\n",
      "          threat       0.74      0.88      0.80      1649\n",
      "\n",
      "        accuracy                           0.72      3153\n",
      "       macro avg       0.47      0.52      0.50      3153\n",
      "    weighted avg       0.64      0.72      0.68      3153\n",
      "\n"
     ]
    }
   ],
   "source": [
    "#dt's metrics on validate\n",
    "\n",
    "#evaluate on validate sample\n",
    "y_pred = dt.predict(X_validate[combo_feats])\n",
    "\n",
    "#compute accuracy\n",
    "dt_val_acc = round(dt.score(X_validate[combo_feats], y_validate), 4)\n",
    "\n",
    "#compare train to validate\n",
    "print('Accuracy of Decision Tree classifier on train set: {:.4f}'\n",
    "     .format(dt.score(X_train[combo_feats], y_train)))\n",
    "print(\"--------------------------------------------------------------\")\n",
    "print(\"Decision Tree classifier on validate set:\")\n",
    "print(classification_report(y_validate, y_pred))"
   ]
  },
  {
   "cell_type": "code",
   "execution_count": 41,
   "metadata": {
    "cell_id": "00066-feb61768-fa1e-4a9d-944d-e97a62321b0a",
    "deepnote_cell_type": "code",
    "deepnote_to_be_reexecuted": false,
    "execution_millis": 292,
    "execution_start": 1622146225993,
    "source_hash": "88ecc93c",
    "tags": []
   },
   "outputs": [
    {
     "name": "stdout",
     "output_type": "stream",
     "text": [
      "Accuracy of Random Forest classifier on train set: 0.7191\n",
      "--------------------------------------------------------------\n",
      "Random Forest classifier on validate set:\n",
      "                  precision    recall  f1-score   support\n",
      "\n",
      "ambiguous_threat       0.00      0.00      0.00       327\n",
      "       no_threat       0.68      0.70      0.69      1177\n",
      "          threat       0.74      0.88      0.80      1649\n",
      "\n",
      "        accuracy                           0.72      3153\n",
      "       macro avg       0.47      0.52      0.50      3153\n",
      "    weighted avg       0.64      0.72      0.68      3153\n",
      "\n"
     ]
    }
   ],
   "source": [
    "#rf's metrics on validate\n",
    "\n",
    "#evaluate on validate sample\n",
    "y_pred = rf.predict(X_validate[combo_feats])\n",
    "\n",
    "#compute accuracy\n",
    "rf_val_acc = round(rf.score(X_validate[combo_feats], y_validate), 4)\n",
    "\n",
    "#compare train to validate\n",
    "print('Accuracy of Random Forest classifier on train set: {:.4f}'\n",
    "     .format(rf.score(X_train[combo_feats], y_train)))\n",
    "print(\"--------------------------------------------------------------\")\n",
    "print(\"Random Forest classifier on validate set:\")\n",
    "print(classification_report(y_validate, y_pred))"
   ]
  },
  {
   "cell_type": "code",
   "execution_count": 42,
   "metadata": {
    "cell_id": "00067-5fe2000e-33c7-4347-8ccf-c81baa6e7f59",
    "deepnote_cell_type": "code",
    "deepnote_to_be_reexecuted": false,
    "execution_millis": 1716,
    "execution_start": 1622146229614,
    "source_hash": "60fdbfcd",
    "tags": []
   },
   "outputs": [
    {
     "name": "stdout",
     "output_type": "stream",
     "text": [
      "Accuracy of KNN classifier on train set: 0.7129\n",
      "--------------------------------------------------------------\n",
      "KNN classifier on validate set:\n",
      "                  precision    recall  f1-score   support\n",
      "\n",
      "ambiguous_threat       0.44      0.01      0.02       327\n",
      "       no_threat       0.69      0.63      0.66      1177\n",
      "          threat       0.71      0.89      0.79      1649\n",
      "\n",
      "        accuracy                           0.70      3153\n",
      "       macro avg       0.62      0.51      0.49      3153\n",
      "    weighted avg       0.68      0.70      0.66      3153\n",
      "\n"
     ]
    }
   ],
   "source": [
    "#knn's metrics on validate\n",
    "\n",
    "#evaluate on validate sample\n",
    "y_pred = knn.predict(X_validate[combo_feats])\n",
    "\n",
    "#compute accuracy\n",
    "knn_val_acc = round(knn.score(X_validate[combo_feats], y_validate), 4)\n",
    "\n",
    "#compare train to validate\n",
    "print('Accuracy of KNN classifier on train set: {:.4f}'\n",
    "     .format(knn.score(X_train[combo_feats], y_train)))\n",
    "print(\"--------------------------------------------------------------\")\n",
    "print(\"KNN classifier on validate set:\")\n",
    "print(classification_report(y_validate, y_pred))"
   ]
  },
  {
   "cell_type": "code",
   "execution_count": 43,
   "metadata": {
    "cell_id": "00068-2b84c986-5548-4dfb-a967-7cd3f1c996c6",
    "deepnote_cell_type": "code",
    "deepnote_to_be_reexecuted": false,
    "execution_millis": 134,
    "execution_start": 1622146231716,
    "source_hash": "ae1971ef"
   },
   "outputs": [
    {
     "name": "stdout",
     "output_type": "stream",
     "text": [
      "Accuracy of Logistic Regression classifier on train set: 0.7178\n",
      "--------------------------------------------------------------\n",
      "Logistic Regression classifier on validate set:\n",
      "                  precision    recall  f1-score   support\n",
      "\n",
      "ambiguous_threat       0.00      0.00      0.00       327\n",
      "       no_threat       0.68      0.70      0.69      1177\n",
      "          threat       0.74      0.87      0.80      1649\n",
      "\n",
      "        accuracy                           0.72      3153\n",
      "       macro avg       0.47      0.52      0.50      3153\n",
      "    weighted avg       0.64      0.72      0.68      3153\n",
      "\n"
     ]
    }
   ],
   "source": [
    "#logit's metrics on validate\n",
    "\n",
    "#evaluate on validate sample\n",
    "y_pred = logit.predict(X_validate[combo_feats])\n",
    "\n",
    "#compute accuracy\n",
    "logit_val_acc = round(logit.score(X_validate[combo_feats], y_validate), 4)\n",
    "\n",
    "#compare train to validate\n",
    "print('Accuracy of Logistic Regression classifier on train set: {:.4f}'\n",
    "     .format(logit.score(X_train[combo_feats], y_train)))\n",
    "print(\"--------------------------------------------------------------\")\n",
    "print(\"Logistic Regression classifier on validate set:\")\n",
    "print(classification_report(y_validate, y_pred))"
   ]
  },
  {
   "cell_type": "code",
   "execution_count": 44,
   "metadata": {
    "cell_id": "00069-353e1870-ad01-4ff5-831f-80701afd224e",
    "deepnote_cell_type": "code",
    "deepnote_to_be_reexecuted": false,
    "execution_millis": 52,
    "execution_start": 1622146233590,
    "source_hash": "f5565531"
   },
   "outputs": [
    {
     "data": {
      "application/vnd.deepnote.dataframe.v2+json": {
       "column_count": 4,
       "columns": [
        {
         "dtype": "object",
         "name": "Model",
         "stats": {
          "categories": [
           {
            "count": 1,
            "name": "Decision Tree"
           },
           {
            "count": 1,
            "name": "Random Forest"
           },
           {
            "count": 2,
            "name": "2 others"
           }
          ],
          "nan_count": 0,
          "unique_count": 4
         }
        },
        {
         "dtype": "float64",
         "name": "Baseline",
         "stats": {
          "histogram": [
           {
            "bin_end": 0.12280000000000005,
            "bin_start": 0.022800000000000042,
            "count": 0
           },
           {
            "bin_end": 0.22280000000000005,
            "bin_start": 0.12280000000000005,
            "count": 0
           },
           {
            "bin_end": 0.3228000000000001,
            "bin_start": 0.22280000000000005,
            "count": 0
           },
           {
            "bin_end": 0.42280000000000006,
            "bin_start": 0.3228000000000001,
            "count": 0
           },
           {
            "bin_end": 0.5228,
            "bin_start": 0.42280000000000006,
            "count": 0
           },
           {
            "bin_end": 0.6228000000000001,
            "bin_start": 0.5228,
            "count": 4
           },
           {
            "bin_end": 0.7228000000000001,
            "bin_start": 0.6228000000000001,
            "count": 0
           },
           {
            "bin_end": 0.8228000000000001,
            "bin_start": 0.7228000000000001,
            "count": 0
           },
           {
            "bin_end": 0.9228000000000001,
            "bin_start": 0.8228000000000001,
            "count": 0
           },
           {
            "bin_end": 1.0228000000000002,
            "bin_start": 0.9228000000000001,
            "count": 0
           }
          ],
          "max": "0.5228",
          "min": "0.5228",
          "nan_count": 0,
          "unique_count": 1
         }
        },
        {
         "dtype": "float64",
         "name": "Train Accuracy",
         "stats": {
          "histogram": [
           {
            "bin_end": 0.7135199999999999,
            "bin_start": 0.7129,
            "count": 1
           },
           {
            "bin_end": 0.71414,
            "bin_start": 0.7135199999999999,
            "count": 0
           },
           {
            "bin_end": 0.71476,
            "bin_start": 0.71414,
            "count": 0
           },
           {
            "bin_end": 0.71538,
            "bin_start": 0.71476,
            "count": 0
           },
           {
            "bin_end": 0.716,
            "bin_start": 0.71538,
            "count": 0
           },
           {
            "bin_end": 0.7166199999999999,
            "bin_start": 0.716,
            "count": 0
           },
           {
            "bin_end": 0.71724,
            "bin_start": 0.7166199999999999,
            "count": 0
           },
           {
            "bin_end": 0.7178599999999999,
            "bin_start": 0.71724,
            "count": 1
           },
           {
            "bin_end": 0.71848,
            "bin_start": 0.7178599999999999,
            "count": 0
           },
           {
            "bin_end": 0.7191,
            "bin_start": 0.71848,
            "count": 2
           }
          ],
          "max": "0.7191",
          "min": "0.7129",
          "nan_count": 0,
          "unique_count": 4
         }
        },
        {
         "dtype": "float64",
         "name": "Validate Accuracy",
         "stats": {
          "histogram": [
           {
            "bin_end": 0.7058300000000001,
            "bin_start": 0.7044,
            "count": 1
           },
           {
            "bin_end": 0.70726,
            "bin_start": 0.7058300000000001,
            "count": 0
           },
           {
            "bin_end": 0.70869,
            "bin_start": 0.70726,
            "count": 0
           },
           {
            "bin_end": 0.71012,
            "bin_start": 0.70869,
            "count": 0
           },
           {
            "bin_end": 0.71155,
            "bin_start": 0.71012,
            "count": 0
           },
           {
            "bin_end": 0.7129800000000001,
            "bin_start": 0.71155,
            "count": 0
           },
           {
            "bin_end": 0.71441,
            "bin_start": 0.7129800000000001,
            "count": 0
           },
           {
            "bin_end": 0.71584,
            "bin_start": 0.71441,
            "count": 0
           },
           {
            "bin_end": 0.71727,
            "bin_start": 0.71584,
            "count": 1
           },
           {
            "bin_end": 0.7187,
            "bin_start": 0.71727,
            "count": 2
           }
          ],
          "max": "0.7187",
          "min": "0.7044",
          "nan_count": 0,
          "unique_count": 4
         }
        },
        {
         "dtype": "int64",
         "name": "_deepnote_index_column"
        }
       ],
       "row_count": 4,
       "rows_bottom": null,
       "rows_top": [
        {
         "Baseline": 0.5228,
         "Model": "Decision Tree",
         "Train Accuracy": 0.7187,
         "Validate Accuracy": 0.7187,
         "_deepnote_index_column": 0
        },
        {
         "Baseline": 0.5228,
         "Model": "Random Forest",
         "Train Accuracy": 0.7191,
         "Validate Accuracy": 0.7184,
         "_deepnote_index_column": 1
        },
        {
         "Baseline": 0.5228,
         "Model": "K-Nearest Neighbor",
         "Train Accuracy": 0.7129,
         "Validate Accuracy": 0.7044,
         "_deepnote_index_column": 2
        },
        {
         "Baseline": 0.5228,
         "Model": "Logistic Regression",
         "Train Accuracy": 0.7178,
         "Validate Accuracy": 0.7165,
         "_deepnote_index_column": 3
        }
       ]
      },
      "text/html": [
       "<div>\n",
       "<style scoped>\n",
       "    .dataframe tbody tr th:only-of-type {\n",
       "        vertical-align: middle;\n",
       "    }\n",
       "\n",
       "    .dataframe tbody tr th {\n",
       "        vertical-align: top;\n",
       "    }\n",
       "\n",
       "    .dataframe thead th {\n",
       "        text-align: right;\n",
       "    }\n",
       "</style>\n",
       "<table border=\"1\" class=\"dataframe\">\n",
       "  <thead>\n",
       "    <tr style=\"text-align: right;\">\n",
       "      <th></th>\n",
       "      <th>Model</th>\n",
       "      <th>Baseline</th>\n",
       "      <th>Train Accuracy</th>\n",
       "      <th>Validate Accuracy</th>\n",
       "    </tr>\n",
       "  </thead>\n",
       "  <tbody>\n",
       "    <tr>\n",
       "      <th>0</th>\n",
       "      <td>Decision Tree</td>\n",
       "      <td>0.5228</td>\n",
       "      <td>0.7187</td>\n",
       "      <td>0.7187</td>\n",
       "    </tr>\n",
       "    <tr>\n",
       "      <th>1</th>\n",
       "      <td>Random Forest</td>\n",
       "      <td>0.5228</td>\n",
       "      <td>0.7191</td>\n",
       "      <td>0.7184</td>\n",
       "    </tr>\n",
       "    <tr>\n",
       "      <th>2</th>\n",
       "      <td>K-Nearest Neighbor</td>\n",
       "      <td>0.5228</td>\n",
       "      <td>0.7129</td>\n",
       "      <td>0.7044</td>\n",
       "    </tr>\n",
       "    <tr>\n",
       "      <th>3</th>\n",
       "      <td>Logistic Regression</td>\n",
       "      <td>0.5228</td>\n",
       "      <td>0.7178</td>\n",
       "      <td>0.7165</td>\n",
       "    </tr>\n",
       "  </tbody>\n",
       "</table>\n",
       "</div>"
      ],
      "text/plain": [
       "                 Model  Baseline  Train Accuracy  Validate Accuracy\n",
       "0        Decision Tree    0.5228          0.7187             0.7187\n",
       "1        Random Forest    0.5228          0.7191             0.7184\n",
       "2   K-Nearest Neighbor    0.5228          0.7129             0.7044\n",
       "3  Logistic Regression    0.5228          0.7178             0.7165"
      ]
     },
     "execution_count": 44,
     "metadata": {},
     "output_type": "execute_result"
    }
   ],
   "source": [
    "# Build dataframe to record accuracy (starting with decision tree)\n",
    "metric_df = pd.DataFrame(data=[{\n",
    "    'Model': 'Decision Tree', \n",
    "    'Baseline': round(baseline_accuracy, 4),\n",
    "    'Train Accuracy': round(dt_train_acc, 4),\n",
    "    'Validate Accuracy': round(dt_val_acc, 4)}])\n",
    "\n",
    "# append dataframe to record accuracy on random forest\n",
    "metric_df = metric_df.append({\n",
    "    'Model': 'Random Forest', \n",
    "    'Baseline': round(baseline_accuracy, 4),\n",
    "    'Train Accuracy': round(rf_train_acc, 4),\n",
    "    'Validate Accuracy':round(rf_val_acc, 4)}, ignore_index=True)\n",
    "\n",
    "# append dataframe to record accuracy on knn\n",
    "metric_df = metric_df.append({\n",
    "    'Model': 'K-Nearest Neighbor', \n",
    "    'Baseline': round(baseline_accuracy, 4),\n",
    "    'Train Accuracy': round(knn_train_acc, 4),\n",
    "    'Validate Accuracy':round(knn_val_acc, 4)}, ignore_index=True)\n",
    "\n",
    "# append dataframe to record accuracy on logistic regression\n",
    "metric_df = metric_df.append({\n",
    "    'Model': 'Logistic Regression', \n",
    "    'Baseline': round(baseline_accuracy, 4),\n",
    "    'Train Accuracy': round(logit_train_acc, 4),\n",
    "    'Validate Accuracy':round(logit_val_acc, 4)}, ignore_index=True)\n",
    "\n",
    "\n",
    "metric_df"
   ]
  },
  {
   "cell_type": "code",
   "execution_count": 45,
   "metadata": {
    "cell_id": "00070-d9b4806c-79f0-4d76-b157-248ba8d9a9a6",
    "deepnote_cell_type": "code",
    "deepnote_to_be_reexecuted": false,
    "execution_millis": 32,
    "execution_start": 1622146236799,
    "source_hash": "1670c0b5",
    "tags": []
   },
   "outputs": [
    {
     "data": {
      "application/vnd.deepnote.dataframe.v2+json": {
       "column_count": 4,
       "columns": [
        {
         "dtype": "object",
         "name": "Model",
         "stats": {
          "categories": [
           {
            "count": 1,
            "name": "Decision Tree"
           },
           {
            "count": 1,
            "name": "Random Forest"
           },
           {
            "count": 2,
            "name": "2 others"
           }
          ],
          "nan_count": 0,
          "unique_count": 4
         }
        },
        {
         "dtype": "float64",
         "name": "Baseline",
         "stats": {
          "histogram": [
           {
            "bin_end": 0.12280000000000005,
            "bin_start": 0.022800000000000042,
            "count": 0
           },
           {
            "bin_end": 0.22280000000000005,
            "bin_start": 0.12280000000000005,
            "count": 0
           },
           {
            "bin_end": 0.3228000000000001,
            "bin_start": 0.22280000000000005,
            "count": 0
           },
           {
            "bin_end": 0.42280000000000006,
            "bin_start": 0.3228000000000001,
            "count": 0
           },
           {
            "bin_end": 0.5228,
            "bin_start": 0.42280000000000006,
            "count": 0
           },
           {
            "bin_end": 0.6228000000000001,
            "bin_start": 0.5228,
            "count": 4
           },
           {
            "bin_end": 0.7228000000000001,
            "bin_start": 0.6228000000000001,
            "count": 0
           },
           {
            "bin_end": 0.8228000000000001,
            "bin_start": 0.7228000000000001,
            "count": 0
           },
           {
            "bin_end": 0.9228000000000001,
            "bin_start": 0.8228000000000001,
            "count": 0
           },
           {
            "bin_end": 1.0228000000000002,
            "bin_start": 0.9228000000000001,
            "count": 0
           }
          ],
          "max": "0.5228",
          "min": "0.5228",
          "nan_count": 0,
          "unique_count": 1
         }
        },
        {
         "dtype": "float64",
         "name": "Train Accuracy",
         "stats": {
          "histogram": [
           {
            "bin_end": 0.7135199999999999,
            "bin_start": 0.7129,
            "count": 1
           },
           {
            "bin_end": 0.71414,
            "bin_start": 0.7135199999999999,
            "count": 0
           },
           {
            "bin_end": 0.71476,
            "bin_start": 0.71414,
            "count": 0
           },
           {
            "bin_end": 0.71538,
            "bin_start": 0.71476,
            "count": 0
           },
           {
            "bin_end": 0.716,
            "bin_start": 0.71538,
            "count": 0
           },
           {
            "bin_end": 0.7166199999999999,
            "bin_start": 0.716,
            "count": 0
           },
           {
            "bin_end": 0.71724,
            "bin_start": 0.7166199999999999,
            "count": 0
           },
           {
            "bin_end": 0.7178599999999999,
            "bin_start": 0.71724,
            "count": 1
           },
           {
            "bin_end": 0.71848,
            "bin_start": 0.7178599999999999,
            "count": 0
           },
           {
            "bin_end": 0.7191,
            "bin_start": 0.71848,
            "count": 2
           }
          ],
          "max": "0.7191",
          "min": "0.7129",
          "nan_count": 0,
          "unique_count": 4
         }
        },
        {
         "dtype": "float64",
         "name": "Validate Accuracy",
         "stats": {
          "histogram": [
           {
            "bin_end": 0.7058300000000001,
            "bin_start": 0.7044,
            "count": 1
           },
           {
            "bin_end": 0.70726,
            "bin_start": 0.7058300000000001,
            "count": 0
           },
           {
            "bin_end": 0.70869,
            "bin_start": 0.70726,
            "count": 0
           },
           {
            "bin_end": 0.71012,
            "bin_start": 0.70869,
            "count": 0
           },
           {
            "bin_end": 0.71155,
            "bin_start": 0.71012,
            "count": 0
           },
           {
            "bin_end": 0.7129800000000001,
            "bin_start": 0.71155,
            "count": 0
           },
           {
            "bin_end": 0.71441,
            "bin_start": 0.7129800000000001,
            "count": 0
           },
           {
            "bin_end": 0.71584,
            "bin_start": 0.71441,
            "count": 0
           },
           {
            "bin_end": 0.71727,
            "bin_start": 0.71584,
            "count": 1
           },
           {
            "bin_end": 0.7187,
            "bin_start": 0.71727,
            "count": 2
           }
          ],
          "max": "0.7187",
          "min": "0.7044",
          "nan_count": 0,
          "unique_count": 4
         }
        },
        {
         "dtype": "int64",
         "name": "_deepnote_index_column"
        }
       ],
       "row_count": 4,
       "rows_bottom": null,
       "rows_top": [
        {
         "Baseline": 0.5228,
         "Model": "Decision Tree",
         "Train Accuracy": 0.7187,
         "Validate Accuracy": 0.7187,
         "_deepnote_index_column": 0
        },
        {
         "Baseline": 0.5228,
         "Model": "Random Forest",
         "Train Accuracy": 0.7191,
         "Validate Accuracy": 0.7184,
         "_deepnote_index_column": 1
        },
        {
         "Baseline": 0.5228,
         "Model": "K-Nearest Neighbor",
         "Train Accuracy": 0.7129,
         "Validate Accuracy": 0.7044,
         "_deepnote_index_column": 2
        },
        {
         "Baseline": 0.5228,
         "Model": "Logistic Regression",
         "Train Accuracy": 0.7178,
         "Validate Accuracy": 0.7165,
         "_deepnote_index_column": 3
        }
       ]
      },
      "text/html": [
       "<div>\n",
       "<style scoped>\n",
       "    .dataframe tbody tr th:only-of-type {\n",
       "        vertical-align: middle;\n",
       "    }\n",
       "\n",
       "    .dataframe tbody tr th {\n",
       "        vertical-align: top;\n",
       "    }\n",
       "\n",
       "    .dataframe thead th {\n",
       "        text-align: right;\n",
       "    }\n",
       "</style>\n",
       "<table border=\"1\" class=\"dataframe\">\n",
       "  <thead>\n",
       "    <tr style=\"text-align: right;\">\n",
       "      <th></th>\n",
       "      <th>Model</th>\n",
       "      <th>Baseline</th>\n",
       "      <th>Train Accuracy</th>\n",
       "      <th>Validate Accuracy</th>\n",
       "    </tr>\n",
       "  </thead>\n",
       "  <tbody>\n",
       "    <tr>\n",
       "      <th>0</th>\n",
       "      <td>Decision Tree</td>\n",
       "      <td>0.5228</td>\n",
       "      <td>0.7187</td>\n",
       "      <td>0.7187</td>\n",
       "    </tr>\n",
       "    <tr>\n",
       "      <th>1</th>\n",
       "      <td>Random Forest</td>\n",
       "      <td>0.5228</td>\n",
       "      <td>0.7191</td>\n",
       "      <td>0.7184</td>\n",
       "    </tr>\n",
       "    <tr>\n",
       "      <th>2</th>\n",
       "      <td>K-Nearest Neighbor</td>\n",
       "      <td>0.5228</td>\n",
       "      <td>0.7129</td>\n",
       "      <td>0.7044</td>\n",
       "    </tr>\n",
       "    <tr>\n",
       "      <th>3</th>\n",
       "      <td>Logistic Regression</td>\n",
       "      <td>0.5228</td>\n",
       "      <td>0.7178</td>\n",
       "      <td>0.7165</td>\n",
       "    </tr>\n",
       "  </tbody>\n",
       "</table>\n",
       "</div>"
      ],
      "text/plain": [
       "                 Model  Baseline  Train Accuracy  Validate Accuracy\n",
       "0        Decision Tree    0.5228          0.7187             0.7187\n",
       "1        Random Forest    0.5228          0.7191             0.7184\n",
       "2   K-Nearest Neighbor    0.5228          0.7129             0.7044\n",
       "3  Logistic Regression    0.5228          0.7178             0.7165"
      ]
     },
     "execution_count": 45,
     "metadata": {},
     "output_type": "execute_result"
    }
   ],
   "source": [
    "4# Build dataframe to record accuracy (starting with decision tree)\n",
    "metric_df = pd.DataFrame(data=[{\n",
    "    'Model': 'Decision Tree', \n",
    "    'Baseline': round(baseline_accuracy, 4),\n",
    "    'Train Accuracy': round(dt_train_acc, 4),\n",
    "    'Validate Accuracy': round(dt_val_acc, 4)}])\n",
    "\n",
    "# append dataframe to record accuracy on random forest\n",
    "metric_df = metric_df.append({\n",
    "    'Model': 'Random Forest', \n",
    "    'Baseline': round(baseline_accuracy, 4),\n",
    "    'Train Accuracy': round(rf_train_acc, 4),\n",
    "    'Validate Accuracy':round(rf_val_acc, 4)}, ignore_index=True)\n",
    "\n",
    "# append dataframe to record accuracy on knn\n",
    "metric_df = metric_df.append({\n",
    "    'Model': 'K-Nearest Neighbor', \n",
    "    'Baseline': round(baseline_accuracy, 4),\n",
    "    'Train Accuracy': round(knn_train_acc, 4),\n",
    "    'Validate Accuracy':round(knn_val_acc, 4)}, ignore_index=True)\n",
    "\n",
    "# append dataframe to record accuracy on logistic regression\n",
    "metric_df = metric_df.append({\n",
    "    'Model': 'Logistic Regression', \n",
    "    'Baseline': round(baseline_accuracy, 4),\n",
    "    'Train Accuracy': round(logit_train_acc,4),\n",
    "    'Validate Accuracy':round(logit_val_acc, 4)}, ignore_index=True)\n",
    "\n",
    "\n",
    "metric_df"
   ]
  },
  {
   "cell_type": "markdown",
   "metadata": {
    "cell_id": "00071-06af83c1-a144-4fc6-8e68-8ff8d8ef5338",
    "deepnote_cell_type": "markdown",
    "tags": []
   },
   "source": [
    "### Takeaways\n",
    "\n",
    "**Random Forest** is the best-performing model and will be evaluated on test data.\n"
   ]
  },
  {
   "cell_type": "markdown",
   "metadata": {
    "cell_id": "00072-40810f05-de8c-4ba9-af23-4e1fd35f3ba6",
    "deepnote_cell_type": "markdown"
   },
   "source": [
    "\n",
    "___\n",
    "## • Model on Test"
   ]
  },
  {
   "cell_type": "code",
   "execution_count": 59,
   "metadata": {
    "cell_id": "00073-e0890eaf-365f-4679-b768-5f14e3367c0e",
    "deepnote_cell_type": "code",
    "deepnote_to_be_reexecuted": false,
    "execution_millis": 170,
    "execution_start": 1622146322110,
    "source_hash": "d2cc25c9"
   },
   "outputs": [
    {
     "name": "stdout",
     "output_type": "stream",
     "text": [
      "Random Forest Model:\n",
      "                  precision    recall  f1-score   support\n",
      "\n",
      "ambiguous_threat       0.00      0.00      0.00       273\n",
      "       no_threat       0.68      0.69      0.68       981\n",
      "          threat       0.74      0.87      0.80      1374\n",
      "\n",
      "        accuracy                           0.72      2628\n",
      "       macro avg       0.47      0.52      0.50      2628\n",
      "    weighted avg       0.64      0.72      0.67      2628\n",
      "\n"
     ]
    }
   ],
   "source": [
    "#evaluate on test sample \n",
    "y_pred_test = rf.predict(X_test[combo_feats])\n",
    "\n",
    "#compute accuracy\n",
    "rf_test_acc = round(rf.score(X_test[combo_feats], y_test), 4)\n",
    "\n",
    "print(\"Random Forest Model:\")\n",
    "print(classification_report(y_test, y_pred_test))"
   ]
  },
  {
   "cell_type": "code",
   "execution_count": 60,
   "metadata": {
    "cell_id": "00074-a02e101b-7a5c-45ce-a5d3-48cbc2027908",
    "deepnote_cell_type": "code",
    "deepnote_to_be_reexecuted": false,
    "execution_millis": 4,
    "execution_start": 1622146329762,
    "source_hash": "3cf1bb2c",
    "tags": []
   },
   "outputs": [],
   "source": [
    "# FEEL FREE TO DELETE\n",
    "def get_metrics(mod, X, y):\n",
    "    \"\"\"\n",
    "    get_metrics returns the baseline accuracy score \n",
    "    along with the current model's accuracy score for comparison \n",
    "    along with a table of precision/recall/f1-score/support percentages of the model\n",
    "    \"\"\"\n",
    "    baseline_accuracy = (train.alleged_threat_lvl == 1).mean()\n",
    "    y_pred = mod.predict(X)\n",
    "    accuracy = mod.score(X, y)\n",
    "    conf = confusion_matrix(y, y_pred)\n",
    "    prfs = pd.DataFrame(precision_recall_fscore_support(y, y_pred), index=['precision', 'recall', 'f1-score', 'support'])\n",
    "    \n",
    "    print(f'''\n",
    "    BASELINE accuracy is: {baseline_accuracy:.2%}\n",
    "    The accuracy for our model is: {accuracy:.5%} \n",
    "    ''')\n",
    "    return conf, prfs"
   ]
  },
  {
   "cell_type": "code",
   "execution_count": 61,
   "metadata": {
    "cell_id": "00075-f85864c5-4eba-49ce-a26e-11b5b5334dba",
    "deepnote_cell_type": "code",
    "deepnote_to_be_reexecuted": false,
    "execution_millis": 101,
    "execution_start": 1622146330367,
    "source_hash": "78ec8788",
    "tags": []
   },
   "outputs": [
    {
     "name": "stdout",
     "output_type": "stream",
     "text": [
      "Logistic Regression Model:\n",
      "                  precision    recall  f1-score   support\n",
      "\n",
      "ambiguous_threat       0.00      0.00      0.00       273\n",
      "       no_threat       0.67      0.69      0.68       981\n",
      "          threat       0.74      0.87      0.80      1374\n",
      "\n",
      "        accuracy                           0.71      2628\n",
      "       macro avg       0.47      0.52      0.49      2628\n",
      "    weighted avg       0.64      0.71      0.67      2628\n",
      "\n"
     ]
    }
   ],
   "source": [
    "#evaluate on test sample \n",
    "y_pred_test = logit.predict(X_test[combo_feats])\n",
    "\n",
    "#compute accuracy\n",
    "logit_test_acc = round(logit.score(X_test[combo_feats], y_test), 4)\n",
    "\n",
    "print(\"Logistic Regression Model:\")\n",
    "print(classification_report(y_test, y_pred_test))"
   ]
  },
  {
   "cell_type": "code",
   "execution_count": 62,
   "metadata": {
    "cell_id": "00076-6f10350c-feb1-4317-be4d-85b9582d0373",
    "deepnote_cell_type": "code",
    "deepnote_to_be_reexecuted": false,
    "execution_millis": 49,
    "execution_start": 1622146338805,
    "source_hash": "ac9a94a",
    "tags": []
   },
   "outputs": [
    {
     "name": "stdout",
     "output_type": "stream",
     "text": [
      "\n",
      "    BASELINE accuracy is: 0.00%\n",
      "    The accuracy for our model is: 71.38508% \n",
      "    \n"
     ]
    },
    {
     "data": {
      "text/plain": [
       "(array([[   0,  154,  119],\n",
       "        [   0,  680,  301],\n",
       "        [   0,  178, 1196]]),\n",
       "                0           1            2\n",
       " precision    0.0    0.671937     0.740099\n",
       " recall       0.0    0.693170     0.870451\n",
       " f1-score     0.0    0.682388     0.800000\n",
       " support    273.0  981.000000  1374.000000)"
      ]
     },
     "execution_count": 62,
     "metadata": {},
     "output_type": "execute_result"
    }
   ],
   "source": [
    "# WANTED TO SEE MORE DECIMAL PTS\n",
    "get_metrics(logit, X_test[combo_feats], y_test)"
   ]
  },
  {
   "cell_type": "markdown",
   "metadata": {
    "cell_id": "00077-37279561-1aa7-41e9-ae3e-b3017c474155",
    "deepnote_cell_type": "markdown",
    "tags": []
   },
   "source": [
    "### What is ROC?\n",
    "\n",
    "ROC curves describe the **trade-off between the true positive rate (TPR) and false positive (FPR) rate along different probability thresholds** for a classifier. True positive rate is also known as recall and sometimes Sensitivity — it’s a measure of how well you can find the needle in a haystack.\n",
    "\n",
    "**The receiver operating characteristic (ROC) curve has become the p-value of machine learning classification** — it’s very frequently used, misused, misinterpreted, and mis-maligned.\n",
    "\n",
    "However, ROC curves (like p-values) are useful when used right. By that, I mean they are **useful when not used as a rote score**, but when they form part of a nuanced description of a model’s ability to help solve the problem at hand (e.g. in the case of minority class identification, do they perform better than a random guess or assuming all instances are in the majority class).\n",
    "\n",
    "### What is AUC?\n",
    "\n",
    "Area Under the Curve gives the rate of successful classification by the model. The AUC makes it easy to compare the ROC curve of one model to another.\n",
    "\n",
    "\n"
   ]
  },
  {
   "cell_type": "code",
   "execution_count": 79,
   "metadata": {
    "cell_id": "00072-ce2d4e83-6b61-438b-a67b-712b5d13fce1",
    "deepnote_cell_type": "code",
    "deepnote_to_be_reexecuted": false,
    "execution_millis": 14,
    "execution_start": 1622147008606,
    "source_hash": "a3a4b57c",
    "tags": []
   },
   "outputs": [
    {
     "data": {
      "text/plain": [
       "0.5228310502283106"
      ]
     },
     "execution_count": 79,
     "metadata": {},
     "output_type": "execute_result"
    }
   ],
   "source": [
    "(y_test == 'threat').mean()"
   ]
  },
  {
   "cell_type": "code",
   "execution_count": 86,
   "metadata": {
    "cell_id": "00073-7e10f4c1-17c7-4c2c-94a7-a9bd928e0ed4",
    "deepnote_cell_type": "code",
    "deepnote_to_be_reexecuted": false,
    "execution_millis": 32,
    "execution_start": 1622147629485,
    "source_hash": "21fe4d37",
    "tags": []
   },
   "outputs": [
    {
     "data": {
      "text/plain": [
       "threat              3846\n",
       "no_threat           2748\n",
       "ambiguous_threat     762\n",
       "Name: alleged_threat_lvl, dtype: int64"
      ]
     },
     "execution_count": 86,
     "metadata": {},
     "output_type": "execute_result"
    }
   ],
   "source": [
    "train.alleged_threat_lvl.value_counts()"
   ]
  },
  {
   "cell_type": "code",
   "execution_count": 87,
   "metadata": {
    "cell_id": "00074-eaf841f6-97ac-49c7-bfba-0aafd7e0ed2b",
    "deepnote_cell_type": "code",
    "deepnote_to_be_reexecuted": false,
    "execution_millis": 9,
    "execution_start": 1622148006834,
    "source_hash": "14624629",
    "tags": []
   },
   "outputs": [
    {
     "data": {
      "text/plain": [
       "array([[1, 0, 0],\n",
       "       [1, 0, 0],\n",
       "       [1, 0, 0],\n",
       "       ...,\n",
       "       [0, 1, 0],\n",
       "       [0, 1, 0],\n",
       "       [1, 0, 0]])"
      ]
     },
     "execution_count": 87,
     "metadata": {},
     "output_type": "execute_result"
    }
   ],
   "source": [
    "from sklearn import preprocessing\n",
    "preprocessing.label_binarize(y_train, classes=['threat', 'no_threat', 'ambiguous_threat'])"
   ]
  },
  {
   "cell_type": "code",
   "execution_count": 88,
   "metadata": {
    "cell_id": "00075-97e5c28f-eea6-43dd-9f04-73cc6e550338",
    "deepnote_cell_type": "code",
    "deepnote_to_be_reexecuted": false,
    "execution_millis": 25,
    "execution_start": 1622148047440,
    "source_hash": "191047fb",
    "tags": []
   },
   "outputs": [
    {
     "data": {
      "text/plain": [
       "array([[1, 0, 0],\n",
       "       [1, 0, 0],\n",
       "       [1, 0, 0],\n",
       "       ...,\n",
       "       [0, 1, 0],\n",
       "       [0, 1, 0],\n",
       "       [1, 0, 0]])"
      ]
     },
     "execution_count": 88,
     "metadata": {},
     "output_type": "execute_result"
    }
   ],
   "source": [
    "y_trainbin = preprocessing.label_binarize(y_train, classes=['threat', 'no_threat', 'ambiguous_threat'])"
   ]
  },
  {
   "cell_type": "code",
   "execution_count": 91,
   "metadata": {
    "cell_id": "00076-b3377dcd-51f6-4b37-95eb-28686c77ac31",
    "deepnote_cell_type": "code",
    "deepnote_to_be_reexecuted": false,
    "execution_millis": 15,
    "execution_start": 1622148194848,
    "source_hash": "76a66983",
    "tags": []
   },
   "outputs": [
    {
     "data": {
      "text/plain": [
       "array([0, 1])"
      ]
     },
     "execution_count": 91,
     "metadata": {},
     "output_type": "execute_result"
    }
   ],
   "source": [
    "np.unique(y_trainbin)"
   ]
  },
  {
   "cell_type": "code",
   "execution_count": null,
   "metadata": {
    "cell_id": "00073-06a9ee37-3a81-406f-9184-62c08c9c9555",
    "deepnote_cell_type": "code",
    "tags": []
   },
   "outputs": [],
   "source": [
    "y_train = preprocessing.label_binarize(y_train, classes=['threat', 'no_threat', 'ambiguous_threat'])\n",
    "#fit model on combo_feats\n",
    "rf.fit(X_train[combo_feats], y_train)\n"
   ]
  },
  {
   "cell_type": "code",
   "execution_count": 81,
   "metadata": {
    "cell_id": "00072-af8be13c-4935-48dc-9974-c08629a4ac3c",
    "deepnote_cell_type": "code",
    "deepnote_to_be_reexecuted": false,
    "execution_millis": 97,
    "execution_start": 1622147047880,
    "source_hash": "a905b42",
    "tags": []
   },
   "outputs": [
    {
     "ename": "ValueError",
     "evalue": "multiclass format is not supported",
     "output_type": "error",
     "traceback": [
      "\u001b[0;31m---------------------------------------------------------------------------\u001b[0m",
      "\u001b[0;31mValueError\u001b[0m                                Traceback (most recent call last)",
      "\u001b[0;32m<ipython-input-81-148f032349da>\u001b[0m in \u001b[0;36m<module>\u001b[0;34m\u001b[0m\n\u001b[1;32m      4\u001b[0m \u001b[0;34m\u001b[0m\u001b[0m\n\u001b[1;32m      5\u001b[0m \u001b[0my_pred\u001b[0m \u001b[0;34m=\u001b[0m \u001b[0mrf\u001b[0m\u001b[0;34m.\u001b[0m\u001b[0mpredict_proba\u001b[0m\u001b[0;34m(\u001b[0m\u001b[0mX_test\u001b[0m\u001b[0;34m[\u001b[0m\u001b[0mcombo_feats\u001b[0m\u001b[0;34m]\u001b[0m\u001b[0;34m)\u001b[0m\u001b[0;34m[\u001b[0m\u001b[0;34m:\u001b[0m\u001b[0;34m,\u001b[0m\u001b[0;36m1\u001b[0m\u001b[0;34m]\u001b[0m\u001b[0;34m\u001b[0m\u001b[0;34m\u001b[0m\u001b[0m\n\u001b[0;32m----> 6\u001b[0;31m \u001b[0mfpr\u001b[0m\u001b[0;34m,\u001b[0m \u001b[0mtpr\u001b[0m\u001b[0;34m,\u001b[0m \u001b[0mthresholds\u001b[0m \u001b[0;34m=\u001b[0m \u001b[0mroc_curve\u001b[0m\u001b[0;34m(\u001b[0m\u001b[0my_test\u001b[0m\u001b[0;34m,\u001b[0m \u001b[0my_pred\u001b[0m\u001b[0;34m)\u001b[0m\u001b[0;34m\u001b[0m\u001b[0;34m\u001b[0m\u001b[0m\n\u001b[0m\u001b[1;32m      7\u001b[0m \u001b[0mplt\u001b[0m\u001b[0;34m.\u001b[0m\u001b[0mplot\u001b[0m\u001b[0;34m(\u001b[0m\u001b[0mfpr\u001b[0m\u001b[0;34m,\u001b[0m \u001b[0mtpr\u001b[0m\u001b[0;34m,\u001b[0m \u001b[0mcolor\u001b[0m\u001b[0;34m=\u001b[0m\u001b[0;34m'red'\u001b[0m\u001b[0;34m,\u001b[0m \u001b[0mlw\u001b[0m\u001b[0;34m=\u001b[0m\u001b[0;36m2\u001b[0m\u001b[0;34m,\u001b[0m \u001b[0mlabel\u001b[0m\u001b[0;34m=\u001b[0m\u001b[0;34mf'Random Forest (area = %0.4f)'\u001b[0m \u001b[0;34m%\u001b[0m \u001b[0mauc\u001b[0m\u001b[0;34m(\u001b[0m\u001b[0mfpr\u001b[0m\u001b[0;34m,\u001b[0m \u001b[0mtpr\u001b[0m\u001b[0;34m)\u001b[0m\u001b[0;34m)\u001b[0m\u001b[0;34m\u001b[0m\u001b[0;34m\u001b[0m\u001b[0m\n\u001b[1;32m      8\u001b[0m \u001b[0;34m\u001b[0m\u001b[0m\n",
      "\u001b[0;32m/shared-libs/python3.7/py/lib/python3.7/site-packages/sklearn/utils/validation.py\u001b[0m in \u001b[0;36minner_f\u001b[0;34m(*args, **kwargs)\u001b[0m\n\u001b[1;32m     61\u001b[0m             \u001b[0mextra_args\u001b[0m \u001b[0;34m=\u001b[0m \u001b[0mlen\u001b[0m\u001b[0;34m(\u001b[0m\u001b[0margs\u001b[0m\u001b[0;34m)\u001b[0m \u001b[0;34m-\u001b[0m \u001b[0mlen\u001b[0m\u001b[0;34m(\u001b[0m\u001b[0mall_args\u001b[0m\u001b[0;34m)\u001b[0m\u001b[0;34m\u001b[0m\u001b[0;34m\u001b[0m\u001b[0m\n\u001b[1;32m     62\u001b[0m             \u001b[0;32mif\u001b[0m \u001b[0mextra_args\u001b[0m \u001b[0;34m<=\u001b[0m \u001b[0;36m0\u001b[0m\u001b[0;34m:\u001b[0m\u001b[0;34m\u001b[0m\u001b[0;34m\u001b[0m\u001b[0m\n\u001b[0;32m---> 63\u001b[0;31m                 \u001b[0;32mreturn\u001b[0m \u001b[0mf\u001b[0m\u001b[0;34m(\u001b[0m\u001b[0;34m*\u001b[0m\u001b[0margs\u001b[0m\u001b[0;34m,\u001b[0m \u001b[0;34m**\u001b[0m\u001b[0mkwargs\u001b[0m\u001b[0;34m)\u001b[0m\u001b[0;34m\u001b[0m\u001b[0;34m\u001b[0m\u001b[0m\n\u001b[0m\u001b[1;32m     64\u001b[0m \u001b[0;34m\u001b[0m\u001b[0m\n\u001b[1;32m     65\u001b[0m             \u001b[0;31m# extra_args > 0\u001b[0m\u001b[0;34m\u001b[0m\u001b[0;34m\u001b[0m\u001b[0;34m\u001b[0m\u001b[0m\n",
      "\u001b[0;32m/shared-libs/python3.7/py/lib/python3.7/site-packages/sklearn/metrics/_ranking.py\u001b[0m in \u001b[0;36mroc_curve\u001b[0;34m(y_true, y_score, pos_label, sample_weight, drop_intermediate)\u001b[0m\n\u001b[1;32m    912\u001b[0m     \"\"\"\n\u001b[1;32m    913\u001b[0m     fps, tps, thresholds = _binary_clf_curve(\n\u001b[0;32m--> 914\u001b[0;31m         y_true, y_score, pos_label=pos_label, sample_weight=sample_weight)\n\u001b[0m\u001b[1;32m    915\u001b[0m \u001b[0;34m\u001b[0m\u001b[0m\n\u001b[1;32m    916\u001b[0m     \u001b[0;31m# Attempt to drop thresholds corresponding to points in between and\u001b[0m\u001b[0;34m\u001b[0m\u001b[0;34m\u001b[0m\u001b[0;34m\u001b[0m\u001b[0m\n",
      "\u001b[0;32m/shared-libs/python3.7/py/lib/python3.7/site-packages/sklearn/metrics/_ranking.py\u001b[0m in \u001b[0;36m_binary_clf_curve\u001b[0;34m(y_true, y_score, pos_label, sample_weight)\u001b[0m\n\u001b[1;32m    689\u001b[0m     if not (y_type == \"binary\" or\n\u001b[1;32m    690\u001b[0m             (y_type == \"multiclass\" and pos_label is not None)):\n\u001b[0;32m--> 691\u001b[0;31m         \u001b[0;32mraise\u001b[0m \u001b[0mValueError\u001b[0m\u001b[0;34m(\u001b[0m\u001b[0;34m\"{0} format is not supported\"\u001b[0m\u001b[0;34m.\u001b[0m\u001b[0mformat\u001b[0m\u001b[0;34m(\u001b[0m\u001b[0my_type\u001b[0m\u001b[0;34m)\u001b[0m\u001b[0;34m)\u001b[0m\u001b[0;34m\u001b[0m\u001b[0;34m\u001b[0m\u001b[0m\n\u001b[0m\u001b[1;32m    692\u001b[0m \u001b[0;34m\u001b[0m\u001b[0m\n\u001b[1;32m    693\u001b[0m     \u001b[0mcheck_consistent_length\u001b[0m\u001b[0;34m(\u001b[0m\u001b[0my_true\u001b[0m\u001b[0;34m,\u001b[0m \u001b[0my_score\u001b[0m\u001b[0;34m,\u001b[0m \u001b[0msample_weight\u001b[0m\u001b[0;34m)\u001b[0m\u001b[0;34m\u001b[0m\u001b[0;34m\u001b[0m\u001b[0m\n",
      "\u001b[0;31mValueError\u001b[0m: multiclass format is not supported"
     ]
    },
    {
     "data": {
      "text/plain": [
       "<Figure size 720x432 with 0 Axes>"
      ]
     },
     "metadata": {},
     "output_type": "display_data"
    }
   ],
   "source": [
    "from sklearn.metrics import auc, roc_curve, roc_auc_score, precision_recall_curve\n",
    "from sklearn import preprocessing\n",
    "\n",
    "plt.figure(figsize=(10,6))\n",
    "\n",
    "y_pred = rf.predict_proba(X_test[combo_feats])[:,1]\n",
    "fpr, tpr, thresholds = roc_curve(y_test, y_pred)\n",
    "plt.plot(fpr, tpr, color='red', lw=2, label=f'Random Forest (area = %0.4f)' % auc(fpr, tpr))\n",
    "\n",
    "plt.plot([0, 1], [0, 1], color='navy', lw=2, linestyle= '-', label = 'Random Classifier')\n",
    "plt.xlim([0.0, 1.0])\n",
    "plt.ylim([0.0, 1.0])\n",
    "plt.xlabel('False Positive Rate', fontsize=13)\n",
    "plt.ylabel('True Positive Rate', fontsize=14)\n",
    "plt.title('', fontsize=17)\n",
    "plt.legend(loc='lower right', fontsize=13)\n",
    "plt.show()"
   ]
  },
  {
   "cell_type": "code",
   "execution_count": 63,
   "metadata": {
    "cell_id": "00078-3cba98a4-f9ae-451b-a582-b2d05bc3c5e4",
    "deepnote_cell_type": "code",
    "deepnote_to_be_reexecuted": false,
    "execution_millis": 3,
    "execution_start": 1622146341478,
    "source_hash": "8f394621",
    "tags": []
   },
   "outputs": [],
   "source": [
    "# # Plot ROC Curve\n",
    "\n",
    "# from sklearn.metrics import plot_roc_curve\n",
    "# from sklearn.svm import SVC\n",
    "\n",
    "# #train a support vector classifier on train \n",
    "# svc = SVC(random_state=42)\n",
    "# svc.fit(X_train, y_train)\n",
    "\n",
    "# #plot ROC curve on test data\n",
    "# svc_disp = plot_roc_curve(svc, X_test, y_test)\n",
    "\n",
    "# ax = plt.gca()\n",
    "# rf_disp = plot_roc_curve(rf, X_test[combo_feats], y_test, ax=ax, alpha=0.8)\n",
    "# svc_disp.plot(ax=ax, alpha=0.8, color = 'blue')\n",
    "# plt.title('')\n",
    "# plt.show()"
   ]
  },
  {
   "cell_type": "code",
   "execution_count": 64,
   "metadata": {
    "cell_id": "00079-ee4a5d2a-5512-486d-847d-4692dc03367a",
    "deepnote_cell_type": "code",
    "deepnote_to_be_reexecuted": false,
    "execution_millis": 23,
    "execution_start": 1622146342998,
    "source_hash": "6d25118a",
    "tags": []
   },
   "outputs": [
    {
     "data": {
      "text/plain": [
       "['fleeing',\n",
       " 'had_other_weapon',\n",
       " 'is_middle eastern',\n",
       " '12-17',\n",
       " 'had_no_weapon',\n",
       " 'is_native_american',\n",
       " '25-34',\n",
       " '18-24',\n",
       " 'under 12',\n",
       " 'had_firearm',\n",
       " 'is_hispanic']"
      ]
     },
     "execution_count": 64,
     "metadata": {},
     "output_type": "execute_result"
    }
   ],
   "source": [
    "combo_feats\n"
   ]
  },
  {
   "cell_type": "code",
   "execution_count": 65,
   "metadata": {
    "cell_id": "00080-9dd55403-513c-49e5-915f-1ba2b811b414",
    "deepnote_cell_type": "code",
    "deepnote_to_be_reexecuted": false,
    "execution_millis": 14,
    "execution_start": 1622146344171,
    "source_hash": "291eff78",
    "tags": []
   },
   "outputs": [
    {
     "name": "stdout",
     "output_type": "stream",
     "text": [
      "<class 'pandas.core.frame.DataFrame'>\n",
      "Int64Index: 2628 entries, 5639 to 2968\n",
      "Data columns (total 1 columns):\n",
      " #   Column              Non-Null Count  Dtype \n",
      "---  ------              --------------  ----- \n",
      " 0   alleged_threat_lvl  2628 non-null   object\n",
      "dtypes: object(1)\n",
      "memory usage: 41.1+ KB\n"
     ]
    }
   ],
   "source": [
    "rfcn = pd.DataFrame(data = y_test)\n",
    "rfcn['alleged_threat_lvl'] = rfcn['alleged_threat_lvl'].astype(str)\n",
    "rfcn.info()"
   ]
  },
  {
   "cell_type": "code",
   "execution_count": 65,
   "metadata": {
    "cell_id": "00081-bde3a078-c100-4e56-8743-d3f80f25a254",
    "deepnote_cell_type": "code",
    "deepnote_to_be_reexecuted": false,
    "execution_millis": 0,
    "execution_start": 1622146345318,
    "source_hash": "b623e53d",
    "tags": []
   },
   "outputs": [],
   "source": []
  },
  {
   "cell_type": "code",
   "execution_count": 66,
   "metadata": {
    "cell_id": "00082-18ea0ab1-0470-4d6c-a4b9-9a3aaec0574a",
    "deepnote_cell_type": "code",
    "deepnote_to_be_reexecuted": false,
    "execution_millis": 0,
    "execution_start": 1622146345694,
    "source_hash": "beef4ab1",
    "tags": []
   },
   "outputs": [],
   "source": [
    "from sklearn.tree import DecisionTreeClassifier\n",
    "from sklearn import tree\n",
    "from sklearn.tree import export_graphviz"
   ]
  },
  {
   "cell_type": "code",
   "execution_count": 67,
   "metadata": {
    "cell_id": "00083-2e50856f-0ab1-43d5-8f25-e1835b2ce19c",
    "deepnote_cell_type": "code",
    "deepnote_to_be_reexecuted": false,
    "execution_millis": 0,
    "execution_start": 1622146346180,
    "source_hash": "643a9f3e",
    "tags": []
   },
   "outputs": [],
   "source": [
    "est = rf.estimators_"
   ]
  },
  {
   "cell_type": "code",
   "execution_count": 68,
   "metadata": {
    "cell_id": "00084-75728f37-d730-40d2-97c4-9a29ace8ade9",
    "deepnote_cell_type": "code",
    "deepnote_to_be_reexecuted": false,
    "execution_millis": 22,
    "execution_start": 1622146347555,
    "source_hash": "ebf9eea0",
    "tags": []
   },
   "outputs": [
    {
     "name": "stdout",
     "output_type": "stream",
     "text": [
      "100\n"
     ]
    }
   ],
   "source": [
    "# Our Random Forest consists of 100 trees\n",
    "print(len(rf.estimators_))"
   ]
  },
  {
   "cell_type": "code",
   "execution_count": 69,
   "metadata": {
    "cell_id": "00085-bd359170-c0c5-410f-ba82-ab1c1221cd6f",
    "deepnote_cell_type": "code",
    "deepnote_to_be_reexecuted": false,
    "execution_millis": 291,
    "execution_start": 1622146348356,
    "source_hash": "99e59487",
    "tags": []
   },
   "outputs": [
    {
     "name": "stdout",
     "output_type": "stream",
     "text": [
      "[1.47377679e-01 1.12588500e-02 2.94021145e-04 2.57800193e-02\n",
      " 5.65095424e-01 3.54228684e-03 4.63586846e-03 1.08849595e-02\n",
      " 1.93055299e-02 2.03299687e-01 8.52567537e-03]\n"
     ]
    },
    {
     "data": {
      "text/plain": [
       "Text(0.5, 1.0, 'Which Features are Better Predictors?')"
      ]
     },
     "execution_count": 69,
     "metadata": {},
     "output_type": "execute_result"
    },
    {
     "data": {
      "image/png": "[encoded data removed]",
      "text/plain": [
       "<Figure size 360x360 with 1 Axes>"
      ]
     },
     "metadata": {
      "image/png": {
       "height": 319,
       "width": 396
      },
      "needs_background": "light"
     },
     "output_type": "display_data"
    }
   ],
   "source": [
    "# Find feature importance\n",
    "print(rf.feature_importances_)\n",
    "\n",
    "featimp = pd.DataFrame(rf.feature_importances_)\n",
    "featimp['combo_feats'] = combo_feats\n",
    "\n",
    "\n",
    "\n",
    "feature_names = combo_feats\n",
    "\n",
    "plt.figure(figsize=(5, 5))\n",
    "plt.barh(feature_names, rf.feature_importances_)\n",
    "plt.title('Which Features are Better Predictors?')\n"
   ]
  },
  {
   "cell_type": "code",
   "execution_count": 70,
   "metadata": {
    "cell_id": "00086-131d0175-8a20-4142-aad2-bae164579ee0",
    "deepnote_cell_type": "code",
    "deepnote_to_be_reexecuted": false,
    "execution_millis": 4,
    "execution_start": 1622146350272,
    "source_hash": "539288ac"
   },
   "outputs": [],
   "source": [
    "# append dataframe to record accuracy on final random forest\n",
    "metric_df = metric_df.append({\n",
    "    'Model': 'Random Forest', \n",
    "    'Baseline': round(baseline_accuracy, 4),\n",
    "    'Train Accuracy': round(rf_train_acc, 4),\n",
    "    'Validate Accuracy':round(rf_val_acc, 4),\n",
    "    'Test Accuracy': round(rf_test_acc, 4)}, ignore_index=True)"
   ]
  },
  {
   "cell_type": "code",
   "execution_count": 71,
   "metadata": {
    "cell_id": "00087-6a279b0d-fb38-4053-a0ab-4366486b8bbc",
    "deepnote_cell_type": "code",
    "deepnote_to_be_reexecuted": false,
    "execution_millis": 32,
    "execution_start": 1622146351582,
    "source_hash": "400c35cf"
   },
   "outputs": [
    {
     "data": {
      "application/vnd.deepnote.dataframe.v2+json": {
       "column_count": 5,
       "columns": [
        {
         "dtype": "object",
         "name": "Model",
         "stats": {
          "categories": [
           {
            "count": 2,
            "name": "Random Forest"
           },
           {
            "count": 1,
            "name": "Decision Tree"
           },
           {
            "count": 2,
            "name": "2 others"
           }
          ],
          "nan_count": 0,
          "unique_count": 4
         }
        },
        {
         "dtype": "float64",
         "name": "Baseline",
         "stats": {
          "histogram": [
           {
            "bin_end": 0.12280000000000005,
            "bin_start": 0.022800000000000042,
            "count": 0
           },
           {
            "bin_end": 0.22280000000000005,
            "bin_start": 0.12280000000000005,
            "count": 0
           },
           {
            "bin_end": 0.3228000000000001,
            "bin_start": 0.22280000000000005,
            "count": 0
           },
           {
            "bin_end": 0.42280000000000006,
            "bin_start": 0.3228000000000001,
            "count": 0
           },
           {
            "bin_end": 0.5228,
            "bin_start": 0.42280000000000006,
            "count": 0
           },
           {
            "bin_end": 0.6228000000000001,
            "bin_start": 0.5228,
            "count": 5
           },
           {
            "bin_end": 0.7228000000000001,
            "bin_start": 0.6228000000000001,
            "count": 0
           },
           {
            "bin_end": 0.8228000000000001,
            "bin_start": 0.7228000000000001,
            "count": 0
           },
           {
            "bin_end": 0.9228000000000001,
            "bin_start": 0.8228000000000001,
            "count": 0
           },
           {
            "bin_end": 1.0228000000000002,
            "bin_start": 0.9228000000000001,
            "count": 0
           }
          ],
          "max": "0.5228",
          "min": "0.5228",
          "nan_count": 0,
          "unique_count": 1
         }
        },
        {
         "dtype": "float64",
         "name": "Train Accuracy",
         "stats": {
          "histogram": [
           {
            "bin_end": 0.7135199999999999,
            "bin_start": 0.7129,
            "count": 1
           },
           {
            "bin_end": 0.71414,
            "bin_start": 0.7135199999999999,
            "count": 0
           },
           {
            "bin_end": 0.71476,
            "bin_start": 0.71414,
            "count": 0
           },
           {
            "bin_end": 0.71538,
            "bin_start": 0.71476,
            "count": 0
           },
           {
            "bin_end": 0.716,
            "bin_start": 0.71538,
            "count": 0
           },
           {
            "bin_end": 0.7166199999999999,
            "bin_start": 0.716,
            "count": 0
           },
           {
            "bin_end": 0.71724,
            "bin_start": 0.7166199999999999,
            "count": 0
           },
           {
            "bin_end": 0.7178599999999999,
            "bin_start": 0.71724,
            "count": 1
           },
           {
            "bin_end": 0.71848,
            "bin_start": 0.7178599999999999,
            "count": 0
           },
           {
            "bin_end": 0.7191,
            "bin_start": 0.71848,
            "count": 3
           }
          ],
          "max": "0.7191",
          "min": "0.7129",
          "nan_count": 0,
          "unique_count": 4
         }
        },
        {
         "dtype": "float64",
         "name": "Validate Accuracy",
         "stats": {
          "histogram": [
           {
            "bin_end": 0.7058300000000001,
            "bin_start": 0.7044,
            "count": 1
           },
           {
            "bin_end": 0.70726,
            "bin_start": 0.7058300000000001,
            "count": 0
           },
           {
            "bin_end": 0.70869,
            "bin_start": 0.70726,
            "count": 0
           },
           {
            "bin_end": 0.71012,
            "bin_start": 0.70869,
            "count": 0
           },
           {
            "bin_end": 0.71155,
            "bin_start": 0.71012,
            "count": 0
           },
           {
            "bin_end": 0.7129800000000001,
            "bin_start": 0.71155,
            "count": 0
           },
           {
            "bin_end": 0.71441,
            "bin_start": 0.7129800000000001,
            "count": 0
           },
           {
            "bin_end": 0.71584,
            "bin_start": 0.71441,
            "count": 0
           },
           {
            "bin_end": 0.71727,
            "bin_start": 0.71584,
            "count": 1
           },
           {
            "bin_end": 0.7187,
            "bin_start": 0.71727,
            "count": 3
           }
          ],
          "max": "0.7187",
          "min": "0.7044",
          "nan_count": 0,
          "unique_count": 4
         }
        },
        {
         "dtype": "float64",
         "name": "Test Accuracy",
         "stats": {
          "histogram": [
           {
            "bin_end": 0.3154,
            "bin_start": 0.21540000000000004,
            "count": 0
           },
           {
            "bin_end": 0.41540000000000005,
            "bin_start": 0.3154,
            "count": 0
           },
           {
            "bin_end": 0.5154000000000001,
            "bin_start": 0.41540000000000005,
            "count": 0
           },
           {
            "bin_end": 0.6154000000000001,
            "bin_start": 0.5154000000000001,
            "count": 0
           },
           {
            "bin_end": 0.7154,
            "bin_start": 0.6154000000000001,
            "count": 0
           },
           {
            "bin_end": 0.8154000000000001,
            "bin_start": 0.7154,
            "count": 1
           },
           {
            "bin_end": 0.9154000000000001,
            "bin_start": 0.8154000000000001,
            "count": 0
           },
           {
            "bin_end": 1.0154,
            "bin_start": 0.9154000000000001,
            "count": 0
           },
           {
            "bin_end": 1.1154000000000002,
            "bin_start": 1.0154,
            "count": 0
           },
           {
            "bin_end": 1.2154,
            "bin_start": 1.1154000000000002,
            "count": 0
           }
          ],
          "max": "0.7154",
          "min": "0.7154",
          "nan_count": 4,
          "unique_count": 1
         }
        },
        {
         "dtype": "int64",
         "name": "_deepnote_index_column"
        }
       ],
       "row_count": 5,
       "rows_bottom": null,
       "rows_top": [
        {
         "Baseline": 0.5228,
         "Model": "Decision Tree",
         "Test Accuracy": "nan",
         "Train Accuracy": 0.7187,
         "Validate Accuracy": 0.7187,
         "_deepnote_index_column": 0
        },
        {
         "Baseline": 0.5228,
         "Model": "Random Forest",
         "Test Accuracy": "nan",
         "Train Accuracy": 0.7191,
         "Validate Accuracy": 0.7184,
         "_deepnote_index_column": 1
        },
        {
         "Baseline": 0.5228,
         "Model": "K-Nearest Neighbor",
         "Test Accuracy": "nan",
         "Train Accuracy": 0.7129,
         "Validate Accuracy": 0.7044,
         "_deepnote_index_column": 2
        },
        {
         "Baseline": 0.5228,
         "Model": "Logistic Regression",
         "Test Accuracy": "nan",
         "Train Accuracy": 0.7178,
         "Validate Accuracy": 0.7165,
         "_deepnote_index_column": 3
        },
        {
         "Baseline": 0.5228,
         "Model": "Random Forest",
         "Test Accuracy": 0.7154,
         "Train Accuracy": 0.7191,
         "Validate Accuracy": 0.7184,
         "_deepnote_index_column": 4
        }
       ]
      },
      "text/html": [
       "<div>\n",
       "<style scoped>\n",
       "    .dataframe tbody tr th:only-of-type {\n",
       "        vertical-align: middle;\n",
       "    }\n",
       "\n",
       "    .dataframe tbody tr th {\n",
       "        vertical-align: top;\n",
       "    }\n",
       "\n",
       "    .dataframe thead th {\n",
       "        text-align: right;\n",
       "    }\n",
       "</style>\n",
       "<table border=\"1\" class=\"dataframe\">\n",
       "  <thead>\n",
       "    <tr style=\"text-align: right;\">\n",
       "      <th></th>\n",
       "      <th>Model</th>\n",
       "      <th>Baseline</th>\n",
       "      <th>Train Accuracy</th>\n",
       "      <th>Validate Accuracy</th>\n",
       "      <th>Test Accuracy</th>\n",
       "    </tr>\n",
       "  </thead>\n",
       "  <tbody>\n",
       "    <tr>\n",
       "      <th>0</th>\n",
       "      <td>Decision Tree</td>\n",
       "      <td>0.5228</td>\n",
       "      <td>0.7187</td>\n",
       "      <td>0.7187</td>\n",
       "      <td>NaN</td>\n",
       "    </tr>\n",
       "    <tr>\n",
       "      <th>1</th>\n",
       "      <td>Random Forest</td>\n",
       "      <td>0.5228</td>\n",
       "      <td>0.7191</td>\n",
       "      <td>0.7184</td>\n",
       "      <td>NaN</td>\n",
       "    </tr>\n",
       "    <tr>\n",
       "      <th>2</th>\n",
       "      <td>K-Nearest Neighbor</td>\n",
       "      <td>0.5228</td>\n",
       "      <td>0.7129</td>\n",
       "      <td>0.7044</td>\n",
       "      <td>NaN</td>\n",
       "    </tr>\n",
       "    <tr>\n",
       "      <th>3</th>\n",
       "      <td>Logistic Regression</td>\n",
       "      <td>0.5228</td>\n",
       "      <td>0.7178</td>\n",
       "      <td>0.7165</td>\n",
       "      <td>NaN</td>\n",
       "    </tr>\n",
       "    <tr>\n",
       "      <th>4</th>\n",
       "      <td>Random Forest</td>\n",
       "      <td>0.5228</td>\n",
       "      <td>0.7191</td>\n",
       "      <td>0.7184</td>\n",
       "      <td>0.7154</td>\n",
       "    </tr>\n",
       "  </tbody>\n",
       "</table>\n",
       "</div>"
      ],
      "text/plain": [
       "                 Model  Baseline  Train Accuracy  Validate Accuracy  \\\n",
       "0        Decision Tree    0.5228          0.7187             0.7187   \n",
       "1        Random Forest    0.5228          0.7191             0.7184   \n",
       "2   K-Nearest Neighbor    0.5228          0.7129             0.7044   \n",
       "3  Logistic Regression    0.5228          0.7178             0.7165   \n",
       "4        Random Forest    0.5228          0.7191             0.7184   \n",
       "\n",
       "   Test Accuracy  \n",
       "0            NaN  \n",
       "1            NaN  \n",
       "2            NaN  \n",
       "3            NaN  \n",
       "4         0.7154  "
      ]
     },
     "execution_count": 71,
     "metadata": {},
     "output_type": "execute_result"
    }
   ],
   "source": [
    "metric_df"
   ]
  },
  {
   "cell_type": "code",
   "execution_count": 74,
   "metadata": {
    "cell_id": "00084-d86b3f5f-8144-47b8-9be3-4734094f1706",
    "deepnote_cell_type": "code",
    "deepnote_to_be_reexecuted": false,
    "execution_millis": 24,
    "execution_start": 1622146935199,
    "source_hash": "ba549d12",
    "tags": []
   },
   "outputs": [
    {
     "data": {
      "text/plain": [
       "array([0.56489781, 0.22347269, 0.67123087, ..., 0.2355925 , 0.12118397,\n",
       "       0.75159001])"
      ]
     },
     "execution_count": 74,
     "metadata": {},
     "output_type": "execute_result"
    }
   ],
   "source": []
  },
  {
   "cell_type": "markdown",
   "metadata": {
    "cell_id": "00088-09603e85-b93b-4bb2-a3c5-654a1a6413a9",
    "deepnote_cell_type": "markdown"
   },
   "source": [
    "\n",
    "___\n",
    "# Conclusion\n",
    "\n",
    "### Takeaways\n",
    "- All models had roughly the same score for train and validate sets.\n",
    "- K-Nearest neighbor model performed the worst on out-of-sample data.\n",
    "- The best performing model uses a Random Forest algorithm and combined features from Select K Best and Recursive Feature Elimination lists.\n",
    "- Our final Random Forest model increased by 21% from a baseline accuracy of 51% to 72% accuracy on out-of-sample data.\n",
    "\n",
    "\n",
    "### Drivers\n",
    "- The top drivers of predicting a victim's threat level were encounter type of incident, gender, race, armed/unarmed status, mental illness, age, geography, fleeing events, and body camera reports.\n",
    "- These drivers can be used to shed light on changes to be made in law enforcement and to help law enforcement agencies spot risk factors, so they may step in before risk transforms into actual harm.\n",
    "\n",
    "\n",
    "### Next Steps\n",
    "- Fill in missing values manually as best as possible based on the description column in the dataset (large amount of data missing). \n",
    "- Natural language processing exploration on description of incident. "
   ]
  },
  {
   "cell_type": "markdown",
   "metadata": {
    "cell_id": "00089-924fbff7-e3ed-4631-a6ff-b35c32ece2c0",
    "deepnote_cell_type": "markdown",
    "tags": []
   },
   "source": [
    "\n",
    "#### Report containing summarization of notebook can be found [here](link to presentation)."
   ]
  },
  {
   "cell_type": "markdown",
   "metadata": {
    "cell_id": "00090-5a2cd706-11da-4941-9b6c-08d97d80c5af",
    "deepnote_cell_type": "markdown",
    "tags": []
   },
   "source": []
  },
  {
   "cell_type": "markdown",
   "metadata": {
    "created_in_deepnote_cell": true,
    "deepnote_cell_type": "markdown",
    "tags": []
   },
   "source": [
    "<a style='text-decoration:none;line-height:16px;display:flex;color:#5B5B62;padding:10px;justify-content:end;' href='https://deepnote.com?utm_source=created-in-deepnote-cell&projectId=258e71fc-cf2b-48c3-8461-70ecd9787aa1' target=\"_blank\">\n",
    "<img alt='Created in deepnote.com' style='display:inline;max-height:16px;margin:0px;margin-right:7.5px;' src='data:image/svg+xml;base64,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' > </img>\n",
    "Created in <span style='font-weight:600;margin-left:4px;'>Deepnote</span></a>"
   ]
  }
 ],
 "metadata": {
  "deepnote": {},
  "deepnote_execution_queue": [],
  "deepnote_notebook_id": "bff30273-f3af-4ca6-9f3f-76413d7994fc",
  "kernelspec": {
   "display_name": "Python 3",
   "language": "python",
   "name": "python3"
  },
  "language_info": {
   "codemirror_mode": {
    "name": "ipython",
    "version": 3
   },
   "file_extension": ".py",
   "mimetype": "text/x-python",
   "name": "python",
   "nbconvert_exporter": "python",
   "pygments_lexer": "ipython3",
   "version": "3.8.5"
  }
 },
 "nbformat": 4,
 "nbformat_minor": 4
}
