{
 "cells": [
  {
   "cell_type": "code",
   "execution_count": 1,
   "metadata": {
    "cell_id": "00000-ca0fb07f-9de0-4127-a343-a47d69e54ff4",
    "deepnote_cell_type": "code",
    "deepnote_to_be_reexecuted": false,
    "execution_millis": 6389,
    "execution_start": 1621959078630,
    "source_hash": "864c6ca2",
    "tags": []
   },
   "outputs": [],
   "source": [
    "import pandas as pd\n",
    "import numpy as np\n",
    "\n",
    "# Helper Functions\n",
    "import wrangle as w \n",
    "import explore as exp\n",
    "from explore import rfe, split, select_kbest\n",
    "\n",
    "# Visualizations\n",
    "import seaborn as sns\n",
    "import matplotlib.pyplot as plt\n",
    "\n",
    "# Hypothesis tests\n",
    "from scipy import stats\n",
    "from scipy.stats import chi2_contingency\n",
    "from scipy.stats import ttest_1samp\n",
    "from scipy.stats import ttest_ind\n",
    "\n",
    "#Feature Engineering\n",
    "from sklearn.feature_selection import SelectKBest, f_regression, chi2\n",
    "from sklearn.linear_model import LogisticRegression, SGDClassifier\n",
    "from sklearn.feature_selection import RFE\n",
    "from scipy import stats\n",
    "\n",
    "# Split data\n",
    "from sklearn.model_selection import train_test_split\n",
    "\n",
    "# Evaluate models\n",
    "from sklearn.metrics import confusion_matrix\n",
    "from sklearn.metrics import classification_report\n",
    "from sklearn.metrics import accuracy_score\n",
    "from sklearn.metrics import precision_score\n",
    "from sklearn.metrics import recall_score\n",
    "from sklearn.metrics import f1_score\n",
    "from sklearn.metrics import precision_recall_fscore_support \n",
    "\n",
    "# Create models for classification ML:\n",
    "# Decision Tree  \n",
    "from sklearn.tree import DecisionTreeClassifier\n",
    "from sklearn.tree import export_graphviz\n",
    "\n",
    "# Random Forest\n",
    "from sklearn.ensemble import RandomForestClassifier\n",
    "\n",
    "# K-Nearest Neighbor(KNN)  \n",
    "from sklearn.neighbors import KNeighborsClassifier\n",
    "\n",
    "# Logistic Regression\n",
    "from sklearn.linear_model import LogisticRegression"
   ]
  },
  {
   "cell_type": "code",
   "execution_count": 2,
   "metadata": {
    "cell_id": "00001-d345b413-e470-4b33-abb7-7462c4a58719",
    "deepnote_cell_type": "code",
    "deepnote_to_be_reexecuted": false,
    "execution_millis": 465,
    "execution_start": 1621959085022,
    "source_hash": "82eeda13",
    "tags": []
   },
   "outputs": [],
   "source": [
    "df = w.wrangle_data(cached=True)"
   ]
  },
  {
   "cell_type": "code",
   "execution_count": 3,
   "metadata": {
    "cell_id": "00002-662275bd-2519-4bd1-9a05-6615e20d4d12",
    "deepnote_cell_type": "code",
    "deepnote_to_be_reexecuted": false,
    "execution_millis": 7,
    "execution_start": 1621959085492,
    "source_hash": "8fb9d845",
    "tags": []
   },
   "outputs": [],
   "source": [
    "df.drop(columns=['Unnamed: 0'], inplace=True)"
   ]
  },
  {
   "cell_type": "code",
   "execution_count": 4,
   "metadata": {
    "cell_id": "00002-1e4381f0-96d8-4ea9-a854-0d0e74369488",
    "deepnote_cell_type": "code",
    "deepnote_to_be_reexecuted": false,
    "execution_millis": 19,
    "execution_start": 1621959085510,
    "source_hash": "f3dd26da",
    "tags": []
   },
   "outputs": [
    {
     "data": {
      "text/plain": [
       "age                                            0\n",
       "gender                                         0\n",
       "race                                           0\n",
       "date                                           0\n",
       "city                                           0\n",
       "state                                          0\n",
       "zipcode                                        0\n",
       "county                                         0\n",
       "agency_responsible                             0\n",
       "cause_of_death                                 0\n",
       "description_of_circumstances                   0\n",
       "official_disposition                           0\n",
       "criminal_charges_filed                         0\n",
       "mental_illness                                 0\n",
       "armed_unarmed_status                           0\n",
       "alleged_weapon                                 0\n",
       "alleged_threat_lvl                             0\n",
       "fleeing                                        0\n",
       "body_camera                                    0\n",
       "geography                                      0\n",
       "encounter_type_draft                           0\n",
       "initial_reported_reason_for_encounter_draft    0\n",
       "known_past_shootings_of_officer_draft          0\n",
       "is_female                                      0\n",
       "is_male                                        0\n",
       "is_transgender                                 0\n",
       "was_fleeing                                    0\n",
       "was_not fleeing                                0\n",
       "was_allegedly_armed                            0\n",
       "was_unarmed                                    0\n",
       "was_vehicle                                    0\n",
       "was_domestic_disturbance                       0\n",
       "was_mental_health_welfare_check                0\n",
       "was_person_with_a_weapon                       0\n",
       "was_traffic_stop                               0\n",
       "was_violent_crime_part_1                       0\n",
       "is_asian/pacific islander                      0\n",
       "is_black                                       0\n",
       "is_hispanic                                    0\n",
       "is_native american                             0\n",
       "is_unknown race                                0\n",
       "is_white                                       0\n",
       "mntlill_drug or alcohol use                    0\n",
       "mntlill_no                                     0\n",
       "mntlill_unknown                                0\n",
       "mntlill_yes                                    0\n",
       "rural                                          0\n",
       "suburban                                       0\n",
       "urban                                          0\n",
       "cod_lethal                                     0\n",
       "age_bins                                       0\n",
       "unknown                                        0\n",
       "under 12                                       0\n",
       "12-17                                          0\n",
       "18-24                                          0\n",
       "25-34                                          0\n",
       "35-44                                          0\n",
       "45-54                                          0\n",
       "55-64                                          0\n",
       "65+                                            0\n",
       "dtype: int64"
      ]
     },
     "execution_count": 4,
     "metadata": {},
     "output_type": "execute_result"
    }
   ],
   "source": [
    "df.isnull().sum()"
   ]
  },
  {
   "cell_type": "code",
   "execution_count": 5,
   "metadata": {
    "cell_id": "00003-a26f7eef-6b8e-40c2-a48e-dd5d047209b9",
    "deepnote_cell_type": "code",
    "deepnote_to_be_reexecuted": false,
    "execution_millis": 20,
    "execution_start": 1621959085586,
    "source_hash": "2a21e0e6",
    "tags": []
   },
   "outputs": [
    {
     "data": {
      "text/plain": [
       "25     280\n",
       "0      279\n",
       "27     275\n",
       "28     275\n",
       "31     275\n",
       "      ... \n",
       "88       1\n",
       "93       1\n",
       "85       1\n",
       "107      1\n",
       "95       1\n",
       "Name: age, Length: 88, dtype: int64"
      ]
     },
     "execution_count": 5,
     "metadata": {},
     "output_type": "execute_result"
    }
   ],
   "source": [
    "df.age.value_counts()"
   ]
  },
  {
   "cell_type": "code",
   "execution_count": 6,
   "metadata": {
    "cell_id": "00004-dcd9de0a-8632-4aad-af4a-cece182dd7d3",
    "deepnote_cell_type": "code",
    "deepnote_to_be_reexecuted": false,
    "execution_millis": 11,
    "execution_start": 1621959085648,
    "source_hash": "48919f60",
    "tags": []
   },
   "outputs": [
    {
     "data": {
      "text/plain": [
       "25-34       2697\n",
       "35-44       2005\n",
       "18-24       1289\n",
       "45-54       1278\n",
       "55-64        652\n",
       "unknown      279\n",
       "65+          267\n",
       "12-17        155\n",
       "under 12      12\n",
       "Name: age_bins, dtype: int64"
      ]
     },
     "execution_count": 6,
     "metadata": {},
     "output_type": "execute_result"
    }
   ],
   "source": [
    "df.age_bins.value_counts()"
   ]
  },
  {
   "cell_type": "code",
   "execution_count": 7,
   "metadata": {
    "cell_id": "00005-fff6aeeb-efe7-42da-8b2e-a6f40120262e",
    "deepnote_cell_type": "code",
    "deepnote_to_be_reexecuted": false,
    "execution_millis": 48,
    "execution_start": 1621959085650,
    "source_hash": "25d43fa0",
    "tags": []
   },
   "outputs": [
    {
     "data": {
      "text/plain": [
       "Index(['age', 'gender', 'race', 'date', 'city', 'state', 'zipcode', 'county',\n",
       "       'agency_responsible', 'cause_of_death', 'description_of_circumstances',\n",
       "       'official_disposition', 'criminal_charges_filed', 'mental_illness',\n",
       "       'armed_unarmed_status', 'alleged_weapon', 'alleged_threat_lvl',\n",
       "       'fleeing', 'body_camera', 'geography', 'encounter_type_draft',\n",
       "       'initial_reported_reason_for_encounter_draft',\n",
       "       'known_past_shootings_of_officer_draft', 'is_female', 'is_male',\n",
       "       'is_transgender', 'was_fleeing', 'was_not fleeing ',\n",
       "       'was_allegedly_armed', 'was_unarmed', 'was_vehicle',\n",
       "       'was_domestic_disturbance', 'was_mental_health_welfare_check',\n",
       "       'was_person_with_a_weapon', 'was_traffic_stop',\n",
       "       'was_violent_crime_part_1', 'is_asian/pacific islander', 'is_black',\n",
       "       'is_hispanic', 'is_native american', 'is_unknown race', 'is_white',\n",
       "       'mntlill_drug or alcohol use', 'mntlill_no', 'mntlill_unknown',\n",
       "       'mntlill_yes', 'rural', 'suburban', 'urban', 'cod_lethal', 'age_bins',\n",
       "       'unknown', 'under 12', '12-17', '18-24', '25-34', '35-44', '45-54',\n",
       "       '55-64', '65+'],\n",
       "      dtype='object')"
      ]
     },
     "execution_count": 7,
     "metadata": {},
     "output_type": "execute_result"
    }
   ],
   "source": [
    "df.columns"
   ]
  },
  {
   "cell_type": "code",
   "execution_count": 8,
   "metadata": {
    "cell_id": "00006-e504add4-6501-463c-b279-cd20cbc367a5",
    "deepnote_cell_type": "code",
    "deepnote_to_be_reexecuted": false,
    "execution_millis": 1,
    "execution_start": 1621959085687,
    "source_hash": "fb9b34ba",
    "tags": []
   },
   "outputs": [],
   "source": [
    "from explore import rfe, split, select_kbest"
   ]
  },
  {
   "cell_type": "code",
   "execution_count": 9,
   "metadata": {
    "cell_id": "00007-c3c59e61-7a1b-4526-8f95-0313fa01d373",
    "deepnote_cell_type": "code",
    "deepnote_to_be_reexecuted": false,
    "execution_millis": 31,
    "execution_start": 1621959085693,
    "source_hash": "61bca6e2",
    "tags": []
   },
   "outputs": [],
   "source": [
    "train, validate, test = split(df, stratify_by='alleged_threat_lvl')"
   ]
  },
  {
   "cell_type": "code",
   "execution_count": 10,
   "metadata": {
    "cell_id": "00008-83599b50-8693-42a9-9a3d-7476133dd466",
    "deepnote_cell_type": "code",
    "deepnote_to_be_reexecuted": false,
    "execution_millis": 6,
    "execution_start": 1621959085782,
    "source_hash": "68e62203",
    "tags": []
   },
   "outputs": [],
   "source": [
    "\n",
    "def split_df(df, target, seed):\n",
    "    '''\n",
    "    split_df will take one argument(df) and \n",
    "    then split our data into 20/80, \n",
    "    then split the 80% into 30/70\n",
    "    performs a train, validate, test split\n",
    "    splits each of the 3 samples into a dataframe with independent variables\n",
    "    and a series with the dependent, or target variable. \n",
    "    The function returns 6 dataframes and 3 series:\n",
    "    train, validate, test split, X_train (df) & y_train (series), X_validate & y_validate, X_test & y_test. \n",
    "    '''\n",
    "    # Train, Validate, and test\n",
    "    train_and_validate, test = train_test_split(df, test_size=0.2, random_state=seed)\n",
    "    train, validate = train_test_split(train_and_validate, test_size=0.3, random_state=seed)\n",
    "    # Split with X and y\n",
    "    X_train = train.drop(columns=[target])\n",
    "    y_train = train[target]\n",
    "    X_validate = validate.drop(columns=[target])\n",
    "    y_validate = validate[target]\n",
    "    X_test = test.drop(columns=[target])\n",
    "    y_test = test[target]\n",
    "    return train, validate, test, X_train, y_train, X_validate, y_validate, X_test, y_test "
   ]
  },
  {
   "cell_type": "code",
   "execution_count": 11,
   "metadata": {
    "cell_id": "00009-6ed7f350-2cb6-4c10-8e66-bad83b18590e",
    "deepnote_cell_type": "code",
    "deepnote_to_be_reexecuted": false,
    "execution_millis": 91,
    "execution_start": 1621959085791,
    "source_hash": "4ca76457",
    "tags": []
   },
   "outputs": [],
   "source": [
    "\n",
    "train, validate, test, X_train, y_train, X_validate, y_validate, X_test, y_test = split_df(df, 'alleged_threat_lvl', 42)"
   ]
  },
  {
   "cell_type": "code",
   "execution_count": 12,
   "metadata": {
    "cell_id": "00010-35249c4b-2d35-4a1b-92aa-820c88f374a5",
    "deepnote_cell_type": "code",
    "deepnote_to_be_reexecuted": false,
    "execution_millis": 1,
    "execution_start": 1621959085912,
    "source_hash": "89d68b10",
    "tags": []
   },
   "outputs": [],
   "source": [
    "#y_"
   ]
  },
  {
   "cell_type": "code",
   "execution_count": 13,
   "metadata": {
    "cell_id": "00011-27697b83-487a-4b21-ba78-a507f07f691c",
    "deepnote_cell_type": "code",
    "deepnote_to_be_reexecuted": false,
    "execution_millis": 34,
    "execution_start": 1621959085913,
    "source_hash": "3ca3de2b",
    "tags": []
   },
   "outputs": [
    {
     "name": "stdout",
     "output_type": "stream",
     "text": [
      "<class 'pandas.core.frame.DataFrame'>\n",
      "Int64Index: 4834 entries, 5178 to 5212\n",
      "Data columns (total 59 columns):\n",
      " #   Column                                       Non-Null Count  Dtype  \n",
      "---  ------                                       --------------  -----  \n",
      " 0   age                                          4834 non-null   int64  \n",
      " 1   gender                                       4834 non-null   object \n",
      " 2   race                                         4834 non-null   object \n",
      " 3   date                                         4834 non-null   object \n",
      " 4   city                                         4834 non-null   object \n",
      " 5   state                                        4834 non-null   object \n",
      " 6   zipcode                                      4834 non-null   float64\n",
      " 7   county                                       4834 non-null   object \n",
      " 8   agency_responsible                           4834 non-null   object \n",
      " 9   cause_of_death                               4834 non-null   object \n",
      " 10  description_of_circumstances                 4834 non-null   object \n",
      " 11  official_disposition                         4834 non-null   object \n",
      " 12  criminal_charges_filed                       4834 non-null   object \n",
      " 13  mental_illness                               4834 non-null   object \n",
      " 14  armed_unarmed_status                         4834 non-null   object \n",
      " 15  alleged_weapon                               4834 non-null   object \n",
      " 16  fleeing                                      4834 non-null   object \n",
      " 17  body_camera                                  4834 non-null   float64\n",
      " 18  geography                                    4834 non-null   object \n",
      " 19  encounter_type_draft                         4834 non-null   object \n",
      " 20  initial_reported_reason_for_encounter_draft  4834 non-null   object \n",
      " 21  known_past_shootings_of_officer_draft        4834 non-null   int64  \n",
      " 22  is_female                                    4834 non-null   int64  \n",
      " 23  is_male                                      4834 non-null   int64  \n",
      " 24  is_transgender                               4834 non-null   int64  \n",
      " 25  was_fleeing                                  4834 non-null   float64\n",
      " 26  was_not fleeing                              4834 non-null   float64\n",
      " 27  was_allegedly_armed                          4834 non-null   float64\n",
      " 28  was_unarmed                                  4834 non-null   float64\n",
      " 29  was_vehicle                                  4834 non-null   float64\n",
      " 30  was_domestic_disturbance                     4834 non-null   int64  \n",
      " 31  was_mental_health_welfare_check              4834 non-null   int64  \n",
      " 32  was_person_with_a_weapon                     4834 non-null   int64  \n",
      " 33  was_traffic_stop                             4834 non-null   int64  \n",
      " 34  was_violent_crime_part_1                     4834 non-null   int64  \n",
      " 35  is_asian/pacific islander                    4834 non-null   int64  \n",
      " 36  is_black                                     4834 non-null   int64  \n",
      " 37  is_hispanic                                  4834 non-null   int64  \n",
      " 38  is_native american                           4834 non-null   int64  \n",
      " 39  is_unknown race                              4834 non-null   int64  \n",
      " 40  is_white                                     4834 non-null   int64  \n",
      " 41  mntlill_drug or alcohol use                  4834 non-null   int64  \n",
      " 42  mntlill_no                                   4834 non-null   int64  \n",
      " 43  mntlill_unknown                              4834 non-null   int64  \n",
      " 44  mntlill_yes                                  4834 non-null   int64  \n",
      " 45  rural                                        4834 non-null   float64\n",
      " 46  suburban                                     4834 non-null   float64\n",
      " 47  urban                                        4834 non-null   float64\n",
      " 48  cod_lethal                                   4834 non-null   int64  \n",
      " 49  age_bins                                     4834 non-null   object \n",
      " 50  unknown                                      4834 non-null   int64  \n",
      " 51  under 12                                     4834 non-null   int64  \n",
      " 52  12-17                                        4834 non-null   int64  \n",
      " 53  18-24                                        4834 non-null   int64  \n",
      " 54  25-34                                        4834 non-null   int64  \n",
      " 55  35-44                                        4834 non-null   int64  \n",
      " 56  45-54                                        4834 non-null   int64  \n",
      " 57  55-64                                        4834 non-null   int64  \n",
      " 58  65+                                          4834 non-null   int64  \n",
      "dtypes: float64(10), int64(30), object(19)\n",
      "memory usage: 2.2+ MB\n"
     ]
    }
   ],
   "source": [
    "X_train.info()"
   ]
  },
  {
   "cell_type": "code",
   "execution_count": 14,
   "metadata": {
    "cell_id": "00012-cedd0909-f06b-48ee-9370-798665f4bb05",
    "deepnote_cell_type": "code",
    "deepnote_to_be_reexecuted": false,
    "execution_millis": 0,
    "execution_start": 1621959085921,
    "source_hash": "576f2697",
    "tags": []
   },
   "outputs": [],
   "source": [
    "from sklearn.feature_selection import f_regression, RFE, SelectKBest"
   ]
  },
  {
   "cell_type": "code",
   "execution_count": 15,
   "metadata": {
    "cell_id": "00013-e5b409d3-a56b-4e8d-85a6-cd805832ae08",
    "deepnote_cell_type": "code",
    "deepnote_to_be_reexecuted": false,
    "execution_millis": 62,
    "execution_start": 1621959085928,
    "source_hash": "1039a82",
    "tags": []
   },
   "outputs": [
    {
     "data": {
      "text/plain": [
       "['age',\n",
       " 'gender',\n",
       " 'race',\n",
       " 'date',\n",
       " 'city',\n",
       " 'state',\n",
       " 'zipcode',\n",
       " 'county',\n",
       " 'agency_responsible',\n",
       " 'cause_of_death',\n",
       " 'description_of_circumstances',\n",
       " 'official_disposition',\n",
       " 'criminal_charges_filed',\n",
       " 'mental_illness',\n",
       " 'armed_unarmed_status',\n",
       " 'alleged_weapon',\n",
       " 'alleged_threat_lvl',\n",
       " 'fleeing',\n",
       " 'body_camera',\n",
       " 'geography',\n",
       " 'encounter_type_draft',\n",
       " 'initial_reported_reason_for_encounter_draft',\n",
       " 'known_past_shootings_of_officer_draft',\n",
       " 'is_female',\n",
       " 'is_male',\n",
       " 'is_transgender',\n",
       " 'was_fleeing',\n",
       " 'was_not fleeing ',\n",
       " 'was_allegedly_armed',\n",
       " 'was_unarmed',\n",
       " 'was_vehicle',\n",
       " 'was_domestic_disturbance',\n",
       " 'was_mental_health_welfare_check',\n",
       " 'was_person_with_a_weapon',\n",
       " 'was_traffic_stop',\n",
       " 'was_violent_crime_part_1',\n",
       " 'is_asian/pacific islander',\n",
       " 'is_black',\n",
       " 'is_hispanic',\n",
       " 'is_native american',\n",
       " 'is_unknown race',\n",
       " 'is_white',\n",
       " 'mntlill_drug or alcohol use',\n",
       " 'mntlill_no',\n",
       " 'mntlill_unknown',\n",
       " 'mntlill_yes',\n",
       " 'rural',\n",
       " 'suburban',\n",
       " 'urban',\n",
       " 'cod_lethal',\n",
       " 'age_bins',\n",
       " 'unknown',\n",
       " 'under 12',\n",
       " '12-17',\n",
       " '18-24',\n",
       " '25-34',\n",
       " '35-44',\n",
       " '45-54',\n",
       " '55-64',\n",
       " '65+']"
      ]
     },
     "execution_count": 15,
     "metadata": {},
     "output_type": "execute_result"
    }
   ],
   "source": [
    "list(df.columns)"
   ]
  },
  {
   "cell_type": "code",
   "execution_count": 16,
   "metadata": {
    "cell_id": "00014-3c810d71-c5f6-4a13-afcf-0c1b1966533e",
    "deepnote_cell_type": "code",
    "deepnote_to_be_reexecuted": false,
    "execution_millis": 0,
    "execution_start": 1621959086030,
    "source_hash": "368ac104",
    "tags": []
   },
   "outputs": [],
   "source": [
    "dropcols = ['date',\n",
    " 'gender',\n",
    " 'race',\n",
    " 'city',\n",
    " 'state',\n",
    " 'zipcode',\n",
    " 'county',\n",
    " 'agency_responsible',\n",
    " 'cause_of_death',\n",
    " 'description_of_circumstances',\n",
    " 'official_disposition',\n",
    " 'criminal_charges_filed',\n",
    " 'mental_illness',\n",
    " 'armed_unarmed_status',\n",
    " 'alleged_threat_lvl',\n",
    " 'alleged_weapon',\n",
    " 'fleeing',\n",
    " 'geography',\n",
    " 'encounter_type_draft',\n",
    " 'initial_reported_reason_for_encounter_draft',\n",
    " 'known_past_shootings_of_officer_draft',\n",
    " 'age_bins']\n"
   ]
  },
  {
   "cell_type": "code",
   "execution_count": 17,
   "metadata": {
    "cell_id": "00015-7b7dd39a-fdb6-4ca0-b17c-de01945d5596",
    "deepnote_cell_type": "code",
    "deepnote_to_be_reexecuted": false,
    "execution_millis": 1,
    "execution_start": 1621959086030,
    "source_hash": "d330f65b",
    "tags": []
   },
   "outputs": [],
   "source": [
    "train2 = train.drop(columns=dropcols)\n",
    "validate2 = validate.drop(columns=dropcols)\n",
    "test2 = test.drop(columns=dropcols)"
   ]
  },
  {
   "cell_type": "code",
   "execution_count": 18,
   "metadata": {
    "cell_id": "00016-2680470a-0ba2-4a1f-9028-355337b25e8b",
    "deepnote_cell_type": "code",
    "deepnote_to_be_reexecuted": false,
    "execution_millis": 69,
    "execution_start": 1621959086031,
    "source_hash": "569ea54a",
    "tags": []
   },
   "outputs": [
    {
     "name": "stdout",
     "output_type": "stream",
     "text": [
      "<class 'pandas.core.frame.DataFrame'>\n",
      "Int64Index: 4834 entries, 5178 to 5212\n",
      "Data columns (total 38 columns):\n",
      " #   Column                           Non-Null Count  Dtype  \n",
      "---  ------                           --------------  -----  \n",
      " 0   age                              4834 non-null   int64  \n",
      " 1   body_camera                      4834 non-null   float64\n",
      " 2   is_female                        4834 non-null   int64  \n",
      " 3   is_male                          4834 non-null   int64  \n",
      " 4   is_transgender                   4834 non-null   int64  \n",
      " 5   was_fleeing                      4834 non-null   float64\n",
      " 6   was_not fleeing                  4834 non-null   float64\n",
      " 7   was_allegedly_armed              4834 non-null   float64\n",
      " 8   was_unarmed                      4834 non-null   float64\n",
      " 9   was_vehicle                      4834 non-null   float64\n",
      " 10  was_domestic_disturbance         4834 non-null   int64  \n",
      " 11  was_mental_health_welfare_check  4834 non-null   int64  \n",
      " 12  was_person_with_a_weapon         4834 non-null   int64  \n",
      " 13  was_traffic_stop                 4834 non-null   int64  \n",
      " 14  was_violent_crime_part_1         4834 non-null   int64  \n",
      " 15  is_asian/pacific islander        4834 non-null   int64  \n",
      " 16  is_black                         4834 non-null   int64  \n",
      " 17  is_hispanic                      4834 non-null   int64  \n",
      " 18  is_native american               4834 non-null   int64  \n",
      " 19  is_unknown race                  4834 non-null   int64  \n",
      " 20  is_white                         4834 non-null   int64  \n",
      " 21  mntlill_drug or alcohol use      4834 non-null   int64  \n",
      " 22  mntlill_no                       4834 non-null   int64  \n",
      " 23  mntlill_unknown                  4834 non-null   int64  \n",
      " 24  mntlill_yes                      4834 non-null   int64  \n",
      " 25  rural                            4834 non-null   float64\n",
      " 26  suburban                         4834 non-null   float64\n",
      " 27  urban                            4834 non-null   float64\n",
      " 28  cod_lethal                       4834 non-null   int64  \n",
      " 29  unknown                          4834 non-null   int64  \n",
      " 30  under 12                         4834 non-null   int64  \n",
      " 31  12-17                            4834 non-null   int64  \n",
      " 32  18-24                            4834 non-null   int64  \n",
      " 33  25-34                            4834 non-null   int64  \n",
      " 34  35-44                            4834 non-null   int64  \n",
      " 35  45-54                            4834 non-null   int64  \n",
      " 36  55-64                            4834 non-null   int64  \n",
      " 37  65+                              4834 non-null   int64  \n",
      "dtypes: float64(9), int64(29)\n",
      "memory usage: 1.4 MB\n"
     ]
    }
   ],
   "source": [
    "train2.info()"
   ]
  },
  {
   "cell_type": "code",
   "execution_count": 19,
   "metadata": {
    "cell_id": "00017-1fd0f1c7-cd24-4b1c-bbb9-c327a3b88995",
    "deepnote_cell_type": "code",
    "deepnote_to_be_reexecuted": false,
    "execution_millis": 10,
    "execution_start": 1621959086096,
    "source_hash": "b18318e7",
    "tags": []
   },
   "outputs": [
    {
     "data": {
      "text/plain": [
       "Index(['age', 'body_camera', 'is_female', 'is_male', 'is_transgender',\n",
       "       'was_fleeing', 'was_not fleeing ', 'was_allegedly_armed', 'was_unarmed',\n",
       "       'was_vehicle', 'was_domestic_disturbance',\n",
       "       'was_mental_health_welfare_check', 'was_person_with_a_weapon',\n",
       "       'was_traffic_stop', 'was_violent_crime_part_1',\n",
       "       'is_asian/pacific islander', 'is_black', 'is_hispanic',\n",
       "       'is_native american', 'is_unknown race', 'is_white',\n",
       "       'mntlill_drug or alcohol use', 'mntlill_no', 'mntlill_unknown',\n",
       "       'mntlill_yes', 'rural', 'suburban', 'urban', 'cod_lethal', 'unknown',\n",
       "       'under 12', '12-17', '18-24', '25-34', '35-44', '45-54', '55-64',\n",
       "       '65+'],\n",
       "      dtype='object')"
      ]
     },
     "execution_count": 19,
     "metadata": {},
     "output_type": "execute_result"
    }
   ],
   "source": [
    "train2.columns"
   ]
  },
  {
   "cell_type": "code",
   "execution_count": 20,
   "metadata": {
    "cell_id": "00018-18932d81-84ed-48a9-baba-536dd89519d4",
    "deepnote_cell_type": "code",
    "deepnote_to_be_reexecuted": false,
    "execution_millis": 3,
    "execution_start": 1621959086123,
    "source_hash": "c5522482",
    "tags": []
   },
   "outputs": [
    {
     "data": {
      "text/plain": [
       "['age',\n",
       " 'body_camera',\n",
       " 'is_female',\n",
       " 'was_fleeing',\n",
       " 'was_allegedly_armed',\n",
       " 'was_unarmed',\n",
       " 'was_domestic_disturbance',\n",
       " 'was_mental_health_welfare_check',\n",
       " 'was_person_with_a_weapon',\n",
       " 'was_traffic_stop',\n",
       " 'was_violent_crime_part_1',\n",
       " 'mntlill_drug or alcohol use',\n",
       " 'mntlill_no',\n",
       " 'mntlill_unknown',\n",
       " '55-64']"
      ]
     },
     "execution_count": 20,
     "metadata": {},
     "output_type": "execute_result"
    }
   ],
   "source": [
    "f_feature = select_kbest(train2, y_train, 15)\n",
    "f_feature"
   ]
  },
  {
   "cell_type": "code",
   "execution_count": 21,
   "metadata": {
    "cell_id": "00019-ea7896a9-0aec-43ce-841b-0080ffa25035",
    "deepnote_cell_type": "code",
    "deepnote_to_be_reexecuted": false,
    "execution_millis": 13211,
    "execution_start": 1621959086197,
    "source_hash": "ac440bf0",
    "tags": []
   },
   "outputs": [
    {
     "name": "stderr",
     "output_type": "stream",
     "text": [
      "/shared-libs/python3.7/py/lib/python3.7/site-packages/sklearn/utils/validation.py:72: FutureWarning: Pass n_features_to_select=15 as keyword args. From version 1.0 (renaming of 0.25) passing these as positional arguments will result in an error\n",
      "  \"will result in an error\", FutureWarning)\n",
      "/shared-libs/python3.7/py/lib/python3.7/site-packages/sklearn/linear_model/_logistic.py:765: ConvergenceWarning: lbfgs failed to converge (status=1):\n",
      "STOP: TOTAL NO. of ITERATIONS REACHED LIMIT.\n",
      "\n",
      "Increase the number of iterations (max_iter) or scale the data as shown in:\n",
      "    https://scikit-learn.org/stable/modules/preprocessing.html\n",
      "Please also refer to the documentation for alternative solver options:\n",
      "    https://scikit-learn.org/stable/modules/linear_model.html#logistic-regression\n",
      "  extra_warning_msg=_LOGISTIC_SOLVER_CONVERGENCE_MSG)\n",
      "/shared-libs/python3.7/py/lib/python3.7/site-packages/sklearn/linear_model/_logistic.py:765: ConvergenceWarning: lbfgs failed to converge (status=1):\n",
      "STOP: TOTAL NO. of ITERATIONS REACHED LIMIT.\n",
      "\n",
      "Increase the number of iterations (max_iter) or scale the data as shown in:\n",
      "    https://scikit-learn.org/stable/modules/preprocessing.html\n",
      "Please also refer to the documentation for alternative solver options:\n",
      "    https://scikit-learn.org/stable/modules/linear_model.html#logistic-regression\n",
      "  extra_warning_msg=_LOGISTIC_SOLVER_CONVERGENCE_MSG)\n",
      "/shared-libs/python3.7/py/lib/python3.7/site-packages/sklearn/linear_model/_logistic.py:765: ConvergenceWarning: lbfgs failed to converge (status=1):\n",
      "STOP: TOTAL NO. of ITERATIONS REACHED LIMIT.\n",
      "\n",
      "Increase the number of iterations (max_iter) or scale the data as shown in:\n",
      "    https://scikit-learn.org/stable/modules/preprocessing.html\n",
      "Please also refer to the documentation for alternative solver options:\n",
      "    https://scikit-learn.org/stable/modules/linear_model.html#logistic-regression\n",
      "  extra_warning_msg=_LOGISTIC_SOLVER_CONVERGENCE_MSG)\n",
      "/shared-libs/python3.7/py/lib/python3.7/site-packages/sklearn/linear_model/_logistic.py:765: ConvergenceWarning: lbfgs failed to converge (status=1):\n",
      "STOP: TOTAL NO. of ITERATIONS REACHED LIMIT.\n",
      "\n",
      "Increase the number of iterations (max_iter) or scale the data as shown in:\n",
      "    https://scikit-learn.org/stable/modules/preprocessing.html\n",
      "Please also refer to the documentation for alternative solver options:\n",
      "    https://scikit-learn.org/stable/modules/linear_model.html#logistic-regression\n",
      "  extra_warning_msg=_LOGISTIC_SOLVER_CONVERGENCE_MSG)\n",
      "/shared-libs/python3.7/py/lib/python3.7/site-packages/sklearn/linear_model/_logistic.py:765: ConvergenceWarning: lbfgs failed to converge (status=1):\n",
      "STOP: TOTAL NO. of ITERATIONS REACHED LIMIT.\n",
      "\n",
      "Increase the number of iterations (max_iter) or scale the data as shown in:\n",
      "    https://scikit-learn.org/stable/modules/preprocessing.html\n",
      "Please also refer to the documentation for alternative solver options:\n",
      "    https://scikit-learn.org/stable/modules/linear_model.html#logistic-regression\n",
      "  extra_warning_msg=_LOGISTIC_SOLVER_CONVERGENCE_MSG)\n",
      "/shared-libs/python3.7/py/lib/python3.7/site-packages/sklearn/linear_model/_logistic.py:765: ConvergenceWarning: lbfgs failed to converge (status=1):\n",
      "STOP: TOTAL NO. of ITERATIONS REACHED LIMIT.\n",
      "\n",
      "Increase the number of iterations (max_iter) or scale the data as shown in:\n",
      "    https://scikit-learn.org/stable/modules/preprocessing.html\n",
      "Please also refer to the documentation for alternative solver options:\n",
      "    https://scikit-learn.org/stable/modules/linear_model.html#logistic-regression\n",
      "  extra_warning_msg=_LOGISTIC_SOLVER_CONVERGENCE_MSG)\n",
      "/shared-libs/python3.7/py/lib/python3.7/site-packages/sklearn/linear_model/_logistic.py:765: ConvergenceWarning: lbfgs failed to converge (status=1):\n",
      "STOP: TOTAL NO. of ITERATIONS REACHED LIMIT.\n",
      "\n",
      "Increase the number of iterations (max_iter) or scale the data as shown in:\n",
      "    https://scikit-learn.org/stable/modules/preprocessing.html\n",
      "Please also refer to the documentation for alternative solver options:\n",
      "    https://scikit-learn.org/stable/modules/linear_model.html#logistic-regression\n",
      "  extra_warning_msg=_LOGISTIC_SOLVER_CONVERGENCE_MSG)\n",
      "/shared-libs/python3.7/py/lib/python3.7/site-packages/sklearn/linear_model/_logistic.py:765: ConvergenceWarning: lbfgs failed to converge (status=1):\n",
      "STOP: TOTAL NO. of ITERATIONS REACHED LIMIT.\n",
      "\n",
      "Increase the number of iterations (max_iter) or scale the data as shown in:\n",
      "    https://scikit-learn.org/stable/modules/preprocessing.html\n",
      "Please also refer to the documentation for alternative solver options:\n",
      "    https://scikit-learn.org/stable/modules/linear_model.html#logistic-regression\n",
      "  extra_warning_msg=_LOGISTIC_SOLVER_CONVERGENCE_MSG)\n"
     ]
    }
   ],
   "source": [
    "rfe_list = rfe(train2, y_train, 15)"
   ]
  },
  {
   "cell_type": "code",
   "execution_count": 22,
   "metadata": {
    "cell_id": "00020-d8d739d8-0bd5-4d44-8827-11b681a2c777",
    "deepnote_cell_type": "code",
    "deepnote_to_be_reexecuted": false,
    "execution_millis": 13,
    "execution_start": 1621959099449,
    "source_hash": "adde19a5",
    "tags": []
   },
   "outputs": [
    {
     "data": {
      "text/plain": [
       "['age',\n",
       " 'body_camera',\n",
       " 'is_female',\n",
       " 'was_fleeing',\n",
       " 'was_allegedly_armed',\n",
       " 'was_unarmed',\n",
       " 'was_domestic_disturbance',\n",
       " 'was_mental_health_welfare_check',\n",
       " 'was_person_with_a_weapon',\n",
       " 'was_traffic_stop',\n",
       " 'was_violent_crime_part_1',\n",
       " 'mntlill_drug or alcohol use',\n",
       " 'mntlill_no',\n",
       " 'mntlill_unknown',\n",
       " '55-64']"
      ]
     },
     "execution_count": 22,
     "metadata": {},
     "output_type": "execute_result"
    }
   ],
   "source": [
    "f_feature"
   ]
  },
  {
   "cell_type": "code",
   "execution_count": 23,
   "metadata": {
    "cell_id": "00021-0f7f8626-e6bb-4be6-93b6-6ed0bea04e80",
    "deepnote_cell_type": "code",
    "deepnote_to_be_reexecuted": false,
    "execution_millis": 47,
    "execution_start": 1621959099451,
    "source_hash": "9d8423df",
    "tags": []
   },
   "outputs": [
    {
     "data": {
      "text/plain": [
       "['is_male',\n",
       " 'is_transgender',\n",
       " 'was_fleeing',\n",
       " 'was_allegedly_armed',\n",
       " 'was_unarmed',\n",
       " 'was_vehicle',\n",
       " 'was_traffic_stop',\n",
       " 'was_violent_crime_part_1',\n",
       " 'is_black',\n",
       " 'is_native american',\n",
       " 'is_white',\n",
       " 'mntlill_drug or alcohol use',\n",
       " 'mntlill_no',\n",
       " 'cod_lethal',\n",
       " 'under 12']"
      ]
     },
     "execution_count": 23,
     "metadata": {},
     "output_type": "execute_result"
    }
   ],
   "source": [
    "rfe_list"
   ]
  },
  {
   "cell_type": "code",
   "execution_count": 24,
   "metadata": {
    "cell_id": "00022-373fde5e-c306-4c66-89ca-d8031e9de8b3",
    "deepnote_cell_type": "code",
    "deepnote_to_be_reexecuted": false,
    "execution_millis": 3,
    "execution_start": 1621959099501,
    "source_hash": "75be0d0c",
    "tags": []
   },
   "outputs": [],
   "source": [
    "combo_feats = list(set(f_feature + rfe_list))"
   ]
  },
  {
   "cell_type": "code",
   "execution_count": 25,
   "metadata": {
    "cell_id": "00023-58b01ef5-78a8-4321-adfd-55275ed3a6c2",
    "deepnote_cell_type": "code",
    "deepnote_to_be_reexecuted": false,
    "execution_millis": 79,
    "execution_start": 1621959099513,
    "source_hash": "d038553",
    "tags": []
   },
   "outputs": [
    {
     "data": {
      "text/plain": [
       "23"
      ]
     },
     "execution_count": 25,
     "metadata": {},
     "output_type": "execute_result"
    }
   ],
   "source": [
    "len(combo_feats)"
   ]
  },
  {
   "cell_type": "code",
   "execution_count": 26,
   "metadata": {
    "cell_id": "00024-e836b7a6-98da-4edc-9dc9-87f56bc8db9e",
    "deepnote_cell_type": "code",
    "deepnote_to_be_reexecuted": false,
    "execution_millis": 52,
    "execution_start": 1621959099588,
    "source_hash": "8d90ad63",
    "tags": []
   },
   "outputs": [
    {
     "data": {
      "text/plain": [
       "['is_native american',\n",
       " 'was_traffic_stop',\n",
       " 'mntlill_unknown',\n",
       " 'was_person_with_a_weapon',\n",
       " 'was_vehicle',\n",
       " 'was_unarmed',\n",
       " 'is_female',\n",
       " 'was_allegedly_armed',\n",
       " 'mntlill_drug or alcohol use',\n",
       " 'cod_lethal',\n",
       " 'was_violent_crime_part_1',\n",
       " 'is_male',\n",
       " 'is_transgender',\n",
       " 'was_fleeing',\n",
       " 'under 12',\n",
       " 'body_camera',\n",
       " 'was_mental_health_welfare_check',\n",
       " 'is_black',\n",
       " 'was_domestic_disturbance',\n",
       " '55-64',\n",
       " 'age',\n",
       " 'is_white',\n",
       " 'mntlill_no']"
      ]
     },
     "execution_count": 26,
     "metadata": {},
     "output_type": "execute_result"
    }
   ],
   "source": [
    "combo_feats"
   ]
  },
  {
   "cell_type": "markdown",
   "metadata": {
    "cell_id": "00026-260ef3b7-da2d-499f-985f-a0cf187398e6",
    "deepnote_cell_type": "markdown",
    "tags": []
   },
   "source": [
    "# KNN\n",
    "## Train\n"
   ]
  },
  {
   "cell_type": "code",
   "execution_count": 27,
   "metadata": {
    "cell_id": "00026-bc554847-7d76-4e00-b5e8-60564c9b13bc",
    "deepnote_cell_type": "code",
    "deepnote_to_be_reexecuted": false,
    "execution_millis": 60,
    "execution_start": 1621959099634,
    "source_hash": "bb2235ce",
    "tags": []
   },
   "outputs": [
    {
     "data": {
      "text/plain": [
       "0.0    4392\n",
       "1.0    4242\n",
       "Name: alleged_threat_lvl, dtype: int64"
      ]
     },
     "execution_count": 27,
     "metadata": {},
     "output_type": "execute_result"
    }
   ],
   "source": [
    "df.alleged_threat_lvl.value_counts()"
   ]
  },
  {
   "cell_type": "code",
   "execution_count": 28,
   "metadata": {
    "cell_id": "00027-eeb97c54-321f-4c1f-97c8-27df1460a7fd",
    "deepnote_cell_type": "code",
    "deepnote_to_be_reexecuted": false,
    "execution_millis": 26,
    "execution_start": 1621959099689,
    "source_hash": "988dc88d",
    "tags": []
   },
   "outputs": [
    {
     "data": {
      "text/plain": [
       "0.5101365328920149"
      ]
     },
     "execution_count": 28,
     "metadata": {},
     "output_type": "execute_result"
    }
   ],
   "source": [
    "(train.alleged_threat_lvl == 0).mean()"
   ]
  },
  {
   "cell_type": "code",
   "execution_count": 29,
   "metadata": {
    "cell_id": "00027-0dc3290c-92a3-4fcf-a4e5-5c9fd216bacf",
    "deepnote_cell_type": "code",
    "deepnote_to_be_reexecuted": false,
    "execution_millis": 73,
    "execution_start": 1621959099711,
    "source_hash": "97f90de9",
    "tags": []
   },
   "outputs": [],
   "source": [
    "def get_metrics(mod, X, y):\n",
    "    \"\"\"\n",
    "    get_metrics returns the baseline accuracy score \n",
    "    along with the current model's accuracy score for comparison \n",
    "    along with a table of precision/recall/f1-score/support percentages of the model\n",
    "    \"\"\"\n",
    "    baseline_accuracy = (train.alleged_threat_lvl == 0).mean()\n",
    "    y_pred = mod.predict(X)\n",
    "    accuracy = mod.score(X, y)\n",
    "    conf = confusion_matrix(y, y_pred)\n",
    "    prfs = pd.DataFrame(precision_recall_fscore_support(y, y_pred), index=['precision', 'recall', 'f1-score', 'support'])\n",
    "    \n",
    "    print(f'''\n",
    "    BASELINE accuracy is: {baseline_accuracy:.2%}\n",
    "    The accuracy for our model is: {accuracy:.5%} \n",
    "    ''')\n",
    "    return conf, prfs"
   ]
  },
  {
   "cell_type": "code",
   "execution_count": 30,
   "metadata": {
    "cell_id": "00029-ed22fca1-cc2a-476e-bfb9-d2bfd1934c1f",
    "deepnote_cell_type": "code",
    "deepnote_to_be_reexecuted": false,
    "execution_millis": 1,
    "execution_start": 1621959099786,
    "source_hash": "32e4eb35",
    "tags": []
   },
   "outputs": [],
   "source": [
    "combo_feats = ['55-64',\n",
    " 'is_native american',\n",
    " 'mntlill_no',\n",
    " 'under 12',\n",
    " 'was_traffic_stop',\n",
    " 'body_camera',\n",
    " 'age',\n",
    " 'was_allegedly_armed',\n",
    " 'is_black',\n",
    " 'was_domestic_disturbance',\n",
    " 'was_fleeing',\n",
    " 'cod_lethal',\n",
    " 'was_mental_health_welfare_check',\n",
    " 'is_white',\n",
    " 'was_violent_crime_part_1',\n",
    " 'was_vehicle',\n",
    " 'mntlill_drug or alcohol use',\n",
    " 'is_transgender',\n",
    " 'is_female']"
   ]
  },
  {
   "cell_type": "code",
   "execution_count": 31,
   "metadata": {
    "cell_id": "00028-39a7449e-4599-47ec-ae19-9babc5189f1a",
    "deepnote_cell_type": "code",
    "deepnote_to_be_reexecuted": false,
    "execution_millis": 246,
    "execution_start": 1621959099795,
    "source_hash": "ada4e53",
    "tags": []
   },
   "outputs": [
    {
     "data": {
      "application/vnd.deepnote.dataframe.v2+json": {
       "column_count": 15,
       "columns": [
        {
         "dtype": "int64",
         "name": "age",
         "stats": {
          "histogram": [
           {
            "bin_end": 10.7,
            "bin_start": 0,
            "count": 156
           },
           {
            "bin_end": 21.4,
            "bin_start": 10.7,
            "count": 431
           },
           {
            "bin_end": 32.099999999999994,
            "bin_start": 21.4,
            "count": 1594
           },
           {
            "bin_end": 42.8,
            "bin_start": 32.099999999999994,
            "count": 1239
           },
           {
            "bin_end": 53.5,
            "bin_start": 42.8,
            "count": 844
           },
           {
            "bin_end": 64.19999999999999,
            "bin_start": 53.5,
            "count": 410
           },
           {
            "bin_end": 74.89999999999999,
            "bin_start": 64.19999999999999,
            "count": 122
           },
           {
            "bin_end": 85.6,
            "bin_start": 74.89999999999999,
            "count": 33
           },
           {
            "bin_end": 96.3,
            "bin_start": 85.6,
            "count": 4
           },
           {
            "bin_end": 107,
            "bin_start": 96.3,
            "count": 1
           }
          ],
          "max": "107",
          "min": "0",
          "nan_count": 0,
          "unique_count": 82
         }
        },
        {
         "dtype": "float64",
         "name": "body_camera",
         "stats": {
          "histogram": [
           {
            "bin_end": 0.1,
            "bin_start": 0,
            "count": 4480
           },
           {
            "bin_end": 0.2,
            "bin_start": 0.1,
            "count": 0
           },
           {
            "bin_end": 0.30000000000000004,
            "bin_start": 0.2,
            "count": 0
           },
           {
            "bin_end": 0.4,
            "bin_start": 0.30000000000000004,
            "count": 0
           },
           {
            "bin_end": 0.5,
            "bin_start": 0.4,
            "count": 0
           },
           {
            "bin_end": 0.6000000000000001,
            "bin_start": 0.5,
            "count": 0
           },
           {
            "bin_end": 0.7000000000000001,
            "bin_start": 0.6000000000000001,
            "count": 0
           },
           {
            "bin_end": 0.8,
            "bin_start": 0.7000000000000001,
            "count": 0
           },
           {
            "bin_end": 0.9,
            "bin_start": 0.8,
            "count": 0
           },
           {
            "bin_end": 1,
            "bin_start": 0.9,
            "count": 354
           }
          ],
          "max": "1.0",
          "min": "0.0",
          "nan_count": 0,
          "unique_count": 2
         }
        },
        {
         "dtype": "int64",
         "name": "is_female",
         "stats": {
          "histogram": [
           {
            "bin_end": 0.1,
            "bin_start": 0,
            "count": 4598
           },
           {
            "bin_end": 0.2,
            "bin_start": 0.1,
            "count": 0
           },
           {
            "bin_end": 0.30000000000000004,
            "bin_start": 0.2,
            "count": 0
           },
           {
            "bin_end": 0.4,
            "bin_start": 0.30000000000000004,
            "count": 0
           },
           {
            "bin_end": 0.5,
            "bin_start": 0.4,
            "count": 0
           },
           {
            "bin_end": 0.6000000000000001,
            "bin_start": 0.5,
            "count": 0
           },
           {
            "bin_end": 0.7000000000000001,
            "bin_start": 0.6000000000000001,
            "count": 0
           },
           {
            "bin_end": 0.8,
            "bin_start": 0.7000000000000001,
            "count": 0
           },
           {
            "bin_end": 0.9,
            "bin_start": 0.8,
            "count": 0
           },
           {
            "bin_end": 1,
            "bin_start": 0.9,
            "count": 236
           }
          ],
          "max": "1",
          "min": "0",
          "nan_count": 0,
          "unique_count": 2
         }
        },
        {
         "dtype": "float64",
         "name": "was_fleeing",
         "stats": {
          "histogram": [
           {
            "bin_end": 0.1,
            "bin_start": 0,
            "count": 2235
           },
           {
            "bin_end": 0.2,
            "bin_start": 0.1,
            "count": 0
           },
           {
            "bin_end": 0.30000000000000004,
            "bin_start": 0.2,
            "count": 0
           },
           {
            "bin_end": 0.4,
            "bin_start": 0.30000000000000004,
            "count": 0
           },
           {
            "bin_end": 0.5,
            "bin_start": 0.4,
            "count": 0
           },
           {
            "bin_end": 0.6000000000000001,
            "bin_start": 0.5,
            "count": 0
           },
           {
            "bin_end": 0.7000000000000001,
            "bin_start": 0.6000000000000001,
            "count": 0
           },
           {
            "bin_end": 0.8,
            "bin_start": 0.7000000000000001,
            "count": 0
           },
           {
            "bin_end": 0.9,
            "bin_start": 0.8,
            "count": 0
           },
           {
            "bin_end": 1,
            "bin_start": 0.9,
            "count": 2599
           }
          ],
          "max": "1.0",
          "min": "0.0",
          "nan_count": 0,
          "unique_count": 2
         }
        },
        {
         "dtype": "float64",
         "name": "was_allegedly_armed",
         "stats": {
          "histogram": [
           {
            "bin_end": 0.1,
            "bin_start": 0,
            "count": 1284
           },
           {
            "bin_end": 0.2,
            "bin_start": 0.1,
            "count": 0
           },
           {
            "bin_end": 0.30000000000000004,
            "bin_start": 0.2,
            "count": 0
           },
           {
            "bin_end": 0.4,
            "bin_start": 0.30000000000000004,
            "count": 0
           },
           {
            "bin_end": 0.5,
            "bin_start": 0.4,
            "count": 0
           },
           {
            "bin_end": 0.6000000000000001,
            "bin_start": 0.5,
            "count": 0
           },
           {
            "bin_end": 0.7000000000000001,
            "bin_start": 0.6000000000000001,
            "count": 0
           },
           {
            "bin_end": 0.8,
            "bin_start": 0.7000000000000001,
            "count": 0
           },
           {
            "bin_end": 0.9,
            "bin_start": 0.8,
            "count": 0
           },
           {
            "bin_end": 1,
            "bin_start": 0.9,
            "count": 3550
           }
          ],
          "max": "1.0",
          "min": "0.0",
          "nan_count": 0,
          "unique_count": 2
         }
        },
        {
         "dtype": "float64",
         "name": "was_unarmed",
         "stats": {
          "histogram": [
           {
            "bin_end": 0.1,
            "bin_start": 0,
            "count": 4204
           },
           {
            "bin_end": 0.2,
            "bin_start": 0.1,
            "count": 0
           },
           {
            "bin_end": 0.30000000000000004,
            "bin_start": 0.2,
            "count": 0
           },
           {
            "bin_end": 0.4,
            "bin_start": 0.30000000000000004,
            "count": 0
           },
           {
            "bin_end": 0.5,
            "bin_start": 0.4,
            "count": 0
           },
           {
            "bin_end": 0.6000000000000001,
            "bin_start": 0.5,
            "count": 0
           },
           {
            "bin_end": 0.7000000000000001,
            "bin_start": 0.6000000000000001,
            "count": 0
           },
           {
            "bin_end": 0.8,
            "bin_start": 0.7000000000000001,
            "count": 0
           },
           {
            "bin_end": 0.9,
            "bin_start": 0.8,
            "count": 0
           },
           {
            "bin_end": 1,
            "bin_start": 0.9,
            "count": 630
           }
          ],
          "max": "1.0",
          "min": "0.0",
          "nan_count": 0,
          "unique_count": 2
         }
        },
        {
         "dtype": "int64",
         "name": "was_domestic_disturbance",
         "stats": {
          "histogram": [
           {
            "bin_end": 0.1,
            "bin_start": 0,
            "count": 4514
           },
           {
            "bin_end": 0.2,
            "bin_start": 0.1,
            "count": 0
           },
           {
            "bin_end": 0.30000000000000004,
            "bin_start": 0.2,
            "count": 0
           },
           {
            "bin_end": 0.4,
            "bin_start": 0.30000000000000004,
            "count": 0
           },
           {
            "bin_end": 0.5,
            "bin_start": 0.4,
            "count": 0
           },
           {
            "bin_end": 0.6000000000000001,
            "bin_start": 0.5,
            "count": 0
           },
           {
            "bin_end": 0.7000000000000001,
            "bin_start": 0.6000000000000001,
            "count": 0
           },
           {
            "bin_end": 0.8,
            "bin_start": 0.7000000000000001,
            "count": 0
           },
           {
            "bin_end": 0.9,
            "bin_start": 0.8,
            "count": 0
           },
           {
            "bin_end": 1,
            "bin_start": 0.9,
            "count": 320
           }
          ],
          "max": "1",
          "min": "0",
          "nan_count": 0,
          "unique_count": 2
         }
        },
        {
         "dtype": "int64",
         "name": "was_mental_health_welfare_check",
         "stats": {
          "histogram": [
           {
            "bin_end": 0.1,
            "bin_start": 0,
            "count": 4585
           },
           {
            "bin_end": 0.2,
            "bin_start": 0.1,
            "count": 0
           },
           {
            "bin_end": 0.30000000000000004,
            "bin_start": 0.2,
            "count": 0
           },
           {
            "bin_end": 0.4,
            "bin_start": 0.30000000000000004,
            "count": 0
           },
           {
            "bin_end": 0.5,
            "bin_start": 0.4,
            "count": 0
           },
           {
            "bin_end": 0.6000000000000001,
            "bin_start": 0.5,
            "count": 0
           },
           {
            "bin_end": 0.7000000000000001,
            "bin_start": 0.6000000000000001,
            "count": 0
           },
           {
            "bin_end": 0.8,
            "bin_start": 0.7000000000000001,
            "count": 0
           },
           {
            "bin_end": 0.9,
            "bin_start": 0.8,
            "count": 0
           },
           {
            "bin_end": 1,
            "bin_start": 0.9,
            "count": 249
           }
          ],
          "max": "1",
          "min": "0",
          "nan_count": 0,
          "unique_count": 2
         }
        },
        {
         "dtype": "int64",
         "name": "was_person_with_a_weapon",
         "stats": {
          "histogram": [
           {
            "bin_end": 0.1,
            "bin_start": 0,
            "count": 4664
           },
           {
            "bin_end": 0.2,
            "bin_start": 0.1,
            "count": 0
           },
           {
            "bin_end": 0.30000000000000004,
            "bin_start": 0.2,
            "count": 0
           },
           {
            "bin_end": 0.4,
            "bin_start": 0.30000000000000004,
            "count": 0
           },
           {
            "bin_end": 0.5,
            "bin_start": 0.4,
            "count": 0
           },
           {
            "bin_end": 0.6000000000000001,
            "bin_start": 0.5,
            "count": 0
           },
           {
            "bin_end": 0.7000000000000001,
            "bin_start": 0.6000000000000001,
            "count": 0
           },
           {
            "bin_end": 0.8,
            "bin_start": 0.7000000000000001,
            "count": 0
           },
           {
            "bin_end": 0.9,
            "bin_start": 0.8,
            "count": 0
           },
           {
            "bin_end": 1,
            "bin_start": 0.9,
            "count": 170
           }
          ],
          "max": "1",
          "min": "0",
          "nan_count": 0,
          "unique_count": 2
         }
        },
        {
         "dtype": "int64",
         "name": "was_traffic_stop",
         "stats": {
          "histogram": [
           {
            "bin_end": 0.1,
            "bin_start": 0,
            "count": 4558
           },
           {
            "bin_end": 0.2,
            "bin_start": 0.1,
            "count": 0
           },
           {
            "bin_end": 0.30000000000000004,
            "bin_start": 0.2,
            "count": 0
           },
           {
            "bin_end": 0.4,
            "bin_start": 0.30000000000000004,
            "count": 0
           },
           {
            "bin_end": 0.5,
            "bin_start": 0.4,
            "count": 0
           },
           {
            "bin_end": 0.6000000000000001,
            "bin_start": 0.5,
            "count": 0
           },
           {
            "bin_end": 0.7000000000000001,
            "bin_start": 0.6000000000000001,
            "count": 0
           },
           {
            "bin_end": 0.8,
            "bin_start": 0.7000000000000001,
            "count": 0
           },
           {
            "bin_end": 0.9,
            "bin_start": 0.8,
            "count": 0
           },
           {
            "bin_end": 1,
            "bin_start": 0.9,
            "count": 276
           }
          ],
          "max": "1",
          "min": "0",
          "nan_count": 0,
          "unique_count": 2
         }
        },
        {
         "dtype": "int64",
         "name": "was_violent_crime_part_1",
         "stats": {
          "histogram": [
           {
            "bin_end": 0.1,
            "bin_start": 0,
            "count": 1766
           },
           {
            "bin_end": 0.2,
            "bin_start": 0.1,
            "count": 0
           },
           {
            "bin_end": 0.30000000000000004,
            "bin_start": 0.2,
            "count": 0
           },
           {
            "bin_end": 0.4,
            "bin_start": 0.30000000000000004,
            "count": 0
           },
           {
            "bin_end": 0.5,
            "bin_start": 0.4,
            "count": 0
           },
           {
            "bin_end": 0.6000000000000001,
            "bin_start": 0.5,
            "count": 0
           },
           {
            "bin_end": 0.7000000000000001,
            "bin_start": 0.6000000000000001,
            "count": 0
           },
           {
            "bin_end": 0.8,
            "bin_start": 0.7000000000000001,
            "count": 0
           },
           {
            "bin_end": 0.9,
            "bin_start": 0.8,
            "count": 0
           },
           {
            "bin_end": 1,
            "bin_start": 0.9,
            "count": 3068
           }
          ],
          "max": "1",
          "min": "0",
          "nan_count": 0,
          "unique_count": 2
         }
        },
        {
         "dtype": "int64",
         "name": "mntlill_drug or alcohol use",
         "stats": {
          "histogram": [
           {
            "bin_end": 0.1,
            "bin_start": 0,
            "count": 4648
           },
           {
            "bin_end": 0.2,
            "bin_start": 0.1,
            "count": 0
           },
           {
            "bin_end": 0.30000000000000004,
            "bin_start": 0.2,
            "count": 0
           },
           {
            "bin_end": 0.4,
            "bin_start": 0.30000000000000004,
            "count": 0
           },
           {
            "bin_end": 0.5,
            "bin_start": 0.4,
            "count": 0
           },
           {
            "bin_end": 0.6000000000000001,
            "bin_start": 0.5,
            "count": 0
           },
           {
            "bin_end": 0.7000000000000001,
            "bin_start": 0.6000000000000001,
            "count": 0
           },
           {
            "bin_end": 0.8,
            "bin_start": 0.7000000000000001,
            "count": 0
           },
           {
            "bin_end": 0.9,
            "bin_start": 0.8,
            "count": 0
           },
           {
            "bin_end": 1,
            "bin_start": 0.9,
            "count": 186
           }
          ],
          "max": "1",
          "min": "0",
          "nan_count": 0,
          "unique_count": 2
         }
        },
        {
         "dtype": "int64",
         "name": "mntlill_no",
         "stats": {
          "histogram": [
           {
            "bin_end": 0.1,
            "bin_start": 0,
            "count": 1695
           },
           {
            "bin_end": 0.2,
            "bin_start": 0.1,
            "count": 0
           },
           {
            "bin_end": 0.30000000000000004,
            "bin_start": 0.2,
            "count": 0
           },
           {
            "bin_end": 0.4,
            "bin_start": 0.30000000000000004,
            "count": 0
           },
           {
            "bin_end": 0.5,
            "bin_start": 0.4,
            "count": 0
           },
           {
            "bin_end": 0.6000000000000001,
            "bin_start": 0.5,
            "count": 0
           },
           {
            "bin_end": 0.7000000000000001,
            "bin_start": 0.6000000000000001,
            "count": 0
           },
           {
            "bin_end": 0.8,
            "bin_start": 0.7000000000000001,
            "count": 0
           },
           {
            "bin_end": 0.9,
            "bin_start": 0.8,
            "count": 0
           },
           {
            "bin_end": 1,
            "bin_start": 0.9,
            "count": 3139
           }
          ],
          "max": "1",
          "min": "0",
          "nan_count": 0,
          "unique_count": 2
         }
        },
        {
         "dtype": "int64",
         "name": "mntlill_unknown",
         "stats": {
          "histogram": [
           {
            "bin_end": 0.1,
            "bin_start": 0,
            "count": 4229
           },
           {
            "bin_end": 0.2,
            "bin_start": 0.1,
            "count": 0
           },
           {
            "bin_end": 0.30000000000000004,
            "bin_start": 0.2,
            "count": 0
           },
           {
            "bin_end": 0.4,
            "bin_start": 0.30000000000000004,
            "count": 0
           },
           {
            "bin_end": 0.5,
            "bin_start": 0.4,
            "count": 0
           },
           {
            "bin_end": 0.6000000000000001,
            "bin_start": 0.5,
            "count": 0
           },
           {
            "bin_end": 0.7000000000000001,
            "bin_start": 0.6000000000000001,
            "count": 0
           },
           {
            "bin_end": 0.8,
            "bin_start": 0.7000000000000001,
            "count": 0
           },
           {
            "bin_end": 0.9,
            "bin_start": 0.8,
            "count": 0
           },
           {
            "bin_end": 1,
            "bin_start": 0.9,
            "count": 605
           }
          ],
          "max": "1",
          "min": "0",
          "nan_count": 0,
          "unique_count": 2
         }
        },
        {
         "dtype": "int64",
         "name": "55-64",
         "stats": {
          "histogram": [
           {
            "bin_end": 0.1,
            "bin_start": 0,
            "count": 4470
           },
           {
            "bin_end": 0.2,
            "bin_start": 0.1,
            "count": 0
           },
           {
            "bin_end": 0.30000000000000004,
            "bin_start": 0.2,
            "count": 0
           },
           {
            "bin_end": 0.4,
            "bin_start": 0.30000000000000004,
            "count": 0
           },
           {
            "bin_end": 0.5,
            "bin_start": 0.4,
            "count": 0
           },
           {
            "bin_end": 0.6000000000000001,
            "bin_start": 0.5,
            "count": 0
           },
           {
            "bin_end": 0.7000000000000001,
            "bin_start": 0.6000000000000001,
            "count": 0
           },
           {
            "bin_end": 0.8,
            "bin_start": 0.7000000000000001,
            "count": 0
           },
           {
            "bin_end": 0.9,
            "bin_start": 0.8,
            "count": 0
           },
           {
            "bin_end": 1,
            "bin_start": 0.9,
            "count": 364
           }
          ],
          "max": "1",
          "min": "0",
          "nan_count": 0,
          "unique_count": 2
         }
        },
        {
         "dtype": "int64",
         "name": "_deepnote_index_column"
        }
       ],
       "row_count": 4834,
       "rows_bottom": [
        {
         "55-64": 0,
         "_deepnote_index_column": 1940,
         "age": 28,
         "body_camera": 0,
         "is_female": 0,
         "mntlill_drug or alcohol use": 0,
         "mntlill_no": 1,
         "mntlill_unknown": 0,
         "was_allegedly_armed": 1,
         "was_domestic_disturbance": 0,
         "was_fleeing": 0,
         "was_mental_health_welfare_check": 0,
         "was_person_with_a_weapon": 0,
         "was_traffic_stop": 0,
         "was_unarmed": 0,
         "was_violent_crime_part_1": 1
        },
        {
         "55-64": 0,
         "_deepnote_index_column": 6173,
         "age": 25,
         "body_camera": 1,
         "is_female": 0,
         "mntlill_drug or alcohol use": 0,
         "mntlill_no": 0,
         "mntlill_unknown": 0,
         "was_allegedly_armed": 1,
         "was_domestic_disturbance": 0,
         "was_fleeing": 0,
         "was_mental_health_welfare_check": 0,
         "was_person_with_a_weapon": 0,
         "was_traffic_stop": 0,
         "was_unarmed": 0,
         "was_violent_crime_part_1": 1
        },
        {
         "55-64": 1,
         "_deepnote_index_column": 5437,
         "age": 55,
         "body_camera": 0,
         "is_female": 0,
         "mntlill_drug or alcohol use": 0,
         "mntlill_no": 1,
         "mntlill_unknown": 0,
         "was_allegedly_armed": 0,
         "was_domestic_disturbance": 0,
         "was_fleeing": 1,
         "was_mental_health_welfare_check": 0,
         "was_person_with_a_weapon": 0,
         "was_traffic_stop": 0,
         "was_unarmed": 0,
         "was_violent_crime_part_1": 1
        },
        {
         "55-64": 0,
         "_deepnote_index_column": 3719,
         "age": 40,
         "body_camera": 0,
         "is_female": 0,
         "mntlill_drug or alcohol use": 1,
         "mntlill_no": 0,
         "mntlill_unknown": 0,
         "was_allegedly_armed": 0,
         "was_domestic_disturbance": 1,
         "was_fleeing": 0,
         "was_mental_health_welfare_check": 0,
         "was_person_with_a_weapon": 0,
         "was_traffic_stop": 0,
         "was_unarmed": 1,
         "was_violent_crime_part_1": 0
        },
        {
         "55-64": 0,
         "_deepnote_index_column": 3576,
         "age": 35,
         "body_camera": 0,
         "is_female": 0,
         "mntlill_drug or alcohol use": 0,
         "mntlill_no": 1,
         "mntlill_unknown": 0,
         "was_allegedly_armed": 1,
         "was_domestic_disturbance": 0,
         "was_fleeing": 0,
         "was_mental_health_welfare_check": 0,
         "was_person_with_a_weapon": 0,
         "was_traffic_stop": 0,
         "was_unarmed": 0,
         "was_violent_crime_part_1": 0
        },
        {
         "55-64": 0,
         "_deepnote_index_column": 1842,
         "age": 43,
         "body_camera": 0,
         "is_female": 0,
         "mntlill_drug or alcohol use": 0,
         "mntlill_no": 1,
         "mntlill_unknown": 0,
         "was_allegedly_armed": 1,
         "was_domestic_disturbance": 0,
         "was_fleeing": 0,
         "was_mental_health_welfare_check": 0,
         "was_person_with_a_weapon": 0,
         "was_traffic_stop": 0,
         "was_unarmed": 0,
         "was_violent_crime_part_1": 0
        },
        {
         "55-64": 1,
         "_deepnote_index_column": 2875,
         "age": 55,
         "body_camera": 0,
         "is_female": 0,
         "mntlill_drug or alcohol use": 0,
         "mntlill_no": 0,
         "mntlill_unknown": 0,
         "was_allegedly_armed": 1,
         "was_domestic_disturbance": 1,
         "was_fleeing": 1,
         "was_mental_health_welfare_check": 0,
         "was_person_with_a_weapon": 0,
         "was_traffic_stop": 0,
         "was_unarmed": 0,
         "was_violent_crime_part_1": 0
        },
        {
         "55-64": 0,
         "_deepnote_index_column": 5250,
         "age": 29,
         "body_camera": 0,
         "is_female": 0,
         "mntlill_drug or alcohol use": 0,
         "mntlill_no": 1,
         "mntlill_unknown": 0,
         "was_allegedly_armed": 1,
         "was_domestic_disturbance": 0,
         "was_fleeing": 1,
         "was_mental_health_welfare_check": 0,
         "was_person_with_a_weapon": 0,
         "was_traffic_stop": 0,
         "was_unarmed": 0,
         "was_violent_crime_part_1": 1
        },
        {
         "55-64": 0,
         "_deepnote_index_column": 4846,
         "age": 14,
         "body_camera": 1,
         "is_female": 0,
         "mntlill_drug or alcohol use": 0,
         "mntlill_no": 1,
         "mntlill_unknown": 0,
         "was_allegedly_armed": 1,
         "was_domestic_disturbance": 0,
         "was_fleeing": 1,
         "was_mental_health_welfare_check": 0,
         "was_person_with_a_weapon": 0,
         "was_traffic_stop": 0,
         "was_unarmed": 0,
         "was_violent_crime_part_1": 1
        },
        {
         "55-64": 0,
         "_deepnote_index_column": 277,
         "age": 43,
         "body_camera": 0,
         "is_female": 0,
         "mntlill_drug or alcohol use": 0,
         "mntlill_no": 0,
         "mntlill_unknown": 0,
         "was_allegedly_armed": 1,
         "was_domestic_disturbance": 0,
         "was_fleeing": 1,
         "was_mental_health_welfare_check": 0,
         "was_person_with_a_weapon": 0,
         "was_traffic_stop": 0,
         "was_unarmed": 0,
         "was_violent_crime_part_1": 1
        },
        {
         "55-64": 0,
         "_deepnote_index_column": 5085,
         "age": 30,
         "body_camera": 0,
         "is_female": 0,
         "mntlill_drug or alcohol use": 0,
         "mntlill_no": 0,
         "mntlill_unknown": 1,
         "was_allegedly_armed": 0,
         "was_domestic_disturbance": 0,
         "was_fleeing": 0,
         "was_mental_health_welfare_check": 0,
         "was_person_with_a_weapon": 0,
         "was_traffic_stop": 0,
         "was_unarmed": 1,
         "was_violent_crime_part_1": 1
        },
        {
         "55-64": 0,
         "_deepnote_index_column": 6990,
         "age": 34,
         "body_camera": 0,
         "is_female": 0,
         "mntlill_drug or alcohol use": 0,
         "mntlill_no": 1,
         "mntlill_unknown": 0,
         "was_allegedly_armed": 0,
         "was_domestic_disturbance": 0,
         "was_fleeing": 1,
         "was_mental_health_welfare_check": 0,
         "was_person_with_a_weapon": 0,
         "was_traffic_stop": 0,
         "was_unarmed": 1,
         "was_violent_crime_part_1": 1
        },
        {
         "55-64": 0,
         "_deepnote_index_column": 2079,
         "age": 28,
         "body_camera": 0,
         "is_female": 0,
         "mntlill_drug or alcohol use": 0,
         "mntlill_no": 1,
         "mntlill_unknown": 0,
         "was_allegedly_armed": 1,
         "was_domestic_disturbance": 0,
         "was_fleeing": 0,
         "was_mental_health_welfare_check": 0,
         "was_person_with_a_weapon": 0,
         "was_traffic_stop": 1,
         "was_unarmed": 0,
         "was_violent_crime_part_1": 0
        },
        {
         "55-64": 0,
         "_deepnote_index_column": 5155,
         "age": 29,
         "body_camera": 0,
         "is_female": 0,
         "mntlill_drug or alcohol use": 0,
         "mntlill_no": 0,
         "mntlill_unknown": 0,
         "was_allegedly_armed": 1,
         "was_domestic_disturbance": 0,
         "was_fleeing": 0,
         "was_mental_health_welfare_check": 0,
         "was_person_with_a_weapon": 0,
         "was_traffic_stop": 0,
         "was_unarmed": 0,
         "was_violent_crime_part_1": 1
        },
        {
         "55-64": 0,
         "_deepnote_index_column": 599,
         "age": 48,
         "body_camera": 0,
         "is_female": 0,
         "mntlill_drug or alcohol use": 0,
         "mntlill_no": 1,
         "mntlill_unknown": 0,
         "was_allegedly_armed": 1,
         "was_domestic_disturbance": 0,
         "was_fleeing": 0,
         "was_mental_health_welfare_check": 0,
         "was_person_with_a_weapon": 0,
         "was_traffic_stop": 0,
         "was_unarmed": 0,
         "was_violent_crime_part_1": 1
        },
        {
         "55-64": 0,
         "_deepnote_index_column": 3666,
         "age": 67,
         "body_camera": 0,
         "is_female": 0,
         "mntlill_drug or alcohol use": 0,
         "mntlill_no": 0,
         "mntlill_unknown": 1,
         "was_allegedly_armed": 1,
         "was_domestic_disturbance": 0,
         "was_fleeing": 0,
         "was_mental_health_welfare_check": 0,
         "was_person_with_a_weapon": 0,
         "was_traffic_stop": 0,
         "was_unarmed": 0,
         "was_violent_crime_part_1": 1
        },
        {
         "55-64": 0,
         "_deepnote_index_column": 4890,
         "age": 32,
         "body_camera": 0,
         "is_female": 0,
         "mntlill_drug or alcohol use": 0,
         "mntlill_no": 1,
         "mntlill_unknown": 0,
         "was_allegedly_armed": 0,
         "was_domestic_disturbance": 0,
         "was_fleeing": 1,
         "was_mental_health_welfare_check": 0,
         "was_person_with_a_weapon": 0,
         "was_traffic_stop": 0,
         "was_unarmed": 1,
         "was_violent_crime_part_1": 1
        },
        {
         "55-64": 0,
         "_deepnote_index_column": 3402,
         "age": 17,
         "body_camera": 0,
         "is_female": 0,
         "mntlill_drug or alcohol use": 0,
         "mntlill_no": 1,
         "mntlill_unknown": 0,
         "was_allegedly_armed": 1,
         "was_domestic_disturbance": 0,
         "was_fleeing": 0,
         "was_mental_health_welfare_check": 0,
         "was_person_with_a_weapon": 0,
         "was_traffic_stop": 1,
         "was_unarmed": 0,
         "was_violent_crime_part_1": 0
        },
        {
         "55-64": 0,
         "_deepnote_index_column": 8039,
         "age": 40,
         "body_camera": 0,
         "is_female": 0,
         "mntlill_drug or alcohol use": 1,
         "mntlill_no": 0,
         "mntlill_unknown": 0,
         "was_allegedly_armed": 1,
         "was_domestic_disturbance": 0,
         "was_fleeing": 1,
         "was_mental_health_welfare_check": 0,
         "was_person_with_a_weapon": 0,
         "was_traffic_stop": 0,
         "was_unarmed": 0,
         "was_violent_crime_part_1": 1
        },
        {
         "55-64": 0,
         "_deepnote_index_column": 7624,
         "age": 22,
         "body_camera": 0,
         "is_female": 0,
         "mntlill_drug or alcohol use": 0,
         "mntlill_no": 0,
         "mntlill_unknown": 1,
         "was_allegedly_armed": 1,
         "was_domestic_disturbance": 0,
         "was_fleeing": 1,
         "was_mental_health_welfare_check": 0,
         "was_person_with_a_weapon": 0,
         "was_traffic_stop": 0,
         "was_unarmed": 0,
         "was_violent_crime_part_1": 1
        },
        {
         "55-64": 0,
         "_deepnote_index_column": 1633,
         "age": 32,
         "body_camera": 0,
         "is_female": 0,
         "mntlill_drug or alcohol use": 0,
         "mntlill_no": 1,
         "mntlill_unknown": 0,
         "was_allegedly_armed": 1,
         "was_domestic_disturbance": 0,
         "was_fleeing": 1,
         "was_mental_health_welfare_check": 0,
         "was_person_with_a_weapon": 0,
         "was_traffic_stop": 0,
         "was_unarmed": 0,
         "was_violent_crime_part_1": 1
        },
        {
         "55-64": 0,
         "_deepnote_index_column": 3451,
         "age": 0,
         "body_camera": 0,
         "is_female": 0,
         "mntlill_drug or alcohol use": 0,
         "mntlill_no": 0,
         "mntlill_unknown": 0,
         "was_allegedly_armed": 1,
         "was_domestic_disturbance": 0,
         "was_fleeing": 0,
         "was_mental_health_welfare_check": 0,
         "was_person_with_a_weapon": 1,
         "was_traffic_stop": 0,
         "was_unarmed": 0,
         "was_violent_crime_part_1": 0
        },
        {
         "55-64": 0,
         "_deepnote_index_column": 3503,
         "age": 33,
         "body_camera": 1,
         "is_female": 0,
         "mntlill_drug or alcohol use": 1,
         "mntlill_no": 0,
         "mntlill_unknown": 0,
         "was_allegedly_armed": 1,
         "was_domestic_disturbance": 1,
         "was_fleeing": 0,
         "was_mental_health_welfare_check": 0,
         "was_person_with_a_weapon": 0,
         "was_traffic_stop": 0,
         "was_unarmed": 0,
         "was_violent_crime_part_1": 0
        },
        {
         "55-64": 0,
         "_deepnote_index_column": 46,
         "age": 25,
         "body_camera": 0,
         "is_female": 0,
         "mntlill_drug or alcohol use": 0,
         "mntlill_no": 1,
         "mntlill_unknown": 0,
         "was_allegedly_armed": 1,
         "was_domestic_disturbance": 0,
         "was_fleeing": 1,
         "was_mental_health_welfare_check": 0,
         "was_person_with_a_weapon": 0,
         "was_traffic_stop": 0,
         "was_unarmed": 0,
         "was_violent_crime_part_1": 1
        },
        {
         "55-64": 0,
         "_deepnote_index_column": 434,
         "age": 66,
         "body_camera": 0,
         "is_female": 0,
         "mntlill_drug or alcohol use": 0,
         "mntlill_no": 1,
         "mntlill_unknown": 0,
         "was_allegedly_armed": 1,
         "was_domestic_disturbance": 0,
         "was_fleeing": 0,
         "was_mental_health_welfare_check": 0,
         "was_person_with_a_weapon": 0,
         "was_traffic_stop": 0,
         "was_unarmed": 0,
         "was_violent_crime_part_1": 1
        },
        {
         "55-64": 1,
         "_deepnote_index_column": 5713,
         "age": 55,
         "body_camera": 0,
         "is_female": 1,
         "mntlill_drug or alcohol use": 0,
         "mntlill_no": 0,
         "mntlill_unknown": 0,
         "was_allegedly_armed": 1,
         "was_domestic_disturbance": 0,
         "was_fleeing": 0,
         "was_mental_health_welfare_check": 0,
         "was_person_with_a_weapon": 0,
         "was_traffic_stop": 0,
         "was_unarmed": 0,
         "was_violent_crime_part_1": 1
        },
        {
         "55-64": 0,
         "_deepnote_index_column": 814,
         "age": 31,
         "body_camera": 0,
         "is_female": 0,
         "mntlill_drug or alcohol use": 0,
         "mntlill_no": 1,
         "mntlill_unknown": 0,
         "was_allegedly_armed": 1,
         "was_domestic_disturbance": 0,
         "was_fleeing": 1,
         "was_mental_health_welfare_check": 0,
         "was_person_with_a_weapon": 0,
         "was_traffic_stop": 0,
         "was_unarmed": 0,
         "was_violent_crime_part_1": 1
        },
        {
         "55-64": 0,
         "_deepnote_index_column": 5162,
         "age": 38,
         "body_camera": 0,
         "is_female": 0,
         "mntlill_drug or alcohol use": 0,
         "mntlill_no": 1,
         "mntlill_unknown": 0,
         "was_allegedly_armed": 1,
         "was_domestic_disturbance": 0,
         "was_fleeing": 1,
         "was_mental_health_welfare_check": 0,
         "was_person_with_a_weapon": 0,
         "was_traffic_stop": 0,
         "was_unarmed": 0,
         "was_violent_crime_part_1": 1
        },
        {
         "55-64": 0,
         "_deepnote_index_column": 572,
         "age": 37,
         "body_camera": 0,
         "is_female": 0,
         "mntlill_drug or alcohol use": 0,
         "mntlill_no": 0,
         "mntlill_unknown": 1,
         "was_allegedly_armed": 0,
         "was_domestic_disturbance": 1,
         "was_fleeing": 0,
         "was_mental_health_welfare_check": 0,
         "was_person_with_a_weapon": 0,
         "was_traffic_stop": 0,
         "was_unarmed": 0,
         "was_violent_crime_part_1": 0
        },
        {
         "55-64": 0,
         "_deepnote_index_column": 5139,
         "age": 45,
         "body_camera": 1,
         "is_female": 0,
         "mntlill_drug or alcohol use": 0,
         "mntlill_no": 0,
         "mntlill_unknown": 0,
         "was_allegedly_armed": 1,
         "was_domestic_disturbance": 0,
         "was_fleeing": 0,
         "was_mental_health_welfare_check": 0,
         "was_person_with_a_weapon": 0,
         "was_traffic_stop": 0,
         "was_unarmed": 0,
         "was_violent_crime_part_1": 1
        },
        {
         "55-64": 0,
         "_deepnote_index_column": 4068,
         "age": 25,
         "body_camera": 0,
         "is_female": 0,
         "mntlill_drug or alcohol use": 0,
         "mntlill_no": 0,
         "mntlill_unknown": 1,
         "was_allegedly_armed": 1,
         "was_domestic_disturbance": 0,
         "was_fleeing": 0,
         "was_mental_health_welfare_check": 0,
         "was_person_with_a_weapon": 1,
         "was_traffic_stop": 0,
         "was_unarmed": 0,
         "was_violent_crime_part_1": 0
        },
        {
         "55-64": 0,
         "_deepnote_index_column": 1524,
         "age": 39,
         "body_camera": 0,
         "is_female": 0,
         "mntlill_drug or alcohol use": 0,
         "mntlill_no": 1,
         "mntlill_unknown": 0,
         "was_allegedly_armed": 1,
         "was_domestic_disturbance": 0,
         "was_fleeing": 0,
         "was_mental_health_welfare_check": 0,
         "was_person_with_a_weapon": 0,
         "was_traffic_stop": 0,
         "was_unarmed": 0,
         "was_violent_crime_part_1": 0
        },
        {
         "55-64": 0,
         "_deepnote_index_column": 5212,
         "age": 50,
         "body_camera": 0,
         "is_female": 1,
         "mntlill_drug or alcohol use": 0,
         "mntlill_no": 0,
         "mntlill_unknown": 0,
         "was_allegedly_armed": 1,
         "was_domestic_disturbance": 0,
         "was_fleeing": 0,
         "was_mental_health_welfare_check": 0,
         "was_person_with_a_weapon": 0,
         "was_traffic_stop": 0,
         "was_unarmed": 0,
         "was_violent_crime_part_1": 1
        }
       ],
       "rows_top": [
        {
         "55-64": 0,
         "_deepnote_index_column": 5178,
         "age": 26,
         "body_camera": 0,
         "is_female": 0,
         "mntlill_drug or alcohol use": 0,
         "mntlill_no": 1,
         "mntlill_unknown": 0,
         "was_allegedly_armed": 1,
         "was_domestic_disturbance": 0,
         "was_fleeing": 1,
         "was_mental_health_welfare_check": 0,
         "was_person_with_a_weapon": 0,
         "was_traffic_stop": 0,
         "was_unarmed": 0,
         "was_violent_crime_part_1": 1
        },
        {
         "55-64": 0,
         "_deepnote_index_column": 7584,
         "age": 49,
         "body_camera": 0,
         "is_female": 0,
         "mntlill_drug or alcohol use": 1,
         "mntlill_no": 0,
         "mntlill_unknown": 0,
         "was_allegedly_armed": 1,
         "was_domestic_disturbance": 0,
         "was_fleeing": 1,
         "was_mental_health_welfare_check": 0,
         "was_person_with_a_weapon": 0,
         "was_traffic_stop": 0,
         "was_unarmed": 0,
         "was_violent_crime_part_1": 1
        },
        {
         "55-64": 0,
         "_deepnote_index_column": 5887,
         "age": 18,
         "body_camera": 0,
         "is_female": 0,
         "mntlill_drug or alcohol use": 0,
         "mntlill_no": 0,
         "mntlill_unknown": 1,
         "was_allegedly_armed": 1,
         "was_domestic_disturbance": 0,
         "was_fleeing": 1,
         "was_mental_health_welfare_check": 0,
         "was_person_with_a_weapon": 0,
         "was_traffic_stop": 0,
         "was_unarmed": 0,
         "was_violent_crime_part_1": 1
        },
        {
         "55-64": 0,
         "_deepnote_index_column": 7382,
         "age": 31,
         "body_camera": 0,
         "is_female": 0,
         "mntlill_drug or alcohol use": 0,
         "mntlill_no": 0,
         "mntlill_unknown": 0,
         "was_allegedly_armed": 1,
         "was_domestic_disturbance": 0,
         "was_fleeing": 1,
         "was_mental_health_welfare_check": 0,
         "was_person_with_a_weapon": 0,
         "was_traffic_stop": 0,
         "was_unarmed": 0,
         "was_violent_crime_part_1": 1
        },
        {
         "55-64": 0,
         "_deepnote_index_column": 717,
         "age": 51,
         "body_camera": 1,
         "is_female": 0,
         "mntlill_drug or alcohol use": 0,
         "mntlill_no": 0,
         "mntlill_unknown": 0,
         "was_allegedly_armed": 1,
         "was_domestic_disturbance": 0,
         "was_fleeing": 0,
         "was_mental_health_welfare_check": 1,
         "was_person_with_a_weapon": 0,
         "was_traffic_stop": 0,
         "was_unarmed": 0,
         "was_violent_crime_part_1": 0
        },
        {
         "55-64": 0,
         "_deepnote_index_column": 6729,
         "age": 75,
         "body_camera": 0,
         "is_female": 0,
         "mntlill_drug or alcohol use": 0,
         "mntlill_no": 0,
         "mntlill_unknown": 1,
         "was_allegedly_armed": 1,
         "was_domestic_disturbance": 0,
         "was_fleeing": 1,
         "was_mental_health_welfare_check": 0,
         "was_person_with_a_weapon": 0,
         "was_traffic_stop": 0,
         "was_unarmed": 0,
         "was_violent_crime_part_1": 1
        },
        {
         "55-64": 0,
         "_deepnote_index_column": 3140,
         "age": 0,
         "body_camera": 0,
         "is_female": 0,
         "mntlill_drug or alcohol use": 1,
         "mntlill_no": 0,
         "mntlill_unknown": 0,
         "was_allegedly_armed": 1,
         "was_domestic_disturbance": 0,
         "was_fleeing": 1,
         "was_mental_health_welfare_check": 1,
         "was_person_with_a_weapon": 0,
         "was_traffic_stop": 0,
         "was_unarmed": 0,
         "was_violent_crime_part_1": 0
        },
        {
         "55-64": 0,
         "_deepnote_index_column": 7091,
         "age": 23,
         "body_camera": 0,
         "is_female": 0,
         "mntlill_drug or alcohol use": 0,
         "mntlill_no": 0,
         "mntlill_unknown": 0,
         "was_allegedly_armed": 1,
         "was_domestic_disturbance": 0,
         "was_fleeing": 1,
         "was_mental_health_welfare_check": 0,
         "was_person_with_a_weapon": 0,
         "was_traffic_stop": 0,
         "was_unarmed": 0,
         "was_violent_crime_part_1": 1
        },
        {
         "55-64": 0,
         "_deepnote_index_column": 6983,
         "age": 33,
         "body_camera": 0,
         "is_female": 0,
         "mntlill_drug or alcohol use": 0,
         "mntlill_no": 1,
         "mntlill_unknown": 0,
         "was_allegedly_armed": 1,
         "was_domestic_disturbance": 0,
         "was_fleeing": 1,
         "was_mental_health_welfare_check": 0,
         "was_person_with_a_weapon": 0,
         "was_traffic_stop": 0,
         "was_unarmed": 0,
         "was_violent_crime_part_1": 1
        },
        {
         "55-64": 0,
         "_deepnote_index_column": 4808,
         "age": 43,
         "body_camera": 0,
         "is_female": 0,
         "mntlill_drug or alcohol use": 0,
         "mntlill_no": 0,
         "mntlill_unknown": 0,
         "was_allegedly_armed": 1,
         "was_domestic_disturbance": 0,
         "was_fleeing": 0,
         "was_mental_health_welfare_check": 0,
         "was_person_with_a_weapon": 0,
         "was_traffic_stop": 0,
         "was_unarmed": 0,
         "was_violent_crime_part_1": 1
        },
        {
         "55-64": 0,
         "_deepnote_index_column": 2406,
         "age": 24,
         "body_camera": 0,
         "is_female": 0,
         "mntlill_drug or alcohol use": 0,
         "mntlill_no": 1,
         "mntlill_unknown": 0,
         "was_allegedly_armed": 1,
         "was_domestic_disturbance": 0,
         "was_fleeing": 1,
         "was_mental_health_welfare_check": 0,
         "was_person_with_a_weapon": 0,
         "was_traffic_stop": 1,
         "was_unarmed": 0,
         "was_violent_crime_part_1": 0
        },
        {
         "55-64": 0,
         "_deepnote_index_column": 7390,
         "age": 48,
         "body_camera": 0,
         "is_female": 1,
         "mntlill_drug or alcohol use": 0,
         "mntlill_no": 0,
         "mntlill_unknown": 0,
         "was_allegedly_armed": 1,
         "was_domestic_disturbance": 0,
         "was_fleeing": 1,
         "was_mental_health_welfare_check": 0,
         "was_person_with_a_weapon": 0,
         "was_traffic_stop": 0,
         "was_unarmed": 0,
         "was_violent_crime_part_1": 1
        },
        {
         "55-64": 0,
         "_deepnote_index_column": 6116,
         "age": 52,
         "body_camera": 0,
         "is_female": 0,
         "mntlill_drug or alcohol use": 0,
         "mntlill_no": 1,
         "mntlill_unknown": 0,
         "was_allegedly_armed": 1,
         "was_domestic_disturbance": 0,
         "was_fleeing": 0,
         "was_mental_health_welfare_check": 0,
         "was_person_with_a_weapon": 0,
         "was_traffic_stop": 0,
         "was_unarmed": 0,
         "was_violent_crime_part_1": 1
        },
        {
         "55-64": 0,
         "_deepnote_index_column": 1136,
         "age": 47,
         "body_camera": 0,
         "is_female": 0,
         "mntlill_drug or alcohol use": 0,
         "mntlill_no": 1,
         "mntlill_unknown": 0,
         "was_allegedly_armed": 0,
         "was_domestic_disturbance": 0,
         "was_fleeing": 1,
         "was_mental_health_welfare_check": 0,
         "was_person_with_a_weapon": 1,
         "was_traffic_stop": 0,
         "was_unarmed": 0,
         "was_violent_crime_part_1": 0
        },
        {
         "55-64": 0,
         "_deepnote_index_column": 49,
         "age": 26,
         "body_camera": 0,
         "is_female": 0,
         "mntlill_drug or alcohol use": 0,
         "mntlill_no": 0,
         "mntlill_unknown": 0,
         "was_allegedly_armed": 1,
         "was_domestic_disturbance": 0,
         "was_fleeing": 0,
         "was_mental_health_welfare_check": 0,
         "was_person_with_a_weapon": 1,
         "was_traffic_stop": 0,
         "was_unarmed": 0,
         "was_violent_crime_part_1": 0
        },
        {
         "55-64": 0,
         "_deepnote_index_column": 5617,
         "age": 35,
         "body_camera": 0,
         "is_female": 0,
         "mntlill_drug or alcohol use": 0,
         "mntlill_no": 0,
         "mntlill_unknown": 1,
         "was_allegedly_armed": 1,
         "was_domestic_disturbance": 0,
         "was_fleeing": 0,
         "was_mental_health_welfare_check": 0,
         "was_person_with_a_weapon": 0,
         "was_traffic_stop": 0,
         "was_unarmed": 0,
         "was_violent_crime_part_1": 1
        },
        {
         "55-64": 0,
         "_deepnote_index_column": 910,
         "age": 26,
         "body_camera": 0,
         "is_female": 0,
         "mntlill_drug or alcohol use": 0,
         "mntlill_no": 1,
         "mntlill_unknown": 0,
         "was_allegedly_armed": 1,
         "was_domestic_disturbance": 0,
         "was_fleeing": 0,
         "was_mental_health_welfare_check": 0,
         "was_person_with_a_weapon": 0,
         "was_traffic_stop": 0,
         "was_unarmed": 0,
         "was_violent_crime_part_1": 0
        },
        {
         "55-64": 0,
         "_deepnote_index_column": 8276,
         "age": 30,
         "body_camera": 0,
         "is_female": 0,
         "mntlill_drug or alcohol use": 0,
         "mntlill_no": 1,
         "mntlill_unknown": 0,
         "was_allegedly_armed": 0,
         "was_domestic_disturbance": 0,
         "was_fleeing": 1,
         "was_mental_health_welfare_check": 0,
         "was_person_with_a_weapon": 0,
         "was_traffic_stop": 0,
         "was_unarmed": 0,
         "was_violent_crime_part_1": 1
        },
        {
         "55-64": 0,
         "_deepnote_index_column": 2741,
         "age": 15,
         "body_camera": 0,
         "is_female": 0,
         "mntlill_drug or alcohol use": 0,
         "mntlill_no": 1,
         "mntlill_unknown": 0,
         "was_allegedly_armed": 1,
         "was_domestic_disturbance": 0,
         "was_fleeing": 0,
         "was_mental_health_welfare_check": 0,
         "was_person_with_a_weapon": 0,
         "was_traffic_stop": 1,
         "was_unarmed": 0,
         "was_violent_crime_part_1": 0
        },
        {
         "55-64": 0,
         "_deepnote_index_column": 6122,
         "age": 34,
         "body_camera": 1,
         "is_female": 0,
         "mntlill_drug or alcohol use": 0,
         "mntlill_no": 0,
         "mntlill_unknown": 0,
         "was_allegedly_armed": 1,
         "was_domestic_disturbance": 0,
         "was_fleeing": 1,
         "was_mental_health_welfare_check": 0,
         "was_person_with_a_weapon": 0,
         "was_traffic_stop": 0,
         "was_unarmed": 0,
         "was_violent_crime_part_1": 1
        },
        {
         "55-64": 0,
         "_deepnote_index_column": 7237,
         "age": 27,
         "body_camera": 0,
         "is_female": 1,
         "mntlill_drug or alcohol use": 0,
         "mntlill_no": 1,
         "mntlill_unknown": 0,
         "was_allegedly_armed": 1,
         "was_domestic_disturbance": 0,
         "was_fleeing": 1,
         "was_mental_health_welfare_check": 0,
         "was_person_with_a_weapon": 0,
         "was_traffic_stop": 0,
         "was_unarmed": 0,
         "was_violent_crime_part_1": 1
        },
        {
         "55-64": 0,
         "_deepnote_index_column": 2645,
         "age": 49,
         "body_camera": 0,
         "is_female": 0,
         "mntlill_drug or alcohol use": 0,
         "mntlill_no": 1,
         "mntlill_unknown": 0,
         "was_allegedly_armed": 1,
         "was_domestic_disturbance": 1,
         "was_fleeing": 1,
         "was_mental_health_welfare_check": 0,
         "was_person_with_a_weapon": 0,
         "was_traffic_stop": 0,
         "was_unarmed": 0,
         "was_violent_crime_part_1": 0
        },
        {
         "55-64": 0,
         "_deepnote_index_column": 2112,
         "age": 24,
         "body_camera": 0,
         "is_female": 0,
         "mntlill_drug or alcohol use": 0,
         "mntlill_no": 1,
         "mntlill_unknown": 0,
         "was_allegedly_armed": 1,
         "was_domestic_disturbance": 1,
         "was_fleeing": 0,
         "was_mental_health_welfare_check": 0,
         "was_person_with_a_weapon": 0,
         "was_traffic_stop": 0,
         "was_unarmed": 0,
         "was_violent_crime_part_1": 0
        },
        {
         "55-64": 0,
         "_deepnote_index_column": 3229,
         "age": 28,
         "body_camera": 0,
         "is_female": 0,
         "mntlill_drug or alcohol use": 0,
         "mntlill_no": 0,
         "mntlill_unknown": 0,
         "was_allegedly_armed": 1,
         "was_domestic_disturbance": 0,
         "was_fleeing": 0,
         "was_mental_health_welfare_check": 0,
         "was_person_with_a_weapon": 0,
         "was_traffic_stop": 0,
         "was_unarmed": 0,
         "was_violent_crime_part_1": 0
        },
        {
         "55-64": 0,
         "_deepnote_index_column": 8231,
         "age": 30,
         "body_camera": 0,
         "is_female": 0,
         "mntlill_drug or alcohol use": 0,
         "mntlill_no": 1,
         "mntlill_unknown": 0,
         "was_allegedly_armed": 1,
         "was_domestic_disturbance": 0,
         "was_fleeing": 1,
         "was_mental_health_welfare_check": 0,
         "was_person_with_a_weapon": 0,
         "was_traffic_stop": 0,
         "was_unarmed": 0,
         "was_violent_crime_part_1": 1
        },
        {
         "55-64": 0,
         "_deepnote_index_column": 1407,
         "age": 31,
         "body_camera": 0,
         "is_female": 0,
         "mntlill_drug or alcohol use": 0,
         "mntlill_no": 1,
         "mntlill_unknown": 0,
         "was_allegedly_armed": 1,
         "was_domestic_disturbance": 1,
         "was_fleeing": 1,
         "was_mental_health_welfare_check": 0,
         "was_person_with_a_weapon": 0,
         "was_traffic_stop": 0,
         "was_unarmed": 0,
         "was_violent_crime_part_1": 0
        },
        {
         "55-64": 0,
         "_deepnote_index_column": 2202,
         "age": 51,
         "body_camera": 0,
         "is_female": 0,
         "mntlill_drug or alcohol use": 0,
         "mntlill_no": 1,
         "mntlill_unknown": 0,
         "was_allegedly_armed": 1,
         "was_domestic_disturbance": 0,
         "was_fleeing": 0,
         "was_mental_health_welfare_check": 0,
         "was_person_with_a_weapon": 0,
         "was_traffic_stop": 0,
         "was_unarmed": 0,
         "was_violent_crime_part_1": 1
        },
        {
         "55-64": 0,
         "_deepnote_index_column": 2011,
         "age": 39,
         "body_camera": 0,
         "is_female": 0,
         "mntlill_drug or alcohol use": 0,
         "mntlill_no": 1,
         "mntlill_unknown": 0,
         "was_allegedly_armed": 1,
         "was_domestic_disturbance": 0,
         "was_fleeing": 0,
         "was_mental_health_welfare_check": 0,
         "was_person_with_a_weapon": 0,
         "was_traffic_stop": 0,
         "was_unarmed": 0,
         "was_violent_crime_part_1": 0
        },
        {
         "55-64": 0,
         "_deepnote_index_column": 1523,
         "age": 45,
         "body_camera": 1,
         "is_female": 0,
         "mntlill_drug or alcohol use": 0,
         "mntlill_no": 0,
         "mntlill_unknown": 1,
         "was_allegedly_armed": 0,
         "was_domestic_disturbance": 0,
         "was_fleeing": 0,
         "was_mental_health_welfare_check": 0,
         "was_person_with_a_weapon": 0,
         "was_traffic_stop": 0,
         "was_unarmed": 0,
         "was_violent_crime_part_1": 0
        },
        {
         "55-64": 0,
         "_deepnote_index_column": 2915,
         "age": 65,
         "body_camera": 0,
         "is_female": 0,
         "mntlill_drug or alcohol use": 0,
         "mntlill_no": 1,
         "mntlill_unknown": 0,
         "was_allegedly_armed": 1,
         "was_domestic_disturbance": 1,
         "was_fleeing": 0,
         "was_mental_health_welfare_check": 0,
         "was_person_with_a_weapon": 0,
         "was_traffic_stop": 0,
         "was_unarmed": 0,
         "was_violent_crime_part_1": 0
        },
        {
         "55-64": 0,
         "_deepnote_index_column": 6430,
         "age": 17,
         "body_camera": 0,
         "is_female": 0,
         "mntlill_drug or alcohol use": 0,
         "mntlill_no": 1,
         "mntlill_unknown": 0,
         "was_allegedly_armed": 1,
         "was_domestic_disturbance": 0,
         "was_fleeing": 0,
         "was_mental_health_welfare_check": 0,
         "was_person_with_a_weapon": 0,
         "was_traffic_stop": 0,
         "was_unarmed": 0,
         "was_violent_crime_part_1": 1
        },
        {
         "55-64": 0,
         "_deepnote_index_column": 5235,
         "age": 25,
         "body_camera": 0,
         "is_female": 0,
         "mntlill_drug or alcohol use": 0,
         "mntlill_no": 0,
         "mntlill_unknown": 0,
         "was_allegedly_armed": 0,
         "was_domestic_disturbance": 0,
         "was_fleeing": 0,
         "was_mental_health_welfare_check": 0,
         "was_person_with_a_weapon": 0,
         "was_traffic_stop": 0,
         "was_unarmed": 1,
         "was_violent_crime_part_1": 1
        },
        {
         "55-64": 0,
         "_deepnote_index_column": 8216,
         "age": 22,
         "body_camera": 0,
         "is_female": 0,
         "mntlill_drug or alcohol use": 0,
         "mntlill_no": 0,
         "mntlill_unknown": 1,
         "was_allegedly_armed": 0,
         "was_domestic_disturbance": 0,
         "was_fleeing": 1,
         "was_mental_health_welfare_check": 0,
         "was_person_with_a_weapon": 0,
         "was_traffic_stop": 0,
         "was_unarmed": 1,
         "was_violent_crime_part_1": 1
        }
       ]
      },
      "text/html": [
       "<div>\n",
       "<style scoped>\n",
       "    .dataframe tbody tr th:only-of-type {\n",
       "        vertical-align: middle;\n",
       "    }\n",
       "\n",
       "    .dataframe tbody tr th {\n",
       "        vertical-align: top;\n",
       "    }\n",
       "\n",
       "    .dataframe thead th {\n",
       "        text-align: right;\n",
       "    }\n",
       "</style>\n",
       "<table border=\"1\" class=\"dataframe\">\n",
       "  <thead>\n",
       "    <tr style=\"text-align: right;\">\n",
       "      <th></th>\n",
       "      <th>age</th>\n",
       "      <th>body_camera</th>\n",
       "      <th>is_female</th>\n",
       "      <th>was_fleeing</th>\n",
       "      <th>was_allegedly_armed</th>\n",
       "      <th>was_unarmed</th>\n",
       "      <th>was_domestic_disturbance</th>\n",
       "      <th>was_mental_health_welfare_check</th>\n",
       "      <th>was_person_with_a_weapon</th>\n",
       "      <th>was_traffic_stop</th>\n",
       "      <th>was_violent_crime_part_1</th>\n",
       "      <th>mntlill_drug or alcohol use</th>\n",
       "      <th>mntlill_no</th>\n",
       "      <th>mntlill_unknown</th>\n",
       "      <th>55-64</th>\n",
       "    </tr>\n",
       "  </thead>\n",
       "  <tbody>\n",
       "    <tr>\n",
       "      <th>5178</th>\n",
       "      <td>26</td>\n",
       "      <td>0.0</td>\n",
       "      <td>0</td>\n",
       "      <td>1.0</td>\n",
       "      <td>1.0</td>\n",
       "      <td>0.0</td>\n",
       "      <td>0</td>\n",
       "      <td>0</td>\n",
       "      <td>0</td>\n",
       "      <td>0</td>\n",
       "      <td>1</td>\n",
       "      <td>0</td>\n",
       "      <td>1</td>\n",
       "      <td>0</td>\n",
       "      <td>0</td>\n",
       "    </tr>\n",
       "    <tr>\n",
       "      <th>7584</th>\n",
       "      <td>49</td>\n",
       "      <td>0.0</td>\n",
       "      <td>0</td>\n",
       "      <td>1.0</td>\n",
       "      <td>1.0</td>\n",
       "      <td>0.0</td>\n",
       "      <td>0</td>\n",
       "      <td>0</td>\n",
       "      <td>0</td>\n",
       "      <td>0</td>\n",
       "      <td>1</td>\n",
       "      <td>1</td>\n",
       "      <td>0</td>\n",
       "      <td>0</td>\n",
       "      <td>0</td>\n",
       "    </tr>\n",
       "    <tr>\n",
       "      <th>5887</th>\n",
       "      <td>18</td>\n",
       "      <td>0.0</td>\n",
       "      <td>0</td>\n",
       "      <td>1.0</td>\n",
       "      <td>1.0</td>\n",
       "      <td>0.0</td>\n",
       "      <td>0</td>\n",
       "      <td>0</td>\n",
       "      <td>0</td>\n",
       "      <td>0</td>\n",
       "      <td>1</td>\n",
       "      <td>0</td>\n",
       "      <td>0</td>\n",
       "      <td>1</td>\n",
       "      <td>0</td>\n",
       "    </tr>\n",
       "    <tr>\n",
       "      <th>7382</th>\n",
       "      <td>31</td>\n",
       "      <td>0.0</td>\n",
       "      <td>0</td>\n",
       "      <td>1.0</td>\n",
       "      <td>1.0</td>\n",
       "      <td>0.0</td>\n",
       "      <td>0</td>\n",
       "      <td>0</td>\n",
       "      <td>0</td>\n",
       "      <td>0</td>\n",
       "      <td>1</td>\n",
       "      <td>0</td>\n",
       "      <td>0</td>\n",
       "      <td>0</td>\n",
       "      <td>0</td>\n",
       "    </tr>\n",
       "    <tr>\n",
       "      <th>717</th>\n",
       "      <td>51</td>\n",
       "      <td>1.0</td>\n",
       "      <td>0</td>\n",
       "      <td>0.0</td>\n",
       "      <td>1.0</td>\n",
       "      <td>0.0</td>\n",
       "      <td>0</td>\n",
       "      <td>1</td>\n",
       "      <td>0</td>\n",
       "      <td>0</td>\n",
       "      <td>0</td>\n",
       "      <td>0</td>\n",
       "      <td>0</td>\n",
       "      <td>0</td>\n",
       "      <td>0</td>\n",
       "    </tr>\n",
       "    <tr>\n",
       "      <th>...</th>\n",
       "      <td>...</td>\n",
       "      <td>...</td>\n",
       "      <td>...</td>\n",
       "      <td>...</td>\n",
       "      <td>...</td>\n",
       "      <td>...</td>\n",
       "      <td>...</td>\n",
       "      <td>...</td>\n",
       "      <td>...</td>\n",
       "      <td>...</td>\n",
       "      <td>...</td>\n",
       "      <td>...</td>\n",
       "      <td>...</td>\n",
       "      <td>...</td>\n",
       "      <td>...</td>\n",
       "    </tr>\n",
       "    <tr>\n",
       "      <th>572</th>\n",
       "      <td>37</td>\n",
       "      <td>0.0</td>\n",
       "      <td>0</td>\n",
       "      <td>0.0</td>\n",
       "      <td>0.0</td>\n",
       "      <td>0.0</td>\n",
       "      <td>1</td>\n",
       "      <td>0</td>\n",
       "      <td>0</td>\n",
       "      <td>0</td>\n",
       "      <td>0</td>\n",
       "      <td>0</td>\n",
       "      <td>0</td>\n",
       "      <td>1</td>\n",
       "      <td>0</td>\n",
       "    </tr>\n",
       "    <tr>\n",
       "      <th>5139</th>\n",
       "      <td>45</td>\n",
       "      <td>1.0</td>\n",
       "      <td>0</td>\n",
       "      <td>0.0</td>\n",
       "      <td>1.0</td>\n",
       "      <td>0.0</td>\n",
       "      <td>0</td>\n",
       "      <td>0</td>\n",
       "      <td>0</td>\n",
       "      <td>0</td>\n",
       "      <td>1</td>\n",
       "      <td>0</td>\n",
       "      <td>0</td>\n",
       "      <td>0</td>\n",
       "      <td>0</td>\n",
       "    </tr>\n",
       "    <tr>\n",
       "      <th>4068</th>\n",
       "      <td>25</td>\n",
       "      <td>0.0</td>\n",
       "      <td>0</td>\n",
       "      <td>0.0</td>\n",
       "      <td>1.0</td>\n",
       "      <td>0.0</td>\n",
       "      <td>0</td>\n",
       "      <td>0</td>\n",
       "      <td>1</td>\n",
       "      <td>0</td>\n",
       "      <td>0</td>\n",
       "      <td>0</td>\n",
       "      <td>0</td>\n",
       "      <td>1</td>\n",
       "      <td>0</td>\n",
       "    </tr>\n",
       "    <tr>\n",
       "      <th>1524</th>\n",
       "      <td>39</td>\n",
       "      <td>0.0</td>\n",
       "      <td>0</td>\n",
       "      <td>0.0</td>\n",
       "      <td>1.0</td>\n",
       "      <td>0.0</td>\n",
       "      <td>0</td>\n",
       "      <td>0</td>\n",
       "      <td>0</td>\n",
       "      <td>0</td>\n",
       "      <td>0</td>\n",
       "      <td>0</td>\n",
       "      <td>1</td>\n",
       "      <td>0</td>\n",
       "      <td>0</td>\n",
       "    </tr>\n",
       "    <tr>\n",
       "      <th>5212</th>\n",
       "      <td>50</td>\n",
       "      <td>0.0</td>\n",
       "      <td>1</td>\n",
       "      <td>0.0</td>\n",
       "      <td>1.0</td>\n",
       "      <td>0.0</td>\n",
       "      <td>0</td>\n",
       "      <td>0</td>\n",
       "      <td>0</td>\n",
       "      <td>0</td>\n",
       "      <td>1</td>\n",
       "      <td>0</td>\n",
       "      <td>0</td>\n",
       "      <td>0</td>\n",
       "      <td>0</td>\n",
       "    </tr>\n",
       "  </tbody>\n",
       "</table>\n",
       "<p>4834 rows × 15 columns</p>\n",
       "</div>"
      ],
      "text/plain": [
       "      age  body_camera  is_female  was_fleeing  was_allegedly_armed  \\\n",
       "5178   26          0.0          0          1.0                  1.0   \n",
       "7584   49          0.0          0          1.0                  1.0   \n",
       "5887   18          0.0          0          1.0                  1.0   \n",
       "7382   31          0.0          0          1.0                  1.0   \n",
       "717    51          1.0          0          0.0                  1.0   \n",
       "...   ...          ...        ...          ...                  ...   \n",
       "572    37          0.0          0          0.0                  0.0   \n",
       "5139   45          1.0          0          0.0                  1.0   \n",
       "4068   25          0.0          0          0.0                  1.0   \n",
       "1524   39          0.0          0          0.0                  1.0   \n",
       "5212   50          0.0          1          0.0                  1.0   \n",
       "\n",
       "      was_unarmed  was_domestic_disturbance  was_mental_health_welfare_check  \\\n",
       "5178          0.0                         0                                0   \n",
       "7584          0.0                         0                                0   \n",
       "5887          0.0                         0                                0   \n",
       "7382          0.0                         0                                0   \n",
       "717           0.0                         0                                1   \n",
       "...           ...                       ...                              ...   \n",
       "572           0.0                         1                                0   \n",
       "5139          0.0                         0                                0   \n",
       "4068          0.0                         0                                0   \n",
       "1524          0.0                         0                                0   \n",
       "5212          0.0                         0                                0   \n",
       "\n",
       "      was_person_with_a_weapon  was_traffic_stop  was_violent_crime_part_1  \\\n",
       "5178                         0                 0                         1   \n",
       "7584                         0                 0                         1   \n",
       "5887                         0                 0                         1   \n",
       "7382                         0                 0                         1   \n",
       "717                          0                 0                         0   \n",
       "...                        ...               ...                       ...   \n",
       "572                          0                 0                         0   \n",
       "5139                         0                 0                         1   \n",
       "4068                         1                 0                         0   \n",
       "1524                         0                 0                         0   \n",
       "5212                         0                 0                         1   \n",
       "\n",
       "      mntlill_drug or alcohol use  mntlill_no  mntlill_unknown  55-64  \n",
       "5178                            0           1                0      0  \n",
       "7584                            1           0                0      0  \n",
       "5887                            0           0                1      0  \n",
       "7382                            0           0                0      0  \n",
       "717                             0           0                0      0  \n",
       "...                           ...         ...              ...    ...  \n",
       "572                             0           0                1      0  \n",
       "5139                            0           0                0      0  \n",
       "4068                            0           0                1      0  \n",
       "1524                            0           1                0      0  \n",
       "5212                            0           0                0      0  \n",
       "\n",
       "[4834 rows x 15 columns]"
      ]
     },
     "execution_count": 31,
     "metadata": {},
     "output_type": "execute_result"
    }
   ],
   "source": [
    "train2[f_feature]"
   ]
  },
  {
   "cell_type": "code",
   "execution_count": 32,
   "metadata": {
    "cell_id": "00028-aa323faf-f504-4482-9ede-3324036a4baf",
    "deepnote_cell_type": "code",
    "deepnote_to_be_reexecuted": false,
    "execution_millis": 7,
    "execution_start": 1621959100125,
    "source_hash": "a5d8ceeb",
    "tags": []
   },
   "outputs": [
    {
     "data": {
      "text/plain": [
       "KNeighborsClassifier()"
      ]
     },
     "execution_count": 32,
     "metadata": {},
     "output_type": "execute_result"
    }
   ],
   "source": [
    "# Create KNN object (thing)\n",
    "# weights = ['uniform', 'density']\n",
    "knn = KNeighborsClassifier(n_neighbors=5, weights='uniform')\n",
    "# fit the model (thing)\n",
    "knn.fit(train[f_feature], y_train)"
   ]
  },
  {
   "cell_type": "code",
   "execution_count": 33,
   "metadata": {
    "cell_id": "00030-95a27823-1b51-4ed0-90e4-24e510355733",
    "deepnote_cell_type": "code",
    "deepnote_to_be_reexecuted": false,
    "execution_millis": 1364,
    "execution_start": 1621959100126,
    "source_hash": "c6cb09d",
    "tags": []
   },
   "outputs": [
    {
     "name": "stdout",
     "output_type": "stream",
     "text": [
      "\n",
      "    BASELINE accuracy is: 51.01%\n",
      "    The accuracy for our model is: 74.18287% \n",
      "    \n"
     ]
    },
    {
     "data": {
      "text/plain": [
       "(array([[1773,  693],\n",
       "        [ 555, 1813]]),\n",
       "                      0            1\n",
       " precision     0.761598     0.723464\n",
       " recall        0.718978     0.765625\n",
       " f1-score      0.739675     0.743947\n",
       " support    2466.000000  2368.000000)"
      ]
     },
     "execution_count": 33,
     "metadata": {},
     "output_type": "execute_result"
    }
   ],
   "source": [
    "# Use the model (thing)\n",
    "# Select k Best features\n",
    "get_metrics(knn, train[f_feature], y_train)"
   ]
  },
  {
   "cell_type": "code",
   "execution_count": 34,
   "metadata": {
    "cell_id": "00032-233b71c5-3606-439d-979b-5d112dd87474",
    "deepnote_cell_type": "code",
    "deepnote_to_be_reexecuted": false,
    "execution_millis": 108,
    "execution_start": 1621959101493,
    "source_hash": "9c2ffda0",
    "tags": []
   },
   "outputs": [
    {
     "data": {
      "text/plain": [
       "KNeighborsClassifier()"
      ]
     },
     "execution_count": 34,
     "metadata": {},
     "output_type": "execute_result"
    }
   ],
   "source": [
    "# Create KNN object (thing)\n",
    "# weights = ['uniform', 'density']\n",
    "knn = KNeighborsClassifier(n_neighbors=5, weights='uniform')\n",
    "# fit the model (thing)\n",
    "knn.fit(train[rfe_list], y_train)"
   ]
  },
  {
   "cell_type": "code",
   "execution_count": 35,
   "metadata": {
    "cell_id": "00029-b2603416-7d07-4649-a0a5-68f944b914c6",
    "deepnote_cell_type": "code",
    "deepnote_to_be_reexecuted": false,
    "execution_millis": 2854,
    "execution_start": 1621959101596,
    "source_hash": "ceb27fc7",
    "tags": []
   },
   "outputs": [
    {
     "name": "stdout",
     "output_type": "stream",
     "text": [
      "\n",
      "    BASELINE accuracy is: 51.01%\n",
      "    The accuracy for our model is: 68.61812% \n",
      "    \n"
     ]
    },
    {
     "data": {
      "text/plain": [
       "(array([[1544,  922],\n",
       "        [ 595, 1773]]),\n",
       "                      0            1\n",
       " precision     0.721833     0.657885\n",
       " recall        0.626115     0.748733\n",
       " f1-score      0.670575     0.700375\n",
       " support    2466.000000  2368.000000)"
      ]
     },
     "execution_count": 35,
     "metadata": {},
     "output_type": "execute_result"
    }
   ],
   "source": [
    "# Use the model (thing)\n",
    "# Select k Best features\n",
    "get_metrics(knn, train[rfe_list], y_train)"
   ]
  },
  {
   "cell_type": "code",
   "execution_count": 36,
   "metadata": {
    "cell_id": "00034-748213d3-a405-42d9-bc2e-9496ee51b8a1",
    "deepnote_cell_type": "code",
    "deepnote_to_be_reexecuted": false,
    "execution_millis": 49,
    "execution_start": 1621959104445,
    "source_hash": "41aab748",
    "tags": []
   },
   "outputs": [
    {
     "data": {
      "text/plain": [
       "KNeighborsClassifier()"
      ]
     },
     "execution_count": 36,
     "metadata": {},
     "output_type": "execute_result"
    }
   ],
   "source": [
    "# Create KNN object (thing)\n",
    "# weights = ['uniform', 'density']\n",
    "knn = KNeighborsClassifier(n_neighbors=5, weights='uniform')\n",
    "# fit the model (thing)\n",
    "knn.fit(train[combo_feats], y_train)"
   ]
  },
  {
   "cell_type": "code",
   "execution_count": 37,
   "metadata": {
    "cell_id": "00035-74b4dfb4-9474-4237-869c-0f986b11ccef",
    "deepnote_cell_type": "code",
    "deepnote_to_be_reexecuted": false,
    "execution_millis": 4009,
    "execution_start": 1621959104491,
    "source_hash": "a1efc99e",
    "tags": []
   },
   "outputs": [
    {
     "name": "stdout",
     "output_type": "stream",
     "text": [
      "\n",
      "    BASELINE accuracy is: 51.01%\n",
      "    The accuracy for our model is: 75.69301% \n",
      "    \n"
     ]
    },
    {
     "data": {
      "text/plain": [
       "(array([[1824,  642],\n",
       "        [ 533, 1835]]),\n",
       "                      0            1\n",
       " precision     0.773865     0.740816\n",
       " recall        0.739659     0.774916\n",
       " f1-score      0.756376     0.757482\n",
       " support    2466.000000  2368.000000)"
      ]
     },
     "execution_count": 37,
     "metadata": {},
     "output_type": "execute_result"
    }
   ],
   "source": [
    "# Use the model (thing)\n",
    "# Select k Best features\n",
    "get_metrics(knn, train[combo_feats], y_train)"
   ]
  },
  {
   "cell_type": "markdown",
   "metadata": {
    "cell_id": "00034-a3db0725-6416-4961-b6c8-bd35a35100d1",
    "deepnote_cell_type": "markdown",
    "tags": []
   },
   "source": [
    "## Validate"
   ]
  },
  {
   "cell_type": "code",
   "execution_count": 38,
   "metadata": {
    "cell_id": "00038-a8fb922f-b35d-4db8-a15f-a512278fdfb8",
    "deepnote_cell_type": "code",
    "deepnote_to_be_reexecuted": false,
    "execution_millis": 98,
    "execution_start": 1621959108497,
    "source_hash": "a5d8ceeb",
    "tags": []
   },
   "outputs": [
    {
     "data": {
      "text/plain": [
       "KNeighborsClassifier()"
      ]
     },
     "execution_count": 38,
     "metadata": {},
     "output_type": "execute_result"
    }
   ],
   "source": [
    "# Create KNN object (thing)\n",
    "# weights = ['uniform', 'density']\n",
    "knn = KNeighborsClassifier(n_neighbors=5, weights='uniform')\n",
    "# fit the model (thing)\n",
    "knn.fit(train[f_feature], y_train)"
   ]
  },
  {
   "cell_type": "code",
   "execution_count": 39,
   "metadata": {
    "cell_id": "00031-99b28b0f-ba29-407f-9680-df91ab53a171",
    "deepnote_cell_type": "code",
    "deepnote_to_be_reexecuted": false,
    "execution_millis": 714,
    "execution_start": 1621959108591,
    "source_hash": "a576bb5c",
    "tags": []
   },
   "outputs": [
    {
     "name": "stdout",
     "output_type": "stream",
     "text": [
      "\n",
      "    BASELINE accuracy is: 51.01%\n",
      "    The accuracy for our model is: 65.60540% \n",
      "    \n"
     ]
    },
    {
     "data": {
      "text/plain": [
       "(array([[684, 369],\n",
       "        [344, 676]]),\n",
       "                      0            1\n",
       " precision     0.665370     0.646890\n",
       " recall        0.649573     0.662745\n",
       " f1-score      0.657376     0.654722\n",
       " support    1053.000000  1020.000000)"
      ]
     },
     "execution_count": 39,
     "metadata": {},
     "output_type": "execute_result"
    }
   ],
   "source": [
    "# Use the model (thing)\n",
    "# Select k Best features\n",
    "get_metrics(knn, validate[f_feature], y_validate)"
   ]
  },
  {
   "cell_type": "code",
   "execution_count": 40,
   "metadata": {
    "cell_id": "00039-07a289a2-eae1-43e7-b5e9-60ec870e96fa",
    "deepnote_cell_type": "code",
    "deepnote_to_be_reexecuted": false,
    "execution_millis": 119,
    "execution_start": 1621959109300,
    "source_hash": "9c2ffda0",
    "tags": []
   },
   "outputs": [
    {
     "data": {
      "text/plain": [
       "KNeighborsClassifier()"
      ]
     },
     "execution_count": 40,
     "metadata": {},
     "output_type": "execute_result"
    }
   ],
   "source": [
    "# Create KNN object (thing)\n",
    "# weights = ['uniform', 'density']\n",
    "knn = KNeighborsClassifier(n_neighbors=5, weights='uniform')\n",
    "# fit the model (thing)\n",
    "knn.fit(train[rfe_list], y_train)"
   ]
  },
  {
   "cell_type": "code",
   "execution_count": 41,
   "metadata": {
    "cell_id": "00033-66db8a23-2fbe-4205-82f6-22e987c4d43e",
    "deepnote_cell_type": "code",
    "deepnote_to_be_reexecuted": false,
    "execution_millis": 1511,
    "execution_start": 1621959109512,
    "source_hash": "b8f27c5c",
    "tags": []
   },
   "outputs": [
    {
     "name": "stdout",
     "output_type": "stream",
     "text": [
      "\n",
      "    BASELINE accuracy is: 51.01%\n",
      "    The accuracy for our model is: 66.85962% \n",
      "    \n"
     ]
    },
    {
     "data": {
      "text/plain": [
       "(array([[638, 415],\n",
       "        [272, 748]]),\n",
       "                      0            1\n",
       " precision     0.701099     0.643164\n",
       " recall        0.605888     0.733333\n",
       " f1-score      0.650025     0.685295\n",
       " support    1053.000000  1020.000000)"
      ]
     },
     "execution_count": 41,
     "metadata": {},
     "output_type": "execute_result"
    }
   ],
   "source": [
    "# Use the model (thing)\n",
    "# Select k Best features\n",
    "get_metrics(knn, validate[rfe_list], y_validate)"
   ]
  },
  {
   "cell_type": "code",
   "execution_count": 42,
   "metadata": {
    "cell_id": "00040-8767e880-05de-44b4-b605-9b84a00f3784",
    "deepnote_cell_type": "code",
    "deepnote_to_be_reexecuted": false,
    "execution_millis": 20,
    "execution_start": 1621959111081,
    "source_hash": "41aab748",
    "tags": []
   },
   "outputs": [
    {
     "data": {
      "text/plain": [
       "KNeighborsClassifier()"
      ]
     },
     "execution_count": 42,
     "metadata": {},
     "output_type": "execute_result"
    }
   ],
   "source": [
    "# Create KNN object (thing)\n",
    "# weights = ['uniform', 'density']\n",
    "knn = KNeighborsClassifier(n_neighbors=5, weights='uniform')\n",
    "# fit the model (thing)\n",
    "knn.fit(train[combo_feats], y_train)"
   ]
  },
  {
   "cell_type": "code",
   "execution_count": 43,
   "metadata": {
    "cell_id": "00040-9545f1fa-27ed-4109-bfe8-8d604ca9a499",
    "deepnote_cell_type": "code",
    "deepnote_to_be_reexecuted": false,
    "execution_millis": 2022,
    "execution_start": 1621959111098,
    "source_hash": "b8a9b08c",
    "tags": []
   },
   "outputs": [
    {
     "name": "stdout",
     "output_type": "stream",
     "text": [
      "\n",
      "    BASELINE accuracy is: 51.01%\n",
      "    The accuracy for our model is: 67.24554% \n",
      "    \n"
     ]
    },
    {
     "data": {
      "text/plain": [
       "(array([[698, 355],\n",
       "        [324, 696]]),\n",
       "                      0            1\n",
       " precision     0.682975     0.662226\n",
       " recall        0.662868     0.682353\n",
       " f1-score      0.672771     0.672139\n",
       " support    1053.000000  1020.000000)"
      ]
     },
     "execution_count": 43,
     "metadata": {},
     "output_type": "execute_result"
    }
   ],
   "source": [
    "# Use the model (thing)\n",
    "# Select k Best features\n",
    "get_metrics(knn, validate[combo_feats], y_validate)"
   ]
  },
  {
   "cell_type": "markdown",
   "metadata": {
    "cell_id": "00025-2bba09a5-5607-465e-98d9-c5a3eb5e88e2",
    "deepnote_cell_type": "markdown",
    "deepnote_to_be_reexecuted": false,
    "execution_millis": 13,
    "execution_start": 1621898463294,
    "source_hash": "897280cf",
    "tags": []
   },
   "source": [
    "Modeling\n",
    "\n",
    "Create a Baseline Model:"
   ]
  },
  {
   "cell_type": "code",
   "execution_count": 44,
   "metadata": {
    "cell_id": "00026-a050b572-fc89-4430-b21d-9fbc3d06dd1b",
    "deepnote_cell_type": "code",
    "deepnote_to_be_reexecuted": false,
    "execution_millis": 97,
    "execution_start": 1621959113102,
    "source_hash": "fa46ff5a",
    "tags": []
   },
   "outputs": [
    {
     "data": {
      "text/plain": [
       "0.0    2466\n",
       "1.0    2368\n",
       "Name: alleged_threat_lvl, dtype: int64"
      ]
     },
     "execution_count": 44,
     "metadata": {},
     "output_type": "execute_result"
    }
   ],
   "source": [
    "y_train = pd.DataFrame(y_train)\n",
    "\n",
    "y_train.alleged_threat_lvl.value_counts()\n"
   ]
  },
  {
   "cell_type": "code",
   "execution_count": 45,
   "metadata": {
    "cell_id": "00027-88f4d7c8-d014-4bca-b369-731cf1af624e",
    "deepnote_cell_type": "code",
    "deepnote_to_be_reexecuted": false,
    "execution_millis": 34,
    "execution_start": 1621959113184,
    "source_hash": "71519740",
    "tags": []
   },
   "outputs": [
    {
     "name": "stdout",
     "output_type": "stream",
     "text": [
      "Baseline accuracy is 0.5101\n"
     ]
    }
   ],
   "source": [
    "baseline = 0\n",
    "baseline_accuracy = round((y_train.alleged_threat_lvl == baseline).mean(),4)\n",
    "baseline_accuracy\n",
    "print(f'Baseline accuracy is {baseline_accuracy}')"
   ]
  },
  {
   "cell_type": "markdown",
   "metadata": {
    "cell_id": "00028-7f754c81-a5e8-4025-92d1-d132840121ef",
    "deepnote_cell_type": "markdown",
    "tags": []
   },
   "source": [
    "\n",
    "\n",
    "\n",
    "Random Forest "
   ]
  },
  {
   "cell_type": "code",
   "execution_count": 46,
   "metadata": {
    "cell_id": "00029-10955e2a-f79a-4ff8-8ab2-87eab64f5c18",
    "deepnote_cell_type": "code",
    "deepnote_to_be_reexecuted": false,
    "execution_millis": 9,
    "execution_start": 1621959113194,
    "source_hash": "5fe20fb4",
    "tags": []
   },
   "outputs": [],
   "source": [
    "from sklearn.ensemble import RandomForestClassifier\n",
    "from sklearn.metrics import classification_report\n",
    "from sklearn.metrics import confusion_matrix\n",
    "\n",
    "# create the model \n",
    "rf = RandomForestClassifier(bootstrap=True, \n",
    "                            class_weight=None, \n",
    "                            criterion='gini',\n",
    "                            min_samples_leaf=3,\n",
    "                            n_estimators=100,\n",
    "                            max_depth=3, \n",
    "                            random_state=123)\n",
    "\n"
   ]
  },
  {
   "cell_type": "code",
   "execution_count": 47,
   "metadata": {
    "cell_id": "00030-26624120-5f1f-4106-a4e6-29afaa563836",
    "deepnote_cell_type": "code",
    "deepnote_to_be_reexecuted": false,
    "execution_millis": 1076,
    "execution_start": 1621959113211,
    "source_hash": "35f21c7",
    "tags": []
   },
   "outputs": [
    {
     "name": "stderr",
     "output_type": "stream",
     "text": [
      "/shared-libs/python3.7/py-core/lib/python3.7/site-packages/ipykernel_launcher.py:2: DataConversionWarning: A column-vector y was passed when a 1d array was expected. Please change the shape of y to (n_samples,), for example using ravel().\n",
      "  \n",
      "[1.96071945e-02 1.22853569e-02 4.84143166e-03 3.34139627e-03\n",
      " 2.47178718e-04 3.00992294e-01 0.00000000e+00 1.89830391e-01\n",
      " 6.81534886e-02 3.20080971e-03 4.36342151e-02 4.60627880e-03\n",
      " 3.30915386e-03 4.74121724e-02 1.56020790e-01 5.80675719e-04\n",
      " 1.10264299e-03 1.59446520e-03 1.91198224e-03 5.62825441e-03\n",
      " 6.78772459e-03 1.31126551e-02 1.26119560e-02 1.62446707e-02\n",
      " 5.37994907e-03 3.70477680e-03 1.74979101e-03 4.47276838e-03\n",
      " 5.93582050e-02 1.21445742e-03 0.00000000e+00 5.01111614e-04\n",
      " 1.63743177e-03 1.62864183e-03 8.47045404e-04 3.65413333e-04\n",
      " 1.29021195e-03 7.93018439e-04]\n"
     ]
    }
   ],
   "source": [
    "# fit the model\n",
    "rf.fit(train2, y_train)\n",
    "\n",
    "\n",
    "# Find feature importance\n",
    "print(rf.feature_importances_)\n",
    "\n"
   ]
  },
  {
   "cell_type": "code",
   "execution_count": 48,
   "metadata": {
    "cell_id": "00031-89797a61-993b-47ef-8be3-931d415825a8",
    "deepnote_cell_type": "code",
    "deepnote_to_be_reexecuted": false,
    "execution_millis": 18,
    "execution_start": 1621959114287,
    "source_hash": "b18318e7",
    "tags": []
   },
   "outputs": [
    {
     "data": {
      "text/plain": [
       "Index(['age', 'body_camera', 'is_female', 'is_male', 'is_transgender',\n",
       "       'was_fleeing', 'was_not fleeing ', 'was_allegedly_armed', 'was_unarmed',\n",
       "       'was_vehicle', 'was_domestic_disturbance',\n",
       "       'was_mental_health_welfare_check', 'was_person_with_a_weapon',\n",
       "       'was_traffic_stop', 'was_violent_crime_part_1',\n",
       "       'is_asian/pacific islander', 'is_black', 'is_hispanic',\n",
       "       'is_native american', 'is_unknown race', 'is_white',\n",
       "       'mntlill_drug or alcohol use', 'mntlill_no', 'mntlill_unknown',\n",
       "       'mntlill_yes', 'rural', 'suburban', 'urban', 'cod_lethal', 'unknown',\n",
       "       'under 12', '12-17', '18-24', '25-34', '35-44', '45-54', '55-64',\n",
       "       '65+'],\n",
       "      dtype='object')"
      ]
     },
     "execution_count": 48,
     "metadata": {},
     "output_type": "execute_result"
    }
   ],
   "source": [
    "train2.columns"
   ]
  },
  {
   "cell_type": "code",
   "execution_count": 49,
   "metadata": {
    "cell_id": "00032-1a33962a-4b36-4666-b31b-32f0aea26fd0",
    "deepnote_cell_type": "code",
    "deepnote_to_be_reexecuted": false,
    "execution_millis": 596,
    "execution_start": 1621959114298,
    "source_hash": "9330a7f8",
    "tags": []
   },
   "outputs": [
    {
     "name": "stdout",
     "output_type": "stream",
     "text": [
      "Accuracy of random forest classifier on training set: 0.70\n"
     ]
    }
   ],
   "source": [
    "# make predictions\n",
    "y_pred = rf.predict(train2)\n",
    "\n",
    "# estimate probability\n",
    "y_pred_proba = rf.predict_proba(train2)\n",
    "\n",
    "\n",
    "#Compute accuracy\n",
    "train_accuracy = round(rf.score(train2, y_train),2)\n",
    "print('Accuracy of random forest classifier on training set: {:.2f}'\n",
    "     .format(rf.score(train2, y_train)))\n"
   ]
  },
  {
   "cell_type": "code",
   "execution_count": 50,
   "metadata": {
    "cell_id": "00033-512ace69-d497-42d2-9e54-1b26c1fb5623",
    "deepnote_cell_type": "code",
    "deepnote_to_be_reexecuted": false,
    "execution_millis": 111,
    "execution_start": 1621959114891,
    "source_hash": "571ca5f9",
    "tags": []
   },
   "outputs": [
    {
     "name": "stdout",
     "output_type": "stream",
     "text": [
      "              precision    recall  f1-score   support\n",
      "\n",
      "         0.0       0.71      0.70      0.71      2466\n",
      "         1.0       0.70      0.70      0.70      2368\n",
      "\n",
      "    accuracy                           0.70      4834\n",
      "   macro avg       0.70      0.70      0.70      4834\n",
      "weighted avg       0.70      0.70      0.70      4834\n",
      "\n"
     ]
    }
   ],
   "source": [
    "# run classification report\n",
    "print(classification_report(y_train, y_pred))"
   ]
  },
  {
   "cell_type": "code",
   "execution_count": 51,
   "metadata": {
    "cell_id": "00034-e62f2db6-7a95-447d-95e9-a05dd285a58a",
    "deepnote_cell_type": "code",
    "deepnote_to_be_reexecuted": false,
    "execution_millis": 1004,
    "execution_start": 1621959114991,
    "source_hash": "3a14f657",
    "tags": []
   },
   "outputs": [
    {
     "name": "stdout",
     "output_type": "stream",
     "text": [
      "Accuracy of random forest classifier on validate set: 0.72\n"
     ]
    }
   ],
   "source": [
    "# fit the model on validate\n",
    "rf.fit(validate2, y_validate)\n",
    "\n",
    "# make predictions\n",
    "y_pred_val = rf.predict(validate2)\n",
    "\n",
    "# estimate probability\n",
    "y_pred_val_proba = rf.predict_proba(validate2)\n",
    "\n",
    "#Compute accuracy\n",
    "validate_accuracy = round(rf.score(validate2, y_validate),2)\n",
    "print('Accuracy of random forest classifier on validate set: {:.2f}'\n",
    "     .format(rf.score(validate2, y_validate)))\n"
   ]
  },
  {
   "cell_type": "code",
   "execution_count": 52,
   "metadata": {
    "cell_id": "00035-412126f1-8802-452c-8d22-464545e303eb",
    "deepnote_cell_type": "code",
    "deepnote_to_be_reexecuted": false,
    "execution_millis": 29,
    "execution_start": 1621959115993,
    "source_hash": "bb080a19",
    "tags": []
   },
   "outputs": [
    {
     "name": "stdout",
     "output_type": "stream",
     "text": [
      "              precision    recall  f1-score   support\n",
      "\n",
      "         0.0       0.72      0.72      0.72      1053\n",
      "         1.0       0.71      0.71      0.71      1020\n",
      "\n",
      "    accuracy                           0.72      2073\n",
      "   macro avg       0.72      0.72      0.72      2073\n",
      "weighted avg       0.72      0.72      0.72      2073\n",
      "\n"
     ]
    }
   ],
   "source": [
    "# run classification report on validate\n",
    "print(classification_report(y_validate, y_pred_val))"
   ]
  },
  {
   "cell_type": "code",
   "execution_count": 53,
   "metadata": {
    "cell_id": "00036-6afcc622-102e-4c74-87c0-74db0607f186",
    "deepnote_cell_type": "code",
    "deepnote_to_be_reexecuted": false,
    "execution_millis": 3,
    "execution_start": 1621959116083,
    "source_hash": "a5201d0f",
    "tags": []
   },
   "outputs": [],
   "source": [
    "def get_metrics_bin(clf, X, y):\n",
    "    '''\n",
    "    get_metrics_bin will take in a sklearn classifier model, an X and a y variable and utilize\n",
    "    the model to make a prediction and then gather accuracy, class report evaluations\n",
    "\n",
    "    return:  a classification report as a pandas DataFrame\n",
    "    '''\n",
    "    y_pred = clf.predict(X)\n",
    "    accuracy = clf.score(X, y)\n",
    "    conf = confusion_matrix(y, y_pred)\n",
    "    class_report = pd.DataFrame(classification_report(y, y_pred, output_dict=True)).T\n",
    "    tpr = conf[1][1] / conf[1].sum()\n",
    "    fpr = conf[0][1] / conf[0].sum()\n",
    "    tnr = conf[0][0] / conf[0].sum()\n",
    "    fnr = conf[1][0] / conf[1].sum()\n",
    "    print(f'''\n",
    "    The accuracy for our model is {accuracy:.4}\n",
    "    The True Positive Rate is {tpr:.3}, The False Positive Rate is {fpr:.3},\n",
    "    The True Negative Rate is {tnr:.3}, and the False Negative Rate is {fnr:.3}\n",
    "    ''')\n",
    "    return class_report"
   ]
  },
  {
   "cell_type": "code",
   "execution_count": 54,
   "metadata": {
    "cell_id": "00037-526e2563-b4a3-4245-a13e-a61dd55c123d",
    "deepnote_cell_type": "code",
    "deepnote_to_be_reexecuted": false,
    "execution_millis": 3,
    "execution_start": 1621959116089,
    "source_hash": "c1f85ee1",
    "tags": []
   },
   "outputs": [],
   "source": [
    "# X = validate2\n",
    "# clf = RandomForestClassifier\n",
    "# print('Model #1: min samples 3, max depth 3')\n",
    "# class_report_val = get_metrics_bin(clf, validate2, y_validate)\n",
    "# # print('-------------------------------------------\\n Model #2: min samples 3, max_depth 3\\n')\n",
    "# # class_report_val1 = get_metrics_bin(clf1, X_val, y_val)"
   ]
  },
  {
   "cell_type": "markdown",
   "metadata": {
    "cell_id": "00038-41af8be3-b038-4893-8047-668874701a25",
    "deepnote_cell_type": "markdown",
    "deepnote_to_be_reexecuted": false,
    "execution_millis": 11,
    "execution_start": 1621894512751,
    "source_hash": "bb95de7",
    "tags": []
   },
   "source": [
    "### Takeaways on Random Forest Classifier Model (max depth 3):\n",
    "\n",
    "Baseline accuracy = 51% <br>\n",
    "Accuracy on Train = 70% <br>\n",
    "Accuracy on Validate = 72%"
   ]
  },
  {
   "cell_type": "code",
   "execution_count": 55,
   "metadata": {
    "cell_id": "00039-76217e26-3ef8-4b2a-b0a6-41f5daa55926",
    "deepnote_cell_type": "code",
    "deepnote_to_be_reexecuted": false,
    "execution_millis": 158,
    "execution_start": 1621959116094,
    "source_hash": "2e7e6100",
    "tags": []
   },
   "outputs": [
    {
     "data": {
      "application/vnd.deepnote.dataframe.v2+json": {
       "column_count": 4,
       "columns": [
        {
         "dtype": "object",
         "name": "model",
         "stats": {
          "categories": [
           {
            "count": 1,
            "name": "random forest"
           }
          ],
          "nan_count": 0,
          "unique_count": 1
         }
        },
        {
         "dtype": "float64",
         "name": "baseline_accuracy",
         "stats": {
          "histogram": [
           {
            "bin_end": 0.11000000000000001,
            "bin_start": 0.010000000000000009,
            "count": 0
           },
           {
            "bin_end": 0.21000000000000002,
            "bin_start": 0.11000000000000001,
            "count": 0
           },
           {
            "bin_end": 0.31000000000000005,
            "bin_start": 0.21000000000000002,
            "count": 0
           },
           {
            "bin_end": 0.41000000000000003,
            "bin_start": 0.31000000000000005,
            "count": 0
           },
           {
            "bin_end": 0.51,
            "bin_start": 0.41000000000000003,
            "count": 0
           },
           {
            "bin_end": 0.6100000000000001,
            "bin_start": 0.51,
            "count": 1
           },
           {
            "bin_end": 0.7100000000000001,
            "bin_start": 0.6100000000000001,
            "count": 0
           },
           {
            "bin_end": 0.81,
            "bin_start": 0.7100000000000001,
            "count": 0
           },
           {
            "bin_end": 0.91,
            "bin_start": 0.81,
            "count": 0
           },
           {
            "bin_end": 1.01,
            "bin_start": 0.91,
            "count": 0
           }
          ],
          "max": "0.51",
          "min": "0.51",
          "nan_count": 0,
          "unique_count": 1
         }
        },
        {
         "dtype": "float64",
         "name": "train_accuracy",
         "stats": {
          "histogram": [
           {
            "bin_end": 0.29999999999999993,
            "bin_start": 0.19999999999999996,
            "count": 0
           },
           {
            "bin_end": 0.39999999999999997,
            "bin_start": 0.29999999999999993,
            "count": 0
           },
           {
            "bin_end": 0.5,
            "bin_start": 0.39999999999999997,
            "count": 0
           },
           {
            "bin_end": 0.6,
            "bin_start": 0.5,
            "count": 0
           },
           {
            "bin_end": 0.7,
            "bin_start": 0.6,
            "count": 0
           },
           {
            "bin_end": 0.8,
            "bin_start": 0.7,
            "count": 1
           },
           {
            "bin_end": 0.9,
            "bin_start": 0.8,
            "count": 0
           },
           {
            "bin_end": 1,
            "bin_start": 0.9,
            "count": 0
           },
           {
            "bin_end": 1.1,
            "bin_start": 1,
            "count": 0
           },
           {
            "bin_end": 1.2,
            "bin_start": 1.1,
            "count": 0
           }
          ],
          "max": "0.7",
          "min": "0.7",
          "nan_count": 0,
          "unique_count": 1
         }
        },
        {
         "dtype": "float64",
         "name": "validate_accuracy",
         "stats": {
          "histogram": [
           {
            "bin_end": 0.31999999999999995,
            "bin_start": 0.21999999999999997,
            "count": 0
           },
           {
            "bin_end": 0.42,
            "bin_start": 0.31999999999999995,
            "count": 0
           },
           {
            "bin_end": 0.52,
            "bin_start": 0.42,
            "count": 0
           },
           {
            "bin_end": 0.62,
            "bin_start": 0.52,
            "count": 0
           },
           {
            "bin_end": 0.72,
            "bin_start": 0.62,
            "count": 0
           },
           {
            "bin_end": 0.8200000000000001,
            "bin_start": 0.72,
            "count": 1
           },
           {
            "bin_end": 0.92,
            "bin_start": 0.8200000000000001,
            "count": 0
           },
           {
            "bin_end": 1.02,
            "bin_start": 0.92,
            "count": 0
           },
           {
            "bin_end": 1.12,
            "bin_start": 1.02,
            "count": 0
           },
           {
            "bin_end": 1.22,
            "bin_start": 1.12,
            "count": 0
           }
          ],
          "max": "0.72",
          "min": "0.72",
          "nan_count": 0,
          "unique_count": 1
         }
        },
        {
         "dtype": "int64",
         "name": "_deepnote_index_column"
        }
       ],
       "row_count": 1,
       "rows_bottom": null,
       "rows_top": [
        {
         "_deepnote_index_column": 0,
         "baseline_accuracy": 0.51,
         "model": "random forest",
         "train_accuracy": 0.7,
         "validate_accuracy": 0.72
        }
       ]
      },
      "text/html": [
       "<div>\n",
       "<style scoped>\n",
       "    .dataframe tbody tr th:only-of-type {\n",
       "        vertical-align: middle;\n",
       "    }\n",
       "\n",
       "    .dataframe tbody tr th {\n",
       "        vertical-align: top;\n",
       "    }\n",
       "\n",
       "    .dataframe thead th {\n",
       "        text-align: right;\n",
       "    }\n",
       "</style>\n",
       "<table border=\"1\" class=\"dataframe\">\n",
       "  <thead>\n",
       "    <tr style=\"text-align: right;\">\n",
       "      <th></th>\n",
       "      <th>model</th>\n",
       "      <th>baseline_accuracy</th>\n",
       "      <th>train_accuracy</th>\n",
       "      <th>validate_accuracy</th>\n",
       "    </tr>\n",
       "  </thead>\n",
       "  <tbody>\n",
       "    <tr>\n",
       "      <th>0</th>\n",
       "      <td>random forest</td>\n",
       "      <td>0.51</td>\n",
       "      <td>0.7</td>\n",
       "      <td>0.72</td>\n",
       "    </tr>\n",
       "  </tbody>\n",
       "</table>\n",
       "</div>"
      ],
      "text/plain": [
       "           model  baseline_accuracy  train_accuracy  validate_accuracy\n",
       "0  random forest               0.51             0.7               0.72"
      ]
     },
     "execution_count": 55,
     "metadata": {},
     "output_type": "execute_result"
    }
   ],
   "source": [
    "\n",
    "#begin building a dataframe to record accuracy\n",
    "metric_df = pd.DataFrame(data=[{\n",
    "    'model': 'random forest', \n",
    "    'baseline_accuracy': round(baseline_accuracy,2),\n",
    "    'train_accuracy': round(train_accuracy, 2),\n",
    "    'validate_accuracy': round(validate_accuracy, 2)}])\n",
    "metric_df"
   ]
  },
  {
   "cell_type": "code",
   "execution_count": 55,
   "metadata": {
    "cell_id": "00040-b4806d13-ea2b-43a3-bd36-76f75f2718c6",
    "deepnote_cell_type": "visualization",
    "deepnote_to_be_reexecuted": false,
    "execution_millis": 1,
    "execution_start": 1621959116205,
    "source_hash": "b623e53d"
   },
   "outputs": [],
   "source": []
  },
  {
   "cell_type": "markdown",
   "metadata": {
    "cell_id": "00041-d4b0a8da-50b0-4f10-8aeb-a29f89f098b7",
    "deepnote_cell_type": "markdown",
    "deepnote_to_be_reexecuted": false,
    "execution_millis": 7,
    "execution_start": 1621900322718,
    "source_hash": "99d3384f",
    "tags": []
   },
   "source": [
    "### Naive Bayes\n",
    "Naïve Bayes Classifier is one of the simple and most effective Classification algorithms which helps in building fast machine learning models that can make quick predictions. It is a probabilistic classifier, which means it predicts on the basis of the probability of an object. It's biggest limitation is that it implicitly assumes that all the attributes are mutually independent. (In real life, it's almost impossible that we get a set of predictors that are completely independent or one another.)"
   ]
  },
  {
   "cell_type": "code",
   "execution_count": 56,
   "metadata": {
    "cell_id": "00042-f6a7a786-96a9-4c8f-a366-cf4b51b1418f",
    "deepnote_cell_type": "code",
    "deepnote_to_be_reexecuted": false,
    "execution_millis": 59,
    "execution_start": 1621959116207,
    "source_hash": "fe51bc76",
    "tags": []
   },
   "outputs": [
    {
     "name": "stderr",
     "output_type": "stream",
     "text": [
      "/shared-libs/python3.7/py/lib/python3.7/site-packages/sklearn/utils/validation.py:63: DataConversionWarning: A column-vector y was passed when a 1d array was expected. Please change the shape of y to (n_samples, ), for example using ravel().\n",
      "  return f(*args, **kwargs)\n"
     ]
    },
    {
     "data": {
      "text/plain": [
       "CategoricalNB()"
      ]
     },
     "execution_count": 56,
     "metadata": {},
     "output_type": "execute_result"
    }
   ],
   "source": [
    "from sklearn.naive_bayes import CategoricalNB\n",
    "\n",
    "# make the model\n",
    "classifier = CategoricalNB()\n",
    "\n",
    "# fit the model\n",
    "classifier.fit(train2, y_train)"
   ]
  },
  {
   "cell_type": "code",
   "execution_count": 57,
   "metadata": {
    "cell_id": "00043-b32ad41a-bed7-4a41-80ba-4046157b692f",
    "deepnote_cell_type": "code",
    "deepnote_to_be_reexecuted": false,
    "execution_millis": 111,
    "execution_start": 1621959116215,
    "source_hash": "dad90cf1",
    "tags": []
   },
   "outputs": [],
   "source": [
    "# make predictions on train\n",
    "nb_y_pred  =  classifier.predict(train2)\n",
    "\n",
    "# make predictions on validate\n",
    "nb_y_val_pred  =  classifier.predict(validate2)"
   ]
  },
  {
   "cell_type": "code",
   "execution_count": 58,
   "metadata": {
    "cell_id": "00044-8a63ff16-8ff2-4982-b445-4e8927c9411a",
    "deepnote_cell_type": "code",
    "deepnote_to_be_reexecuted": false,
    "execution_millis": 1,
    "execution_start": 1621959116326,
    "source_hash": "20ca0f84",
    "tags": []
   },
   "outputs": [],
   "source": [
    "# evaluate model on train\n",
    "from sklearn.metrics import confusion_matrix,accuracy_score\n",
    "cm_train = confusion_matrix(y_train, nb_y_pred)\n",
    "ac_train = accuracy_score(y_train,nb_y_pred)"
   ]
  },
  {
   "cell_type": "code",
   "execution_count": 59,
   "metadata": {
    "cell_id": "00045-88cebdb3-4ebb-425a-9d38-6fcaed2dd1b5",
    "deepnote_cell_type": "code",
    "deepnote_to_be_reexecuted": false,
    "execution_millis": 56,
    "execution_start": 1621959116327,
    "source_hash": "85adb028",
    "tags": []
   },
   "outputs": [],
   "source": [
    "# evaluate model on validate\n",
    "cm_validate = confusion_matrix(y_validate, nb_y_val_pred)\n",
    "ac_validate = accuracy_score(y_validate,nb_y_val_pred)"
   ]
  },
  {
   "cell_type": "code",
   "execution_count": 60,
   "metadata": {
    "cell_id": "00046-eb03a713-a501-4cf3-b489-07e5fa0fd4c4",
    "deepnote_cell_type": "code",
    "deepnote_to_be_reexecuted": false,
    "execution_millis": 12,
    "execution_start": 1621959116386,
    "source_hash": "98109a86",
    "tags": []
   },
   "outputs": [
    {
     "name": "stdout",
     "output_type": "stream",
     "text": [
      "Accuracy of Naive Bayes Gaussian Classifier on train set: 0.70\n",
      "Accuracy of Naive Bayes Gaussian Classifier on validate set: 0.68\n"
     ]
    }
   ],
   "source": [
    "print('Accuracy of Naive Bayes Gaussian Classifier on train set: {:.2f}'.format(ac_train))\n",
    "print('Accuracy of Naive Bayes Gaussian Classifier on validate set: {:.2f}'.format(ac_validate))"
   ]
  },
  {
   "cell_type": "markdown",
   "metadata": {
    "cell_id": "00047-da806f9f-3c41-4c69-a32a-528f3c4e4ff9",
    "deepnote_cell_type": "markdown",
    "deepnote_to_be_reexecuted": false,
    "execution_millis": 7,
    "execution_start": 1621902072354,
    "source_hash": "94e0f3ab",
    "tags": []
   },
   "source": [
    "### Takeaways on Naive Bayes Model:\n",
    "Baseline accuracy = 51% <br>\n",
    "Accuracy on Train = 70% <br>\n",
    "Accuracy on Validate = 68%"
   ]
  },
  {
   "cell_type": "markdown",
   "metadata": {
    "cell_id": "00048-cd67932f-0b1e-4d59-a31f-7c38a45b2e07",
    "deepnote_cell_type": "markdown",
    "tags": []
   },
   "source": [
    "### Dataframe Summarizing Models"
   ]
  },
  {
   "cell_type": "code",
   "execution_count": 61,
   "metadata": {
    "cell_id": "00049-190e8d14-d4aa-4316-a53c-db466db2d4a9",
    "deepnote_cell_type": "code",
    "deepnote_to_be_reexecuted": false,
    "execution_millis": 151,
    "execution_start": 1621959116391,
    "source_hash": "bce38aaf",
    "tags": []
   },
   "outputs": [
    {
     "data": {
      "application/vnd.deepnote.dataframe.v2+json": {
       "column_count": 4,
       "columns": [
        {
         "dtype": "object",
         "name": "model",
         "stats": {
          "categories": [
           {
            "count": 1,
            "name": "random forest"
           },
           {
            "count": 1,
            "name": "naive bayes"
           }
          ],
          "nan_count": 0,
          "unique_count": 2
         }
        },
        {
         "dtype": "float64",
         "name": "baseline_accuracy",
         "stats": {
          "histogram": [
           {
            "bin_end": 0.11000000000000001,
            "bin_start": 0.010000000000000009,
            "count": 0
           },
           {
            "bin_end": 0.21000000000000002,
            "bin_start": 0.11000000000000001,
            "count": 0
           },
           {
            "bin_end": 0.31000000000000005,
            "bin_start": 0.21000000000000002,
            "count": 0
           },
           {
            "bin_end": 0.41000000000000003,
            "bin_start": 0.31000000000000005,
            "count": 0
           },
           {
            "bin_end": 0.51,
            "bin_start": 0.41000000000000003,
            "count": 0
           },
           {
            "bin_end": 0.6100000000000001,
            "bin_start": 0.51,
            "count": 2
           },
           {
            "bin_end": 0.7100000000000001,
            "bin_start": 0.6100000000000001,
            "count": 0
           },
           {
            "bin_end": 0.81,
            "bin_start": 0.7100000000000001,
            "count": 0
           },
           {
            "bin_end": 0.91,
            "bin_start": 0.81,
            "count": 0
           },
           {
            "bin_end": 1.01,
            "bin_start": 0.91,
            "count": 0
           }
          ],
          "max": "0.51",
          "min": "0.51",
          "nan_count": 0,
          "unique_count": 1
         }
        },
        {
         "dtype": "float64",
         "name": "train_accuracy",
         "stats": {
          "histogram": [
           {
            "bin_end": 0.29999999999999993,
            "bin_start": 0.19999999999999996,
            "count": 0
           },
           {
            "bin_end": 0.39999999999999997,
            "bin_start": 0.29999999999999993,
            "count": 0
           },
           {
            "bin_end": 0.5,
            "bin_start": 0.39999999999999997,
            "count": 0
           },
           {
            "bin_end": 0.6,
            "bin_start": 0.5,
            "count": 0
           },
           {
            "bin_end": 0.7,
            "bin_start": 0.6,
            "count": 0
           },
           {
            "bin_end": 0.8,
            "bin_start": 0.7,
            "count": 2
           },
           {
            "bin_end": 0.9,
            "bin_start": 0.8,
            "count": 0
           },
           {
            "bin_end": 1,
            "bin_start": 0.9,
            "count": 0
           },
           {
            "bin_end": 1.1,
            "bin_start": 1,
            "count": 0
           },
           {
            "bin_end": 1.2,
            "bin_start": 1.1,
            "count": 0
           }
          ],
          "max": "0.7",
          "min": "0.7",
          "nan_count": 0,
          "unique_count": 1
         }
        },
        {
         "dtype": "float64",
         "name": "validate_accuracy",
         "stats": {
          "histogram": [
           {
            "bin_end": 0.684,
            "bin_start": 0.68,
            "count": 1
           },
           {
            "bin_end": 0.6880000000000001,
            "bin_start": 0.684,
            "count": 0
           },
           {
            "bin_end": 0.6920000000000001,
            "bin_start": 0.6880000000000001,
            "count": 0
           },
           {
            "bin_end": 0.6960000000000001,
            "bin_start": 0.6920000000000001,
            "count": 0
           },
           {
            "bin_end": 0.7,
            "bin_start": 0.6960000000000001,
            "count": 0
           },
           {
            "bin_end": 0.704,
            "bin_start": 0.7,
            "count": 0
           },
           {
            "bin_end": 0.708,
            "bin_start": 0.704,
            "count": 0
           },
           {
            "bin_end": 0.712,
            "bin_start": 0.708,
            "count": 0
           },
           {
            "bin_end": 0.716,
            "bin_start": 0.712,
            "count": 0
           },
           {
            "bin_end": 0.72,
            "bin_start": 0.716,
            "count": 1
           }
          ],
          "max": "0.72",
          "min": "0.68",
          "nan_count": 0,
          "unique_count": 2
         }
        },
        {
         "dtype": "int64",
         "name": "_deepnote_index_column"
        }
       ],
       "row_count": 2,
       "rows_bottom": null,
       "rows_top": [
        {
         "_deepnote_index_column": 0,
         "baseline_accuracy": 0.51,
         "model": "random forest",
         "train_accuracy": 0.7,
         "validate_accuracy": 0.72
        },
        {
         "_deepnote_index_column": 1,
         "baseline_accuracy": 0.51,
         "model": "naive bayes",
         "train_accuracy": 0.7,
         "validate_accuracy": 0.68
        }
       ]
      },
      "text/html": [
       "<div>\n",
       "<style scoped>\n",
       "    .dataframe tbody tr th:only-of-type {\n",
       "        vertical-align: middle;\n",
       "    }\n",
       "\n",
       "    .dataframe tbody tr th {\n",
       "        vertical-align: top;\n",
       "    }\n",
       "\n",
       "    .dataframe thead th {\n",
       "        text-align: right;\n",
       "    }\n",
       "</style>\n",
       "<table border=\"1\" class=\"dataframe\">\n",
       "  <thead>\n",
       "    <tr style=\"text-align: right;\">\n",
       "      <th></th>\n",
       "      <th>model</th>\n",
       "      <th>baseline_accuracy</th>\n",
       "      <th>train_accuracy</th>\n",
       "      <th>validate_accuracy</th>\n",
       "    </tr>\n",
       "  </thead>\n",
       "  <tbody>\n",
       "    <tr>\n",
       "      <th>0</th>\n",
       "      <td>random forest</td>\n",
       "      <td>0.51</td>\n",
       "      <td>0.7</td>\n",
       "      <td>0.72</td>\n",
       "    </tr>\n",
       "    <tr>\n",
       "      <th>1</th>\n",
       "      <td>naive bayes</td>\n",
       "      <td>0.51</td>\n",
       "      <td>0.7</td>\n",
       "      <td>0.68</td>\n",
       "    </tr>\n",
       "  </tbody>\n",
       "</table>\n",
       "</div>"
      ],
      "text/plain": [
       "           model  baseline_accuracy  train_accuracy  validate_accuracy\n",
       "0  random forest               0.51             0.7               0.72\n",
       "1    naive bayes               0.51             0.7               0.68"
      ]
     },
     "execution_count": 61,
     "metadata": {},
     "output_type": "execute_result"
    }
   ],
   "source": [
    "# append dataframe to record accuracy on Naive Bayes\n",
    "metric_df = metric_df.append({\n",
    "    'model': 'naive bayes', \n",
    "    'baseline_accuracy': round(baseline_accuracy,2),\n",
    "    'train_accuracy': round(ac_train, 2),\n",
    "    'validate_accuracy':round(ac_validate,2)}, ignore_index=True)\n",
    "  \n",
    "\n",
    "\n",
    "metric_df"
   ]
  },
  {
   "cell_type": "markdown",
   "metadata": {
    "cell_id": "00050-22fd67cc-04a4-44a9-9175-90d0d452f03e",
    "deepnote_cell_type": "markdown",
    "tags": []
   },
   "source": []
  },
  {
   "cell_type": "markdown",
   "metadata": {
    "cell_id": "00051-6fedd8f8-d956-4a42-b143-d18f5125ebe3",
    "deepnote_cell_type": "markdown",
    "tags": []
   },
   "source": [
    "### GridSearchCV"
   ]
  },
  {
   "cell_type": "code",
   "execution_count": 62,
   "metadata": {
    "cell_id": "00052-bd7fdfc2-fcf6-4483-91d1-87bc041849e6",
    "deepnote_cell_type": "code",
    "deepnote_to_be_reexecuted": false,
    "execution_millis": 0,
    "execution_start": 1621959116530,
    "source_hash": "2264946b",
    "tags": []
   },
   "outputs": [],
   "source": [
    "# ignore warnings\n",
    "import warnings\n",
    "warnings.filterwarnings(\"ignore\")\n",
    "from sklearn.model_selection import RandomizedSearchCV, GridSearchCV\n",
    "from scipy.stats import uniform"
   ]
  },
  {
   "cell_type": "code",
   "execution_count": 63,
   "metadata": {
    "cell_id": "00053-dcf2e61e-301a-44f6-ba95-c9059ec30b58",
    "deepnote_cell_type": "code",
    "deepnote_to_be_reexecuted": false,
    "execution_millis": 105571,
    "execution_start": 1621959116530,
    "is_output_hidden": true,
    "source_hash": "cd3ac985",
    "tags": []
   },
   "outputs": [
    {
     "name": "stdout",
     "output_type": "stream",
     "text": [
      "Total training time: 0.07 seconds.\n",
      "-- Epoch 3\n",
      "Norm: 0.19, NNZs: 15, Bias: 0.539313, T: 11601, Avg. loss: 0.974199\n",
      "Total training time: 0.08 seconds.\n",
      "-- Epoch 4\n",
      "Norm: 0.20, NNZs: 15, Bias: 0.535644, T: 15468, Avg. loss: 0.974942\n",
      "Total training time: 0.08 seconds.\n",
      "-- Epoch 5\n",
      "Norm: 0.20, NNZs: 15, Bias: 0.533305, T: 19335, Avg. loss: 0.975914\n",
      "Total training time: 0.08 seconds.\n",
      "-- Epoch 6\n",
      "Norm: 0.21, NNZs: 15, Bias: 0.531416, T: 23202, Avg. loss: 0.979430\n",
      "Total training time: 0.08 seconds.\n",
      "-- Epoch 7\n",
      "Norm: 0.21, NNZs: 15, Bias: 0.529280, T: 27069, Avg. loss: 0.968840\n",
      "Total training time: 0.08 seconds.\n",
      "-- Epoch 8\n",
      "Norm: 0.21, NNZs: 15, Bias: 0.528465, T: 30936, Avg. loss: 0.965956\n",
      "Total training time: 0.08 seconds.\n",
      "-- Epoch 9\n",
      "Norm: 0.21, NNZs: 15, Bias: 0.527483, T: 34803, Avg. loss: 0.963455\n",
      "Total training time: 0.09 seconds.\n",
      "-- Epoch 10\n",
      "Norm: 0.21, NNZs: 15, Bias: 0.526239, T: 38670, Avg. loss: 0.956773\n",
      "Total training time: 0.09 seconds.\n",
      "-- Epoch 11\n",
      "Norm: 0.21, NNZs: 15, Bias: 0.525309, T: 42537, Avg. loss: 0.962309\n",
      "Total training time: 0.09 seconds.\n",
      "-- Epoch 12\n",
      "Norm: 0.21, NNZs: 15, Bias: 0.524327, T: 46404, Avg. loss: 0.968348\n",
      "Total training time: 0.09 seconds.\n",
      "-- Epoch 13\n",
      "Norm: 0.22, NNZs: 15, Bias: 0.523421, T: 50271, Avg. loss: 0.956259\n",
      "Total training time: 0.09 seconds.\n",
      "-- Epoch 14\n",
      "Norm: 0.21, NNZs: 15, Bias: 0.523031, T: 54138, Avg. loss: 0.951225\n",
      "Total training time: 0.09 seconds.\n",
      "-- Epoch 15\n",
      "Norm: 0.22, NNZs: 15, Bias: 0.522108, T: 58005, Avg. loss: 0.964159\n",
      "Total training time: 0.09 seconds.\n",
      "-- Epoch 16\n",
      "Norm: 0.22, NNZs: 15, Bias: 0.521869, T: 61872, Avg. loss: 0.949772\n",
      "Total training time: 0.09 seconds.\n",
      "-- Epoch 17\n",
      "Norm: 0.22, NNZs: 15, Bias: 0.521147, T: 65739, Avg. loss: 0.962342\n",
      "Total training time: 0.10 seconds.\n",
      "-- Epoch 18\n",
      "Norm: 0.22, NNZs: 15, Bias: 0.520606, T: 69606, Avg. loss: 0.963242\n",
      "Total training time: 0.10 seconds.\n",
      "-- Epoch 19\n",
      "Norm: 0.22, NNZs: 15, Bias: 0.520330, T: 73473, Avg. loss: 0.965633\n",
      "Total training time: 0.10 seconds.\n",
      "-- Epoch 20\n",
      "Norm: 0.22, NNZs: 15, Bias: 0.519985, T: 77340, Avg. loss: 0.966173\n",
      "Total training time: 0.10 seconds.\n",
      "-- Epoch 21\n",
      "Norm: 0.22, NNZs: 15, Bias: 0.519597, T: 81207, Avg. loss: 0.965125\n",
      "Total training time: 0.10 seconds.\n",
      "Convergence after 21 epochs took 0.10 seconds\n",
      "-- Epoch 1\n",
      "Norm: 0.18, NNZs: 15, Bias: 0.388668, T: 3868, Avg. loss: 1.787014\n",
      "Total training time: 0.01 seconds.\n",
      "-- Epoch 2\n",
      "Norm: 0.19, NNZs: 15, Bias: 0.375625, T: 7736, Avg. loss: 0.998074\n",
      "Total training time: 0.01 seconds.\n",
      "-- Epoch 3\n",
      "Norm: 0.20, NNZs: 15, Bias: 0.369987, T: 11604, Avg. loss: 0.980906\n",
      "Total training time: 0.01 seconds.\n",
      "-- Epoch 4\n",
      "Norm: 0.20, NNZs: 15, Bias: 0.366608, T: 15472, Avg. loss: 0.960613\n",
      "Total training time: 0.01 seconds.\n",
      "-- Epoch 5\n",
      "Norm: 0.21, NNZs: 15, Bias: 0.363347, T: 19340, Avg. loss: 0.965388\n",
      "Total training time: 0.01 seconds.\n",
      "-- Epoch 6\n",
      "Norm: 0.21, NNZs: 15, Bias: 0.361264, T: 23208, Avg. loss: 0.971338\n",
      "Total training time: 0.02 seconds.\n",
      "-- Epoch 7\n",
      "Norm: 0.21, NNZs: 15, Bias: 0.359793, T: 27076, Avg. loss: 0.971038\n",
      "Total training time: 0.02 seconds.\n",
      "-- Epoch 8\n",
      "Norm: 0.21, NNZs: 15, Bias: 0.357949, T: 30944, Avg. loss: 0.963422\n",
      "Total training time: 0.02 seconds.\n",
      "-- Epoch 9\n",
      "Norm: 0.22, NNZs: 15, Bias: 0.356696, T: 34812, Avg. loss: 0.957059\n",
      "Total training time: 0.02 seconds.\n",
      "-- Epoch 10\n",
      "Norm: 0.22, NNZs: 15, Bias: 0.355551, T: 38680, Avg. loss: 0.958327\n",
      "Total training time: 0.02 seconds.\n",
      "-- Epoch 11\n",
      "Norm: 0.22, NNZs: 15, Bias: 0.354305, T: 42548, Avg. loss: 0.962661\n",
      "Total training time: 0.02 seconds.\n",
      "-- Epoch 12\n",
      "Norm: 0.22, NNZs: 15, Bias: 0.353741, T: 46416, Avg. loss: 0.956452\n",
      "Total training time: 0.02 seconds.\n",
      "-- Epoch 13\n",
      "Norm: 0.22, NNZs: 15, Bias: 0.352343, T: 50284, Avg. loss: 0.954730\n",
      "Total training time: 0.02 seconds.\n",
      "-- Epoch 14\n",
      "Norm: 0.22, NNZs: 15, Bias: 0.351684, T: 54152, Avg. loss: 0.964905\n",
      "Total training time: 0.02 seconds.\n",
      "-- Epoch 15\n",
      "Norm: 0.22, NNZs: 15, Bias: 0.351021, T: 58020, Avg. loss: 0.961969\n",
      "Total training time: 0.02 seconds.\n",
      "-- Epoch 16\n",
      "Norm: 0.22, NNZs: 15, Bias: 0.350491, T: 61888, Avg. loss: 0.963522\n",
      "Total training time: 0.02 seconds.\n",
      "-- Epoch 17\n",
      "Norm: 0.22, NNZs: 15, Bias: 0.349813, T: 65756, Avg. loss: 0.954262\n",
      "Total training time: 0.02 seconds.\n",
      "-- Epoch 18\n",
      "Norm: 0.22, NNZs: 15, Bias: 0.349072, T: 69624, Avg. loss: 0.959686\n",
      "Total training time: 0.02 seconds.\n",
      "Convergence after 18 epochs took 0.02 seconds\n",
      "-- Epoch 1\n",
      "Norm: 0.18, NNZs: 15, Bias: 0.457536, T: 3867, Avg. loss: 1.853669\n",
      "Total training time: 0.00 seconds.\n",
      "-- Epoch 2\n",
      "Norm: 0.19, NNZs: 15, Bias: 0.442680, T: 7734, Avg. loss: 0.991743\n",
      "Total training time: 0.00 seconds.\n",
      "-- Epoch 3\n",
      "Norm: 0.19, NNZs: 15, Bias: 0.437120, T: 11601, Avg. loss: 0.982784\n",
      "Total training time: 0.00 seconds.\n",
      "-- Epoch 4\n",
      "Norm: 0.20, NNZs: 15, Bias: 0.433115, T: 15468, Avg. loss: 0.970965\n",
      "Total training time: 0.00 seconds.\n",
      "-- Epoch 5\n",
      "Norm: 0.20, NNZs: 15, Bias: 0.429927, T: 19335, Avg. loss: 0.963419\n",
      "Total training time: 0.01 seconds.\n",
      "-- Epoch 6\n",
      "Norm: 0.20, NNZs: 15, Bias: 0.427019, T: 23202, Avg. loss: 0.975804\n",
      "Total training time: 0.01 seconds.\n",
      "-- Epoch 7\n",
      "Norm: 0.21, NNZs: 15, Bias: 0.424748, T: 27069, Avg. loss: 0.955822\n",
      "Total training time: 0.01 seconds.\n",
      "-- Epoch 8\n",
      "Norm: 0.21, NNZs: 15, Bias: 0.423669, T: 30936, Avg. loss: 0.970498\n",
      "Total training time: 0.01 seconds.\n",
      "-- Epoch 9\n",
      "Norm: 0.21, NNZs: 15, Bias: 0.421900, T: 34803, Avg. loss: 0.967260\n",
      "Total training time: 0.01 seconds.\n",
      "-- Epoch 10\n",
      "Norm: 0.21, NNZs: 15, Bias: 0.420754, T: 38670, Avg. loss: 0.966028\n",
      "Total training time: 0.01 seconds.\n",
      "-- Epoch 11\n",
      "Norm: 0.21, NNZs: 15, Bias: 0.419291, T: 42537, Avg. loss: 0.964615\n",
      "Total training time: 0.01 seconds.\n",
      "-- Epoch 12\n",
      "Norm: 0.21, NNZs: 15, Bias: 0.418334, T: 46404, Avg. loss: 0.965251\n",
      "Total training time: 0.08 seconds.\n",
      "Convergence after 12 epochs took 0.08 seconds\n",
      "-- Epoch 1\n",
      "Norm: 0.17, NNZs: 15, Bias: -0.688157, T: 3867, Avg. loss: 1.757271\n",
      "Total training time: 0.00 seconds.\n",
      "-- Epoch 2\n",
      "Norm: 0.18, NNZs: 15, Bias: -0.690134, T: 7734, Avg. loss: 0.989730\n",
      "Total training time: 0.00 seconds.\n",
      "-- Epoch 3\n",
      "Norm: 0.19, NNZs: 15, Bias: -0.690442, T: 11601, Avg. loss: 0.957312\n",
      "Total training time: 0.01 seconds.\n",
      "-- Epoch 4\n",
      "Norm: 0.19, NNZs: 15, Bias: -0.691680, T: 15468, Avg. loss: 0.961773\n",
      "Total training time: 0.01 seconds.\n",
      "-- Epoch 5\n",
      "Norm: 0.20, NNZs: 15, Bias: -0.693269, T: 19335, Avg. loss: 0.962183\n",
      "Total training time: 0.01 seconds.\n",
      "-- Epoch 6\n",
      "Norm: 0.20, NNZs: 15, Bias: -0.694352, T: 23202, Avg. loss: 0.954419\n",
      "Total training time: 0.01 seconds.\n",
      "-- Epoch 7\n",
      "Norm: 0.20, NNZs: 15, Bias: -0.695159, T: 27069, Avg. loss: 0.944523\n",
      "Total training time: 0.01 seconds.\n",
      "-- Epoch 8\n",
      "Norm: 0.21, NNZs: 15, Bias: -0.696360, T: 30936, Avg. loss: 0.951034\n",
      "Total training time: 0.01 seconds.\n",
      "-- Epoch 9\n",
      "Norm: 0.21, NNZs: 15, Bias: -0.697509, T: 34803, Avg. loss: 0.946251\n",
      "Total training time: 0.02 seconds.\n",
      "-- Epoch 10\n",
      "Norm: 0.21, NNZs: 15, Bias: -0.697752, T: 38670, Avg. loss: 0.938724\n",
      "Total training time: 0.02 seconds.\n",
      "-- Epoch 11\n",
      "Norm: 0.21, NNZs: 15, Bias: -0.698542, T: 42537, Avg. loss: 0.943179\n",
      "Total training time: 0.02 seconds.\n",
      "-- Epoch 12\n",
      "Norm: 0.21, NNZs: 15, Bias: -0.699183, T: 46404, Avg. loss: 0.938192\n",
      "Total training time: 0.02 seconds.\n",
      "-- Epoch 13\n",
      "Norm: 0.21, NNZs: 15, Bias: -0.700044, T: 50271, Avg. loss: 0.946773\n",
      "Total training time: 0.02 seconds.\n",
      "-- Epoch 14\n",
      "Norm: 0.21, NNZs: 15, Bias: -0.700632, T: 54138, Avg. loss: 0.942207\n",
      "Total training time: 0.02 seconds.\n",
      "-- Epoch 15\n",
      "Norm: 0.21, NNZs: 15, Bias: -0.701131, T: 58005, Avg. loss: 0.939639\n",
      "Total training time: 0.02 seconds.\n",
      "Convergence after 15 epochs took 0.02 seconds\n",
      "-- Epoch 1\n",
      "Norm: 0.18, NNZs: 15, Bias: 0.277297, T: 3867, Avg. loss: 2.178045\n",
      "Total training time: 0.00 seconds.\n",
      "-- Epoch 2\n",
      "Norm: 0.18, NNZs: 15, Bias: 0.267463, T: 7734, Avg. loss: 0.988458\n",
      "Total training time: 0.00 seconds.\n",
      "-- Epoch 3\n",
      "Norm: 0.19, NNZs: 15, Bias: 0.262702, T: 11601, Avg. loss: 0.980705\n",
      "Total training time: 0.00 seconds.\n",
      "-- Epoch 4\n",
      "Norm: 0.20, NNZs: 15, Bias: 0.258307, T: 15468, Avg. loss: 0.969713\n",
      "Total training time: 0.00 seconds.\n",
      "-- Epoch 5\n",
      "Norm: 0.20, NNZs: 15, Bias: 0.255878, T: 19335, Avg. loss: 0.967705\n",
      "Total training time: 0.01 seconds.\n",
      "-- Epoch 6\n",
      "Norm: 0.20, NNZs: 15, Bias: 0.253648, T: 23202, Avg. loss: 0.970654\n",
      "Total training time: 0.01 seconds.\n",
      "-- Epoch 7\n",
      "Norm: 0.20, NNZs: 15, Bias: 0.252666, T: 27069, Avg. loss: 0.963397\n",
      "Total training time: 0.01 seconds.\n",
      "-- Epoch 8\n",
      "Norm: 0.21, NNZs: 15, Bias: 0.251057, T: 30936, Avg. loss: 0.964354\n",
      "Total training time: 0.01 seconds.\n",
      "-- Epoch 9\n",
      "Norm: 0.21, NNZs: 15, Bias: 0.249679, T: 34803, Avg. loss: 0.965160\n",
      "Total training time: 0.01 seconds.\n",
      "-- Epoch 10\n",
      "Norm: 0.21, NNZs: 15, Bias: 0.248485, T: 38670, Avg. loss: 0.957942\n",
      "Total training time: 0.01 seconds.\n",
      "-- Epoch 11\n",
      "Norm: 0.21, NNZs: 15, Bias: 0.247549, T: 42537, Avg. loss: 0.958772\n",
      "Total training time: 0.01 seconds.\n",
      "-- Epoch 12\n",
      "Norm: 0.21, NNZs: 15, Bias: 0.246775, T: 46404, Avg. loss: 0.956717\n",
      "Total training time: 0.01 seconds.\n",
      "-- Epoch 13\n",
      "Norm: 0.21, NNZs: 15, Bias: 0.245933, T: 50271, Avg. loss: 0.966655\n",
      "Total training time: 0.01 seconds.\n",
      "-- Epoch 14\n",
      "Norm: 0.21, NNZs: 15, Bias: 0.245216, T: 54138, Avg. loss: 0.964830\n",
      "Total training time: 0.01 seconds.\n",
      "-- Epoch 15\n",
      "Norm: 0.21, NNZs: 15, Bias: 0.244121, T: 58005, Avg. loss: 0.961934\n",
      "Total training time: 0.02 seconds.\n",
      "-- Epoch 16\n",
      "Norm: 0.21, NNZs: 15, Bias: 0.243528, T: 61872, Avg. loss: 0.959044\n",
      "Total training time: 0.02 seconds.\n",
      "-- Epoch 17\n",
      "Norm: 0.21, NNZs: 15, Bias: 0.243073, T: 65739, Avg. loss: 0.959466\n",
      "Total training time: 0.02 seconds.\n",
      "Convergence after 17 epochs took 0.02 seconds\n",
      "-- Epoch 1\n",
      "Norm: 0.17, NNZs: 15, Bias: 0.792732, T: 3867, Avg. loss: 1.689651\n",
      "Total training time: 0.00 seconds.\n",
      "-- Epoch 2\n",
      "Norm: 0.19, NNZs: 15, Bias: 0.778206, T: 7734, Avg. loss: 0.997414\n",
      "Total training time: 0.00 seconds.\n",
      "-- Epoch 3\n",
      "Norm: 0.19, NNZs: 15, Bias: 0.771651, T: 11601, Avg. loss: 0.983277\n",
      "Total training time: 0.00 seconds.\n",
      "-- Epoch 4\n",
      "Norm: 0.20, NNZs: 15, Bias: 0.766917, T: 15468, Avg. loss: 0.979481\n",
      "Total training time: 0.00 seconds.\n",
      "-- Epoch 5\n",
      "Norm: 0.20, NNZs: 15, Bias: 0.764016, T: 19335, Avg. loss: 0.979421\n",
      "Total training time: 0.01 seconds.\n",
      "-- Epoch 6\n",
      "Norm: 0.20, NNZs: 15, Bias: 0.761658, T: 23202, Avg. loss: 0.955502\n",
      "Total training time: 0.01 seconds.\n",
      "-- Epoch 7\n",
      "Norm: 0.21, NNZs: 15, Bias: 0.759569, T: 27069, Avg. loss: 0.976895\n",
      "Total training time: 0.01 seconds.\n",
      "-- Epoch 8\n",
      "Norm: 0.21, NNZs: 15, Bias: 0.758129, T: 30936, Avg. loss: 0.975453\n",
      "Total training time: 0.01 seconds.\n",
      "-- Epoch 9\n",
      "Norm: 0.21, NNZs: 15, Bias: 0.756804, T: 34803, Avg. loss: 0.967837\n",
      "Total training time: 0.01 seconds.\n",
      "-- Epoch 10\n",
      "Norm: 0.21, NNZs: 15, Bias: 0.755591, T: 38670, Avg. loss: 0.973506\n",
      "Total training time: 0.01 seconds.\n",
      "-- Epoch 11\n",
      "Norm: 0.21, NNZs: 15, Bias: 0.754742, T: 42537, Avg. loss: 0.970654\n",
      "Total training time: 0.01 seconds.\n",
      "Convergence after 11 epochs took 0.01 seconds\n",
      "-- Epoch 1\n",
      "Norm: 0.17, NNZs: 15, Bias: 0.113434, T: 3868, Avg. loss: 2.204365\n",
      "Total training time: 0.00 seconds.\n",
      "-- Epoch 2\n",
      "Norm: 0.19, NNZs: 15, Bias: 0.104987, T: 7736, Avg. loss: 0.990777\n",
      "Total training time: 0.00 seconds.\n",
      "-- Epoch 3\n",
      "Norm: 0.19, NNZs: 15, Bias: 0.100838, T: 11604, Avg. loss: 0.966657\n",
      "Total training time: 0.01 seconds.\n",
      "-- Epoch 4\n",
      "Norm: 0.20, NNZs: 15, Bias: 0.097334, T: 15472, Avg. loss: 0.982265\n",
      "Total training time: 0.07 seconds.\n",
      "-- Epoch 5\n",
      "Norm: 0.21, NNZs: 15, Bias: 0.094871, T: 19340, Avg. loss: 0.968658\n",
      "Total training time: 0.07 seconds.\n",
      "-- Epoch 6\n",
      "Norm: 0.21, NNZs: 15, Bias: 0.092653, T: 23208, Avg. loss: 0.969319\n",
      "Total training time: 0.07 seconds.\n",
      "-- Epoch 7\n",
      "Norm: 0.21, NNZs: 15, Bias: 0.091239, T: 27076, Avg. loss: 0.960303\n",
      "Total training time: 0.08 seconds.\n",
      "-- Epoch 8\n",
      "Norm: 0.21, NNZs: 15, Bias: 0.089790, T: 30944, Avg. loss: 0.958152\n",
      "Total training time: 0.08 seconds.\n",
      "-- Epoch 9\n",
      "Norm: 0.21, NNZs: 15, Bias: 0.088268, T: 34812, Avg. loss: 0.959680\n",
      "Total training time: 0.08 seconds.\n",
      "-- Epoch 10\n",
      "Norm: 0.22, NNZs: 15, Bias: 0.087359, T: 38680, Avg. loss: 0.955208\n",
      "Total training time: 0.08 seconds.\n",
      "-- Epoch 11\n",
      "Norm: 0.22, NNZs: 15, Bias: 0.085932, T: 42548, Avg. loss: 0.957588\n",
      "Total training time: 0.08 seconds.\n",
      "-- Epoch 12\n",
      "Norm: 0.22, NNZs: 15, Bias: 0.085362, T: 46416, Avg. loss: 0.956294\n",
      "Total training time: 0.08 seconds.\n",
      "-- Epoch 13\n",
      "Norm: 0.22, NNZs: 15, Bias: 0.084497, T: 50284, Avg. loss: 0.956282\n",
      "Total training time: 0.08 seconds.\n",
      "-- Epoch 14\n",
      "Norm: 0.22, NNZs: 15, Bias: 0.083633, T: 54152, Avg. loss: 0.957864\n",
      "Total training time: 0.08 seconds.\n",
      "-- Epoch 15\n",
      "Norm: 0.22, NNZs: 15, Bias: 0.082825, T: 58020, Avg. loss: 0.948989\n",
      "Total training time: 0.08 seconds.\n",
      "-- Epoch 16\n",
      "Norm: 0.22, NNZs: 15, Bias: 0.082028, T: 61888, Avg. loss: 0.954990\n",
      "Total training time: 0.09 seconds.\n",
      "-- Epoch 17\n",
      "Norm: 0.22, NNZs: 15, Bias: 0.081650, T: 65756, Avg. loss: 0.951574\n",
      "Total training time: 0.09 seconds.\n",
      "-- Epoch 18\n",
      "Norm: 0.22, NNZs: 15, Bias: 0.080904, T: 69624, Avg. loss: 0.954909\n",
      "Total training time: 0.09 seconds.\n",
      "-- Epoch 19\n",
      "Norm: 0.22, NNZs: 15, Bias: 0.080264, T: 73492, Avg. loss: 0.954356\n",
      "Total training time: 0.09 seconds.\n",
      "-- Epoch 20\n",
      "Norm: 0.22, NNZs: 15, Bias: 0.079877, T: 77360, Avg. loss: 0.956016\n",
      "Total training time: 0.09 seconds.\n",
      "Convergence after 20 epochs took 0.09 seconds\n",
      "-- Epoch 1\n",
      "Norm: 0.15, NNZs: 15, Bias: -0.905223, T: 3867, Avg. loss: 1.311422\n",
      "Total training time: 0.00 seconds.\n",
      "-- Epoch 2\n",
      "Norm: 0.17, NNZs: 15, Bias: -0.899070, T: 7734, Avg. loss: 0.969841\n",
      "Total training time: 0.00 seconds.\n",
      "-- Epoch 3\n",
      "Norm: 0.18, NNZs: 15, Bias: -0.896748, T: 11601, Avg. loss: 0.955577\n",
      "Total training time: 0.00 seconds.\n",
      "-- Epoch 4\n",
      "Norm: 0.18, NNZs: 15, Bias: -0.895927, T: 15468, Avg. loss: 0.951618\n",
      "Total training time: 0.00 seconds.\n",
      "-- Epoch 5\n",
      "Norm: 0.19, NNZs: 15, Bias: -0.895591, T: 19335, Avg. loss: 0.951667\n",
      "Total training time: 0.00 seconds.\n",
      "-- Epoch 6\n",
      "Norm: 0.19, NNZs: 15, Bias: -0.895173, T: 23202, Avg. loss: 0.953631\n",
      "Total training time: 0.01 seconds.\n",
      "-- Epoch 7\n",
      "Norm: 0.19, NNZs: 15, Bias: -0.894876, T: 27069, Avg. loss: 0.952417\n",
      "Total training time: 0.01 seconds.\n",
      "-- Epoch 8\n",
      "Norm: 0.19, NNZs: 15, Bias: -0.894745, T: 30936, Avg. loss: 0.951819\n",
      "Total training time: 0.01 seconds.\n",
      "-- Epoch 9\n",
      "Norm: 0.20, NNZs: 15, Bias: -0.894743, T: 34803, Avg. loss: 0.951205\n",
      "Total training time: 0.01 seconds.\n",
      "Convergence after 9 epochs took 0.01 seconds\n",
      "-- Epoch 1\n",
      "Norm: 0.18, NNZs: 15, Bias: 0.815444, T: 3867, Avg. loss: 1.914033\n",
      "Total training time: 0.00 seconds.\n",
      "-- Epoch 2\n",
      "Norm: 0.19, NNZs: 15, Bias: 0.798935, T: 7734, Avg. loss: 0.988788\n",
      "Total training time: 0.00 seconds.\n",
      "-- Epoch 3\n",
      "Norm: 0.19, NNZs: 15, Bias: 0.790798, T: 11601, Avg. loss: 0.981051\n",
      "Total training time: 0.00 seconds.\n",
      "-- Epoch 4\n",
      "Norm: 0.20, NNZs: 15, Bias: 0.785476, T: 15468, Avg. loss: 0.979066\n",
      "Total training time: 0.00 seconds.\n",
      "-- Epoch 5\n",
      "Norm: 0.20, NNZs: 15, Bias: 0.781827, T: 19335, Avg. loss: 0.979000\n",
      "Total training time: 0.00 seconds.\n",
      "-- Epoch 6\n",
      "Norm: 0.21, NNZs: 15, Bias: 0.779156, T: 23202, Avg. loss: 0.977237\n",
      "Total training time: 0.01 seconds.\n",
      "-- Epoch 7\n",
      "Norm: 0.21, NNZs: 15, Bias: 0.776993, T: 27069, Avg. loss: 0.975920\n",
      "Total training time: 0.01 seconds.\n",
      "-- Epoch 8\n",
      "Norm: 0.21, NNZs: 15, Bias: 0.775123, T: 30936, Avg. loss: 0.974840\n",
      "Total training time: 0.01 seconds.\n",
      "-- Epoch 9\n",
      "Norm: 0.21, NNZs: 15, Bias: 0.773477, T: 34803, Avg. loss: 0.974083\n",
      "Total training time: 0.01 seconds.\n",
      "-- Epoch 10\n",
      "Norm: 0.21, NNZs: 15, Bias: 0.772039, T: 38670, Avg. loss: 0.973455\n",
      "Total training time: 0.01 seconds.\n",
      "-- Epoch 11\n",
      "Norm: 0.22, NNZs: 15, Bias: 0.770766, T: 42537, Avg. loss: 0.972627\n",
      "Total training time: 0.01 seconds.\n",
      "-- Epoch 12\n",
      "Norm: 0.22, NNZs: 15, Bias: 0.769606, T: 46404, Avg. loss: 0.972288\n",
      "Total training time: 0.01 seconds.\n",
      "-- Epoch 13\n",
      "Norm: 0.22, NNZs: 15, Bias: 0.768561, T: 50271, Avg. loss: 0.971908\n",
      "Total training time: 0.01 seconds.\n",
      "Convergence after 13 epochs took 0.01 seconds\n",
      "-- Epoch 1\n",
      "Norm: 0.17, NNZs: 15, Bias: 0.819444, T: 3867, Avg. loss: 1.904986\n",
      "Total training time: 0.00 seconds.\n",
      "-- Epoch 2\n",
      "Norm: 0.18, NNZs: 15, Bias: 0.802018, T: 7734, Avg. loss: 0.988963\n",
      "Total training time: 0.01 seconds.\n",
      "-- Epoch 3\n",
      "Norm: 0.19, NNZs: 15, Bias: 0.793577, T: 11601, Avg. loss: 0.982172\n",
      "Total training time: 0.01 seconds.\n",
      "-- Epoch 4\n",
      "Norm: 0.19, NNZs: 15, Bias: 0.788233, T: 15468, Avg. loss: 0.980840\n",
      "Total training time: 0.01 seconds.\n",
      "-- Epoch 5\n",
      "Norm: 0.20, NNZs: 15, Bias: 0.784628, T: 19335, Avg. loss: 0.978594\n",
      "Total training time: 0.01 seconds.\n",
      "-- Epoch 6\n",
      "Norm: 0.20, NNZs: 15, Bias: 0.781852, T: 23202, Avg. loss: 0.977853\n",
      "Total training time: 0.01 seconds.\n",
      "-- Epoch 7\n",
      "Norm: 0.20, NNZs: 15, Bias: 0.779564, T: 27069, Avg. loss: 0.978034\n",
      "Total training time: 0.01 seconds.\n",
      "-- Epoch 8\n",
      "Norm: 0.21, NNZs: 15, Bias: 0.777692, T: 30936, Avg. loss: 0.977911\n",
      "Total training time: 0.01 seconds.\n",
      "-- Epoch 9\n",
      "Norm: 0.21, NNZs: 15, Bias: 0.776139, T: 34803, Avg. loss: 0.977588\n",
      "Total training time: 0.02 seconds.\n",
      "-- Epoch 10\n",
      "Norm: 0.21, NNZs: 15, Bias: 0.774755, T: 38670, Avg. loss: 0.976957\n",
      "Total training time: 0.02 seconds.\n",
      "Convergence after 10 epochs took 0.02 seconds\n",
      "-- Epoch 1\n",
      "Norm: 0.17, NNZs: 15, Bias: 0.825833, T: 3867, Avg. loss: 1.906355\n",
      "Total training time: 0.00 seconds.\n",
      "-- Epoch 2\n",
      "Norm: 0.19, NNZs: 15, Bias: 0.811119, T: 7734, Avg. loss: 0.987736\n",
      "Total training time: 0.01 seconds.\n",
      "-- Epoch 3\n",
      "Norm: 0.19, NNZs: 15, Bias: 0.804096, T: 11601, Avg. loss: 0.979527\n",
      "Total training time: 0.01 seconds.\n",
      "-- Epoch 4\n",
      "Norm: 0.20, NNZs: 15, Bias: 0.799536, T: 15468, Avg. loss: 0.977853\n",
      "Total training time: 0.01 seconds.\n",
      "-- Epoch 5\n",
      "Norm: 0.20, NNZs: 15, Bias: 0.796495, T: 19335, Avg. loss: 0.976248\n",
      "Total training time: 0.01 seconds.\n",
      "-- Epoch 6\n",
      "Norm: 0.21, NNZs: 15, Bias: 0.794229, T: 23202, Avg. loss: 0.976284\n",
      "Total training time: 0.09 seconds.\n",
      "-- Epoch 7\n",
      "Norm: 0.21, NNZs: 15, Bias: 0.792378, T: 27069, Avg. loss: 0.976439\n",
      "Total training time: 0.09 seconds.\n",
      "-- Epoch 8\n",
      "Norm: 0.21, NNZs: 15, Bias: 0.790919, T: 30936, Avg. loss: 0.976025\n",
      "Total training time: 0.09 seconds.\n",
      "-- Epoch 9\n",
      "Norm: 0.21, NNZs: 15, Bias: 0.789638, T: 34803, Avg. loss: 0.974615\n",
      "Total training time: 0.09 seconds.\n",
      "-- Epoch 10\n",
      "Norm: 0.21, NNZs: 15, Bias: 0.788497, T: 38670, Avg. loss: 0.974499\n",
      "Total training time: 0.09 seconds.\n",
      "-- Epoch 11\n",
      "Norm: 0.21, NNZs: 15, Bias: 0.787519, T: 42537, Avg. loss: 0.973500\n",
      "Total training time: 0.09 seconds.\n",
      "-- Epoch 12\n",
      "Norm: 0.21, NNZs: 15, Bias: 0.786606, T: 46404, Avg. loss: 0.972892\n",
      "Total training time: 0.09 seconds.\n",
      "-- Epoch 13\n",
      "Norm: 0.22, NNZs: 15, Bias: 0.785811, T: 50271, Avg. loss: 0.972570\n",
      "Total training time: 0.09 seconds.\n",
      "-- Epoch 14\n",
      "Norm: 0.22, NNZs: 15, Bias: 0.785076, T: 54138, Avg. loss: 0.971945\n",
      "Total training time: 0.09 seconds.\n",
      "Convergence after 14 epochs took 0.09 seconds\n",
      "-- Epoch 1\n",
      "Norm: 0.19, NNZs: 15, Bias: 0.818384, T: 3868, Avg. loss: 1.920305\n",
      "Total training time: 0.00 seconds.\n",
      "-- Epoch 2\n",
      "Norm: 0.20, NNZs: 15, Bias: 0.801938, T: 7736, Avg. loss: 0.988807\n",
      "Total training time: 0.00 seconds.\n",
      "-- Epoch 3\n",
      "Norm: 0.20, NNZs: 15, Bias: 0.794142, T: 11604, Avg. loss: 0.981883\n",
      "Total training time: 0.00 seconds.\n",
      "-- Epoch 4\n",
      "Norm: 0.21, NNZs: 15, Bias: 0.789297, T: 15472, Avg. loss: 0.980771\n",
      "Total training time: 0.00 seconds.\n",
      "-- Epoch 5\n",
      "Norm: 0.21, NNZs: 15, Bias: 0.785937, T: 19340, Avg. loss: 0.978860\n",
      "Total training time: 0.01 seconds.\n",
      "-- Epoch 6\n",
      "Norm: 0.21, NNZs: 15, Bias: 0.783290, T: 23208, Avg. loss: 0.977811\n",
      "Total training time: 0.01 seconds.\n",
      "-- Epoch 7\n",
      "Norm: 0.21, NNZs: 15, Bias: 0.781096, T: 27076, Avg. loss: 0.976609\n",
      "Total training time: 0.01 seconds.\n",
      "-- Epoch 8\n",
      "Norm: 0.21, NNZs: 15, Bias: 0.779229, T: 30944, Avg. loss: 0.974711\n",
      "Total training time: 0.01 seconds.\n",
      "-- Epoch 9\n",
      "Norm: 0.22, NNZs: 15, Bias: 0.777613, T: 34812, Avg. loss: 0.973673\n",
      "Total training time: 0.01 seconds.\n",
      "-- Epoch 10\n",
      "Norm: 0.22, NNZs: 15, Bias: 0.776112, T: 38680, Avg. loss: 0.972546\n",
      "Total training time: 0.01 seconds.\n",
      "-- Epoch 11\n",
      "Norm: 0.22, NNZs: 15, Bias: 0.774780, T: 42548, Avg. loss: 0.971769\n",
      "Total training time: 0.01 seconds.\n",
      "-- Epoch 12\n",
      "Norm: 0.22, NNZs: 15, Bias: 0.773587, T: 46416, Avg. loss: 0.971313\n",
      "Total training time: 0.01 seconds.\n",
      "-- Epoch 13\n",
      "Norm: 0.22, NNZs: 15, Bias: 0.772512, T: 50284, Avg. loss: 0.970911\n",
      "Total training time: 0.01 seconds.\n",
      "-- Epoch 14\n",
      "Norm: 0.22, NNZs: 15, Bias: 0.771554, T: 54152, Avg. loss: 0.970199\n",
      "Total training time: 0.02 seconds.\n",
      "-- Epoch 15\n",
      "Norm: 0.22, NNZs: 15, Bias: 0.770644, T: 58020, Avg. loss: 0.969567\n",
      "Total training time: 0.02 seconds.\n",
      "Convergence after 15 epochs took 0.02 seconds\n",
      "-- Epoch 1\n",
      "Norm: 0.15, NNZs: 15, Bias: -0.905223, T: 3867, Avg. loss: 1.311422\n",
      "Total training time: 0.00 seconds.\n",
      "-- Epoch 2\n",
      "Norm: 0.17, NNZs: 15, Bias: -0.899070, T: 7734, Avg. loss: 0.969841\n",
      "Total training time: 0.00 seconds.\n",
      "-- Epoch 3\n",
      "Norm: 0.18, NNZs: 15, Bias: -0.896748, T: 11601, Avg. loss: 0.955577\n",
      "Total training time: 0.00 seconds.\n",
      "-- Epoch 4\n",
      "Norm: 0.18, NNZs: 15, Bias: -0.895927, T: 15468, Avg. loss: 0.951618\n",
      "Total training time: 0.01 seconds.\n",
      "-- Epoch 5\n",
      "Norm: 0.19, NNZs: 15, Bias: -0.895591, T: 19335, Avg. loss: 0.951667\n",
      "Total training time: 0.01 seconds.\n",
      "-- Epoch 6\n",
      "Norm: 0.19, NNZs: 15, Bias: -0.895173, T: 23202, Avg. loss: 0.953631\n",
      "Total training time: 0.01 seconds.\n",
      "-- Epoch 7\n",
      "Norm: 0.19, NNZs: 15, Bias: -0.894876, T: 27069, Avg. loss: 0.952417\n",
      "Total training time: 0.02 seconds.\n",
      "-- Epoch 8\n",
      "Norm: 0.19, NNZs: 15, Bias: -0.894745, T: 30936, Avg. loss: 0.951819\n",
      "Total training time: 0.02 seconds.\n",
      "-- Epoch 9\n",
      "Norm: 0.20, NNZs: 15, Bias: -0.894743, T: 34803, Avg. loss: 0.951205\n",
      "Total training time: 0.02 seconds.\n",
      "Convergence after 9 epochs took 0.02 seconds\n",
      "-- Epoch 1\n",
      "Norm: 0.18, NNZs: 15, Bias: 0.815444, T: 3867, Avg. loss: 1.914033\n",
      "Total training time: 0.01 seconds.\n",
      "-- Epoch 2\n",
      "Norm: 0.19, NNZs: 15, Bias: 0.798935, T: 7734, Avg. loss: 0.988788\n",
      "Total training time: 0.01 seconds.\n",
      "-- Epoch 3\n",
      "Norm: 0.19, NNZs: 15, Bias: 0.790798, T: 11601, Avg. loss: 0.981051\n",
      "Total training time: 0.01 seconds.\n",
      "-- Epoch 4\n",
      "Norm: 0.20, NNZs: 15, Bias: 0.785476, T: 15468, Avg. loss: 0.979066\n",
      "Total training time: 0.01 seconds.\n",
      "-- Epoch 5\n",
      "Norm: 0.20, NNZs: 15, Bias: 0.781827, T: 19335, Avg. loss: 0.979000\n",
      "Total training time: 0.02 seconds.\n",
      "-- Epoch 6\n",
      "Norm: 0.21, NNZs: 15, Bias: 0.779156, T: 23202, Avg. loss: 0.977237\n",
      "Total training time: 0.02 seconds.\n",
      "-- Epoch 7\n",
      "Norm: 0.21, NNZs: 15, Bias: 0.776993, T: 27069, Avg. loss: 0.975920\n",
      "Total training time: 0.02 seconds.\n",
      "-- Epoch 8\n",
      "Norm: 0.21, NNZs: 15, Bias: 0.775123, T: 30936, Avg. loss: 0.974840\n",
      "Total training time: 0.02 seconds.\n",
      "-- Epoch 9\n",
      "Norm: 0.21, NNZs: 15, Bias: 0.773477, T: 34803, Avg. loss: 0.974083\n",
      "Total training time: 0.02 seconds.\n",
      "-- Epoch 10\n",
      "Norm: 0.21, NNZs: 15, Bias: 0.772039, T: 38670, Avg. loss: 0.973455\n",
      "Total training time: 0.02 seconds.\n",
      "-- Epoch 11\n",
      "Norm: 0.22, NNZs: 15, Bias: 0.770766, T: 42537, Avg. loss: 0.972627\n",
      "Total training time: 0.03 seconds.\n",
      "-- Epoch 12\n",
      "Norm: 0.22, NNZs: 15, Bias: 0.769606, T: 46404, Avg. loss: 0.972288\n",
      "Total training time: 0.03 seconds.\n",
      "-- Epoch 13\n",
      "Norm: 0.22, NNZs: 15, Bias: 0.768561, T: 50271, Avg. loss: 0.971908\n",
      "Total training time: 0.03 seconds.\n",
      "Convergence after 13 epochs took 0.03 seconds\n",
      "-- Epoch 1\n",
      "Norm: 0.17, NNZs: 15, Bias: 0.819444, T: 3867, Avg. loss: 1.904986\n",
      "Total training time: 0.00 seconds.\n",
      "-- Epoch 2\n",
      "Norm: 0.18, NNZs: 15, Bias: 0.802018, T: 7734, Avg. loss: 0.988963\n",
      "Total training time: 0.00 seconds.\n",
      "-- Epoch 3\n",
      "Norm: 0.19, NNZs: 15, Bias: 0.793577, T: 11601, Avg. loss: 0.982172\n",
      "Total training time: 0.01 seconds.\n",
      "-- Epoch 4\n",
      "Norm: 0.19, NNZs: 15, Bias: 0.788233, T: 15468, Avg. loss: 0.980840\n",
      "Total training time: 0.08 seconds.\n",
      "-- Epoch 5\n",
      "Norm: 0.20, NNZs: 15, Bias: 0.784628, T: 19335, Avg. loss: 0.978594\n",
      "Total training time: 0.08 seconds.\n",
      "-- Epoch 6\n",
      "Norm: 0.20, NNZs: 15, Bias: 0.781852, T: 23202, Avg. loss: 0.977853\n",
      "Total training time: 0.08 seconds.\n",
      "-- Epoch 7\n",
      "Norm: 0.20, NNZs: 15, Bias: 0.779564, T: 27069, Avg. loss: 0.978034\n",
      "Total training time: 0.08 seconds.\n",
      "-- Epoch 8\n",
      "Norm: 0.21, NNZs: 15, Bias: 0.777692, T: 30936, Avg. loss: 0.977911\n",
      "Total training time: 0.08 seconds.\n",
      "-- Epoch 9\n",
      "Norm: 0.21, NNZs: 15, Bias: 0.776139, T: 34803, Avg. loss: 0.977588\n",
      "Total training time: 0.09 seconds.\n",
      "-- Epoch 10\n",
      "Norm: 0.21, NNZs: 15, Bias: 0.774755, T: 38670, Avg. loss: 0.976957\n",
      "Total training time: 0.09 seconds.\n",
      "Convergence after 10 epochs took 0.09 seconds\n",
      "-- Epoch 1\n",
      "Norm: 0.17, NNZs: 15, Bias: 0.825833, T: 3867, Avg. loss: 1.906355\n",
      "Total training time: 0.01 seconds.\n",
      "-- Epoch 2\n",
      "Norm: 0.19, NNZs: 15, Bias: 0.811119, T: 7734, Avg. loss: 0.987736\n",
      "Total training time: 0.01 seconds.\n",
      "-- Epoch 3\n",
      "Norm: 0.19, NNZs: 15, Bias: 0.804096, T: 11601, Avg. loss: 0.979527\n",
      "Total training time: 0.01 seconds.\n",
      "-- Epoch 4\n",
      "Norm: 0.20, NNZs: 15, Bias: 0.799536, T: 15468, Avg. loss: 0.977853\n",
      "Total training time: 0.18 seconds.\n",
      "-- Epoch 5\n",
      "Norm: 0.20, NNZs: 15, Bias: 0.796495, T: 19335, Avg. loss: 0.976248\n",
      "Total training time: 0.18 seconds.\n",
      "-- Epoch 6\n",
      "Norm: 0.21, NNZs: 15, Bias: 0.794229, T: 23202, Avg. loss: 0.976284\n",
      "Total training time: 0.18 seconds.\n",
      "-- Epoch 7\n",
      "Norm: 0.21, NNZs: 15, Bias: 0.792378, T: 27069, Avg. loss: 0.976439\n",
      "Total training time: 0.18 seconds.\n",
      "-- Epoch 8\n",
      "Norm: 0.21, NNZs: 15, Bias: 0.790919, T: 30936, Avg. loss: 0.976025\n",
      "Total training time: 0.18 seconds.\n",
      "-- Epoch 9\n",
      "Norm: 0.21, NNZs: 15, Bias: 0.789638, T: 34803, Avg. loss: 0.974615\n",
      "Total training time: 0.18 seconds.\n",
      "-- Epoch 10\n",
      "Norm: 0.21, NNZs: 15, Bias: 0.788497, T: 38670, Avg. loss: 0.974499\n",
      "Total training time: 0.18 seconds.\n",
      "-- Epoch 11\n",
      "Norm: 0.21, NNZs: 15, Bias: 0.787519, T: 42537, Avg. loss: 0.973500\n",
      "Total training time: 0.19 seconds.\n",
      "-- Epoch 12\n",
      "Norm: 0.21, NNZs: 15, Bias: 0.786606, T: 46404, Avg. loss: 0.972892\n",
      "Total training time: 0.19 seconds.\n",
      "-- Epoch 13\n",
      "Norm: 0.22, NNZs: 15, Bias: 0.785811, T: 50271, Avg. loss: 0.972570\n",
      "Total training time: 0.19 seconds.\n",
      "-- Epoch 14\n",
      "Norm: 0.22, NNZs: 15, Bias: 0.785076, T: 54138, Avg. loss: 0.971945\n",
      "Total training time: 0.19 seconds.\n",
      "Convergence after 14 epochs took 0.19 seconds\n",
      "-- Epoch 1\n",
      "Norm: 0.19, NNZs: 15, Bias: 0.818384, T: 3868, Avg. loss: 1.920305\n",
      "Total training time: 0.00 seconds.\n",
      "-- Epoch 2\n",
      "Norm: 0.20, NNZs: 15, Bias: 0.801938, T: 7736, Avg. loss: 0.988807\n",
      "Total training time: 0.00 seconds.\n",
      "-- Epoch 3\n",
      "Norm: 0.20, NNZs: 15, Bias: 0.794142, T: 11604, Avg. loss: 0.981883\n",
      "Total training time: 0.00 seconds.\n",
      "-- Epoch 4\n",
      "Norm: 0.21, NNZs: 15, Bias: 0.789297, T: 15472, Avg. loss: 0.980771\n",
      "Total training time: 0.01 seconds.\n",
      "-- Epoch 5\n",
      "Norm: 0.21, NNZs: 15, Bias: 0.785937, T: 19340, Avg. loss: 0.978860\n",
      "Total training time: 0.01 seconds.\n",
      "-- Epoch 6\n",
      "Norm: 0.21, NNZs: 15, Bias: 0.783290, T: 23208, Avg. loss: 0.977811\n",
      "Total training time: 0.01 seconds.\n",
      "-- Epoch 7\n",
      "Norm: 0.21, NNZs: 15, Bias: 0.781096, T: 27076, Avg. loss: 0.976609\n",
      "Total training time: 0.01 seconds.\n",
      "-- Epoch 8\n",
      "Norm: 0.21, NNZs: 15, Bias: 0.779229, T: 30944, Avg. loss: 0.974711\n",
      "Total training time: 0.01 seconds.\n",
      "-- Epoch 9\n",
      "Norm: 0.22, NNZs: 15, Bias: 0.777613, T: 34812, Avg. loss: 0.973673\n",
      "Total training time: 0.01 seconds.\n",
      "-- Epoch 10\n",
      "Norm: 0.22, NNZs: 15, Bias: 0.776112, T: 38680, Avg. loss: 0.972546\n",
      "Total training time: 0.01 seconds.\n",
      "-- Epoch 11\n",
      "Norm: 0.22, NNZs: 15, Bias: 0.774780, T: 42548, Avg. loss: 0.971769\n",
      "Total training time: 0.01 seconds.\n",
      "-- Epoch 12\n",
      "Norm: 0.22, NNZs: 15, Bias: 0.773587, T: 46416, Avg. loss: 0.971313\n",
      "Total training time: 0.01 seconds.\n",
      "-- Epoch 13\n",
      "Norm: 0.22, NNZs: 15, Bias: 0.772512, T: 50284, Avg. loss: 0.970911\n",
      "Total training time: 0.01 seconds.\n",
      "-- Epoch 14\n",
      "Norm: 0.22, NNZs: 15, Bias: 0.771554, T: 54152, Avg. loss: 0.970199\n",
      "Total training time: 0.01 seconds.\n",
      "-- Epoch 15\n",
      "Norm: 0.22, NNZs: 15, Bias: 0.770644, T: 58020, Avg. loss: 0.969567\n",
      "Total training time: 0.02 seconds.\n",
      "Convergence after 15 epochs took 0.02 seconds\n",
      "-- Epoch 1\n",
      "Norm: 0.15, NNZs: 15, Bias: -0.905223, T: 3867, Avg. loss: 1.311422\n",
      "Total training time: 0.00 seconds.\n",
      "-- Epoch 2\n",
      "Norm: 0.17, NNZs: 15, Bias: -0.899070, T: 7734, Avg. loss: 0.969841\n",
      "Total training time: 0.00 seconds.\n",
      "-- Epoch 3\n",
      "Norm: 0.18, NNZs: 15, Bias: -0.896748, T: 11601, Avg. loss: 0.955577\n",
      "Total training time: 0.01 seconds.\n",
      "-- Epoch 4\n",
      "Norm: 0.18, NNZs: 15, Bias: -0.895927, T: 15468, Avg. loss: 0.951618\n",
      "Total training time: 0.01 seconds.\n",
      "-- Epoch 5\n",
      "Norm: 0.19, NNZs: 15, Bias: -0.895591, T: 19335, Avg. loss: 0.951667\n",
      "Total training time: 0.01 seconds.\n",
      "-- Epoch 6\n",
      "Norm: 0.19, NNZs: 15, Bias: -0.895173, T: 23202, Avg. loss: 0.953631\n",
      "Total training time: 0.01 seconds.\n",
      "-- Epoch 7\n",
      "Norm: 0.19, NNZs: 15, Bias: -0.894876, T: 27069, Avg. loss: 0.952417\n",
      "Total training time: 0.01 seconds.\n",
      "-- Epoch 8\n",
      "Norm: 0.19, NNZs: 15, Bias: -0.894745, T: 30936, Avg. loss: 0.951819\n",
      "Total training time: 0.01 seconds.\n",
      "-- Epoch 9\n",
      "Norm: 0.20, NNZs: 15, Bias: -0.894743, T: 34803, Avg. loss: 0.951205\n",
      "Total training time: 0.01 seconds.\n",
      "Convergence after 9 epochs took 0.01 seconds\n",
      "-- Epoch 1\n",
      "Norm: 0.18, NNZs: 15, Bias: 0.815444, T: 3867, Avg. loss: 1.914033\n",
      "Total training time: 0.00 seconds.\n",
      "-- Epoch 2\n",
      "Norm: 0.19, NNZs: 15, Bias: 0.798935, T: 7734, Avg. loss: 0.988788\n",
      "Total training time: 0.00 seconds.\n",
      "-- Epoch 3\n",
      "Norm: 0.19, NNZs: 15, Bias: 0.790798, T: 11601, Avg. loss: 0.981051\n",
      "Total training time: 0.00 seconds.\n",
      "-- Epoch 4\n",
      "Norm: 0.20, NNZs: 15, Bias: 0.785476, T: 15468, Avg. loss: 0.979066\n",
      "Total training time: 0.00 seconds.\n",
      "-- Epoch 5\n",
      "Norm: 0.20, NNZs: 15, Bias: 0.781827, T: 19335, Avg. loss: 0.979000\n",
      "Total training time: 0.01 seconds.\n",
      "-- Epoch 6\n",
      "Norm: 0.21, NNZs: 15, Bias: 0.779156, T: 23202, Avg. loss: 0.977237\n",
      "Total training time: 0.01 seconds.\n",
      "-- Epoch 7\n",
      "Norm: 0.21, NNZs: 15, Bias: 0.776993, T: 27069, Avg. loss: 0.975920\n",
      "Total training time: 0.01 seconds.\n",
      "-- Epoch 8\n",
      "Norm: 0.21, NNZs: 15, Bias: 0.775123, T: 30936, Avg. loss: 0.974840\n",
      "Total training time: 0.01 seconds.\n",
      "-- Epoch 9\n",
      "Norm: 0.21, NNZs: 15, Bias: 0.773477, T: 34803, Avg. loss: 0.974083\n",
      "Total training time: 0.01 seconds.\n",
      "-- Epoch 10\n",
      "Norm: 0.21, NNZs: 15, Bias: 0.772039, T: 38670, Avg. loss: 0.973455\n",
      "Total training time: 0.01 seconds.\n",
      "-- Epoch 11\n",
      "Norm: 0.22, NNZs: 15, Bias: 0.770766, T: 42537, Avg. loss: 0.972627\n",
      "Total training time: 0.01 seconds.\n",
      "-- Epoch 12\n",
      "Norm: 0.22, NNZs: 15, Bias: 0.769606, T: 46404, Avg. loss: 0.972288\n",
      "Total training time: 0.08 seconds.\n",
      "-- Epoch 13\n",
      "Norm: 0.22, NNZs: 15, Bias: 0.768561, T: 50271, Avg. loss: 0.971908\n",
      "Total training time: 0.08 seconds.\n",
      "Convergence after 13 epochs took 0.08 seconds\n",
      "-- Epoch 1\n",
      "Norm: 0.17, NNZs: 15, Bias: 0.819444, T: 3867, Avg. loss: 1.904986\n",
      "Total training time: 0.00 seconds.\n",
      "-- Epoch 2\n",
      "Norm: 0.18, NNZs: 15, Bias: 0.802018, T: 7734, Avg. loss: 0.988963\n",
      "Total training time: 0.00 seconds.\n",
      "-- Epoch 3\n",
      "Norm: 0.19, NNZs: 15, Bias: 0.793577, T: 11601, Avg. loss: 0.982172\n",
      "Total training time: 0.00 seconds.\n",
      "-- Epoch 4\n",
      "Norm: 0.19, NNZs: 15, Bias: 0.788233, T: 15468, Avg. loss: 0.980840\n",
      "Total training time: 0.01 seconds.\n",
      "-- Epoch 5\n",
      "Norm: 0.20, NNZs: 15, Bias: 0.784628, T: 19335, Avg. loss: 0.978594\n",
      "Total training time: 0.01 seconds.\n",
      "-- Epoch 6\n",
      "Norm: 0.20, NNZs: 15, Bias: 0.781852, T: 23202, Avg. loss: 0.977853\n",
      "Total training time: 0.01 seconds.\n",
      "-- Epoch 7\n",
      "Norm: 0.20, NNZs: 15, Bias: 0.779564, T: 27069, Avg. loss: 0.978034\n",
      "Total training time: 0.01 seconds.\n",
      "-- Epoch 8\n",
      "Norm: 0.21, NNZs: 15, Bias: 0.777692, T: 30936, Avg. loss: 0.977911\n",
      "Total training time: 0.01 seconds.\n",
      "-- Epoch 9\n",
      "Norm: 0.21, NNZs: 15, Bias: 0.776139, T: 34803, Avg. loss: 0.977588\n",
      "Total training time: 0.01 seconds.\n",
      "-- Epoch 10\n",
      "Norm: 0.21, NNZs: 15, Bias: 0.774755, T: 38670, Avg. loss: 0.976957\n",
      "Total training time: 0.01 seconds.\n",
      "Convergence after 10 epochs took 0.01 seconds\n",
      "-- Epoch 1\n",
      "Norm: 0.17, NNZs: 15, Bias: 0.825833, T: 3867, Avg. loss: 1.906355\n",
      "Total training time: 0.00 seconds.\n",
      "-- Epoch 2\n",
      "Norm: 0.19, NNZs: 15, Bias: 0.811119, T: 7734, Avg. loss: 0.987736\n",
      "Total training time: 0.00 seconds.\n",
      "-- Epoch 3\n",
      "Norm: 0.19, NNZs: 15, Bias: 0.804096, T: 11601, Avg. loss: 0.979527\n",
      "Total training time: 0.01 seconds.\n",
      "-- Epoch 4\n",
      "Norm: 0.20, NNZs: 15, Bias: 0.799536, T: 15468, Avg. loss: 0.977853\n",
      "Total training time: 0.01 seconds.\n",
      "-- Epoch 5\n",
      "Norm: 0.20, NNZs: 15, Bias: 0.796495, T: 19335, Avg. loss: 0.976248\n",
      "Total training time: 0.01 seconds.\n",
      "-- Epoch 6\n",
      "Norm: 0.21, NNZs: 15, Bias: 0.794229, T: 23202, Avg. loss: 0.976284\n",
      "Total training time: 0.01 seconds.\n",
      "-- Epoch 7\n",
      "Norm: 0.21, NNZs: 15, Bias: 0.792378, T: 27069, Avg. loss: 0.976439\n",
      "Total training time: 0.01 seconds.\n",
      "-- Epoch 8\n",
      "Norm: 0.21, NNZs: 15, Bias: 0.790919, T: 30936, Avg. loss: 0.976025\n",
      "Total training time: 0.01 seconds.\n",
      "-- Epoch 9\n",
      "Norm: 0.21, NNZs: 15, Bias: 0.789638, T: 34803, Avg. loss: 0.974615\n",
      "Total training time: 0.02 seconds.\n",
      "-- Epoch 10\n",
      "Norm: 0.21, NNZs: 15, Bias: 0.788497, T: 38670, Avg. loss: 0.974499\n",
      "Total training time: 0.02 seconds.\n",
      "-- Epoch 11\n",
      "Norm: 0.21, NNZs: 15, Bias: 0.787519, T: 42537, Avg. loss: 0.973500\n",
      "Total training time: 0.02 seconds.\n",
      "-- Epoch 12\n",
      "Norm: 0.21, NNZs: 15, Bias: 0.786606, T: 46404, Avg. loss: 0.972892\n",
      "Total training time: 0.02 seconds.\n",
      "-- Epoch 13\n",
      "Norm: 0.22, NNZs: 15, Bias: 0.785811, T: 50271, Avg. loss: 0.972570\n",
      "Total training time: 0.02 seconds.\n",
      "-- Epoch 14\n",
      "Norm: 0.22, NNZs: 15, Bias: 0.785076, T: 54138, Avg. loss: 0.971945\n",
      "Total training time: 0.02 seconds.\n",
      "Convergence after 14 epochs took 0.02 seconds\n",
      "-- Epoch 1\n",
      "Norm: 0.19, NNZs: 15, Bias: 0.818384, T: 3868, Avg. loss: 1.920305\n",
      "Total training time: 0.00 seconds.\n",
      "-- Epoch 2\n",
      "Norm: 0.20, NNZs: 15, Bias: 0.801938, T: 7736, Avg. loss: 0.988807\n",
      "Total training time: 0.00 seconds.\n",
      "-- Epoch 3\n",
      "Norm: 0.20, NNZs: 15, Bias: 0.794142, T: 11604, Avg. loss: 0.981883\n",
      "Total training time: 0.01 seconds.\n",
      "-- Epoch 4\n",
      "Norm: 0.21, NNZs: 15, Bias: 0.789297, T: 15472, Avg. loss: 0.980771\n",
      "Total training time: 0.01 seconds.\n",
      "-- Epoch 5\n",
      "Norm: 0.21, NNZs: 15, Bias: 0.785937, T: 19340, Avg. loss: 0.978860\n",
      "Total training time: 0.01 seconds.\n",
      "-- Epoch 6\n",
      "Norm: 0.21, NNZs: 15, Bias: 0.783290, T: 23208, Avg. loss: 0.977811\n",
      "Total training time: 0.01 seconds.\n",
      "-- Epoch 7\n",
      "Norm: 0.21, NNZs: 15, Bias: 0.781096, T: 27076, Avg. loss: 0.976609\n",
      "Total training time: 0.01 seconds.\n",
      "-- Epoch 8\n",
      "Norm: 0.21, NNZs: 15, Bias: 0.779229, T: 30944, Avg. loss: 0.974711\n",
      "Total training time: 0.01 seconds.\n",
      "-- Epoch 9\n",
      "Norm: 0.22, NNZs: 15, Bias: 0.777613, T: 34812, Avg. loss: 0.973673\n",
      "Total training time: 0.01 seconds.\n",
      "-- Epoch 10\n",
      "Norm: 0.22, NNZs: 15, Bias: 0.776112, T: 38680, Avg. loss: 0.972546\n",
      "Total training time: 0.01 seconds.\n",
      "-- Epoch 11\n",
      "Norm: 0.22, NNZs: 15, Bias: 0.774780, T: 42548, Avg. loss: 0.971769\n",
      "Total training time: 0.02 seconds.\n",
      "-- Epoch 12\n",
      "Norm: 0.22, NNZs: 15, Bias: 0.773587, T: 46416, Avg. loss: 0.971313\n",
      "Total training time: 0.02 seconds.\n",
      "-- Epoch 13\n",
      "Norm: 0.22, NNZs: 15, Bias: 0.772512, T: 50284, Avg. loss: 0.970911\n",
      "Total training time: 0.02 seconds.\n",
      "-- Epoch 14\n",
      "Norm: 0.22, NNZs: 15, Bias: 0.771554, T: 54152, Avg. loss: 0.970199\n",
      "Total training time: 0.02 seconds.\n",
      "-- Epoch 15\n",
      "Norm: 0.22, NNZs: 15, Bias: 0.770644, T: 58020, Avg. loss: 0.969567\n",
      "Total training time: 0.02 seconds.\n",
      "Convergence after 15 epochs took 0.02 seconds\n",
      "-- Epoch 1\n",
      "Norm: 1.05, NNZs: 15, Bias: 0.151005, T: 4834, Avg. loss: 6.133048\n",
      "Total training time: 0.00 seconds.\n",
      "-- Epoch 2\n",
      "Norm: 1.02, NNZs: 15, Bias: 0.145569, T: 9668, Avg. loss: 1.202219\n",
      "Total training time: 0.00 seconds.\n",
      "-- Epoch 3\n",
      "Norm: 1.01, NNZs: 15, Bias: 0.134232, T: 14502, Avg. loss: 1.030553\n",
      "Total training time: 0.01 seconds.\n",
      "-- Epoch 4\n",
      "Norm: 1.03, NNZs: 15, Bias: 0.124081, T: 19336, Avg. loss: 0.948152\n",
      "Total training time: 0.01 seconds.\n",
      "-- Epoch 5\n",
      "Norm: 1.03, NNZs: 15, Bias: 0.116644, T: 24170, Avg. loss: 0.907305\n",
      "Total training time: 0.01 seconds.\n",
      "-- Epoch 6\n",
      "Norm: 1.02, NNZs: 15, Bias: 0.120773, T: 29004, Avg. loss: 0.874382\n",
      "Total training time: 0.01 seconds.\n",
      "-- Epoch 7\n",
      "Norm: 1.03, NNZs: 15, Bias: 0.119288, T: 33838, Avg. loss: 0.868574\n",
      "Total training time: 0.01 seconds.\n",
      "-- Epoch 8\n",
      "Norm: 1.04, NNZs: 15, Bias: 0.116801, T: 38672, Avg. loss: 0.854005\n",
      "Total training time: 0.02 seconds.\n",
      "-- Epoch 9\n",
      "Norm: 1.06, NNZs: 15, Bias: 0.116913, T: 43506, Avg. loss: 0.844834\n",
      "Total training time: 0.02 seconds.\n",
      "-- Epoch 10\n",
      "Norm: 1.07, NNZs: 15, Bias: 0.118763, T: 48340, Avg. loss: 0.836628\n",
      "Total training time: 0.02 seconds.\n",
      "-- Epoch 11\n",
      "Norm: 1.07, NNZs: 15, Bias: 0.121422, T: 53174, Avg. loss: 0.820673\n",
      "Total training time: 0.02 seconds.\n",
      "-- Epoch 12\n",
      "Norm: 1.08, NNZs: 15, Bias: 0.120801, T: 58008, Avg. loss: 0.821390\n",
      "Total training time: 0.02 seconds.\n",
      "-- Epoch 13\n",
      "Norm: 1.09, NNZs: 15, Bias: 0.122628, T: 62842, Avg. loss: 0.812015\n",
      "Total training time: 0.03 seconds.\n",
      "-- Epoch 14\n",
      "Norm: 1.10, NNZs: 15, Bias: 0.124069, T: 67676, Avg. loss: 0.801300\n",
      "Total training time: 0.03 seconds.\n",
      "-- Epoch 15\n",
      "Norm: 1.10, NNZs: 15, Bias: 0.124632, T: 72510, Avg. loss: 0.804866\n",
      "Total training time: 0.03 seconds.\n",
      "-- Epoch 16\n",
      "Norm: 1.10, NNZs: 15, Bias: 0.126171, T: 77344, Avg. loss: 0.794896\n",
      "Total training time: 0.03 seconds.\n",
      "-- Epoch 17\n",
      "Norm: 1.11, NNZs: 15, Bias: 0.127472, T: 82178, Avg. loss: 0.795857\n",
      "Total training time: 0.03 seconds.\n",
      "-- Epoch 18\n",
      "Norm: 1.11, NNZs: 15, Bias: 0.129542, T: 87012, Avg. loss: 0.792333\n",
      "Total training time: 0.03 seconds.\n",
      "-- Epoch 19\n",
      "Norm: 1.11, NNZs: 15, Bias: 0.131667, T: 91846, Avg. loss: 0.782887\n",
      "Total training time: 0.03 seconds.\n",
      "-- Epoch 20\n",
      "Norm: 1.11, NNZs: 15, Bias: 0.133200, T: 96680, Avg. loss: 0.783552\n",
      "Total training time: 0.03 seconds.\n",
      "-- Epoch 21\n",
      "Norm: 1.12, NNZs: 15, Bias: 0.133816, T: 101514, Avg. loss: 0.786682\n",
      "Total training time: 0.03 seconds.\n",
      "-- Epoch 22\n",
      "Norm: 1.12, NNZs: 15, Bias: 0.135387, T: 106348, Avg. loss: 0.780024\n",
      "Total training time: 0.03 seconds.\n",
      "-- Epoch 23\n",
      "Norm: 1.13, NNZs: 15, Bias: 0.135852, T: 111182, Avg. loss: 0.783772\n",
      "Total training time: 0.09 seconds.\n",
      "-- Epoch 24\n",
      "Norm: 1.13, NNZs: 15, Bias: 0.137824, T: 116016, Avg. loss: 0.781474\n",
      "Total training time: 0.10 seconds.\n",
      "-- Epoch 25\n",
      "Norm: 1.13, NNZs: 15, Bias: 0.138648, T: 120850, Avg. loss: 0.771094\n",
      "Total training time: 0.10 seconds.\n",
      "-- Epoch 26\n",
      "Norm: 1.14, NNZs: 15, Bias: 0.140361, T: 125684, Avg. loss: 0.772970\n",
      "Total training time: 0.10 seconds.\n",
      "-- Epoch 27\n",
      "Norm: 1.14, NNZs: 15, Bias: 0.141451, T: 130518, Avg. loss: 0.774098\n",
      "Total training time: 0.10 seconds.\n",
      "-- Epoch 28\n",
      "Norm: 1.14, NNZs: 15, Bias: 0.143713, T: 135352, Avg. loss: 0.775079\n",
      "Total training time: 0.10 seconds.\n",
      "-- Epoch 29\n",
      "Norm: 1.15, NNZs: 15, Bias: 0.145718, T: 140186, Avg. loss: 0.770522\n",
      "Total training time: 0.10 seconds.\n",
      "-- Epoch 30\n",
      "Norm: 1.15, NNZs: 15, Bias: 0.146560, T: 145020, Avg. loss: 0.771637\n",
      "Total training time: 0.11 seconds.\n",
      "Convergence after 30 epochs took 0.11 seconds\n"
     ]
    }
   ],
   "source": [
    "# Create a parameter dictionary for the model, {'parameter': [list of settings]}\n",
    "parameters = [\n",
    "    {\n",
    "    'alpha': [0.0001, 0.001, 0.01, 0.1, 1],\n",
    "    'shuffle': [True, False],\n",
    "    'verbose': [0, 1, 5, 10],\n",
    "    'class_weight': [None, 'balanced'],\n",
    "    },\n",
    "]\n",
    "# Created variable model which holds the KNN model\n",
    "model = SGDClassifier()\n",
    "# Create grid_search model, looking at recall\n",
    "grid_search = GridSearchCV(model,\n",
    "                           param_grid=parameters,\n",
    "                           scoring='accuracy',\n",
    "                           )\n",
    "# Create variable r that hold the FIT grid_search\n",
    "r = grid_search.fit(X_train[f_feature], y_train)\n",
    "scores = r.cv_results_\n",
    "lm = r.best_estimator_"
   ]
  },
  {
   "cell_type": "code",
   "execution_count": 64,
   "metadata": {
    "cell_id": "00054-3f014b93-f3fb-41c6-90f7-9d45cf834a0e",
    "deepnote_cell_type": "code",
    "deepnote_to_be_reexecuted": false,
    "execution_millis": 19,
    "execution_start": 1621959222101,
    "source_hash": "32c9439c",
    "tags": []
   },
   "outputs": [
    {
     "data": {
      "text/plain": [
       "0.6876268838545715"
      ]
     },
     "execution_count": 64,
     "metadata": {},
     "output_type": "execute_result"
    }
   ],
   "source": [
    "# Returns max value of the mean test score \n",
    "max(scores['mean_test_score'])"
   ]
  },
  {
   "cell_type": "code",
   "execution_count": 65,
   "metadata": {
    "cell_id": "00055-926ab0c6-923f-448f-9d31-9c589046b472",
    "deepnote_cell_type": "code",
    "deepnote_to_be_reexecuted": false,
    "execution_millis": 88,
    "execution_start": 1621959222113,
    "is_output_hidden": true,
    "source_hash": "46f0d3fb",
    "tags": []
   },
   "outputs": [
    {
     "name": "stdout",
     "output_type": "stream",
     "text": [
      "Best parameters for SGD Classifier are {'alpha': 1, 'class_weight': 'balanced', 'shuffle': False, 'verbose': 0} with a score of 0.502272936511505\n",
      "Best parameters for SGD Classifier are {'alpha': 1, 'class_weight': 'balanced', 'shuffle': False, 'verbose': 1} with a score of 0.502272936511505\n",
      "Best parameters for SGD Classifier are {'alpha': 1, 'class_weight': 'balanced', 'shuffle': False, 'verbose': 5} with a score of 0.502272936511505\n",
      "Best parameters for SGD Classifier are {'alpha': 1, 'class_weight': 'balanced', 'shuffle': False, 'verbose': 10} with a score of 0.502272936511505\n",
      "Best parameters for SGD Classifier are {'alpha': 1, 'class_weight': 'balanced', 'shuffle': True, 'verbose': 5} with a score of 0.5157165766356001\n",
      "Best parameters for SGD Classifier are {'alpha': 1, 'class_weight': None, 'shuffle': False, 'verbose': 0} with a score of 0.5208872074525597\n",
      "Best parameters for SGD Classifier are {'alpha': 1, 'class_weight': None, 'shuffle': False, 'verbose': 1} with a score of 0.5208872074525597\n",
      "Best parameters for SGD Classifier are {'alpha': 1, 'class_weight': None, 'shuffle': False, 'verbose': 5} with a score of 0.5208872074525597\n",
      "Best parameters for SGD Classifier are {'alpha': 1, 'class_weight': None, 'shuffle': False, 'verbose': 10} with a score of 0.5208872074525597\n",
      "Best parameters for SGD Classifier are {'alpha': 1, 'class_weight': None, 'shuffle': True, 'verbose': 1} with a score of 0.5225418093139867\n",
      "Best parameters for SGD Classifier are {'alpha': 0.0001, 'class_weight': None, 'shuffle': False, 'verbose': 0} with a score of 0.5262689455981124\n",
      "Best parameters for SGD Classifier are {'alpha': 0.0001, 'class_weight': None, 'shuffle': False, 'verbose': 1} with a score of 0.5262689455981124\n",
      "Best parameters for SGD Classifier are {'alpha': 0.0001, 'class_weight': None, 'shuffle': False, 'verbose': 5} with a score of 0.5262689455981124\n",
      "Best parameters for SGD Classifier are {'alpha': 0.0001, 'class_weight': None, 'shuffle': False, 'verbose': 10} with a score of 0.5262689455981124\n",
      "Best parameters for SGD Classifier are {'alpha': 1, 'class_weight': None, 'shuffle': True, 'verbose': 5} with a score of 0.5287594125820824\n",
      "Best parameters for SGD Classifier are {'alpha': 1, 'class_weight': 'balanced', 'shuffle': True, 'verbose': 10} with a score of 0.5312310383440279\n",
      "Best parameters for SGD Classifier are {'alpha': 1, 'class_weight': None, 'shuffle': True, 'verbose': 0} with a score of 0.5390974626440659\n",
      "Best parameters for SGD Classifier are {'alpha': 1, 'class_weight': None, 'shuffle': True, 'verbose': 10} with a score of 0.5469471867700364\n",
      "Best parameters for SGD Classifier are {'alpha': 0.0001, 'class_weight': 'balanced', 'shuffle': True, 'verbose': 1} with a score of 0.5500536332513312\n",
      "Best parameters for SGD Classifier are {'alpha': 1, 'class_weight': 'balanced', 'shuffle': True, 'verbose': 0} with a score of 0.5517041671216394\n",
      "Best parameters for SGD Classifier are {'alpha': 1, 'class_weight': 'balanced', 'shuffle': True, 'verbose': 1} with a score of 0.5573154256082182\n",
      "Best parameters for SGD Classifier are {'alpha': 0.001, 'class_weight': None, 'shuffle': True, 'verbose': 1} with a score of 0.5777780632508388\n",
      "Best parameters for SGD Classifier are {'alpha': 0.0001, 'class_weight': 'balanced', 'shuffle': False, 'verbose': 0} with a score of 0.5796298556291363\n",
      "Best parameters for SGD Classifier are {'alpha': 0.0001, 'class_weight': 'balanced', 'shuffle': False, 'verbose': 1} with a score of 0.5796298556291363\n",
      "Best parameters for SGD Classifier are {'alpha': 0.0001, 'class_weight': 'balanced', 'shuffle': False, 'verbose': 5} with a score of 0.5796298556291363\n",
      "Best parameters for SGD Classifier are {'alpha': 0.0001, 'class_weight': 'balanced', 'shuffle': False, 'verbose': 10} with a score of 0.5796298556291363\n",
      "Best parameters for SGD Classifier are {'alpha': 0.0001, 'class_weight': 'balanced', 'shuffle': True, 'verbose': 5} with a score of 0.5903896921387142\n",
      "Best parameters for SGD Classifier are {'alpha': 0.001, 'class_weight': None, 'shuffle': True, 'verbose': 5} with a score of 0.5964163139290157\n",
      "Best parameters for SGD Classifier are {'alpha': 0.001, 'class_weight': 'balanced', 'shuffle': True, 'verbose': 1} with a score of 0.5995204052575573\n",
      "Best parameters for SGD Classifier are {'alpha': 0.01, 'class_weight': 'balanced', 'shuffle': False, 'verbose': 0} with a score of 0.6005207028632233\n",
      "Best parameters for SGD Classifier are {'alpha': 0.01, 'class_weight': 'balanced', 'shuffle': False, 'verbose': 1} with a score of 0.6005207028632233\n",
      "Best parameters for SGD Classifier are {'alpha': 0.01, 'class_weight': 'balanced', 'shuffle': False, 'verbose': 5} with a score of 0.6005207028632233\n",
      "Best parameters for SGD Classifier are {'alpha': 0.01, 'class_weight': 'balanced', 'shuffle': False, 'verbose': 10} with a score of 0.6005207028632233\n",
      "Best parameters for SGD Classifier are {'alpha': 0.001, 'class_weight': 'balanced', 'shuffle': True, 'verbose': 0} with a score of 0.6069648290052049\n",
      "Best parameters for SGD Classifier are {'alpha': 0.01, 'class_weight': None, 'shuffle': False, 'verbose': 0} with a score of 0.607965126610871\n",
      "Best parameters for SGD Classifier are {'alpha': 0.01, 'class_weight': None, 'shuffle': False, 'verbose': 1} with a score of 0.607965126610871\n",
      "Best parameters for SGD Classifier are {'alpha': 0.01, 'class_weight': None, 'shuffle': False, 'verbose': 5} with a score of 0.607965126610871\n",
      "Best parameters for SGD Classifier are {'alpha': 0.01, 'class_weight': None, 'shuffle': False, 'verbose': 10} with a score of 0.607965126610871\n",
      "Best parameters for SGD Classifier are {'alpha': 0.0001, 'class_weight': 'balanced', 'shuffle': True, 'verbose': 10} with a score of 0.6123093129163\n",
      "Best parameters for SGD Classifier are {'alpha': 0.0001, 'class_weight': None, 'shuffle': True, 'verbose': 5} with a score of 0.6125394755717133\n",
      "Best parameters for SGD Classifier are {'alpha': 0.0001, 'class_weight': None, 'shuffle': True, 'verbose': 1} with a score of 0.6133753406942561\n",
      "Best parameters for SGD Classifier are {'alpha': 0.001, 'class_weight': None, 'shuffle': True, 'verbose': 10} with a score of 0.6154339583052322\n",
      "Best parameters for SGD Classifier are {'alpha': 0.0001, 'class_weight': None, 'shuffle': True, 'verbose': 0} with a score of 0.6209944739552221\n",
      "Best parameters for SGD Classifier are {'alpha': 0.0001, 'class_weight': 'balanced', 'shuffle': True, 'verbose': 0} with a score of 0.6226807633264178\n",
      "Best parameters for SGD Classifier are {'alpha': 0.001, 'class_weight': 'balanced', 'shuffle': True, 'verbose': 5} with a score of 0.6245471148308251\n",
      "Best parameters for SGD Classifier are {'alpha': 0.001, 'class_weight': 'balanced', 'shuffle': False, 'verbose': 0} with a score of 0.6300952124026626\n",
      "Best parameters for SGD Classifier are {'alpha': 0.001, 'class_weight': 'balanced', 'shuffle': False, 'verbose': 1} with a score of 0.6300952124026626\n",
      "Best parameters for SGD Classifier are {'alpha': 0.001, 'class_weight': 'balanced', 'shuffle': False, 'verbose': 5} with a score of 0.6300952124026626\n",
      "Best parameters for SGD Classifier are {'alpha': 0.001, 'class_weight': 'balanced', 'shuffle': False, 'verbose': 10} with a score of 0.6300952124026626\n",
      "Best parameters for SGD Classifier are {'alpha': 0.01, 'class_weight': 'balanced', 'shuffle': True, 'verbose': 5} with a score of 0.6334142649461205\n",
      "Best parameters for SGD Classifier are {'alpha': 0.0001, 'class_weight': None, 'shuffle': True, 'verbose': 10} with a score of 0.6357062567844458\n",
      "Best parameters for SGD Classifier are {'alpha': 0.01, 'class_weight': None, 'shuffle': True, 'verbose': 0} with a score of 0.635907515292435\n",
      "Best parameters for SGD Classifier are {'alpha': 0.001, 'class_weight': 'balanced', 'shuffle': True, 'verbose': 10} with a score of 0.637957996921173\n",
      "Best parameters for SGD Classifier are {'alpha': 0.001, 'class_weight': None, 'shuffle': True, 'verbose': 0} with a score of 0.6431493959033189\n",
      "Best parameters for SGD Classifier are {'alpha': 0.01, 'class_weight': None, 'shuffle': True, 'verbose': 10} with a score of 0.6443796420596024\n",
      "Best parameters for SGD Classifier are {'alpha': 0.01, 'class_weight': 'balanced', 'shuffle': True, 'verbose': 1} with a score of 0.644815131214124\n",
      "Best parameters for SGD Classifier are {'alpha': 0.1, 'class_weight': None, 'shuffle': True, 'verbose': 5} with a score of 0.6497737982833077\n",
      "Best parameters for SGD Classifier are {'alpha': 0.01, 'class_weight': 'balanced', 'shuffle': True, 'verbose': 0} with a score of 0.6547388884963634\n",
      "Best parameters for SGD Classifier are {'alpha': 0.1, 'class_weight': 'balanced', 'shuffle': True, 'verbose': 5} with a score of 0.6555642624839153\n",
      "Best parameters for SGD Classifier are {'alpha': 0.001, 'class_weight': None, 'shuffle': False, 'verbose': 0} with a score of 0.6588434915353669\n",
      "Best parameters for SGD Classifier are {'alpha': 0.001, 'class_weight': None, 'shuffle': False, 'verbose': 1} with a score of 0.6588434915353669\n",
      "Best parameters for SGD Classifier are {'alpha': 0.001, 'class_weight': None, 'shuffle': False, 'verbose': 5} with a score of 0.6588434915353669\n",
      "Best parameters for SGD Classifier are {'alpha': 0.001, 'class_weight': None, 'shuffle': False, 'verbose': 10} with a score of 0.6588434915353669\n",
      "Best parameters for SGD Classifier are {'alpha': 0.1, 'class_weight': None, 'shuffle': False, 'verbose': 0} with a score of 0.6615549146685337\n",
      "Best parameters for SGD Classifier are {'alpha': 0.1, 'class_weight': None, 'shuffle': False, 'verbose': 1} with a score of 0.6615549146685337\n",
      "Best parameters for SGD Classifier are {'alpha': 0.1, 'class_weight': None, 'shuffle': False, 'verbose': 5} with a score of 0.6615549146685337\n",
      "Best parameters for SGD Classifier are {'alpha': 0.1, 'class_weight': None, 'shuffle': False, 'verbose': 10} with a score of 0.6615549146685337\n",
      "Best parameters for SGD Classifier are {'alpha': 0.01, 'class_weight': 'balanced', 'shuffle': True, 'verbose': 10} with a score of 0.6644631001089794\n",
      "Best parameters for SGD Classifier are {'alpha': 0.1, 'class_weight': 'balanced', 'shuffle': False, 'verbose': 0} with a score of 0.6671394100556458\n",
      "Best parameters for SGD Classifier are {'alpha': 0.1, 'class_weight': 'balanced', 'shuffle': False, 'verbose': 1} with a score of 0.6671394100556458\n",
      "Best parameters for SGD Classifier are {'alpha': 0.1, 'class_weight': 'balanced', 'shuffle': False, 'verbose': 5} with a score of 0.6671394100556458\n",
      "Best parameters for SGD Classifier are {'alpha': 0.1, 'class_weight': 'balanced', 'shuffle': False, 'verbose': 10} with a score of 0.6671394100556458\n",
      "Best parameters for SGD Classifier are {'alpha': 0.1, 'class_weight': 'balanced', 'shuffle': True, 'verbose': 1} with a score of 0.6677650242687786\n",
      "Best parameters for SGD Classifier are {'alpha': 0.1, 'class_weight': None, 'shuffle': True, 'verbose': 0} with a score of 0.6733550863805798\n",
      "Best parameters for SGD Classifier are {'alpha': 0.01, 'class_weight': None, 'shuffle': True, 'verbose': 5} with a score of 0.6754203412402234\n",
      "Best parameters for SGD Classifier are {'alpha': 0.1, 'class_weight': 'balanced', 'shuffle': True, 'verbose': 10} with a score of 0.680801437071389\n",
      "Best parameters for SGD Classifier are {'alpha': 0.1, 'class_weight': None, 'shuffle': True, 'verbose': 10} with a score of 0.6824558248280204\n",
      "Best parameters for SGD Classifier are {'alpha': 0.1, 'class_weight': 'balanced', 'shuffle': True, 'verbose': 0} with a score of 0.6836967762240906\n",
      "Best parameters for SGD Classifier are {'alpha': 0.01, 'class_weight': None, 'shuffle': True, 'verbose': 1} with a score of 0.683698060852865\n",
      "Best parameters for SGD Classifier are {'alpha': 0.1, 'class_weight': None, 'shuffle': True, 'verbose': 1} with a score of 0.6876268838545715\n"
     ]
    }
   ],
   "source": [
    "# loop that runs all of the possible parameter configurations from the parameter dictionary above\n",
    "for mean_score, params in sorted(list(zip(scores[\"mean_test_score\"], scores[\"params\"])),key = lambda x: x[0]):\n",
    "     print(f'Best parameters for SGD Classifier are {params} with a score of {mean_score}')"
   ]
  },
  {
   "cell_type": "markdown",
   "metadata": {
    "cell_id": "00056-e8ab4ca1-4204-42a9-b4a4-56698b136ae9",
    "deepnote_cell_type": "markdown",
    "tags": []
   },
   "source": [
    "Best parameters for SGD Classifier are {'alpha': 0.01, 'class_weight': None, 'shuffle': True, 'verbose': 5} using f_feature from Select K Best\n"
   ]
  },
  {
   "cell_type": "code",
   "execution_count": 66,
   "metadata": {
    "allow_embed": false,
    "cell_id": "00057-53c9d4dc-703a-4637-8a85-e503a2985dcf",
    "deepnote_cell_type": "code",
    "deepnote_to_be_reexecuted": false,
    "execution_millis": 59625,
    "execution_start": 1621959222198,
    "is_output_hidden": true,
    "source_hash": "6f44e136",
    "tags": []
   },
   "outputs": [
    {
     "name": "stdout",
     "output_type": "stream",
     "text": [
      "Norm: 0.24, NNZs: 15, Bias: 0.013260, T: 7736, Avg. loss: 0.944546\n",
      "Total training time: 0.00 seconds.\n",
      "-- Epoch 3\n",
      "Norm: 0.24, NNZs: 15, Bias: 0.004584, T: 11604, Avg. loss: 0.944139\n",
      "Total training time: 0.00 seconds.\n",
      "-- Epoch 4\n",
      "Norm: 0.24, NNZs: 15, Bias: -0.001461, T: 15472, Avg. loss: 0.943921\n",
      "Total training time: 0.01 seconds.\n",
      "-- Epoch 5\n",
      "Norm: 0.24, NNZs: 15, Bias: -0.006104, T: 19340, Avg. loss: 0.943775\n",
      "Total training time: 0.01 seconds.\n",
      "-- Epoch 6\n",
      "Norm: 0.24, NNZs: 15, Bias: -0.009876, T: 23208, Avg. loss: 0.943666\n",
      "Total training time: 0.01 seconds.\n",
      "-- Epoch 7\n",
      "Norm: 0.24, NNZs: 15, Bias: -0.013052, T: 27076, Avg. loss: 0.943579\n",
      "Total training time: 0.01 seconds.\n",
      "Convergence after 7 epochs took 0.01 seconds\n",
      "-- Epoch 1\n",
      "Norm: 0.20, NNZs: 15, Bias: -0.759855, T: 3867, Avg. loss: 0.939707\n",
      "Total training time: 0.00 seconds.\n",
      "-- Epoch 2\n",
      "Norm: 0.20, NNZs: 15, Bias: -0.760235, T: 7734, Avg. loss: 0.939062\n",
      "Total training time: 0.00 seconds.\n",
      "-- Epoch 3\n",
      "Norm: 0.20, NNZs: 15, Bias: -0.760101, T: 11601, Avg. loss: 0.939003\n",
      "Total training time: 0.00 seconds.\n",
      "-- Epoch 4\n",
      "Norm: 0.20, NNZs: 15, Bias: -0.760030, T: 15468, Avg. loss: 0.938976\n",
      "Total training time: 0.00 seconds.\n",
      "-- Epoch 5\n",
      "Norm: 0.20, NNZs: 15, Bias: -0.759891, T: 19335, Avg. loss: 0.938968\n",
      "Total training time: 0.00 seconds.\n",
      "-- Epoch 6\n",
      "Norm: 0.20, NNZs: 15, Bias: -0.759812, T: 23202, Avg. loss: 0.938962\n",
      "Total training time: 0.01 seconds.\n",
      "Convergence after 6 epochs took 0.01 seconds\n",
      "-- Epoch 1\n",
      "Norm: 0.23, NNZs: 15, Bias: 0.027397, T: 3867, Avg. loss: 0.947323\n",
      "Total training time: 0.00 seconds.\n",
      "-- Epoch 2\n",
      "Norm: 0.24, NNZs: 15, Bias: 0.011667, T: 7734, Avg. loss: 0.944687\n",
      "Total training time: 0.00 seconds.\n",
      "-- Epoch 3\n",
      "Norm: 0.24, NNZs: 15, Bias: 0.002891, T: 11601, Avg. loss: 0.944488\n",
      "Total training time: 0.00 seconds.\n",
      "-- Epoch 4\n",
      "Norm: 0.24, NNZs: 15, Bias: -0.003225, T: 15468, Avg. loss: 0.944357\n",
      "Total training time: 0.00 seconds.\n",
      "-- Epoch 5\n",
      "Norm: 0.24, NNZs: 15, Bias: -0.007925, T: 19335, Avg. loss: 0.944257\n",
      "Total training time: 0.00 seconds.\n",
      "-- Epoch 6\n",
      "Norm: 0.24, NNZs: 15, Bias: -0.011743, T: 23202, Avg. loss: 0.944177\n",
      "Total training time: 0.01 seconds.\n",
      "-- Epoch 7\n",
      "Norm: 0.24, NNZs: 15, Bias: -0.014958, T: 27069, Avg. loss: 0.944110\n",
      "Total training time: 0.01 seconds.\n",
      "Convergence after 7 epochs took 0.01 seconds\n",
      "-- Epoch 1\n",
      "Norm: 0.23, NNZs: 15, Bias: 0.029448, T: 3867, Avg. loss: 0.951113\n",
      "Total training time: 0.00 seconds.\n",
      "-- Epoch 2\n",
      "Norm: 0.23, NNZs: 15, Bias: 0.013861, T: 7734, Avg. loss: 0.948007\n",
      "Total training time: 0.00 seconds.\n",
      "-- Epoch 3\n",
      "Norm: 0.23, NNZs: 15, Bias: 0.005133, T: 11601, Avg. loss: 0.947681\n",
      "Total training time: 0.00 seconds.\n",
      "-- Epoch 4\n",
      "Norm: 0.23, NNZs: 15, Bias: -0.000960, T: 15468, Avg. loss: 0.947495\n",
      "Total training time: 0.00 seconds.\n",
      "-- Epoch 5\n",
      "Norm: 0.23, NNZs: 15, Bias: -0.005646, T: 19335, Avg. loss: 0.947366\n",
      "Total training time: 0.00 seconds.\n",
      "-- Epoch 6\n",
      "Norm: 0.23, NNZs: 15, Bias: -0.009455, T: 23202, Avg. loss: 0.947266\n",
      "Total training time: 0.01 seconds.\n",
      "-- Epoch 7\n",
      "Norm: 0.23, NNZs: 15, Bias: -0.012663, T: 27069, Avg. loss: 0.947186\n",
      "Total training time: 0.01 seconds.\n",
      "Convergence after 7 epochs took 0.01 seconds\n",
      "-- Epoch 1\n",
      "Norm: 0.23, NNZs: 15, Bias: 0.028962, T: 3867, Avg. loss: 0.949495\n",
      "Total training time: 0.00 seconds.\n",
      "-- Epoch 2\n",
      "Norm: 0.23, NNZs: 15, Bias: 0.013492, T: 7734, Avg. loss: 0.946165\n",
      "Total training time: 0.00 seconds.\n",
      "-- Epoch 3\n",
      "Norm: 0.23, NNZs: 15, Bias: 0.004883, T: 11601, Avg. loss: 0.945848\n",
      "Total training time: 0.00 seconds.\n",
      "-- Epoch 4\n",
      "Norm: 0.23, NNZs: 15, Bias: -0.001108, T: 15468, Avg. loss: 0.945670\n",
      "Total training time: 0.00 seconds.\n",
      "-- Epoch 5\n",
      "Norm: 0.23, NNZs: 15, Bias: -0.005708, T: 19335, Avg. loss: 0.945547\n",
      "Total training time: 0.00 seconds.\n",
      "-- Epoch 6\n",
      "Norm: 0.23, NNZs: 15, Bias: -0.009442, T: 23202, Avg. loss: 0.945453\n",
      "Total training time: 0.01 seconds.\n",
      "-- Epoch 7\n",
      "Norm: 0.23, NNZs: 15, Bias: -0.012585, T: 27069, Avg. loss: 0.945377\n",
      "Total training time: 0.01 seconds.\n",
      "Convergence after 7 epochs took 0.01 seconds\n",
      "-- Epoch 1\n",
      "Norm: 0.24, NNZs: 15, Bias: 0.028819, T: 3868, Avg. loss: 0.948445\n",
      "Total training time: 0.00 seconds.\n",
      "-- Epoch 2\n",
      "Norm: 0.24, NNZs: 15, Bias: 0.013260, T: 7736, Avg. loss: 0.944546\n",
      "Total training time: 0.00 seconds.\n",
      "-- Epoch 3\n",
      "Norm: 0.24, NNZs: 15, Bias: 0.004584, T: 11604, Avg. loss: 0.944139\n",
      "Total training time: 0.00 seconds.\n",
      "-- Epoch 4\n",
      "Norm: 0.24, NNZs: 15, Bias: -0.001461, T: 15472, Avg. loss: 0.943921\n",
      "Total training time: 0.00 seconds.\n",
      "-- Epoch 5\n",
      "Norm: 0.24, NNZs: 15, Bias: -0.006104, T: 19340, Avg. loss: 0.943775\n",
      "Total training time: 0.01 seconds.\n",
      "-- Epoch 6\n",
      "Norm: 0.24, NNZs: 15, Bias: -0.009876, T: 23208, Avg. loss: 0.943666\n",
      "Total training time: 0.01 seconds.\n",
      "-- Epoch 7\n",
      "Norm: 0.24, NNZs: 15, Bias: -0.013052, T: 27076, Avg. loss: 0.943579\n",
      "Total training time: 0.01 seconds.\n",
      "Convergence after 7 epochs took 0.01 seconds\n",
      "-- Epoch 1\n",
      "Norm: 0.22, NNZs: 15, Bias: -0.539458, T: 3867, Avg. loss: 0.941013\n",
      "Total training time: 0.00 seconds.\n",
      "-- Epoch 2\n",
      "Norm: 0.22, NNZs: 15, Bias: -0.544069, T: 7734, Avg. loss: 0.937892\n",
      "Total training time: 0.00 seconds.\n",
      "-- Epoch 3\n",
      "Norm: 0.22, NNZs: 15, Bias: -0.543393, T: 11601, Avg. loss: 0.938581\n",
      "Total training time: 0.00 seconds.\n",
      "-- Epoch 4\n",
      "Norm: 0.22, NNZs: 15, Bias: -0.543682, T: 15468, Avg. loss: 0.938227\n",
      "Total training time: 0.00 seconds.\n",
      "-- Epoch 5\n",
      "Norm: 0.22, NNZs: 15, Bias: -0.543547, T: 19335, Avg. loss: 0.938087\n",
      "Total training time: 0.01 seconds.\n",
      "-- Epoch 6\n",
      "Norm: 0.22, NNZs: 15, Bias: -0.543489, T: 23202, Avg. loss: 0.938109\n",
      "Total training time: 0.01 seconds.\n",
      "-- Epoch 7\n",
      "Norm: 0.22, NNZs: 15, Bias: -0.543553, T: 27069, Avg. loss: 0.937976\n",
      "Total training time: 0.01 seconds.\n",
      "Convergence after 7 epochs took 0.01 seconds\n",
      "-- Epoch 1\n",
      "Norm: 0.23, NNZs: 15, Bias: -0.587802, T: 3867, Avg. loss: 0.942381\n",
      "Total training time: 0.00 seconds.\n",
      "-- Epoch 2\n",
      "Norm: 0.23, NNZs: 15, Bias: -0.585496, T: 7734, Avg. loss: 0.936996\n",
      "Total training time: 0.00 seconds.\n",
      "-- Epoch 3\n",
      "Norm: 0.23, NNZs: 15, Bias: -0.585678, T: 11601, Avg. loss: 0.935511\n",
      "Total training time: 0.00 seconds.\n",
      "-- Epoch 4\n",
      "Norm: 0.23, NNZs: 15, Bias: -0.585325, T: 15468, Avg. loss: 0.935388\n",
      "Total training time: 0.00 seconds.\n",
      "-- Epoch 5\n",
      "Norm: 0.23, NNZs: 15, Bias: -0.585123, T: 19335, Avg. loss: 0.935172\n",
      "Total training time: 0.01 seconds.\n",
      "-- Epoch 6\n",
      "Norm: 0.23, NNZs: 15, Bias: -0.584977, T: 23202, Avg. loss: 0.935147\n",
      "Total training time: 0.01 seconds.\n",
      "-- Epoch 7\n",
      "Norm: 0.23, NNZs: 15, Bias: -0.584954, T: 27069, Avg. loss: 0.934995\n",
      "Total training time: 0.01 seconds.\n",
      "-- Epoch 8\n",
      "Norm: 0.23, NNZs: 15, Bias: -0.585100, T: 30936, Avg. loss: 0.934759\n",
      "Total training time: 0.01 seconds.\n",
      "Convergence after 8 epochs took 0.01 seconds\n",
      "-- Epoch 1\n",
      "Norm: 0.22, NNZs: 15, Bias: -0.320676, T: 3867, Avg. loss: 0.946960\n",
      "Total training time: 0.00 seconds.\n",
      "-- Epoch 2\n",
      "Norm: 0.22, NNZs: 15, Bias: -0.317888, T: 7734, Avg. loss: 0.944880\n",
      "Total training time: 0.00 seconds.\n",
      "-- Epoch 3\n",
      "Norm: 0.22, NNZs: 15, Bias: -0.317155, T: 11601, Avg. loss: 0.944206\n",
      "Total training time: 0.00 seconds.\n",
      "-- Epoch 4\n",
      "Norm: 0.22, NNZs: 15, Bias: -0.316783, T: 15468, Avg. loss: 0.943711\n",
      "Total training time: 0.00 seconds.\n",
      "-- Epoch 5\n",
      "Norm: 0.22, NNZs: 15, Bias: -0.316566, T: 19335, Avg. loss: 0.943440\n",
      "Total training time: 0.01 seconds.\n",
      "-- Epoch 6\n",
      "Norm: 0.22, NNZs: 15, Bias: -0.316675, T: 23202, Avg. loss: 0.943125\n",
      "Total training time: 0.01 seconds.\n",
      "-- Epoch 7\n",
      "Norm: 0.22, NNZs: 15, Bias: -0.316773, T: 27069, Avg. loss: 0.943079\n",
      "Total training time: 0.01 seconds.\n",
      "Convergence after 7 epochs took 0.01 seconds\n",
      "-- Epoch 1\n",
      "Norm: 0.23, NNZs: 15, Bias: 0.248706, T: 3867, Avg. loss: 0.956115\n",
      "Total training time: 0.06 seconds.\n",
      "-- Epoch 2\n",
      "Norm: 0.23, NNZs: 15, Bias: 0.253097, T: 7734, Avg. loss: 0.954141\n",
      "Total training time: 0.06 seconds.\n",
      "-- Epoch 3\n",
      "Norm: 0.23, NNZs: 15, Bias: 0.254597, T: 11601, Avg. loss: 0.953620\n",
      "Total training time: 0.07 seconds.\n",
      "-- Epoch 4\n",
      "Norm: 0.23, NNZs: 15, Bias: 0.254334, T: 15468, Avg. loss: 0.952638\n",
      "Total training time: 0.07 seconds.\n",
      "-- Epoch 5\n",
      "Norm: 0.23, NNZs: 15, Bias: 0.254176, T: 19335, Avg. loss: 0.952723\n",
      "Total training time: 0.07 seconds.\n",
      "-- Epoch 6\n",
      "Norm: 0.23, NNZs: 15, Bias: 0.254076, T: 23202, Avg. loss: 0.952548\n",
      "Total training time: 0.07 seconds.\n",
      "-- Epoch 7\n",
      "Norm: 0.23, NNZs: 15, Bias: 0.254019, T: 27069, Avg. loss: 0.952693\n",
      "Total training time: 0.07 seconds.\n",
      "Convergence after 7 epochs took 0.07 seconds\n",
      "-- Epoch 1\n",
      "Norm: 0.23, NNZs: 15, Bias: -0.564594, T: 3868, Avg. loss: 0.937798\n",
      "Total training time: 0.00 seconds.\n",
      "-- Epoch 2\n",
      "Norm: 0.23, NNZs: 15, Bias: -0.567372, T: 7736, Avg. loss: 0.934925\n",
      "Total training time: 0.00 seconds.\n",
      "-- Epoch 3\n",
      "Norm: 0.23, NNZs: 15, Bias: -0.568396, T: 11604, Avg. loss: 0.934818\n",
      "Total training time: 0.00 seconds.\n",
      "-- Epoch 4\n",
      "Norm: 0.23, NNZs: 15, Bias: -0.568689, T: 15472, Avg. loss: 0.934622\n",
      "Total training time: 0.00 seconds.\n",
      "-- Epoch 5\n",
      "Norm: 0.23, NNZs: 15, Bias: -0.568861, T: 19340, Avg. loss: 0.934558\n",
      "Total training time: 0.01 seconds.\n",
      "-- Epoch 6\n",
      "Norm: 0.23, NNZs: 15, Bias: -0.568703, T: 23208, Avg. loss: 0.934762\n",
      "Total training time: 0.01 seconds.\n",
      "-- Epoch 7\n",
      "Norm: 0.23, NNZs: 15, Bias: -0.568766, T: 27076, Avg. loss: 0.934398\n",
      "Total training time: 0.01 seconds.\n",
      "Convergence after 7 epochs took 0.01 seconds\n",
      "-- Epoch 1\n",
      "Norm: 0.22, NNZs: 15, Bias: 0.658780, T: 3867, Avg. loss: 0.971676\n",
      "Total training time: 0.00 seconds.\n",
      "-- Epoch 2\n",
      "Norm: 0.22, NNZs: 15, Bias: 0.656418, T: 7734, Avg. loss: 0.963388\n",
      "Total training time: 0.00 seconds.\n",
      "-- Epoch 3\n",
      "Norm: 0.22, NNZs: 15, Bias: 0.655742, T: 11601, Avg. loss: 0.962786\n",
      "Total training time: 0.00 seconds.\n",
      "-- Epoch 4\n",
      "Norm: 0.22, NNZs: 15, Bias: 0.655454, T: 15468, Avg. loss: 0.962329\n",
      "Total training time: 0.00 seconds.\n",
      "-- Epoch 5\n",
      "Norm: 0.22, NNZs: 15, Bias: 0.655539, T: 19335, Avg. loss: 0.962571\n",
      "Total training time: 0.01 seconds.\n",
      "-- Epoch 6\n",
      "Norm: 0.22, NNZs: 15, Bias: 0.655460, T: 23202, Avg. loss: 0.962589\n",
      "Total training time: 0.01 seconds.\n",
      "-- Epoch 7\n",
      "Norm: 0.22, NNZs: 15, Bias: 0.655307, T: 27069, Avg. loss: 0.962428\n",
      "Total training time: 0.01 seconds.\n",
      "Convergence after 7 epochs took 0.01 seconds\n",
      "-- Epoch 1\n",
      "Norm: 0.23, NNZs: 15, Bias: 0.418175, T: 3867, Avg. loss: 0.951999\n",
      "Total training time: 0.00 seconds.\n",
      "-- Epoch 2\n",
      "Norm: 0.23, NNZs: 15, Bias: 0.418297, T: 7734, Avg. loss: 0.955790\n",
      "Total training time: 0.00 seconds.\n",
      "-- Epoch 3\n",
      "Norm: 0.23, NNZs: 15, Bias: 0.419020, T: 11601, Avg. loss: 0.955837\n",
      "Total training time: 0.00 seconds.\n",
      "-- Epoch 4\n",
      "Norm: 0.23, NNZs: 15, Bias: 0.419011, T: 15468, Avg. loss: 0.955216\n",
      "Total training time: 0.00 seconds.\n",
      "-- Epoch 5\n",
      "Norm: 0.23, NNZs: 15, Bias: 0.419014, T: 19335, Avg. loss: 0.955524\n",
      "Total training time: 0.01 seconds.\n",
      "-- Epoch 6\n",
      "Norm: 0.23, NNZs: 15, Bias: 0.418919, T: 23202, Avg. loss: 0.955323\n",
      "Total training time: 0.01 seconds.\n",
      "Convergence after 6 epochs took 0.01 seconds\n",
      "-- Epoch 1\n",
      "Norm: 0.22, NNZs: 15, Bias: 0.529012, T: 3867, Avg. loss: 0.961261\n",
      "Total training time: 0.00 seconds.\n",
      "-- Epoch 2\n",
      "Norm: 0.22, NNZs: 15, Bias: 0.528651, T: 7734, Avg. loss: 0.961678\n",
      "Total training time: 0.00 seconds.\n",
      "-- Epoch 3\n",
      "Norm: 0.22, NNZs: 15, Bias: 0.528277, T: 11601, Avg. loss: 0.960647\n",
      "Total training time: 0.00 seconds.\n",
      "-- Epoch 4\n",
      "Norm: 0.22, NNZs: 15, Bias: 0.528153, T: 15468, Avg. loss: 0.960626\n",
      "Total training time: 0.01 seconds.\n",
      "-- Epoch 5\n",
      "Norm: 0.22, NNZs: 15, Bias: 0.528163, T: 19335, Avg. loss: 0.960501\n",
      "Total training time: 0.01 seconds.\n",
      "-- Epoch 6\n",
      "Norm: 0.22, NNZs: 15, Bias: 0.528205, T: 23202, Avg. loss: 0.960484\n",
      "Total training time: 0.01 seconds.\n",
      "Convergence after 6 epochs took 0.01 seconds\n",
      "-- Epoch 1\n",
      "Norm: 0.22, NNZs: 15, Bias: -0.582880, T: 3867, Avg. loss: 0.942575\n",
      "Total training time: 0.00 seconds.\n",
      "-- Epoch 2\n",
      "Norm: 0.23, NNZs: 15, Bias: -0.586023, T: 7734, Avg. loss: 0.936373\n",
      "Total training time: 0.00 seconds.\n",
      "-- Epoch 3\n",
      "Norm: 0.23, NNZs: 15, Bias: -0.586191, T: 11601, Avg. loss: 0.936584\n",
      "Total training time: 0.00 seconds.\n",
      "-- Epoch 4\n",
      "Norm: 0.23, NNZs: 15, Bias: -0.586173, T: 15468, Avg. loss: 0.936411\n",
      "Total training time: 0.00 seconds.\n",
      "-- Epoch 5\n",
      "Norm: 0.23, NNZs: 15, Bias: -0.585804, T: 19335, Avg. loss: 0.936638\n",
      "Total training time: 0.01 seconds.\n",
      "-- Epoch 6\n",
      "Norm: 0.23, NNZs: 15, Bias: -0.585803, T: 23202, Avg. loss: 0.936302\n",
      "Total training time: 0.01 seconds.\n",
      "-- Epoch 7\n",
      "Norm: 0.23, NNZs: 15, Bias: -0.585828, T: 27069, Avg. loss: 0.936249\n",
      "Total training time: 0.01 seconds.\n",
      "Convergence after 7 epochs took 0.01 seconds\n",
      "-- Epoch 1\n",
      "Norm: 0.23, NNZs: 15, Bias: 0.303638, T: 3868, Avg. loss: 0.954072\n",
      "Total training time: 0.00 seconds.\n",
      "-- Epoch 2\n",
      "Norm: 0.23, NNZs: 15, Bias: 0.308482, T: 7736, Avg. loss: 0.953016\n",
      "Total training time: 0.00 seconds.\n",
      "-- Epoch 3\n",
      "Norm: 0.23, NNZs: 15, Bias: 0.309487, T: 11604, Avg. loss: 0.952590\n",
      "Total training time: 0.00 seconds.\n",
      "-- Epoch 4\n",
      "Norm: 0.23, NNZs: 15, Bias: 0.309429, T: 15472, Avg. loss: 0.952273\n",
      "Total training time: 0.01 seconds.\n",
      "-- Epoch 5\n",
      "Norm: 0.23, NNZs: 15, Bias: 0.309782, T: 19340, Avg. loss: 0.952293\n",
      "Total training time: 0.01 seconds.\n",
      "-- Epoch 6\n",
      "Norm: 0.23, NNZs: 15, Bias: 0.309564, T: 23208, Avg. loss: 0.951996\n",
      "Total training time: 0.01 seconds.\n",
      "-- Epoch 7\n",
      "Norm: 0.23, NNZs: 15, Bias: 0.309663, T: 27076, Avg. loss: 0.952108\n",
      "Total training time: 0.01 seconds.\n",
      "Convergence after 7 epochs took 0.01 seconds\n",
      "-- Epoch 1\n",
      "Norm: 0.22, NNZs: 15, Bias: -0.287467, T: 3867, Avg. loss: 0.945527\n",
      "Total training time: 0.00 seconds.\n",
      "-- Epoch 2\n",
      "Norm: 0.22, NNZs: 15, Bias: -0.287949, T: 7734, Avg. loss: 0.944168\n",
      "Total training time: 0.00 seconds.\n",
      "-- Epoch 3\n",
      "Norm: 0.22, NNZs: 15, Bias: -0.287918, T: 11601, Avg. loss: 0.943495\n",
      "Total training time: 0.00 seconds.\n",
      "-- Epoch 4\n",
      "Norm: 0.22, NNZs: 15, Bias: -0.288002, T: 15468, Avg. loss: 0.943644\n",
      "Total training time: 0.00 seconds.\n",
      "-- Epoch 5\n",
      "Norm: 0.22, NNZs: 15, Bias: -0.287804, T: 19335, Avg. loss: 0.943547\n",
      "Total training time: 0.00 seconds.\n",
      "-- Epoch 6\n",
      "Norm: 0.22, NNZs: 15, Bias: -0.287725, T: 23202, Avg. loss: 0.943270\n",
      "Total training time: 0.01 seconds.\n",
      "-- Epoch 7\n",
      "Norm: 0.22, NNZs: 15, Bias: -0.287971, T: 27069, Avg. loss: 0.943090\n",
      "Total training time: 0.01 seconds.\n",
      "Convergence after 7 epochs took 0.01 seconds\n",
      "-- Epoch 1\n",
      "Norm: 0.23, NNZs: 15, Bias: -0.082734, T: 3867, Avg. loss: 0.953959\n",
      "Total training time: 0.00 seconds.\n",
      "-- Epoch 2\n",
      "Norm: 0.23, NNZs: 15, Bias: -0.082287, T: 7734, Avg. loss: 0.945207\n",
      "Total training time: 0.08 seconds.\n",
      "-- Epoch 3\n",
      "Norm: 0.23, NNZs: 15, Bias: -0.081495, T: 11601, Avg. loss: 0.945381\n",
      "Total training time: 0.08 seconds.\n",
      "-- Epoch 4\n",
      "Norm: 0.23, NNZs: 15, Bias: -0.081551, T: 15468, Avg. loss: 0.945080\n",
      "Total training time: 0.08 seconds.\n",
      "-- Epoch 5\n",
      "Norm: 0.23, NNZs: 15, Bias: -0.081668, T: 19335, Avg. loss: 0.945225\n",
      "Total training time: 0.08 seconds.\n",
      "-- Epoch 6\n",
      "Norm: 0.23, NNZs: 15, Bias: -0.081610, T: 23202, Avg. loss: 0.945234\n",
      "Total training time: 0.08 seconds.\n",
      "-- Epoch 7\n",
      "Norm: 0.23, NNZs: 15, Bias: -0.081516, T: 27069, Avg. loss: 0.945149\n",
      "Total training time: 0.08 seconds.\n",
      "Convergence after 7 epochs took 0.08 seconds\n",
      "-- Epoch 1\n",
      "Norm: 0.22, NNZs: 15, Bias: -0.453191, T: 3867, Avg. loss: 0.943353\n",
      "Total training time: 0.00 seconds.\n",
      "-- Epoch 2\n",
      "Norm: 0.22, NNZs: 15, Bias: -0.455188, T: 7734, Avg. loss: 0.939986\n",
      "Total training time: 0.00 seconds.\n",
      "-- Epoch 3\n",
      "Norm: 0.22, NNZs: 15, Bias: -0.454133, T: 11601, Avg. loss: 0.940583\n",
      "Total training time: 0.00 seconds.\n",
      "-- Epoch 4\n",
      "Norm: 0.22, NNZs: 15, Bias: -0.453575, T: 15468, Avg. loss: 0.940688\n",
      "Total training time: 0.00 seconds.\n",
      "-- Epoch 5\n",
      "Norm: 0.22, NNZs: 15, Bias: -0.453557, T: 19335, Avg. loss: 0.940672\n",
      "Total training time: 0.01 seconds.\n",
      "-- Epoch 6\n",
      "Norm: 0.22, NNZs: 15, Bias: -0.453535, T: 23202, Avg. loss: 0.940323\n",
      "Total training time: 0.01 seconds.\n",
      "-- Epoch 7\n",
      "Norm: 0.22, NNZs: 15, Bias: -0.453470, T: 27069, Avg. loss: 0.940480\n",
      "Total training time: 0.01 seconds.\n",
      "Convergence after 7 epochs took 0.01 seconds\n",
      "-- Epoch 1\n",
      "Norm: 0.22, NNZs: 15, Bias: -0.646093, T: 3867, Avg. loss: 0.939483\n",
      "Total training time: 0.01 seconds.\n",
      "-- Epoch 2\n",
      "Norm: 0.23, NNZs: 15, Bias: -0.647285, T: 7734, Avg. loss: 0.935503\n",
      "Total training time: 0.01 seconds.\n",
      "-- Epoch 3\n",
      "Norm: 0.23, NNZs: 15, Bias: -0.646959, T: 11601, Avg. loss: 0.935649\n",
      "Total training time: 0.01 seconds.\n",
      "-- Epoch 4\n",
      "Norm: 0.23, NNZs: 15, Bias: -0.647099, T: 15468, Avg. loss: 0.935336\n",
      "Total training time: 0.01 seconds.\n",
      "-- Epoch 5\n",
      "Norm: 0.23, NNZs: 15, Bias: -0.646988, T: 19335, Avg. loss: 0.935179\n",
      "Total training time: 0.02 seconds.\n",
      "-- Epoch 6\n",
      "Norm: 0.23, NNZs: 15, Bias: -0.647037, T: 23202, Avg. loss: 0.935003\n",
      "Total training time: 0.02 seconds.\n",
      "-- Epoch 7\n",
      "Norm: 0.23, NNZs: 15, Bias: -0.647022, T: 27069, Avg. loss: 0.935011\n",
      "Total training time: 0.02 seconds.\n",
      "Convergence after 7 epochs took 0.02 seconds\n",
      "-- Epoch 1\n",
      "Norm: 0.23, NNZs: 15, Bias: -0.412357, T: 3868, Avg. loss: 0.941518\n",
      "Total training time: 0.01 seconds.\n",
      "-- Epoch 2\n",
      "Norm: 0.23, NNZs: 15, Bias: -0.410705, T: 7736, Avg. loss: 0.938887\n",
      "Total training time: 0.01 seconds.\n",
      "-- Epoch 3\n",
      "Norm: 0.23, NNZs: 15, Bias: -0.409152, T: 11604, Avg. loss: 0.938643\n",
      "Total training time: 0.01 seconds.\n",
      "-- Epoch 4\n",
      "Norm: 0.23, NNZs: 15, Bias: -0.409381, T: 15472, Avg. loss: 0.937772\n",
      "Total training time: 0.01 seconds.\n",
      "-- Epoch 5\n",
      "Norm: 0.23, NNZs: 15, Bias: -0.409658, T: 19340, Avg. loss: 0.937677\n",
      "Total training time: 0.02 seconds.\n",
      "-- Epoch 6\n",
      "Norm: 0.23, NNZs: 15, Bias: -0.409590, T: 23208, Avg. loss: 0.937897\n",
      "Total training time: 0.02 seconds.\n",
      "-- Epoch 7\n",
      "Norm: 0.23, NNZs: 15, Bias: -0.409700, T: 27076, Avg. loss: 0.937714\n",
      "Total training time: 0.02 seconds.\n",
      "Convergence after 7 epochs took 0.02 seconds\n",
      "-- Epoch 1\n",
      "Norm: 0.22, NNZs: 15, Bias: -0.686357, T: 3867, Avg. loss: 0.938113\n",
      "Total training time: 0.00 seconds.\n",
      "-- Epoch 2\n",
      "Norm: 0.22, NNZs: 15, Bias: -0.687095, T: 7734, Avg. loss: 0.935787\n",
      "Total training time: 0.01 seconds.\n",
      "-- Epoch 3\n",
      "Norm: 0.22, NNZs: 15, Bias: -0.687238, T: 11601, Avg. loss: 0.935483\n",
      "Total training time: 0.01 seconds.\n",
      "-- Epoch 4\n",
      "Norm: 0.22, NNZs: 15, Bias: -0.687264, T: 15468, Avg. loss: 0.935366\n",
      "Total training time: 0.01 seconds.\n",
      "-- Epoch 5\n",
      "Norm: 0.22, NNZs: 15, Bias: -0.687202, T: 19335, Avg. loss: 0.935303\n",
      "Total training time: 0.01 seconds.\n",
      "-- Epoch 6\n",
      "Norm: 0.22, NNZs: 15, Bias: -0.687182, T: 23202, Avg. loss: 0.935273\n",
      "Total training time: 0.01 seconds.\n",
      "-- Epoch 7\n",
      "Norm: 0.22, NNZs: 15, Bias: -0.687155, T: 27069, Avg. loss: 0.935245\n",
      "Total training time: 0.01 seconds.\n",
      "Convergence after 7 epochs took 0.01 seconds\n",
      "-- Epoch 1\n",
      "Norm: 0.23, NNZs: 15, Bias: 0.068531, T: 3867, Avg. loss: 0.948325\n",
      "Total training time: 0.08 seconds.\n",
      "-- Epoch 2\n",
      "Norm: 0.23, NNZs: 15, Bias: 0.066960, T: 7734, Avg. loss: 0.947785\n",
      "Total training time: 0.08 seconds.\n",
      "-- Epoch 3\n",
      "Norm: 0.23, NNZs: 15, Bias: 0.066467, T: 11601, Avg. loss: 0.947867\n",
      "Total training time: 0.08 seconds.\n",
      "-- Epoch 4\n",
      "Norm: 0.23, NNZs: 15, Bias: 0.066228, T: 15468, Avg. loss: 0.947903\n",
      "Total training time: 0.09 seconds.\n",
      "-- Epoch 5\n",
      "Norm: 0.23, NNZs: 15, Bias: 0.066086, T: 19335, Avg. loss: 0.947923\n",
      "Total training time: 0.09 seconds.\n",
      "-- Epoch 6\n",
      "Norm: 0.23, NNZs: 15, Bias: 0.065993, T: 23202, Avg. loss: 0.947935\n",
      "Total training time: 0.09 seconds.\n",
      "Convergence after 6 epochs took 0.09 seconds\n",
      "-- Epoch 1\n",
      "Norm: 0.22, NNZs: 15, Bias: 0.070583, T: 3867, Avg. loss: 0.952059\n",
      "Total training time: 0.00 seconds.\n",
      "-- Epoch 2\n",
      "Norm: 0.22, NNZs: 15, Bias: 0.069155, T: 7734, Avg. loss: 0.951020\n",
      "Total training time: 0.00 seconds.\n",
      "-- Epoch 3\n",
      "Norm: 0.22, NNZs: 15, Bias: 0.068710, T: 11601, Avg. loss: 0.950973\n",
      "Total training time: 0.08 seconds.\n",
      "-- Epoch 4\n",
      "Norm: 0.22, NNZs: 15, Bias: 0.068494, T: 15468, Avg. loss: 0.950953\n",
      "Total training time: 0.08 seconds.\n",
      "-- Epoch 5\n",
      "Norm: 0.22, NNZs: 15, Bias: 0.068366, T: 19335, Avg. loss: 0.950942\n",
      "Total training time: 0.08 seconds.\n",
      "-- Epoch 6\n",
      "Norm: 0.22, NNZs: 15, Bias: 0.068282, T: 23202, Avg. loss: 0.950935\n",
      "Total training time: 0.08 seconds.\n",
      "-- Epoch 7\n",
      "Norm: 0.22, NNZs: 15, Bias: 0.068222, T: 27069, Avg. loss: 0.950930\n",
      "Total training time: 0.08 seconds.\n",
      "Convergence after 7 epochs took 0.08 seconds\n",
      "-- Epoch 1\n",
      "Norm: 0.23, NNZs: 15, Bias: 0.065962, T: 3867, Avg. loss: 0.950180\n",
      "Total training time: 0.00 seconds.\n",
      "-- Epoch 2\n",
      "Norm: 0.23, NNZs: 15, Bias: 0.064292, T: 7734, Avg. loss: 0.948885\n",
      "Total training time: 0.01 seconds.\n",
      "-- Epoch 3\n",
      "Norm: 0.23, NNZs: 15, Bias: 0.063756, T: 11601, Avg. loss: 0.948837\n",
      "Total training time: 0.01 seconds.\n",
      "-- Epoch 4\n",
      "Norm: 0.23, NNZs: 15, Bias: 0.063493, T: 15468, Avg. loss: 0.948819\n",
      "Total training time: 0.01 seconds.\n",
      "-- Epoch 5\n",
      "Norm: 0.23, NNZs: 15, Bias: 0.063336, T: 19335, Avg. loss: 0.948810\n",
      "Total training time: 0.01 seconds.\n",
      "-- Epoch 6\n",
      "Norm: 0.23, NNZs: 15, Bias: 0.063233, T: 23202, Avg. loss: 0.948805\n",
      "Total training time: 0.01 seconds.\n",
      "-- Epoch 7\n",
      "Norm: 0.23, NNZs: 15, Bias: 0.063159, T: 27069, Avg. loss: 0.948801\n",
      "Total training time: 0.02 seconds.\n",
      "Convergence after 7 epochs took 0.02 seconds\n",
      "-- Epoch 1\n",
      "Norm: 0.23, NNZs: 15, Bias: 0.067849, T: 3868, Avg. loss: 0.949250\n",
      "Total training time: 0.00 seconds.\n",
      "-- Epoch 2\n",
      "Norm: 0.23, NNZs: 15, Bias: 0.066266, T: 7736, Avg. loss: 0.947401\n",
      "Total training time: 0.00 seconds.\n",
      "-- Epoch 3\n",
      "Norm: 0.23, NNZs: 15, Bias: 0.065766, T: 11604, Avg. loss: 0.947267\n",
      "Total training time: 0.01 seconds.\n",
      "-- Epoch 4\n",
      "Norm: 0.23, NNZs: 15, Bias: 0.065523, T: 15472, Avg. loss: 0.947213\n",
      "Total training time: 0.01 seconds.\n",
      "-- Epoch 5\n",
      "Norm: 0.23, NNZs: 15, Bias: 0.065379, T: 19340, Avg. loss: 0.947183\n",
      "Total training time: 0.01 seconds.\n",
      "-- Epoch 6\n",
      "Norm: 0.23, NNZs: 15, Bias: 0.065283, T: 23208, Avg. loss: 0.947164\n",
      "Total training time: 0.01 seconds.\n",
      "-- Epoch 7\n",
      "Norm: 0.23, NNZs: 15, Bias: 0.065216, T: 27076, Avg. loss: 0.947151\n",
      "Total training time: 0.01 seconds.\n",
      "Convergence after 7 epochs took 0.01 seconds\n",
      "-- Epoch 1\n",
      "Norm: 0.22, NNZs: 15, Bias: -0.686357, T: 3867, Avg. loss: 0.938113\n",
      "Total training time: 0.00 seconds.\n",
      "-- Epoch 2\n",
      "Norm: 0.22, NNZs: 15, Bias: -0.687095, T: 7734, Avg. loss: 0.935787\n",
      "Total training time: 0.00 seconds.\n",
      "-- Epoch 3\n",
      "Norm: 0.22, NNZs: 15, Bias: -0.687238, T: 11601, Avg. loss: 0.935483\n",
      "Total training time: 0.00 seconds.\n",
      "-- Epoch 4\n",
      "Norm: 0.22, NNZs: 15, Bias: -0.687264, T: 15468, Avg. loss: 0.935366\n",
      "Total training time: 0.00 seconds.\n",
      "-- Epoch 5\n",
      "Norm: 0.22, NNZs: 15, Bias: -0.687202, T: 19335, Avg. loss: 0.935303\n",
      "Total training time: 0.00 seconds.\n",
      "-- Epoch 6\n",
      "Norm: 0.22, NNZs: 15, Bias: -0.687182, T: 23202, Avg. loss: 0.935273\n",
      "Total training time: 0.00 seconds.\n",
      "-- Epoch 7\n",
      "Norm: 0.22, NNZs: 15, Bias: -0.687155, T: 27069, Avg. loss: 0.935245\n",
      "Total training time: 0.00 seconds.\n",
      "Convergence after 7 epochs took 0.00 seconds\n",
      "-- Epoch 1\n",
      "Norm: 0.23, NNZs: 15, Bias: 0.068531, T: 3867, Avg. loss: 0.948325\n",
      "Total training time: 0.00 seconds.\n",
      "-- Epoch 2\n",
      "Norm: 0.23, NNZs: 15, Bias: 0.066960, T: 7734, Avg. loss: 0.947785\n",
      "Total training time: 0.00 seconds.\n",
      "-- Epoch 3\n",
      "Norm: 0.23, NNZs: 15, Bias: 0.066467, T: 11601, Avg. loss: 0.947867\n",
      "Total training time: 0.07 seconds.\n",
      "-- Epoch 4\n",
      "Norm: 0.23, NNZs: 15, Bias: 0.066228, T: 15468, Avg. loss: 0.947903\n",
      "Total training time: 0.07 seconds.\n",
      "-- Epoch 5\n",
      "Norm: 0.23, NNZs: 15, Bias: 0.066086, T: 19335, Avg. loss: 0.947923\n",
      "Total training time: 0.07 seconds.\n",
      "-- Epoch 6\n",
      "Norm: 0.23, NNZs: 15, Bias: 0.065993, T: 23202, Avg. loss: 0.947935\n",
      "Total training time: 0.07 seconds.\n",
      "Convergence after 6 epochs took 0.07 seconds\n",
      "-- Epoch 1\n",
      "Norm: 0.22, NNZs: 15, Bias: 0.070583, T: 3867, Avg. loss: 0.952059\n",
      "Total training time: 0.00 seconds.\n",
      "-- Epoch 2\n",
      "Norm: 0.22, NNZs: 15, Bias: 0.069155, T: 7734, Avg. loss: 0.951020\n",
      "Total training time: 0.00 seconds.\n",
      "-- Epoch 3\n",
      "Norm: 0.22, NNZs: 15, Bias: 0.068710, T: 11601, Avg. loss: 0.950973\n",
      "Total training time: 0.01 seconds.\n",
      "-- Epoch 4\n",
      "Norm: 0.22, NNZs: 15, Bias: 0.068494, T: 15468, Avg. loss: 0.950953\n",
      "Total training time: 0.01 seconds.\n",
      "-- Epoch 5\n",
      "Norm: 0.22, NNZs: 15, Bias: 0.068366, T: 19335, Avg. loss: 0.950942\n",
      "Total training time: 0.01 seconds.\n",
      "-- Epoch 6\n",
      "Norm: 0.22, NNZs: 15, Bias: 0.068282, T: 23202, Avg. loss: 0.950935\n",
      "Total training time: 0.01 seconds.\n",
      "-- Epoch 7\n",
      "Norm: 0.22, NNZs: 15, Bias: 0.068222, T: 27069, Avg. loss: 0.950930\n",
      "Total training time: 0.01 seconds.\n",
      "Convergence after 7 epochs took 0.01 seconds\n",
      "-- Epoch 1\n",
      "Norm: 0.23, NNZs: 15, Bias: 0.065962, T: 3867, Avg. loss: 0.950180\n",
      "Total training time: 0.01 seconds.\n",
      "-- Epoch 2\n",
      "Norm: 0.23, NNZs: 15, Bias: 0.064292, T: 7734, Avg. loss: 0.948885\n",
      "Total training time: 0.01 seconds.\n",
      "-- Epoch 3\n",
      "Norm: 0.23, NNZs: 15, Bias: 0.063756, T: 11601, Avg. loss: 0.948837\n",
      "Total training time: 0.01 seconds.\n",
      "-- Epoch 4\n",
      "Norm: 0.23, NNZs: 15, Bias: 0.063493, T: 15468, Avg. loss: 0.948819\n",
      "Total training time: 0.02 seconds.\n",
      "-- Epoch 5\n",
      "Norm: 0.23, NNZs: 15, Bias: 0.063336, T: 19335, Avg. loss: 0.948810\n",
      "Total training time: 0.02 seconds.\n",
      "-- Epoch 6\n",
      "Norm: 0.23, NNZs: 15, Bias: 0.063233, T: 23202, Avg. loss: 0.948805\n",
      "Total training time: 0.02 seconds.\n",
      "-- Epoch 7\n",
      "Norm: 0.23, NNZs: 15, Bias: 0.063159, T: 27069, Avg. loss: 0.948801\n",
      "Total training time: 0.02 seconds.\n",
      "Convergence after 7 epochs took 0.02 seconds\n",
      "-- Epoch 1\n",
      "Norm: 0.23, NNZs: 15, Bias: 0.067849, T: 3868, Avg. loss: 0.949250\n",
      "Total training time: 0.00 seconds.\n",
      "-- Epoch 2\n",
      "Norm: 0.23, NNZs: 15, Bias: 0.066266, T: 7736, Avg. loss: 0.947401\n",
      "Total training time: 0.01 seconds.\n",
      "-- Epoch 3\n",
      "Norm: 0.23, NNZs: 15, Bias: 0.065766, T: 11604, Avg. loss: 0.947267\n",
      "Total training time: 0.01 seconds.\n",
      "-- Epoch 4\n",
      "Norm: 0.23, NNZs: 15, Bias: 0.065523, T: 15472, Avg. loss: 0.947213\n",
      "Total training time: 0.01 seconds.\n",
      "-- Epoch 5\n",
      "Norm: 0.23, NNZs: 15, Bias: 0.065379, T: 19340, Avg. loss: 0.947183\n",
      "Total training time: 0.01 seconds.\n",
      "-- Epoch 6\n",
      "Norm: 0.23, NNZs: 15, Bias: 0.065283, T: 23208, Avg. loss: 0.947164\n",
      "Total training time: 0.01 seconds.\n",
      "-- Epoch 7\n",
      "Norm: 0.23, NNZs: 15, Bias: 0.065216, T: 27076, Avg. loss: 0.947151\n",
      "Total training time: 0.01 seconds.\n",
      "Convergence after 7 epochs took 0.01 seconds\n",
      "-- Epoch 1\n",
      "Norm: 0.22, NNZs: 15, Bias: -0.686357, T: 3867, Avg. loss: 0.938113\n",
      "Total training time: 0.00 seconds.\n",
      "-- Epoch 2\n",
      "Norm: 0.22, NNZs: 15, Bias: -0.687095, T: 7734, Avg. loss: 0.935787\n",
      "Total training time: 0.01 seconds.\n",
      "-- Epoch 3\n",
      "Norm: 0.22, NNZs: 15, Bias: -0.687238, T: 11601, Avg. loss: 0.935483\n",
      "Total training time: 0.01 seconds.\n",
      "-- Epoch 4\n",
      "Norm: 0.22, NNZs: 15, Bias: -0.687264, T: 15468, Avg. loss: 0.935366\n",
      "Total training time: 0.01 seconds.\n",
      "-- Epoch 5\n",
      "Norm: 0.22, NNZs: 15, Bias: -0.687202, T: 19335, Avg. loss: 0.935303\n",
      "Total training time: 0.01 seconds.\n",
      "-- Epoch 6\n",
      "Norm: 0.22, NNZs: 15, Bias: -0.687182, T: 23202, Avg. loss: 0.935273\n",
      "Total training time: 0.01 seconds.\n",
      "-- Epoch 7\n",
      "Norm: 0.22, NNZs: 15, Bias: -0.687155, T: 27069, Avg. loss: 0.935245\n",
      "Total training time: 0.01 seconds.\n",
      "Convergence after 7 epochs took 0.01 seconds\n",
      "-- Epoch 1\n",
      "Norm: 0.23, NNZs: 15, Bias: 0.068531, T: 3867, Avg. loss: 0.948325\n",
      "Total training time: 0.00 seconds.\n",
      "-- Epoch 2\n",
      "Norm: 0.23, NNZs: 15, Bias: 0.066960, T: 7734, Avg. loss: 0.947785\n",
      "Total training time: 0.01 seconds.\n",
      "-- Epoch 3\n",
      "Norm: 0.23, NNZs: 15, Bias: 0.066467, T: 11601, Avg. loss: 0.947867\n",
      "Total training time: 0.01 seconds.\n",
      "-- Epoch 4\n",
      "Norm: 0.23, NNZs: 15, Bias: 0.066228, T: 15468, Avg. loss: 0.947903\n",
      "Total training time: 0.01 seconds.\n",
      "-- Epoch 5\n",
      "Norm: 0.23, NNZs: 15, Bias: 0.066086, T: 19335, Avg. loss: 0.947923\n",
      "Total training time: 0.01 seconds.\n",
      "-- Epoch 6\n",
      "Norm: 0.23, NNZs: 15, Bias: 0.065993, T: 23202, Avg. loss: 0.947935\n",
      "Total training time: 0.01 seconds.\n",
      "Convergence after 6 epochs took 0.01 seconds\n",
      "-- Epoch 1\n",
      "Norm: 0.22, NNZs: 15, Bias: 0.070583, T: 3867, Avg. loss: 0.952059\n",
      "Total training time: 0.00 seconds.\n",
      "-- Epoch 2\n",
      "Norm: 0.22, NNZs: 15, Bias: 0.069155, T: 7734, Avg. loss: 0.951020\n",
      "Total training time: 0.01 seconds.\n",
      "-- Epoch 3\n",
      "Norm: 0.22, NNZs: 15, Bias: 0.068710, T: 11601, Avg. loss: 0.950973\n",
      "Total training time: 0.01 seconds.\n",
      "-- Epoch 4\n",
      "Norm: 0.22, NNZs: 15, Bias: 0.068494, T: 15468, Avg. loss: 0.950953\n",
      "Total training time: 0.01 seconds.\n",
      "-- Epoch 5\n",
      "Norm: 0.22, NNZs: 15, Bias: 0.068366, T: 19335, Avg. loss: 0.950942\n",
      "Total training time: 0.01 seconds.\n",
      "-- Epoch 6\n",
      "Norm: 0.22, NNZs: 15, Bias: 0.068282, T: 23202, Avg. loss: 0.950935\n",
      "Total training time: 0.01 seconds.\n",
      "-- Epoch 7\n",
      "Norm: 0.22, NNZs: 15, Bias: 0.068222, T: 27069, Avg. loss: 0.950930\n",
      "Total training time: 0.01 seconds.\n",
      "Convergence after 7 epochs took 0.01 seconds\n",
      "-- Epoch 1\n",
      "Norm: 0.23, NNZs: 15, Bias: 0.065962, T: 3867, Avg. loss: 0.950180\n",
      "Total training time: 0.01 seconds.\n",
      "-- Epoch 2\n",
      "Norm: 0.23, NNZs: 15, Bias: 0.064292, T: 7734, Avg. loss: 0.948885\n",
      "Total training time: 0.01 seconds.\n",
      "-- Epoch 3\n",
      "Norm: 0.23, NNZs: 15, Bias: 0.063756, T: 11601, Avg. loss: 0.948837\n",
      "Total training time: 0.01 seconds.\n",
      "-- Epoch 4\n",
      "Norm: 0.23, NNZs: 15, Bias: 0.063493, T: 15468, Avg. loss: 0.948819\n",
      "Total training time: 0.01 seconds.\n",
      "-- Epoch 5\n",
      "Norm: 0.23, NNZs: 15, Bias: 0.063336, T: 19335, Avg. loss: 0.948810\n",
      "Total training time: 0.02 seconds.\n",
      "-- Epoch 6\n",
      "Norm: 0.23, NNZs: 15, Bias: 0.063233, T: 23202, Avg. loss: 0.948805\n",
      "Total training time: 0.02 seconds.\n",
      "-- Epoch 7\n",
      "Norm: 0.23, NNZs: 15, Bias: 0.063159, T: 27069, Avg. loss: 0.948801\n",
      "Total training time: 0.02 seconds.\n",
      "Convergence after 7 epochs took 0.02 seconds\n",
      "-- Epoch 1\n",
      "Norm: 0.23, NNZs: 15, Bias: 0.067849, T: 3868, Avg. loss: 0.949250\n",
      "Total training time: 0.01 seconds.\n",
      "-- Epoch 2\n",
      "Norm: 0.23, NNZs: 15, Bias: 0.066266, T: 7736, Avg. loss: 0.947401\n",
      "Total training time: 0.01 seconds.\n",
      "-- Epoch 3\n",
      "Norm: 0.23, NNZs: 15, Bias: 0.065766, T: 11604, Avg. loss: 0.947267\n",
      "Total training time: 0.01 seconds.\n",
      "-- Epoch 4\n",
      "Norm: 0.23, NNZs: 15, Bias: 0.065523, T: 15472, Avg. loss: 0.947213\n",
      "Total training time: 0.01 seconds.\n",
      "-- Epoch 5\n",
      "Norm: 0.23, NNZs: 15, Bias: 0.065379, T: 19340, Avg. loss: 0.947183\n",
      "Total training time: 0.01 seconds.\n",
      "-- Epoch 6\n",
      "Norm: 0.23, NNZs: 15, Bias: 0.065283, T: 23208, Avg. loss: 0.947164\n",
      "Total training time: 0.01 seconds.\n",
      "-- Epoch 7\n",
      "Norm: 0.23, NNZs: 15, Bias: 0.065216, T: 27076, Avg. loss: 0.947151\n",
      "Total training time: 0.02 seconds.\n",
      "Convergence after 7 epochs took 0.02 seconds\n",
      "-- Epoch 1\n",
      "Norm: 13.06, NNZs: 15, Bias: -10.479139, T: 4834, Avg. loss: 5.475047\n",
      "Total training time: 0.00 seconds.\n",
      "-- Epoch 2\n",
      "Norm: 10.40, NNZs: 15, Bias: -6.919587, T: 9668, Avg. loss: 2.265752\n",
      "Total training time: 0.00 seconds.\n",
      "-- Epoch 3\n",
      "Norm: 8.39, NNZs: 15, Bias: -5.705425, T: 14502, Avg. loss: 1.664869\n",
      "Total training time: 0.01 seconds.\n",
      "-- Epoch 4\n",
      "Norm: 6.37, NNZs: 15, Bias: -2.768536, T: 19336, Avg. loss: 1.386505\n",
      "Total training time: 0.01 seconds.\n",
      "-- Epoch 5\n",
      "Norm: 7.14, NNZs: 15, Bias: -3.242305, T: 24170, Avg. loss: 1.234540\n",
      "Total training time: 0.01 seconds.\n",
      "-- Epoch 6\n",
      "Norm: 5.55, NNZs: 15, Bias: -3.273856, T: 29004, Avg. loss: 1.122824\n",
      "Total training time: 0.01 seconds.\n",
      "-- Epoch 7\n",
      "Norm: 5.57, NNZs: 15, Bias: -2.068552, T: 33838, Avg. loss: 1.065743\n",
      "Total training time: 0.01 seconds.\n",
      "-- Epoch 8\n",
      "Norm: 5.48, NNZs: 15, Bias: -1.889479, T: 38672, Avg. loss: 1.022584\n",
      "Total training time: 0.02 seconds.\n",
      "-- Epoch 9\n",
      "Norm: 5.43, NNZs: 15, Bias: -2.591527, T: 43506, Avg. loss: 0.976494\n",
      "Total training time: 0.02 seconds.\n",
      "-- Epoch 10\n",
      "Norm: 4.55, NNZs: 15, Bias: -1.936620, T: 48340, Avg. loss: 0.942803\n",
      "Total training time: 0.02 seconds.\n",
      "-- Epoch 11\n",
      "Norm: 4.25, NNZs: 15, Bias: -1.768033, T: 53174, Avg. loss: 0.930998\n",
      "Total training time: 0.02 seconds.\n",
      "-- Epoch 12\n",
      "Norm: 4.83, NNZs: 15, Bias: -2.124447, T: 58008, Avg. loss: 0.904638\n",
      "Total training time: 0.03 seconds.\n",
      "-- Epoch 13\n",
      "Norm: 4.81, NNZs: 15, Bias: -1.811096, T: 62842, Avg. loss: 0.879541\n",
      "Total training time: 0.03 seconds.\n",
      "-- Epoch 14\n",
      "Norm: 4.38, NNZs: 15, Bias: -1.962357, T: 67676, Avg. loss: 0.860992\n",
      "Total training time: 0.03 seconds.\n",
      "-- Epoch 15\n",
      "Norm: 4.20, NNZs: 15, Bias: -1.976437, T: 72510, Avg. loss: 0.847982\n",
      "Total training time: 0.03 seconds.\n",
      "-- Epoch 16\n",
      "Norm: 4.04, NNZs: 15, Bias: -1.588277, T: 77344, Avg. loss: 0.835409\n",
      "Total training time: 0.03 seconds.\n",
      "-- Epoch 17\n",
      "Norm: 4.47, NNZs: 15, Bias: -1.587202, T: 82178, Avg. loss: 0.829258\n",
      "Total training time: 0.03 seconds.\n",
      "-- Epoch 18\n",
      "Norm: 4.40, NNZs: 15, Bias: -1.360041, T: 87012, Avg. loss: 0.823309\n",
      "Total training time: 0.03 seconds.\n",
      "-- Epoch 19\n",
      "Norm: 4.60, NNZs: 15, Bias: -1.491447, T: 91846, Avg. loss: 0.809764\n",
      "Total training time: 0.03 seconds.\n",
      "-- Epoch 20\n",
      "Norm: 4.29, NNZs: 15, Bias: -1.698948, T: 96680, Avg. loss: 0.811602\n",
      "Total training time: 0.03 seconds.\n",
      "-- Epoch 21\n",
      "Norm: 4.03, NNZs: 15, Bias: -1.801880, T: 101514, Avg. loss: 0.803802\n",
      "Total training time: 0.09 seconds.\n",
      "-- Epoch 22\n",
      "Norm: 4.07, NNZs: 15, Bias: -1.424884, T: 106348, Avg. loss: 0.790395\n",
      "Total training time: 0.10 seconds.\n",
      "-- Epoch 23\n",
      "Norm: 3.85, NNZs: 15, Bias: -1.430513, T: 111182, Avg. loss: 0.793575\n",
      "Total training time: 0.10 seconds.\n",
      "-- Epoch 24\n",
      "Norm: 3.73, NNZs: 15, Bias: -1.860089, T: 116016, Avg. loss: 0.792880\n",
      "Total training time: 0.10 seconds.\n",
      "-- Epoch 25\n",
      "Norm: 4.16, NNZs: 15, Bias: -1.026729, T: 120850, Avg. loss: 0.779545\n",
      "Total training time: 0.10 seconds.\n",
      "-- Epoch 26\n",
      "Norm: 3.91, NNZs: 15, Bias: -1.597247, T: 125684, Avg. loss: 0.778683\n",
      "Total training time: 0.10 seconds.\n",
      "-- Epoch 27\n",
      "Norm: 4.22, NNZs: 15, Bias: -1.667283, T: 130518, Avg. loss: 0.776220\n",
      "Total training time: 0.10 seconds.\n",
      "-- Epoch 28\n",
      "Norm: 4.05, NNZs: 15, Bias: -1.664935, T: 135352, Avg. loss: 0.768349\n",
      "Total training time: 0.10 seconds.\n",
      "-- Epoch 29\n",
      "Norm: 3.82, NNZs: 15, Bias: -1.658721, T: 140186, Avg. loss: 0.771754\n",
      "Total training time: 0.10 seconds.\n",
      "-- Epoch 30\n",
      "Norm: 3.81, NNZs: 15, Bias: -1.309550, T: 145020, Avg. loss: 0.764868\n",
      "Total training time: 0.10 seconds.\n",
      "-- Epoch 31\n",
      "Norm: 3.59, NNZs: 15, Bias: -1.777327, T: 149854, Avg. loss: 0.757076\n",
      "Total training time: 0.10 seconds.\n",
      "-- Epoch 32\n",
      "Norm: 3.97, NNZs: 15, Bias: -1.385818, T: 154688, Avg. loss: 0.758265\n",
      "Total training time: 0.10 seconds.\n",
      "-- Epoch 33\n",
      "Norm: 3.87, NNZs: 15, Bias: -1.450561, T: 159522, Avg. loss: 0.753249\n",
      "Total training time: 0.10 seconds.\n",
      "-- Epoch 34\n",
      "Norm: 3.99, NNZs: 15, Bias: -1.512460, T: 164356, Avg. loss: 0.748928\n",
      "Total training time: 0.10 seconds.\n",
      "-- Epoch 35\n",
      "Norm: 4.15, NNZs: 15, Bias: -1.042337, T: 169190, Avg. loss: 0.748908\n",
      "Total training time: 0.10 seconds.\n",
      "-- Epoch 36\n",
      "Norm: 3.88, NNZs: 15, Bias: -1.340298, T: 174024, Avg. loss: 0.742027\n",
      "Total training time: 0.10 seconds.\n",
      "-- Epoch 37\n",
      "Norm: 3.75, NNZs: 15, Bias: -1.453004, T: 178858, Avg. loss: 0.746604\n",
      "Total training time: 0.11 seconds.\n",
      "-- Epoch 38\n",
      "Norm: 4.16, NNZs: 15, Bias: -1.347849, T: 183692, Avg. loss: 0.743338\n",
      "Total training time: 0.11 seconds.\n",
      "-- Epoch 39\n",
      "Norm: 3.77, NNZs: 15, Bias: -1.563631, T: 188526, Avg. loss: 0.741254\n",
      "Total training time: 0.11 seconds.\n",
      "-- Epoch 40\n",
      "Norm: 3.80, NNZs: 15, Bias: -1.352650, T: 193360, Avg. loss: 0.740012\n",
      "Total training time: 0.11 seconds.\n",
      "-- Epoch 41\n",
      "Norm: 3.82, NNZs: 15, Bias: -1.401454, T: 198194, Avg. loss: 0.733360\n",
      "Total training time: 0.11 seconds.\n",
      "-- Epoch 42\n",
      "Norm: 3.88, NNZs: 15, Bias: -1.351688, T: 203028, Avg. loss: 0.734627\n",
      "Total training time: 0.11 seconds.\n",
      "-- Epoch 43\n",
      "Norm: 3.86, NNZs: 15, Bias: -1.158505, T: 207862, Avg. loss: 0.734070\n",
      "Total training time: 0.11 seconds.\n",
      "-- Epoch 44\n",
      "Norm: 3.66, NNZs: 15, Bias: -1.537435, T: 212696, Avg. loss: 0.726069\n",
      "Total training time: 0.11 seconds.\n",
      "-- Epoch 45\n",
      "Norm: 3.79, NNZs: 15, Bias: -1.399630, T: 217530, Avg. loss: 0.729123\n",
      "Total training time: 0.11 seconds.\n",
      "-- Epoch 46\n",
      "Norm: 3.81, NNZs: 15, Bias: -1.445667, T: 222364, Avg. loss: 0.724132\n",
      "Total training time: 0.11 seconds.\n",
      "-- Epoch 47\n",
      "Norm: 3.76, NNZs: 15, Bias: -1.488980, T: 227198, Avg. loss: 0.724052\n",
      "Total training time: 0.11 seconds.\n",
      "-- Epoch 48\n",
      "Norm: 3.72, NNZs: 15, Bias: -1.488024, T: 232032, Avg. loss: 0.723750\n",
      "Total training time: 0.11 seconds.\n",
      "-- Epoch 49\n",
      "Norm: 3.66, NNZs: 15, Bias: -1.359723, T: 236866, Avg. loss: 0.722741\n",
      "Total training time: 0.11 seconds.\n",
      "-- Epoch 50\n",
      "Norm: 3.69, NNZs: 15, Bias: -1.113496, T: 241700, Avg. loss: 0.719595\n",
      "Total training time: 0.11 seconds.\n",
      "-- Epoch 51\n",
      "Norm: 3.91, NNZs: 15, Bias: -1.076891, T: 246534, Avg. loss: 0.719603\n",
      "Total training time: 0.11 seconds.\n",
      "-- Epoch 52\n",
      "Norm: 3.66, NNZs: 15, Bias: -1.316027, T: 251368, Avg. loss: 0.719198\n",
      "Total training time: 0.11 seconds.\n",
      "-- Epoch 53\n",
      "Norm: 3.76, NNZs: 15, Bias: -1.277036, T: 256202, Avg. loss: 0.717064\n",
      "Total training time: 0.12 seconds.\n",
      "-- Epoch 54\n",
      "Norm: 3.84, NNZs: 15, Bias: -1.238221, T: 261036, Avg. loss: 0.718216\n",
      "Total training time: 0.12 seconds.\n",
      "-- Epoch 55\n",
      "Norm: 3.71, NNZs: 15, Bias: -1.274061, T: 265870, Avg. loss: 0.718107\n",
      "Total training time: 0.12 seconds.\n",
      "-- Epoch 56\n",
      "Norm: 3.91, NNZs: 15, Bias: -1.162470, T: 270704, Avg. loss: 0.716892\n",
      "Total training time: 0.12 seconds.\n",
      "-- Epoch 57\n",
      "Norm: 3.80, NNZs: 15, Bias: -1.272908, T: 275538, Avg. loss: 0.712049\n",
      "Total training time: 0.12 seconds.\n",
      "-- Epoch 58\n",
      "Norm: 3.82, NNZs: 15, Bias: -1.236990, T: 280372, Avg. loss: 0.712823\n",
      "Total training time: 0.12 seconds.\n",
      "-- Epoch 59\n",
      "Norm: 3.63, NNZs: 15, Bias: -1.272306, T: 285206, Avg. loss: 0.708330\n",
      "Total training time: 0.12 seconds.\n",
      "-- Epoch 60\n",
      "Norm: 3.62, NNZs: 15, Bias: -1.478264, T: 290040, Avg. loss: 0.709092\n",
      "Total training time: 0.12 seconds.\n",
      "-- Epoch 61\n",
      "Norm: 3.63, NNZs: 15, Bias: -1.273034, T: 294874, Avg. loss: 0.707885\n",
      "Total training time: 0.12 seconds.\n",
      "-- Epoch 62\n",
      "Norm: 3.88, NNZs: 15, Bias: -1.205640, T: 299708, Avg. loss: 0.710419\n",
      "Total training time: 0.12 seconds.\n",
      "-- Epoch 63\n",
      "Norm: 3.66, NNZs: 15, Bias: -1.239130, T: 304542, Avg. loss: 0.708719\n",
      "Total training time: 0.12 seconds.\n",
      "-- Epoch 64\n",
      "Norm: 3.76, NNZs: 15, Bias: -1.206621, T: 309376, Avg. loss: 0.703432\n",
      "Total training time: 0.12 seconds.\n",
      "-- Epoch 65\n",
      "Norm: 3.92, NNZs: 15, Bias: -1.239101, T: 314210, Avg. loss: 0.708446\n",
      "Total training time: 0.12 seconds.\n",
      "-- Epoch 66\n",
      "Norm: 3.83, NNZs: 15, Bias: -1.114079, T: 319044, Avg. loss: 0.703252\n",
      "Total training time: 0.12 seconds.\n",
      "-- Epoch 67\n",
      "Norm: 3.77, NNZs: 15, Bias: -1.237388, T: 323878, Avg. loss: 0.705106\n",
      "Total training time: 0.13 seconds.\n",
      "-- Epoch 68\n",
      "Norm: 3.84, NNZs: 15, Bias: -1.206629, T: 328712, Avg. loss: 0.703165\n",
      "Total training time: 0.13 seconds.\n",
      "-- Epoch 69\n",
      "Norm: 3.88, NNZs: 15, Bias: -1.147077, T: 333546, Avg. loss: 0.701682\n",
      "Total training time: 0.13 seconds.\n",
      "-- Epoch 70\n",
      "Norm: 3.76, NNZs: 15, Bias: -1.059912, T: 338380, Avg. loss: 0.699012\n",
      "Total training time: 0.13 seconds.\n",
      "-- Epoch 71\n",
      "Norm: 3.87, NNZs: 15, Bias: -1.177757, T: 343214, Avg. loss: 0.702949\n",
      "Total training time: 0.13 seconds.\n",
      "-- Epoch 72\n",
      "Norm: 3.73, NNZs: 15, Bias: -1.322413, T: 348048, Avg. loss: 0.699034\n",
      "Total training time: 0.13 seconds.\n",
      "-- Epoch 73\n",
      "Norm: 3.79, NNZs: 15, Bias: -1.321017, T: 352882, Avg. loss: 0.699385\n",
      "Total training time: 0.13 seconds.\n",
      "-- Epoch 74\n",
      "Norm: 3.82, NNZs: 15, Bias: -1.152309, T: 357716, Avg. loss: 0.698503\n",
      "Total training time: 0.13 seconds.\n",
      "-- Epoch 75\n",
      "Norm: 3.92, NNZs: 15, Bias: -1.125705, T: 362550, Avg. loss: 0.700311\n",
      "Total training time: 0.13 seconds.\n",
      "Convergence after 75 epochs took 0.13 seconds\n"
     ]
    }
   ],
   "source": [
    "# Create a parameter dictionary for the model, {'parameter': [list of settings]}\n",
    "parameters = [\n",
    "    {\n",
    "    'alpha': [0.0001, 0.001, 0.01, 0.1, 1],\n",
    "    'shuffle': [True, False],\n",
    "    'verbose': [0, 1, 5, 10],\n",
    "    'class_weight': [None, 'balanced'],\n",
    "    },\n",
    "]\n",
    "# Created variable model which holds the KNN model\n",
    "model = SGDClassifier()\n",
    "# Create grid_search model, looking at recall\n",
    "grid_search = GridSearchCV(model,\n",
    "                           param_grid=parameters,\n",
    "                           scoring='accuracy',\n",
    "                           )\n",
    "# Create variable r that hold the FIT grid_search\n",
    "r = grid_search.fit(X_train[rfe_list], y_train)\n",
    "scores = r.cv_results_\n",
    "lm = r.best_estimator_"
   ]
  },
  {
   "cell_type": "code",
   "execution_count": 67,
   "metadata": {
    "allow_embed": false,
    "cell_id": "00058-990bf545-9548-4080-a5b3-ae2d76a94a52",
    "deepnote_cell_type": "code",
    "deepnote_to_be_reexecuted": false,
    "execution_millis": 9,
    "execution_start": 1621959281882,
    "source_hash": "32c9439c",
    "tags": []
   },
   "outputs": [
    {
     "data": {
      "text/plain": [
       "0.6992090968845612"
      ]
     },
     "execution_count": 67,
     "metadata": {},
     "output_type": "execute_result"
    }
   ],
   "source": [
    "# Returns max value of the mean test score \n",
    "max(scores['mean_test_score'])"
   ]
  },
  {
   "cell_type": "code",
   "execution_count": 68,
   "metadata": {
    "allow_embed": false,
    "cell_id": "00059-986a2937-08d8-4765-b2d5-8eec2cb9a031",
    "deepnote_cell_type": "code",
    "deepnote_to_be_reexecuted": false,
    "execution_millis": 38,
    "execution_start": 1621959281894,
    "is_output_hidden": true,
    "source_hash": "46f0d3fb",
    "tags": []
   },
   "outputs": [
    {
     "name": "stdout",
     "output_type": "stream",
     "text": [
      "Best parameters for SGD Classifier are {'alpha': 1, 'class_weight': 'balanced', 'shuffle': True, 'verbose': 5} with a score of 0.49544898846189256\n",
      "Best parameters for SGD Classifier are {'alpha': 1, 'class_weight': None, 'shuffle': True, 'verbose': 10} with a score of 0.5014456355807914\n",
      "Best parameters for SGD Classifier are {'alpha': 1, 'class_weight': 'balanced', 'shuffle': True, 'verbose': 1} with a score of 0.5105502279145551\n",
      "Best parameters for SGD Classifier are {'alpha': 1, 'class_weight': 'balanced', 'shuffle': True, 'verbose': 10} with a score of 0.5194437129197257\n",
      "Best parameters for SGD Classifier are {'alpha': 1, 'class_weight': 'balanced', 'shuffle': True, 'verbose': 0} with a score of 0.5225418093139867\n",
      "Best parameters for SGD Classifier are {'alpha': 1, 'class_weight': None, 'shuffle': True, 'verbose': 1} with a score of 0.5250279942020422\n",
      "Best parameters for SGD Classifier are {'alpha': 1, 'class_weight': None, 'shuffle': True, 'verbose': 5} with a score of 0.5407467118855995\n",
      "Best parameters for SGD Classifier are {'alpha': 1, 'class_weight': None, 'shuffle': False, 'verbose': 0} with a score of 0.5550304992281522\n",
      "Best parameters for SGD Classifier are {'alpha': 1, 'class_weight': None, 'shuffle': False, 'verbose': 1} with a score of 0.5550304992281522\n",
      "Best parameters for SGD Classifier are {'alpha': 1, 'class_weight': None, 'shuffle': False, 'verbose': 5} with a score of 0.5550304992281522\n",
      "Best parameters for SGD Classifier are {'alpha': 1, 'class_weight': None, 'shuffle': False, 'verbose': 10} with a score of 0.5550304992281522\n",
      "Best parameters for SGD Classifier are {'alpha': 1, 'class_weight': None, 'shuffle': True, 'verbose': 0} with a score of 0.5897771383181212\n",
      "Best parameters for SGD Classifier are {'alpha': 0.0001, 'class_weight': 'balanced', 'shuffle': True, 'verbose': 5} with a score of 0.6613630767715566\n",
      "Best parameters for SGD Classifier are {'alpha': 1, 'class_weight': 'balanced', 'shuffle': False, 'verbose': 0} with a score of 0.6642579877146668\n",
      "Best parameters for SGD Classifier are {'alpha': 1, 'class_weight': 'balanced', 'shuffle': False, 'verbose': 1} with a score of 0.6642579877146668\n",
      "Best parameters for SGD Classifier are {'alpha': 1, 'class_weight': 'balanced', 'shuffle': False, 'verbose': 5} with a score of 0.6642579877146668\n",
      "Best parameters for SGD Classifier are {'alpha': 1, 'class_weight': 'balanced', 'shuffle': False, 'verbose': 10} with a score of 0.6642579877146668\n",
      "Best parameters for SGD Classifier are {'alpha': 0.01, 'class_weight': None, 'shuffle': True, 'verbose': 5} with a score of 0.6708699720165032\n",
      "Best parameters for SGD Classifier are {'alpha': 0.01, 'class_weight': None, 'shuffle': False, 'verbose': 0} with a score of 0.6708699720165032\n",
      "Best parameters for SGD Classifier are {'alpha': 0.01, 'class_weight': None, 'shuffle': False, 'verbose': 1} with a score of 0.6708699720165032\n",
      "Best parameters for SGD Classifier are {'alpha': 0.01, 'class_weight': None, 'shuffle': False, 'verbose': 5} with a score of 0.6708699720165032\n",
      "Best parameters for SGD Classifier are {'alpha': 0.01, 'class_weight': None, 'shuffle': False, 'verbose': 10} with a score of 0.6708699720165032\n",
      "Best parameters for SGD Classifier are {'alpha': 0.01, 'class_weight': None, 'shuffle': True, 'verbose': 0} with a score of 0.6710767972491816\n",
      "Best parameters for SGD Classifier are {'alpha': 0.01, 'class_weight': None, 'shuffle': True, 'verbose': 10} with a score of 0.6710767972491816\n",
      "Best parameters for SGD Classifier are {'alpha': 0.01, 'class_weight': None, 'shuffle': True, 'verbose': 1} with a score of 0.6721119939365522\n",
      "Best parameters for SGD Classifier are {'alpha': 0.0001, 'class_weight': 'balanced', 'shuffle': True, 'verbose': 1} with a score of 0.6733587261621073\n",
      "Best parameters for SGD Classifier are {'alpha': 0.1, 'class_weight': None, 'shuffle': True, 'verbose': 1} with a score of 0.6750071189844581\n",
      "Best parameters for SGD Classifier are {'alpha': 0.1, 'class_weight': None, 'shuffle': True, 'verbose': 0} with a score of 0.6764546815084111\n",
      "Best parameters for SGD Classifier are {'alpha': 0.01, 'class_weight': 'balanced', 'shuffle': True, 'verbose': 10} with a score of 0.6764574648707556\n",
      "Best parameters for SGD Classifier are {'alpha': 0.1, 'class_weight': 'balanced', 'shuffle': True, 'verbose': 0} with a score of 0.6772832670678991\n",
      "Best parameters for SGD Classifier are {'alpha': 0.01, 'class_weight': 'balanced', 'shuffle': True, 'verbose': 1} with a score of 0.6772854081158564\n",
      "Best parameters for SGD Classifier are {'alpha': 0.1, 'class_weight': None, 'shuffle': True, 'verbose': 5} with a score of 0.6776954187996858\n",
      "Best parameters for SGD Classifier are {'alpha': 0.1, 'class_weight': 'balanced', 'shuffle': True, 'verbose': 10} with a score of 0.6779033145563428\n",
      "Best parameters for SGD Classifier are {'alpha': 0.01, 'class_weight': 'balanced', 'shuffle': True, 'verbose': 5} with a score of 0.6783193201744526\n",
      "Best parameters for SGD Classifier are {'alpha': 0.01, 'class_weight': 'balanced', 'shuffle': True, 'verbose': 0} with a score of 0.6783195342792483\n",
      "Best parameters for SGD Classifier are {'alpha': 0.1, 'class_weight': 'balanced', 'shuffle': True, 'verbose': 5} with a score of 0.6785240043591736\n",
      "Best parameters for SGD Classifier are {'alpha': 0.1, 'class_weight': None, 'shuffle': True, 'verbose': 10} with a score of 0.6789378689293262\n",
      "Best parameters for SGD Classifier are {'alpha': 0.1, 'class_weight': None, 'shuffle': False, 'verbose': 0} with a score of 0.6791444800572088\n",
      "Best parameters for SGD Classifier are {'alpha': 0.1, 'class_weight': None, 'shuffle': False, 'verbose': 1} with a score of 0.6791444800572088\n",
      "Best parameters for SGD Classifier are {'alpha': 0.1, 'class_weight': None, 'shuffle': False, 'verbose': 5} with a score of 0.6791444800572088\n",
      "Best parameters for SGD Classifier are {'alpha': 0.1, 'class_weight': None, 'shuffle': False, 'verbose': 10} with a score of 0.6791444800572088\n",
      "Best parameters for SGD Classifier are {'alpha': 0.1, 'class_weight': 'balanced', 'shuffle': True, 'verbose': 1} with a score of 0.6801788203253964\n",
      "Best parameters for SGD Classifier are {'alpha': 0.1, 'class_weight': 'balanced', 'shuffle': False, 'verbose': 0} with a score of 0.6828675483502156\n",
      "Best parameters for SGD Classifier are {'alpha': 0.1, 'class_weight': 'balanced', 'shuffle': False, 'verbose': 1} with a score of 0.6828675483502156\n",
      "Best parameters for SGD Classifier are {'alpha': 0.1, 'class_weight': 'balanced', 'shuffle': False, 'verbose': 5} with a score of 0.6828675483502156\n",
      "Best parameters for SGD Classifier are {'alpha': 0.1, 'class_weight': 'balanced', 'shuffle': False, 'verbose': 10} with a score of 0.6828675483502156\n",
      "Best parameters for SGD Classifier are {'alpha': 0.001, 'class_weight': None, 'shuffle': True, 'verbose': 5} with a score of 0.6828690470837857\n",
      "Best parameters for SGD Classifier are {'alpha': 0.001, 'class_weight': 'balanced', 'shuffle': True, 'verbose': 1} with a score of 0.6832826975491424\n",
      "Best parameters for SGD Classifier are {'alpha': 0.001, 'class_weight': 'balanced', 'shuffle': True, 'verbose': 5} with a score of 0.6832826975491424\n",
      "Best parameters for SGD Classifier are {'alpha': 0.001, 'class_weight': 'balanced', 'shuffle': True, 'verbose': 10} with a score of 0.6832826975491424\n",
      "Best parameters for SGD Classifier are {'alpha': 0.01, 'class_weight': 'balanced', 'shuffle': False, 'verbose': 0} with a score of 0.6832826975491424\n",
      "Best parameters for SGD Classifier are {'alpha': 0.01, 'class_weight': 'balanced', 'shuffle': False, 'verbose': 1} with a score of 0.6832826975491424\n",
      "Best parameters for SGD Classifier are {'alpha': 0.01, 'class_weight': 'balanced', 'shuffle': False, 'verbose': 5} with a score of 0.6832826975491424\n",
      "Best parameters for SGD Classifier are {'alpha': 0.01, 'class_weight': 'balanced', 'shuffle': False, 'verbose': 10} with a score of 0.6832826975491424\n",
      "Best parameters for SGD Classifier are {'alpha': 0.001, 'class_weight': 'balanced', 'shuffle': False, 'verbose': 0} with a score of 0.6834895227818208\n",
      "Best parameters for SGD Classifier are {'alpha': 0.001, 'class_weight': 'balanced', 'shuffle': False, 'verbose': 1} with a score of 0.6834895227818208\n",
      "Best parameters for SGD Classifier are {'alpha': 0.001, 'class_weight': 'balanced', 'shuffle': False, 'verbose': 5} with a score of 0.6834895227818208\n",
      "Best parameters for SGD Classifier are {'alpha': 0.001, 'class_weight': 'balanced', 'shuffle': False, 'verbose': 10} with a score of 0.6834895227818208\n",
      "Best parameters for SGD Classifier are {'alpha': 0.001, 'class_weight': None, 'shuffle': True, 'verbose': 0} with a score of 0.6836963480144992\n",
      "Best parameters for SGD Classifier are {'alpha': 0.001, 'class_weight': None, 'shuffle': True, 'verbose': 1} with a score of 0.6836963480144992\n",
      "Best parameters for SGD Classifier are {'alpha': 0.001, 'class_weight': 'balanced', 'shuffle': True, 'verbose': 0} with a score of 0.6836963480144992\n",
      "Best parameters for SGD Classifier are {'alpha': 0.001, 'class_weight': None, 'shuffle': True, 'verbose': 10} with a score of 0.6839031732471776\n",
      "Best parameters for SGD Classifier are {'alpha': 0.001, 'class_weight': None, 'shuffle': False, 'verbose': 0} with a score of 0.6839031732471776\n",
      "Best parameters for SGD Classifier are {'alpha': 0.001, 'class_weight': None, 'shuffle': False, 'verbose': 1} with a score of 0.6839031732471776\n",
      "Best parameters for SGD Classifier are {'alpha': 0.001, 'class_weight': None, 'shuffle': False, 'verbose': 5} with a score of 0.6839031732471776\n",
      "Best parameters for SGD Classifier are {'alpha': 0.001, 'class_weight': None, 'shuffle': False, 'verbose': 10} with a score of 0.6839031732471776\n",
      "Best parameters for SGD Classifier are {'alpha': 0.0001, 'class_weight': None, 'shuffle': True, 'verbose': 10} with a score of 0.6851447669576352\n",
      "Best parameters for SGD Classifier are {'alpha': 0.0001, 'class_weight': None, 'shuffle': False, 'verbose': 0} with a score of 0.6892812716112029\n",
      "Best parameters for SGD Classifier are {'alpha': 0.0001, 'class_weight': None, 'shuffle': False, 'verbose': 1} with a score of 0.6892812716112029\n",
      "Best parameters for SGD Classifier are {'alpha': 0.0001, 'class_weight': None, 'shuffle': False, 'verbose': 5} with a score of 0.6892812716112029\n",
      "Best parameters for SGD Classifier are {'alpha': 0.0001, 'class_weight': None, 'shuffle': False, 'verbose': 10} with a score of 0.6892812716112029\n",
      "Best parameters for SGD Classifier are {'alpha': 0.0001, 'class_weight': 'balanced', 'shuffle': True, 'verbose': 0} with a score of 0.68928191392559\n",
      "Best parameters for SGD Classifier are {'alpha': 0.0001, 'class_weight': 'balanced', 'shuffle': False, 'verbose': 0} with a score of 0.6927973005667354\n",
      "Best parameters for SGD Classifier are {'alpha': 0.0001, 'class_weight': 'balanced', 'shuffle': False, 'verbose': 1} with a score of 0.6927973005667354\n",
      "Best parameters for SGD Classifier are {'alpha': 0.0001, 'class_weight': 'balanced', 'shuffle': False, 'verbose': 5} with a score of 0.6927973005667354\n",
      "Best parameters for SGD Classifier are {'alpha': 0.0001, 'class_weight': 'balanced', 'shuffle': False, 'verbose': 10} with a score of 0.6927973005667354\n",
      "Best parameters for SGD Classifier are {'alpha': 0.0001, 'class_weight': None, 'shuffle': True, 'verbose': 0} with a score of 0.6932118074512752\n",
      "Best parameters for SGD Classifier are {'alpha': 0.0001, 'class_weight': 'balanced', 'shuffle': True, 'verbose': 10} with a score of 0.6946582994512495\n",
      "Best parameters for SGD Classifier are {'alpha': 0.0001, 'class_weight': None, 'shuffle': True, 'verbose': 5} with a score of 0.6990035562806571\n",
      "Best parameters for SGD Classifier are {'alpha': 0.0001, 'class_weight': None, 'shuffle': True, 'verbose': 1} with a score of 0.6992090968845612\n"
     ]
    }
   ],
   "source": [
    "# loop that runs all of the possible parameter configurations from the parameter dictionary above\n",
    "for mean_score, params in sorted(list(zip(scores[\"mean_test_score\"], scores[\"params\"])),key = lambda x: x[0]):\n",
    "     print(f'Best parameters for SGD Classifier are {params} with a score of {mean_score}')"
   ]
  },
  {
   "cell_type": "markdown",
   "metadata": {
    "cell_id": "00060-ca9bad71-661e-44cc-bdb8-23fdde6c6f30",
    "deepnote_cell_type": "markdown",
    "tags": []
   },
   "source": [
    "Best parameters for SGD Classifier are {'alpha': 0.0001, 'class_weight': 'balanced', 'shuffle': True, 'verbose': 1} using rfe_list froms RFE\n"
   ]
  },
  {
   "cell_type": "code",
   "execution_count": 69,
   "metadata": {
    "cell_id": "00061-b59ed1fe-1399-44f8-a9ec-f214aa09ac36",
    "deepnote_cell_type": "code",
    "deepnote_to_be_reexecuted": false,
    "execution_millis": 1380,
    "execution_start": 1621959282025,
    "is_output_hidden": true,
    "source_hash": "99ef0b23",
    "tags": []
   },
   "outputs": [
    {
     "name": "stdout",
     "output_type": "stream",
     "text": [
      "-- Epoch 1\n",
      "Norm: 7.89, NNZs: 15, Bias: -0.032517, T: 4834, Avg. loss: 36.235770\n",
      "Total training time: 0.01 seconds.\n",
      "-- Epoch 2\n",
      "Norm: 6.49, NNZs: 15, Bias: 0.248737, T: 9668, Avg. loss: 5.319593\n",
      "Total training time: 0.01 seconds.\n",
      "-- Epoch 3\n",
      "Norm: 5.35, NNZs: 15, Bias: 0.350253, T: 14502, Avg. loss: 3.256646\n",
      "Total training time: 0.01 seconds.\n",
      "-- Epoch 4\n",
      "Norm: 4.76, NNZs: 15, Bias: 0.455292, T: 19336, Avg. loss: 2.521456\n",
      "Total training time: 0.01 seconds.\n",
      "-- Epoch 5\n",
      "Norm: 4.23, NNZs: 15, Bias: 0.529249, T: 24170, Avg. loss: 2.108406\n",
      "Total training time: 0.02 seconds.\n",
      "-- Epoch 6\n",
      "Norm: 3.81, NNZs: 15, Bias: 0.556235, T: 29004, Avg. loss: 1.884118\n",
      "Total training time: 0.02 seconds.\n",
      "-- Epoch 7\n",
      "Norm: 3.55, NNZs: 15, Bias: 0.560827, T: 33838, Avg. loss: 1.629412\n",
      "Total training time: 0.02 seconds.\n",
      "-- Epoch 8\n",
      "Norm: 3.38, NNZs: 15, Bias: 0.520912, T: 38672, Avg. loss: 1.528991\n",
      "Total training time: 0.02 seconds.\n",
      "-- Epoch 9\n",
      "Norm: 3.11, NNZs: 15, Bias: 0.550024, T: 43506, Avg. loss: 1.401968\n",
      "Total training time: 0.02 seconds.\n",
      "-- Epoch 10\n",
      "Norm: 3.00, NNZs: 15, Bias: 0.528593, T: 48340, Avg. loss: 1.340186\n",
      "Total training time: 0.02 seconds.\n",
      "-- Epoch 11\n",
      "Norm: 2.86, NNZs: 15, Bias: 0.506933, T: 53174, Avg. loss: 1.244405\n",
      "Total training time: 0.02 seconds.\n",
      "-- Epoch 12\n",
      "Norm: 2.75, NNZs: 15, Bias: 0.498672, T: 58008, Avg. loss: 1.258629\n",
      "Total training time: 0.08 seconds.\n",
      "-- Epoch 13\n",
      "Norm: 2.70, NNZs: 15, Bias: 0.508221, T: 62842, Avg. loss: 1.181191\n",
      "Total training time: 0.08 seconds.\n",
      "-- Epoch 14\n",
      "Norm: 2.66, NNZs: 15, Bias: 0.494485, T: 67676, Avg. loss: 1.147401\n",
      "Total training time: 0.09 seconds.\n",
      "-- Epoch 15\n",
      "Norm: 2.54, NNZs: 15, Bias: 0.475940, T: 72510, Avg. loss: 1.141342\n",
      "Total training time: 0.09 seconds.\n",
      "-- Epoch 16\n",
      "Norm: 2.49, NNZs: 15, Bias: 0.473222, T: 77344, Avg. loss: 1.075453\n",
      "Total training time: 0.09 seconds.\n",
      "-- Epoch 17\n",
      "Norm: 2.47, NNZs: 15, Bias: 0.484179, T: 82178, Avg. loss: 1.061930\n",
      "Total training time: 0.09 seconds.\n",
      "-- Epoch 18\n",
      "Norm: 2.44, NNZs: 15, Bias: 0.475852, T: 87012, Avg. loss: 1.051550\n",
      "Total training time: 0.09 seconds.\n",
      "-- Epoch 19\n",
      "Norm: 2.41, NNZs: 15, Bias: 0.464979, T: 91846, Avg. loss: 1.022011\n",
      "Total training time: 0.09 seconds.\n",
      "-- Epoch 20\n",
      "Norm: 2.38, NNZs: 15, Bias: 0.463117, T: 96680, Avg. loss: 1.013603\n",
      "Total training time: 0.09 seconds.\n",
      "-- Epoch 21\n",
      "Norm: 2.37, NNZs: 15, Bias: 0.471670, T: 101514, Avg. loss: 0.983774\n",
      "Total training time: 0.09 seconds.\n",
      "-- Epoch 22\n",
      "Norm: 2.31, NNZs: 15, Bias: 0.491552, T: 106348, Avg. loss: 0.974461\n",
      "Total training time: 0.10 seconds.\n",
      "-- Epoch 23\n",
      "Norm: 2.29, NNZs: 15, Bias: 0.493063, T: 111182, Avg. loss: 0.971616\n",
      "Total training time: 0.10 seconds.\n",
      "-- Epoch 24\n",
      "Norm: 2.27, NNZs: 15, Bias: 0.493511, T: 116016, Avg. loss: 0.968285\n",
      "Total training time: 0.10 seconds.\n",
      "-- Epoch 25\n",
      "Norm: 2.24, NNZs: 15, Bias: 0.486757, T: 120850, Avg. loss: 0.947094\n",
      "Total training time: 0.10 seconds.\n",
      "-- Epoch 26\n",
      "Norm: 2.25, NNZs: 15, Bias: 0.467509, T: 125684, Avg. loss: 0.933482\n",
      "Total training time: 0.11 seconds.\n",
      "-- Epoch 27\n",
      "Norm: 2.21, NNZs: 15, Bias: 0.465910, T: 130518, Avg. loss: 0.924170\n",
      "Total training time: 0.11 seconds.\n",
      "-- Epoch 28\n",
      "Norm: 2.19, NNZs: 15, Bias: 0.462166, T: 135352, Avg. loss: 0.908487\n",
      "Total training time: 0.11 seconds.\n",
      "-- Epoch 29\n",
      "Norm: 2.17, NNZs: 15, Bias: 0.455493, T: 140186, Avg. loss: 0.910470\n",
      "Total training time: 0.11 seconds.\n",
      "-- Epoch 30\n",
      "Norm: 2.17, NNZs: 15, Bias: 0.456729, T: 145020, Avg. loss: 0.906057\n",
      "Total training time: 0.12 seconds.\n",
      "-- Epoch 31\n",
      "Norm: 2.16, NNZs: 15, Bias: 0.458865, T: 149854, Avg. loss: 0.898178\n",
      "Total training time: 0.12 seconds.\n",
      "-- Epoch 32\n",
      "Norm: 2.16, NNZs: 15, Bias: 0.462171, T: 154688, Avg. loss: 0.902598\n",
      "Total training time: 0.12 seconds.\n",
      "-- Epoch 33\n",
      "Norm: 2.16, NNZs: 15, Bias: 0.465373, T: 159522, Avg. loss: 0.886091\n",
      "Total training time: 0.12 seconds.\n",
      "-- Epoch 34\n",
      "Norm: 2.14, NNZs: 15, Bias: 0.470971, T: 164356, Avg. loss: 0.875384\n",
      "Total training time: 0.12 seconds.\n",
      "-- Epoch 35\n",
      "Norm: 2.12, NNZs: 15, Bias: 0.469105, T: 169190, Avg. loss: 0.874694\n",
      "Total training time: 0.13 seconds.\n",
      "-- Epoch 36\n",
      "Norm: 2.12, NNZs: 15, Bias: 0.464043, T: 174024, Avg. loss: 0.865190\n",
      "Total training time: 0.13 seconds.\n",
      "-- Epoch 37\n",
      "Norm: 2.12, NNZs: 15, Bias: 0.467810, T: 178858, Avg. loss: 0.867344\n",
      "Total training time: 0.13 seconds.\n",
      "-- Epoch 38\n",
      "Norm: 2.11, NNZs: 15, Bias: 0.466813, T: 183692, Avg. loss: 0.860513\n",
      "Total training time: 0.13 seconds.\n",
      "-- Epoch 39\n",
      "Norm: 2.10, NNZs: 15, Bias: 0.474326, T: 188526, Avg. loss: 0.856127\n",
      "Total training time: 0.13 seconds.\n",
      "-- Epoch 40\n",
      "Norm: 2.09, NNZs: 15, Bias: 0.473786, T: 193360, Avg. loss: 0.837228\n",
      "Total training time: 0.13 seconds.\n",
      "-- Epoch 41\n",
      "Norm: 2.08, NNZs: 15, Bias: 0.476377, T: 198194, Avg. loss: 0.849835\n",
      "Total training time: 0.13 seconds.\n",
      "-- Epoch 42\n",
      "Norm: 2.08, NNZs: 15, Bias: 0.479227, T: 203028, Avg. loss: 0.840841\n",
      "Total training time: 0.19 seconds.\n",
      "-- Epoch 43\n",
      "Norm: 2.07, NNZs: 15, Bias: 0.476375, T: 207862, Avg. loss: 0.835727\n",
      "Total training time: 0.19 seconds.\n",
      "-- Epoch 44\n",
      "Norm: 2.06, NNZs: 15, Bias: 0.481618, T: 212696, Avg. loss: 0.837750\n",
      "Total training time: 0.19 seconds.\n",
      "-- Epoch 45\n",
      "Norm: 2.06, NNZs: 15, Bias: 0.486150, T: 217530, Avg. loss: 0.826802\n",
      "Total training time: 0.19 seconds.\n",
      "-- Epoch 46\n",
      "Norm: 2.05, NNZs: 15, Bias: 0.483467, T: 222364, Avg. loss: 0.835142\n",
      "Total training time: 0.19 seconds.\n",
      "-- Epoch 47\n",
      "Norm: 2.05, NNZs: 15, Bias: 0.483533, T: 227198, Avg. loss: 0.836788\n",
      "Total training time: 0.19 seconds.\n",
      "-- Epoch 48\n",
      "Norm: 2.04, NNZs: 15, Bias: 0.486186, T: 232032, Avg. loss: 0.831045\n",
      "Total training time: 0.19 seconds.\n",
      "-- Epoch 49\n",
      "Norm: 2.04, NNZs: 15, Bias: 0.483560, T: 236866, Avg. loss: 0.819840\n",
      "Total training time: 0.19 seconds.\n",
      "-- Epoch 50\n",
      "Norm: 2.04, NNZs: 15, Bias: 0.490171, T: 241700, Avg. loss: 0.825353\n",
      "Total training time: 0.19 seconds.\n",
      "-- Epoch 51\n",
      "Norm: 2.04, NNZs: 15, Bias: 0.491116, T: 246534, Avg. loss: 0.809043\n",
      "Total training time: 0.20 seconds.\n",
      "-- Epoch 52\n",
      "Norm: 2.02, NNZs: 15, Bias: 0.490784, T: 251368, Avg. loss: 0.803762\n",
      "Total training time: 0.20 seconds.\n",
      "-- Epoch 53\n",
      "Norm: 2.02, NNZs: 15, Bias: 0.486829, T: 256202, Avg. loss: 0.808933\n",
      "Total training time: 0.20 seconds.\n",
      "-- Epoch 54\n",
      "Norm: 2.01, NNZs: 15, Bias: 0.485759, T: 261036, Avg. loss: 0.807435\n",
      "Total training time: 0.20 seconds.\n",
      "-- Epoch 55\n",
      "Norm: 2.01, NNZs: 15, Bias: 0.486224, T: 265870, Avg. loss: 0.810033\n",
      "Total training time: 0.20 seconds.\n",
      "-- Epoch 56\n",
      "Norm: 2.00, NNZs: 15, Bias: 0.491372, T: 270704, Avg. loss: 0.795977\n",
      "Total training time: 0.20 seconds.\n",
      "-- Epoch 57\n",
      "Norm: 1.99, NNZs: 15, Bias: 0.490633, T: 275538, Avg. loss: 0.800542\n",
      "Total training time: 0.20 seconds.\n",
      "-- Epoch 58\n",
      "Norm: 1.99, NNZs: 15, Bias: 0.491748, T: 280372, Avg. loss: 0.797773\n",
      "Total training time: 0.20 seconds.\n",
      "-- Epoch 59\n",
      "Norm: 1.99, NNZs: 15, Bias: 0.495275, T: 285206, Avg. loss: 0.792333\n",
      "Total training time: 0.21 seconds.\n",
      "-- Epoch 60\n",
      "Norm: 2.00, NNZs: 15, Bias: 0.499104, T: 290040, Avg. loss: 0.794474\n",
      "Total training time: 0.21 seconds.\n",
      "-- Epoch 61\n",
      "Norm: 1.99, NNZs: 15, Bias: 0.501829, T: 294874, Avg. loss: 0.785524\n",
      "Total training time: 0.21 seconds.\n",
      "-- Epoch 62\n",
      "Norm: 1.99, NNZs: 15, Bias: 0.505477, T: 299708, Avg. loss: 0.789227\n",
      "Total training time: 0.21 seconds.\n",
      "-- Epoch 63\n",
      "Norm: 1.99, NNZs: 15, Bias: 0.505096, T: 304542, Avg. loss: 0.787889\n",
      "Total training time: 0.21 seconds.\n",
      "-- Epoch 64\n",
      "Norm: 1.98, NNZs: 15, Bias: 0.504442, T: 309376, Avg. loss: 0.783563\n",
      "Total training time: 0.21 seconds.\n",
      "-- Epoch 65\n",
      "Norm: 1.98, NNZs: 15, Bias: 0.504803, T: 314210, Avg. loss: 0.788979\n",
      "Total training time: 0.21 seconds.\n",
      "-- Epoch 66\n",
      "Norm: 1.98, NNZs: 15, Bias: 0.509538, T: 319044, Avg. loss: 0.786737\n",
      "Total training time: 0.22 seconds.\n",
      "-- Epoch 67\n",
      "Norm: 1.98, NNZs: 15, Bias: 0.510197, T: 323878, Avg. loss: 0.781002\n",
      "Total training time: 0.22 seconds.\n",
      "-- Epoch 68\n",
      "Norm: 1.98, NNZs: 15, Bias: 0.510788, T: 328712, Avg. loss: 0.788535\n",
      "Total training time: 0.22 seconds.\n",
      "-- Epoch 69\n",
      "Norm: 1.98, NNZs: 15, Bias: 0.512296, T: 333546, Avg. loss: 0.779347\n",
      "Total training time: 0.22 seconds.\n",
      "-- Epoch 70\n",
      "Norm: 1.98, NNZs: 15, Bias: 0.510227, T: 338380, Avg. loss: 0.777421\n",
      "Total training time: 0.22 seconds.\n",
      "-- Epoch 71\n",
      "Norm: 1.98, NNZs: 15, Bias: 0.512578, T: 343214, Avg. loss: 0.780362\n",
      "Total training time: 0.22 seconds.\n",
      "-- Epoch 72\n",
      "Norm: 1.98, NNZs: 15, Bias: 0.511687, T: 348048, Avg. loss: 0.783737\n",
      "Total training time: 0.28 seconds.\n",
      "-- Epoch 73\n",
      "Norm: 1.98, NNZs: 15, Bias: 0.513151, T: 352882, Avg. loss: 0.776305\n",
      "Total training time: 0.29 seconds.\n",
      "-- Epoch 74\n",
      "Norm: 1.98, NNZs: 15, Bias: 0.508628, T: 357716, Avg. loss: 0.771222\n",
      "Total training time: 0.29 seconds.\n",
      "-- Epoch 75\n",
      "Norm: 1.98, NNZs: 15, Bias: 0.511685, T: 362550, Avg. loss: 0.773582\n",
      "Total training time: 0.29 seconds.\n",
      "-- Epoch 76\n",
      "Norm: 1.97, NNZs: 15, Bias: 0.516859, T: 367384, Avg. loss: 0.768268\n",
      "Total training time: 0.29 seconds.\n",
      "-- Epoch 77\n",
      "Norm: 1.97, NNZs: 15, Bias: 0.519541, T: 372218, Avg. loss: 0.775150\n",
      "Total training time: 0.29 seconds.\n",
      "-- Epoch 78\n",
      "Norm: 1.97, NNZs: 15, Bias: 0.523567, T: 377052, Avg. loss: 0.772136\n",
      "Total training time: 0.29 seconds.\n",
      "-- Epoch 79\n",
      "Norm: 1.96, NNZs: 15, Bias: 0.521420, T: 381886, Avg. loss: 0.770131\n",
      "Total training time: 0.30 seconds.\n",
      "-- Epoch 80\n",
      "Norm: 1.96, NNZs: 15, Bias: 0.525563, T: 386720, Avg. loss: 0.765470\n",
      "Total training time: 0.30 seconds.\n",
      "-- Epoch 81\n",
      "Norm: 1.96, NNZs: 15, Bias: 0.524302, T: 391554, Avg. loss: 0.762752\n",
      "Total training time: 0.30 seconds.\n",
      "-- Epoch 82\n",
      "Norm: 1.96, NNZs: 15, Bias: 0.522269, T: 396388, Avg. loss: 0.763004\n",
      "Total training time: 0.30 seconds.\n",
      "-- Epoch 83\n",
      "Norm: 1.97, NNZs: 15, Bias: 0.522031, T: 401222, Avg. loss: 0.768256\n",
      "Total training time: 0.30 seconds.\n",
      "-- Epoch 84\n",
      "Norm: 1.97, NNZs: 15, Bias: 0.518818, T: 406056, Avg. loss: 0.757790\n",
      "Total training time: 0.30 seconds.\n",
      "-- Epoch 85\n",
      "Norm: 1.97, NNZs: 15, Bias: 0.521030, T: 410890, Avg. loss: 0.766103\n",
      "Total training time: 0.30 seconds.\n",
      "-- Epoch 86\n",
      "Norm: 1.97, NNZs: 15, Bias: 0.522452, T: 415724, Avg. loss: 0.765560\n",
      "Total training time: 0.31 seconds.\n",
      "-- Epoch 87\n",
      "Norm: 1.97, NNZs: 15, Bias: 0.522678, T: 420558, Avg. loss: 0.757589\n",
      "Total training time: 0.31 seconds.\n",
      "-- Epoch 88\n",
      "Norm: 1.97, NNZs: 15, Bias: 0.522451, T: 425392, Avg. loss: 0.759772\n",
      "Total training time: 0.31 seconds.\n",
      "-- Epoch 89\n",
      "Norm: 1.96, NNZs: 15, Bias: 0.526422, T: 430226, Avg. loss: 0.760637\n",
      "Total training time: 0.31 seconds.\n",
      "Convergence after 89 epochs took 0.31 seconds\n",
      "-- Epoch 1\n",
      "Norm: 16.63, NNZs: 15, Bias: -10.957316, T: 4834, Avg. loss: 5.441555\n",
      "Total training time: 0.00 seconds.\n",
      "-- Epoch 2\n",
      "Norm: 10.13, NNZs: 15, Bias: -2.434255, T: 9668, Avg. loss: 2.258201\n",
      "Total training time: 0.00 seconds.\n",
      "-- Epoch 3\n",
      "Norm: 7.97, NNZs: 15, Bias: -2.827123, T: 14502, Avg. loss: 1.687712\n",
      "Total training time: 0.00 seconds.\n",
      "-- Epoch 4\n",
      "Norm: 7.16, NNZs: 15, Bias: -4.417370, T: 19336, Avg. loss: 1.402020\n",
      "Total training time: 0.00 seconds.\n",
      "-- Epoch 5\n",
      "Norm: 5.49, NNZs: 15, Bias: -2.610245, T: 24170, Avg. loss: 1.246497\n",
      "Total training time: 0.00 seconds.\n",
      "-- Epoch 6\n",
      "Norm: 5.91, NNZs: 15, Bias: -2.375459, T: 29004, Avg. loss: 1.140883\n",
      "Total training time: 0.00 seconds.\n",
      "-- Epoch 7\n",
      "Norm: 5.17, NNZs: 15, Bias: -1.899617, T: 33838, Avg. loss: 1.055630\n",
      "Total training time: 0.07 seconds.\n",
      "-- Epoch 8\n",
      "Norm: 5.55, NNZs: 15, Bias: -2.176709, T: 38672, Avg. loss: 1.010709\n",
      "Total training time: 0.07 seconds.\n",
      "-- Epoch 9\n",
      "Norm: 4.93, NNZs: 15, Bias: -1.830850, T: 43506, Avg. loss: 0.985115\n",
      "Total training time: 0.07 seconds.\n",
      "-- Epoch 10\n",
      "Norm: 5.32, NNZs: 15, Bias: -1.643303, T: 48340, Avg. loss: 0.949572\n",
      "Total training time: 0.07 seconds.\n",
      "-- Epoch 11\n",
      "Norm: 4.90, NNZs: 15, Bias: -2.003188, T: 53174, Avg. loss: 0.917734\n",
      "Total training time: 0.07 seconds.\n",
      "-- Epoch 12\n",
      "Norm: 4.22, NNZs: 15, Bias: -2.025091, T: 58008, Avg. loss: 0.898713\n",
      "Total training time: 0.08 seconds.\n",
      "-- Epoch 13\n",
      "Norm: 5.21, NNZs: 15, Bias: -1.882232, T: 62842, Avg. loss: 0.879577\n",
      "Total training time: 0.08 seconds.\n",
      "-- Epoch 14\n",
      "Norm: 4.26, NNZs: 15, Bias: -2.440847, T: 67676, Avg. loss: 0.873318\n",
      "Total training time: 0.08 seconds.\n",
      "-- Epoch 15\n",
      "Norm: 4.33, NNZs: 15, Bias: -2.242487, T: 72510, Avg. loss: 0.850357\n",
      "Total training time: 0.09 seconds.\n",
      "-- Epoch 16\n",
      "Norm: 4.85, NNZs: 15, Bias: -2.077094, T: 77344, Avg. loss: 0.841806\n",
      "Total training time: 0.09 seconds.\n",
      "-- Epoch 17\n",
      "Norm: 4.24, NNZs: 15, Bias: -2.059478, T: 82178, Avg. loss: 0.833519\n",
      "Total training time: 0.09 seconds.\n",
      "-- Epoch 18\n",
      "Norm: 4.58, NNZs: 15, Bias: -1.978307, T: 87012, Avg. loss: 0.821344\n",
      "Total training time: 0.10 seconds.\n",
      "-- Epoch 19\n",
      "Norm: 4.38, NNZs: 15, Bias: -2.229284, T: 91846, Avg. loss: 0.812286\n",
      "Total training time: 0.10 seconds.\n",
      "-- Epoch 20\n",
      "Norm: 4.33, NNZs: 15, Bias: -1.725726, T: 96680, Avg. loss: 0.804644\n",
      "Total training time: 0.10 seconds.\n",
      "-- Epoch 21\n",
      "Norm: 4.23, NNZs: 15, Bias: -1.744165, T: 101514, Avg. loss: 0.795106\n",
      "Total training time: 0.17 seconds.\n",
      "-- Epoch 22\n",
      "Norm: 4.49, NNZs: 15, Bias: -1.382987, T: 106348, Avg. loss: 0.799233\n",
      "Total training time: 0.17 seconds.\n",
      "-- Epoch 23\n",
      "Norm: 3.95, NNZs: 15, Bias: -1.965806, T: 111182, Avg. loss: 0.789864\n",
      "Total training time: 0.17 seconds.\n",
      "-- Epoch 24\n",
      "Norm: 4.22, NNZs: 15, Bias: -1.707198, T: 116016, Avg. loss: 0.782708\n",
      "Total training time: 0.18 seconds.\n",
      "-- Epoch 25\n",
      "Norm: 3.86, NNZs: 15, Bias: -1.835473, T: 120850, Avg. loss: 0.787347\n",
      "Total training time: 0.18 seconds.\n",
      "-- Epoch 26\n",
      "Norm: 3.88, NNZs: 15, Bias: -1.761677, T: 125684, Avg. loss: 0.782608\n",
      "Total training time: 0.18 seconds.\n",
      "-- Epoch 27\n",
      "Norm: 4.07, NNZs: 15, Bias: -1.299605, T: 130518, Avg. loss: 0.765878\n",
      "Total training time: 0.18 seconds.\n",
      "-- Epoch 28\n",
      "Norm: 4.14, NNZs: 15, Bias: -1.590873, T: 135352, Avg. loss: 0.773738\n",
      "Total training time: 0.19 seconds.\n",
      "-- Epoch 29\n",
      "Norm: 3.90, NNZs: 15, Bias: -1.619897, T: 140186, Avg. loss: 0.764656\n",
      "Total training time: 0.19 seconds.\n",
      "-- Epoch 30\n",
      "Norm: 3.83, NNZs: 15, Bias: -1.404825, T: 145020, Avg. loss: 0.766806\n",
      "Total training time: 0.19 seconds.\n",
      "-- Epoch 31\n",
      "Norm: 3.86, NNZs: 15, Bias: -1.201479, T: 149854, Avg. loss: 0.759831\n",
      "Total training time: 0.19 seconds.\n",
      "-- Epoch 32\n",
      "Norm: 3.81, NNZs: 15, Bias: -1.656246, T: 154688, Avg. loss: 0.765692\n",
      "Total training time: 0.19 seconds.\n",
      "-- Epoch 33\n",
      "Norm: 4.05, NNZs: 15, Bias: -1.418588, T: 159522, Avg. loss: 0.756938\n",
      "Total training time: 0.20 seconds.\n",
      "-- Epoch 34\n",
      "Norm: 3.90, NNZs: 15, Bias: -1.503728, T: 164356, Avg. loss: 0.756015\n",
      "Total training time: 0.20 seconds.\n",
      "-- Epoch 35\n",
      "Norm: 4.10, NNZs: 15, Bias: -1.384083, T: 169190, Avg. loss: 0.752982\n",
      "Total training time: 0.20 seconds.\n",
      "-- Epoch 36\n",
      "Norm: 3.86, NNZs: 15, Bias: -1.492709, T: 174024, Avg. loss: 0.744399\n",
      "Total training time: 0.20 seconds.\n",
      "-- Epoch 37\n",
      "Norm: 3.78, NNZs: 15, Bias: -1.788365, T: 178858, Avg. loss: 0.743760\n",
      "Total training time: 0.20 seconds.\n",
      "-- Epoch 38\n",
      "Norm: 3.71, NNZs: 15, Bias: -1.729701, T: 183692, Avg. loss: 0.745950\n",
      "Total training time: 0.27 seconds.\n",
      "-- Epoch 39\n",
      "Norm: 3.55, NNZs: 15, Bias: -1.593954, T: 188526, Avg. loss: 0.739023\n",
      "Total training time: 0.27 seconds.\n",
      "-- Epoch 40\n",
      "Norm: 3.69, NNZs: 15, Bias: -1.464733, T: 193360, Avg. loss: 0.743161\n",
      "Total training time: 0.27 seconds.\n",
      "-- Epoch 41\n",
      "Norm: 3.71, NNZs: 15, Bias: -1.462787, T: 198194, Avg. loss: 0.737115\n",
      "Total training time: 0.28 seconds.\n",
      "-- Epoch 42\n",
      "Norm: 3.89, NNZs: 15, Bias: -1.249688, T: 203028, Avg. loss: 0.736280\n",
      "Total training time: 0.28 seconds.\n",
      "-- Epoch 43\n",
      "Norm: 3.60, NNZs: 15, Bias: -1.555244, T: 207862, Avg. loss: 0.730484\n",
      "Total training time: 0.28 seconds.\n",
      "-- Epoch 44\n",
      "Norm: 3.86, NNZs: 15, Bias: -1.372645, T: 212696, Avg. loss: 0.736426\n",
      "Total training time: 0.29 seconds.\n",
      "-- Epoch 45\n",
      "Norm: 3.67, NNZs: 15, Bias: -1.333411, T: 217530, Avg. loss: 0.729238\n",
      "Total training time: 0.29 seconds.\n",
      "-- Epoch 46\n",
      "Norm: 3.89, NNZs: 15, Bias: -1.431227, T: 222364, Avg. loss: 0.730358\n",
      "Total training time: 0.29 seconds.\n",
      "-- Epoch 47\n",
      "Norm: 3.87, NNZs: 15, Bias: -1.346313, T: 227198, Avg. loss: 0.722563\n",
      "Total training time: 0.30 seconds.\n",
      "-- Epoch 48\n",
      "Norm: 3.84, NNZs: 15, Bias: -1.411326, T: 232032, Avg. loss: 0.727349\n",
      "Total training time: 0.30 seconds.\n",
      "-- Epoch 49\n",
      "Norm: 3.61, NNZs: 15, Bias: -1.456434, T: 236866, Avg. loss: 0.722624\n",
      "Total training time: 0.30 seconds.\n",
      "-- Epoch 50\n",
      "Norm: 3.76, NNZs: 15, Bias: -1.272163, T: 241700, Avg. loss: 0.721473\n",
      "Total training time: 0.30 seconds.\n",
      "-- Epoch 51\n",
      "Norm: 3.66, NNZs: 15, Bias: -1.328489, T: 246534, Avg. loss: 0.725217\n",
      "Total training time: 0.37 seconds.\n",
      "-- Epoch 52\n",
      "Norm: 3.76, NNZs: 15, Bias: -1.265899, T: 251368, Avg. loss: 0.719684\n",
      "Total training time: 0.37 seconds.\n",
      "-- Epoch 53\n",
      "Norm: 3.69, NNZs: 15, Bias: -1.551978, T: 256202, Avg. loss: 0.719187\n",
      "Total training time: 0.37 seconds.\n",
      "-- Epoch 54\n",
      "Norm: 3.69, NNZs: 15, Bias: -1.335938, T: 261036, Avg. loss: 0.719053\n",
      "Total training time: 0.38 seconds.\n",
      "-- Epoch 55\n",
      "Norm: 3.78, NNZs: 15, Bias: -1.263271, T: 265870, Avg. loss: 0.719041\n",
      "Total training time: 0.38 seconds.\n",
      "-- Epoch 56\n",
      "Norm: 3.44, NNZs: 15, Bias: -1.487874, T: 270704, Avg. loss: 0.711728\n",
      "Total training time: 0.39 seconds.\n",
      "-- Epoch 57\n",
      "Norm: 3.79, NNZs: 15, Bias: -1.304959, T: 275538, Avg. loss: 0.713300\n",
      "Total training time: 0.39 seconds.\n",
      "-- Epoch 58\n",
      "Norm: 3.91, NNZs: 15, Bias: -1.203224, T: 280372, Avg. loss: 0.714185\n",
      "Total training time: 0.39 seconds.\n",
      "-- Epoch 59\n",
      "Norm: 3.99, NNZs: 15, Bias: -1.280391, T: 285206, Avg. loss: 0.711926\n",
      "Total training time: 0.40 seconds.\n",
      "-- Epoch 60\n",
      "Norm: 3.80, NNZs: 15, Bias: -1.305956, T: 290040, Avg. loss: 0.711072\n",
      "Total training time: 0.47 seconds.\n",
      "-- Epoch 61\n",
      "Norm: 3.71, NNZs: 15, Bias: -1.265364, T: 294874, Avg. loss: 0.706651\n",
      "Total training time: 0.47 seconds.\n",
      "-- Epoch 62\n",
      "Norm: 3.85, NNZs: 15, Bias: -1.261478, T: 299708, Avg. loss: 0.711093\n",
      "Total training time: 0.48 seconds.\n",
      "-- Epoch 63\n",
      "Norm: 3.76, NNZs: 15, Bias: -1.401652, T: 304542, Avg. loss: 0.709461\n",
      "Total training time: 0.48 seconds.\n",
      "-- Epoch 64\n",
      "Norm: 3.79, NNZs: 15, Bias: -1.399390, T: 309376, Avg. loss: 0.709872\n",
      "Total training time: 0.48 seconds.\n",
      "-- Epoch 65\n",
      "Norm: 3.96, NNZs: 15, Bias: -1.144316, T: 314210, Avg. loss: 0.706803\n",
      "Total training time: 0.49 seconds.\n",
      "-- Epoch 66\n",
      "Norm: 3.82, NNZs: 15, Bias: -1.163464, T: 319044, Avg. loss: 0.705135\n",
      "Total training time: 0.49 seconds.\n",
      "-- Epoch 67\n",
      "Norm: 3.88, NNZs: 15, Bias: -1.222517, T: 323878, Avg. loss: 0.706062\n",
      "Total training time: 0.50 seconds.\n",
      "-- Epoch 68\n",
      "Norm: 3.87, NNZs: 15, Bias: -1.228902, T: 328712, Avg. loss: 0.703474\n",
      "Total training time: 0.56 seconds.\n",
      "-- Epoch 69\n",
      "Norm: 3.69, NNZs: 15, Bias: -1.249343, T: 333546, Avg. loss: 0.701871\n",
      "Total training time: 0.57 seconds.\n",
      "-- Epoch 70\n",
      "Norm: 3.74, NNZs: 15, Bias: -1.275216, T: 338380, Avg. loss: 0.704251\n",
      "Total training time: 0.57 seconds.\n",
      "-- Epoch 71\n",
      "Norm: 3.70, NNZs: 15, Bias: -1.225448, T: 343214, Avg. loss: 0.701292\n",
      "Total training time: 0.58 seconds.\n",
      "-- Epoch 72\n",
      "Norm: 3.91, NNZs: 15, Bias: -1.099540, T: 348048, Avg. loss: 0.702323\n",
      "Total training time: 0.58 seconds.\n",
      "-- Epoch 73\n",
      "Norm: 3.85, NNZs: 15, Bias: -1.022009, T: 352882, Avg. loss: 0.701355\n",
      "Total training time: 0.59 seconds.\n",
      "-- Epoch 74\n",
      "Norm: 3.79, NNZs: 15, Bias: -1.057558, T: 357716, Avg. loss: 0.699413\n",
      "Total training time: 0.59 seconds.\n",
      "-- Epoch 75\n",
      "Norm: 3.77, NNZs: 15, Bias: -1.005386, T: 362550, Avg. loss: 0.699608\n",
      "Total training time: 0.59 seconds.\n",
      "-- Epoch 76\n",
      "Norm: 3.78, NNZs: 15, Bias: -1.111689, T: 367384, Avg. loss: 0.699408\n",
      "Total training time: 0.60 seconds.\n",
      "-- Epoch 77\n",
      "Norm: 3.78, NNZs: 15, Bias: -1.139252, T: 372218, Avg. loss: 0.697306\n",
      "Total training time: 0.67 seconds.\n",
      "-- Epoch 78\n",
      "Norm: 3.76, NNZs: 15, Bias: -1.085935, T: 377052, Avg. loss: 0.698862\n",
      "Total training time: 0.67 seconds.\n",
      "-- Epoch 79\n",
      "Norm: 3.77, NNZs: 15, Bias: -0.988598, T: 381886, Avg. loss: 0.693903\n",
      "Total training time: 0.67 seconds.\n",
      "-- Epoch 80\n",
      "Norm: 3.57, NNZs: 15, Bias: -1.157495, T: 386720, Avg. loss: 0.695282\n",
      "Total training time: 0.68 seconds.\n",
      "-- Epoch 81\n",
      "Norm: 3.68, NNZs: 15, Bias: -1.047130, T: 391554, Avg. loss: 0.696582\n",
      "Total training time: 0.68 seconds.\n",
      "-- Epoch 82\n",
      "Norm: 3.81, NNZs: 15, Bias: -1.018133, T: 396388, Avg. loss: 0.692789\n",
      "Total training time: 0.69 seconds.\n",
      "-- Epoch 83\n",
      "Norm: 3.61, NNZs: 15, Bias: -0.936772, T: 401222, Avg. loss: 0.693238\n",
      "Total training time: 0.69 seconds.\n",
      "-- Epoch 84\n",
      "Norm: 3.76, NNZs: 15, Bias: -1.091099, T: 406056, Avg. loss: 0.696107\n",
      "Total training time: 0.69 seconds.\n",
      "-- Epoch 85\n",
      "Norm: 3.74, NNZs: 15, Bias: -0.949940, T: 410890, Avg. loss: 0.692376\n",
      "Total training time: 0.70 seconds.\n",
      "-- Epoch 86\n",
      "Norm: 3.77, NNZs: 15, Bias: -0.991861, T: 415724, Avg. loss: 0.694133\n",
      "Total training time: 0.77 seconds.\n",
      "-- Epoch 87\n",
      "Norm: 3.81, NNZs: 15, Bias: -0.940290, T: 420558, Avg. loss: 0.692629\n",
      "Total training time: 0.77 seconds.\n",
      "Convergence after 87 epochs took 0.77 seconds\n"
     ]
    }
   ],
   "source": [
    "# Build 2 models using Select K Best features for one and RFE Features for the other\n",
    "sgd_skb = SGDClassifier(alpha=0.01, shuffle=True, verbose=5, class_weight=None)\n",
    "sgd_rfe = SGDClassifier(alpha=0.0001, class_weight='balanced', shuffle=True, verbose=1)\n",
    "\n",
    "# fitting the SGD Classifiers with the X_train with the corresponding features\n",
    "sgd_skb.fit(X_train[f_feature], y_train)\n",
    "sgd_rfe.fit(X_train[rfe_list], y_train)\n",
    "\n",
    "# Model SKB predictions\n",
    "y_pred_sgd_skb = sgd_skb.predict(X_train[f_feature])\n",
    "y_pred_val_sgd_skb = sgd_skb.predict(X_validate[f_feature])\n",
    "\n",
    "# Model RFE predictions\n",
    "y_pred_sgd_rfe = sgd_rfe.predict(X_train[rfe_list])\n",
    "y_pred_val_sgd_rfe = sgd_rfe.predict(X_validate[rfe_list])\n",
    "\n",
    "# Measure accuracy of the select k best feature model\n",
    "accuracy_train_sgd_skb = sgd_skb.score(X_train[f_feature], y_train)\n",
    "accuracy_val_sgd_skb = sgd_skb.score(X_validate[f_feature], y_validate)\n",
    "\n",
    "# Measure accuracy of the RFE feature model\n",
    "accuracy_train_sgd_rfe = sgd_rfe.score(X_train[rfe_list], y_train)\n",
    "accuracy_val_sgd_rfe = sgd_rfe.score(X_validate[rfe_list], y_validate)"
   ]
  },
  {
   "cell_type": "code",
   "execution_count": 70,
   "metadata": {
    "cell_id": "00062-a25254f5-90a9-43f5-9c38-0e7021b3025a",
    "deepnote_cell_type": "code",
    "deepnote_to_be_reexecuted": false,
    "execution_millis": 87,
    "execution_start": 1621959283407,
    "output_cleared": true,
    "source_hash": "962e44ec",
    "tags": []
   },
   "outputs": [],
   "source": [
    "# Add accuracy of the SKB model to the metric_df\n",
    "metric_df = metric_df.append({\n",
    "    'model': 'SGD Classifier SKB Features', \n",
    "    'baseline_accuracy': round(baseline_accuracy,2),\n",
    "    'train_accuracy': round(accuracy_train_sgd_skb, 2),\n",
    "    'validate_accuracy':round(accuracy_val_sgd_skb,2)}, ignore_index=True)\n"
   ]
  },
  {
   "cell_type": "code",
   "execution_count": 71,
   "metadata": {
    "cell_id": "00063-fb2908b7-00ce-451a-896a-af6473fc07ef",
    "deepnote_cell_type": "code",
    "deepnote_to_be_reexecuted": false,
    "execution_millis": 93,
    "execution_start": 1621959283497,
    "source_hash": "cb4e0fa5",
    "tags": []
   },
   "outputs": [],
   "source": [
    "# Add accuracy of the RFE model to the metric_df\n",
    "metric_df = metric_df.append({\n",
    "    'model': 'SGD Classifier RFE Features', \n",
    "    'baseline_accuracy': round(baseline_accuracy,2),\n",
    "    'train_accuracy': round(accuracy_train_sgd_rfe, 2),\n",
    "    'validate_accuracy':round(accuracy_val_sgd_rfe,2)}, ignore_index=True)"
   ]
  },
  {
   "cell_type": "code",
   "execution_count": 72,
   "metadata": {
    "cell_id": "00064-440a8bf3-481c-4caf-8a13-151e144adb08",
    "deepnote_cell_type": "code",
    "deepnote_to_be_reexecuted": false,
    "execution_millis": 225,
    "execution_start": 1621959283593,
    "source_hash": "400c35cf",
    "tags": []
   },
   "outputs": [
    {
     "data": {
      "application/vnd.deepnote.dataframe.v2+json": {
       "column_count": 4,
       "columns": [
        {
         "dtype": "object",
         "name": "model",
         "stats": {
          "categories": [
           {
            "count": 1,
            "name": "random forest"
           },
           {
            "count": 1,
            "name": "naive bayes"
           },
           {
            "count": 2,
            "name": "2 others"
           }
          ],
          "nan_count": 0,
          "unique_count": 4
         }
        },
        {
         "dtype": "float64",
         "name": "baseline_accuracy",
         "stats": {
          "histogram": [
           {
            "bin_end": 0.11000000000000001,
            "bin_start": 0.010000000000000009,
            "count": 0
           },
           {
            "bin_end": 0.21000000000000002,
            "bin_start": 0.11000000000000001,
            "count": 0
           },
           {
            "bin_end": 0.31000000000000005,
            "bin_start": 0.21000000000000002,
            "count": 0
           },
           {
            "bin_end": 0.41000000000000003,
            "bin_start": 0.31000000000000005,
            "count": 0
           },
           {
            "bin_end": 0.51,
            "bin_start": 0.41000000000000003,
            "count": 0
           },
           {
            "bin_end": 0.6100000000000001,
            "bin_start": 0.51,
            "count": 4
           },
           {
            "bin_end": 0.7100000000000001,
            "bin_start": 0.6100000000000001,
            "count": 0
           },
           {
            "bin_end": 0.81,
            "bin_start": 0.7100000000000001,
            "count": 0
           },
           {
            "bin_end": 0.91,
            "bin_start": 0.81,
            "count": 0
           },
           {
            "bin_end": 1.01,
            "bin_start": 0.91,
            "count": 0
           }
          ],
          "max": "0.51",
          "min": "0.51",
          "nan_count": 0,
          "unique_count": 1
         }
        },
        {
         "dtype": "float64",
         "name": "train_accuracy",
         "stats": {
          "histogram": [
           {
            "bin_end": 0.691,
            "bin_start": 0.69,
            "count": 1
           },
           {
            "bin_end": 0.692,
            "bin_start": 0.691,
            "count": 0
           },
           {
            "bin_end": 0.693,
            "bin_start": 0.692,
            "count": 0
           },
           {
            "bin_end": 0.694,
            "bin_start": 0.693,
            "count": 0
           },
           {
            "bin_end": 0.695,
            "bin_start": 0.694,
            "count": 0
           },
           {
            "bin_end": 0.696,
            "bin_start": 0.695,
            "count": 0
           },
           {
            "bin_end": 0.697,
            "bin_start": 0.696,
            "count": 0
           },
           {
            "bin_end": 0.698,
            "bin_start": 0.697,
            "count": 0
           },
           {
            "bin_end": 0.699,
            "bin_start": 0.698,
            "count": 0
           },
           {
            "bin_end": 0.7,
            "bin_start": 0.699,
            "count": 3
           }
          ],
          "max": "0.7",
          "min": "0.69",
          "nan_count": 0,
          "unique_count": 2
         }
        },
        {
         "dtype": "float64",
         "name": "validate_accuracy",
         "stats": {
          "histogram": [
           {
            "bin_end": 0.684,
            "bin_start": 0.68,
            "count": 1
           },
           {
            "bin_end": 0.6880000000000001,
            "bin_start": 0.684,
            "count": 0
           },
           {
            "bin_end": 0.6920000000000001,
            "bin_start": 0.6880000000000001,
            "count": 1
           },
           {
            "bin_end": 0.6960000000000001,
            "bin_start": 0.6920000000000001,
            "count": 0
           },
           {
            "bin_end": 0.7,
            "bin_start": 0.6960000000000001,
            "count": 0
           },
           {
            "bin_end": 0.704,
            "bin_start": 0.7,
            "count": 0
           },
           {
            "bin_end": 0.708,
            "bin_start": 0.704,
            "count": 0
           },
           {
            "bin_end": 0.712,
            "bin_start": 0.708,
            "count": 1
           },
           {
            "bin_end": 0.716,
            "bin_start": 0.712,
            "count": 0
           },
           {
            "bin_end": 0.72,
            "bin_start": 0.716,
            "count": 1
           }
          ],
          "max": "0.72",
          "min": "0.68",
          "nan_count": 0,
          "unique_count": 4
         }
        },
        {
         "dtype": "int64",
         "name": "_deepnote_index_column"
        }
       ],
       "row_count": 4,
       "rows_bottom": null,
       "rows_top": [
        {
         "_deepnote_index_column": 0,
         "baseline_accuracy": 0.51,
         "model": "random forest",
         "train_accuracy": 0.7,
         "validate_accuracy": 0.72
        },
        {
         "_deepnote_index_column": 1,
         "baseline_accuracy": 0.51,
         "model": "naive bayes",
         "train_accuracy": 0.7,
         "validate_accuracy": 0.68
        },
        {
         "_deepnote_index_column": 2,
         "baseline_accuracy": 0.51,
         "model": "SGD Classifier SKB Features",
         "train_accuracy": 0.7,
         "validate_accuracy": 0.71
        },
        {
         "_deepnote_index_column": 3,
         "baseline_accuracy": 0.51,
         "model": "SGD Classifier RFE Features",
         "train_accuracy": 0.69,
         "validate_accuracy": 0.69
        }
       ]
      },
      "text/html": [
       "<div>\n",
       "<style scoped>\n",
       "    .dataframe tbody tr th:only-of-type {\n",
       "        vertical-align: middle;\n",
       "    }\n",
       "\n",
       "    .dataframe tbody tr th {\n",
       "        vertical-align: top;\n",
       "    }\n",
       "\n",
       "    .dataframe thead th {\n",
       "        text-align: right;\n",
       "    }\n",
       "</style>\n",
       "<table border=\"1\" class=\"dataframe\">\n",
       "  <thead>\n",
       "    <tr style=\"text-align: right;\">\n",
       "      <th></th>\n",
       "      <th>model</th>\n",
       "      <th>baseline_accuracy</th>\n",
       "      <th>train_accuracy</th>\n",
       "      <th>validate_accuracy</th>\n",
       "    </tr>\n",
       "  </thead>\n",
       "  <tbody>\n",
       "    <tr>\n",
       "      <th>0</th>\n",
       "      <td>random forest</td>\n",
       "      <td>0.51</td>\n",
       "      <td>0.70</td>\n",
       "      <td>0.72</td>\n",
       "    </tr>\n",
       "    <tr>\n",
       "      <th>1</th>\n",
       "      <td>naive bayes</td>\n",
       "      <td>0.51</td>\n",
       "      <td>0.70</td>\n",
       "      <td>0.68</td>\n",
       "    </tr>\n",
       "    <tr>\n",
       "      <th>2</th>\n",
       "      <td>SGD Classifier SKB Features</td>\n",
       "      <td>0.51</td>\n",
       "      <td>0.70</td>\n",
       "      <td>0.71</td>\n",
       "    </tr>\n",
       "    <tr>\n",
       "      <th>3</th>\n",
       "      <td>SGD Classifier RFE Features</td>\n",
       "      <td>0.51</td>\n",
       "      <td>0.69</td>\n",
       "      <td>0.69</td>\n",
       "    </tr>\n",
       "  </tbody>\n",
       "</table>\n",
       "</div>"
      ],
      "text/plain": [
       "                         model  baseline_accuracy  train_accuracy  \\\n",
       "0                random forest               0.51            0.70   \n",
       "1                  naive bayes               0.51            0.70   \n",
       "2  SGD Classifier SKB Features               0.51            0.70   \n",
       "3  SGD Classifier RFE Features               0.51            0.69   \n",
       "\n",
       "   validate_accuracy  \n",
       "0               0.72  \n",
       "1               0.68  \n",
       "2               0.71  \n",
       "3               0.69  "
      ]
     },
     "execution_count": 72,
     "metadata": {},
     "output_type": "execute_result"
    }
   ],
   "source": [
    "metric_df"
   ]
  },
  {
   "cell_type": "code",
   "execution_count": 72,
   "metadata": {
    "cell_id": "00065-2af85717-3415-453a-91a0-7148cf725294",
    "deepnote_cell_type": "code",
    "deepnote_to_be_reexecuted": false,
    "execution_millis": 73,
    "execution_start": 1621959283813,
    "source_hash": "b623e53d",
    "tags": []
   },
   "outputs": [],
   "source": []
  },
  {
   "cell_type": "markdown",
   "metadata": {
    "cell_id": "00066-308346c0-b8b4-4d09-8202-8300ee8e80b1",
    "deepnote_cell_type": "markdown",
    "tags": []
   },
   "source": [
    "# KNN \n",
    "## Train"
   ]
  },
  {
   "cell_type": "code",
   "execution_count": 73,
   "metadata": {
    "cell_id": "00067-7fd29290-0e86-43e8-b52d-ecef78cbd29b",
    "deepnote_cell_type": "code",
    "deepnote_to_be_reexecuted": false,
    "execution_millis": 98,
    "execution_start": 1621959283890,
    "source_hash": "2a29daa2",
    "tags": []
   },
   "outputs": [
    {
     "data": {
      "text/plain": [
       "count    8634.000000\n",
       "mean        0.491313\n",
       "std         0.499953\n",
       "min         0.000000\n",
       "25%         0.000000\n",
       "50%         0.000000\n",
       "75%         1.000000\n",
       "max         1.000000\n",
       "Name: alleged_threat_lvl, dtype: float64"
      ]
     },
     "execution_count": 73,
     "metadata": {},
     "output_type": "execute_result"
    }
   ],
   "source": [
    "# Baseline\n",
    "df.alleged_threat_lvl.describe()"
   ]
  },
  {
   "cell_type": "code",
   "execution_count": 74,
   "metadata": {
    "cell_id": "00068-f2497ed6-f0ce-4bf2-805f-321b0e5b88bc",
    "deepnote_cell_type": "code",
    "deepnote_to_be_reexecuted": false,
    "execution_millis": 259,
    "execution_start": 1621959283996,
    "source_hash": "de1e323c",
    "tags": []
   },
   "outputs": [
    {
     "name": "stdout",
     "output_type": "stream",
     "text": [
      "<class 'pandas.core.frame.DataFrame'>\n",
      "RangeIndex: 8634 entries, 0 to 8633\n",
      "Data columns (total 60 columns):\n",
      " #   Column                                       Non-Null Count  Dtype  \n",
      "---  ------                                       --------------  -----  \n",
      " 0   age                                          8634 non-null   int64  \n",
      " 1   gender                                       8634 non-null   object \n",
      " 2   race                                         8634 non-null   object \n",
      " 3   date                                         8634 non-null   object \n",
      " 4   city                                         8634 non-null   object \n",
      " 5   state                                        8634 non-null   object \n",
      " 6   zipcode                                      8634 non-null   float64\n",
      " 7   county                                       8634 non-null   object \n",
      " 8   agency_responsible                           8634 non-null   object \n",
      " 9   cause_of_death                               8634 non-null   object \n",
      " 10  description_of_circumstances                 8634 non-null   object \n",
      " 11  official_disposition                         8634 non-null   object \n",
      " 12  criminal_charges_filed                       8634 non-null   object \n",
      " 13  mental_illness                               8634 non-null   object \n",
      " 14  armed_unarmed_status                         8634 non-null   object \n",
      " 15  alleged_weapon                               8634 non-null   object \n",
      " 16  alleged_threat_lvl                           8634 non-null   float64\n",
      " 17  fleeing                                      8634 non-null   object \n",
      " 18  body_camera                                  8634 non-null   float64\n",
      " 19  geography                                    8634 non-null   object \n",
      " 20  encounter_type_draft                         8634 non-null   object \n",
      " 21  initial_reported_reason_for_encounter_draft  8634 non-null   object \n",
      " 22  known_past_shootings_of_officer_draft        8634 non-null   int64  \n",
      " 23  is_female                                    8634 non-null   int64  \n",
      " 24  is_male                                      8634 non-null   int64  \n",
      " 25  is_transgender                               8634 non-null   int64  \n",
      " 26  was_fleeing                                  8634 non-null   float64\n",
      " 27  was_not fleeing                              8634 non-null   float64\n",
      " 28  was_allegedly_armed                          8634 non-null   float64\n",
      " 29  was_unarmed                                  8634 non-null   float64\n",
      " 30  was_vehicle                                  8634 non-null   float64\n",
      " 31  was_domestic_disturbance                     8634 non-null   int64  \n",
      " 32  was_mental_health_welfare_check              8634 non-null   int64  \n",
      " 33  was_person_with_a_weapon                     8634 non-null   int64  \n",
      " 34  was_traffic_stop                             8634 non-null   int64  \n",
      " 35  was_violent_crime_part_1                     8634 non-null   int64  \n",
      " 36  is_asian/pacific islander                    8634 non-null   int64  \n",
      " 37  is_black                                     8634 non-null   int64  \n",
      " 38  is_hispanic                                  8634 non-null   int64  \n",
      " 39  is_native american                           8634 non-null   int64  \n",
      " 40  is_unknown race                              8634 non-null   int64  \n",
      " 41  is_white                                     8634 non-null   int64  \n",
      " 42  mntlill_drug or alcohol use                  8634 non-null   int64  \n",
      " 43  mntlill_no                                   8634 non-null   int64  \n",
      " 44  mntlill_unknown                              8634 non-null   int64  \n",
      " 45  mntlill_yes                                  8634 non-null   int64  \n",
      " 46  rural                                        8634 non-null   float64\n",
      " 47  suburban                                     8634 non-null   float64\n",
      " 48  urban                                        8634 non-null   float64\n",
      " 49  cod_lethal                                   8634 non-null   int64  \n",
      " 50  age_bins                                     8634 non-null   object \n",
      " 51  unknown                                      8634 non-null   int64  \n",
      " 52  under 12                                     8634 non-null   int64  \n",
      " 53  12-17                                        8634 non-null   int64  \n",
      " 54  18-24                                        8634 non-null   int64  \n",
      " 55  25-34                                        8634 non-null   int64  \n",
      " 56  35-44                                        8634 non-null   int64  \n",
      " 57  45-54                                        8634 non-null   int64  \n",
      " 58  55-64                                        8634 non-null   int64  \n",
      " 59  65+                                          8634 non-null   int64  \n",
      "dtypes: float64(11), int64(30), object(19)\n",
      "memory usage: 4.0+ MB\n"
     ]
    }
   ],
   "source": [
    "df.info()"
   ]
  },
  {
   "cell_type": "code",
   "execution_count": 74,
   "metadata": {
    "cell_id": "00069-6c8d1eca-2804-4a94-b9c9-690bb183bf5e",
    "deepnote_cell_type": "code",
    "deepnote_to_be_reexecuted": false,
    "execution_millis": 9,
    "execution_start": 1621959284285,
    "source_hash": "b623e53d",
    "tags": []
   },
   "outputs": [],
   "source": []
  },
  {
   "cell_type": "markdown",
   "metadata": {
    "created_in_deepnote_cell": true,
    "deepnote_cell_type": "markdown",
    "tags": []
   },
   "source": [
    "<a style='text-decoration:none;line-height:16px;display:flex;color:#5B5B62;padding:10px;justify-content:end;' href='https://deepnote.com?utm_source=created-in-deepnote-cell&projectId=258e71fc-cf2b-48c3-8461-70ecd9787aa1' target=\"_blank\">\n",
    "<img alt='Created in deepnote.com' style='display:inline;max-height:16px;margin:0px;margin-right:7.5px;' src='data:image/svg+xml;base64,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' > </img>\n",
    "Created in <span style='font-weight:600;margin-left:4px;'>Deepnote</span></a>"
   ]
  }
 ],
 "metadata": {
  "deepnote": {
   "is_reactive": false
  },
  "deepnote_execution_queue": [],
  "deepnote_notebook_id": "c28ac7c7-1a3d-42fa-80a0-9dc2aa810e12",
  "kernelspec": {
   "display_name": "Python 3",
   "language": "python",
   "name": "python3"
  },
  "language_info": {
   "codemirror_mode": {
    "name": "ipython",
    "version": 3
   },
   "file_extension": ".py",
   "mimetype": "text/x-python",
   "name": "python",
   "nbconvert_exporter": "python",
   "pygments_lexer": "ipython3",
   "version": "3.8.5"
  }
 },
 "nbformat": 4,
 "nbformat_minor": 4
}
