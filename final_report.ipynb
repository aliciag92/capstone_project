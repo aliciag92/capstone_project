{
 "cells": [
  {
   "cell_type": "markdown",
   "metadata": {},
   "source": [
    "# Project Description and Goals\n",
    "\n",
    "Across the United States, there are police altercations that result in deadly outcomes. A great deal of data on these fatal occurrences exists and it includes information on fatalities caused by police, whether they were on-duty, off-duty, criminal, line-of-duty, local, federal, intentional, or accidental. For our capstone, we address the issue of police violence that has become a heated topic throughout the country. As a team, we attempt to help law enforcement agencies identify risk factors so they may step in before risk transforms into actual harm. \n",
    "\n",
    "\n",
    "Our project aims to research what attributes surround fatal police-related encounters and to analyze the attributes about these incidents that may be leading to the fatalities. Two open-sourced datasets we acquired:\n",
    "- [Mapping Police Violence](https://mappingpoliceviolence.org/aboutthedata) has gathered over 9000 police killings from January 2013 to May 2021. \n",
    "    - For the first iteration, we’re taking one of these attributes (the threat level of the victim) and building a model around it to predict if the victim is classified as being an attacker or a non-attacker based on the other top attributes in the MPL dataset. \n",
    "    \n",
    "    \n",
    "    \n",
    "\n",
    "- [Fatal Encounters](https://fatalencounters.org/) has information on over 30,000 records from January 2000 to May 2021.\n",
    "    - For the second iteration, we're doing the same (building a model around the threat level of the victim), but predicting if the victim is classified as threatening, non-threatening, or ambiguous based on the other top attributes in the FE dataset. \n",
    "\n",
    "Our hope is to shed light on changes to be made within law enforcement, help identify what response teams should be more available, and to improve the way emergency teams are responding to altercations across the United States. Is there a way to modify law enforcement trainings and policies to decrease officer-involved incidents. Are we able to improve the safety and outcomes for all people involved, both officers and civilians? The overall goal is to save lives, provide insights, and find recommendations that will be of assistance. \n",
    "\n",
    "### Objectives for this project include:\n",
    "- Identifying the drivers of civilian fatalities. \n",
    "- Documenting the process and analysis throughout the data science pipeline.\n",
    "- Constructing a classification model that can predict what the victim's threat level is, given the features of the dataset.\n",
    "- Deliverables:\n",
    "    - README.md file containing overall project information. \n",
    "    - A well-documented jupyter notebook detailing the data science pipeline process.\n",
    "    - Python modules that automate the data acquisition, preparation, and exploration process.\n",
    "\n",
    "### Initial Thoughts and Hypotheses:\n",
    "- Are victims armed/unarmed or fleeing/not fleeing victims? Do these attributes affect alleged threat level? \n",
    "- Did the victim put others in danger?\n",
    "- Is there a mental illness that contributed to the incident? \n",
    "- Are officers wearing their body cameras and does it make a difference in alleged threat level?\n",
    "- Is race, gender, age or location influencing the threat level of victims?\n",
    "- Is there even enough information being documented on the police reports? \n",
    "- How does mental illness affect each gender?\n",
    "- Do symptoms of mental illness play a role in threat level?\n",
    "- Is cause of death and alleged threat level independent of one another?\n",
    "- What are the fatalities by state: % killings vs pop?"
   ]
  },
  {
   "cell_type": "markdown",
   "metadata": {},
   "source": [
    "\n",
    "\n",
    "<a id='toc'></a>\n",
    "\n",
    "\n",
    "\n",
    "***\n",
    "\n",
    "\n",
    "### Workflow\n",
    "\n",
    "#### [Imports](#imports)\n",
    "#### [Acquire Data](#acquire-data)\n",
    "#### [Prepare and Split Data](#prepare-and-split-data)\n",
    "#### [Explore Data](#explore-data)\n",
    "- [Visualizations](#visualizations)\n",
    "- [Hypothesis Testing](#hypothesis-testing)\n",
    "\n",
    "#### [Modeling](#modeling)\n",
    "- [Feature Importance](#feature-importance)\n",
    "- [Identify Baseline](#identify-baseline)\n",
    "- [Model on Train](#model-on-train)\n",
    "- [Model on Validate](#model-on-validate)\n",
    "- [Model on Test](#model-on-test)\n",
    "\n",
    "#### [2nd Iteration: Acquire Data](#2nd-iteration-acquire-data)\n",
    "#### [2nd Iteration: Prepare and Split Data](#2nd-iteration-prepare-and-split-data)\n",
    "#### [2nd Iteration: Explore Data](#2nd-iteration-explore-data)\n",
    "- [2nd Iteration: Visualizations](#2nd-iteration-visualizations)\n",
    "- [2nd Iteration: Hypothesis Testing](#2nd-iteration-hypothesis-testing)\n",
    "\n",
    "#### [2nd Iteration: Modeling](#2nd-iteration-modeling)\n",
    "- [2nd Iteration: Feature Importance](#2nd-iteration-feature-importance)\n",
    "- [2nd Iteration: Identify Baseline](#2nd-iteration-identify-baseline)\n",
    "- [2nd Iteration: Model on Train](#2nd-iteration-train)\n",
    "- [2nd Iteration: Model on Validate](#2nd-iteration-validate)\n",
    "- [2nd Iteration: Model on Test](#2nd-iteration-test)\n",
    "\n",
    "#### [Drivers](#drivers)\n",
    "\n",
    "#### [Conclusion](#conclusion)\n",
    "\n",
    "___\n",
    "# <a name=\"imports\"></a>Imports \n",
    "Import all necessary libraries and functions. "
   ]
  },
  {
   "cell_type": "code",
   "execution_count": 1,
   "metadata": {},
   "outputs": [],
   "source": [
    "import pandas as pd\n",
    "import numpy as np\n",
    "\n",
    "# Helper Functions\n",
    "import wrangle as w \n",
    "import explore as exp\n",
    "from explore import rfe, split, select_kbest\n",
    "\n",
    "# Visualizations\n",
    "import seaborn as sns\n",
    "import matplotlib.pyplot as plt\n",
    "import graphviz\n",
    "from graphviz import Graph\n",
    "\n",
    "# Ignore warnings\n",
    "import warnings\n",
    "warnings.filterwarnings(\"ignore\")\n",
    "\n",
    "# Hypothesis tests\n",
    "from scipy import stats\n",
    "from scipy.stats import chi2_contingency\n",
    "from scipy.stats import ttest_1samp\n",
    "from scipy.stats import ttest_ind\n",
    "\n",
    "# Split data\n",
    "from sklearn.model_selection import train_test_split\n",
    "\n",
    "#Feature Engineering\n",
    "from sklearn.feature_selection import SelectKBest, f_regression, chi2\n",
    "from sklearn.feature_selection import RFE\n",
    "\n",
    "# Evaluate models\n",
    "from sklearn.metrics import classification_report\n",
    "from sklearn.metrics import accuracy_score\n",
    "\n",
    "# Create models for classification ML:\n",
    "# Decision Tree  \n",
    "from sklearn.tree import DecisionTreeClassifier\n",
    "from sklearn.tree import export_graphviz\n",
    "\n",
    "# Random Forest\n",
    "from sklearn.ensemble import RandomForestClassifier\n",
    "\n",
    "# K-Nearest Neighbor(KNN)  \n",
    "from sklearn.neighbors import KNeighborsClassifier\n",
    "\n",
    "# Logistic Regression\n",
    "from sklearn.linear_model import LogisticRegression"
   ]
  },
  {
   "cell_type": "markdown",
   "metadata": {},
   "source": [
    " [Jump to Table of Contents](#toc)\n",
    "___\n",
    "# <a name=\"acquire-data\"></a>Acquire Data"
   ]
  },
  {
   "cell_type": "code",
   "execution_count": 2,
   "metadata": {
    "cell_id": "00003-481c5eca-c8fc-4dc5-9877-fececec8d529",
    "deepnote_cell_type": "code",
    "deepnote_to_be_reexecuted": false,
    "execution_millis": 7439,
    "execution_start": 1621959968591,
    "source_hash": "738fdb1c",
    "tags": []
   },
   "outputs": [
    {
     "data": {
      "text/html": [
       "<div>\n",
       "<style scoped>\n",
       "    .dataframe tbody tr th:only-of-type {\n",
       "        vertical-align: middle;\n",
       "    }\n",
       "\n",
       "    .dataframe tbody tr th {\n",
       "        vertical-align: top;\n",
       "    }\n",
       "\n",
       "    .dataframe thead th {\n",
       "        text-align: right;\n",
       "    }\n",
       "</style>\n",
       "<table border=\"1\" class=\"dataframe\">\n",
       "  <thead>\n",
       "    <tr style=\"text-align: right;\">\n",
       "      <th></th>\n",
       "      <th>Victim's name</th>\n",
       "      <th>Victim's age</th>\n",
       "      <th>Victim's gender</th>\n",
       "      <th>Victim's race</th>\n",
       "      <th>URL of image of victim</th>\n",
       "      <th>Date of Incident (month/day/year)</th>\n",
       "      <th>Street Address of Incident</th>\n",
       "      <th>City</th>\n",
       "      <th>State</th>\n",
       "      <th>Zipcode</th>\n",
       "      <th>...</th>\n",
       "      <th>Off-Duty Killing?</th>\n",
       "      <th>Geography (via Trulia methodology based on zipcode population density: http://jedkolko.com/wp-content/uploads/2015/05/full-ZCTA-urban-suburban-rural-classification.xlsx )</th>\n",
       "      <th>MPV ID</th>\n",
       "      <th>Fatal Encounters ID</th>\n",
       "      <th>Encounter Type (DRAFT)</th>\n",
       "      <th>Initial Reported Reason for Encounter (DRAFT)</th>\n",
       "      <th>Names of Officers Involved (DRAFT)</th>\n",
       "      <th>Race of Officers Involved (DRAFT)</th>\n",
       "      <th>Known Past Shootings of Officer(s) (DRAFT)</th>\n",
       "      <th>Call for Service? (DRAFT)</th>\n",
       "    </tr>\n",
       "  </thead>\n",
       "  <tbody>\n",
       "    <tr>\n",
       "      <th>0</th>\n",
       "      <td>Kalon Horton</td>\n",
       "      <td>29</td>\n",
       "      <td>Male</td>\n",
       "      <td>Black</td>\n",
       "      <td>NaN</td>\n",
       "      <td>2021-05-09</td>\n",
       "      <td>NaN</td>\n",
       "      <td>Lancaster</td>\n",
       "      <td>TX</td>\n",
       "      <td>NaN</td>\n",
       "      <td>...</td>\n",
       "      <td>NaN</td>\n",
       "      <td>NaN</td>\n",
       "      <td>NaN</td>\n",
       "      <td>NaN</td>\n",
       "      <td>Part 1 Violent Crime</td>\n",
       "      <td>gunshots</td>\n",
       "      <td>NaN</td>\n",
       "      <td>NaN</td>\n",
       "      <td>NaN</td>\n",
       "      <td>Yes</td>\n",
       "    </tr>\n",
       "    <tr>\n",
       "      <th>1</th>\n",
       "      <td>Name withheld by police</td>\n",
       "      <td>NaN</td>\n",
       "      <td>Male</td>\n",
       "      <td>Unknown Race</td>\n",
       "      <td>NaN</td>\n",
       "      <td>2021-05-09</td>\n",
       "      <td>90 S. Main St.</td>\n",
       "      <td>Leicester</td>\n",
       "      <td>MA</td>\n",
       "      <td>1524.0</td>\n",
       "      <td>...</td>\n",
       "      <td>NaN</td>\n",
       "      <td>Suburban</td>\n",
       "      <td>NaN</td>\n",
       "      <td>NaN</td>\n",
       "      <td>Other</td>\n",
       "      <td>deliberate car crash</td>\n",
       "      <td>NaN</td>\n",
       "      <td>NaN</td>\n",
       "      <td>NaN</td>\n",
       "      <td>Yes</td>\n",
       "    </tr>\n",
       "    <tr>\n",
       "      <th>2</th>\n",
       "      <td>Jeffrey Mark Murray</td>\n",
       "      <td>62</td>\n",
       "      <td>Male</td>\n",
       "      <td>Unknown Race</td>\n",
       "      <td>NaN</td>\n",
       "      <td>2021-05-09</td>\n",
       "      <td>NaN</td>\n",
       "      <td>Greenville</td>\n",
       "      <td>SC</td>\n",
       "      <td>NaN</td>\n",
       "      <td>...</td>\n",
       "      <td>NaN</td>\n",
       "      <td>NaN</td>\n",
       "      <td>NaN</td>\n",
       "      <td>NaN</td>\n",
       "      <td>Part 1 Violent Crime</td>\n",
       "      <td>murder</td>\n",
       "      <td>NaN</td>\n",
       "      <td>NaN</td>\n",
       "      <td>NaN</td>\n",
       "      <td>Yes</td>\n",
       "    </tr>\n",
       "    <tr>\n",
       "      <th>3</th>\n",
       "      <td>Everton Brown</td>\n",
       "      <td>56</td>\n",
       "      <td>Male</td>\n",
       "      <td>Unknown Race</td>\n",
       "      <td>NaN</td>\n",
       "      <td>2021-05-08</td>\n",
       "      <td>NaN</td>\n",
       "      <td>Baltimore</td>\n",
       "      <td>MD</td>\n",
       "      <td>NaN</td>\n",
       "      <td>...</td>\n",
       "      <td>NaN</td>\n",
       "      <td>NaN</td>\n",
       "      <td>NaN</td>\n",
       "      <td>NaN</td>\n",
       "      <td>Part 1 Violent Crime</td>\n",
       "      <td>murder</td>\n",
       "      <td>NaN</td>\n",
       "      <td>NaN</td>\n",
       "      <td>NaN</td>\n",
       "      <td>Yes</td>\n",
       "    </tr>\n",
       "    <tr>\n",
       "      <th>4</th>\n",
       "      <td>Felix Jerry Marquez</td>\n",
       "      <td>34</td>\n",
       "      <td>Male</td>\n",
       "      <td>Hispanic</td>\n",
       "      <td>NaN</td>\n",
       "      <td>2021-05-08</td>\n",
       "      <td>NaN</td>\n",
       "      <td>Riverside</td>\n",
       "      <td>CA</td>\n",
       "      <td>NaN</td>\n",
       "      <td>...</td>\n",
       "      <td>NaN</td>\n",
       "      <td>NaN</td>\n",
       "      <td>NaN</td>\n",
       "      <td>NaN</td>\n",
       "      <td>Person with a gun</td>\n",
       "      <td>person with a gun</td>\n",
       "      <td>NaN</td>\n",
       "      <td>NaN</td>\n",
       "      <td>NaN</td>\n",
       "      <td>No</td>\n",
       "    </tr>\n",
       "  </tbody>\n",
       "</table>\n",
       "<p>5 rows × 35 columns</p>\n",
       "</div>"
      ],
      "text/plain": [
       "             Victim's name Victim's age Victim's gender Victim's race  \\\n",
       "0             Kalon Horton           29            Male         Black   \n",
       "1  Name withheld by police          NaN            Male  Unknown Race   \n",
       "2      Jeffrey Mark Murray           62            Male  Unknown Race   \n",
       "3            Everton Brown           56            Male  Unknown Race   \n",
       "4      Felix Jerry Marquez           34            Male      Hispanic   \n",
       "\n",
       "  URL of image of victim Date of Incident (month/day/year)  \\\n",
       "0                    NaN                        2021-05-09   \n",
       "1                    NaN                        2021-05-09   \n",
       "2                    NaN                        2021-05-09   \n",
       "3                    NaN                        2021-05-08   \n",
       "4                    NaN                        2021-05-08   \n",
       "\n",
       "  Street Address of Incident        City State  Zipcode  ...  \\\n",
       "0                        NaN   Lancaster    TX      NaN  ...   \n",
       "1             90 S. Main St.   Leicester    MA   1524.0  ...   \n",
       "2                        NaN  Greenville    SC      NaN  ...   \n",
       "3                        NaN   Baltimore    MD      NaN  ...   \n",
       "4                        NaN   Riverside    CA      NaN  ...   \n",
       "\n",
       "  Off-Duty Killing?  \\\n",
       "0               NaN   \n",
       "1               NaN   \n",
       "2               NaN   \n",
       "3               NaN   \n",
       "4               NaN   \n",
       "\n",
       "  Geography (via Trulia methodology based on zipcode population density: http://jedkolko.com/wp-content/uploads/2015/05/full-ZCTA-urban-suburban-rural-classification.xlsx )  \\\n",
       "0                                                NaN                                                                                                                           \n",
       "1                                           Suburban                                                                                                                           \n",
       "2                                                NaN                                                                                                                           \n",
       "3                                                NaN                                                                                                                           \n",
       "4                                                NaN                                                                                                                           \n",
       "\n",
       "  MPV ID Fatal Encounters ID Encounter Type (DRAFT)  \\\n",
       "0    NaN                 NaN   Part 1 Violent Crime   \n",
       "1    NaN                 NaN                  Other   \n",
       "2    NaN                 NaN   Part 1 Violent Crime   \n",
       "3    NaN                 NaN   Part 1 Violent Crime   \n",
       "4    NaN                 NaN      Person with a gun   \n",
       "\n",
       "  Initial Reported Reason for Encounter (DRAFT)  \\\n",
       "0                                      gunshots   \n",
       "1                          deliberate car crash   \n",
       "2                                        murder   \n",
       "3                                        murder   \n",
       "4                             person with a gun   \n",
       "\n",
       "  Names of Officers Involved (DRAFT) Race of Officers Involved (DRAFT)  \\\n",
       "0                                NaN                               NaN   \n",
       "1                                NaN                               NaN   \n",
       "2                                NaN                               NaN   \n",
       "3                                NaN                               NaN   \n",
       "4                                NaN                               NaN   \n",
       "\n",
       "  Known Past Shootings of Officer(s) (DRAFT) Call for Service? (DRAFT)  \n",
       "0                                        NaN                       Yes  \n",
       "1                                        NaN                       Yes  \n",
       "2                                        NaN                       Yes  \n",
       "3                                        NaN                       Yes  \n",
       "4                                        NaN                        No  \n",
       "\n",
       "[5 rows x 35 columns]"
      ]
     },
     "execution_count": 2,
     "metadata": {},
     "output_type": "execute_result"
    }
   ],
   "source": [
    "# reads data from Mapping Police Violence website's downloaded dataset\n",
    "df = pd.read_excel('data.xlsx')\n",
    "df.head()"
   ]
  },
  {
   "cell_type": "markdown",
   "metadata": {
    "cell_id": "00004-c993017c-3028-463a-8018-a24c6bc0f613",
    "deepnote_cell_type": "markdown",
    "tags": []
   },
   "source": [
    "\n",
    "### Initial Data Summarization"
   ]
  },
  {
   "cell_type": "code",
   "execution_count": 3,
   "metadata": {
    "cell_id": "00004-b98cbd7b-8c4a-4708-bbfe-115af61e67e1",
    "deepnote_cell_type": "code",
    "deepnote_to_be_reexecuted": false,
    "execution_millis": 25,
    "execution_start": 1621959976016,
    "source_hash": "cbfec6c2",
    "tags": []
   },
   "outputs": [
    {
     "data": {
      "text/plain": [
       "(9147, 35)"
      ]
     },
     "execution_count": 3,
     "metadata": {},
     "output_type": "execute_result"
    }
   ],
   "source": [
    "# rows and columns\n",
    "df.shape"
   ]
  },
  {
   "cell_type": "code",
   "execution_count": 4,
   "metadata": {
    "cell_id": "00005-8df25032-7915-45e8-87c8-9060ab2c9c69",
    "deepnote_cell_type": "code",
    "deepnote_to_be_reexecuted": false,
    "execution_millis": 55,
    "execution_start": 1621959976036,
    "source_hash": "5451bed5",
    "tags": []
   },
   "outputs": [
    {
     "name": "stdout",
     "output_type": "stream",
     "text": [
      "<class 'pandas.core.frame.DataFrame'>\n",
      "RangeIndex: 9147 entries, 0 to 9146\n",
      "Data columns (total 35 columns):\n",
      " #   Column                                                                                                                                                                      Non-Null Count  Dtype         \n",
      "---  ------                                                                                                                                                                      --------------  -----         \n",
      " 0   Victim's name                                                                                                                                                               9147 non-null   object        \n",
      " 1   Victim's age                                                                                                                                                                9138 non-null   object        \n",
      " 2   Victim's gender                                                                                                                                                             9137 non-null   object        \n",
      " 3   Victim's race                                                                                                                                                               9147 non-null   object        \n",
      " 4   URL of image of victim                                                                                                                                                      4882 non-null   object        \n",
      " 5   Date of Incident (month/day/year)                                                                                                                                           9147 non-null   datetime64[ns]\n",
      " 6   Street Address of Incident                                                                                                                                                  9042 non-null   object        \n",
      " 7   City                                                                                                                                                                        9138 non-null   object        \n",
      " 8   State                                                                                                                                                                       9147 non-null   object        \n",
      " 9   Zipcode                                                                                                                                                                     9099 non-null   float64       \n",
      " 10  County                                                                                                                                                                      9130 non-null   object        \n",
      " 11  Agency responsible for death                                                                                                                                                9143 non-null   object        \n",
      " 12  ORI Agency Identifier (if available)                                                                                                                                        9144 non-null   object        \n",
      " 13  Cause of death                                                                                                                                                              9147 non-null   object        \n",
      " 14  A brief description of the circumstances surrounding the death                                                                                                              9132 non-null   object        \n",
      " 15  Official disposition of death (justified or other)                                                                                                                          9136 non-null   object        \n",
      " 16  Criminal Charges?                                                                                                                                                           9147 non-null   object        \n",
      " 17  Link to news article or photo of official document                                                                                                                          9147 non-null   object        \n",
      " 18  Symptoms of mental illness?                                                                                                                                                 9086 non-null   object        \n",
      " 19  Armed/Unarmed Status                                                                                                                                                        9147 non-null   object        \n",
      " 20  Alleged Weapon (Source: WaPo and Review of Cases Not Included in WaPo Database)                                                                                             9147 non-null   object        \n",
      " 21  Alleged Threat Level (Source: WaPo)                                                                                                                                         6750 non-null   object        \n",
      " 22  Fleeing (Source: WaPo)                                                                                                                                                      6056 non-null   object        \n",
      " 23  Body Camera (Source: WaPo)                                                                                                                                                  5982 non-null   object        \n",
      " 24  WaPo ID (If included in WaPo database)                                                                                                                                      6048 non-null   float64       \n",
      " 25  Off-Duty Killing?                                                                                                                                                           248 non-null    object        \n",
      " 26  Geography (via Trulia methodology based on zipcode population density: http://jedkolko.com/wp-content/uploads/2015/05/full-ZCTA-urban-suburban-rural-classification.xlsx )  9122 non-null   object        \n",
      " 27  MPV ID                                                                                                                                                                      9068 non-null   float64       \n",
      " 28  Fatal Encounters ID                                                                                                                                                         9016 non-null   float64       \n",
      " 29  Encounter Type (DRAFT)                                                                                                                                                      4839 non-null   object        \n",
      " 30  Initial Reported Reason for Encounter (DRAFT)                                                                                                                               4839 non-null   object        \n",
      " 31  Names of Officers Involved (DRAFT)                                                                                                                                          1394 non-null   object        \n",
      " 32  Race of Officers Involved (DRAFT)                                                                                                                                           341 non-null    object        \n",
      " 33  Known Past Shootings of Officer(s) (DRAFT)                                                                                                                                  74 non-null     object        \n",
      " 34  Call for Service? (DRAFT)                                                                                                                                                   3616 non-null   object        \n",
      "dtypes: datetime64[ns](1), float64(4), object(30)\n",
      "memory usage: 2.4+ MB\n"
     ]
    }
   ],
   "source": [
    "# list of column names and data types with information\n",
    "df.info()"
   ]
  },
  {
   "cell_type": "code",
   "execution_count": 5,
   "metadata": {
    "cell_id": "00008-cede92f4-f3f8-4fed-8683-d304e3978e34",
    "deepnote_cell_type": "code",
    "deepnote_to_be_reexecuted": false,
    "execution_millis": 12,
    "execution_start": 1621959976100,
    "source_hash": "f099b8f5",
    "tags": []
   },
   "outputs": [
    {
     "data": {
      "text/plain": [
       "Victim's name                                                                                                                                                                    0\n",
       "Victim's age                                                                                                                                                                     9\n",
       "Victim's gender                                                                                                                                                                 10\n",
       "Victim's race                                                                                                                                                                    0\n",
       "URL of image of victim                                                                                                                                                        4265\n",
       "Date of Incident (month/day/year)                                                                                                                                                0\n",
       "Street Address of Incident                                                                                                                                                     105\n",
       "City                                                                                                                                                                             9\n",
       "State                                                                                                                                                                            0\n",
       "Zipcode                                                                                                                                                                         48\n",
       "County                                                                                                                                                                          17\n",
       "Agency responsible for death                                                                                                                                                     4\n",
       "ORI Agency Identifier (if available)                                                                                                                                             3\n",
       "Cause of death                                                                                                                                                                   0\n",
       "A brief description of the circumstances surrounding the death                                                                                                                  15\n",
       "Official disposition of death (justified or other)                                                                                                                              11\n",
       "Criminal Charges?                                                                                                                                                                0\n",
       "Link to news article or photo of official document                                                                                                                               0\n",
       "Symptoms of mental illness?                                                                                                                                                     61\n",
       "Armed/Unarmed Status                                                                                                                                                             0\n",
       "Alleged Weapon (Source: WaPo and Review of Cases Not Included in WaPo Database)                                                                                                  0\n",
       "Alleged Threat Level (Source: WaPo)                                                                                                                                           2397\n",
       "Fleeing (Source: WaPo)                                                                                                                                                        3091\n",
       "Body Camera (Source: WaPo)                                                                                                                                                    3165\n",
       "WaPo ID (If included in WaPo database)                                                                                                                                        3099\n",
       "Off-Duty Killing?                                                                                                                                                             8899\n",
       "Geography (via Trulia methodology based on zipcode population density: http://jedkolko.com/wp-content/uploads/2015/05/full-ZCTA-urban-suburban-rural-classification.xlsx )      25\n",
       "MPV ID                                                                                                                                                                          79\n",
       "Fatal Encounters ID                                                                                                                                                            131\n",
       "Encounter Type (DRAFT)                                                                                                                                                        4308\n",
       "Initial Reported Reason for Encounter (DRAFT)                                                                                                                                 4308\n",
       "Names of Officers Involved (DRAFT)                                                                                                                                            7753\n",
       "Race of Officers Involved (DRAFT)                                                                                                                                             8806\n",
       "Known Past Shootings of Officer(s) (DRAFT)                                                                                                                                    9073\n",
       "Call for Service? (DRAFT)                                                                                                                                                     5531\n",
       "dtype: int64"
      ]
     },
     "execution_count": 5,
     "metadata": {},
     "output_type": "execute_result"
    }
   ],
   "source": [
    "# check nulls\n",
    "df.isnull().sum()"
   ]
  },
  {
   "cell_type": "code",
   "execution_count": 6,
   "metadata": {
    "cell_id": "00007-9498227c-7548-499d-847d-036c656990b1",
    "deepnote_cell_type": "code",
    "deepnote_to_be_reexecuted": false,
    "execution_millis": 83,
    "execution_start": 1621959976119,
    "source_hash": "ea083deb",
    "tags": []
   },
   "outputs": [
    {
     "name": "stdout",
     "output_type": "stream",
     "text": [
      "VICTIM'S AGE\n",
      "Unknown    331\n",
      "25         299\n",
      "27         294\n",
      "31         290\n",
      "28         289\n",
      "          ... \n",
      "88           1\n",
      "10           1\n",
      "7            1\n",
      "85           1\n",
      "95           1\n",
      "Name: Victim's age, Length: 89, dtype: int64\n",
      "-------------------------------------\n",
      "VICTIM'S GENDER\n",
      "Male           8668\n",
      "Female          453\n",
      "Transgender       9\n",
      "Unknown           6\n",
      "Male              1\n",
      "Name: Victim's gender, dtype: int64\n",
      "-------------------------------------\n",
      "VICTIM'S RACE\n",
      "White                     3993\n",
      "Black                     2306\n",
      "Hispanic                  1631\n",
      "Unknown Race               896\n",
      "Asian                      135\n",
      "Native American            130\n",
      "Pacific Islander            52\n",
      "Unknown race                 2\n",
      "Asian/Pacific Islander       1\n",
      "Hispanic                     1\n",
      "Name: Victim's race, dtype: int64\n",
      "-------------------------------------\n",
      "CAUSE OF DEATH\n",
      "Gunshot                                    8434\n",
      "Gunshot, Taser                              273\n",
      "Taser                                       250\n",
      "Vehicle                                      48\n",
      "Physical Restraint                           33\n",
      "Beaten                                       31\n",
      "Tasered                                      21\n",
      "Physical restraint                            9\n",
      "Asphyxiated                                   9\n",
      "Other                                         6\n",
      "Gunshot, Police Dog                           5\n",
      "Gunshot, Pepper Spray                         4\n",
      "Pepper Spray                                  4\n",
      "Bean bag                                      2\n",
      "Taser, Physical Restraint                     2\n",
      "Chemical agent/Pepper spray                   1\n",
      "Bomb                                          1\n",
      "Beaten/Bludgeoned with instrument             1\n",
      "Gunshot, Unspecified Less Lethal Weapon       1\n",
      "Baton, Pepper Spray, Physical Restraint       1\n",
      "Gunshot, Taser, Pepper spray                  1\n",
      "Gunshot, Taser, Baton                         1\n",
      "Gunshot, Stabbed                              1\n",
      "Gunshot, Beanbag Gun                          1\n",
      "Taser, Baton                                  1\n",
      "Gunshot, Taser, Beanbag Shotgun               1\n",
      "Taser, Pepper spray, beaten                   1\n",
      "Gunshot, Vehicle                              1\n",
      "Gunshot, Bean Bag Gun                         1\n",
      "Taser, Beaten                                 1\n",
      "Taser, Pepper Spray, Beaten                   1\n",
      "Name: Cause of death, dtype: int64\n",
      "-------------------------------------\n",
      "OFFICIAL DISPOSITION OF DEATH (JUSTIFIED OR OTHER)\n",
      "Pending investigation/No Known Charges                                                                 4852\n",
      "Unreported                                                                                             1223\n",
      "Pending investigation                                                                                  1087\n",
      "Justified                                                                                               651\n",
      "Justified by District Attorney                                                                          350\n",
      "                                                                                                       ... \n",
      "Charged with manslaughter, Plead no contest, Sentenced to 10 years probation                              1\n",
      "Charged with murder, possession of a firearm during the commission of a crime and violation of oath       1\n",
      "Charged with a manslaughter                                                                               1\n",
      "Murder / Suicide                                                                                          1\n",
      "Charged, Convicted of involuntary manslaugher, Sentenced to 1 year in jail, 3 years suspended             1\n",
      "Name: Official disposition of death (justified or other), Length: 154, dtype: int64\n",
      "-------------------------------------\n",
      "CRIMINAL CHARGES?\n",
      "No known charges                                                                 8993\n",
      "Charged with a crime                                                               67\n",
      "Charged, Acquitted                                                                 32\n",
      "Charged, Charges Dropped                                                            7\n",
      "Charged, Mistrial                                                                   6\n",
      "Charged, Convicted                                                                  5\n",
      "Charged, Convicted, Sentenced to 30 years in prison                                 2\n",
      "Charged, Convicted, Sentenced to 10 years in prison                                 2\n",
      "Charged, Convicted, Sentenced to 5 years probation.                                 2\n",
      "Charged, Convicted, Sentenced to life in prison                                     2\n",
      "Charged, Convicted, Sentenced to 7 years in prison                                  1\n",
      "Charged, Convicted, Sentenced to 6 years in prison                                  1\n",
      "Charged, Convicted, Sentenced to 4 years                                            1\n",
      "Charged, Convicted, Sentenced to 16 years in prison                                 1\n",
      "Charged, Plead No Contest, Sentenced to 10 years probation                          1\n",
      "Charged, Convicted, Sentenced to 2.5 years in prison                                1\n",
      "Charged, Convicted, Sentenced to 25 years in prison                                 1\n",
      "Charged, Convicted, Sentenced to 5 years in prison                                  1\n",
      "Charged, Convicted of assault                                                       1\n",
      "Charged, Convicted, Sentenced to 50 years                                           1\n",
      "Charged, Convicted, Sentenced to 14 years in prison                                 1\n",
      "Charged, Convicted, Sentenced to 1 year in jail, 3 years suspended                  1\n",
      "Charged, Convicted, Sentenced to 3 months in jail                                   1\n",
      "Charged, Mistrial, Plead Guilty to Manslaughter                                     1\n",
      "Charged, Convicted, Sentenced to 40 years to Life in prison                         1\n",
      "Charged, Convicted, Sentenced to 40 years in prison                                 1\n",
      "Charged, Convicted, Sentenced to life in prison without parole, plus 16 years       1\n",
      "Charged, Plead Guilty to Manslaughter, Sentenced to 5 years in prison               1\n",
      "Charged, Convicted, Sentenced to 1 year in prison                                   1\n",
      "Charged, Convicted, Sentenced to 12 years in prison and 8 years in probation        1\n",
      "Charged, Convicted, Sentenced to 6 years                                            1\n",
      "Charged, Mistrial, Plead Guilty to Civil Rights Charges                             1\n",
      "Charged, Convicted, Sentenced to 10 Years of Prison                                 1\n",
      "Charged, Convicted, Sentenced to Life in Prison                                     1\n",
      "Charged, Convicted of reckless homicide, sentenced to 1 year in prison              1\n",
      "Charged, Convicted, Sentenced to 18 months                                          1\n",
      "Charged, Convicted, Sentenced to 1 year in prison and 4 years probation             1\n",
      "Charged, Convicted, Sentenced to 3 years probation                                  1\n",
      "Charged, Convicted, Sentenced to 20 years in prison                                 1\n",
      "Name: Criminal Charges?, dtype: int64\n",
      "-------------------------------------\n",
      "SYMPTOMS OF MENTAL ILLNESS?\n",
      "No                         5897\n",
      "Yes                        1678\n",
      "Unknown                    1179\n",
      "Drug or alcohol use         326\n",
      "Drug or Alcohol Use           2\n",
      "Yes/Drug or alcohol use       1\n",
      "Unkown                        1\n",
      "Unknown                       1\n",
      "unknown                       1\n",
      "Name: Symptoms of mental illness?, dtype: int64\n",
      "-------------------------------------\n",
      "ARMED/UNARMED STATUS\n",
      "Allegedly Armed                       6552\n",
      "Unarmed/Did Not Have Actual Weapon    1212\n",
      "Unclear                                764\n",
      "Vehicle                                594\n",
      "Allegedly armed                         24\n",
      "Unclear                                  1\n",
      "Name: Armed/Unarmed Status, dtype: int64\n",
      "-------------------------------------\n",
      "ALLEGED WEAPON (SOURCE: WAPO AND REVIEW OF CASES NOT INCLUDED IN WAPO DATABASE)\n",
      "gun                                 4814\n",
      "knife                               1200\n",
      "no object                            926\n",
      "undetermined                         598\n",
      "vehicle                              529\n",
      "                                    ... \n",
      "baseball bat and fireplace poker       1\n",
      "curtain rod                            1\n",
      "lighter fluid                          1\n",
      "gun and knives                         1\n",
      "flare gun                              1\n",
      "Name: Alleged Weapon (Source: WaPo and Review of Cases Not Included in WaPo Database), Length: 176, dtype: int64\n",
      "-------------------------------------\n",
      "ALLEGED THREAT LEVEL (SOURCE: WAPO)\n",
      "attack          4332\n",
      "other           2052\n",
      "undetermined     363\n",
      "Other              1\n",
      "none               1\n",
      "None               1\n",
      "Name: Alleged Threat Level (Source: WaPo), dtype: int64\n",
      "-------------------------------------\n",
      "FLEEING (SOURCE: WAPO)\n",
      "Not fleeing     3794\n",
      "Car              963\n",
      "Foot             752\n",
      "Other            181\n",
      "not fleeing      176\n",
      "foot              65\n",
      "car               51\n",
      "Not Fleeing       47\n",
      "other             24\n",
      "not fleeing        3\n",
      "Name: Fleeing (Source: WaPo), dtype: int64\n",
      "-------------------------------------\n",
      "BODY CAMERA (SOURCE: WAPO)\n",
      "No                    5044\n",
      "Yes                    615\n",
      "no                     261\n",
      "yes                     46\n",
      "Surveillance Video       5\n",
      "Bystander Video          4\n",
      "Surveillance video       2\n",
      "Dashcam Video            2\n",
      "cell phone video         1\n",
      "Dashcam video            1\n",
      "surveillance video       1\n",
      "Name: Body Camera (Source: WaPo), dtype: int64\n",
      "-------------------------------------\n",
      "OFF-DUTY KILLING?\n",
      "Off-Duty    231\n",
      "Off-duty     14\n",
      "off-duty      3\n",
      "Name: Off-Duty Killing?, dtype: int64\n",
      "-------------------------------------\n",
      "GEOGRAPHY (VIA TRULIA METHODOLOGY BASED ON ZIPCODE POPULATION DENSITY: HTTP://JEDKOLKO.COM/WP-CONTENT/UPLOADS/2015/05/FULL-ZCTA-URBAN-SUBURBAN-RURAL-CLASSIFICATION.XLSX )\n",
      "Suburban        4550\n",
      "Urban           2448\n",
      "Rural           2043\n",
      "Undetermined      81\n",
      "Name: Geography (via Trulia methodology based on zipcode population density: http://jedkolko.com/wp-content/uploads/2015/05/full-ZCTA-urban-suburban-rural-classification.xlsx ), dtype: int64\n",
      "-------------------------------------\n",
      "ENCOUNTER TYPE (DRAFT)\n",
      "Part 1 Violent Crime                                1283\n",
      "Other Non-Violent Offense                            928\n",
      "Traffic Stop                                         497\n",
      "Mental Health/Welfare Check                          494\n",
      "Domestic Disturbance                                 383\n",
      "                                                    ... \n",
      "Person with a Weapon (bat)                             1\n",
      "Person with weapon (gun)                               1\n",
      "Person with weapon (bat)                               1\n",
      "Domestic Disturbance                                   1\n",
      "Domestic Disturbance/Mental Health/Welfare Check       1\n",
      "Name: Encounter Type (DRAFT), Length: 66, dtype: int64\n",
      "-------------------------------------\n",
      "INITIAL REPORTED REASON FOR ENCOUNTER (DRAFT)\n",
      "Traffic violation                                                      237\n",
      "Shooting                                                               184\n",
      "domestic disturbance                                                   152\n",
      "Domestic Disturbance-no specific details                               131\n",
      "domestic incident                                                       93\n",
      "                                                                      ... \n",
      "Robbery (armed)                                                          1\n",
      "burglary, assault                                                        1\n",
      "warrant (attempted murder, assault, felon in possession of firearm)      1\n",
      "Drug Deal                                                                1\n",
      "violating protection order, domestic violence                            1\n",
      "Name: Initial Reported Reason for Encounter (DRAFT), Length: 1475, dtype: int64\n",
      "-------------------------------------\n",
      "RACE OF OFFICERS INVOLVED (DRAFT)\n",
      "White                                                                                                                      148\n",
      "White, White                                                                                                                47\n",
      "Hispanic                                                                                                                    24\n",
      "White, White, White                                                                                                         13\n",
      "Black                                                                                                                       13\n",
      "                                                                                                                          ... \n",
      "White, White, White, White, White, White, White                                                                              1\n",
      "White, White, White, White                                                                                                   1\n",
      "w,w,w (based on pictures http://wgxa.tv/news/local/deputies-charged-in-death-of-washington-county-man-appear-in-court )      1\n",
      "Unknown, Unknown, Unknown, Unknown, Unknown, White, White, Unknown                                                           1\n",
      "Unknown, White, White, White                                                                                                 1\n",
      "Name: Race of Officers Involved (DRAFT), Length: 63, dtype: int64\n",
      "-------------------------------------\n",
      "KNOWN PAST SHOOTINGS OF OFFICER(S) (DRAFT)\n",
      "1       50\n",
      "2       11\n",
      "None     5\n",
      "3        5\n",
      "4        2\n",
      "No       1\n",
      "Name: Known Past Shootings of Officer(s) (DRAFT), dtype: int64\n",
      "-------------------------------------\n",
      "CALL FOR SERVICE? (DRAFT)\n",
      "Yes            2257\n",
      "No             1099\n",
      "Unavailable     203\n",
      "No               55\n",
      "yes               2\n",
      "Name: Call for Service? (DRAFT), dtype: int64\n",
      "-------------------------------------\n"
     ]
    }
   ],
   "source": [
    "# specify useless columns and what to exclude for counts\n",
    "useless_columns = df.columns[35:]\n",
    "exclusions = [\"Victim's name\", \n",
    "              \"URL of image of victim\", \n",
    "              \"Date of Incident (month/day/year)\", \n",
    "              \"Street Address of Incident\", \n",
    "              \"City\", \"State\", \"Zipcode\", \"County\", \n",
    "              \"Agency responsible for death\", \"ORI Agency Identifier (if available)\", \n",
    "              \"A brief description of the circumstances surrounding the death\", \n",
    "              \"Link to news article or photo of official document\", \n",
    "              \"Link to news article or photo of official document\", \n",
    "              \"WaPo ID (If included in WaPo database)\", \n",
    "              \"MPV ID\", \n",
    "              \"Fatal Encounters ID\", \n",
    "              \"Names of Officers Involved (DRAFT)\"]\n",
    "\n",
    "# getting value counts for specific columns\n",
    "for column in df.columns:\n",
    "    if column not in exclusions and column not in useless_columns:\n",
    "        print(column.upper())\n",
    "        print(df[column].value_counts())\n",
    "        print(\"-------------------------------------\")"
   ]
  },
  {
   "cell_type": "code",
   "execution_count": 7,
   "metadata": {
    "cell_id": "00010-104a0b47-cf17-46a3-b353-8e0a9637a137",
    "deepnote_cell_type": "code",
    "deepnote_to_be_reexecuted": false,
    "execution_millis": 2512,
    "execution_start": 1621959976198,
    "source_hash": "2ea50dc",
    "tags": []
   },
   "outputs": [
    {
     "name": "stdout",
     "output_type": "stream",
     "text": [
      "------------------------------------------------------\n",
      "------------------------------------------------------\n"
     ]
    },
    {
     "data": {
      "image/png": "[encoded data removed]",
      "text/plain": [
       "<Figure size 432x288 with 1 Axes>"
      ]
     },
     "metadata": {
      "needs_background": "light"
     },
     "output_type": "display_data"
    },
    {
     "name": "stdout",
     "output_type": "stream",
     "text": [
      "------------------------------------------------------\n",
      "------------------------------------------------------\n"
     ]
    },
    {
     "data": {
      "image/png": "[encoded data removed]",
      "text/plain": [
       "<Figure size 432x288 with 1 Axes>"
      ]
     },
     "metadata": {
      "needs_background": "light"
     },
     "output_type": "display_data"
    },
    {
     "name": "stdout",
     "output_type": "stream",
     "text": [
      "------------------------------------------------------\n",
      "------------------------------------------------------\n"
     ]
    },
    {
     "data": {
      "image/png": "[encoded data removed]",
      "text/plain": [
       "<Figure size 432x288 with 1 Axes>"
      ]
     },
     "metadata": {
      "needs_background": "light"
     },
     "output_type": "display_data"
    },
    {
     "name": "stdout",
     "output_type": "stream",
     "text": [
      "------------------------------------------------------\n",
      "------------------------------------------------------\n"
     ]
    },
    {
     "data": {
      "image/png": "[encoded data removed]",
      "text/plain": [
       "<Figure size 432x288 with 1 Axes>"
      ]
     },
     "metadata": {
      "needs_background": "light"
     },
     "output_type": "display_data"
    },
    {
     "name": "stdout",
     "output_type": "stream",
     "text": [
      "------------------------------------------------------\n",
      "------------------------------------------------------\n"
     ]
    },
    {
     "data": {
      "image/png": "[encoded data removed]",
      "text/plain": [
       "<Figure size 432x288 with 1 Axes>"
      ]
     },
     "metadata": {
      "needs_background": "light"
     },
     "output_type": "display_data"
    },
    {
     "name": "stdout",
     "output_type": "stream",
     "text": [
      "------------------------------------------------------\n",
      "------------------------------------------------------\n"
     ]
    },
    {
     "data": {
      "image/png": "[encoded data removed]",
      "text/plain": [
       "<Figure size 432x288 with 1 Axes>"
      ]
     },
     "metadata": {
      "needs_background": "light"
     },
     "output_type": "display_data"
    },
    {
     "name": "stdout",
     "output_type": "stream",
     "text": [
      "------------------------------------------------------\n",
      "------------------------------------------------------\n"
     ]
    },
    {
     "data": {
      "image/png": "[encoded data removed]",
      "text/plain": [
       "<Figure size 432x288 with 1 Axes>"
      ]
     },
     "metadata": {
      "needs_background": "light"
     },
     "output_type": "display_data"
    },
    {
     "name": "stdout",
     "output_type": "stream",
     "text": [
      "------------------------------------------------------\n",
      "------------------------------------------------------\n"
     ]
    },
    {
     "data": {
      "image/png": "[encoded data removed]",
      "text/plain": [
       "<Figure size 432x288 with 1 Axes>"
      ]
     },
     "metadata": {
      "needs_background": "light"
     },
     "output_type": "display_data"
    },
    {
     "name": "stdout",
     "output_type": "stream",
     "text": [
      "------------------------------------------------------\n",
      "------------------------------------------------------\n"
     ]
    },
    {
     "data": {
      "image/png": "[encoded data removed]",
      "text/plain": [
       "<Figure size 432x288 with 1 Axes>"
      ]
     },
     "metadata": {
      "needs_background": "light"
     },
     "output_type": "display_data"
    },
    {
     "name": "stdout",
     "output_type": "stream",
     "text": [
      "------------------------------------------------------\n",
      "------------------------------------------------------\n"
     ]
    },
    {
     "data": {
      "image/png": "[encoded data removed]",
      "text/plain": [
       "<Figure size 432x288 with 1 Axes>"
      ]
     },
     "metadata": {
      "needs_background": "light"
     },
     "output_type": "display_data"
    }
   ],
   "source": [
    "# specify more columns to exclude for univariate distributions\n",
    "more_exclusions = [\"Victim's age\", \n",
    "                   \"Cause of death\", \n",
    "                   \"Official disposition of death (justified or other)\", \n",
    "                   \"Alleged Weapon (Source: WaPo and Review of Cases Not Included in WaPo Database)\", \n",
    "                   \"Encounter Type (DRAFT)\", \n",
    "                   \"Initial Reported Reason for Encounter (DRAFT)\", \n",
    "                   \"Criminal Charges?\",\n",
    "                   \"Race of Officers Involved (DRAFT)\", \n",
    "                   \"Geography (via Trulia methodology based on zipcode population density: http://jedkolko.com/wp-content/uploads/2015/05/full-ZCTA-urban-suburban-rural-classification.xlsx )\"]\n",
    "\n",
    "# univariate distributions\n",
    "for column in df.columns:\n",
    "    if column not in exclusions and column not in useless_columns and column not in more_exclusions:\n",
    "        sns.countplot(x=df[column], data=df, palette = 'ocean_r')\n",
    "        print(\"------------------------------------------------------\")\n",
    "        print(\"------------------------------------------------------\")\n",
    "        plt.xticks(rotation=65)\n",
    "        plt.show()"
   ]
  },
  {
   "cell_type": "markdown",
   "metadata": {
    "cell_id": "00010-1aaa847d-4e04-4419-a1a1-f29e614ce4be",
    "deepnote_cell_type": "markdown",
    "tags": []
   },
   "source": [
    "### Takeaways\n",
    "- There are a couple of unnecessary columns (begin with `Unnamed:`).\n",
    "- Messy column names need to be renamed for better readability.\n",
    "- A lot of columns are not needed due to nulls/unusable and will need to be dropped. \n",
    "- Most values in each column have a wide variety of text variation. These should be lowercased, stripped, and grouped. \n",
    "- Many nulls in dataset that need to be filled in or dropped.\n",
    "- Dummy variables and encoding needs to be done to pretty much all of the dataset in order to model/evaluate. \n",
    "- Possibly a good idea to create age bins.\n",
    "- Possible exploration with time series. Set `Date of Incident` as datetime index?\n"
   ]
  },
  {
   "cell_type": "markdown",
   "metadata": {},
   "source": [
    " [Jump to Table of Contents](#toc)\n",
    "___\n",
    "# <a name=\"prepare-and-split-data\"></a>Prepare and Split Data"
   ]
  },
  {
   "cell_type": "code",
   "execution_count": 8,
   "metadata": {
    "cell_id": "00013-8dcc150f-25da-499e-9918-972ee91d359d",
    "deepnote_cell_type": "code",
    "deepnote_to_be_reexecuted": false,
    "execution_millis": 8279,
    "execution_start": 1621959978751,
    "source_hash": "12dfb9ed",
    "tags": []
   },
   "outputs": [
    {
     "data": {
      "text/html": [
       "<div>\n",
       "<style scoped>\n",
       "    .dataframe tbody tr th:only-of-type {\n",
       "        vertical-align: middle;\n",
       "    }\n",
       "\n",
       "    .dataframe tbody tr th {\n",
       "        vertical-align: top;\n",
       "    }\n",
       "\n",
       "    .dataframe thead th {\n",
       "        text-align: right;\n",
       "    }\n",
       "</style>\n",
       "<table border=\"1\" class=\"dataframe\">\n",
       "  <thead>\n",
       "    <tr style=\"text-align: right;\">\n",
       "      <th></th>\n",
       "      <th>age</th>\n",
       "      <th>gender</th>\n",
       "      <th>race</th>\n",
       "      <th>date</th>\n",
       "      <th>city</th>\n",
       "      <th>state</th>\n",
       "      <th>zipcode</th>\n",
       "      <th>county</th>\n",
       "      <th>agency_responsible</th>\n",
       "      <th>cause_of_death</th>\n",
       "      <th>...</th>\n",
       "      <th>age_bins</th>\n",
       "      <th>unknown</th>\n",
       "      <th>under 12</th>\n",
       "      <th>12-17</th>\n",
       "      <th>18-24</th>\n",
       "      <th>25-34</th>\n",
       "      <th>35-44</th>\n",
       "      <th>45-54</th>\n",
       "      <th>55-64</th>\n",
       "      <th>65+</th>\n",
       "    </tr>\n",
       "  </thead>\n",
       "  <tbody>\n",
       "    <tr>\n",
       "      <th>7</th>\n",
       "      <td>52</td>\n",
       "      <td>male</td>\n",
       "      <td>unknown race</td>\n",
       "      <td>2021-05-07</td>\n",
       "      <td>rutledge</td>\n",
       "      <td>tn</td>\n",
       "      <td>37861.0</td>\n",
       "      <td>grainger</td>\n",
       "      <td>bean station police department, rutledge polic...</td>\n",
       "      <td>gunshot</td>\n",
       "      <td>...</td>\n",
       "      <td>45-54</td>\n",
       "      <td>0</td>\n",
       "      <td>0</td>\n",
       "      <td>0</td>\n",
       "      <td>0</td>\n",
       "      <td>0</td>\n",
       "      <td>0</td>\n",
       "      <td>1</td>\n",
       "      <td>0</td>\n",
       "      <td>0</td>\n",
       "    </tr>\n",
       "    <tr>\n",
       "      <th>8</th>\n",
       "      <td>47</td>\n",
       "      <td>male</td>\n",
       "      <td>white</td>\n",
       "      <td>2021-05-06</td>\n",
       "      <td>san andreas</td>\n",
       "      <td>ca</td>\n",
       "      <td>95249.0</td>\n",
       "      <td>calaveras</td>\n",
       "      <td>calaveras county sheriff's office</td>\n",
       "      <td>gunshot</td>\n",
       "      <td>...</td>\n",
       "      <td>45-54</td>\n",
       "      <td>0</td>\n",
       "      <td>0</td>\n",
       "      <td>0</td>\n",
       "      <td>0</td>\n",
       "      <td>0</td>\n",
       "      <td>0</td>\n",
       "      <td>1</td>\n",
       "      <td>0</td>\n",
       "      <td>0</td>\n",
       "    </tr>\n",
       "    <tr>\n",
       "      <th>9</th>\n",
       "      <td>49</td>\n",
       "      <td>male</td>\n",
       "      <td>white</td>\n",
       "      <td>2021-05-05</td>\n",
       "      <td>las vegas</td>\n",
       "      <td>nv</td>\n",
       "      <td>89104.0</td>\n",
       "      <td>clark</td>\n",
       "      <td>las vegas metropolitan police department</td>\n",
       "      <td>gunshot</td>\n",
       "      <td>...</td>\n",
       "      <td>45-54</td>\n",
       "      <td>0</td>\n",
       "      <td>0</td>\n",
       "      <td>0</td>\n",
       "      <td>0</td>\n",
       "      <td>0</td>\n",
       "      <td>0</td>\n",
       "      <td>1</td>\n",
       "      <td>0</td>\n",
       "      <td>0</td>\n",
       "    </tr>\n",
       "    <tr>\n",
       "      <th>13</th>\n",
       "      <td>30</td>\n",
       "      <td>male</td>\n",
       "      <td>black</td>\n",
       "      <td>2021-05-03</td>\n",
       "      <td>biloxi</td>\n",
       "      <td>ms</td>\n",
       "      <td>39532.0</td>\n",
       "      <td>harrison</td>\n",
       "      <td>biloxi police department</td>\n",
       "      <td>gunshot</td>\n",
       "      <td>...</td>\n",
       "      <td>25-34</td>\n",
       "      <td>0</td>\n",
       "      <td>0</td>\n",
       "      <td>0</td>\n",
       "      <td>0</td>\n",
       "      <td>1</td>\n",
       "      <td>0</td>\n",
       "      <td>0</td>\n",
       "      <td>0</td>\n",
       "      <td>0</td>\n",
       "    </tr>\n",
       "    <tr>\n",
       "      <th>14</th>\n",
       "      <td>45</td>\n",
       "      <td>male</td>\n",
       "      <td>hispanic</td>\n",
       "      <td>2021-05-03</td>\n",
       "      <td>glendale</td>\n",
       "      <td>az</td>\n",
       "      <td>85301.0</td>\n",
       "      <td>maricopa</td>\n",
       "      <td>glendale police department</td>\n",
       "      <td>gunshot</td>\n",
       "      <td>...</td>\n",
       "      <td>45-54</td>\n",
       "      <td>0</td>\n",
       "      <td>0</td>\n",
       "      <td>0</td>\n",
       "      <td>0</td>\n",
       "      <td>0</td>\n",
       "      <td>0</td>\n",
       "      <td>1</td>\n",
       "      <td>0</td>\n",
       "      <td>0</td>\n",
       "    </tr>\n",
       "  </tbody>\n",
       "</table>\n",
       "<p>5 rows × 60 columns</p>\n",
       "</div>"
      ],
      "text/plain": [
       "    age gender          race       date         city state  zipcode  \\\n",
       "7    52   male  unknown race 2021-05-07     rutledge    tn  37861.0   \n",
       "8    47   male         white 2021-05-06  san andreas    ca  95249.0   \n",
       "9    49   male         white 2021-05-05    las vegas    nv  89104.0   \n",
       "13   30   male         black 2021-05-03       biloxi    ms  39532.0   \n",
       "14   45   male      hispanic 2021-05-03     glendale    az  85301.0   \n",
       "\n",
       "       county                                 agency_responsible  \\\n",
       "7    grainger  bean station police department, rutledge polic...   \n",
       "8   calaveras                  calaveras county sheriff's office   \n",
       "9       clark           las vegas metropolitan police department   \n",
       "13   harrison                           biloxi police department   \n",
       "14   maricopa                         glendale police department   \n",
       "\n",
       "   cause_of_death  ... age_bins unknown under 12 12-17 18-24 25-34  35-44  \\\n",
       "7         gunshot  ...    45-54       0        0     0     0     0      0   \n",
       "8         gunshot  ...    45-54       0        0     0     0     0      0   \n",
       "9         gunshot  ...    45-54       0        0     0     0     0      0   \n",
       "13        gunshot  ...    25-34       0        0     0     0     1      0   \n",
       "14        gunshot  ...    45-54       0        0     0     0     0      0   \n",
       "\n",
       "   45-54  55-64 65+  \n",
       "7      1      0   0  \n",
       "8      1      0   0  \n",
       "9      1      0   0  \n",
       "13     0      0   0  \n",
       "14     1      0   0  \n",
       "\n",
       "[5 rows x 60 columns]"
      ]
     },
     "execution_count": 8,
     "metadata": {},
     "output_type": "execute_result"
    }
   ],
   "source": [
    "#grab cleaned data frame from wrangle.py\n",
    "df = w.wrangle_data(cached=False)\n",
    "df.head()"
   ]
  },
  {
   "cell_type": "code",
   "execution_count": 9,
   "metadata": {},
   "outputs": [
    {
     "data": {
      "text/plain": [
       "(6265, 60)"
      ]
     },
     "execution_count": 9,
     "metadata": {},
     "output_type": "execute_result"
    }
   ],
   "source": [
    "df.shape"
   ]
  },
  {
   "cell_type": "code",
   "execution_count": 10,
   "metadata": {
    "cell_id": "00015-bc90463d-ff14-4aec-9482-c79cf14c75e9",
    "deepnote_cell_type": "code",
    "deepnote_to_be_reexecuted": false,
    "execution_millis": 31,
    "execution_start": 1621959986999,
    "source_hash": "7dff3e6b",
    "tags": []
   },
   "outputs": [
    {
     "data": {
      "text/plain": [
       "age                                            0\n",
       "gender                                         0\n",
       "race                                           0\n",
       "date                                           0\n",
       "city                                           0\n",
       "state                                          0\n",
       "zipcode                                        0\n",
       "county                                         0\n",
       "agency_responsible                             0\n",
       "cause_of_death                                 0\n",
       "description_of_circumstances                   0\n",
       "official_disposition                           0\n",
       "criminal_charges_filed                         0\n",
       "mental_illness                                 0\n",
       "armed_unarmed_status                           0\n",
       "alleged_weapon                                 0\n",
       "alleged_threat_lvl                             0\n",
       "fleeing                                        0\n",
       "body_camera                                    0\n",
       "geography                                      0\n",
       "encounter_type_draft                           0\n",
       "initial_reported_reason_for_encounter_draft    0\n",
       "known_past_shootings_of_officer_draft          0\n",
       "is_female                                      0\n",
       "is_male                                        0\n",
       "is_transgender                                 0\n",
       "was_fleeing                                    0\n",
       "was_not fleeing                                0\n",
       "was_allegedly_armed                            0\n",
       "was_unarmed                                    0\n",
       "was_vehicle                                    0\n",
       "was_domestic_disturbance                       0\n",
       "was_mental_health_welfare_check                0\n",
       "was_person_with_a_weapon                       0\n",
       "was_traffic_stop                               0\n",
       "was_violent_crime_part_1                       0\n",
       "is_asian/pacific islander                      0\n",
       "is_black                                       0\n",
       "is_hispanic                                    0\n",
       "is_native american                             0\n",
       "is_unknown race                                0\n",
       "is_white                                       0\n",
       "mntlill_drug or alcohol use                    0\n",
       "mntlill_no                                     0\n",
       "mntlill_unknown                                0\n",
       "mntlill_yes                                    0\n",
       "rural                                          0\n",
       "suburban                                       0\n",
       "urban                                          0\n",
       "cod_lethal                                     0\n",
       "age_bins                                       0\n",
       "unknown                                        0\n",
       "under 12                                       0\n",
       "12-17                                          0\n",
       "18-24                                          0\n",
       "25-34                                          0\n",
       "35-44                                          0\n",
       "45-54                                          0\n",
       "55-64                                          0\n",
       "65+                                            0\n",
       "dtype: int64"
      ]
     },
     "execution_count": 10,
     "metadata": {},
     "output_type": "execute_result"
    }
   ],
   "source": [
    "#double check no nulls\n",
    "df.isnull().sum()"
   ]
  },
  {
   "cell_type": "code",
   "execution_count": 11,
   "metadata": {
    "cell_id": "00015-bf3f6b2d-d588-4748-b04d-c37b95215c2c",
    "deepnote_cell_type": "code",
    "deepnote_to_be_reexecuted": false,
    "execution_millis": 21,
    "execution_start": 1621959987015,
    "source_hash": "3edc948f",
    "tags": []
   },
   "outputs": [
    {
     "data": {
      "text/plain": [
       "age                                                     int64\n",
       "gender                                                 object\n",
       "race                                                   object\n",
       "date                                           datetime64[ns]\n",
       "city                                                   object\n",
       "state                                                  object\n",
       "zipcode                                               float64\n",
       "county                                                 object\n",
       "agency_responsible                                     object\n",
       "cause_of_death                                         object\n",
       "description_of_circumstances                           object\n",
       "official_disposition                                   object\n",
       "criminal_charges_filed                                 object\n",
       "mental_illness                                         object\n",
       "armed_unarmed_status                                   object\n",
       "alleged_weapon                                         object\n",
       "alleged_threat_lvl                                    float64\n",
       "fleeing                                                object\n",
       "body_camera                                           float64\n",
       "geography                                              object\n",
       "encounter_type_draft                                   object\n",
       "initial_reported_reason_for_encounter_draft            object\n",
       "known_past_shootings_of_officer_draft                  object\n",
       "is_female                                               uint8\n",
       "is_male                                                 uint8\n",
       "is_transgender                                          uint8\n",
       "was_fleeing                                           float64\n",
       "was_not fleeing                                       float64\n",
       "was_allegedly_armed                                   float64\n",
       "was_unarmed                                           float64\n",
       "was_vehicle                                           float64\n",
       "was_domestic_disturbance                                uint8\n",
       "was_mental_health_welfare_check                         uint8\n",
       "was_person_with_a_weapon                                uint8\n",
       "was_traffic_stop                                        uint8\n",
       "was_violent_crime_part_1                                uint8\n",
       "is_asian/pacific islander                               uint8\n",
       "is_black                                                uint8\n",
       "is_hispanic                                             uint8\n",
       "is_native american                                      uint8\n",
       "is_unknown race                                         uint8\n",
       "is_white                                                uint8\n",
       "mntlill_drug or alcohol use                             uint8\n",
       "mntlill_no                                              uint8\n",
       "mntlill_unknown                                         uint8\n",
       "mntlill_yes                                             uint8\n",
       "rural                                                 float64\n",
       "suburban                                              float64\n",
       "urban                                                 float64\n",
       "cod_lethal                                              int64\n",
       "age_bins                                             category\n",
       "unknown                                                 uint8\n",
       "under 12                                                uint8\n",
       "12-17                                                   uint8\n",
       "18-24                                                   uint8\n",
       "25-34                                                   uint8\n",
       "35-44                                                   uint8\n",
       "45-54                                                   uint8\n",
       "55-64                                                   uint8\n",
       "65+                                                     uint8\n",
       "dtype: object"
      ]
     },
     "execution_count": 11,
     "metadata": {},
     "output_type": "execute_result"
    }
   ],
   "source": [
    "#double check data types\n",
    "df.dtypes"
   ]
  },
  {
   "cell_type": "code",
   "execution_count": 12,
   "metadata": {
    "cell_id": "00016-d560f2a7-381b-4f2e-a371-fd1896cc9d7d",
    "deepnote_cell_type": "code",
    "deepnote_to_be_reexecuted": false,
    "execution_millis": 280,
    "execution_start": 1621959987024,
    "source_hash": "be21ca7a",
    "tags": []
   },
   "outputs": [
    {
     "name": "stdout",
     "output_type": "stream",
     "text": [
      "overall shape of dataframe: (6265, 60)\n",
      "train: (3508, 60)\n",
      "validate: (1504, 60)\n",
      "test: (1253, 60)\n"
     ]
    },
    {
     "data": {
      "text/html": [
       "<div>\n",
       "<style scoped>\n",
       "    .dataframe tbody tr th:only-of-type {\n",
       "        vertical-align: middle;\n",
       "    }\n",
       "\n",
       "    .dataframe tbody tr th {\n",
       "        vertical-align: top;\n",
       "    }\n",
       "\n",
       "    .dataframe thead th {\n",
       "        text-align: right;\n",
       "    }\n",
       "</style>\n",
       "<table border=\"1\" class=\"dataframe\">\n",
       "  <thead>\n",
       "    <tr style=\"text-align: right;\">\n",
       "      <th></th>\n",
       "      <th>age</th>\n",
       "      <th>gender</th>\n",
       "      <th>race</th>\n",
       "      <th>date</th>\n",
       "      <th>city</th>\n",
       "      <th>state</th>\n",
       "      <th>zipcode</th>\n",
       "      <th>county</th>\n",
       "      <th>agency_responsible</th>\n",
       "      <th>cause_of_death</th>\n",
       "      <th>...</th>\n",
       "      <th>age_bins</th>\n",
       "      <th>unknown</th>\n",
       "      <th>under 12</th>\n",
       "      <th>12-17</th>\n",
       "      <th>18-24</th>\n",
       "      <th>25-34</th>\n",
       "      <th>35-44</th>\n",
       "      <th>45-54</th>\n",
       "      <th>55-64</th>\n",
       "      <th>65+</th>\n",
       "    </tr>\n",
       "  </thead>\n",
       "  <tbody>\n",
       "    <tr>\n",
       "      <th>1953</th>\n",
       "      <td>27</td>\n",
       "      <td>male</td>\n",
       "      <td>black</td>\n",
       "      <td>2019-08-08</td>\n",
       "      <td>moss point</td>\n",
       "      <td>ms</td>\n",
       "      <td>39563.0</td>\n",
       "      <td>jackson</td>\n",
       "      <td>moss point police department</td>\n",
       "      <td>gunshot</td>\n",
       "      <td>...</td>\n",
       "      <td>25-34</td>\n",
       "      <td>0</td>\n",
       "      <td>0</td>\n",
       "      <td>0</td>\n",
       "      <td>0</td>\n",
       "      <td>1</td>\n",
       "      <td>0</td>\n",
       "      <td>0</td>\n",
       "      <td>0</td>\n",
       "      <td>0</td>\n",
       "    </tr>\n",
       "    <tr>\n",
       "      <th>3237</th>\n",
       "      <td>20</td>\n",
       "      <td>male</td>\n",
       "      <td>white</td>\n",
       "      <td>2018-06-04</td>\n",
       "      <td>ogden</td>\n",
       "      <td>nc</td>\n",
       "      <td>28411.0</td>\n",
       "      <td>new hanover</td>\n",
       "      <td>new hanover county sheriff's office</td>\n",
       "      <td>gunshot</td>\n",
       "      <td>...</td>\n",
       "      <td>18-24</td>\n",
       "      <td>0</td>\n",
       "      <td>0</td>\n",
       "      <td>0</td>\n",
       "      <td>1</td>\n",
       "      <td>0</td>\n",
       "      <td>0</td>\n",
       "      <td>0</td>\n",
       "      <td>0</td>\n",
       "      <td>0</td>\n",
       "    </tr>\n",
       "    <tr>\n",
       "      <th>529</th>\n",
       "      <td>39</td>\n",
       "      <td>male</td>\n",
       "      <td>unknown race</td>\n",
       "      <td>2020-11-12</td>\n",
       "      <td>philadelphia</td>\n",
       "      <td>pa</td>\n",
       "      <td>19111.0</td>\n",
       "      <td>philadelphia</td>\n",
       "      <td>philadelphia police department</td>\n",
       "      <td>gunshot</td>\n",
       "      <td>...</td>\n",
       "      <td>35-44</td>\n",
       "      <td>0</td>\n",
       "      <td>0</td>\n",
       "      <td>0</td>\n",
       "      <td>0</td>\n",
       "      <td>0</td>\n",
       "      <td>1</td>\n",
       "      <td>0</td>\n",
       "      <td>0</td>\n",
       "      <td>0</td>\n",
       "    </tr>\n",
       "    <tr>\n",
       "      <th>2333</th>\n",
       "      <td>30</td>\n",
       "      <td>male</td>\n",
       "      <td>black</td>\n",
       "      <td>2019-03-30</td>\n",
       "      <td>durham</td>\n",
       "      <td>nc</td>\n",
       "      <td>27704.0</td>\n",
       "      <td>durham</td>\n",
       "      <td>durham police department</td>\n",
       "      <td>gunshot</td>\n",
       "      <td>...</td>\n",
       "      <td>25-34</td>\n",
       "      <td>0</td>\n",
       "      <td>0</td>\n",
       "      <td>0</td>\n",
       "      <td>0</td>\n",
       "      <td>1</td>\n",
       "      <td>0</td>\n",
       "      <td>0</td>\n",
       "      <td>0</td>\n",
       "      <td>0</td>\n",
       "    </tr>\n",
       "    <tr>\n",
       "      <th>1490</th>\n",
       "      <td>23</td>\n",
       "      <td>male</td>\n",
       "      <td>unknown race</td>\n",
       "      <td>2020-01-06</td>\n",
       "      <td>aurora</td>\n",
       "      <td>co</td>\n",
       "      <td>80014.0</td>\n",
       "      <td>arapahoe</td>\n",
       "      <td>denver police department</td>\n",
       "      <td>gunshot</td>\n",
       "      <td>...</td>\n",
       "      <td>18-24</td>\n",
       "      <td>0</td>\n",
       "      <td>0</td>\n",
       "      <td>0</td>\n",
       "      <td>1</td>\n",
       "      <td>0</td>\n",
       "      <td>0</td>\n",
       "      <td>0</td>\n",
       "      <td>0</td>\n",
       "      <td>0</td>\n",
       "    </tr>\n",
       "  </tbody>\n",
       "</table>\n",
       "<p>5 rows × 60 columns</p>\n",
       "</div>"
      ],
      "text/plain": [
       "      age gender          race       date          city state  zipcode  \\\n",
       "1953   27   male         black 2019-08-08    moss point    ms  39563.0   \n",
       "3237   20   male         white 2018-06-04         ogden    nc  28411.0   \n",
       "529    39   male  unknown race 2020-11-12  philadelphia    pa  19111.0   \n",
       "2333   30   male         black 2019-03-30        durham    nc  27704.0   \n",
       "1490   23   male  unknown race 2020-01-06        aurora    co  80014.0   \n",
       "\n",
       "            county                   agency_responsible cause_of_death  ...  \\\n",
       "1953       jackson         moss point police department        gunshot  ...   \n",
       "3237   new hanover  new hanover county sheriff's office        gunshot  ...   \n",
       "529   philadelphia       philadelphia police department        gunshot  ...   \n",
       "2333        durham             durham police department        gunshot  ...   \n",
       "1490      arapahoe             denver police department        gunshot  ...   \n",
       "\n",
       "     age_bins unknown under 12 12-17 18-24 25-34  35-44 45-54  55-64 65+  \n",
       "1953    25-34       0        0     0     0     1      0     0      0   0  \n",
       "3237    18-24       0        0     0     1     0      0     0      0   0  \n",
       "529     35-44       0        0     0     0     0      1     0      0   0  \n",
       "2333    25-34       0        0     0     0     1      0     0      0   0  \n",
       "1490    18-24       0        0     0     1     0      0     0      0   0  \n",
       "\n",
       "[5 rows x 60 columns]"
      ]
     },
     "execution_count": 12,
     "metadata": {},
     "output_type": "execute_result"
    }
   ],
   "source": [
    "#split the data using the split function in explore.py\n",
    "train, validate, test = split(df, stratify_by=\"alleged_threat_lvl\")\n",
    "\n",
    "#check split datasets\n",
    "print('overall shape of dataframe:', df.shape)\n",
    "print('train:', train.shape)\n",
    "print('validate:', validate.shape)\n",
    "print('test:', test.shape)\n",
    "\n",
    "#work w/ training data\n",
    "train.head()"
   ]
  },
  {
   "cell_type": "markdown",
   "metadata": {
    "cell_id": "00016-a10c82be-eff2-4cd7-a449-731ccd63001b",
    "deepnote_cell_type": "markdown",
    "tags": []
   },
   "source": [
    "### Takeaways\n",
    "- About 1/3 of our data has been dropped due to missing information/nulls. \n",
    "- Data is prepped/split and ready to be explored, modeled, and evaluated."
   ]
  },
  {
   "cell_type": "markdown",
   "metadata": {},
   "source": [
    " [Jump to Table of Contents](#toc)\n",
    "___\n",
    "# <a name=\"explore-data\"></a>Explore Data\n",
    "Address questions posed in planning\n",
    "\n",
    "\n",
    "## <a name=\"visualizations\"></a>• Visualizations"
   ]
  },
  {
   "cell_type": "code",
   "execution_count": 13,
   "metadata": {},
   "outputs": [
    {
     "data": {
      "image/png": "[encoded data removed]",
      "text/plain": [
       "<Figure size 576x432 with 1 Axes>"
      ]
     },
     "metadata": {
      "needs_background": "light"
     },
     "output_type": "display_data"
    },
    {
     "data": {
      "text/html": [
       "<div>\n",
       "<style scoped>\n",
       "    .dataframe tbody tr th:only-of-type {\n",
       "        vertical-align: middle;\n",
       "    }\n",
       "\n",
       "    .dataframe tbody tr th {\n",
       "        vertical-align: top;\n",
       "    }\n",
       "\n",
       "    .dataframe thead th {\n",
       "        text-align: right;\n",
       "    }\n",
       "</style>\n",
       "<table border=\"1\" class=\"dataframe\">\n",
       "  <thead>\n",
       "    <tr style=\"text-align: right;\">\n",
       "      <th>alleged_threat_lvl</th>\n",
       "      <th>0.0</th>\n",
       "      <th>1.0</th>\n",
       "    </tr>\n",
       "    <tr>\n",
       "      <th>gender</th>\n",
       "      <th></th>\n",
       "      <th></th>\n",
       "    </tr>\n",
       "  </thead>\n",
       "  <tbody>\n",
       "    <tr>\n",
       "      <th>female</th>\n",
       "      <td>0.414013</td>\n",
       "      <td>0.585987</td>\n",
       "    </tr>\n",
       "    <tr>\n",
       "      <th>male</th>\n",
       "      <td>0.318195</td>\n",
       "      <td>0.681805</td>\n",
       "    </tr>\n",
       "    <tr>\n",
       "      <th>transgender</th>\n",
       "      <td>0.500000</td>\n",
       "      <td>0.500000</td>\n",
       "    </tr>\n",
       "  </tbody>\n",
       "</table>\n",
       "</div>"
      ],
      "text/plain": [
       "alleged_threat_lvl       0.0       1.0\n",
       "gender                                \n",
       "female              0.414013  0.585987\n",
       "male                0.318195  0.681805\n",
       "transgender         0.500000  0.500000"
      ]
     },
     "execution_count": 13,
     "metadata": {},
     "output_type": "execute_result"
    }
   ],
   "source": [
    "#visualize gender vs alleged threat level\n",
    "ax = pd.crosstab(train.gender, train.alleged_threat_lvl, normalize ='index').plot.barh(figsize=(8, 6), cmap=plt.cm.get_cmap('Blues'), ec=\"black\")\n",
    "\n",
    "#customize legend\n",
    "legend_labels, _= ax.get_legend_handles_labels()\n",
    "ax.legend(legend_labels, ['Non-Attack', 'Attack'], \n",
    "          bbox_to_anchor=(1,1), \n",
    "          title='Threat Level')\n",
    "\n",
    "#customize chart\n",
    "plt.title(\"Does Gender Make a Difference in Alleged Threat Level?\", fontsize = 15)\n",
    "plt.ylabel(\"Gender\", fontsize = 12)\n",
    "plt.xlabel('Percentage', fontsize = 12)\n",
    "ax.tick_params(labelsize=10)\n",
    "plt.xlim([0.0, 1.0])\n",
    "plt.show()\n",
    "\n",
    "#get percentages df\n",
    "percentages = pd.crosstab(train.gender, train.alleged_threat_lvl, normalize = 'index')\n",
    "percentages"
   ]
  },
  {
   "cell_type": "markdown",
   "metadata": {},
   "source": [
    "### Takeaways\n",
    "- Highest percentage of non-attacks is transgender. Second highest is female.\n",
    "- Highest percentage of attacks are male. Second highest is female.\n",
    "- Transgender is equally likely to have an attack or non-attack threat level.\n",
    "- Males appear to have the least amount of a non-attack threat level."
   ]
  },
  {
   "cell_type": "code",
   "execution_count": 14,
   "metadata": {},
   "outputs": [
    {
     "data": {
      "image/png": "[encoded data removed]",
      "text/plain": [
       "<Figure size 576x432 with 1 Axes>"
      ]
     },
     "metadata": {
      "needs_background": "light"
     },
     "output_type": "display_data"
    },
    {
     "data": {
      "text/html": [
       "<div>\n",
       "<style scoped>\n",
       "    .dataframe tbody tr th:only-of-type {\n",
       "        vertical-align: middle;\n",
       "    }\n",
       "\n",
       "    .dataframe tbody tr th {\n",
       "        vertical-align: top;\n",
       "    }\n",
       "\n",
       "    .dataframe thead th {\n",
       "        text-align: right;\n",
       "    }\n",
       "</style>\n",
       "<table border=\"1\" class=\"dataframe\">\n",
       "  <thead>\n",
       "    <tr style=\"text-align: right;\">\n",
       "      <th>mental_illness</th>\n",
       "      <th>drug or alcohol use</th>\n",
       "      <th>no</th>\n",
       "      <th>unknown</th>\n",
       "      <th>yes</th>\n",
       "    </tr>\n",
       "    <tr>\n",
       "      <th>gender</th>\n",
       "      <th></th>\n",
       "      <th></th>\n",
       "      <th></th>\n",
       "      <th></th>\n",
       "    </tr>\n",
       "  </thead>\n",
       "  <tbody>\n",
       "    <tr>\n",
       "      <th>female</th>\n",
       "      <td>0.012739</td>\n",
       "      <td>0.592357</td>\n",
       "      <td>0.121019</td>\n",
       "      <td>0.273885</td>\n",
       "    </tr>\n",
       "    <tr>\n",
       "      <th>male</th>\n",
       "      <td>0.029878</td>\n",
       "      <td>0.666866</td>\n",
       "      <td>0.104272</td>\n",
       "      <td>0.198984</td>\n",
       "    </tr>\n",
       "    <tr>\n",
       "      <th>transgender</th>\n",
       "      <td>0.000000</td>\n",
       "      <td>0.500000</td>\n",
       "      <td>0.000000</td>\n",
       "      <td>0.500000</td>\n",
       "    </tr>\n",
       "  </tbody>\n",
       "</table>\n",
       "</div>"
      ],
      "text/plain": [
       "mental_illness  drug or alcohol use        no   unknown       yes\n",
       "gender                                                           \n",
       "female                     0.012739  0.592357  0.121019  0.273885\n",
       "male                       0.029878  0.666866  0.104272  0.198984\n",
       "transgender                0.000000  0.500000  0.000000  0.500000"
      ]
     },
     "execution_count": 14,
     "metadata": {},
     "output_type": "execute_result"
    }
   ],
   "source": [
    "#visualize mental illness per gender\n",
    "ax = pd.crosstab(train.gender, train.mental_illness, normalize ='index').plot.barh(figsize=(8, 6), cmap=plt.cm.get_cmap('Blues'), ec=\"black\")\n",
    "\n",
    "#customize legend\n",
    "legend_labels, _= ax.get_legend_handles_labels()\n",
    "ax.legend(legend_labels, ['Drug / Alcohol Use', 'No', 'Unknown', 'Yes'], \n",
    "          bbox_to_anchor=(1,1), \n",
    "          title='Mental Illness')\n",
    "\n",
    "#customize chart\n",
    "plt.title(\"How Does Mental Illness Affect Each Gender?\", fontsize = 15)\n",
    "plt.ylabel(\"Gender\", fontsize = 12)\n",
    "plt.xlabel('Percentage', fontsize = 12)\n",
    "ax.tick_params(labelsize=10)\n",
    "plt.xlim([0.0, 1.0])\n",
    "plt.show()\n",
    "\n",
    "#get percentages df\n",
    "percentages = pd.crosstab(train.gender, train.mental_illness, normalize = 'index')\n",
    "percentages"
   ]
  },
  {
   "cell_type": "markdown",
   "metadata": {},
   "source": [
    "### Takeaways\n",
    "- Males are most often categorized as not having a mental illness, however, they have a high threat level (according to previous visual). \n",
    "- Transgender appear to have an equal percentage in having/not having a mental illness. \n",
    "- Both male and female genders have higher percentages of no mental illness. Could this be related to limited mental health awareness/support across the country?\n",
    "- Males have a higher percentage of drug / alchohol use instances.\n",
    "- Unknown mental status is almost equal across male and female genders."
   ]
  },
  {
   "cell_type": "code",
   "execution_count": 49,
   "metadata": {
    "cell_id": "00019-63c23427-c2b0-4483-b892-045334bb5175",
    "deepnote_cell_type": "code",
    "deepnote_to_be_reexecuted": false,
    "execution_millis": 265,
    "execution_start": 1621959987294,
    "source_hash": "85652c06",
    "tags": []
   },
   "outputs": [
    {
     "data": {
      "image/png": "[encoded data removed]",
      "text/plain": [
       "<Figure size 576x432 with 1 Axes>"
      ]
     },
     "metadata": {
      "needs_background": "light"
     },
     "output_type": "display_data"
    },
    {
     "data": {
      "text/html": [
       "<div>\n",
       "<style scoped>\n",
       "    .dataframe tbody tr th:only-of-type {\n",
       "        vertical-align: middle;\n",
       "    }\n",
       "\n",
       "    .dataframe tbody tr th {\n",
       "        vertical-align: top;\n",
       "    }\n",
       "\n",
       "    .dataframe thead th {\n",
       "        text-align: right;\n",
       "    }\n",
       "</style>\n",
       "<table border=\"1\" class=\"dataframe\">\n",
       "  <thead>\n",
       "    <tr style=\"text-align: right;\">\n",
       "      <th>alleged_threat_lvl</th>\n",
       "      <th>0.0</th>\n",
       "      <th>1.0</th>\n",
       "    </tr>\n",
       "    <tr>\n",
       "      <th>mental_illness</th>\n",
       "      <th></th>\n",
       "      <th></th>\n",
       "    </tr>\n",
       "  </thead>\n",
       "  <tbody>\n",
       "    <tr>\n",
       "      <th>drug or alcohol use</th>\n",
       "      <td>0.362745</td>\n",
       "      <td>0.637255</td>\n",
       "    </tr>\n",
       "    <tr>\n",
       "      <th>no</th>\n",
       "      <td>0.305544</td>\n",
       "      <td>0.694456</td>\n",
       "    </tr>\n",
       "    <tr>\n",
       "      <th>unknown</th>\n",
       "      <td>0.345109</td>\n",
       "      <td>0.654891</td>\n",
       "    </tr>\n",
       "    <tr>\n",
       "      <th>yes</th>\n",
       "      <td>0.361463</td>\n",
       "      <td>0.638537</td>\n",
       "    </tr>\n",
       "  </tbody>\n",
       "</table>\n",
       "</div>"
      ],
      "text/plain": [
       "alleged_threat_lvl        0.0       1.0\n",
       "mental_illness                         \n",
       "drug or alcohol use  0.362745  0.637255\n",
       "no                   0.305544  0.694456\n",
       "unknown              0.345109  0.654891\n",
       "yes                  0.361463  0.638537"
      ]
     },
     "execution_count": 49,
     "metadata": {},
     "output_type": "execute_result"
    }
   ],
   "source": [
    "#visualize mental illness vs threat level\n",
    "ax = pd.crosstab(train.mental_illness, train.alleged_threat_lvl, normalize ='index').plot.bar(figsize=(8, 6), cmap=plt.cm.get_cmap('Blues'), ec=\"black\")\n",
    "\n",
    "#customize legend\n",
    "legend_labels, _= ax.get_legend_handles_labels()\n",
    "ax.legend(legend_labels, ['Non-Attack', 'Attack'], \n",
    "          bbox_to_anchor=(1,1), \n",
    "          title='Threat Level')\n",
    "\n",
    "#customize chart\n",
    "plt.title(\"Does Mental Illness Play a Role in Threat Level?\", fontsize = 15)\n",
    "plt.ylabel(\"Percentage\", fontsize = 12)\n",
    "plt.xlabel('Mental Illness', fontsize = 12)\n",
    "ax.tick_params(labelsize=10)\n",
    "plt.ylim([0.0, 1.0])\n",
    "plt.xticks(rotation=0)\n",
    "plt.show()\n",
    "\n",
    "#get percentages df\n",
    "percentages = pd.crosstab(train.mental_illness, train.alleged_threat_lvl, normalize = 'index')\n",
    "percentages"
   ]
  },
  {
   "cell_type": "markdown",
   "metadata": {
    "cell_id": "00019-e7ba0e95-40d2-46b8-bb0f-74e81dcd0ca5",
    "deepnote_cell_type": "markdown",
    "tags": []
   },
   "source": [
    "### Takeaways\n",
    "- All instances of the categories have been more likely to have an attack threat level, than a non-attack.\n",
    "- Highest percentage of non-attacks are people under the influence of drugs/alcohol.\n",
    "- There is not much variation in the attack threat level and non-attack threat level among the categories. "
   ]
  },
  {
   "cell_type": "code",
   "execution_count": 17,
   "metadata": {
    "cell_id": "00022-14925d95-adc4-4257-9a58-ed0381077b6b",
    "deepnote_cell_type": "code",
    "deepnote_to_be_reexecuted": false,
    "execution_millis": 618,
    "execution_start": 1621959987611,
    "source_hash": "a188c10b",
    "tags": []
   },
   "outputs": [
    {
     "data": {
      "image/png": "[encoded data removed]",
      "text/plain": [
       "<Figure size 576x432 with 1 Axes>"
      ]
     },
     "metadata": {
      "needs_background": "light"
     },
     "output_type": "display_data"
    },
    {
     "data": {
      "text/html": [
       "<div>\n",
       "<style scoped>\n",
       "    .dataframe tbody tr th:only-of-type {\n",
       "        vertical-align: middle;\n",
       "    }\n",
       "\n",
       "    .dataframe tbody tr th {\n",
       "        vertical-align: top;\n",
       "    }\n",
       "\n",
       "    .dataframe thead th {\n",
       "        text-align: right;\n",
       "    }\n",
       "</style>\n",
       "<table border=\"1\" class=\"dataframe\">\n",
       "  <thead>\n",
       "    <tr style=\"text-align: right;\">\n",
       "      <th>alleged_threat_lvl</th>\n",
       "      <th>0.0</th>\n",
       "      <th>1.0</th>\n",
       "    </tr>\n",
       "    <tr>\n",
       "      <th>race</th>\n",
       "      <th></th>\n",
       "      <th></th>\n",
       "    </tr>\n",
       "  </thead>\n",
       "  <tbody>\n",
       "    <tr>\n",
       "      <th>asian/pacific islander</th>\n",
       "      <td>0.351351</td>\n",
       "      <td>0.648649</td>\n",
       "    </tr>\n",
       "    <tr>\n",
       "      <th>black</th>\n",
       "      <td>0.314879</td>\n",
       "      <td>0.685121</td>\n",
       "    </tr>\n",
       "    <tr>\n",
       "      <th>hispanic</th>\n",
       "      <td>0.389490</td>\n",
       "      <td>0.610510</td>\n",
       "    </tr>\n",
       "    <tr>\n",
       "      <th>native american</th>\n",
       "      <td>0.420000</td>\n",
       "      <td>0.580000</td>\n",
       "    </tr>\n",
       "    <tr>\n",
       "      <th>unknown race</th>\n",
       "      <td>0.316667</td>\n",
       "      <td>0.683333</td>\n",
       "    </tr>\n",
       "    <tr>\n",
       "      <th>white</th>\n",
       "      <td>0.296178</td>\n",
       "      <td>0.703822</td>\n",
       "    </tr>\n",
       "  </tbody>\n",
       "</table>\n",
       "</div>"
      ],
      "text/plain": [
       "alleged_threat_lvl           0.0       1.0\n",
       "race                                      \n",
       "asian/pacific islander  0.351351  0.648649\n",
       "black                   0.314879  0.685121\n",
       "hispanic                0.389490  0.610510\n",
       "native american         0.420000  0.580000\n",
       "unknown race            0.316667  0.683333\n",
       "white                   0.296178  0.703822"
      ]
     },
     "execution_count": 17,
     "metadata": {},
     "output_type": "execute_result"
    }
   ],
   "source": [
    "#visualize race vs alleged threat level\n",
    "ax = pd.crosstab(train.race, train.alleged_threat_lvl, normalize ='index').plot.barh(figsize=(8, 6), cmap=plt.cm.get_cmap('Blues'), ec=\"black\")\n",
    "\n",
    "#customize legend\n",
    "legend_labels, _= ax.get_legend_handles_labels()\n",
    "ax.legend(legend_labels, ['Non-Attack', 'Attack'], \n",
    "          bbox_to_anchor=(1,1), \n",
    "          title='Threat Level')\n",
    "\n",
    "#customize chart\n",
    "plt.title(\"Is Race a Factor in Threat Level?\", fontsize = 15)\n",
    "plt.ylabel(\"Race\", fontsize = 12)\n",
    "plt.xlabel('Percentage', fontsize = 12)\n",
    "ax.tick_params(labelsize=10)\n",
    "plt.xlim([0.0, 1.0])\n",
    "plt.show()\n",
    "\n",
    "#get percentages df\n",
    "percentages = pd.crosstab(train.race, train.alleged_threat_lvl, normalize = 'index')\n",
    "percentages"
   ]
  },
  {
   "cell_type": "markdown",
   "metadata": {
    "cell_id": "00023-d2c0cdef-32b1-414d-ab14-494d152fbcde",
    "deepnote_cell_type": "markdown",
    "tags": []
   },
   "source": [
    "### Takeaways\n",
    "- The highest occurrence of non-attacks are seen in Native Americans. Second highest is Hispanics.\n",
    "- The highest occurrence of attacks are seen in White races. Second highest appears to be Black races. \n",
    "- There is a large amount of unknown races considered as having an attack threat level."
   ]
  },
  {
   "cell_type": "code",
   "execution_count": 50,
   "metadata": {},
   "outputs": [
    {
     "data": {
      "image/png": "[encoded data removed]",
      "text/plain": [
       "<Figure size 576x432 with 1 Axes>"
      ]
     },
     "metadata": {
      "needs_background": "light"
     },
     "output_type": "display_data"
    },
    {
     "data": {
      "text/html": [
       "<div>\n",
       "<style scoped>\n",
       "    .dataframe tbody tr th:only-of-type {\n",
       "        vertical-align: middle;\n",
       "    }\n",
       "\n",
       "    .dataframe tbody tr th {\n",
       "        vertical-align: top;\n",
       "    }\n",
       "\n",
       "    .dataframe thead th {\n",
       "        text-align: right;\n",
       "    }\n",
       "</style>\n",
       "<table border=\"1\" class=\"dataframe\">\n",
       "  <thead>\n",
       "    <tr style=\"text-align: right;\">\n",
       "      <th>alleged_threat_lvl</th>\n",
       "      <th>0.0</th>\n",
       "      <th>1.0</th>\n",
       "    </tr>\n",
       "    <tr>\n",
       "      <th>body_camera</th>\n",
       "      <th></th>\n",
       "      <th></th>\n",
       "    </tr>\n",
       "  </thead>\n",
       "  <tbody>\n",
       "    <tr>\n",
       "      <th>0.0</th>\n",
       "      <td>0.316677</td>\n",
       "      <td>0.683323</td>\n",
       "    </tr>\n",
       "    <tr>\n",
       "      <th>1.0</th>\n",
       "      <td>0.374317</td>\n",
       "      <td>0.625683</td>\n",
       "    </tr>\n",
       "  </tbody>\n",
       "</table>\n",
       "</div>"
      ],
      "text/plain": [
       "alleged_threat_lvl       0.0       1.0\n",
       "body_camera                           \n",
       "0.0                 0.316677  0.683323\n",
       "1.0                 0.374317  0.625683"
      ]
     },
     "execution_count": 50,
     "metadata": {},
     "output_type": "execute_result"
    }
   ],
   "source": [
    "#visualize body camera vs alleged threat level\n",
    "ax = pd.crosstab(train.body_camera, train.alleged_threat_lvl, normalize ='index').plot.bar(figsize=(8, 6), cmap=plt.cm.get_cmap('Blues'), ec=\"black\")\n",
    "\n",
    "#customize legend\n",
    "legend_labels, _= ax.get_legend_handles_labels()\n",
    "ax.legend(legend_labels, ['Non-Attack', 'Attack'], \n",
    "          bbox_to_anchor=(1,1), \n",
    "          title='Threat Level')\n",
    "\n",
    "#customize chart\n",
    "plt.title(\"Does Bodycam Make a Difference in Alleged Threat Level?\", fontsize = 15)\n",
    "plt.ylabel(\"Percentage\", fontsize = 12)\n",
    "plt.xlabel('Body Camera', fontsize = 12)\n",
    "ax.tick_params(labelsize=10)\n",
    "x_labels = ['Off', 'On']\n",
    "ax.set_xticklabels(x_labels)\n",
    "plt.xticks(rotation=0)\n",
    "\n",
    "plt.ylim([0.0, 1.0])\n",
    "plt.show()\n",
    "\n",
    "#get percentages df\n",
    "percentages = pd.crosstab(train.body_camera, train.alleged_threat_lvl, normalize = 'index')\n",
    "percentages"
   ]
  },
  {
   "cell_type": "markdown",
   "metadata": {},
   "source": [
    "### Takeaways\n",
    "- There seems to be more attacks than non-attacks overall, regardless if body camera is on or off. \n",
    "- When bodycam is on, there is a higher chance of a non-attack threat level, than when the body camera is off. \n",
    "- In contrast, when the body camera is off, there is a higher chance of an attack threat level, than when the body camera is on. "
   ]
  },
  {
   "cell_type": "markdown",
   "metadata": {},
   "source": [
    " [Jump to Table of Contents](#toc)\n",
    "___\n",
    "\n",
    "## <a name=\"hypothesis-testing\"></a>• Hypothesis Testing"
   ]
  },
  {
   "cell_type": "code",
   "execution_count": 19,
   "metadata": {},
   "outputs": [
    {
     "name": "stdout",
     "output_type": "stream",
     "text": [
      "2.5985965696595774 0.009399773051373846\n",
      "We reject the null hypothesis.\n",
      "We can move forward with alternative hypothesis: Attacker status for males & total population are different.\n"
     ]
    }
   ],
   "source": [
    "#t-test for gender vs threat level\n",
    "female = train[train.gender == 'female']\n",
    "male = train[train.gender == 'male']\n",
    "transg = train[train.gender == 'transgender']\n",
    "not_male = train[train.gender != 'male']\n",
    "\n",
    "male_att = male.alleged_threat_lvl\n",
    "non_male_att = not_male.alleged_threat_lvl\n",
    "\n",
    "null_hypothesis = \"There is not a difference between male attackers and the remaining population.\"\n",
    "alternative_hypothesis = \"Attacker status for males & total population are different.\"\n",
    "confidence_level = .95\n",
    "a = 1 - confidence_level\n",
    "\n",
    "t, p = stats.ttest_ind(male_att, non_male_att)\n",
    "print(t, p)\n",
    "\n",
    "if p < a:\n",
    "    print(\"We reject the null hypothesis.\")\n",
    "    print(f\"We can move forward with alternative hypothesis: {alternative_hypothesis}\")\n",
    "else:\n",
    "    print(\"We fail to reject the null hypothesis\")\n",
    "    print(f\"Not enough evidence to support the claim: {null_hypothesis}\")"
   ]
  },
  {
   "cell_type": "code",
   "execution_count": 20,
   "metadata": {
    "cell_id": "00019-b3b0781a-dbe6-4623-b90a-dbf72ad56b4e",
    "deepnote_cell_type": "code",
    "deepnote_to_be_reexecuted": false,
    "execution_millis": 19,
    "execution_start": 1621959987585,
    "source_hash": "701044d",
    "tags": []
   },
   "outputs": [
    {
     "name": "stdout",
     "output_type": "stream",
     "text": [
      "Observed\n",
      "\n",
      "[[  37   65]\n",
      " [ 711 1616]\n",
      " [ 127  241]\n",
      " [ 257  454]]\n",
      "---\n",
      "Expected\n",
      "\n",
      "[[  32.91448119   69.08551881]\n",
      " [ 750.90193843 1576.09806157]\n",
      " [ 118.75028506  249.24971494]\n",
      " [ 229.43329532  481.56670468]]\n",
      "---\n",
      "\n",
      "chi^2 = 9.6156\n",
      "p     = 0.0221\n",
      "\n",
      "Because the p-value: 0.0221 is less than alpha: 0.05, we can reject the null hypothesis\n"
     ]
    }
   ],
   "source": [
    "#chi2 test for mental illness vs alleged threat level\n",
    "exp.chi2_matts(train, 'mental_illness', 'alleged_threat_lvl', alpha=0.05)"
   ]
  },
  {
   "cell_type": "code",
   "execution_count": 21,
   "metadata": {
    "cell_id": "00023-a4699668-f5e0-452b-8f10-fd10388dcab8",
    "deepnote_cell_type": "code",
    "deepnote_to_be_reexecuted": false,
    "execution_millis": 45,
    "execution_start": 1621959988216,
    "source_hash": "cbc286ba",
    "tags": []
   },
   "outputs": [
    {
     "name": "stdout",
     "output_type": "stream",
     "text": [
      "Observed\n",
      "\n",
      "[[  26   48]\n",
      " [ 273  594]\n",
      " [ 252  395]\n",
      " [  21   29]\n",
      " [  95  205]\n",
      " [ 465 1105]]\n",
      "---\n",
      "Expected\n",
      "\n",
      "[[  23.87913341   50.12086659]\n",
      " [ 279.77309008  587.22690992]\n",
      " [ 208.78107184  438.21892816]\n",
      " [  16.1345496    33.8654504 ]\n",
      " [  96.80729761  203.19270239]\n",
      " [ 506.62485747 1063.37514253]]\n",
      "---\n",
      "\n",
      "chi^2 = 20.9946\n",
      "p     = 0.0008\n",
      "\n",
      "Because the p-value: 0.0008 is less than alpha: 0.05, we can reject the null hypothesis\n"
     ]
    }
   ],
   "source": [
    "#chi2 test for race vs alleged threat level\n",
    "exp.chi2_matts(train, 'race', 'alleged_threat_lvl', alpha=0.05)"
   ]
  },
  {
   "cell_type": "code",
   "execution_count": 22,
   "metadata": {},
   "outputs": [
    {
     "name": "stdout",
     "output_type": "stream",
     "text": [
      "Observed\n",
      "\n",
      "[[ 995 2147]\n",
      " [ 137  229]]\n",
      "---\n",
      "Expected\n",
      "\n",
      "[[1013.89509692 2128.10490308]\n",
      " [ 118.10490308  247.89509692]]\n",
      "---\n",
      "\n",
      "chi^2 = 4.7228\n",
      "p     = 0.0298\n",
      "\n",
      "Because the p-value: 0.0298 is less than alpha: 0.05, we can reject the null hypothesis\n"
     ]
    }
   ],
   "source": [
    "#chi2 test for bodycam vs alleged threat level\n",
    "exp.chi2_matts(train, 'body_camera', 'alleged_threat_lvl', alpha=0.05)"
   ]
  },
  {
   "cell_type": "markdown",
   "metadata": {},
   "source": [
    "### Takeaways\n",
    "- All four statistical tests rejected the null hypothesis.\n",
    "    - T-test demonstrates there is a difference between male attackers and the remaining population.\n",
    "    - 1st Chi^2 test demonstrates that mental status is dependent on alleged threat level.\n",
    "    - 2nd Chi^2 test demonstrates that race is dependent on alleged threat level.\n",
    "    - 3rd Chi^2 test demonstrates that bodycam is dependent on alleged threat level."
   ]
  },
  {
   "cell_type": "markdown",
   "metadata": {},
   "source": [
    " [Jump to Table of Contents](#toc)\n",
    "___\n",
    "# <a name=\"modeling\"></a>Modeling"
   ]
  },
  {
   "cell_type": "code",
   "execution_count": 23,
   "metadata": {},
   "outputs": [],
   "source": [
    "#set up X inputs and y target variable for each split\n",
    "X_train = train.drop(columns=['alleged_threat_lvl'])\n",
    "y_train = train.alleged_threat_lvl\n",
    "\n",
    "X_validate = validate.drop(columns=['alleged_threat_lvl'])\n",
    "y_validate = validate.alleged_threat_lvl\n",
    "\n",
    "X_test = test.drop(columns=['alleged_threat_lvl'])\n",
    "y_test = test.alleged_threat_lvl"
   ]
  },
  {
   "cell_type": "code",
   "execution_count": 24,
   "metadata": {},
   "outputs": [],
   "source": [
    "# dropping columns that are not numeric datatypes\n",
    "dropcols = ['date', \n",
    "            'gender',\n",
    "            'race',\n",
    "            'city',\n",
    "            'state',\n",
    "            'zipcode',\n",
    "            'county',\n",
    "            'agency_responsible',\n",
    "            'cause_of_death',\n",
    "            'description_of_circumstances',\n",
    "            'official_disposition',\n",
    "            'criminal_charges_filed',\n",
    "            'mental_illness',\n",
    "            'armed_unarmed_status',\n",
    "            'alleged_threat_lvl',\n",
    "            'alleged_weapon',\n",
    "            'fleeing',\n",
    "            'geography',\n",
    "            'encounter_type_draft',\n",
    "            'initial_reported_reason_for_encounter_draft',\n",
    "            'known_past_shootings_of_officer_draft',\n",
    "            'age_bins']\n",
    "\n",
    "X_train = train.drop(columns=dropcols)\n",
    "X_validate = validate.drop(columns=dropcols)\n",
    "X_test = test.drop(columns=dropcols)"
   ]
  },
  {
   "cell_type": "markdown",
   "metadata": {},
   "source": [
    " [Jump to Table of Contents](#toc)\n",
    "___\n",
    "## <a name=\"feature-importance\"></a>• Feature Importance"
   ]
  },
  {
   "cell_type": "markdown",
   "metadata": {},
   "source": [
    "#### Select K Best\n",
    "- Uses statistical tests to determine each feature's usefulness in predicting the target variable. \n",
    "- Ranks the features and then select the K best features."
   ]
  },
  {
   "cell_type": "code",
   "execution_count": 25,
   "metadata": {},
   "outputs": [
    {
     "data": {
      "text/plain": [
       "['age',\n",
       " 'body_camera',\n",
       " 'is_female',\n",
       " 'was_allegedly_armed',\n",
       " 'was_unarmed',\n",
       " 'was_vehicle',\n",
       " 'was_mental_health_welfare_check',\n",
       " 'was_person_with_a_weapon',\n",
       " 'was_violent_crime_part_1',\n",
       " 'is_hispanic',\n",
       " 'is_white',\n",
       " 'mntlill_no',\n",
       " 'mntlill_yes',\n",
       " 'under 12',\n",
       " '65+']"
      ]
     },
     "execution_count": 25,
     "metadata": {},
     "output_type": "execute_result"
    }
   ],
   "source": [
    "f_features = select_kbest(X_train, y_train, 15)\n",
    "f_features"
   ]
  },
  {
   "cell_type": "markdown",
   "metadata": {},
   "source": [
    "#### Recursive Feature Elimination (RFE)\n",
    "- Recursively removes attributes to meet the number of required features and then builds a model on those attributes that remain to see if you can you match or improve performance with a smaller subset."
   ]
  },
  {
   "cell_type": "code",
   "execution_count": 26,
   "metadata": {},
   "outputs": [
    {
     "data": {
      "text/plain": [
       "['is_male',\n",
       " 'is_transgender',\n",
       " 'was_allegedly_armed',\n",
       " 'was_unarmed',\n",
       " 'was_vehicle',\n",
       " 'was_person_with_a_weapon',\n",
       " 'was_traffic_stop',\n",
       " 'was_violent_crime_part_1',\n",
       " 'is_black',\n",
       " 'is_unknown race',\n",
       " 'is_white',\n",
       " 'mntlill_no',\n",
       " 'cod_lethal',\n",
       " 'under 12',\n",
       " '65+']"
      ]
     },
     "execution_count": 26,
     "metadata": {},
     "output_type": "execute_result"
    }
   ],
   "source": [
    "rfe_features = rfe(X_train, y_train, 15)\n",
    "rfe_features"
   ]
  },
  {
   "cell_type": "code",
   "execution_count": 27,
   "metadata": {},
   "outputs": [
    {
     "name": "stdout",
     "output_type": "stream",
     "text": [
      "21\n"
     ]
    },
    {
     "data": {
      "text/plain": [
       "['was_violent_crime_part_1',\n",
       " 'is_transgender',\n",
       " 'was_unarmed',\n",
       " 'was_person_with_a_weapon',\n",
       " 'was_allegedly_armed',\n",
       " 'is_hispanic',\n",
       " 'was_traffic_stop',\n",
       " 'is_white',\n",
       " 'mntlill_no',\n",
       " '65+',\n",
       " 'is_unknown race',\n",
       " 'mntlill_yes',\n",
       " 'is_female',\n",
       " 'under 12',\n",
       " 'is_black',\n",
       " 'body_camera',\n",
       " 'was_mental_health_welfare_check',\n",
       " 'cod_lethal',\n",
       " 'was_vehicle',\n",
       " 'is_male',\n",
       " 'age']"
      ]
     },
     "execution_count": 27,
     "metadata": {},
     "output_type": "execute_result"
    }
   ],
   "source": [
    "combo_feats = list(set(f_features + rfe_features))\n",
    "print(len(combo_feats))\n",
    "combo_feats"
   ]
  },
  {
   "cell_type": "code",
   "execution_count": 28,
   "metadata": {},
   "outputs": [
    {
     "name": "stdout",
     "output_type": "stream",
     "text": [
      "19\n"
     ]
    }
   ],
   "source": [
    "#specify combined features that reduces multicollinearity\n",
    "combo_feats = ['55-64',\n",
    "               'is_native american',\n",
    "               'mntlill_no',\n",
    "               'under 12',\n",
    "               'was_traffic_stop',\n",
    "               'body_camera',\n",
    "               'age',\n",
    "               'was_allegedly_armed',\n",
    "               'is_black',\n",
    "               'was_domestic_disturbance',\n",
    "               'was_fleeing',\n",
    "               'cod_lethal',\n",
    "               'was_mental_health_welfare_check',\n",
    "               'is_white',\n",
    "               'was_violent_crime_part_1',\n",
    "               'was_vehicle',\n",
    "               'mntlill_drug or alcohol use',\n",
    "               'is_transgender',\n",
    "               'is_female']\n",
    " \n",
    "print(len(combo_feats))"
   ]
  },
  {
   "cell_type": "markdown",
   "metadata": {},
   "source": [
    " [Jump to Table of Contents](#toc)\n",
    "___\n",
    "## <a name=\"identify-baseline\"></a>• Identify Baseline"
   ]
  },
  {
   "cell_type": "code",
   "execution_count": 29,
   "metadata": {},
   "outputs": [
    {
     "data": {
      "text/plain": [
       "1.0    2376\n",
       "0.0    1132\n",
       "Name: alleged_threat_lvl, dtype: int64"
      ]
     },
     "execution_count": 29,
     "metadata": {},
     "output_type": "execute_result"
    }
   ],
   "source": [
    "#baseline prediction: the most prevalent class in training dataset(the mode)\n",
    "train.alleged_threat_lvl.value_counts()"
   ]
  },
  {
   "cell_type": "code",
   "execution_count": 30,
   "metadata": {},
   "outputs": [
    {
     "name": "stdout",
     "output_type": "stream",
     "text": [
      "baseline accuracy:  0.6773\n"
     ]
    }
   ],
   "source": [
    "#baseline model would be to predict 1 (an attack) since it is most prevalant\n",
    "#baseline accuracy:\n",
    "baseline_accuracy = (train.alleged_threat_lvl == 1).mean()\n",
    "\n",
    "print(f'baseline accuracy: {baseline_accuracy: .4}')"
   ]
  },
  {
   "cell_type": "markdown",
   "metadata": {},
   "source": [
    " [Jump to Table of Contents](#toc)\n",
    "___\n",
    "## <a name=\"model-on-train\"></a>• Model on Train"
   ]
  },
  {
   "cell_type": "markdown",
   "metadata": {},
   "source": [
    "### Decision Tree"
   ]
  },
  {
   "cell_type": "code",
   "execution_count": 31,
   "metadata": {
    "cell_id": "00043-a0eecc57-4445-4c70-9082-0d67e8d5e18e",
    "deepnote_cell_type": "code",
    "deepnote_to_be_reexecuted": false,
    "execution_millis": 56,
    "execution_start": 1621960002987,
    "source_hash": "7d8889d0",
    "tags": []
   },
   "outputs": [
    {
     "name": "stdout",
     "output_type": "stream",
     "text": [
      "Baseline is 0.6773\n",
      "----------------\n",
      "Accuracy of Decision Tree classifier on combo_feats (max_depth = 3): 0.6927\n"
     ]
    }
   ],
   "source": [
    "#create Decision Tree model (specifying max_depth argument and combo_feats)\n",
    "dt = DecisionTreeClassifier(max_depth=3, random_state=123)\n",
    "\n",
    "#fit model on combo_feats\n",
    "dt.fit(X_train[combo_feats], y_train)\n",
    "\n",
    "#get predictions from model\n",
    "y_pred = dt.predict(X_train[combo_feats])\n",
    "\n",
    "#compute accuracy\n",
    "dt_train_acc = round(dt.score(X_train[combo_feats], y_train), 4)\n",
    "\n",
    "#compare to baseline\n",
    "print(\"Baseline is\", round(baseline_accuracy, 4))\n",
    "print(\"----------------\")\n",
    "print('Accuracy of Decision Tree classifier on combo_feats (max_depth = 3): {:.4f}'\n",
    "     .format(dt.score(X_train[combo_feats], y_train)))"
   ]
  },
  {
   "cell_type": "markdown",
   "metadata": {
    "cell_id": "00040-1ff66d61-8338-4d8f-9bba-eb8699d86969",
    "deepnote_cell_type": "markdown",
    "tags": []
   },
   "source": [
    "### Random Forest"
   ]
  },
  {
   "cell_type": "code",
   "execution_count": 32,
   "metadata": {
    "cell_id": "00047-e475e7f2-83df-4f8a-bd56-b4548cd40d1c",
    "deepnote_cell_type": "code",
    "deepnote_to_be_reexecuted": false,
    "execution_millis": 518,
    "execution_start": 1621960003879,
    "source_hash": "72d823eb",
    "tags": []
   },
   "outputs": [
    {
     "name": "stdout",
     "output_type": "stream",
     "text": [
      "Baseline is 0.6773\n",
      "----------------\n",
      "Accuracy of Random Forest classifier on combo_feats (max_depth = 5, min_samples_leaf = 3): 0.6936\n"
     ]
    }
   ],
   "source": [
    "#create Random Forest model (specifying max_depth/min_samples_leaf arguments and combo_feats)\n",
    "rf = RandomForestClassifier(max_depth=5, min_samples_leaf=3, random_state=123)\n",
    "\n",
    "#fit model on combo_feats\n",
    "rf.fit(X_train[combo_feats], y_train)\n",
    "\n",
    "#get predictions from model\n",
    "y_pred = rf.predict(X_train[combo_feats])\n",
    "\n",
    "#compute accuracy\n",
    "rf_train_acc = round(rf.score(X_train[combo_feats], y_train), 4)\n",
    "\n",
    "#compare to baseline\n",
    "print(\"Baseline is\", round(baseline_accuracy, 4))\n",
    "print(\"----------------\")\n",
    "print('Accuracy of Random Forest classifier on combo_feats (max_depth = 5, min_samples_leaf = 3): {:.4f}'\n",
    "     .format(rf.score(X_train[combo_feats], y_train)))"
   ]
  },
  {
   "cell_type": "markdown",
   "metadata": {
    "cell_id": "00043-2645bf21-095a-46e3-89d5-4ceb1536d053",
    "deepnote_cell_type": "markdown",
    "tags": []
   },
   "source": [
    "### K-Nearest Neighbor (KNN)"
   ]
  },
  {
   "cell_type": "code",
   "execution_count": 33,
   "metadata": {
    "cell_id": "00051-a25b81ad-ae21-4752-aa1a-2b1384608f89",
    "deepnote_cell_type": "code",
    "deepnote_to_be_reexecuted": false,
    "execution_millis": 2707,
    "execution_start": 1621960006504,
    "source_hash": "b7d447a6",
    "tags": []
   },
   "outputs": [
    {
     "name": "stdout",
     "output_type": "stream",
     "text": [
      "Baseline is 0.6773\n",
      "----------------\n",
      "Accuracy of KNN classifier on combo_feats (n_neighbors = 20): 0.6910\n"
     ]
    }
   ],
   "source": [
    "#create KNN model (specifying n_neighbors argument and combo_feats)\n",
    "knn = KNeighborsClassifier(n_neighbors=20)\n",
    "\n",
    "#fit model on combo_feats\n",
    "knn.fit(X_train[combo_feats], y_train)\n",
    "\n",
    "#get predictions from model\n",
    "y_pred = knn.predict(X_train[combo_feats])\n",
    "\n",
    "#compute accuracy\n",
    "knn_train_acc = round(knn.score(X_train[combo_feats], y_train), 4)\n",
    "\n",
    "#compare to baseline\n",
    "print(\"Baseline is\", round(baseline_accuracy, 4))\n",
    "print(\"----------------\")\n",
    "print('Accuracy of KNN classifier on combo_feats (n_neighbors = 20): {:.4f}'\n",
    "     .format(knn.score(X_train[combo_feats], y_train)))"
   ]
  },
  {
   "cell_type": "markdown",
   "metadata": {
    "cell_id": "00046-94617eda-26d2-4685-be43-afd574af7d5d",
    "deepnote_cell_type": "markdown",
    "tags": []
   },
   "source": [
    "### Logistic Regression"
   ]
  },
  {
   "cell_type": "code",
   "execution_count": 34,
   "metadata": {
    "cell_id": "00055-a5f4e652-eddf-4c89-bac6-13c8189b57fa",
    "deepnote_cell_type": "code",
    "deepnote_to_be_reexecuted": false,
    "execution_millis": 498,
    "execution_start": 1621960009697,
    "source_hash": "70690c4f",
    "tags": []
   },
   "outputs": [
    {
     "name": "stdout",
     "output_type": "stream",
     "text": [
      "Baseline is 0.6773\n",
      "----------------\n",
      "Accuracy of Logistic Regression classifier on combo_feats (default parameters): 0.6893\n"
     ]
    }
   ],
   "source": [
    "#create Logistic Regression model (default parameters, specifying combo_feats)\n",
    "logit = LogisticRegression(random_state=123)\n",
    "\n",
    "#fit model on combo_feats\n",
    "logit.fit(X_train[combo_feats], y_train)\n",
    "\n",
    "#get predictions from model\n",
    "y_pred = logit.predict(X_train[combo_feats])\n",
    "\n",
    "#compute accuracy\n",
    "logit_train_acc = round(logit.score(X_train[combo_feats], y_train), 4)\n",
    "\n",
    "#compare to baseline\n",
    "print(\"Baseline is\", round(baseline_accuracy, 4))\n",
    "print(\"----------------\")\n",
    "print('Accuracy of Logistic Regression classifier on combo_feats (default parameters): {:.4f}'\n",
    "     .format(logit.score(X_train[combo_feats], y_train)))"
   ]
  },
  {
   "cell_type": "markdown",
   "metadata": {
    "cell_id": "00049-a9646e45-93e7-49c7-b49d-9d75e1a599a2",
    "deepnote_cell_type": "markdown",
    "tags": []
   },
   "source": [
    "### Takeways:\n",
    "- Our baseline accuracy is at 68%.\n",
    "- All of the models got an accuracy score of 69% on in-sample data, beating the baseline by 1%. \n",
    "\n",
    "Next, compare scores to validate (out-of-sample data)."
   ]
  },
  {
   "cell_type": "markdown",
   "metadata": {},
   "source": [
    "[Jump to Table of Contents](#toc)\n",
    "___\n",
    "## <a name=\"model-on-validate\"></a>• Model on Validate"
   ]
  },
  {
   "cell_type": "code",
   "execution_count": 35,
   "metadata": {
    "cell_id": "00050-77a71aba-15cc-4108-bbbe-9f25ae585bcd",
    "deepnote_cell_type": "code",
    "deepnote_to_be_reexecuted": false,
    "execution_millis": 115,
    "execution_start": 1621960010192,
    "source_hash": "ffbd5eed",
    "tags": []
   },
   "outputs": [
    {
     "name": "stdout",
     "output_type": "stream",
     "text": [
      "Accuracy of Decision Tree classifier on train set: 0.6927\n",
      "--------------------------------------------------------------\n",
      "Decision Tree classifier on validate set:\n",
      "              precision    recall  f1-score   support\n",
      "\n",
      "         0.0       0.55      0.17      0.26       486\n",
      "         1.0       0.70      0.94      0.80      1018\n",
      "\n",
      "    accuracy                           0.69      1504\n",
      "   macro avg       0.63      0.55      0.53      1504\n",
      "weighted avg       0.65      0.69      0.63      1504\n",
      "\n"
     ]
    }
   ],
   "source": [
    "#dt's metrics on validate\n",
    "\n",
    "#evaluate on validate sample\n",
    "y_pred = dt.predict(X_validate[combo_feats])\n",
    "\n",
    "#compute accuracy\n",
    "dt_val_acc = round(dt.score(X_validate[combo_feats], y_validate), 4)\n",
    "\n",
    "#compare train to validate\n",
    "print('Accuracy of Decision Tree classifier on train set: {:.4f}'\n",
    "     .format(dt.score(X_train[combo_feats], y_train)))\n",
    "print(\"--------------------------------------------------------------\")\n",
    "print(\"Decision Tree classifier on validate set:\")\n",
    "print(classification_report(y_validate, y_pred))"
   ]
  },
  {
   "cell_type": "code",
   "execution_count": 36,
   "metadata": {
    "cell_id": "00051-39e562a3-4a2c-48c6-8f27-bdc088b99951",
    "deepnote_cell_type": "code",
    "deepnote_to_be_reexecuted": false,
    "execution_millis": 120,
    "execution_start": 1621960010293,
    "source_hash": "68fa0232",
    "tags": []
   },
   "outputs": [
    {
     "name": "stdout",
     "output_type": "stream",
     "text": [
      "Accuracy of Random Forest classifier on train set: 0.6936\n",
      "--------------------------------------------------------------\n",
      "Random Forest classifier on validate set:\n",
      "              precision    recall  f1-score   support\n",
      "\n",
      "         0.0       0.68      0.04      0.08       486\n",
      "         1.0       0.68      0.99      0.81      1018\n",
      "\n",
      "    accuracy                           0.68      1504\n",
      "   macro avg       0.68      0.52      0.45      1504\n",
      "weighted avg       0.68      0.68      0.57      1504\n",
      "\n"
     ]
    }
   ],
   "source": [
    "#rf's metrics on validate\n",
    "\n",
    "#evaluate on validate sample\n",
    "y_pred = rf.predict(X_validate[combo_feats])\n",
    "\n",
    "#compute accuracy\n",
    "rf_val_acc = round(rf.score(X_validate[combo_feats], y_validate), 4)\n",
    "\n",
    "#compare train to validate\n",
    "print('Accuracy of Random Forest classifier on train set: {:.4f}'\n",
    "     .format(rf.score(X_train[combo_feats], y_train)))\n",
    "print(\"--------------------------------------------------------------\")\n",
    "print(\"Random Forest classifier on validate set:\")\n",
    "print(classification_report(y_validate, y_pred))"
   ]
  },
  {
   "cell_type": "code",
   "execution_count": 37,
   "metadata": {
    "cell_id": "00052-c4d2ace4-26b7-4e95-9bfc-bb9a9bc0833e",
    "deepnote_cell_type": "code",
    "deepnote_to_be_reexecuted": false,
    "execution_millis": 913,
    "execution_start": 1621960010410,
    "source_hash": "7652c65c",
    "tags": []
   },
   "outputs": [
    {
     "name": "stdout",
     "output_type": "stream",
     "text": [
      "Accuracy of KNN classifier on train set: 0.6910\n",
      "--------------------------------------------------------------\n",
      "KNN classifier on validate set:\n",
      "              precision    recall  f1-score   support\n",
      "\n",
      "         0.0       0.44      0.10      0.16       486\n",
      "         1.0       0.69      0.94      0.79      1018\n",
      "\n",
      "    accuracy                           0.67      1504\n",
      "   macro avg       0.56      0.52      0.48      1504\n",
      "weighted avg       0.61      0.67      0.59      1504\n",
      "\n"
     ]
    }
   ],
   "source": [
    "#knn's metrics on validate\n",
    "\n",
    "#evaluate on validate sample\n",
    "y_pred = knn.predict(X_validate[combo_feats])\n",
    "\n",
    "#compute accuracy\n",
    "knn_val_acc = round(knn.score(X_validate[combo_feats], y_validate), 4)\n",
    "\n",
    "#compare train to validate\n",
    "print('Accuracy of KNN classifier on train set: {:.4f}'\n",
    "     .format(knn.score(X_train[combo_feats], y_train)))\n",
    "print(\"--------------------------------------------------------------\")\n",
    "print(\"KNN classifier on validate set:\")\n",
    "print(classification_report(y_validate, y_pred))"
   ]
  },
  {
   "cell_type": "code",
   "execution_count": 38,
   "metadata": {},
   "outputs": [
    {
     "name": "stdout",
     "output_type": "stream",
     "text": [
      "Accuracy of Logistic Regression classifier on train set: 0.6893\n",
      "--------------------------------------------------------------\n",
      "Logistic Regression classifier on validate set:\n",
      "              precision    recall  f1-score   support\n",
      "\n",
      "         0.0       0.58      0.15      0.23       486\n",
      "         1.0       0.70      0.95      0.81      1018\n",
      "\n",
      "    accuracy                           0.69      1504\n",
      "   macro avg       0.64      0.55      0.52      1504\n",
      "weighted avg       0.66      0.69      0.62      1504\n",
      "\n"
     ]
    }
   ],
   "source": [
    "#logit's metrics on validate\n",
    "\n",
    "#evaluate on validate sample\n",
    "y_pred = logit.predict(X_validate[combo_feats])\n",
    "\n",
    "#compute accuracy\n",
    "logit_val_acc = round(logit.score(X_validate[combo_feats], y_validate), 4)\n",
    "\n",
    "#compare train to validate\n",
    "print('Accuracy of Logistic Regression classifier on train set: {:.4f}'\n",
    "     .format(logit.score(X_train[combo_feats], y_train)))\n",
    "print(\"--------------------------------------------------------------\")\n",
    "print(\"Logistic Regression classifier on validate set:\")\n",
    "print(classification_report(y_validate, y_pred))"
   ]
  },
  {
   "cell_type": "code",
   "execution_count": 39,
   "metadata": {},
   "outputs": [
    {
     "data": {
      "text/html": [
       "<div>\n",
       "<style scoped>\n",
       "    .dataframe tbody tr th:only-of-type {\n",
       "        vertical-align: middle;\n",
       "    }\n",
       "\n",
       "    .dataframe tbody tr th {\n",
       "        vertical-align: top;\n",
       "    }\n",
       "\n",
       "    .dataframe thead th {\n",
       "        text-align: right;\n",
       "    }\n",
       "</style>\n",
       "<table border=\"1\" class=\"dataframe\">\n",
       "  <thead>\n",
       "    <tr style=\"text-align: right;\">\n",
       "      <th></th>\n",
       "      <th>Model</th>\n",
       "      <th>Baseline</th>\n",
       "      <th>Train Accuracy</th>\n",
       "      <th>Validate Accuracy</th>\n",
       "    </tr>\n",
       "  </thead>\n",
       "  <tbody>\n",
       "    <tr>\n",
       "      <th>0</th>\n",
       "      <td>Decision Tree</td>\n",
       "      <td>0.6773</td>\n",
       "      <td>0.6927</td>\n",
       "      <td>0.6875</td>\n",
       "    </tr>\n",
       "    <tr>\n",
       "      <th>1</th>\n",
       "      <td>Random Forest</td>\n",
       "      <td>0.6773</td>\n",
       "      <td>0.6936</td>\n",
       "      <td>0.6842</td>\n",
       "    </tr>\n",
       "    <tr>\n",
       "      <th>2</th>\n",
       "      <td>K-Nearest Neighbor</td>\n",
       "      <td>0.6773</td>\n",
       "      <td>0.6910</td>\n",
       "      <td>0.6676</td>\n",
       "    </tr>\n",
       "    <tr>\n",
       "      <th>3</th>\n",
       "      <td>Logistic Regression</td>\n",
       "      <td>0.6773</td>\n",
       "      <td>0.6893</td>\n",
       "      <td>0.6895</td>\n",
       "    </tr>\n",
       "  </tbody>\n",
       "</table>\n",
       "</div>"
      ],
      "text/plain": [
       "                 Model  Baseline  Train Accuracy  Validate Accuracy\n",
       "0        Decision Tree    0.6773          0.6927             0.6875\n",
       "1        Random Forest    0.6773          0.6936             0.6842\n",
       "2   K-Nearest Neighbor    0.6773          0.6910             0.6676\n",
       "3  Logistic Regression    0.6773          0.6893             0.6895"
      ]
     },
     "execution_count": 39,
     "metadata": {},
     "output_type": "execute_result"
    }
   ],
   "source": [
    "# Build dataframe to record accuracy (starting with decision tree)\n",
    "metric_df = pd.DataFrame(data=[{\n",
    "    'Model': 'Decision Tree', \n",
    "    'Baseline': round(baseline_accuracy, 4),\n",
    "    'Train Accuracy': round(dt_train_acc, 4),\n",
    "    'Validate Accuracy': round(dt_val_acc, 4)}])\n",
    "\n",
    "# append dataframe to record accuracy on random forest\n",
    "metric_df = metric_df.append({\n",
    "    'Model': 'Random Forest', \n",
    "    'Baseline': round(baseline_accuracy, 4),\n",
    "    'Train Accuracy': round(rf_train_acc, 4),\n",
    "    'Validate Accuracy':round(rf_val_acc, 4)}, ignore_index=True)\n",
    "\n",
    "# append dataframe to record accuracy on knn\n",
    "metric_df = metric_df.append({\n",
    "    'Model': 'K-Nearest Neighbor', \n",
    "    'Baseline': round(baseline_accuracy, 4),\n",
    "    'Train Accuracy': round(knn_train_acc, 4),\n",
    "    'Validate Accuracy':round(knn_val_acc, 4)}, ignore_index=True)\n",
    "\n",
    "# append dataframe to record accuracy on logistic regression\n",
    "metric_df = metric_df.append({\n",
    "    'Model': 'Logistic Regression', \n",
    "    'Baseline': round(baseline_accuracy, 4),\n",
    "    'Train Accuracy': round(logit_train_acc, 4),\n",
    "    'Validate Accuracy':round(logit_val_acc, 4)}, ignore_index=True)\n",
    "\n",
    "\n",
    "metric_df"
   ]
  },
  {
   "cell_type": "markdown",
   "metadata": {
    "cell_id": "00053-0f634c7c-8210-4618-83d7-7861b7d33903",
    "deepnote_cell_type": "markdown",
    "tags": []
   },
   "source": [
    "### Takeaways\n",
    "- All the models have a slightly decreased accuracy score. \n",
    "- The best performing model is Logistic Regression and will be evaluated on test data.\n"
   ]
  },
  {
   "cell_type": "markdown",
   "metadata": {},
   "source": [
    "[Jump to Table of Contents](#toc)\n",
    "___\n",
    "## <a name=\"model-on-test\"></a>• Model on Test"
   ]
  },
  {
   "cell_type": "code",
   "execution_count": 40,
   "metadata": {},
   "outputs": [
    {
     "name": "stdout",
     "output_type": "stream",
     "text": [
      "Logistic Regression:\n",
      "              precision    recall  f1-score   support\n",
      "\n",
      "         0.0       0.55      0.14      0.23       405\n",
      "         1.0       0.70      0.94      0.80       848\n",
      "\n",
      "    accuracy                           0.69      1253\n",
      "   macro avg       0.63      0.54      0.52      1253\n",
      "weighted avg       0.65      0.69      0.62      1253\n",
      "\n"
     ]
    }
   ],
   "source": [
    "#evaluate on test sample \n",
    "y_pred_test = logit.predict(X_test[combo_feats])\n",
    "\n",
    "#compute accuracy\n",
    "logit_test_acc = round(logit.score(X_test[combo_feats], y_test), 4)\n",
    "\n",
    "print(\"Logistic Regression:\")\n",
    "print(classification_report(y_test, y_pred_test))"
   ]
  },
  {
   "cell_type": "code",
   "execution_count": 41,
   "metadata": {},
   "outputs": [],
   "source": [
    "# append dataframe to record accuracy on final Logistic Regression\n",
    "metric_df = metric_df.append({\n",
    "    'Model': 'Logistic Regression', \n",
    "    'Baseline': round(baseline_accuracy, 4),\n",
    "    'Train Accuracy': round(logit_train_acc, 4),\n",
    "    'Validate Accuracy':round(logit_val_acc, 4),\n",
    "    'Test Accuracy': round(logit_test_acc, 4)}, ignore_index=True)"
   ]
  },
  {
   "cell_type": "code",
   "execution_count": 42,
   "metadata": {},
   "outputs": [
    {
     "data": {
      "text/html": [
       "<div>\n",
       "<style scoped>\n",
       "    .dataframe tbody tr th:only-of-type {\n",
       "        vertical-align: middle;\n",
       "    }\n",
       "\n",
       "    .dataframe tbody tr th {\n",
       "        vertical-align: top;\n",
       "    }\n",
       "\n",
       "    .dataframe thead th {\n",
       "        text-align: right;\n",
       "    }\n",
       "</style>\n",
       "<table border=\"1\" class=\"dataframe\">\n",
       "  <thead>\n",
       "    <tr style=\"text-align: right;\">\n",
       "      <th></th>\n",
       "      <th>Model</th>\n",
       "      <th>Baseline</th>\n",
       "      <th>Train Accuracy</th>\n",
       "      <th>Validate Accuracy</th>\n",
       "      <th>Test Accuracy</th>\n",
       "    </tr>\n",
       "  </thead>\n",
       "  <tbody>\n",
       "    <tr>\n",
       "      <th>0</th>\n",
       "      <td>Decision Tree</td>\n",
       "      <td>0.6773</td>\n",
       "      <td>0.6927</td>\n",
       "      <td>0.6875</td>\n",
       "      <td>NaN</td>\n",
       "    </tr>\n",
       "    <tr>\n",
       "      <th>1</th>\n",
       "      <td>Random Forest</td>\n",
       "      <td>0.6773</td>\n",
       "      <td>0.6936</td>\n",
       "      <td>0.6842</td>\n",
       "      <td>NaN</td>\n",
       "    </tr>\n",
       "    <tr>\n",
       "      <th>2</th>\n",
       "      <td>K-Nearest Neighbor</td>\n",
       "      <td>0.6773</td>\n",
       "      <td>0.6910</td>\n",
       "      <td>0.6676</td>\n",
       "      <td>NaN</td>\n",
       "    </tr>\n",
       "    <tr>\n",
       "      <th>3</th>\n",
       "      <td>Logistic Regression</td>\n",
       "      <td>0.6773</td>\n",
       "      <td>0.6893</td>\n",
       "      <td>0.6895</td>\n",
       "      <td>NaN</td>\n",
       "    </tr>\n",
       "    <tr>\n",
       "      <th>4</th>\n",
       "      <td>Logistic Regression</td>\n",
       "      <td>0.6773</td>\n",
       "      <td>0.6893</td>\n",
       "      <td>0.6895</td>\n",
       "      <td>0.6856</td>\n",
       "    </tr>\n",
       "  </tbody>\n",
       "</table>\n",
       "</div>"
      ],
      "text/plain": [
       "                 Model  Baseline  Train Accuracy  Validate Accuracy  \\\n",
       "0        Decision Tree    0.6773          0.6927             0.6875   \n",
       "1        Random Forest    0.6773          0.6936             0.6842   \n",
       "2   K-Nearest Neighbor    0.6773          0.6910             0.6676   \n",
       "3  Logistic Regression    0.6773          0.6893             0.6895   \n",
       "4  Logistic Regression    0.6773          0.6893             0.6895   \n",
       "\n",
       "   Test Accuracy  \n",
       "0            NaN  \n",
       "1            NaN  \n",
       "2            NaN  \n",
       "3            NaN  \n",
       "4         0.6856  "
      ]
     },
     "execution_count": 42,
     "metadata": {},
     "output_type": "execute_result"
    }
   ],
   "source": [
    "metric_df"
   ]
  },
  {
   "cell_type": "markdown",
   "metadata": {},
   "source": [
    "### Takeaways\n",
    "- All models had roughly the same score for train and validate sets.\n",
    "- K-nearest neighbor model performed the worst on out-of-sample data.\n",
    "- The best performing model uses a Logistic Regression algorithm and combined features from Select K Best and Recursive Feature Elimination lists.\n",
    "- However, even though our final Logistic Regression model beat the baseline by a small percentage, its accuracy score slightly decreased on our test data.\n",
    "\n",
    "\n",
    "\n",
    "#### As a team we came to a conclusion that the reason our final model performed poorly may be due to missing 1/3 of our data. \n",
    "\n",
    "#### For our second iteration, we brought in a larger dataset from the Fatal Encounters website, which includes the same information, but has a larger number of observations available. "
   ]
  },
  {
   "cell_type": "markdown",
   "metadata": {},
   "source": [
    "[Jump to Table of Contents](#toc)\n",
    "___\n",
    "# <a name=\"2nd-iteration-acquire-data\"></a>2nd Iteration: Acquire Data"
   ]
  },
  {
   "cell_type": "code",
   "execution_count": 54,
   "metadata": {},
   "outputs": [
    {
     "data": {
      "text/html": [
       "<div>\n",
       "<style scoped>\n",
       "    .dataframe tbody tr th:only-of-type {\n",
       "        vertical-align: middle;\n",
       "    }\n",
       "\n",
       "    .dataframe tbody tr th {\n",
       "        vertical-align: top;\n",
       "    }\n",
       "\n",
       "    .dataframe thead th {\n",
       "        text-align: right;\n",
       "    }\n",
       "</style>\n",
       "<table border=\"1\" class=\"dataframe\">\n",
       "  <thead>\n",
       "    <tr style=\"text-align: right;\">\n",
       "      <th></th>\n",
       "      <th>Unique ID</th>\n",
       "      <th>Name</th>\n",
       "      <th>Age</th>\n",
       "      <th>Gender</th>\n",
       "      <th>Race</th>\n",
       "      <th>Race with imputations</th>\n",
       "      <th>Imputation probability</th>\n",
       "      <th>URL of image (PLS NO HOTLINKS)</th>\n",
       "      <th>Date of injury resulting in death (month/day/year)</th>\n",
       "      <th>Location of injury (address)</th>\n",
       "      <th>...</th>\n",
       "      <th>Unnamed: 36</th>\n",
       "      <th>Unnamed: 37</th>\n",
       "      <th>Unnamed: 38</th>\n",
       "      <th>Unnamed: 39</th>\n",
       "      <th>Unnamed: 40</th>\n",
       "      <th>Unnamed: 41</th>\n",
       "      <th>Unnamed: 42</th>\n",
       "      <th>Unnamed: 43</th>\n",
       "      <th>Unnamed: 44</th>\n",
       "      <th>Unnamed: 45</th>\n",
       "    </tr>\n",
       "  </thead>\n",
       "  <tbody>\n",
       "    <tr>\n",
       "      <th>0</th>\n",
       "      <td>25746.0</td>\n",
       "      <td>Samuel H. Knapp</td>\n",
       "      <td>17</td>\n",
       "      <td>Male</td>\n",
       "      <td>European-American/White</td>\n",
       "      <td>European-American/White</td>\n",
       "      <td>Not imputed</td>\n",
       "      <td>NaN</td>\n",
       "      <td>2000-01-01</td>\n",
       "      <td>27898-27804 US-101</td>\n",
       "      <td>...</td>\n",
       "      <td>NaN</td>\n",
       "      <td>NaN</td>\n",
       "      <td>NaN</td>\n",
       "      <td>NaN</td>\n",
       "      <td>NaN</td>\n",
       "      <td>NaN</td>\n",
       "      <td>NaN</td>\n",
       "      <td>NaN</td>\n",
       "      <td>NaN</td>\n",
       "      <td>NaN</td>\n",
       "    </tr>\n",
       "    <tr>\n",
       "      <th>1</th>\n",
       "      <td>25747.0</td>\n",
       "      <td>Mark A. Horton</td>\n",
       "      <td>21</td>\n",
       "      <td>Male</td>\n",
       "      <td>African-American/Black</td>\n",
       "      <td>African-American/Black</td>\n",
       "      <td>Not imputed</td>\n",
       "      <td>NaN</td>\n",
       "      <td>2000-01-01</td>\n",
       "      <td>Davison Freeway</td>\n",
       "      <td>...</td>\n",
       "      <td>NaN</td>\n",
       "      <td>NaN</td>\n",
       "      <td>NaN</td>\n",
       "      <td>NaN</td>\n",
       "      <td>NaN</td>\n",
       "      <td>NaN</td>\n",
       "      <td>NaN</td>\n",
       "      <td>NaN</td>\n",
       "      <td>NaN</td>\n",
       "      <td>NaN</td>\n",
       "    </tr>\n",
       "    <tr>\n",
       "      <th>2</th>\n",
       "      <td>25748.0</td>\n",
       "      <td>Phillip A. Blurbridge</td>\n",
       "      <td>19</td>\n",
       "      <td>Male</td>\n",
       "      <td>African-American/Black</td>\n",
       "      <td>African-American/Black</td>\n",
       "      <td>Not imputed</td>\n",
       "      <td>NaN</td>\n",
       "      <td>2000-01-01</td>\n",
       "      <td>Davison Freeway</td>\n",
       "      <td>...</td>\n",
       "      <td>NaN</td>\n",
       "      <td>NaN</td>\n",
       "      <td>NaN</td>\n",
       "      <td>NaN</td>\n",
       "      <td>NaN</td>\n",
       "      <td>NaN</td>\n",
       "      <td>NaN</td>\n",
       "      <td>NaN</td>\n",
       "      <td>NaN</td>\n",
       "      <td>NaN</td>\n",
       "    </tr>\n",
       "    <tr>\n",
       "      <th>3</th>\n",
       "      <td>25749.0</td>\n",
       "      <td>Mark Ortiz</td>\n",
       "      <td>23</td>\n",
       "      <td>Male</td>\n",
       "      <td>Hispanic/Latino</td>\n",
       "      <td>Hispanic/Latino</td>\n",
       "      <td>Not imputed</td>\n",
       "      <td>NaN</td>\n",
       "      <td>2000-01-01</td>\n",
       "      <td>600 W Cherry Ln</td>\n",
       "      <td>...</td>\n",
       "      <td>NaN</td>\n",
       "      <td>NaN</td>\n",
       "      <td>NaN</td>\n",
       "      <td>NaN</td>\n",
       "      <td>NaN</td>\n",
       "      <td>NaN</td>\n",
       "      <td>NaN</td>\n",
       "      <td>NaN</td>\n",
       "      <td>NaN</td>\n",
       "      <td>NaN</td>\n",
       "    </tr>\n",
       "    <tr>\n",
       "      <th>4</th>\n",
       "      <td>1.0</td>\n",
       "      <td>LaTanya Janelle McCoy</td>\n",
       "      <td>24</td>\n",
       "      <td>Female</td>\n",
       "      <td>African-American/Black</td>\n",
       "      <td>African-American/Black</td>\n",
       "      <td>Not imputed</td>\n",
       "      <td>NaN</td>\n",
       "      <td>2000-01-02</td>\n",
       "      <td>5700 block Mack Road</td>\n",
       "      <td>...</td>\n",
       "      <td>NaN</td>\n",
       "      <td>NaN</td>\n",
       "      <td>NaN</td>\n",
       "      <td>NaN</td>\n",
       "      <td>NaN</td>\n",
       "      <td>NaN</td>\n",
       "      <td>NaN</td>\n",
       "      <td>NaN</td>\n",
       "      <td>NaN</td>\n",
       "      <td>NaN</td>\n",
       "    </tr>\n",
       "  </tbody>\n",
       "</table>\n",
       "<p>5 rows × 46 columns</p>\n",
       "</div>"
      ],
      "text/plain": [
       "   Unique ID                   Name Age  Gender                     Race  \\\n",
       "0    25746.0        Samuel H. Knapp  17    Male  European-American/White   \n",
       "1    25747.0         Mark A. Horton  21    Male   African-American/Black   \n",
       "2    25748.0  Phillip A. Blurbridge  19    Male   African-American/Black   \n",
       "3    25749.0             Mark Ortiz  23    Male          Hispanic/Latino   \n",
       "4        1.0  LaTanya Janelle McCoy  24  Female   African-American/Black   \n",
       "\n",
       "     Race with imputations Imputation probability  \\\n",
       "0  European-American/White            Not imputed   \n",
       "1   African-American/Black            Not imputed   \n",
       "2   African-American/Black            Not imputed   \n",
       "3          Hispanic/Latino            Not imputed   \n",
       "4   African-American/Black            Not imputed   \n",
       "\n",
       "  URL of image (PLS NO HOTLINKS)  \\\n",
       "0                            NaN   \n",
       "1                            NaN   \n",
       "2                            NaN   \n",
       "3                            NaN   \n",
       "4                            NaN   \n",
       "\n",
       "  Date of injury resulting in death (month/day/year)  \\\n",
       "0                                         2000-01-01   \n",
       "1                                         2000-01-01   \n",
       "2                                         2000-01-01   \n",
       "3                                         2000-01-01   \n",
       "4                                         2000-01-02   \n",
       "\n",
       "  Location of injury (address)  ... Unnamed: 36 Unnamed: 37  Unnamed: 38  \\\n",
       "0           27898-27804 US-101  ...         NaN         NaN          NaN   \n",
       "1              Davison Freeway  ...         NaN         NaN          NaN   \n",
       "2              Davison Freeway  ...         NaN         NaN          NaN   \n",
       "3              600 W Cherry Ln  ...         NaN         NaN          NaN   \n",
       "4         5700 block Mack Road  ...         NaN         NaN          NaN   \n",
       "\n",
       "  Unnamed: 39 Unnamed: 40 Unnamed: 41  Unnamed: 42 Unnamed: 43 Unnamed: 44  \\\n",
       "0         NaN         NaN         NaN          NaN         NaN         NaN   \n",
       "1         NaN         NaN         NaN          NaN         NaN         NaN   \n",
       "2         NaN         NaN         NaN          NaN         NaN         NaN   \n",
       "3         NaN         NaN         NaN          NaN         NaN         NaN   \n",
       "4         NaN         NaN         NaN          NaN         NaN         NaN   \n",
       "\n",
       "   Unnamed: 45  \n",
       "0          NaN  \n",
       "1          NaN  \n",
       "2          NaN  \n",
       "3          NaN  \n",
       "4          NaN  \n",
       "\n",
       "[5 rows x 46 columns]"
      ]
     },
     "execution_count": 54,
     "metadata": {},
     "output_type": "execute_result"
    }
   ],
   "source": [
    "# reads data from Fatal Encounters website's downloaded dataset\n",
    "df2 = pd.read_excel('new_data.xlsx')\n",
    "df2.head()"
   ]
  },
  {
   "cell_type": "markdown",
   "metadata": {
    "cell_id": "00005-ea5eacb0-381e-4567-b8bd-1753560cebb0",
    "deepnote_cell_type": "markdown",
    "tags": []
   },
   "source": [
    "\n",
    "### Initial Data Summarization"
   ]
  },
  {
   "cell_type": "code",
   "execution_count": 55,
   "metadata": {
    "cell_id": "00006-5d2f232c-210a-49b4-bc10-fe5180a4cbbf",
    "deepnote_cell_type": "code",
    "deepnote_to_be_reexecuted": false,
    "execution_millis": 13,
    "execution_start": 1622146116245,
    "source_hash": "cbfec6c2",
    "tags": []
   },
   "outputs": [
    {
     "data": {
      "text/plain": [
       "(30244, 46)"
      ]
     },
     "execution_count": 55,
     "metadata": {},
     "output_type": "execute_result"
    }
   ],
   "source": [
    "# rows and columns\n",
    "df2.shape"
   ]
  },
  {
   "cell_type": "code",
   "execution_count": 56,
   "metadata": {
    "cell_id": "00007-018846a9-0d7c-4c47-b9b5-1d66dbbf5cf5",
    "deepnote_cell_type": "code",
    "deepnote_to_be_reexecuted": false,
    "execution_millis": 27,
    "execution_start": 1622146116305,
    "source_hash": "5451bed5",
    "tags": []
   },
   "outputs": [
    {
     "name": "stdout",
     "output_type": "stream",
     "text": [
      "<class 'pandas.core.frame.DataFrame'>\n",
      "RangeIndex: 30244 entries, 0 to 30243\n",
      "Data columns (total 46 columns):\n",
      " #   Column                                                           Non-Null Count  Dtype         \n",
      "---  ------                                                           --------------  -----         \n",
      " 0   Unique ID                                                        30243 non-null  float64       \n",
      " 1   Name                                                             30244 non-null  object        \n",
      " 2   Age                                                              29121 non-null  object        \n",
      " 3   Gender                                                           30118 non-null  object        \n",
      " 4   Race                                                             30242 non-null  object        \n",
      " 5   Race with imputations                                            29718 non-null  object        \n",
      " 6   Imputation probability                                           29701 non-null  object        \n",
      " 7   URL of image (PLS NO HOTLINKS)                                   13993 non-null  object        \n",
      " 8   Date of injury resulting in death (month/day/year)               30244 non-null  datetime64[ns]\n",
      " 9   Location of injury (address)                                     29699 non-null  object        \n",
      " 10  Location of death (city)                                         30205 non-null  object        \n",
      " 11  State                                                            30243 non-null  object        \n",
      " 12  Location of death (zip code)                                     30060 non-null  float64       \n",
      " 13  Location of death (county)                                       30228 non-null  object        \n",
      " 14  Full Address                                                     30243 non-null  object        \n",
      " 15  Latitude                                                         30243 non-null  object        \n",
      " 16  Longitude                                                        30243 non-null  float64       \n",
      " 17  Agency or agencies involved                                      30168 non-null  object        \n",
      " 18  Highest level of force                                           30241 non-null  object        \n",
      " 19  UID Temporary                                                    2313 non-null   float64       \n",
      " 20  Name Temporary                                                   2313 non-null   object        \n",
      " 21  Armed/Unarmed                                                    13871 non-null  object        \n",
      " 22  Alleged weapon                                                   13869 non-null  object        \n",
      " 23  Aggressive physical movement                                     13872 non-null  object        \n",
      " 24  Fleeing/Not fleeing                                              13872 non-null  object        \n",
      " 25  Description Temp                                                 848 non-null    object        \n",
      " 26  URL Temp                                                         4 non-null      object        \n",
      " 27  Brief description                                                30243 non-null  object        \n",
      " 28  Dispositions/Exclusions INTERNAL USE, NOT FOR ANALYSIS           30242 non-null  object        \n",
      " 29  Intended use of force (Developing)                               30242 non-null  object        \n",
      " 30  Supporting document link                                         17515 non-null  object        \n",
      " 31  Foreknowledge of mental illness? INTERNAL USE, NOT FOR ANALYSIS  30182 non-null  object        \n",
      " 32  Unnamed: 32                                                      0 non-null      float64       \n",
      " 33  Unnamed: 33                                                      1 non-null      float64       \n",
      " 34  Unique ID formula                                                2 non-null      float64       \n",
      " 35  Unique identifier (redundant)                                    30242 non-null  float64       \n",
      " 36  Unnamed: 36                                                      0 non-null      float64       \n",
      " 37  Unnamed: 37                                                      14 non-null     object        \n",
      " 38  Unnamed: 38                                                      14 non-null     float64       \n",
      " 39  Unnamed: 39                                                      14 non-null     object        \n",
      " 40  Unnamed: 40                                                      14 non-null     object        \n",
      " 41  Unnamed: 41                                                      14 non-null     object        \n",
      " 42  Unnamed: 42                                                      14 non-null     object        \n",
      " 43  Unnamed: 43                                                      14 non-null     object        \n",
      " 44  Unnamed: 44                                                      14 non-null     object        \n",
      " 45  Unnamed: 45                                                      14 non-null     object        \n",
      "dtypes: datetime64[ns](1), float64(10), object(35)\n",
      "memory usage: 10.6+ MB\n"
     ]
    }
   ],
   "source": [
    "# list of column names and data types with information\n",
    "df2.info()"
   ]
  },
  {
   "cell_type": "code",
   "execution_count": 57,
   "metadata": {
    "cell_id": "00008-8f998e8d-ae4a-4ba5-8279-4865c7bfa027",
    "deepnote_cell_type": "code",
    "deepnote_to_be_reexecuted": false,
    "execution_millis": 81,
    "execution_start": 1622146116326,
    "source_hash": "f099b8f5",
    "tags": []
   },
   "outputs": [
    {
     "data": {
      "text/plain": [
       "Unique ID                                                              1\n",
       "Name                                                                   0\n",
       "Age                                                                 1123\n",
       "Gender                                                               126\n",
       "Race                                                                   2\n",
       "Race with imputations                                                526\n",
       "Imputation probability                                               543\n",
       "URL of image (PLS NO HOTLINKS)                                     16251\n",
       "Date of injury resulting in death (month/day/year)                     0\n",
       "Location of injury (address)                                         545\n",
       "Location of death (city)                                              39\n",
       "State                                                                  1\n",
       "Location of death (zip code)                                         184\n",
       "Location of death (county)                                            16\n",
       "Full Address                                                           1\n",
       "Latitude                                                               1\n",
       "Longitude                                                              1\n",
       "Agency or agencies involved                                           76\n",
       "Highest level of force                                                 3\n",
       "UID Temporary                                                      27931\n",
       "Name Temporary                                                     27931\n",
       "Armed/Unarmed                                                      16373\n",
       "Alleged weapon                                                     16375\n",
       "Aggressive physical movement                                       16372\n",
       "Fleeing/Not fleeing                                                16372\n",
       "Description Temp                                                   29396\n",
       "URL Temp                                                           30240\n",
       "Brief description                                                      1\n",
       "Dispositions/Exclusions INTERNAL USE, NOT FOR ANALYSIS                 2\n",
       "Intended use of force (Developing)                                     2\n",
       "Supporting document link                                           12729\n",
       "Foreknowledge of mental illness? INTERNAL USE, NOT FOR ANALYSIS       62\n",
       "Unnamed: 32                                                        30244\n",
       "Unnamed: 33                                                        30243\n",
       "Unique ID formula                                                  30242\n",
       "Unique identifier (redundant)                                          2\n",
       "Unnamed: 36                                                        30244\n",
       "Unnamed: 37                                                        30230\n",
       "Unnamed: 38                                                        30230\n",
       "Unnamed: 39                                                        30230\n",
       "Unnamed: 40                                                        30230\n",
       "Unnamed: 41                                                        30230\n",
       "Unnamed: 42                                                        30230\n",
       "Unnamed: 43                                                        30230\n",
       "Unnamed: 44                                                        30230\n",
       "Unnamed: 45                                                        30230\n",
       "dtype: int64"
      ]
     },
     "execution_count": 57,
     "metadata": {},
     "output_type": "execute_result"
    }
   ],
   "source": [
    "# check nulls\n",
    "df2.isnull().sum()"
   ]
  },
  {
   "cell_type": "code",
   "execution_count": 72,
   "metadata": {
    "cell_id": "00009-257db45d-1ca4-4fad-ba55-676b073d7f96",
    "deepnote_cell_type": "code",
    "deepnote_to_be_reexecuted": false,
    "execution_millis": 238,
    "execution_start": 1622146116442,
    "source_hash": "593fb024",
    "tags": []
   },
   "outputs": [
    {
     "name": "stdout",
     "output_type": "stream",
     "text": [
      "AGE\n",
      "22      912\n",
      "25      895\n",
      "24      862\n",
      "21      848\n",
      "27      848\n",
      "       ... \n",
      ".66       1\n",
      "93        1\n",
      ".17       1\n",
      ".33       1\n",
      "0.25      1\n",
      "Name: Age, Length: 195, dtype: int64\n",
      "-------------------------------------\n",
      "GENDER\n",
      "Male           27200\n",
      "Female          2898\n",
      "Transgender       20\n",
      "Name: Gender, dtype: int64\n",
      "-------------------------------------\n",
      "RACE\n",
      "European-American/White    10148\n",
      "Race unspecified            8500\n",
      "African-American/Black      6732\n",
      "Hispanic/Latino             4030\n",
      "Asian/Pacific Islander       468\n",
      "Native American/Alaskan      313\n",
      "Middle Eastern                50\n",
      "european-American/White        1\n",
      "Name: Race, dtype: int64\n",
      "-------------------------------------\n",
      "RACE WITH IMPUTATIONS\n",
      "European-American/White    14258\n",
      "African-American/Black      8281\n",
      "Hispanic/Latino             4960\n",
      "Race unspecified            1292\n",
      "Asian/Pacific Islander       561\n",
      "Native American/Alaskan      313\n",
      "Middle Eastern                50\n",
      "HIspanic/Latino                2\n",
      "european-American/White        1\n",
      "Name: Race with imputations, dtype: int64\n",
      "-------------------------------------\n",
      "LOCATION OF DEATH (CITY)\n",
      "Houston        472\n",
      "Chicago        463\n",
      "Los Angeles    417\n",
      "Phoenix        269\n",
      "San Antonio    250\n",
      "              ... \n",
      "Hatch            1\n",
      "Pawhuska         1\n",
      "Sealy            1\n",
      "Grottoes         1\n",
      "Elm Creek        1\n",
      "Name: Location of death (city), Length: 6167, dtype: int64\n",
      "-------------------------------------\n",
      "STATE\n",
      "CA    4831\n",
      "TX    2690\n",
      "FL    1834\n",
      "GA    1143\n",
      "IL    1091\n",
      "OH     989\n",
      "PA     956\n",
      "MO     912\n",
      "AZ     884\n",
      "MI     874\n",
      "OK     699\n",
      "NY     686\n",
      "AL     672\n",
      "WA     661\n",
      "CO     659\n",
      "TN     656\n",
      "NC     641\n",
      "LA     632\n",
      "VA     624\n",
      "SC     593\n",
      "IN     580\n",
      "MD     534\n",
      "NJ     526\n",
      "WI     455\n",
      "MS     423\n",
      "NM     418\n",
      "KS     410\n",
      "KY     409\n",
      "NV     400\n",
      "AR     372\n",
      "MN     346\n",
      "OR     343\n",
      "IA     280\n",
      "UT     252\n",
      "NE     204\n",
      "MA     202\n",
      "WV     183\n",
      "ID     151\n",
      "CT     142\n",
      "AK     124\n",
      "HI     111\n",
      "MT     109\n",
      "ME     102\n",
      "DC      87\n",
      "DE      62\n",
      "NH      62\n",
      "WY      61\n",
      "SD      59\n",
      "VT      40\n",
      "ND      39\n",
      "RI      30\n",
      "Name: State, dtype: int64\n",
      "-------------------------------------\n",
      "HIGHEST LEVEL OF FORCE\n",
      "Gunshot                              21359\n",
      "Vehicle                               6326\n",
      "Tasered                                920\n",
      "Medical emergency                      387\n",
      "Asphyxiated/Restrained                 322\n",
      "Drowned                                197\n",
      "Drug overdose                          183\n",
      "Beaten/Bludgeoned with instrument      178\n",
      "Undetermined                           101\n",
      "Fell from a height                      79\n",
      "Other                                   61\n",
      "Stabbed                                 51\n",
      "Burned/Smoke inhalation                 41\n",
      "Chemical agent/Pepper spray             35\n",
      "Restrain/Asphyxiation                    1\n",
      "Name: Highest level of force, dtype: int64\n",
      "-------------------------------------\n",
      "ARMED/UNARMED\n",
      "Armed                  8596\n",
      "Unarmed                4951\n",
      "Uncertain               310\n",
      "None                      5\n",
      "Unarmed                   3\n",
      "Duplicate of 12398        1\n",
      "Duplicate of 13457?       1\n",
      "Duplicate of 12360        1\n",
      "Gunshot                   1\n",
      "                          1\n",
      "Duplicate of 13419?       1\n",
      "Name: Armed/Unarmed, dtype: int64\n",
      "-------------------------------------\n",
      "ALLEGED WEAPON\n",
      "None                           4955\n",
      "Firearm/Handgun                2886\n",
      "Firearm/Gun                    2410\n",
      "Edged weapon/Knife             1178\n",
      "Firearm/Rifle                   546\n",
      "                               ... \n",
      "Edged weapon/Tomahawk             1\n",
      "Edged weapon/Souvenir sword       1\n",
      "Blunt object/Mallet               1\n",
      "Blunt object/Metal stake          1\n",
      "Other/M-80 fireworks              1\n",
      "Name: Alleged weapon, Length: 215, dtype: int64\n",
      "-------------------------------------\n",
      "AGGRESSIVE PHYSICAL MOVEMENT\n",
      "None                                          3672\n",
      "Brandished weapon                             2855\n",
      "Used weapon                                   2170\n",
      "Self-inflicted injury                         1684\n",
      "Advanced toward officer(s)                    1086\n",
      "Struggled                                      873\n",
      "Uncertain                                      643\n",
      "Sudden threatening movement                    326\n",
      "None/Police alleged vehicular assault          309\n",
      "Reached to waist                               140\n",
      "Intentional vehicular assault                   54\n",
      "Advanced upon officer(s)                        15\n",
      "None/Police alleged vehicular assault.          15\n",
      "Self-inflicted Injury                            7\n",
      "Uncertain/Police alleged vehicular assault       5\n",
      "Used Weapon                                      4\n",
      "None. Police alleged vehicular assault.          2\n",
      " Advanced toward officer(s)                      1\n",
      "Duplicate of 13457?                              1\n",
      "Edged weapon/Unspecified                         1\n",
      "Duplicate of 12360                               1\n",
      "Sudden Threatening Movement                      1\n",
      "Reached to waist                                 1\n",
      "None/Police allege vehicular assault             1\n",
      "None.                                            1\n",
      "Police allege vehicular assault                  1\n",
      "                                                 1\n",
      "Duplicate of 13419?                              1\n",
      "Duplicate of 12398                               1\n",
      "Name: Aggressive physical movement, dtype: int64\n",
      "-------------------------------------\n",
      "FLEEING/NOT FLEEING\n",
      "Not fleeing                                   8813\n",
      "Fleeing/Vehicle                               3071\n",
      "Fleeing/Foot                                  1543\n",
      "Fleeing/Motorcycle                             266\n",
      "Uncertain                                      137\n",
      "Fleeing/Bicycle                                 16\n",
      "Vehicle                                          7\n",
      "None                                             2\n",
      "Not Fleeing                                      2\n",
      "Vehicle/Fleeing                                  2\n",
      "Foot                                             1\n",
      "Fleeling/Vehicle                                 1\n",
      "Vehicle/Motorcycle                               1\n",
      "Duplicate of 12360                               1\n",
      "Fleeing/Veh                                      1\n",
      "Fleeing/vehicle                                  1\n",
      "Fleeing/Skateboard                               1\n",
      "Duplicate of 13457?                              1\n",
      "Uncertain/Police alleged vehicular assault       1\n",
      "                                                 1\n",
      "Duplicate of 13419?                              1\n",
      "Duplicate of 12398                               1\n",
      "Motorcycle                                       1\n",
      "Name: Fleeing/Not fleeing, dtype: int64\n",
      "-------------------------------------\n",
      "DISPOSITIONS/EXCLUSIONS INTERNAL USE, NOT FOR ANALYSIS\n",
      "Unreported                                                                               10389\n",
      "Pending investigation                                                                     6996\n",
      "Justified                                                                                 3988\n",
      "Suicide                                                                                   2768\n",
      "Criminal                                                                                  1409\n",
      "                                                                                         ...  \n",
      "Justified by special prosecutor                                                              1\n",
      "/Off-duty/Officer indicted/Pending                                                           1\n",
      "Justified by Commonwealth’s Attorney                                                         1\n",
      "Administrative discipline/Civil suit/Family awarded money/Justified by outside agency        1\n",
      "Officer incidicted/Pending                                                                   1\n",
      "Name: Dispositions/Exclusions INTERNAL USE, NOT FOR ANALYSIS, Length: 139, dtype: int64\n",
      "-------------------------------------\n",
      "INTENDED USE OF FORCE (DEVELOPING)\n",
      "Deadly force              18173\n",
      "Vehic/Purs                 3783\n",
      "Suicide                    3184\n",
      "Pursuit                    2135\n",
      "Less-than-lethal force     1710\n",
      "No                          857\n",
      "Vehicle                     352\n",
      "Undetermined                 48\n",
      "Name: Intended use of force (Developing), dtype: int64\n",
      "-------------------------------------\n",
      "FOREKNOWLEDGE OF MENTAL ILLNESS? INTERNAL USE, NOT FOR ANALYSIS\n",
      "No                     20468\n",
      "Unknown                 4833\n",
      "Yes                     3347\n",
      "Drug or alcohol use     1534\n",
      "Name: Foreknowledge of mental illness? INTERNAL USE, NOT FOR ANALYSIS, dtype: int64\n",
      "-------------------------------------\n"
     ]
    }
   ],
   "source": [
    "# specify useless columns and what to exclude for counts\n",
    "useless_columns = df2.columns[32:]\n",
    "exclusions = ['Unique ID', \n",
    "              'Name',\n",
    "              'URL of image (PLS NO HOTLINKS)', \n",
    "              'Date of injury resulting in death (month/day/year)', \n",
    "              'zipcode', \n",
    "              'county', \n",
    "              'city', \n",
    "              'agency_responsible', \n",
    "              'description_of_circumstances', \n",
    "              'official_disposition',\n",
    "              'Imputation probability', \n",
    "              'Location of injury (address)', \n",
    "              'Location of death (zip code)', \n",
    "              'Location of death (county)', \n",
    "              'Full Address', \n",
    "              'Latitude', \n",
    "              'Longitude', \n",
    "              'Agency or agencies involved', \n",
    "              'UID Temporary', \n",
    "              'Name Temporary', \n",
    "              'Description Temp', \n",
    "              'URL Temp', \n",
    "              'Brief description', \n",
    "              'Supporting document link']\n",
    "\n",
    "# getting value counts for specific columns\n",
    "for column in df2.columns:\n",
    "    if column not in useless_columns and column not in exclusions:\n",
    "        print(column.upper())\n",
    "        print(df2[column].value_counts())\n",
    "        print(\"-------------------------------------\")"
   ]
  },
  {
   "cell_type": "code",
   "execution_count": 82,
   "metadata": {
    "cell_id": "00010-ea33bcf8-01ec-41a2-9578-c4e0a7aba1b8",
    "deepnote_cell_type": "code",
    "deepnote_to_be_reexecuted": false,
    "execution_millis": 1,
    "execution_start": 1622146116683,
    "source_hash": "10cf5780",
    "tags": []
   },
   "outputs": [
    {
     "name": "stdout",
     "output_type": "stream",
     "text": [
      "------------------------------------------------------\n",
      "------------------------------------------------------\n"
     ]
    },
    {
     "data": {
      "image/png": "[encoded data removed]",
      "text/plain": [
       "<Figure size 432x288 with 1 Axes>"
      ]
     },
     "metadata": {
      "needs_background": "light"
     },
     "output_type": "display_data"
    },
    {
     "name": "stdout",
     "output_type": "stream",
     "text": [
      "------------------------------------------------------\n",
      "------------------------------------------------------\n"
     ]
    },
    {
     "data": {
      "image/png": "[encoded data removed]",
      "text/plain": [
       "<Figure size 432x288 with 1 Axes>"
      ]
     },
     "metadata": {
      "needs_background": "light"
     },
     "output_type": "display_data"
    },
    {
     "name": "stdout",
     "output_type": "stream",
     "text": [
      "------------------------------------------------------\n",
      "------------------------------------------------------\n"
     ]
    },
    {
     "data": {
      "image/png": "[encoded data removed]",
      "text/plain": [
       "<Figure size 432x288 with 1 Axes>"
      ]
     },
     "metadata": {
      "needs_background": "light"
     },
     "output_type": "display_data"
    },
    {
     "name": "stdout",
     "output_type": "stream",
     "text": [
      "------------------------------------------------------\n",
      "------------------------------------------------------\n"
     ]
    },
    {
     "data": {
      "image/png": "[encoded data removed]",
      "text/plain": [
       "<Figure size 432x288 with 1 Axes>"
      ]
     },
     "metadata": {
      "needs_background": "light"
     },
     "output_type": "display_data"
    },
    {
     "name": "stdout",
     "output_type": "stream",
     "text": [
      "------------------------------------------------------\n",
      "------------------------------------------------------\n"
     ]
    },
    {
     "data": {
      "image/png": "[encoded data removed]",
      "text/plain": [
       "<Figure size 432x288 with 1 Axes>"
      ]
     },
     "metadata": {
      "needs_background": "light"
     },
     "output_type": "display_data"
    }
   ],
   "source": [
    "# univariate distributions\n",
    "more_exclusions = ['Age', \n",
    "                   'Location of death (city)', \n",
    "                   'State', \n",
    "                   'Highest level of force', \n",
    "                   'Alleged weapon', \n",
    "                   'Aggressive physical movement', \n",
    "                   'Fleeing/Not fleeing', \n",
    "                   'Dispositions/Exclusions INTERNAL USE, NOT FOR ANALYSIS', \n",
    "                   'Foreknowledge of mental illness? INTERNAL USE, NOT FOR ANALYSIS']\n",
    "\n",
    "for column in df2.columns:\n",
    "    if column not in exclusions and column not in useless_columns and column not in more_exclusions:\n",
    "        sns.countplot(x=df2[column], data=df2, palette = 'ocean_r')\n",
    "        print(\"------------------------------------------------------\")\n",
    "        print(\"------------------------------------------------------\")\n",
    "        plt.xticks(rotation=65)\n",
    "        plt.show()\n"
   ]
  },
  {
   "cell_type": "markdown",
   "metadata": {
    "cell_id": "00011-2327c1b1-b2e3-4fd2-944b-3bbbdccd33a3",
    "deepnote_cell_type": "markdown",
    "tags": []
   },
   "source": [
    "### Takeaways\n",
    "- "
   ]
  },
  {
   "cell_type": "markdown",
   "metadata": {},
   "source": [
    "[Jump to Table of Contents](#toc)\n",
    "___\n",
    "# <a name=\"2nd-iteration-prepare-and-split-data\"></a>2nd Iteration: Prepare and Split Data"
   ]
  },
  {
   "cell_type": "code",
   "execution_count": 8,
   "metadata": {
    "cell_id": "00013-43b949b3-c6c4-4c17-bb0e-fcde2e6194fb",
    "deepnote_cell_type": "code",
    "deepnote_to_be_reexecuted": false,
    "execution_millis": 246,
    "execution_start": 1622146116691,
    "source_hash": "2455ae76",
    "tags": []
   },
   "outputs": [],
   "source": [
    "#grab cleaned data frame from wrangle.py\n",
    "df = w.wrangle_new_data(cached=True).drop(columns='Unnamed: 0')\n",
    "df.head()"
   ]
  },
  {
   "cell_type": "code",
   "execution_count": 9,
   "metadata": {
    "cell_id": "00014-48bff273-8601-449c-be2f-4cc825232c88",
    "deepnote_cell_type": "code",
    "deepnote_to_be_reexecuted": false,
    "execution_millis": 9,
    "execution_start": 1622146116941,
    "source_hash": "14f60b8f",
    "tags": []
   },
   "outputs": [
    {
     "data": {
      "text/plain": [
       "(13265, 37)"
      ]
     },
     "execution_count": 9,
     "metadata": {},
     "output_type": "execute_result"
    }
   ],
   "source": [
    "df.shape"
   ]
  },
  {
   "cell_type": "code",
   "execution_count": 10,
   "metadata": {
    "cell_id": "00015-2a886b01-fb30-4999-bead-2fce5d76d8dc",
    "deepnote_cell_type": "code",
    "deepnote_to_be_reexecuted": false,
    "execution_millis": 15,
    "execution_start": 1622146116958,
    "source_hash": "1bd18b6b",
    "tags": []
   },
   "outputs": [],
   "source": [
    "df.dropna(inplace=True)"
   ]
  },
  {
   "cell_type": "code",
   "execution_count": 11,
   "metadata": {
    "cell_id": "00016-9a776d67-9ef8-4f77-97f6-00c80beae4e1",
    "deepnote_cell_type": "code",
    "deepnote_to_be_reexecuted": false,
    "execution_millis": 1,
    "execution_start": 1622146116981,
    "source_hash": "f05bfa07",
    "tags": []
   },
   "outputs": [],
   "source": [
    "df.rename(columns={'aggressive_physical_movement' : 'alleged_threat_lvl'}, inplace=True)"
   ]
  },
  {
   "cell_type": "code",
   "execution_count": 12,
   "metadata": {
    "cell_id": "00015-86109066-5d1c-4692-8bbc-154748f1be79",
    "deepnote_cell_type": "code",
    "deepnote_to_be_reexecuted": false,
    "execution_millis": 11,
    "execution_start": 1622146117016,
    "source_hash": "7dff3e6b",
    "tags": []
   },
   "outputs": [
    {
     "data": {
      "text/plain": [
       "unique_id                                           0\n",
       "age                                                 0\n",
       "gender                                              0\n",
       "race                                                0\n",
       "date_of_injury_resulting_in_death_month_day_year    0\n",
       "location_of_death_zip_code                          0\n",
       "agency_or_agencies_involved                         0\n",
       "highest_level_of_force                              0\n",
       "armed_unarmed                                       0\n",
       "alleged_weapon                                      0\n",
       "alleged_threat_lvl                                  0\n",
       "fleeing_not_fleeing                                 0\n",
       "brief_description                                   0\n",
       "intended_use_of_force_developing                    0\n",
       "fleeing                                             0\n",
       "age_bins                                            0\n",
       "is_asian_pacific islander                           0\n",
       "is_black                                            0\n",
       "is_hispanic                                         0\n",
       "is_middle eastern                                   0\n",
       "is_native_american                                  0\n",
       "is_unknown_race                                     0\n",
       "is_white                                            0\n",
       "is_unarmed                                          0\n",
       "had_blunt object                                    0\n",
       "had_edged weapon                                    0\n",
       "had_firearm                                         0\n",
       "had_no_weapon                                       0\n",
       "had_other_weapon                                    0\n",
       "under 12                                            0\n",
       "12-17                                               0\n",
       "18-24                                               0\n",
       "25-34                                               0\n",
       "35-44                                               0\n",
       "45-54                                               0\n",
       "55-64                                               0\n",
       "65+                                                 0\n",
       "dtype: int64"
      ]
     },
     "execution_count": 12,
     "metadata": {},
     "output_type": "execute_result"
    }
   ],
   "source": [
    "#double check no nulls\n",
    "df.isnull().sum()"
   ]
  },
  {
   "cell_type": "code",
   "execution_count": 13,
   "metadata": {
    "cell_id": "00016-87917369-83f9-4b91-a770-8d858c538d79",
    "deepnote_cell_type": "code",
    "deepnote_to_be_reexecuted": false,
    "execution_millis": 10,
    "execution_start": 1622146117017,
    "source_hash": "3edc948f",
    "tags": []
   },
   "outputs": [
    {
     "data": {
      "text/plain": [
       "unique_id                                           float64\n",
       "age                                                 float64\n",
       "gender                                               object\n",
       "race                                                 object\n",
       "date_of_injury_resulting_in_death_month_day_year     object\n",
       "location_of_death_zip_code                          float64\n",
       "agency_or_agencies_involved                          object\n",
       "highest_level_of_force                               object\n",
       "armed_unarmed                                        object\n",
       "alleged_weapon                                       object\n",
       "alleged_threat_lvl                                   object\n",
       "fleeing_not_fleeing                                  object\n",
       "brief_description                                    object\n",
       "intended_use_of_force_developing                     object\n",
       "fleeing                                             float64\n",
       "age_bins                                             object\n",
       "is_asian_pacific islander                             int64\n",
       "is_black                                              int64\n",
       "is_hispanic                                           int64\n",
       "is_middle eastern                                     int64\n",
       "is_native_american                                    int64\n",
       "is_unknown_race                                       int64\n",
       "is_white                                              int64\n",
       "is_unarmed                                            int64\n",
       "had_blunt object                                      int64\n",
       "had_edged weapon                                      int64\n",
       "had_firearm                                           int64\n",
       "had_no_weapon                                         int64\n",
       "had_other_weapon                                      int64\n",
       "under 12                                            float64\n",
       "12-17                                               float64\n",
       "18-24                                               float64\n",
       "25-34                                               float64\n",
       "35-44                                               float64\n",
       "45-54                                               float64\n",
       "55-64                                               float64\n",
       "65+                                                 float64\n",
       "dtype: object"
      ]
     },
     "execution_count": 13,
     "metadata": {},
     "output_type": "execute_result"
    }
   ],
   "source": [
    "#double check data types\n",
    "df.dtypes"
   ]
  },
  {
   "cell_type": "code",
   "execution_count": 14,
   "metadata": {
    "cell_id": "00017-db1c26c9-8fdf-4d95-b1c6-4e875ac760b6",
    "deepnote_cell_type": "code",
    "deepnote_to_be_reexecuted": false,
    "execution_millis": 138,
    "execution_start": 1622146117066,
    "source_hash": "be21ca7a",
    "tags": []
   },
   "outputs": [
    {
     "name": "stdout",
     "output_type": "stream",
     "text": [
      "overall shape of dataframe: (13137, 37)\n",
      "train: (7356, 37)\n",
      "validate: (3153, 37)\n",
      "test: (2628, 37)\n"
     ]
    },
    {
     "data": {
      "application/vnd.deepnote.dataframe.v2+json": {
       "column_count": 37,
       "columns": [
        {
         "dtype": "float64",
         "name": "unique_id",
         "stats": {
          "histogram": [
           {
            "bin_end": 13764.1,
            "bin_start": 12221,
            "count": 2
           },
           {
            "bin_end": 15307.2,
            "bin_start": 13764.1,
            "count": 0
           },
           {
            "bin_end": 16850.3,
            "bin_start": 15307.2,
            "count": 0
           },
           {
            "bin_end": 18393.4,
            "bin_start": 16850.3,
            "count": 1
           },
           {
            "bin_end": 19936.5,
            "bin_start": 18393.4,
            "count": 0
           },
           {
            "bin_end": 21479.6,
            "bin_start": 19936.5,
            "count": 0
           },
           {
            "bin_end": 23022.699999999997,
            "bin_start": 21479.6,
            "count": 0
           },
           {
            "bin_end": 24565.8,
            "bin_start": 23022.699999999997,
            "count": 0
           },
           {
            "bin_end": 26108.9,
            "bin_start": 24565.8,
            "count": 0
           },
           {
            "bin_end": 27652,
            "bin_start": 26108.9,
            "count": 2
           }
          ],
          "max": "27652.0",
          "min": "12221.0",
          "nan_count": 0,
          "unique_count": 5
         }
        },
        {
         "dtype": "float64",
         "name": "age",
         "stats": {
          "histogram": [
           {
            "bin_end": 21.4,
            "bin_start": 17,
            "count": 1
           },
           {
            "bin_end": 25.8,
            "bin_start": 21.4,
            "count": 0
           },
           {
            "bin_end": 30.200000000000003,
            "bin_start": 25.8,
            "count": 1
           },
           {
            "bin_end": 34.6,
            "bin_start": 30.200000000000003,
            "count": 0
           },
           {
            "bin_end": 39,
            "bin_start": 34.6,
            "count": 1
           },
           {
            "bin_end": 43.400000000000006,
            "bin_start": 39,
            "count": 0
           },
           {
            "bin_end": 47.800000000000004,
            "bin_start": 43.400000000000006,
            "count": 0
           },
           {
            "bin_end": 52.2,
            "bin_start": 47.800000000000004,
            "count": 1
           },
           {
            "bin_end": 56.6,
            "bin_start": 52.2,
            "count": 0
           },
           {
            "bin_end": 61,
            "bin_start": 56.6,
            "count": 1
           }
          ],
          "max": "61.0",
          "min": "17.0",
          "nan_count": 0,
          "unique_count": 5
         }
        },
        {
         "dtype": "object",
         "name": "gender",
         "stats": {
          "categories": [
           {
            "count": 5,
            "name": "male"
           }
          ],
          "nan_count": 0,
          "unique_count": 1
         }
        },
        {
         "dtype": "object",
         "name": "race",
         "stats": {
          "categories": [
           {
            "count": 2,
            "name": "black"
           },
           {
            "count": 2,
            "name": "white"
           },
           {
            "count": 1,
            "name": "unknown_race"
           }
          ],
          "nan_count": 0,
          "unique_count": 3
         }
        },
        {
         "dtype": "object",
         "name": "date_of_injury_resulting_in_death_month_day_year",
         "stats": {
          "categories": [
           {
            "count": 1,
            "name": "2020-03-03"
           },
           {
            "count": 1,
            "name": "2016-07-02 00:00:00"
           },
           {
            "count": 3,
            "name": "3 others"
           }
          ],
          "nan_count": 0,
          "unique_count": 5
         }
        },
        {
         "dtype": "float64",
         "name": "location_of_death_zip_code",
         "stats": {
          "histogram": [
           {
            "bin_end": 9915.3,
            "bin_start": 1569,
            "count": 1
           },
           {
            "bin_end": 18261.6,
            "bin_start": 9915.3,
            "count": 0
           },
           {
            "bin_end": 26607.899999999998,
            "bin_start": 18261.6,
            "count": 0
           },
           {
            "bin_end": 34954.2,
            "bin_start": 26607.899999999998,
            "count": 3
           },
           {
            "bin_end": 43300.5,
            "bin_start": 34954.2,
            "count": 0
           },
           {
            "bin_end": 51646.799999999996,
            "bin_start": 43300.5,
            "count": 0
           },
           {
            "bin_end": 59993.09999999999,
            "bin_start": 51646.799999999996,
            "count": 0
           },
           {
            "bin_end": 68339.4,
            "bin_start": 59993.09999999999,
            "count": 0
           },
           {
            "bin_end": 76685.7,
            "bin_start": 68339.4,
            "count": 0
           },
           {
            "bin_end": 85032,
            "bin_start": 76685.7,
            "count": 1
           }
          ],
          "max": "85032.0",
          "min": "1569.0",
          "nan_count": 0,
          "unique_count": 5
         }
        },
        {
         "dtype": "object",
         "name": "agency_or_agencies_involved",
         "stats": {
          "categories": [
           {
            "count": 1,
            "name": "miami-dade police department"
           },
           {
            "count": 1,
            "name": "asheville police department"
           },
           {
            "count": 3,
            "name": "3 others"
           }
          ],
          "nan_count": 0,
          "unique_count": 5
         }
        },
        {
         "dtype": "object",
         "name": "highest_level_of_force",
         "stats": {
          "categories": [
           {
            "count": 4,
            "name": "gunshot"
           },
           {
            "count": 1,
            "name": "vehicle"
           }
          ],
          "nan_count": 0,
          "unique_count": 2
         }
        },
        {
         "dtype": "object",
         "name": "armed_unarmed",
         "stats": {
          "categories": [
           {
            "count": 4,
            "name": "armed"
           },
           {
            "count": 1,
            "name": "unarmed"
           }
          ],
          "nan_count": 0,
          "unique_count": 2
         }
        },
        {
         "dtype": "object",
         "name": "alleged_weapon",
         "stats": {
          "categories": [
           {
            "count": 3,
            "name": "firearm"
           },
           {
            "count": 1,
            "name": "edged weapon"
           },
           {
            "count": 1,
            "name": "no_weapon"
           }
          ],
          "nan_count": 0,
          "unique_count": 3
         }
        },
        {
         "dtype": "object",
         "name": "alleged_threat_lvl",
         "stats": {
          "categories": [
           {
            "count": 4,
            "name": "threat"
           },
           {
            "count": 1,
            "name": "no_threat"
           }
          ],
          "nan_count": 0,
          "unique_count": 2
         }
        },
        {
         "dtype": "object",
         "name": "fleeing_not_fleeing",
         "stats": {
          "categories": [
           {
            "count": 3,
            "name": "not_fleeing"
           },
           {
            "count": 2,
            "name": "fleeing"
           }
          ],
          "nan_count": 0,
          "unique_count": 2
         }
        },
        {
         "dtype": "object",
         "name": "brief_description",
         "stats": {
          "categories": [
           {
            "count": 1,
            "name": "jose gainza allegedly stabbed and killed his daughter-in-law, ana iris rodriguez reyes, 27, then barricaded himself inside a bedroom as police entered the home. when gainza emerged from the bedroom, he reportedly ran toward officers with the knife, and they shot and killed him."
           },
           {
            "count": 1,
            "name": "police said they were called out to a report of shots fired at the pisgah view apartments. they attempted to stop a man who was driving away and who was later found at the deaverview apartments. police said a female passenger in williams' vehicle appeared to be struggling and she called for help when the vehicle stopped at the apartment complex. williams allegedly made a threat to sgt. tyler radford and displayed a weapon, who then shot and killed him."
           },
           {
            "count": 3,
            "name": "3 others"
           }
          ],
          "nan_count": 0,
          "unique_count": 5
         }
        },
        {
         "dtype": "object",
         "name": "intended_use_of_force_developing",
         "stats": {
          "categories": [
           {
            "count": 4,
            "name": "deadly force"
           },
           {
            "count": 1,
            "name": "vehic/purs"
           }
          ],
          "nan_count": 0,
          "unique_count": 2
         }
        },
        {
         "dtype": "float64",
         "name": "fleeing",
         "stats": {
          "histogram": [
           {
            "bin_end": 0.1,
            "bin_start": 0,
            "count": 3
           },
           {
            "bin_end": 0.2,
            "bin_start": 0.1,
            "count": 0
           },
           {
            "bin_end": 0.30000000000000004,
            "bin_start": 0.2,
            "count": 0
           },
           {
            "bin_end": 0.4,
            "bin_start": 0.30000000000000004,
            "count": 0
           },
           {
            "bin_end": 0.5,
            "bin_start": 0.4,
            "count": 0
           },
           {
            "bin_end": 0.6000000000000001,
            "bin_start": 0.5,
            "count": 0
           },
           {
            "bin_end": 0.7000000000000001,
            "bin_start": 0.6000000000000001,
            "count": 0
           },
           {
            "bin_end": 0.8,
            "bin_start": 0.7000000000000001,
            "count": 0
           },
           {
            "bin_end": 0.9,
            "bin_start": 0.8,
            "count": 0
           },
           {
            "bin_end": 1,
            "bin_start": 0.9,
            "count": 2
           }
          ],
          "max": "1.0",
          "min": "0.0",
          "nan_count": 0,
          "unique_count": 2
         }
        },
        {
         "dtype": "object",
         "name": "age_bins",
         "stats": {
          "categories": [
           {
            "count": 1,
            "name": "45-54"
           },
           {
            "count": 1,
            "name": "35-44"
           },
           {
            "count": 3,
            "name": "3 others"
           }
          ],
          "nan_count": 0,
          "unique_count": 5
         }
        },
        {
         "dtype": "int64",
         "name": "is_asian_pacific islander",
         "stats": {
          "histogram": [
           {
            "bin_end": -0.4,
            "bin_start": -0.5,
            "count": 0
           },
           {
            "bin_end": -0.3,
            "bin_start": -0.4,
            "count": 0
           },
           {
            "bin_end": -0.19999999999999996,
            "bin_start": -0.3,
            "count": 0
           },
           {
            "bin_end": -0.09999999999999998,
            "bin_start": -0.19999999999999996,
            "count": 0
           },
           {
            "bin_end": 0,
            "bin_start": -0.09999999999999998,
            "count": 0
           },
           {
            "bin_end": 0.10000000000000009,
            "bin_start": 0,
            "count": 5
           },
           {
            "bin_end": 0.20000000000000007,
            "bin_start": 0.10000000000000009,
            "count": 0
           },
           {
            "bin_end": 0.30000000000000004,
            "bin_start": 0.20000000000000007,
            "count": 0
           },
           {
            "bin_end": 0.4,
            "bin_start": 0.30000000000000004,
            "count": 0
           },
           {
            "bin_end": 0.5,
            "bin_start": 0.4,
            "count": 0
           }
          ],
          "max": "0",
          "min": "0",
          "nan_count": 0,
          "unique_count": 1
         }
        },
        {
         "dtype": "int64",
         "name": "is_black",
         "stats": {
          "histogram": [
           {
            "bin_end": 0.1,
            "bin_start": 0,
            "count": 3
           },
           {
            "bin_end": 0.2,
            "bin_start": 0.1,
            "count": 0
           },
           {
            "bin_end": 0.30000000000000004,
            "bin_start": 0.2,
            "count": 0
           },
           {
            "bin_end": 0.4,
            "bin_start": 0.30000000000000004,
            "count": 0
           },
           {
            "bin_end": 0.5,
            "bin_start": 0.4,
            "count": 0
           },
           {
            "bin_end": 0.6000000000000001,
            "bin_start": 0.5,
            "count": 0
           },
           {
            "bin_end": 0.7000000000000001,
            "bin_start": 0.6000000000000001,
            "count": 0
           },
           {
            "bin_end": 0.8,
            "bin_start": 0.7000000000000001,
            "count": 0
           },
           {
            "bin_end": 0.9,
            "bin_start": 0.8,
            "count": 0
           },
           {
            "bin_end": 1,
            "bin_start": 0.9,
            "count": 2
           }
          ],
          "max": "1",
          "min": "0",
          "nan_count": 0,
          "unique_count": 2
         }
        },
        {
         "dtype": "int64",
         "name": "is_hispanic",
         "stats": {
          "histogram": [
           {
            "bin_end": -0.4,
            "bin_start": -0.5,
            "count": 0
           },
           {
            "bin_end": -0.3,
            "bin_start": -0.4,
            "count": 0
           },
           {
            "bin_end": -0.19999999999999996,
            "bin_start": -0.3,
            "count": 0
           },
           {
            "bin_end": -0.09999999999999998,
            "bin_start": -0.19999999999999996,
            "count": 0
           },
           {
            "bin_end": 0,
            "bin_start": -0.09999999999999998,
            "count": 0
           },
           {
            "bin_end": 0.10000000000000009,
            "bin_start": 0,
            "count": 5
           },
           {
            "bin_end": 0.20000000000000007,
            "bin_start": 0.10000000000000009,
            "count": 0
           },
           {
            "bin_end": 0.30000000000000004,
            "bin_start": 0.20000000000000007,
            "count": 0
           },
           {
            "bin_end": 0.4,
            "bin_start": 0.30000000000000004,
            "count": 0
           },
           {
            "bin_end": 0.5,
            "bin_start": 0.4,
            "count": 0
           }
          ],
          "max": "0",
          "min": "0",
          "nan_count": 0,
          "unique_count": 1
         }
        },
        {
         "dtype": "int64",
         "name": "is_middle eastern",
         "stats": {
          "histogram": [
           {
            "bin_end": -0.4,
            "bin_start": -0.5,
            "count": 0
           },
           {
            "bin_end": -0.3,
            "bin_start": -0.4,
            "count": 0
           },
           {
            "bin_end": -0.19999999999999996,
            "bin_start": -0.3,
            "count": 0
           },
           {
            "bin_end": -0.09999999999999998,
            "bin_start": -0.19999999999999996,
            "count": 0
           },
           {
            "bin_end": 0,
            "bin_start": -0.09999999999999998,
            "count": 0
           },
           {
            "bin_end": 0.10000000000000009,
            "bin_start": 0,
            "count": 5
           },
           {
            "bin_end": 0.20000000000000007,
            "bin_start": 0.10000000000000009,
            "count": 0
           },
           {
            "bin_end": 0.30000000000000004,
            "bin_start": 0.20000000000000007,
            "count": 0
           },
           {
            "bin_end": 0.4,
            "bin_start": 0.30000000000000004,
            "count": 0
           },
           {
            "bin_end": 0.5,
            "bin_start": 0.4,
            "count": 0
           }
          ],
          "max": "0",
          "min": "0",
          "nan_count": 0,
          "unique_count": 1
         }
        },
        {
         "dtype": "int64",
         "name": "is_native_american",
         "stats": {
          "histogram": [
           {
            "bin_end": -0.4,
            "bin_start": -0.5,
            "count": 0
           },
           {
            "bin_end": -0.3,
            "bin_start": -0.4,
            "count": 0
           },
           {
            "bin_end": -0.19999999999999996,
            "bin_start": -0.3,
            "count": 0
           },
           {
            "bin_end": -0.09999999999999998,
            "bin_start": -0.19999999999999996,
            "count": 0
           },
           {
            "bin_end": 0,
            "bin_start": -0.09999999999999998,
            "count": 0
           },
           {
            "bin_end": 0.10000000000000009,
            "bin_start": 0,
            "count": 5
           },
           {
            "bin_end": 0.20000000000000007,
            "bin_start": 0.10000000000000009,
            "count": 0
           },
           {
            "bin_end": 0.30000000000000004,
            "bin_start": 0.20000000000000007,
            "count": 0
           },
           {
            "bin_end": 0.4,
            "bin_start": 0.30000000000000004,
            "count": 0
           },
           {
            "bin_end": 0.5,
            "bin_start": 0.4,
            "count": 0
           }
          ],
          "max": "0",
          "min": "0",
          "nan_count": 0,
          "unique_count": 1
         }
        },
        {
         "dtype": "int64",
         "name": "is_unknown_race",
         "stats": {
          "histogram": [
           {
            "bin_end": 0.1,
            "bin_start": 0,
            "count": 4
           },
           {
            "bin_end": 0.2,
            "bin_start": 0.1,
            "count": 0
           },
           {
            "bin_end": 0.30000000000000004,
            "bin_start": 0.2,
            "count": 0
           },
           {
            "bin_end": 0.4,
            "bin_start": 0.30000000000000004,
            "count": 0
           },
           {
            "bin_end": 0.5,
            "bin_start": 0.4,
            "count": 0
           },
           {
            "bin_end": 0.6000000000000001,
            "bin_start": 0.5,
            "count": 0
           },
           {
            "bin_end": 0.7000000000000001,
            "bin_start": 0.6000000000000001,
            "count": 0
           },
           {
            "bin_end": 0.8,
            "bin_start": 0.7000000000000001,
            "count": 0
           },
           {
            "bin_end": 0.9,
            "bin_start": 0.8,
            "count": 0
           },
           {
            "bin_end": 1,
            "bin_start": 0.9,
            "count": 1
           }
          ],
          "max": "1",
          "min": "0",
          "nan_count": 0,
          "unique_count": 2
         }
        },
        {
         "dtype": "int64",
         "name": "is_white",
         "stats": {
          "histogram": [
           {
            "bin_end": 0.1,
            "bin_start": 0,
            "count": 3
           },
           {
            "bin_end": 0.2,
            "bin_start": 0.1,
            "count": 0
           },
           {
            "bin_end": 0.30000000000000004,
            "bin_start": 0.2,
            "count": 0
           },
           {
            "bin_end": 0.4,
            "bin_start": 0.30000000000000004,
            "count": 0
           },
           {
            "bin_end": 0.5,
            "bin_start": 0.4,
            "count": 0
           },
           {
            "bin_end": 0.6000000000000001,
            "bin_start": 0.5,
            "count": 0
           },
           {
            "bin_end": 0.7000000000000001,
            "bin_start": 0.6000000000000001,
            "count": 0
           },
           {
            "bin_end": 0.8,
            "bin_start": 0.7000000000000001,
            "count": 0
           },
           {
            "bin_end": 0.9,
            "bin_start": 0.8,
            "count": 0
           },
           {
            "bin_end": 1,
            "bin_start": 0.9,
            "count": 2
           }
          ],
          "max": "1",
          "min": "0",
          "nan_count": 0,
          "unique_count": 2
         }
        },
        {
         "dtype": "int64",
         "name": "is_unarmed",
         "stats": {
          "histogram": [
           {
            "bin_end": 0.1,
            "bin_start": 0,
            "count": 4
           },
           {
            "bin_end": 0.2,
            "bin_start": 0.1,
            "count": 0
           },
           {
            "bin_end": 0.30000000000000004,
            "bin_start": 0.2,
            "count": 0
           },
           {
            "bin_end": 0.4,
            "bin_start": 0.30000000000000004,
            "count": 0
           },
           {
            "bin_end": 0.5,
            "bin_start": 0.4,
            "count": 0
           },
           {
            "bin_end": 0.6000000000000001,
            "bin_start": 0.5,
            "count": 0
           },
           {
            "bin_end": 0.7000000000000001,
            "bin_start": 0.6000000000000001,
            "count": 0
           },
           {
            "bin_end": 0.8,
            "bin_start": 0.7000000000000001,
            "count": 0
           },
           {
            "bin_end": 0.9,
            "bin_start": 0.8,
            "count": 0
           },
           {
            "bin_end": 1,
            "bin_start": 0.9,
            "count": 1
           }
          ],
          "max": "1",
          "min": "0",
          "nan_count": 0,
          "unique_count": 2
         }
        },
        {
         "dtype": "int64",
         "name": "had_blunt object",
         "stats": {
          "histogram": [
           {
            "bin_end": -0.4,
            "bin_start": -0.5,
            "count": 0
           },
           {
            "bin_end": -0.3,
            "bin_start": -0.4,
            "count": 0
           },
           {
            "bin_end": -0.19999999999999996,
            "bin_start": -0.3,
            "count": 0
           },
           {
            "bin_end": -0.09999999999999998,
            "bin_start": -0.19999999999999996,
            "count": 0
           },
           {
            "bin_end": 0,
            "bin_start": -0.09999999999999998,
            "count": 0
           },
           {
            "bin_end": 0.10000000000000009,
            "bin_start": 0,
            "count": 5
           },
           {
            "bin_end": 0.20000000000000007,
            "bin_start": 0.10000000000000009,
            "count": 0
           },
           {
            "bin_end": 0.30000000000000004,
            "bin_start": 0.20000000000000007,
            "count": 0
           },
           {
            "bin_end": 0.4,
            "bin_start": 0.30000000000000004,
            "count": 0
           },
           {
            "bin_end": 0.5,
            "bin_start": 0.4,
            "count": 0
           }
          ],
          "max": "0",
          "min": "0",
          "nan_count": 0,
          "unique_count": 1
         }
        },
        {
         "dtype": "int64",
         "name": "had_edged weapon",
         "stats": {
          "histogram": [
           {
            "bin_end": 0.1,
            "bin_start": 0,
            "count": 4
           },
           {
            "bin_end": 0.2,
            "bin_start": 0.1,
            "count": 0
           },
           {
            "bin_end": 0.30000000000000004,
            "bin_start": 0.2,
            "count": 0
           },
           {
            "bin_end": 0.4,
            "bin_start": 0.30000000000000004,
            "count": 0
           },
           {
            "bin_end": 0.5,
            "bin_start": 0.4,
            "count": 0
           },
           {
            "bin_end": 0.6000000000000001,
            "bin_start": 0.5,
            "count": 0
           },
           {
            "bin_end": 0.7000000000000001,
            "bin_start": 0.6000000000000001,
            "count": 0
           },
           {
            "bin_end": 0.8,
            "bin_start": 0.7000000000000001,
            "count": 0
           },
           {
            "bin_end": 0.9,
            "bin_start": 0.8,
            "count": 0
           },
           {
            "bin_end": 1,
            "bin_start": 0.9,
            "count": 1
           }
          ],
          "max": "1",
          "min": "0",
          "nan_count": 0,
          "unique_count": 2
         }
        },
        {
         "dtype": "int64",
         "name": "had_firearm",
         "stats": {
          "histogram": [
           {
            "bin_end": 0.1,
            "bin_start": 0,
            "count": 2
           },
           {
            "bin_end": 0.2,
            "bin_start": 0.1,
            "count": 0
           },
           {
            "bin_end": 0.30000000000000004,
            "bin_start": 0.2,
            "count": 0
           },
           {
            "bin_end": 0.4,
            "bin_start": 0.30000000000000004,
            "count": 0
           },
           {
            "bin_end": 0.5,
            "bin_start": 0.4,
            "count": 0
           },
           {
            "bin_end": 0.6000000000000001,
            "bin_start": 0.5,
            "count": 0
           },
           {
            "bin_end": 0.7000000000000001,
            "bin_start": 0.6000000000000001,
            "count": 0
           },
           {
            "bin_end": 0.8,
            "bin_start": 0.7000000000000001,
            "count": 0
           },
           {
            "bin_end": 0.9,
            "bin_start": 0.8,
            "count": 0
           },
           {
            "bin_end": 1,
            "bin_start": 0.9,
            "count": 3
           }
          ],
          "max": "1",
          "min": "0",
          "nan_count": 0,
          "unique_count": 2
         }
        },
        {
         "dtype": "int64",
         "name": "had_no_weapon",
         "stats": {
          "histogram": [
           {
            "bin_end": 0.1,
            "bin_start": 0,
            "count": 4
           },
           {
            "bin_end": 0.2,
            "bin_start": 0.1,
            "count": 0
           },
           {
            "bin_end": 0.30000000000000004,
            "bin_start": 0.2,
            "count": 0
           },
           {
            "bin_end": 0.4,
            "bin_start": 0.30000000000000004,
            "count": 0
           },
           {
            "bin_end": 0.5,
            "bin_start": 0.4,
            "count": 0
           },
           {
            "bin_end": 0.6000000000000001,
            "bin_start": 0.5,
            "count": 0
           },
           {
            "bin_end": 0.7000000000000001,
            "bin_start": 0.6000000000000001,
            "count": 0
           },
           {
            "bin_end": 0.8,
            "bin_start": 0.7000000000000001,
            "count": 0
           },
           {
            "bin_end": 0.9,
            "bin_start": 0.8,
            "count": 0
           },
           {
            "bin_end": 1,
            "bin_start": 0.9,
            "count": 1
           }
          ],
          "max": "1",
          "min": "0",
          "nan_count": 0,
          "unique_count": 2
         }
        },
        {
         "dtype": "int64",
         "name": "had_other_weapon",
         "stats": {
          "histogram": [
           {
            "bin_end": -0.4,
            "bin_start": -0.5,
            "count": 0
           },
           {
            "bin_end": -0.3,
            "bin_start": -0.4,
            "count": 0
           },
           {
            "bin_end": -0.19999999999999996,
            "bin_start": -0.3,
            "count": 0
           },
           {
            "bin_end": -0.09999999999999998,
            "bin_start": -0.19999999999999996,
            "count": 0
           },
           {
            "bin_end": 0,
            "bin_start": -0.09999999999999998,
            "count": 0
           },
           {
            "bin_end": 0.10000000000000009,
            "bin_start": 0,
            "count": 5
           },
           {
            "bin_end": 0.20000000000000007,
            "bin_start": 0.10000000000000009,
            "count": 0
           },
           {
            "bin_end": 0.30000000000000004,
            "bin_start": 0.20000000000000007,
            "count": 0
           },
           {
            "bin_end": 0.4,
            "bin_start": 0.30000000000000004,
            "count": 0
           },
           {
            "bin_end": 0.5,
            "bin_start": 0.4,
            "count": 0
           }
          ],
          "max": "0",
          "min": "0",
          "nan_count": 0,
          "unique_count": 1
         }
        },
        {
         "dtype": "float64",
         "name": "under 12",
         "stats": {
          "histogram": [
           {
            "bin_end": -0.4,
            "bin_start": -0.5,
            "count": 0
           },
           {
            "bin_end": -0.3,
            "bin_start": -0.4,
            "count": 0
           },
           {
            "bin_end": -0.19999999999999996,
            "bin_start": -0.3,
            "count": 0
           },
           {
            "bin_end": -0.09999999999999998,
            "bin_start": -0.19999999999999996,
            "count": 0
           },
           {
            "bin_end": 0,
            "bin_start": -0.09999999999999998,
            "count": 0
           },
           {
            "bin_end": 0.10000000000000009,
            "bin_start": 0,
            "count": 5
           },
           {
            "bin_end": 0.20000000000000007,
            "bin_start": 0.10000000000000009,
            "count": 0
           },
           {
            "bin_end": 0.30000000000000004,
            "bin_start": 0.20000000000000007,
            "count": 0
           },
           {
            "bin_end": 0.4,
            "bin_start": 0.30000000000000004,
            "count": 0
           },
           {
            "bin_end": 0.5,
            "bin_start": 0.4,
            "count": 0
           }
          ],
          "max": "0.0",
          "min": "0.0",
          "nan_count": 0,
          "unique_count": 1
         }
        },
        {
         "dtype": "float64",
         "name": "12-17",
         "stats": {
          "histogram": [
           {
            "bin_end": 0.1,
            "bin_start": 0,
            "count": 4
           },
           {
            "bin_end": 0.2,
            "bin_start": 0.1,
            "count": 0
           },
           {
            "bin_end": 0.30000000000000004,
            "bin_start": 0.2,
            "count": 0
           },
           {
            "bin_end": 0.4,
            "bin_start": 0.30000000000000004,
            "count": 0
           },
           {
            "bin_end": 0.5,
            "bin_start": 0.4,
            "count": 0
           },
           {
            "bin_end": 0.6000000000000001,
            "bin_start": 0.5,
            "count": 0
           },
           {
            "bin_end": 0.7000000000000001,
            "bin_start": 0.6000000000000001,
            "count": 0
           },
           {
            "bin_end": 0.8,
            "bin_start": 0.7000000000000001,
            "count": 0
           },
           {
            "bin_end": 0.9,
            "bin_start": 0.8,
            "count": 0
           },
           {
            "bin_end": 1,
            "bin_start": 0.9,
            "count": 1
           }
          ],
          "max": "1.0",
          "min": "0.0",
          "nan_count": 0,
          "unique_count": 2
         }
        },
        {
         "dtype": "float64",
         "name": "18-24",
         "stats": {
          "histogram": [
           {
            "bin_end": -0.4,
            "bin_start": -0.5,
            "count": 0
           },
           {
            "bin_end": -0.3,
            "bin_start": -0.4,
            "count": 0
           },
           {
            "bin_end": -0.19999999999999996,
            "bin_start": -0.3,
            "count": 0
           },
           {
            "bin_end": -0.09999999999999998,
            "bin_start": -0.19999999999999996,
            "count": 0
           },
           {
            "bin_end": 0,
            "bin_start": -0.09999999999999998,
            "count": 0
           },
           {
            "bin_end": 0.10000000000000009,
            "bin_start": 0,
            "count": 5
           },
           {
            "bin_end": 0.20000000000000007,
            "bin_start": 0.10000000000000009,
            "count": 0
           },
           {
            "bin_end": 0.30000000000000004,
            "bin_start": 0.20000000000000007,
            "count": 0
           },
           {
            "bin_end": 0.4,
            "bin_start": 0.30000000000000004,
            "count": 0
           },
           {
            "bin_end": 0.5,
            "bin_start": 0.4,
            "count": 0
           }
          ],
          "max": "0.0",
          "min": "0.0",
          "nan_count": 0,
          "unique_count": 1
         }
        },
        {
         "dtype": "float64",
         "name": "25-34",
         "stats": {
          "histogram": [
           {
            "bin_end": 0.1,
            "bin_start": 0,
            "count": 4
           },
           {
            "bin_end": 0.2,
            "bin_start": 0.1,
            "count": 0
           },
           {
            "bin_end": 0.30000000000000004,
            "bin_start": 0.2,
            "count": 0
           },
           {
            "bin_end": 0.4,
            "bin_start": 0.30000000000000004,
            "count": 0
           },
           {
            "bin_end": 0.5,
            "bin_start": 0.4,
            "count": 0
           },
           {
            "bin_end": 0.6000000000000001,
            "bin_start": 0.5,
            "count": 0
           },
           {
            "bin_end": 0.7000000000000001,
            "bin_start": 0.6000000000000001,
            "count": 0
           },
           {
            "bin_end": 0.8,
            "bin_start": 0.7000000000000001,
            "count": 0
           },
           {
            "bin_end": 0.9,
            "bin_start": 0.8,
            "count": 0
           },
           {
            "bin_end": 1,
            "bin_start": 0.9,
            "count": 1
           }
          ],
          "max": "1.0",
          "min": "0.0",
          "nan_count": 0,
          "unique_count": 2
         }
        },
        {
         "dtype": "float64",
         "name": "35-44",
         "stats": {
          "histogram": [
           {
            "bin_end": 0.1,
            "bin_start": 0,
            "count": 4
           },
           {
            "bin_end": 0.2,
            "bin_start": 0.1,
            "count": 0
           },
           {
            "bin_end": 0.30000000000000004,
            "bin_start": 0.2,
            "count": 0
           },
           {
            "bin_end": 0.4,
            "bin_start": 0.30000000000000004,
            "count": 0
           },
           {
            "bin_end": 0.5,
            "bin_start": 0.4,
            "count": 0
           },
           {
            "bin_end": 0.6000000000000001,
            "bin_start": 0.5,
            "count": 0
           },
           {
            "bin_end": 0.7000000000000001,
            "bin_start": 0.6000000000000001,
            "count": 0
           },
           {
            "bin_end": 0.8,
            "bin_start": 0.7000000000000001,
            "count": 0
           },
           {
            "bin_end": 0.9,
            "bin_start": 0.8,
            "count": 0
           },
           {
            "bin_end": 1,
            "bin_start": 0.9,
            "count": 1
           }
          ],
          "max": "1.0",
          "min": "0.0",
          "nan_count": 0,
          "unique_count": 2
         }
        },
        {
         "dtype": "float64",
         "name": "45-54",
         "stats": {
          "histogram": [
           {
            "bin_end": 0.1,
            "bin_start": 0,
            "count": 4
           },
           {
            "bin_end": 0.2,
            "bin_start": 0.1,
            "count": 0
           },
           {
            "bin_end": 0.30000000000000004,
            "bin_start": 0.2,
            "count": 0
           },
           {
            "bin_end": 0.4,
            "bin_start": 0.30000000000000004,
            "count": 0
           },
           {
            "bin_end": 0.5,
            "bin_start": 0.4,
            "count": 0
           },
           {
            "bin_end": 0.6000000000000001,
            "bin_start": 0.5,
            "count": 0
           },
           {
            "bin_end": 0.7000000000000001,
            "bin_start": 0.6000000000000001,
            "count": 0
           },
           {
            "bin_end": 0.8,
            "bin_start": 0.7000000000000001,
            "count": 0
           },
           {
            "bin_end": 0.9,
            "bin_start": 0.8,
            "count": 0
           },
           {
            "bin_end": 1,
            "bin_start": 0.9,
            "count": 1
           }
          ],
          "max": "1.0",
          "min": "0.0",
          "nan_count": 0,
          "unique_count": 2
         }
        },
        {
         "dtype": "float64",
         "name": "55-64",
         "stats": {
          "histogram": [
           {
            "bin_end": 0.1,
            "bin_start": 0,
            "count": 4
           },
           {
            "bin_end": 0.2,
            "bin_start": 0.1,
            "count": 0
           },
           {
            "bin_end": 0.30000000000000004,
            "bin_start": 0.2,
            "count": 0
           },
           {
            "bin_end": 0.4,
            "bin_start": 0.30000000000000004,
            "count": 0
           },
           {
            "bin_end": 0.5,
            "bin_start": 0.4,
            "count": 0
           },
           {
            "bin_end": 0.6000000000000001,
            "bin_start": 0.5,
            "count": 0
           },
           {
            "bin_end": 0.7000000000000001,
            "bin_start": 0.6000000000000001,
            "count": 0
           },
           {
            "bin_end": 0.8,
            "bin_start": 0.7000000000000001,
            "count": 0
           },
           {
            "bin_end": 0.9,
            "bin_start": 0.8,
            "count": 0
           },
           {
            "bin_end": 1,
            "bin_start": 0.9,
            "count": 1
           }
          ],
          "max": "1.0",
          "min": "0.0",
          "nan_count": 0,
          "unique_count": 2
         }
        },
        {
         "dtype": "float64",
         "name": "65+",
         "stats": {
          "histogram": [
           {
            "bin_end": -0.4,
            "bin_start": -0.5,
            "count": 0
           },
           {
            "bin_end": -0.3,
            "bin_start": -0.4,
            "count": 0
           },
           {
            "bin_end": -0.19999999999999996,
            "bin_start": -0.3,
            "count": 0
           },
           {
            "bin_end": -0.09999999999999998,
            "bin_start": -0.19999999999999996,
            "count": 0
           },
           {
            "bin_end": 0,
            "bin_start": -0.09999999999999998,
            "count": 0
           },
           {
            "bin_end": 0.10000000000000009,
            "bin_start": 0,
            "count": 5
           },
           {
            "bin_end": 0.20000000000000007,
            "bin_start": 0.10000000000000009,
            "count": 0
           },
           {
            "bin_end": 0.30000000000000004,
            "bin_start": 0.20000000000000007,
            "count": 0
           },
           {
            "bin_end": 0.4,
            "bin_start": 0.30000000000000004,
            "count": 0
           },
           {
            "bin_end": 0.5,
            "bin_start": 0.4,
            "count": 0
           }
          ],
          "max": "0.0",
          "min": "0.0",
          "nan_count": 0,
          "unique_count": 1
         }
        },
        {
         "dtype": "int64",
         "name": "_deepnote_index_column"
        }
       ],
       "row_count": 5,
       "rows_bottom": null,
       "rows_top": [
        {
         "12-17": 0,
         "18-24": 0,
         "25-34": 0,
         "35-44": 0,
         "45-54": 1,
         "55-64": 0,
         "65+": 0,
         "_deepnote_index_column": 12025,
         "age": 48,
         "age_bins": "45-54",
         "agency_or_agencies_involved": "miami-dade police department",
         "alleged_threat_lvl": "threat",
         "alleged_weapon": "edged weapon",
         "armed_unarmed": "armed",
         "brief_description": "jose gainza allegedly stabbed and killed his daughter-in-law, ana iris rodriguez reyes, 27, then barricaded himself inside a bedroom as police entered the home. when gainza emerged from the bedroom, he reportedly ran toward officers with the knife, and they shot and killed him.",
         "date_of_injury_resulting_in_death_month_day_year": "2020-03-03",
         "fleeing": 0,
         "fleeing_not_fleeing": "not_fleeing",
         "gender": "male",
         "had_blunt object": 0,
         "had_edged weapon": 1,
         "had_firearm": 0,
         "had_no_weapon": 0,
         "had_other_weapon": 0,
         "highest_level_of_force": "gunshot",
         "intended_use_of_force_developing": "deadly force",
         "is_asian_pacific islander": 0,
         "is_black": 0,
         "is_hispanic": 0,
         "is_middle eastern": 0,
         "is_native_american": 0,
         "is_unarmed": 0,
         "is_unknown_race": 1,
         "is_white": 0,
         "location_of_death_zip_code": 33187,
         "race": "unknown_race",
         "under 12": 0,
         "unique_id": 27652
        },
        {
         "12-17": 0,
         "18-24": 0,
         "25-34": 0,
         "35-44": 1,
         "45-54": 0,
         "55-64": 0,
         "65+": 0,
         "_deepnote_index_column": 5781,
         "age": 35,
         "age_bins": "35-44",
         "agency_or_agencies_involved": "asheville police department",
         "alleged_threat_lvl": "threat",
         "alleged_weapon": "firearm",
         "armed_unarmed": "armed",
         "brief_description": "police said they were called out to a report of shots fired at the pisgah view apartments. they attempted to stop a man who was driving away and who was later found at the deaverview apartments. police said a female passenger in williams' vehicle appeared to be struggling and she called for help when the vehicle stopped at the apartment complex. williams allegedly made a threat to sgt. tyler radford and displayed a weapon, who then shot and killed him.",
         "date_of_injury_resulting_in_death_month_day_year": "2016-07-02 00:00:00",
         "fleeing": 1,
         "fleeing_not_fleeing": "fleeing",
         "gender": "male",
         "had_blunt object": 0,
         "had_edged weapon": 0,
         "had_firearm": 1,
         "had_no_weapon": 0,
         "had_other_weapon": 0,
         "highest_level_of_force": "gunshot",
         "intended_use_of_force_developing": "deadly force",
         "is_asian_pacific islander": 0,
         "is_black": 1,
         "is_hispanic": 0,
         "is_middle eastern": 0,
         "is_native_american": 0,
         "is_unarmed": 0,
         "is_unknown_race": 0,
         "is_white": 0,
         "location_of_death_zip_code": 28806,
         "race": "black",
         "under 12": 0,
         "unique_id": 17870
        },
        {
         "12-17": 0,
         "18-24": 0,
         "25-34": 0,
         "35-44": 0,
         "45-54": 0,
         "55-64": 1,
         "65+": 0,
         "_deepnote_index_column": 10778,
         "age": 61,
         "age_bins": "55-64",
         "agency_or_agencies_involved": "charlotte county sheriff's office",
         "alleged_threat_lvl": "threat",
         "alleged_weapon": "firearm",
         "armed_unarmed": "armed",
         "brief_description": "around 9 p.m., a call came into 911 that bradley rundle had fired his gun multiple times inside a home. the caller said rundle was intoxicated and that other family members and children were at home. deputies surrounded the home. they saw rundle going in and out of the house several times while holding his gun and ordered him to drop his weapon and cooperate. around 10 p.m., a sergeant spoke to rundle by phone. rundle reportedly told the sergeant that he would not be coming out, and he did not intend to leave the home peacefully. a few minutes later, rundle left the home with his firearm in hand. rundle allegedly lifted his gun toward deputies and fired one round and was shot and killed.",
         "date_of_injury_resulting_in_death_month_day_year": "2019-06-24",
         "fleeing": 0,
         "fleeing_not_fleeing": "not_fleeing",
         "gender": "male",
         "had_blunt object": 0,
         "had_edged weapon": 0,
         "had_firearm": 1,
         "had_no_weapon": 0,
         "had_other_weapon": 0,
         "highest_level_of_force": "gunshot",
         "intended_use_of_force_developing": "deadly force",
         "is_asian_pacific islander": 0,
         "is_black": 0,
         "is_hispanic": 0,
         "is_middle eastern": 0,
         "is_native_american": 0,
         "is_unarmed": 0,
         "is_unknown_race": 0,
         "is_white": 1,
         "location_of_death_zip_code": 34224,
         "race": "white",
         "under 12": 0,
         "unique_id": 26220
        },
        {
         "12-17": 1,
         "18-24": 0,
         "25-34": 0,
         "35-44": 0,
         "45-54": 0,
         "55-64": 0,
         "65+": 0,
         "_deepnote_index_column": 58,
         "age": 17,
         "age_bins": "12-17",
         "agency_or_agencies_involved": "uxbridge police department",
         "alleged_threat_lvl": "no_threat",
         "alleged_weapon": "no_weapon",
         "armed_unarmed": "unarmed",
         "brief_description": "rome alexander ives, the driver of a stolen ford explorer, died after crashing into a pickup truck while fleeing from police.",
         "date_of_injury_resulting_in_death_month_day_year": "2013-01-11",
         "fleeing": 1,
         "fleeing_not_fleeing": "fleeing",
         "gender": "male",
         "had_blunt object": 0,
         "had_edged weapon": 0,
         "had_firearm": 0,
         "had_no_weapon": 1,
         "had_other_weapon": 0,
         "highest_level_of_force": "vehicle",
         "intended_use_of_force_developing": "vehic/purs",
         "is_asian_pacific islander": 0,
         "is_black": 1,
         "is_hispanic": 0,
         "is_middle eastern": 0,
         "is_native_american": 0,
         "is_unarmed": 1,
         "is_unknown_race": 0,
         "is_white": 0,
         "location_of_death_zip_code": 1569,
         "race": "black",
         "under 12": 0,
         "unique_id": 12221
        },
        {
         "12-17": 0,
         "18-24": 0,
         "25-34": 1,
         "35-44": 0,
         "45-54": 0,
         "55-64": 0,
         "65+": 0,
         "_deepnote_index_column": 1127,
         "age": 29,
         "age_bins": "25-34",
         "agency_or_agencies_involved": "mesa police department",
         "alleged_threat_lvl": "threat",
         "alleged_weapon": "firearm",
         "armed_unarmed": "armed",
         "brief_description": "officers attempted to detain jonathan tricarico after the 29-year-old was observed driving a stolen vehicle. police said that tricarico opened fire first, and was fatally shot in the ensuing gun fight.",
         "date_of_injury_resulting_in_death_month_day_year": "2013-08-23",
         "fleeing": 0,
         "fleeing_not_fleeing": "not_fleeing",
         "gender": "male",
         "had_blunt object": 0,
         "had_edged weapon": 0,
         "had_firearm": 1,
         "had_no_weapon": 0,
         "had_other_weapon": 0,
         "highest_level_of_force": "gunshot",
         "intended_use_of_force_developing": "deadly force",
         "is_asian_pacific islander": 0,
         "is_black": 0,
         "is_hispanic": 0,
         "is_middle eastern": 0,
         "is_native_american": 0,
         "is_unarmed": 0,
         "is_unknown_race": 0,
         "is_white": 1,
         "location_of_death_zip_code": 85032,
         "race": "white",
         "under 12": 0,
         "unique_id": 13305
        }
       ]
      },
      "text/html": [
       "<div>\n",
       "<style scoped>\n",
       "    .dataframe tbody tr th:only-of-type {\n",
       "        vertical-align: middle;\n",
       "    }\n",
       "\n",
       "    .dataframe tbody tr th {\n",
       "        vertical-align: top;\n",
       "    }\n",
       "\n",
       "    .dataframe thead th {\n",
       "        text-align: right;\n",
       "    }\n",
       "</style>\n",
       "<table border=\"1\" class=\"dataframe\">\n",
       "  <thead>\n",
       "    <tr style=\"text-align: right;\">\n",
       "      <th></th>\n",
       "      <th>unique_id</th>\n",
       "      <th>age</th>\n",
       "      <th>gender</th>\n",
       "      <th>race</th>\n",
       "      <th>date_of_injury_resulting_in_death_month_day_year</th>\n",
       "      <th>location_of_death_zip_code</th>\n",
       "      <th>agency_or_agencies_involved</th>\n",
       "      <th>highest_level_of_force</th>\n",
       "      <th>armed_unarmed</th>\n",
       "      <th>alleged_weapon</th>\n",
       "      <th>...</th>\n",
       "      <th>had_no_weapon</th>\n",
       "      <th>had_other_weapon</th>\n",
       "      <th>under 12</th>\n",
       "      <th>12-17</th>\n",
       "      <th>18-24</th>\n",
       "      <th>25-34</th>\n",
       "      <th>35-44</th>\n",
       "      <th>45-54</th>\n",
       "      <th>55-64</th>\n",
       "      <th>65+</th>\n",
       "    </tr>\n",
       "  </thead>\n",
       "  <tbody>\n",
       "    <tr>\n",
       "      <th>12025</th>\n",
       "      <td>27652.0</td>\n",
       "      <td>48.0</td>\n",
       "      <td>male</td>\n",
       "      <td>unknown_race</td>\n",
       "      <td>2020-03-03</td>\n",
       "      <td>33187.0</td>\n",
       "      <td>miami-dade police department</td>\n",
       "      <td>gunshot</td>\n",
       "      <td>armed</td>\n",
       "      <td>edged weapon</td>\n",
       "      <td>...</td>\n",
       "      <td>0</td>\n",
       "      <td>0</td>\n",
       "      <td>0.0</td>\n",
       "      <td>0.0</td>\n",
       "      <td>0.0</td>\n",
       "      <td>0.0</td>\n",
       "      <td>0.0</td>\n",
       "      <td>1.0</td>\n",
       "      <td>0.0</td>\n",
       "      <td>0.0</td>\n",
       "    </tr>\n",
       "    <tr>\n",
       "      <th>5781</th>\n",
       "      <td>17870.0</td>\n",
       "      <td>35.0</td>\n",
       "      <td>male</td>\n",
       "      <td>black</td>\n",
       "      <td>2016-07-02 00:00:00</td>\n",
       "      <td>28806.0</td>\n",
       "      <td>asheville police department</td>\n",
       "      <td>gunshot</td>\n",
       "      <td>armed</td>\n",
       "      <td>firearm</td>\n",
       "      <td>...</td>\n",
       "      <td>0</td>\n",
       "      <td>0</td>\n",
       "      <td>0.0</td>\n",
       "      <td>0.0</td>\n",
       "      <td>0.0</td>\n",
       "      <td>0.0</td>\n",
       "      <td>1.0</td>\n",
       "      <td>0.0</td>\n",
       "      <td>0.0</td>\n",
       "      <td>0.0</td>\n",
       "    </tr>\n",
       "    <tr>\n",
       "      <th>10778</th>\n",
       "      <td>26220.0</td>\n",
       "      <td>61.0</td>\n",
       "      <td>male</td>\n",
       "      <td>white</td>\n",
       "      <td>2019-06-24</td>\n",
       "      <td>34224.0</td>\n",
       "      <td>charlotte county sheriff's office</td>\n",
       "      <td>gunshot</td>\n",
       "      <td>armed</td>\n",
       "      <td>firearm</td>\n",
       "      <td>...</td>\n",
       "      <td>0</td>\n",
       "      <td>0</td>\n",
       "      <td>0.0</td>\n",
       "      <td>0.0</td>\n",
       "      <td>0.0</td>\n",
       "      <td>0.0</td>\n",
       "      <td>0.0</td>\n",
       "      <td>0.0</td>\n",
       "      <td>1.0</td>\n",
       "      <td>0.0</td>\n",
       "    </tr>\n",
       "    <tr>\n",
       "      <th>58</th>\n",
       "      <td>12221.0</td>\n",
       "      <td>17.0</td>\n",
       "      <td>male</td>\n",
       "      <td>black</td>\n",
       "      <td>2013-01-11</td>\n",
       "      <td>1569.0</td>\n",
       "      <td>uxbridge police department</td>\n",
       "      <td>vehicle</td>\n",
       "      <td>unarmed</td>\n",
       "      <td>no_weapon</td>\n",
       "      <td>...</td>\n",
       "      <td>1</td>\n",
       "      <td>0</td>\n",
       "      <td>0.0</td>\n",
       "      <td>1.0</td>\n",
       "      <td>0.0</td>\n",
       "      <td>0.0</td>\n",
       "      <td>0.0</td>\n",
       "      <td>0.0</td>\n",
       "      <td>0.0</td>\n",
       "      <td>0.0</td>\n",
       "    </tr>\n",
       "    <tr>\n",
       "      <th>1127</th>\n",
       "      <td>13305.0</td>\n",
       "      <td>29.0</td>\n",
       "      <td>male</td>\n",
       "      <td>white</td>\n",
       "      <td>2013-08-23</td>\n",
       "      <td>85032.0</td>\n",
       "      <td>mesa police department</td>\n",
       "      <td>gunshot</td>\n",
       "      <td>armed</td>\n",
       "      <td>firearm</td>\n",
       "      <td>...</td>\n",
       "      <td>0</td>\n",
       "      <td>0</td>\n",
       "      <td>0.0</td>\n",
       "      <td>0.0</td>\n",
       "      <td>0.0</td>\n",
       "      <td>1.0</td>\n",
       "      <td>0.0</td>\n",
       "      <td>0.0</td>\n",
       "      <td>0.0</td>\n",
       "      <td>0.0</td>\n",
       "    </tr>\n",
       "  </tbody>\n",
       "</table>\n",
       "<p>5 rows × 37 columns</p>\n",
       "</div>"
      ],
      "text/plain": [
       "       unique_id   age gender          race  \\\n",
       "12025    27652.0  48.0   male  unknown_race   \n",
       "5781     17870.0  35.0   male         black   \n",
       "10778    26220.0  61.0   male         white   \n",
       "58       12221.0  17.0   male         black   \n",
       "1127     13305.0  29.0   male         white   \n",
       "\n",
       "      date_of_injury_resulting_in_death_month_day_year  \\\n",
       "12025                                       2020-03-03   \n",
       "5781                               2016-07-02 00:00:00   \n",
       "10778                                       2019-06-24   \n",
       "58                                          2013-01-11   \n",
       "1127                                        2013-08-23   \n",
       "\n",
       "       location_of_death_zip_code        agency_or_agencies_involved  \\\n",
       "12025                     33187.0       miami-dade police department   \n",
       "5781                      28806.0        asheville police department   \n",
       "10778                     34224.0  charlotte county sheriff's office   \n",
       "58                         1569.0         uxbridge police department   \n",
       "1127                      85032.0             mesa police department   \n",
       "\n",
       "      highest_level_of_force armed_unarmed alleged_weapon  ... had_no_weapon  \\\n",
       "12025                gunshot         armed   edged weapon  ...             0   \n",
       "5781                 gunshot         armed        firearm  ...             0   \n",
       "10778                gunshot         armed        firearm  ...             0   \n",
       "58                   vehicle       unarmed      no_weapon  ...             1   \n",
       "1127                 gunshot         armed        firearm  ...             0   \n",
       "\n",
       "      had_other_weapon under 12 12-17  18-24 25-34  35-44  45-54  55-64  65+  \n",
       "12025                0      0.0   0.0    0.0   0.0    0.0    1.0    0.0  0.0  \n",
       "5781                 0      0.0   0.0    0.0   0.0    1.0    0.0    0.0  0.0  \n",
       "10778                0      0.0   0.0    0.0   0.0    0.0    0.0    1.0  0.0  \n",
       "58                   0      0.0   1.0    0.0   0.0    0.0    0.0    0.0  0.0  \n",
       "1127                 0      0.0   0.0    0.0   1.0    0.0    0.0    0.0  0.0  \n",
       "\n",
       "[5 rows x 37 columns]"
      ]
     },
     "execution_count": 14,
     "metadata": {},
     "output_type": "execute_result"
    }
   ],
   "source": [
    "#split the data using the split function in explore.py\n",
    "train, validate, test = split(df, stratify_by=\"alleged_threat_lvl\")\n",
    "\n",
    "#check split datasets\n",
    "print('overall shape of dataframe:', df.shape)\n",
    "print('train:', train.shape)\n",
    "print('validate:', validate.shape)\n",
    "print('test:', test.shape)\n",
    "\n",
    "#work w/ training data\n",
    "train.head()"
   ]
  },
  {
   "cell_type": "markdown",
   "metadata": {
    "cell_id": "00018-43d72133-86d8-4753-8e94-9bd08f310871",
    "deepnote_cell_type": "markdown",
    "tags": []
   },
   "source": [
    "### Takeaway\n",
    "- Data is prepped/split and ready to be explored, modeled, and evaluated."
   ]
  },
  {
   "cell_type": "markdown",
   "metadata": {},
   "source": [
    "[Jump to Table of Contents](#toc)\n",
    "___\n",
    "# <a name=\"2nd-iteration-explore-data\"></a>2nd Iteration: Explore Data"
   ]
  },
  {
   "cell_type": "markdown",
   "metadata": {},
   "source": [
    "#### Address questions posed in planning\n"
   ]
  },
  {
   "cell_type": "markdown",
   "metadata": {},
   "source": [
    "[Jump to Table of Contents](#toc)\n",
    "___\n",
    "# <a name=\"2nd-iteration-visualizations\"></a>• 2nd Iteration: Visualizations"
   ]
  },
  {
   "cell_type": "markdown",
   "metadata": {},
   "source": [
    "[Jump to Table of Contents](#toc)\n",
    "___\n",
    "# <a name=\"2nd-iteration-hypothesis-testing\"></a>• 2nd Iteration: Hypothesis Testing"
   ]
  },
  {
   "cell_type": "markdown",
   "metadata": {},
   "source": [
    "[Jump to Table of Contents](#toc)\n",
    "___\n",
    "# <a name=\"2nd-iteration-modeling\"></a>2nd Iteration: Modeling"
   ]
  },
  {
   "cell_type": "code",
   "execution_count": null,
   "metadata": {},
   "outputs": [],
   "source": []
  },
  {
   "cell_type": "code",
   "execution_count": 22,
   "metadata": {
    "cell_id": "00042-a42667cc-bac5-4e1e-a555-b1072736a24f",
    "deepnote_cell_type": "code",
    "deepnote_to_be_reexecuted": false,
    "execution_millis": 0,
    "execution_start": 1622146118101,
    "source_hash": "9a2eb543"
   },
   "outputs": [],
   "source": [
    "#set up X inputs and y target variable for each split\n",
    "X_train = train.drop(columns=['alleged_threat_lvl'])\n",
    "y_train = train.alleged_threat_lvl\n",
    "\n",
    "X_validate = validate.drop(columns=['alleged_threat_lvl'])\n",
    "y_validate = validate.alleged_threat_lvl\n",
    "\n",
    "X_test = test.drop(columns=['alleged_threat_lvl'])\n",
    "y_test = test.alleged_threat_lvl"
   ]
  },
  {
   "cell_type": "code",
   "execution_count": 23,
   "metadata": {
    "cell_id": "00036-8e7c1d36-ff6f-44e1-b8d5-084a648ebfe0",
    "deepnote_cell_type": "code",
    "deepnote_to_be_reexecuted": false,
    "execution_millis": 12,
    "execution_start": 1622146118102,
    "source_hash": "25d43fa0",
    "tags": []
   },
   "outputs": [
    {
     "data": {
      "text/plain": [
       "Index(['unique_id', 'age', 'gender', 'race',\n",
       "       'date_of_injury_resulting_in_death_month_day_year',\n",
       "       'location_of_death_zip_code', 'agency_or_agencies_involved',\n",
       "       'highest_level_of_force', 'armed_unarmed', 'alleged_weapon',\n",
       "       'alleged_threat_lvl', 'fleeing_not_fleeing', 'brief_description',\n",
       "       'intended_use_of_force_developing', 'fleeing', 'age_bins',\n",
       "       'is_asian_pacific islander', 'is_black', 'is_hispanic',\n",
       "       'is_middle eastern', 'is_native_american', 'is_unknown_race',\n",
       "       'is_white', 'is_unarmed', 'had_blunt object', 'had_edged weapon',\n",
       "       'had_firearm', 'had_no_weapon', 'had_other_weapon', 'under 12', '12-17',\n",
       "       '18-24', '25-34', '35-44', '45-54', '55-64', '65+',\n",
       "       'is_ambiguous_threat', 'is_no_threat', 'is_threat'],\n",
       "      dtype='object')"
      ]
     },
     "execution_count": 23,
     "metadata": {},
     "output_type": "execute_result"
    }
   ],
   "source": [
    "df.columns"
   ]
  },
  {
   "cell_type": "code",
   "execution_count": 24,
   "metadata": {
    "cell_id": "00043-808d9d55-ba31-48b0-ab95-3a4ab5c4703f",
    "deepnote_cell_type": "code",
    "deepnote_to_be_reexecuted": false,
    "execution_millis": 5,
    "execution_start": 1622146118103,
    "source_hash": "5c3dd2ec"
   },
   "outputs": [],
   "source": [
    "# dropping columns that are not numeric datatypes\n",
    "dropcols = ['unique_id', 'gender', 'race',\\\n",
    "       'date_of_injury_resulting_in_death_month_day_year',\\\n",
    "       'location_of_death_zip_code', 'agency_or_agencies_involved',\\\n",
    "       'highest_level_of_force', 'armed_unarmed', 'alleged_weapon',\\\n",
    "       'alleged_threat_lvl', 'fleeing_not_fleeing', 'brief_description',\\\n",
    "       'intended_use_of_force_developing', 'age_bins', 'is_ambiguous_threat', 'is_no_threat', 'is_threat']\n",
    "\n",
    "X_train = train.drop(columns=dropcols)\n",
    "X_validate = validate.drop(columns=dropcols)\n",
    "X_test = test.drop(columns=dropcols)"
   ]
  },
  {
   "cell_type": "markdown",
   "metadata": {},
   "source": [
    "[Jump to Table of Contents](#toc)\n",
    "___\n",
    "# <a name=\"2nd-iteration-feature-importance\"></a>• 2nd Iteration: Feature Importance"
   ]
  },
  {
   "cell_type": "code",
   "execution_count": null,
   "metadata": {},
   "outputs": [],
   "source": []
  },
  {
   "cell_type": "markdown",
   "metadata": {
    "cell_id": "00045-62e15328-1fb3-4200-bad7-4ef8d826f297",
    "deepnote_cell_type": "markdown"
   },
   "source": [
    "#### Select K Best\n",
    "- Uses statistical tests to determine each feature's usefulness in predicting the target variable. \n",
    "- Ranks the features and then select the K best features."
   ]
  },
  {
   "cell_type": "code",
   "execution_count": 25,
   "metadata": {
    "cell_id": "00046-27dc45fb-8588-4a6d-90b2-1d7030d16da5",
    "deepnote_cell_type": "code",
    "deepnote_to_be_reexecuted": false,
    "execution_millis": 15,
    "execution_start": 1622146118167,
    "source_hash": "dd7ebbdf"
   },
   "outputs": [
    {
     "data": {
      "text/plain": [
       "['age',\n",
       " 'fleeing',\n",
       " 'is_hispanic',\n",
       " 'is_unknown_race',\n",
       " 'is_unarmed',\n",
       " 'had_blunt object',\n",
       " 'had_edged weapon',\n",
       " 'had_firearm',\n",
       " 'had_no_weapon',\n",
       " 'had_other_weapon',\n",
       " 'under 12',\n",
       " '12-17',\n",
       " '18-24',\n",
       " '35-44',\n",
       " '45-54']"
      ]
     },
     "execution_count": 25,
     "metadata": {},
     "output_type": "execute_result"
    }
   ],
   "source": [
    "f_features = select_kbest(X_train, y_train, 15)\n",
    "f_features"
   ]
  },
  {
   "cell_type": "markdown",
   "metadata": {
    "cell_id": "00047-25f9c171-34eb-49fb-be11-a205a0daa849",
    "deepnote_cell_type": "markdown"
   },
   "source": [
    "#### Recursive Feature Elimination (RFE)\n",
    "- Recursively removes attributes to meet the number of required features and then builds a model on those attributes that remain to see if you can you match or improve performance with a smaller subset."
   ]
  },
  {
   "cell_type": "code",
   "execution_count": 26,
   "metadata": {
    "cell_id": "00048-3f015c4c-5584-46e0-a2a2-b9c04e5166e0",
    "deepnote_cell_type": "code",
    "deepnote_to_be_reexecuted": false,
    "execution_millis": 11823,
    "execution_start": 1622146118212,
    "source_hash": "509f8fd5"
   },
   "outputs": [
    {
     "data": {
      "text/plain": [
       "['fleeing',\n",
       " 'is_middle eastern',\n",
       " 'is_native_american',\n",
       " 'is_unknown_race',\n",
       " 'is_unarmed',\n",
       " 'had_blunt object',\n",
       " 'had_edged weapon',\n",
       " 'had_firearm',\n",
       " 'had_no_weapon',\n",
       " 'had_other_weapon',\n",
       " 'under 12',\n",
       " '18-24',\n",
       " '25-34',\n",
       " '35-44',\n",
       " '45-54']"
      ]
     },
     "execution_count": 26,
     "metadata": {},
     "output_type": "execute_result"
    }
   ],
   "source": [
    "rfe_features = rfe(X_train, y_train, 15)\n",
    "rfe_features"
   ]
  },
  {
   "cell_type": "code",
   "execution_count": 27,
   "metadata": {
    "cell_id": "00049-43793709-55e6-4b4f-a8af-a92b98812609",
    "deepnote_cell_type": "code",
    "deepnote_to_be_reexecuted": false,
    "execution_millis": 19,
    "execution_start": 1622146130100,
    "source_hash": "31ee34a3"
   },
   "outputs": [
    {
     "name": "stdout",
     "output_type": "stream",
     "text": [
      "18\n"
     ]
    },
    {
     "data": {
      "text/plain": [
       "['fleeing',\n",
       " 'had_other_weapon',\n",
       " 'is_middle eastern',\n",
       " '12-17',\n",
       " 'had_no_weapon',\n",
       " 'is_native_american',\n",
       " '25-34',\n",
       " '18-24',\n",
       " 'under 12',\n",
       " 'had_firearm',\n",
       " 'is_hispanic',\n",
       " 'is_unknown_race',\n",
       " 'had_blunt object',\n",
       " '35-44',\n",
       " 'is_unarmed',\n",
       " '45-54',\n",
       " 'age',\n",
       " 'had_edged weapon']"
      ]
     },
     "execution_count": 27,
     "metadata": {},
     "output_type": "execute_result"
    }
   ],
   "source": [
    "combo_feats = list(set(f_features + rfe_features))\n",
    "print(len(combo_feats))\n",
    "combo_feats"
   ]
  },
  {
   "cell_type": "code",
   "execution_count": 33,
   "metadata": {
    "cell_id": "00050-2965fe11-563b-4f88-9377-01dfabe32421",
    "deepnote_cell_type": "code",
    "deepnote_to_be_reexecuted": false,
    "execution_millis": 22,
    "execution_start": 1622146199194,
    "source_hash": "17358204"
   },
   "outputs": [
    {
     "name": "stdout",
     "output_type": "stream",
     "text": [
      "11\n"
     ]
    }
   ],
   "source": [
    "#specify combined features that reduces multicollinearity\n",
    "combo_feats = ['fleeing',\n",
    "               'had_other_weapon',\n",
    "               'is_middle eastern',\n",
    "               '12-17',\n",
    "               'had_no_weapon',\n",
    "               'is_native_american',\n",
    "               '25-34',\n",
    "               '18-24',\n",
    "               'under 12',\n",
    "               'had_firearm',\n",
    "               'is_hispanic']\n",
    " \n",
    "print(len(combo_feats))"
   ]
  },
  {
   "cell_type": "markdown",
   "metadata": {},
   "source": [
    "[Jump to Table of Contents](#toc)\n",
    "___\n",
    "# <a name=\"2nd-iteration-identify-baseline\"></a>• 2nd Iteration: Identify Baseline"
   ]
  },
  {
   "cell_type": "code",
   "execution_count": null,
   "metadata": {},
   "outputs": [],
   "source": []
  },
  {
   "cell_type": "code",
   "execution_count": 34,
   "metadata": {
    "cell_id": "00052-5208a76c-9fd4-4e7a-bb01-d65ac3cdaf9c",
    "deepnote_cell_type": "code",
    "deepnote_to_be_reexecuted": false,
    "execution_millis": 35,
    "execution_start": 1622146200064,
    "source_hash": "276ef1c0"
   },
   "outputs": [
    {
     "data": {
      "text/plain": [
       "threat              3846\n",
       "no_threat           2748\n",
       "ambiguous_threat     762\n",
       "Name: alleged_threat_lvl, dtype: int64"
      ]
     },
     "execution_count": 34,
     "metadata": {},
     "output_type": "execute_result"
    }
   ],
   "source": [
    "#baseline prediction: the most prevalent class in training dataset(the mode)\n",
    "train.alleged_threat_lvl.value_counts()"
   ]
  },
  {
   "cell_type": "code",
   "execution_count": 35,
   "metadata": {
    "cell_id": "00053-6d1dbeeb-c063-4870-a3d8-3896199aaf72",
    "deepnote_cell_type": "code",
    "deepnote_to_be_reexecuted": false,
    "execution_millis": 32,
    "execution_start": 1622146200626,
    "source_hash": "f0069d41"
   },
   "outputs": [
    {
     "name": "stdout",
     "output_type": "stream",
     "text": [
      "baseline accuracy:  0.5228\n"
     ]
    }
   ],
   "source": [
    "#baseline model would be to predict 0 since it is most prevalant\n",
    "#baseline accuracy:\n",
    "baseline_accuracy = (train.alleged_threat_lvl == 'threat').mean()\n",
    "\n",
    "print(f'baseline accuracy: {baseline_accuracy: .4}')"
   ]
  },
  {
   "cell_type": "markdown",
   "metadata": {},
   "source": [
    "[Jump to Table of Contents](#toc)\n",
    "___\n",
    "# <a name=\"2nd-iteration-train\"></a>• 2nd Iteration: Model on Train"
   ]
  },
  {
   "cell_type": "code",
   "execution_count": null,
   "metadata": {},
   "outputs": [],
   "source": []
  },
  {
   "cell_type": "markdown",
   "metadata": {
    "cell_id": "00055-5d6d638c-c265-409e-b05e-62ca5a7073fc",
    "deepnote_cell_type": "markdown"
   },
   "source": [
    "### Decision Tree"
   ]
  },
  {
   "cell_type": "code",
   "execution_count": 36,
   "metadata": {
    "cell_id": "00056-1361dbf2-ad78-483b-b21c-091abff792cf",
    "deepnote_cell_type": "code",
    "deepnote_to_be_reexecuted": false,
    "execution_millis": 87,
    "execution_start": 1622146204882,
    "source_hash": "7a2ba196",
    "tags": []
   },
   "outputs": [
    {
     "name": "stdout",
     "output_type": "stream",
     "text": [
      "Baseline is 0.5228\n",
      "----------------\n",
      "Accuracy of Decision Tree classifier on combo_feats (max_depth = 3): 0.7187\n"
     ]
    }
   ],
   "source": [
    "#create Decision Tree model (specifying max_depth argument and combo_feats)\n",
    "dt = DecisionTreeClassifier(max_depth=3, random_state=123)\n",
    "\n",
    "#fit model on combo_feats\n",
    "dt.fit(X_train[combo_feats], y_train)\n",
    "\n",
    "#get predictions from model\n",
    "y_pred = dt.predict(X_train[combo_feats])\n",
    "\n",
    "#compute accuracy\n",
    "dt_train_acc = round(dt.score(X_train[combo_feats], y_train), 4)\n",
    "\n",
    "#compare to baseline\n",
    "print(\"Baseline is\", round(baseline_accuracy, 4))\n",
    "print(\"----------------\")\n",
    "print('Accuracy of Decision Tree classifier on combo_feats (max_depth = 3): {:.4f}'\n",
    "     .format(dt.score(X_train[combo_feats], y_train)))"
   ]
  },
  {
   "cell_type": "markdown",
   "metadata": {
    "cell_id": "00057-fe1c5f37-84a0-4707-b70d-0ab8c5eb255e",
    "deepnote_cell_type": "markdown",
    "tags": []
   },
   "source": [
    "### Random Forest"
   ]
  },
  {
   "cell_type": "code",
   "execution_count": 37,
   "metadata": {
    "cell_id": "00058-20527363-f247-4980-b621-314d72a48eee",
    "deepnote_cell_type": "code",
    "deepnote_to_be_reexecuted": false,
    "execution_millis": 564,
    "execution_start": 1622146212945,
    "source_hash": "ea36678",
    "tags": []
   },
   "outputs": [
    {
     "name": "stdout",
     "output_type": "stream",
     "text": [
      "Baseline is 0.5228\n",
      "----------------\n",
      "Accuracy of Random Forest classifier on combo_feats (max_depth = 5, min_samples_leaf = 3): 0.7191\n"
     ]
    }
   ],
   "source": [
    "#create Random Forest model (specifying max_depth/min_samples_leaf arguments and combo_feats)\n",
    "rf = RandomForestClassifier(max_depth=5, min_samples_leaf=3, random_state=123)\n",
    "\n",
    "#fit model on combo_feats\n",
    "rf.fit(X_train[combo_feats], y_train)\n",
    "\n",
    "#get predictions from model\n",
    "y_pred = rf.predict(X_train[combo_feats])\n",
    "\n",
    "#compute accuracy\n",
    "rf_train_acc = round(rf.score(X_train[combo_feats], y_train), 4)\n",
    "\n",
    "#compare to baseline\n",
    "print(\"Baseline is\", round(baseline_accuracy, 4))\n",
    "print(\"----------------\")\n",
    "print('Accuracy of Random Forest classifier on combo_feats (max_depth = 5, min_samples_leaf = 3): {:.4f}'\n",
    "     .format(rf.score(X_train[combo_feats], y_train)))"
   ]
  },
  {
   "cell_type": "markdown",
   "metadata": {
    "cell_id": "00059-5968a214-24fb-48f0-a472-eed0c1016368",
    "deepnote_cell_type": "markdown",
    "tags": []
   },
   "source": [
    "### K-Nearest Neighbor (KNN)"
   ]
  },
  {
   "cell_type": "code",
   "execution_count": 38,
   "metadata": {
    "cell_id": "00060-69eadff0-42e6-4412-8618-dbd487849c25",
    "deepnote_cell_type": "code",
    "deepnote_to_be_reexecuted": false,
    "execution_millis": 2785,
    "execution_start": 1622146215624,
    "source_hash": "1a11e850",
    "tags": []
   },
   "outputs": [
    {
     "name": "stdout",
     "output_type": "stream",
     "text": [
      "Baseline is 0.52\n",
      "----------------\n",
      "Accuracy of KNN classifier on combo_feats (n_neighbors = 20): 0.712887\n"
     ]
    }
   ],
   "source": [
    "#create KNN model (specifying n_neighbors argument and combo_feats)\n",
    "knn = KNeighborsClassifier(n_neighbors=20)\n",
    "\n",
    "#fit model on combo_feats\n",
    "knn.fit(X_train[combo_feats], y_train)\n",
    "\n",
    "#get predictions from model\n",
    "y_pred = knn.predict(X_train[combo_feats])\n",
    "\n",
    "#compute accuracy\n",
    "knn_train_acc = round(knn.score(X_train[combo_feats], y_train), 4)\n",
    "\n",
    "#compare to baseline\n",
    "print(\"Baseline is\", round(baseline_accuracy, 2))\n",
    "print(\"----------------\")\n",
    "print('Accuracy of KNN classifier on combo_feats (n_neighbors = 20): {:4f}'\n",
    "     .format(knn.score(X_train[combo_feats], y_train)))"
   ]
  },
  {
   "cell_type": "markdown",
   "metadata": {
    "cell_id": "00061-7b58bed1-b7e3-44d2-a4ef-53ce1ddeca69",
    "deepnote_cell_type": "markdown",
    "tags": []
   },
   "source": [
    "### Logistic Regression"
   ]
  },
  {
   "cell_type": "code",
   "execution_count": 39,
   "metadata": {
    "cell_id": "00062-265c14a5-3a6c-4864-a1c0-530b7ef4bbb8",
    "deepnote_cell_type": "code",
    "deepnote_to_be_reexecuted": false,
    "execution_millis": 313,
    "execution_start": 1622146219940,
    "source_hash": "96cd3704",
    "tags": []
   },
   "outputs": [
    {
     "name": "stdout",
     "output_type": "stream",
     "text": [
      "Baseline is 0.5228\n",
      "----------------\n",
      "Accuracy of Logistic Regression classifier on combo_feats (default parameters): 0.7178\n"
     ]
    }
   ],
   "source": [
    "#create Logistic Regression model (default parameters, specifying combo_feats)\n",
    "logit = LogisticRegression(random_state=123)\n",
    "\n",
    "#fit model on combo_feats\n",
    "logit.fit(X_train[combo_feats], y_train)\n",
    "\n",
    "#get predictions from model\n",
    "y_pred = logit.predict(X_train[combo_feats])\n",
    "\n",
    "#compute accuracy\n",
    "logit_train_acc = round(logit.score(X_train[combo_feats], y_train), 4)\n",
    "\n",
    "#compare to baseline\n",
    "print(\"Baseline is\", round(baseline_accuracy, 4))\n",
    "print(\"----------------\")\n",
    "print('Accuracy of Logistic Regression classifier on combo_feats (default parameters): {:.4f}'\n",
    "     .format(logit.score(X_train[combo_feats], y_train)))"
   ]
  },
  {
   "cell_type": "markdown",
   "metadata": {
    "cell_id": "00063-f95e20df-18da-4bc6-a849-0fff95d48e47",
    "deepnote_cell_type": "markdown",
    "tags": []
   },
   "source": [
    "### Takeways:\n",
    "- **Decision Tree** model (dt) specifying max_depth argument of 3 and using combo_feats:\n",
    "    - Score of 71% accuracy\n",
    "    \n",
    "    \n",
    "    \n",
    "- **Random Forest** model (rf) specifying max_depth argument of 5, min_samples_leaf argument of 3 and using combo_feats:\n",
    "    - Score of 72% accuracy\n",
    "    \n",
    "    \n",
    "    \n",
    "- **K-Nearest Neighbor** model (knn) specifying n_neighbors argument of 20 and using combo_feats:\n",
    "    - Score of 70% accuracy\n",
    "    \n",
    "    \n",
    "    \n",
    "- **Logistic Regression** model (logit) using default parameters and combo_feats:\n",
    "    - Score of 70% accuracy\n",
    "\n",
    "Next, compare scores to validate (out-of-sample data)."
   ]
  },
  {
   "cell_type": "markdown",
   "metadata": {},
   "source": [
    "[Jump to Table of Contents](#toc)\n",
    "___\n",
    "# <a name=\"2nd-iteration-validate\"></a>• 2nd Iteration: Model on Validate"
   ]
  },
  {
   "cell_type": "code",
   "execution_count": null,
   "metadata": {},
   "outputs": [],
   "source": []
  },
  {
   "cell_type": "code",
   "execution_count": 40,
   "metadata": {
    "cell_id": "00065-6c01fe9b-96fd-4762-9c38-d7df2e8744d5",
    "deepnote_cell_type": "code",
    "deepnote_to_be_reexecuted": false,
    "execution_millis": 130,
    "execution_start": 1622146223260,
    "source_hash": "37a4cb55",
    "tags": []
   },
   "outputs": [
    {
     "name": "stdout",
     "output_type": "stream",
     "text": [
      "Accuracy of Decision Tree classifier on train set: 0.7187\n",
      "--------------------------------------------------------------\n",
      "Decision Tree classifier on validate set:\n",
      "                  precision    recall  f1-score   support\n",
      "\n",
      "ambiguous_threat       0.00      0.00      0.00       327\n",
      "       no_threat       0.68      0.70      0.69      1177\n",
      "          threat       0.74      0.88      0.80      1649\n",
      "\n",
      "        accuracy                           0.72      3153\n",
      "       macro avg       0.47      0.52      0.50      3153\n",
      "    weighted avg       0.64      0.72      0.68      3153\n",
      "\n"
     ]
    }
   ],
   "source": [
    "#dt's metrics on validate\n",
    "\n",
    "#evaluate on validate sample\n",
    "y_pred = dt.predict(X_validate[combo_feats])\n",
    "\n",
    "#compute accuracy\n",
    "dt_val_acc = round(dt.score(X_validate[combo_feats], y_validate), 4)\n",
    "\n",
    "#compare train to validate\n",
    "print('Accuracy of Decision Tree classifier on train set: {:.4f}'\n",
    "     .format(dt.score(X_train[combo_feats], y_train)))\n",
    "print(\"--------------------------------------------------------------\")\n",
    "print(\"Decision Tree classifier on validate set:\")\n",
    "print(classification_report(y_validate, y_pred))"
   ]
  },
  {
   "cell_type": "code",
   "execution_count": 41,
   "metadata": {
    "cell_id": "00066-feb61768-fa1e-4a9d-944d-e97a62321b0a",
    "deepnote_cell_type": "code",
    "deepnote_to_be_reexecuted": false,
    "execution_millis": 292,
    "execution_start": 1622146225993,
    "source_hash": "88ecc93c",
    "tags": []
   },
   "outputs": [
    {
     "name": "stdout",
     "output_type": "stream",
     "text": [
      "Accuracy of Random Forest classifier on train set: 0.7191\n",
      "--------------------------------------------------------------\n",
      "Random Forest classifier on validate set:\n",
      "                  precision    recall  f1-score   support\n",
      "\n",
      "ambiguous_threat       0.00      0.00      0.00       327\n",
      "       no_threat       0.68      0.70      0.69      1177\n",
      "          threat       0.74      0.88      0.80      1649\n",
      "\n",
      "        accuracy                           0.72      3153\n",
      "       macro avg       0.47      0.52      0.50      3153\n",
      "    weighted avg       0.64      0.72      0.68      3153\n",
      "\n"
     ]
    }
   ],
   "source": [
    "#rf's metrics on validate\n",
    "\n",
    "#evaluate on validate sample\n",
    "y_pred = rf.predict(X_validate[combo_feats])\n",
    "\n",
    "#compute accuracy\n",
    "rf_val_acc = round(rf.score(X_validate[combo_feats], y_validate), 4)\n",
    "\n",
    "#compare train to validate\n",
    "print('Accuracy of Random Forest classifier on train set: {:.4f}'\n",
    "     .format(rf.score(X_train[combo_feats], y_train)))\n",
    "print(\"--------------------------------------------------------------\")\n",
    "print(\"Random Forest classifier on validate set:\")\n",
    "print(classification_report(y_validate, y_pred))"
   ]
  },
  {
   "cell_type": "code",
   "execution_count": 42,
   "metadata": {
    "cell_id": "00067-5fe2000e-33c7-4347-8ccf-c81baa6e7f59",
    "deepnote_cell_type": "code",
    "deepnote_to_be_reexecuted": false,
    "execution_millis": 1716,
    "execution_start": 1622146229614,
    "source_hash": "60fdbfcd",
    "tags": []
   },
   "outputs": [
    {
     "name": "stdout",
     "output_type": "stream",
     "text": [
      "Accuracy of KNN classifier on train set: 0.7129\n",
      "--------------------------------------------------------------\n",
      "KNN classifier on validate set:\n",
      "                  precision    recall  f1-score   support\n",
      "\n",
      "ambiguous_threat       0.44      0.01      0.02       327\n",
      "       no_threat       0.69      0.63      0.66      1177\n",
      "          threat       0.71      0.89      0.79      1649\n",
      "\n",
      "        accuracy                           0.70      3153\n",
      "       macro avg       0.62      0.51      0.49      3153\n",
      "    weighted avg       0.68      0.70      0.66      3153\n",
      "\n"
     ]
    }
   ],
   "source": [
    "#knn's metrics on validate\n",
    "\n",
    "#evaluate on validate sample\n",
    "y_pred = knn.predict(X_validate[combo_feats])\n",
    "\n",
    "#compute accuracy\n",
    "knn_val_acc = round(knn.score(X_validate[combo_feats], y_validate), 4)\n",
    "\n",
    "#compare train to validate\n",
    "print('Accuracy of KNN classifier on train set: {:.4f}'\n",
    "     .format(knn.score(X_train[combo_feats], y_train)))\n",
    "print(\"--------------------------------------------------------------\")\n",
    "print(\"KNN classifier on validate set:\")\n",
    "print(classification_report(y_validate, y_pred))"
   ]
  },
  {
   "cell_type": "code",
   "execution_count": 43,
   "metadata": {
    "cell_id": "00068-2b84c986-5548-4dfb-a967-7cd3f1c996c6",
    "deepnote_cell_type": "code",
    "deepnote_to_be_reexecuted": false,
    "execution_millis": 134,
    "execution_start": 1622146231716,
    "source_hash": "ae1971ef"
   },
   "outputs": [
    {
     "name": "stdout",
     "output_type": "stream",
     "text": [
      "Accuracy of Logistic Regression classifier on train set: 0.7178\n",
      "--------------------------------------------------------------\n",
      "Logistic Regression classifier on validate set:\n",
      "                  precision    recall  f1-score   support\n",
      "\n",
      "ambiguous_threat       0.00      0.00      0.00       327\n",
      "       no_threat       0.68      0.70      0.69      1177\n",
      "          threat       0.74      0.87      0.80      1649\n",
      "\n",
      "        accuracy                           0.72      3153\n",
      "       macro avg       0.47      0.52      0.50      3153\n",
      "    weighted avg       0.64      0.72      0.68      3153\n",
      "\n"
     ]
    }
   ],
   "source": [
    "#logit's metrics on validate\n",
    "\n",
    "#evaluate on validate sample\n",
    "y_pred = logit.predict(X_validate[combo_feats])\n",
    "\n",
    "#compute accuracy\n",
    "logit_val_acc = round(logit.score(X_validate[combo_feats], y_validate), 4)\n",
    "\n",
    "#compare train to validate\n",
    "print('Accuracy of Logistic Regression classifier on train set: {:.4f}'\n",
    "     .format(logit.score(X_train[combo_feats], y_train)))\n",
    "print(\"--------------------------------------------------------------\")\n",
    "print(\"Logistic Regression classifier on validate set:\")\n",
    "print(classification_report(y_validate, y_pred))"
   ]
  },
  {
   "cell_type": "code",
   "execution_count": 44,
   "metadata": {
    "cell_id": "00069-353e1870-ad01-4ff5-831f-80701afd224e",
    "deepnote_cell_type": "code",
    "deepnote_to_be_reexecuted": false,
    "execution_millis": 52,
    "execution_start": 1622146233590,
    "source_hash": "f5565531"
   },
   "outputs": [
    {
     "data": {
      "application/vnd.deepnote.dataframe.v2+json": {
       "column_count": 4,
       "columns": [
        {
         "dtype": "object",
         "name": "Model",
         "stats": {
          "categories": [
           {
            "count": 1,
            "name": "Decision Tree"
           },
           {
            "count": 1,
            "name": "Random Forest"
           },
           {
            "count": 2,
            "name": "2 others"
           }
          ],
          "nan_count": 0,
          "unique_count": 4
         }
        },
        {
         "dtype": "float64",
         "name": "Baseline",
         "stats": {
          "histogram": [
           {
            "bin_end": 0.12280000000000005,
            "bin_start": 0.022800000000000042,
            "count": 0
           },
           {
            "bin_end": 0.22280000000000005,
            "bin_start": 0.12280000000000005,
            "count": 0
           },
           {
            "bin_end": 0.3228000000000001,
            "bin_start": 0.22280000000000005,
            "count": 0
           },
           {
            "bin_end": 0.42280000000000006,
            "bin_start": 0.3228000000000001,
            "count": 0
           },
           {
            "bin_end": 0.5228,
            "bin_start": 0.42280000000000006,
            "count": 0
           },
           {
            "bin_end": 0.6228000000000001,
            "bin_start": 0.5228,
            "count": 4
           },
           {
            "bin_end": 0.7228000000000001,
            "bin_start": 0.6228000000000001,
            "count": 0
           },
           {
            "bin_end": 0.8228000000000001,
            "bin_start": 0.7228000000000001,
            "count": 0
           },
           {
            "bin_end": 0.9228000000000001,
            "bin_start": 0.8228000000000001,
            "count": 0
           },
           {
            "bin_end": 1.0228000000000002,
            "bin_start": 0.9228000000000001,
            "count": 0
           }
          ],
          "max": "0.5228",
          "min": "0.5228",
          "nan_count": 0,
          "unique_count": 1
         }
        },
        {
         "dtype": "float64",
         "name": "Train Accuracy",
         "stats": {
          "histogram": [
           {
            "bin_end": 0.7135199999999999,
            "bin_start": 0.7129,
            "count": 1
           },
           {
            "bin_end": 0.71414,
            "bin_start": 0.7135199999999999,
            "count": 0
           },
           {
            "bin_end": 0.71476,
            "bin_start": 0.71414,
            "count": 0
           },
           {
            "bin_end": 0.71538,
            "bin_start": 0.71476,
            "count": 0
           },
           {
            "bin_end": 0.716,
            "bin_start": 0.71538,
            "count": 0
           },
           {
            "bin_end": 0.7166199999999999,
            "bin_start": 0.716,
            "count": 0
           },
           {
            "bin_end": 0.71724,
            "bin_start": 0.7166199999999999,
            "count": 0
           },
           {
            "bin_end": 0.7178599999999999,
            "bin_start": 0.71724,
            "count": 1
           },
           {
            "bin_end": 0.71848,
            "bin_start": 0.7178599999999999,
            "count": 0
           },
           {
            "bin_end": 0.7191,
            "bin_start": 0.71848,
            "count": 2
           }
          ],
          "max": "0.7191",
          "min": "0.7129",
          "nan_count": 0,
          "unique_count": 4
         }
        },
        {
         "dtype": "float64",
         "name": "Validate Accuracy",
         "stats": {
          "histogram": [
           {
            "bin_end": 0.7058300000000001,
            "bin_start": 0.7044,
            "count": 1
           },
           {
            "bin_end": 0.70726,
            "bin_start": 0.7058300000000001,
            "count": 0
           },
           {
            "bin_end": 0.70869,
            "bin_start": 0.70726,
            "count": 0
           },
           {
            "bin_end": 0.71012,
            "bin_start": 0.70869,
            "count": 0
           },
           {
            "bin_end": 0.71155,
            "bin_start": 0.71012,
            "count": 0
           },
           {
            "bin_end": 0.7129800000000001,
            "bin_start": 0.71155,
            "count": 0
           },
           {
            "bin_end": 0.71441,
            "bin_start": 0.7129800000000001,
            "count": 0
           },
           {
            "bin_end": 0.71584,
            "bin_start": 0.71441,
            "count": 0
           },
           {
            "bin_end": 0.71727,
            "bin_start": 0.71584,
            "count": 1
           },
           {
            "bin_end": 0.7187,
            "bin_start": 0.71727,
            "count": 2
           }
          ],
          "max": "0.7187",
          "min": "0.7044",
          "nan_count": 0,
          "unique_count": 4
         }
        },
        {
         "dtype": "int64",
         "name": "_deepnote_index_column"
        }
       ],
       "row_count": 4,
       "rows_bottom": null,
       "rows_top": [
        {
         "Baseline": 0.5228,
         "Model": "Decision Tree",
         "Train Accuracy": 0.7187,
         "Validate Accuracy": 0.7187,
         "_deepnote_index_column": 0
        },
        {
         "Baseline": 0.5228,
         "Model": "Random Forest",
         "Train Accuracy": 0.7191,
         "Validate Accuracy": 0.7184,
         "_deepnote_index_column": 1
        },
        {
         "Baseline": 0.5228,
         "Model": "K-Nearest Neighbor",
         "Train Accuracy": 0.7129,
         "Validate Accuracy": 0.7044,
         "_deepnote_index_column": 2
        },
        {
         "Baseline": 0.5228,
         "Model": "Logistic Regression",
         "Train Accuracy": 0.7178,
         "Validate Accuracy": 0.7165,
         "_deepnote_index_column": 3
        }
       ]
      },
      "text/html": [
       "<div>\n",
       "<style scoped>\n",
       "    .dataframe tbody tr th:only-of-type {\n",
       "        vertical-align: middle;\n",
       "    }\n",
       "\n",
       "    .dataframe tbody tr th {\n",
       "        vertical-align: top;\n",
       "    }\n",
       "\n",
       "    .dataframe thead th {\n",
       "        text-align: right;\n",
       "    }\n",
       "</style>\n",
       "<table border=\"1\" class=\"dataframe\">\n",
       "  <thead>\n",
       "    <tr style=\"text-align: right;\">\n",
       "      <th></th>\n",
       "      <th>Model</th>\n",
       "      <th>Baseline</th>\n",
       "      <th>Train Accuracy</th>\n",
       "      <th>Validate Accuracy</th>\n",
       "    </tr>\n",
       "  </thead>\n",
       "  <tbody>\n",
       "    <tr>\n",
       "      <th>0</th>\n",
       "      <td>Decision Tree</td>\n",
       "      <td>0.5228</td>\n",
       "      <td>0.7187</td>\n",
       "      <td>0.7187</td>\n",
       "    </tr>\n",
       "    <tr>\n",
       "      <th>1</th>\n",
       "      <td>Random Forest</td>\n",
       "      <td>0.5228</td>\n",
       "      <td>0.7191</td>\n",
       "      <td>0.7184</td>\n",
       "    </tr>\n",
       "    <tr>\n",
       "      <th>2</th>\n",
       "      <td>K-Nearest Neighbor</td>\n",
       "      <td>0.5228</td>\n",
       "      <td>0.7129</td>\n",
       "      <td>0.7044</td>\n",
       "    </tr>\n",
       "    <tr>\n",
       "      <th>3</th>\n",
       "      <td>Logistic Regression</td>\n",
       "      <td>0.5228</td>\n",
       "      <td>0.7178</td>\n",
       "      <td>0.7165</td>\n",
       "    </tr>\n",
       "  </tbody>\n",
       "</table>\n",
       "</div>"
      ],
      "text/plain": [
       "                 Model  Baseline  Train Accuracy  Validate Accuracy\n",
       "0        Decision Tree    0.5228          0.7187             0.7187\n",
       "1        Random Forest    0.5228          0.7191             0.7184\n",
       "2   K-Nearest Neighbor    0.5228          0.7129             0.7044\n",
       "3  Logistic Regression    0.5228          0.7178             0.7165"
      ]
     },
     "execution_count": 44,
     "metadata": {},
     "output_type": "execute_result"
    }
   ],
   "source": [
    "# Build dataframe to record accuracy (starting with decision tree)\n",
    "metric_df = pd.DataFrame(data=[{\n",
    "    'Model': 'Decision Tree', \n",
    "    'Baseline': round(baseline_accuracy, 4),\n",
    "    'Train Accuracy': round(dt_train_acc, 4),\n",
    "    'Validate Accuracy': round(dt_val_acc, 4)}])\n",
    "\n",
    "# append dataframe to record accuracy on random forest\n",
    "metric_df = metric_df.append({\n",
    "    'Model': 'Random Forest', \n",
    "    'Baseline': round(baseline_accuracy, 4),\n",
    "    'Train Accuracy': round(rf_train_acc, 4),\n",
    "    'Validate Accuracy':round(rf_val_acc, 4)}, ignore_index=True)\n",
    "\n",
    "# append dataframe to record accuracy on knn\n",
    "metric_df = metric_df.append({\n",
    "    'Model': 'K-Nearest Neighbor', \n",
    "    'Baseline': round(baseline_accuracy, 4),\n",
    "    'Train Accuracy': round(knn_train_acc, 4),\n",
    "    'Validate Accuracy':round(knn_val_acc, 4)}, ignore_index=True)\n",
    "\n",
    "# append dataframe to record accuracy on logistic regression\n",
    "metric_df = metric_df.append({\n",
    "    'Model': 'Logistic Regression', \n",
    "    'Baseline': round(baseline_accuracy, 4),\n",
    "    'Train Accuracy': round(logit_train_acc, 4),\n",
    "    'Validate Accuracy':round(logit_val_acc, 4)}, ignore_index=True)\n",
    "\n",
    "\n",
    "metric_df"
   ]
  },
  {
   "cell_type": "code",
   "execution_count": 45,
   "metadata": {
    "cell_id": "00070-d9b4806c-79f0-4d76-b157-248ba8d9a9a6",
    "deepnote_cell_type": "code",
    "deepnote_to_be_reexecuted": false,
    "execution_millis": 32,
    "execution_start": 1622146236799,
    "source_hash": "1670c0b5",
    "tags": []
   },
   "outputs": [
    {
     "data": {
      "application/vnd.deepnote.dataframe.v2+json": {
       "column_count": 4,
       "columns": [
        {
         "dtype": "object",
         "name": "Model",
         "stats": {
          "categories": [
           {
            "count": 1,
            "name": "Decision Tree"
           },
           {
            "count": 1,
            "name": "Random Forest"
           },
           {
            "count": 2,
            "name": "2 others"
           }
          ],
          "nan_count": 0,
          "unique_count": 4
         }
        },
        {
         "dtype": "float64",
         "name": "Baseline",
         "stats": {
          "histogram": [
           {
            "bin_end": 0.12280000000000005,
            "bin_start": 0.022800000000000042,
            "count": 0
           },
           {
            "bin_end": 0.22280000000000005,
            "bin_start": 0.12280000000000005,
            "count": 0
           },
           {
            "bin_end": 0.3228000000000001,
            "bin_start": 0.22280000000000005,
            "count": 0
           },
           {
            "bin_end": 0.42280000000000006,
            "bin_start": 0.3228000000000001,
            "count": 0
           },
           {
            "bin_end": 0.5228,
            "bin_start": 0.42280000000000006,
            "count": 0
           },
           {
            "bin_end": 0.6228000000000001,
            "bin_start": 0.5228,
            "count": 4
           },
           {
            "bin_end": 0.7228000000000001,
            "bin_start": 0.6228000000000001,
            "count": 0
           },
           {
            "bin_end": 0.8228000000000001,
            "bin_start": 0.7228000000000001,
            "count": 0
           },
           {
            "bin_end": 0.9228000000000001,
            "bin_start": 0.8228000000000001,
            "count": 0
           },
           {
            "bin_end": 1.0228000000000002,
            "bin_start": 0.9228000000000001,
            "count": 0
           }
          ],
          "max": "0.5228",
          "min": "0.5228",
          "nan_count": 0,
          "unique_count": 1
         }
        },
        {
         "dtype": "float64",
         "name": "Train Accuracy",
         "stats": {
          "histogram": [
           {
            "bin_end": 0.7135199999999999,
            "bin_start": 0.7129,
            "count": 1
           },
           {
            "bin_end": 0.71414,
            "bin_start": 0.7135199999999999,
            "count": 0
           },
           {
            "bin_end": 0.71476,
            "bin_start": 0.71414,
            "count": 0
           },
           {
            "bin_end": 0.71538,
            "bin_start": 0.71476,
            "count": 0
           },
           {
            "bin_end": 0.716,
            "bin_start": 0.71538,
            "count": 0
           },
           {
            "bin_end": 0.7166199999999999,
            "bin_start": 0.716,
            "count": 0
           },
           {
            "bin_end": 0.71724,
            "bin_start": 0.7166199999999999,
            "count": 0
           },
           {
            "bin_end": 0.7178599999999999,
            "bin_start": 0.71724,
            "count": 1
           },
           {
            "bin_end": 0.71848,
            "bin_start": 0.7178599999999999,
            "count": 0
           },
           {
            "bin_end": 0.7191,
            "bin_start": 0.71848,
            "count": 2
           }
          ],
          "max": "0.7191",
          "min": "0.7129",
          "nan_count": 0,
          "unique_count": 4
         }
        },
        {
         "dtype": "float64",
         "name": "Validate Accuracy",
         "stats": {
          "histogram": [
           {
            "bin_end": 0.7058300000000001,
            "bin_start": 0.7044,
            "count": 1
           },
           {
            "bin_end": 0.70726,
            "bin_start": 0.7058300000000001,
            "count": 0
           },
           {
            "bin_end": 0.70869,
            "bin_start": 0.70726,
            "count": 0
           },
           {
            "bin_end": 0.71012,
            "bin_start": 0.70869,
            "count": 0
           },
           {
            "bin_end": 0.71155,
            "bin_start": 0.71012,
            "count": 0
           },
           {
            "bin_end": 0.7129800000000001,
            "bin_start": 0.71155,
            "count": 0
           },
           {
            "bin_end": 0.71441,
            "bin_start": 0.7129800000000001,
            "count": 0
           },
           {
            "bin_end": 0.71584,
            "bin_start": 0.71441,
            "count": 0
           },
           {
            "bin_end": 0.71727,
            "bin_start": 0.71584,
            "count": 1
           },
           {
            "bin_end": 0.7187,
            "bin_start": 0.71727,
            "count": 2
           }
          ],
          "max": "0.7187",
          "min": "0.7044",
          "nan_count": 0,
          "unique_count": 4
         }
        },
        {
         "dtype": "int64",
         "name": "_deepnote_index_column"
        }
       ],
       "row_count": 4,
       "rows_bottom": null,
       "rows_top": [
        {
         "Baseline": 0.5228,
         "Model": "Decision Tree",
         "Train Accuracy": 0.7187,
         "Validate Accuracy": 0.7187,
         "_deepnote_index_column": 0
        },
        {
         "Baseline": 0.5228,
         "Model": "Random Forest",
         "Train Accuracy": 0.7191,
         "Validate Accuracy": 0.7184,
         "_deepnote_index_column": 1
        },
        {
         "Baseline": 0.5228,
         "Model": "K-Nearest Neighbor",
         "Train Accuracy": 0.7129,
         "Validate Accuracy": 0.7044,
         "_deepnote_index_column": 2
        },
        {
         "Baseline": 0.5228,
         "Model": "Logistic Regression",
         "Train Accuracy": 0.7178,
         "Validate Accuracy": 0.7165,
         "_deepnote_index_column": 3
        }
       ]
      },
      "text/html": [
       "<div>\n",
       "<style scoped>\n",
       "    .dataframe tbody tr th:only-of-type {\n",
       "        vertical-align: middle;\n",
       "    }\n",
       "\n",
       "    .dataframe tbody tr th {\n",
       "        vertical-align: top;\n",
       "    }\n",
       "\n",
       "    .dataframe thead th {\n",
       "        text-align: right;\n",
       "    }\n",
       "</style>\n",
       "<table border=\"1\" class=\"dataframe\">\n",
       "  <thead>\n",
       "    <tr style=\"text-align: right;\">\n",
       "      <th></th>\n",
       "      <th>Model</th>\n",
       "      <th>Baseline</th>\n",
       "      <th>Train Accuracy</th>\n",
       "      <th>Validate Accuracy</th>\n",
       "    </tr>\n",
       "  </thead>\n",
       "  <tbody>\n",
       "    <tr>\n",
       "      <th>0</th>\n",
       "      <td>Decision Tree</td>\n",
       "      <td>0.5228</td>\n",
       "      <td>0.7187</td>\n",
       "      <td>0.7187</td>\n",
       "    </tr>\n",
       "    <tr>\n",
       "      <th>1</th>\n",
       "      <td>Random Forest</td>\n",
       "      <td>0.5228</td>\n",
       "      <td>0.7191</td>\n",
       "      <td>0.7184</td>\n",
       "    </tr>\n",
       "    <tr>\n",
       "      <th>2</th>\n",
       "      <td>K-Nearest Neighbor</td>\n",
       "      <td>0.5228</td>\n",
       "      <td>0.7129</td>\n",
       "      <td>0.7044</td>\n",
       "    </tr>\n",
       "    <tr>\n",
       "      <th>3</th>\n",
       "      <td>Logistic Regression</td>\n",
       "      <td>0.5228</td>\n",
       "      <td>0.7178</td>\n",
       "      <td>0.7165</td>\n",
       "    </tr>\n",
       "  </tbody>\n",
       "</table>\n",
       "</div>"
      ],
      "text/plain": [
       "                 Model  Baseline  Train Accuracy  Validate Accuracy\n",
       "0        Decision Tree    0.5228          0.7187             0.7187\n",
       "1        Random Forest    0.5228          0.7191             0.7184\n",
       "2   K-Nearest Neighbor    0.5228          0.7129             0.7044\n",
       "3  Logistic Regression    0.5228          0.7178             0.7165"
      ]
     },
     "execution_count": 45,
     "metadata": {},
     "output_type": "execute_result"
    }
   ],
   "source": [
    "4# Build dataframe to record accuracy (starting with decision tree)\n",
    "metric_df = pd.DataFrame(data=[{\n",
    "    'Model': 'Decision Tree', \n",
    "    'Baseline': round(baseline_accuracy, 4),\n",
    "    'Train Accuracy': round(dt_train_acc, 4),\n",
    "    'Validate Accuracy': round(dt_val_acc, 4)}])\n",
    "\n",
    "# append dataframe to record accuracy on random forest\n",
    "metric_df = metric_df.append({\n",
    "    'Model': 'Random Forest', \n",
    "    'Baseline': round(baseline_accuracy, 4),\n",
    "    'Train Accuracy': round(rf_train_acc, 4),\n",
    "    'Validate Accuracy':round(rf_val_acc, 4)}, ignore_index=True)\n",
    "\n",
    "# append dataframe to record accuracy on knn\n",
    "metric_df = metric_df.append({\n",
    "    'Model': 'K-Nearest Neighbor', \n",
    "    'Baseline': round(baseline_accuracy, 4),\n",
    "    'Train Accuracy': round(knn_train_acc, 4),\n",
    "    'Validate Accuracy':round(knn_val_acc, 4)}, ignore_index=True)\n",
    "\n",
    "# append dataframe to record accuracy on logistic regression\n",
    "metric_df = metric_df.append({\n",
    "    'Model': 'Logistic Regression', \n",
    "    'Baseline': round(baseline_accuracy, 4),\n",
    "    'Train Accuracy': round(logit_train_acc,4),\n",
    "    'Validate Accuracy':round(logit_val_acc, 4)}, ignore_index=True)\n",
    "\n",
    "\n",
    "metric_df"
   ]
  },
  {
   "cell_type": "markdown",
   "metadata": {
    "cell_id": "00071-06af83c1-a144-4fc6-8e68-8ff8d8ef5338",
    "deepnote_cell_type": "markdown",
    "tags": []
   },
   "source": [
    "### Takeaways\n",
    "\n",
    "**Random Forest** is the best-performing model and will be evaluated on test data.\n"
   ]
  },
  {
   "cell_type": "markdown",
   "metadata": {},
   "source": [
    "[Jump to Table of Contents](#toc)\n",
    "___\n",
    "# <a name=\"2nd-iteration-test\"></a>• 2nd Iteration: Model on Test"
   ]
  },
  {
   "cell_type": "code",
   "execution_count": null,
   "metadata": {},
   "outputs": [],
   "source": []
  },
  {
   "cell_type": "code",
   "execution_count": 59,
   "metadata": {
    "cell_id": "00073-e0890eaf-365f-4679-b768-5f14e3367c0e",
    "deepnote_cell_type": "code",
    "deepnote_to_be_reexecuted": false,
    "execution_millis": 170,
    "execution_start": 1622146322110,
    "source_hash": "d2cc25c9"
   },
   "outputs": [
    {
     "name": "stdout",
     "output_type": "stream",
     "text": [
      "Random Forest Model:\n",
      "                  precision    recall  f1-score   support\n",
      "\n",
      "ambiguous_threat       0.00      0.00      0.00       273\n",
      "       no_threat       0.68      0.69      0.68       981\n",
      "          threat       0.74      0.87      0.80      1374\n",
      "\n",
      "        accuracy                           0.72      2628\n",
      "       macro avg       0.47      0.52      0.50      2628\n",
      "    weighted avg       0.64      0.72      0.67      2628\n",
      "\n"
     ]
    }
   ],
   "source": [
    "#evaluate on test sample \n",
    "y_pred_test = rf.predict(X_test[combo_feats])\n",
    "\n",
    "#compute accuracy\n",
    "rf_test_acc = round(rf.score(X_test[combo_feats], y_test), 4)\n",
    "\n",
    "print(\"Random Forest Model:\")\n",
    "print(classification_report(y_test, y_pred_test))"
   ]
  },
  {
   "cell_type": "code",
   "execution_count": 60,
   "metadata": {
    "cell_id": "00074-a02e101b-7a5c-45ce-a5d3-48cbc2027908",
    "deepnote_cell_type": "code",
    "deepnote_to_be_reexecuted": false,
    "execution_millis": 4,
    "execution_start": 1622146329762,
    "source_hash": "3cf1bb2c",
    "tags": []
   },
   "outputs": [],
   "source": [
    "# FEEL FREE TO DELETE\n",
    "def get_metrics(mod, X, y):\n",
    "    \"\"\"\n",
    "    get_metrics returns the baseline accuracy score \n",
    "    along with the current model's accuracy score for comparison \n",
    "    along with a table of precision/recall/f1-score/support percentages of the model\n",
    "    \"\"\"\n",
    "    baseline_accuracy = (train.alleged_threat_lvl == 1).mean()\n",
    "    y_pred = mod.predict(X)\n",
    "    accuracy = mod.score(X, y)\n",
    "    conf = confusion_matrix(y, y_pred)\n",
    "    prfs = pd.DataFrame(precision_recall_fscore_support(y, y_pred), index=['precision', 'recall', 'f1-score', 'support'])\n",
    "    \n",
    "    print(f'''\n",
    "    BASELINE accuracy is: {baseline_accuracy:.2%}\n",
    "    The accuracy for our model is: {accuracy:.5%} \n",
    "    ''')\n",
    "    return conf, prfs"
   ]
  },
  {
   "cell_type": "code",
   "execution_count": 61,
   "metadata": {
    "cell_id": "00075-f85864c5-4eba-49ce-a26e-11b5b5334dba",
    "deepnote_cell_type": "code",
    "deepnote_to_be_reexecuted": false,
    "execution_millis": 101,
    "execution_start": 1622146330367,
    "source_hash": "78ec8788",
    "tags": []
   },
   "outputs": [
    {
     "name": "stdout",
     "output_type": "stream",
     "text": [
      "Logistic Regression Model:\n",
      "                  precision    recall  f1-score   support\n",
      "\n",
      "ambiguous_threat       0.00      0.00      0.00       273\n",
      "       no_threat       0.67      0.69      0.68       981\n",
      "          threat       0.74      0.87      0.80      1374\n",
      "\n",
      "        accuracy                           0.71      2628\n",
      "       macro avg       0.47      0.52      0.49      2628\n",
      "    weighted avg       0.64      0.71      0.67      2628\n",
      "\n"
     ]
    }
   ],
   "source": [
    "#evaluate on test sample \n",
    "y_pred_test = logit.predict(X_test[combo_feats])\n",
    "\n",
    "#compute accuracy\n",
    "logit_test_acc = round(logit.score(X_test[combo_feats], y_test), 4)\n",
    "\n",
    "print(\"Logistic Regression Model:\")\n",
    "print(classification_report(y_test, y_pred_test))"
   ]
  },
  {
   "cell_type": "code",
   "execution_count": 62,
   "metadata": {
    "cell_id": "00076-6f10350c-feb1-4317-be4d-85b9582d0373",
    "deepnote_cell_type": "code",
    "deepnote_to_be_reexecuted": false,
    "execution_millis": 49,
    "execution_start": 1622146338805,
    "source_hash": "ac9a94a",
    "tags": []
   },
   "outputs": [
    {
     "name": "stdout",
     "output_type": "stream",
     "text": [
      "\n",
      "    BASELINE accuracy is: 0.00%\n",
      "    The accuracy for our model is: 71.38508% \n",
      "    \n"
     ]
    },
    {
     "data": {
      "text/plain": [
       "(array([[   0,  154,  119],\n",
       "        [   0,  680,  301],\n",
       "        [   0,  178, 1196]]),\n",
       "                0           1            2\n",
       " precision    0.0    0.671937     0.740099\n",
       " recall       0.0    0.693170     0.870451\n",
       " f1-score     0.0    0.682388     0.800000\n",
       " support    273.0  981.000000  1374.000000)"
      ]
     },
     "execution_count": 62,
     "metadata": {},
     "output_type": "execute_result"
    }
   ],
   "source": [
    "# WANTED TO SEE MORE DECIMAL PTS\n",
    "get_metrics(logit, X_test[combo_feats], y_test)"
   ]
  },
  {
   "cell_type": "markdown",
   "metadata": {
    "cell_id": "00077-37279561-1aa7-41e9-ae3e-b3017c474155",
    "deepnote_cell_type": "markdown",
    "tags": []
   },
   "source": [
    "### What is ROC?\n",
    "\n",
    "ROC curves describe the **trade-off between the true positive rate (TPR) and false positive (FPR) rate along different probability thresholds** for a classifier. True positive rate is also known as recall and sometimes Sensitivity — it’s a measure of how well you can find the needle in a haystack.\n",
    "\n",
    "**The receiver operating characteristic (ROC) curve has become the p-value of machine learning classification** — it’s very frequently used, misused, misinterpreted, and mis-maligned.\n",
    "\n",
    "However, ROC curves (like p-values) are useful when used right. By that, I mean they are **useful when not used as a rote score**, but when they form part of a nuanced description of a model’s ability to help solve the problem at hand (e.g. in the case of minority class identification, do they perform better than a random guess or assuming all instances are in the majority class).\n",
    "\n",
    "### What is AUC?\n",
    "\n",
    "Area Under the Curve gives the rate of successful classification by the model. The AUC makes it easy to compare the ROC curve of one model to another.\n",
    "\n",
    "\n"
   ]
  },
  {
   "cell_type": "code",
   "execution_count": 79,
   "metadata": {
    "cell_id": "00072-ce2d4e83-6b61-438b-a67b-712b5d13fce1",
    "deepnote_cell_type": "code",
    "deepnote_to_be_reexecuted": false,
    "execution_millis": 14,
    "execution_start": 1622147008606,
    "source_hash": "a3a4b57c",
    "tags": []
   },
   "outputs": [
    {
     "data": {
      "text/plain": [
       "0.5228310502283106"
      ]
     },
     "execution_count": 79,
     "metadata": {},
     "output_type": "execute_result"
    }
   ],
   "source": [
    "(y_test == 'threat').mean()"
   ]
  },
  {
   "cell_type": "code",
   "execution_count": 86,
   "metadata": {
    "cell_id": "00073-7e10f4c1-17c7-4c2c-94a7-a9bd928e0ed4",
    "deepnote_cell_type": "code",
    "deepnote_to_be_reexecuted": false,
    "execution_millis": 32,
    "execution_start": 1622147629485,
    "source_hash": "21fe4d37",
    "tags": []
   },
   "outputs": [
    {
     "data": {
      "text/plain": [
       "threat              3846\n",
       "no_threat           2748\n",
       "ambiguous_threat     762\n",
       "Name: alleged_threat_lvl, dtype: int64"
      ]
     },
     "execution_count": 86,
     "metadata": {},
     "output_type": "execute_result"
    }
   ],
   "source": [
    "train.alleged_threat_lvl.value_counts()"
   ]
  },
  {
   "cell_type": "code",
   "execution_count": 87,
   "metadata": {
    "cell_id": "00074-eaf841f6-97ac-49c7-bfba-0aafd7e0ed2b",
    "deepnote_cell_type": "code",
    "deepnote_to_be_reexecuted": false,
    "execution_millis": 9,
    "execution_start": 1622148006834,
    "source_hash": "14624629",
    "tags": []
   },
   "outputs": [
    {
     "data": {
      "text/plain": [
       "array([[1, 0, 0],\n",
       "       [1, 0, 0],\n",
       "       [1, 0, 0],\n",
       "       ...,\n",
       "       [0, 1, 0],\n",
       "       [0, 1, 0],\n",
       "       [1, 0, 0]])"
      ]
     },
     "execution_count": 87,
     "metadata": {},
     "output_type": "execute_result"
    }
   ],
   "source": [
    "from sklearn import preprocessing\n",
    "preprocessing.label_binarize(y_train, classes=['threat', 'no_threat', 'ambiguous_threat'])"
   ]
  },
  {
   "cell_type": "code",
   "execution_count": 88,
   "metadata": {
    "cell_id": "00075-97e5c28f-eea6-43dd-9f04-73cc6e550338",
    "deepnote_cell_type": "code",
    "deepnote_to_be_reexecuted": false,
    "execution_millis": 25,
    "execution_start": 1622148047440,
    "source_hash": "191047fb",
    "tags": []
   },
   "outputs": [
    {
     "data": {
      "text/plain": [
       "array([[1, 0, 0],\n",
       "       [1, 0, 0],\n",
       "       [1, 0, 0],\n",
       "       ...,\n",
       "       [0, 1, 0],\n",
       "       [0, 1, 0],\n",
       "       [1, 0, 0]])"
      ]
     },
     "execution_count": 88,
     "metadata": {},
     "output_type": "execute_result"
    }
   ],
   "source": [
    "y_trainbin = preprocessing.label_binarize(y_train, classes=['threat', 'no_threat', 'ambiguous_threat'])"
   ]
  },
  {
   "cell_type": "code",
   "execution_count": 91,
   "metadata": {
    "cell_id": "00076-b3377dcd-51f6-4b37-95eb-28686c77ac31",
    "deepnote_cell_type": "code",
    "deepnote_to_be_reexecuted": false,
    "execution_millis": 15,
    "execution_start": 1622148194848,
    "source_hash": "76a66983",
    "tags": []
   },
   "outputs": [
    {
     "data": {
      "text/plain": [
       "array([0, 1])"
      ]
     },
     "execution_count": 91,
     "metadata": {},
     "output_type": "execute_result"
    }
   ],
   "source": [
    "np.unique(y_trainbin)"
   ]
  },
  {
   "cell_type": "code",
   "execution_count": null,
   "metadata": {
    "cell_id": "00073-06a9ee37-3a81-406f-9184-62c08c9c9555",
    "deepnote_cell_type": "code",
    "tags": []
   },
   "outputs": [],
   "source": [
    "y_train = preprocessing.label_binarize(y_train, classes=['threat', 'no_threat', 'ambiguous_threat'])\n",
    "#fit model on combo_feats\n",
    "rf.fit(X_train[combo_feats], y_train)\n"
   ]
  },
  {
   "cell_type": "code",
   "execution_count": 81,
   "metadata": {
    "cell_id": "00072-af8be13c-4935-48dc-9974-c08629a4ac3c",
    "deepnote_cell_type": "code",
    "deepnote_to_be_reexecuted": false,
    "execution_millis": 97,
    "execution_start": 1622147047880,
    "source_hash": "a905b42",
    "tags": []
   },
   "outputs": [
    {
     "ename": "ValueError",
     "evalue": "multiclass format is not supported",
     "output_type": "error",
     "traceback": [
      "\u001b[0;31m---------------------------------------------------------------------------\u001b[0m",
      "\u001b[0;31mValueError\u001b[0m                                Traceback (most recent call last)",
      "\u001b[0;32m<ipython-input-81-148f032349da>\u001b[0m in \u001b[0;36m<module>\u001b[0;34m\u001b[0m\n\u001b[1;32m      4\u001b[0m \u001b[0;34m\u001b[0m\u001b[0m\n\u001b[1;32m      5\u001b[0m \u001b[0my_pred\u001b[0m \u001b[0;34m=\u001b[0m \u001b[0mrf\u001b[0m\u001b[0;34m.\u001b[0m\u001b[0mpredict_proba\u001b[0m\u001b[0;34m(\u001b[0m\u001b[0mX_test\u001b[0m\u001b[0;34m[\u001b[0m\u001b[0mcombo_feats\u001b[0m\u001b[0;34m]\u001b[0m\u001b[0;34m)\u001b[0m\u001b[0;34m[\u001b[0m\u001b[0;34m:\u001b[0m\u001b[0;34m,\u001b[0m\u001b[0;36m1\u001b[0m\u001b[0;34m]\u001b[0m\u001b[0;34m\u001b[0m\u001b[0;34m\u001b[0m\u001b[0m\n\u001b[0;32m----> 6\u001b[0;31m \u001b[0mfpr\u001b[0m\u001b[0;34m,\u001b[0m \u001b[0mtpr\u001b[0m\u001b[0;34m,\u001b[0m \u001b[0mthresholds\u001b[0m \u001b[0;34m=\u001b[0m \u001b[0mroc_curve\u001b[0m\u001b[0;34m(\u001b[0m\u001b[0my_test\u001b[0m\u001b[0;34m,\u001b[0m \u001b[0my_pred\u001b[0m\u001b[0;34m)\u001b[0m\u001b[0;34m\u001b[0m\u001b[0;34m\u001b[0m\u001b[0m\n\u001b[0m\u001b[1;32m      7\u001b[0m \u001b[0mplt\u001b[0m\u001b[0;34m.\u001b[0m\u001b[0mplot\u001b[0m\u001b[0;34m(\u001b[0m\u001b[0mfpr\u001b[0m\u001b[0;34m,\u001b[0m \u001b[0mtpr\u001b[0m\u001b[0;34m,\u001b[0m \u001b[0mcolor\u001b[0m\u001b[0;34m=\u001b[0m\u001b[0;34m'red'\u001b[0m\u001b[0;34m,\u001b[0m \u001b[0mlw\u001b[0m\u001b[0;34m=\u001b[0m\u001b[0;36m2\u001b[0m\u001b[0;34m,\u001b[0m \u001b[0mlabel\u001b[0m\u001b[0;34m=\u001b[0m\u001b[0;34mf'Random Forest (area = %0.4f)'\u001b[0m \u001b[0;34m%\u001b[0m \u001b[0mauc\u001b[0m\u001b[0;34m(\u001b[0m\u001b[0mfpr\u001b[0m\u001b[0;34m,\u001b[0m \u001b[0mtpr\u001b[0m\u001b[0;34m)\u001b[0m\u001b[0;34m)\u001b[0m\u001b[0;34m\u001b[0m\u001b[0;34m\u001b[0m\u001b[0m\n\u001b[1;32m      8\u001b[0m \u001b[0;34m\u001b[0m\u001b[0m\n",
      "\u001b[0;32m/shared-libs/python3.7/py/lib/python3.7/site-packages/sklearn/utils/validation.py\u001b[0m in \u001b[0;36minner_f\u001b[0;34m(*args, **kwargs)\u001b[0m\n\u001b[1;32m     61\u001b[0m             \u001b[0mextra_args\u001b[0m \u001b[0;34m=\u001b[0m \u001b[0mlen\u001b[0m\u001b[0;34m(\u001b[0m\u001b[0margs\u001b[0m\u001b[0;34m)\u001b[0m \u001b[0;34m-\u001b[0m \u001b[0mlen\u001b[0m\u001b[0;34m(\u001b[0m\u001b[0mall_args\u001b[0m\u001b[0;34m)\u001b[0m\u001b[0;34m\u001b[0m\u001b[0;34m\u001b[0m\u001b[0m\n\u001b[1;32m     62\u001b[0m             \u001b[0;32mif\u001b[0m \u001b[0mextra_args\u001b[0m \u001b[0;34m<=\u001b[0m \u001b[0;36m0\u001b[0m\u001b[0;34m:\u001b[0m\u001b[0;34m\u001b[0m\u001b[0;34m\u001b[0m\u001b[0m\n\u001b[0;32m---> 63\u001b[0;31m                 \u001b[0;32mreturn\u001b[0m \u001b[0mf\u001b[0m\u001b[0;34m(\u001b[0m\u001b[0;34m*\u001b[0m\u001b[0margs\u001b[0m\u001b[0;34m,\u001b[0m \u001b[0;34m**\u001b[0m\u001b[0mkwargs\u001b[0m\u001b[0;34m)\u001b[0m\u001b[0;34m\u001b[0m\u001b[0;34m\u001b[0m\u001b[0m\n\u001b[0m\u001b[1;32m     64\u001b[0m \u001b[0;34m\u001b[0m\u001b[0m\n\u001b[1;32m     65\u001b[0m             \u001b[0;31m# extra_args > 0\u001b[0m\u001b[0;34m\u001b[0m\u001b[0;34m\u001b[0m\u001b[0;34m\u001b[0m\u001b[0m\n",
      "\u001b[0;32m/shared-libs/python3.7/py/lib/python3.7/site-packages/sklearn/metrics/_ranking.py\u001b[0m in \u001b[0;36mroc_curve\u001b[0;34m(y_true, y_score, pos_label, sample_weight, drop_intermediate)\u001b[0m\n\u001b[1;32m    912\u001b[0m     \"\"\"\n\u001b[1;32m    913\u001b[0m     fps, tps, thresholds = _binary_clf_curve(\n\u001b[0;32m--> 914\u001b[0;31m         y_true, y_score, pos_label=pos_label, sample_weight=sample_weight)\n\u001b[0m\u001b[1;32m    915\u001b[0m \u001b[0;34m\u001b[0m\u001b[0m\n\u001b[1;32m    916\u001b[0m     \u001b[0;31m# Attempt to drop thresholds corresponding to points in between and\u001b[0m\u001b[0;34m\u001b[0m\u001b[0;34m\u001b[0m\u001b[0;34m\u001b[0m\u001b[0m\n",
      "\u001b[0;32m/shared-libs/python3.7/py/lib/python3.7/site-packages/sklearn/metrics/_ranking.py\u001b[0m in \u001b[0;36m_binary_clf_curve\u001b[0;34m(y_true, y_score, pos_label, sample_weight)\u001b[0m\n\u001b[1;32m    689\u001b[0m     if not (y_type == \"binary\" or\n\u001b[1;32m    690\u001b[0m             (y_type == \"multiclass\" and pos_label is not None)):\n\u001b[0;32m--> 691\u001b[0;31m         \u001b[0;32mraise\u001b[0m \u001b[0mValueError\u001b[0m\u001b[0;34m(\u001b[0m\u001b[0;34m\"{0} format is not supported\"\u001b[0m\u001b[0;34m.\u001b[0m\u001b[0mformat\u001b[0m\u001b[0;34m(\u001b[0m\u001b[0my_type\u001b[0m\u001b[0;34m)\u001b[0m\u001b[0;34m)\u001b[0m\u001b[0;34m\u001b[0m\u001b[0;34m\u001b[0m\u001b[0m\n\u001b[0m\u001b[1;32m    692\u001b[0m \u001b[0;34m\u001b[0m\u001b[0m\n\u001b[1;32m    693\u001b[0m     \u001b[0mcheck_consistent_length\u001b[0m\u001b[0;34m(\u001b[0m\u001b[0my_true\u001b[0m\u001b[0;34m,\u001b[0m \u001b[0my_score\u001b[0m\u001b[0;34m,\u001b[0m \u001b[0msample_weight\u001b[0m\u001b[0;34m)\u001b[0m\u001b[0;34m\u001b[0m\u001b[0;34m\u001b[0m\u001b[0m\n",
      "\u001b[0;31mValueError\u001b[0m: multiclass format is not supported"
     ]
    },
    {
     "data": {
      "text/plain": [
       "<Figure size 720x432 with 0 Axes>"
      ]
     },
     "metadata": {},
     "output_type": "display_data"
    }
   ],
   "source": [
    "from sklearn.metrics import auc, roc_curve, roc_auc_score, precision_recall_curve\n",
    "from sklearn import preprocessing\n",
    "\n",
    "plt.figure(figsize=(10,6))\n",
    "\n",
    "y_pred = rf.predict_proba(X_test[combo_feats])[:,1]\n",
    "fpr, tpr, thresholds = roc_curve(y_test, y_pred)\n",
    "plt.plot(fpr, tpr, color='red', lw=2, label=f'Random Forest (area = %0.4f)' % auc(fpr, tpr))\n",
    "\n",
    "plt.plot([0, 1], [0, 1], color='navy', lw=2, linestyle= '-', label = 'Random Classifier')\n",
    "plt.xlim([0.0, 1.0])\n",
    "plt.ylim([0.0, 1.0])\n",
    "plt.xlabel('False Positive Rate', fontsize=13)\n",
    "plt.ylabel('True Positive Rate', fontsize=14)\n",
    "plt.title('', fontsize=17)\n",
    "plt.legend(loc='lower right', fontsize=13)\n",
    "plt.show()"
   ]
  },
  {
   "cell_type": "code",
   "execution_count": 63,
   "metadata": {
    "cell_id": "00078-3cba98a4-f9ae-451b-a582-b2d05bc3c5e4",
    "deepnote_cell_type": "code",
    "deepnote_to_be_reexecuted": false,
    "execution_millis": 3,
    "execution_start": 1622146341478,
    "source_hash": "8f394621",
    "tags": []
   },
   "outputs": [],
   "source": [
    "# # Plot ROC Curve\n",
    "\n",
    "# from sklearn.metrics import plot_roc_curve\n",
    "# from sklearn.svm import SVC\n",
    "\n",
    "# #train a support vector classifier on train \n",
    "# svc = SVC(random_state=42)\n",
    "# svc.fit(X_train, y_train)\n",
    "\n",
    "# #plot ROC curve on test data\n",
    "# svc_disp = plot_roc_curve(svc, X_test, y_test)\n",
    "\n",
    "# ax = plt.gca()\n",
    "# rf_disp = plot_roc_curve(rf, X_test[combo_feats], y_test, ax=ax, alpha=0.8)\n",
    "# svc_disp.plot(ax=ax, alpha=0.8, color = 'blue')\n",
    "# plt.title('')\n",
    "# plt.show()"
   ]
  },
  {
   "cell_type": "code",
   "execution_count": 64,
   "metadata": {
    "cell_id": "00079-ee4a5d2a-5512-486d-847d-4692dc03367a",
    "deepnote_cell_type": "code",
    "deepnote_to_be_reexecuted": false,
    "execution_millis": 23,
    "execution_start": 1622146342998,
    "source_hash": "6d25118a",
    "tags": []
   },
   "outputs": [
    {
     "data": {
      "text/plain": [
       "['fleeing',\n",
       " 'had_other_weapon',\n",
       " 'is_middle eastern',\n",
       " '12-17',\n",
       " 'had_no_weapon',\n",
       " 'is_native_american',\n",
       " '25-34',\n",
       " '18-24',\n",
       " 'under 12',\n",
       " 'had_firearm',\n",
       " 'is_hispanic']"
      ]
     },
     "execution_count": 64,
     "metadata": {},
     "output_type": "execute_result"
    }
   ],
   "source": [
    "combo_feats\n"
   ]
  },
  {
   "cell_type": "code",
   "execution_count": 65,
   "metadata": {
    "cell_id": "00080-9dd55403-513c-49e5-915f-1ba2b811b414",
    "deepnote_cell_type": "code",
    "deepnote_to_be_reexecuted": false,
    "execution_millis": 14,
    "execution_start": 1622146344171,
    "source_hash": "291eff78",
    "tags": []
   },
   "outputs": [
    {
     "name": "stdout",
     "output_type": "stream",
     "text": [
      "<class 'pandas.core.frame.DataFrame'>\n",
      "Int64Index: 2628 entries, 5639 to 2968\n",
      "Data columns (total 1 columns):\n",
      " #   Column              Non-Null Count  Dtype \n",
      "---  ------              --------------  ----- \n",
      " 0   alleged_threat_lvl  2628 non-null   object\n",
      "dtypes: object(1)\n",
      "memory usage: 41.1+ KB\n"
     ]
    }
   ],
   "source": [
    "rfcn = pd.DataFrame(data = y_test)\n",
    "rfcn['alleged_threat_lvl'] = rfcn['alleged_threat_lvl'].astype(str)\n",
    "rfcn.info()"
   ]
  },
  {
   "cell_type": "code",
   "execution_count": 65,
   "metadata": {
    "cell_id": "00081-bde3a078-c100-4e56-8743-d3f80f25a254",
    "deepnote_cell_type": "code",
    "deepnote_to_be_reexecuted": false,
    "execution_millis": 0,
    "execution_start": 1622146345318,
    "source_hash": "b623e53d",
    "tags": []
   },
   "outputs": [],
   "source": []
  },
  {
   "cell_type": "code",
   "execution_count": 66,
   "metadata": {
    "cell_id": "00082-18ea0ab1-0470-4d6c-a4b9-9a3aaec0574a",
    "deepnote_cell_type": "code",
    "deepnote_to_be_reexecuted": false,
    "execution_millis": 0,
    "execution_start": 1622146345694,
    "source_hash": "beef4ab1",
    "tags": []
   },
   "outputs": [],
   "source": [
    "from sklearn.tree import DecisionTreeClassifier\n",
    "from sklearn import tree\n",
    "from sklearn.tree import export_graphviz"
   ]
  },
  {
   "cell_type": "code",
   "execution_count": 67,
   "metadata": {
    "cell_id": "00083-2e50856f-0ab1-43d5-8f25-e1835b2ce19c",
    "deepnote_cell_type": "code",
    "deepnote_to_be_reexecuted": false,
    "execution_millis": 0,
    "execution_start": 1622146346180,
    "source_hash": "643a9f3e",
    "tags": []
   },
   "outputs": [],
   "source": [
    "est = rf.estimators_"
   ]
  },
  {
   "cell_type": "code",
   "execution_count": 68,
   "metadata": {
    "cell_id": "00084-75728f37-d730-40d2-97c4-9a29ace8ade9",
    "deepnote_cell_type": "code",
    "deepnote_to_be_reexecuted": false,
    "execution_millis": 22,
    "execution_start": 1622146347555,
    "source_hash": "ebf9eea0",
    "tags": []
   },
   "outputs": [
    {
     "name": "stdout",
     "output_type": "stream",
     "text": [
      "100\n"
     ]
    }
   ],
   "source": [
    "# Our Random Forest consists of 100 trees\n",
    "print(len(rf.estimators_))"
   ]
  },
  {
   "cell_type": "code",
   "execution_count": 69,
   "metadata": {
    "cell_id": "00085-bd359170-c0c5-410f-ba82-ab1c1221cd6f",
    "deepnote_cell_type": "code",
    "deepnote_to_be_reexecuted": false,
    "execution_millis": 291,
    "execution_start": 1622146348356,
    "source_hash": "99e59487",
    "tags": []
   },
   "outputs": [
    {
     "name": "stdout",
     "output_type": "stream",
     "text": [
      "[1.47377679e-01 1.12588500e-02 2.94021145e-04 2.57800193e-02\n",
      " 5.65095424e-01 3.54228684e-03 4.63586846e-03 1.08849595e-02\n",
      " 1.93055299e-02 2.03299687e-01 8.52567537e-03]\n"
     ]
    },
    {
     "data": {
      "text/plain": [
       "Text(0.5, 1.0, 'Which Features are Better Predictors?')"
      ]
     },
     "execution_count": 69,
     "metadata": {},
     "output_type": "execute_result"
    },
    {
     "data": {
      "image/png": "[encoded data removed]",
      "text/plain": [
       "<Figure size 360x360 with 1 Axes>"
      ]
     },
     "metadata": {
      "image/png": {
       "height": 319,
       "width": 396
      },
      "needs_background": "light"
     },
     "output_type": "display_data"
    }
   ],
   "source": [
    "# Find feature importance\n",
    "print(rf.feature_importances_)\n",
    "\n",
    "featimp = pd.DataFrame(rf.feature_importances_)\n",
    "featimp['combo_feats'] = combo_feats\n",
    "\n",
    "\n",
    "\n",
    "feature_names = combo_feats\n",
    "\n",
    "plt.figure(figsize=(5, 5))\n",
    "plt.barh(feature_names, rf.feature_importances_)\n",
    "plt.title('Which Features are Better Predictors?')\n"
   ]
  },
  {
   "cell_type": "code",
   "execution_count": 70,
   "metadata": {
    "cell_id": "00086-131d0175-8a20-4142-aad2-bae164579ee0",
    "deepnote_cell_type": "code",
    "deepnote_to_be_reexecuted": false,
    "execution_millis": 4,
    "execution_start": 1622146350272,
    "source_hash": "539288ac"
   },
   "outputs": [],
   "source": [
    "# append dataframe to record accuracy on final random forest\n",
    "metric_df = metric_df.append({\n",
    "    'Model': 'Random Forest', \n",
    "    'Baseline': round(baseline_accuracy, 4),\n",
    "    'Train Accuracy': round(rf_train_acc, 4),\n",
    "    'Validate Accuracy':round(rf_val_acc, 4),\n",
    "    'Test Accuracy': round(rf_test_acc, 4)}, ignore_index=True)"
   ]
  },
  {
   "cell_type": "code",
   "execution_count": 71,
   "metadata": {
    "cell_id": "00087-6a279b0d-fb38-4053-a0ab-4366486b8bbc",
    "deepnote_cell_type": "code",
    "deepnote_to_be_reexecuted": false,
    "execution_millis": 32,
    "execution_start": 1622146351582,
    "source_hash": "400c35cf"
   },
   "outputs": [
    {
     "data": {
      "application/vnd.deepnote.dataframe.v2+json": {
       "column_count": 5,
       "columns": [
        {
         "dtype": "object",
         "name": "Model",
         "stats": {
          "categories": [
           {
            "count": 2,
            "name": "Random Forest"
           },
           {
            "count": 1,
            "name": "Decision Tree"
           },
           {
            "count": 2,
            "name": "2 others"
           }
          ],
          "nan_count": 0,
          "unique_count": 4
         }
        },
        {
         "dtype": "float64",
         "name": "Baseline",
         "stats": {
          "histogram": [
           {
            "bin_end": 0.12280000000000005,
            "bin_start": 0.022800000000000042,
            "count": 0
           },
           {
            "bin_end": 0.22280000000000005,
            "bin_start": 0.12280000000000005,
            "count": 0
           },
           {
            "bin_end": 0.3228000000000001,
            "bin_start": 0.22280000000000005,
            "count": 0
           },
           {
            "bin_end": 0.42280000000000006,
            "bin_start": 0.3228000000000001,
            "count": 0
           },
           {
            "bin_end": 0.5228,
            "bin_start": 0.42280000000000006,
            "count": 0
           },
           {
            "bin_end": 0.6228000000000001,
            "bin_start": 0.5228,
            "count": 5
           },
           {
            "bin_end": 0.7228000000000001,
            "bin_start": 0.6228000000000001,
            "count": 0
           },
           {
            "bin_end": 0.8228000000000001,
            "bin_start": 0.7228000000000001,
            "count": 0
           },
           {
            "bin_end": 0.9228000000000001,
            "bin_start": 0.8228000000000001,
            "count": 0
           },
           {
            "bin_end": 1.0228000000000002,
            "bin_start": 0.9228000000000001,
            "count": 0
           }
          ],
          "max": "0.5228",
          "min": "0.5228",
          "nan_count": 0,
          "unique_count": 1
         }
        },
        {
         "dtype": "float64",
         "name": "Train Accuracy",
         "stats": {
          "histogram": [
           {
            "bin_end": 0.7135199999999999,
            "bin_start": 0.7129,
            "count": 1
           },
           {
            "bin_end": 0.71414,
            "bin_start": 0.7135199999999999,
            "count": 0
           },
           {
            "bin_end": 0.71476,
            "bin_start": 0.71414,
            "count": 0
           },
           {
            "bin_end": 0.71538,
            "bin_start": 0.71476,
            "count": 0
           },
           {
            "bin_end": 0.716,
            "bin_start": 0.71538,
            "count": 0
           },
           {
            "bin_end": 0.7166199999999999,
            "bin_start": 0.716,
            "count": 0
           },
           {
            "bin_end": 0.71724,
            "bin_start": 0.7166199999999999,
            "count": 0
           },
           {
            "bin_end": 0.7178599999999999,
            "bin_start": 0.71724,
            "count": 1
           },
           {
            "bin_end": 0.71848,
            "bin_start": 0.7178599999999999,
            "count": 0
           },
           {
            "bin_end": 0.7191,
            "bin_start": 0.71848,
            "count": 3
           }
          ],
          "max": "0.7191",
          "min": "0.7129",
          "nan_count": 0,
          "unique_count": 4
         }
        },
        {
         "dtype": "float64",
         "name": "Validate Accuracy",
         "stats": {
          "histogram": [
           {
            "bin_end": 0.7058300000000001,
            "bin_start": 0.7044,
            "count": 1
           },
           {
            "bin_end": 0.70726,
            "bin_start": 0.7058300000000001,
            "count": 0
           },
           {
            "bin_end": 0.70869,
            "bin_start": 0.70726,
            "count": 0
           },
           {
            "bin_end": 0.71012,
            "bin_start": 0.70869,
            "count": 0
           },
           {
            "bin_end": 0.71155,
            "bin_start": 0.71012,
            "count": 0
           },
           {
            "bin_end": 0.7129800000000001,
            "bin_start": 0.71155,
            "count": 0
           },
           {
            "bin_end": 0.71441,
            "bin_start": 0.7129800000000001,
            "count": 0
           },
           {
            "bin_end": 0.71584,
            "bin_start": 0.71441,
            "count": 0
           },
           {
            "bin_end": 0.71727,
            "bin_start": 0.71584,
            "count": 1
           },
           {
            "bin_end": 0.7187,
            "bin_start": 0.71727,
            "count": 3
           }
          ],
          "max": "0.7187",
          "min": "0.7044",
          "nan_count": 0,
          "unique_count": 4
         }
        },
        {
         "dtype": "float64",
         "name": "Test Accuracy",
         "stats": {
          "histogram": [
           {
            "bin_end": 0.3154,
            "bin_start": 0.21540000000000004,
            "count": 0
           },
           {
            "bin_end": 0.41540000000000005,
            "bin_start": 0.3154,
            "count": 0
           },
           {
            "bin_end": 0.5154000000000001,
            "bin_start": 0.41540000000000005,
            "count": 0
           },
           {
            "bin_end": 0.6154000000000001,
            "bin_start": 0.5154000000000001,
            "count": 0
           },
           {
            "bin_end": 0.7154,
            "bin_start": 0.6154000000000001,
            "count": 0
           },
           {
            "bin_end": 0.8154000000000001,
            "bin_start": 0.7154,
            "count": 1
           },
           {
            "bin_end": 0.9154000000000001,
            "bin_start": 0.8154000000000001,
            "count": 0
           },
           {
            "bin_end": 1.0154,
            "bin_start": 0.9154000000000001,
            "count": 0
           },
           {
            "bin_end": 1.1154000000000002,
            "bin_start": 1.0154,
            "count": 0
           },
           {
            "bin_end": 1.2154,
            "bin_start": 1.1154000000000002,
            "count": 0
           }
          ],
          "max": "0.7154",
          "min": "0.7154",
          "nan_count": 4,
          "unique_count": 1
         }
        },
        {
         "dtype": "int64",
         "name": "_deepnote_index_column"
        }
       ],
       "row_count": 5,
       "rows_bottom": null,
       "rows_top": [
        {
         "Baseline": 0.5228,
         "Model": "Decision Tree",
         "Test Accuracy": "nan",
         "Train Accuracy": 0.7187,
         "Validate Accuracy": 0.7187,
         "_deepnote_index_column": 0
        },
        {
         "Baseline": 0.5228,
         "Model": "Random Forest",
         "Test Accuracy": "nan",
         "Train Accuracy": 0.7191,
         "Validate Accuracy": 0.7184,
         "_deepnote_index_column": 1
        },
        {
         "Baseline": 0.5228,
         "Model": "K-Nearest Neighbor",
         "Test Accuracy": "nan",
         "Train Accuracy": 0.7129,
         "Validate Accuracy": 0.7044,
         "_deepnote_index_column": 2
        },
        {
         "Baseline": 0.5228,
         "Model": "Logistic Regression",
         "Test Accuracy": "nan",
         "Train Accuracy": 0.7178,
         "Validate Accuracy": 0.7165,
         "_deepnote_index_column": 3
        },
        {
         "Baseline": 0.5228,
         "Model": "Random Forest",
         "Test Accuracy": 0.7154,
         "Train Accuracy": 0.7191,
         "Validate Accuracy": 0.7184,
         "_deepnote_index_column": 4
        }
       ]
      },
      "text/html": [
       "<div>\n",
       "<style scoped>\n",
       "    .dataframe tbody tr th:only-of-type {\n",
       "        vertical-align: middle;\n",
       "    }\n",
       "\n",
       "    .dataframe tbody tr th {\n",
       "        vertical-align: top;\n",
       "    }\n",
       "\n",
       "    .dataframe thead th {\n",
       "        text-align: right;\n",
       "    }\n",
       "</style>\n",
       "<table border=\"1\" class=\"dataframe\">\n",
       "  <thead>\n",
       "    <tr style=\"text-align: right;\">\n",
       "      <th></th>\n",
       "      <th>Model</th>\n",
       "      <th>Baseline</th>\n",
       "      <th>Train Accuracy</th>\n",
       "      <th>Validate Accuracy</th>\n",
       "      <th>Test Accuracy</th>\n",
       "    </tr>\n",
       "  </thead>\n",
       "  <tbody>\n",
       "    <tr>\n",
       "      <th>0</th>\n",
       "      <td>Decision Tree</td>\n",
       "      <td>0.5228</td>\n",
       "      <td>0.7187</td>\n",
       "      <td>0.7187</td>\n",
       "      <td>NaN</td>\n",
       "    </tr>\n",
       "    <tr>\n",
       "      <th>1</th>\n",
       "      <td>Random Forest</td>\n",
       "      <td>0.5228</td>\n",
       "      <td>0.7191</td>\n",
       "      <td>0.7184</td>\n",
       "      <td>NaN</td>\n",
       "    </tr>\n",
       "    <tr>\n",
       "      <th>2</th>\n",
       "      <td>K-Nearest Neighbor</td>\n",
       "      <td>0.5228</td>\n",
       "      <td>0.7129</td>\n",
       "      <td>0.7044</td>\n",
       "      <td>NaN</td>\n",
       "    </tr>\n",
       "    <tr>\n",
       "      <th>3</th>\n",
       "      <td>Logistic Regression</td>\n",
       "      <td>0.5228</td>\n",
       "      <td>0.7178</td>\n",
       "      <td>0.7165</td>\n",
       "      <td>NaN</td>\n",
       "    </tr>\n",
       "    <tr>\n",
       "      <th>4</th>\n",
       "      <td>Random Forest</td>\n",
       "      <td>0.5228</td>\n",
       "      <td>0.7191</td>\n",
       "      <td>0.7184</td>\n",
       "      <td>0.7154</td>\n",
       "    </tr>\n",
       "  </tbody>\n",
       "</table>\n",
       "</div>"
      ],
      "text/plain": [
       "                 Model  Baseline  Train Accuracy  Validate Accuracy  \\\n",
       "0        Decision Tree    0.5228          0.7187             0.7187   \n",
       "1        Random Forest    0.5228          0.7191             0.7184   \n",
       "2   K-Nearest Neighbor    0.5228          0.7129             0.7044   \n",
       "3  Logistic Regression    0.5228          0.7178             0.7165   \n",
       "4        Random Forest    0.5228          0.7191             0.7184   \n",
       "\n",
       "   Test Accuracy  \n",
       "0            NaN  \n",
       "1            NaN  \n",
       "2            NaN  \n",
       "3            NaN  \n",
       "4         0.7154  "
      ]
     },
     "execution_count": 71,
     "metadata": {},
     "output_type": "execute_result"
    }
   ],
   "source": [
    "metric_df"
   ]
  },
  {
   "cell_type": "code",
   "execution_count": 74,
   "metadata": {
    "cell_id": "00084-d86b3f5f-8144-47b8-9be3-4734094f1706",
    "deepnote_cell_type": "code",
    "deepnote_to_be_reexecuted": false,
    "execution_millis": 24,
    "execution_start": 1622146935199,
    "source_hash": "ba549d12",
    "tags": []
   },
   "outputs": [
    {
     "data": {
      "text/plain": [
       "array([0.56489781, 0.22347269, 0.67123087, ..., 0.2355925 , 0.12118397,\n",
       "       0.75159001])"
      ]
     },
     "execution_count": 74,
     "metadata": {},
     "output_type": "execute_result"
    }
   ],
   "source": []
  },
  {
   "cell_type": "markdown",
   "metadata": {},
   "source": [
    "[Jump to Table of Contents](#toc)\n",
    "___\n",
    "# <a name=\"drivers\"></a>Drivers\n",
    "\n",
    "- The top drivers of predicting a victim's threat level were encounter type of incident, gender, race, armed/unarmed status, mental illness, age, geography, fleeing events, and body camera reports.\n",
    "- These drivers can be used to shed light on changes to be made in law enforcement and to help law enforcement agencies spot risk factors, so they may step in before risk transforms into actual harm."
   ]
  },
  {
   "cell_type": "markdown",
   "metadata": {},
   "source": [
    "[Jump to Table of Contents](#toc)\n",
    "___\n",
    "# <a name=\"conclusion\"></a>Conclusion"
   ]
  },
  {
   "cell_type": "markdown",
   "metadata": {},
   "source": [
    "\n",
    "\n",
    "### Takeaways\n",
    "- All models had roughly the same score for train and validate sets.\n",
    "- K-Nearest neighbor model performed the worst on out-of-sample data.\n",
    "- The best performing model uses a Random Forest algorithm and combined features from Select K Best and Recursive Feature Elimination lists.\n",
    "- Our final Random Forest model increased by 21% from a baseline accuracy of 51% to 72% accuracy on out-of-sample data.\n",
    "\n",
    "\n",
    "### Next Steps\n",
    "- Fill in missing values manually as best as possible based on the description column in the dataset (large amount of data missing). \n",
    "- Natural language processing exploration on description of incident. \n",
    "\n",
    "\n",
    "#### Report containing summarization of notebook can be found [here](link to presentation)."
   ]
  },
  {
   "cell_type": "markdown",
   "metadata": {},
   "source": [
    "[Jump to Table of Contents](#toc)\n",
    "\n",
    "<a id='bottom'></a>"
   ]
  }
 ],
 "metadata": {
  "kernelspec": {
   "display_name": "Python 3",
   "language": "python",
   "name": "python3"
  },
  "language_info": {
   "codemirror_mode": {
    "name": "ipython",
    "version": 3
   },
   "file_extension": ".py",
   "mimetype": "text/x-python",
   "name": "python",
   "nbconvert_exporter": "python",
   "pygments_lexer": "ipython3",
   "version": "3.8.5"
  }
 },
 "nbformat": 4,
 "nbformat_minor": 4
}
